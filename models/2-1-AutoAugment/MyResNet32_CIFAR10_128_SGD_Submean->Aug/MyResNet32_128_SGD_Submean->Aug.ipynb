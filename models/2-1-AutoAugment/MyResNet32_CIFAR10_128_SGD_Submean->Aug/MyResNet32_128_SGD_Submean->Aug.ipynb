{
 "cells": [
  {
   "cell_type": "markdown",
   "metadata": {},
   "source": [
    "# Import"
   ]
  },
  {
   "cell_type": "code",
   "execution_count": 1,
   "metadata": {},
   "outputs": [],
   "source": [
    "import torch\n",
    "from torch import nn\n",
    "from torch.optim.lr_scheduler import ExponentialLR, MultiStepLR\n",
    "import sys, os\n",
    "\n",
    "sys.path.append(os.path.dirname(os.path.abspath(os.path.dirname(\"src\"))))\n",
    "\n",
    "from src.Mydataloader import LoadDataset\n",
    "from src.Mymodel import MyResNet_CIFAR\n",
    "from src.Mytraining import DoTraining\n",
    "from src.Earlystopper import EarlyStopper\n",
    "from src.LogViewer import LogViewer"
   ]
  },
  {
   "cell_type": "markdown",
   "metadata": {},
   "source": [
    "# Setup"
   ]
  },
  {
   "cell_type": "code",
   "execution_count": 2,
   "metadata": {},
   "outputs": [],
   "source": [
    "\"\"\"Dataset selection\"\"\"\n",
    "DATASET = \"CIFAR10\"\n",
    "# DATASET = \"CIFAR100\"\n",
    "# DATASET = \"ImageNet2012\"\n",
    "\n",
    "\"\"\"Dataset parameters\"\"\"\n",
    "BATCH = 128\n",
    "SHUFFLE = True\n",
    "NUMOFWORKERS = 8\n",
    "PIN_MEMORY = True\n",
    "SPLIT_RATIO = 0\n",
    "\n",
    "\"\"\"optimizer parameters\"\"\"\n",
    "# OPTIMIZER = \"Adam\"\n",
    "# OPTIMIZER = \"Adam_decay\"\n",
    "OPTIMIZER = \"SGD\"\n",
    "# OPTIMIZER = \"SGD_nasterov\"\n",
    "# OPTIMIZER = \"AdamW\"\n",
    "# OPTIMIZER = \"AdamW_amsgrad\"\n",
    "# OPTIMIZER = \"NAdam\"\n",
    "\n",
    "\"\"\"Learning rate scheduler parameters\"\"\"\n",
    "NUM_EPOCHS = 164\n",
    "\n",
    "\"\"\"Early stopping parameters\"\"\"\n",
    "EARLYSTOPPINGPATIENCE = 200\n",
    "\n",
    "file_name = f\"MyResNet32_{BATCH}_{OPTIMIZER}\""
   ]
  },
  {
   "cell_type": "code",
   "execution_count": 3,
   "metadata": {},
   "outputs": [
    {
     "data": {
      "text/plain": [
       "'MyResNet32_128_SGD'"
      ]
     },
     "execution_count": 3,
     "metadata": {},
     "output_type": "execute_result"
    }
   ],
   "source": [
    "file_name"
   ]
  },
  {
   "cell_type": "markdown",
   "metadata": {},
   "source": [
    "# Loading the dataset"
   ]
  },
  {
   "cell_type": "markdown",
   "metadata": {},
   "source": [
    "## Define Dateloader"
   ]
  },
  {
   "cell_type": "code",
   "execution_count": 4,
   "metadata": {},
   "outputs": [
    {
     "name": "stdout",
     "output_type": "stream",
     "text": [
      "-----------------------------------------------------------------------\n",
      "Dataset :  CIFAR10\n",
      "- Length of Train Set :  50000\n",
      "- Length of Test Set :  10000\n",
      "- Count of Classes :  10\n",
      "-----------------------------------------------------------------------\n"
     ]
    }
   ],
   "source": [
    "tmp = LoadDataset(root=\"../../data\", seceted_dataset=DATASET, split_ratio=SPLIT_RATIO)\n",
    "train_data, valid_data, test_data, COUNT_OF_CLASSES = tmp.Unpack()"
   ]
  },
  {
   "cell_type": "code",
   "execution_count": 5,
   "metadata": {},
   "outputs": [
    {
     "name": "stdout",
     "output_type": "stream",
     "text": [
      "train.transforms = Compose(\n",
      "      Compose(\n",
      "        ToImage()\n",
      "        ToDtype(scale=True)\n",
      "  )\n",
      "      Normalize(mean=[0.49139968, 0.48215827, 0.44653124], std=[1, 1, 1], inplace=True)\n",
      "      AutoAugment(interpolation=InterpolationMode.NEAREST, policy=AutoAugmentPolicy.CIFAR10)\n",
      "      RandomCrop(size=(32, 32), padding=[4, 4, 4, 4], pad_if_needed=False, fill=0, padding_mode=constant)\n",
      "      RandomHorizontalFlip(p=0.5)\n",
      ") 128\n",
      "test.transforms = Compose(\n",
      "      ToImage()\n",
      "      ToDtype(scale=True)\n",
      ") 128\n"
     ]
    }
   ],
   "source": [
    "train_dataloader, valid_dataloader, test_dataloader = tmp.get_dataloader(\n",
    "    batch_size=BATCH, shuffle=SHUFFLE, num_workers=NUMOFWORKERS, pin_memory=PIN_MEMORY\n",
    ")\n"
   ]
  },
  {
   "cell_type": "markdown",
   "metadata": {},
   "source": [
    "# Define ResNet"
   ]
  },
  {
   "cell_type": "markdown",
   "metadata": {},
   "source": [
    "## Model Confirm"
   ]
  },
  {
   "cell_type": "code",
   "execution_count": 6,
   "metadata": {},
   "outputs": [
    {
     "data": {
      "text/plain": [
       "device(type='cuda')"
      ]
     },
     "execution_count": 6,
     "metadata": {},
     "output_type": "execute_result"
    }
   ],
   "source": [
    "device = torch.device(\"cuda\" if torch.cuda.is_available() else \"cpu\")\n",
    "device"
   ]
  },
  {
   "cell_type": "code",
   "execution_count": 7,
   "metadata": {},
   "outputs": [],
   "source": [
    "model = MyResNet_CIFAR(num_classes=COUNT_OF_CLASSES, num_layer_factor=5).to(device)"
   ]
  },
  {
   "cell_type": "markdown",
   "metadata": {},
   "source": [
    "# Define Training"
   ]
  },
  {
   "cell_type": "markdown",
   "metadata": {},
   "source": [
    "## (1) Define Criterion"
   ]
  },
  {
   "cell_type": "code",
   "execution_count": 8,
   "metadata": {},
   "outputs": [],
   "source": [
    "criterion = nn.CrossEntropyLoss()"
   ]
  },
  {
   "cell_type": "markdown",
   "metadata": {},
   "source": [
    "## (2) Define Optimazer"
   ]
  },
  {
   "cell_type": "code",
   "execution_count": 9,
   "metadata": {},
   "outputs": [],
   "source": [
    "if OPTIMIZER == \"Adam\":\n",
    "    optimizer = torch.optim.Adam(model.parameters())\n",
    "elif OPTIMIZER == \"Adam_decay\":\n",
    "    optimizer = torch.optim.Adam(model.parameters(), weight_decay=1e-4)\n",
    "elif OPTIMIZER == \"SGD\":\n",
    "    optimizer = torch.optim.SGD(\n",
    "        model.parameters(), lr=0.1, momentum=0.9, weight_decay=0.0001\n",
    "    )\n",
    "elif OPTIMIZER == \"SGD_nasterov\":\n",
    "    optimizer = torch.optim.SGD(\n",
    "        model.parameters(), lr=0.1, momentum=0.9, weight_decay=1e-4, nesterov=True\n",
    "    )\n",
    "elif OPTIMIZER == \"AdamW\":\n",
    "    optimizer = torch.optim.AdamW(model.parameters(), weight_decay=1e-4)\n",
    "elif OPTIMIZER == \"AdamW_amsgrad\":\n",
    "    optimizer = torch.optim.AdamW(model.parameters(), weight_decay=1e-4, amsgrad=True)\n",
    "elif OPTIMIZER == \"NAdam\":\n",
    "    optimizer = torch.optim.NAdam(model.parameters(), weight_decay=1e-4)"
   ]
  },
  {
   "cell_type": "markdown",
   "metadata": {},
   "source": [
    "## (3) Define Early Stopping"
   ]
  },
  {
   "cell_type": "code",
   "execution_count": 10,
   "metadata": {},
   "outputs": [],
   "source": [
    "earlystopper = EarlyStopper(patience=EARLYSTOPPINGPATIENCE, model=model, file_name=file_name)"
   ]
  },
  {
   "cell_type": "markdown",
   "metadata": {},
   "source": [
    "## (4) Define Learning Rate schedualer"
   ]
  },
  {
   "cell_type": "code",
   "execution_count": 11,
   "metadata": {},
   "outputs": [
    {
     "data": {
      "text/plain": [
       "'\\n=======================================================\\nif batch = 256\\n=======================================================\\nnon-split [single epoch = 196 iter] : milestones = [164, 246]\\n- 1 ~ 164 epochs == 1 ~ 32k iter >> lr = 0.1\\n- 165~246 epochs == 32k ~ 48k iter >> lr = 0.01\\n- 247~328(?) epochs == 48k ~ 64k iter >> lr = 0.001\\n=======================================================\\nsplit to 45k/5k [single epoch = 176 iter]: milestones = [182, 273]\\n- 1~182 epochs == 1 ~ 32k iter >> lr = 0.1\\n- 182~273 epochs == 32k ~ 48k iter >> lr = 0.01\\n- 273~364(?) epochs == 48k ~ 64k iter >> lr = 0.001\\n=======================================================\\nif batch = 128\\n=======================================================\\nnon-split [signle epoch = 391 iter]: milestones = [82, 123]\\n- 1 ~ 82 epochs == 1 ~ 32k iter >> lr = 0.1\\n- 83~123 epochs == 32k ~ 48k iter >> lr = 0.01\\n- 124~(164) epochs == 48k ~ 64k iter >> lr = 0.001\\n=======================================================\\nsplit to 45k/5k [signle epoch = 352 iter]: milestones = [91, 137]\\n- 1~91 epochs == 1 ~ 32k iter >> lr = 0.1\\n- 92~137 epochs == 32k ~ 48k iter >> lr = 0.01\\n- 138~(183) epochs == 48k ~ 64k iter >> lr = 0.001\\n=======================================================\\n'"
      ]
     },
     "execution_count": 11,
     "metadata": {},
     "output_type": "execute_result"
    }
   ],
   "source": [
    "# scheduler = ExponentialLR(optimizer, gamma=0.95)\n",
    "scheduler = MultiStepLR(optimizer, milestones=[82, 123], gamma=0.1)\n",
    "\"\"\"\n",
    "=======================================================\n",
    "if batch = 256\n",
    "=======================================================\n",
    "non-split [single epoch = 196 iter] : milestones = [164, 246]\n",
    "- 1 ~ 164 epochs == 1 ~ 32k iter >> lr = 0.1\n",
    "- 165~246 epochs == 32k ~ 48k iter >> lr = 0.01\n",
    "- 247~328(?) epochs == 48k ~ 64k iter >> lr = 0.001\n",
    "=======================================================\n",
    "split to 45k/5k [single epoch = 176 iter]: milestones = [182, 273]\n",
    "- 1~182 epochs == 1 ~ 32k iter >> lr = 0.1\n",
    "- 182~273 epochs == 32k ~ 48k iter >> lr = 0.01\n",
    "- 273~364(?) epochs == 48k ~ 64k iter >> lr = 0.001\n",
    "=======================================================\n",
    "if batch = 128\n",
    "=======================================================\n",
    "non-split [signle epoch = 391 iter]: milestones = [82, 123]\n",
    "- 1 ~ 82 epochs == 1 ~ 32k iter >> lr = 0.1\n",
    "- 83~123 epochs == 32k ~ 48k iter >> lr = 0.01\n",
    "- 124~(164) epochs == 48k ~ 64k iter >> lr = 0.001\n",
    "=======================================================\n",
    "split to 45k/5k [signle epoch = 352 iter]: milestones = [91, 137]\n",
    "- 1~91 epochs == 1 ~ 32k iter >> lr = 0.1\n",
    "- 92~137 epochs == 32k ~ 48k iter >> lr = 0.01\n",
    "- 138~(183) epochs == 48k ~ 64k iter >> lr = 0.001\n",
    "=======================================================\n",
    "\"\"\""
   ]
  },
  {
   "cell_type": "markdown",
   "metadata": {},
   "source": [
    "## (5) Define AMP scaler"
   ]
  },
  {
   "cell_type": "code",
   "execution_count": 12,
   "metadata": {},
   "outputs": [],
   "source": [
    "scaler = torch.cuda.amp.GradScaler(enabled=True)"
   ]
  },
  {
   "cell_type": "markdown",
   "metadata": {},
   "source": [
    "## Load before process"
   ]
  },
  {
   "cell_type": "code",
   "execution_count": 13,
   "metadata": {},
   "outputs": [
    {
     "name": "stdout",
     "output_type": "stream",
     "text": [
      "Suceessfully loaded the All setting and Log file.\n",
      "MyResNet32_128_SGD\n",
      "Current epoch is 164\n",
      "Current learning rate: 0.0010000000000000002\n"
     ]
    }
   ],
   "source": [
    "if os.path.exists(file_name + \".pth.tar\"):\n",
    "    # Read checkpoint as desired, e.g.,\n",
    "    checkpoint = torch.load(\n",
    "        file_name + \".pth.tar\",\n",
    "        map_location=lambda storage, loc: storage.cuda(device),\n",
    "    )\n",
    "    model.load_state_dict(checkpoint[\"model\"])\n",
    "    optimizer.load_state_dict(checkpoint[\"optimizer\"])\n",
    "    scaler.load_state_dict(checkpoint[\"scaler\"])\n",
    "    scheduler.load_state_dict(checkpoint[\"scheduler\"])\n",
    "    earlystopper.load_state_dict(checkpoint[\"earlystopper\"])\n",
    "    logs = checkpoint[\"logs\"]\n",
    "\n",
    "    print(\"Suceessfully loaded the All setting and Log file.\")\n",
    "    print(file_name)\n",
    "    print(f\"Current epoch is {len(logs['train_loss'])}\")\n",
    "    print(f\"Current learning rate: {optimizer.param_groups[0]['lr']}\")\n",
    "else:\n",
    "    # Create a dictionary to store the variables\n",
    "    train_loss = []\n",
    "    train_acc = []\n",
    "    eval_loss = []\n",
    "    valid_acc = []\n",
    "    test_loss = []\n",
    "    test_acc = []\n",
    "    lr_log = []\n",
    "    logs = {\n",
    "        \"train_loss\": train_loss,\n",
    "        \"train_acc\": train_acc,\n",
    "        \"valid_loss\": eval_loss,\n",
    "        \"valid_acc\": valid_acc,\n",
    "        \"test_loss\": test_loss,\n",
    "        \"test_acc\": test_acc,\n",
    "        \"lr_log\": lr_log,\n",
    "    }\n",
    "    print(\"File does not exist. Created a new log.\")"
   ]
  },
  {
   "cell_type": "code",
   "execution_count": 14,
   "metadata": {},
   "outputs": [
    {
     "data": {
      "text/plain": [
       "0.0010000000000000002"
      ]
     },
     "execution_count": 14,
     "metadata": {},
     "output_type": "execute_result"
    }
   ],
   "source": [
    "optimizer.param_groups[0][\"lr\"]"
   ]
  },
  {
   "cell_type": "code",
   "execution_count": 15,
   "metadata": {},
   "outputs": [
    {
     "data": {
      "text/plain": [
       "20"
      ]
     },
     "execution_count": 15,
     "metadata": {},
     "output_type": "execute_result"
    }
   ],
   "source": [
    "earlystopper.early_stop_counter"
   ]
  },
  {
   "cell_type": "code",
   "execution_count": 16,
   "metadata": {},
   "outputs": [
    {
     "ename": "NameError",
     "evalue": "name 'hnvnhngf' is not defined",
     "output_type": "error",
     "traceback": [
      "\u001b[0;31m---------------------------------------------------------------------------\u001b[0m",
      "\u001b[0;31mNameError\u001b[0m                                 Traceback (most recent call last)",
      "Cell \u001b[0;32mIn[16], line 1\u001b[0m\n\u001b[0;32m----> 1\u001b[0m hnvnhngf\n",
      "\u001b[0;31mNameError\u001b[0m: name 'hnvnhngf' is not defined"
     ]
    }
   ],
   "source": [
    "hnvnhngf"
   ]
  },
  {
   "cell_type": "markdown",
   "metadata": {},
   "source": [
    "# [Training Loop]"
   ]
  },
  {
   "cell_type": "code",
   "execution_count": null,
   "metadata": {},
   "outputs": [
    {
     "name": "stdout",
     "output_type": "stream",
     "text": [
      "[Epoch 1/164] :\n"
     ]
    },
    {
     "name": "stderr",
     "output_type": "stream",
     "text": [
      "1 Train: 100%|███████| 391/391 [00:07<00:00, 48.90it/s]"
     ]
    },
    {
     "name": "stdout",
     "output_type": "stream",
     "text": [
      "Train Loss: 2.2826 | Train Acc: 16.93%\n"
     ]
    },
    {
     "name": "stderr",
     "output_type": "stream",
     "text": [
      "\n"
     ]
    },
    {
     "name": "stdout",
     "output_type": "stream",
     "text": [
      "Test  Loss: 1.9642 | Test Acc: 22.79%\n",
      "updated best eval loss : 1.9641635659374768\n",
      "--------------------------------------------------\n",
      "[Epoch 2/164] :\n"
     ]
    },
    {
     "name": "stderr",
     "output_type": "stream",
     "text": [
      "2 Train: 100%|███████| 391/391 [00:06<00:00, 62.15it/s]\n"
     ]
    },
    {
     "name": "stdout",
     "output_type": "stream",
     "text": [
      "Train Loss: 1.9653 | Train Acc: 26.25%\n",
      "Test  Loss: 1.9019 | Test Acc: 28.67%\n",
      "updated best eval loss : 1.9019395203530034\n",
      "--------------------------------------------------\n",
      "[Epoch 3/164] :\n"
     ]
    },
    {
     "name": "stderr",
     "output_type": "stream",
     "text": [
      "3 Train: 100%|███████| 391/391 [00:06<00:00, 62.10it/s]\n"
     ]
    },
    {
     "name": "stdout",
     "output_type": "stream",
     "text": [
      "Train Loss: 1.7514 | Train Acc: 35.51%\n",
      "Test  Loss: 1.4698 | Test Acc: 46.36%\n",
      "updated best eval loss : 1.4698347275770163\n",
      "--------------------------------------------------\n",
      "[Epoch 4/164] :\n"
     ]
    },
    {
     "name": "stderr",
     "output_type": "stream",
     "text": [
      "4 Train: 100%|███████| 391/391 [00:06<00:00, 62.61it/s]\n"
     ]
    },
    {
     "name": "stdout",
     "output_type": "stream",
     "text": [
      "Train Loss: 1.4882 | Train Acc: 46.21%\n",
      "Test  Loss: 1.1483 | Test Acc: 59.01%\n",
      "updated best eval loss : 1.1483210038535203\n",
      "--------------------------------------------------\n",
      "[Epoch 5/164] :\n"
     ]
    },
    {
     "name": "stderr",
     "output_type": "stream",
     "text": [
      "5 Train: 100%|███████| 391/391 [00:06<00:00, 59.79it/s]\n"
     ]
    },
    {
     "name": "stdout",
     "output_type": "stream",
     "text": [
      "Train Loss: 1.2936 | Train Acc: 53.89%\n",
      "Test  Loss: 1.1093 | Test Acc: 60.72%\n",
      "updated best eval loss : 1.1093122747879993\n",
      "--------------------------------------------------\n",
      "[Epoch 6/164] :\n"
     ]
    },
    {
     "name": "stderr",
     "output_type": "stream",
     "text": [
      "6 Train: 100%|███████| 391/391 [00:06<00:00, 60.68it/s]\n"
     ]
    },
    {
     "name": "stdout",
     "output_type": "stream",
     "text": [
      "Train Loss: 1.1643 | Train Acc: 58.87%\n",
      "Test  Loss: 0.9847 | Test Acc: 65.48%\n",
      "updated best eval loss : 0.9847450648682027\n",
      "--------------------------------------------------\n",
      "[Epoch 7/164] :\n"
     ]
    },
    {
     "name": "stderr",
     "output_type": "stream",
     "text": [
      "7 Train: 100%|███████| 391/391 [00:05<00:00, 65.50it/s]\n"
     ]
    },
    {
     "name": "stdout",
     "output_type": "stream",
     "text": [
      "Train Loss: 1.0845 | Train Acc: 61.66%\n",
      "Test  Loss: 0.8402 | Test Acc: 71.25%\n",
      "updated best eval loss : 0.840236899973471\n",
      "--------------------------------------------------\n",
      "[Epoch 8/164] :\n"
     ]
    },
    {
     "name": "stderr",
     "output_type": "stream",
     "text": [
      "8 Train: 100%|███████| 391/391 [00:06<00:00, 63.68it/s]\n"
     ]
    },
    {
     "name": "stdout",
     "output_type": "stream",
     "text": [
      "Train Loss: 1.0271 | Train Acc: 64.04%\n",
      "Test  Loss: 0.8961 | Test Acc: 70.92%\n",
      "--------------------------------------------------\n",
      "[Epoch 9/164] :\n"
     ]
    },
    {
     "name": "stderr",
     "output_type": "stream",
     "text": [
      "9 Train: 100%|███████| 391/391 [00:06<00:00, 61.89it/s]\n"
     ]
    },
    {
     "name": "stdout",
     "output_type": "stream",
     "text": [
      "Train Loss: 0.9825 | Train Acc: 65.48%\n",
      "Test  Loss: 0.7799 | Test Acc: 72.78%\n",
      "updated best eval loss : 0.7798726453056818\n",
      "--------------------------------------------------\n",
      "[Epoch 10/164] :\n"
     ]
    },
    {
     "name": "stderr",
     "output_type": "stream",
     "text": [
      "10 Train: 100%|██████| 391/391 [00:06<00:00, 64.89it/s]\n"
     ]
    },
    {
     "name": "stdout",
     "output_type": "stream",
     "text": [
      "Train Loss: 0.9492 | Train Acc: 66.85%\n",
      "Test  Loss: 0.8685 | Test Acc: 70.68%\n",
      "--------------------------------------------------\n",
      "[Epoch 11/164] :\n"
     ]
    },
    {
     "name": "stderr",
     "output_type": "stream",
     "text": [
      "11 Train: 100%|██████| 391/391 [00:08<00:00, 47.65it/s]\n"
     ]
    },
    {
     "name": "stdout",
     "output_type": "stream",
     "text": [
      "Train Loss: 0.9233 | Train Acc: 67.73%\n",
      "Test  Loss: 0.7309 | Test Acc: 75.45%\n",
      "updated best eval loss : 0.7309356407274173\n",
      "--------------------------------------------------\n",
      "[Epoch 12/164] :\n"
     ]
    },
    {
     "name": "stderr",
     "output_type": "stream",
     "text": [
      "12 Train: 100%|██████| 391/391 [00:08<00:00, 44.51it/s]\n"
     ]
    },
    {
     "name": "stdout",
     "output_type": "stream",
     "text": [
      "Train Loss: 0.8965 | Train Acc: 68.72%\n",
      "Test  Loss: 0.6639 | Test Acc: 77.66%\n",
      "updated best eval loss : 0.6638936536221565\n",
      "--------------------------------------------------\n",
      "[Epoch 13/164] :\n"
     ]
    },
    {
     "name": "stderr",
     "output_type": "stream",
     "text": [
      "13 Train: 100%|██████| 391/391 [00:08<00:00, 44.54it/s]\n"
     ]
    },
    {
     "name": "stdout",
     "output_type": "stream",
     "text": [
      "Train Loss: 0.8677 | Train Acc: 69.76%\n",
      "Test  Loss: 0.6075 | Test Acc: 79.44%\n",
      "updated best eval loss : 0.6074503494214408\n",
      "--------------------------------------------------\n",
      "[Epoch 14/164] :\n"
     ]
    },
    {
     "name": "stderr",
     "output_type": "stream",
     "text": [
      "14 Train: 100%|██████| 391/391 [00:08<00:00, 43.69it/s]\n"
     ]
    },
    {
     "name": "stdout",
     "output_type": "stream",
     "text": [
      "Train Loss: 0.8508 | Train Acc: 70.28%\n",
      "Test  Loss: 0.6334 | Test Acc: 78.03%\n",
      "--------------------------------------------------\n",
      "[Epoch 15/164] :\n"
     ]
    },
    {
     "name": "stderr",
     "output_type": "stream",
     "text": [
      "15 Train: 100%|██████| 391/391 [00:08<00:00, 43.90it/s]\n"
     ]
    },
    {
     "name": "stdout",
     "output_type": "stream",
     "text": [
      "Train Loss: 0.8305 | Train Acc: 70.83%\n",
      "Test  Loss: 0.6206 | Test Acc: 78.52%\n",
      "--------------------------------------------------\n",
      "[Epoch 16/164] :\n"
     ]
    },
    {
     "name": "stderr",
     "output_type": "stream",
     "text": [
      "16 Train: 100%|██████| 391/391 [00:08<00:00, 44.12it/s]\n"
     ]
    },
    {
     "name": "stdout",
     "output_type": "stream",
     "text": [
      "Train Loss: 0.8126 | Train Acc: 71.53%\n",
      "Test  Loss: 0.7391 | Test Acc: 74.76%\n",
      "--------------------------------------------------\n",
      "[Epoch 17/164] :\n"
     ]
    },
    {
     "name": "stderr",
     "output_type": "stream",
     "text": [
      "17 Train: 100%|██████| 391/391 [00:08<00:00, 45.20it/s]\n"
     ]
    },
    {
     "name": "stdout",
     "output_type": "stream",
     "text": [
      "Train Loss: 0.8005 | Train Acc: 71.86%\n",
      "Test  Loss: 0.5664 | Test Acc: 81.20%\n",
      "updated best eval loss : 0.5663715838631497\n",
      "--------------------------------------------------\n",
      "[Epoch 18/164] :\n"
     ]
    },
    {
     "name": "stderr",
     "output_type": "stream",
     "text": [
      "18 Train: 100%|██████| 391/391 [00:08<00:00, 44.33it/s]\n"
     ]
    },
    {
     "name": "stdout",
     "output_type": "stream",
     "text": [
      "Train Loss: 0.7911 | Train Acc: 72.59%\n",
      "Test  Loss: 0.5268 | Test Acc: 81.95%\n",
      "updated best eval loss : 0.526774449816233\n",
      "--------------------------------------------------\n",
      "[Epoch 19/164] :\n"
     ]
    },
    {
     "name": "stderr",
     "output_type": "stream",
     "text": [
      "19 Train: 100%|██████| 391/391 [00:09<00:00, 42.51it/s]\n"
     ]
    },
    {
     "name": "stdout",
     "output_type": "stream",
     "text": [
      "Train Loss: 0.7751 | Train Acc: 72.98%\n",
      "Test  Loss: 0.6561 | Test Acc: 77.99%\n",
      "--------------------------------------------------\n",
      "[Epoch 20/164] :\n"
     ]
    },
    {
     "name": "stderr",
     "output_type": "stream",
     "text": [
      "20 Train: 100%|██████| 391/391 [00:08<00:00, 43.86it/s]\n"
     ]
    },
    {
     "name": "stdout",
     "output_type": "stream",
     "text": [
      "Train Loss: 0.7673 | Train Acc: 73.34%\n",
      "Test  Loss: 0.5618 | Test Acc: 80.91%\n",
      "--------------------------------------------------\n",
      "[Epoch 21/164] :\n"
     ]
    },
    {
     "name": "stderr",
     "output_type": "stream",
     "text": [
      "21 Train: 100%|██████| 391/391 [00:08<00:00, 44.84it/s]\n"
     ]
    },
    {
     "name": "stdout",
     "output_type": "stream",
     "text": [
      "Train Loss: 0.7596 | Train Acc: 73.45%\n",
      "Test  Loss: 0.6961 | Test Acc: 76.69%\n",
      "--------------------------------------------------\n",
      "[Epoch 22/164] :\n"
     ]
    },
    {
     "name": "stderr",
     "output_type": "stream",
     "text": [
      "22 Train: 100%|██████| 391/391 [00:08<00:00, 43.46it/s]\n"
     ]
    },
    {
     "name": "stdout",
     "output_type": "stream",
     "text": [
      "Train Loss: 0.7487 | Train Acc: 73.87%\n",
      "Test  Loss: 0.6088 | Test Acc: 79.47%\n",
      "--------------------------------------------------\n",
      "[Epoch 23/164] :\n"
     ]
    },
    {
     "name": "stderr",
     "output_type": "stream",
     "text": [
      "23 Train: 100%|██████| 391/391 [00:08<00:00, 45.06it/s]\n"
     ]
    },
    {
     "name": "stdout",
     "output_type": "stream",
     "text": [
      "Train Loss: 0.7377 | Train Acc: 74.28%\n",
      "Test  Loss: 0.6323 | Test Acc: 79.98%\n",
      "--------------------------------------------------\n",
      "[Epoch 24/164] :\n"
     ]
    },
    {
     "name": "stderr",
     "output_type": "stream",
     "text": [
      "24 Train: 100%|██████| 391/391 [00:08<00:00, 44.26it/s]\n"
     ]
    },
    {
     "name": "stdout",
     "output_type": "stream",
     "text": [
      "Train Loss: 0.7355 | Train Acc: 74.15%\n",
      "Test  Loss: 0.6152 | Test Acc: 79.31%\n",
      "--------------------------------------------------\n",
      "[Epoch 25/164] :\n"
     ]
    },
    {
     "name": "stderr",
     "output_type": "stream",
     "text": [
      "25 Train: 100%|██████| 391/391 [00:08<00:00, 44.50it/s]\n"
     ]
    },
    {
     "name": "stdout",
     "output_type": "stream",
     "text": [
      "Train Loss: 0.7245 | Train Acc: 74.64%\n",
      "Test  Loss: 0.6310 | Test Acc: 78.80%\n",
      "--------------------------------------------------\n",
      "[Epoch 26/164] :\n"
     ]
    },
    {
     "name": "stderr",
     "output_type": "stream",
     "text": [
      "26 Train: 100%|██████| 391/391 [00:08<00:00, 44.41it/s]\n"
     ]
    },
    {
     "name": "stdout",
     "output_type": "stream",
     "text": [
      "Train Loss: 0.7188 | Train Acc: 74.79%\n",
      "Test  Loss: 0.5372 | Test Acc: 81.56%\n",
      "--------------------------------------------------\n",
      "[Epoch 27/164] :\n"
     ]
    },
    {
     "name": "stderr",
     "output_type": "stream",
     "text": [
      "27 Train: 100%|██████| 391/391 [00:08<00:00, 44.11it/s]\n"
     ]
    },
    {
     "name": "stdout",
     "output_type": "stream",
     "text": [
      "Train Loss: 0.7153 | Train Acc: 75.15%\n",
      "Test  Loss: 0.6560 | Test Acc: 78.15%\n",
      "--------------------------------------------------\n",
      "[Epoch 28/164] :\n"
     ]
    },
    {
     "name": "stderr",
     "output_type": "stream",
     "text": [
      "28 Train: 100%|██████| 391/391 [00:08<00:00, 44.07it/s]\n"
     ]
    },
    {
     "name": "stdout",
     "output_type": "stream",
     "text": [
      "Train Loss: 0.7146 | Train Acc: 75.26%\n",
      "Test  Loss: 0.5985 | Test Acc: 79.48%\n",
      "--------------------------------------------------\n",
      "[Epoch 29/164] :\n"
     ]
    },
    {
     "name": "stderr",
     "output_type": "stream",
     "text": [
      "29 Train: 100%|██████| 391/391 [00:08<00:00, 44.32it/s]\n"
     ]
    },
    {
     "name": "stdout",
     "output_type": "stream",
     "text": [
      "Train Loss: 0.6970 | Train Acc: 75.47%\n",
      "Test  Loss: 0.5452 | Test Acc: 81.15%\n",
      "--------------------------------------------------\n",
      "[Epoch 30/164] :\n"
     ]
    },
    {
     "name": "stderr",
     "output_type": "stream",
     "text": [
      "30 Train: 100%|██████| 391/391 [00:08<00:00, 45.96it/s]\n"
     ]
    },
    {
     "name": "stdout",
     "output_type": "stream",
     "text": [
      "Train Loss: 0.6953 | Train Acc: 75.47%\n",
      "Test  Loss: 0.4721 | Test Acc: 83.55%\n",
      "updated best eval loss : 0.4720591140698783\n",
      "--------------------------------------------------\n",
      "[Epoch 31/164] :\n"
     ]
    },
    {
     "name": "stderr",
     "output_type": "stream",
     "text": [
      "31 Train: 100%|██████| 391/391 [00:08<00:00, 44.50it/s]\n"
     ]
    },
    {
     "name": "stdout",
     "output_type": "stream",
     "text": [
      "Train Loss: 0.6889 | Train Acc: 75.94%\n",
      "Test  Loss: 0.5372 | Test Acc: 81.74%\n",
      "--------------------------------------------------\n",
      "[Epoch 32/164] :\n"
     ]
    },
    {
     "name": "stderr",
     "output_type": "stream",
     "text": [
      "32 Train: 100%|██████| 391/391 [00:08<00:00, 44.16it/s]\n"
     ]
    },
    {
     "name": "stdout",
     "output_type": "stream",
     "text": [
      "Train Loss: 0.6828 | Train Acc: 76.11%\n",
      "Test  Loss: 0.4877 | Test Acc: 83.04%\n",
      "--------------------------------------------------\n",
      "[Epoch 33/164] :\n"
     ]
    },
    {
     "name": "stderr",
     "output_type": "stream",
     "text": [
      "33 Train: 100%|██████| 391/391 [00:08<00:00, 44.74it/s]\n"
     ]
    },
    {
     "name": "stdout",
     "output_type": "stream",
     "text": [
      "Train Loss: 0.6837 | Train Acc: 76.12%\n",
      "Test  Loss: 0.5433 | Test Acc: 81.86%\n",
      "--------------------------------------------------\n",
      "[Epoch 34/164] :\n"
     ]
    },
    {
     "name": "stderr",
     "output_type": "stream",
     "text": [
      "34 Train: 100%|██████| 391/391 [00:08<00:00, 44.84it/s]\n"
     ]
    },
    {
     "name": "stdout",
     "output_type": "stream",
     "text": [
      "Train Loss: 0.6747 | Train Acc: 76.46%\n",
      "Test  Loss: 0.4835 | Test Acc: 83.34%\n",
      "--------------------------------------------------\n",
      "[Epoch 35/164] :\n"
     ]
    },
    {
     "name": "stderr",
     "output_type": "stream",
     "text": [
      "35 Train: 100%|██████| 391/391 [00:08<00:00, 44.25it/s]\n"
     ]
    },
    {
     "name": "stdout",
     "output_type": "stream",
     "text": [
      "Train Loss: 0.6723 | Train Acc: 76.49%\n",
      "Test  Loss: 0.4852 | Test Acc: 83.23%\n",
      "--------------------------------------------------\n",
      "[Epoch 36/164] :\n"
     ]
    },
    {
     "name": "stderr",
     "output_type": "stream",
     "text": [
      "36 Train: 100%|██████| 391/391 [00:08<00:00, 45.32it/s]\n"
     ]
    },
    {
     "name": "stdout",
     "output_type": "stream",
     "text": [
      "Train Loss: 0.6673 | Train Acc: 76.79%\n",
      "Test  Loss: 0.5138 | Test Acc: 82.35%\n",
      "--------------------------------------------------\n",
      "[Epoch 37/164] :\n"
     ]
    },
    {
     "name": "stderr",
     "output_type": "stream",
     "text": [
      "37 Train: 100%|██████| 391/391 [00:08<00:00, 43.69it/s]\n"
     ]
    },
    {
     "name": "stdout",
     "output_type": "stream",
     "text": [
      "Train Loss: 0.6662 | Train Acc: 76.72%\n",
      "Test  Loss: 0.5414 | Test Acc: 81.78%\n",
      "--------------------------------------------------\n",
      "[Epoch 38/164] :\n"
     ]
    },
    {
     "name": "stderr",
     "output_type": "stream",
     "text": [
      "38 Train: 100%|██████| 391/391 [00:08<00:00, 44.33it/s]\n"
     ]
    },
    {
     "name": "stdout",
     "output_type": "stream",
     "text": [
      "Train Loss: 0.6573 | Train Acc: 77.03%\n",
      "Test  Loss: 0.4540 | Test Acc: 84.62%\n",
      "updated best eval loss : 0.45397754145573965\n",
      "--------------------------------------------------\n",
      "[Epoch 39/164] :\n"
     ]
    },
    {
     "name": "stderr",
     "output_type": "stream",
     "text": [
      "39 Train: 100%|██████| 391/391 [00:08<00:00, 44.53it/s]\n"
     ]
    },
    {
     "name": "stdout",
     "output_type": "stream",
     "text": [
      "Train Loss: 0.6648 | Train Acc: 76.93%\n",
      "Test  Loss: 0.5304 | Test Acc: 82.54%\n",
      "--------------------------------------------------\n",
      "[Epoch 40/164] :\n"
     ]
    },
    {
     "name": "stderr",
     "output_type": "stream",
     "text": [
      "40 Train: 100%|██████| 391/391 [00:08<00:00, 45.03it/s]\n"
     ]
    },
    {
     "name": "stdout",
     "output_type": "stream",
     "text": [
      "Train Loss: 0.6471 | Train Acc: 77.44%\n",
      "Test  Loss: 0.4600 | Test Acc: 84.43%\n",
      "--------------------------------------------------\n",
      "[Epoch 41/164] :\n"
     ]
    },
    {
     "name": "stderr",
     "output_type": "stream",
     "text": [
      "41 Train: 100%|██████| 391/391 [00:08<00:00, 44.98it/s]\n"
     ]
    },
    {
     "name": "stdout",
     "output_type": "stream",
     "text": [
      "Train Loss: 0.6498 | Train Acc: 77.38%\n",
      "Test  Loss: 0.4705 | Test Acc: 84.19%\n",
      "--------------------------------------------------\n",
      "[Epoch 42/164] :\n"
     ]
    },
    {
     "name": "stderr",
     "output_type": "stream",
     "text": [
      "42 Train: 100%|██████| 391/391 [00:08<00:00, 45.01it/s]\n"
     ]
    },
    {
     "name": "stdout",
     "output_type": "stream",
     "text": [
      "Train Loss: 0.6452 | Train Acc: 77.54%\n",
      "Test  Loss: 0.4849 | Test Acc: 83.75%\n",
      "--------------------------------------------------\n",
      "[Epoch 43/164] :\n"
     ]
    },
    {
     "name": "stderr",
     "output_type": "stream",
     "text": [
      "43 Train: 100%|██████| 391/391 [00:08<00:00, 44.38it/s]\n"
     ]
    },
    {
     "name": "stdout",
     "output_type": "stream",
     "text": [
      "Train Loss: 0.6407 | Train Acc: 77.69%\n",
      "Test  Loss: 0.5736 | Test Acc: 80.92%\n",
      "--------------------------------------------------\n",
      "[Epoch 44/164] :\n"
     ]
    },
    {
     "name": "stderr",
     "output_type": "stream",
     "text": [
      "44 Train: 100%|██████| 391/391 [00:08<00:00, 44.24it/s]\n"
     ]
    },
    {
     "name": "stdout",
     "output_type": "stream",
     "text": [
      "Train Loss: 0.6371 | Train Acc: 77.83%\n",
      "Test  Loss: 0.4915 | Test Acc: 83.54%\n",
      "--------------------------------------------------\n",
      "[Epoch 45/164] :\n"
     ]
    },
    {
     "name": "stderr",
     "output_type": "stream",
     "text": [
      "45 Train: 100%|██████| 391/391 [00:08<00:00, 44.51it/s]\n"
     ]
    },
    {
     "name": "stdout",
     "output_type": "stream",
     "text": [
      "Train Loss: 0.6343 | Train Acc: 78.01%\n",
      "Test  Loss: 0.4646 | Test Acc: 83.87%\n",
      "--------------------------------------------------\n",
      "[Epoch 46/164] :\n"
     ]
    },
    {
     "name": "stderr",
     "output_type": "stream",
     "text": [
      "46 Train: 100%|██████| 391/391 [00:08<00:00, 43.68it/s]\n"
     ]
    },
    {
     "name": "stdout",
     "output_type": "stream",
     "text": [
      "Train Loss: 0.6380 | Train Acc: 77.86%\n",
      "Test  Loss: 0.4828 | Test Acc: 83.22%\n",
      "--------------------------------------------------\n",
      "[Epoch 47/164] :\n"
     ]
    },
    {
     "name": "stderr",
     "output_type": "stream",
     "text": [
      "47 Train: 100%|██████| 391/391 [00:08<00:00, 43.65it/s]\n"
     ]
    },
    {
     "name": "stdout",
     "output_type": "stream",
     "text": [
      "Train Loss: 0.6361 | Train Acc: 77.89%\n",
      "Test  Loss: 0.4436 | Test Acc: 85.00%\n",
      "updated best eval loss : 0.4436088245880755\n",
      "--------------------------------------------------\n",
      "[Epoch 48/164] :\n"
     ]
    },
    {
     "name": "stderr",
     "output_type": "stream",
     "text": [
      "48 Train: 100%|██████| 391/391 [00:08<00:00, 44.52it/s]\n"
     ]
    },
    {
     "name": "stdout",
     "output_type": "stream",
     "text": [
      "Train Loss: 0.6258 | Train Acc: 78.09%\n",
      "Test  Loss: 0.5080 | Test Acc: 83.02%\n",
      "--------------------------------------------------\n",
      "[Epoch 49/164] :\n"
     ]
    },
    {
     "name": "stderr",
     "output_type": "stream",
     "text": [
      "49 Train: 100%|██████| 391/391 [00:08<00:00, 45.12it/s]\n"
     ]
    },
    {
     "name": "stdout",
     "output_type": "stream",
     "text": [
      "Train Loss: 0.6255 | Train Acc: 78.15%\n",
      "Test  Loss: 0.4258 | Test Acc: 85.56%\n",
      "updated best eval loss : 0.42578835615628885\n",
      "--------------------------------------------------\n",
      "[Epoch 50/164] :\n"
     ]
    },
    {
     "name": "stderr",
     "output_type": "stream",
     "text": [
      "50 Train: 100%|██████| 391/391 [00:08<00:00, 45.07it/s]\n"
     ]
    },
    {
     "name": "stdout",
     "output_type": "stream",
     "text": [
      "Train Loss: 0.6328 | Train Acc: 77.90%\n",
      "Test  Loss: 0.4546 | Test Acc: 84.67%\n",
      "--------------------------------------------------\n",
      "[Epoch 51/164] :\n"
     ]
    },
    {
     "name": "stderr",
     "output_type": "stream",
     "text": [
      "51 Train: 100%|██████| 391/391 [00:08<00:00, 45.44it/s]\n"
     ]
    },
    {
     "name": "stdout",
     "output_type": "stream",
     "text": [
      "Train Loss: 0.6257 | Train Acc: 78.37%\n",
      "Test  Loss: 0.8336 | Test Acc: 74.16%\n",
      "--------------------------------------------------\n",
      "[Epoch 52/164] :\n"
     ]
    },
    {
     "name": "stderr",
     "output_type": "stream",
     "text": [
      "52 Train: 100%|██████| 391/391 [00:08<00:00, 44.74it/s]\n"
     ]
    },
    {
     "name": "stdout",
     "output_type": "stream",
     "text": [
      "Train Loss: 0.6160 | Train Acc: 78.62%\n",
      "Test  Loss: 0.4323 | Test Acc: 85.06%\n",
      "--------------------------------------------------\n",
      "[Epoch 53/164] :\n"
     ]
    },
    {
     "name": "stderr",
     "output_type": "stream",
     "text": [
      "53 Train: 100%|██████| 391/391 [00:08<00:00, 44.46it/s]\n"
     ]
    },
    {
     "name": "stdout",
     "output_type": "stream",
     "text": [
      "Train Loss: 0.6099 | Train Acc: 78.65%\n",
      "Test  Loss: 0.4368 | Test Acc: 85.06%\n",
      "--------------------------------------------------\n",
      "[Epoch 54/164] :\n"
     ]
    },
    {
     "name": "stderr",
     "output_type": "stream",
     "text": [
      "54 Train: 100%|██████| 391/391 [00:08<00:00, 44.94it/s]\n"
     ]
    },
    {
     "name": "stdout",
     "output_type": "stream",
     "text": [
      "Train Loss: 0.6121 | Train Acc: 78.60%\n",
      "Test  Loss: 0.4045 | Test Acc: 86.58%\n",
      "updated best eval loss : 0.4044940743265273\n",
      "--------------------------------------------------\n",
      "[Epoch 55/164] :\n"
     ]
    },
    {
     "name": "stderr",
     "output_type": "stream",
     "text": [
      "55 Train: 100%|██████| 391/391 [00:08<00:00, 44.96it/s]\n"
     ]
    },
    {
     "name": "stdout",
     "output_type": "stream",
     "text": [
      "Train Loss: 0.6046 | Train Acc: 78.81%\n",
      "Test  Loss: 0.4460 | Test Acc: 85.16%\n",
      "--------------------------------------------------\n",
      "[Epoch 56/164] :\n"
     ]
    },
    {
     "name": "stderr",
     "output_type": "stream",
     "text": [
      "56 Train: 100%|██████| 391/391 [00:08<00:00, 45.65it/s]\n"
     ]
    },
    {
     "name": "stdout",
     "output_type": "stream",
     "text": [
      "Train Loss: 0.6114 | Train Acc: 78.72%\n",
      "Test  Loss: 0.4708 | Test Acc: 84.18%\n",
      "--------------------------------------------------\n",
      "[Epoch 57/164] :\n"
     ]
    },
    {
     "name": "stderr",
     "output_type": "stream",
     "text": [
      "57 Train: 100%|██████| 391/391 [00:08<00:00, 44.02it/s]\n"
     ]
    },
    {
     "name": "stdout",
     "output_type": "stream",
     "text": [
      "Train Loss: 0.6047 | Train Acc: 78.92%\n",
      "Test  Loss: 0.5199 | Test Acc: 82.52%\n",
      "--------------------------------------------------\n",
      "[Epoch 58/164] :\n"
     ]
    },
    {
     "name": "stderr",
     "output_type": "stream",
     "text": [
      "58 Train: 100%|██████| 391/391 [00:08<00:00, 44.27it/s]\n"
     ]
    },
    {
     "name": "stdout",
     "output_type": "stream",
     "text": [
      "Train Loss: 0.6060 | Train Acc: 78.82%\n",
      "Test  Loss: 0.4452 | Test Acc: 85.35%\n",
      "--------------------------------------------------\n",
      "[Epoch 59/164] :\n"
     ]
    },
    {
     "name": "stderr",
     "output_type": "stream",
     "text": [
      "59 Train: 100%|██████| 391/391 [00:08<00:00, 44.14it/s]\n"
     ]
    },
    {
     "name": "stdout",
     "output_type": "stream",
     "text": [
      "Train Loss: 0.6002 | Train Acc: 79.02%\n",
      "Test  Loss: 0.4702 | Test Acc: 83.83%\n",
      "--------------------------------------------------\n",
      "[Epoch 60/164] :\n"
     ]
    },
    {
     "name": "stderr",
     "output_type": "stream",
     "text": [
      "60 Train: 100%|██████| 391/391 [00:08<00:00, 44.80it/s]\n"
     ]
    },
    {
     "name": "stdout",
     "output_type": "stream",
     "text": [
      "Train Loss: 0.6053 | Train Acc: 78.86%\n",
      "Test  Loss: 0.4801 | Test Acc: 84.08%\n",
      "--------------------------------------------------\n",
      "[Epoch 61/164] :\n"
     ]
    },
    {
     "name": "stderr",
     "output_type": "stream",
     "text": [
      "61 Train: 100%|██████| 391/391 [00:08<00:00, 45.19it/s]\n"
     ]
    },
    {
     "name": "stdout",
     "output_type": "stream",
     "text": [
      "Train Loss: 0.5938 | Train Acc: 79.47%\n",
      "Test  Loss: 0.4306 | Test Acc: 85.43%\n",
      "--------------------------------------------------\n",
      "[Epoch 62/164] :\n"
     ]
    },
    {
     "name": "stderr",
     "output_type": "stream",
     "text": [
      "62 Train: 100%|██████| 391/391 [00:08<00:00, 46.16it/s]\n"
     ]
    },
    {
     "name": "stdout",
     "output_type": "stream",
     "text": [
      "Train Loss: 0.6030 | Train Acc: 78.92%\n",
      "Test  Loss: 0.3829 | Test Acc: 86.19%\n",
      "updated best eval loss : 0.38294219046453887\n",
      "--------------------------------------------------\n",
      "[Epoch 63/164] :\n"
     ]
    },
    {
     "name": "stderr",
     "output_type": "stream",
     "text": [
      "63 Train: 100%|██████| 391/391 [00:08<00:00, 44.45it/s]\n"
     ]
    },
    {
     "name": "stdout",
     "output_type": "stream",
     "text": [
      "Train Loss: 0.5991 | Train Acc: 79.21%\n",
      "Test  Loss: 0.4103 | Test Acc: 85.64%\n",
      "--------------------------------------------------\n",
      "[Epoch 64/164] :\n"
     ]
    },
    {
     "name": "stderr",
     "output_type": "stream",
     "text": [
      "64 Train: 100%|██████| 391/391 [00:08<00:00, 43.92it/s]\n"
     ]
    },
    {
     "name": "stdout",
     "output_type": "stream",
     "text": [
      "Train Loss: 0.5979 | Train Acc: 79.18%\n",
      "Test  Loss: 0.4128 | Test Acc: 86.07%\n",
      "--------------------------------------------------\n",
      "[Epoch 65/164] :\n"
     ]
    },
    {
     "name": "stderr",
     "output_type": "stream",
     "text": [
      "65 Train: 100%|██████| 391/391 [00:08<00:00, 44.43it/s]\n"
     ]
    },
    {
     "name": "stdout",
     "output_type": "stream",
     "text": [
      "Train Loss: 0.5898 | Train Acc: 79.41%\n",
      "Test  Loss: 0.4523 | Test Acc: 84.81%\n",
      "--------------------------------------------------\n",
      "[Epoch 66/164] :\n"
     ]
    },
    {
     "name": "stderr",
     "output_type": "stream",
     "text": [
      "66 Train: 100%|██████| 391/391 [00:08<00:00, 44.38it/s]\n"
     ]
    },
    {
     "name": "stdout",
     "output_type": "stream",
     "text": [
      "Train Loss: 0.5925 | Train Acc: 79.24%\n",
      "Test  Loss: 0.4351 | Test Acc: 85.00%\n",
      "--------------------------------------------------\n",
      "[Epoch 67/164] :\n"
     ]
    },
    {
     "name": "stderr",
     "output_type": "stream",
     "text": [
      "67 Train: 100%|██████| 391/391 [00:09<00:00, 43.44it/s]\n"
     ]
    },
    {
     "name": "stdout",
     "output_type": "stream",
     "text": [
      "Train Loss: 0.5893 | Train Acc: 79.32%\n",
      "Test  Loss: 0.4346 | Test Acc: 84.74%\n",
      "--------------------------------------------------\n",
      "[Epoch 68/164] :\n"
     ]
    },
    {
     "name": "stderr",
     "output_type": "stream",
     "text": [
      "68 Train: 100%|██████| 391/391 [00:08<00:00, 44.35it/s]\n"
     ]
    },
    {
     "name": "stdout",
     "output_type": "stream",
     "text": [
      "Train Loss: 0.5875 | Train Acc: 79.38%\n",
      "Test  Loss: 0.3759 | Test Acc: 87.10%\n",
      "updated best eval loss : 0.3758655682772021\n",
      "--------------------------------------------------\n",
      "[Epoch 69/164] :\n"
     ]
    },
    {
     "name": "stderr",
     "output_type": "stream",
     "text": [
      "69 Train: 100%|██████| 391/391 [00:08<00:00, 44.89it/s]\n"
     ]
    },
    {
     "name": "stdout",
     "output_type": "stream",
     "text": [
      "Train Loss: 0.5937 | Train Acc: 79.39%\n",
      "Test  Loss: 0.4214 | Test Acc: 85.54%\n",
      "--------------------------------------------------\n",
      "[Epoch 70/164] :\n"
     ]
    },
    {
     "name": "stderr",
     "output_type": "stream",
     "text": [
      "70 Train: 100%|██████| 391/391 [00:08<00:00, 44.50it/s]\n"
     ]
    },
    {
     "name": "stdout",
     "output_type": "stream",
     "text": [
      "Train Loss: 0.5833 | Train Acc: 79.61%\n",
      "Test  Loss: 0.4256 | Test Acc: 85.67%\n",
      "--------------------------------------------------\n",
      "[Epoch 71/164] :\n"
     ]
    },
    {
     "name": "stderr",
     "output_type": "stream",
     "text": [
      "71 Train: 100%|██████| 391/391 [00:08<00:00, 45.14it/s]\n"
     ]
    },
    {
     "name": "stdout",
     "output_type": "stream",
     "text": [
      "Train Loss: 0.5881 | Train Acc: 79.46%\n",
      "Test  Loss: 0.4451 | Test Acc: 85.15%\n",
      "--------------------------------------------------\n",
      "[Epoch 72/164] :\n"
     ]
    },
    {
     "name": "stderr",
     "output_type": "stream",
     "text": [
      "72 Train: 100%|██████| 391/391 [00:08<00:00, 44.93it/s]\n"
     ]
    },
    {
     "name": "stdout",
     "output_type": "stream",
     "text": [
      "Train Loss: 0.5759 | Train Acc: 79.73%\n",
      "Test  Loss: 0.4167 | Test Acc: 85.73%\n",
      "--------------------------------------------------\n",
      "[Epoch 73/164] :\n"
     ]
    },
    {
     "name": "stderr",
     "output_type": "stream",
     "text": [
      "73 Train: 100%|██████| 391/391 [00:08<00:00, 44.85it/s]\n"
     ]
    },
    {
     "name": "stdout",
     "output_type": "stream",
     "text": [
      "Train Loss: 0.5838 | Train Acc: 79.63%\n",
      "Test  Loss: 0.5593 | Test Acc: 81.54%\n",
      "--------------------------------------------------\n",
      "[Epoch 74/164] :\n"
     ]
    },
    {
     "name": "stderr",
     "output_type": "stream",
     "text": [
      "74 Train: 100%|██████| 391/391 [00:08<00:00, 44.03it/s]\n"
     ]
    },
    {
     "name": "stdout",
     "output_type": "stream",
     "text": [
      "Train Loss: 0.5841 | Train Acc: 79.50%\n",
      "Test  Loss: 0.4218 | Test Acc: 86.13%\n",
      "--------------------------------------------------\n",
      "[Epoch 75/164] :\n"
     ]
    },
    {
     "name": "stderr",
     "output_type": "stream",
     "text": [
      "75 Train: 100%|██████| 391/391 [00:08<00:00, 45.38it/s]\n"
     ]
    },
    {
     "name": "stdout",
     "output_type": "stream",
     "text": [
      "Train Loss: 0.5824 | Train Acc: 79.46%\n",
      "Test  Loss: 0.3592 | Test Acc: 87.66%\n",
      "updated best eval loss : 0.35918782934357846\n",
      "--------------------------------------------------\n",
      "[Epoch 76/164] :\n"
     ]
    },
    {
     "name": "stderr",
     "output_type": "stream",
     "text": [
      "76 Train: 100%|██████| 391/391 [00:08<00:00, 44.66it/s]\n"
     ]
    },
    {
     "name": "stdout",
     "output_type": "stream",
     "text": [
      "Train Loss: 0.5757 | Train Acc: 80.04%\n",
      "Test  Loss: 0.5193 | Test Acc: 83.19%\n",
      "--------------------------------------------------\n",
      "[Epoch 77/164] :\n"
     ]
    },
    {
     "name": "stderr",
     "output_type": "stream",
     "text": [
      "77 Train: 100%|██████| 391/391 [00:08<00:00, 44.17it/s]\n"
     ]
    },
    {
     "name": "stdout",
     "output_type": "stream",
     "text": [
      "Train Loss: 0.5776 | Train Acc: 79.97%\n",
      "Test  Loss: 0.5562 | Test Acc: 81.79%\n",
      "--------------------------------------------------\n",
      "[Epoch 78/164] :\n"
     ]
    },
    {
     "name": "stderr",
     "output_type": "stream",
     "text": [
      "78 Train: 100%|██████| 391/391 [00:09<00:00, 43.26it/s]\n"
     ]
    },
    {
     "name": "stdout",
     "output_type": "stream",
     "text": [
      "Train Loss: 0.5784 | Train Acc: 79.73%\n",
      "Test  Loss: 0.5174 | Test Acc: 82.79%\n",
      "--------------------------------------------------\n",
      "[Epoch 79/164] :\n"
     ]
    },
    {
     "name": "stderr",
     "output_type": "stream",
     "text": [
      "79 Train: 100%|██████| 391/391 [00:08<00:00, 43.86it/s]\n"
     ]
    },
    {
     "name": "stdout",
     "output_type": "stream",
     "text": [
      "Train Loss: 0.5728 | Train Acc: 80.01%\n",
      "Test  Loss: 0.3945 | Test Acc: 86.32%\n",
      "--------------------------------------------------\n",
      "[Epoch 80/164] :\n"
     ]
    },
    {
     "name": "stderr",
     "output_type": "stream",
     "text": [
      "80 Train: 100%|██████| 391/391 [00:08<00:00, 44.37it/s]\n"
     ]
    },
    {
     "name": "stdout",
     "output_type": "stream",
     "text": [
      "Train Loss: 0.5743 | Train Acc: 79.92%\n",
      "Test  Loss: 0.3607 | Test Acc: 87.34%\n",
      "--------------------------------------------------\n",
      "[Epoch 81/164] :\n"
     ]
    },
    {
     "name": "stderr",
     "output_type": "stream",
     "text": [
      "81 Train: 100%|██████| 391/391 [00:08<00:00, 44.08it/s]\n"
     ]
    },
    {
     "name": "stdout",
     "output_type": "stream",
     "text": [
      "Train Loss: 0.5690 | Train Acc: 80.13%\n",
      "Test  Loss: 0.4873 | Test Acc: 84.47%\n",
      "--------------------------------------------------\n",
      "[Epoch 82/164] :\n"
     ]
    },
    {
     "name": "stderr",
     "output_type": "stream",
     "text": [
      "82 Train: 100%|██████| 391/391 [00:08<00:00, 45.43it/s]\n"
     ]
    },
    {
     "name": "stdout",
     "output_type": "stream",
     "text": [
      "Train Loss: 0.5718 | Train Acc: 80.06%\n",
      "Test  Loss: 0.4064 | Test Acc: 86.35%\n",
      "Learning Rate has changed : Now is 0.010000000000000002\n",
      "--------------------------------------------------\n",
      "[Epoch 83/164] :\n"
     ]
    },
    {
     "name": "stderr",
     "output_type": "stream",
     "text": [
      "83 Train: 100%|██████| 391/391 [00:08<00:00, 44.34it/s]\n"
     ]
    },
    {
     "name": "stdout",
     "output_type": "stream",
     "text": [
      "Train Loss: 0.4703 | Train Acc: 83.63%\n",
      "Test  Loss: 0.2777 | Test Acc: 90.48%\n",
      "updated best eval loss : 0.2776578104571451\n",
      "--------------------------------------------------\n",
      "[Epoch 84/164] :\n"
     ]
    },
    {
     "name": "stderr",
     "output_type": "stream",
     "text": [
      "84 Train: 100%|██████| 391/391 [00:08<00:00, 44.76it/s]\n"
     ]
    },
    {
     "name": "stdout",
     "output_type": "stream",
     "text": [
      "Train Loss: 0.4349 | Train Acc: 84.77%\n",
      "Test  Loss: 0.2750 | Test Acc: 90.35%\n",
      "updated best eval loss : 0.2750291826698599\n",
      "--------------------------------------------------\n",
      "[Epoch 85/164] :\n"
     ]
    },
    {
     "name": "stderr",
     "output_type": "stream",
     "text": [
      "85 Train: 100%|██████| 391/391 [00:08<00:00, 43.95it/s]\n"
     ]
    },
    {
     "name": "stdout",
     "output_type": "stream",
     "text": [
      "Train Loss: 0.4246 | Train Acc: 84.97%\n",
      "Test  Loss: 0.2676 | Test Acc: 90.76%\n",
      "updated best eval loss : 0.26763721866698204\n",
      "--------------------------------------------------\n",
      "[Epoch 86/164] :\n"
     ]
    },
    {
     "name": "stderr",
     "output_type": "stream",
     "text": [
      "86 Train: 100%|██████| 391/391 [00:08<00:00, 43.90it/s]\n"
     ]
    },
    {
     "name": "stdout",
     "output_type": "stream",
     "text": [
      "Train Loss: 0.4146 | Train Acc: 85.63%\n",
      "Test  Loss: 0.2650 | Test Acc: 90.93%\n",
      "updated best eval loss : 0.2649988450958759\n",
      "--------------------------------------------------\n",
      "[Epoch 87/164] :\n"
     ]
    },
    {
     "name": "stderr",
     "output_type": "stream",
     "text": [
      "87 Train: 100%|██████| 391/391 [00:08<00:00, 44.68it/s]\n"
     ]
    },
    {
     "name": "stdout",
     "output_type": "stream",
     "text": [
      "Train Loss: 0.4119 | Train Acc: 85.74%\n",
      "Test  Loss: 0.2653 | Test Acc: 91.08%\n",
      "--------------------------------------------------\n",
      "[Epoch 88/164] :\n"
     ]
    },
    {
     "name": "stderr",
     "output_type": "stream",
     "text": [
      "88 Train: 100%|██████| 391/391 [00:08<00:00, 44.01it/s]\n"
     ]
    },
    {
     "name": "stdout",
     "output_type": "stream",
     "text": [
      "Train Loss: 0.4068 | Train Acc: 85.74%\n",
      "Test  Loss: 0.2629 | Test Acc: 91.05%\n",
      "updated best eval loss : 0.2629425181429597\n",
      "--------------------------------------------------\n",
      "[Epoch 89/164] :\n"
     ]
    },
    {
     "name": "stderr",
     "output_type": "stream",
     "text": [
      "89 Train: 100%|██████| 391/391 [00:08<00:00, 44.09it/s]\n"
     ]
    },
    {
     "name": "stdout",
     "output_type": "stream",
     "text": [
      "Train Loss: 0.3988 | Train Acc: 85.92%\n",
      "Test  Loss: 0.2599 | Test Acc: 91.12%\n",
      "updated best eval loss : 0.25994047814909416\n",
      "--------------------------------------------------\n",
      "[Epoch 90/164] :\n"
     ]
    },
    {
     "name": "stderr",
     "output_type": "stream",
     "text": [
      "90 Train: 100%|██████| 391/391 [00:09<00:00, 43.40it/s]\n"
     ]
    },
    {
     "name": "stdout",
     "output_type": "stream",
     "text": [
      "Train Loss: 0.3983 | Train Acc: 86.04%\n",
      "Test  Loss: 0.2601 | Test Acc: 91.28%\n",
      "--------------------------------------------------\n",
      "[Epoch 91/164] :\n"
     ]
    },
    {
     "name": "stderr",
     "output_type": "stream",
     "text": [
      "91 Train: 100%|██████| 391/391 [00:08<00:00, 44.34it/s]\n"
     ]
    },
    {
     "name": "stdout",
     "output_type": "stream",
     "text": [
      "Train Loss: 0.3960 | Train Acc: 86.21%\n",
      "Test  Loss: 0.2648 | Test Acc: 91.37%\n",
      "--------------------------------------------------\n",
      "[Epoch 92/164] :\n"
     ]
    },
    {
     "name": "stderr",
     "output_type": "stream",
     "text": [
      "92 Train: 100%|██████| 391/391 [00:08<00:00, 44.99it/s]\n"
     ]
    },
    {
     "name": "stdout",
     "output_type": "stream",
     "text": [
      "Train Loss: 0.3917 | Train Acc: 86.28%\n",
      "Test  Loss: 0.2525 | Test Acc: 91.46%\n",
      "updated best eval loss : 0.25249279903460153\n",
      "--------------------------------------------------\n",
      "[Epoch 93/164] :\n"
     ]
    },
    {
     "name": "stderr",
     "output_type": "stream",
     "text": [
      "93 Train: 100%|██████| 391/391 [00:08<00:00, 43.67it/s]\n"
     ]
    },
    {
     "name": "stdout",
     "output_type": "stream",
     "text": [
      "Train Loss: 0.3920 | Train Acc: 86.33%\n",
      "Test  Loss: 0.2490 | Test Acc: 91.43%\n",
      "updated best eval loss : 0.24896035416499723\n",
      "--------------------------------------------------\n",
      "[Epoch 94/164] :\n"
     ]
    },
    {
     "name": "stderr",
     "output_type": "stream",
     "text": [
      "94 Train: 100%|██████| 391/391 [00:08<00:00, 46.02it/s]\n"
     ]
    },
    {
     "name": "stdout",
     "output_type": "stream",
     "text": [
      "Train Loss: 0.3923 | Train Acc: 86.14%\n",
      "Test  Loss: 0.2511 | Test Acc: 91.44%\n",
      "--------------------------------------------------\n",
      "[Epoch 95/164] :\n"
     ]
    },
    {
     "name": "stderr",
     "output_type": "stream",
     "text": [
      "95 Train: 100%|██████| 391/391 [00:08<00:00, 44.12it/s]\n"
     ]
    },
    {
     "name": "stdout",
     "output_type": "stream",
     "text": [
      "Train Loss: 0.3823 | Train Acc: 86.73%\n",
      "Test  Loss: 0.2606 | Test Acc: 91.32%\n",
      "--------------------------------------------------\n",
      "[Epoch 96/164] :\n"
     ]
    },
    {
     "name": "stderr",
     "output_type": "stream",
     "text": [
      "96 Train: 100%|██████| 391/391 [00:08<00:00, 44.13it/s]\n"
     ]
    },
    {
     "name": "stdout",
     "output_type": "stream",
     "text": [
      "Train Loss: 0.3881 | Train Acc: 86.41%\n",
      "Test  Loss: 0.2577 | Test Acc: 91.30%\n",
      "--------------------------------------------------\n",
      "[Epoch 97/164] :\n"
     ]
    },
    {
     "name": "stderr",
     "output_type": "stream",
     "text": [
      "97 Train: 100%|██████| 391/391 [00:08<00:00, 43.89it/s]\n"
     ]
    },
    {
     "name": "stdout",
     "output_type": "stream",
     "text": [
      "Train Loss: 0.3762 | Train Acc: 86.80%\n",
      "Test  Loss: 0.2610 | Test Acc: 91.32%\n",
      "--------------------------------------------------\n",
      "[Epoch 98/164] :\n"
     ]
    },
    {
     "name": "stderr",
     "output_type": "stream",
     "text": [
      "98 Train: 100%|██████| 391/391 [00:08<00:00, 43.89it/s]\n"
     ]
    },
    {
     "name": "stdout",
     "output_type": "stream",
     "text": [
      "Train Loss: 0.3750 | Train Acc: 86.69%\n",
      "Test  Loss: 0.2585 | Test Acc: 91.41%\n",
      "--------------------------------------------------\n",
      "[Epoch 99/164] :\n"
     ]
    },
    {
     "name": "stderr",
     "output_type": "stream",
     "text": [
      "99 Train: 100%|██████| 391/391 [00:08<00:00, 44.06it/s]\n"
     ]
    },
    {
     "name": "stdout",
     "output_type": "stream",
     "text": [
      "Train Loss: 0.3763 | Train Acc: 86.78%\n",
      "Test  Loss: 0.2561 | Test Acc: 91.72%\n",
      "--------------------------------------------------\n",
      "[Epoch 100/164] :\n"
     ]
    },
    {
     "name": "stderr",
     "output_type": "stream",
     "text": [
      "100 Train: 100%|█████| 391/391 [00:08<00:00, 44.39it/s]\n"
     ]
    },
    {
     "name": "stdout",
     "output_type": "stream",
     "text": [
      "Train Loss: 0.3755 | Train Acc: 86.91%\n",
      "Test  Loss: 0.2582 | Test Acc: 91.52%\n",
      "--------------------------------------------------\n",
      "[Epoch 101/164] :\n"
     ]
    },
    {
     "name": "stderr",
     "output_type": "stream",
     "text": [
      "101 Train: 100%|█████| 391/391 [00:08<00:00, 45.94it/s]\n"
     ]
    },
    {
     "name": "stdout",
     "output_type": "stream",
     "text": [
      "Train Loss: 0.3711 | Train Acc: 87.05%\n",
      "Test  Loss: 0.2582 | Test Acc: 91.57%\n",
      "--------------------------------------------------\n",
      "[Epoch 102/164] :\n"
     ]
    },
    {
     "name": "stderr",
     "output_type": "stream",
     "text": [
      "102 Train: 100%|█████| 391/391 [00:08<00:00, 44.65it/s]\n"
     ]
    },
    {
     "name": "stdout",
     "output_type": "stream",
     "text": [
      "Train Loss: 0.3693 | Train Acc: 87.06%\n",
      "Test  Loss: 0.2498 | Test Acc: 91.81%\n",
      "--------------------------------------------------\n",
      "[Epoch 103/164] :\n"
     ]
    },
    {
     "name": "stderr",
     "output_type": "stream",
     "text": [
      "103 Train: 100%|█████| 391/391 [00:08<00:00, 44.91it/s]\n"
     ]
    },
    {
     "name": "stdout",
     "output_type": "stream",
     "text": [
      "Train Loss: 0.3719 | Train Acc: 87.00%\n",
      "Test  Loss: 0.2672 | Test Acc: 91.17%\n",
      "--------------------------------------------------\n",
      "[Epoch 104/164] :\n"
     ]
    },
    {
     "name": "stderr",
     "output_type": "stream",
     "text": [
      "104 Train: 100%|█████| 391/391 [00:08<00:00, 45.17it/s]\n"
     ]
    },
    {
     "name": "stdout",
     "output_type": "stream",
     "text": [
      "Train Loss: 0.3658 | Train Acc: 87.08%\n",
      "Test  Loss: 0.2529 | Test Acc: 91.53%\n",
      "--------------------------------------------------\n",
      "[Epoch 105/164] :\n"
     ]
    },
    {
     "name": "stderr",
     "output_type": "stream",
     "text": [
      "105 Train: 100%|█████| 391/391 [00:08<00:00, 44.95it/s]\n"
     ]
    },
    {
     "name": "stdout",
     "output_type": "stream",
     "text": [
      "Train Loss: 0.3665 | Train Acc: 87.24%\n",
      "Test  Loss: 0.2449 | Test Acc: 91.77%\n",
      "updated best eval loss : 0.24491253306594077\n",
      "--------------------------------------------------\n",
      "[Epoch 106/164] :\n"
     ]
    },
    {
     "name": "stderr",
     "output_type": "stream",
     "text": [
      "106 Train: 100%|█████| 391/391 [00:08<00:00, 44.21it/s]\n"
     ]
    },
    {
     "name": "stdout",
     "output_type": "stream",
     "text": [
      "Train Loss: 0.3595 | Train Acc: 87.36%\n",
      "Test  Loss: 0.2458 | Test Acc: 91.80%\n",
      "--------------------------------------------------\n",
      "[Epoch 107/164] :\n"
     ]
    },
    {
     "name": "stderr",
     "output_type": "stream",
     "text": [
      "107 Train: 100%|█████| 391/391 [00:08<00:00, 45.33it/s]\n"
     ]
    },
    {
     "name": "stdout",
     "output_type": "stream",
     "text": [
      "Train Loss: 0.3665 | Train Acc: 87.06%\n",
      "Test  Loss: 0.2508 | Test Acc: 91.64%\n",
      "--------------------------------------------------\n",
      "[Epoch 108/164] :\n"
     ]
    },
    {
     "name": "stderr",
     "output_type": "stream",
     "text": [
      "108 Train: 100%|█████| 391/391 [00:08<00:00, 44.25it/s]\n"
     ]
    },
    {
     "name": "stdout",
     "output_type": "stream",
     "text": [
      "Train Loss: 0.3581 | Train Acc: 87.41%\n",
      "Test  Loss: 0.2509 | Test Acc: 91.53%\n",
      "--------------------------------------------------\n",
      "[Epoch 109/164] :\n"
     ]
    },
    {
     "name": "stderr",
     "output_type": "stream",
     "text": [
      "109 Train: 100%|█████| 391/391 [00:08<00:00, 44.33it/s]\n"
     ]
    },
    {
     "name": "stdout",
     "output_type": "stream",
     "text": [
      "Train Loss: 0.3621 | Train Acc: 87.38%\n",
      "Test  Loss: 0.2492 | Test Acc: 91.49%\n",
      "--------------------------------------------------\n",
      "[Epoch 110/164] :\n"
     ]
    },
    {
     "name": "stderr",
     "output_type": "stream",
     "text": [
      "110 Train: 100%|█████| 391/391 [00:08<00:00, 44.57it/s]\n"
     ]
    },
    {
     "name": "stdout",
     "output_type": "stream",
     "text": [
      "Train Loss: 0.3585 | Train Acc: 87.45%\n",
      "Test  Loss: 0.2539 | Test Acc: 91.61%\n",
      "--------------------------------------------------\n",
      "[Epoch 111/164] :\n"
     ]
    },
    {
     "name": "stderr",
     "output_type": "stream",
     "text": [
      "111 Train: 100%|█████| 391/391 [00:08<00:00, 44.05it/s]\n"
     ]
    },
    {
     "name": "stdout",
     "output_type": "stream",
     "text": [
      "Train Loss: 0.3635 | Train Acc: 86.95%\n",
      "Test  Loss: 0.2512 | Test Acc: 91.63%\n",
      "--------------------------------------------------\n",
      "[Epoch 112/164] :\n"
     ]
    },
    {
     "name": "stderr",
     "output_type": "stream",
     "text": [
      "112 Train: 100%|█████| 391/391 [00:08<00:00, 43.73it/s]\n"
     ]
    },
    {
     "name": "stdout",
     "output_type": "stream",
     "text": [
      "Train Loss: 0.3598 | Train Acc: 87.44%\n",
      "Test  Loss: 0.2610 | Test Acc: 91.32%\n",
      "--------------------------------------------------\n",
      "[Epoch 113/164] :\n"
     ]
    },
    {
     "name": "stderr",
     "output_type": "stream",
     "text": [
      "113 Train: 100%|█████| 391/391 [00:08<00:00, 44.60it/s]\n"
     ]
    },
    {
     "name": "stdout",
     "output_type": "stream",
     "text": [
      "Train Loss: 0.3614 | Train Acc: 87.50%\n",
      "Test  Loss: 0.2604 | Test Acc: 91.24%\n",
      "--------------------------------------------------\n",
      "[Epoch 114/164] :\n"
     ]
    },
    {
     "name": "stderr",
     "output_type": "stream",
     "text": [
      "114 Train: 100%|█████| 391/391 [00:08<00:00, 45.75it/s]\n"
     ]
    },
    {
     "name": "stdout",
     "output_type": "stream",
     "text": [
      "Train Loss: 0.3598 | Train Acc: 87.53%\n",
      "Test  Loss: 0.2606 | Test Acc: 91.31%\n",
      "--------------------------------------------------\n",
      "[Epoch 115/164] :\n"
     ]
    },
    {
     "name": "stderr",
     "output_type": "stream",
     "text": [
      "115 Train: 100%|█████| 391/391 [00:08<00:00, 44.63it/s]\n"
     ]
    },
    {
     "name": "stdout",
     "output_type": "stream",
     "text": [
      "Train Loss: 0.3553 | Train Acc: 87.49%\n",
      "Test  Loss: 0.2511 | Test Acc: 91.63%\n",
      "--------------------------------------------------\n",
      "[Epoch 116/164] :\n"
     ]
    },
    {
     "name": "stderr",
     "output_type": "stream",
     "text": [
      "116 Train: 100%|█████| 391/391 [00:08<00:00, 44.34it/s]\n"
     ]
    },
    {
     "name": "stdout",
     "output_type": "stream",
     "text": [
      "Train Loss: 0.3518 | Train Acc: 87.84%\n",
      "Test  Loss: 0.2501 | Test Acc: 91.84%\n",
      "--------------------------------------------------\n",
      "[Epoch 117/164] :\n"
     ]
    },
    {
     "name": "stderr",
     "output_type": "stream",
     "text": [
      "117 Train: 100%|█████| 391/391 [00:09<00:00, 43.41it/s]\n"
     ]
    },
    {
     "name": "stdout",
     "output_type": "stream",
     "text": [
      "Train Loss: 0.3548 | Train Acc: 87.55%\n",
      "Test  Loss: 0.2569 | Test Acc: 91.54%\n",
      "--------------------------------------------------\n",
      "[Epoch 118/164] :\n"
     ]
    },
    {
     "name": "stderr",
     "output_type": "stream",
     "text": [
      "118 Train: 100%|█████| 391/391 [00:10<00:00, 36.71it/s]\n"
     ]
    },
    {
     "name": "stdout",
     "output_type": "stream",
     "text": [
      "Train Loss: 0.3510 | Train Acc: 87.81%\n",
      "Test  Loss: 0.2558 | Test Acc: 91.51%\n",
      "--------------------------------------------------\n",
      "[Epoch 119/164] :\n"
     ]
    },
    {
     "name": "stderr",
     "output_type": "stream",
     "text": [
      "119 Train: 100%|█████| 391/391 [00:13<00:00, 29.56it/s]\n"
     ]
    },
    {
     "name": "stdout",
     "output_type": "stream",
     "text": [
      "Train Loss: 0.3530 | Train Acc: 87.74%\n",
      "Test  Loss: 0.2505 | Test Acc: 91.55%\n",
      "--------------------------------------------------\n",
      "[Epoch 120/164] :\n"
     ]
    },
    {
     "name": "stderr",
     "output_type": "stream",
     "text": [
      "120 Train: 100%|█████| 391/391 [00:12<00:00, 30.42it/s]\n"
     ]
    },
    {
     "name": "stdout",
     "output_type": "stream",
     "text": [
      "Train Loss: 0.3564 | Train Acc: 87.52%\n",
      "Test  Loss: 0.2482 | Test Acc: 91.88%\n",
      "--------------------------------------------------\n",
      "[Epoch 121/164] :\n"
     ]
    },
    {
     "name": "stderr",
     "output_type": "stream",
     "text": [
      "121 Train: 100%|█████| 391/391 [00:12<00:00, 30.21it/s]\n"
     ]
    },
    {
     "name": "stdout",
     "output_type": "stream",
     "text": [
      "Train Loss: 0.3497 | Train Acc: 87.76%\n",
      "Test  Loss: 0.2680 | Test Acc: 91.43%\n",
      "--------------------------------------------------\n",
      "[Epoch 122/164] :\n"
     ]
    },
    {
     "name": "stderr",
     "output_type": "stream",
     "text": [
      "122 Train: 100%|█████| 391/391 [00:12<00:00, 31.42it/s]\n"
     ]
    },
    {
     "name": "stdout",
     "output_type": "stream",
     "text": [
      "Train Loss: 0.3515 | Train Acc: 87.66%\n",
      "Test  Loss: 0.2559 | Test Acc: 91.57%\n",
      "--------------------------------------------------\n",
      "[Epoch 123/164] :\n"
     ]
    },
    {
     "name": "stderr",
     "output_type": "stream",
     "text": [
      "123 Train: 100%|█████| 391/391 [00:12<00:00, 30.96it/s]\n"
     ]
    },
    {
     "name": "stdout",
     "output_type": "stream",
     "text": [
      "Train Loss: 0.3488 | Train Acc: 87.84%\n",
      "Test  Loss: 0.2610 | Test Acc: 91.52%\n",
      "Learning Rate has changed : Now is 0.0010000000000000002\n",
      "--------------------------------------------------\n",
      "[Epoch 124/164] :\n"
     ]
    },
    {
     "name": "stderr",
     "output_type": "stream",
     "text": [
      "124 Train: 100%|█████| 391/391 [00:13<00:00, 29.85it/s]\n"
     ]
    },
    {
     "name": "stdout",
     "output_type": "stream",
     "text": [
      "Train Loss: 0.3403 | Train Acc: 88.07%\n",
      "Test  Loss: 0.2388 | Test Acc: 92.13%\n",
      "updated best eval loss : 0.23878883419534827\n",
      "--------------------------------------------------\n",
      "[Epoch 125/164] :\n"
     ]
    },
    {
     "name": "stderr",
     "output_type": "stream",
     "text": [
      "125 Train: 100%|█████| 391/391 [00:12<00:00, 31.89it/s]\n"
     ]
    },
    {
     "name": "stdout",
     "output_type": "stream",
     "text": [
      "Train Loss: 0.3237 | Train Acc: 88.57%\n",
      "Test  Loss: 0.2413 | Test Acc: 92.17%\n",
      "--------------------------------------------------\n",
      "[Epoch 126/164] :\n"
     ]
    },
    {
     "name": "stderr",
     "output_type": "stream",
     "text": [
      "126 Train: 100%|█████| 391/391 [00:13<00:00, 29.36it/s]\n"
     ]
    },
    {
     "name": "stdout",
     "output_type": "stream",
     "text": [
      "Train Loss: 0.3280 | Train Acc: 88.37%\n",
      "Test  Loss: 0.2371 | Test Acc: 92.27%\n",
      "updated best eval loss : 0.23710595184489142\n",
      "--------------------------------------------------\n",
      "[Epoch 127/164] :\n"
     ]
    },
    {
     "name": "stderr",
     "output_type": "stream",
     "text": [
      "127 Train: 100%|█████| 391/391 [00:12<00:00, 30.11it/s]\n"
     ]
    },
    {
     "name": "stdout",
     "output_type": "stream",
     "text": [
      "Train Loss: 0.3297 | Train Acc: 88.47%\n",
      "Test  Loss: 0.2390 | Test Acc: 92.24%\n",
      "--------------------------------------------------\n",
      "[Epoch 128/164] :\n"
     ]
    },
    {
     "name": "stderr",
     "output_type": "stream",
     "text": [
      "128 Train: 100%|█████| 391/391 [00:13<00:00, 29.91it/s]\n"
     ]
    },
    {
     "name": "stdout",
     "output_type": "stream",
     "text": [
      "Train Loss: 0.3235 | Train Acc: 88.71%\n",
      "Test  Loss: 0.2361 | Test Acc: 92.15%\n",
      "updated best eval loss : 0.23608735038698475\n",
      "--------------------------------------------------\n",
      "[Epoch 129/164] :\n"
     ]
    },
    {
     "name": "stderr",
     "output_type": "stream",
     "text": [
      "129 Train: 100%|█████| 391/391 [00:12<00:00, 31.31it/s]\n"
     ]
    },
    {
     "name": "stdout",
     "output_type": "stream",
     "text": [
      "Train Loss: 0.3243 | Train Acc: 88.57%\n",
      "Test  Loss: 0.2438 | Test Acc: 92.29%\n",
      "--------------------------------------------------\n",
      "[Epoch 130/164] :\n"
     ]
    },
    {
     "name": "stderr",
     "output_type": "stream",
     "text": [
      "130 Train: 100%|█████| 391/391 [00:12<00:00, 30.50it/s]\n"
     ]
    },
    {
     "name": "stdout",
     "output_type": "stream",
     "text": [
      "Train Loss: 0.3183 | Train Acc: 88.81%\n",
      "Test  Loss: 0.2404 | Test Acc: 92.08%\n",
      "--------------------------------------------------\n",
      "[Epoch 131/164] :\n"
     ]
    },
    {
     "name": "stderr",
     "output_type": "stream",
     "text": [
      "131 Train: 100%|█████| 391/391 [00:13<00:00, 29.33it/s]\n"
     ]
    },
    {
     "name": "stdout",
     "output_type": "stream",
     "text": [
      "Train Loss: 0.3164 | Train Acc: 88.83%\n",
      "Test  Loss: 0.2419 | Test Acc: 92.14%\n",
      "--------------------------------------------------\n",
      "[Epoch 132/164] :\n"
     ]
    },
    {
     "name": "stderr",
     "output_type": "stream",
     "text": [
      "132 Train: 100%|█████| 391/391 [00:13<00:00, 29.83it/s]\n"
     ]
    },
    {
     "name": "stdout",
     "output_type": "stream",
     "text": [
      "Train Loss: 0.3221 | Train Acc: 88.60%\n",
      "Test  Loss: 0.2389 | Test Acc: 92.21%\n",
      "--------------------------------------------------\n",
      "[Epoch 133/164] :\n"
     ]
    },
    {
     "name": "stderr",
     "output_type": "stream",
     "text": [
      "133 Train: 100%|█████| 391/391 [00:13<00:00, 30.07it/s]\n"
     ]
    },
    {
     "name": "stdout",
     "output_type": "stream",
     "text": [
      "Train Loss: 0.3162 | Train Acc: 88.86%\n",
      "Test  Loss: 0.2377 | Test Acc: 92.19%\n",
      "--------------------------------------------------\n",
      "[Epoch 134/164] :\n"
     ]
    },
    {
     "name": "stderr",
     "output_type": "stream",
     "text": [
      "134 Train: 100%|█████| 391/391 [00:13<00:00, 28.96it/s]\n"
     ]
    },
    {
     "name": "stdout",
     "output_type": "stream",
     "text": [
      "Train Loss: 0.3207 | Train Acc: 88.72%\n",
      "Test  Loss: 0.2390 | Test Acc: 92.24%\n",
      "--------------------------------------------------\n",
      "[Epoch 135/164] :\n"
     ]
    },
    {
     "name": "stderr",
     "output_type": "stream",
     "text": [
      "135 Train: 100%|█████| 391/391 [00:13<00:00, 29.52it/s]\n"
     ]
    },
    {
     "name": "stdout",
     "output_type": "stream",
     "text": [
      "Train Loss: 0.3215 | Train Acc: 88.68%\n",
      "Test  Loss: 0.2439 | Test Acc: 92.16%\n",
      "--------------------------------------------------\n",
      "[Epoch 136/164] :\n"
     ]
    },
    {
     "name": "stderr",
     "output_type": "stream",
     "text": [
      "136 Train: 100%|█████| 391/391 [00:12<00:00, 31.18it/s]\n"
     ]
    },
    {
     "name": "stdout",
     "output_type": "stream",
     "text": [
      "Train Loss: 0.3189 | Train Acc: 88.86%\n",
      "Test  Loss: 0.2467 | Test Acc: 92.27%\n",
      "--------------------------------------------------\n",
      "[Epoch 137/164] :\n"
     ]
    },
    {
     "name": "stderr",
     "output_type": "stream",
     "text": [
      "137 Train: 100%|█████| 391/391 [00:12<00:00, 31.27it/s]\n"
     ]
    },
    {
     "name": "stdout",
     "output_type": "stream",
     "text": [
      "Train Loss: 0.3173 | Train Acc: 88.86%\n",
      "Test  Loss: 0.2389 | Test Acc: 92.11%\n",
      "--------------------------------------------------\n",
      "[Epoch 138/164] :\n"
     ]
    },
    {
     "name": "stderr",
     "output_type": "stream",
     "text": [
      "138 Train: 100%|█████| 391/391 [00:12<00:00, 30.36it/s]\n"
     ]
    },
    {
     "name": "stdout",
     "output_type": "stream",
     "text": [
      "Train Loss: 0.3125 | Train Acc: 88.99%\n",
      "Test  Loss: 0.2368 | Test Acc: 92.26%\n",
      "--------------------------------------------------\n",
      "[Epoch 139/164] :\n"
     ]
    },
    {
     "name": "stderr",
     "output_type": "stream",
     "text": [
      "139 Train: 100%|█████| 391/391 [00:12<00:00, 30.49it/s]\n"
     ]
    },
    {
     "name": "stdout",
     "output_type": "stream",
     "text": [
      "Train Loss: 0.3156 | Train Acc: 88.96%\n",
      "Test  Loss: 0.2388 | Test Acc: 92.20%\n",
      "--------------------------------------------------\n",
      "[Epoch 140/164] :\n"
     ]
    },
    {
     "name": "stderr",
     "output_type": "stream",
     "text": [
      "140 Train: 100%|█████| 391/391 [00:12<00:00, 30.92it/s]\n"
     ]
    },
    {
     "name": "stdout",
     "output_type": "stream",
     "text": [
      "Train Loss: 0.3110 | Train Acc: 89.08%\n",
      "Test  Loss: 0.2376 | Test Acc: 92.14%\n",
      "--------------------------------------------------\n",
      "[Epoch 141/164] :\n"
     ]
    },
    {
     "name": "stderr",
     "output_type": "stream",
     "text": [
      "141 Train: 100%|█████| 391/391 [00:12<00:00, 30.46it/s]\n"
     ]
    },
    {
     "name": "stdout",
     "output_type": "stream",
     "text": [
      "Train Loss: 0.3151 | Train Acc: 88.99%\n",
      "Test  Loss: 0.2376 | Test Acc: 92.37%\n",
      "--------------------------------------------------\n",
      "[Epoch 142/164] :\n"
     ]
    },
    {
     "name": "stderr",
     "output_type": "stream",
     "text": [
      "142 Train: 100%|█████| 391/391 [00:13<00:00, 28.52it/s]\n"
     ]
    },
    {
     "name": "stdout",
     "output_type": "stream",
     "text": [
      "Train Loss: 0.3168 | Train Acc: 88.89%\n",
      "Test  Loss: 0.2403 | Test Acc: 92.19%\n",
      "--------------------------------------------------\n",
      "[Epoch 143/164] :\n"
     ]
    },
    {
     "name": "stderr",
     "output_type": "stream",
     "text": [
      "143 Train: 100%|█████| 391/391 [00:12<00:00, 31.07it/s]\n"
     ]
    },
    {
     "name": "stdout",
     "output_type": "stream",
     "text": [
      "Train Loss: 0.3116 | Train Acc: 89.09%\n",
      "Test  Loss: 0.2353 | Test Acc: 92.37%\n",
      "updated best eval loss : 0.23532091939373861\n",
      "--------------------------------------------------\n",
      "[Epoch 144/164] :\n"
     ]
    },
    {
     "name": "stderr",
     "output_type": "stream",
     "text": [
      "144 Train: 100%|█████| 391/391 [00:12<00:00, 30.33it/s]\n"
     ]
    },
    {
     "name": "stdout",
     "output_type": "stream",
     "text": [
      "Train Loss: 0.3143 | Train Acc: 88.98%\n",
      "Test  Loss: 0.2417 | Test Acc: 92.06%\n",
      "--------------------------------------------------\n",
      "[Epoch 145/164] :\n"
     ]
    },
    {
     "name": "stderr",
     "output_type": "stream",
     "text": [
      "145 Train: 100%|█████| 391/391 [00:12<00:00, 30.79it/s]\n"
     ]
    },
    {
     "name": "stdout",
     "output_type": "stream",
     "text": [
      "Train Loss: 0.3138 | Train Acc: 89.04%\n",
      "Test  Loss: 0.2398 | Test Acc: 92.17%\n",
      "--------------------------------------------------\n",
      "[Epoch 146/164] :\n"
     ]
    },
    {
     "name": "stderr",
     "output_type": "stream",
     "text": [
      "146 Train: 100%|█████| 391/391 [00:13<00:00, 29.83it/s]\n"
     ]
    },
    {
     "name": "stdout",
     "output_type": "stream",
     "text": [
      "Train Loss: 0.3120 | Train Acc: 89.13%\n",
      "Test  Loss: 0.2412 | Test Acc: 92.26%\n",
      "--------------------------------------------------\n",
      "[Epoch 147/164] :\n"
     ]
    },
    {
     "name": "stderr",
     "output_type": "stream",
     "text": [
      "147 Train: 100%|█████| 391/391 [00:12<00:00, 30.42it/s]\n"
     ]
    },
    {
     "name": "stdout",
     "output_type": "stream",
     "text": [
      "Train Loss: 0.3163 | Train Acc: 88.89%\n",
      "Test  Loss: 0.2401 | Test Acc: 92.17%\n",
      "--------------------------------------------------\n",
      "[Epoch 148/164] :\n"
     ]
    },
    {
     "name": "stderr",
     "output_type": "stream",
     "text": [
      "148 Train: 100%|█████| 391/391 [00:13<00:00, 29.06it/s]\n"
     ]
    },
    {
     "name": "stdout",
     "output_type": "stream",
     "text": [
      "Train Loss: 0.3137 | Train Acc: 88.98%\n",
      "Test  Loss: 0.2568 | Test Acc: 92.31%\n",
      "--------------------------------------------------\n",
      "[Epoch 149/164] :\n"
     ]
    },
    {
     "name": "stderr",
     "output_type": "stream",
     "text": [
      "149 Train: 100%|█████| 391/391 [00:12<00:00, 30.25it/s]\n"
     ]
    },
    {
     "name": "stdout",
     "output_type": "stream",
     "text": [
      "Train Loss: 0.3138 | Train Acc: 89.15%\n",
      "Test  Loss: 0.2365 | Test Acc: 92.31%\n",
      "--------------------------------------------------\n",
      "[Epoch 150/164] :\n"
     ]
    },
    {
     "name": "stderr",
     "output_type": "stream",
     "text": [
      "150 Train: 100%|█████| 391/391 [00:12<00:00, 30.75it/s]\n"
     ]
    },
    {
     "name": "stdout",
     "output_type": "stream",
     "text": [
      "Train Loss: 0.3180 | Train Acc: 88.88%\n",
      "Test  Loss: 0.2414 | Test Acc: 92.26%\n",
      "--------------------------------------------------\n",
      "[Epoch 151/164] :\n"
     ]
    },
    {
     "name": "stderr",
     "output_type": "stream",
     "text": [
      "151 Train: 100%|█████| 391/391 [00:12<00:00, 31.10it/s]\n"
     ]
    },
    {
     "name": "stdout",
     "output_type": "stream",
     "text": [
      "Train Loss: 0.3099 | Train Acc: 89.19%\n",
      "Test  Loss: 0.2422 | Test Acc: 92.14%\n",
      "--------------------------------------------------\n",
      "[Epoch 152/164] :\n"
     ]
    },
    {
     "name": "stderr",
     "output_type": "stream",
     "text": [
      "152 Train: 100%|█████| 391/391 [00:12<00:00, 31.95it/s]\n"
     ]
    },
    {
     "name": "stdout",
     "output_type": "stream",
     "text": [
      "Train Loss: 0.3078 | Train Acc: 89.11%\n",
      "Test  Loss: 0.2414 | Test Acc: 92.28%\n",
      "--------------------------------------------------\n",
      "[Epoch 153/164] :\n"
     ]
    },
    {
     "name": "stderr",
     "output_type": "stream",
     "text": [
      "153 Train: 100%|█████| 391/391 [00:10<00:00, 38.94it/s]\n"
     ]
    },
    {
     "name": "stdout",
     "output_type": "stream",
     "text": [
      "Train Loss: 0.3089 | Train Acc: 89.17%\n",
      "Test  Loss: 0.2389 | Test Acc: 92.30%\n",
      "--------------------------------------------------\n",
      "[Epoch 154/164] :\n"
     ]
    },
    {
     "name": "stderr",
     "output_type": "stream",
     "text": [
      "154 Train: 100%|█████| 391/391 [00:08<00:00, 44.52it/s]\n"
     ]
    },
    {
     "name": "stdout",
     "output_type": "stream",
     "text": [
      "Train Loss: 0.3152 | Train Acc: 88.88%\n",
      "Test  Loss: 0.2430 | Test Acc: 92.23%\n",
      "--------------------------------------------------\n",
      "[Epoch 155/164] :\n"
     ]
    },
    {
     "name": "stderr",
     "output_type": "stream",
     "text": [
      "155 Train: 100%|█████| 391/391 [00:09<00:00, 42.98it/s]\n"
     ]
    },
    {
     "name": "stdout",
     "output_type": "stream",
     "text": [
      "Train Loss: 0.3119 | Train Acc: 89.24%\n",
      "Test  Loss: 0.2379 | Test Acc: 92.35%\n",
      "--------------------------------------------------\n",
      "[Epoch 156/164] :\n"
     ]
    },
    {
     "name": "stderr",
     "output_type": "stream",
     "text": [
      "156 Train: 100%|█████| 391/391 [00:08<00:00, 44.14it/s]\n"
     ]
    },
    {
     "name": "stdout",
     "output_type": "stream",
     "text": [
      "Train Loss: 0.3133 | Train Acc: 89.01%\n",
      "Test  Loss: 0.2379 | Test Acc: 92.30%\n",
      "--------------------------------------------------\n",
      "[Epoch 157/164] :\n"
     ]
    },
    {
     "name": "stderr",
     "output_type": "stream",
     "text": [
      "157 Train: 100%|█████| 391/391 [00:08<00:00, 44.10it/s]\n"
     ]
    },
    {
     "name": "stdout",
     "output_type": "stream",
     "text": [
      "Train Loss: 0.3092 | Train Acc: 89.18%\n",
      "Test  Loss: 0.2375 | Test Acc: 92.33%\n",
      "--------------------------------------------------\n",
      "[Epoch 158/164] :\n"
     ]
    },
    {
     "name": "stderr",
     "output_type": "stream",
     "text": [
      "158 Train: 100%|█████| 391/391 [00:08<00:00, 44.34it/s]\n"
     ]
    },
    {
     "name": "stdout",
     "output_type": "stream",
     "text": [
      "Train Loss: 0.3110 | Train Acc: 89.13%\n",
      "Test  Loss: 0.2370 | Test Acc: 92.34%\n",
      "--------------------------------------------------\n",
      "[Epoch 159/164] :\n"
     ]
    },
    {
     "name": "stderr",
     "output_type": "stream",
     "text": [
      "159 Train: 100%|█████| 391/391 [00:10<00:00, 37.78it/s]\n"
     ]
    },
    {
     "name": "stdout",
     "output_type": "stream",
     "text": [
      "Train Loss: 0.3105 | Train Acc: 89.31%\n",
      "Test  Loss: 0.2394 | Test Acc: 92.20%\n",
      "--------------------------------------------------\n",
      "[Epoch 160/164] :\n"
     ]
    },
    {
     "name": "stderr",
     "output_type": "stream",
     "text": [
      "160 Train: 100%|█████| 391/391 [00:11<00:00, 32.65it/s]\n"
     ]
    },
    {
     "name": "stdout",
     "output_type": "stream",
     "text": [
      "Train Loss: 0.3080 | Train Acc: 89.14%\n",
      "Test  Loss: 0.2444 | Test Acc: 92.19%\n",
      "--------------------------------------------------\n",
      "[Epoch 161/164] :\n"
     ]
    },
    {
     "name": "stderr",
     "output_type": "stream",
     "text": [
      "161 Train: 100%|█████| 391/391 [00:12<00:00, 31.71it/s]\n"
     ]
    },
    {
     "name": "stdout",
     "output_type": "stream",
     "text": [
      "Train Loss: 0.3128 | Train Acc: 89.04%\n",
      "Test  Loss: 0.2402 | Test Acc: 92.28%\n",
      "--------------------------------------------------\n",
      "[Epoch 162/164] :\n"
     ]
    },
    {
     "name": "stderr",
     "output_type": "stream",
     "text": [
      "162 Train: 100%|█████| 391/391 [00:12<00:00, 30.96it/s]\n"
     ]
    },
    {
     "name": "stdout",
     "output_type": "stream",
     "text": [
      "Train Loss: 0.3099 | Train Acc: 89.15%\n",
      "Test  Loss: 0.2403 | Test Acc: 92.25%\n",
      "--------------------------------------------------\n",
      "[Epoch 163/164] :\n"
     ]
    },
    {
     "name": "stderr",
     "output_type": "stream",
     "text": [
      "163 Train: 100%|█████| 391/391 [00:12<00:00, 30.99it/s]\n"
     ]
    },
    {
     "name": "stdout",
     "output_type": "stream",
     "text": [
      "Train Loss: 0.3099 | Train Acc: 89.19%\n",
      "Test  Loss: 0.2416 | Test Acc: 92.28%\n",
      "--------------------------------------------------\n",
      "[Epoch 164/164] :\n"
     ]
    },
    {
     "name": "stderr",
     "output_type": "stream",
     "text": [
      "164 Train: 100%|█████| 391/391 [00:12<00:00, 31.85it/s]\n"
     ]
    },
    {
     "name": "stdout",
     "output_type": "stream",
     "text": [
      "Train Loss: 0.3106 | Train Acc: 89.08%\n",
      "Test  Loss: 0.2392 | Test Acc: 92.20%\n",
      "--------------------------------------------------\n"
     ]
    }
   ],
   "source": [
    "Training = DoTraining(\n",
    "    model=model,\n",
    "    criterion=criterion,\n",
    "    optimizer=optimizer,\n",
    "    scaler=scaler,\n",
    "    scheduler=scheduler,\n",
    "    earlystopper=earlystopper,\n",
    "    device=device,\n",
    "    logs=logs,\n",
    "    file_path=file_name,\n",
    ")\n",
    "pre_epochs = len(Training.logs[\"train_loss\"])\n",
    "\n",
    "\n",
    "for epoch in range(NUM_EPOCHS):\n",
    "    now = epoch + 1 + pre_epochs\n",
    "    print(f\"[Epoch {epoch+1+pre_epochs}/{NUM_EPOCHS}] :\")\n",
    "\n",
    "    if DATASET == \"ImageNet2012\":\n",
    "        eval_loss = Training.SingleEpoch(train_dataloader, valid_dataloader)\n",
    "    else:\n",
    "        eval_loss = Training.SingleEpoch(\n",
    "            train_dataloader, valid_dataloader, test_dataloader\n",
    "        )\n",
    "\n",
    "    Training.Save()\n",
    "\n",
    "    \n",
    "    \n",
    "    if earlystopper.check(eval_loss) == True:\n",
    "        break\n",
    "\n",
    "    print(\"-\" * 50)"
   ]
  },
  {
   "cell_type": "code",
   "execution_count": 18,
   "metadata": {},
   "outputs": [
    {
     "data": {
      "image/png": "[encoded data removed]",
      "text/plain": [
       "<Figure size 1000x500 with 2 Axes>"
      ]
     },
     "metadata": {},
     "output_type": "display_data"
    }
   ],
   "source": [
    "view = LogViewer(logs)\n",
    "view.draw(title=file_name+\"_Submean->Aug\",min_marker=True, save=True)"
   ]
  },
  {
   "cell_type": "code",
   "execution_count": null,
   "metadata": {},
   "outputs": [
    {
     "name": "stdout",
     "output_type": "stream",
     "text": [
      "1 epoch: train_loss=2.2826, train_acc=0.1693, test_loss=1.9642, test_acc=0.2279, lr=0.1000\n",
      "2 epoch: train_loss=1.9653, train_acc=0.2625, test_loss=1.9019, test_acc=0.2867, lr=0.1000\n",
      "3 epoch: train_loss=1.7514, train_acc=0.3551, test_loss=1.4698, test_acc=0.4636, lr=0.1000\n",
      "4 epoch: train_loss=1.4882, train_acc=0.4621, test_loss=1.1483, test_acc=0.5901, lr=0.1000\n",
      "5 epoch: train_loss=1.2936, train_acc=0.5389, test_loss=1.1093, test_acc=0.6072, lr=0.1000\n",
      "6 epoch: train_loss=1.1643, train_acc=0.5887, test_loss=0.9847, test_acc=0.6548, lr=0.1000\n",
      "7 epoch: train_loss=1.0845, train_acc=0.6166, test_loss=0.8402, test_acc=0.7125, lr=0.1000\n",
      "8 epoch: train_loss=1.0271, train_acc=0.6404, test_loss=0.8961, test_acc=0.7092, lr=0.1000\n",
      "9 epoch: train_loss=0.9825, train_acc=0.6548, test_loss=0.7799, test_acc=0.7278, lr=0.1000\n",
      "10 epoch: train_loss=0.9492, train_acc=0.6685, test_loss=0.8685, test_acc=0.7068, lr=0.1000\n",
      "11 epoch: train_loss=0.9233, train_acc=0.6773, test_loss=0.7309, test_acc=0.7545, lr=0.1000\n",
      "12 epoch: train_loss=0.8965, train_acc=0.6872, test_loss=0.6639, test_acc=0.7766, lr=0.1000\n",
      "13 epoch: train_loss=0.8677, train_acc=0.6976, test_loss=0.6075, test_acc=0.7944, lr=0.1000\n",
      "14 epoch: train_loss=0.8508, train_acc=0.7028, test_loss=0.6334, test_acc=0.7803, lr=0.1000\n",
      "15 epoch: train_loss=0.8305, train_acc=0.7083, test_loss=0.6206, test_acc=0.7852, lr=0.1000\n",
      "16 epoch: train_loss=0.8126, train_acc=0.7153, test_loss=0.7391, test_acc=0.7476, lr=0.1000\n",
      "17 epoch: train_loss=0.8005, train_acc=0.7186, test_loss=0.5664, test_acc=0.8120, lr=0.1000\n",
      "18 epoch: train_loss=0.7911, train_acc=0.7259, test_loss=0.5268, test_acc=0.8195, lr=0.1000\n",
      "19 epoch: train_loss=0.7751, train_acc=0.7298, test_loss=0.6561, test_acc=0.7799, lr=0.1000\n",
      "20 epoch: train_loss=0.7673, train_acc=0.7334, test_loss=0.5618, test_acc=0.8091, lr=0.1000\n",
      "21 epoch: train_loss=0.7596, train_acc=0.7345, test_loss=0.6961, test_acc=0.7669, lr=0.1000\n",
      "22 epoch: train_loss=0.7487, train_acc=0.7387, test_loss=0.6088, test_acc=0.7947, lr=0.1000\n",
      "23 epoch: train_loss=0.7377, train_acc=0.7428, test_loss=0.6323, test_acc=0.7998, lr=0.1000\n",
      "24 epoch: train_loss=0.7355, train_acc=0.7415, test_loss=0.6152, test_acc=0.7931, lr=0.1000\n",
      "25 epoch: train_loss=0.7245, train_acc=0.7464, test_loss=0.6310, test_acc=0.7880, lr=0.1000\n",
      "26 epoch: train_loss=0.7188, train_acc=0.7479, test_loss=0.5372, test_acc=0.8156, lr=0.1000\n",
      "27 epoch: train_loss=0.7153, train_acc=0.7515, test_loss=0.6560, test_acc=0.7815, lr=0.1000\n",
      "28 epoch: train_loss=0.7146, train_acc=0.7526, test_loss=0.5985, test_acc=0.7948, lr=0.1000\n",
      "29 epoch: train_loss=0.6970, train_acc=0.7547, test_loss=0.5452, test_acc=0.8115, lr=0.1000\n",
      "30 epoch: train_loss=0.6953, train_acc=0.7547, test_loss=0.4721, test_acc=0.8355, lr=0.1000\n",
      "31 epoch: train_loss=0.6889, train_acc=0.7594, test_loss=0.5372, test_acc=0.8174, lr=0.1000\n",
      "32 epoch: train_loss=0.6828, train_acc=0.7611, test_loss=0.4877, test_acc=0.8304, lr=0.1000\n",
      "33 epoch: train_loss=0.6837, train_acc=0.7612, test_loss=0.5433, test_acc=0.8186, lr=0.1000\n",
      "34 epoch: train_loss=0.6747, train_acc=0.7646, test_loss=0.4835, test_acc=0.8334, lr=0.1000\n",
      "35 epoch: train_loss=0.6723, train_acc=0.7649, test_loss=0.4852, test_acc=0.8323, lr=0.1000\n",
      "36 epoch: train_loss=0.6673, train_acc=0.7679, test_loss=0.5138, test_acc=0.8235, lr=0.1000\n",
      "37 epoch: train_loss=0.6662, train_acc=0.7672, test_loss=0.5414, test_acc=0.8178, lr=0.1000\n",
      "38 epoch: train_loss=0.6573, train_acc=0.7703, test_loss=0.4540, test_acc=0.8462, lr=0.1000\n",
      "39 epoch: train_loss=0.6648, train_acc=0.7693, test_loss=0.5304, test_acc=0.8254, lr=0.1000\n",
      "40 epoch: train_loss=0.6471, train_acc=0.7744, test_loss=0.4600, test_acc=0.8443, lr=0.1000\n",
      "41 epoch: train_loss=0.6498, train_acc=0.7738, test_loss=0.4705, test_acc=0.8419, lr=0.1000\n",
      "42 epoch: train_loss=0.6452, train_acc=0.7754, test_loss=0.4849, test_acc=0.8375, lr=0.1000\n",
      "43 epoch: train_loss=0.6407, train_acc=0.7769, test_loss=0.5736, test_acc=0.8092, lr=0.1000\n",
      "44 epoch: train_loss=0.6371, train_acc=0.7783, test_loss=0.4915, test_acc=0.8354, lr=0.1000\n",
      "45 epoch: train_loss=0.6343, train_acc=0.7801, test_loss=0.4646, test_acc=0.8387, lr=0.1000\n",
      "46 epoch: train_loss=0.6380, train_acc=0.7786, test_loss=0.4828, test_acc=0.8322, lr=0.1000\n",
      "47 epoch: train_loss=0.6361, train_acc=0.7789, test_loss=0.4436, test_acc=0.8500, lr=0.1000\n",
      "48 epoch: train_loss=0.6258, train_acc=0.7809, test_loss=0.5080, test_acc=0.8302, lr=0.1000\n",
      "49 epoch: train_loss=0.6255, train_acc=0.7815, test_loss=0.4258, test_acc=0.8556, lr=0.1000\n",
      "50 epoch: train_loss=0.6328, train_acc=0.7790, test_loss=0.4546, test_acc=0.8467, lr=0.1000\n",
      "51 epoch: train_loss=0.6257, train_acc=0.7837, test_loss=0.8336, test_acc=0.7416, lr=0.1000\n",
      "52 epoch: train_loss=0.6160, train_acc=0.7862, test_loss=0.4323, test_acc=0.8506, lr=0.1000\n",
      "53 epoch: train_loss=0.6099, train_acc=0.7865, test_loss=0.4368, test_acc=0.8506, lr=0.1000\n",
      "54 epoch: train_loss=0.6121, train_acc=0.7860, test_loss=0.4045, test_acc=0.8658, lr=0.1000\n",
      "55 epoch: train_loss=0.6046, train_acc=0.7881, test_loss=0.4460, test_acc=0.8516, lr=0.1000\n",
      "56 epoch: train_loss=0.6114, train_acc=0.7872, test_loss=0.4708, test_acc=0.8418, lr=0.1000\n",
      "57 epoch: train_loss=0.6047, train_acc=0.7892, test_loss=0.5199, test_acc=0.8252, lr=0.1000\n",
      "58 epoch: train_loss=0.6060, train_acc=0.7882, test_loss=0.4452, test_acc=0.8535, lr=0.1000\n",
      "59 epoch: train_loss=0.6002, train_acc=0.7902, test_loss=0.4702, test_acc=0.8383, lr=0.1000\n",
      "60 epoch: train_loss=0.6053, train_acc=0.7886, test_loss=0.4801, test_acc=0.8408, lr=0.1000\n",
      "61 epoch: train_loss=0.5938, train_acc=0.7947, test_loss=0.4306, test_acc=0.8543, lr=0.1000\n",
      "62 epoch: train_loss=0.6030, train_acc=0.7892, test_loss=0.3829, test_acc=0.8619, lr=0.1000\n",
      "63 epoch: train_loss=0.5991, train_acc=0.7921, test_loss=0.4103, test_acc=0.8564, lr=0.1000\n",
      "64 epoch: train_loss=0.5979, train_acc=0.7918, test_loss=0.4128, test_acc=0.8607, lr=0.1000\n",
      "65 epoch: train_loss=0.5898, train_acc=0.7941, test_loss=0.4523, test_acc=0.8481, lr=0.1000\n",
      "66 epoch: train_loss=0.5925, train_acc=0.7924, test_loss=0.4351, test_acc=0.8500, lr=0.1000\n",
      "67 epoch: train_loss=0.5893, train_acc=0.7932, test_loss=0.4346, test_acc=0.8474, lr=0.1000\n",
      "68 epoch: train_loss=0.5875, train_acc=0.7938, test_loss=0.3759, test_acc=0.8710, lr=0.1000\n",
      "69 epoch: train_loss=0.5937, train_acc=0.7939, test_loss=0.4214, test_acc=0.8554, lr=0.1000\n",
      "70 epoch: train_loss=0.5833, train_acc=0.7961, test_loss=0.4256, test_acc=0.8567, lr=0.1000\n",
      "71 epoch: train_loss=0.5881, train_acc=0.7946, test_loss=0.4451, test_acc=0.8515, lr=0.1000\n",
      "72 epoch: train_loss=0.5759, train_acc=0.7973, test_loss=0.4167, test_acc=0.8573, lr=0.1000\n",
      "73 epoch: train_loss=0.5838, train_acc=0.7963, test_loss=0.5593, test_acc=0.8154, lr=0.1000\n",
      "74 epoch: train_loss=0.5841, train_acc=0.7950, test_loss=0.4218, test_acc=0.8613, lr=0.1000\n",
      "75 epoch: train_loss=0.5824, train_acc=0.7946, test_loss=0.3592, test_acc=0.8766, lr=0.1000\n",
      "76 epoch: train_loss=0.5757, train_acc=0.8004, test_loss=0.5193, test_acc=0.8319, lr=0.1000\n",
      "77 epoch: train_loss=0.5776, train_acc=0.7997, test_loss=0.5562, test_acc=0.8179, lr=0.1000\n",
      "78 epoch: train_loss=0.5784, train_acc=0.7973, test_loss=0.5174, test_acc=0.8279, lr=0.1000\n",
      "79 epoch: train_loss=0.5728, train_acc=0.8001, test_loss=0.3945, test_acc=0.8632, lr=0.1000\n",
      "80 epoch: train_loss=0.5743, train_acc=0.7992, test_loss=0.3607, test_acc=0.8734, lr=0.1000\n",
      "81 epoch: train_loss=0.5690, train_acc=0.8013, test_loss=0.4873, test_acc=0.8447, lr=0.1000\n",
      "82 epoch: train_loss=0.5718, train_acc=0.8006, test_loss=0.4064, test_acc=0.8635, lr=0.1000\n",
      "83 epoch: train_loss=0.4703, train_acc=0.8363, test_loss=0.2777, test_acc=0.9048, lr=0.0100\n",
      "84 epoch: train_loss=0.4349, train_acc=0.8477, test_loss=0.2750, test_acc=0.9035, lr=0.0100\n",
      "85 epoch: train_loss=0.4246, train_acc=0.8497, test_loss=0.2676, test_acc=0.9076, lr=0.0100\n",
      "86 epoch: train_loss=0.4146, train_acc=0.8563, test_loss=0.2650, test_acc=0.9093, lr=0.0100\n",
      "87 epoch: train_loss=0.4119, train_acc=0.8574, test_loss=0.2653, test_acc=0.9108, lr=0.0100\n",
      "88 epoch: train_loss=0.4068, train_acc=0.8574, test_loss=0.2629, test_acc=0.9105, lr=0.0100\n",
      "89 epoch: train_loss=0.3988, train_acc=0.8592, test_loss=0.2599, test_acc=0.9112, lr=0.0100\n",
      "90 epoch: train_loss=0.3983, train_acc=0.8604, test_loss=0.2601, test_acc=0.9128, lr=0.0100\n",
      "91 epoch: train_loss=0.3960, train_acc=0.8621, test_loss=0.2648, test_acc=0.9137, lr=0.0100\n",
      "92 epoch: train_loss=0.3917, train_acc=0.8628, test_loss=0.2525, test_acc=0.9146, lr=0.0100\n",
      "93 epoch: train_loss=0.3920, train_acc=0.8633, test_loss=0.2490, test_acc=0.9143, lr=0.0100\n",
      "94 epoch: train_loss=0.3923, train_acc=0.8614, test_loss=0.2511, test_acc=0.9144, lr=0.0100\n",
      "95 epoch: train_loss=0.3823, train_acc=0.8673, test_loss=0.2606, test_acc=0.9132, lr=0.0100\n",
      "96 epoch: train_loss=0.3881, train_acc=0.8641, test_loss=0.2577, test_acc=0.9130, lr=0.0100\n",
      "97 epoch: train_loss=0.3762, train_acc=0.8680, test_loss=0.2610, test_acc=0.9132, lr=0.0100\n",
      "98 epoch: train_loss=0.3750, train_acc=0.8669, test_loss=0.2585, test_acc=0.9141, lr=0.0100\n",
      "99 epoch: train_loss=0.3763, train_acc=0.8678, test_loss=0.2561, test_acc=0.9172, lr=0.0100\n",
      "100 epoch: train_loss=0.3755, train_acc=0.8691, test_loss=0.2582, test_acc=0.9152, lr=0.0100\n",
      "101 epoch: train_loss=0.3711, train_acc=0.8705, test_loss=0.2582, test_acc=0.9157, lr=0.0100\n",
      "102 epoch: train_loss=0.3693, train_acc=0.8706, test_loss=0.2498, test_acc=0.9181, lr=0.0100\n",
      "103 epoch: train_loss=0.3719, train_acc=0.8700, test_loss=0.2672, test_acc=0.9117, lr=0.0100\n",
      "104 epoch: train_loss=0.3658, train_acc=0.8708, test_loss=0.2529, test_acc=0.9153, lr=0.0100\n",
      "105 epoch: train_loss=0.3665, train_acc=0.8724, test_loss=0.2449, test_acc=0.9177, lr=0.0100\n",
      "106 epoch: train_loss=0.3595, train_acc=0.8736, test_loss=0.2458, test_acc=0.9180, lr=0.0100\n",
      "107 epoch: train_loss=0.3665, train_acc=0.8706, test_loss=0.2508, test_acc=0.9164, lr=0.0100\n",
      "108 epoch: train_loss=0.3581, train_acc=0.8741, test_loss=0.2509, test_acc=0.9153, lr=0.0100\n",
      "109 epoch: train_loss=0.3621, train_acc=0.8738, test_loss=0.2492, test_acc=0.9149, lr=0.0100\n",
      "110 epoch: train_loss=0.3585, train_acc=0.8745, test_loss=0.2539, test_acc=0.9161, lr=0.0100\n",
      "111 epoch: train_loss=0.3635, train_acc=0.8695, test_loss=0.2512, test_acc=0.9163, lr=0.0100\n",
      "112 epoch: train_loss=0.3598, train_acc=0.8744, test_loss=0.2610, test_acc=0.9132, lr=0.0100\n",
      "113 epoch: train_loss=0.3614, train_acc=0.8750, test_loss=0.2604, test_acc=0.9124, lr=0.0100\n",
      "114 epoch: train_loss=0.3598, train_acc=0.8753, test_loss=0.2606, test_acc=0.9131, lr=0.0100\n",
      "115 epoch: train_loss=0.3553, train_acc=0.8749, test_loss=0.2511, test_acc=0.9163, lr=0.0100\n",
      "116 epoch: train_loss=0.3518, train_acc=0.8784, test_loss=0.2501, test_acc=0.9184, lr=0.0100\n",
      "117 epoch: train_loss=0.3548, train_acc=0.8755, test_loss=0.2569, test_acc=0.9154, lr=0.0100\n",
      "118 epoch: train_loss=0.3510, train_acc=0.8781, test_loss=0.2558, test_acc=0.9151, lr=0.0100\n",
      "119 epoch: train_loss=0.3530, train_acc=0.8774, test_loss=0.2505, test_acc=0.9155, lr=0.0100\n",
      "120 epoch: train_loss=0.3564, train_acc=0.8752, test_loss=0.2482, test_acc=0.9188, lr=0.0100\n",
      "121 epoch: train_loss=0.3497, train_acc=0.8776, test_loss=0.2680, test_acc=0.9143, lr=0.0100\n",
      "122 epoch: train_loss=0.3515, train_acc=0.8766, test_loss=0.2559, test_acc=0.9157, lr=0.0100\n",
      "123 epoch: train_loss=0.3488, train_acc=0.8784, test_loss=0.2610, test_acc=0.9152, lr=0.0100\n",
      "124 epoch: train_loss=0.3403, train_acc=0.8807, test_loss=0.2388, test_acc=0.9213, lr=0.0010\n",
      "125 epoch: train_loss=0.3237, train_acc=0.8857, test_loss=0.2413, test_acc=0.9217, lr=0.0010\n",
      "126 epoch: train_loss=0.3280, train_acc=0.8837, test_loss=0.2371, test_acc=0.9227, lr=0.0010\n",
      "127 epoch: train_loss=0.3297, train_acc=0.8847, test_loss=0.2390, test_acc=0.9224, lr=0.0010\n",
      "128 epoch: train_loss=0.3235, train_acc=0.8871, test_loss=0.2361, test_acc=0.9215, lr=0.0010\n",
      "129 epoch: train_loss=0.3243, train_acc=0.8857, test_loss=0.2438, test_acc=0.9229, lr=0.0010\n",
      "130 epoch: train_loss=0.3183, train_acc=0.8881, test_loss=0.2404, test_acc=0.9208, lr=0.0010\n",
      "131 epoch: train_loss=0.3164, train_acc=0.8883, test_loss=0.2419, test_acc=0.9214, lr=0.0010\n",
      "132 epoch: train_loss=0.3221, train_acc=0.8860, test_loss=0.2389, test_acc=0.9221, lr=0.0010\n",
      "133 epoch: train_loss=0.3162, train_acc=0.8886, test_loss=0.2377, test_acc=0.9219, lr=0.0010\n",
      "134 epoch: train_loss=0.3207, train_acc=0.8872, test_loss=0.2390, test_acc=0.9224, lr=0.0010\n",
      "135 epoch: train_loss=0.3215, train_acc=0.8868, test_loss=0.2439, test_acc=0.9216, lr=0.0010\n",
      "136 epoch: train_loss=0.3189, train_acc=0.8886, test_loss=0.2467, test_acc=0.9227, lr=0.0010\n",
      "137 epoch: train_loss=0.3173, train_acc=0.8886, test_loss=0.2389, test_acc=0.9211, lr=0.0010\n",
      "138 epoch: train_loss=0.3125, train_acc=0.8899, test_loss=0.2368, test_acc=0.9226, lr=0.0010\n",
      "139 epoch: train_loss=0.3156, train_acc=0.8896, test_loss=0.2388, test_acc=0.9220, lr=0.0010\n",
      "140 epoch: train_loss=0.3110, train_acc=0.8908, test_loss=0.2376, test_acc=0.9214, lr=0.0010\n",
      "141 epoch: train_loss=0.3151, train_acc=0.8899, test_loss=0.2376, test_acc=0.9237, lr=0.0010\n",
      "142 epoch: train_loss=0.3168, train_acc=0.8889, test_loss=0.2403, test_acc=0.9219, lr=0.0010\n",
      "143 epoch: train_loss=0.3116, train_acc=0.8909, test_loss=0.2353, test_acc=0.9237, lr=0.0010\n",
      "144 epoch: train_loss=0.3143, train_acc=0.8898, test_loss=0.2417, test_acc=0.9206, lr=0.0010\n",
      "145 epoch: train_loss=0.3138, train_acc=0.8904, test_loss=0.2398, test_acc=0.9217, lr=0.0010\n",
      "146 epoch: train_loss=0.3120, train_acc=0.8913, test_loss=0.2412, test_acc=0.9226, lr=0.0010\n",
      "147 epoch: train_loss=0.3163, train_acc=0.8889, test_loss=0.2401, test_acc=0.9217, lr=0.0010\n",
      "148 epoch: train_loss=0.3137, train_acc=0.8898, test_loss=0.2568, test_acc=0.9231, lr=0.0010\n",
      "149 epoch: train_loss=0.3138, train_acc=0.8915, test_loss=0.2365, test_acc=0.9231, lr=0.0010\n",
      "150 epoch: train_loss=0.3180, train_acc=0.8888, test_loss=0.2414, test_acc=0.9226, lr=0.0010\n",
      "151 epoch: train_loss=0.3099, train_acc=0.8919, test_loss=0.2422, test_acc=0.9214, lr=0.0010\n",
      "152 epoch: train_loss=0.3078, train_acc=0.8911, test_loss=0.2414, test_acc=0.9228, lr=0.0010\n",
      "153 epoch: train_loss=0.3089, train_acc=0.8917, test_loss=0.2389, test_acc=0.9230, lr=0.0010\n",
      "154 epoch: train_loss=0.3152, train_acc=0.8888, test_loss=0.2430, test_acc=0.9223, lr=0.0010\n",
      "155 epoch: train_loss=0.3119, train_acc=0.8924, test_loss=0.2379, test_acc=0.9235, lr=0.0010\n",
      "156 epoch: train_loss=0.3133, train_acc=0.8901, test_loss=0.2379, test_acc=0.9230, lr=0.0010\n",
      "157 epoch: train_loss=0.3092, train_acc=0.8918, test_loss=0.2375, test_acc=0.9233, lr=0.0010\n",
      "158 epoch: train_loss=0.3110, train_acc=0.8913, test_loss=0.2370, test_acc=0.9234, lr=0.0010\n",
      "159 epoch: train_loss=0.3105, train_acc=0.8931, test_loss=0.2394, test_acc=0.9220, lr=0.0010\n",
      "160 epoch: train_loss=0.3080, train_acc=0.8914, test_loss=0.2444, test_acc=0.9219, lr=0.0010\n",
      "161 epoch: train_loss=0.3128, train_acc=0.8904, test_loss=0.2402, test_acc=0.9228, lr=0.0010\n",
      "162 epoch: train_loss=0.3099, train_acc=0.8915, test_loss=0.2403, test_acc=0.9225, lr=0.0010\n",
      "163 epoch: train_loss=0.3099, train_acc=0.8919, test_loss=0.2416, test_acc=0.9228, lr=0.0010\n",
      "164 epoch: train_loss=0.3106, train_acc=0.8908, test_loss=0.2392, test_acc=0.9220, lr=0.0010\n"
     ]
    }
   ],
   "source": [
    "view.print_all()"
   ]
  }
 ],
 "metadata": {
  "kernelspec": {
   "display_name": "base",
   "language": "python",
   "name": "python3"
  },
  "language_info": {
   "codemirror_mode": {
    "name": "ipython",
    "version": 3
   },
   "file_extension": ".py",
   "mimetype": "text/x-python",
   "name": "python",
   "nbconvert_exporter": "python",
   "pygments_lexer": "ipython3",
   "version": "3.11.5"
  }
 },
 "nbformat": 4,
 "nbformat_minor": 2
}
