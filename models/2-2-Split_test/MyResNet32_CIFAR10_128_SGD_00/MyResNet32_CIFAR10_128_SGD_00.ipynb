{
 "cells": [
  {
   "cell_type": "markdown",
   "metadata": {},
   "source": [
    "# Import"
   ]
  },
  {
   "cell_type": "code",
   "execution_count": 94,
   "metadata": {},
   "outputs": [],
   "source": [
    "import torch\n",
    "from torch import nn\n",
    "from torch.optim.lr_scheduler import ExponentialLR, MultiStepLR, ReduceLROnPlateau\n",
    "import sys, os\n",
    "\n",
    "sys.path.append(os.path.dirname(os.path.abspath(os.path.dirname(\"src\"))))\n",
    "\n",
    "from src.Mydataloader import LoadDataset\n",
    "from src.Mymodel import MyResNet_CIFAR\n",
    "from src.Mytraining import DoTraining\n",
    "from src.Earlystopper import EarlyStopper\n",
    "from src.LogViewer import LogViewer"
   ]
  },
  {
   "cell_type": "markdown",
   "metadata": {},
   "source": [
    "# Setup"
   ]
  },
  {
   "cell_type": "code",
   "execution_count": 95,
   "metadata": {},
   "outputs": [],
   "source": [
    "\"\"\"Dataset selection\"\"\"\n",
    "DATASET = \"CIFAR10\"\n",
    "# DATASET = \"CIFAR100\"\n",
    "# DATASET = \"ImageNet2012\"\n",
    "\n",
    "\"\"\"Dataset parameters\"\"\"\n",
    "BATCH = 128\n",
    "SHUFFLE = True\n",
    "NUMOFWORKERS = 8\n",
    "PIN_MEMORY = True\n",
    "SPLIT_RATIO = 0\n",
    "\n",
    "\"\"\"optimizer parameters\"\"\"\n",
    "# OPTIMIZER = \"Adam\"\n",
    "# OPTIMIZER = \"Adam_decay\"\n",
    "OPTIMIZER = \"SGD\"\n",
    "# OPTIMIZER = \"SGD_nasterov\"\n",
    "# OPTIMIZER = \"AdamW\"\n",
    "# OPTIMIZER = \"AdamW_amsgrad\"\n",
    "# OPTIMIZER = \"NAdam\"\n",
    "\n",
    "\"\"\"Learning rate scheduler parameters\"\"\"\n",
    "NUM_EPOCHS = 200\n",
    "\n",
    "\"\"\"Early stopping parameters\"\"\"\n",
    "EARLYSTOPPINGPATIENCE = 50\n",
    "\n",
    "file_name = f\"MyResNet32_{BATCH}_{OPTIMIZER}_00\""
   ]
  },
  {
   "cell_type": "code",
   "execution_count": 96,
   "metadata": {},
   "outputs": [
    {
     "data": {
      "text/plain": [
       "'MyResNet32_128_SGD_00'"
      ]
     },
     "execution_count": 96,
     "metadata": {},
     "output_type": "execute_result"
    }
   ],
   "source": [
    "file_name"
   ]
  },
  {
   "cell_type": "markdown",
   "metadata": {},
   "source": [
    "# Loading the dataset"
   ]
  },
  {
   "cell_type": "markdown",
   "metadata": {},
   "source": [
    "## Define Dateloader"
   ]
  },
  {
   "cell_type": "code",
   "execution_count": 97,
   "metadata": {},
   "outputs": [
    {
     "name": "stdout",
     "output_type": "stream",
     "text": [
      "-----------------------------------------------------------------------\n",
      "Dataset :  CIFAR10\n",
      "- Length of Train Set :  50000\n",
      "- Length of Test Set :  10000\n",
      "- Count of Classes :  10\n",
      "-----------------------------------------------------------------------\n"
     ]
    }
   ],
   "source": [
    "tmp = LoadDataset(root=\"../../../data\", seceted_dataset=DATASET, split_ratio=SPLIT_RATIO)\n",
    "train_data, valid_data, test_data, COUNT_OF_CLASSES = tmp.Unpack()"
   ]
  },
  {
   "cell_type": "code",
   "execution_count": 98,
   "metadata": {},
   "outputs": [
    {
     "name": "stdout",
     "output_type": "stream",
     "text": [
      "train.transforms = Compose(\n",
      "      Compose(\n",
      "        ToImage()\n",
      "        ToDtype(scale=True)\n",
      "  )\n",
      "      Normalize(mean=[0.49139968, 0.48215827, 0.44653124], std=[1, 1, 1], inplace=True)\n",
      "      AutoAugment(interpolation=InterpolationMode.NEAREST, policy=AutoAugmentPolicy.CIFAR10)\n",
      "      RandomCrop(size=(32, 32), padding=[4, 4, 4, 4], pad_if_needed=False, fill=0, padding_mode=constant)\n",
      "      RandomHorizontalFlip(p=0.5)\n",
      ") 128\n",
      "test.transforms = Compose(\n",
      "      ToImage()\n",
      "      ToDtype(scale=True)\n",
      ") 128\n"
     ]
    }
   ],
   "source": [
    "train_dataloader, valid_dataloader, test_dataloader = tmp.get_dataloader(\n",
    "    batch_size=BATCH, shuffle=SHUFFLE, num_workers=NUMOFWORKERS, pin_memory=PIN_MEMORY\n",
    ")\n"
   ]
  },
  {
   "cell_type": "markdown",
   "metadata": {},
   "source": [
    "# Define ResNet"
   ]
  },
  {
   "cell_type": "markdown",
   "metadata": {},
   "source": [
    "## Model Confirm"
   ]
  },
  {
   "cell_type": "code",
   "execution_count": 99,
   "metadata": {},
   "outputs": [
    {
     "data": {
      "text/plain": [
       "device(type='cuda')"
      ]
     },
     "execution_count": 99,
     "metadata": {},
     "output_type": "execute_result"
    }
   ],
   "source": [
    "device = torch.device(\"cuda\" if torch.cuda.is_available() else \"cpu\")\n",
    "device"
   ]
  },
  {
   "cell_type": "code",
   "execution_count": 100,
   "metadata": {},
   "outputs": [],
   "source": [
    "model = MyResNet_CIFAR(num_classes=COUNT_OF_CLASSES, num_layer_factor=5).to(device)"
   ]
  },
  {
   "cell_type": "markdown",
   "metadata": {},
   "source": [
    "# Define Training"
   ]
  },
  {
   "cell_type": "markdown",
   "metadata": {},
   "source": [
    "## (1) Define Criterion"
   ]
  },
  {
   "cell_type": "code",
   "execution_count": 101,
   "metadata": {},
   "outputs": [],
   "source": [
    "criterion = nn.CrossEntropyLoss()"
   ]
  },
  {
   "cell_type": "markdown",
   "metadata": {},
   "source": [
    "## (2) Define Optimazer"
   ]
  },
  {
   "cell_type": "code",
   "execution_count": 102,
   "metadata": {},
   "outputs": [],
   "source": [
    "if OPTIMIZER == \"Adam\":\n",
    "    optimizer = torch.optim.Adam(model.parameters())\n",
    "elif OPTIMIZER == \"Adam_decay\":\n",
    "    optimizer = torch.optim.Adam(model.parameters(), weight_decay=1e-4)\n",
    "elif OPTIMIZER == \"SGD\":\n",
    "    optimizer = torch.optim.SGD(\n",
    "        model.parameters(), lr=0.1, momentum=0.9, weight_decay=0.0001\n",
    "    )\n",
    "elif OPTIMIZER == \"SGD_nasterov\":\n",
    "    optimizer = torch.optim.SGD(\n",
    "        model.parameters(), lr=0.1, momentum=0.9, weight_decay=1e-4, nesterov=True\n",
    "    )\n",
    "elif OPTIMIZER == \"AdamW\":\n",
    "    optimizer = torch.optim.AdamW(model.parameters(), weight_decay=1e-4)\n",
    "elif OPTIMIZER == \"AdamW_amsgrad\":\n",
    "    optimizer = torch.optim.AdamW(model.parameters(), weight_decay=1e-4, amsgrad=True)\n",
    "elif OPTIMIZER == \"NAdam\":\n",
    "    optimizer = torch.optim.NAdam(model.parameters(), weight_decay=1e-4)"
   ]
  },
  {
   "cell_type": "markdown",
   "metadata": {},
   "source": [
    "## (3) Define Early Stopping"
   ]
  },
  {
   "cell_type": "code",
   "execution_count": 103,
   "metadata": {},
   "outputs": [],
   "source": [
    "earlystopper = EarlyStopper(patience=EARLYSTOPPINGPATIENCE, model=model, file_name=file_name)"
   ]
  },
  {
   "cell_type": "markdown",
   "metadata": {},
   "source": [
    "## (4) Define Learning Rate schedualer"
   ]
  },
  {
   "cell_type": "code",
   "execution_count": 104,
   "metadata": {},
   "outputs": [
    {
     "data": {
      "text/plain": [
       "'\\n=======================================================\\nif batch = 256\\n=======================================================\\nnon-split [single epoch = 196 iter] : milestones = [164, 246]\\n- 1 ~ 164 epochs == 1 ~ 32k iter >> lr = 0.1\\n- 165~246 epochs == 32k ~ 48k iter >> lr = 0.01\\n- 247~328(?) epochs == 48k ~ 64k iter >> lr = 0.001\\n=======================================================\\nsplit to 45k/5k [single epoch = 176 iter]: milestones = [182, 273]\\n- 1~182 epochs == 1 ~ 32k iter >> lr = 0.1\\n- 182~273 epochs == 32k ~ 48k iter >> lr = 0.01\\n- 273~364(?) epochs == 48k ~ 64k iter >> lr = 0.001\\n=======================================================\\nif batch = 128\\n=======================================================\\nnon-split [signle epoch = 391 iter]: milestones = [82, 123]\\n- 1 ~ 82 epochs == 1 ~ 32k iter >> lr = 0.1\\n- 83~123 epochs == 32k ~ 48k iter >> lr = 0.01\\n- 124~(164) epochs == 48k ~ 64k iter >> lr = 0.001\\n=======================================================\\nsplit to 45k/5k [signle epoch = 352 iter]: milestones = [91, 137]\\n- 1~91 epochs == 1 ~ 32k iter >> lr = 0.1\\n- 92~137 epochs == 32k ~ 48k iter >> lr = 0.01\\n- 138~(183) epochs == 48k ~ 64k iter >> lr = 0.001\\n=======================================================\\n'"
      ]
     },
     "execution_count": 104,
     "metadata": {},
     "output_type": "execute_result"
    }
   ],
   "source": [
    "# scheduler = ExponentialLR(optimizer, gamma=0.95)\n",
    "# scheduler = MultiStepLR(optimizer, milestones=[82, 123], gamma=0.1)\n",
    "scheduler = ReduceLROnPlateau(optimizer=optimizer, patience=10, factor=0.1, cooldown=40)\n",
    "\"\"\"\n",
    "=======================================================\n",
    "if batch = 256\n",
    "=======================================================\n",
    "non-split [single epoch = 196 iter] : milestones = [164, 246]\n",
    "- 1 ~ 164 epochs == 1 ~ 32k iter >> lr = 0.1\n",
    "- 165~246 epochs == 32k ~ 48k iter >> lr = 0.01\n",
    "- 247~328(?) epochs == 48k ~ 64k iter >> lr = 0.001\n",
    "=======================================================\n",
    "split to 45k/5k [single epoch = 176 iter]: milestones = [182, 273]\n",
    "- 1~182 epochs == 1 ~ 32k iter >> lr = 0.1\n",
    "- 182~273 epochs == 32k ~ 48k iter >> lr = 0.01\n",
    "- 273~364(?) epochs == 48k ~ 64k iter >> lr = 0.001\n",
    "=======================================================\n",
    "if batch = 128\n",
    "=======================================================\n",
    "non-split [signle epoch = 391 iter]: milestones = [82, 123]\n",
    "- 1 ~ 82 epochs == 1 ~ 32k iter >> lr = 0.1\n",
    "- 83~123 epochs == 32k ~ 48k iter >> lr = 0.01\n",
    "- 124~(164) epochs == 48k ~ 64k iter >> lr = 0.001\n",
    "=======================================================\n",
    "split to 45k/5k [signle epoch = 352 iter]: milestones = [91, 137]\n",
    "- 1~91 epochs == 1 ~ 32k iter >> lr = 0.1\n",
    "- 92~137 epochs == 32k ~ 48k iter >> lr = 0.01\n",
    "- 138~(183) epochs == 48k ~ 64k iter >> lr = 0.001\n",
    "=======================================================\n",
    "\"\"\""
   ]
  },
  {
   "cell_type": "markdown",
   "metadata": {},
   "source": [
    "## (5) Define AMP scaler"
   ]
  },
  {
   "cell_type": "code",
   "execution_count": 105,
   "metadata": {},
   "outputs": [],
   "source": [
    "scaler = torch.cuda.amp.GradScaler(enabled=True)"
   ]
  },
  {
   "cell_type": "markdown",
   "metadata": {},
   "source": [
    "## Load before process"
   ]
  },
  {
   "cell_type": "code",
   "execution_count": 106,
   "metadata": {},
   "outputs": [
    {
     "name": "stdout",
     "output_type": "stream",
     "text": [
      "Suceessfully loaded the All setting and Log file.\n",
      "MyResNet32_128_SGD_00\n",
      "Current epoch is 240\n",
      "Current learning rate: 0.0010000000000000002\n"
     ]
    }
   ],
   "source": [
    "if os.path.exists(file_name + \".pth.tar\"):\n",
    "    # Read checkpoint as desired, e.g.,\n",
    "    checkpoint = torch.load(\n",
    "        file_name + \".pth.tar\",\n",
    "        map_location=lambda storage, loc: storage.cuda(device),\n",
    "    )\n",
    "    model.load_state_dict(checkpoint[\"model\"])\n",
    "    optimizer.load_state_dict(checkpoint[\"optimizer\"])\n",
    "    scaler.load_state_dict(checkpoint[\"scaler\"])\n",
    "    scheduler.load_state_dict(checkpoint[\"scheduler\"])\n",
    "    earlystopper.load_state_dict(checkpoint[\"earlystopper\"])\n",
    "    logs = checkpoint[\"logs\"]\n",
    "\n",
    "    print(\"Suceessfully loaded the All setting and Log file.\")\n",
    "    print(file_name)\n",
    "    print(f\"Current epoch is {len(logs['train_loss'])}\")\n",
    "    print(f\"Current learning rate: {optimizer.param_groups[0]['lr']}\")\n",
    "else:\n",
    "    # Create a dictionary to store the variables\n",
    "    train_loss = []\n",
    "    train_acc = []\n",
    "    eval_loss = []\n",
    "    valid_acc = []\n",
    "    test_loss = []\n",
    "    test_acc = []\n",
    "    lr_log = []\n",
    "    logs = {\n",
    "        \"train_loss\": train_loss,\n",
    "        \"train_acc\": train_acc,\n",
    "        \"valid_loss\": eval_loss,\n",
    "        \"valid_acc\": valid_acc,\n",
    "        \"test_loss\": test_loss,\n",
    "        \"test_acc\": test_acc,\n",
    "        \"lr_log\": lr_log,\n",
    "    }\n",
    "    print(\"File does not exist. Created a new log.\")"
   ]
  },
  {
   "cell_type": "code",
   "execution_count": 107,
   "metadata": {},
   "outputs": [
    {
     "data": {
      "text/plain": [
       "0.0010000000000000002"
      ]
     },
     "execution_count": 107,
     "metadata": {},
     "output_type": "execute_result"
    }
   ],
   "source": [
    "optimizer.param_groups[0][\"lr\"]"
   ]
  },
  {
   "cell_type": "code",
   "execution_count": 108,
   "metadata": {},
   "outputs": [
    {
     "data": {
      "text/plain": [
       "8"
      ]
     },
     "execution_count": 108,
     "metadata": {},
     "output_type": "execute_result"
    }
   ],
   "source": [
    "earlystopper.early_stop_counter"
   ]
  },
  {
   "cell_type": "code",
   "execution_count": null,
   "metadata": {},
   "outputs": [],
   "source": []
  },
  {
   "cell_type": "markdown",
   "metadata": {},
   "source": [
    "# [Training Loop]"
   ]
  },
  {
   "cell_type": "code",
   "execution_count": 109,
   "metadata": {},
   "outputs": [],
   "source": [
    "# Training = DoTraining(\n",
    "#     model=model,\n",
    "#     criterion=criterion,\n",
    "#     optimizer=optimizer,\n",
    "#     scaler=scaler,\n",
    "#     scheduler=scheduler,\n",
    "#     earlystopper=earlystopper,\n",
    "#     device=device,\n",
    "#     logs=logs,\n",
    "#     file_path=file_name,\n",
    "# )\n",
    "# pre_epochs = len(Training.logs[\"train_loss\"])\n",
    "\n",
    "\n",
    "# for epoch in range(NUM_EPOCHS):\n",
    "#     now = epoch + 1 + pre_epochs\n",
    "#     print(f\"[Epoch {epoch+1+pre_epochs}/{NUM_EPOCHS}] :\")\n",
    "\n",
    "#     if DATASET == \"ImageNet2012\":\n",
    "#         eval_loss = Training.SingleEpoch(train_dataloader, valid_dataloader)\n",
    "#     else:\n",
    "#         eval_loss = Training.SingleEpoch(\n",
    "#             train_dataloader, valid_dataloader, test_dataloader\n",
    "#         )\n",
    "\n",
    "#     Training.Save()\n",
    "\n",
    "    \n",
    "    \n",
    "#     if earlystopper.check(eval_loss) == True:\n",
    "#         break\n",
    "\n",
    "#     print(\"-\" * 50)"
   ]
  },
  {
   "cell_type": "code",
   "execution_count": 110,
   "metadata": {},
   "outputs": [
    {
     "data": {
      "image/png": "[encoded data removed]",
      "text/plain": [
       "<Figure size 1500x500 with 3 Axes>"
      ]
     },
     "metadata": {},
     "output_type": "display_data"
    }
   ],
   "source": [
    "view = LogViewer(logs)\n",
    "view.draw(title=file_name, min_marker=True, add_lr_plot=True, save=True)"
   ]
  },
  {
   "cell_type": "code",
   "execution_count": 111,
   "metadata": {},
   "outputs": [
    {
     "name": "stdout",
     "output_type": "stream",
     "text": [
      "1 epoch: train_loss=2.2771, train_acc=0.1541, test_loss=2.1554, test_acc=0.1610, lr=0.1000\n",
      "2 epoch: train_loss=1.9825, train_acc=0.2540, test_loss=1.7491, test_acc=0.3353, lr=0.1000\n",
      "3 epoch: train_loss=1.7559, train_acc=0.3527, test_loss=1.3702, test_acc=0.5027, lr=0.1000\n",
      "4 epoch: train_loss=1.4722, train_acc=0.4679, test_loss=1.5281, test_acc=0.4605, lr=0.1000\n",
      "5 epoch: train_loss=1.2556, train_acc=0.5528, test_loss=0.9390, test_acc=0.6769, lr=0.1000\n",
      "6 epoch: train_loss=1.1366, train_acc=0.5968, test_loss=0.8486, test_acc=0.7027, lr=0.1000\n",
      "7 epoch: train_loss=1.0481, train_acc=0.6293, test_loss=0.8204, test_acc=0.7098, lr=0.1000\n",
      "8 epoch: train_loss=0.9995, train_acc=0.6518, test_loss=0.7311, test_acc=0.7446, lr=0.1000\n",
      "9 epoch: train_loss=0.9450, train_acc=0.6728, test_loss=0.6859, test_acc=0.7633, lr=0.1000\n",
      "10 epoch: train_loss=0.9098, train_acc=0.6811, test_loss=0.9054, test_acc=0.6981, lr=0.1000\n",
      "11 epoch: train_loss=0.8811, train_acc=0.6914, test_loss=0.7224, test_acc=0.7562, lr=0.1000\n",
      "12 epoch: train_loss=0.8589, train_acc=0.7001, test_loss=0.7276, test_acc=0.7597, lr=0.1000\n",
      "13 epoch: train_loss=0.8295, train_acc=0.7103, test_loss=0.5842, test_acc=0.8022, lr=0.1000\n",
      "14 epoch: train_loss=0.8165, train_acc=0.7144, test_loss=0.6560, test_acc=0.7811, lr=0.1000\n",
      "15 epoch: train_loss=0.8035, train_acc=0.7195, test_loss=0.5900, test_acc=0.7960, lr=0.1000\n",
      "16 epoch: train_loss=0.7905, train_acc=0.7263, test_loss=0.6538, test_acc=0.7819, lr=0.1000\n",
      "17 epoch: train_loss=0.7672, train_acc=0.7356, test_loss=0.5943, test_acc=0.8003, lr=0.1000\n",
      "18 epoch: train_loss=0.7634, train_acc=0.7319, test_loss=0.5817, test_acc=0.8019, lr=0.1000\n",
      "19 epoch: train_loss=0.7525, train_acc=0.7356, test_loss=0.6228, test_acc=0.7905, lr=0.1000\n",
      "20 epoch: train_loss=0.7299, train_acc=0.7461, test_loss=0.4953, test_acc=0.8320, lr=0.1000\n",
      "21 epoch: train_loss=0.7317, train_acc=0.7443, test_loss=0.5463, test_acc=0.8146, lr=0.1000\n",
      "22 epoch: train_loss=0.7227, train_acc=0.7489, test_loss=0.5207, test_acc=0.8205, lr=0.1000\n",
      "23 epoch: train_loss=0.7103, train_acc=0.7513, test_loss=0.4926, test_acc=0.8298, lr=0.1000\n",
      "24 epoch: train_loss=0.7127, train_acc=0.7488, test_loss=0.4926, test_acc=0.8293, lr=0.1000\n",
      "25 epoch: train_loss=0.6963, train_acc=0.7571, test_loss=0.5644, test_acc=0.8109, lr=0.1000\n",
      "26 epoch: train_loss=0.6875, train_acc=0.7582, test_loss=0.5307, test_acc=0.8271, lr=0.1000\n",
      "27 epoch: train_loss=0.6928, train_acc=0.7567, test_loss=0.5702, test_acc=0.8108, lr=0.1000\n",
      "28 epoch: train_loss=0.6797, train_acc=0.7627, test_loss=0.6659, test_acc=0.7887, lr=0.1000\n",
      "29 epoch: train_loss=0.6672, train_acc=0.7673, test_loss=0.5056, test_acc=0.8342, lr=0.1000\n",
      "30 epoch: train_loss=0.6698, train_acc=0.7656, test_loss=0.4756, test_acc=0.8415, lr=0.1000\n",
      "31 epoch: train_loss=0.6641, train_acc=0.7682, test_loss=0.4879, test_acc=0.8379, lr=0.1000\n",
      "32 epoch: train_loss=0.6568, train_acc=0.7692, test_loss=0.4412, test_acc=0.8466, lr=0.1000\n",
      "33 epoch: train_loss=0.6514, train_acc=0.7735, test_loss=0.5114, test_acc=0.8264, lr=0.1000\n",
      "34 epoch: train_loss=0.6518, train_acc=0.7742, test_loss=0.4719, test_acc=0.8413, lr=0.1000\n",
      "35 epoch: train_loss=0.6427, train_acc=0.7763, test_loss=0.5415, test_acc=0.8245, lr=0.1000\n",
      "36 epoch: train_loss=0.6434, train_acc=0.7750, test_loss=0.5257, test_acc=0.8253, lr=0.1000\n",
      "37 epoch: train_loss=0.6384, train_acc=0.7768, test_loss=0.5593, test_acc=0.8201, lr=0.1000\n",
      "38 epoch: train_loss=0.6388, train_acc=0.7782, test_loss=0.5566, test_acc=0.8172, lr=0.1000\n",
      "39 epoch: train_loss=0.6323, train_acc=0.7792, test_loss=0.4521, test_acc=0.8464, lr=0.1000\n",
      "40 epoch: train_loss=0.6237, train_acc=0.7823, test_loss=0.4689, test_acc=0.8425, lr=0.1000\n",
      "41 epoch: train_loss=0.6232, train_acc=0.7835, test_loss=0.4666, test_acc=0.8470, lr=0.1000\n",
      "42 epoch: train_loss=0.6235, train_acc=0.7828, test_loss=0.5010, test_acc=0.8309, lr=0.1000\n",
      "43 epoch: train_loss=0.6188, train_acc=0.7844, test_loss=0.5407, test_acc=0.8103, lr=0.1000\n",
      "44 epoch: train_loss=0.6121, train_acc=0.7862, test_loss=0.4650, test_acc=0.8371, lr=0.1000\n",
      "45 epoch: train_loss=0.6163, train_acc=0.7838, test_loss=0.5219, test_acc=0.8281, lr=0.1000\n",
      "46 epoch: train_loss=0.6124, train_acc=0.7860, test_loss=0.4771, test_acc=0.8424, lr=0.1000\n",
      "47 epoch: train_loss=0.6067, train_acc=0.7895, test_loss=0.4186, test_acc=0.8543, lr=0.1000\n",
      "48 epoch: train_loss=0.6059, train_acc=0.7880, test_loss=0.4347, test_acc=0.8496, lr=0.1000\n",
      "49 epoch: train_loss=0.5998, train_acc=0.7909, test_loss=0.5716, test_acc=0.8132, lr=0.1000\n",
      "50 epoch: train_loss=0.6021, train_acc=0.7909, test_loss=0.4040, test_acc=0.8637, lr=0.1000\n",
      "51 epoch: train_loss=0.5939, train_acc=0.7937, test_loss=0.5016, test_acc=0.8299, lr=0.1000\n",
      "52 epoch: train_loss=0.5977, train_acc=0.7912, test_loss=0.5168, test_acc=0.8308, lr=0.1000\n",
      "53 epoch: train_loss=0.5953, train_acc=0.7934, test_loss=0.6212, test_acc=0.8039, lr=0.1000\n",
      "54 epoch: train_loss=0.5972, train_acc=0.7925, test_loss=0.3960, test_acc=0.8642, lr=0.1000\n",
      "55 epoch: train_loss=0.5903, train_acc=0.7942, test_loss=0.4302, test_acc=0.8546, lr=0.1000\n",
      "56 epoch: train_loss=0.5880, train_acc=0.7958, test_loss=0.5009, test_acc=0.8313, lr=0.1000\n",
      "57 epoch: train_loss=0.5875, train_acc=0.7945, test_loss=0.4300, test_acc=0.8518, lr=0.1000\n",
      "58 epoch: train_loss=0.5825, train_acc=0.7986, test_loss=0.4543, test_acc=0.8448, lr=0.1000\n",
      "59 epoch: train_loss=0.5831, train_acc=0.7984, test_loss=0.3688, test_acc=0.8742, lr=0.1000\n",
      "60 epoch: train_loss=0.5815, train_acc=0.7965, test_loss=0.4701, test_acc=0.8382, lr=0.1000\n",
      "61 epoch: train_loss=0.5839, train_acc=0.7952, test_loss=0.5082, test_acc=0.8340, lr=0.1000\n",
      "62 epoch: train_loss=0.5782, train_acc=0.7986, test_loss=0.4528, test_acc=0.8502, lr=0.1000\n",
      "63 epoch: train_loss=0.5761, train_acc=0.7985, test_loss=0.4512, test_acc=0.8507, lr=0.1000\n",
      "64 epoch: train_loss=0.5676, train_acc=0.8014, test_loss=0.4636, test_acc=0.8465, lr=0.1000\n",
      "65 epoch: train_loss=0.5724, train_acc=0.7989, test_loss=0.5565, test_acc=0.8252, lr=0.1000\n",
      "66 epoch: train_loss=0.5701, train_acc=0.8007, test_loss=0.4478, test_acc=0.8503, lr=0.1000\n",
      "67 epoch: train_loss=0.5667, train_acc=0.8022, test_loss=0.4708, test_acc=0.8436, lr=0.1000\n",
      "68 epoch: train_loss=0.5673, train_acc=0.8014, test_loss=0.3854, test_acc=0.8642, lr=0.1000\n",
      "69 epoch: train_loss=0.5649, train_acc=0.8034, test_loss=0.4215, test_acc=0.8564, lr=0.1000\n",
      "70 epoch: train_loss=0.5670, train_acc=0.8025, test_loss=0.4285, test_acc=0.8615, lr=0.1000\n",
      "71 epoch: train_loss=0.5730, train_acc=0.8008, test_loss=0.4245, test_acc=0.8547, lr=0.1000\n",
      "72 epoch: train_loss=0.5692, train_acc=0.8020, test_loss=0.4310, test_acc=0.8544, lr=0.1000\n",
      "73 epoch: train_loss=0.5673, train_acc=0.8036, test_loss=0.4848, test_acc=0.8426, lr=0.1000\n",
      "74 epoch: train_loss=0.5614, train_acc=0.8034, test_loss=0.4512, test_acc=0.8469, lr=0.1000\n",
      "75 epoch: train_loss=0.5590, train_acc=0.8047, test_loss=0.4913, test_acc=0.8342, lr=0.1000\n",
      "76 epoch: train_loss=0.5541, train_acc=0.8056, test_loss=0.4059, test_acc=0.8615, lr=0.1000\n",
      "77 epoch: train_loss=0.5580, train_acc=0.8072, test_loss=0.4629, test_acc=0.8481, lr=0.1000\n",
      "78 epoch: train_loss=0.5599, train_acc=0.8062, test_loss=0.4995, test_acc=0.8325, lr=0.1000\n",
      "79 epoch: train_loss=0.5583, train_acc=0.8062, test_loss=0.4822, test_acc=0.8426, lr=0.1000\n",
      "80 epoch: train_loss=0.5538, train_acc=0.8056, test_loss=0.4214, test_acc=0.8577, lr=0.1000\n",
      "81 epoch: train_loss=0.5620, train_acc=0.8044, test_loss=0.4688, test_acc=0.8393, lr=0.1000\n",
      "82 epoch: train_loss=0.5514, train_acc=0.8083, test_loss=0.4361, test_acc=0.8546, lr=0.1000\n",
      "83 epoch: train_loss=0.5514, train_acc=0.8071, test_loss=0.5453, test_acc=0.8234, lr=0.1000\n",
      "84 epoch: train_loss=0.5520, train_acc=0.8097, test_loss=0.4592, test_acc=0.8442, lr=0.1000\n",
      "85 epoch: train_loss=0.5557, train_acc=0.8061, test_loss=0.4019, test_acc=0.8610, lr=0.1000\n",
      "86 epoch: train_loss=0.5430, train_acc=0.8102, test_loss=0.4861, test_acc=0.8387, lr=0.1000\n",
      "87 epoch: train_loss=0.5497, train_acc=0.8072, test_loss=0.4505, test_acc=0.8529, lr=0.1000\n",
      "88 epoch: train_loss=0.5466, train_acc=0.8092, test_loss=0.4680, test_acc=0.8407, lr=0.1000\n",
      "89 epoch: train_loss=0.5492, train_acc=0.8084, test_loss=0.4791, test_acc=0.8462, lr=0.1000\n",
      "90 epoch: train_loss=0.5460, train_acc=0.8109, test_loss=0.4584, test_acc=0.8454, lr=0.1000\n",
      "91 epoch: train_loss=0.5465, train_acc=0.8102, test_loss=0.4428, test_acc=0.8492, lr=0.1000\n",
      "92 epoch: train_loss=0.5430, train_acc=0.8117, test_loss=0.3571, test_acc=0.8789, lr=0.1000\n",
      "93 epoch: train_loss=0.5415, train_acc=0.8111, test_loss=0.3834, test_acc=0.8718, lr=0.1000\n",
      "94 epoch: train_loss=0.5451, train_acc=0.8095, test_loss=0.3916, test_acc=0.8645, lr=0.1000\n",
      "95 epoch: train_loss=0.5457, train_acc=0.8102, test_loss=0.4264, test_acc=0.8581, lr=0.1000\n",
      "96 epoch: train_loss=0.5424, train_acc=0.8105, test_loss=0.4757, test_acc=0.8402, lr=0.1000\n",
      "97 epoch: train_loss=0.5418, train_acc=0.8124, test_loss=0.4126, test_acc=0.8604, lr=0.1000\n",
      "98 epoch: train_loss=0.5375, train_acc=0.8126, test_loss=0.3534, test_acc=0.8819, lr=0.1000\n",
      "99 epoch: train_loss=0.5369, train_acc=0.8125, test_loss=0.4198, test_acc=0.8568, lr=0.1000\n",
      "100 epoch: train_loss=0.5437, train_acc=0.8111, test_loss=0.4913, test_acc=0.8419, lr=0.1000\n",
      "101 epoch: train_loss=0.5376, train_acc=0.8123, test_loss=0.3918, test_acc=0.8689, lr=0.1000\n",
      "102 epoch: train_loss=0.5316, train_acc=0.8144, test_loss=0.4699, test_acc=0.8448, lr=0.1000\n",
      "103 epoch: train_loss=0.5364, train_acc=0.8142, test_loss=0.4213, test_acc=0.8560, lr=0.1000\n",
      "104 epoch: train_loss=0.5367, train_acc=0.8131, test_loss=0.3640, test_acc=0.8725, lr=0.1000\n",
      "105 epoch: train_loss=0.5433, train_acc=0.8093, test_loss=0.4039, test_acc=0.8627, lr=0.1000\n",
      "106 epoch: train_loss=0.5343, train_acc=0.8129, test_loss=0.4308, test_acc=0.8581, lr=0.1000\n",
      "107 epoch: train_loss=0.5375, train_acc=0.8137, test_loss=0.3780, test_acc=0.8712, lr=0.1000\n",
      "108 epoch: train_loss=0.5386, train_acc=0.8128, test_loss=0.3601, test_acc=0.8766, lr=0.1000\n",
      "109 epoch: train_loss=0.5428, train_acc=0.8091, test_loss=0.3924, test_acc=0.8687, lr=0.1000\n",
      "110 epoch: train_loss=0.5225, train_acc=0.8183, test_loss=0.4015, test_acc=0.8667, lr=0.1000\n",
      "111 epoch: train_loss=0.5391, train_acc=0.8133, test_loss=0.4832, test_acc=0.8462, lr=0.1000\n",
      "112 epoch: train_loss=0.5331, train_acc=0.8142, test_loss=0.4867, test_acc=0.8410, lr=0.1000\n",
      "113 epoch: train_loss=0.5360, train_acc=0.8133, test_loss=0.3938, test_acc=0.8710, lr=0.1000\n",
      "114 epoch: train_loss=0.5292, train_acc=0.8151, test_loss=0.4560, test_acc=0.8505, lr=0.1000\n",
      "115 epoch: train_loss=0.5377, train_acc=0.8115, test_loss=0.4213, test_acc=0.8590, lr=0.1000\n",
      "116 epoch: train_loss=0.5324, train_acc=0.8164, test_loss=0.3659, test_acc=0.8733, lr=0.1000\n",
      "117 epoch: train_loss=0.5234, train_acc=0.8179, test_loss=0.4312, test_acc=0.8634, lr=0.1000\n",
      "118 epoch: train_loss=0.5281, train_acc=0.8164, test_loss=0.4931, test_acc=0.8434, lr=0.1000\n",
      "119 epoch: train_loss=0.5305, train_acc=0.8163, test_loss=0.4129, test_acc=0.8632, lr=0.1000\n",
      "120 epoch: train_loss=0.5193, train_acc=0.8189, test_loss=0.3765, test_acc=0.8698, lr=0.1000\n",
      "121 epoch: train_loss=0.5291, train_acc=0.8166, test_loss=0.3825, test_acc=0.8698, lr=0.1000\n",
      "122 epoch: train_loss=0.5290, train_acc=0.8151, test_loss=0.3933, test_acc=0.8749, lr=0.1000\n",
      "123 epoch: train_loss=0.5265, train_acc=0.8156, test_loss=0.4185, test_acc=0.8605, lr=0.1000\n",
      "124 epoch: train_loss=0.5217, train_acc=0.8197, test_loss=0.4308, test_acc=0.8580, lr=0.1000\n",
      "125 epoch: train_loss=0.5250, train_acc=0.8182, test_loss=0.3628, test_acc=0.8733, lr=0.1000\n",
      "126 epoch: train_loss=0.5227, train_acc=0.8175, test_loss=0.4109, test_acc=0.8632, lr=0.1000\n",
      "127 epoch: train_loss=0.5240, train_acc=0.8179, test_loss=0.3646, test_acc=0.8791, lr=0.1000\n",
      "128 epoch: train_loss=0.5249, train_acc=0.8158, test_loss=0.4089, test_acc=0.8671, lr=0.1000\n",
      "129 epoch: train_loss=0.5226, train_acc=0.8186, test_loss=0.3563, test_acc=0.8790, lr=0.1000\n",
      "130 epoch: train_loss=0.5220, train_acc=0.8192, test_loss=0.4027, test_acc=0.8674, lr=0.1000\n",
      "131 epoch: train_loss=0.5254, train_acc=0.8171, test_loss=0.3413, test_acc=0.8853, lr=0.1000\n",
      "132 epoch: train_loss=0.4270, train_acc=0.8526, test_loss=0.2510, test_acc=0.9114, lr=0.0100\n",
      "133 epoch: train_loss=0.3888, train_acc=0.8659, test_loss=0.2489, test_acc=0.9119, lr=0.0100\n",
      "134 epoch: train_loss=0.3799, train_acc=0.8667, test_loss=0.2401, test_acc=0.9199, lr=0.0100\n",
      "135 epoch: train_loss=0.3774, train_acc=0.8675, test_loss=0.2369, test_acc=0.9187, lr=0.0100\n",
      "136 epoch: train_loss=0.3659, train_acc=0.8717, test_loss=0.2383, test_acc=0.9180, lr=0.0100\n",
      "137 epoch: train_loss=0.3577, train_acc=0.8763, test_loss=0.2407, test_acc=0.9195, lr=0.0100\n",
      "138 epoch: train_loss=0.3551, train_acc=0.8775, test_loss=0.2335, test_acc=0.9204, lr=0.0100\n",
      "139 epoch: train_loss=0.3461, train_acc=0.8794, test_loss=0.2375, test_acc=0.9181, lr=0.0100\n",
      "140 epoch: train_loss=0.3523, train_acc=0.8776, test_loss=0.2293, test_acc=0.9205, lr=0.0100\n",
      "141 epoch: train_loss=0.3457, train_acc=0.8793, test_loss=0.2274, test_acc=0.9232, lr=0.0100\n",
      "142 epoch: train_loss=0.3422, train_acc=0.8812, test_loss=0.2335, test_acc=0.9222, lr=0.0100\n",
      "143 epoch: train_loss=0.3382, train_acc=0.8818, test_loss=0.2263, test_acc=0.9226, lr=0.0100\n",
      "144 epoch: train_loss=0.3348, train_acc=0.8828, test_loss=0.2221, test_acc=0.9239, lr=0.0100\n",
      "145 epoch: train_loss=0.3391, train_acc=0.8827, test_loss=0.2252, test_acc=0.9235, lr=0.0100\n",
      "146 epoch: train_loss=0.3287, train_acc=0.8852, test_loss=0.2266, test_acc=0.9234, lr=0.0100\n",
      "147 epoch: train_loss=0.3305, train_acc=0.8831, test_loss=0.2250, test_acc=0.9225, lr=0.0100\n",
      "148 epoch: train_loss=0.3297, train_acc=0.8848, test_loss=0.2321, test_acc=0.9227, lr=0.0100\n",
      "149 epoch: train_loss=0.3322, train_acc=0.8825, test_loss=0.2303, test_acc=0.9229, lr=0.0100\n",
      "150 epoch: train_loss=0.3282, train_acc=0.8849, test_loss=0.2283, test_acc=0.9239, lr=0.0100\n",
      "151 epoch: train_loss=0.3276, train_acc=0.8845, test_loss=0.2257, test_acc=0.9232, lr=0.0100\n",
      "152 epoch: train_loss=0.3234, train_acc=0.8881, test_loss=0.2296, test_acc=0.9249, lr=0.0100\n",
      "153 epoch: train_loss=0.3219, train_acc=0.8870, test_loss=0.2248, test_acc=0.9225, lr=0.0100\n",
      "154 epoch: train_loss=0.3196, train_acc=0.8889, test_loss=0.2226, test_acc=0.9246, lr=0.0100\n",
      "155 epoch: train_loss=0.3225, train_acc=0.8870, test_loss=0.2170, test_acc=0.9267, lr=0.0100\n",
      "156 epoch: train_loss=0.3154, train_acc=0.8898, test_loss=0.2283, test_acc=0.9253, lr=0.0100\n",
      "157 epoch: train_loss=0.3166, train_acc=0.8887, test_loss=0.2211, test_acc=0.9256, lr=0.0100\n",
      "158 epoch: train_loss=0.3117, train_acc=0.8901, test_loss=0.2196, test_acc=0.9263, lr=0.0100\n",
      "159 epoch: train_loss=0.3116, train_acc=0.8927, test_loss=0.2355, test_acc=0.9234, lr=0.0100\n",
      "160 epoch: train_loss=0.3075, train_acc=0.8921, test_loss=0.2250, test_acc=0.9269, lr=0.0100\n",
      "161 epoch: train_loss=0.3124, train_acc=0.8901, test_loss=0.2213, test_acc=0.9268, lr=0.0100\n",
      "162 epoch: train_loss=0.3108, train_acc=0.8924, test_loss=0.2311, test_acc=0.9234, lr=0.0100\n",
      "163 epoch: train_loss=0.3107, train_acc=0.8919, test_loss=0.2200, test_acc=0.9279, lr=0.0100\n",
      "164 epoch: train_loss=0.3119, train_acc=0.8920, test_loss=0.2266, test_acc=0.9255, lr=0.0100\n",
      "165 epoch: train_loss=0.3083, train_acc=0.8936, test_loss=0.2216, test_acc=0.9265, lr=0.0100\n",
      "166 epoch: train_loss=0.3046, train_acc=0.8925, test_loss=0.2314, test_acc=0.9225, lr=0.0100\n",
      "167 epoch: train_loss=0.3026, train_acc=0.8934, test_loss=0.2315, test_acc=0.9225, lr=0.0100\n",
      "168 epoch: train_loss=0.3077, train_acc=0.8927, test_loss=0.2527, test_acc=0.9162, lr=0.0100\n",
      "169 epoch: train_loss=0.2954, train_acc=0.8959, test_loss=0.2319, test_acc=0.9222, lr=0.0100\n",
      "170 epoch: train_loss=0.2990, train_acc=0.8957, test_loss=0.2271, test_acc=0.9243, lr=0.0100\n",
      "171 epoch: train_loss=0.3022, train_acc=0.8935, test_loss=0.2219, test_acc=0.9261, lr=0.0100\n",
      "172 epoch: train_loss=0.3026, train_acc=0.8931, test_loss=0.2237, test_acc=0.9248, lr=0.0100\n",
      "173 epoch: train_loss=0.3003, train_acc=0.8956, test_loss=0.2210, test_acc=0.9260, lr=0.0100\n",
      "174 epoch: train_loss=0.3002, train_acc=0.8943, test_loss=0.2318, test_acc=0.9243, lr=0.0100\n",
      "175 epoch: train_loss=0.2979, train_acc=0.8959, test_loss=0.2358, test_acc=0.9240, lr=0.0100\n",
      "176 epoch: train_loss=0.2975, train_acc=0.8950, test_loss=0.2325, test_acc=0.9251, lr=0.0100\n",
      "177 epoch: train_loss=0.2986, train_acc=0.8954, test_loss=0.2308, test_acc=0.9239, lr=0.0100\n",
      "178 epoch: train_loss=0.2955, train_acc=0.8964, test_loss=0.2211, test_acc=0.9254, lr=0.0100\n",
      "179 epoch: train_loss=0.2941, train_acc=0.8959, test_loss=0.2334, test_acc=0.9252, lr=0.0100\n",
      "180 epoch: train_loss=0.2938, train_acc=0.8981, test_loss=0.2215, test_acc=0.9281, lr=0.0100\n",
      "181 epoch: train_loss=0.2964, train_acc=0.8969, test_loss=0.2298, test_acc=0.9234, lr=0.0100\n",
      "182 epoch: train_loss=0.2979, train_acc=0.8956, test_loss=0.2178, test_acc=0.9280, lr=0.0100\n",
      "183 epoch: train_loss=0.2969, train_acc=0.8970, test_loss=0.2348, test_acc=0.9232, lr=0.0100\n",
      "184 epoch: train_loss=0.2923, train_acc=0.8972, test_loss=0.2363, test_acc=0.9243, lr=0.0100\n",
      "185 epoch: train_loss=0.2928, train_acc=0.8986, test_loss=0.2348, test_acc=0.9239, lr=0.0100\n",
      "186 epoch: train_loss=0.2917, train_acc=0.8977, test_loss=0.2341, test_acc=0.9239, lr=0.0100\n",
      "187 epoch: train_loss=0.2979, train_acc=0.8956, test_loss=0.2223, test_acc=0.9266, lr=0.0100\n",
      "188 epoch: train_loss=0.2938, train_acc=0.8979, test_loss=0.2270, test_acc=0.9285, lr=0.0100\n",
      "189 epoch: train_loss=0.2883, train_acc=0.9000, test_loss=0.2215, test_acc=0.9274, lr=0.0100\n",
      "190 epoch: train_loss=0.2922, train_acc=0.8984, test_loss=0.2171, test_acc=0.9281, lr=0.0100\n",
      "191 epoch: train_loss=0.2917, train_acc=0.8969, test_loss=0.2305, test_acc=0.9257, lr=0.0100\n",
      "192 epoch: train_loss=0.2950, train_acc=0.8966, test_loss=0.2146, test_acc=0.9279, lr=0.0100\n",
      "193 epoch: train_loss=0.2848, train_acc=0.9001, test_loss=0.2408, test_acc=0.9232, lr=0.0100\n",
      "194 epoch: train_loss=0.2873, train_acc=0.8995, test_loss=0.2323, test_acc=0.9258, lr=0.0100\n",
      "195 epoch: train_loss=0.2913, train_acc=0.9002, test_loss=0.2259, test_acc=0.9295, lr=0.0100\n",
      "196 epoch: train_loss=0.2882, train_acc=0.9000, test_loss=0.2201, test_acc=0.9270, lr=0.0100\n",
      "197 epoch: train_loss=0.2862, train_acc=0.8993, test_loss=0.2336, test_acc=0.9261, lr=0.0100\n",
      "198 epoch: train_loss=0.2867, train_acc=0.8999, test_loss=0.2401, test_acc=0.9231, lr=0.0100\n",
      "199 epoch: train_loss=0.2933, train_acc=0.8990, test_loss=0.2368, test_acc=0.9253, lr=0.0100\n",
      "200 epoch: train_loss=0.2884, train_acc=0.8986, test_loss=0.2273, test_acc=0.9265, lr=0.0100\n",
      "201 epoch: train_loss=0.2866, train_acc=0.9005, test_loss=0.2278, test_acc=0.9255, lr=0.0100\n",
      "202 epoch: train_loss=0.2874, train_acc=0.9002, test_loss=0.2269, test_acc=0.9284, lr=0.0100\n",
      "203 epoch: train_loss=0.2911, train_acc=0.8994, test_loss=0.2266, test_acc=0.9283, lr=0.0100\n",
      "204 epoch: train_loss=0.2889, train_acc=0.8998, test_loss=0.2328, test_acc=0.9267, lr=0.0100\n",
      "205 epoch: train_loss=0.2690, train_acc=0.9057, test_loss=0.2077, test_acc=0.9317, lr=0.0010\n",
      "206 epoch: train_loss=0.2633, train_acc=0.9085, test_loss=0.2053, test_acc=0.9327, lr=0.0010\n",
      "207 epoch: train_loss=0.2597, train_acc=0.9095, test_loss=0.2106, test_acc=0.9330, lr=0.0010\n",
      "208 epoch: train_loss=0.2552, train_acc=0.9103, test_loss=0.2102, test_acc=0.9327, lr=0.0010\n",
      "209 epoch: train_loss=0.2561, train_acc=0.9119, test_loss=0.2066, test_acc=0.9328, lr=0.0010\n",
      "210 epoch: train_loss=0.2520, train_acc=0.9117, test_loss=0.2052, test_acc=0.9330, lr=0.0010\n",
      "211 epoch: train_loss=0.2565, train_acc=0.9111, test_loss=0.2042, test_acc=0.9339, lr=0.0010\n",
      "212 epoch: train_loss=0.2520, train_acc=0.9126, test_loss=0.2067, test_acc=0.9342, lr=0.0010\n",
      "213 epoch: train_loss=0.2521, train_acc=0.9141, test_loss=0.2079, test_acc=0.9347, lr=0.0010\n",
      "214 epoch: train_loss=0.2507, train_acc=0.9121, test_loss=0.2062, test_acc=0.9353, lr=0.0010\n",
      "215 epoch: train_loss=0.2520, train_acc=0.9132, test_loss=0.2053, test_acc=0.9341, lr=0.0010\n",
      "216 epoch: train_loss=0.2511, train_acc=0.9136, test_loss=0.2089, test_acc=0.9342, lr=0.0010\n",
      "217 epoch: train_loss=0.2455, train_acc=0.9149, test_loss=0.2039, test_acc=0.9346, lr=0.0010\n",
      "218 epoch: train_loss=0.2515, train_acc=0.9126, test_loss=0.2038, test_acc=0.9348, lr=0.0010\n",
      "219 epoch: train_loss=0.2509, train_acc=0.9127, test_loss=0.2023, test_acc=0.9349, lr=0.0010\n",
      "220 epoch: train_loss=0.2495, train_acc=0.9129, test_loss=0.2058, test_acc=0.9360, lr=0.0010\n",
      "221 epoch: train_loss=0.2471, train_acc=0.9152, test_loss=0.2050, test_acc=0.9365, lr=0.0010\n",
      "222 epoch: train_loss=0.2457, train_acc=0.9148, test_loss=0.2040, test_acc=0.9350, lr=0.0010\n",
      "223 epoch: train_loss=0.2446, train_acc=0.9147, test_loss=0.2002, test_acc=0.9364, lr=0.0010\n",
      "224 epoch: train_loss=0.2448, train_acc=0.9146, test_loss=0.2035, test_acc=0.9349, lr=0.0010\n",
      "225 epoch: train_loss=0.2465, train_acc=0.9145, test_loss=0.2104, test_acc=0.9343, lr=0.0010\n",
      "226 epoch: train_loss=0.2470, train_acc=0.9139, test_loss=0.2058, test_acc=0.9357, lr=0.0010\n",
      "227 epoch: train_loss=0.2474, train_acc=0.9145, test_loss=0.2053, test_acc=0.9363, lr=0.0010\n",
      "228 epoch: train_loss=0.2467, train_acc=0.9145, test_loss=0.2023, test_acc=0.9362, lr=0.0010\n",
      "229 epoch: train_loss=0.2451, train_acc=0.9144, test_loss=0.2059, test_acc=0.9343, lr=0.0010\n",
      "230 epoch: train_loss=0.2388, train_acc=0.9167, test_loss=0.2073, test_acc=0.9347, lr=0.0010\n",
      "231 epoch: train_loss=0.2436, train_acc=0.9154, test_loss=0.2042, test_acc=0.9360, lr=0.0010\n",
      "232 epoch: train_loss=0.2408, train_acc=0.9169, test_loss=0.2081, test_acc=0.9353, lr=0.0010\n",
      "233 epoch: train_loss=0.2417, train_acc=0.9169, test_loss=0.2077, test_acc=0.9352, lr=0.0010\n",
      "234 epoch: train_loss=0.2449, train_acc=0.9147, test_loss=0.2014, test_acc=0.9350, lr=0.0010\n",
      "235 epoch: train_loss=0.2419, train_acc=0.9153, test_loss=0.2039, test_acc=0.9362, lr=0.0010\n",
      "236 epoch: train_loss=0.2456, train_acc=0.9146, test_loss=0.2051, test_acc=0.9349, lr=0.0010\n",
      "237 epoch: train_loss=0.2428, train_acc=0.9162, test_loss=0.2058, test_acc=0.9365, lr=0.0010\n",
      "238 epoch: train_loss=0.2440, train_acc=0.9139, test_loss=0.2047, test_acc=0.9359, lr=0.0010\n",
      "239 epoch: train_loss=0.2457, train_acc=0.9156, test_loss=0.2069, test_acc=0.9368, lr=0.0010\n",
      "240 epoch: train_loss=0.2442, train_acc=0.9139, test_loss=0.2014, test_acc=0.9376, lr=0.0010\n"
     ]
    }
   ],
   "source": [
    "view.print_all()"
   ]
  }
 ],
 "metadata": {
  "kernelspec": {
   "display_name": "base",
   "language": "python",
   "name": "python3"
  },
  "language_info": {
   "codemirror_mode": {
    "name": "ipython",
    "version": 3
   },
   "file_extension": ".py",
   "mimetype": "text/x-python",
   "name": "python",
   "nbconvert_exporter": "python",
   "pygments_lexer": "ipython3",
   "version": "3.11.5"
  }
 },
 "nbformat": 4,
 "nbformat_minor": 2
}
