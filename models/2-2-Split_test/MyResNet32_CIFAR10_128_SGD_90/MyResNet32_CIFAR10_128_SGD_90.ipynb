{
 "cells": [
  {
   "cell_type": "markdown",
   "metadata": {},
   "source": [
    "# Import"
   ]
  },
  {
   "cell_type": "code",
   "execution_count": 40,
   "metadata": {},
   "outputs": [],
   "source": [
    "import torch\n",
    "from torch import nn\n",
    "from torch.optim.lr_scheduler import ExponentialLR, MultiStepLR, ReduceLROnPlateau\n",
    "import sys, os\n",
    "\n",
    "sys.path.append(os.path.dirname(os.path.abspath(os.path.dirname(\"src\"))))\n",
    "\n",
    "from src.Mydataloader import LoadDataset\n",
    "from src.Mymodel import MyResNet_CIFAR\n",
    "from src.Mytraining import DoTraining\n",
    "from src.Earlystopper import EarlyStopper\n",
    "from src.LogViewer import LogViewer"
   ]
  },
  {
   "cell_type": "markdown",
   "metadata": {},
   "source": [
    "# Setup"
   ]
  },
  {
   "cell_type": "code",
   "execution_count": 41,
   "metadata": {},
   "outputs": [],
   "source": [
    "\"\"\"Dataset selection\"\"\"\n",
    "DATASET = \"CIFAR10\"\n",
    "# DATASET = \"CIFAR100\"\n",
    "# DATASET = \"ImageNet2012\"\n",
    "\n",
    "\"\"\"Dataset parameters\"\"\"\n",
    "BATCH = 128\n",
    "SHUFFLE = True\n",
    "NUMOFWORKERS = 8\n",
    "PIN_MEMORY = True\n",
    "SPLIT_RATIO = 0.9\n",
    "\n",
    "\"\"\"optimizer parameters\"\"\"\n",
    "# OPTIMIZER = \"Adam\"\n",
    "# OPTIMIZER = \"Adam_decay\"\n",
    "OPTIMIZER = \"SGD\"\n",
    "# OPTIMIZER = \"SGD_nasterov\"\n",
    "# OPTIMIZER = \"AdamW\"\n",
    "# OPTIMIZER = \"AdamW_amsgrad\"\n",
    "# OPTIMIZER = \"NAdam\"\n",
    "\n",
    "\"\"\"Learning rate scheduler parameters\"\"\"\n",
    "NUM_EPOCHS = 200\n",
    "\n",
    "\"\"\"Early stopping parameters\"\"\"\n",
    "EARLYSTOPPINGPATIENCE = 50\n",
    "\n",
    "file_name = f\"MyResNet32_{BATCH}_{OPTIMIZER}_90\""
   ]
  },
  {
   "cell_type": "code",
   "execution_count": 42,
   "metadata": {},
   "outputs": [
    {
     "data": {
      "text/plain": [
       "'MyResNet32_128_SGD_90'"
      ]
     },
     "execution_count": 42,
     "metadata": {},
     "output_type": "execute_result"
    }
   ],
   "source": [
    "file_name"
   ]
  },
  {
   "cell_type": "markdown",
   "metadata": {},
   "source": [
    "# Loading the dataset"
   ]
  },
  {
   "cell_type": "markdown",
   "metadata": {},
   "source": [
    "## Define Dateloader"
   ]
  },
  {
   "cell_type": "code",
   "execution_count": 43,
   "metadata": {},
   "outputs": [
    {
     "name": "stdout",
     "output_type": "stream",
     "text": [
      "-----------------------------------------------------------------------\n",
      "Dataset :  CIFAR10\n",
      "- Length of Train Set :  45000\n",
      "- Length of Valid Set :  5000\n",
      "- Length of Test Set :  10000\n",
      "- Count of Classes :  10\n",
      "-----------------------------------------------------------------------\n"
     ]
    }
   ],
   "source": [
    "tmp = LoadDataset(root=\"../../../data\", seceted_dataset=DATASET, split_ratio=SPLIT_RATIO)\n",
    "train_data, valid_data, test_data, COUNT_OF_CLASSES = tmp.Unpack()"
   ]
  },
  {
   "cell_type": "code",
   "execution_count": 44,
   "metadata": {},
   "outputs": [
    {
     "name": "stdout",
     "output_type": "stream",
     "text": [
      "train.transforms = Compose(\n",
      "      Compose(\n",
      "        ToImage()\n",
      "        ToDtype(scale=True)\n",
      "  )\n",
      "      Normalize(mean=[0.49139968, 0.48215827, 0.44653124], std=[1, 1, 1], inplace=True)\n",
      "      AutoAugment(interpolation=InterpolationMode.NEAREST, policy=AutoAugmentPolicy.CIFAR10)\n",
      "      RandomCrop(size=(32, 32), padding=[4, 4, 4, 4], pad_if_needed=False, fill=0, padding_mode=constant)\n",
      "      RandomHorizontalFlip(p=0.5)\n",
      ") 128\n",
      "valid.transforms = (Compose(\n",
      "      ToImage()\n",
      "      ToDtype(scale=True)\n",
      "),) 128\n",
      "test.transforms = Compose(\n",
      "      ToImage()\n",
      "      ToDtype(scale=True)\n",
      ") 128\n"
     ]
    }
   ],
   "source": [
    "train_dataloader, valid_dataloader, test_dataloader = tmp.get_dataloader(\n",
    "    batch_size=BATCH, shuffle=SHUFFLE, num_workers=NUMOFWORKERS, pin_memory=PIN_MEMORY\n",
    ")\n"
   ]
  },
  {
   "cell_type": "markdown",
   "metadata": {},
   "source": [
    "# Define ResNet"
   ]
  },
  {
   "cell_type": "markdown",
   "metadata": {},
   "source": [
    "## Model Confirm"
   ]
  },
  {
   "cell_type": "code",
   "execution_count": 45,
   "metadata": {},
   "outputs": [
    {
     "data": {
      "text/plain": [
       "device(type='cuda')"
      ]
     },
     "execution_count": 45,
     "metadata": {},
     "output_type": "execute_result"
    }
   ],
   "source": [
    "device = torch.device(\"cuda\" if torch.cuda.is_available() else \"cpu\")\n",
    "device"
   ]
  },
  {
   "cell_type": "code",
   "execution_count": 46,
   "metadata": {},
   "outputs": [],
   "source": [
    "model = MyResNet_CIFAR(num_classes=COUNT_OF_CLASSES, num_layer_factor=5).to(device)"
   ]
  },
  {
   "cell_type": "markdown",
   "metadata": {},
   "source": [
    "# Define Training"
   ]
  },
  {
   "cell_type": "markdown",
   "metadata": {},
   "source": [
    "## (1) Define Criterion"
   ]
  },
  {
   "cell_type": "code",
   "execution_count": 47,
   "metadata": {},
   "outputs": [],
   "source": [
    "criterion = nn.CrossEntropyLoss()"
   ]
  },
  {
   "cell_type": "markdown",
   "metadata": {},
   "source": [
    "## (2) Define Optimazer"
   ]
  },
  {
   "cell_type": "code",
   "execution_count": 48,
   "metadata": {},
   "outputs": [],
   "source": [
    "if OPTIMIZER == \"Adam\":\n",
    "    optimizer = torch.optim.Adam(model.parameters())\n",
    "elif OPTIMIZER == \"Adam_decay\":\n",
    "    optimizer = torch.optim.Adam(model.parameters(), weight_decay=1e-4)\n",
    "elif OPTIMIZER == \"SGD\":\n",
    "    optimizer = torch.optim.SGD(\n",
    "        model.parameters(), lr=0.1, momentum=0.9, weight_decay=0.0001\n",
    "    )\n",
    "elif OPTIMIZER == \"SGD_nasterov\":\n",
    "    optimizer = torch.optim.SGD(\n",
    "        model.parameters(), lr=0.1, momentum=0.9, weight_decay=1e-4, nesterov=True\n",
    "    )\n",
    "elif OPTIMIZER == \"AdamW\":\n",
    "    optimizer = torch.optim.AdamW(model.parameters(), weight_decay=1e-4)\n",
    "elif OPTIMIZER == \"AdamW_amsgrad\":\n",
    "    optimizer = torch.optim.AdamW(model.parameters(), weight_decay=1e-4, amsgrad=True)\n",
    "elif OPTIMIZER == \"NAdam\":\n",
    "    optimizer = torch.optim.NAdam(model.parameters(), weight_decay=1e-4)"
   ]
  },
  {
   "cell_type": "markdown",
   "metadata": {},
   "source": [
    "## (3) Define Early Stopping"
   ]
  },
  {
   "cell_type": "code",
   "execution_count": 49,
   "metadata": {},
   "outputs": [],
   "source": [
    "earlystopper = EarlyStopper(patience=EARLYSTOPPINGPATIENCE, model=model, file_name=file_name)"
   ]
  },
  {
   "cell_type": "markdown",
   "metadata": {},
   "source": [
    "## (4) Define Learning Rate schedualer"
   ]
  },
  {
   "cell_type": "code",
   "execution_count": 50,
   "metadata": {},
   "outputs": [
    {
     "data": {
      "text/plain": [
       "'\\n=======================================================\\nif batch = 256\\n=======================================================\\nnon-split [single epoch = 196 iter] : milestones = [164, 246]\\n- 1 ~ 164 epochs == 1 ~ 32k iter >> lr = 0.1\\n- 165~246 epochs == 32k ~ 48k iter >> lr = 0.01\\n- 247~328(?) epochs == 48k ~ 64k iter >> lr = 0.001\\n=======================================================\\nsplit to 45k/5k [single epoch = 176 iter]: milestones = [182, 273]\\n- 1~182 epochs == 1 ~ 32k iter >> lr = 0.1\\n- 182~273 epochs == 32k ~ 48k iter >> lr = 0.01\\n- 273~364(?) epochs == 48k ~ 64k iter >> lr = 0.001\\n=======================================================\\nif batch = 128\\n=======================================================\\nnon-split [signle epoch = 391 iter]: milestones = [82, 123]\\n- 1 ~ 82 epochs == 1 ~ 32k iter >> lr = 0.1\\n- 83~123 epochs == 32k ~ 48k iter >> lr = 0.01\\n- 124~(164) epochs == 48k ~ 64k iter >> lr = 0.001\\n=======================================================\\nsplit to 45k/5k [signle epoch = 352 iter]: milestones = [91, 137]\\n- 1~91 epochs == 1 ~ 32k iter >> lr = 0.1\\n- 92~137 epochs == 32k ~ 48k iter >> lr = 0.01\\n- 138~(183) epochs == 48k ~ 64k iter >> lr = 0.001\\n=======================================================\\n'"
      ]
     },
     "execution_count": 50,
     "metadata": {},
     "output_type": "execute_result"
    }
   ],
   "source": [
    "# scheduler = ExponentialLR(optimizer, gamma=0.95)\n",
    "# scheduler = MultiStepLR(optimizer, milestones=[82, 123], gamma=0.1)\n",
    "scheduler = ReduceLROnPlateau(optimizer=optimizer, patience=10, factor=0.1, cooldown=40)\n",
    "\"\"\"\n",
    "=======================================================\n",
    "if batch = 256\n",
    "=======================================================\n",
    "non-split [single epoch = 196 iter] : milestones = [164, 246]\n",
    "- 1 ~ 164 epochs == 1 ~ 32k iter >> lr = 0.1\n",
    "- 165~246 epochs == 32k ~ 48k iter >> lr = 0.01\n",
    "- 247~328(?) epochs == 48k ~ 64k iter >> lr = 0.001\n",
    "=======================================================\n",
    "split to 45k/5k [single epoch = 176 iter]: milestones = [182, 273]\n",
    "- 1~182 epochs == 1 ~ 32k iter >> lr = 0.1\n",
    "- 182~273 epochs == 32k ~ 48k iter >> lr = 0.01\n",
    "- 273~364(?) epochs == 48k ~ 64k iter >> lr = 0.001\n",
    "=======================================================\n",
    "if batch = 128\n",
    "=======================================================\n",
    "non-split [signle epoch = 391 iter]: milestones = [82, 123]\n",
    "- 1 ~ 82 epochs == 1 ~ 32k iter >> lr = 0.1\n",
    "- 83~123 epochs == 32k ~ 48k iter >> lr = 0.01\n",
    "- 124~(164) epochs == 48k ~ 64k iter >> lr = 0.001\n",
    "=======================================================\n",
    "split to 45k/5k [signle epoch = 352 iter]: milestones = [91, 137]\n",
    "- 1~91 epochs == 1 ~ 32k iter >> lr = 0.1\n",
    "- 92~137 epochs == 32k ~ 48k iter >> lr = 0.01\n",
    "- 138~(183) epochs == 48k ~ 64k iter >> lr = 0.001\n",
    "=======================================================\n",
    "\"\"\""
   ]
  },
  {
   "cell_type": "markdown",
   "metadata": {},
   "source": [
    "## (5) Define AMP scaler"
   ]
  },
  {
   "cell_type": "code",
   "execution_count": 51,
   "metadata": {},
   "outputs": [],
   "source": [
    "scaler = torch.cuda.amp.GradScaler(enabled=True)"
   ]
  },
  {
   "cell_type": "markdown",
   "metadata": {},
   "source": [
    "## Load before process"
   ]
  },
  {
   "cell_type": "code",
   "execution_count": 52,
   "metadata": {},
   "outputs": [
    {
     "name": "stdout",
     "output_type": "stream",
     "text": [
      "Suceessfully loaded the All setting and Log file.\n",
      "MyResNet32_128_SGD_90\n",
      "Current epoch is 200\n",
      "Current learning rate: 0.0010000000000000002\n"
     ]
    }
   ],
   "source": [
    "if os.path.exists(file_name + \".pth.tar\"):\n",
    "    # Read checkpoint as desired, e.g.,\n",
    "    checkpoint = torch.load(\n",
    "        file_name + \".pth.tar\",\n",
    "        map_location=lambda storage, loc: storage.cuda(device),\n",
    "    )\n",
    "    model.load_state_dict(checkpoint[\"model\"])\n",
    "    optimizer.load_state_dict(checkpoint[\"optimizer\"])\n",
    "    scaler.load_state_dict(checkpoint[\"scaler\"])\n",
    "    scheduler.load_state_dict(checkpoint[\"scheduler\"])\n",
    "    earlystopper.load_state_dict(checkpoint[\"earlystopper\"])\n",
    "    logs = checkpoint[\"logs\"]\n",
    "\n",
    "    print(\"Suceessfully loaded the All setting and Log file.\")\n",
    "    print(file_name)\n",
    "    print(f\"Current epoch is {len(logs['train_loss'])}\")\n",
    "    print(f\"Current learning rate: {optimizer.param_groups[0]['lr']}\")\n",
    "else:\n",
    "    # Create a dictionary to store the variables\n",
    "    train_loss = []\n",
    "    train_acc = []\n",
    "    eval_loss = []\n",
    "    valid_acc = []\n",
    "    test_loss = []\n",
    "    test_acc = []\n",
    "    lr_log = []\n",
    "    logs = {\n",
    "        \"train_loss\": train_loss,\n",
    "        \"train_acc\": train_acc,\n",
    "        \"valid_loss\": eval_loss,\n",
    "        \"valid_acc\": valid_acc,\n",
    "        \"test_loss\": test_loss,\n",
    "        \"test_acc\": test_acc,\n",
    "        \"lr_log\": lr_log,\n",
    "    }\n",
    "    print(\"File does not exist. Created a new log.\")"
   ]
  },
  {
   "cell_type": "code",
   "execution_count": 53,
   "metadata": {},
   "outputs": [
    {
     "data": {
      "text/plain": [
       "0.0010000000000000002"
      ]
     },
     "execution_count": 53,
     "metadata": {},
     "output_type": "execute_result"
    }
   ],
   "source": [
    "optimizer.param_groups[0][\"lr\"]"
   ]
  },
  {
   "cell_type": "code",
   "execution_count": 54,
   "metadata": {},
   "outputs": [
    {
     "data": {
      "text/plain": [
       "1"
      ]
     },
     "execution_count": 54,
     "metadata": {},
     "output_type": "execute_result"
    }
   ],
   "source": [
    "earlystopper.early_stop_counter"
   ]
  },
  {
   "cell_type": "code",
   "execution_count": 55,
   "metadata": {},
   "outputs": [
    {
     "ename": "NameError",
     "evalue": "name 'fdsfs' is not defined",
     "output_type": "error",
     "traceback": [
      "\u001b[0;31m---------------------------------------------------------------------------\u001b[0m",
      "\u001b[0;31mNameError\u001b[0m                                 Traceback (most recent call last)",
      "Cell \u001b[0;32mIn[55], line 1\u001b[0m\n\u001b[0;32m----> 1\u001b[0m fdsfs\n",
      "\u001b[0;31mNameError\u001b[0m: name 'fdsfs' is not defined"
     ]
    }
   ],
   "source": [
    "fdsfs"
   ]
  },
  {
   "cell_type": "markdown",
   "metadata": {},
   "source": [
    "# [Training Loop]"
   ]
  },
  {
   "cell_type": "code",
   "execution_count": null,
   "metadata": {},
   "outputs": [
    {
     "name": "stdout",
     "output_type": "stream",
     "text": [
      "[Epoch 1/200] :\n"
     ]
    },
    {
     "name": "stderr",
     "output_type": "stream",
     "text": [
      "1 Train: 100%|███████| 352/352 [00:44<00:00,  7.94it/s]"
     ]
    },
    {
     "name": "stdout",
     "output_type": "stream",
     "text": [
      "Train Loss: 2.4392 | Train Acc: 10.14%\n"
     ]
    },
    {
     "name": "stderr",
     "output_type": "stream",
     "text": [
      "\n"
     ]
    },
    {
     "name": "stdout",
     "output_type": "stream",
     "text": [
      "Valid Loss: 2.3026 | Valid Acc: 10.54%\n",
      "Test  Loss: 2.2731 | Test Acc: 11.84%\n",
      "updated best eval loss : 2.3025917768478394\n",
      "--------------------------------------------------\n",
      "[Epoch 2/200] :\n"
     ]
    },
    {
     "name": "stderr",
     "output_type": "stream",
     "text": [
      "2 Train: 100%|███████| 352/352 [00:40<00:00,  8.66it/s]\n"
     ]
    },
    {
     "name": "stdout",
     "output_type": "stream",
     "text": [
      "Train Loss: 2.2912 | Train Acc: 11.15%\n",
      "Valid Loss: 2.2725 | Valid Acc: 11.64%\n",
      "Test  Loss: 2.1843 | Test Acc: 19.26%\n",
      "updated best eval loss : 2.272497606277466\n",
      "--------------------------------------------------\n",
      "[Epoch 3/200] :\n"
     ]
    },
    {
     "name": "stderr",
     "output_type": "stream",
     "text": [
      "3 Train: 100%|███████| 352/352 [00:42<00:00,  8.32it/s]\n"
     ]
    },
    {
     "name": "stdout",
     "output_type": "stream",
     "text": [
      "Train Loss: 2.2190 | Train Acc: 14.71%\n",
      "Valid Loss: 2.3702 | Valid Acc: 18.46%\n",
      "Test  Loss: 2.1347 | Test Acc: 24.03%\n",
      "--------------------------------------------------\n",
      "[Epoch 4/200] :\n"
     ]
    },
    {
     "name": "stderr",
     "output_type": "stream",
     "text": [
      "4 Train: 100%|███████| 352/352 [00:41<00:00,  8.45it/s]\n"
     ]
    },
    {
     "name": "stdout",
     "output_type": "stream",
     "text": [
      "Train Loss: 1.9474 | Train Acc: 27.01%\n",
      "Valid Loss: 1.9247 | Valid Acc: 27.58%\n",
      "Test  Loss: 1.9977 | Test Acc: 27.22%\n",
      "updated best eval loss : 1.9246782451868056\n",
      "--------------------------------------------------\n",
      "[Epoch 5/200] :\n"
     ]
    },
    {
     "name": "stderr",
     "output_type": "stream",
     "text": [
      "5 Train: 100%|███████| 352/352 [00:41<00:00,  8.54it/s]\n"
     ]
    },
    {
     "name": "stdout",
     "output_type": "stream",
     "text": [
      "Train Loss: 1.7368 | Train Acc: 36.17%\n",
      "Valid Loss: 1.6566 | Valid Acc: 40.32%\n",
      "Test  Loss: 1.4237 | Test Acc: 47.44%\n",
      "updated best eval loss : 1.6565641939640046\n",
      "--------------------------------------------------\n",
      "[Epoch 6/200] :\n"
     ]
    },
    {
     "name": "stderr",
     "output_type": "stream",
     "text": [
      "6 Train: 100%|███████| 352/352 [00:41<00:00,  8.48it/s]\n"
     ]
    },
    {
     "name": "stdout",
     "output_type": "stream",
     "text": [
      "Train Loss: 1.5184 | Train Acc: 45.20%\n",
      "Valid Loss: 1.5270 | Valid Acc: 45.62%\n",
      "Test  Loss: 1.4045 | Test Acc: 49.57%\n",
      "updated best eval loss : 1.5269904375076293\n",
      "--------------------------------------------------\n",
      "[Epoch 7/200] :\n"
     ]
    },
    {
     "name": "stderr",
     "output_type": "stream",
     "text": [
      "7 Train: 100%|███████| 352/352 [00:40<00:00,  8.61it/s]\n"
     ]
    },
    {
     "name": "stdout",
     "output_type": "stream",
     "text": [
      "Train Loss: 1.3488 | Train Acc: 51.90%\n",
      "Valid Loss: 1.3751 | Valid Acc: 51.36%\n",
      "Test  Loss: 1.1819 | Test Acc: 57.27%\n",
      "updated best eval loss : 1.375141218304634\n",
      "--------------------------------------------------\n",
      "[Epoch 8/200] :\n"
     ]
    },
    {
     "name": "stderr",
     "output_type": "stream",
     "text": [
      "8 Train: 100%|███████| 352/352 [00:41<00:00,  8.50it/s]\n"
     ]
    },
    {
     "name": "stdout",
     "output_type": "stream",
     "text": [
      "Train Loss: 1.2195 | Train Acc: 56.78%\n",
      "Valid Loss: 1.2237 | Valid Acc: 57.26%\n",
      "Test  Loss: 0.8895 | Test Acc: 68.65%\n",
      "updated best eval loss : 1.2236791044473647\n",
      "--------------------------------------------------\n",
      "[Epoch 9/200] :\n"
     ]
    },
    {
     "name": "stderr",
     "output_type": "stream",
     "text": [
      "9 Train: 100%|███████| 352/352 [00:41<00:00,  8.55it/s]\n"
     ]
    },
    {
     "name": "stdout",
     "output_type": "stream",
     "text": [
      "Train Loss: 1.1444 | Train Acc: 59.60%\n",
      "Valid Loss: 1.2172 | Valid Acc: 58.24%\n",
      "Test  Loss: 1.0417 | Test Acc: 65.41%\n",
      "updated best eval loss : 1.2172000795602798\n",
      "--------------------------------------------------\n",
      "[Epoch 10/200] :\n"
     ]
    },
    {
     "name": "stderr",
     "output_type": "stream",
     "text": [
      "10 Train: 100%|██████| 352/352 [00:40<00:00,  8.66it/s]\n"
     ]
    },
    {
     "name": "stdout",
     "output_type": "stream",
     "text": [
      "Train Loss: 1.0755 | Train Acc: 62.24%\n",
      "Valid Loss: 1.1195 | Valid Acc: 61.42%\n",
      "Test  Loss: 0.9304 | Test Acc: 68.96%\n",
      "updated best eval loss : 1.1194667503237725\n",
      "--------------------------------------------------\n",
      "[Epoch 11/200] :\n"
     ]
    },
    {
     "name": "stderr",
     "output_type": "stream",
     "text": [
      "11 Train: 100%|██████| 352/352 [00:40<00:00,  8.64it/s]\n"
     ]
    },
    {
     "name": "stdout",
     "output_type": "stream",
     "text": [
      "Train Loss: 1.0236 | Train Acc: 64.02%\n",
      "Valid Loss: 1.0181 | Valid Acc: 64.62%\n",
      "Test  Loss: 0.7194 | Test Acc: 75.06%\n",
      "updated best eval loss : 1.018099357187748\n",
      "--------------------------------------------------\n",
      "[Epoch 12/200] :\n"
     ]
    },
    {
     "name": "stderr",
     "output_type": "stream",
     "text": [
      "12 Train: 100%|██████| 352/352 [00:41<00:00,  8.51it/s]\n"
     ]
    },
    {
     "name": "stdout",
     "output_type": "stream",
     "text": [
      "Train Loss: 0.9816 | Train Acc: 65.86%\n",
      "Valid Loss: 1.0392 | Valid Acc: 64.12%\n",
      "Test  Loss: 0.7286 | Test Acc: 75.14%\n",
      "--------------------------------------------------\n",
      "[Epoch 13/200] :\n"
     ]
    },
    {
     "name": "stderr",
     "output_type": "stream",
     "text": [
      "13 Train: 100%|██████| 352/352 [00:41<00:00,  8.52it/s]\n"
     ]
    },
    {
     "name": "stdout",
     "output_type": "stream",
     "text": [
      "Train Loss: 0.9509 | Train Acc: 66.70%\n",
      "Valid Loss: 1.0349 | Valid Acc: 63.80%\n",
      "Test  Loss: 0.8745 | Test Acc: 70.66%\n",
      "--------------------------------------------------\n",
      "[Epoch 14/200] :\n"
     ]
    },
    {
     "name": "stderr",
     "output_type": "stream",
     "text": [
      "14 Train: 100%|██████| 352/352 [00:41<00:00,  8.45it/s]\n"
     ]
    },
    {
     "name": "stdout",
     "output_type": "stream",
     "text": [
      "Train Loss: 0.9254 | Train Acc: 67.58%\n",
      "Valid Loss: 1.0161 | Valid Acc: 65.36%\n",
      "Test  Loss: 0.7424 | Test Acc: 74.76%\n",
      "updated best eval loss : 1.0160651221871375\n",
      "--------------------------------------------------\n",
      "[Epoch 15/200] :\n"
     ]
    },
    {
     "name": "stderr",
     "output_type": "stream",
     "text": [
      "15 Train: 100%|██████| 352/352 [00:40<00:00,  8.64it/s]\n"
     ]
    },
    {
     "name": "stdout",
     "output_type": "stream",
     "text": [
      "Train Loss: 0.8968 | Train Acc: 68.82%\n",
      "Valid Loss: 0.9092 | Valid Acc: 67.26%\n",
      "Test  Loss: 0.6188 | Test Acc: 78.43%\n",
      "updated best eval loss : 0.9092063158750534\n",
      "--------------------------------------------------\n",
      "[Epoch 16/200] :\n"
     ]
    },
    {
     "name": "stderr",
     "output_type": "stream",
     "text": [
      "16 Train: 100%|██████| 352/352 [00:41<00:00,  8.49it/s]\n"
     ]
    },
    {
     "name": "stdout",
     "output_type": "stream",
     "text": [
      "Train Loss: 0.8716 | Train Acc: 69.52%\n",
      "Valid Loss: 1.0925 | Valid Acc: 63.42%\n",
      "Test  Loss: 0.8782 | Test Acc: 71.76%\n",
      "--------------------------------------------------\n",
      "[Epoch 17/200] :\n"
     ]
    },
    {
     "name": "stderr",
     "output_type": "stream",
     "text": [
      "17 Train: 100%|██████| 352/352 [00:41<00:00,  8.55it/s]\n"
     ]
    },
    {
     "name": "stdout",
     "output_type": "stream",
     "text": [
      "Train Loss: 0.8603 | Train Acc: 70.05%\n",
      "Valid Loss: 0.9449 | Valid Acc: 68.14%\n",
      "Test  Loss: 0.6510 | Test Acc: 77.88%\n",
      "--------------------------------------------------\n",
      "[Epoch 18/200] :\n"
     ]
    },
    {
     "name": "stderr",
     "output_type": "stream",
     "text": [
      "18 Train: 100%|██████| 352/352 [00:41<00:00,  8.54it/s]\n"
     ]
    },
    {
     "name": "stdout",
     "output_type": "stream",
     "text": [
      "Train Loss: 0.8484 | Train Acc: 70.10%\n",
      "Valid Loss: 0.9021 | Valid Acc: 69.60%\n",
      "Test  Loss: 0.7449 | Test Acc: 75.49%\n",
      "updated best eval loss : 0.9020965561270714\n",
      "--------------------------------------------------\n",
      "[Epoch 19/200] :\n"
     ]
    },
    {
     "name": "stderr",
     "output_type": "stream",
     "text": [
      "19 Train: 100%|██████| 352/352 [00:41<00:00,  8.53it/s]\n"
     ]
    },
    {
     "name": "stdout",
     "output_type": "stream",
     "text": [
      "Train Loss: 0.8210 | Train Acc: 71.30%\n",
      "Valid Loss: 0.8528 | Valid Acc: 70.48%\n",
      "Test  Loss: 0.6166 | Test Acc: 79.00%\n",
      "updated best eval loss : 0.8527558542788028\n",
      "--------------------------------------------------\n",
      "[Epoch 20/200] :\n"
     ]
    },
    {
     "name": "stderr",
     "output_type": "stream",
     "text": [
      "20 Train: 100%|██████| 352/352 [00:39<00:00,  8.82it/s]\n"
     ]
    },
    {
     "name": "stdout",
     "output_type": "stream",
     "text": [
      "Train Loss: 0.8106 | Train Acc: 71.52%\n",
      "Valid Loss: 0.9944 | Valid Acc: 66.64%\n",
      "Test  Loss: 0.6881 | Test Acc: 77.14%\n",
      "--------------------------------------------------\n",
      "[Epoch 21/200] :\n"
     ]
    },
    {
     "name": "stderr",
     "output_type": "stream",
     "text": [
      "21 Train: 100%|██████| 352/352 [00:41<00:00,  8.56it/s]\n"
     ]
    },
    {
     "name": "stdout",
     "output_type": "stream",
     "text": [
      "Train Loss: 0.7938 | Train Acc: 72.28%\n",
      "Valid Loss: 1.1180 | Valid Acc: 61.78%\n",
      "Test  Loss: 0.9239 | Test Acc: 69.48%\n",
      "--------------------------------------------------\n",
      "[Epoch 22/200] :\n"
     ]
    },
    {
     "name": "stderr",
     "output_type": "stream",
     "text": [
      "22 Train: 100%|██████| 352/352 [00:41<00:00,  8.47it/s]\n"
     ]
    },
    {
     "name": "stdout",
     "output_type": "stream",
     "text": [
      "Train Loss: 0.7926 | Train Acc: 72.15%\n",
      "Valid Loss: 0.8468 | Valid Acc: 70.54%\n",
      "Test  Loss: 0.6555 | Test Acc: 77.86%\n",
      "updated best eval loss : 0.8468485221266746\n",
      "--------------------------------------------------\n",
      "[Epoch 23/200] :\n"
     ]
    },
    {
     "name": "stderr",
     "output_type": "stream",
     "text": [
      "23 Train: 100%|██████| 352/352 [00:41<00:00,  8.57it/s]\n"
     ]
    },
    {
     "name": "stdout",
     "output_type": "stream",
     "text": [
      "Train Loss: 0.7746 | Train Acc: 72.95%\n",
      "Valid Loss: 0.8505 | Valid Acc: 70.52%\n",
      "Test  Loss: 0.5976 | Test Acc: 79.29%\n",
      "--------------------------------------------------\n",
      "[Epoch 24/200] :\n"
     ]
    },
    {
     "name": "stderr",
     "output_type": "stream",
     "text": [
      "24 Train: 100%|██████| 352/352 [00:41<00:00,  8.55it/s]\n"
     ]
    },
    {
     "name": "stdout",
     "output_type": "stream",
     "text": [
      "Train Loss: 0.7606 | Train Acc: 73.24%\n",
      "Valid Loss: 0.9155 | Valid Acc: 67.68%\n",
      "Test  Loss: 0.6337 | Test Acc: 78.33%\n",
      "--------------------------------------------------\n",
      "[Epoch 25/200] :\n"
     ]
    },
    {
     "name": "stderr",
     "output_type": "stream",
     "text": [
      "25 Train: 100%|██████| 352/352 [00:41<00:00,  8.55it/s]\n"
     ]
    },
    {
     "name": "stdout",
     "output_type": "stream",
     "text": [
      "Train Loss: 0.7591 | Train Acc: 73.41%\n",
      "Valid Loss: 0.8386 | Valid Acc: 71.12%\n",
      "Test  Loss: 0.5356 | Test Acc: 81.50%\n",
      "updated best eval loss : 0.8386398032307625\n",
      "--------------------------------------------------\n",
      "[Epoch 26/200] :\n"
     ]
    },
    {
     "name": "stderr",
     "output_type": "stream",
     "text": [
      "26 Train: 100%|██████| 352/352 [00:40<00:00,  8.63it/s]\n"
     ]
    },
    {
     "name": "stdout",
     "output_type": "stream",
     "text": [
      "Train Loss: 0.7488 | Train Acc: 73.96%\n",
      "Valid Loss: 0.8631 | Valid Acc: 70.48%\n",
      "Test  Loss: 0.6642 | Test Acc: 77.75%\n",
      "--------------------------------------------------\n",
      "[Epoch 27/200] :\n"
     ]
    },
    {
     "name": "stderr",
     "output_type": "stream",
     "text": [
      "27 Train: 100%|██████| 352/352 [00:40<00:00,  8.73it/s]\n"
     ]
    },
    {
     "name": "stdout",
     "output_type": "stream",
     "text": [
      "Train Loss: 0.7355 | Train Acc: 74.13%\n",
      "Valid Loss: 0.8514 | Valid Acc: 70.68%\n",
      "Test  Loss: 0.5791 | Test Acc: 80.31%\n",
      "--------------------------------------------------\n",
      "[Epoch 28/200] :\n"
     ]
    },
    {
     "name": "stderr",
     "output_type": "stream",
     "text": [
      "28 Train: 100%|██████| 352/352 [00:41<00:00,  8.55it/s]\n"
     ]
    },
    {
     "name": "stdout",
     "output_type": "stream",
     "text": [
      "Train Loss: 0.7265 | Train Acc: 74.50%\n",
      "Valid Loss: 0.8290 | Valid Acc: 71.44%\n",
      "Test  Loss: 0.6490 | Test Acc: 78.25%\n",
      "updated best eval loss : 0.8290366843342781\n",
      "--------------------------------------------------\n",
      "[Epoch 29/200] :\n"
     ]
    },
    {
     "name": "stderr",
     "output_type": "stream",
     "text": [
      "29 Train: 100%|██████| 352/352 [00:40<00:00,  8.72it/s]\n"
     ]
    },
    {
     "name": "stdout",
     "output_type": "stream",
     "text": [
      "Train Loss: 0.7205 | Train Acc: 74.95%\n",
      "Valid Loss: 0.9558 | Valid Acc: 67.70%\n",
      "Test  Loss: 0.6666 | Test Acc: 78.71%\n",
      "--------------------------------------------------\n",
      "[Epoch 30/200] :\n"
     ]
    },
    {
     "name": "stderr",
     "output_type": "stream",
     "text": [
      "30 Train: 100%|██████| 352/352 [00:43<00:00,  8.18it/s]\n"
     ]
    },
    {
     "name": "stdout",
     "output_type": "stream",
     "text": [
      "Train Loss: 0.7098 | Train Acc: 75.12%\n",
      "Valid Loss: 0.7607 | Valid Acc: 73.62%\n",
      "Test  Loss: 0.5467 | Test Acc: 81.19%\n",
      "updated best eval loss : 0.7607047021389007\n",
      "--------------------------------------------------\n",
      "[Epoch 31/200] :\n"
     ]
    },
    {
     "name": "stderr",
     "output_type": "stream",
     "text": [
      "31 Train: 100%|██████| 352/352 [00:41<00:00,  8.50it/s]\n"
     ]
    },
    {
     "name": "stdout",
     "output_type": "stream",
     "text": [
      "Train Loss: 0.7075 | Train Acc: 75.56%\n",
      "Valid Loss: 0.8558 | Valid Acc: 71.62%\n",
      "Test  Loss: 0.5807 | Test Acc: 81.27%\n",
      "--------------------------------------------------\n",
      "[Epoch 32/200] :\n"
     ]
    },
    {
     "name": "stderr",
     "output_type": "stream",
     "text": [
      "32 Train: 100%|██████| 352/352 [00:42<00:00,  8.37it/s]\n"
     ]
    },
    {
     "name": "stdout",
     "output_type": "stream",
     "text": [
      "Train Loss: 0.7019 | Train Acc: 75.41%\n",
      "Valid Loss: 0.8381 | Valid Acc: 71.60%\n",
      "Test  Loss: 0.5536 | Test Acc: 81.05%\n",
      "--------------------------------------------------\n",
      "[Epoch 33/200] :\n"
     ]
    },
    {
     "name": "stderr",
     "output_type": "stream",
     "text": [
      "33 Train: 100%|██████| 352/352 [00:41<00:00,  8.40it/s]\n"
     ]
    },
    {
     "name": "stdout",
     "output_type": "stream",
     "text": [
      "Train Loss: 0.6975 | Train Acc: 75.73%\n",
      "Valid Loss: 0.8507 | Valid Acc: 71.02%\n",
      "Test  Loss: 0.5891 | Test Acc: 80.24%\n",
      "--------------------------------------------------\n",
      "[Epoch 34/200] :\n"
     ]
    },
    {
     "name": "stderr",
     "output_type": "stream",
     "text": [
      "34 Train: 100%|██████| 352/352 [00:45<00:00,  7.78it/s]\n"
     ]
    },
    {
     "name": "stdout",
     "output_type": "stream",
     "text": [
      "Train Loss: 0.6927 | Train Acc: 75.90%\n",
      "Valid Loss: 0.7709 | Valid Acc: 73.46%\n",
      "Test  Loss: 0.4974 | Test Acc: 82.87%\n",
      "--------------------------------------------------\n",
      "[Epoch 35/200] :\n"
     ]
    },
    {
     "name": "stderr",
     "output_type": "stream",
     "text": [
      "35 Train: 100%|██████| 352/352 [00:44<00:00,  8.00it/s]\n"
     ]
    },
    {
     "name": "stdout",
     "output_type": "stream",
     "text": [
      "Train Loss: 0.6866 | Train Acc: 76.02%\n",
      "Valid Loss: 0.7583 | Valid Acc: 74.00%\n",
      "Test  Loss: 0.5098 | Test Acc: 82.24%\n",
      "updated best eval loss : 0.7583154425024986\n",
      "--------------------------------------------------\n",
      "[Epoch 36/200] :\n"
     ]
    },
    {
     "name": "stderr",
     "output_type": "stream",
     "text": [
      "36 Train: 100%|██████| 352/352 [00:43<00:00,  8.17it/s]\n"
     ]
    },
    {
     "name": "stdout",
     "output_type": "stream",
     "text": [
      "Train Loss: 0.6780 | Train Acc: 76.29%\n",
      "Valid Loss: 0.8952 | Valid Acc: 69.20%\n",
      "Test  Loss: 0.5645 | Test Acc: 80.98%\n",
      "--------------------------------------------------\n",
      "[Epoch 37/200] :\n"
     ]
    },
    {
     "name": "stderr",
     "output_type": "stream",
     "text": [
      "37 Train: 100%|██████| 352/352 [00:42<00:00,  8.21it/s]\n"
     ]
    },
    {
     "name": "stdout",
     "output_type": "stream",
     "text": [
      "Train Loss: 0.6719 | Train Acc: 76.67%\n",
      "Valid Loss: 0.7696 | Valid Acc: 72.44%\n",
      "Test  Loss: 0.5177 | Test Acc: 82.18%\n",
      "--------------------------------------------------\n",
      "[Epoch 38/200] :\n"
     ]
    },
    {
     "name": "stderr",
     "output_type": "stream",
     "text": [
      "38 Train: 100%|██████| 352/352 [00:41<00:00,  8.47it/s]\n"
     ]
    },
    {
     "name": "stdout",
     "output_type": "stream",
     "text": [
      "Train Loss: 0.6779 | Train Acc: 76.29%\n",
      "Valid Loss: 0.9548 | Valid Acc: 68.24%\n",
      "Test  Loss: 0.7227 | Test Acc: 77.41%\n",
      "--------------------------------------------------\n",
      "[Epoch 39/200] :\n"
     ]
    },
    {
     "name": "stderr",
     "output_type": "stream",
     "text": [
      "39 Train: 100%|██████| 352/352 [00:43<00:00,  8.19it/s]\n"
     ]
    },
    {
     "name": "stdout",
     "output_type": "stream",
     "text": [
      "Train Loss: 0.6676 | Train Acc: 76.67%\n",
      "Valid Loss: 0.7236 | Valid Acc: 74.76%\n",
      "Test  Loss: 0.4784 | Test Acc: 83.82%\n",
      "updated best eval loss : 0.723596316576004\n",
      "--------------------------------------------------\n",
      "[Epoch 40/200] :\n"
     ]
    },
    {
     "name": "stderr",
     "output_type": "stream",
     "text": [
      "40 Train: 100%|██████| 352/352 [00:41<00:00,  8.52it/s]\n"
     ]
    },
    {
     "name": "stdout",
     "output_type": "stream",
     "text": [
      "Train Loss: 0.6549 | Train Acc: 77.00%\n",
      "Valid Loss: 0.8304 | Valid Acc: 71.76%\n",
      "Test  Loss: 0.5745 | Test Acc: 81.58%\n",
      "--------------------------------------------------\n",
      "[Epoch 41/200] :\n"
     ]
    },
    {
     "name": "stderr",
     "output_type": "stream",
     "text": [
      "41 Train: 100%|██████| 352/352 [00:40<00:00,  8.69it/s]\n"
     ]
    },
    {
     "name": "stdout",
     "output_type": "stream",
     "text": [
      "Train Loss: 0.6580 | Train Acc: 77.07%\n",
      "Valid Loss: 0.9572 | Valid Acc: 68.20%\n",
      "Test  Loss: 0.6787 | Test Acc: 78.21%\n",
      "--------------------------------------------------\n",
      "[Epoch 42/200] :\n"
     ]
    },
    {
     "name": "stderr",
     "output_type": "stream",
     "text": [
      "42 Train: 100%|██████| 352/352 [00:40<00:00,  8.66it/s]\n"
     ]
    },
    {
     "name": "stdout",
     "output_type": "stream",
     "text": [
      "Train Loss: 0.6600 | Train Acc: 76.92%\n",
      "Valid Loss: 0.8250 | Valid Acc: 72.02%\n",
      "Test  Loss: 0.5483 | Test Acc: 81.57%\n",
      "--------------------------------------------------\n",
      "[Epoch 43/200] :\n"
     ]
    },
    {
     "name": "stderr",
     "output_type": "stream",
     "text": [
      "43 Train: 100%|██████| 352/352 [00:40<00:00,  8.79it/s]\n"
     ]
    },
    {
     "name": "stdout",
     "output_type": "stream",
     "text": [
      "Train Loss: 0.6481 | Train Acc: 77.30%\n",
      "Valid Loss: 0.7823 | Valid Acc: 73.44%\n",
      "Test  Loss: 0.5601 | Test Acc: 81.39%\n",
      "--------------------------------------------------\n",
      "[Epoch 44/200] :\n"
     ]
    },
    {
     "name": "stderr",
     "output_type": "stream",
     "text": [
      "44 Train: 100%|██████| 352/352 [00:40<00:00,  8.67it/s]\n"
     ]
    },
    {
     "name": "stdout",
     "output_type": "stream",
     "text": [
      "Train Loss: 0.6462 | Train Acc: 77.39%\n",
      "Valid Loss: 0.8106 | Valid Acc: 73.30%\n",
      "Test  Loss: 0.4567 | Test Acc: 84.19%\n",
      "--------------------------------------------------\n",
      "[Epoch 45/200] :\n"
     ]
    },
    {
     "name": "stderr",
     "output_type": "stream",
     "text": [
      "45 Train: 100%|██████| 352/352 [00:32<00:00, 10.78it/s]\n"
     ]
    },
    {
     "name": "stdout",
     "output_type": "stream",
     "text": [
      "Train Loss: 0.6469 | Train Acc: 77.44%\n",
      "Valid Loss: 0.7808 | Valid Acc: 73.94%\n",
      "Test  Loss: 0.5173 | Test Acc: 82.85%\n",
      "--------------------------------------------------\n",
      "[Epoch 46/200] :\n"
     ]
    },
    {
     "name": "stderr",
     "output_type": "stream",
     "text": [
      "46 Train: 100%|██████| 352/352 [00:31<00:00, 11.16it/s]\n"
     ]
    },
    {
     "name": "stdout",
     "output_type": "stream",
     "text": [
      "Train Loss: 0.6402 | Train Acc: 77.84%\n",
      "Valid Loss: 0.7767 | Valid Acc: 73.58%\n",
      "Test  Loss: 0.5185 | Test Acc: 83.21%\n",
      "--------------------------------------------------\n",
      "[Epoch 47/200] :\n"
     ]
    },
    {
     "name": "stderr",
     "output_type": "stream",
     "text": [
      "47 Train: 100%|██████| 352/352 [00:31<00:00, 11.31it/s]\n"
     ]
    },
    {
     "name": "stdout",
     "output_type": "stream",
     "text": [
      "Train Loss: 0.6402 | Train Acc: 77.47%\n",
      "Valid Loss: 0.8930 | Valid Acc: 70.52%\n",
      "Test  Loss: 0.6890 | Test Acc: 77.84%\n",
      "--------------------------------------------------\n",
      "[Epoch 48/200] :\n"
     ]
    },
    {
     "name": "stderr",
     "output_type": "stream",
     "text": [
      "48 Train: 100%|██████| 352/352 [00:31<00:00, 11.08it/s]\n"
     ]
    },
    {
     "name": "stdout",
     "output_type": "stream",
     "text": [
      "Train Loss: 0.6291 | Train Acc: 77.90%\n",
      "Valid Loss: 0.8736 | Valid Acc: 70.92%\n",
      "Test  Loss: 0.6621 | Test Acc: 79.23%\n",
      "--------------------------------------------------\n",
      "[Epoch 49/200] :\n"
     ]
    },
    {
     "name": "stderr",
     "output_type": "stream",
     "text": [
      "49 Train: 100%|██████| 352/352 [00:30<00:00, 11.49it/s]\n"
     ]
    },
    {
     "name": "stdout",
     "output_type": "stream",
     "text": [
      "Train Loss: 0.6264 | Train Acc: 78.20%\n",
      "Valid Loss: 0.7118 | Valid Acc: 76.02%\n",
      "Test  Loss: 0.4965 | Test Acc: 83.45%\n",
      "updated best eval loss : 0.7117872603237629\n",
      "--------------------------------------------------\n",
      "[Epoch 50/200] :\n"
     ]
    },
    {
     "name": "stderr",
     "output_type": "stream",
     "text": [
      "50 Train: 100%|██████| 352/352 [00:31<00:00, 11.21it/s]\n"
     ]
    },
    {
     "name": "stdout",
     "output_type": "stream",
     "text": [
      "Train Loss: 0.6297 | Train Acc: 78.11%\n",
      "Valid Loss: 0.7691 | Valid Acc: 74.00%\n",
      "Test  Loss: 0.4615 | Test Acc: 84.39%\n",
      "--------------------------------------------------\n",
      "[Epoch 51/200] :\n"
     ]
    },
    {
     "name": "stderr",
     "output_type": "stream",
     "text": [
      "51 Train: 100%|██████| 352/352 [00:31<00:00, 11.18it/s]\n"
     ]
    },
    {
     "name": "stdout",
     "output_type": "stream",
     "text": [
      "Train Loss: 0.6237 | Train Acc: 78.39%\n",
      "Valid Loss: 0.7282 | Valid Acc: 74.22%\n",
      "Test  Loss: 0.4390 | Test Acc: 84.73%\n",
      "--------------------------------------------------\n",
      "[Epoch 52/200] :\n"
     ]
    },
    {
     "name": "stderr",
     "output_type": "stream",
     "text": [
      "52 Train: 100%|██████| 352/352 [00:31<00:00, 11.26it/s]\n"
     ]
    },
    {
     "name": "stdout",
     "output_type": "stream",
     "text": [
      "Train Loss: 0.6244 | Train Acc: 78.23%\n",
      "Valid Loss: 0.7366 | Valid Acc: 76.38%\n",
      "Test  Loss: 0.4573 | Test Acc: 84.58%\n",
      "--------------------------------------------------\n",
      "[Epoch 53/200] :\n"
     ]
    },
    {
     "name": "stderr",
     "output_type": "stream",
     "text": [
      "53 Train: 100%|██████| 352/352 [00:31<00:00, 11.24it/s]\n"
     ]
    },
    {
     "name": "stdout",
     "output_type": "stream",
     "text": [
      "Train Loss: 0.6308 | Train Acc: 78.08%\n",
      "Valid Loss: 0.7446 | Valid Acc: 74.62%\n",
      "Test  Loss: 0.4697 | Test Acc: 84.26%\n",
      "--------------------------------------------------\n",
      "[Epoch 54/200] :\n"
     ]
    },
    {
     "name": "stderr",
     "output_type": "stream",
     "text": [
      "54 Train: 100%|██████| 352/352 [00:31<00:00, 11.26it/s]\n"
     ]
    },
    {
     "name": "stdout",
     "output_type": "stream",
     "text": [
      "Train Loss: 0.6159 | Train Acc: 78.50%\n",
      "Valid Loss: 0.6911 | Valid Acc: 75.48%\n",
      "Test  Loss: 0.4220 | Test Acc: 85.34%\n",
      "updated best eval loss : 0.6910889349877835\n",
      "--------------------------------------------------\n",
      "[Epoch 55/200] :\n"
     ]
    },
    {
     "name": "stderr",
     "output_type": "stream",
     "text": [
      "55 Train: 100%|██████| 352/352 [00:31<00:00, 11.21it/s]\n"
     ]
    },
    {
     "name": "stdout",
     "output_type": "stream",
     "text": [
      "Train Loss: 0.6064 | Train Acc: 78.83%\n",
      "Valid Loss: 0.6952 | Valid Acc: 76.16%\n",
      "Test  Loss: 0.4602 | Test Acc: 84.26%\n",
      "--------------------------------------------------\n",
      "[Epoch 56/200] :\n"
     ]
    },
    {
     "name": "stderr",
     "output_type": "stream",
     "text": [
      "56 Train: 100%|██████| 352/352 [00:31<00:00, 11.16it/s]\n"
     ]
    },
    {
     "name": "stdout",
     "output_type": "stream",
     "text": [
      "Train Loss: 0.6105 | Train Acc: 78.50%\n",
      "Valid Loss: 0.6940 | Valid Acc: 75.68%\n",
      "Test  Loss: 0.4276 | Test Acc: 85.79%\n",
      "--------------------------------------------------\n",
      "[Epoch 57/200] :\n"
     ]
    },
    {
     "name": "stderr",
     "output_type": "stream",
     "text": [
      "57 Train: 100%|██████| 352/352 [00:31<00:00, 11.17it/s]\n"
     ]
    },
    {
     "name": "stdout",
     "output_type": "stream",
     "text": [
      "Train Loss: 0.6131 | Train Acc: 78.34%\n",
      "Valid Loss: 0.6913 | Valid Acc: 76.34%\n",
      "Test  Loss: 0.4591 | Test Acc: 84.01%\n",
      "--------------------------------------------------\n",
      "[Epoch 58/200] :\n"
     ]
    },
    {
     "name": "stderr",
     "output_type": "stream",
     "text": [
      "58 Train: 100%|██████| 352/352 [00:31<00:00, 11.31it/s]\n"
     ]
    },
    {
     "name": "stdout",
     "output_type": "stream",
     "text": [
      "Train Loss: 0.6085 | Train Acc: 78.51%\n",
      "Valid Loss: 0.7047 | Valid Acc: 76.48%\n",
      "Test  Loss: 0.4205 | Test Acc: 85.65%\n",
      "--------------------------------------------------\n",
      "[Epoch 59/200] :\n"
     ]
    },
    {
     "name": "stderr",
     "output_type": "stream",
     "text": [
      "59 Train: 100%|██████| 352/352 [00:31<00:00, 11.13it/s]\n"
     ]
    },
    {
     "name": "stdout",
     "output_type": "stream",
     "text": [
      "Train Loss: 0.6074 | Train Acc: 78.74%\n",
      "Valid Loss: 0.7660 | Valid Acc: 74.18%\n",
      "Test  Loss: 0.4858 | Test Acc: 83.72%\n",
      "--------------------------------------------------\n",
      "[Epoch 60/200] :\n"
     ]
    },
    {
     "name": "stderr",
     "output_type": "stream",
     "text": [
      "60 Train: 100%|██████| 352/352 [00:30<00:00, 11.38it/s]\n"
     ]
    },
    {
     "name": "stdout",
     "output_type": "stream",
     "text": [
      "Train Loss: 0.6002 | Train Acc: 79.12%\n",
      "Valid Loss: 0.6528 | Valid Acc: 77.06%\n",
      "Test  Loss: 0.4101 | Test Acc: 86.41%\n",
      "updated best eval loss : 0.6528087921440602\n",
      "--------------------------------------------------\n",
      "[Epoch 61/200] :\n"
     ]
    },
    {
     "name": "stderr",
     "output_type": "stream",
     "text": [
      "61 Train: 100%|██████| 352/352 [00:31<00:00, 11.27it/s]\n"
     ]
    },
    {
     "name": "stdout",
     "output_type": "stream",
     "text": [
      "Train Loss: 0.5999 | Train Acc: 79.18%\n",
      "Valid Loss: 0.7485 | Valid Acc: 75.72%\n",
      "Test  Loss: 0.4684 | Test Acc: 84.82%\n",
      "--------------------------------------------------\n",
      "[Epoch 62/200] :\n"
     ]
    },
    {
     "name": "stderr",
     "output_type": "stream",
     "text": [
      "62 Train: 100%|██████| 352/352 [00:31<00:00, 11.34it/s]\n"
     ]
    },
    {
     "name": "stdout",
     "output_type": "stream",
     "text": [
      "Train Loss: 0.5945 | Train Acc: 79.36%\n",
      "Valid Loss: 0.7512 | Valid Acc: 75.14%\n",
      "Test  Loss: 0.5038 | Test Acc: 83.43%\n",
      "--------------------------------------------------\n",
      "[Epoch 63/200] :\n"
     ]
    },
    {
     "name": "stderr",
     "output_type": "stream",
     "text": [
      "63 Train: 100%|██████| 352/352 [00:31<00:00, 11.21it/s]\n"
     ]
    },
    {
     "name": "stdout",
     "output_type": "stream",
     "text": [
      "Train Loss: 0.6033 | Train Acc: 78.93%\n",
      "Valid Loss: 0.7162 | Valid Acc: 75.54%\n",
      "Test  Loss: 0.5052 | Test Acc: 83.14%\n",
      "--------------------------------------------------\n",
      "[Epoch 64/200] :\n"
     ]
    },
    {
     "name": "stderr",
     "output_type": "stream",
     "text": [
      "64 Train: 100%|██████| 352/352 [00:31<00:00, 11.31it/s]\n"
     ]
    },
    {
     "name": "stdout",
     "output_type": "stream",
     "text": [
      "Train Loss: 0.5945 | Train Acc: 79.38%\n",
      "Valid Loss: 0.7696 | Valid Acc: 73.40%\n",
      "Test  Loss: 0.5757 | Test Acc: 80.55%\n",
      "--------------------------------------------------\n",
      "[Epoch 65/200] :\n"
     ]
    },
    {
     "name": "stderr",
     "output_type": "stream",
     "text": [
      "65 Train: 100%|██████| 352/352 [00:30<00:00, 11.38it/s]\n"
     ]
    },
    {
     "name": "stdout",
     "output_type": "stream",
     "text": [
      "Train Loss: 0.5894 | Train Acc: 79.41%\n",
      "Valid Loss: 0.8657 | Valid Acc: 71.50%\n",
      "Test  Loss: 0.4909 | Test Acc: 83.49%\n",
      "--------------------------------------------------\n",
      "[Epoch 66/200] :\n"
     ]
    },
    {
     "name": "stderr",
     "output_type": "stream",
     "text": [
      "66 Train: 100%|██████| 352/352 [00:31<00:00, 11.30it/s]\n"
     ]
    },
    {
     "name": "stdout",
     "output_type": "stream",
     "text": [
      "Train Loss: 0.5905 | Train Acc: 79.55%\n",
      "Valid Loss: 0.7322 | Valid Acc: 75.00%\n",
      "Test  Loss: 0.5109 | Test Acc: 83.70%\n",
      "--------------------------------------------------\n",
      "[Epoch 67/200] :\n"
     ]
    },
    {
     "name": "stderr",
     "output_type": "stream",
     "text": [
      "67 Train: 100%|██████| 352/352 [00:31<00:00, 11.27it/s]\n"
     ]
    },
    {
     "name": "stdout",
     "output_type": "stream",
     "text": [
      "Train Loss: 0.6005 | Train Acc: 79.08%\n",
      "Valid Loss: 0.6665 | Valid Acc: 77.44%\n",
      "Test  Loss: 0.4312 | Test Acc: 85.14%\n",
      "--------------------------------------------------\n",
      "[Epoch 68/200] :\n"
     ]
    },
    {
     "name": "stderr",
     "output_type": "stream",
     "text": [
      "68 Train: 100%|██████| 352/352 [00:31<00:00, 11.18it/s]\n"
     ]
    },
    {
     "name": "stdout",
     "output_type": "stream",
     "text": [
      "Train Loss: 0.5798 | Train Acc: 79.80%\n",
      "Valid Loss: 0.6519 | Valid Acc: 77.28%\n",
      "Test  Loss: 0.3894 | Test Acc: 86.92%\n",
      "updated best eval loss : 0.6518682762980461\n",
      "--------------------------------------------------\n",
      "[Epoch 69/200] :\n"
     ]
    },
    {
     "name": "stderr",
     "output_type": "stream",
     "text": [
      "69 Train: 100%|██████| 352/352 [00:31<00:00, 11.20it/s]\n"
     ]
    },
    {
     "name": "stdout",
     "output_type": "stream",
     "text": [
      "Train Loss: 0.6008 | Train Acc: 78.91%\n",
      "Valid Loss: 0.6617 | Valid Acc: 77.88%\n",
      "Test  Loss: 0.3853 | Test Acc: 86.69%\n",
      "--------------------------------------------------\n",
      "[Epoch 70/200] :\n"
     ]
    },
    {
     "name": "stderr",
     "output_type": "stream",
     "text": [
      "70 Train: 100%|██████| 352/352 [00:31<00:00, 11.02it/s]\n"
     ]
    },
    {
     "name": "stdout",
     "output_type": "stream",
     "text": [
      "Train Loss: 0.5920 | Train Acc: 79.17%\n",
      "Valid Loss: 0.7274 | Valid Acc: 75.00%\n",
      "Test  Loss: 0.3999 | Test Acc: 86.35%\n",
      "--------------------------------------------------\n",
      "[Epoch 71/200] :\n"
     ]
    },
    {
     "name": "stderr",
     "output_type": "stream",
     "text": [
      "71 Train: 100%|██████| 352/352 [00:31<00:00, 11.26it/s]\n"
     ]
    },
    {
     "name": "stdout",
     "output_type": "stream",
     "text": [
      "Train Loss: 0.5800 | Train Acc: 79.72%\n",
      "Valid Loss: 0.6975 | Valid Acc: 76.28%\n",
      "Test  Loss: 0.4471 | Test Acc: 85.65%\n",
      "--------------------------------------------------\n",
      "[Epoch 72/200] :\n"
     ]
    },
    {
     "name": "stderr",
     "output_type": "stream",
     "text": [
      "72 Train: 100%|██████| 352/352 [00:31<00:00, 11.28it/s]\n"
     ]
    },
    {
     "name": "stdout",
     "output_type": "stream",
     "text": [
      "Train Loss: 0.5805 | Train Acc: 79.72%\n",
      "Valid Loss: 0.7095 | Valid Acc: 76.14%\n",
      "Test  Loss: 0.4268 | Test Acc: 85.45%\n",
      "--------------------------------------------------\n",
      "[Epoch 73/200] :\n"
     ]
    },
    {
     "name": "stderr",
     "output_type": "stream",
     "text": [
      "73 Train: 100%|██████| 352/352 [00:31<00:00, 11.32it/s]\n"
     ]
    },
    {
     "name": "stdout",
     "output_type": "stream",
     "text": [
      "Train Loss: 0.5779 | Train Acc: 79.88%\n",
      "Valid Loss: 0.6564 | Valid Acc: 78.28%\n",
      "Test  Loss: 0.3970 | Test Acc: 86.98%\n",
      "--------------------------------------------------\n",
      "[Epoch 74/200] :\n"
     ]
    },
    {
     "name": "stderr",
     "output_type": "stream",
     "text": [
      "74 Train: 100%|██████| 352/352 [00:31<00:00, 11.13it/s]\n"
     ]
    },
    {
     "name": "stdout",
     "output_type": "stream",
     "text": [
      "Train Loss: 0.5774 | Train Acc: 79.94%\n",
      "Valid Loss: 0.7155 | Valid Acc: 75.46%\n",
      "Test  Loss: 0.4483 | Test Acc: 84.98%\n",
      "--------------------------------------------------\n",
      "[Epoch 75/200] :\n"
     ]
    },
    {
     "name": "stderr",
     "output_type": "stream",
     "text": [
      "75 Train: 100%|██████| 352/352 [00:30<00:00, 11.47it/s]\n"
     ]
    },
    {
     "name": "stdout",
     "output_type": "stream",
     "text": [
      "Train Loss: 0.5814 | Train Acc: 79.63%\n",
      "Valid Loss: 0.6955 | Valid Acc: 75.94%\n",
      "Test  Loss: 0.4485 | Test Acc: 84.87%\n",
      "--------------------------------------------------\n",
      "[Epoch 76/200] :\n"
     ]
    },
    {
     "name": "stderr",
     "output_type": "stream",
     "text": [
      "76 Train: 100%|██████| 352/352 [00:30<00:00, 11.38it/s]\n"
     ]
    },
    {
     "name": "stdout",
     "output_type": "stream",
     "text": [
      "Train Loss: 0.5788 | Train Acc: 79.80%\n",
      "Valid Loss: 0.6590 | Valid Acc: 76.68%\n",
      "Test  Loss: 0.4323 | Test Acc: 85.14%\n",
      "--------------------------------------------------\n",
      "[Epoch 77/200] :\n"
     ]
    },
    {
     "name": "stderr",
     "output_type": "stream",
     "text": [
      "77 Train: 100%|██████| 352/352 [00:31<00:00, 11.27it/s]\n"
     ]
    },
    {
     "name": "stdout",
     "output_type": "stream",
     "text": [
      "Train Loss: 0.5719 | Train Acc: 80.04%\n",
      "Valid Loss: 0.6971 | Valid Acc: 76.38%\n",
      "Test  Loss: 0.3953 | Test Acc: 86.89%\n",
      "--------------------------------------------------\n",
      "[Epoch 78/200] :\n"
     ]
    },
    {
     "name": "stderr",
     "output_type": "stream",
     "text": [
      "78 Train: 100%|██████| 352/352 [00:31<00:00, 11.20it/s]\n"
     ]
    },
    {
     "name": "stdout",
     "output_type": "stream",
     "text": [
      "Train Loss: 0.5777 | Train Acc: 79.94%\n",
      "Valid Loss: 0.7227 | Valid Acc: 75.40%\n",
      "Test  Loss: 0.4729 | Test Acc: 84.19%\n",
      "--------------------------------------------------\n",
      "[Epoch 79/200] :\n"
     ]
    },
    {
     "name": "stderr",
     "output_type": "stream",
     "text": [
      "79 Train: 100%|██████| 352/352 [00:31<00:00, 11.19it/s]\n"
     ]
    },
    {
     "name": "stdout",
     "output_type": "stream",
     "text": [
      "Train Loss: 0.5786 | Train Acc: 79.79%\n",
      "Valid Loss: 0.6339 | Valid Acc: 78.40%\n",
      "Test  Loss: 0.4009 | Test Acc: 86.42%\n",
      "updated best eval loss : 0.6338638365268707\n",
      "--------------------------------------------------\n",
      "[Epoch 80/200] :\n"
     ]
    },
    {
     "name": "stderr",
     "output_type": "stream",
     "text": [
      "80 Train: 100%|██████| 352/352 [00:31<00:00, 11.34it/s]\n"
     ]
    },
    {
     "name": "stdout",
     "output_type": "stream",
     "text": [
      "Train Loss: 0.5647 | Train Acc: 80.16%\n",
      "Valid Loss: 0.7141 | Valid Acc: 75.66%\n",
      "Test  Loss: 0.4548 | Test Acc: 84.83%\n",
      "--------------------------------------------------\n",
      "[Epoch 81/200] :\n"
     ]
    },
    {
     "name": "stderr",
     "output_type": "stream",
     "text": [
      "81 Train: 100%|██████| 352/352 [00:31<00:00, 11.11it/s]\n"
     ]
    },
    {
     "name": "stdout",
     "output_type": "stream",
     "text": [
      "Train Loss: 0.5666 | Train Acc: 80.12%\n",
      "Valid Loss: 0.8252 | Valid Acc: 73.04%\n",
      "Test  Loss: 0.5432 | Test Acc: 82.91%\n",
      "--------------------------------------------------\n",
      "[Epoch 82/200] :\n"
     ]
    },
    {
     "name": "stderr",
     "output_type": "stream",
     "text": [
      "82 Train: 100%|██████| 352/352 [00:30<00:00, 11.41it/s]\n"
     ]
    },
    {
     "name": "stdout",
     "output_type": "stream",
     "text": [
      "Train Loss: 0.5624 | Train Acc: 80.32%\n",
      "Valid Loss: 0.8212 | Valid Acc: 73.26%\n",
      "Test  Loss: 0.6332 | Test Acc: 80.08%\n",
      "--------------------------------------------------\n",
      "[Epoch 83/200] :\n"
     ]
    },
    {
     "name": "stderr",
     "output_type": "stream",
     "text": [
      "83 Train: 100%|██████| 352/352 [00:31<00:00, 11.21it/s]\n"
     ]
    },
    {
     "name": "stdout",
     "output_type": "stream",
     "text": [
      "Train Loss: 0.5697 | Train Acc: 80.20%\n",
      "Valid Loss: 0.7290 | Valid Acc: 76.30%\n",
      "Test  Loss: 0.4891 | Test Acc: 84.74%\n",
      "--------------------------------------------------\n",
      "[Epoch 84/200] :\n"
     ]
    },
    {
     "name": "stderr",
     "output_type": "stream",
     "text": [
      "84 Train: 100%|██████| 352/352 [00:31<00:00, 11.23it/s]\n"
     ]
    },
    {
     "name": "stdout",
     "output_type": "stream",
     "text": [
      "Train Loss: 0.5701 | Train Acc: 80.05%\n",
      "Valid Loss: 0.7018 | Valid Acc: 75.22%\n",
      "Test  Loss: 0.4428 | Test Acc: 84.63%\n",
      "--------------------------------------------------\n",
      "[Epoch 85/200] :\n"
     ]
    },
    {
     "name": "stderr",
     "output_type": "stream",
     "text": [
      "85 Train: 100%|██████| 352/352 [00:30<00:00, 11.38it/s]\n"
     ]
    },
    {
     "name": "stdout",
     "output_type": "stream",
     "text": [
      "Train Loss: 0.5638 | Train Acc: 80.27%\n",
      "Valid Loss: 0.6843 | Valid Acc: 76.96%\n",
      "Test  Loss: 0.4562 | Test Acc: 84.49%\n",
      "--------------------------------------------------\n",
      "[Epoch 86/200] :\n"
     ]
    },
    {
     "name": "stderr",
     "output_type": "stream",
     "text": [
      "86 Train: 100%|██████| 352/352 [00:30<00:00, 11.44it/s]\n"
     ]
    },
    {
     "name": "stdout",
     "output_type": "stream",
     "text": [
      "Train Loss: 0.5661 | Train Acc: 80.26%\n",
      "Valid Loss: 0.6595 | Valid Acc: 77.02%\n",
      "Test  Loss: 0.3850 | Test Acc: 87.12%\n",
      "--------------------------------------------------\n",
      "[Epoch 87/200] :\n"
     ]
    },
    {
     "name": "stderr",
     "output_type": "stream",
     "text": [
      "87 Train: 100%|██████| 352/352 [00:31<00:00, 11.26it/s]\n"
     ]
    },
    {
     "name": "stdout",
     "output_type": "stream",
     "text": [
      "Train Loss: 0.5621 | Train Acc: 80.21%\n",
      "Valid Loss: 0.7203 | Valid Acc: 75.68%\n",
      "Test  Loss: 0.4633 | Test Acc: 85.07%\n",
      "--------------------------------------------------\n",
      "[Epoch 88/200] :\n"
     ]
    },
    {
     "name": "stderr",
     "output_type": "stream",
     "text": [
      "88 Train: 100%|██████| 352/352 [00:30<00:00, 11.45it/s]\n"
     ]
    },
    {
     "name": "stdout",
     "output_type": "stream",
     "text": [
      "Train Loss: 0.5634 | Train Acc: 80.46%\n",
      "Valid Loss: 0.6370 | Valid Acc: 78.34%\n",
      "Test  Loss: 0.3799 | Test Acc: 87.08%\n",
      "--------------------------------------------------\n",
      "[Epoch 89/200] :\n"
     ]
    },
    {
     "name": "stderr",
     "output_type": "stream",
     "text": [
      "89 Train: 100%|██████| 352/352 [00:31<00:00, 11.15it/s]\n"
     ]
    },
    {
     "name": "stdout",
     "output_type": "stream",
     "text": [
      "Train Loss: 0.5704 | Train Acc: 80.07%\n",
      "Valid Loss: 0.6398 | Valid Acc: 77.88%\n",
      "Test  Loss: 0.4027 | Test Acc: 86.33%\n",
      "--------------------------------------------------\n",
      "[Epoch 90/200] :\n"
     ]
    },
    {
     "name": "stderr",
     "output_type": "stream",
     "text": [
      "90 Train: 100%|██████| 352/352 [00:31<00:00, 11.31it/s]\n"
     ]
    },
    {
     "name": "stdout",
     "output_type": "stream",
     "text": [
      "Train Loss: 0.5610 | Train Acc: 80.25%\n",
      "Valid Loss: 0.6795 | Valid Acc: 77.48%\n",
      "Test  Loss: 0.3918 | Test Acc: 86.55%\n",
      "--------------------------------------------------\n",
      "[Epoch 91/200] :\n"
     ]
    },
    {
     "name": "stderr",
     "output_type": "stream",
     "text": [
      "91 Train: 100%|██████| 352/352 [00:31<00:00, 11.29it/s]\n"
     ]
    },
    {
     "name": "stdout",
     "output_type": "stream",
     "text": [
      "Train Loss: 0.4668 | Train Acc: 83.57%\n",
      "Valid Loss: 0.5226 | Valid Acc: 82.30%\n",
      "Test  Loss: 0.2911 | Test Acc: 90.07%\n",
      "updated best eval loss : 0.5225748918950558\n",
      "--------------------------------------------------\n",
      "[Epoch 92/200] :\n"
     ]
    },
    {
     "name": "stderr",
     "output_type": "stream",
     "text": [
      "92 Train: 100%|██████| 352/352 [00:31<00:00, 11.24it/s]\n"
     ]
    },
    {
     "name": "stdout",
     "output_type": "stream",
     "text": [
      "Train Loss: 0.4307 | Train Acc: 85.00%\n",
      "Valid Loss: 0.4914 | Valid Acc: 83.28%\n",
      "Test  Loss: 0.2729 | Test Acc: 90.67%\n",
      "updated best eval loss : 0.49140421152114866\n",
      "--------------------------------------------------\n",
      "[Epoch 93/200] :\n"
     ]
    },
    {
     "name": "stderr",
     "output_type": "stream",
     "text": [
      "93 Train: 100%|██████| 352/352 [00:31<00:00, 11.04it/s]\n"
     ]
    },
    {
     "name": "stdout",
     "output_type": "stream",
     "text": [
      "Train Loss: 0.4140 | Train Acc: 85.57%\n",
      "Valid Loss: 0.4782 | Valid Acc: 83.54%\n",
      "Test  Loss: 0.2689 | Test Acc: 90.84%\n",
      "updated best eval loss : 0.4782248631119728\n",
      "--------------------------------------------------\n",
      "[Epoch 94/200] :\n"
     ]
    },
    {
     "name": "stderr",
     "output_type": "stream",
     "text": [
      "94 Train: 100%|██████| 352/352 [00:32<00:00, 10.94it/s]\n"
     ]
    },
    {
     "name": "stdout",
     "output_type": "stream",
     "text": [
      "Train Loss: 0.4063 | Train Acc: 85.84%\n",
      "Valid Loss: 0.4901 | Valid Acc: 82.84%\n",
      "Test  Loss: 0.2652 | Test Acc: 91.08%\n",
      "--------------------------------------------------\n",
      "[Epoch 95/200] :\n"
     ]
    },
    {
     "name": "stderr",
     "output_type": "stream",
     "text": [
      "95 Train: 100%|██████| 352/352 [00:31<00:00, 11.15it/s]\n"
     ]
    },
    {
     "name": "stdout",
     "output_type": "stream",
     "text": [
      "Train Loss: 0.3968 | Train Acc: 86.06%\n",
      "Valid Loss: 0.4848 | Valid Acc: 82.82%\n",
      "Test  Loss: 0.2741 | Test Acc: 90.92%\n",
      "--------------------------------------------------\n",
      "[Epoch 96/200] :\n"
     ]
    },
    {
     "name": "stderr",
     "output_type": "stream",
     "text": [
      "96 Train: 100%|██████| 352/352 [00:31<00:00, 11.11it/s]\n"
     ]
    },
    {
     "name": "stdout",
     "output_type": "stream",
     "text": [
      "Train Loss: 0.3902 | Train Acc: 86.26%\n",
      "Valid Loss: 0.4846 | Valid Acc: 83.12%\n",
      "Test  Loss: 0.2633 | Test Acc: 91.18%\n",
      "--------------------------------------------------\n",
      "[Epoch 97/200] :\n"
     ]
    },
    {
     "name": "stderr",
     "output_type": "stream",
     "text": [
      "97 Train: 100%|██████| 352/352 [00:32<00:00, 10.68it/s]\n"
     ]
    },
    {
     "name": "stdout",
     "output_type": "stream",
     "text": [
      "Train Loss: 0.3848 | Train Acc: 86.54%\n",
      "Valid Loss: 0.4764 | Valid Acc: 83.60%\n",
      "Test  Loss: 0.2629 | Test Acc: 91.09%\n",
      "updated best eval loss : 0.4763590842485428\n",
      "--------------------------------------------------\n",
      "[Epoch 98/200] :\n"
     ]
    },
    {
     "name": "stderr",
     "output_type": "stream",
     "text": [
      "98 Train: 100%|██████| 352/352 [00:31<00:00, 11.22it/s]\n"
     ]
    },
    {
     "name": "stdout",
     "output_type": "stream",
     "text": [
      "Train Loss: 0.3825 | Train Acc: 86.57%\n",
      "Valid Loss: 0.4661 | Valid Acc: 83.70%\n",
      "Test  Loss: 0.2569 | Test Acc: 91.32%\n",
      "updated best eval loss : 0.46611050963401796\n",
      "--------------------------------------------------\n",
      "[Epoch 99/200] :\n"
     ]
    },
    {
     "name": "stderr",
     "output_type": "stream",
     "text": [
      "99 Train: 100%|██████| 352/352 [00:31<00:00, 11.29it/s]\n"
     ]
    },
    {
     "name": "stdout",
     "output_type": "stream",
     "text": [
      "Train Loss: 0.3792 | Train Acc: 86.84%\n",
      "Valid Loss: 0.4812 | Valid Acc: 83.98%\n",
      "Test  Loss: 0.2547 | Test Acc: 91.45%\n",
      "--------------------------------------------------\n",
      "[Epoch 100/200] :\n"
     ]
    },
    {
     "name": "stderr",
     "output_type": "stream",
     "text": [
      "100 Train: 100%|█████| 352/352 [00:31<00:00, 11.10it/s]\n"
     ]
    },
    {
     "name": "stdout",
     "output_type": "stream",
     "text": [
      "Train Loss: 0.3837 | Train Acc: 86.58%\n",
      "Valid Loss: 0.4987 | Valid Acc: 83.52%\n",
      "Test  Loss: 0.2644 | Test Acc: 91.12%\n",
      "--------------------------------------------------\n",
      "[Epoch 101/200] :\n"
     ]
    },
    {
     "name": "stderr",
     "output_type": "stream",
     "text": [
      "101 Train: 100%|█████| 352/352 [00:31<00:00, 11.30it/s]\n"
     ]
    },
    {
     "name": "stdout",
     "output_type": "stream",
     "text": [
      "Train Loss: 0.3789 | Train Acc: 86.65%\n",
      "Valid Loss: 0.4802 | Valid Acc: 83.62%\n",
      "Test  Loss: 0.2539 | Test Acc: 91.37%\n",
      "--------------------------------------------------\n",
      "[Epoch 102/200] :\n"
     ]
    },
    {
     "name": "stderr",
     "output_type": "stream",
     "text": [
      "102 Train: 100%|█████| 352/352 [00:31<00:00, 11.19it/s]\n"
     ]
    },
    {
     "name": "stdout",
     "output_type": "stream",
     "text": [
      "Train Loss: 0.3713 | Train Acc: 87.09%\n",
      "Valid Loss: 0.4769 | Valid Acc: 83.74%\n",
      "Test  Loss: 0.2581 | Test Acc: 91.59%\n",
      "--------------------------------------------------\n",
      "[Epoch 103/200] :\n"
     ]
    },
    {
     "name": "stderr",
     "output_type": "stream",
     "text": [
      "103 Train: 100%|█████| 352/352 [00:32<00:00, 10.96it/s]\n"
     ]
    },
    {
     "name": "stdout",
     "output_type": "stream",
     "text": [
      "Train Loss: 0.3735 | Train Acc: 86.92%\n",
      "Valid Loss: 0.4741 | Valid Acc: 83.24%\n",
      "Test  Loss: 0.2577 | Test Acc: 91.47%\n",
      "--------------------------------------------------\n",
      "[Epoch 104/200] :\n"
     ]
    },
    {
     "name": "stderr",
     "output_type": "stream",
     "text": [
      "104 Train: 100%|█████| 352/352 [00:31<00:00, 11.09it/s]\n"
     ]
    },
    {
     "name": "stdout",
     "output_type": "stream",
     "text": [
      "Train Loss: 0.3686 | Train Acc: 87.03%\n",
      "Valid Loss: 0.4569 | Valid Acc: 84.70%\n",
      "Test  Loss: 0.2546 | Test Acc: 91.49%\n",
      "updated best eval loss : 0.4569371145218611\n",
      "--------------------------------------------------\n",
      "[Epoch 105/200] :\n"
     ]
    },
    {
     "name": "stderr",
     "output_type": "stream",
     "text": [
      "105 Train: 100%|█████| 352/352 [00:30<00:00, 11.38it/s]\n"
     ]
    },
    {
     "name": "stdout",
     "output_type": "stream",
     "text": [
      "Train Loss: 0.3676 | Train Acc: 87.28%\n",
      "Valid Loss: 0.4629 | Valid Acc: 84.56%\n",
      "Test  Loss: 0.2514 | Test Acc: 91.45%\n",
      "--------------------------------------------------\n",
      "[Epoch 106/200] :\n"
     ]
    },
    {
     "name": "stderr",
     "output_type": "stream",
     "text": [
      "106 Train: 100%|█████| 352/352 [00:31<00:00, 11.28it/s]\n"
     ]
    },
    {
     "name": "stdout",
     "output_type": "stream",
     "text": [
      "Train Loss: 0.3635 | Train Acc: 87.36%\n",
      "Valid Loss: 0.4774 | Valid Acc: 83.62%\n",
      "Test  Loss: 0.2637 | Test Acc: 91.31%\n",
      "--------------------------------------------------\n",
      "[Epoch 107/200] :\n"
     ]
    },
    {
     "name": "stderr",
     "output_type": "stream",
     "text": [
      "107 Train: 100%|█████| 352/352 [00:31<00:00, 11.09it/s]\n"
     ]
    },
    {
     "name": "stdout",
     "output_type": "stream",
     "text": [
      "Train Loss: 0.3542 | Train Acc: 87.52%\n",
      "Valid Loss: 0.4722 | Valid Acc: 84.10%\n",
      "Test  Loss: 0.2496 | Test Acc: 91.63%\n",
      "--------------------------------------------------\n",
      "[Epoch 108/200] :\n"
     ]
    },
    {
     "name": "stderr",
     "output_type": "stream",
     "text": [
      "108 Train: 100%|█████| 352/352 [00:31<00:00, 11.31it/s]\n"
     ]
    },
    {
     "name": "stdout",
     "output_type": "stream",
     "text": [
      "Train Loss: 0.3685 | Train Acc: 86.99%\n",
      "Valid Loss: 0.4886 | Valid Acc: 83.82%\n",
      "Test  Loss: 0.2678 | Test Acc: 91.32%\n",
      "--------------------------------------------------\n",
      "[Epoch 109/200] :\n"
     ]
    },
    {
     "name": "stderr",
     "output_type": "stream",
     "text": [
      "109 Train: 100%|█████| 352/352 [00:31<00:00, 11.07it/s]\n"
     ]
    },
    {
     "name": "stdout",
     "output_type": "stream",
     "text": [
      "Train Loss: 0.3598 | Train Acc: 87.39%\n",
      "Valid Loss: 0.4710 | Valid Acc: 84.62%\n",
      "Test  Loss: 0.2503 | Test Acc: 91.60%\n",
      "--------------------------------------------------\n",
      "[Epoch 110/200] :\n"
     ]
    },
    {
     "name": "stderr",
     "output_type": "stream",
     "text": [
      "110 Train: 100%|█████| 352/352 [00:31<00:00, 11.13it/s]\n"
     ]
    },
    {
     "name": "stdout",
     "output_type": "stream",
     "text": [
      "Train Loss: 0.3584 | Train Acc: 87.40%\n",
      "Valid Loss: 0.4848 | Valid Acc: 83.46%\n",
      "Test  Loss: 0.2466 | Test Acc: 91.77%\n",
      "--------------------------------------------------\n",
      "[Epoch 111/200] :\n"
     ]
    },
    {
     "name": "stderr",
     "output_type": "stream",
     "text": [
      "111 Train: 100%|█████| 352/352 [00:31<00:00, 11.17it/s]\n"
     ]
    },
    {
     "name": "stdout",
     "output_type": "stream",
     "text": [
      "Train Loss: 0.3533 | Train Acc: 87.60%\n",
      "Valid Loss: 0.4547 | Valid Acc: 84.58%\n",
      "Test  Loss: 0.2509 | Test Acc: 91.44%\n",
      "updated best eval loss : 0.45470561534166337\n",
      "--------------------------------------------------\n",
      "[Epoch 112/200] :\n"
     ]
    },
    {
     "name": "stderr",
     "output_type": "stream",
     "text": [
      "112 Train: 100%|█████| 352/352 [00:31<00:00, 11.26it/s]\n"
     ]
    },
    {
     "name": "stdout",
     "output_type": "stream",
     "text": [
      "Train Loss: 0.3529 | Train Acc: 87.62%\n",
      "Valid Loss: 0.4971 | Valid Acc: 83.88%\n",
      "Test  Loss: 0.2524 | Test Acc: 91.55%\n",
      "--------------------------------------------------\n",
      "[Epoch 113/200] :\n"
     ]
    },
    {
     "name": "stderr",
     "output_type": "stream",
     "text": [
      "113 Train: 100%|█████| 352/352 [00:31<00:00, 11.27it/s]\n"
     ]
    },
    {
     "name": "stdout",
     "output_type": "stream",
     "text": [
      "Train Loss: 0.3528 | Train Acc: 87.71%\n",
      "Valid Loss: 0.4630 | Valid Acc: 84.20%\n",
      "Test  Loss: 0.2539 | Test Acc: 91.46%\n",
      "--------------------------------------------------\n",
      "[Epoch 114/200] :\n"
     ]
    },
    {
     "name": "stderr",
     "output_type": "stream",
     "text": [
      "114 Train: 100%|█████| 352/352 [00:31<00:00, 11.19it/s]\n"
     ]
    },
    {
     "name": "stdout",
     "output_type": "stream",
     "text": [
      "Train Loss: 0.3460 | Train Acc: 87.84%\n",
      "Valid Loss: 0.4616 | Valid Acc: 84.50%\n",
      "Test  Loss: 0.2556 | Test Acc: 91.39%\n",
      "--------------------------------------------------\n",
      "[Epoch 115/200] :\n"
     ]
    },
    {
     "name": "stderr",
     "output_type": "stream",
     "text": [
      "115 Train: 100%|█████| 352/352 [00:31<00:00, 11.24it/s]\n"
     ]
    },
    {
     "name": "stdout",
     "output_type": "stream",
     "text": [
      "Train Loss: 0.3522 | Train Acc: 87.53%\n",
      "Valid Loss: 0.4687 | Valid Acc: 83.84%\n",
      "Test  Loss: 0.2548 | Test Acc: 91.49%\n",
      "--------------------------------------------------\n",
      "[Epoch 116/200] :\n"
     ]
    },
    {
     "name": "stderr",
     "output_type": "stream",
     "text": [
      "116 Train: 100%|█████| 352/352 [00:31<00:00, 11.12it/s]\n"
     ]
    },
    {
     "name": "stdout",
     "output_type": "stream",
     "text": [
      "Train Loss: 0.3484 | Train Acc: 87.78%\n",
      "Valid Loss: 0.4735 | Valid Acc: 84.24%\n",
      "Test  Loss: 0.2517 | Test Acc: 91.64%\n",
      "--------------------------------------------------\n",
      "[Epoch 117/200] :\n"
     ]
    },
    {
     "name": "stderr",
     "output_type": "stream",
     "text": [
      "117 Train: 100%|█████| 352/352 [00:31<00:00, 11.30it/s]\n"
     ]
    },
    {
     "name": "stdout",
     "output_type": "stream",
     "text": [
      "Train Loss: 0.3448 | Train Acc: 87.88%\n",
      "Valid Loss: 0.4885 | Valid Acc: 83.58%\n",
      "Test  Loss: 0.2595 | Test Acc: 91.42%\n",
      "--------------------------------------------------\n",
      "[Epoch 118/200] :\n"
     ]
    },
    {
     "name": "stderr",
     "output_type": "stream",
     "text": [
      "118 Train: 100%|█████| 352/352 [00:31<00:00, 11.24it/s]\n"
     ]
    },
    {
     "name": "stdout",
     "output_type": "stream",
     "text": [
      "Train Loss: 0.3441 | Train Acc: 87.97%\n",
      "Valid Loss: 0.4770 | Valid Acc: 83.52%\n",
      "Test  Loss: 0.2533 | Test Acc: 91.75%\n",
      "--------------------------------------------------\n",
      "[Epoch 119/200] :\n"
     ]
    },
    {
     "name": "stderr",
     "output_type": "stream",
     "text": [
      "119 Train: 100%|█████| 352/352 [00:31<00:00, 11.22it/s]\n"
     ]
    },
    {
     "name": "stdout",
     "output_type": "stream",
     "text": [
      "Train Loss: 0.3462 | Train Acc: 87.83%\n",
      "Valid Loss: 0.4688 | Valid Acc: 84.04%\n",
      "Test  Loss: 0.2536 | Test Acc: 91.73%\n",
      "--------------------------------------------------\n",
      "[Epoch 120/200] :\n"
     ]
    },
    {
     "name": "stderr",
     "output_type": "stream",
     "text": [
      "120 Train: 100%|█████| 352/352 [00:32<00:00, 10.73it/s]\n"
     ]
    },
    {
     "name": "stdout",
     "output_type": "stream",
     "text": [
      "Train Loss: 0.3460 | Train Acc: 87.90%\n",
      "Valid Loss: 0.4591 | Valid Acc: 84.44%\n",
      "Test  Loss: 0.2486 | Test Acc: 91.76%\n",
      "--------------------------------------------------\n",
      "[Epoch 121/200] :\n"
     ]
    },
    {
     "name": "stderr",
     "output_type": "stream",
     "text": [
      "121 Train: 100%|█████| 352/352 [00:31<00:00, 11.18it/s]\n"
     ]
    },
    {
     "name": "stdout",
     "output_type": "stream",
     "text": [
      "Train Loss: 0.3377 | Train Acc: 88.07%\n",
      "Valid Loss: 0.4664 | Valid Acc: 84.30%\n",
      "Test  Loss: 0.2536 | Test Acc: 91.42%\n",
      "--------------------------------------------------\n",
      "[Epoch 122/200] :\n"
     ]
    },
    {
     "name": "stderr",
     "output_type": "stream",
     "text": [
      "122 Train: 100%|█████| 352/352 [00:31<00:00, 11.14it/s]\n"
     ]
    },
    {
     "name": "stdout",
     "output_type": "stream",
     "text": [
      "Train Loss: 0.3358 | Train Acc: 88.31%\n",
      "Valid Loss: 0.4713 | Valid Acc: 83.84%\n",
      "Test  Loss: 0.2544 | Test Acc: 91.65%\n",
      "--------------------------------------------------\n",
      "[Epoch 123/200] :\n"
     ]
    },
    {
     "name": "stderr",
     "output_type": "stream",
     "text": [
      "123 Train: 100%|█████| 352/352 [00:31<00:00, 11.08it/s]\n"
     ]
    },
    {
     "name": "stdout",
     "output_type": "stream",
     "text": [
      "Train Loss: 0.3344 | Train Acc: 88.22%\n",
      "Valid Loss: 0.4668 | Valid Acc: 84.40%\n",
      "Test  Loss: 0.2469 | Test Acc: 91.95%\n",
      "--------------------------------------------------\n",
      "[Epoch 124/200] :\n"
     ]
    },
    {
     "name": "stderr",
     "output_type": "stream",
     "text": [
      "124 Train: 100%|█████| 352/352 [00:31<00:00, 11.05it/s]\n"
     ]
    },
    {
     "name": "stdout",
     "output_type": "stream",
     "text": [
      "Train Loss: 0.3354 | Train Acc: 88.20%\n",
      "Valid Loss: 0.4561 | Valid Acc: 84.54%\n",
      "Test  Loss: 0.2447 | Test Acc: 91.96%\n",
      "--------------------------------------------------\n",
      "[Epoch 125/200] :\n"
     ]
    },
    {
     "name": "stderr",
     "output_type": "stream",
     "text": [
      "125 Train: 100%|█████| 352/352 [00:31<00:00, 11.05it/s]\n"
     ]
    },
    {
     "name": "stdout",
     "output_type": "stream",
     "text": [
      "Train Loss: 0.3325 | Train Acc: 88.26%\n",
      "Valid Loss: 0.4537 | Valid Acc: 84.52%\n",
      "Test  Loss: 0.2530 | Test Acc: 91.61%\n",
      "updated best eval loss : 0.4536991432309151\n",
      "--------------------------------------------------\n",
      "[Epoch 126/200] :\n"
     ]
    },
    {
     "name": "stderr",
     "output_type": "stream",
     "text": [
      "126 Train: 100%|█████| 352/352 [00:31<00:00, 11.17it/s]\n"
     ]
    },
    {
     "name": "stdout",
     "output_type": "stream",
     "text": [
      "Train Loss: 0.3378 | Train Acc: 88.23%\n",
      "Valid Loss: 0.5103 | Valid Acc: 83.48%\n",
      "Test  Loss: 0.2651 | Test Acc: 91.32%\n",
      "--------------------------------------------------\n",
      "[Epoch 127/200] :\n"
     ]
    },
    {
     "name": "stderr",
     "output_type": "stream",
     "text": [
      "127 Train: 100%|█████| 352/352 [00:31<00:00, 11.15it/s]\n"
     ]
    },
    {
     "name": "stdout",
     "output_type": "stream",
     "text": [
      "Train Loss: 0.3348 | Train Acc: 88.34%\n",
      "Valid Loss: 0.4686 | Valid Acc: 84.44%\n",
      "Test  Loss: 0.2490 | Test Acc: 91.81%\n",
      "--------------------------------------------------\n",
      "[Epoch 128/200] :\n"
     ]
    },
    {
     "name": "stderr",
     "output_type": "stream",
     "text": [
      "128 Train: 100%|█████| 352/352 [00:31<00:00, 11.15it/s]\n"
     ]
    },
    {
     "name": "stdout",
     "output_type": "stream",
     "text": [
      "Train Loss: 0.3380 | Train Acc: 87.98%\n",
      "Valid Loss: 0.4594 | Valid Acc: 84.42%\n",
      "Test  Loss: 0.2499 | Test Acc: 91.89%\n",
      "--------------------------------------------------\n",
      "[Epoch 129/200] :\n"
     ]
    },
    {
     "name": "stderr",
     "output_type": "stream",
     "text": [
      "129 Train: 100%|█████| 352/352 [00:31<00:00, 11.07it/s]\n"
     ]
    },
    {
     "name": "stdout",
     "output_type": "stream",
     "text": [
      "Train Loss: 0.3279 | Train Acc: 88.47%\n",
      "Valid Loss: 0.4529 | Valid Acc: 84.84%\n",
      "Test  Loss: 0.2533 | Test Acc: 91.72%\n",
      "updated best eval loss : 0.45288580618798735\n",
      "--------------------------------------------------\n",
      "[Epoch 130/200] :\n"
     ]
    },
    {
     "name": "stderr",
     "output_type": "stream",
     "text": [
      "130 Train: 100%|█████| 352/352 [00:31<00:00, 11.25it/s]\n"
     ]
    },
    {
     "name": "stdout",
     "output_type": "stream",
     "text": [
      "Train Loss: 0.3332 | Train Acc: 88.38%\n",
      "Valid Loss: 0.4601 | Valid Acc: 84.50%\n",
      "Test  Loss: 0.2519 | Test Acc: 91.81%\n",
      "--------------------------------------------------\n",
      "[Epoch 131/200] :\n"
     ]
    },
    {
     "name": "stderr",
     "output_type": "stream",
     "text": [
      "131 Train: 100%|█████| 352/352 [00:31<00:00, 11.04it/s]\n"
     ]
    },
    {
     "name": "stdout",
     "output_type": "stream",
     "text": [
      "Train Loss: 0.3284 | Train Acc: 88.48%\n",
      "Valid Loss: 0.4653 | Valid Acc: 84.40%\n",
      "Test  Loss: 0.2490 | Test Acc: 91.57%\n",
      "--------------------------------------------------\n",
      "[Epoch 132/200] :\n"
     ]
    },
    {
     "name": "stderr",
     "output_type": "stream",
     "text": [
      "132 Train: 100%|█████| 352/352 [00:32<00:00, 10.78it/s]\n"
     ]
    },
    {
     "name": "stdout",
     "output_type": "stream",
     "text": [
      "Train Loss: 0.3229 | Train Acc: 88.65%\n",
      "Valid Loss: 0.4623 | Valid Acc: 84.16%\n",
      "Test  Loss: 0.2488 | Test Acc: 91.63%\n",
      "--------------------------------------------------\n",
      "[Epoch 133/200] :\n"
     ]
    },
    {
     "name": "stderr",
     "output_type": "stream",
     "text": [
      "133 Train: 100%|█████| 352/352 [00:31<00:00, 11.14it/s]\n"
     ]
    },
    {
     "name": "stdout",
     "output_type": "stream",
     "text": [
      "Train Loss: 0.3287 | Train Acc: 88.50%\n",
      "Valid Loss: 0.4571 | Valid Acc: 84.46%\n",
      "Test  Loss: 0.2453 | Test Acc: 91.74%\n",
      "--------------------------------------------------\n",
      "[Epoch 134/200] :\n"
     ]
    },
    {
     "name": "stderr",
     "output_type": "stream",
     "text": [
      "134 Train: 100%|█████| 352/352 [00:30<00:00, 11.48it/s]\n"
     ]
    },
    {
     "name": "stdout",
     "output_type": "stream",
     "text": [
      "Train Loss: 0.3247 | Train Acc: 88.63%\n",
      "Valid Loss: 0.4598 | Valid Acc: 84.36%\n",
      "Test  Loss: 0.2502 | Test Acc: 91.68%\n",
      "--------------------------------------------------\n",
      "[Epoch 135/200] :\n"
     ]
    },
    {
     "name": "stderr",
     "output_type": "stream",
     "text": [
      "135 Train: 100%|█████| 352/352 [00:31<00:00, 11.11it/s]\n"
     ]
    },
    {
     "name": "stdout",
     "output_type": "stream",
     "text": [
      "Train Loss: 0.3256 | Train Acc: 88.66%\n",
      "Valid Loss: 0.4636 | Valid Acc: 84.24%\n",
      "Test  Loss: 0.2603 | Test Acc: 91.41%\n",
      "--------------------------------------------------\n",
      "[Epoch 136/200] :\n"
     ]
    },
    {
     "name": "stderr",
     "output_type": "stream",
     "text": [
      "136 Train: 100%|█████| 352/352 [00:34<00:00, 10.18it/s]\n"
     ]
    },
    {
     "name": "stdout",
     "output_type": "stream",
     "text": [
      "Train Loss: 0.3234 | Train Acc: 88.77%\n",
      "Valid Loss: 0.4673 | Valid Acc: 84.62%\n",
      "Test  Loss: 0.2665 | Test Acc: 91.50%\n",
      "--------------------------------------------------\n",
      "[Epoch 137/200] :\n"
     ]
    },
    {
     "name": "stderr",
     "output_type": "stream",
     "text": [
      "137 Train: 100%|█████| 352/352 [00:31<00:00, 11.04it/s]\n"
     ]
    },
    {
     "name": "stdout",
     "output_type": "stream",
     "text": [
      "Train Loss: 0.3248 | Train Acc: 88.54%\n",
      "Valid Loss: 0.4846 | Valid Acc: 83.88%\n",
      "Test  Loss: 0.2617 | Test Acc: 91.46%\n",
      "--------------------------------------------------\n",
      "[Epoch 138/200] :\n"
     ]
    },
    {
     "name": "stderr",
     "output_type": "stream",
     "text": [
      "138 Train: 100%|█████| 352/352 [00:31<00:00, 11.21it/s]\n"
     ]
    },
    {
     "name": "stdout",
     "output_type": "stream",
     "text": [
      "Train Loss: 0.3223 | Train Acc: 88.68%\n",
      "Valid Loss: 0.4374 | Valid Acc: 85.04%\n",
      "Test  Loss: 0.2513 | Test Acc: 92.00%\n",
      "updated best eval loss : 0.4373673155903816\n",
      "--------------------------------------------------\n",
      "[Epoch 139/200] :\n"
     ]
    },
    {
     "name": "stderr",
     "output_type": "stream",
     "text": [
      "139 Train: 100%|█████| 352/352 [00:31<00:00, 11.03it/s]\n"
     ]
    },
    {
     "name": "stdout",
     "output_type": "stream",
     "text": [
      "Train Loss: 0.3254 | Train Acc: 88.76%\n",
      "Valid Loss: 0.4709 | Valid Acc: 84.62%\n",
      "Test  Loss: 0.2531 | Test Acc: 91.59%\n",
      "--------------------------------------------------\n",
      "[Epoch 140/200] :\n"
     ]
    },
    {
     "name": "stderr",
     "output_type": "stream",
     "text": [
      "140 Train: 100%|█████| 352/352 [00:32<00:00, 10.99it/s]\n"
     ]
    },
    {
     "name": "stdout",
     "output_type": "stream",
     "text": [
      "Train Loss: 0.3203 | Train Acc: 88.76%\n",
      "Valid Loss: 0.4640 | Valid Acc: 83.94%\n",
      "Test  Loss: 0.2627 | Test Acc: 91.35%\n",
      "--------------------------------------------------\n",
      "[Epoch 141/200] :\n"
     ]
    },
    {
     "name": "stderr",
     "output_type": "stream",
     "text": [
      "141 Train: 100%|█████| 352/352 [00:32<00:00, 10.98it/s]\n"
     ]
    },
    {
     "name": "stdout",
     "output_type": "stream",
     "text": [
      "Train Loss: 0.3251 | Train Acc: 88.60%\n",
      "Valid Loss: 0.4656 | Valid Acc: 85.02%\n",
      "Test  Loss: 0.2625 | Test Acc: 91.37%\n",
      "--------------------------------------------------\n",
      "[Epoch 142/200] :\n"
     ]
    },
    {
     "name": "stderr",
     "output_type": "stream",
     "text": [
      "142 Train: 100%|█████| 352/352 [00:31<00:00, 11.01it/s]\n"
     ]
    },
    {
     "name": "stdout",
     "output_type": "stream",
     "text": [
      "Train Loss: 0.3249 | Train Acc: 88.46%\n",
      "Valid Loss: 0.4893 | Valid Acc: 83.50%\n",
      "Test  Loss: 0.2505 | Test Acc: 91.69%\n",
      "--------------------------------------------------\n",
      "[Epoch 143/200] :\n"
     ]
    },
    {
     "name": "stderr",
     "output_type": "stream",
     "text": [
      "143 Train: 100%|█████| 352/352 [00:31<00:00, 11.23it/s]\n"
     ]
    },
    {
     "name": "stdout",
     "output_type": "stream",
     "text": [
      "Train Loss: 0.3233 | Train Acc: 88.71%\n",
      "Valid Loss: 0.4477 | Valid Acc: 85.38%\n",
      "Test  Loss: 0.2536 | Test Acc: 91.48%\n",
      "--------------------------------------------------\n",
      "[Epoch 144/200] :\n"
     ]
    },
    {
     "name": "stderr",
     "output_type": "stream",
     "text": [
      "144 Train: 100%|█████| 352/352 [00:31<00:00, 11.10it/s]\n"
     ]
    },
    {
     "name": "stdout",
     "output_type": "stream",
     "text": [
      "Train Loss: 0.3215 | Train Acc: 88.75%\n",
      "Valid Loss: 0.4595 | Valid Acc: 84.26%\n",
      "Test  Loss: 0.2584 | Test Acc: 91.87%\n",
      "--------------------------------------------------\n",
      "[Epoch 145/200] :\n"
     ]
    },
    {
     "name": "stderr",
     "output_type": "stream",
     "text": [
      "145 Train: 100%|█████| 352/352 [00:31<00:00, 11.09it/s]\n"
     ]
    },
    {
     "name": "stdout",
     "output_type": "stream",
     "text": [
      "Train Loss: 0.3130 | Train Acc: 89.03%\n",
      "Valid Loss: 0.4692 | Valid Acc: 84.54%\n",
      "Test  Loss: 0.2645 | Test Acc: 91.62%\n",
      "--------------------------------------------------\n",
      "[Epoch 146/200] :\n"
     ]
    },
    {
     "name": "stderr",
     "output_type": "stream",
     "text": [
      "146 Train: 100%|█████| 352/352 [00:31<00:00, 11.08it/s]\n"
     ]
    },
    {
     "name": "stdout",
     "output_type": "stream",
     "text": [
      "Train Loss: 0.3178 | Train Acc: 88.74%\n",
      "Valid Loss: 0.4721 | Valid Acc: 84.60%\n",
      "Test  Loss: 0.2476 | Test Acc: 91.90%\n",
      "--------------------------------------------------\n",
      "[Epoch 147/200] :\n"
     ]
    },
    {
     "name": "stderr",
     "output_type": "stream",
     "text": [
      "147 Train: 100%|█████| 352/352 [00:31<00:00, 11.28it/s]\n"
     ]
    },
    {
     "name": "stdout",
     "output_type": "stream",
     "text": [
      "Train Loss: 0.3195 | Train Acc: 88.65%\n",
      "Valid Loss: 0.4599 | Valid Acc: 84.96%\n",
      "Test  Loss: 0.2634 | Test Acc: 91.71%\n",
      "--------------------------------------------------\n",
      "[Epoch 148/200] :\n"
     ]
    },
    {
     "name": "stderr",
     "output_type": "stream",
     "text": [
      "148 Train: 100%|█████| 352/352 [00:32<00:00, 10.83it/s]\n"
     ]
    },
    {
     "name": "stdout",
     "output_type": "stream",
     "text": [
      "Train Loss: 0.3214 | Train Acc: 88.77%\n",
      "Valid Loss: 0.4967 | Valid Acc: 83.76%\n",
      "Test  Loss: 0.2715 | Test Acc: 91.29%\n",
      "--------------------------------------------------\n",
      "[Epoch 149/200] :\n"
     ]
    },
    {
     "name": "stderr",
     "output_type": "stream",
     "text": [
      "149 Train: 100%|█████| 352/352 [00:32<00:00, 11.00it/s]\n"
     ]
    },
    {
     "name": "stdout",
     "output_type": "stream",
     "text": [
      "Train Loss: 0.3183 | Train Acc: 88.95%\n",
      "Valid Loss: 0.4522 | Valid Acc: 84.54%\n",
      "Test  Loss: 0.2619 | Test Acc: 91.66%\n",
      "--------------------------------------------------\n",
      "[Epoch 150/200] :\n"
     ]
    },
    {
     "name": "stderr",
     "output_type": "stream",
     "text": [
      "150 Train: 100%|█████| 352/352 [00:31<00:00, 11.01it/s]\n"
     ]
    },
    {
     "name": "stdout",
     "output_type": "stream",
     "text": [
      "Train Loss: 0.3036 | Train Acc: 89.46%\n",
      "Valid Loss: 0.4544 | Valid Acc: 84.48%\n",
      "Test  Loss: 0.2458 | Test Acc: 92.03%\n",
      "--------------------------------------------------\n",
      "[Epoch 151/200] :\n"
     ]
    },
    {
     "name": "stderr",
     "output_type": "stream",
     "text": [
      "151 Train: 100%|█████| 352/352 [00:32<00:00, 10.93it/s]\n"
     ]
    },
    {
     "name": "stdout",
     "output_type": "stream",
     "text": [
      "Train Loss: 0.2968 | Train Acc: 89.76%\n",
      "Valid Loss: 0.4478 | Valid Acc: 85.34%\n",
      "Test  Loss: 0.2454 | Test Acc: 92.22%\n",
      "--------------------------------------------------\n",
      "[Epoch 152/200] :\n"
     ]
    },
    {
     "name": "stderr",
     "output_type": "stream",
     "text": [
      "152 Train: 100%|█████| 352/352 [00:32<00:00, 10.98it/s]\n"
     ]
    },
    {
     "name": "stdout",
     "output_type": "stream",
     "text": [
      "Train Loss: 0.2975 | Train Acc: 89.57%\n",
      "Valid Loss: 0.4245 | Valid Acc: 85.74%\n",
      "Test  Loss: 0.2429 | Test Acc: 92.29%\n",
      "updated best eval loss : 0.424534872174263\n",
      "--------------------------------------------------\n",
      "[Epoch 153/200] :\n"
     ]
    },
    {
     "name": "stderr",
     "output_type": "stream",
     "text": [
      "153 Train: 100%|█████| 352/352 [00:31<00:00, 11.18it/s]\n"
     ]
    },
    {
     "name": "stdout",
     "output_type": "stream",
     "text": [
      "Train Loss: 0.2937 | Train Acc: 89.85%\n",
      "Valid Loss: 0.4628 | Valid Acc: 84.66%\n",
      "Test  Loss: 0.2412 | Test Acc: 92.33%\n",
      "--------------------------------------------------\n",
      "[Epoch 154/200] :\n"
     ]
    },
    {
     "name": "stderr",
     "output_type": "stream",
     "text": [
      "154 Train: 100%|█████| 352/352 [00:32<00:00, 10.90it/s]\n"
     ]
    },
    {
     "name": "stdout",
     "output_type": "stream",
     "text": [
      "Train Loss: 0.2868 | Train Acc: 89.99%\n",
      "Valid Loss: 0.4349 | Valid Acc: 85.46%\n",
      "Test  Loss: 0.2395 | Test Acc: 92.26%\n",
      "--------------------------------------------------\n",
      "[Epoch 155/200] :\n"
     ]
    },
    {
     "name": "stderr",
     "output_type": "stream",
     "text": [
      "155 Train: 100%|█████| 352/352 [00:32<00:00, 10.68it/s]\n"
     ]
    },
    {
     "name": "stdout",
     "output_type": "stream",
     "text": [
      "Train Loss: 0.2898 | Train Acc: 89.90%\n",
      "Valid Loss: 0.4391 | Valid Acc: 85.28%\n",
      "Test  Loss: 0.2404 | Test Acc: 92.35%\n",
      "--------------------------------------------------\n",
      "[Epoch 156/200] :\n"
     ]
    },
    {
     "name": "stderr",
     "output_type": "stream",
     "text": [
      "156 Train: 100%|█████| 352/352 [00:33<00:00, 10.54it/s]\n"
     ]
    },
    {
     "name": "stdout",
     "output_type": "stream",
     "text": [
      "Train Loss: 0.2935 | Train Acc: 89.62%\n",
      "Valid Loss: 0.4203 | Valid Acc: 85.84%\n",
      "Test  Loss: 0.2370 | Test Acc: 92.40%\n",
      "updated best eval loss : 0.42030504904687405\n",
      "--------------------------------------------------\n",
      "[Epoch 157/200] :\n"
     ]
    },
    {
     "name": "stderr",
     "output_type": "stream",
     "text": [
      "157 Train: 100%|█████| 352/352 [00:31<00:00, 11.00it/s]\n"
     ]
    },
    {
     "name": "stdout",
     "output_type": "stream",
     "text": [
      "Train Loss: 0.2929 | Train Acc: 89.83%\n",
      "Valid Loss: 0.4444 | Valid Acc: 85.62%\n",
      "Test  Loss: 0.2437 | Test Acc: 92.22%\n",
      "--------------------------------------------------\n",
      "[Epoch 158/200] :\n"
     ]
    },
    {
     "name": "stderr",
     "output_type": "stream",
     "text": [
      "158 Train: 100%|█████| 352/352 [00:31<00:00, 11.19it/s]\n"
     ]
    },
    {
     "name": "stdout",
     "output_type": "stream",
     "text": [
      "Train Loss: 0.2895 | Train Acc: 89.96%\n",
      "Valid Loss: 0.4527 | Valid Acc: 85.58%\n",
      "Test  Loss: 0.2435 | Test Acc: 92.32%\n",
      "--------------------------------------------------\n",
      "[Epoch 159/200] :\n"
     ]
    },
    {
     "name": "stderr",
     "output_type": "stream",
     "text": [
      "159 Train: 100%|█████| 352/352 [00:32<00:00, 10.99it/s]\n"
     ]
    },
    {
     "name": "stdout",
     "output_type": "stream",
     "text": [
      "Train Loss: 0.2886 | Train Acc: 89.98%\n",
      "Valid Loss: 0.4445 | Valid Acc: 85.40%\n",
      "Test  Loss: 0.2408 | Test Acc: 92.40%\n",
      "--------------------------------------------------\n",
      "[Epoch 160/200] :\n"
     ]
    },
    {
     "name": "stderr",
     "output_type": "stream",
     "text": [
      "160 Train: 100%|█████| 352/352 [00:32<00:00, 10.98it/s]\n"
     ]
    },
    {
     "name": "stdout",
     "output_type": "stream",
     "text": [
      "Train Loss: 0.2894 | Train Acc: 89.86%\n",
      "Valid Loss: 0.4654 | Valid Acc: 84.46%\n",
      "Test  Loss: 0.2445 | Test Acc: 92.29%\n",
      "--------------------------------------------------\n",
      "[Epoch 161/200] :\n"
     ]
    },
    {
     "name": "stderr",
     "output_type": "stream",
     "text": [
      "161 Train: 100%|█████| 352/352 [00:31<00:00, 11.02it/s]\n"
     ]
    },
    {
     "name": "stdout",
     "output_type": "stream",
     "text": [
      "Train Loss: 0.2851 | Train Acc: 90.02%\n",
      "Valid Loss: 0.4319 | Valid Acc: 85.14%\n",
      "Test  Loss: 0.2399 | Test Acc: 92.56%\n",
      "--------------------------------------------------\n",
      "[Epoch 162/200] :\n"
     ]
    },
    {
     "name": "stderr",
     "output_type": "stream",
     "text": [
      "162 Train: 100%|█████| 352/352 [00:31<00:00, 11.04it/s]\n"
     ]
    },
    {
     "name": "stdout",
     "output_type": "stream",
     "text": [
      "Train Loss: 0.2878 | Train Acc: 89.94%\n",
      "Valid Loss: 0.4509 | Valid Acc: 85.38%\n",
      "Test  Loss: 0.2396 | Test Acc: 92.38%\n",
      "--------------------------------------------------\n",
      "[Epoch 163/200] :\n"
     ]
    },
    {
     "name": "stderr",
     "output_type": "stream",
     "text": [
      "163 Train: 100%|█████| 352/352 [00:32<00:00, 10.84it/s]\n"
     ]
    },
    {
     "name": "stdout",
     "output_type": "stream",
     "text": [
      "Train Loss: 0.2869 | Train Acc: 89.95%\n",
      "Valid Loss: 0.4138 | Valid Acc: 86.34%\n",
      "Test  Loss: 0.2405 | Test Acc: 92.48%\n",
      "updated best eval loss : 0.4138221051543951\n",
      "--------------------------------------------------\n",
      "[Epoch 164/200] :\n"
     ]
    },
    {
     "name": "stderr",
     "output_type": "stream",
     "text": [
      "164 Train: 100%|█████| 352/352 [00:32<00:00, 10.89it/s]\n"
     ]
    },
    {
     "name": "stdout",
     "output_type": "stream",
     "text": [
      "Train Loss: 0.2822 | Train Acc: 90.04%\n",
      "Valid Loss: 0.4324 | Valid Acc: 84.94%\n",
      "Test  Loss: 0.2371 | Test Acc: 92.41%\n",
      "--------------------------------------------------\n",
      "[Epoch 165/200] :\n"
     ]
    },
    {
     "name": "stderr",
     "output_type": "stream",
     "text": [
      "165 Train: 100%|█████| 352/352 [00:32<00:00, 10.73it/s]\n"
     ]
    },
    {
     "name": "stdout",
     "output_type": "stream",
     "text": [
      "Train Loss: 0.2844 | Train Acc: 90.07%\n",
      "Valid Loss: 0.4745 | Valid Acc: 84.68%\n",
      "Test  Loss: 0.2405 | Test Acc: 92.42%\n",
      "--------------------------------------------------\n",
      "[Epoch 166/200] :\n"
     ]
    },
    {
     "name": "stderr",
     "output_type": "stream",
     "text": [
      "166 Train: 100%|█████| 352/352 [00:31<00:00, 11.23it/s]\n"
     ]
    },
    {
     "name": "stdout",
     "output_type": "stream",
     "text": [
      "Train Loss: 0.2766 | Train Acc: 90.20%\n",
      "Valid Loss: 0.4262 | Valid Acc: 85.50%\n",
      "Test  Loss: 0.2436 | Test Acc: 92.36%\n",
      "--------------------------------------------------\n",
      "[Epoch 167/200] :\n"
     ]
    },
    {
     "name": "stderr",
     "output_type": "stream",
     "text": [
      "167 Train: 100%|█████| 352/352 [00:32<00:00, 10.76it/s]\n"
     ]
    },
    {
     "name": "stdout",
     "output_type": "stream",
     "text": [
      "Train Loss: 0.2806 | Train Acc: 90.23%\n",
      "Valid Loss: 0.4510 | Valid Acc: 85.20%\n",
      "Test  Loss: 0.2399 | Test Acc: 92.49%\n",
      "--------------------------------------------------\n",
      "[Epoch 168/200] :\n"
     ]
    },
    {
     "name": "stderr",
     "output_type": "stream",
     "text": [
      "168 Train: 100%|█████| 352/352 [00:33<00:00, 10.40it/s]\n"
     ]
    },
    {
     "name": "stdout",
     "output_type": "stream",
     "text": [
      "Train Loss: 0.2775 | Train Acc: 90.28%\n",
      "Valid Loss: 0.4526 | Valid Acc: 84.64%\n",
      "Test  Loss: 0.2410 | Test Acc: 92.40%\n",
      "--------------------------------------------------\n",
      "[Epoch 169/200] :\n"
     ]
    },
    {
     "name": "stderr",
     "output_type": "stream",
     "text": [
      "169 Train: 100%|█████| 352/352 [00:32<00:00, 10.93it/s]\n"
     ]
    },
    {
     "name": "stdout",
     "output_type": "stream",
     "text": [
      "Train Loss: 0.2797 | Train Acc: 90.33%\n",
      "Valid Loss: 0.4422 | Valid Acc: 84.92%\n",
      "Test  Loss: 0.2412 | Test Acc: 92.55%\n",
      "--------------------------------------------------\n",
      "[Epoch 170/200] :\n"
     ]
    },
    {
     "name": "stderr",
     "output_type": "stream",
     "text": [
      "170 Train: 100%|█████| 352/352 [00:32<00:00, 10.89it/s]\n"
     ]
    },
    {
     "name": "stdout",
     "output_type": "stream",
     "text": [
      "Train Loss: 0.2724 | Train Acc: 90.54%\n",
      "Valid Loss: 0.4483 | Valid Acc: 84.84%\n",
      "Test  Loss: 0.2371 | Test Acc: 92.47%\n",
      "--------------------------------------------------\n",
      "[Epoch 171/200] :\n"
     ]
    },
    {
     "name": "stderr",
     "output_type": "stream",
     "text": [
      "171 Train: 100%|█████| 352/352 [00:32<00:00, 10.84it/s]\n"
     ]
    },
    {
     "name": "stdout",
     "output_type": "stream",
     "text": [
      "Train Loss: 0.2811 | Train Acc: 90.16%\n",
      "Valid Loss: 0.4313 | Valid Acc: 85.60%\n",
      "Test  Loss: 0.2363 | Test Acc: 92.51%\n",
      "--------------------------------------------------\n",
      "[Epoch 172/200] :\n"
     ]
    },
    {
     "name": "stderr",
     "output_type": "stream",
     "text": [
      "172 Train: 100%|█████| 352/352 [00:32<00:00, 10.97it/s]\n"
     ]
    },
    {
     "name": "stdout",
     "output_type": "stream",
     "text": [
      "Train Loss: 0.2851 | Train Acc: 89.96%\n",
      "Valid Loss: 0.4426 | Valid Acc: 84.90%\n",
      "Test  Loss: 0.2410 | Test Acc: 92.41%\n",
      "--------------------------------------------------\n",
      "[Epoch 173/200] :\n"
     ]
    },
    {
     "name": "stderr",
     "output_type": "stream",
     "text": [
      "173 Train: 100%|█████| 352/352 [00:31<00:00, 11.24it/s]\n"
     ]
    },
    {
     "name": "stdout",
     "output_type": "stream",
     "text": [
      "Train Loss: 0.2886 | Train Acc: 90.04%\n",
      "Valid Loss: 0.4482 | Valid Acc: 85.08%\n",
      "Test  Loss: 0.2393 | Test Acc: 92.58%\n",
      "--------------------------------------------------\n",
      "[Epoch 174/200] :\n"
     ]
    },
    {
     "name": "stderr",
     "output_type": "stream",
     "text": [
      "174 Train: 100%|█████| 352/352 [00:33<00:00, 10.51it/s]\n"
     ]
    },
    {
     "name": "stdout",
     "output_type": "stream",
     "text": [
      "Train Loss: 0.2823 | Train Acc: 90.08%\n",
      "Valid Loss: 0.4429 | Valid Acc: 85.60%\n",
      "Test  Loss: 0.2364 | Test Acc: 92.53%\n",
      "--------------------------------------------------\n",
      "[Epoch 175/200] :\n"
     ]
    },
    {
     "name": "stderr",
     "output_type": "stream",
     "text": [
      "175 Train: 100%|█████| 352/352 [00:32<00:00, 10.76it/s]\n"
     ]
    },
    {
     "name": "stdout",
     "output_type": "stream",
     "text": [
      "Train Loss: 0.2807 | Train Acc: 90.19%\n",
      "Valid Loss: 0.4356 | Valid Acc: 85.26%\n",
      "Test  Loss: 0.2360 | Test Acc: 92.56%\n",
      "--------------------------------------------------\n",
      "[Epoch 176/200] :\n"
     ]
    },
    {
     "name": "stderr",
     "output_type": "stream",
     "text": [
      "176 Train: 100%|█████| 352/352 [00:32<00:00, 10.91it/s]\n"
     ]
    },
    {
     "name": "stdout",
     "output_type": "stream",
     "text": [
      "Train Loss: 0.2830 | Train Acc: 90.04%\n",
      "Valid Loss: 0.4386 | Valid Acc: 85.62%\n",
      "Test  Loss: 0.2429 | Test Acc: 92.52%\n",
      "--------------------------------------------------\n",
      "[Epoch 177/200] :\n"
     ]
    },
    {
     "name": "stderr",
     "output_type": "stream",
     "text": [
      "177 Train: 100%|█████| 352/352 [00:31<00:00, 11.35it/s]\n"
     ]
    },
    {
     "name": "stdout",
     "output_type": "stream",
     "text": [
      "Train Loss: 0.2781 | Train Acc: 90.47%\n",
      "Valid Loss: 0.4446 | Valid Acc: 85.18%\n",
      "Test  Loss: 0.2371 | Test Acc: 92.57%\n",
      "--------------------------------------------------\n",
      "[Epoch 178/200] :\n"
     ]
    },
    {
     "name": "stderr",
     "output_type": "stream",
     "text": [
      "178 Train: 100%|█████| 352/352 [00:35<00:00,  9.87it/s]\n"
     ]
    },
    {
     "name": "stdout",
     "output_type": "stream",
     "text": [
      "Train Loss: 0.2773 | Train Acc: 90.39%\n",
      "Valid Loss: 0.4402 | Valid Acc: 85.22%\n",
      "Test  Loss: 0.2411 | Test Acc: 92.44%\n",
      "--------------------------------------------------\n",
      "[Epoch 179/200] :\n"
     ]
    },
    {
     "name": "stderr",
     "output_type": "stream",
     "text": [
      "179 Train: 100%|█████| 352/352 [00:43<00:00,  8.17it/s]\n"
     ]
    },
    {
     "name": "stdout",
     "output_type": "stream",
     "text": [
      "Train Loss: 0.2821 | Train Acc: 90.14%\n",
      "Valid Loss: 0.4560 | Valid Acc: 85.62%\n",
      "Test  Loss: 0.2394 | Test Acc: 92.56%\n",
      "--------------------------------------------------\n",
      "[Epoch 180/200] :\n"
     ]
    },
    {
     "name": "stderr",
     "output_type": "stream",
     "text": [
      "180 Train: 100%|█████| 352/352 [00:44<00:00,  7.89it/s]\n"
     ]
    },
    {
     "name": "stdout",
     "output_type": "stream",
     "text": [
      "Train Loss: 0.2791 | Train Acc: 90.24%\n",
      "Valid Loss: 0.4362 | Valid Acc: 85.32%\n",
      "Test  Loss: 0.2368 | Test Acc: 92.55%\n",
      "--------------------------------------------------\n",
      "[Epoch 181/200] :\n"
     ]
    },
    {
     "name": "stderr",
     "output_type": "stream",
     "text": [
      "181 Train: 100%|█████| 352/352 [00:42<00:00,  8.21it/s]\n"
     ]
    },
    {
     "name": "stdout",
     "output_type": "stream",
     "text": [
      "Train Loss: 0.2799 | Train Acc: 90.33%\n",
      "Valid Loss: 0.4557 | Valid Acc: 85.18%\n",
      "Test  Loss: 0.2391 | Test Acc: 92.53%\n",
      "--------------------------------------------------\n",
      "[Epoch 182/200] :\n"
     ]
    },
    {
     "name": "stderr",
     "output_type": "stream",
     "text": [
      "182 Train: 100%|█████| 352/352 [00:37<00:00,  9.33it/s]\n"
     ]
    },
    {
     "name": "stdout",
     "output_type": "stream",
     "text": [
      "Train Loss: 0.2780 | Train Acc: 90.35%\n",
      "Valid Loss: 0.4693 | Valid Acc: 84.84%\n",
      "Test  Loss: 0.2359 | Test Acc: 92.56%\n",
      "--------------------------------------------------\n",
      "[Epoch 183/200] :\n"
     ]
    },
    {
     "name": "stderr",
     "output_type": "stream",
     "text": [
      "183 Train: 100%|█████| 352/352 [00:30<00:00, 11.36it/s]\n"
     ]
    },
    {
     "name": "stdout",
     "output_type": "stream",
     "text": [
      "Train Loss: 0.2756 | Train Acc: 90.39%\n",
      "Valid Loss: 0.4385 | Valid Acc: 85.74%\n",
      "Test  Loss: 0.2362 | Test Acc: 92.61%\n",
      "--------------------------------------------------\n",
      "[Epoch 184/200] :\n"
     ]
    },
    {
     "name": "stderr",
     "output_type": "stream",
     "text": [
      "184 Train: 100%|█████| 352/352 [00:32<00:00, 10.83it/s]\n"
     ]
    },
    {
     "name": "stdout",
     "output_type": "stream",
     "text": [
      "Train Loss: 0.2793 | Train Acc: 90.33%\n",
      "Valid Loss: 0.4617 | Valid Acc: 84.96%\n",
      "Test  Loss: 0.2371 | Test Acc: 92.39%\n",
      "--------------------------------------------------\n",
      "[Epoch 185/200] :\n"
     ]
    },
    {
     "name": "stderr",
     "output_type": "stream",
     "text": [
      "185 Train: 100%|█████| 352/352 [00:31<00:00, 11.06it/s]\n"
     ]
    },
    {
     "name": "stdout",
     "output_type": "stream",
     "text": [
      "Train Loss: 0.2746 | Train Acc: 90.46%\n",
      "Valid Loss: 0.4510 | Valid Acc: 84.90%\n",
      "Test  Loss: 0.2405 | Test Acc: 92.38%\n",
      "--------------------------------------------------\n",
      "[Epoch 186/200] :\n"
     ]
    },
    {
     "name": "stderr",
     "output_type": "stream",
     "text": [
      "186 Train: 100%|█████| 352/352 [00:39<00:00,  9.02it/s]\n"
     ]
    },
    {
     "name": "stdout",
     "output_type": "stream",
     "text": [
      "Train Loss: 0.2773 | Train Acc: 90.26%\n",
      "Valid Loss: 0.4468 | Valid Acc: 85.06%\n",
      "Test  Loss: 0.2392 | Test Acc: 92.35%\n",
      "--------------------------------------------------\n",
      "[Epoch 187/200] :\n"
     ]
    },
    {
     "name": "stderr",
     "output_type": "stream",
     "text": [
      "187 Train: 100%|█████| 352/352 [00:32<00:00, 10.92it/s]\n"
     ]
    },
    {
     "name": "stdout",
     "output_type": "stream",
     "text": [
      "Train Loss: 0.2797 | Train Acc: 90.37%\n",
      "Valid Loss: 0.4661 | Valid Acc: 85.54%\n",
      "Test  Loss: 0.2427 | Test Acc: 92.37%\n",
      "--------------------------------------------------\n",
      "[Epoch 188/200] :\n"
     ]
    },
    {
     "name": "stderr",
     "output_type": "stream",
     "text": [
      "188 Train: 100%|█████| 352/352 [00:44<00:00,  7.97it/s]\n"
     ]
    },
    {
     "name": "stdout",
     "output_type": "stream",
     "text": [
      "Train Loss: 0.2738 | Train Acc: 90.58%\n",
      "Valid Loss: 0.4400 | Valid Acc: 85.60%\n",
      "Test  Loss: 0.2362 | Test Acc: 92.62%\n",
      "--------------------------------------------------\n",
      "[Epoch 189/200] :\n"
     ]
    },
    {
     "name": "stderr",
     "output_type": "stream",
     "text": [
      "189 Train: 100%|█████| 352/352 [00:31<00:00, 11.17it/s]\n"
     ]
    },
    {
     "name": "stdout",
     "output_type": "stream",
     "text": [
      "Train Loss: 0.2765 | Train Acc: 90.26%\n",
      "Valid Loss: 0.4419 | Valid Acc: 85.76%\n",
      "Test  Loss: 0.2382 | Test Acc: 92.47%\n",
      "--------------------------------------------------\n",
      "[Epoch 190/200] :\n"
     ]
    },
    {
     "name": "stderr",
     "output_type": "stream",
     "text": [
      "190 Train: 100%|█████| 352/352 [00:32<00:00, 10.96it/s]\n"
     ]
    },
    {
     "name": "stdout",
     "output_type": "stream",
     "text": [
      "Train Loss: 0.2772 | Train Acc: 90.37%\n",
      "Valid Loss: 0.4277 | Valid Acc: 85.34%\n",
      "Test  Loss: 0.2407 | Test Acc: 92.52%\n",
      "--------------------------------------------------\n",
      "[Epoch 191/200] :\n"
     ]
    },
    {
     "name": "stderr",
     "output_type": "stream",
     "text": [
      "191 Train: 100%|█████| 352/352 [00:31<00:00, 11.19it/s]\n"
     ]
    },
    {
     "name": "stdout",
     "output_type": "stream",
     "text": [
      "Train Loss: 0.2776 | Train Acc: 90.25%\n",
      "Valid Loss: 0.4473 | Valid Acc: 85.24%\n",
      "Test  Loss: 0.2428 | Test Acc: 92.35%\n",
      "--------------------------------------------------\n",
      "[Epoch 192/200] :\n"
     ]
    },
    {
     "name": "stderr",
     "output_type": "stream",
     "text": [
      "192 Train: 100%|█████| 352/352 [00:41<00:00,  8.44it/s]\n"
     ]
    },
    {
     "name": "stdout",
     "output_type": "stream",
     "text": [
      "Train Loss: 0.2745 | Train Acc: 90.50%\n",
      "Valid Loss: 0.4287 | Valid Acc: 86.16%\n",
      "Test  Loss: 0.2411 | Test Acc: 92.39%\n",
      "--------------------------------------------------\n",
      "[Epoch 193/200] :\n"
     ]
    },
    {
     "name": "stderr",
     "output_type": "stream",
     "text": [
      "193 Train: 100%|█████| 352/352 [00:41<00:00,  8.58it/s]\n"
     ]
    },
    {
     "name": "stdout",
     "output_type": "stream",
     "text": [
      "Train Loss: 0.2764 | Train Acc: 90.56%\n",
      "Valid Loss: 0.4395 | Valid Acc: 85.04%\n",
      "Test  Loss: 0.2394 | Test Acc: 92.37%\n",
      "--------------------------------------------------\n",
      "[Epoch 194/200] :\n"
     ]
    },
    {
     "name": "stderr",
     "output_type": "stream",
     "text": [
      "194 Train: 100%|█████| 352/352 [00:37<00:00,  9.38it/s]\n"
     ]
    },
    {
     "name": "stdout",
     "output_type": "stream",
     "text": [
      "Train Loss: 0.2718 | Train Acc: 90.66%\n",
      "Valid Loss: 0.4171 | Valid Acc: 85.76%\n",
      "Test  Loss: 0.2379 | Test Acc: 92.34%\n",
      "--------------------------------------------------\n",
      "[Epoch 195/200] :\n"
     ]
    },
    {
     "name": "stderr",
     "output_type": "stream",
     "text": [
      "195 Train: 100%|█████| 352/352 [00:31<00:00, 11.13it/s]\n"
     ]
    },
    {
     "name": "stdout",
     "output_type": "stream",
     "text": [
      "Train Loss: 0.2750 | Train Acc: 90.32%\n",
      "Valid Loss: 0.4310 | Valid Acc: 85.36%\n",
      "Test  Loss: 0.2425 | Test Acc: 92.40%\n",
      "--------------------------------------------------\n",
      "[Epoch 196/200] :\n"
     ]
    },
    {
     "name": "stderr",
     "output_type": "stream",
     "text": [
      "196 Train: 100%|█████| 352/352 [00:31<00:00, 11.00it/s]\n"
     ]
    },
    {
     "name": "stdout",
     "output_type": "stream",
     "text": [
      "Train Loss: 0.2767 | Train Acc: 90.35%\n",
      "Valid Loss: 0.4139 | Valid Acc: 86.20%\n",
      "Test  Loss: 0.2373 | Test Acc: 92.46%\n",
      "--------------------------------------------------\n",
      "[Epoch 197/200] :\n"
     ]
    },
    {
     "name": "stderr",
     "output_type": "stream",
     "text": [
      "197 Train: 100%|█████| 352/352 [00:31<00:00, 11.25it/s]\n"
     ]
    },
    {
     "name": "stdout",
     "output_type": "stream",
     "text": [
      "Train Loss: 0.2729 | Train Acc: 90.38%\n",
      "Valid Loss: 0.4071 | Valid Acc: 86.16%\n",
      "Test  Loss: 0.2380 | Test Acc: 92.32%\n",
      "updated best eval loss : 0.4070834930986166\n",
      "--------------------------------------------------\n",
      "[Epoch 198/200] :\n"
     ]
    },
    {
     "name": "stderr",
     "output_type": "stream",
     "text": [
      "198 Train: 100%|█████| 352/352 [00:32<00:00, 10.96it/s]\n"
     ]
    },
    {
     "name": "stdout",
     "output_type": "stream",
     "text": [
      "Train Loss: 0.2711 | Train Acc: 90.57%\n",
      "Valid Loss: 0.4067 | Valid Acc: 86.04%\n",
      "Test  Loss: 0.2388 | Test Acc: 92.50%\n",
      "updated best eval loss : 0.40665955245494845\n",
      "--------------------------------------------------\n",
      "[Epoch 199/200] :\n"
     ]
    },
    {
     "name": "stderr",
     "output_type": "stream",
     "text": [
      "199 Train: 100%|█████| 352/352 [00:32<00:00, 10.94it/s]\n"
     ]
    },
    {
     "name": "stdout",
     "output_type": "stream",
     "text": [
      "Train Loss: 0.2750 | Train Acc: 90.45%\n",
      "Valid Loss: 0.4360 | Valid Acc: 85.22%\n",
      "Test  Loss: 0.2447 | Test Acc: 92.33%\n",
      "--------------------------------------------------\n",
      "[Epoch 200/200] :\n"
     ]
    },
    {
     "name": "stderr",
     "output_type": "stream",
     "text": [
      "200 Train: 100%|█████| 352/352 [00:31<00:00, 11.23it/s]\n"
     ]
    },
    {
     "name": "stdout",
     "output_type": "stream",
     "text": [
      "Train Loss: 0.2742 | Train Acc: 90.43%\n",
      "Valid Loss: 0.4377 | Valid Acc: 85.10%\n",
      "Test  Loss: 0.2371 | Test Acc: 92.38%\n",
      "--------------------------------------------------\n"
     ]
    }
   ],
   "source": [
    "Training = DoTraining(\n",
    "    model=model,\n",
    "    criterion=criterion,\n",
    "    optimizer=optimizer,\n",
    "    scaler=scaler,\n",
    "    scheduler=scheduler,\n",
    "    earlystopper=earlystopper,\n",
    "    device=device,\n",
    "    logs=logs,\n",
    "    file_path=file_name,\n",
    ")\n",
    "pre_epochs = len(Training.logs[\"train_loss\"])\n",
    "\n",
    "\n",
    "for epoch in range(NUM_EPOCHS):\n",
    "    now = epoch + 1 + pre_epochs\n",
    "    print(f\"[Epoch {epoch+1+pre_epochs}/{NUM_EPOCHS}] :\")\n",
    "\n",
    "    if DATASET == \"ImageNet2012\":\n",
    "        eval_loss = Training.SingleEpoch(train_dataloader, valid_dataloader)\n",
    "    else:\n",
    "        eval_loss = Training.SingleEpoch(\n",
    "            train_dataloader, valid_dataloader, test_dataloader\n",
    "        )\n",
    "\n",
    "    Training.Save()\n",
    "\n",
    "    \n",
    "    \n",
    "    if earlystopper.check(eval_loss) == True:\n",
    "        break\n",
    "\n",
    "    print(\"-\" * 50)"
   ]
  },
  {
   "cell_type": "code",
   "execution_count": 58,
   "metadata": {},
   "outputs": [
    {
     "data": {
      "image/png": "[encoded data removed]",
      "text/plain": [
       "<Figure size 1500x500 with 3 Axes>"
      ]
     },
     "metadata": {},
     "output_type": "display_data"
    }
   ],
   "source": [
    "view = LogViewer(logs)\n",
    "view.draw(title=file_name, min_marker=True, add_lr_plot=True, save=True)"
   ]
  },
  {
   "cell_type": "code",
   "execution_count": null,
   "metadata": {},
   "outputs": [
    {
     "name": "stdout",
     "output_type": "stream",
     "text": [
      "1 epoch: train_loss=2.2826, train_acc=0.1693, test_loss=1.9642, test_acc=0.2279, lr=0.1000\n",
      "2 epoch: train_loss=1.9653, train_acc=0.2625, test_loss=1.9019, test_acc=0.2867, lr=0.1000\n",
      "3 epoch: train_loss=1.7514, train_acc=0.3551, test_loss=1.4698, test_acc=0.4636, lr=0.1000\n",
      "4 epoch: train_loss=1.4882, train_acc=0.4621, test_loss=1.1483, test_acc=0.5901, lr=0.1000\n",
      "5 epoch: train_loss=1.2936, train_acc=0.5389, test_loss=1.1093, test_acc=0.6072, lr=0.1000\n",
      "6 epoch: train_loss=1.1643, train_acc=0.5887, test_loss=0.9847, test_acc=0.6548, lr=0.1000\n",
      "7 epoch: train_loss=1.0845, train_acc=0.6166, test_loss=0.8402, test_acc=0.7125, lr=0.1000\n",
      "8 epoch: train_loss=1.0271, train_acc=0.6404, test_loss=0.8961, test_acc=0.7092, lr=0.1000\n",
      "9 epoch: train_loss=0.9825, train_acc=0.6548, test_loss=0.7799, test_acc=0.7278, lr=0.1000\n",
      "10 epoch: train_loss=0.9492, train_acc=0.6685, test_loss=0.8685, test_acc=0.7068, lr=0.1000\n",
      "11 epoch: train_loss=0.9233, train_acc=0.6773, test_loss=0.7309, test_acc=0.7545, lr=0.1000\n",
      "12 epoch: train_loss=0.8965, train_acc=0.6872, test_loss=0.6639, test_acc=0.7766, lr=0.1000\n",
      "13 epoch: train_loss=0.8677, train_acc=0.6976, test_loss=0.6075, test_acc=0.7944, lr=0.1000\n",
      "14 epoch: train_loss=0.8508, train_acc=0.7028, test_loss=0.6334, test_acc=0.7803, lr=0.1000\n",
      "15 epoch: train_loss=0.8305, train_acc=0.7083, test_loss=0.6206, test_acc=0.7852, lr=0.1000\n",
      "16 epoch: train_loss=0.8126, train_acc=0.7153, test_loss=0.7391, test_acc=0.7476, lr=0.1000\n",
      "17 epoch: train_loss=0.8005, train_acc=0.7186, test_loss=0.5664, test_acc=0.8120, lr=0.1000\n",
      "18 epoch: train_loss=0.7911, train_acc=0.7259, test_loss=0.5268, test_acc=0.8195, lr=0.1000\n",
      "19 epoch: train_loss=0.7751, train_acc=0.7298, test_loss=0.6561, test_acc=0.7799, lr=0.1000\n",
      "20 epoch: train_loss=0.7673, train_acc=0.7334, test_loss=0.5618, test_acc=0.8091, lr=0.1000\n",
      "21 epoch: train_loss=0.7596, train_acc=0.7345, test_loss=0.6961, test_acc=0.7669, lr=0.1000\n",
      "22 epoch: train_loss=0.7487, train_acc=0.7387, test_loss=0.6088, test_acc=0.7947, lr=0.1000\n",
      "23 epoch: train_loss=0.7377, train_acc=0.7428, test_loss=0.6323, test_acc=0.7998, lr=0.1000\n",
      "24 epoch: train_loss=0.7355, train_acc=0.7415, test_loss=0.6152, test_acc=0.7931, lr=0.1000\n",
      "25 epoch: train_loss=0.7245, train_acc=0.7464, test_loss=0.6310, test_acc=0.7880, lr=0.1000\n",
      "26 epoch: train_loss=0.7188, train_acc=0.7479, test_loss=0.5372, test_acc=0.8156, lr=0.1000\n",
      "27 epoch: train_loss=0.7153, train_acc=0.7515, test_loss=0.6560, test_acc=0.7815, lr=0.1000\n",
      "28 epoch: train_loss=0.7146, train_acc=0.7526, test_loss=0.5985, test_acc=0.7948, lr=0.1000\n",
      "29 epoch: train_loss=0.6970, train_acc=0.7547, test_loss=0.5452, test_acc=0.8115, lr=0.1000\n",
      "30 epoch: train_loss=0.6953, train_acc=0.7547, test_loss=0.4721, test_acc=0.8355, lr=0.1000\n",
      "31 epoch: train_loss=0.6889, train_acc=0.7594, test_loss=0.5372, test_acc=0.8174, lr=0.1000\n",
      "32 epoch: train_loss=0.6828, train_acc=0.7611, test_loss=0.4877, test_acc=0.8304, lr=0.1000\n",
      "33 epoch: train_loss=0.6837, train_acc=0.7612, test_loss=0.5433, test_acc=0.8186, lr=0.1000\n",
      "34 epoch: train_loss=0.6747, train_acc=0.7646, test_loss=0.4835, test_acc=0.8334, lr=0.1000\n",
      "35 epoch: train_loss=0.6723, train_acc=0.7649, test_loss=0.4852, test_acc=0.8323, lr=0.1000\n",
      "36 epoch: train_loss=0.6673, train_acc=0.7679, test_loss=0.5138, test_acc=0.8235, lr=0.1000\n",
      "37 epoch: train_loss=0.6662, train_acc=0.7672, test_loss=0.5414, test_acc=0.8178, lr=0.1000\n",
      "38 epoch: train_loss=0.6573, train_acc=0.7703, test_loss=0.4540, test_acc=0.8462, lr=0.1000\n",
      "39 epoch: train_loss=0.6648, train_acc=0.7693, test_loss=0.5304, test_acc=0.8254, lr=0.1000\n",
      "40 epoch: train_loss=0.6471, train_acc=0.7744, test_loss=0.4600, test_acc=0.8443, lr=0.1000\n",
      "41 epoch: train_loss=0.6498, train_acc=0.7738, test_loss=0.4705, test_acc=0.8419, lr=0.1000\n",
      "42 epoch: train_loss=0.6452, train_acc=0.7754, test_loss=0.4849, test_acc=0.8375, lr=0.1000\n",
      "43 epoch: train_loss=0.6407, train_acc=0.7769, test_loss=0.5736, test_acc=0.8092, lr=0.1000\n",
      "44 epoch: train_loss=0.6371, train_acc=0.7783, test_loss=0.4915, test_acc=0.8354, lr=0.1000\n",
      "45 epoch: train_loss=0.6343, train_acc=0.7801, test_loss=0.4646, test_acc=0.8387, lr=0.1000\n",
      "46 epoch: train_loss=0.6380, train_acc=0.7786, test_loss=0.4828, test_acc=0.8322, lr=0.1000\n",
      "47 epoch: train_loss=0.6361, train_acc=0.7789, test_loss=0.4436, test_acc=0.8500, lr=0.1000\n",
      "48 epoch: train_loss=0.6258, train_acc=0.7809, test_loss=0.5080, test_acc=0.8302, lr=0.1000\n",
      "49 epoch: train_loss=0.6255, train_acc=0.7815, test_loss=0.4258, test_acc=0.8556, lr=0.1000\n",
      "50 epoch: train_loss=0.6328, train_acc=0.7790, test_loss=0.4546, test_acc=0.8467, lr=0.1000\n",
      "51 epoch: train_loss=0.6257, train_acc=0.7837, test_loss=0.8336, test_acc=0.7416, lr=0.1000\n",
      "52 epoch: train_loss=0.6160, train_acc=0.7862, test_loss=0.4323, test_acc=0.8506, lr=0.1000\n",
      "53 epoch: train_loss=0.6099, train_acc=0.7865, test_loss=0.4368, test_acc=0.8506, lr=0.1000\n",
      "54 epoch: train_loss=0.6121, train_acc=0.7860, test_loss=0.4045, test_acc=0.8658, lr=0.1000\n",
      "55 epoch: train_loss=0.6046, train_acc=0.7881, test_loss=0.4460, test_acc=0.8516, lr=0.1000\n",
      "56 epoch: train_loss=0.6114, train_acc=0.7872, test_loss=0.4708, test_acc=0.8418, lr=0.1000\n",
      "57 epoch: train_loss=0.6047, train_acc=0.7892, test_loss=0.5199, test_acc=0.8252, lr=0.1000\n",
      "58 epoch: train_loss=0.6060, train_acc=0.7882, test_loss=0.4452, test_acc=0.8535, lr=0.1000\n",
      "59 epoch: train_loss=0.6002, train_acc=0.7902, test_loss=0.4702, test_acc=0.8383, lr=0.1000\n",
      "60 epoch: train_loss=0.6053, train_acc=0.7886, test_loss=0.4801, test_acc=0.8408, lr=0.1000\n",
      "61 epoch: train_loss=0.5938, train_acc=0.7947, test_loss=0.4306, test_acc=0.8543, lr=0.1000\n",
      "62 epoch: train_loss=0.6030, train_acc=0.7892, test_loss=0.3829, test_acc=0.8619, lr=0.1000\n",
      "63 epoch: train_loss=0.5991, train_acc=0.7921, test_loss=0.4103, test_acc=0.8564, lr=0.1000\n",
      "64 epoch: train_loss=0.5979, train_acc=0.7918, test_loss=0.4128, test_acc=0.8607, lr=0.1000\n",
      "65 epoch: train_loss=0.5898, train_acc=0.7941, test_loss=0.4523, test_acc=0.8481, lr=0.1000\n",
      "66 epoch: train_loss=0.5925, train_acc=0.7924, test_loss=0.4351, test_acc=0.8500, lr=0.1000\n",
      "67 epoch: train_loss=0.5893, train_acc=0.7932, test_loss=0.4346, test_acc=0.8474, lr=0.1000\n",
      "68 epoch: train_loss=0.5875, train_acc=0.7938, test_loss=0.3759, test_acc=0.8710, lr=0.1000\n",
      "69 epoch: train_loss=0.5937, train_acc=0.7939, test_loss=0.4214, test_acc=0.8554, lr=0.1000\n",
      "70 epoch: train_loss=0.5833, train_acc=0.7961, test_loss=0.4256, test_acc=0.8567, lr=0.1000\n",
      "71 epoch: train_loss=0.5881, train_acc=0.7946, test_loss=0.4451, test_acc=0.8515, lr=0.1000\n",
      "72 epoch: train_loss=0.5759, train_acc=0.7973, test_loss=0.4167, test_acc=0.8573, lr=0.1000\n",
      "73 epoch: train_loss=0.5838, train_acc=0.7963, test_loss=0.5593, test_acc=0.8154, lr=0.1000\n",
      "74 epoch: train_loss=0.5841, train_acc=0.7950, test_loss=0.4218, test_acc=0.8613, lr=0.1000\n",
      "75 epoch: train_loss=0.5824, train_acc=0.7946, test_loss=0.3592, test_acc=0.8766, lr=0.1000\n",
      "76 epoch: train_loss=0.5757, train_acc=0.8004, test_loss=0.5193, test_acc=0.8319, lr=0.1000\n",
      "77 epoch: train_loss=0.5776, train_acc=0.7997, test_loss=0.5562, test_acc=0.8179, lr=0.1000\n",
      "78 epoch: train_loss=0.5784, train_acc=0.7973, test_loss=0.5174, test_acc=0.8279, lr=0.1000\n",
      "79 epoch: train_loss=0.5728, train_acc=0.8001, test_loss=0.3945, test_acc=0.8632, lr=0.1000\n",
      "80 epoch: train_loss=0.5743, train_acc=0.7992, test_loss=0.3607, test_acc=0.8734, lr=0.1000\n",
      "81 epoch: train_loss=0.5690, train_acc=0.8013, test_loss=0.4873, test_acc=0.8447, lr=0.1000\n",
      "82 epoch: train_loss=0.5718, train_acc=0.8006, test_loss=0.4064, test_acc=0.8635, lr=0.1000\n",
      "83 epoch: train_loss=0.4703, train_acc=0.8363, test_loss=0.2777, test_acc=0.9048, lr=0.0100\n",
      "84 epoch: train_loss=0.4349, train_acc=0.8477, test_loss=0.2750, test_acc=0.9035, lr=0.0100\n",
      "85 epoch: train_loss=0.4246, train_acc=0.8497, test_loss=0.2676, test_acc=0.9076, lr=0.0100\n",
      "86 epoch: train_loss=0.4146, train_acc=0.8563, test_loss=0.2650, test_acc=0.9093, lr=0.0100\n",
      "87 epoch: train_loss=0.4119, train_acc=0.8574, test_loss=0.2653, test_acc=0.9108, lr=0.0100\n",
      "88 epoch: train_loss=0.4068, train_acc=0.8574, test_loss=0.2629, test_acc=0.9105, lr=0.0100\n",
      "89 epoch: train_loss=0.3988, train_acc=0.8592, test_loss=0.2599, test_acc=0.9112, lr=0.0100\n",
      "90 epoch: train_loss=0.3983, train_acc=0.8604, test_loss=0.2601, test_acc=0.9128, lr=0.0100\n",
      "91 epoch: train_loss=0.3960, train_acc=0.8621, test_loss=0.2648, test_acc=0.9137, lr=0.0100\n",
      "92 epoch: train_loss=0.3917, train_acc=0.8628, test_loss=0.2525, test_acc=0.9146, lr=0.0100\n",
      "93 epoch: train_loss=0.3920, train_acc=0.8633, test_loss=0.2490, test_acc=0.9143, lr=0.0100\n",
      "94 epoch: train_loss=0.3923, train_acc=0.8614, test_loss=0.2511, test_acc=0.9144, lr=0.0100\n",
      "95 epoch: train_loss=0.3823, train_acc=0.8673, test_loss=0.2606, test_acc=0.9132, lr=0.0100\n",
      "96 epoch: train_loss=0.3881, train_acc=0.8641, test_loss=0.2577, test_acc=0.9130, lr=0.0100\n",
      "97 epoch: train_loss=0.3762, train_acc=0.8680, test_loss=0.2610, test_acc=0.9132, lr=0.0100\n",
      "98 epoch: train_loss=0.3750, train_acc=0.8669, test_loss=0.2585, test_acc=0.9141, lr=0.0100\n",
      "99 epoch: train_loss=0.3763, train_acc=0.8678, test_loss=0.2561, test_acc=0.9172, lr=0.0100\n",
      "100 epoch: train_loss=0.3755, train_acc=0.8691, test_loss=0.2582, test_acc=0.9152, lr=0.0100\n",
      "101 epoch: train_loss=0.3711, train_acc=0.8705, test_loss=0.2582, test_acc=0.9157, lr=0.0100\n",
      "102 epoch: train_loss=0.3693, train_acc=0.8706, test_loss=0.2498, test_acc=0.9181, lr=0.0100\n",
      "103 epoch: train_loss=0.3719, train_acc=0.8700, test_loss=0.2672, test_acc=0.9117, lr=0.0100\n",
      "104 epoch: train_loss=0.3658, train_acc=0.8708, test_loss=0.2529, test_acc=0.9153, lr=0.0100\n",
      "105 epoch: train_loss=0.3665, train_acc=0.8724, test_loss=0.2449, test_acc=0.9177, lr=0.0100\n",
      "106 epoch: train_loss=0.3595, train_acc=0.8736, test_loss=0.2458, test_acc=0.9180, lr=0.0100\n",
      "107 epoch: train_loss=0.3665, train_acc=0.8706, test_loss=0.2508, test_acc=0.9164, lr=0.0100\n",
      "108 epoch: train_loss=0.3581, train_acc=0.8741, test_loss=0.2509, test_acc=0.9153, lr=0.0100\n",
      "109 epoch: train_loss=0.3621, train_acc=0.8738, test_loss=0.2492, test_acc=0.9149, lr=0.0100\n",
      "110 epoch: train_loss=0.3585, train_acc=0.8745, test_loss=0.2539, test_acc=0.9161, lr=0.0100\n",
      "111 epoch: train_loss=0.3635, train_acc=0.8695, test_loss=0.2512, test_acc=0.9163, lr=0.0100\n",
      "112 epoch: train_loss=0.3598, train_acc=0.8744, test_loss=0.2610, test_acc=0.9132, lr=0.0100\n",
      "113 epoch: train_loss=0.3614, train_acc=0.8750, test_loss=0.2604, test_acc=0.9124, lr=0.0100\n",
      "114 epoch: train_loss=0.3598, train_acc=0.8753, test_loss=0.2606, test_acc=0.9131, lr=0.0100\n",
      "115 epoch: train_loss=0.3553, train_acc=0.8749, test_loss=0.2511, test_acc=0.9163, lr=0.0100\n",
      "116 epoch: train_loss=0.3518, train_acc=0.8784, test_loss=0.2501, test_acc=0.9184, lr=0.0100\n",
      "117 epoch: train_loss=0.3548, train_acc=0.8755, test_loss=0.2569, test_acc=0.9154, lr=0.0100\n",
      "118 epoch: train_loss=0.3510, train_acc=0.8781, test_loss=0.2558, test_acc=0.9151, lr=0.0100\n",
      "119 epoch: train_loss=0.3530, train_acc=0.8774, test_loss=0.2505, test_acc=0.9155, lr=0.0100\n",
      "120 epoch: train_loss=0.3564, train_acc=0.8752, test_loss=0.2482, test_acc=0.9188, lr=0.0100\n",
      "121 epoch: train_loss=0.3497, train_acc=0.8776, test_loss=0.2680, test_acc=0.9143, lr=0.0100\n",
      "122 epoch: train_loss=0.3515, train_acc=0.8766, test_loss=0.2559, test_acc=0.9157, lr=0.0100\n",
      "123 epoch: train_loss=0.3488, train_acc=0.8784, test_loss=0.2610, test_acc=0.9152, lr=0.0100\n",
      "124 epoch: train_loss=0.3403, train_acc=0.8807, test_loss=0.2388, test_acc=0.9213, lr=0.0010\n",
      "125 epoch: train_loss=0.3237, train_acc=0.8857, test_loss=0.2413, test_acc=0.9217, lr=0.0010\n",
      "126 epoch: train_loss=0.3280, train_acc=0.8837, test_loss=0.2371, test_acc=0.9227, lr=0.0010\n",
      "127 epoch: train_loss=0.3297, train_acc=0.8847, test_loss=0.2390, test_acc=0.9224, lr=0.0010\n",
      "128 epoch: train_loss=0.3235, train_acc=0.8871, test_loss=0.2361, test_acc=0.9215, lr=0.0010\n",
      "129 epoch: train_loss=0.3243, train_acc=0.8857, test_loss=0.2438, test_acc=0.9229, lr=0.0010\n",
      "130 epoch: train_loss=0.3183, train_acc=0.8881, test_loss=0.2404, test_acc=0.9208, lr=0.0010\n",
      "131 epoch: train_loss=0.3164, train_acc=0.8883, test_loss=0.2419, test_acc=0.9214, lr=0.0010\n",
      "132 epoch: train_loss=0.3221, train_acc=0.8860, test_loss=0.2389, test_acc=0.9221, lr=0.0010\n",
      "133 epoch: train_loss=0.3162, train_acc=0.8886, test_loss=0.2377, test_acc=0.9219, lr=0.0010\n",
      "134 epoch: train_loss=0.3207, train_acc=0.8872, test_loss=0.2390, test_acc=0.9224, lr=0.0010\n",
      "135 epoch: train_loss=0.3215, train_acc=0.8868, test_loss=0.2439, test_acc=0.9216, lr=0.0010\n",
      "136 epoch: train_loss=0.3189, train_acc=0.8886, test_loss=0.2467, test_acc=0.9227, lr=0.0010\n",
      "137 epoch: train_loss=0.3173, train_acc=0.8886, test_loss=0.2389, test_acc=0.9211, lr=0.0010\n",
      "138 epoch: train_loss=0.3125, train_acc=0.8899, test_loss=0.2368, test_acc=0.9226, lr=0.0010\n",
      "139 epoch: train_loss=0.3156, train_acc=0.8896, test_loss=0.2388, test_acc=0.9220, lr=0.0010\n",
      "140 epoch: train_loss=0.3110, train_acc=0.8908, test_loss=0.2376, test_acc=0.9214, lr=0.0010\n",
      "141 epoch: train_loss=0.3151, train_acc=0.8899, test_loss=0.2376, test_acc=0.9237, lr=0.0010\n",
      "142 epoch: train_loss=0.3168, train_acc=0.8889, test_loss=0.2403, test_acc=0.9219, lr=0.0010\n",
      "143 epoch: train_loss=0.3116, train_acc=0.8909, test_loss=0.2353, test_acc=0.9237, lr=0.0010\n",
      "144 epoch: train_loss=0.3143, train_acc=0.8898, test_loss=0.2417, test_acc=0.9206, lr=0.0010\n",
      "145 epoch: train_loss=0.3138, train_acc=0.8904, test_loss=0.2398, test_acc=0.9217, lr=0.0010\n",
      "146 epoch: train_loss=0.3120, train_acc=0.8913, test_loss=0.2412, test_acc=0.9226, lr=0.0010\n",
      "147 epoch: train_loss=0.3163, train_acc=0.8889, test_loss=0.2401, test_acc=0.9217, lr=0.0010\n",
      "148 epoch: train_loss=0.3137, train_acc=0.8898, test_loss=0.2568, test_acc=0.9231, lr=0.0010\n",
      "149 epoch: train_loss=0.3138, train_acc=0.8915, test_loss=0.2365, test_acc=0.9231, lr=0.0010\n",
      "150 epoch: train_loss=0.3180, train_acc=0.8888, test_loss=0.2414, test_acc=0.9226, lr=0.0010\n",
      "151 epoch: train_loss=0.3099, train_acc=0.8919, test_loss=0.2422, test_acc=0.9214, lr=0.0010\n",
      "152 epoch: train_loss=0.3078, train_acc=0.8911, test_loss=0.2414, test_acc=0.9228, lr=0.0010\n",
      "153 epoch: train_loss=0.3089, train_acc=0.8917, test_loss=0.2389, test_acc=0.9230, lr=0.0010\n",
      "154 epoch: train_loss=0.3152, train_acc=0.8888, test_loss=0.2430, test_acc=0.9223, lr=0.0010\n",
      "155 epoch: train_loss=0.3119, train_acc=0.8924, test_loss=0.2379, test_acc=0.9235, lr=0.0010\n",
      "156 epoch: train_loss=0.3133, train_acc=0.8901, test_loss=0.2379, test_acc=0.9230, lr=0.0010\n",
      "157 epoch: train_loss=0.3092, train_acc=0.8918, test_loss=0.2375, test_acc=0.9233, lr=0.0010\n",
      "158 epoch: train_loss=0.3110, train_acc=0.8913, test_loss=0.2370, test_acc=0.9234, lr=0.0010\n",
      "159 epoch: train_loss=0.3105, train_acc=0.8931, test_loss=0.2394, test_acc=0.9220, lr=0.0010\n",
      "160 epoch: train_loss=0.3080, train_acc=0.8914, test_loss=0.2444, test_acc=0.9219, lr=0.0010\n",
      "161 epoch: train_loss=0.3128, train_acc=0.8904, test_loss=0.2402, test_acc=0.9228, lr=0.0010\n",
      "162 epoch: train_loss=0.3099, train_acc=0.8915, test_loss=0.2403, test_acc=0.9225, lr=0.0010\n",
      "163 epoch: train_loss=0.3099, train_acc=0.8919, test_loss=0.2416, test_acc=0.9228, lr=0.0010\n",
      "164 epoch: train_loss=0.3106, train_acc=0.8908, test_loss=0.2392, test_acc=0.9220, lr=0.0010\n"
     ]
    }
   ],
   "source": [
    "view.print_all()"
   ]
  }
 ],
 "metadata": {
  "kernelspec": {
   "display_name": "base",
   "language": "python",
   "name": "python3"
  },
  "language_info": {
   "codemirror_mode": {
    "name": "ipython",
    "version": 3
   },
   "file_extension": ".py",
   "mimetype": "text/x-python",
   "name": "python",
   "nbconvert_exporter": "python",
   "pygments_lexer": "ipython3",
   "version": "3.11.5"
  }
 },
 "nbformat": 4,
 "nbformat_minor": 2
}
