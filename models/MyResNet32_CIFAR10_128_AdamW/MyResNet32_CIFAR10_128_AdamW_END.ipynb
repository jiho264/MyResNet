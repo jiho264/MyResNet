{
 "cells": [
  {
   "cell_type": "markdown",
   "metadata": {},
   "source": [
    "# Import"
   ]
  },
  {
   "cell_type": "code",
   "execution_count": 35,
   "metadata": {},
   "outputs": [],
   "source": [
    "import torch\n",
    "from torch import nn\n",
    "import torchvision\n",
    "from torch.optim.lr_scheduler import ReduceLROnPlateau, MultiStepLR, CosineAnnealingLR\n",
    "from fvcore.nn import FlopCountAnalysis, flop_count_table\n",
    "import sys, os\n",
    "\n",
    "sys.path.append(os.path.dirname(os.path.abspath(os.path.dirname(\"src\"))))\n",
    "\n",
    "from src.Mydataloader import LoadDataset\n",
    "from src.Mymodel import MyResNet34\n",
    "from src.Mymodel import MyResNet_CIFAR\n",
    "from src.Mytraining import DoTraining\n",
    "from src.Earlystopper import EarlyStopper\n",
    "from src.LogViewer import LogViewer"
   ]
  },
  {
   "cell_type": "markdown",
   "metadata": {},
   "source": [
    "# Setup"
   ]
  },
  {
   "cell_type": "code",
   "execution_count": 36,
   "metadata": {},
   "outputs": [],
   "source": [
    "\"\"\"Dataset selection\"\"\"\n",
    "DATASET = \"CIFAR10\"\n",
    "# DATASET = \"CIFAR100\"\n",
    "# DATASET = \"ImageNet2012\"\n",
    "\n",
    "\"\"\"Dataset parameters\"\"\"\n",
    "BATCH = 128\n",
    "SHUFFLE = True\n",
    "NUMOFWORKERS = 8\n",
    "PIN_MEMORY = True\n",
    "SPLIT_RATIO = 0\n",
    "\n",
    "\"\"\"optimizer parameters\"\"\"\n",
    "# OPTIMIZER = \"Adam\"\n",
    "# OPTIMIZER = \"Adam_decay\"\n",
    "# OPTIMIZER = \"SGD\"\n",
    "# OPTIMIZER = \"SGD_nasterov\"\n",
    "OPTIMIZER = \"AdamW\"\n",
    "# OPTIMIZER = \"AdamW_amsgrad\"\n",
    "# OPTIMIZER = \"NAdam\"\n",
    "\"\"\"Learning rate scheduler parameters\"\"\"\n",
    "NUM_EPOCHS = 180\n",
    "\n",
    "\"\"\"Early stopping parameters\"\"\"\n",
    "EARLYSTOPPINGPATIENCE = 150\n",
    "\n",
    "file_path = f\"MyResNet34_{BATCH}_{OPTIMIZER}\""
   ]
  },
  {
   "cell_type": "code",
   "execution_count": 37,
   "metadata": {},
   "outputs": [
    {
     "data": {
      "text/plain": [
       "'MyResNet34_128_AdamW'"
      ]
     },
     "execution_count": 37,
     "metadata": {},
     "output_type": "execute_result"
    }
   ],
   "source": [
    "file_path"
   ]
  },
  {
   "cell_type": "markdown",
   "metadata": {},
   "source": [
    "# Loading the dataset"
   ]
  },
  {
   "cell_type": "markdown",
   "metadata": {},
   "source": [
    "## Define Dateloader"
   ]
  },
  {
   "cell_type": "code",
   "execution_count": 38,
   "metadata": {},
   "outputs": [
    {
     "name": "stdout",
     "output_type": "stream",
     "text": [
      "-----------------------------------------------------------------------\n",
      "Dataset :  CIFAR10\n",
      "- Length of Train Set :  50000\n",
      "- Length of Test Set :  10000\n",
      "- Count of Classes :  10\n",
      "-----------------------------------------------------------------------\n"
     ]
    }
   ],
   "source": [
    "tmp = LoadDataset(root=\"../../data\", seceted_dataset=DATASET, split_ratio=SPLIT_RATIO)\n",
    "train_data, valid_data, test_data, COUNT_OF_CLASSES = tmp.Unpack()"
   ]
  },
  {
   "cell_type": "code",
   "execution_count": 39,
   "metadata": {},
   "outputs": [
    {
     "name": "stdout",
     "output_type": "stream",
     "text": [
      "train.transforms = Compose(\n",
      "      AutoAugment(interpolation=InterpolationMode.NEAREST, policy=AutoAugmentPolicy.CIFAR10)\n",
      "      RandomCrop(size=(32, 32), padding=[4, 4, 4, 4], pad_if_needed=False, fill=0, padding_mode=constant)\n",
      "      RandomHorizontalFlip(p=0.5)\n",
      "      ToTensor()\n",
      "      Normalize(mean=[0.49139968, 0.48215827, 0.44653124], std=[1, 1, 1], inplace=True)\n",
      ") 128\n",
      "test.transforms = ToTensor() 128\n"
     ]
    }
   ],
   "source": [
    "train_dataloader, valid_dataloader, test_dataloader = tmp.get_dataloader(\n",
    "    batch_size=BATCH, shuffle=SHUFFLE, num_workers=NUMOFWORKERS, pin_memory=PIN_MEMORY\n",
    ")"
   ]
  },
  {
   "cell_type": "markdown",
   "metadata": {},
   "source": [
    "# Define ResNet"
   ]
  },
  {
   "cell_type": "markdown",
   "metadata": {},
   "source": [
    "## Model Confirm"
   ]
  },
  {
   "cell_type": "code",
   "execution_count": 40,
   "metadata": {},
   "outputs": [
    {
     "data": {
      "text/plain": [
       "device(type='cuda')"
      ]
     },
     "execution_count": 40,
     "metadata": {},
     "output_type": "execute_result"
    }
   ],
   "source": [
    "device = torch.device(\"cuda\" if torch.cuda.is_available() else \"cpu\")\n",
    "device"
   ]
  },
  {
   "cell_type": "code",
   "execution_count": 41,
   "metadata": {},
   "outputs": [],
   "source": [
    "model = MyResNet_CIFAR(num_classes=COUNT_OF_CLASSES, num_layer_factor=5).to(device)"
   ]
  },
  {
   "cell_type": "markdown",
   "metadata": {},
   "source": [
    "# Define Training"
   ]
  },
  {
   "cell_type": "markdown",
   "metadata": {},
   "source": [
    "## (1) Define Criterion"
   ]
  },
  {
   "cell_type": "code",
   "execution_count": 42,
   "metadata": {},
   "outputs": [],
   "source": [
    "criterion = nn.CrossEntropyLoss()"
   ]
  },
  {
   "cell_type": "markdown",
   "metadata": {},
   "source": [
    "## (2) Define Optimazer"
   ]
  },
  {
   "cell_type": "code",
   "execution_count": 43,
   "metadata": {},
   "outputs": [],
   "source": [
    "if OPTIMIZER == \"Adam\":\n",
    "    optimizer = torch.optim.Adam(model.parameters())\n",
    "elif OPTIMIZER == \"Adam_decay\":\n",
    "    optimizer = torch.optim.Adam(model.parameters(), weight_decay=1e-4)\n",
    "elif OPTIMIZER == \"SGD\":\n",
    "    optimizer = torch.optim.SGD(\n",
    "        model.parameters(), lr=0.1, momentum=0.9, weight_decay=1e-4\n",
    "    )\n",
    "elif OPTIMIZER == \"SGD_nasterov\":\n",
    "    optimizer = torch.optim.SGD(\n",
    "        model.parameters(), lr=0.1, momentum=0.9, weight_decay=1e-4, nesterov=True\n",
    "    )\n",
    "elif OPTIMIZER == \"AdamW\":\n",
    "    optimizer = torch.optim.AdamW(model.parameters(), weight_decay=1e-4)\n",
    "elif OPTIMIZER == \"AdamW_amsgrad\":\n",
    "    optimizer = torch.optim.AdamW(model.parameters(), weight_decay=1e-4, amsgrad=True)\n",
    "elif OPTIMIZER == \"NAdam\":\n",
    "    optimizer = torch.optim.NAdam(model.parameters(), weight_decay=1e-4)"
   ]
  },
  {
   "cell_type": "markdown",
   "metadata": {},
   "source": [
    "## (3) Define Early Stopping"
   ]
  },
  {
   "cell_type": "code",
   "execution_count": 44,
   "metadata": {},
   "outputs": [],
   "source": [
    "earlystopper = EarlyStopper(patience=EARLYSTOPPINGPATIENCE, model=model, file_name=file_path)"
   ]
  },
  {
   "cell_type": "markdown",
   "metadata": {},
   "source": [
    "## (4) Define Learning Rate schedualer"
   ]
  },
  {
   "cell_type": "code",
   "execution_count": 45,
   "metadata": {},
   "outputs": [],
   "source": [
    "scheduler = CosineAnnealingLR(optimizer, T_max=NUM_EPOCHS, eta_min=0)"
   ]
  },
  {
   "cell_type": "markdown",
   "metadata": {},
   "source": [
    "## (5) Define AMP scaler"
   ]
  },
  {
   "cell_type": "code",
   "execution_count": 46,
   "metadata": {},
   "outputs": [],
   "source": [
    "scaler = torch.cuda.amp.GradScaler(enabled=True)"
   ]
  },
  {
   "cell_type": "markdown",
   "metadata": {},
   "source": [
    "## Load before process"
   ]
  },
  {
   "cell_type": "code",
   "execution_count": 47,
   "metadata": {},
   "outputs": [
    {
     "name": "stdout",
     "output_type": "stream",
     "text": [
      "Suceessfully loaded the All setting and Log file.\n",
      "MyResNet34_128_AdamW\n",
      "Current epoch is 22\n",
      "Current learning rate: 0.001\n"
     ]
    }
   ],
   "source": [
    "if os.path.exists(file_path + \".pth.tar\"):\n",
    "    # Read checkpoint as desired, e.g.,\n",
    "    checkpoint = torch.load(\n",
    "        file_path + \".pth.tar\",\n",
    "        map_location=lambda storage, loc: storage.cuda(device),\n",
    "    )\n",
    "    model.load_state_dict(checkpoint[\"model\"])\n",
    "    optimizer.load_state_dict(checkpoint[\"optimizer\"])\n",
    "    scaler.load_state_dict(checkpoint[\"scaler\"])\n",
    "    scheduler.load_state_dict(checkpoint[\"scheduler\"])\n",
    "    earlystopper.load_state_dict(checkpoint[\"earlystopper\"])\n",
    "    logs = checkpoint[\"logs\"]\n",
    "\n",
    "    print(\"Suceessfully loaded the All setting and Log file.\")\n",
    "    print(file_path)\n",
    "    print(f\"Current epoch is {len(logs['train_loss'])}\")\n",
    "    print(f\"Current learning rate: {optimizer.param_groups[0]['lr']}\")\n",
    "else:\n",
    "    # Create a dictionary to store the variables\n",
    "    train_loss = []\n",
    "    train_acc = []\n",
    "    eval_loss = []\n",
    "    valid_acc = []\n",
    "    test_loss = []\n",
    "    test_acc = []\n",
    "    lr_log = []\n",
    "    logs = {\n",
    "        \"train_loss\": train_loss,\n",
    "        \"train_acc\": train_acc,\n",
    "        \"valid_loss\": eval_loss,\n",
    "        \"valid_acc\": valid_acc,\n",
    "        \"test_loss\": test_loss,\n",
    "        \"test_acc\": test_acc,\n",
    "        \"lr_log\": lr_log,\n",
    "    }\n",
    "    print(\"File does not exist. Created a new log.\")"
   ]
  },
  {
   "cell_type": "code",
   "execution_count": 48,
   "metadata": {},
   "outputs": [
    {
     "data": {
      "text/plain": [
       "0.001"
      ]
     },
     "execution_count": 48,
     "metadata": {},
     "output_type": "execute_result"
    }
   ],
   "source": [
    "optimizer.param_groups[0][\"lr\"]"
   ]
  },
  {
   "cell_type": "code",
   "execution_count": 49,
   "metadata": {},
   "outputs": [
    {
     "data": {
      "text/plain": [
       "1"
      ]
     },
     "execution_count": 49,
     "metadata": {},
     "output_type": "execute_result"
    }
   ],
   "source": [
    "earlystopper.early_stop_counter"
   ]
  },
  {
   "cell_type": "markdown",
   "metadata": {},
   "source": [
    "# [Training Loop]"
   ]
  },
  {
   "cell_type": "code",
   "execution_count": 50,
   "metadata": {},
   "outputs": [],
   "source": [
    "if valid_data is None:\n",
    "    valid_dataloader = None\n",
    "if test_data is None:\n",
    "    test_dataloader = None"
   ]
  },
  {
   "cell_type": "code",
   "execution_count": 51,
   "metadata": {},
   "outputs": [
    {
     "name": "stdout",
     "output_type": "stream",
     "text": [
      "[Epoch 23/180] :\n"
     ]
    },
    {
     "name": "stderr",
     "output_type": "stream",
     "text": [
      "23 Train: 100%|██████| 391/391 [00:14<00:00, 27.36it/s]"
     ]
    },
    {
     "name": "stdout",
     "output_type": "stream",
     "text": [
      "Train Loss: 0.5068 | Train Acc: 82.23%\n"
     ]
    },
    {
     "name": "stderr",
     "output_type": "stream",
     "text": [
      "\n"
     ]
    },
    {
     "name": "stdout",
     "output_type": "stream",
     "text": [
      "Test  Loss: 0.4750 | Test Acc: 83.94%\n",
      "updated best eval loss : 0.47504755326464204\n",
      "--------------------------------------------------\n",
      "[Epoch 24/180] :\n"
     ]
    },
    {
     "name": "stderr",
     "output_type": "stream",
     "text": [
      "24 Train: 100%|██████| 391/391 [00:16<00:00, 23.27it/s]\n"
     ]
    },
    {
     "name": "stdout",
     "output_type": "stream",
     "text": [
      "Train Loss: 0.4987 | Train Acc: 82.53%\n",
      "Test  Loss: 0.5067 | Test Acc: 83.15%\n",
      "--------------------------------------------------\n",
      "[Epoch 25/180] :\n"
     ]
    },
    {
     "name": "stderr",
     "output_type": "stream",
     "text": [
      "25 Train: 100%|██████| 391/391 [00:17<00:00, 22.58it/s]\n"
     ]
    },
    {
     "name": "stdout",
     "output_type": "stream",
     "text": [
      "Train Loss: 0.4877 | Train Acc: 83.11%\n",
      "Test  Loss: 0.6241 | Test Acc: 80.19%\n",
      "--------------------------------------------------\n",
      "[Epoch 26/180] :\n"
     ]
    },
    {
     "name": "stderr",
     "output_type": "stream",
     "text": [
      "26 Train: 100%|██████| 391/391 [00:17<00:00, 22.04it/s]\n"
     ]
    },
    {
     "name": "stdout",
     "output_type": "stream",
     "text": [
      "Train Loss: 0.4759 | Train Acc: 83.34%\n",
      "Test  Loss: 0.5545 | Test Acc: 81.76%\n",
      "--------------------------------------------------\n",
      "[Epoch 27/180] :\n"
     ]
    },
    {
     "name": "stderr",
     "output_type": "stream",
     "text": [
      "27 Train: 100%|██████| 391/391 [00:17<00:00, 22.92it/s]\n"
     ]
    },
    {
     "name": "stdout",
     "output_type": "stream",
     "text": [
      "Train Loss: 0.4789 | Train Acc: 83.22%\n",
      "Test  Loss: 0.6062 | Test Acc: 79.86%\n",
      "--------------------------------------------------\n",
      "[Epoch 28/180] :\n"
     ]
    },
    {
     "name": "stderr",
     "output_type": "stream",
     "text": [
      "28 Train: 100%|██████| 391/391 [00:17<00:00, 22.33it/s]\n"
     ]
    },
    {
     "name": "stdout",
     "output_type": "stream",
     "text": [
      "Train Loss: 0.4650 | Train Acc: 83.87%\n",
      "Test  Loss: 0.5065 | Test Acc: 82.71%\n",
      "--------------------------------------------------\n",
      "[Epoch 29/180] :\n"
     ]
    },
    {
     "name": "stderr",
     "output_type": "stream",
     "text": [
      "29 Train: 100%|██████| 391/391 [00:17<00:00, 22.64it/s]\n"
     ]
    },
    {
     "name": "stdout",
     "output_type": "stream",
     "text": [
      "Train Loss: 0.4564 | Train Acc: 84.07%\n",
      "Test  Loss: 0.4572 | Test Acc: 84.94%\n",
      "updated best eval loss : 0.45722970781447014\n",
      "--------------------------------------------------\n",
      "[Epoch 30/180] :\n"
     ]
    },
    {
     "name": "stderr",
     "output_type": "stream",
     "text": [
      "30 Train: 100%|██████| 391/391 [00:16<00:00, 23.29it/s]\n"
     ]
    },
    {
     "name": "stdout",
     "output_type": "stream",
     "text": [
      "Train Loss: 0.4521 | Train Acc: 84.33%\n",
      "Test  Loss: 0.5749 | Test Acc: 81.76%\n",
      "--------------------------------------------------\n",
      "[Epoch 31/180] :\n"
     ]
    },
    {
     "name": "stderr",
     "output_type": "stream",
     "text": [
      "31 Train: 100%|██████| 391/391 [00:17<00:00, 22.87it/s]\n"
     ]
    },
    {
     "name": "stdout",
     "output_type": "stream",
     "text": [
      "Train Loss: 0.4441 | Train Acc: 84.36%\n",
      "Test  Loss: 0.4537 | Test Acc: 84.75%\n",
      "updated best eval loss : 0.4536909223357333\n",
      "--------------------------------------------------\n",
      "[Epoch 32/180] :\n"
     ]
    },
    {
     "name": "stderr",
     "output_type": "stream",
     "text": [
      "32 Train: 100%|██████| 391/391 [00:17<00:00, 22.60it/s]\n"
     ]
    },
    {
     "name": "stdout",
     "output_type": "stream",
     "text": [
      "Train Loss: 0.4345 | Train Acc: 84.79%\n",
      "Test  Loss: 0.5519 | Test Acc: 82.18%\n",
      "--------------------------------------------------\n",
      "[Epoch 33/180] :\n"
     ]
    },
    {
     "name": "stderr",
     "output_type": "stream",
     "text": [
      "33 Train: 100%|██████| 391/391 [00:18<00:00, 21.41it/s]\n"
     ]
    },
    {
     "name": "stdout",
     "output_type": "stream",
     "text": [
      "Train Loss: 0.4324 | Train Acc: 84.98%\n",
      "Test  Loss: 0.5543 | Test Acc: 81.59%\n",
      "--------------------------------------------------\n",
      "[Epoch 34/180] :\n"
     ]
    },
    {
     "name": "stderr",
     "output_type": "stream",
     "text": [
      "34 Train: 100%|██████| 391/391 [00:18<00:00, 21.67it/s]\n"
     ]
    },
    {
     "name": "stdout",
     "output_type": "stream",
     "text": [
      "Train Loss: 0.4285 | Train Acc: 84.98%\n",
      "Test  Loss: 0.5702 | Test Acc: 81.32%\n",
      "--------------------------------------------------\n",
      "[Epoch 35/180] :\n"
     ]
    },
    {
     "name": "stderr",
     "output_type": "stream",
     "text": [
      "35 Train: 100%|██████| 391/391 [00:17<00:00, 22.11it/s]\n"
     ]
    },
    {
     "name": "stdout",
     "output_type": "stream",
     "text": [
      "Train Loss: 0.4227 | Train Acc: 85.39%\n",
      "Test  Loss: 0.4205 | Test Acc: 85.34%\n",
      "updated best eval loss : 0.42047514285467846\n",
      "--------------------------------------------------\n",
      "[Epoch 36/180] :\n"
     ]
    },
    {
     "name": "stderr",
     "output_type": "stream",
     "text": [
      "36 Train: 100%|██████| 391/391 [00:16<00:00, 23.14it/s]\n"
     ]
    },
    {
     "name": "stdout",
     "output_type": "stream",
     "text": [
      "Train Loss: 0.4169 | Train Acc: 85.50%\n",
      "Test  Loss: 0.4786 | Test Acc: 84.35%\n",
      "--------------------------------------------------\n",
      "[Epoch 37/180] :\n"
     ]
    },
    {
     "name": "stderr",
     "output_type": "stream",
     "text": [
      "37 Train: 100%|██████| 391/391 [00:17<00:00, 22.59it/s]\n"
     ]
    },
    {
     "name": "stdout",
     "output_type": "stream",
     "text": [
      "Train Loss: 0.4127 | Train Acc: 85.58%\n",
      "Test  Loss: 0.5540 | Test Acc: 82.10%\n",
      "--------------------------------------------------\n",
      "[Epoch 38/180] :\n"
     ]
    },
    {
     "name": "stderr",
     "output_type": "stream",
     "text": [
      "38 Train: 100%|██████| 391/391 [00:17<00:00, 21.82it/s]\n"
     ]
    },
    {
     "name": "stdout",
     "output_type": "stream",
     "text": [
      "Train Loss: 0.4027 | Train Acc: 85.82%\n",
      "Test  Loss: 0.5010 | Test Acc: 83.72%\n",
      "--------------------------------------------------\n",
      "[Epoch 39/180] :\n"
     ]
    },
    {
     "name": "stderr",
     "output_type": "stream",
     "text": [
      "39 Train: 100%|██████| 391/391 [00:17<00:00, 22.87it/s]\n"
     ]
    },
    {
     "name": "stdout",
     "output_type": "stream",
     "text": [
      "Train Loss: 0.4068 | Train Acc: 85.61%\n",
      "Test  Loss: 0.4568 | Test Acc: 84.68%\n",
      "--------------------------------------------------\n",
      "[Epoch 40/180] :\n"
     ]
    },
    {
     "name": "stderr",
     "output_type": "stream",
     "text": [
      "40 Train: 100%|██████| 391/391 [00:17<00:00, 22.20it/s]\n"
     ]
    },
    {
     "name": "stdout",
     "output_type": "stream",
     "text": [
      "Train Loss: 0.3918 | Train Acc: 86.46%\n",
      "Test  Loss: 0.5178 | Test Acc: 83.59%\n",
      "--------------------------------------------------\n",
      "[Epoch 41/180] :\n"
     ]
    },
    {
     "name": "stderr",
     "output_type": "stream",
     "text": [
      "41 Train: 100%|██████| 391/391 [00:17<00:00, 22.19it/s]\n"
     ]
    },
    {
     "name": "stdout",
     "output_type": "stream",
     "text": [
      "Train Loss: 0.3961 | Train Acc: 86.21%\n",
      "Test  Loss: 0.5040 | Test Acc: 83.73%\n",
      "--------------------------------------------------\n",
      "[Epoch 42/180] :\n"
     ]
    },
    {
     "name": "stderr",
     "output_type": "stream",
     "text": [
      "42 Train: 100%|██████| 391/391 [00:18<00:00, 21.69it/s]\n"
     ]
    },
    {
     "name": "stdout",
     "output_type": "stream",
     "text": [
      "Train Loss: 0.3835 | Train Acc: 86.65%\n",
      "Test  Loss: 0.5658 | Test Acc: 82.78%\n",
      "--------------------------------------------------\n",
      "[Epoch 43/180] :\n"
     ]
    },
    {
     "name": "stderr",
     "output_type": "stream",
     "text": [
      "43 Train: 100%|██████| 391/391 [00:17<00:00, 22.22it/s]\n"
     ]
    },
    {
     "name": "stdout",
     "output_type": "stream",
     "text": [
      "Train Loss: 0.3869 | Train Acc: 86.49%\n",
      "Test  Loss: 0.5301 | Test Acc: 83.09%\n",
      "--------------------------------------------------\n",
      "[Epoch 44/180] :\n"
     ]
    },
    {
     "name": "stderr",
     "output_type": "stream",
     "text": [
      "44 Train: 100%|██████| 391/391 [00:17<00:00, 22.38it/s]\n"
     ]
    },
    {
     "name": "stdout",
     "output_type": "stream",
     "text": [
      "Train Loss: 0.3851 | Train Acc: 86.60%\n",
      "Test  Loss: 0.5550 | Test Acc: 82.11%\n",
      "--------------------------------------------------\n",
      "[Epoch 45/180] :\n"
     ]
    },
    {
     "name": "stderr",
     "output_type": "stream",
     "text": [
      "45 Train: 100%|██████| 391/391 [00:16<00:00, 23.23it/s]\n"
     ]
    },
    {
     "name": "stdout",
     "output_type": "stream",
     "text": [
      "Train Loss: 0.3816 | Train Acc: 86.54%\n",
      "Test  Loss: 0.5165 | Test Acc: 82.93%\n",
      "--------------------------------------------------\n",
      "[Epoch 46/180] :\n"
     ]
    },
    {
     "name": "stderr",
     "output_type": "stream",
     "text": [
      "46 Train: 100%|██████| 391/391 [00:16<00:00, 24.07it/s]\n"
     ]
    },
    {
     "name": "stdout",
     "output_type": "stream",
     "text": [
      "Train Loss: 0.3712 | Train Acc: 86.94%\n",
      "Test  Loss: 0.4479 | Test Acc: 84.92%\n",
      "--------------------------------------------------\n",
      "[Epoch 47/180] :\n"
     ]
    },
    {
     "name": "stderr",
     "output_type": "stream",
     "text": [
      "47 Train: 100%|██████| 391/391 [00:17<00:00, 22.20it/s]\n"
     ]
    },
    {
     "name": "stdout",
     "output_type": "stream",
     "text": [
      "Train Loss: 0.3714 | Train Acc: 86.99%\n",
      "Test  Loss: 0.4684 | Test Acc: 84.31%\n",
      "--------------------------------------------------\n",
      "[Epoch 48/180] :\n"
     ]
    },
    {
     "name": "stderr",
     "output_type": "stream",
     "text": [
      "48 Train: 100%|██████| 391/391 [00:17<00:00, 22.39it/s]\n"
     ]
    },
    {
     "name": "stdout",
     "output_type": "stream",
     "text": [
      "Train Loss: 0.3720 | Train Acc: 86.78%\n",
      "Test  Loss: 0.4832 | Test Acc: 84.67%\n",
      "--------------------------------------------------\n",
      "[Epoch 49/180] :\n"
     ]
    },
    {
     "name": "stderr",
     "output_type": "stream",
     "text": [
      "49 Train: 100%|██████| 391/391 [00:17<00:00, 22.41it/s]\n"
     ]
    },
    {
     "name": "stdout",
     "output_type": "stream",
     "text": [
      "Train Loss: 0.3685 | Train Acc: 87.11%\n",
      "Test  Loss: 0.4876 | Test Acc: 85.29%\n",
      "--------------------------------------------------\n",
      "[Epoch 50/180] :\n"
     ]
    },
    {
     "name": "stderr",
     "output_type": "stream",
     "text": [
      "50 Train: 100%|██████| 391/391 [00:17<00:00, 22.39it/s]\n"
     ]
    },
    {
     "name": "stdout",
     "output_type": "stream",
     "text": [
      "Train Loss: 0.3583 | Train Acc: 87.45%\n",
      "Test  Loss: 0.4864 | Test Acc: 84.46%\n",
      "--------------------------------------------------\n",
      "[Epoch 51/180] :\n"
     ]
    },
    {
     "name": "stderr",
     "output_type": "stream",
     "text": [
      "51 Train: 100%|██████| 391/391 [00:16<00:00, 23.05it/s]\n"
     ]
    },
    {
     "name": "stdout",
     "output_type": "stream",
     "text": [
      "Train Loss: 0.3578 | Train Acc: 87.35%\n",
      "Test  Loss: 0.4627 | Test Acc: 85.36%\n",
      "--------------------------------------------------\n",
      "[Epoch 52/180] :\n"
     ]
    },
    {
     "name": "stderr",
     "output_type": "stream",
     "text": [
      "52 Train: 100%|██████| 391/391 [00:17<00:00, 22.93it/s]\n"
     ]
    },
    {
     "name": "stdout",
     "output_type": "stream",
     "text": [
      "Train Loss: 0.3525 | Train Acc: 87.56%\n",
      "Test  Loss: 0.4097 | Test Acc: 86.59%\n",
      "updated best eval loss : 0.4097478157734569\n",
      "--------------------------------------------------\n",
      "[Epoch 53/180] :\n"
     ]
    },
    {
     "name": "stderr",
     "output_type": "stream",
     "text": [
      "53 Train: 100%|██████| 391/391 [00:17<00:00, 22.67it/s]\n"
     ]
    },
    {
     "name": "stdout",
     "output_type": "stream",
     "text": [
      "Train Loss: 0.3527 | Train Acc: 87.53%\n",
      "Test  Loss: 0.4362 | Test Acc: 86.24%\n",
      "--------------------------------------------------\n",
      "[Epoch 54/180] :\n"
     ]
    },
    {
     "name": "stderr",
     "output_type": "stream",
     "text": [
      "54 Train: 100%|██████| 391/391 [00:17<00:00, 22.18it/s]\n"
     ]
    },
    {
     "name": "stdout",
     "output_type": "stream",
     "text": [
      "Train Loss: 0.3473 | Train Acc: 87.86%\n",
      "Test  Loss: 0.4603 | Test Acc: 85.65%\n",
      "--------------------------------------------------\n",
      "[Epoch 55/180] :\n"
     ]
    },
    {
     "name": "stderr",
     "output_type": "stream",
     "text": [
      "55 Train: 100%|██████| 391/391 [00:17<00:00, 22.85it/s]\n"
     ]
    },
    {
     "name": "stdout",
     "output_type": "stream",
     "text": [
      "Train Loss: 0.3486 | Train Acc: 87.75%\n",
      "Test  Loss: 0.4917 | Test Acc: 84.34%\n",
      "--------------------------------------------------\n",
      "[Epoch 56/180] :\n"
     ]
    },
    {
     "name": "stderr",
     "output_type": "stream",
     "text": [
      "56 Train: 100%|██████| 391/391 [00:18<00:00, 21.32it/s]\n"
     ]
    },
    {
     "name": "stdout",
     "output_type": "stream",
     "text": [
      "Train Loss: 0.3423 | Train Acc: 87.87%\n",
      "Test  Loss: 0.5767 | Test Acc: 81.76%\n",
      "--------------------------------------------------\n",
      "[Epoch 57/180] :\n"
     ]
    },
    {
     "name": "stderr",
     "output_type": "stream",
     "text": [
      "57 Train: 100%|██████| 391/391 [00:17<00:00, 22.66it/s]\n"
     ]
    },
    {
     "name": "stdout",
     "output_type": "stream",
     "text": [
      "Train Loss: 0.3432 | Train Acc: 88.00%\n",
      "Test  Loss: 0.4309 | Test Acc: 86.24%\n",
      "--------------------------------------------------\n",
      "[Epoch 58/180] :\n"
     ]
    },
    {
     "name": "stderr",
     "output_type": "stream",
     "text": [
      "58 Train: 100%|██████| 391/391 [00:17<00:00, 22.24it/s]\n"
     ]
    },
    {
     "name": "stdout",
     "output_type": "stream",
     "text": [
      "Train Loss: 0.3416 | Train Acc: 88.01%\n",
      "Test  Loss: 0.5172 | Test Acc: 84.04%\n",
      "--------------------------------------------------\n",
      "[Epoch 59/180] :\n"
     ]
    },
    {
     "name": "stderr",
     "output_type": "stream",
     "text": [
      "59 Train: 100%|██████| 391/391 [00:17<00:00, 22.06it/s]\n"
     ]
    },
    {
     "name": "stdout",
     "output_type": "stream",
     "text": [
      "Train Loss: 0.3384 | Train Acc: 88.32%\n",
      "Test  Loss: 0.4545 | Test Acc: 85.29%\n",
      "--------------------------------------------------\n",
      "[Epoch 60/180] :\n"
     ]
    },
    {
     "name": "stderr",
     "output_type": "stream",
     "text": [
      "60 Train: 100%|██████| 391/391 [00:17<00:00, 22.04it/s]\n"
     ]
    },
    {
     "name": "stdout",
     "output_type": "stream",
     "text": [
      "Train Loss: 0.3341 | Train Acc: 88.47%\n",
      "Test  Loss: 0.4846 | Test Acc: 84.73%\n",
      "--------------------------------------------------\n",
      "[Epoch 61/180] :\n"
     ]
    },
    {
     "name": "stderr",
     "output_type": "stream",
     "text": [
      "61 Train: 100%|██████| 391/391 [00:17<00:00, 22.02it/s]\n"
     ]
    },
    {
     "name": "stdout",
     "output_type": "stream",
     "text": [
      "Train Loss: 0.3319 | Train Acc: 88.52%\n",
      "Test  Loss: 0.4920 | Test Acc: 85.07%\n",
      "--------------------------------------------------\n",
      "[Epoch 62/180] :\n"
     ]
    },
    {
     "name": "stderr",
     "output_type": "stream",
     "text": [
      "62 Train: 100%|██████| 391/391 [00:17<00:00, 22.36it/s]\n"
     ]
    },
    {
     "name": "stdout",
     "output_type": "stream",
     "text": [
      "Train Loss: 0.3271 | Train Acc: 88.60%\n",
      "Test  Loss: 0.5398 | Test Acc: 83.59%\n",
      "--------------------------------------------------\n",
      "[Epoch 63/180] :\n"
     ]
    },
    {
     "name": "stderr",
     "output_type": "stream",
     "text": [
      "63 Train: 100%|██████| 391/391 [00:17<00:00, 22.09it/s]\n"
     ]
    },
    {
     "name": "stdout",
     "output_type": "stream",
     "text": [
      "Train Loss: 0.3276 | Train Acc: 88.60%\n",
      "Test  Loss: 0.4617 | Test Acc: 85.93%\n",
      "--------------------------------------------------\n",
      "[Epoch 64/180] :\n"
     ]
    },
    {
     "name": "stderr",
     "output_type": "stream",
     "text": [
      "64 Train: 100%|██████| 391/391 [00:16<00:00, 23.03it/s]\n"
     ]
    },
    {
     "name": "stdout",
     "output_type": "stream",
     "text": [
      "Train Loss: 0.3259 | Train Acc: 88.54%\n",
      "Test  Loss: 0.5041 | Test Acc: 84.45%\n",
      "--------------------------------------------------\n",
      "[Epoch 65/180] :\n"
     ]
    },
    {
     "name": "stderr",
     "output_type": "stream",
     "text": [
      "65 Train: 100%|██████| 391/391 [00:17<00:00, 22.36it/s]\n"
     ]
    },
    {
     "name": "stdout",
     "output_type": "stream",
     "text": [
      "Train Loss: 0.3228 | Train Acc: 88.75%\n",
      "Test  Loss: 0.4451 | Test Acc: 86.38%\n",
      "--------------------------------------------------\n",
      "[Epoch 66/180] :\n"
     ]
    },
    {
     "name": "stderr",
     "output_type": "stream",
     "text": [
      "66 Train: 100%|██████| 391/391 [00:17<00:00, 21.91it/s]\n"
     ]
    },
    {
     "name": "stdout",
     "output_type": "stream",
     "text": [
      "Train Loss: 0.3157 | Train Acc: 88.95%\n",
      "Test  Loss: 0.5055 | Test Acc: 84.50%\n",
      "--------------------------------------------------\n",
      "[Epoch 67/180] :\n"
     ]
    },
    {
     "name": "stderr",
     "output_type": "stream",
     "text": [
      "67 Train: 100%|██████| 391/391 [00:17<00:00, 21.80it/s]\n"
     ]
    },
    {
     "name": "stdout",
     "output_type": "stream",
     "text": [
      "Train Loss: 0.3218 | Train Acc: 88.79%\n",
      "Test  Loss: 0.4217 | Test Acc: 86.60%\n",
      "--------------------------------------------------\n",
      "[Epoch 68/180] :\n"
     ]
    },
    {
     "name": "stderr",
     "output_type": "stream",
     "text": [
      "68 Train: 100%|██████| 391/391 [00:17<00:00, 22.96it/s]\n"
     ]
    },
    {
     "name": "stdout",
     "output_type": "stream",
     "text": [
      "Train Loss: 0.3163 | Train Acc: 89.09%\n",
      "Test  Loss: 0.4386 | Test Acc: 86.46%\n",
      "--------------------------------------------------\n",
      "[Epoch 69/180] :\n"
     ]
    },
    {
     "name": "stderr",
     "output_type": "stream",
     "text": [
      "69 Train: 100%|██████| 391/391 [00:17<00:00, 22.04it/s]\n"
     ]
    },
    {
     "name": "stdout",
     "output_type": "stream",
     "text": [
      "Train Loss: 0.3162 | Train Acc: 88.94%\n",
      "Test  Loss: 0.4634 | Test Acc: 85.69%\n",
      "--------------------------------------------------\n",
      "[Epoch 70/180] :\n"
     ]
    },
    {
     "name": "stderr",
     "output_type": "stream",
     "text": [
      "70 Train: 100%|██████| 391/391 [00:17<00:00, 21.78it/s]\n"
     ]
    },
    {
     "name": "stdout",
     "output_type": "stream",
     "text": [
      "Train Loss: 0.3106 | Train Acc: 89.00%\n",
      "Test  Loss: 0.4767 | Test Acc: 84.68%\n",
      "--------------------------------------------------\n",
      "[Epoch 71/180] :\n"
     ]
    },
    {
     "name": "stderr",
     "output_type": "stream",
     "text": [
      "71 Train: 100%|██████| 391/391 [00:17<00:00, 22.14it/s]\n"
     ]
    },
    {
     "name": "stdout",
     "output_type": "stream",
     "text": [
      "Train Loss: 0.3122 | Train Acc: 89.09%\n",
      "Test  Loss: 0.4584 | Test Acc: 85.48%\n",
      "--------------------------------------------------\n",
      "[Epoch 72/180] :\n"
     ]
    },
    {
     "name": "stderr",
     "output_type": "stream",
     "text": [
      "72 Train: 100%|██████| 391/391 [00:17<00:00, 22.04it/s]\n"
     ]
    },
    {
     "name": "stdout",
     "output_type": "stream",
     "text": [
      "Train Loss: 0.3122 | Train Acc: 89.06%\n",
      "Test  Loss: 0.5112 | Test Acc: 84.10%\n",
      "--------------------------------------------------\n",
      "[Epoch 73/180] :\n"
     ]
    },
    {
     "name": "stderr",
     "output_type": "stream",
     "text": [
      "73 Train: 100%|██████| 391/391 [00:18<00:00, 21.70it/s]\n"
     ]
    },
    {
     "name": "stdout",
     "output_type": "stream",
     "text": [
      "Train Loss: 0.3037 | Train Acc: 89.31%\n",
      "Test  Loss: 0.4801 | Test Acc: 85.58%\n",
      "--------------------------------------------------\n",
      "[Epoch 74/180] :\n"
     ]
    },
    {
     "name": "stderr",
     "output_type": "stream",
     "text": [
      "74 Train: 100%|██████| 391/391 [00:17<00:00, 21.92it/s]\n"
     ]
    },
    {
     "name": "stdout",
     "output_type": "stream",
     "text": [
      "Train Loss: 0.3016 | Train Acc: 89.31%\n",
      "Test  Loss: 0.4626 | Test Acc: 85.68%\n",
      "--------------------------------------------------\n",
      "[Epoch 75/180] :\n"
     ]
    },
    {
     "name": "stderr",
     "output_type": "stream",
     "text": [
      "75 Train: 100%|██████| 391/391 [00:17<00:00, 22.90it/s]\n"
     ]
    },
    {
     "name": "stdout",
     "output_type": "stream",
     "text": [
      "Train Loss: 0.3015 | Train Acc: 89.35%\n",
      "Test  Loss: 0.4535 | Test Acc: 86.27%\n",
      "--------------------------------------------------\n",
      "[Epoch 76/180] :\n"
     ]
    },
    {
     "name": "stderr",
     "output_type": "stream",
     "text": [
      "76 Train: 100%|██████| 391/391 [00:17<00:00, 21.77it/s]\n"
     ]
    },
    {
     "name": "stdout",
     "output_type": "stream",
     "text": [
      "Train Loss: 0.3009 | Train Acc: 89.55%\n",
      "Test  Loss: 0.4354 | Test Acc: 86.57%\n",
      "--------------------------------------------------\n",
      "[Epoch 77/180] :\n"
     ]
    },
    {
     "name": "stderr",
     "output_type": "stream",
     "text": [
      "77 Train: 100%|██████| 391/391 [00:17<00:00, 22.40it/s]\n"
     ]
    },
    {
     "name": "stdout",
     "output_type": "stream",
     "text": [
      "Train Loss: 0.2948 | Train Acc: 89.64%\n",
      "Test  Loss: 0.4522 | Test Acc: 86.32%\n",
      "--------------------------------------------------\n",
      "[Epoch 78/180] :\n"
     ]
    },
    {
     "name": "stderr",
     "output_type": "stream",
     "text": [
      "78 Train: 100%|██████| 391/391 [00:17<00:00, 22.85it/s]\n"
     ]
    },
    {
     "name": "stdout",
     "output_type": "stream",
     "text": [
      "Train Loss: 0.2968 | Train Acc: 89.65%\n",
      "Test  Loss: 0.4437 | Test Acc: 86.46%\n",
      "--------------------------------------------------\n",
      "[Epoch 79/180] :\n"
     ]
    },
    {
     "name": "stderr",
     "output_type": "stream",
     "text": [
      "79 Train: 100%|██████| 391/391 [00:17<00:00, 22.14it/s]\n"
     ]
    },
    {
     "name": "stdout",
     "output_type": "stream",
     "text": [
      "Train Loss: 0.2940 | Train Acc: 89.70%\n",
      "Test  Loss: 0.3936 | Test Acc: 87.96%\n",
      "updated best eval loss : 0.3935560717990127\n",
      "--------------------------------------------------\n",
      "[Epoch 80/180] :\n"
     ]
    },
    {
     "name": "stderr",
     "output_type": "stream",
     "text": [
      "80 Train: 100%|██████| 391/391 [00:17<00:00, 22.01it/s]\n"
     ]
    },
    {
     "name": "stdout",
     "output_type": "stream",
     "text": [
      "Train Loss: 0.2963 | Train Acc: 89.53%\n",
      "Test  Loss: 0.5296 | Test Acc: 84.47%\n",
      "--------------------------------------------------\n",
      "[Epoch 81/180] :\n"
     ]
    },
    {
     "name": "stderr",
     "output_type": "stream",
     "text": [
      "81 Train: 100%|██████| 391/391 [00:17<00:00, 21.98it/s]\n"
     ]
    },
    {
     "name": "stdout",
     "output_type": "stream",
     "text": [
      "Train Loss: 0.2928 | Train Acc: 89.84%\n",
      "Test  Loss: 0.3961 | Test Acc: 87.35%\n",
      "--------------------------------------------------\n",
      "[Epoch 82/180] :\n"
     ]
    },
    {
     "name": "stderr",
     "output_type": "stream",
     "text": [
      "82 Train: 100%|██████| 391/391 [00:18<00:00, 21.47it/s]\n"
     ]
    },
    {
     "name": "stdout",
     "output_type": "stream",
     "text": [
      "Train Loss: 0.2919 | Train Acc: 89.83%\n",
      "Test  Loss: 0.4163 | Test Acc: 87.16%\n",
      "--------------------------------------------------\n",
      "[Epoch 83/180] :\n"
     ]
    },
    {
     "name": "stderr",
     "output_type": "stream",
     "text": [
      "83 Train: 100%|██████| 391/391 [00:17<00:00, 22.52it/s]\n"
     ]
    },
    {
     "name": "stdout",
     "output_type": "stream",
     "text": [
      "Train Loss: 0.2870 | Train Acc: 89.88%\n",
      "Test  Loss: 0.5059 | Test Acc: 84.93%\n",
      "--------------------------------------------------\n",
      "[Epoch 84/180] :\n"
     ]
    },
    {
     "name": "stderr",
     "output_type": "stream",
     "text": [
      "84 Train: 100%|██████| 391/391 [00:16<00:00, 23.38it/s]\n"
     ]
    },
    {
     "name": "stdout",
     "output_type": "stream",
     "text": [
      "Train Loss: 0.2859 | Train Acc: 89.86%\n",
      "Test  Loss: 0.4022 | Test Acc: 87.00%\n",
      "--------------------------------------------------\n",
      "[Epoch 85/180] :\n"
     ]
    },
    {
     "name": "stderr",
     "output_type": "stream",
     "text": [
      "85 Train: 100%|██████| 391/391 [00:17<00:00, 22.55it/s]\n"
     ]
    },
    {
     "name": "stdout",
     "output_type": "stream",
     "text": [
      "Train Loss: 0.2837 | Train Acc: 90.05%\n",
      "Test  Loss: 0.4110 | Test Acc: 87.03%\n",
      "--------------------------------------------------\n",
      "[Epoch 86/180] :\n"
     ]
    },
    {
     "name": "stderr",
     "output_type": "stream",
     "text": [
      "86 Train: 100%|██████| 391/391 [00:18<00:00, 21.39it/s]\n"
     ]
    },
    {
     "name": "stdout",
     "output_type": "stream",
     "text": [
      "Train Loss: 0.2819 | Train Acc: 90.07%\n",
      "Test  Loss: 0.5446 | Test Acc: 84.85%\n",
      "--------------------------------------------------\n",
      "[Epoch 87/180] :\n"
     ]
    },
    {
     "name": "stderr",
     "output_type": "stream",
     "text": [
      "87 Train: 100%|██████| 391/391 [00:17<00:00, 22.53it/s]\n"
     ]
    },
    {
     "name": "stdout",
     "output_type": "stream",
     "text": [
      "Train Loss: 0.2810 | Train Acc: 90.18%\n",
      "Test  Loss: 0.4341 | Test Acc: 87.07%\n",
      "--------------------------------------------------\n",
      "[Epoch 88/180] :\n"
     ]
    },
    {
     "name": "stderr",
     "output_type": "stream",
     "text": [
      "88 Train: 100%|██████| 391/391 [00:17<00:00, 22.51it/s]\n"
     ]
    },
    {
     "name": "stdout",
     "output_type": "stream",
     "text": [
      "Train Loss: 0.2773 | Train Acc: 90.42%\n",
      "Test  Loss: 0.4181 | Test Acc: 87.48%\n",
      "--------------------------------------------------\n",
      "[Epoch 89/180] :\n"
     ]
    },
    {
     "name": "stderr",
     "output_type": "stream",
     "text": [
      "89 Train: 100%|██████| 391/391 [00:17<00:00, 22.84it/s]\n"
     ]
    },
    {
     "name": "stdout",
     "output_type": "stream",
     "text": [
      "Train Loss: 0.2835 | Train Acc: 90.03%\n",
      "Test  Loss: 0.4339 | Test Acc: 86.76%\n",
      "--------------------------------------------------\n",
      "[Epoch 90/180] :\n"
     ]
    },
    {
     "name": "stderr",
     "output_type": "stream",
     "text": [
      "90 Train: 100%|██████| 391/391 [00:17<00:00, 22.64it/s]\n"
     ]
    },
    {
     "name": "stdout",
     "output_type": "stream",
     "text": [
      "Train Loss: 0.2859 | Train Acc: 89.84%\n",
      "Test  Loss: 0.3863 | Test Acc: 87.92%\n",
      "updated best eval loss : 0.3863440964229499\n",
      "--------------------------------------------------\n",
      "[Epoch 91/180] :\n"
     ]
    },
    {
     "name": "stderr",
     "output_type": "stream",
     "text": [
      "91 Train: 100%|██████| 391/391 [00:17<00:00, 22.47it/s]\n"
     ]
    },
    {
     "name": "stdout",
     "output_type": "stream",
     "text": [
      "Train Loss: 0.2721 | Train Acc: 90.48%\n",
      "Test  Loss: 0.4253 | Test Acc: 87.07%\n",
      "--------------------------------------------------\n",
      "[Epoch 92/180] :\n"
     ]
    },
    {
     "name": "stderr",
     "output_type": "stream",
     "text": [
      "92 Train: 100%|██████| 391/391 [00:17<00:00, 21.90it/s]\n"
     ]
    },
    {
     "name": "stdout",
     "output_type": "stream",
     "text": [
      "Train Loss: 0.2752 | Train Acc: 90.34%\n",
      "Test  Loss: 0.4151 | Test Acc: 87.33%\n",
      "--------------------------------------------------\n",
      "[Epoch 93/180] :\n"
     ]
    },
    {
     "name": "stderr",
     "output_type": "stream",
     "text": [
      "93 Train: 100%|██████| 391/391 [00:17<00:00, 22.56it/s]\n"
     ]
    },
    {
     "name": "stdout",
     "output_type": "stream",
     "text": [
      "Train Loss: 0.2699 | Train Acc: 90.46%\n",
      "Test  Loss: 0.4252 | Test Acc: 87.36%\n",
      "--------------------------------------------------\n",
      "[Epoch 94/180] :\n"
     ]
    },
    {
     "name": "stderr",
     "output_type": "stream",
     "text": [
      "94 Train: 100%|██████| 391/391 [00:17<00:00, 22.68it/s]\n"
     ]
    },
    {
     "name": "stdout",
     "output_type": "stream",
     "text": [
      "Train Loss: 0.2738 | Train Acc: 90.48%\n",
      "Test  Loss: 0.3877 | Test Acc: 88.20%\n",
      "--------------------------------------------------\n",
      "[Epoch 95/180] :\n"
     ]
    },
    {
     "name": "stderr",
     "output_type": "stream",
     "text": [
      "95 Train: 100%|██████| 391/391 [00:17<00:00, 22.39it/s]\n"
     ]
    },
    {
     "name": "stdout",
     "output_type": "stream",
     "text": [
      "Train Loss: 0.2678 | Train Acc: 90.60%\n",
      "Test  Loss: 0.4696 | Test Acc: 85.86%\n",
      "--------------------------------------------------\n",
      "[Epoch 96/180] :\n"
     ]
    },
    {
     "name": "stderr",
     "output_type": "stream",
     "text": [
      "96 Train: 100%|██████| 391/391 [00:17<00:00, 22.99it/s]\n"
     ]
    },
    {
     "name": "stdout",
     "output_type": "stream",
     "text": [
      "Train Loss: 0.2665 | Train Acc: 90.61%\n",
      "Test  Loss: 0.4355 | Test Acc: 86.72%\n",
      "--------------------------------------------------\n",
      "[Epoch 97/180] :\n"
     ]
    },
    {
     "name": "stderr",
     "output_type": "stream",
     "text": [
      "97 Train: 100%|██████| 391/391 [00:17<00:00, 22.57it/s]\n"
     ]
    },
    {
     "name": "stdout",
     "output_type": "stream",
     "text": [
      "Train Loss: 0.2692 | Train Acc: 90.46%\n",
      "Test  Loss: 0.3818 | Test Acc: 87.77%\n",
      "updated best eval loss : 0.38175699171386185\n",
      "--------------------------------------------------\n",
      "[Epoch 98/180] :\n"
     ]
    },
    {
     "name": "stderr",
     "output_type": "stream",
     "text": [
      "98 Train: 100%|██████| 391/391 [00:17<00:00, 21.74it/s]\n"
     ]
    },
    {
     "name": "stdout",
     "output_type": "stream",
     "text": [
      "Train Loss: 0.2663 | Train Acc: 90.68%\n",
      "Test  Loss: 0.4207 | Test Acc: 86.91%\n",
      "--------------------------------------------------\n",
      "[Epoch 99/180] :\n"
     ]
    },
    {
     "name": "stderr",
     "output_type": "stream",
     "text": [
      "99 Train: 100%|██████| 391/391 [00:17<00:00, 22.93it/s]\n"
     ]
    },
    {
     "name": "stdout",
     "output_type": "stream",
     "text": [
      "Train Loss: 0.2638 | Train Acc: 90.78%\n",
      "Test  Loss: 0.4239 | Test Acc: 87.51%\n",
      "--------------------------------------------------\n",
      "[Epoch 100/180] :\n"
     ]
    },
    {
     "name": "stderr",
     "output_type": "stream",
     "text": [
      "100 Train: 100%|█████| 391/391 [00:17<00:00, 21.90it/s]\n"
     ]
    },
    {
     "name": "stdout",
     "output_type": "stream",
     "text": [
      "Train Loss: 0.2649 | Train Acc: 90.75%\n",
      "Test  Loss: 0.3954 | Test Acc: 87.70%\n",
      "--------------------------------------------------\n",
      "[Epoch 101/180] :\n"
     ]
    },
    {
     "name": "stderr",
     "output_type": "stream",
     "text": [
      "101 Train: 100%|█████| 391/391 [00:17<00:00, 22.14it/s]\n"
     ]
    },
    {
     "name": "stdout",
     "output_type": "stream",
     "text": [
      "Train Loss: 0.2644 | Train Acc: 90.72%\n",
      "Test  Loss: 0.4821 | Test Acc: 85.84%\n",
      "--------------------------------------------------\n",
      "[Epoch 102/180] :\n"
     ]
    },
    {
     "name": "stderr",
     "output_type": "stream",
     "text": [
      "102 Train: 100%|█████| 391/391 [00:17<00:00, 22.20it/s]\n"
     ]
    },
    {
     "name": "stdout",
     "output_type": "stream",
     "text": [
      "Train Loss: 0.2673 | Train Acc: 90.65%\n",
      "Test  Loss: 0.4507 | Test Acc: 86.37%\n",
      "--------------------------------------------------\n",
      "[Epoch 103/180] :\n"
     ]
    },
    {
     "name": "stderr",
     "output_type": "stream",
     "text": [
      "103 Train: 100%|█████| 391/391 [00:17<00:00, 22.41it/s]\n"
     ]
    },
    {
     "name": "stdout",
     "output_type": "stream",
     "text": [
      "Train Loss: 0.2597 | Train Acc: 90.79%\n",
      "Test  Loss: 0.4096 | Test Acc: 87.54%\n",
      "--------------------------------------------------\n",
      "[Epoch 104/180] :\n"
     ]
    },
    {
     "name": "stderr",
     "output_type": "stream",
     "text": [
      "104 Train: 100%|█████| 391/391 [00:17<00:00, 22.57it/s]\n"
     ]
    },
    {
     "name": "stdout",
     "output_type": "stream",
     "text": [
      "Train Loss: 0.2645 | Train Acc: 90.75%\n",
      "Test  Loss: 0.4122 | Test Acc: 87.32%\n",
      "--------------------------------------------------\n",
      "[Epoch 105/180] :\n"
     ]
    },
    {
     "name": "stderr",
     "output_type": "stream",
     "text": [
      "105 Train: 100%|█████| 391/391 [00:17<00:00, 22.83it/s]\n"
     ]
    },
    {
     "name": "stdout",
     "output_type": "stream",
     "text": [
      "Train Loss: 0.2542 | Train Acc: 91.04%\n",
      "Test  Loss: 0.4076 | Test Acc: 87.61%\n",
      "--------------------------------------------------\n",
      "[Epoch 106/180] :\n"
     ]
    },
    {
     "name": "stderr",
     "output_type": "stream",
     "text": [
      "106 Train: 100%|█████| 391/391 [00:18<00:00, 21.33it/s]\n"
     ]
    },
    {
     "name": "stdout",
     "output_type": "stream",
     "text": [
      "Train Loss: 0.2551 | Train Acc: 91.00%\n",
      "Test  Loss: 0.3799 | Test Acc: 88.36%\n",
      "updated best eval loss : 0.379862513911875\n",
      "--------------------------------------------------\n",
      "[Epoch 107/180] :\n"
     ]
    },
    {
     "name": "stderr",
     "output_type": "stream",
     "text": [
      "107 Train: 100%|█████| 391/391 [00:18<00:00, 21.43it/s]\n"
     ]
    },
    {
     "name": "stdout",
     "output_type": "stream",
     "text": [
      "Train Loss: 0.2548 | Train Acc: 91.13%\n",
      "Test  Loss: 0.4179 | Test Acc: 87.15%\n",
      "--------------------------------------------------\n",
      "[Epoch 108/180] :\n"
     ]
    },
    {
     "name": "stderr",
     "output_type": "stream",
     "text": [
      "108 Train: 100%|█████| 391/391 [00:17<00:00, 22.64it/s]\n"
     ]
    },
    {
     "name": "stdout",
     "output_type": "stream",
     "text": [
      "Train Loss: 0.2514 | Train Acc: 91.11%\n",
      "Test  Loss: 0.4012 | Test Acc: 87.97%\n",
      "--------------------------------------------------\n",
      "[Epoch 109/180] :\n"
     ]
    },
    {
     "name": "stderr",
     "output_type": "stream",
     "text": [
      "109 Train: 100%|█████| 391/391 [00:18<00:00, 21.50it/s]\n"
     ]
    },
    {
     "name": "stdout",
     "output_type": "stream",
     "text": [
      "Train Loss: 0.2590 | Train Acc: 90.92%\n",
      "Test  Loss: 0.4310 | Test Acc: 87.48%\n",
      "--------------------------------------------------\n",
      "[Epoch 110/180] :\n"
     ]
    },
    {
     "name": "stderr",
     "output_type": "stream",
     "text": [
      "110 Train: 100%|█████| 391/391 [00:17<00:00, 22.44it/s]\n"
     ]
    },
    {
     "name": "stdout",
     "output_type": "stream",
     "text": [
      "Train Loss: 0.2505 | Train Acc: 91.32%\n",
      "Test  Loss: 0.4058 | Test Acc: 87.68%\n",
      "--------------------------------------------------\n",
      "[Epoch 111/180] :\n"
     ]
    },
    {
     "name": "stderr",
     "output_type": "stream",
     "text": [
      "111 Train: 100%|█████| 391/391 [00:17<00:00, 22.29it/s]\n"
     ]
    },
    {
     "name": "stdout",
     "output_type": "stream",
     "text": [
      "Train Loss: 0.2558 | Train Acc: 90.98%\n",
      "Test  Loss: 0.4285 | Test Acc: 87.30%\n",
      "--------------------------------------------------\n",
      "[Epoch 112/180] :\n"
     ]
    },
    {
     "name": "stderr",
     "output_type": "stream",
     "text": [
      "112 Train: 100%|█████| 391/391 [00:17<00:00, 21.98it/s]\n"
     ]
    },
    {
     "name": "stdout",
     "output_type": "stream",
     "text": [
      "Train Loss: 0.2500 | Train Acc: 91.21%\n",
      "Test  Loss: 0.4262 | Test Acc: 87.63%\n",
      "--------------------------------------------------\n",
      "[Epoch 113/180] :\n"
     ]
    },
    {
     "name": "stderr",
     "output_type": "stream",
     "text": [
      "113 Train: 100%|█████| 391/391 [00:17<00:00, 22.00it/s]\n"
     ]
    },
    {
     "name": "stdout",
     "output_type": "stream",
     "text": [
      "Train Loss: 0.2450 | Train Acc: 91.39%\n",
      "Test  Loss: 0.4315 | Test Acc: 87.35%\n",
      "--------------------------------------------------\n",
      "[Epoch 114/180] :\n"
     ]
    },
    {
     "name": "stderr",
     "output_type": "stream",
     "text": [
      "114 Train: 100%|█████| 391/391 [00:17<00:00, 22.45it/s]\n"
     ]
    },
    {
     "name": "stdout",
     "output_type": "stream",
     "text": [
      "Train Loss: 0.2553 | Train Acc: 91.07%\n",
      "Test  Loss: 0.4455 | Test Acc: 86.70%\n",
      "--------------------------------------------------\n",
      "[Epoch 115/180] :\n"
     ]
    },
    {
     "name": "stderr",
     "output_type": "stream",
     "text": [
      "115 Train: 100%|█████| 391/391 [00:17<00:00, 22.52it/s]\n"
     ]
    },
    {
     "name": "stdout",
     "output_type": "stream",
     "text": [
      "Train Loss: 0.2486 | Train Acc: 91.30%\n",
      "Test  Loss: 0.4707 | Test Acc: 86.29%\n",
      "--------------------------------------------------\n",
      "[Epoch 116/180] :\n"
     ]
    },
    {
     "name": "stderr",
     "output_type": "stream",
     "text": [
      "116 Train: 100%|█████| 391/391 [00:17<00:00, 21.89it/s]\n"
     ]
    },
    {
     "name": "stdout",
     "output_type": "stream",
     "text": [
      "Train Loss: 0.2507 | Train Acc: 91.24%\n",
      "Test  Loss: 0.3979 | Test Acc: 88.06%\n",
      "--------------------------------------------------\n",
      "[Epoch 117/180] :\n"
     ]
    },
    {
     "name": "stderr",
     "output_type": "stream",
     "text": [
      "117 Train: 100%|█████| 391/391 [00:17<00:00, 22.62it/s]\n"
     ]
    },
    {
     "name": "stdout",
     "output_type": "stream",
     "text": [
      "Train Loss: 0.2502 | Train Acc: 91.18%\n",
      "Test  Loss: 0.3640 | Test Acc: 89.21%\n",
      "updated best eval loss : 0.36401789899491055\n",
      "--------------------------------------------------\n",
      "[Epoch 118/180] :\n"
     ]
    },
    {
     "name": "stderr",
     "output_type": "stream",
     "text": [
      "118 Train: 100%|█████| 391/391 [00:18<00:00, 20.97it/s]\n"
     ]
    },
    {
     "name": "stdout",
     "output_type": "stream",
     "text": [
      "Train Loss: 0.2487 | Train Acc: 91.29%\n",
      "Test  Loss: 0.4225 | Test Acc: 87.63%\n",
      "--------------------------------------------------\n",
      "[Epoch 119/180] :\n"
     ]
    },
    {
     "name": "stderr",
     "output_type": "stream",
     "text": [
      "119 Train: 100%|█████| 391/391 [00:17<00:00, 22.90it/s]\n"
     ]
    },
    {
     "name": "stdout",
     "output_type": "stream",
     "text": [
      "Train Loss: 0.2447 | Train Acc: 91.37%\n",
      "Test  Loss: 0.4412 | Test Acc: 87.06%\n",
      "--------------------------------------------------\n",
      "[Epoch 120/180] :\n"
     ]
    },
    {
     "name": "stderr",
     "output_type": "stream",
     "text": [
      "120 Train: 100%|█████| 391/391 [00:17<00:00, 21.86it/s]\n"
     ]
    },
    {
     "name": "stdout",
     "output_type": "stream",
     "text": [
      "Train Loss: 0.2422 | Train Acc: 91.44%\n",
      "Test  Loss: 0.4126 | Test Acc: 87.74%\n",
      "--------------------------------------------------\n",
      "[Epoch 121/180] :\n"
     ]
    },
    {
     "name": "stderr",
     "output_type": "stream",
     "text": [
      "121 Train: 100%|█████| 391/391 [00:17<00:00, 21.75it/s]\n"
     ]
    },
    {
     "name": "stdout",
     "output_type": "stream",
     "text": [
      "Train Loss: 0.2398 | Train Acc: 91.54%\n",
      "Test  Loss: 0.4656 | Test Acc: 86.21%\n",
      "--------------------------------------------------\n",
      "[Epoch 122/180] :\n"
     ]
    },
    {
     "name": "stderr",
     "output_type": "stream",
     "text": [
      "122 Train: 100%|█████| 391/391 [00:17<00:00, 22.37it/s]\n"
     ]
    },
    {
     "name": "stdout",
     "output_type": "stream",
     "text": [
      "Train Loss: 0.2391 | Train Acc: 91.58%\n",
      "Test  Loss: 0.4551 | Test Acc: 86.35%\n",
      "--------------------------------------------------\n",
      "[Epoch 123/180] :\n"
     ]
    },
    {
     "name": "stderr",
     "output_type": "stream",
     "text": [
      "123 Train: 100%|█████| 391/391 [00:17<00:00, 22.50it/s]\n"
     ]
    },
    {
     "name": "stdout",
     "output_type": "stream",
     "text": [
      "Train Loss: 0.2422 | Train Acc: 91.59%\n",
      "Test  Loss: 0.4548 | Test Acc: 86.30%\n",
      "--------------------------------------------------\n",
      "[Epoch 124/180] :\n"
     ]
    },
    {
     "name": "stderr",
     "output_type": "stream",
     "text": [
      "124 Train: 100%|█████| 391/391 [00:17<00:00, 22.23it/s]\n"
     ]
    },
    {
     "name": "stdout",
     "output_type": "stream",
     "text": [
      "Train Loss: 0.2396 | Train Acc: 91.44%\n",
      "Test  Loss: 0.4151 | Test Acc: 87.60%\n",
      "--------------------------------------------------\n",
      "[Epoch 125/180] :\n"
     ]
    },
    {
     "name": "stderr",
     "output_type": "stream",
     "text": [
      "125 Train: 100%|█████| 391/391 [00:17<00:00, 21.93it/s]\n"
     ]
    },
    {
     "name": "stdout",
     "output_type": "stream",
     "text": [
      "Train Loss: 0.2380 | Train Acc: 91.59%\n",
      "Test  Loss: 0.4505 | Test Acc: 86.10%\n",
      "--------------------------------------------------\n",
      "[Epoch 126/180] :\n"
     ]
    },
    {
     "name": "stderr",
     "output_type": "stream",
     "text": [
      "126 Train: 100%|█████| 391/391 [00:16<00:00, 23.40it/s]\n"
     ]
    },
    {
     "name": "stdout",
     "output_type": "stream",
     "text": [
      "Train Loss: 0.2386 | Train Acc: 91.73%\n",
      "Test  Loss: 0.4437 | Test Acc: 87.31%\n",
      "--------------------------------------------------\n",
      "[Epoch 127/180] :\n"
     ]
    },
    {
     "name": "stderr",
     "output_type": "stream",
     "text": [
      "127 Train: 100%|█████| 391/391 [00:17<00:00, 21.99it/s]\n"
     ]
    },
    {
     "name": "stdout",
     "output_type": "stream",
     "text": [
      "Train Loss: 0.2400 | Train Acc: 91.65%\n",
      "Test  Loss: 0.4075 | Test Acc: 87.69%\n",
      "--------------------------------------------------\n",
      "[Epoch 128/180] :\n"
     ]
    },
    {
     "name": "stderr",
     "output_type": "stream",
     "text": [
      "128 Train: 100%|█████| 391/391 [00:17<00:00, 21.87it/s]\n"
     ]
    },
    {
     "name": "stdout",
     "output_type": "stream",
     "text": [
      "Train Loss: 0.2367 | Train Acc: 91.72%\n",
      "Test  Loss: 0.4171 | Test Acc: 87.68%\n",
      "--------------------------------------------------\n",
      "[Epoch 129/180] :\n"
     ]
    },
    {
     "name": "stderr",
     "output_type": "stream",
     "text": [
      "129 Train: 100%|█████| 391/391 [00:17<00:00, 22.23it/s]\n"
     ]
    },
    {
     "name": "stdout",
     "output_type": "stream",
     "text": [
      "Train Loss: 0.2395 | Train Acc: 91.62%\n",
      "Test  Loss: 0.4574 | Test Acc: 86.89%\n",
      "--------------------------------------------------\n",
      "[Epoch 130/180] :\n"
     ]
    },
    {
     "name": "stderr",
     "output_type": "stream",
     "text": [
      "130 Train: 100%|█████| 391/391 [00:17<00:00, 22.43it/s]\n"
     ]
    },
    {
     "name": "stdout",
     "output_type": "stream",
     "text": [
      "Train Loss: 0.2359 | Train Acc: 91.82%\n",
      "Test  Loss: 0.4539 | Test Acc: 86.46%\n",
      "--------------------------------------------------\n",
      "[Epoch 131/180] :\n"
     ]
    },
    {
     "name": "stderr",
     "output_type": "stream",
     "text": [
      "131 Train: 100%|█████| 391/391 [00:17<00:00, 22.99it/s]\n"
     ]
    },
    {
     "name": "stdout",
     "output_type": "stream",
     "text": [
      "Train Loss: 0.2390 | Train Acc: 91.69%\n",
      "Test  Loss: 0.4510 | Test Acc: 87.11%\n",
      "--------------------------------------------------\n",
      "[Epoch 132/180] :\n"
     ]
    },
    {
     "name": "stderr",
     "output_type": "stream",
     "text": [
      "132 Train: 100%|█████| 391/391 [00:14<00:00, 26.23it/s]\n"
     ]
    },
    {
     "name": "stdout",
     "output_type": "stream",
     "text": [
      "Train Loss: 0.2396 | Train Acc: 91.66%\n",
      "Test  Loss: 0.4255 | Test Acc: 87.29%\n",
      "--------------------------------------------------\n",
      "[Epoch 133/180] :\n"
     ]
    },
    {
     "name": "stderr",
     "output_type": "stream",
     "text": [
      "133 Train: 100%|█████| 391/391 [00:13<00:00, 29.07it/s]\n"
     ]
    },
    {
     "name": "stdout",
     "output_type": "stream",
     "text": [
      "Train Loss: 0.2356 | Train Acc: 91.70%\n",
      "Test  Loss: 0.4321 | Test Acc: 86.84%\n",
      "--------------------------------------------------\n",
      "[Epoch 134/180] :\n"
     ]
    },
    {
     "name": "stderr",
     "output_type": "stream",
     "text": [
      "134 Train: 100%|█████| 391/391 [00:13<00:00, 28.80it/s]\n"
     ]
    },
    {
     "name": "stdout",
     "output_type": "stream",
     "text": [
      "Train Loss: 0.2284 | Train Acc: 92.01%\n",
      "Test  Loss: 0.4051 | Test Acc: 88.23%\n",
      "--------------------------------------------------\n",
      "[Epoch 135/180] :\n"
     ]
    },
    {
     "name": "stderr",
     "output_type": "stream",
     "text": [
      "135 Train: 100%|█████| 391/391 [00:13<00:00, 28.21it/s]\n"
     ]
    },
    {
     "name": "stdout",
     "output_type": "stream",
     "text": [
      "Train Loss: 0.2302 | Train Acc: 91.93%\n",
      "Test  Loss: 0.4181 | Test Acc: 87.48%\n",
      "--------------------------------------------------\n",
      "[Epoch 136/180] :\n"
     ]
    },
    {
     "name": "stderr",
     "output_type": "stream",
     "text": [
      "136 Train: 100%|█████| 391/391 [00:13<00:00, 28.92it/s]\n"
     ]
    },
    {
     "name": "stdout",
     "output_type": "stream",
     "text": [
      "Train Loss: 0.2298 | Train Acc: 92.06%\n",
      "Test  Loss: 0.4174 | Test Acc: 87.68%\n",
      "--------------------------------------------------\n",
      "[Epoch 137/180] :\n"
     ]
    },
    {
     "name": "stderr",
     "output_type": "stream",
     "text": [
      "137 Train: 100%|█████| 391/391 [00:13<00:00, 28.29it/s]\n"
     ]
    },
    {
     "name": "stdout",
     "output_type": "stream",
     "text": [
      "Train Loss: 0.2322 | Train Acc: 91.80%\n",
      "Test  Loss: 0.4166 | Test Acc: 87.59%\n",
      "--------------------------------------------------\n",
      "[Epoch 138/180] :\n"
     ]
    },
    {
     "name": "stderr",
     "output_type": "stream",
     "text": [
      "138 Train: 100%|█████| 391/391 [00:17<00:00, 21.97it/s]\n"
     ]
    },
    {
     "name": "stdout",
     "output_type": "stream",
     "text": [
      "Train Loss: 0.2305 | Train Acc: 92.02%\n",
      "Test  Loss: 0.4053 | Test Acc: 87.89%\n",
      "--------------------------------------------------\n",
      "[Epoch 139/180] :\n"
     ]
    },
    {
     "name": "stderr",
     "output_type": "stream",
     "text": [
      "139 Train: 100%|█████| 391/391 [00:17<00:00, 21.99it/s]\n"
     ]
    },
    {
     "name": "stdout",
     "output_type": "stream",
     "text": [
      "Train Loss: 0.2275 | Train Acc: 92.06%\n",
      "Test  Loss: 0.4285 | Test Acc: 87.77%\n",
      "--------------------------------------------------\n",
      "[Epoch 140/180] :\n"
     ]
    },
    {
     "name": "stderr",
     "output_type": "stream",
     "text": [
      "140 Train: 100%|█████| 391/391 [00:17<00:00, 21.86it/s]\n"
     ]
    },
    {
     "name": "stdout",
     "output_type": "stream",
     "text": [
      "Train Loss: 0.2244 | Train Acc: 92.07%\n",
      "Test  Loss: 0.4295 | Test Acc: 87.77%\n",
      "--------------------------------------------------\n",
      "[Epoch 141/180] :\n"
     ]
    },
    {
     "name": "stderr",
     "output_type": "stream",
     "text": [
      "141 Train: 100%|█████| 391/391 [00:16<00:00, 23.23it/s]\n"
     ]
    },
    {
     "name": "stdout",
     "output_type": "stream",
     "text": [
      "Train Loss: 0.2292 | Train Acc: 92.05%\n",
      "Test  Loss: 0.4596 | Test Acc: 87.32%\n",
      "--------------------------------------------------\n",
      "[Epoch 142/180] :\n"
     ]
    },
    {
     "name": "stderr",
     "output_type": "stream",
     "text": [
      "142 Train: 100%|█████| 391/391 [00:17<00:00, 22.63it/s]\n"
     ]
    },
    {
     "name": "stdout",
     "output_type": "stream",
     "text": [
      "Train Loss: 0.2224 | Train Acc: 92.25%\n",
      "Test  Loss: 0.4052 | Test Acc: 88.56%\n",
      "--------------------------------------------------\n",
      "[Epoch 143/180] :\n"
     ]
    },
    {
     "name": "stderr",
     "output_type": "stream",
     "text": [
      "143 Train: 100%|█████| 391/391 [00:17<00:00, 22.60it/s]\n"
     ]
    },
    {
     "name": "stdout",
     "output_type": "stream",
     "text": [
      "Train Loss: 0.2260 | Train Acc: 92.08%\n",
      "Test  Loss: 0.4697 | Test Acc: 87.28%\n",
      "--------------------------------------------------\n",
      "[Epoch 144/180] :\n"
     ]
    },
    {
     "name": "stderr",
     "output_type": "stream",
     "text": [
      "144 Train: 100%|█████| 391/391 [00:18<00:00, 21.37it/s]\n"
     ]
    },
    {
     "name": "stdout",
     "output_type": "stream",
     "text": [
      "Train Loss: 0.2190 | Train Acc: 92.45%\n",
      "Test  Loss: 0.4139 | Test Acc: 88.14%\n",
      "--------------------------------------------------\n",
      "[Epoch 145/180] :\n"
     ]
    },
    {
     "name": "stderr",
     "output_type": "stream",
     "text": [
      "145 Train: 100%|█████| 391/391 [00:17<00:00, 22.13it/s]\n"
     ]
    },
    {
     "name": "stdout",
     "output_type": "stream",
     "text": [
      "Train Loss: 0.2262 | Train Acc: 91.96%\n",
      "Test  Loss: 0.4517 | Test Acc: 87.34%\n",
      "--------------------------------------------------\n",
      "[Epoch 146/180] :\n"
     ]
    },
    {
     "name": "stderr",
     "output_type": "stream",
     "text": [
      "146 Train: 100%|█████| 391/391 [00:17<00:00, 21.95it/s]\n"
     ]
    },
    {
     "name": "stdout",
     "output_type": "stream",
     "text": [
      "Train Loss: 0.2289 | Train Acc: 92.03%\n",
      "Test  Loss: 0.4019 | Test Acc: 88.09%\n",
      "--------------------------------------------------\n",
      "[Epoch 147/180] :\n"
     ]
    },
    {
     "name": "stderr",
     "output_type": "stream",
     "text": [
      "147 Train: 100%|█████| 391/391 [00:17<00:00, 22.41it/s]\n"
     ]
    },
    {
     "name": "stdout",
     "output_type": "stream",
     "text": [
      "Train Loss: 0.2206 | Train Acc: 92.38%\n",
      "Test  Loss: 0.3745 | Test Acc: 89.28%\n",
      "--------------------------------------------------\n",
      "[Epoch 148/180] :\n"
     ]
    },
    {
     "name": "stderr",
     "output_type": "stream",
     "text": [
      "148 Train: 100%|█████| 391/391 [00:17<00:00, 22.95it/s]\n"
     ]
    },
    {
     "name": "stdout",
     "output_type": "stream",
     "text": [
      "Train Loss: 0.2196 | Train Acc: 92.37%\n",
      "Test  Loss: 0.4410 | Test Acc: 87.19%\n",
      "--------------------------------------------------\n",
      "[Epoch 149/180] :\n"
     ]
    },
    {
     "name": "stderr",
     "output_type": "stream",
     "text": [
      "149 Train: 100%|█████| 391/391 [00:17<00:00, 22.26it/s]\n"
     ]
    },
    {
     "name": "stdout",
     "output_type": "stream",
     "text": [
      "Train Loss: 0.2231 | Train Acc: 92.20%\n",
      "Test  Loss: 0.4079 | Test Acc: 88.14%\n",
      "--------------------------------------------------\n",
      "[Epoch 150/180] :\n"
     ]
    },
    {
     "name": "stderr",
     "output_type": "stream",
     "text": [
      "150 Train: 100%|█████| 391/391 [00:16<00:00, 23.56it/s]\n"
     ]
    },
    {
     "name": "stdout",
     "output_type": "stream",
     "text": [
      "Train Loss: 0.2210 | Train Acc: 92.29%\n",
      "Test  Loss: 0.4185 | Test Acc: 87.53%\n",
      "--------------------------------------------------\n",
      "[Epoch 151/180] :\n"
     ]
    },
    {
     "name": "stderr",
     "output_type": "stream",
     "text": [
      "151 Train: 100%|█████| 391/391 [00:18<00:00, 21.67it/s]\n"
     ]
    },
    {
     "name": "stdout",
     "output_type": "stream",
     "text": [
      "Train Loss: 0.2189 | Train Acc: 92.33%\n",
      "Test  Loss: 0.4045 | Test Acc: 88.44%\n",
      "--------------------------------------------------\n",
      "[Epoch 152/180] :\n"
     ]
    },
    {
     "name": "stderr",
     "output_type": "stream",
     "text": [
      "152 Train: 100%|█████| 391/391 [00:18<00:00, 21.28it/s]\n"
     ]
    },
    {
     "name": "stdout",
     "output_type": "stream",
     "text": [
      "Train Loss: 0.2199 | Train Acc: 92.33%\n",
      "Test  Loss: 0.4022 | Test Acc: 88.32%\n",
      "--------------------------------------------------\n",
      "[Epoch 153/180] :\n"
     ]
    },
    {
     "name": "stderr",
     "output_type": "stream",
     "text": [
      "153 Train: 100%|█████| 391/391 [00:17<00:00, 22.97it/s]\n"
     ]
    },
    {
     "name": "stdout",
     "output_type": "stream",
     "text": [
      "Train Loss: 0.2244 | Train Acc: 92.26%\n",
      "Test  Loss: 0.4355 | Test Acc: 87.51%\n",
      "--------------------------------------------------\n",
      "[Epoch 154/180] :\n"
     ]
    },
    {
     "name": "stderr",
     "output_type": "stream",
     "text": [
      "154 Train: 100%|█████| 391/391 [00:17<00:00, 22.92it/s]\n"
     ]
    },
    {
     "name": "stdout",
     "output_type": "stream",
     "text": [
      "Train Loss: 0.2174 | Train Acc: 92.33%\n",
      "Test  Loss: 0.4072 | Test Acc: 88.67%\n",
      "--------------------------------------------------\n",
      "[Epoch 155/180] :\n"
     ]
    },
    {
     "name": "stderr",
     "output_type": "stream",
     "text": [
      "155 Train: 100%|█████| 391/391 [00:17<00:00, 21.84it/s]\n"
     ]
    },
    {
     "name": "stdout",
     "output_type": "stream",
     "text": [
      "Train Loss: 0.2183 | Train Acc: 92.38%\n",
      "Test  Loss: 0.4152 | Test Acc: 88.03%\n",
      "--------------------------------------------------\n",
      "[Epoch 156/180] :\n"
     ]
    },
    {
     "name": "stderr",
     "output_type": "stream",
     "text": [
      "156 Train: 100%|█████| 391/391 [00:17<00:00, 22.65it/s]\n"
     ]
    },
    {
     "name": "stdout",
     "output_type": "stream",
     "text": [
      "Train Loss: 0.2162 | Train Acc: 92.60%\n",
      "Test  Loss: 0.4264 | Test Acc: 88.03%\n",
      "--------------------------------------------------\n",
      "[Epoch 157/180] :\n"
     ]
    },
    {
     "name": "stderr",
     "output_type": "stream",
     "text": [
      "157 Train: 100%|█████| 391/391 [00:17<00:00, 22.06it/s]\n"
     ]
    },
    {
     "name": "stdout",
     "output_type": "stream",
     "text": [
      "Train Loss: 0.2139 | Train Acc: 92.50%\n",
      "Test  Loss: 0.4237 | Test Acc: 87.81%\n",
      "--------------------------------------------------\n",
      "[Epoch 158/180] :\n"
     ]
    },
    {
     "name": "stderr",
     "output_type": "stream",
     "text": [
      "158 Train: 100%|█████| 391/391 [00:17<00:00, 22.73it/s]\n"
     ]
    },
    {
     "name": "stdout",
     "output_type": "stream",
     "text": [
      "Train Loss: 0.2194 | Train Acc: 92.35%\n",
      "Test  Loss: 0.4146 | Test Acc: 88.24%\n",
      "--------------------------------------------------\n",
      "[Epoch 159/180] :\n"
     ]
    },
    {
     "name": "stderr",
     "output_type": "stream",
     "text": [
      "159 Train: 100%|█████| 391/391 [00:16<00:00, 23.00it/s]\n"
     ]
    },
    {
     "name": "stdout",
     "output_type": "stream",
     "text": [
      "Train Loss: 0.2127 | Train Acc: 92.72%\n",
      "Test  Loss: 0.4112 | Test Acc: 88.13%\n",
      "--------------------------------------------------\n",
      "[Epoch 160/180] :\n"
     ]
    },
    {
     "name": "stderr",
     "output_type": "stream",
     "text": [
      "160 Train: 100%|█████| 391/391 [00:17<00:00, 22.11it/s]\n"
     ]
    },
    {
     "name": "stdout",
     "output_type": "stream",
     "text": [
      "Train Loss: 0.2193 | Train Acc: 92.29%\n",
      "Test  Loss: 0.3942 | Test Acc: 88.66%\n",
      "--------------------------------------------------\n",
      "[Epoch 161/180] :\n"
     ]
    },
    {
     "name": "stderr",
     "output_type": "stream",
     "text": [
      "161 Train: 100%|█████| 391/391 [00:16<00:00, 23.50it/s]\n"
     ]
    },
    {
     "name": "stdout",
     "output_type": "stream",
     "text": [
      "Train Loss: 0.2173 | Train Acc: 92.30%\n",
      "Test  Loss: 0.4373 | Test Acc: 87.48%\n",
      "--------------------------------------------------\n",
      "[Epoch 162/180] :\n"
     ]
    },
    {
     "name": "stderr",
     "output_type": "stream",
     "text": [
      "162 Train: 100%|█████| 391/391 [00:17<00:00, 21.85it/s]\n"
     ]
    },
    {
     "name": "stdout",
     "output_type": "stream",
     "text": [
      "Train Loss: 0.2128 | Train Acc: 92.47%\n",
      "Test  Loss: 0.4028 | Test Acc: 88.41%\n",
      "--------------------------------------------------\n",
      "[Epoch 163/180] :\n"
     ]
    },
    {
     "name": "stderr",
     "output_type": "stream",
     "text": [
      "163 Train: 100%|█████| 391/391 [00:17<00:00, 22.16it/s]\n"
     ]
    },
    {
     "name": "stdout",
     "output_type": "stream",
     "text": [
      "Train Loss: 0.2149 | Train Acc: 92.39%\n",
      "Test  Loss: 0.4651 | Test Acc: 86.63%\n",
      "--------------------------------------------------\n",
      "[Epoch 164/180] :\n"
     ]
    },
    {
     "name": "stderr",
     "output_type": "stream",
     "text": [
      "164 Train: 100%|█████| 391/391 [00:17<00:00, 22.76it/s]\n"
     ]
    },
    {
     "name": "stdout",
     "output_type": "stream",
     "text": [
      "Train Loss: 0.2104 | Train Acc: 92.68%\n",
      "Test  Loss: 0.4433 | Test Acc: 87.84%\n",
      "--------------------------------------------------\n",
      "[Epoch 165/180] :\n"
     ]
    },
    {
     "name": "stderr",
     "output_type": "stream",
     "text": [
      "165 Train: 100%|█████| 391/391 [00:17<00:00, 22.87it/s]\n"
     ]
    },
    {
     "name": "stdout",
     "output_type": "stream",
     "text": [
      "Train Loss: 0.2076 | Train Acc: 92.76%\n",
      "Test  Loss: 0.3702 | Test Acc: 89.09%\n",
      "--------------------------------------------------\n",
      "[Epoch 166/180] :\n"
     ]
    },
    {
     "name": "stderr",
     "output_type": "stream",
     "text": [
      "166 Train: 100%|█████| 391/391 [00:18<00:00, 21.67it/s]\n"
     ]
    },
    {
     "name": "stdout",
     "output_type": "stream",
     "text": [
      "Train Loss: 0.2120 | Train Acc: 92.56%\n",
      "Test  Loss: 0.4006 | Test Acc: 88.02%\n",
      "--------------------------------------------------\n",
      "[Epoch 167/180] :\n"
     ]
    },
    {
     "name": "stderr",
     "output_type": "stream",
     "text": [
      "167 Train: 100%|█████| 391/391 [00:18<00:00, 20.85it/s]\n"
     ]
    },
    {
     "name": "stdout",
     "output_type": "stream",
     "text": [
      "Train Loss: 0.2100 | Train Acc: 92.70%\n",
      "Test  Loss: 0.4241 | Test Acc: 88.16%\n",
      "--------------------------------------------------\n",
      "[Epoch 168/180] :\n"
     ]
    },
    {
     "name": "stderr",
     "output_type": "stream",
     "text": [
      "168 Train: 100%|█████| 391/391 [00:18<00:00, 21.61it/s]\n"
     ]
    },
    {
     "name": "stdout",
     "output_type": "stream",
     "text": [
      "Train Loss: 0.2036 | Train Acc: 92.84%\n",
      "Test  Loss: 0.4427 | Test Acc: 87.51%\n",
      "--------------------------------------------------\n",
      "[Epoch 169/180] :\n"
     ]
    },
    {
     "name": "stderr",
     "output_type": "stream",
     "text": [
      "169 Train: 100%|█████| 391/391 [00:17<00:00, 22.09it/s]\n"
     ]
    },
    {
     "name": "stdout",
     "output_type": "stream",
     "text": [
      "Train Loss: 0.2117 | Train Acc: 92.68%\n",
      "Test  Loss: 0.4544 | Test Acc: 87.72%\n",
      "--------------------------------------------------\n",
      "[Epoch 170/180] :\n"
     ]
    },
    {
     "name": "stderr",
     "output_type": "stream",
     "text": [
      "170 Train: 100%|█████| 391/391 [00:17<00:00, 22.71it/s]\n"
     ]
    },
    {
     "name": "stdout",
     "output_type": "stream",
     "text": [
      "Train Loss: 0.2086 | Train Acc: 92.71%\n",
      "Test  Loss: 0.4478 | Test Acc: 87.49%\n",
      "--------------------------------------------------\n",
      "[Epoch 171/180] :\n"
     ]
    },
    {
     "name": "stderr",
     "output_type": "stream",
     "text": [
      "171 Train: 100%|█████| 391/391 [00:18<00:00, 21.26it/s]\n"
     ]
    },
    {
     "name": "stdout",
     "output_type": "stream",
     "text": [
      "Train Loss: 0.2123 | Train Acc: 92.62%\n",
      "Test  Loss: 0.4421 | Test Acc: 87.85%\n",
      "--------------------------------------------------\n",
      "[Epoch 172/180] :\n"
     ]
    },
    {
     "name": "stderr",
     "output_type": "stream",
     "text": [
      "172 Train: 100%|█████| 391/391 [00:17<00:00, 21.79it/s]\n"
     ]
    },
    {
     "name": "stdout",
     "output_type": "stream",
     "text": [
      "Train Loss: 0.2106 | Train Acc: 92.58%\n",
      "Test  Loss: 0.4125 | Test Acc: 88.74%\n",
      "--------------------------------------------------\n",
      "[Epoch 173/180] :\n"
     ]
    },
    {
     "name": "stderr",
     "output_type": "stream",
     "text": [
      "173 Train: 100%|█████| 391/391 [00:17<00:00, 21.84it/s]\n"
     ]
    },
    {
     "name": "stdout",
     "output_type": "stream",
     "text": [
      "Train Loss: 0.2021 | Train Acc: 92.93%\n",
      "Test  Loss: 0.4651 | Test Acc: 86.86%\n",
      "--------------------------------------------------\n",
      "[Epoch 174/180] :\n"
     ]
    },
    {
     "name": "stderr",
     "output_type": "stream",
     "text": [
      "174 Train: 100%|█████| 391/391 [00:17<00:00, 22.53it/s]\n"
     ]
    },
    {
     "name": "stdout",
     "output_type": "stream",
     "text": [
      "Train Loss: 0.2058 | Train Acc: 92.79%\n",
      "Test  Loss: 0.4333 | Test Acc: 87.70%\n",
      "--------------------------------------------------\n",
      "[Epoch 175/180] :\n"
     ]
    },
    {
     "name": "stderr",
     "output_type": "stream",
     "text": [
      "175 Train: 100%|█████| 391/391 [00:17<00:00, 22.71it/s]\n"
     ]
    },
    {
     "name": "stdout",
     "output_type": "stream",
     "text": [
      "Train Loss: 0.2080 | Train Acc: 92.80%\n",
      "Test  Loss: 0.4184 | Test Acc: 88.64%\n",
      "--------------------------------------------------\n",
      "[Epoch 176/180] :\n"
     ]
    },
    {
     "name": "stderr",
     "output_type": "stream",
     "text": [
      "176 Train: 100%|█████| 391/391 [00:17<00:00, 21.83it/s]\n"
     ]
    },
    {
     "name": "stdout",
     "output_type": "stream",
     "text": [
      "Train Loss: 0.2023 | Train Acc: 92.94%\n",
      "Test  Loss: 0.4122 | Test Acc: 88.57%\n",
      "--------------------------------------------------\n",
      "[Epoch 177/180] :\n"
     ]
    },
    {
     "name": "stderr",
     "output_type": "stream",
     "text": [
      "177 Train: 100%|█████| 391/391 [00:16<00:00, 23.05it/s]\n"
     ]
    },
    {
     "name": "stdout",
     "output_type": "stream",
     "text": [
      "Train Loss: 0.1982 | Train Acc: 93.05%\n",
      "Test  Loss: 0.3883 | Test Acc: 89.38%\n",
      "--------------------------------------------------\n",
      "[Epoch 178/180] :\n"
     ]
    },
    {
     "name": "stderr",
     "output_type": "stream",
     "text": [
      "178 Train: 100%|█████| 391/391 [00:18<00:00, 21.63it/s]\n"
     ]
    },
    {
     "name": "stdout",
     "output_type": "stream",
     "text": [
      "Train Loss: 0.2030 | Train Acc: 92.92%\n",
      "Test  Loss: 0.3986 | Test Acc: 88.88%\n",
      "--------------------------------------------------\n",
      "[Epoch 179/180] :\n"
     ]
    },
    {
     "name": "stderr",
     "output_type": "stream",
     "text": [
      "179 Train: 100%|█████| 391/391 [00:17<00:00, 22.66it/s]\n"
     ]
    },
    {
     "name": "stdout",
     "output_type": "stream",
     "text": [
      "Train Loss: 0.2079 | Train Acc: 92.71%\n",
      "Test  Loss: 0.4751 | Test Acc: 87.17%\n",
      "--------------------------------------------------\n",
      "[Epoch 180/180] :\n"
     ]
    },
    {
     "name": "stderr",
     "output_type": "stream",
     "text": [
      "180 Train: 100%|█████| 391/391 [00:17<00:00, 22.83it/s]\n"
     ]
    },
    {
     "name": "stdout",
     "output_type": "stream",
     "text": [
      "Train Loss: 0.2037 | Train Acc: 92.85%\n",
      "Test  Loss: 0.4569 | Test Acc: 87.86%\n",
      "--------------------------------------------------\n",
      "[Epoch 181/180] :\n"
     ]
    },
    {
     "name": "stderr",
     "output_type": "stream",
     "text": [
      "181 Train: 100%|█████| 391/391 [00:17<00:00, 22.63it/s]\n"
     ]
    },
    {
     "name": "stdout",
     "output_type": "stream",
     "text": [
      "Train Loss: 0.2037 | Train Acc: 92.86%\n",
      "Test  Loss: 0.4115 | Test Acc: 88.72%\n",
      "--------------------------------------------------\n",
      "[Epoch 182/180] :\n"
     ]
    },
    {
     "name": "stderr",
     "output_type": "stream",
     "text": [
      "182 Train: 100%|█████| 391/391 [00:17<00:00, 21.82it/s]\n"
     ]
    },
    {
     "name": "stdout",
     "output_type": "stream",
     "text": [
      "Train Loss: 0.2039 | Train Acc: 92.80%\n",
      "Test  Loss: 0.3987 | Test Acc: 88.87%\n",
      "--------------------------------------------------\n",
      "[Epoch 183/180] :\n"
     ]
    },
    {
     "name": "stderr",
     "output_type": "stream",
     "text": [
      "183 Train: 100%|█████| 391/391 [00:17<00:00, 21.77it/s]\n"
     ]
    },
    {
     "name": "stdout",
     "output_type": "stream",
     "text": [
      "Train Loss: 0.1993 | Train Acc: 93.10%\n",
      "Test  Loss: 0.3981 | Test Acc: 89.28%\n",
      "--------------------------------------------------\n",
      "[Epoch 184/180] :\n"
     ]
    },
    {
     "name": "stderr",
     "output_type": "stream",
     "text": [
      "184 Train: 100%|█████| 391/391 [00:17<00:00, 22.43it/s]\n"
     ]
    },
    {
     "name": "stdout",
     "output_type": "stream",
     "text": [
      "Train Loss: 0.2037 | Train Acc: 92.91%\n",
      "Test  Loss: 0.3754 | Test Acc: 89.32%\n",
      "--------------------------------------------------\n",
      "[Epoch 185/180] :\n"
     ]
    },
    {
     "name": "stderr",
     "output_type": "stream",
     "text": [
      "185 Train: 100%|█████| 391/391 [00:17<00:00, 22.53it/s]\n"
     ]
    },
    {
     "name": "stdout",
     "output_type": "stream",
     "text": [
      "Train Loss: 0.2026 | Train Acc: 92.95%\n",
      "Test  Loss: 0.3858 | Test Acc: 88.91%\n",
      "--------------------------------------------------\n",
      "[Epoch 186/180] :\n"
     ]
    },
    {
     "name": "stderr",
     "output_type": "stream",
     "text": [
      "186 Train: 100%|█████| 391/391 [00:12<00:00, 31.23it/s]\n"
     ]
    },
    {
     "name": "stdout",
     "output_type": "stream",
     "text": [
      "Train Loss: 0.2035 | Train Acc: 92.95%\n",
      "Test  Loss: 0.4011 | Test Acc: 88.98%\n",
      "--------------------------------------------------\n",
      "[Epoch 187/180] :\n"
     ]
    },
    {
     "name": "stderr",
     "output_type": "stream",
     "text": [
      "187 Train: 100%|█████| 391/391 [00:12<00:00, 30.71it/s]\n"
     ]
    },
    {
     "name": "stdout",
     "output_type": "stream",
     "text": [
      "Train Loss: 0.2026 | Train Acc: 92.94%\n",
      "Test  Loss: 0.4103 | Test Acc: 88.38%\n",
      "--------------------------------------------------\n",
      "[Epoch 188/180] :\n"
     ]
    },
    {
     "name": "stderr",
     "output_type": "stream",
     "text": [
      "188 Train: 100%|█████| 391/391 [00:13<00:00, 29.80it/s]\n"
     ]
    },
    {
     "name": "stdout",
     "output_type": "stream",
     "text": [
      "Train Loss: 0.1938 | Train Acc: 93.28%\n",
      "Test  Loss: 0.4486 | Test Acc: 87.70%\n",
      "--------------------------------------------------\n",
      "[Epoch 189/180] :\n"
     ]
    },
    {
     "name": "stderr",
     "output_type": "stream",
     "text": [
      "189 Train: 100%|█████| 391/391 [00:13<00:00, 29.58it/s]\n"
     ]
    },
    {
     "name": "stdout",
     "output_type": "stream",
     "text": [
      "Train Loss: 0.1964 | Train Acc: 93.18%\n",
      "Test  Loss: 0.3887 | Test Acc: 89.07%\n",
      "--------------------------------------------------\n",
      "[Epoch 190/180] :\n"
     ]
    },
    {
     "name": "stderr",
     "output_type": "stream",
     "text": [
      "190 Train: 100%|█████| 391/391 [00:12<00:00, 30.62it/s]\n"
     ]
    },
    {
     "name": "stdout",
     "output_type": "stream",
     "text": [
      "Train Loss: 0.1979 | Train Acc: 93.01%\n",
      "Test  Loss: 0.4417 | Test Acc: 88.04%\n",
      "--------------------------------------------------\n",
      "[Epoch 191/180] :\n"
     ]
    },
    {
     "name": "stderr",
     "output_type": "stream",
     "text": [
      "191 Train: 100%|█████| 391/391 [00:13<00:00, 30.02it/s]\n"
     ]
    },
    {
     "name": "stdout",
     "output_type": "stream",
     "text": [
      "Train Loss: 0.1999 | Train Acc: 92.98%\n",
      "Test  Loss: 0.3805 | Test Acc: 89.12%\n",
      "--------------------------------------------------\n",
      "[Epoch 192/180] :\n"
     ]
    },
    {
     "name": "stderr",
     "output_type": "stream",
     "text": [
      "192 Train: 100%|█████| 391/391 [00:13<00:00, 29.67it/s]\n"
     ]
    },
    {
     "name": "stdout",
     "output_type": "stream",
     "text": [
      "Train Loss: 0.2042 | Train Acc: 92.96%\n",
      "Test  Loss: 0.4189 | Test Acc: 89.07%\n",
      "--------------------------------------------------\n",
      "[Epoch 193/180] :\n"
     ]
    },
    {
     "name": "stderr",
     "output_type": "stream",
     "text": [
      "193 Train: 100%|█████| 391/391 [00:12<00:00, 30.60it/s]\n"
     ]
    },
    {
     "name": "stdout",
     "output_type": "stream",
     "text": [
      "Train Loss: 0.1974 | Train Acc: 93.10%\n",
      "Test  Loss: 0.4168 | Test Acc: 88.75%\n",
      "--------------------------------------------------\n",
      "[Epoch 194/180] :\n"
     ]
    },
    {
     "name": "stderr",
     "output_type": "stream",
     "text": [
      "194 Train: 100%|█████| 391/391 [00:12<00:00, 32.19it/s]\n"
     ]
    },
    {
     "name": "stdout",
     "output_type": "stream",
     "text": [
      "Train Loss: 0.1981 | Train Acc: 93.05%\n",
      "Test  Loss: 0.3993 | Test Acc: 88.77%\n",
      "--------------------------------------------------\n",
      "[Epoch 195/180] :\n"
     ]
    },
    {
     "name": "stderr",
     "output_type": "stream",
     "text": [
      "195 Train: 100%|█████| 391/391 [00:12<00:00, 30.77it/s]\n"
     ]
    },
    {
     "name": "stdout",
     "output_type": "stream",
     "text": [
      "Train Loss: 0.2010 | Train Acc: 92.92%\n",
      "Test  Loss: 0.4791 | Test Acc: 87.55%\n",
      "--------------------------------------------------\n",
      "[Epoch 196/180] :\n"
     ]
    },
    {
     "name": "stderr",
     "output_type": "stream",
     "text": [
      "196 Train: 100%|█████| 391/391 [00:12<00:00, 31.71it/s]\n"
     ]
    },
    {
     "name": "stdout",
     "output_type": "stream",
     "text": [
      "Train Loss: 0.1979 | Train Acc: 93.16%\n",
      "Test  Loss: 0.4332 | Test Acc: 88.10%\n",
      "--------------------------------------------------\n",
      "[Epoch 197/180] :\n"
     ]
    },
    {
     "name": "stderr",
     "output_type": "stream",
     "text": [
      "197 Train: 100%|█████| 391/391 [00:10<00:00, 37.63it/s]\n"
     ]
    },
    {
     "name": "stdout",
     "output_type": "stream",
     "text": [
      "Train Loss: 0.1987 | Train Acc: 93.25%\n",
      "Test  Loss: 0.4778 | Test Acc: 87.29%\n",
      "--------------------------------------------------\n",
      "[Epoch 198/180] :\n"
     ]
    },
    {
     "name": "stderr",
     "output_type": "stream",
     "text": [
      "198 Train: 100%|█████| 391/391 [00:09<00:00, 41.66it/s]\n"
     ]
    },
    {
     "name": "stdout",
     "output_type": "stream",
     "text": [
      "Train Loss: 0.1965 | Train Acc: 93.12%\n",
      "Test  Loss: 0.3846 | Test Acc: 89.31%\n",
      "--------------------------------------------------\n",
      "[Epoch 199/180] :\n"
     ]
    },
    {
     "name": "stderr",
     "output_type": "stream",
     "text": [
      "199 Train: 100%|█████| 391/391 [00:09<00:00, 41.78it/s]\n"
     ]
    },
    {
     "name": "stdout",
     "output_type": "stream",
     "text": [
      "Train Loss: 0.1966 | Train Acc: 93.22%\n",
      "Test  Loss: 0.4607 | Test Acc: 87.68%\n",
      "--------------------------------------------------\n",
      "[Epoch 200/180] :\n"
     ]
    },
    {
     "name": "stderr",
     "output_type": "stream",
     "text": [
      "200 Train: 100%|█████| 391/391 [00:09<00:00, 41.59it/s]\n"
     ]
    },
    {
     "name": "stdout",
     "output_type": "stream",
     "text": [
      "Train Loss: 0.1954 | Train Acc: 93.15%\n",
      "Test  Loss: 0.4173 | Test Acc: 88.26%\n",
      "--------------------------------------------------\n",
      "[Epoch 201/180] :\n"
     ]
    },
    {
     "name": "stderr",
     "output_type": "stream",
     "text": [
      "201 Train: 100%|█████| 391/391 [00:09<00:00, 41.94it/s]\n"
     ]
    },
    {
     "name": "stdout",
     "output_type": "stream",
     "text": [
      "Train Loss: 0.1931 | Train Acc: 93.33%\n",
      "Test  Loss: 0.4377 | Test Acc: 87.63%\n",
      "--------------------------------------------------\n",
      "[Epoch 202/180] :\n"
     ]
    },
    {
     "name": "stderr",
     "output_type": "stream",
     "text": [
      "202 Train: 100%|█████| 391/391 [00:09<00:00, 43.43it/s]\n"
     ]
    },
    {
     "name": "stdout",
     "output_type": "stream",
     "text": [
      "Train Loss: 0.1938 | Train Acc: 93.32%\n",
      "Test  Loss: 0.4188 | Test Acc: 88.68%\n",
      "--------------------------------------------------\n"
     ]
    }
   ],
   "source": [
    "Training = DoTraining(\n",
    "    model=model,\n",
    "    criterion=criterion,\n",
    "    optimizer=optimizer,\n",
    "    scaler=scaler,\n",
    "    scheduler=scheduler,\n",
    "    earlystopper=earlystopper,\n",
    "    device=device,\n",
    "    logs=logs,\n",
    "    file_path=file_path,\n",
    ")\n",
    "pre_epochs = len(Training.logs[\"train_loss\"])\n",
    "\n",
    "for epoch in range(NUM_EPOCHS):\n",
    "    now = epoch + 1 + pre_epochs\n",
    "    print(f\"[Epoch {epoch+1+pre_epochs}/{NUM_EPOCHS}] :\")\n",
    "\n",
    "    if DATASET == \"ImageNet2012\":\n",
    "        eval_loss = Training.SingleEpoch(train_dataloader, valid_dataloader)\n",
    "    else:\n",
    "        eval_loss = Training.SingleEpoch(\n",
    "            train_dataloader, valid_dataloader, test_dataloader\n",
    "        )\n",
    "\n",
    "    Training.Save()\n",
    "\n",
    "    \n",
    "    \n",
    "    if earlystopper.check(eval_loss) == True:\n",
    "        break\n",
    "\n",
    "    print(\"-\" * 50)"
   ]
  },
  {
   "cell_type": "code",
   "execution_count": 52,
   "metadata": {},
   "outputs": [
    {
     "data": {
      "image/png": "[encoded data removed]",
      "text/plain": [
       "<Figure size 1000x500 with 2 Axes>"
      ]
     },
     "metadata": {},
     "output_type": "display_data"
    }
   ],
   "source": [
    "view = LogViewer(logs)\n",
    "view.draw()"
   ]
  },
  {
   "cell_type": "code",
   "execution_count": 53,
   "metadata": {},
   "outputs": [
    {
     "name": "stdout",
     "output_type": "stream",
     "text": [
      "1 epoch: train_loss=1.7226, train_acc=0.3736, test_loss=1.5981, test_acc=0.4404, lr=0.0010\n",
      "2 epoch: train_loss=1.2522, train_acc=0.5575, test_loss=1.2646, test_acc=0.5625, lr=0.0010\n",
      "3 epoch: train_loss=1.0498, train_acc=0.6304, test_loss=1.2804, test_acc=0.5493, lr=0.0010\n",
      "4 epoch: train_loss=0.9448, train_acc=0.6695, test_loss=1.1513, test_acc=0.6279, lr=0.0010\n",
      "5 epoch: train_loss=0.8777, train_acc=0.6953, test_loss=0.9789, test_acc=0.6686, lr=0.0010\n",
      "6 epoch: train_loss=0.8222, train_acc=0.7146, test_loss=0.9447, test_acc=0.6883, lr=0.0010\n",
      "7 epoch: train_loss=0.7791, train_acc=0.7281, test_loss=0.6949, test_acc=0.7651, lr=0.0010\n",
      "8 epoch: train_loss=0.7411, train_acc=0.7434, test_loss=1.0670, test_acc=0.6494, lr=0.0010\n",
      "9 epoch: train_loss=0.7083, train_acc=0.7533, test_loss=0.6888, test_acc=0.7669, lr=0.0010\n",
      "10 epoch: train_loss=0.6892, train_acc=0.7587, test_loss=0.7159, test_acc=0.7562, lr=0.0010\n",
      "11 epoch: train_loss=0.6594, train_acc=0.7703, test_loss=0.7872, test_acc=0.7388, lr=0.0010\n",
      "12 epoch: train_loss=0.6472, train_acc=0.7749, test_loss=0.6691, test_acc=0.7721, lr=0.0010\n",
      "13 epoch: train_loss=0.6233, train_acc=0.7841, test_loss=0.5715, test_acc=0.8080, lr=0.0010\n",
      "14 epoch: train_loss=0.6098, train_acc=0.7880, test_loss=0.6932, test_acc=0.7653, lr=0.0010\n",
      "15 epoch: train_loss=0.5930, train_acc=0.7934, test_loss=0.5891, test_acc=0.8007, lr=0.0010\n",
      "16 epoch: train_loss=0.5798, train_acc=0.7964, test_loss=0.6967, test_acc=0.7785, lr=0.0010\n",
      "17 epoch: train_loss=0.5614, train_acc=0.8050, test_loss=0.6015, test_acc=0.7988, lr=0.0010\n",
      "18 epoch: train_loss=0.5518, train_acc=0.8079, test_loss=0.6182, test_acc=0.7943, lr=0.0010\n",
      "19 epoch: train_loss=0.5413, train_acc=0.8125, test_loss=0.5435, test_acc=0.8129, lr=0.0010\n",
      "20 epoch: train_loss=0.5283, train_acc=0.8154, test_loss=0.6440, test_acc=0.7915, lr=0.0010\n",
      "21 epoch: train_loss=0.5220, train_acc=0.8187, test_loss=0.6881, test_acc=0.7787, lr=0.0010\n",
      "22 epoch: train_loss=0.5160, train_acc=0.8211, test_loss=0.5516, test_acc=0.8105, lr=0.0010\n",
      "23 epoch: train_loss=0.5068, train_acc=0.8223, test_loss=0.4750, test_acc=0.8394, lr=0.0010\n",
      "24 epoch: train_loss=0.4987, train_acc=0.8253, test_loss=0.5067, test_acc=0.8315, lr=0.0010\n",
      "25 epoch: train_loss=0.4877, train_acc=0.8311, test_loss=0.6241, test_acc=0.8019, lr=0.0010\n",
      "26 epoch: train_loss=0.4759, train_acc=0.8334, test_loss=0.5545, test_acc=0.8176, lr=0.0010\n",
      "27 epoch: train_loss=0.4789, train_acc=0.8322, test_loss=0.6062, test_acc=0.7986, lr=0.0010\n",
      "28 epoch: train_loss=0.4650, train_acc=0.8387, test_loss=0.5065, test_acc=0.8271, lr=0.0010\n",
      "29 epoch: train_loss=0.4564, train_acc=0.8407, test_loss=0.4572, test_acc=0.8494, lr=0.0010\n",
      "30 epoch: train_loss=0.4521, train_acc=0.8433, test_loss=0.5749, test_acc=0.8176, lr=0.0010\n",
      "31 epoch: train_loss=0.4441, train_acc=0.8436, test_loss=0.4537, test_acc=0.8475, lr=0.0010\n",
      "32 epoch: train_loss=0.4345, train_acc=0.8479, test_loss=0.5519, test_acc=0.8218, lr=0.0010\n",
      "33 epoch: train_loss=0.4324, train_acc=0.8498, test_loss=0.5543, test_acc=0.8159, lr=0.0010\n",
      "34 epoch: train_loss=0.4285, train_acc=0.8498, test_loss=0.5702, test_acc=0.8132, lr=0.0010\n",
      "35 epoch: train_loss=0.4227, train_acc=0.8539, test_loss=0.4205, test_acc=0.8534, lr=0.0010\n",
      "36 epoch: train_loss=0.4169, train_acc=0.8550, test_loss=0.4786, test_acc=0.8435, lr=0.0010\n",
      "37 epoch: train_loss=0.4127, train_acc=0.8558, test_loss=0.5540, test_acc=0.8210, lr=0.0010\n",
      "38 epoch: train_loss=0.4027, train_acc=0.8582, test_loss=0.5010, test_acc=0.8372, lr=0.0010\n",
      "39 epoch: train_loss=0.4068, train_acc=0.8561, test_loss=0.4568, test_acc=0.8468, lr=0.0010\n",
      "40 epoch: train_loss=0.3918, train_acc=0.8646, test_loss=0.5178, test_acc=0.8359, lr=0.0010\n",
      "41 epoch: train_loss=0.3961, train_acc=0.8621, test_loss=0.5040, test_acc=0.8373, lr=0.0010\n",
      "42 epoch: train_loss=0.3835, train_acc=0.8665, test_loss=0.5658, test_acc=0.8278, lr=0.0010\n",
      "43 epoch: train_loss=0.3869, train_acc=0.8649, test_loss=0.5301, test_acc=0.8309, lr=0.0010\n",
      "44 epoch: train_loss=0.3851, train_acc=0.8660, test_loss=0.5550, test_acc=0.8211, lr=0.0010\n",
      "45 epoch: train_loss=0.3816, train_acc=0.8654, test_loss=0.5165, test_acc=0.8293, lr=0.0010\n",
      "46 epoch: train_loss=0.3712, train_acc=0.8694, test_loss=0.4479, test_acc=0.8492, lr=0.0010\n",
      "47 epoch: train_loss=0.3714, train_acc=0.8699, test_loss=0.4684, test_acc=0.8431, lr=0.0010\n",
      "48 epoch: train_loss=0.3720, train_acc=0.8678, test_loss=0.4832, test_acc=0.8467, lr=0.0010\n",
      "49 epoch: train_loss=0.3685, train_acc=0.8711, test_loss=0.4876, test_acc=0.8529, lr=0.0010\n",
      "50 epoch: train_loss=0.3583, train_acc=0.8745, test_loss=0.4864, test_acc=0.8446, lr=0.0010\n",
      "51 epoch: train_loss=0.3578, train_acc=0.8735, test_loss=0.4627, test_acc=0.8536, lr=0.0010\n",
      "52 epoch: train_loss=0.3525, train_acc=0.8756, test_loss=0.4097, test_acc=0.8659, lr=0.0010\n",
      "53 epoch: train_loss=0.3527, train_acc=0.8753, test_loss=0.4362, test_acc=0.8624, lr=0.0010\n",
      "54 epoch: train_loss=0.3473, train_acc=0.8786, test_loss=0.4603, test_acc=0.8565, lr=0.0010\n",
      "55 epoch: train_loss=0.3486, train_acc=0.8775, test_loss=0.4917, test_acc=0.8434, lr=0.0010\n",
      "56 epoch: train_loss=0.3423, train_acc=0.8787, test_loss=0.5767, test_acc=0.8176, lr=0.0010\n",
      "57 epoch: train_loss=0.3432, train_acc=0.8800, test_loss=0.4309, test_acc=0.8624, lr=0.0010\n",
      "58 epoch: train_loss=0.3416, train_acc=0.8801, test_loss=0.5172, test_acc=0.8404, lr=0.0010\n",
      "59 epoch: train_loss=0.3384, train_acc=0.8832, test_loss=0.4545, test_acc=0.8529, lr=0.0010\n",
      "60 epoch: train_loss=0.3341, train_acc=0.8847, test_loss=0.4846, test_acc=0.8473, lr=0.0010\n",
      "61 epoch: train_loss=0.3319, train_acc=0.8852, test_loss=0.4920, test_acc=0.8507, lr=0.0010\n",
      "62 epoch: train_loss=0.3271, train_acc=0.8860, test_loss=0.5398, test_acc=0.8359, lr=0.0010\n",
      "63 epoch: train_loss=0.3276, train_acc=0.8860, test_loss=0.4617, test_acc=0.8593, lr=0.0010\n",
      "64 epoch: train_loss=0.3259, train_acc=0.8854, test_loss=0.5041, test_acc=0.8445, lr=0.0010\n",
      "65 epoch: train_loss=0.3228, train_acc=0.8875, test_loss=0.4451, test_acc=0.8638, lr=0.0010\n",
      "66 epoch: train_loss=0.3157, train_acc=0.8895, test_loss=0.5055, test_acc=0.8450, lr=0.0010\n",
      "67 epoch: train_loss=0.3218, train_acc=0.8879, test_loss=0.4217, test_acc=0.8660, lr=0.0010\n",
      "68 epoch: train_loss=0.3163, train_acc=0.8909, test_loss=0.4386, test_acc=0.8646, lr=0.0010\n",
      "69 epoch: train_loss=0.3162, train_acc=0.8894, test_loss=0.4634, test_acc=0.8569, lr=0.0010\n",
      "70 epoch: train_loss=0.3106, train_acc=0.8900, test_loss=0.4767, test_acc=0.8468, lr=0.0010\n",
      "71 epoch: train_loss=0.3122, train_acc=0.8909, test_loss=0.4584, test_acc=0.8548, lr=0.0010\n",
      "72 epoch: train_loss=0.3122, train_acc=0.8906, test_loss=0.5112, test_acc=0.8410, lr=0.0010\n",
      "73 epoch: train_loss=0.3037, train_acc=0.8931, test_loss=0.4801, test_acc=0.8558, lr=0.0010\n",
      "74 epoch: train_loss=0.3016, train_acc=0.8931, test_loss=0.4626, test_acc=0.8568, lr=0.0010\n",
      "75 epoch: train_loss=0.3015, train_acc=0.8935, test_loss=0.4535, test_acc=0.8627, lr=0.0010\n",
      "76 epoch: train_loss=0.3009, train_acc=0.8955, test_loss=0.4354, test_acc=0.8657, lr=0.0010\n",
      "77 epoch: train_loss=0.2948, train_acc=0.8964, test_loss=0.4522, test_acc=0.8632, lr=0.0010\n",
      "78 epoch: train_loss=0.2968, train_acc=0.8965, test_loss=0.4437, test_acc=0.8646, lr=0.0010\n",
      "79 epoch: train_loss=0.2940, train_acc=0.8970, test_loss=0.3936, test_acc=0.8796, lr=0.0010\n",
      "80 epoch: train_loss=0.2963, train_acc=0.8953, test_loss=0.5296, test_acc=0.8447, lr=0.0010\n",
      "81 epoch: train_loss=0.2928, train_acc=0.8984, test_loss=0.3961, test_acc=0.8735, lr=0.0010\n",
      "82 epoch: train_loss=0.2919, train_acc=0.8983, test_loss=0.4163, test_acc=0.8716, lr=0.0010\n",
      "83 epoch: train_loss=0.2870, train_acc=0.8988, test_loss=0.5059, test_acc=0.8493, lr=0.0010\n",
      "84 epoch: train_loss=0.2859, train_acc=0.8986, test_loss=0.4022, test_acc=0.8700, lr=0.0010\n",
      "85 epoch: train_loss=0.2837, train_acc=0.9005, test_loss=0.4110, test_acc=0.8703, lr=0.0010\n",
      "86 epoch: train_loss=0.2819, train_acc=0.9007, test_loss=0.5446, test_acc=0.8485, lr=0.0010\n",
      "87 epoch: train_loss=0.2810, train_acc=0.9018, test_loss=0.4341, test_acc=0.8707, lr=0.0010\n",
      "88 epoch: train_loss=0.2773, train_acc=0.9042, test_loss=0.4181, test_acc=0.8748, lr=0.0010\n",
      "89 epoch: train_loss=0.2835, train_acc=0.9003, test_loss=0.4339, test_acc=0.8676, lr=0.0010\n",
      "90 epoch: train_loss=0.2859, train_acc=0.8984, test_loss=0.3863, test_acc=0.8792, lr=0.0010\n",
      "91 epoch: train_loss=0.2721, train_acc=0.9048, test_loss=0.4253, test_acc=0.8707, lr=0.0010\n",
      "92 epoch: train_loss=0.2752, train_acc=0.9034, test_loss=0.4151, test_acc=0.8733, lr=0.0010\n",
      "93 epoch: train_loss=0.2699, train_acc=0.9046, test_loss=0.4252, test_acc=0.8736, lr=0.0010\n",
      "94 epoch: train_loss=0.2738, train_acc=0.9048, test_loss=0.3877, test_acc=0.8820, lr=0.0010\n",
      "95 epoch: train_loss=0.2678, train_acc=0.9060, test_loss=0.4696, test_acc=0.8586, lr=0.0010\n",
      "96 epoch: train_loss=0.2665, train_acc=0.9061, test_loss=0.4355, test_acc=0.8672, lr=0.0010\n",
      "97 epoch: train_loss=0.2692, train_acc=0.9046, test_loss=0.3818, test_acc=0.8777, lr=0.0010\n",
      "98 epoch: train_loss=0.2663, train_acc=0.9068, test_loss=0.4207, test_acc=0.8691, lr=0.0010\n",
      "99 epoch: train_loss=0.2638, train_acc=0.9078, test_loss=0.4239, test_acc=0.8751, lr=0.0010\n",
      "100 epoch: train_loss=0.2649, train_acc=0.9075, test_loss=0.3954, test_acc=0.8770, lr=0.0010\n",
      "101 epoch: train_loss=0.2644, train_acc=0.9072, test_loss=0.4821, test_acc=0.8584, lr=0.0010\n",
      "102 epoch: train_loss=0.2673, train_acc=0.9065, test_loss=0.4507, test_acc=0.8637, lr=0.0010\n",
      "103 epoch: train_loss=0.2597, train_acc=0.9079, test_loss=0.4096, test_acc=0.8754, lr=0.0010\n",
      "104 epoch: train_loss=0.2645, train_acc=0.9075, test_loss=0.4122, test_acc=0.8732, lr=0.0010\n",
      "105 epoch: train_loss=0.2542, train_acc=0.9104, test_loss=0.4076, test_acc=0.8761, lr=0.0010\n",
      "106 epoch: train_loss=0.2551, train_acc=0.9100, test_loss=0.3799, test_acc=0.8836, lr=0.0010\n",
      "107 epoch: train_loss=0.2548, train_acc=0.9113, test_loss=0.4179, test_acc=0.8715, lr=0.0010\n",
      "108 epoch: train_loss=0.2514, train_acc=0.9111, test_loss=0.4012, test_acc=0.8797, lr=0.0010\n",
      "109 epoch: train_loss=0.2590, train_acc=0.9092, test_loss=0.4310, test_acc=0.8748, lr=0.0010\n",
      "110 epoch: train_loss=0.2505, train_acc=0.9132, test_loss=0.4058, test_acc=0.8768, lr=0.0010\n",
      "111 epoch: train_loss=0.2558, train_acc=0.9098, test_loss=0.4285, test_acc=0.8730, lr=0.0010\n",
      "112 epoch: train_loss=0.2500, train_acc=0.9121, test_loss=0.4262, test_acc=0.8763, lr=0.0010\n",
      "113 epoch: train_loss=0.2450, train_acc=0.9139, test_loss=0.4315, test_acc=0.8735, lr=0.0010\n",
      "114 epoch: train_loss=0.2553, train_acc=0.9107, test_loss=0.4455, test_acc=0.8670, lr=0.0010\n",
      "115 epoch: train_loss=0.2486, train_acc=0.9130, test_loss=0.4707, test_acc=0.8629, lr=0.0010\n",
      "116 epoch: train_loss=0.2507, train_acc=0.9124, test_loss=0.3979, test_acc=0.8806, lr=0.0010\n",
      "117 epoch: train_loss=0.2502, train_acc=0.9118, test_loss=0.3640, test_acc=0.8921, lr=0.0010\n",
      "118 epoch: train_loss=0.2487, train_acc=0.9129, test_loss=0.4225, test_acc=0.8763, lr=0.0010\n",
      "119 epoch: train_loss=0.2447, train_acc=0.9137, test_loss=0.4412, test_acc=0.8706, lr=0.0010\n",
      "120 epoch: train_loss=0.2422, train_acc=0.9144, test_loss=0.4126, test_acc=0.8774, lr=0.0010\n",
      "121 epoch: train_loss=0.2398, train_acc=0.9154, test_loss=0.4656, test_acc=0.8621, lr=0.0010\n",
      "122 epoch: train_loss=0.2391, train_acc=0.9158, test_loss=0.4551, test_acc=0.8635, lr=0.0010\n",
      "123 epoch: train_loss=0.2422, train_acc=0.9159, test_loss=0.4548, test_acc=0.8630, lr=0.0010\n",
      "124 epoch: train_loss=0.2396, train_acc=0.9144, test_loss=0.4151, test_acc=0.8760, lr=0.0010\n",
      "125 epoch: train_loss=0.2380, train_acc=0.9159, test_loss=0.4505, test_acc=0.8610, lr=0.0010\n",
      "126 epoch: train_loss=0.2386, train_acc=0.9173, test_loss=0.4437, test_acc=0.8731, lr=0.0010\n",
      "127 epoch: train_loss=0.2400, train_acc=0.9165, test_loss=0.4075, test_acc=0.8769, lr=0.0010\n",
      "128 epoch: train_loss=0.2367, train_acc=0.9172, test_loss=0.4171, test_acc=0.8768, lr=0.0010\n",
      "129 epoch: train_loss=0.2395, train_acc=0.9162, test_loss=0.4574, test_acc=0.8689, lr=0.0010\n",
      "130 epoch: train_loss=0.2359, train_acc=0.9182, test_loss=0.4539, test_acc=0.8646, lr=0.0010\n",
      "131 epoch: train_loss=0.2390, train_acc=0.9169, test_loss=0.4510, test_acc=0.8711, lr=0.0010\n",
      "132 epoch: train_loss=0.2396, train_acc=0.9166, test_loss=0.4255, test_acc=0.8729, lr=0.0010\n",
      "133 epoch: train_loss=0.2356, train_acc=0.9170, test_loss=0.4321, test_acc=0.8684, lr=0.0010\n",
      "134 epoch: train_loss=0.2284, train_acc=0.9201, test_loss=0.4051, test_acc=0.8823, lr=0.0010\n",
      "135 epoch: train_loss=0.2302, train_acc=0.9193, test_loss=0.4181, test_acc=0.8748, lr=0.0010\n",
      "136 epoch: train_loss=0.2298, train_acc=0.9206, test_loss=0.4174, test_acc=0.8768, lr=0.0010\n",
      "137 epoch: train_loss=0.2322, train_acc=0.9180, test_loss=0.4166, test_acc=0.8759, lr=0.0010\n",
      "138 epoch: train_loss=0.2305, train_acc=0.9202, test_loss=0.4053, test_acc=0.8789, lr=0.0010\n",
      "139 epoch: train_loss=0.2275, train_acc=0.9206, test_loss=0.4285, test_acc=0.8777, lr=0.0010\n",
      "140 epoch: train_loss=0.2244, train_acc=0.9207, test_loss=0.4295, test_acc=0.8777, lr=0.0010\n",
      "141 epoch: train_loss=0.2292, train_acc=0.9205, test_loss=0.4596, test_acc=0.8732, lr=0.0010\n",
      "142 epoch: train_loss=0.2224, train_acc=0.9225, test_loss=0.4052, test_acc=0.8856, lr=0.0010\n",
      "143 epoch: train_loss=0.2260, train_acc=0.9208, test_loss=0.4697, test_acc=0.8728, lr=0.0010\n",
      "144 epoch: train_loss=0.2190, train_acc=0.9245, test_loss=0.4139, test_acc=0.8814, lr=0.0010\n",
      "145 epoch: train_loss=0.2262, train_acc=0.9196, test_loss=0.4517, test_acc=0.8734, lr=0.0010\n",
      "146 epoch: train_loss=0.2289, train_acc=0.9203, test_loss=0.4019, test_acc=0.8809, lr=0.0010\n",
      "147 epoch: train_loss=0.2206, train_acc=0.9238, test_loss=0.3745, test_acc=0.8928, lr=0.0010\n",
      "148 epoch: train_loss=0.2196, train_acc=0.9237, test_loss=0.4410, test_acc=0.8719, lr=0.0010\n",
      "149 epoch: train_loss=0.2231, train_acc=0.9220, test_loss=0.4079, test_acc=0.8814, lr=0.0010\n",
      "150 epoch: train_loss=0.2210, train_acc=0.9229, test_loss=0.4185, test_acc=0.8753, lr=0.0010\n",
      "151 epoch: train_loss=0.2189, train_acc=0.9233, test_loss=0.4045, test_acc=0.8844, lr=0.0010\n",
      "152 epoch: train_loss=0.2199, train_acc=0.9233, test_loss=0.4022, test_acc=0.8832, lr=0.0010\n",
      "153 epoch: train_loss=0.2244, train_acc=0.9226, test_loss=0.4355, test_acc=0.8751, lr=0.0010\n",
      "154 epoch: train_loss=0.2174, train_acc=0.9233, test_loss=0.4072, test_acc=0.8867, lr=0.0010\n",
      "155 epoch: train_loss=0.2183, train_acc=0.9238, test_loss=0.4152, test_acc=0.8803, lr=0.0010\n",
      "156 epoch: train_loss=0.2162, train_acc=0.9260, test_loss=0.4264, test_acc=0.8803, lr=0.0010\n",
      "157 epoch: train_loss=0.2139, train_acc=0.9250, test_loss=0.4237, test_acc=0.8781, lr=0.0010\n",
      "158 epoch: train_loss=0.2194, train_acc=0.9235, test_loss=0.4146, test_acc=0.8824, lr=0.0010\n",
      "159 epoch: train_loss=0.2127, train_acc=0.9272, test_loss=0.4112, test_acc=0.8813, lr=0.0010\n",
      "160 epoch: train_loss=0.2193, train_acc=0.9229, test_loss=0.3942, test_acc=0.8866, lr=0.0010\n",
      "161 epoch: train_loss=0.2173, train_acc=0.9230, test_loss=0.4373, test_acc=0.8748, lr=0.0010\n",
      "162 epoch: train_loss=0.2128, train_acc=0.9247, test_loss=0.4028, test_acc=0.8841, lr=0.0010\n",
      "163 epoch: train_loss=0.2149, train_acc=0.9239, test_loss=0.4651, test_acc=0.8663, lr=0.0010\n",
      "164 epoch: train_loss=0.2104, train_acc=0.9268, test_loss=0.4433, test_acc=0.8784, lr=0.0010\n",
      "165 epoch: train_loss=0.2076, train_acc=0.9276, test_loss=0.3702, test_acc=0.8909, lr=0.0010\n",
      "166 epoch: train_loss=0.2120, train_acc=0.9256, test_loss=0.4006, test_acc=0.8802, lr=0.0010\n",
      "167 epoch: train_loss=0.2100, train_acc=0.9270, test_loss=0.4241, test_acc=0.8816, lr=0.0010\n",
      "168 epoch: train_loss=0.2036, train_acc=0.9284, test_loss=0.4427, test_acc=0.8751, lr=0.0010\n",
      "169 epoch: train_loss=0.2117, train_acc=0.9268, test_loss=0.4544, test_acc=0.8772, lr=0.0010\n",
      "170 epoch: train_loss=0.2086, train_acc=0.9271, test_loss=0.4478, test_acc=0.8749, lr=0.0010\n",
      "171 epoch: train_loss=0.2123, train_acc=0.9262, test_loss=0.4421, test_acc=0.8785, lr=0.0010\n",
      "172 epoch: train_loss=0.2106, train_acc=0.9258, test_loss=0.4125, test_acc=0.8874, lr=0.0010\n",
      "173 epoch: train_loss=0.2021, train_acc=0.9293, test_loss=0.4651, test_acc=0.8686, lr=0.0010\n",
      "174 epoch: train_loss=0.2058, train_acc=0.9279, test_loss=0.4333, test_acc=0.8770, lr=0.0010\n",
      "175 epoch: train_loss=0.2080, train_acc=0.9280, test_loss=0.4184, test_acc=0.8864, lr=0.0010\n",
      "176 epoch: train_loss=0.2023, train_acc=0.9294, test_loss=0.4122, test_acc=0.8857, lr=0.0010\n",
      "177 epoch: train_loss=0.1982, train_acc=0.9305, test_loss=0.3883, test_acc=0.8938, lr=0.0010\n",
      "178 epoch: train_loss=0.2030, train_acc=0.9292, test_loss=0.3986, test_acc=0.8888, lr=0.0010\n",
      "179 epoch: train_loss=0.2079, train_acc=0.9271, test_loss=0.4751, test_acc=0.8717, lr=0.0010\n",
      "180 epoch: train_loss=0.2037, train_acc=0.9285, test_loss=0.4569, test_acc=0.8786, lr=0.0010\n",
      "181 epoch: train_loss=0.2037, train_acc=0.9286, test_loss=0.4115, test_acc=0.8872, lr=0.0010\n",
      "182 epoch: train_loss=0.2039, train_acc=0.9280, test_loss=0.3987, test_acc=0.8887, lr=0.0010\n",
      "183 epoch: train_loss=0.1993, train_acc=0.9310, test_loss=0.3981, test_acc=0.8928, lr=0.0010\n",
      "184 epoch: train_loss=0.2037, train_acc=0.9291, test_loss=0.3754, test_acc=0.8932, lr=0.0010\n",
      "185 epoch: train_loss=0.2026, train_acc=0.9295, test_loss=0.3858, test_acc=0.8891, lr=0.0010\n",
      "186 epoch: train_loss=0.2035, train_acc=0.9295, test_loss=0.4011, test_acc=0.8898, lr=0.0010\n",
      "187 epoch: train_loss=0.2026, train_acc=0.9294, test_loss=0.4103, test_acc=0.8838, lr=0.0010\n",
      "188 epoch: train_loss=0.1938, train_acc=0.9328, test_loss=0.4486, test_acc=0.8770, lr=0.0010\n",
      "189 epoch: train_loss=0.1964, train_acc=0.9318, test_loss=0.3887, test_acc=0.8907, lr=0.0010\n",
      "190 epoch: train_loss=0.1979, train_acc=0.9301, test_loss=0.4417, test_acc=0.8804, lr=0.0010\n",
      "191 epoch: train_loss=0.1999, train_acc=0.9298, test_loss=0.3805, test_acc=0.8912, lr=0.0010\n",
      "192 epoch: train_loss=0.2042, train_acc=0.9296, test_loss=0.4189, test_acc=0.8907, lr=0.0010\n",
      "193 epoch: train_loss=0.1974, train_acc=0.9310, test_loss=0.4168, test_acc=0.8875, lr=0.0010\n",
      "194 epoch: train_loss=0.1981, train_acc=0.9305, test_loss=0.3993, test_acc=0.8877, lr=0.0010\n",
      "195 epoch: train_loss=0.2010, train_acc=0.9292, test_loss=0.4791, test_acc=0.8755, lr=0.0010\n",
      "196 epoch: train_loss=0.1979, train_acc=0.9316, test_loss=0.4332, test_acc=0.8810, lr=0.0010\n",
      "197 epoch: train_loss=0.1987, train_acc=0.9325, test_loss=0.4778, test_acc=0.8729, lr=0.0010\n",
      "198 epoch: train_loss=0.1965, train_acc=0.9312, test_loss=0.3846, test_acc=0.8931, lr=0.0010\n",
      "199 epoch: train_loss=0.1966, train_acc=0.9322, test_loss=0.4607, test_acc=0.8768, lr=0.0010\n",
      "200 epoch: train_loss=0.1954, train_acc=0.9315, test_loss=0.4173, test_acc=0.8826, lr=0.0010\n",
      "201 epoch: train_loss=0.1931, train_acc=0.9333, test_loss=0.4377, test_acc=0.8763, lr=0.0010\n",
      "202 epoch: train_loss=0.1938, train_acc=0.9332, test_loss=0.4188, test_acc=0.8868, lr=0.0010\n"
     ]
    }
   ],
   "source": [
    "view.print_all()"
   ]
  },
  {
   "cell_type": "code",
   "execution_count": 54,
   "metadata": {},
   "outputs": [],
   "source": [
    "# CHECK = 5410\n",
    "# logs[\"train_loss\"] = logs[\"train_loss\"][:CHECK]\n",
    "# logs[\"train_acc\"] = logs[\"train_acc\"][:CHECK]\n",
    "# logs[\"valid_loss\"] = logs[\"valid_loss\"][:CHECK]\n",
    "# logs[\"valid_acc\"] = logs[\"valid_acc\"][:CHECK]\n",
    "# logs[\"test_loss\"] = logs[\"test_loss\"][:CHECK]\n",
    "# logs[\"test_acc\"] = logs[\"test_acc\"][:CHECK]\n",
    "# model.load_state_dict(torch.load(f\"models/{file_path}.pth\"))"
   ]
  }
 ],
 "metadata": {
  "kernelspec": {
   "display_name": "base",
   "language": "python",
   "name": "python3"
  },
  "language_info": {
   "codemirror_mode": {
    "name": "ipython",
    "version": 3
   },
   "file_extension": ".py",
   "mimetype": "text/x-python",
   "name": "python",
   "nbconvert_exporter": "python",
   "pygments_lexer": "ipython3",
   "version": "3.11.5"
  }
 },
 "nbformat": 4,
 "nbformat_minor": 2
}
