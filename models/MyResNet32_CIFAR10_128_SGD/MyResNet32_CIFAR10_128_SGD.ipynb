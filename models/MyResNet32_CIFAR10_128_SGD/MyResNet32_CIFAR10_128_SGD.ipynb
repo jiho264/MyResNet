{
 "cells": [
  {
   "cell_type": "markdown",
   "metadata": {},
   "source": [
    "# Import"
   ]
  },
  {
   "cell_type": "code",
   "execution_count": 1,
   "metadata": {},
   "outputs": [],
   "source": [
    "import torch\n",
    "from torch import nn\n",
    "from torch.optim.lr_scheduler import ExponentialLR, MultiStepLR\n",
    "import sys, os\n",
    "\n",
    "sys.path.append(os.path.dirname(os.path.abspath(os.path.dirname(\"src\"))))\n",
    "\n",
    "from src.Mydataloader import LoadDataset\n",
    "from src.Mymodel import MyResNet_CIFAR\n",
    "from src.Mytraining import DoTraining\n",
    "from src.Earlystopper import EarlyStopper\n",
    "from src.LogViewer import LogViewer"
   ]
  },
  {
   "cell_type": "markdown",
   "metadata": {},
   "source": [
    "# Setup"
   ]
  },
  {
   "cell_type": "code",
   "execution_count": 2,
   "metadata": {},
   "outputs": [],
   "source": [
    "\"\"\"Dataset selection\"\"\"\n",
    "DATASET = \"CIFAR10\"\n",
    "# DATASET = \"CIFAR100\"\n",
    "# DATASET = \"ImageNet2012\"\n",
    "\n",
    "\"\"\"Dataset parameters\"\"\"\n",
    "BATCH = 128\n",
    "SHUFFLE = True\n",
    "NUMOFWORKERS = 8\n",
    "PIN_MEMORY = True\n",
    "SPLIT_RATIO = 0\n",
    "\n",
    "\"\"\"optimizer parameters\"\"\"\n",
    "# OPTIMIZER = \"Adam\"\n",
    "# OPTIMIZER = \"Adam_decay\"\n",
    "OPTIMIZER = \"SGD\"\n",
    "# OPTIMIZER = \"SGD_nasterov\"\n",
    "# OPTIMIZER = \"AdamW\"\n",
    "# OPTIMIZER = \"AdamW_amsgrad\"\n",
    "# OPTIMIZER = \"NAdam\"\n",
    "\n",
    "\"\"\"Learning rate scheduler parameters\"\"\"\n",
    "NUM_EPOCHS = 170\n",
    "\n",
    "\"\"\"Early stopping parameters\"\"\"\n",
    "EARLYSTOPPINGPATIENCE = 50\n",
    "\n",
    "file_name = f\"MyResNet32_{BATCH}_{OPTIMIZER}\""
   ]
  },
  {
   "cell_type": "code",
   "execution_count": 3,
   "metadata": {},
   "outputs": [
    {
     "data": {
      "text/plain": [
       "'MyResNet32_128_SGD'"
      ]
     },
     "execution_count": 3,
     "metadata": {},
     "output_type": "execute_result"
    }
   ],
   "source": [
    "file_name"
   ]
  },
  {
   "cell_type": "markdown",
   "metadata": {},
   "source": [
    "# Loading the dataset"
   ]
  },
  {
   "cell_type": "markdown",
   "metadata": {},
   "source": [
    "## Define Dateloader"
   ]
  },
  {
   "cell_type": "code",
   "execution_count": 4,
   "metadata": {},
   "outputs": [
    {
     "name": "stderr",
     "output_type": "stream",
     "text": [
      "/home/lee/anaconda3/lib/python3.11/site-packages/torchvision/transforms/v2/_deprecated.py:43: UserWarning: The transform `ToTensor()` is deprecated and will be removed in a future release. Instead, please use `v2.Compose([v2.ToImage(), v2.ToDtype(torch.float32, scale=True)])`.\n",
      "  warnings.warn(\n"
     ]
    },
    {
     "name": "stdout",
     "output_type": "stream",
     "text": [
      "-----------------------------------------------------------------------\n",
      "Dataset :  CIFAR10\n",
      "- Length of Train Set :  50000\n",
      "- Length of Test Set :  10000\n",
      "- Count of Classes :  10\n",
      "-----------------------------------------------------------------------\n"
     ]
    }
   ],
   "source": [
    "tmp = LoadDataset(root=\"../../data\", seceted_dataset=DATASET, split_ratio=SPLIT_RATIO)\n",
    "train_data, valid_data, test_data, COUNT_OF_CLASSES = tmp.Unpack()"
   ]
  },
  {
   "cell_type": "code",
   "execution_count": 5,
   "metadata": {},
   "outputs": [
    {
     "name": "stdout",
     "output_type": "stream",
     "text": [
      "train.transforms = Compose(\n",
      "      AutoAugment(interpolation=InterpolationMode.NEAREST, policy=AutoAugmentPolicy.CIFAR10)\n",
      "      RandomCrop(size=(32, 32), padding=[4, 4, 4, 4], pad_if_needed=False, fill=0, padding_mode=constant)\n",
      "      RandomHorizontalFlip(p=0.5)\n",
      "      ToTensor()\n",
      "      Normalize(mean=[0.49139968, 0.48215827, 0.44653124], std=[1, 1, 1], inplace=True)\n",
      ") 128\n",
      "test.transforms = ToTensor() 128\n"
     ]
    }
   ],
   "source": [
    "train_dataloader, valid_dataloader, test_dataloader = tmp.get_dataloader(\n",
    "    batch_size=BATCH, shuffle=SHUFFLE, num_workers=NUMOFWORKERS, pin_memory=PIN_MEMORY\n",
    ")"
   ]
  },
  {
   "cell_type": "markdown",
   "metadata": {},
   "source": [
    "# Define ResNet"
   ]
  },
  {
   "cell_type": "markdown",
   "metadata": {},
   "source": [
    "## Model Confirm"
   ]
  },
  {
   "cell_type": "code",
   "execution_count": 6,
   "metadata": {},
   "outputs": [
    {
     "data": {
      "text/plain": [
       "device(type='cuda')"
      ]
     },
     "execution_count": 6,
     "metadata": {},
     "output_type": "execute_result"
    }
   ],
   "source": [
    "device = torch.device(\"cuda\" if torch.cuda.is_available() else \"cpu\")\n",
    "device"
   ]
  },
  {
   "cell_type": "code",
   "execution_count": 7,
   "metadata": {},
   "outputs": [],
   "source": [
    "model = MyResNet_CIFAR(num_classes=COUNT_OF_CLASSES, num_layer_factor=5).to(device)"
   ]
  },
  {
   "cell_type": "markdown",
   "metadata": {},
   "source": [
    "# Define Training"
   ]
  },
  {
   "cell_type": "markdown",
   "metadata": {},
   "source": [
    "## (1) Define Criterion"
   ]
  },
  {
   "cell_type": "code",
   "execution_count": 8,
   "metadata": {},
   "outputs": [],
   "source": [
    "criterion = nn.CrossEntropyLoss()"
   ]
  },
  {
   "cell_type": "markdown",
   "metadata": {},
   "source": [
    "## (2) Define Optimazer"
   ]
  },
  {
   "cell_type": "code",
   "execution_count": 9,
   "metadata": {},
   "outputs": [],
   "source": [
    "if OPTIMIZER == \"Adam\":\n",
    "    optimizer = torch.optim.Adam(model.parameters())\n",
    "elif OPTIMIZER == \"Adam_decay\":\n",
    "    optimizer = torch.optim.Adam(model.parameters(), weight_decay=1e-4)\n",
    "elif OPTIMIZER == \"SGD\":\n",
    "    optimizer = torch.optim.SGD(\n",
    "        model.parameters(), lr=0.1, momentum=0.9, weight_decay=1e-4\n",
    "    )\n",
    "elif OPTIMIZER == \"SGD_nasterov\":\n",
    "    optimizer = torch.optim.SGD(\n",
    "        model.parameters(), lr=0.1, momentum=0.9, weight_decay=1e-4, nesterov=True\n",
    "    )\n",
    "elif OPTIMIZER == \"AdamW\":\n",
    "    optimizer = torch.optim.AdamW(model.parameters(), weight_decay=1e-4)\n",
    "elif OPTIMIZER == \"AdamW_amsgrad\":\n",
    "    optimizer = torch.optim.AdamW(model.parameters(), weight_decay=1e-4, amsgrad=True)\n",
    "elif OPTIMIZER == \"NAdam\":\n",
    "    optimizer = torch.optim.NAdam(model.parameters(), weight_decay=1e-4)"
   ]
  },
  {
   "cell_type": "markdown",
   "metadata": {},
   "source": [
    "## (3) Define Early Stopping"
   ]
  },
  {
   "cell_type": "code",
   "execution_count": 10,
   "metadata": {},
   "outputs": [],
   "source": [
    "earlystopper = EarlyStopper(patience=EARLYSTOPPINGPATIENCE, model=model, file_name=file_name)"
   ]
  },
  {
   "cell_type": "markdown",
   "metadata": {},
   "source": [
    "## (4) Define Learning Rate schedualer"
   ]
  },
  {
   "cell_type": "code",
   "execution_count": 11,
   "metadata": {},
   "outputs": [
    {
     "data": {
      "text/plain": [
       "'\\n=======================================================\\nif batch = 256\\n=======================================================\\nnon-split [single epoch = 196 iter] : milestones = [164, 246]\\n- 1 ~ 164 epochs == 1 ~ 32k iter >> lr = 0.1\\n- 165~246 epochs == 32k ~ 48k iter >> lr = 0.01\\n- 247~328(?) epochs == 48k ~ 64k iter >> lr = 0.001\\n=======================================================\\nsplit to 45k/5k [single epoch = 176 iter]: milestones = [182, 273]\\n- 1~182 epochs == 1 ~ 32k iter >> lr = 0.1\\n- 182~273 epochs == 32k ~ 48k iter >> lr = 0.01\\n- 273~364(?) epochs == 48k ~ 64k iter >> lr = 0.001\\n=======================================================\\nif batch = 128\\n=======================================================\\nnon-split [signle epoch = 391 iter]: milestones = [82, 123]\\n- 1 ~ 82 epochs == 1 ~ 32k iter >> lr = 0.1\\n- 83~123 epochs == 32k ~ 48k iter >> lr = 0.01\\n- 124~(164) epochs == 48k ~ 64k iter >> lr = 0.001\\n=======================================================\\nsplit to 45k/5k [signle epoch = 352 iter]: milestones = [91, 137]\\n- 1~91 epochs == 1 ~ 32k iter >> lr = 0.1\\n- 92~137 epochs == 32k ~ 48k iter >> lr = 0.01\\n- 138~(183) epochs == 48k ~ 64k iter >> lr = 0.001\\n=======================================================\\n'"
      ]
     },
     "execution_count": 11,
     "metadata": {},
     "output_type": "execute_result"
    }
   ],
   "source": [
    "# scheduler = ExponentialLR(optimizer, gamma=0.95)\n",
    "scheduler = MultiStepLR(optimizer, milestones=[82, 123], gamma=0.1)\n",
    "\"\"\"\n",
    "=======================================================\n",
    "if batch = 256\n",
    "=======================================================\n",
    "non-split [single epoch = 196 iter] : milestones = [164, 246]\n",
    "- 1 ~ 164 epochs == 1 ~ 32k iter >> lr = 0.1\n",
    "- 165~246 epochs == 32k ~ 48k iter >> lr = 0.01\n",
    "- 247~328(?) epochs == 48k ~ 64k iter >> lr = 0.001\n",
    "=======================================================\n",
    "split to 45k/5k [single epoch = 176 iter]: milestones = [182, 273]\n",
    "- 1~182 epochs == 1 ~ 32k iter >> lr = 0.1\n",
    "- 182~273 epochs == 32k ~ 48k iter >> lr = 0.01\n",
    "- 273~364(?) epochs == 48k ~ 64k iter >> lr = 0.001\n",
    "=======================================================\n",
    "if batch = 128\n",
    "=======================================================\n",
    "non-split [signle epoch = 391 iter]: milestones = [82, 123]\n",
    "- 1 ~ 82 epochs == 1 ~ 32k iter >> lr = 0.1\n",
    "- 83~123 epochs == 32k ~ 48k iter >> lr = 0.01\n",
    "- 124~(164) epochs == 48k ~ 64k iter >> lr = 0.001\n",
    "=======================================================\n",
    "split to 45k/5k [signle epoch = 352 iter]: milestones = [91, 137]\n",
    "- 1~91 epochs == 1 ~ 32k iter >> lr = 0.1\n",
    "- 92~137 epochs == 32k ~ 48k iter >> lr = 0.01\n",
    "- 138~(183) epochs == 48k ~ 64k iter >> lr = 0.001\n",
    "=======================================================\n",
    "\"\"\""
   ]
  },
  {
   "cell_type": "markdown",
   "metadata": {},
   "source": [
    "## (5) Define AMP scaler"
   ]
  },
  {
   "cell_type": "code",
   "execution_count": 12,
   "metadata": {},
   "outputs": [],
   "source": [
    "scaler = torch.cuda.amp.GradScaler(enabled=True)"
   ]
  },
  {
   "cell_type": "markdown",
   "metadata": {},
   "source": [
    "## Load before process"
   ]
  },
  {
   "cell_type": "code",
   "execution_count": 13,
   "metadata": {},
   "outputs": [
    {
     "name": "stdout",
     "output_type": "stream",
     "text": [
      "File does not exist. Created a new log.\n"
     ]
    }
   ],
   "source": [
    "if os.path.exists(file_name + \".pth.tar\"):\n",
    "    # Read checkpoint as desired, e.g.,\n",
    "    checkpoint = torch.load(\n",
    "        file_name + \".pth.tar\",\n",
    "        map_location=lambda storage, loc: storage.cuda(device),\n",
    "    )\n",
    "    model.load_state_dict(checkpoint[\"model\"])\n",
    "    optimizer.load_state_dict(checkpoint[\"optimizer\"])\n",
    "    scaler.load_state_dict(checkpoint[\"scaler\"])\n",
    "    scheduler.load_state_dict(checkpoint[\"scheduler\"])\n",
    "    earlystopper.load_state_dict(checkpoint[\"earlystopper\"])\n",
    "    logs = checkpoint[\"logs\"]\n",
    "\n",
    "    print(\"Suceessfully loaded the All setting and Log file.\")\n",
    "    print(file_name)\n",
    "    print(f\"Current epoch is {len(logs['train_loss'])}\")\n",
    "    print(f\"Current learning rate: {optimizer.param_groups[0]['lr']}\")\n",
    "else:\n",
    "    # Create a dictionary to store the variables\n",
    "    train_loss = []\n",
    "    train_acc = []\n",
    "    eval_loss = []\n",
    "    valid_acc = []\n",
    "    test_loss = []\n",
    "    test_acc = []\n",
    "    lr_log = []\n",
    "    logs = {\n",
    "        \"train_loss\": train_loss,\n",
    "        \"train_acc\": train_acc,\n",
    "        \"valid_loss\": eval_loss,\n",
    "        \"valid_acc\": valid_acc,\n",
    "        \"test_loss\": test_loss,\n",
    "        \"test_acc\": test_acc,\n",
    "        \"lr_log\": lr_log,\n",
    "    }\n",
    "    print(\"File does not exist. Created a new log.\")"
   ]
  },
  {
   "cell_type": "code",
   "execution_count": 14,
   "metadata": {},
   "outputs": [
    {
     "data": {
      "text/plain": [
       "0.1"
      ]
     },
     "execution_count": 14,
     "metadata": {},
     "output_type": "execute_result"
    }
   ],
   "source": [
    "optimizer.param_groups[0][\"lr\"]"
   ]
  },
  {
   "cell_type": "code",
   "execution_count": 15,
   "metadata": {},
   "outputs": [
    {
     "data": {
      "text/plain": [
       "0"
      ]
     },
     "execution_count": 15,
     "metadata": {},
     "output_type": "execute_result"
    }
   ],
   "source": [
    "earlystopper.early_stop_counter"
   ]
  },
  {
   "cell_type": "markdown",
   "metadata": {},
   "source": [
    "# [Training Loop]"
   ]
  },
  {
   "cell_type": "code",
   "execution_count": 16,
   "metadata": {},
   "outputs": [
    {
     "name": "stdout",
     "output_type": "stream",
     "text": [
      "[Epoch 1/170] :\n"
     ]
    },
    {
     "name": "stderr",
     "output_type": "stream",
     "text": [
      "1 Train: 100%|███████| 391/391 [00:43<00:00,  8.93it/s]"
     ]
    },
    {
     "name": "stdout",
     "output_type": "stream",
     "text": [
      "Train Loss: 2.3932 | Train Acc: 13.23%\n"
     ]
    },
    {
     "name": "stderr",
     "output_type": "stream",
     "text": [
      "\n"
     ]
    },
    {
     "name": "stdout",
     "output_type": "stream",
     "text": [
      "Test  Loss: 2.1028 | Test Acc: 20.90%\n",
      "updated best eval loss : 2.1027612731426575\n",
      "--------------------------------------------------\n",
      "[Epoch 2/170] :\n"
     ]
    },
    {
     "name": "stderr",
     "output_type": "stream",
     "text": [
      "2 Train: 100%|███████| 391/391 [00:45<00:00,  8.58it/s]\n"
     ]
    },
    {
     "name": "stdout",
     "output_type": "stream",
     "text": [
      "Train Loss: 2.0268 | Train Acc: 23.89%\n",
      "Test  Loss: 2.0168 | Test Acc: 23.93%\n",
      "updated best eval loss : 2.016815063319629\n",
      "--------------------------------------------------\n",
      "[Epoch 3/170] :\n"
     ]
    },
    {
     "name": "stderr",
     "output_type": "stream",
     "text": [
      "3 Train: 100%|███████| 391/391 [00:46<00:00,  8.46it/s]\n"
     ]
    },
    {
     "name": "stdout",
     "output_type": "stream",
     "text": [
      "Train Loss: 1.6615 | Train Acc: 39.21%\n",
      "Test  Loss: 2.0925 | Test Acc: 33.68%\n",
      "--------------------------------------------------\n",
      "[Epoch 4/170] :\n"
     ]
    },
    {
     "name": "stderr",
     "output_type": "stream",
     "text": [
      "4 Train: 100%|███████| 391/391 [00:35<00:00, 11.03it/s]\n"
     ]
    },
    {
     "name": "stdout",
     "output_type": "stream",
     "text": [
      "Train Loss: 1.2924 | Train Acc: 54.15%\n",
      "Test  Loss: 1.3787 | Test Acc: 52.33%\n",
      "updated best eval loss : 1.3787231264235098\n",
      "--------------------------------------------------\n",
      "[Epoch 5/170] :\n"
     ]
    },
    {
     "name": "stderr",
     "output_type": "stream",
     "text": [
      "5 Train: 100%|███████| 391/391 [00:34<00:00, 11.24it/s]\n"
     ]
    },
    {
     "name": "stdout",
     "output_type": "stream",
     "text": [
      "Train Loss: 1.0865 | Train Acc: 61.81%\n",
      "Test  Loss: 1.9567 | Test Acc: 42.03%\n",
      "--------------------------------------------------\n",
      "[Epoch 6/170] :\n"
     ]
    },
    {
     "name": "stderr",
     "output_type": "stream",
     "text": [
      "6 Train: 100%|███████| 391/391 [00:33<00:00, 11.62it/s]\n"
     ]
    },
    {
     "name": "stdout",
     "output_type": "stream",
     "text": [
      "Train Loss: 0.9804 | Train Acc: 65.72%\n",
      "Test  Loss: 1.4186 | Test Acc: 54.76%\n",
      "--------------------------------------------------\n",
      "[Epoch 7/170] :\n"
     ]
    },
    {
     "name": "stderr",
     "output_type": "stream",
     "text": [
      "7 Train: 100%|███████| 391/391 [00:32<00:00, 12.21it/s]\n"
     ]
    },
    {
     "name": "stdout",
     "output_type": "stream",
     "text": [
      "Train Loss: 0.9106 | Train Acc: 68.22%\n",
      "Test  Loss: 1.8498 | Test Acc: 47.38%\n",
      "--------------------------------------------------\n",
      "[Epoch 8/170] :\n"
     ]
    },
    {
     "name": "stderr",
     "output_type": "stream",
     "text": [
      "8 Train: 100%|███████| 391/391 [00:32<00:00, 12.00it/s]\n"
     ]
    },
    {
     "name": "stdout",
     "output_type": "stream",
     "text": [
      "Train Loss: 0.8484 | Train Acc: 70.56%\n",
      "Test  Loss: 0.9311 | Test Acc: 68.36%\n",
      "updated best eval loss : 0.9310874825791468\n",
      "--------------------------------------------------\n",
      "[Epoch 9/170] :\n"
     ]
    },
    {
     "name": "stderr",
     "output_type": "stream",
     "text": [
      "9 Train: 100%|███████| 391/391 [00:34<00:00, 11.25it/s]\n"
     ]
    },
    {
     "name": "stdout",
     "output_type": "stream",
     "text": [
      "Train Loss: 0.8104 | Train Acc: 71.78%\n",
      "Test  Loss: 1.3588 | Test Acc: 57.01%\n",
      "--------------------------------------------------\n",
      "[Epoch 10/170] :\n"
     ]
    },
    {
     "name": "stderr",
     "output_type": "stream",
     "text": [
      "10 Train: 100%|██████| 391/391 [00:33<00:00, 11.65it/s]\n"
     ]
    },
    {
     "name": "stdout",
     "output_type": "stream",
     "text": [
      "Train Loss: 0.7740 | Train Acc: 73.13%\n",
      "Test  Loss: 1.1262 | Test Acc: 63.70%\n",
      "--------------------------------------------------\n",
      "[Epoch 11/170] :\n"
     ]
    },
    {
     "name": "stderr",
     "output_type": "stream",
     "text": [
      "11 Train: 100%|██████| 391/391 [00:33<00:00, 11.85it/s]\n"
     ]
    },
    {
     "name": "stdout",
     "output_type": "stream",
     "text": [
      "Train Loss: 0.7525 | Train Acc: 73.73%\n",
      "Test  Loss: 1.0131 | Test Acc: 66.52%\n",
      "--------------------------------------------------\n",
      "[Epoch 12/170] :\n"
     ]
    },
    {
     "name": "stderr",
     "output_type": "stream",
     "text": [
      "12 Train: 100%|██████| 391/391 [00:33<00:00, 11.78it/s]\n"
     ]
    },
    {
     "name": "stdout",
     "output_type": "stream",
     "text": [
      "Train Loss: 0.7250 | Train Acc: 74.83%\n",
      "Test  Loss: 1.6305 | Test Acc: 55.28%\n",
      "--------------------------------------------------\n",
      "[Epoch 13/170] :\n"
     ]
    },
    {
     "name": "stderr",
     "output_type": "stream",
     "text": [
      "13 Train: 100%|██████| 391/391 [00:33<00:00, 11.83it/s]\n"
     ]
    },
    {
     "name": "stdout",
     "output_type": "stream",
     "text": [
      "Train Loss: 0.7004 | Train Acc: 75.65%\n",
      "Test  Loss: 1.0730 | Test Acc: 65.78%\n",
      "--------------------------------------------------\n",
      "[Epoch 14/170] :\n"
     ]
    },
    {
     "name": "stderr",
     "output_type": "stream",
     "text": [
      "14 Train: 100%|██████| 391/391 [00:35<00:00, 10.91it/s]\n"
     ]
    },
    {
     "name": "stdout",
     "output_type": "stream",
     "text": [
      "Train Loss: 0.6854 | Train Acc: 76.02%\n",
      "Test  Loss: 0.9337 | Test Acc: 68.77%\n",
      "--------------------------------------------------\n",
      "[Epoch 15/170] :\n"
     ]
    },
    {
     "name": "stderr",
     "output_type": "stream",
     "text": [
      "15 Train: 100%|██████| 391/391 [00:48<00:00,  8.08it/s]\n"
     ]
    },
    {
     "name": "stdout",
     "output_type": "stream",
     "text": [
      "Train Loss: 0.6676 | Train Acc: 76.83%\n",
      "Test  Loss: 0.9890 | Test Acc: 66.95%\n",
      "--------------------------------------------------\n",
      "[Epoch 16/170] :\n"
     ]
    },
    {
     "name": "stderr",
     "output_type": "stream",
     "text": [
      "16 Train: 100%|██████| 391/391 [00:45<00:00,  8.67it/s]\n"
     ]
    },
    {
     "name": "stdout",
     "output_type": "stream",
     "text": [
      "Train Loss: 0.6507 | Train Acc: 77.67%\n",
      "Test  Loss: 1.0316 | Test Acc: 67.76%\n",
      "--------------------------------------------------\n",
      "[Epoch 17/170] :\n"
     ]
    },
    {
     "name": "stderr",
     "output_type": "stream",
     "text": [
      "17 Train: 100%|██████| 391/391 [00:48<00:00,  8.08it/s]\n"
     ]
    },
    {
     "name": "stdout",
     "output_type": "stream",
     "text": [
      "Train Loss: 0.6447 | Train Acc: 77.80%\n",
      "Test  Loss: 0.8529 | Test Acc: 71.45%\n",
      "updated best eval loss : 0.8529078251198877\n",
      "--------------------------------------------------\n",
      "[Epoch 18/170] :\n"
     ]
    },
    {
     "name": "stderr",
     "output_type": "stream",
     "text": [
      "18 Train: 100%|██████| 391/391 [00:46<00:00,  8.48it/s]\n"
     ]
    },
    {
     "name": "stdout",
     "output_type": "stream",
     "text": [
      "Train Loss: 0.6302 | Train Acc: 78.36%\n",
      "Test  Loss: 0.8800 | Test Acc: 70.95%\n",
      "--------------------------------------------------\n",
      "[Epoch 19/170] :\n"
     ]
    },
    {
     "name": "stderr",
     "output_type": "stream",
     "text": [
      "19 Train: 100%|██████| 391/391 [00:47<00:00,  8.21it/s]\n"
     ]
    },
    {
     "name": "stdout",
     "output_type": "stream",
     "text": [
      "Train Loss: 0.6202 | Train Acc: 78.44%\n",
      "Test  Loss: 0.6774 | Test Acc: 76.98%\n",
      "updated best eval loss : 0.6774449367311937\n",
      "--------------------------------------------------\n",
      "[Epoch 20/170] :\n"
     ]
    },
    {
     "name": "stderr",
     "output_type": "stream",
     "text": [
      "20 Train: 100%|██████| 391/391 [00:46<00:00,  8.41it/s]\n"
     ]
    },
    {
     "name": "stdout",
     "output_type": "stream",
     "text": [
      "Train Loss: 0.6118 | Train Acc: 78.83%\n",
      "Test  Loss: 0.7915 | Test Acc: 73.51%\n",
      "--------------------------------------------------\n",
      "[Epoch 21/170] :\n"
     ]
    },
    {
     "name": "stderr",
     "output_type": "stream",
     "text": [
      "21 Train: 100%|██████| 391/391 [00:47<00:00,  8.18it/s]\n"
     ]
    },
    {
     "name": "stdout",
     "output_type": "stream",
     "text": [
      "Train Loss: 0.6094 | Train Acc: 78.83%\n",
      "Test  Loss: 1.0809 | Test Acc: 66.44%\n",
      "--------------------------------------------------\n",
      "[Epoch 22/170] :\n"
     ]
    },
    {
     "name": "stderr",
     "output_type": "stream",
     "text": [
      "22 Train: 100%|██████| 391/391 [00:46<00:00,  8.46it/s]\n"
     ]
    },
    {
     "name": "stdout",
     "output_type": "stream",
     "text": [
      "Train Loss: 0.5900 | Train Acc: 79.53%\n",
      "Test  Loss: 0.7649 | Test Acc: 74.03%\n",
      "--------------------------------------------------\n",
      "[Epoch 23/170] :\n"
     ]
    },
    {
     "name": "stderr",
     "output_type": "stream",
     "text": [
      "23 Train: 100%|██████| 391/391 [00:48<00:00,  8.09it/s]\n"
     ]
    },
    {
     "name": "stdout",
     "output_type": "stream",
     "text": [
      "Train Loss: 0.5834 | Train Acc: 79.84%\n",
      "Test  Loss: 0.7804 | Test Acc: 72.65%\n",
      "--------------------------------------------------\n",
      "[Epoch 24/170] :\n"
     ]
    },
    {
     "name": "stderr",
     "output_type": "stream",
     "text": [
      "24 Train: 100%|██████| 391/391 [00:45<00:00,  8.64it/s]\n"
     ]
    },
    {
     "name": "stdout",
     "output_type": "stream",
     "text": [
      "Train Loss: 0.5844 | Train Acc: 79.73%\n",
      "Test  Loss: 0.7412 | Test Acc: 75.34%\n",
      "--------------------------------------------------\n",
      "[Epoch 25/170] :\n"
     ]
    },
    {
     "name": "stderr",
     "output_type": "stream",
     "text": [
      "25 Train: 100%|██████| 391/391 [00:48<00:00,  8.08it/s]\n"
     ]
    },
    {
     "name": "stdout",
     "output_type": "stream",
     "text": [
      "Train Loss: 0.5712 | Train Acc: 80.10%\n",
      "Test  Loss: 1.1093 | Test Acc: 65.15%\n",
      "--------------------------------------------------\n",
      "[Epoch 26/170] :\n"
     ]
    },
    {
     "name": "stderr",
     "output_type": "stream",
     "text": [
      "26 Train: 100%|██████| 391/391 [00:47<00:00,  8.26it/s]\n"
     ]
    },
    {
     "name": "stdout",
     "output_type": "stream",
     "text": [
      "Train Loss: 0.5637 | Train Acc: 80.42%\n",
      "Test  Loss: 0.8026 | Test Acc: 72.95%\n",
      "--------------------------------------------------\n",
      "[Epoch 27/170] :\n"
     ]
    },
    {
     "name": "stderr",
     "output_type": "stream",
     "text": [
      "27 Train: 100%|██████| 391/391 [00:48<00:00,  8.11it/s]\n"
     ]
    },
    {
     "name": "stdout",
     "output_type": "stream",
     "text": [
      "Train Loss: 0.5519 | Train Acc: 80.84%\n",
      "Test  Loss: 0.7889 | Test Acc: 73.54%\n",
      "--------------------------------------------------\n",
      "[Epoch 28/170] :\n"
     ]
    },
    {
     "name": "stderr",
     "output_type": "stream",
     "text": [
      "28 Train: 100%|██████| 391/391 [00:46<00:00,  8.49it/s]\n"
     ]
    },
    {
     "name": "stdout",
     "output_type": "stream",
     "text": [
      "Train Loss: 0.5512 | Train Acc: 80.95%\n",
      "Test  Loss: 0.8902 | Test Acc: 70.70%\n",
      "--------------------------------------------------\n",
      "[Epoch 29/170] :\n"
     ]
    },
    {
     "name": "stderr",
     "output_type": "stream",
     "text": [
      "29 Train: 100%|██████| 391/391 [00:48<00:00,  8.06it/s]\n"
     ]
    },
    {
     "name": "stdout",
     "output_type": "stream",
     "text": [
      "Train Loss: 0.5477 | Train Acc: 80.73%\n",
      "Test  Loss: 0.6763 | Test Acc: 77.00%\n",
      "updated best eval loss : 0.6762995146497895\n",
      "--------------------------------------------------\n",
      "[Epoch 30/170] :\n"
     ]
    },
    {
     "name": "stderr",
     "output_type": "stream",
     "text": [
      "30 Train: 100%|██████| 391/391 [00:46<00:00,  8.48it/s]\n"
     ]
    },
    {
     "name": "stdout",
     "output_type": "stream",
     "text": [
      "Train Loss: 0.5509 | Train Acc: 80.70%\n",
      "Test  Loss: 1.0020 | Test Acc: 67.09%\n",
      "--------------------------------------------------\n",
      "[Epoch 31/170] :\n"
     ]
    },
    {
     "name": "stderr",
     "output_type": "stream",
     "text": [
      "31 Train: 100%|██████| 391/391 [00:47<00:00,  8.19it/s]\n"
     ]
    },
    {
     "name": "stdout",
     "output_type": "stream",
     "text": [
      "Train Loss: 0.5353 | Train Acc: 81.38%\n",
      "Test  Loss: 0.8557 | Test Acc: 72.00%\n",
      "--------------------------------------------------\n",
      "[Epoch 32/170] :\n"
     ]
    },
    {
     "name": "stderr",
     "output_type": "stream",
     "text": [
      "32 Train: 100%|██████| 391/391 [00:46<00:00,  8.37it/s]\n"
     ]
    },
    {
     "name": "stdout",
     "output_type": "stream",
     "text": [
      "Train Loss: 0.5322 | Train Acc: 81.47%\n",
      "Test  Loss: 0.9136 | Test Acc: 70.62%\n",
      "--------------------------------------------------\n",
      "[Epoch 33/170] :\n"
     ]
    },
    {
     "name": "stderr",
     "output_type": "stream",
     "text": [
      "33 Train: 100%|██████| 391/391 [00:48<00:00,  8.13it/s]\n"
     ]
    },
    {
     "name": "stdout",
     "output_type": "stream",
     "text": [
      "Train Loss: 0.5332 | Train Acc: 81.42%\n",
      "Test  Loss: 0.7095 | Test Acc: 75.60%\n",
      "--------------------------------------------------\n",
      "[Epoch 34/170] :\n"
     ]
    },
    {
     "name": "stderr",
     "output_type": "stream",
     "text": [
      "34 Train: 100%|██████| 391/391 [00:46<00:00,  8.40it/s]\n"
     ]
    },
    {
     "name": "stdout",
     "output_type": "stream",
     "text": [
      "Train Loss: 0.5252 | Train Acc: 81.60%\n",
      "Test  Loss: 0.6388 | Test Acc: 78.66%\n",
      "updated best eval loss : 0.6387961174868331\n",
      "--------------------------------------------------\n",
      "[Epoch 35/170] :\n"
     ]
    },
    {
     "name": "stderr",
     "output_type": "stream",
     "text": [
      "35 Train: 100%|██████| 391/391 [00:47<00:00,  8.16it/s]\n"
     ]
    },
    {
     "name": "stdout",
     "output_type": "stream",
     "text": [
      "Train Loss: 0.5261 | Train Acc: 81.65%\n",
      "Test  Loss: 0.8984 | Test Acc: 70.26%\n",
      "--------------------------------------------------\n",
      "[Epoch 36/170] :\n"
     ]
    },
    {
     "name": "stderr",
     "output_type": "stream",
     "text": [
      "36 Train: 100%|██████| 391/391 [00:45<00:00,  8.54it/s]\n"
     ]
    },
    {
     "name": "stdout",
     "output_type": "stream",
     "text": [
      "Train Loss: 0.5219 | Train Acc: 81.83%\n",
      "Test  Loss: 1.2490 | Test Acc: 63.51%\n",
      "--------------------------------------------------\n",
      "[Epoch 37/170] :\n"
     ]
    },
    {
     "name": "stderr",
     "output_type": "stream",
     "text": [
      "37 Train: 100%|██████| 391/391 [00:46<00:00,  8.33it/s]\n"
     ]
    },
    {
     "name": "stdout",
     "output_type": "stream",
     "text": [
      "Train Loss: 0.5176 | Train Acc: 82.00%\n",
      "Test  Loss: 0.9026 | Test Acc: 69.63%\n",
      "--------------------------------------------------\n",
      "[Epoch 38/170] :\n"
     ]
    },
    {
     "name": "stderr",
     "output_type": "stream",
     "text": [
      "38 Train: 100%|██████| 391/391 [00:48<00:00,  8.10it/s]\n"
     ]
    },
    {
     "name": "stdout",
     "output_type": "stream",
     "text": [
      "Train Loss: 0.5056 | Train Acc: 82.50%\n",
      "Test  Loss: 0.6877 | Test Acc: 76.70%\n",
      "--------------------------------------------------\n",
      "[Epoch 39/170] :\n"
     ]
    },
    {
     "name": "stderr",
     "output_type": "stream",
     "text": [
      "39 Train: 100%|██████| 391/391 [00:46<00:00,  8.33it/s]\n"
     ]
    },
    {
     "name": "stdout",
     "output_type": "stream",
     "text": [
      "Train Loss: 0.5062 | Train Acc: 82.45%\n",
      "Test  Loss: 0.9946 | Test Acc: 67.38%\n",
      "--------------------------------------------------\n",
      "[Epoch 40/170] :\n"
     ]
    },
    {
     "name": "stderr",
     "output_type": "stream",
     "text": [
      "40 Train: 100%|██████| 391/391 [00:46<00:00,  8.39it/s]\n"
     ]
    },
    {
     "name": "stdout",
     "output_type": "stream",
     "text": [
      "Train Loss: 0.4992 | Train Acc: 82.76%\n",
      "Test  Loss: 0.6751 | Test Acc: 77.25%\n",
      "--------------------------------------------------\n",
      "[Epoch 41/170] :\n"
     ]
    },
    {
     "name": "stderr",
     "output_type": "stream",
     "text": [
      "41 Train: 100%|██████| 391/391 [00:45<00:00,  8.55it/s]\n"
     ]
    },
    {
     "name": "stdout",
     "output_type": "stream",
     "text": [
      "Train Loss: 0.5004 | Train Acc: 82.66%\n",
      "Test  Loss: 0.6854 | Test Acc: 77.05%\n",
      "--------------------------------------------------\n",
      "[Epoch 42/170] :\n"
     ]
    },
    {
     "name": "stderr",
     "output_type": "stream",
     "text": [
      "42 Train: 100%|██████| 391/391 [00:45<00:00,  8.57it/s]\n"
     ]
    },
    {
     "name": "stdout",
     "output_type": "stream",
     "text": [
      "Train Loss: 0.4964 | Train Acc: 82.84%\n",
      "Test  Loss: 0.6407 | Test Acc: 78.44%\n",
      "--------------------------------------------------\n",
      "[Epoch 43/170] :\n"
     ]
    },
    {
     "name": "stderr",
     "output_type": "stream",
     "text": [
      "43 Train: 100%|██████| 391/391 [00:47<00:00,  8.22it/s]\n"
     ]
    },
    {
     "name": "stdout",
     "output_type": "stream",
     "text": [
      "Train Loss: 0.4974 | Train Acc: 82.74%\n",
      "Test  Loss: 0.6835 | Test Acc: 77.30%\n",
      "--------------------------------------------------\n",
      "[Epoch 44/170] :\n"
     ]
    },
    {
     "name": "stderr",
     "output_type": "stream",
     "text": [
      "44 Train: 100%|██████| 391/391 [00:47<00:00,  8.27it/s]\n"
     ]
    },
    {
     "name": "stdout",
     "output_type": "stream",
     "text": [
      "Train Loss: 0.4891 | Train Acc: 83.14%\n",
      "Test  Loss: 0.7062 | Test Acc: 76.15%\n",
      "--------------------------------------------------\n",
      "[Epoch 45/170] :\n"
     ]
    },
    {
     "name": "stderr",
     "output_type": "stream",
     "text": [
      "45 Train: 100%|██████| 391/391 [00:45<00:00,  8.55it/s]\n"
     ]
    },
    {
     "name": "stdout",
     "output_type": "stream",
     "text": [
      "Train Loss: 0.4949 | Train Acc: 82.71%\n",
      "Test  Loss: 0.6451 | Test Acc: 79.28%\n",
      "--------------------------------------------------\n",
      "[Epoch 46/170] :\n"
     ]
    },
    {
     "name": "stderr",
     "output_type": "stream",
     "text": [
      "46 Train: 100%|██████| 391/391 [00:46<00:00,  8.38it/s]\n"
     ]
    },
    {
     "name": "stdout",
     "output_type": "stream",
     "text": [
      "Train Loss: 0.4870 | Train Acc: 83.09%\n",
      "Test  Loss: 0.7247 | Test Acc: 75.11%\n",
      "--------------------------------------------------\n",
      "[Epoch 47/170] :\n"
     ]
    },
    {
     "name": "stderr",
     "output_type": "stream",
     "text": [
      "47 Train: 100%|██████| 391/391 [00:46<00:00,  8.49it/s]\n"
     ]
    },
    {
     "name": "stdout",
     "output_type": "stream",
     "text": [
      "Train Loss: 0.4836 | Train Acc: 82.95%\n",
      "Test  Loss: 0.6046 | Test Acc: 79.59%\n",
      "updated best eval loss : 0.6045915314668342\n",
      "--------------------------------------------------\n",
      "[Epoch 48/170] :\n"
     ]
    },
    {
     "name": "stderr",
     "output_type": "stream",
     "text": [
      "48 Train: 100%|██████| 391/391 [00:47<00:00,  8.16it/s]\n"
     ]
    },
    {
     "name": "stdout",
     "output_type": "stream",
     "text": [
      "Train Loss: 0.4771 | Train Acc: 83.26%\n",
      "Test  Loss: 0.8418 | Test Acc: 71.55%\n",
      "--------------------------------------------------\n",
      "[Epoch 49/170] :\n"
     ]
    },
    {
     "name": "stderr",
     "output_type": "stream",
     "text": [
      "49 Train: 100%|██████| 391/391 [00:46<00:00,  8.36it/s]\n"
     ]
    },
    {
     "name": "stdout",
     "output_type": "stream",
     "text": [
      "Train Loss: 0.4762 | Train Acc: 83.36%\n",
      "Test  Loss: 0.9756 | Test Acc: 70.22%\n",
      "--------------------------------------------------\n",
      "[Epoch 50/170] :\n"
     ]
    },
    {
     "name": "stderr",
     "output_type": "stream",
     "text": [
      "50 Train: 100%|██████| 391/391 [00:46<00:00,  8.33it/s]\n"
     ]
    },
    {
     "name": "stdout",
     "output_type": "stream",
     "text": [
      "Train Loss: 0.4757 | Train Acc: 83.42%\n",
      "Test  Loss: 0.7987 | Test Acc: 73.47%\n",
      "--------------------------------------------------\n",
      "[Epoch 51/170] :\n"
     ]
    },
    {
     "name": "stderr",
     "output_type": "stream",
     "text": [
      "51 Train: 100%|██████| 391/391 [00:46<00:00,  8.40it/s]\n"
     ]
    },
    {
     "name": "stdout",
     "output_type": "stream",
     "text": [
      "Train Loss: 0.4790 | Train Acc: 83.22%\n",
      "Test  Loss: 0.6191 | Test Acc: 80.34%\n",
      "--------------------------------------------------\n",
      "[Epoch 52/170] :\n"
     ]
    },
    {
     "name": "stderr",
     "output_type": "stream",
     "text": [
      "52 Train: 100%|██████| 391/391 [00:46<00:00,  8.42it/s]\n"
     ]
    },
    {
     "name": "stdout",
     "output_type": "stream",
     "text": [
      "Train Loss: 0.4712 | Train Acc: 83.37%\n",
      "Test  Loss: 0.8688 | Test Acc: 72.34%\n",
      "--------------------------------------------------\n",
      "[Epoch 53/170] :\n"
     ]
    },
    {
     "name": "stderr",
     "output_type": "stream",
     "text": [
      "53 Train: 100%|██████| 391/391 [00:45<00:00,  8.59it/s]\n"
     ]
    },
    {
     "name": "stdout",
     "output_type": "stream",
     "text": [
      "Train Loss: 0.4681 | Train Acc: 83.66%\n",
      "Test  Loss: 0.8836 | Test Acc: 72.52%\n",
      "--------------------------------------------------\n",
      "[Epoch 54/170] :\n"
     ]
    },
    {
     "name": "stderr",
     "output_type": "stream",
     "text": [
      "54 Train: 100%|██████| 391/391 [00:46<00:00,  8.37it/s]\n"
     ]
    },
    {
     "name": "stdout",
     "output_type": "stream",
     "text": [
      "Train Loss: 0.4712 | Train Acc: 83.60%\n",
      "Test  Loss: 0.8455 | Test Acc: 72.96%\n",
      "--------------------------------------------------\n",
      "[Epoch 55/170] :\n"
     ]
    },
    {
     "name": "stderr",
     "output_type": "stream",
     "text": [
      "55 Train: 100%|██████| 391/391 [00:46<00:00,  8.48it/s]\n"
     ]
    },
    {
     "name": "stdout",
     "output_type": "stream",
     "text": [
      "Train Loss: 0.4664 | Train Acc: 83.91%\n",
      "Test  Loss: 0.6164 | Test Acc: 79.94%\n",
      "--------------------------------------------------\n",
      "[Epoch 56/170] :\n"
     ]
    },
    {
     "name": "stderr",
     "output_type": "stream",
     "text": [
      "56 Train: 100%|██████| 391/391 [00:47<00:00,  8.27it/s]\n"
     ]
    },
    {
     "name": "stdout",
     "output_type": "stream",
     "text": [
      "Train Loss: 0.4676 | Train Acc: 83.81%\n",
      "Test  Loss: 0.6101 | Test Acc: 79.35%\n",
      "--------------------------------------------------\n",
      "[Epoch 57/170] :\n"
     ]
    },
    {
     "name": "stderr",
     "output_type": "stream",
     "text": [
      "57 Train: 100%|██████| 391/391 [00:47<00:00,  8.30it/s]\n"
     ]
    },
    {
     "name": "stdout",
     "output_type": "stream",
     "text": [
      "Train Loss: 0.4668 | Train Acc: 83.74%\n",
      "Test  Loss: 0.6977 | Test Acc: 76.53%\n",
      "--------------------------------------------------\n",
      "[Epoch 58/170] :\n"
     ]
    },
    {
     "name": "stderr",
     "output_type": "stream",
     "text": [
      "58 Train: 100%|██████| 391/391 [00:47<00:00,  8.25it/s]\n"
     ]
    },
    {
     "name": "stdout",
     "output_type": "stream",
     "text": [
      "Train Loss: 0.4602 | Train Acc: 84.03%\n",
      "Test  Loss: 0.6671 | Test Acc: 78.09%\n",
      "--------------------------------------------------\n",
      "[Epoch 59/170] :\n"
     ]
    },
    {
     "name": "stderr",
     "output_type": "stream",
     "text": [
      "59 Train: 100%|██████| 391/391 [00:47<00:00,  8.17it/s]\n"
     ]
    },
    {
     "name": "stdout",
     "output_type": "stream",
     "text": [
      "Train Loss: 0.4576 | Train Acc: 84.14%\n",
      "Test  Loss: 0.9443 | Test Acc: 69.12%\n",
      "--------------------------------------------------\n",
      "[Epoch 60/170] :\n"
     ]
    },
    {
     "name": "stderr",
     "output_type": "stream",
     "text": [
      "60 Train: 100%|██████| 391/391 [00:46<00:00,  8.49it/s]\n"
     ]
    },
    {
     "name": "stdout",
     "output_type": "stream",
     "text": [
      "Train Loss: 0.4570 | Train Acc: 84.05%\n",
      "Test  Loss: 0.6514 | Test Acc: 78.04%\n",
      "--------------------------------------------------\n",
      "[Epoch 61/170] :\n"
     ]
    },
    {
     "name": "stderr",
     "output_type": "stream",
     "text": [
      "61 Train: 100%|██████| 391/391 [00:46<00:00,  8.38it/s]\n"
     ]
    },
    {
     "name": "stdout",
     "output_type": "stream",
     "text": [
      "Train Loss: 0.4550 | Train Acc: 84.22%\n",
      "Test  Loss: 0.5572 | Test Acc: 81.69%\n",
      "updated best eval loss : 0.5571726127704487\n",
      "--------------------------------------------------\n",
      "[Epoch 62/170] :\n"
     ]
    },
    {
     "name": "stderr",
     "output_type": "stream",
     "text": [
      "62 Train: 100%|██████| 391/391 [00:46<00:00,  8.46it/s]\n"
     ]
    },
    {
     "name": "stdout",
     "output_type": "stream",
     "text": [
      "Train Loss: 0.4451 | Train Acc: 84.49%\n",
      "Test  Loss: 0.5351 | Test Acc: 82.20%\n",
      "updated best eval loss : 0.5351367921014375\n",
      "--------------------------------------------------\n",
      "[Epoch 63/170] :\n"
     ]
    },
    {
     "name": "stderr",
     "output_type": "stream",
     "text": [
      "63 Train: 100%|██████| 391/391 [00:47<00:00,  8.29it/s]\n"
     ]
    },
    {
     "name": "stdout",
     "output_type": "stream",
     "text": [
      "Train Loss: 0.4552 | Train Acc: 84.20%\n",
      "Test  Loss: 1.2369 | Test Acc: 62.59%\n",
      "--------------------------------------------------\n",
      "[Epoch 64/170] :\n"
     ]
    },
    {
     "name": "stderr",
     "output_type": "stream",
     "text": [
      "64 Train: 100%|██████| 391/391 [00:46<00:00,  8.45it/s]\n"
     ]
    },
    {
     "name": "stdout",
     "output_type": "stream",
     "text": [
      "Train Loss: 0.4557 | Train Acc: 84.24%\n",
      "Test  Loss: 0.6596 | Test Acc: 78.69%\n",
      "--------------------------------------------------\n",
      "[Epoch 65/170] :\n"
     ]
    },
    {
     "name": "stderr",
     "output_type": "stream",
     "text": [
      "65 Train: 100%|██████| 391/391 [00:47<00:00,  8.20it/s]\n"
     ]
    },
    {
     "name": "stdout",
     "output_type": "stream",
     "text": [
      "Train Loss: 0.4507 | Train Acc: 84.29%\n",
      "Test  Loss: 0.6632 | Test Acc: 77.87%\n",
      "--------------------------------------------------\n",
      "[Epoch 66/170] :\n"
     ]
    },
    {
     "name": "stderr",
     "output_type": "stream",
     "text": [
      "66 Train: 100%|██████| 391/391 [00:46<00:00,  8.35it/s]\n"
     ]
    },
    {
     "name": "stdout",
     "output_type": "stream",
     "text": [
      "Train Loss: 0.4521 | Train Acc: 84.08%\n",
      "Test  Loss: 0.7032 | Test Acc: 76.90%\n",
      "--------------------------------------------------\n",
      "[Epoch 67/170] :\n"
     ]
    },
    {
     "name": "stderr",
     "output_type": "stream",
     "text": [
      "67 Train: 100%|██████| 391/391 [00:48<00:00,  8.14it/s]\n"
     ]
    },
    {
     "name": "stdout",
     "output_type": "stream",
     "text": [
      "Train Loss: 0.4460 | Train Acc: 84.50%\n",
      "Test  Loss: 0.8410 | Test Acc: 72.69%\n",
      "--------------------------------------------------\n",
      "[Epoch 68/170] :\n"
     ]
    },
    {
     "name": "stderr",
     "output_type": "stream",
     "text": [
      "68 Train: 100%|██████| 391/391 [00:45<00:00,  8.54it/s]\n"
     ]
    },
    {
     "name": "stdout",
     "output_type": "stream",
     "text": [
      "Train Loss: 0.4447 | Train Acc: 84.38%\n",
      "Test  Loss: 0.6715 | Test Acc: 77.20%\n",
      "--------------------------------------------------\n",
      "[Epoch 69/170] :\n"
     ]
    },
    {
     "name": "stderr",
     "output_type": "stream",
     "text": [
      "69 Train: 100%|██████| 391/391 [00:47<00:00,  8.19it/s]\n"
     ]
    },
    {
     "name": "stdout",
     "output_type": "stream",
     "text": [
      "Train Loss: 0.4373 | Train Acc: 84.77%\n",
      "Test  Loss: 0.7803 | Test Acc: 74.49%\n",
      "--------------------------------------------------\n",
      "[Epoch 70/170] :\n"
     ]
    },
    {
     "name": "stderr",
     "output_type": "stream",
     "text": [
      "70 Train: 100%|██████| 391/391 [00:46<00:00,  8.49it/s]\n"
     ]
    },
    {
     "name": "stdout",
     "output_type": "stream",
     "text": [
      "Train Loss: 0.4388 | Train Acc: 84.76%\n",
      "Test  Loss: 0.9450 | Test Acc: 69.53%\n",
      "--------------------------------------------------\n",
      "[Epoch 71/170] :\n"
     ]
    },
    {
     "name": "stderr",
     "output_type": "stream",
     "text": [
      "71 Train: 100%|██████| 391/391 [00:48<00:00,  8.03it/s]\n"
     ]
    },
    {
     "name": "stdout",
     "output_type": "stream",
     "text": [
      "Train Loss: 0.4383 | Train Acc: 84.70%\n",
      "Test  Loss: 0.7357 | Test Acc: 76.31%\n",
      "--------------------------------------------------\n",
      "[Epoch 72/170] :\n"
     ]
    },
    {
     "name": "stderr",
     "output_type": "stream",
     "text": [
      "72 Train: 100%|██████| 391/391 [00:45<00:00,  8.61it/s]\n"
     ]
    },
    {
     "name": "stdout",
     "output_type": "stream",
     "text": [
      "Train Loss: 0.4386 | Train Acc: 84.77%\n",
      "Test  Loss: 0.7844 | Test Acc: 74.53%\n",
      "--------------------------------------------------\n",
      "[Epoch 73/170] :\n"
     ]
    },
    {
     "name": "stderr",
     "output_type": "stream",
     "text": [
      "73 Train: 100%|██████| 391/391 [00:48<00:00,  8.14it/s]\n"
     ]
    },
    {
     "name": "stdout",
     "output_type": "stream",
     "text": [
      "Train Loss: 0.4356 | Train Acc: 84.91%\n",
      "Test  Loss: 0.5907 | Test Acc: 80.34%\n",
      "--------------------------------------------------\n",
      "[Epoch 74/170] :\n"
     ]
    },
    {
     "name": "stderr",
     "output_type": "stream",
     "text": [
      "74 Train: 100%|██████| 391/391 [00:45<00:00,  8.57it/s]\n"
     ]
    },
    {
     "name": "stdout",
     "output_type": "stream",
     "text": [
      "Train Loss: 0.4389 | Train Acc: 84.81%\n",
      "Test  Loss: 0.9874 | Test Acc: 67.13%\n",
      "--------------------------------------------------\n",
      "[Epoch 75/170] :\n"
     ]
    },
    {
     "name": "stderr",
     "output_type": "stream",
     "text": [
      "75 Train: 100%|██████| 391/391 [00:46<00:00,  8.35it/s]\n"
     ]
    },
    {
     "name": "stdout",
     "output_type": "stream",
     "text": [
      "Train Loss: 0.4292 | Train Acc: 85.18%\n",
      "Test  Loss: 0.7125 | Test Acc: 75.75%\n",
      "--------------------------------------------------\n",
      "[Epoch 76/170] :\n"
     ]
    },
    {
     "name": "stderr",
     "output_type": "stream",
     "text": [
      "76 Train: 100%|██████| 391/391 [00:46<00:00,  8.37it/s]\n"
     ]
    },
    {
     "name": "stdout",
     "output_type": "stream",
     "text": [
      "Train Loss: 0.4318 | Train Acc: 85.03%\n",
      "Test  Loss: 0.8924 | Test Acc: 72.10%\n",
      "--------------------------------------------------\n",
      "[Epoch 77/170] :\n"
     ]
    },
    {
     "name": "stderr",
     "output_type": "stream",
     "text": [
      "77 Train: 100%|██████| 391/391 [00:47<00:00,  8.15it/s]\n"
     ]
    },
    {
     "name": "stdout",
     "output_type": "stream",
     "text": [
      "Train Loss: 0.4309 | Train Acc: 85.07%\n",
      "Test  Loss: 1.0319 | Test Acc: 69.15%\n",
      "--------------------------------------------------\n",
      "[Epoch 78/170] :\n"
     ]
    },
    {
     "name": "stderr",
     "output_type": "stream",
     "text": [
      "78 Train: 100%|██████| 391/391 [00:47<00:00,  8.21it/s]\n"
     ]
    },
    {
     "name": "stdout",
     "output_type": "stream",
     "text": [
      "Train Loss: 0.4301 | Train Acc: 84.87%\n",
      "Test  Loss: 1.0633 | Test Acc: 66.69%\n",
      "--------------------------------------------------\n",
      "[Epoch 79/170] :\n"
     ]
    },
    {
     "name": "stderr",
     "output_type": "stream",
     "text": [
      "79 Train: 100%|██████| 391/391 [00:47<00:00,  8.24it/s]\n"
     ]
    },
    {
     "name": "stdout",
     "output_type": "stream",
     "text": [
      "Train Loss: 0.4261 | Train Acc: 85.22%\n",
      "Test  Loss: 0.7140 | Test Acc: 75.38%\n",
      "--------------------------------------------------\n",
      "[Epoch 80/170] :\n"
     ]
    },
    {
     "name": "stderr",
     "output_type": "stream",
     "text": [
      "80 Train: 100%|██████| 391/391 [00:46<00:00,  8.34it/s]\n"
     ]
    },
    {
     "name": "stdout",
     "output_type": "stream",
     "text": [
      "Train Loss: 0.4338 | Train Acc: 84.86%\n",
      "Test  Loss: 0.6736 | Test Acc: 77.78%\n",
      "--------------------------------------------------\n",
      "[Epoch 81/170] :\n"
     ]
    },
    {
     "name": "stderr",
     "output_type": "stream",
     "text": [
      "81 Train: 100%|██████| 391/391 [00:47<00:00,  8.25it/s]\n"
     ]
    },
    {
     "name": "stdout",
     "output_type": "stream",
     "text": [
      "Train Loss: 0.4290 | Train Acc: 85.41%\n",
      "Test  Loss: 0.8380 | Test Acc: 73.72%\n",
      "--------------------------------------------------\n",
      "[Epoch 82/170] :\n"
     ]
    },
    {
     "name": "stderr",
     "output_type": "stream",
     "text": [
      "82 Train: 100%|██████| 391/391 [00:47<00:00,  8.27it/s]\n"
     ]
    },
    {
     "name": "stdout",
     "output_type": "stream",
     "text": [
      "Train Loss: 0.4205 | Train Acc: 85.35%\n",
      "Test  Loss: 0.6263 | Test Acc: 79.79%\n",
      "Learning Rate has changed : Now is 0.010000000000000002\n",
      "--------------------------------------------------\n",
      "[Epoch 83/170] :\n"
     ]
    },
    {
     "name": "stderr",
     "output_type": "stream",
     "text": [
      "83 Train: 100%|██████| 391/391 [00:47<00:00,  8.18it/s]\n"
     ]
    },
    {
     "name": "stdout",
     "output_type": "stream",
     "text": [
      "Train Loss: 0.3350 | Train Acc: 88.39%\n",
      "Test  Loss: 0.4631 | Test Acc: 84.04%\n",
      "updated best eval loss : 0.46312285186369206\n",
      "--------------------------------------------------\n",
      "[Epoch 84/170] :\n"
     ]
    },
    {
     "name": "stderr",
     "output_type": "stream",
     "text": [
      "84 Train: 100%|██████| 391/391 [00:47<00:00,  8.26it/s]\n"
     ]
    },
    {
     "name": "stdout",
     "output_type": "stream",
     "text": [
      "Train Loss: 0.2999 | Train Acc: 89.57%\n",
      "Test  Loss: 0.4966 | Test Acc: 82.90%\n",
      "--------------------------------------------------\n",
      "[Epoch 85/170] :\n"
     ]
    },
    {
     "name": "stderr",
     "output_type": "stream",
     "text": [
      "85 Train: 100%|██████| 391/391 [00:47<00:00,  8.15it/s]\n"
     ]
    },
    {
     "name": "stdout",
     "output_type": "stream",
     "text": [
      "Train Loss: 0.2914 | Train Acc: 89.85%\n",
      "Test  Loss: 0.5402 | Test Acc: 81.54%\n",
      "--------------------------------------------------\n",
      "[Epoch 86/170] :\n"
     ]
    },
    {
     "name": "stderr",
     "output_type": "stream",
     "text": [
      "86 Train: 100%|██████| 391/391 [00:47<00:00,  8.25it/s]\n"
     ]
    },
    {
     "name": "stdout",
     "output_type": "stream",
     "text": [
      "Train Loss: 0.2817 | Train Acc: 90.02%\n",
      "Test  Loss: 0.5107 | Test Acc: 82.61%\n",
      "--------------------------------------------------\n",
      "[Epoch 87/170] :\n"
     ]
    },
    {
     "name": "stderr",
     "output_type": "stream",
     "text": [
      "87 Train: 100%|██████| 391/391 [00:46<00:00,  8.39it/s]\n"
     ]
    },
    {
     "name": "stdout",
     "output_type": "stream",
     "text": [
      "Train Loss: 0.2748 | Train Acc: 90.39%\n",
      "Test  Loss: 0.5155 | Test Acc: 82.99%\n",
      "--------------------------------------------------\n",
      "[Epoch 88/170] :\n"
     ]
    },
    {
     "name": "stderr",
     "output_type": "stream",
     "text": [
      "88 Train: 100%|██████| 391/391 [00:48<00:00,  8.08it/s]\n"
     ]
    },
    {
     "name": "stdout",
     "output_type": "stream",
     "text": [
      "Train Loss: 0.2686 | Train Acc: 90.54%\n",
      "Test  Loss: 0.4867 | Test Acc: 83.68%\n",
      "--------------------------------------------------\n",
      "[Epoch 89/170] :\n"
     ]
    },
    {
     "name": "stderr",
     "output_type": "stream",
     "text": [
      "89 Train: 100%|██████| 391/391 [00:46<00:00,  8.36it/s]\n"
     ]
    },
    {
     "name": "stdout",
     "output_type": "stream",
     "text": [
      "Train Loss: 0.2628 | Train Acc: 90.77%\n",
      "Test  Loss: 0.5322 | Test Acc: 82.02%\n",
      "--------------------------------------------------\n",
      "[Epoch 90/170] :\n"
     ]
    },
    {
     "name": "stderr",
     "output_type": "stream",
     "text": [
      "90 Train: 100%|██████| 391/391 [00:47<00:00,  8.25it/s]\n"
     ]
    },
    {
     "name": "stdout",
     "output_type": "stream",
     "text": [
      "Train Loss: 0.2580 | Train Acc: 90.95%\n",
      "Test  Loss: 0.5244 | Test Acc: 82.53%\n",
      "--------------------------------------------------\n",
      "[Epoch 91/170] :\n"
     ]
    },
    {
     "name": "stderr",
     "output_type": "stream",
     "text": [
      "91 Train: 100%|██████| 391/391 [00:46<00:00,  8.44it/s]\n"
     ]
    },
    {
     "name": "stdout",
     "output_type": "stream",
     "text": [
      "Train Loss: 0.2554 | Train Acc: 91.12%\n",
      "Test  Loss: 0.4764 | Test Acc: 84.27%\n",
      "--------------------------------------------------\n",
      "[Epoch 92/170] :\n"
     ]
    },
    {
     "name": "stderr",
     "output_type": "stream",
     "text": [
      "92 Train: 100%|██████| 391/391 [00:45<00:00,  8.53it/s]\n"
     ]
    },
    {
     "name": "stdout",
     "output_type": "stream",
     "text": [
      "Train Loss: 0.2588 | Train Acc: 90.99%\n",
      "Test  Loss: 0.5905 | Test Acc: 80.14%\n",
      "--------------------------------------------------\n",
      "[Epoch 93/170] :\n"
     ]
    },
    {
     "name": "stderr",
     "output_type": "stream",
     "text": [
      "93 Train: 100%|██████| 391/391 [00:38<00:00, 10.14it/s]\n"
     ]
    },
    {
     "name": "stdout",
     "output_type": "stream",
     "text": [
      "Train Loss: 0.2564 | Train Acc: 91.11%\n",
      "Test  Loss: 0.5608 | Test Acc: 81.65%\n",
      "--------------------------------------------------\n",
      "[Epoch 94/170] :\n"
     ]
    },
    {
     "name": "stderr",
     "output_type": "stream",
     "text": [
      "94 Train: 100%|██████| 391/391 [00:38<00:00, 10.03it/s]\n"
     ]
    },
    {
     "name": "stdout",
     "output_type": "stream",
     "text": [
      "Train Loss: 0.2474 | Train Acc: 91.34%\n",
      "Test  Loss: 0.5239 | Test Acc: 82.69%\n",
      "--------------------------------------------------\n",
      "[Epoch 95/170] :\n"
     ]
    },
    {
     "name": "stderr",
     "output_type": "stream",
     "text": [
      "95 Train: 100%|██████| 391/391 [00:32<00:00, 12.05it/s]\n"
     ]
    },
    {
     "name": "stdout",
     "output_type": "stream",
     "text": [
      "Train Loss: 0.2515 | Train Acc: 91.21%\n",
      "Test  Loss: 0.5489 | Test Acc: 81.68%\n",
      "--------------------------------------------------\n",
      "[Epoch 96/170] :\n"
     ]
    },
    {
     "name": "stderr",
     "output_type": "stream",
     "text": [
      "96 Train: 100%|██████| 391/391 [00:21<00:00, 18.31it/s]\n"
     ]
    },
    {
     "name": "stdout",
     "output_type": "stream",
     "text": [
      "Train Loss: 0.2448 | Train Acc: 91.43%\n",
      "Test  Loss: 0.5649 | Test Acc: 81.40%\n",
      "--------------------------------------------------\n",
      "[Epoch 97/170] :\n"
     ]
    },
    {
     "name": "stderr",
     "output_type": "stream",
     "text": [
      "97 Train: 100%|██████| 391/391 [00:19<00:00, 19.93it/s]\n"
     ]
    },
    {
     "name": "stdout",
     "output_type": "stream",
     "text": [
      "Train Loss: 0.2450 | Train Acc: 91.44%\n",
      "Test  Loss: 0.5251 | Test Acc: 82.71%\n",
      "--------------------------------------------------\n",
      "[Epoch 98/170] :\n"
     ]
    },
    {
     "name": "stderr",
     "output_type": "stream",
     "text": [
      "98 Train: 100%|██████| 391/391 [00:18<00:00, 20.95it/s]\n"
     ]
    },
    {
     "name": "stdout",
     "output_type": "stream",
     "text": [
      "Train Loss: 0.2446 | Train Acc: 91.37%\n",
      "Test  Loss: 0.5707 | Test Acc: 81.08%\n",
      "--------------------------------------------------\n",
      "[Epoch 99/170] :\n"
     ]
    },
    {
     "name": "stderr",
     "output_type": "stream",
     "text": [
      "99 Train: 100%|██████| 391/391 [00:18<00:00, 20.84it/s]\n"
     ]
    },
    {
     "name": "stdout",
     "output_type": "stream",
     "text": [
      "Train Loss: 0.2415 | Train Acc: 91.64%\n",
      "Test  Loss: 0.6404 | Test Acc: 79.09%\n",
      "--------------------------------------------------\n",
      "[Epoch 100/170] :\n"
     ]
    },
    {
     "name": "stderr",
     "output_type": "stream",
     "text": [
      "100 Train: 100%|█████| 391/391 [00:14<00:00, 26.73it/s]\n"
     ]
    },
    {
     "name": "stdout",
     "output_type": "stream",
     "text": [
      "Train Loss: 0.2375 | Train Acc: 91.69%\n",
      "Test  Loss: 0.5819 | Test Acc: 81.39%\n",
      "--------------------------------------------------\n",
      "[Epoch 101/170] :\n"
     ]
    },
    {
     "name": "stderr",
     "output_type": "stream",
     "text": [
      "101 Train: 100%|█████| 391/391 [00:13<00:00, 28.69it/s]\n"
     ]
    },
    {
     "name": "stdout",
     "output_type": "stream",
     "text": [
      "Train Loss: 0.2350 | Train Acc: 91.89%\n",
      "Test  Loss: 0.5929 | Test Acc: 80.67%\n",
      "--------------------------------------------------\n",
      "[Epoch 102/170] :\n"
     ]
    },
    {
     "name": "stderr",
     "output_type": "stream",
     "text": [
      "102 Train: 100%|█████| 391/391 [00:14<00:00, 27.05it/s]\n"
     ]
    },
    {
     "name": "stdout",
     "output_type": "stream",
     "text": [
      "Train Loss: 0.2344 | Train Acc: 91.83%\n",
      "Test  Loss: 0.5929 | Test Acc: 80.79%\n",
      "--------------------------------------------------\n",
      "[Epoch 103/170] :\n"
     ]
    },
    {
     "name": "stderr",
     "output_type": "stream",
     "text": [
      "103 Train: 100%|█████| 391/391 [00:15<00:00, 25.95it/s]\n"
     ]
    },
    {
     "name": "stdout",
     "output_type": "stream",
     "text": [
      "Train Loss: 0.2348 | Train Acc: 91.94%\n",
      "Test  Loss: 0.6313 | Test Acc: 79.65%\n",
      "--------------------------------------------------\n",
      "[Epoch 104/170] :\n"
     ]
    },
    {
     "name": "stderr",
     "output_type": "stream",
     "text": [
      "104 Train: 100%|█████| 391/391 [00:13<00:00, 28.05it/s]\n"
     ]
    },
    {
     "name": "stdout",
     "output_type": "stream",
     "text": [
      "Train Loss: 0.2351 | Train Acc: 91.86%\n",
      "Test  Loss: 0.7099 | Test Acc: 76.86%\n",
      "--------------------------------------------------\n",
      "[Epoch 105/170] :\n"
     ]
    },
    {
     "name": "stderr",
     "output_type": "stream",
     "text": [
      "105 Train: 100%|█████| 391/391 [00:14<00:00, 26.60it/s]\n"
     ]
    },
    {
     "name": "stdout",
     "output_type": "stream",
     "text": [
      "Train Loss: 0.2337 | Train Acc: 91.87%\n",
      "Test  Loss: 0.6012 | Test Acc: 80.60%\n",
      "--------------------------------------------------\n",
      "[Epoch 106/170] :\n"
     ]
    },
    {
     "name": "stderr",
     "output_type": "stream",
     "text": [
      "106 Train: 100%|█████| 391/391 [00:14<00:00, 26.52it/s]\n"
     ]
    },
    {
     "name": "stdout",
     "output_type": "stream",
     "text": [
      "Train Loss: 0.2256 | Train Acc: 92.17%\n",
      "Test  Loss: 0.5930 | Test Acc: 80.86%\n",
      "--------------------------------------------------\n",
      "[Epoch 107/170] :\n"
     ]
    },
    {
     "name": "stderr",
     "output_type": "stream",
     "text": [
      "107 Train: 100%|█████| 391/391 [00:14<00:00, 27.14it/s]\n"
     ]
    },
    {
     "name": "stdout",
     "output_type": "stream",
     "text": [
      "Train Loss: 0.2308 | Train Acc: 92.01%\n",
      "Test  Loss: 0.6933 | Test Acc: 77.70%\n",
      "--------------------------------------------------\n",
      "[Epoch 108/170] :\n"
     ]
    },
    {
     "name": "stderr",
     "output_type": "stream",
     "text": [
      "108 Train: 100%|█████| 391/391 [00:13<00:00, 28.39it/s]\n"
     ]
    },
    {
     "name": "stdout",
     "output_type": "stream",
     "text": [
      "Train Loss: 0.2324 | Train Acc: 91.98%\n",
      "Test  Loss: 0.6478 | Test Acc: 79.26%\n",
      "--------------------------------------------------\n",
      "[Epoch 109/170] :\n"
     ]
    },
    {
     "name": "stderr",
     "output_type": "stream",
     "text": [
      "109 Train: 100%|█████| 391/391 [00:14<00:00, 26.51it/s]\n"
     ]
    },
    {
     "name": "stdout",
     "output_type": "stream",
     "text": [
      "Train Loss: 0.2290 | Train Acc: 91.94%\n",
      "Test  Loss: 0.6491 | Test Acc: 78.92%\n",
      "--------------------------------------------------\n",
      "[Epoch 110/170] :\n"
     ]
    },
    {
     "name": "stderr",
     "output_type": "stream",
     "text": [
      "110 Train: 100%|█████| 391/391 [00:14<00:00, 26.15it/s]\n"
     ]
    },
    {
     "name": "stdout",
     "output_type": "stream",
     "text": [
      "Train Loss: 0.2235 | Train Acc: 92.16%\n",
      "Test  Loss: 0.5553 | Test Acc: 81.87%\n",
      "--------------------------------------------------\n",
      "[Epoch 111/170] :\n"
     ]
    },
    {
     "name": "stderr",
     "output_type": "stream",
     "text": [
      "111 Train: 100%|█████| 391/391 [00:13<00:00, 28.86it/s]\n"
     ]
    },
    {
     "name": "stdout",
     "output_type": "stream",
     "text": [
      "Train Loss: 0.2244 | Train Acc: 92.29%\n",
      "Test  Loss: 0.6528 | Test Acc: 79.35%\n",
      "--------------------------------------------------\n",
      "[Epoch 112/170] :\n"
     ]
    },
    {
     "name": "stderr",
     "output_type": "stream",
     "text": [
      "112 Train: 100%|█████| 391/391 [00:14<00:00, 26.34it/s]\n"
     ]
    },
    {
     "name": "stdout",
     "output_type": "stream",
     "text": [
      "Train Loss: 0.2242 | Train Acc: 92.12%\n",
      "Test  Loss: 0.6657 | Test Acc: 78.40%\n",
      "--------------------------------------------------\n",
      "[Epoch 113/170] :\n"
     ]
    },
    {
     "name": "stderr",
     "output_type": "stream",
     "text": [
      "113 Train: 100%|█████| 391/391 [00:14<00:00, 26.95it/s]\n"
     ]
    },
    {
     "name": "stdout",
     "output_type": "stream",
     "text": [
      "Train Loss: 0.2235 | Train Acc: 92.26%\n",
      "Test  Loss: 0.6199 | Test Acc: 79.94%\n",
      "--------------------------------------------------\n",
      "[Epoch 114/170] :\n"
     ]
    },
    {
     "name": "stderr",
     "output_type": "stream",
     "text": [
      "114 Train: 100%|█████| 391/391 [00:13<00:00, 28.30it/s]\n"
     ]
    },
    {
     "name": "stdout",
     "output_type": "stream",
     "text": [
      "Train Loss: 0.2218 | Train Acc: 92.16%\n",
      "Test  Loss: 0.6218 | Test Acc: 80.33%\n",
      "--------------------------------------------------\n",
      "[Epoch 115/170] :\n"
     ]
    },
    {
     "name": "stderr",
     "output_type": "stream",
     "text": [
      "115 Train: 100%|█████| 391/391 [00:14<00:00, 27.92it/s]\n"
     ]
    },
    {
     "name": "stdout",
     "output_type": "stream",
     "text": [
      "Train Loss: 0.2250 | Train Acc: 92.23%\n",
      "Test  Loss: 0.6932 | Test Acc: 78.87%\n",
      "--------------------------------------------------\n",
      "[Epoch 116/170] :\n"
     ]
    },
    {
     "name": "stderr",
     "output_type": "stream",
     "text": [
      "116 Train: 100%|█████| 391/391 [00:15<00:00, 25.89it/s]\n"
     ]
    },
    {
     "name": "stdout",
     "output_type": "stream",
     "text": [
      "Train Loss: 0.2212 | Train Acc: 92.23%\n",
      "Test  Loss: 0.6349 | Test Acc: 80.10%\n",
      "--------------------------------------------------\n",
      "[Epoch 117/170] :\n"
     ]
    },
    {
     "name": "stderr",
     "output_type": "stream",
     "text": [
      "117 Train: 100%|█████| 391/391 [00:14<00:00, 26.84it/s]\n"
     ]
    },
    {
     "name": "stdout",
     "output_type": "stream",
     "text": [
      "Train Loss: 0.2255 | Train Acc: 92.10%\n",
      "Test  Loss: 0.6067 | Test Acc: 81.21%\n",
      "--------------------------------------------------\n",
      "[Epoch 118/170] :\n"
     ]
    },
    {
     "name": "stderr",
     "output_type": "stream",
     "text": [
      "118 Train: 100%|█████| 391/391 [00:14<00:00, 27.55it/s]\n"
     ]
    },
    {
     "name": "stdout",
     "output_type": "stream",
     "text": [
      "Train Loss: 0.2185 | Train Acc: 92.46%\n",
      "Test  Loss: 0.6951 | Test Acc: 78.73%\n",
      "--------------------------------------------------\n",
      "[Epoch 119/170] :\n"
     ]
    },
    {
     "name": "stderr",
     "output_type": "stream",
     "text": [
      "119 Train: 100%|█████| 391/391 [00:13<00:00, 28.50it/s]\n"
     ]
    },
    {
     "name": "stdout",
     "output_type": "stream",
     "text": [
      "Train Loss: 0.2172 | Train Acc: 92.45%\n",
      "Test  Loss: 0.7886 | Test Acc: 75.73%\n",
      "--------------------------------------------------\n",
      "[Epoch 120/170] :\n"
     ]
    },
    {
     "name": "stderr",
     "output_type": "stream",
     "text": [
      "120 Train: 100%|█████| 391/391 [00:14<00:00, 26.94it/s]\n"
     ]
    },
    {
     "name": "stdout",
     "output_type": "stream",
     "text": [
      "Train Loss: 0.2238 | Train Acc: 92.07%\n",
      "Test  Loss: 0.6616 | Test Acc: 79.63%\n",
      "--------------------------------------------------\n",
      "[Epoch 121/170] :\n"
     ]
    },
    {
     "name": "stderr",
     "output_type": "stream",
     "text": [
      "121 Train: 100%|█████| 391/391 [00:13<00:00, 28.22it/s]\n"
     ]
    },
    {
     "name": "stdout",
     "output_type": "stream",
     "text": [
      "Train Loss: 0.2170 | Train Acc: 92.46%\n",
      "Test  Loss: 0.6096 | Test Acc: 81.23%\n",
      "--------------------------------------------------\n",
      "[Epoch 122/170] :\n"
     ]
    },
    {
     "name": "stderr",
     "output_type": "stream",
     "text": [
      "122 Train: 100%|█████| 391/391 [00:15<00:00, 25.59it/s]\n"
     ]
    },
    {
     "name": "stdout",
     "output_type": "stream",
     "text": [
      "Train Loss: 0.2162 | Train Acc: 92.55%\n",
      "Test  Loss: 0.6208 | Test Acc: 80.19%\n",
      "--------------------------------------------------\n",
      "[Epoch 123/170] :\n"
     ]
    },
    {
     "name": "stderr",
     "output_type": "stream",
     "text": [
      "123 Train: 100%|█████| 391/391 [00:14<00:00, 26.82it/s]\n"
     ]
    },
    {
     "name": "stdout",
     "output_type": "stream",
     "text": [
      "Train Loss: 0.2127 | Train Acc: 92.52%\n",
      "Test  Loss: 0.5621 | Test Acc: 82.41%\n",
      "Learning Rate has changed : Now is 0.0010000000000000002\n",
      "--------------------------------------------------\n",
      "[Epoch 124/170] :\n"
     ]
    },
    {
     "name": "stderr",
     "output_type": "stream",
     "text": [
      "124 Train: 100%|█████| 391/391 [00:13<00:00, 28.70it/s]\n"
     ]
    },
    {
     "name": "stdout",
     "output_type": "stream",
     "text": [
      "Train Loss: 0.2031 | Train Acc: 92.93%\n",
      "Test  Loss: 0.5742 | Test Acc: 81.77%\n",
      "--------------------------------------------------\n",
      "[Epoch 125/170] :\n"
     ]
    },
    {
     "name": "stderr",
     "output_type": "stream",
     "text": [
      "125 Train: 100%|█████| 391/391 [00:14<00:00, 27.78it/s]\n"
     ]
    },
    {
     "name": "stdout",
     "output_type": "stream",
     "text": [
      "Train Loss: 0.1974 | Train Acc: 93.13%\n",
      "Test  Loss: 0.5805 | Test Acc: 81.34%\n",
      "--------------------------------------------------\n",
      "[Epoch 126/170] :\n"
     ]
    },
    {
     "name": "stderr",
     "output_type": "stream",
     "text": [
      "126 Train: 100%|█████| 391/391 [00:14<00:00, 26.44it/s]\n"
     ]
    },
    {
     "name": "stdout",
     "output_type": "stream",
     "text": [
      "Train Loss: 0.1980 | Train Acc: 93.22%\n",
      "Test  Loss: 0.6032 | Test Acc: 81.14%\n",
      "--------------------------------------------------\n",
      "[Epoch 127/170] :\n"
     ]
    },
    {
     "name": "stderr",
     "output_type": "stream",
     "text": [
      "127 Train: 100%|█████| 391/391 [00:13<00:00, 28.57it/s]\n"
     ]
    },
    {
     "name": "stdout",
     "output_type": "stream",
     "text": [
      "Train Loss: 0.1956 | Train Acc: 93.31%\n",
      "Test  Loss: 0.5833 | Test Acc: 81.55%\n",
      "--------------------------------------------------\n",
      "[Epoch 128/170] :\n"
     ]
    },
    {
     "name": "stderr",
     "output_type": "stream",
     "text": [
      "128 Train: 100%|█████| 391/391 [00:14<00:00, 26.84it/s]\n"
     ]
    },
    {
     "name": "stdout",
     "output_type": "stream",
     "text": [
      "Train Loss: 0.1967 | Train Acc: 93.16%\n",
      "Test  Loss: 0.5944 | Test Acc: 80.99%\n",
      "--------------------------------------------------\n",
      "[Epoch 129/170] :\n"
     ]
    },
    {
     "name": "stderr",
     "output_type": "stream",
     "text": [
      "129 Train: 100%|█████| 391/391 [00:15<00:00, 25.79it/s]\n"
     ]
    },
    {
     "name": "stdout",
     "output_type": "stream",
     "text": [
      "Train Loss: 0.1914 | Train Acc: 93.43%\n",
      "Test  Loss: 0.5897 | Test Acc: 81.45%\n",
      "--------------------------------------------------\n",
      "[Epoch 130/170] :\n"
     ]
    },
    {
     "name": "stderr",
     "output_type": "stream",
     "text": [
      "130 Train: 100%|█████| 391/391 [00:14<00:00, 27.90it/s]\n"
     ]
    },
    {
     "name": "stdout",
     "output_type": "stream",
     "text": [
      "Train Loss: 0.1929 | Train Acc: 93.34%\n",
      "Test  Loss: 0.6071 | Test Acc: 81.17%\n",
      "--------------------------------------------------\n",
      "[Epoch 131/170] :\n"
     ]
    },
    {
     "name": "stderr",
     "output_type": "stream",
     "text": [
      "131 Train: 100%|█████| 391/391 [00:14<00:00, 26.81it/s]\n"
     ]
    },
    {
     "name": "stdout",
     "output_type": "stream",
     "text": [
      "Train Loss: 0.1966 | Train Acc: 93.19%\n",
      "Test  Loss: 0.6099 | Test Acc: 80.65%\n",
      "--------------------------------------------------\n",
      "[Epoch 132/170] :\n"
     ]
    },
    {
     "name": "stderr",
     "output_type": "stream",
     "text": [
      "132 Train: 100%|█████| 391/391 [00:15<00:00, 25.93it/s]\n"
     ]
    },
    {
     "name": "stdout",
     "output_type": "stream",
     "text": [
      "Train Loss: 0.1941 | Train Acc: 93.29%\n",
      "Test  Loss: 0.6264 | Test Acc: 80.27%\n",
      "--------------------------------------------------\n",
      "[Epoch 133/170] :\n"
     ]
    },
    {
     "name": "stderr",
     "output_type": "stream",
     "text": [
      "133 Train: 100%|█████| 391/391 [00:14<00:00, 26.45it/s]\n"
     ]
    },
    {
     "name": "stdout",
     "output_type": "stream",
     "text": [
      "Train Loss: 0.1918 | Train Acc: 93.44%\n",
      "Test  Loss: 0.6181 | Test Acc: 80.39%\n",
      "Early stop!! best_eval_loss = 0.46312285186369206\n"
     ]
    }
   ],
   "source": [
    "Training = DoTraining(\n",
    "    model=model,\n",
    "    criterion=criterion,\n",
    "    optimizer=optimizer,\n",
    "    scaler=scaler,\n",
    "    scheduler=scheduler,\n",
    "    earlystopper=earlystopper,\n",
    "    device=device,\n",
    "    logs=logs,\n",
    "    file_path=file_name,\n",
    ")\n",
    "pre_epochs = len(Training.logs[\"train_loss\"])\n",
    "\n",
    "for epoch in range(NUM_EPOCHS):\n",
    "    now = epoch + 1 + pre_epochs\n",
    "    print(f\"[Epoch {epoch+1+pre_epochs}/{NUM_EPOCHS}] :\")\n",
    "\n",
    "    if DATASET == \"ImageNet2012\":\n",
    "        eval_loss = Training.SingleEpoch(train_dataloader, valid_dataloader)\n",
    "    else:\n",
    "        eval_loss = Training.SingleEpoch(\n",
    "            train_dataloader, valid_dataloader, test_dataloader\n",
    "        )\n",
    "\n",
    "    Training.Save()\n",
    "\n",
    "    \n",
    "    \n",
    "    if earlystopper.check(eval_loss) == True:\n",
    "        break\n",
    "\n",
    "    print(\"-\" * 50)"
   ]
  },
  {
   "cell_type": "code",
   "execution_count": 17,
   "metadata": {},
   "outputs": [
    {
     "data": {
      "image/png": "[encoded data removed]",
      "text/plain": [
       "<Figure size 1000x500 with 2 Axes>"
      ]
     },
     "metadata": {},
     "output_type": "display_data"
    }
   ],
   "source": [
    "view = LogViewer(logs)\n",
    "view.draw(save_name=file_name)"
   ]
  },
  {
   "cell_type": "code",
   "execution_count": 18,
   "metadata": {},
   "outputs": [
    {
     "name": "stdout",
     "output_type": "stream",
     "text": [
      "1 epoch: train_loss=2.3932, train_acc=0.1323, test_loss=2.1028, test_acc=0.2090, lr=0.1000\n",
      "2 epoch: train_loss=2.0268, train_acc=0.2389, test_loss=2.0168, test_acc=0.2393, lr=0.1000\n",
      "3 epoch: train_loss=1.6615, train_acc=0.3921, test_loss=2.0925, test_acc=0.3368, lr=0.1000\n",
      "4 epoch: train_loss=1.2924, train_acc=0.5415, test_loss=1.3787, test_acc=0.5233, lr=0.1000\n",
      "5 epoch: train_loss=1.0865, train_acc=0.6181, test_loss=1.9567, test_acc=0.4203, lr=0.1000\n",
      "6 epoch: train_loss=0.9804, train_acc=0.6572, test_loss=1.4186, test_acc=0.5476, lr=0.1000\n",
      "7 epoch: train_loss=0.9106, train_acc=0.6822, test_loss=1.8498, test_acc=0.4738, lr=0.1000\n",
      "8 epoch: train_loss=0.8484, train_acc=0.7056, test_loss=0.9311, test_acc=0.6836, lr=0.1000\n",
      "9 epoch: train_loss=0.8104, train_acc=0.7178, test_loss=1.3588, test_acc=0.5701, lr=0.1000\n",
      "10 epoch: train_loss=0.7740, train_acc=0.7313, test_loss=1.1262, test_acc=0.6370, lr=0.1000\n",
      "11 epoch: train_loss=0.7525, train_acc=0.7373, test_loss=1.0131, test_acc=0.6652, lr=0.1000\n",
      "12 epoch: train_loss=0.7250, train_acc=0.7483, test_loss=1.6305, test_acc=0.5528, lr=0.1000\n",
      "13 epoch: train_loss=0.7004, train_acc=0.7565, test_loss=1.0730, test_acc=0.6578, lr=0.1000\n",
      "14 epoch: train_loss=0.6854, train_acc=0.7602, test_loss=0.9337, test_acc=0.6877, lr=0.1000\n",
      "15 epoch: train_loss=0.6676, train_acc=0.7683, test_loss=0.9890, test_acc=0.6695, lr=0.1000\n",
      "16 epoch: train_loss=0.6507, train_acc=0.7767, test_loss=1.0316, test_acc=0.6776, lr=0.1000\n",
      "17 epoch: train_loss=0.6447, train_acc=0.7780, test_loss=0.8529, test_acc=0.7145, lr=0.1000\n",
      "18 epoch: train_loss=0.6302, train_acc=0.7836, test_loss=0.8800, test_acc=0.7095, lr=0.1000\n",
      "19 epoch: train_loss=0.6202, train_acc=0.7844, test_loss=0.6774, test_acc=0.7698, lr=0.1000\n",
      "20 epoch: train_loss=0.6118, train_acc=0.7883, test_loss=0.7915, test_acc=0.7351, lr=0.1000\n",
      "21 epoch: train_loss=0.6094, train_acc=0.7883, test_loss=1.0809, test_acc=0.6644, lr=0.1000\n",
      "22 epoch: train_loss=0.5900, train_acc=0.7953, test_loss=0.7649, test_acc=0.7403, lr=0.1000\n",
      "23 epoch: train_loss=0.5834, train_acc=0.7984, test_loss=0.7804, test_acc=0.7265, lr=0.1000\n",
      "24 epoch: train_loss=0.5844, train_acc=0.7973, test_loss=0.7412, test_acc=0.7534, lr=0.1000\n",
      "25 epoch: train_loss=0.5712, train_acc=0.8010, test_loss=1.1093, test_acc=0.6515, lr=0.1000\n",
      "26 epoch: train_loss=0.5637, train_acc=0.8042, test_loss=0.8026, test_acc=0.7295, lr=0.1000\n",
      "27 epoch: train_loss=0.5519, train_acc=0.8084, test_loss=0.7889, test_acc=0.7354, lr=0.1000\n",
      "28 epoch: train_loss=0.5512, train_acc=0.8095, test_loss=0.8902, test_acc=0.7070, lr=0.1000\n",
      "29 epoch: train_loss=0.5477, train_acc=0.8073, test_loss=0.6763, test_acc=0.7700, lr=0.1000\n",
      "30 epoch: train_loss=0.5509, train_acc=0.8070, test_loss=1.0020, test_acc=0.6709, lr=0.1000\n",
      "31 epoch: train_loss=0.5353, train_acc=0.8138, test_loss=0.8557, test_acc=0.7200, lr=0.1000\n",
      "32 epoch: train_loss=0.5322, train_acc=0.8147, test_loss=0.9136, test_acc=0.7062, lr=0.1000\n",
      "33 epoch: train_loss=0.5332, train_acc=0.8142, test_loss=0.7095, test_acc=0.7560, lr=0.1000\n",
      "34 epoch: train_loss=0.5252, train_acc=0.8160, test_loss=0.6388, test_acc=0.7866, lr=0.1000\n",
      "35 epoch: train_loss=0.5261, train_acc=0.8165, test_loss=0.8984, test_acc=0.7026, lr=0.1000\n",
      "36 epoch: train_loss=0.5219, train_acc=0.8183, test_loss=1.2490, test_acc=0.6351, lr=0.1000\n",
      "37 epoch: train_loss=0.5176, train_acc=0.8200, test_loss=0.9026, test_acc=0.6963, lr=0.1000\n",
      "38 epoch: train_loss=0.5056, train_acc=0.8250, test_loss=0.6877, test_acc=0.7670, lr=0.1000\n",
      "39 epoch: train_loss=0.5062, train_acc=0.8245, test_loss=0.9946, test_acc=0.6738, lr=0.1000\n",
      "40 epoch: train_loss=0.4992, train_acc=0.8276, test_loss=0.6751, test_acc=0.7725, lr=0.1000\n",
      "41 epoch: train_loss=0.5004, train_acc=0.8266, test_loss=0.6854, test_acc=0.7705, lr=0.1000\n",
      "42 epoch: train_loss=0.4964, train_acc=0.8284, test_loss=0.6407, test_acc=0.7844, lr=0.1000\n",
      "43 epoch: train_loss=0.4974, train_acc=0.8274, test_loss=0.6835, test_acc=0.7730, lr=0.1000\n",
      "44 epoch: train_loss=0.4891, train_acc=0.8314, test_loss=0.7062, test_acc=0.7615, lr=0.1000\n",
      "45 epoch: train_loss=0.4949, train_acc=0.8271, test_loss=0.6451, test_acc=0.7928, lr=0.1000\n",
      "46 epoch: train_loss=0.4870, train_acc=0.8309, test_loss=0.7247, test_acc=0.7511, lr=0.1000\n",
      "47 epoch: train_loss=0.4836, train_acc=0.8295, test_loss=0.6046, test_acc=0.7959, lr=0.1000\n",
      "48 epoch: train_loss=0.4771, train_acc=0.8326, test_loss=0.8418, test_acc=0.7155, lr=0.1000\n",
      "49 epoch: train_loss=0.4762, train_acc=0.8336, test_loss=0.9756, test_acc=0.7022, lr=0.1000\n",
      "50 epoch: train_loss=0.4757, train_acc=0.8342, test_loss=0.7987, test_acc=0.7347, lr=0.1000\n",
      "51 epoch: train_loss=0.4790, train_acc=0.8322, test_loss=0.6191, test_acc=0.8034, lr=0.1000\n",
      "52 epoch: train_loss=0.4712, train_acc=0.8337, test_loss=0.8688, test_acc=0.7234, lr=0.1000\n",
      "53 epoch: train_loss=0.4681, train_acc=0.8366, test_loss=0.8836, test_acc=0.7252, lr=0.1000\n",
      "54 epoch: train_loss=0.4712, train_acc=0.8360, test_loss=0.8455, test_acc=0.7296, lr=0.1000\n",
      "55 epoch: train_loss=0.4664, train_acc=0.8391, test_loss=0.6164, test_acc=0.7994, lr=0.1000\n",
      "56 epoch: train_loss=0.4676, train_acc=0.8381, test_loss=0.6101, test_acc=0.7935, lr=0.1000\n",
      "57 epoch: train_loss=0.4668, train_acc=0.8374, test_loss=0.6977, test_acc=0.7653, lr=0.1000\n",
      "58 epoch: train_loss=0.4602, train_acc=0.8403, test_loss=0.6671, test_acc=0.7809, lr=0.1000\n",
      "59 epoch: train_loss=0.4576, train_acc=0.8414, test_loss=0.9443, test_acc=0.6912, lr=0.1000\n",
      "60 epoch: train_loss=0.4570, train_acc=0.8405, test_loss=0.6514, test_acc=0.7804, lr=0.1000\n",
      "61 epoch: train_loss=0.4550, train_acc=0.8422, test_loss=0.5572, test_acc=0.8169, lr=0.1000\n",
      "62 epoch: train_loss=0.4451, train_acc=0.8449, test_loss=0.5351, test_acc=0.8220, lr=0.1000\n",
      "63 epoch: train_loss=0.4552, train_acc=0.8420, test_loss=1.2369, test_acc=0.6259, lr=0.1000\n",
      "64 epoch: train_loss=0.4557, train_acc=0.8424, test_loss=0.6596, test_acc=0.7869, lr=0.1000\n",
      "65 epoch: train_loss=0.4507, train_acc=0.8429, test_loss=0.6632, test_acc=0.7787, lr=0.1000\n",
      "66 epoch: train_loss=0.4521, train_acc=0.8408, test_loss=0.7032, test_acc=0.7690, lr=0.1000\n",
      "67 epoch: train_loss=0.4460, train_acc=0.8450, test_loss=0.8410, test_acc=0.7269, lr=0.1000\n",
      "68 epoch: train_loss=0.4447, train_acc=0.8438, test_loss=0.6715, test_acc=0.7720, lr=0.1000\n",
      "69 epoch: train_loss=0.4373, train_acc=0.8477, test_loss=0.7803, test_acc=0.7449, lr=0.1000\n",
      "70 epoch: train_loss=0.4388, train_acc=0.8476, test_loss=0.9450, test_acc=0.6953, lr=0.1000\n",
      "71 epoch: train_loss=0.4383, train_acc=0.8470, test_loss=0.7357, test_acc=0.7631, lr=0.1000\n",
      "72 epoch: train_loss=0.4386, train_acc=0.8477, test_loss=0.7844, test_acc=0.7453, lr=0.1000\n",
      "73 epoch: train_loss=0.4356, train_acc=0.8491, test_loss=0.5907, test_acc=0.8034, lr=0.1000\n",
      "74 epoch: train_loss=0.4389, train_acc=0.8481, test_loss=0.9874, test_acc=0.6713, lr=0.1000\n",
      "75 epoch: train_loss=0.4292, train_acc=0.8518, test_loss=0.7125, test_acc=0.7575, lr=0.1000\n",
      "76 epoch: train_loss=0.4318, train_acc=0.8503, test_loss=0.8924, test_acc=0.7210, lr=0.1000\n",
      "77 epoch: train_loss=0.4309, train_acc=0.8507, test_loss=1.0319, test_acc=0.6915, lr=0.1000\n",
      "78 epoch: train_loss=0.4301, train_acc=0.8487, test_loss=1.0633, test_acc=0.6669, lr=0.1000\n",
      "79 epoch: train_loss=0.4261, train_acc=0.8522, test_loss=0.7140, test_acc=0.7538, lr=0.1000\n",
      "80 epoch: train_loss=0.4338, train_acc=0.8486, test_loss=0.6736, test_acc=0.7778, lr=0.1000\n",
      "81 epoch: train_loss=0.4290, train_acc=0.8541, test_loss=0.8380, test_acc=0.7372, lr=0.1000\n",
      "82 epoch: train_loss=0.4205, train_acc=0.8535, test_loss=0.6263, test_acc=0.7979, lr=0.1000\n",
      "83 epoch: train_loss=0.3350, train_acc=0.8839, test_loss=0.4631, test_acc=0.8404, lr=0.0100\n",
      "84 epoch: train_loss=0.2999, train_acc=0.8957, test_loss=0.4966, test_acc=0.8290, lr=0.0100\n",
      "85 epoch: train_loss=0.2914, train_acc=0.8985, test_loss=0.5402, test_acc=0.8154, lr=0.0100\n",
      "86 epoch: train_loss=0.2817, train_acc=0.9002, test_loss=0.5107, test_acc=0.8261, lr=0.0100\n",
      "87 epoch: train_loss=0.2748, train_acc=0.9039, test_loss=0.5155, test_acc=0.8299, lr=0.0100\n",
      "88 epoch: train_loss=0.2686, train_acc=0.9054, test_loss=0.4867, test_acc=0.8368, lr=0.0100\n",
      "89 epoch: train_loss=0.2628, train_acc=0.9077, test_loss=0.5322, test_acc=0.8202, lr=0.0100\n",
      "90 epoch: train_loss=0.2580, train_acc=0.9095, test_loss=0.5244, test_acc=0.8253, lr=0.0100\n",
      "91 epoch: train_loss=0.2554, train_acc=0.9112, test_loss=0.4764, test_acc=0.8427, lr=0.0100\n",
      "92 epoch: train_loss=0.2588, train_acc=0.9099, test_loss=0.5905, test_acc=0.8014, lr=0.0100\n",
      "93 epoch: train_loss=0.2564, train_acc=0.9111, test_loss=0.5608, test_acc=0.8165, lr=0.0100\n",
      "94 epoch: train_loss=0.2474, train_acc=0.9134, test_loss=0.5239, test_acc=0.8269, lr=0.0100\n",
      "95 epoch: train_loss=0.2515, train_acc=0.9121, test_loss=0.5489, test_acc=0.8168, lr=0.0100\n",
      "96 epoch: train_loss=0.2448, train_acc=0.9143, test_loss=0.5649, test_acc=0.8140, lr=0.0100\n",
      "97 epoch: train_loss=0.2450, train_acc=0.9144, test_loss=0.5251, test_acc=0.8271, lr=0.0100\n",
      "98 epoch: train_loss=0.2446, train_acc=0.9137, test_loss=0.5707, test_acc=0.8108, lr=0.0100\n",
      "99 epoch: train_loss=0.2415, train_acc=0.9164, test_loss=0.6404, test_acc=0.7909, lr=0.0100\n",
      "100 epoch: train_loss=0.2375, train_acc=0.9169, test_loss=0.5819, test_acc=0.8139, lr=0.0100\n",
      "101 epoch: train_loss=0.2350, train_acc=0.9189, test_loss=0.5929, test_acc=0.8067, lr=0.0100\n",
      "102 epoch: train_loss=0.2344, train_acc=0.9183, test_loss=0.5929, test_acc=0.8079, lr=0.0100\n",
      "103 epoch: train_loss=0.2348, train_acc=0.9194, test_loss=0.6313, test_acc=0.7965, lr=0.0100\n",
      "104 epoch: train_loss=0.2351, train_acc=0.9186, test_loss=0.7099, test_acc=0.7686, lr=0.0100\n",
      "105 epoch: train_loss=0.2337, train_acc=0.9187, test_loss=0.6012, test_acc=0.8060, lr=0.0100\n",
      "106 epoch: train_loss=0.2256, train_acc=0.9217, test_loss=0.5930, test_acc=0.8086, lr=0.0100\n",
      "107 epoch: train_loss=0.2308, train_acc=0.9201, test_loss=0.6933, test_acc=0.7770, lr=0.0100\n",
      "108 epoch: train_loss=0.2324, train_acc=0.9198, test_loss=0.6478, test_acc=0.7926, lr=0.0100\n",
      "109 epoch: train_loss=0.2290, train_acc=0.9194, test_loss=0.6491, test_acc=0.7892, lr=0.0100\n",
      "110 epoch: train_loss=0.2235, train_acc=0.9216, test_loss=0.5553, test_acc=0.8187, lr=0.0100\n",
      "111 epoch: train_loss=0.2244, train_acc=0.9229, test_loss=0.6528, test_acc=0.7935, lr=0.0100\n",
      "112 epoch: train_loss=0.2242, train_acc=0.9212, test_loss=0.6657, test_acc=0.7840, lr=0.0100\n",
      "113 epoch: train_loss=0.2235, train_acc=0.9226, test_loss=0.6199, test_acc=0.7994, lr=0.0100\n",
      "114 epoch: train_loss=0.2218, train_acc=0.9216, test_loss=0.6218, test_acc=0.8033, lr=0.0100\n",
      "115 epoch: train_loss=0.2250, train_acc=0.9223, test_loss=0.6932, test_acc=0.7887, lr=0.0100\n",
      "116 epoch: train_loss=0.2212, train_acc=0.9223, test_loss=0.6349, test_acc=0.8010, lr=0.0100\n",
      "117 epoch: train_loss=0.2255, train_acc=0.9210, test_loss=0.6067, test_acc=0.8121, lr=0.0100\n",
      "118 epoch: train_loss=0.2185, train_acc=0.9246, test_loss=0.6951, test_acc=0.7873, lr=0.0100\n",
      "119 epoch: train_loss=0.2172, train_acc=0.9245, test_loss=0.7886, test_acc=0.7573, lr=0.0100\n",
      "120 epoch: train_loss=0.2238, train_acc=0.9207, test_loss=0.6616, test_acc=0.7963, lr=0.0100\n",
      "121 epoch: train_loss=0.2170, train_acc=0.9246, test_loss=0.6096, test_acc=0.8123, lr=0.0100\n",
      "122 epoch: train_loss=0.2162, train_acc=0.9255, test_loss=0.6208, test_acc=0.8019, lr=0.0100\n",
      "123 epoch: train_loss=0.2127, train_acc=0.9252, test_loss=0.5621, test_acc=0.8241, lr=0.0100\n",
      "124 epoch: train_loss=0.2031, train_acc=0.9293, test_loss=0.5742, test_acc=0.8177, lr=0.0010\n",
      "125 epoch: train_loss=0.1974, train_acc=0.9313, test_loss=0.5805, test_acc=0.8134, lr=0.0010\n",
      "126 epoch: train_loss=0.1980, train_acc=0.9322, test_loss=0.6032, test_acc=0.8114, lr=0.0010\n",
      "127 epoch: train_loss=0.1956, train_acc=0.9331, test_loss=0.5833, test_acc=0.8155, lr=0.0010\n",
      "128 epoch: train_loss=0.1967, train_acc=0.9316, test_loss=0.5944, test_acc=0.8099, lr=0.0010\n",
      "129 epoch: train_loss=0.1914, train_acc=0.9343, test_loss=0.5897, test_acc=0.8145, lr=0.0010\n",
      "130 epoch: train_loss=0.1929, train_acc=0.9334, test_loss=0.6071, test_acc=0.8117, lr=0.0010\n",
      "131 epoch: train_loss=0.1966, train_acc=0.9319, test_loss=0.6099, test_acc=0.8065, lr=0.0010\n",
      "132 epoch: train_loss=0.1941, train_acc=0.9329, test_loss=0.6264, test_acc=0.8027, lr=0.0010\n",
      "133 epoch: train_loss=0.1918, train_acc=0.9344, test_loss=0.6181, test_acc=0.8039, lr=0.0010\n"
     ]
    }
   ],
   "source": [
    "view.print_all()"
   ]
  }
 ],
 "metadata": {
  "kernelspec": {
   "display_name": "base",
   "language": "python",
   "name": "python3"
  },
  "language_info": {
   "codemirror_mode": {
    "name": "ipython",
    "version": 3
   },
   "file_extension": ".py",
   "mimetype": "text/x-python",
   "name": "python",
   "nbconvert_exporter": "python",
   "pygments_lexer": "ipython3",
   "version": "3.11.5"
  }
 },
 "nbformat": 4,
 "nbformat_minor": 2
}
