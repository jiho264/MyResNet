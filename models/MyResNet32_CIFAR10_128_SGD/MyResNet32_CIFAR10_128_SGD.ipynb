{
 "cells": [
  {
   "cell_type": "markdown",
   "metadata": {},
   "source": [
    "# Import"
   ]
  },
  {
   "cell_type": "code",
   "execution_count": 1,
   "metadata": {},
   "outputs": [],
   "source": [
    "import torch\n",
    "from torch import nn\n",
    "from torch.optim.lr_scheduler import ExponentialLR, MultiStepLR\n",
    "import sys, os\n",
    "\n",
    "sys.path.append(os.path.dirname(os.path.abspath(os.path.dirname(\"src\"))))\n",
    "\n",
    "from src.Mydataloader import LoadDataset\n",
    "from src.Mymodel import MyResNet_CIFAR\n",
    "from src.Mytraining import DoTraining\n",
    "from src.Earlystopper import EarlyStopper\n",
    "from src.LogViewer import LogViewer"
   ]
  },
  {
   "cell_type": "markdown",
   "metadata": {},
   "source": [
    "# Setup"
   ]
  },
  {
   "cell_type": "code",
   "execution_count": 2,
   "metadata": {},
   "outputs": [],
   "source": [
    "\"\"\"Dataset selection\"\"\"\n",
    "DATASET = \"CIFAR10\"\n",
    "# DATASET = \"CIFAR100\"\n",
    "# DATASET = \"ImageNet2012\"\n",
    "\n",
    "\"\"\"Dataset parameters\"\"\"\n",
    "BATCH = 128\n",
    "SHUFFLE = True\n",
    "NUMOFWORKERS = 8\n",
    "PIN_MEMORY = True\n",
    "SPLIT_RATIO = 0\n",
    "\n",
    "\"\"\"optimizer parameters\"\"\"\n",
    "# OPTIMIZER = \"Adam\"\n",
    "# OPTIMIZER = \"Adam_decay\"\n",
    "OPTIMIZER = \"SGD\"\n",
    "# OPTIMIZER = \"SGD_nasterov\"\n",
    "# OPTIMIZER = \"AdamW\"\n",
    "# OPTIMIZER = \"AdamW_amsgrad\"\n",
    "# OPTIMIZER = \"NAdam\"\n",
    "\n",
    "\"\"\"Learning rate scheduler parameters\"\"\"\n",
    "NUM_EPOCHS = 200\n",
    "\n",
    "\"\"\"Early stopping parameters\"\"\"\n",
    "EARLYSTOPPINGPATIENCE = 100\n",
    "\n",
    "file_name = f\"MyResNet32_{BATCH}_{OPTIMIZER}\""
   ]
  },
  {
   "cell_type": "code",
   "execution_count": 3,
   "metadata": {},
   "outputs": [
    {
     "data": {
      "text/plain": [
       "'MyResNet32_128_SGD'"
      ]
     },
     "execution_count": 3,
     "metadata": {},
     "output_type": "execute_result"
    }
   ],
   "source": [
    "file_name"
   ]
  },
  {
   "cell_type": "markdown",
   "metadata": {},
   "source": [
    "# Loading the dataset"
   ]
  },
  {
   "cell_type": "markdown",
   "metadata": {},
   "source": [
    "## Define Dateloader"
   ]
  },
  {
   "cell_type": "code",
   "execution_count": 4,
   "metadata": {},
   "outputs": [
    {
     "name": "stderr",
     "output_type": "stream",
     "text": [
      "/home/lee/anaconda3/lib/python3.11/site-packages/torchvision/transforms/v2/_deprecated.py:43: UserWarning: The transform `ToTensor()` is deprecated and will be removed in a future release. Instead, please use `v2.Compose([v2.ToImage(), v2.ToDtype(torch.float32, scale=True)])`.\n",
      "  warnings.warn(\n"
     ]
    },
    {
     "name": "stdout",
     "output_type": "stream",
     "text": [
      "-----------------------------------------------------------------------\n",
      "Dataset :  CIFAR10\n",
      "- Length of Train Set :  50000\n",
      "- Length of Test Set :  10000\n",
      "- Count of Classes :  10\n",
      "-----------------------------------------------------------------------\n"
     ]
    }
   ],
   "source": [
    "tmp = LoadDataset(root=\"../../data\", seceted_dataset=DATASET, split_ratio=SPLIT_RATIO)\n",
    "train_data, valid_data, test_data, COUNT_OF_CLASSES = tmp.Unpack()"
   ]
  },
  {
   "cell_type": "code",
   "execution_count": 5,
   "metadata": {},
   "outputs": [
    {
     "name": "stdout",
     "output_type": "stream",
     "text": [
      "train.transforms = Compose(\n",
      "      AutoAugment(interpolation=InterpolationMode.NEAREST, policy=AutoAugmentPolicy.CIFAR10)\n",
      "      RandomCrop(size=(32, 32), padding=[4, 4, 4, 4], pad_if_needed=False, fill=0, padding_mode=constant)\n",
      "      RandomHorizontalFlip(p=0.5)\n",
      "      ToTensor()\n",
      "      Normalize(mean=[0.49139968, 0.48215827, 0.44653124], std=[1, 1, 1], inplace=True)\n",
      ") 128\n",
      "test.transforms = ToTensor() 128\n"
     ]
    }
   ],
   "source": [
    "train_dataloader, valid_dataloader, test_dataloader = tmp.get_dataloader(\n",
    "    batch_size=BATCH, shuffle=SHUFFLE, num_workers=NUMOFWORKERS, pin_memory=PIN_MEMORY\n",
    ")"
   ]
  },
  {
   "cell_type": "markdown",
   "metadata": {},
   "source": [
    "# Define ResNet"
   ]
  },
  {
   "cell_type": "markdown",
   "metadata": {},
   "source": [
    "## Model Confirm"
   ]
  },
  {
   "cell_type": "code",
   "execution_count": 6,
   "metadata": {},
   "outputs": [
    {
     "data": {
      "text/plain": [
       "device(type='cuda')"
      ]
     },
     "execution_count": 6,
     "metadata": {},
     "output_type": "execute_result"
    }
   ],
   "source": [
    "device = torch.device(\"cuda\" if torch.cuda.is_available() else \"cpu\")\n",
    "device"
   ]
  },
  {
   "cell_type": "code",
   "execution_count": 7,
   "metadata": {},
   "outputs": [],
   "source": [
    "model = MyResNet_CIFAR(num_classes=COUNT_OF_CLASSES, num_layer_factor=5).to(device)"
   ]
  },
  {
   "cell_type": "markdown",
   "metadata": {},
   "source": [
    "# Define Training"
   ]
  },
  {
   "cell_type": "markdown",
   "metadata": {},
   "source": [
    "## (1) Define Criterion"
   ]
  },
  {
   "cell_type": "code",
   "execution_count": 8,
   "metadata": {},
   "outputs": [],
   "source": [
    "criterion = nn.CrossEntropyLoss()"
   ]
  },
  {
   "cell_type": "markdown",
   "metadata": {},
   "source": [
    "## (2) Define Optimazer"
   ]
  },
  {
   "cell_type": "code",
   "execution_count": 9,
   "metadata": {},
   "outputs": [],
   "source": [
    "if OPTIMIZER == \"Adam\":\n",
    "    optimizer = torch.optim.Adam(model.parameters())\n",
    "elif OPTIMIZER == \"Adam_decay\":\n",
    "    optimizer = torch.optim.Adam(model.parameters(), weight_decay=1e-4)\n",
    "elif OPTIMIZER == \"SGD\":\n",
    "    optimizer = torch.optim.SGD(\n",
    "        model.parameters(), lr=0.1, momentum=0.9, weight_decay=0.0001\n",
    "    )\n",
    "elif OPTIMIZER == \"SGD_nasterov\":\n",
    "    optimizer = torch.optim.SGD(\n",
    "        model.parameters(), lr=0.1, momentum=0.9, weight_decay=1e-4, nesterov=True\n",
    "    )\n",
    "elif OPTIMIZER == \"AdamW\":\n",
    "    optimizer = torch.optim.AdamW(model.parameters(), weight_decay=1e-4)\n",
    "elif OPTIMIZER == \"AdamW_amsgrad\":\n",
    "    optimizer = torch.optim.AdamW(model.parameters(), weight_decay=1e-4, amsgrad=True)\n",
    "elif OPTIMIZER == \"NAdam\":\n",
    "    optimizer = torch.optim.NAdam(model.parameters(), weight_decay=1e-4)"
   ]
  },
  {
   "cell_type": "markdown",
   "metadata": {},
   "source": [
    "## (3) Define Early Stopping"
   ]
  },
  {
   "cell_type": "code",
   "execution_count": 10,
   "metadata": {},
   "outputs": [],
   "source": [
    "earlystopper = EarlyStopper(patience=EARLYSTOPPINGPATIENCE, model=model, file_name=file_name)"
   ]
  },
  {
   "cell_type": "markdown",
   "metadata": {},
   "source": [
    "## (4) Define Learning Rate schedualer"
   ]
  },
  {
   "cell_type": "code",
   "execution_count": 11,
   "metadata": {},
   "outputs": [
    {
     "data": {
      "text/plain": [
       "'\\n=======================================================\\nif batch = 256\\n=======================================================\\nnon-split [single epoch = 196 iter] : milestones = [164, 246]\\n- 1 ~ 164 epochs == 1 ~ 32k iter >> lr = 0.1\\n- 165~246 epochs == 32k ~ 48k iter >> lr = 0.01\\n- 247~328(?) epochs == 48k ~ 64k iter >> lr = 0.001\\n=======================================================\\nsplit to 45k/5k [single epoch = 176 iter]: milestones = [182, 273]\\n- 1~182 epochs == 1 ~ 32k iter >> lr = 0.1\\n- 182~273 epochs == 32k ~ 48k iter >> lr = 0.01\\n- 273~364(?) epochs == 48k ~ 64k iter >> lr = 0.001\\n=======================================================\\nif batch = 128\\n=======================================================\\nnon-split [signle epoch = 391 iter]: milestones = [82, 123]\\n- 1 ~ 82 epochs == 1 ~ 32k iter >> lr = 0.1\\n- 83~123 epochs == 32k ~ 48k iter >> lr = 0.01\\n- 124~(164) epochs == 48k ~ 64k iter >> lr = 0.001\\n=======================================================\\nsplit to 45k/5k [signle epoch = 352 iter]: milestones = [91, 137]\\n- 1~91 epochs == 1 ~ 32k iter >> lr = 0.1\\n- 92~137 epochs == 32k ~ 48k iter >> lr = 0.01\\n- 138~(183) epochs == 48k ~ 64k iter >> lr = 0.001\\n=======================================================\\n'"
      ]
     },
     "execution_count": 11,
     "metadata": {},
     "output_type": "execute_result"
    }
   ],
   "source": [
    "# scheduler = ExponentialLR(optimizer, gamma=0.95)\n",
    "scheduler = MultiStepLR(optimizer, milestones=[82, 123], gamma=0.1)\n",
    "\"\"\"\n",
    "=======================================================\n",
    "if batch = 256\n",
    "=======================================================\n",
    "non-split [single epoch = 196 iter] : milestones = [164, 246]\n",
    "- 1 ~ 164 epochs == 1 ~ 32k iter >> lr = 0.1\n",
    "- 165~246 epochs == 32k ~ 48k iter >> lr = 0.01\n",
    "- 247~328(?) epochs == 48k ~ 64k iter >> lr = 0.001\n",
    "=======================================================\n",
    "split to 45k/5k [single epoch = 176 iter]: milestones = [182, 273]\n",
    "- 1~182 epochs == 1 ~ 32k iter >> lr = 0.1\n",
    "- 182~273 epochs == 32k ~ 48k iter >> lr = 0.01\n",
    "- 273~364(?) epochs == 48k ~ 64k iter >> lr = 0.001\n",
    "=======================================================\n",
    "if batch = 128\n",
    "=======================================================\n",
    "non-split [signle epoch = 391 iter]: milestones = [82, 123]\n",
    "- 1 ~ 82 epochs == 1 ~ 32k iter >> lr = 0.1\n",
    "- 83~123 epochs == 32k ~ 48k iter >> lr = 0.01\n",
    "- 124~(164) epochs == 48k ~ 64k iter >> lr = 0.001\n",
    "=======================================================\n",
    "split to 45k/5k [signle epoch = 352 iter]: milestones = [91, 137]\n",
    "- 1~91 epochs == 1 ~ 32k iter >> lr = 0.1\n",
    "- 92~137 epochs == 32k ~ 48k iter >> lr = 0.01\n",
    "- 138~(183) epochs == 48k ~ 64k iter >> lr = 0.001\n",
    "=======================================================\n",
    "\"\"\""
   ]
  },
  {
   "cell_type": "markdown",
   "metadata": {},
   "source": [
    "## (5) Define AMP scaler"
   ]
  },
  {
   "cell_type": "code",
   "execution_count": 12,
   "metadata": {},
   "outputs": [],
   "source": [
    "scaler = torch.cuda.amp.GradScaler(enabled=True)"
   ]
  },
  {
   "cell_type": "markdown",
   "metadata": {},
   "source": [
    "## Load before process"
   ]
  },
  {
   "cell_type": "code",
   "execution_count": 13,
   "metadata": {},
   "outputs": [
    {
     "name": "stdout",
     "output_type": "stream",
     "text": [
      "File does not exist. Created a new log.\n"
     ]
    }
   ],
   "source": [
    "if os.path.exists(file_name + \".pth.tar\"):\n",
    "    # Read checkpoint as desired, e.g.,\n",
    "    checkpoint = torch.load(\n",
    "        file_name + \".pth.tar\",\n",
    "        map_location=lambda storage, loc: storage.cuda(device),\n",
    "    )\n",
    "    model.load_state_dict(checkpoint[\"model\"])\n",
    "    optimizer.load_state_dict(checkpoint[\"optimizer\"])\n",
    "    scaler.load_state_dict(checkpoint[\"scaler\"])\n",
    "    scheduler.load_state_dict(checkpoint[\"scheduler\"])\n",
    "    earlystopper.load_state_dict(checkpoint[\"earlystopper\"])\n",
    "    logs = checkpoint[\"logs\"]\n",
    "\n",
    "    print(\"Suceessfully loaded the All setting and Log file.\")\n",
    "    print(file_name)\n",
    "    print(f\"Current epoch is {len(logs['train_loss'])}\")\n",
    "    print(f\"Current learning rate: {optimizer.param_groups[0]['lr']}\")\n",
    "else:\n",
    "    # Create a dictionary to store the variables\n",
    "    train_loss = []\n",
    "    train_acc = []\n",
    "    eval_loss = []\n",
    "    valid_acc = []\n",
    "    test_loss = []\n",
    "    test_acc = []\n",
    "    lr_log = []\n",
    "    logs = {\n",
    "        \"train_loss\": train_loss,\n",
    "        \"train_acc\": train_acc,\n",
    "        \"valid_loss\": eval_loss,\n",
    "        \"valid_acc\": valid_acc,\n",
    "        \"test_loss\": test_loss,\n",
    "        \"test_acc\": test_acc,\n",
    "        \"lr_log\": lr_log,\n",
    "    }\n",
    "    print(\"File does not exist. Created a new log.\")"
   ]
  },
  {
   "cell_type": "code",
   "execution_count": 14,
   "metadata": {},
   "outputs": [
    {
     "data": {
      "text/plain": [
       "0.1"
      ]
     },
     "execution_count": 14,
     "metadata": {},
     "output_type": "execute_result"
    }
   ],
   "source": [
    "optimizer.param_groups[0][\"lr\"]"
   ]
  },
  {
   "cell_type": "code",
   "execution_count": 15,
   "metadata": {},
   "outputs": [
    {
     "data": {
      "text/plain": [
       "0"
      ]
     },
     "execution_count": 15,
     "metadata": {},
     "output_type": "execute_result"
    }
   ],
   "source": [
    "earlystopper.early_stop_counter"
   ]
  },
  {
   "cell_type": "markdown",
   "metadata": {},
   "source": [
    "# [Training Loop]"
   ]
  },
  {
   "cell_type": "code",
   "execution_count": 16,
   "metadata": {},
   "outputs": [
    {
     "name": "stdout",
     "output_type": "stream",
     "text": [
      "[Epoch 1/200] :\n"
     ]
    },
    {
     "name": "stderr",
     "output_type": "stream",
     "text": [
      "1 Train: 100%|███████| 391/391 [00:07<00:00, 53.93it/s]"
     ]
    },
    {
     "name": "stdout",
     "output_type": "stream",
     "text": [
      "Train Loss: 2.3735 | Train Acc: 13.14%\n"
     ]
    },
    {
     "name": "stderr",
     "output_type": "stream",
     "text": [
      "\n"
     ]
    },
    {
     "name": "stdout",
     "output_type": "stream",
     "text": [
      "Test  Loss: 2.1853 | Test Acc: 13.33%\n",
      "updated best eval loss : 2.185300320009642\n",
      "--------------------------------------------------\n",
      "[Epoch 2/200] :\n"
     ]
    },
    {
     "name": "stderr",
     "output_type": "stream",
     "text": [
      "2 Train: 100%|███████| 391/391 [00:05<00:00, 69.87it/s]\n"
     ]
    },
    {
     "name": "stdout",
     "output_type": "stream",
     "text": [
      "Train Loss: 2.0798 | Train Acc: 21.48%\n",
      "Test  Loss: 2.3546 | Test Acc: 22.18%\n",
      "--------------------------------------------------\n",
      "[Epoch 3/200] :\n"
     ]
    },
    {
     "name": "stderr",
     "output_type": "stream",
     "text": [
      "3 Train: 100%|███████| 391/391 [00:05<00:00, 67.81it/s]\n"
     ]
    },
    {
     "name": "stdout",
     "output_type": "stream",
     "text": [
      "Train Loss: 1.8352 | Train Acc: 31.53%\n",
      "Test  Loss: 2.1068 | Test Acc: 31.82%\n",
      "updated best eval loss : 2.1068113997012756\n",
      "--------------------------------------------------\n",
      "[Epoch 4/200] :\n"
     ]
    },
    {
     "name": "stderr",
     "output_type": "stream",
     "text": [
      "4 Train: 100%|███████| 391/391 [00:05<00:00, 66.37it/s]\n"
     ]
    },
    {
     "name": "stdout",
     "output_type": "stream",
     "text": [
      "Train Loss: 1.5061 | Train Acc: 45.79%\n",
      "Test  Loss: 1.7083 | Test Acc: 45.61%\n",
      "updated best eval loss : 1.7082814370529562\n",
      "--------------------------------------------------\n",
      "[Epoch 5/200] :\n"
     ]
    },
    {
     "name": "stderr",
     "output_type": "stream",
     "text": [
      "5 Train: 100%|███████| 391/391 [00:05<00:00, 67.94it/s]\n"
     ]
    },
    {
     "name": "stdout",
     "output_type": "stream",
     "text": [
      "Train Loss: 1.2799 | Train Acc: 54.32%\n",
      "Test  Loss: 1.4064 | Test Acc: 54.87%\n",
      "updated best eval loss : 1.406367553185813\n",
      "--------------------------------------------------\n",
      "[Epoch 6/200] :\n"
     ]
    },
    {
     "name": "stderr",
     "output_type": "stream",
     "text": [
      "6 Train: 100%|███████| 391/391 [00:05<00:00, 69.47it/s]\n"
     ]
    },
    {
     "name": "stdout",
     "output_type": "stream",
     "text": [
      "Train Loss: 1.1260 | Train Acc: 60.35%\n",
      "Test  Loss: 1.7006 | Test Acc: 46.35%\n",
      "--------------------------------------------------\n",
      "[Epoch 7/200] :\n"
     ]
    },
    {
     "name": "stderr",
     "output_type": "stream",
     "text": [
      "7 Train: 100%|███████| 391/391 [00:05<00:00, 68.35it/s]\n"
     ]
    },
    {
     "name": "stdout",
     "output_type": "stream",
     "text": [
      "Train Loss: 1.0174 | Train Acc: 64.24%\n",
      "Test  Loss: 1.5005 | Test Acc: 52.57%\n",
      "--------------------------------------------------\n",
      "[Epoch 8/200] :\n"
     ]
    },
    {
     "name": "stderr",
     "output_type": "stream",
     "text": [
      "8 Train: 100%|███████| 391/391 [00:05<00:00, 66.38it/s]\n"
     ]
    },
    {
     "name": "stdout",
     "output_type": "stream",
     "text": [
      "Train Loss: 0.9513 | Train Acc: 66.92%\n",
      "Test  Loss: 1.0685 | Test Acc: 63.46%\n",
      "updated best eval loss : 1.068510890007019\n",
      "--------------------------------------------------\n",
      "[Epoch 9/200] :\n"
     ]
    },
    {
     "name": "stderr",
     "output_type": "stream",
     "text": [
      "9 Train: 100%|███████| 391/391 [00:05<00:00, 66.54it/s]\n"
     ]
    },
    {
     "name": "stdout",
     "output_type": "stream",
     "text": [
      "Train Loss: 0.8944 | Train Acc: 68.88%\n",
      "Test  Loss: 0.9583 | Test Acc: 67.55%\n",
      "updated best eval loss : 0.9582502313807041\n",
      "--------------------------------------------------\n",
      "[Epoch 10/200] :\n"
     ]
    },
    {
     "name": "stderr",
     "output_type": "stream",
     "text": [
      "10 Train: 100%|██████| 391/391 [00:05<00:00, 65.86it/s]\n"
     ]
    },
    {
     "name": "stdout",
     "output_type": "stream",
     "text": [
      "Train Loss: 0.8420 | Train Acc: 70.80%\n",
      "Test  Loss: 0.9658 | Test Acc: 67.72%\n",
      "--------------------------------------------------\n",
      "[Epoch 11/200] :\n"
     ]
    },
    {
     "name": "stderr",
     "output_type": "stream",
     "text": [
      "11 Train: 100%|██████| 391/391 [00:06<00:00, 64.96it/s]\n"
     ]
    },
    {
     "name": "stdout",
     "output_type": "stream",
     "text": [
      "Train Loss: 0.7979 | Train Acc: 72.54%\n",
      "Test  Loss: 0.8477 | Test Acc: 71.89%\n",
      "updated best eval loss : 0.8477379875847056\n",
      "--------------------------------------------------\n",
      "[Epoch 12/200] :\n"
     ]
    },
    {
     "name": "stderr",
     "output_type": "stream",
     "text": [
      "12 Train: 100%|██████| 391/391 [00:06<00:00, 65.13it/s]\n"
     ]
    },
    {
     "name": "stdout",
     "output_type": "stream",
     "text": [
      "Train Loss: 0.7740 | Train Acc: 73.02%\n",
      "Test  Loss: 0.7888 | Test Acc: 72.95%\n",
      "updated best eval loss : 0.7888479051710684\n",
      "--------------------------------------------------\n",
      "[Epoch 13/200] :\n"
     ]
    },
    {
     "name": "stderr",
     "output_type": "stream",
     "text": [
      "13 Train: 100%|██████| 391/391 [00:05<00:00, 65.55it/s]\n"
     ]
    },
    {
     "name": "stdout",
     "output_type": "stream",
     "text": [
      "Train Loss: 0.7439 | Train Acc: 73.92%\n",
      "Test  Loss: 0.6807 | Test Acc: 76.76%\n",
      "updated best eval loss : 0.6807032487814939\n",
      "--------------------------------------------------\n",
      "[Epoch 14/200] :\n"
     ]
    },
    {
     "name": "stderr",
     "output_type": "stream",
     "text": [
      "14 Train: 100%|██████| 391/391 [00:05<00:00, 67.89it/s]\n"
     ]
    },
    {
     "name": "stdout",
     "output_type": "stream",
     "text": [
      "Train Loss: 0.7233 | Train Acc: 74.83%\n",
      "Test  Loss: 0.7870 | Test Acc: 72.86%\n",
      "--------------------------------------------------\n",
      "[Epoch 15/200] :\n"
     ]
    },
    {
     "name": "stderr",
     "output_type": "stream",
     "text": [
      "15 Train: 100%|██████| 391/391 [00:05<00:00, 69.52it/s]\n"
     ]
    },
    {
     "name": "stdout",
     "output_type": "stream",
     "text": [
      "Train Loss: 0.7041 | Train Acc: 75.55%\n",
      "Test  Loss: 0.8039 | Test Acc: 73.14%\n",
      "--------------------------------------------------\n",
      "[Epoch 16/200] :\n"
     ]
    },
    {
     "name": "stderr",
     "output_type": "stream",
     "text": [
      "16 Train: 100%|██████| 391/391 [00:05<00:00, 69.84it/s]\n"
     ]
    },
    {
     "name": "stdout",
     "output_type": "stream",
     "text": [
      "Train Loss: 0.6846 | Train Acc: 76.25%\n",
      "Test  Loss: 0.8535 | Test Acc: 72.21%\n",
      "--------------------------------------------------\n",
      "[Epoch 17/200] :\n"
     ]
    },
    {
     "name": "stderr",
     "output_type": "stream",
     "text": [
      "17 Train: 100%|██████| 391/391 [00:05<00:00, 68.66it/s]\n"
     ]
    },
    {
     "name": "stdout",
     "output_type": "stream",
     "text": [
      "Train Loss: 0.6701 | Train Acc: 76.94%\n",
      "Test  Loss: 0.7460 | Test Acc: 74.92%\n",
      "--------------------------------------------------\n",
      "[Epoch 18/200] :\n"
     ]
    },
    {
     "name": "stderr",
     "output_type": "stream",
     "text": [
      "18 Train: 100%|██████| 391/391 [00:05<00:00, 69.35it/s]\n"
     ]
    },
    {
     "name": "stdout",
     "output_type": "stream",
     "text": [
      "Train Loss: 0.6563 | Train Acc: 77.19%\n",
      "Test  Loss: 0.7131 | Test Acc: 75.71%\n",
      "--------------------------------------------------\n",
      "[Epoch 19/200] :\n"
     ]
    },
    {
     "name": "stderr",
     "output_type": "stream",
     "text": [
      "19 Train: 100%|██████| 391/391 [00:05<00:00, 66.19it/s]\n"
     ]
    },
    {
     "name": "stdout",
     "output_type": "stream",
     "text": [
      "Train Loss: 0.6436 | Train Acc: 77.59%\n",
      "Test  Loss: 0.8578 | Test Acc: 71.80%\n",
      "--------------------------------------------------\n",
      "[Epoch 20/200] :\n"
     ]
    },
    {
     "name": "stderr",
     "output_type": "stream",
     "text": [
      "20 Train: 100%|██████| 391/391 [00:06<00:00, 64.53it/s]\n"
     ]
    },
    {
     "name": "stdout",
     "output_type": "stream",
     "text": [
      "Train Loss: 0.6298 | Train Acc: 78.08%\n",
      "Test  Loss: 0.6139 | Test Acc: 79.67%\n",
      "updated best eval loss : 0.6139429785028289\n",
      "--------------------------------------------------\n",
      "[Epoch 21/200] :\n"
     ]
    },
    {
     "name": "stderr",
     "output_type": "stream",
     "text": [
      "21 Train: 100%|██████| 391/391 [00:05<00:00, 67.96it/s]\n"
     ]
    },
    {
     "name": "stdout",
     "output_type": "stream",
     "text": [
      "Train Loss: 0.6198 | Train Acc: 78.50%\n",
      "Test  Loss: 0.6567 | Test Acc: 77.71%\n",
      "--------------------------------------------------\n",
      "[Epoch 22/200] :\n"
     ]
    },
    {
     "name": "stderr",
     "output_type": "stream",
     "text": [
      "22 Train: 100%|██████| 391/391 [00:05<00:00, 68.17it/s]\n"
     ]
    },
    {
     "name": "stdout",
     "output_type": "stream",
     "text": [
      "Train Loss: 0.6154 | Train Acc: 78.68%\n",
      "Test  Loss: 0.6426 | Test Acc: 77.83%\n",
      "--------------------------------------------------\n",
      "[Epoch 23/200] :\n"
     ]
    },
    {
     "name": "stderr",
     "output_type": "stream",
     "text": [
      "23 Train: 100%|██████| 391/391 [00:06<00:00, 64.83it/s]\n"
     ]
    },
    {
     "name": "stdout",
     "output_type": "stream",
     "text": [
      "Train Loss: 0.6020 | Train Acc: 78.97%\n",
      "Test  Loss: 0.7544 | Test Acc: 75.17%\n",
      "--------------------------------------------------\n",
      "[Epoch 24/200] :\n"
     ]
    },
    {
     "name": "stderr",
     "output_type": "stream",
     "text": [
      "24 Train: 100%|██████| 391/391 [00:05<00:00, 65.53it/s]\n"
     ]
    },
    {
     "name": "stdout",
     "output_type": "stream",
     "text": [
      "Train Loss: 0.5903 | Train Acc: 79.72%\n",
      "Test  Loss: 0.7728 | Test Acc: 75.12%\n",
      "--------------------------------------------------\n",
      "[Epoch 25/200] :\n"
     ]
    },
    {
     "name": "stderr",
     "output_type": "stream",
     "text": [
      "25 Train: 100%|██████| 391/391 [00:06<00:00, 63.31it/s]\n"
     ]
    },
    {
     "name": "stdout",
     "output_type": "stream",
     "text": [
      "Train Loss: 0.5854 | Train Acc: 79.76%\n",
      "Test  Loss: 0.6401 | Test Acc: 78.14%\n",
      "--------------------------------------------------\n",
      "[Epoch 26/200] :\n"
     ]
    },
    {
     "name": "stderr",
     "output_type": "stream",
     "text": [
      "26 Train: 100%|██████| 391/391 [00:05<00:00, 65.38it/s]\n"
     ]
    },
    {
     "name": "stdout",
     "output_type": "stream",
     "text": [
      "Train Loss: 0.5769 | Train Acc: 80.00%\n",
      "Test  Loss: 0.9321 | Test Acc: 69.31%\n",
      "--------------------------------------------------\n",
      "[Epoch 27/200] :\n"
     ]
    },
    {
     "name": "stderr",
     "output_type": "stream",
     "text": [
      "27 Train: 100%|██████| 391/391 [00:05<00:00, 66.29it/s]\n"
     ]
    },
    {
     "name": "stdout",
     "output_type": "stream",
     "text": [
      "Train Loss: 0.5654 | Train Acc: 80.46%\n",
      "Test  Loss: 0.8765 | Test Acc: 71.12%\n",
      "--------------------------------------------------\n",
      "[Epoch 28/200] :\n"
     ]
    },
    {
     "name": "stderr",
     "output_type": "stream",
     "text": [
      "28 Train: 100%|██████| 391/391 [00:05<00:00, 66.55it/s]\n"
     ]
    },
    {
     "name": "stdout",
     "output_type": "stream",
     "text": [
      "Train Loss: 0.5637 | Train Acc: 80.45%\n",
      "Test  Loss: 0.6035 | Test Acc: 79.29%\n",
      "updated best eval loss : 0.603456699018237\n",
      "--------------------------------------------------\n",
      "[Epoch 29/200] :\n"
     ]
    },
    {
     "name": "stderr",
     "output_type": "stream",
     "text": [
      "29 Train: 100%|██████| 391/391 [00:05<00:00, 68.29it/s]\n"
     ]
    },
    {
     "name": "stdout",
     "output_type": "stream",
     "text": [
      "Train Loss: 0.5577 | Train Acc: 80.65%\n",
      "Test  Loss: 0.7361 | Test Acc: 75.99%\n",
      "--------------------------------------------------\n",
      "[Epoch 30/200] :\n"
     ]
    },
    {
     "name": "stderr",
     "output_type": "stream",
     "text": [
      "30 Train: 100%|██████| 391/391 [00:05<00:00, 68.88it/s]\n"
     ]
    },
    {
     "name": "stdout",
     "output_type": "stream",
     "text": [
      "Train Loss: 0.5488 | Train Acc: 81.01%\n",
      "Test  Loss: 0.5454 | Test Acc: 81.25%\n",
      "updated best eval loss : 0.5454215505455113\n",
      "--------------------------------------------------\n",
      "[Epoch 31/200] :\n"
     ]
    },
    {
     "name": "stderr",
     "output_type": "stream",
     "text": [
      "31 Train: 100%|██████| 391/391 [00:05<00:00, 67.36it/s]\n"
     ]
    },
    {
     "name": "stdout",
     "output_type": "stream",
     "text": [
      "Train Loss: 0.5549 | Train Acc: 80.88%\n",
      "Test  Loss: 0.9260 | Test Acc: 70.73%\n",
      "--------------------------------------------------\n",
      "[Epoch 32/200] :\n"
     ]
    },
    {
     "name": "stderr",
     "output_type": "stream",
     "text": [
      "32 Train: 100%|██████| 391/391 [00:05<00:00, 67.14it/s]\n"
     ]
    },
    {
     "name": "stdout",
     "output_type": "stream",
     "text": [
      "Train Loss: 0.5415 | Train Acc: 81.32%\n",
      "Test  Loss: 0.8609 | Test Acc: 73.45%\n",
      "--------------------------------------------------\n",
      "[Epoch 33/200] :\n"
     ]
    },
    {
     "name": "stderr",
     "output_type": "stream",
     "text": [
      "33 Train: 100%|██████| 391/391 [00:05<00:00, 68.15it/s]\n"
     ]
    },
    {
     "name": "stdout",
     "output_type": "stream",
     "text": [
      "Train Loss: 0.5409 | Train Acc: 81.13%\n",
      "Test  Loss: 0.6153 | Test Acc: 79.66%\n",
      "--------------------------------------------------\n",
      "[Epoch 34/200] :\n"
     ]
    },
    {
     "name": "stderr",
     "output_type": "stream",
     "text": [
      "34 Train: 100%|██████| 391/391 [00:05<00:00, 67.74it/s]\n"
     ]
    },
    {
     "name": "stdout",
     "output_type": "stream",
     "text": [
      "Train Loss: 0.5332 | Train Acc: 81.51%\n",
      "Test  Loss: 0.6329 | Test Acc: 79.53%\n",
      "--------------------------------------------------\n",
      "[Epoch 35/200] :\n"
     ]
    },
    {
     "name": "stderr",
     "output_type": "stream",
     "text": [
      "35 Train: 100%|██████| 391/391 [00:05<00:00, 66.11it/s]\n"
     ]
    },
    {
     "name": "stdout",
     "output_type": "stream",
     "text": [
      "Train Loss: 0.5261 | Train Acc: 81.62%\n",
      "Test  Loss: 0.5948 | Test Acc: 79.90%\n",
      "--------------------------------------------------\n",
      "[Epoch 36/200] :\n"
     ]
    },
    {
     "name": "stderr",
     "output_type": "stream",
     "text": [
      "36 Train: 100%|██████| 391/391 [00:05<00:00, 65.91it/s]\n"
     ]
    },
    {
     "name": "stdout",
     "output_type": "stream",
     "text": [
      "Train Loss: 0.5218 | Train Acc: 82.02%\n",
      "Test  Loss: 0.5871 | Test Acc: 79.96%\n",
      "--------------------------------------------------\n",
      "[Epoch 37/200] :\n"
     ]
    },
    {
     "name": "stderr",
     "output_type": "stream",
     "text": [
      "37 Train: 100%|██████| 391/391 [00:05<00:00, 68.16it/s]\n"
     ]
    },
    {
     "name": "stdout",
     "output_type": "stream",
     "text": [
      "Train Loss: 0.5237 | Train Acc: 81.66%\n",
      "Test  Loss: 0.5833 | Test Acc: 80.39%\n",
      "--------------------------------------------------\n",
      "[Epoch 38/200] :\n"
     ]
    },
    {
     "name": "stderr",
     "output_type": "stream",
     "text": [
      "38 Train: 100%|██████| 391/391 [00:05<00:00, 67.88it/s]\n"
     ]
    },
    {
     "name": "stdout",
     "output_type": "stream",
     "text": [
      "Train Loss: 0.5129 | Train Acc: 82.12%\n",
      "Test  Loss: 0.6289 | Test Acc: 79.63%\n",
      "--------------------------------------------------\n",
      "[Epoch 39/200] :\n"
     ]
    },
    {
     "name": "stderr",
     "output_type": "stream",
     "text": [
      "39 Train: 100%|██████| 391/391 [00:05<00:00, 66.84it/s]\n"
     ]
    },
    {
     "name": "stdout",
     "output_type": "stream",
     "text": [
      "Train Loss: 0.5128 | Train Acc: 82.22%\n",
      "Test  Loss: 0.6011 | Test Acc: 80.30%\n",
      "--------------------------------------------------\n",
      "[Epoch 40/200] :\n"
     ]
    },
    {
     "name": "stderr",
     "output_type": "stream",
     "text": [
      "40 Train: 100%|██████| 391/391 [00:05<00:00, 66.05it/s]\n"
     ]
    },
    {
     "name": "stdout",
     "output_type": "stream",
     "text": [
      "Train Loss: 0.5081 | Train Acc: 82.42%\n",
      "Test  Loss: 0.6805 | Test Acc: 78.96%\n",
      "--------------------------------------------------\n",
      "[Epoch 41/200] :\n"
     ]
    },
    {
     "name": "stderr",
     "output_type": "stream",
     "text": [
      "41 Train: 100%|██████| 391/391 [00:05<00:00, 65.77it/s]\n"
     ]
    },
    {
     "name": "stdout",
     "output_type": "stream",
     "text": [
      "Train Loss: 0.5044 | Train Acc: 82.56%\n",
      "Test  Loss: 0.7503 | Test Acc: 75.89%\n",
      "--------------------------------------------------\n",
      "[Epoch 42/200] :\n"
     ]
    },
    {
     "name": "stderr",
     "output_type": "stream",
     "text": [
      "42 Train: 100%|██████| 391/391 [00:05<00:00, 65.78it/s]\n"
     ]
    },
    {
     "name": "stdout",
     "output_type": "stream",
     "text": [
      "Train Loss: 0.4997 | Train Acc: 82.52%\n",
      "Test  Loss: 0.7247 | Test Acc: 75.73%\n",
      "--------------------------------------------------\n",
      "[Epoch 43/200] :\n"
     ]
    },
    {
     "name": "stderr",
     "output_type": "stream",
     "text": [
      "43 Train: 100%|██████| 391/391 [00:05<00:00, 65.96it/s]\n"
     ]
    },
    {
     "name": "stdout",
     "output_type": "stream",
     "text": [
      "Train Loss: 0.4918 | Train Acc: 83.15%\n",
      "Test  Loss: 0.8897 | Test Acc: 72.06%\n",
      "--------------------------------------------------\n",
      "[Epoch 44/200] :\n"
     ]
    },
    {
     "name": "stderr",
     "output_type": "stream",
     "text": [
      "44 Train: 100%|██████| 391/391 [00:05<00:00, 68.39it/s]\n"
     ]
    },
    {
     "name": "stdout",
     "output_type": "stream",
     "text": [
      "Train Loss: 0.4968 | Train Acc: 82.82%\n",
      "Test  Loss: 0.5915 | Test Acc: 79.96%\n",
      "--------------------------------------------------\n",
      "[Epoch 45/200] :\n"
     ]
    },
    {
     "name": "stderr",
     "output_type": "stream",
     "text": [
      "45 Train: 100%|██████| 391/391 [00:05<00:00, 69.47it/s]\n"
     ]
    },
    {
     "name": "stdout",
     "output_type": "stream",
     "text": [
      "Train Loss: 0.4950 | Train Acc: 82.84%\n",
      "Test  Loss: 0.7306 | Test Acc: 76.40%\n",
      "--------------------------------------------------\n",
      "[Epoch 46/200] :\n"
     ]
    },
    {
     "name": "stderr",
     "output_type": "stream",
     "text": [
      "46 Train: 100%|██████| 391/391 [00:05<00:00, 69.49it/s]\n"
     ]
    },
    {
     "name": "stdout",
     "output_type": "stream",
     "text": [
      "Train Loss: 0.4885 | Train Acc: 82.93%\n",
      "Test  Loss: 0.5809 | Test Acc: 81.01%\n",
      "--------------------------------------------------\n",
      "[Epoch 47/200] :\n"
     ]
    },
    {
     "name": "stderr",
     "output_type": "stream",
     "text": [
      "47 Train: 100%|██████| 391/391 [00:05<00:00, 68.92it/s]\n"
     ]
    },
    {
     "name": "stdout",
     "output_type": "stream",
     "text": [
      "Train Loss: 0.4793 | Train Acc: 83.42%\n",
      "Test  Loss: 0.6987 | Test Acc: 77.51%\n",
      "--------------------------------------------------\n",
      "[Epoch 48/200] :\n"
     ]
    },
    {
     "name": "stderr",
     "output_type": "stream",
     "text": [
      "48 Train: 100%|██████| 391/391 [00:05<00:00, 67.48it/s]\n"
     ]
    },
    {
     "name": "stdout",
     "output_type": "stream",
     "text": [
      "Train Loss: 0.4853 | Train Acc: 83.06%\n",
      "Test  Loss: 0.8283 | Test Acc: 72.72%\n",
      "--------------------------------------------------\n",
      "[Epoch 49/200] :\n"
     ]
    },
    {
     "name": "stderr",
     "output_type": "stream",
     "text": [
      "49 Train: 100%|██████| 391/391 [00:05<00:00, 68.03it/s]\n"
     ]
    },
    {
     "name": "stdout",
     "output_type": "stream",
     "text": [
      "Train Loss: 0.4836 | Train Acc: 83.25%\n",
      "Test  Loss: 0.6775 | Test Acc: 77.47%\n",
      "--------------------------------------------------\n",
      "[Epoch 50/200] :\n"
     ]
    },
    {
     "name": "stderr",
     "output_type": "stream",
     "text": [
      "50 Train: 100%|██████| 391/391 [00:05<00:00, 65.40it/s]\n"
     ]
    },
    {
     "name": "stdout",
     "output_type": "stream",
     "text": [
      "Train Loss: 0.4813 | Train Acc: 83.19%\n",
      "Test  Loss: 0.6467 | Test Acc: 78.43%\n",
      "--------------------------------------------------\n",
      "[Epoch 51/200] :\n"
     ]
    },
    {
     "name": "stderr",
     "output_type": "stream",
     "text": [
      "51 Train: 100%|██████| 391/391 [00:05<00:00, 66.36it/s]\n"
     ]
    },
    {
     "name": "stdout",
     "output_type": "stream",
     "text": [
      "Train Loss: 0.4721 | Train Acc: 83.54%\n",
      "Test  Loss: 0.6415 | Test Acc: 78.52%\n",
      "--------------------------------------------------\n",
      "[Epoch 52/200] :\n"
     ]
    },
    {
     "name": "stderr",
     "output_type": "stream",
     "text": [
      "52 Train: 100%|██████| 391/391 [00:05<00:00, 68.34it/s]\n"
     ]
    },
    {
     "name": "stdout",
     "output_type": "stream",
     "text": [
      "Train Loss: 0.4667 | Train Acc: 83.80%\n",
      "Test  Loss: 0.6146 | Test Acc: 79.19%\n",
      "--------------------------------------------------\n",
      "[Epoch 53/200] :\n"
     ]
    },
    {
     "name": "stderr",
     "output_type": "stream",
     "text": [
      "53 Train: 100%|██████| 391/391 [00:05<00:00, 65.84it/s]\n"
     ]
    },
    {
     "name": "stdout",
     "output_type": "stream",
     "text": [
      "Train Loss: 0.4717 | Train Acc: 83.72%\n",
      "Test  Loss: 0.6307 | Test Acc: 79.34%\n",
      "--------------------------------------------------\n",
      "[Epoch 54/200] :\n"
     ]
    },
    {
     "name": "stderr",
     "output_type": "stream",
     "text": [
      "54 Train: 100%|██████| 391/391 [00:06<00:00, 64.82it/s]\n"
     ]
    },
    {
     "name": "stdout",
     "output_type": "stream",
     "text": [
      "Train Loss: 0.4654 | Train Acc: 83.74%\n",
      "Test  Loss: 0.6336 | Test Acc: 79.36%\n",
      "--------------------------------------------------\n",
      "[Epoch 55/200] :\n"
     ]
    },
    {
     "name": "stderr",
     "output_type": "stream",
     "text": [
      "55 Train: 100%|██████| 391/391 [00:06<00:00, 63.83it/s]\n"
     ]
    },
    {
     "name": "stdout",
     "output_type": "stream",
     "text": [
      "Train Loss: 0.4658 | Train Acc: 83.72%\n",
      "Test  Loss: 0.5362 | Test Acc: 81.75%\n",
      "updated best eval loss : 0.5362161880807031\n",
      "--------------------------------------------------\n",
      "[Epoch 56/200] :\n"
     ]
    },
    {
     "name": "stderr",
     "output_type": "stream",
     "text": [
      "56 Train: 100%|██████| 391/391 [00:06<00:00, 65.08it/s]\n"
     ]
    },
    {
     "name": "stdout",
     "output_type": "stream",
     "text": [
      "Train Loss: 0.4637 | Train Acc: 83.81%\n",
      "Test  Loss: 0.6526 | Test Acc: 78.66%\n",
      "--------------------------------------------------\n",
      "[Epoch 57/200] :\n"
     ]
    },
    {
     "name": "stderr",
     "output_type": "stream",
     "text": [
      "57 Train: 100%|██████| 391/391 [00:05<00:00, 65.86it/s]\n"
     ]
    },
    {
     "name": "stdout",
     "output_type": "stream",
     "text": [
      "Train Loss: 0.4631 | Train Acc: 83.98%\n",
      "Test  Loss: 0.6273 | Test Acc: 78.51%\n",
      "--------------------------------------------------\n",
      "[Epoch 58/200] :\n"
     ]
    },
    {
     "name": "stderr",
     "output_type": "stream",
     "text": [
      "58 Train: 100%|██████| 391/391 [00:05<00:00, 65.49it/s]\n"
     ]
    },
    {
     "name": "stdout",
     "output_type": "stream",
     "text": [
      "Train Loss: 0.4649 | Train Acc: 83.74%\n",
      "Test  Loss: 1.1902 | Test Acc: 67.72%\n",
      "--------------------------------------------------\n",
      "[Epoch 59/200] :\n"
     ]
    },
    {
     "name": "stderr",
     "output_type": "stream",
     "text": [
      "59 Train: 100%|██████| 391/391 [00:05<00:00, 66.50it/s]\n"
     ]
    },
    {
     "name": "stdout",
     "output_type": "stream",
     "text": [
      "Train Loss: 0.4586 | Train Acc: 84.16%\n",
      "Test  Loss: 0.5757 | Test Acc: 81.11%\n",
      "--------------------------------------------------\n",
      "[Epoch 60/200] :\n"
     ]
    },
    {
     "name": "stderr",
     "output_type": "stream",
     "text": [
      "60 Train: 100%|██████| 391/391 [00:05<00:00, 68.67it/s]\n"
     ]
    },
    {
     "name": "stdout",
     "output_type": "stream",
     "text": [
      "Train Loss: 0.4518 | Train Acc: 84.15%\n",
      "Test  Loss: 0.7253 | Test Acc: 75.87%\n",
      "--------------------------------------------------\n",
      "[Epoch 61/200] :\n"
     ]
    },
    {
     "name": "stderr",
     "output_type": "stream",
     "text": [
      "61 Train: 100%|██████| 391/391 [00:05<00:00, 69.30it/s]\n"
     ]
    },
    {
     "name": "stdout",
     "output_type": "stream",
     "text": [
      "Train Loss: 0.4629 | Train Acc: 83.97%\n",
      "Test  Loss: 0.9303 | Test Acc: 70.60%\n",
      "--------------------------------------------------\n",
      "[Epoch 62/200] :\n"
     ]
    },
    {
     "name": "stderr",
     "output_type": "stream",
     "text": [
      "62 Train: 100%|██████| 391/391 [00:05<00:00, 69.51it/s]\n"
     ]
    },
    {
     "name": "stdout",
     "output_type": "stream",
     "text": [
      "Train Loss: 0.4518 | Train Acc: 84.23%\n",
      "Test  Loss: 0.7156 | Test Acc: 75.63%\n",
      "--------------------------------------------------\n",
      "[Epoch 63/200] :\n"
     ]
    },
    {
     "name": "stderr",
     "output_type": "stream",
     "text": [
      "63 Train: 100%|██████| 391/391 [00:05<00:00, 69.37it/s]\n"
     ]
    },
    {
     "name": "stdout",
     "output_type": "stream",
     "text": [
      "Train Loss: 0.4601 | Train Acc: 83.91%\n",
      "Test  Loss: 0.5983 | Test Acc: 80.67%\n",
      "--------------------------------------------------\n",
      "[Epoch 64/200] :\n"
     ]
    },
    {
     "name": "stderr",
     "output_type": "stream",
     "text": [
      "64 Train: 100%|██████| 391/391 [00:05<00:00, 67.14it/s]\n"
     ]
    },
    {
     "name": "stdout",
     "output_type": "stream",
     "text": [
      "Train Loss: 0.4477 | Train Acc: 84.25%\n",
      "Test  Loss: 0.6035 | Test Acc: 80.41%\n",
      "--------------------------------------------------\n",
      "[Epoch 65/200] :\n"
     ]
    },
    {
     "name": "stderr",
     "output_type": "stream",
     "text": [
      "65 Train: 100%|██████| 391/391 [00:05<00:00, 65.83it/s]\n"
     ]
    },
    {
     "name": "stdout",
     "output_type": "stream",
     "text": [
      "Train Loss: 0.4496 | Train Acc: 84.37%\n",
      "Test  Loss: 0.5615 | Test Acc: 81.12%\n",
      "--------------------------------------------------\n",
      "[Epoch 66/200] :\n"
     ]
    },
    {
     "name": "stderr",
     "output_type": "stream",
     "text": [
      "66 Train: 100%|██████| 391/391 [00:05<00:00, 66.98it/s]\n"
     ]
    },
    {
     "name": "stdout",
     "output_type": "stream",
     "text": [
      "Train Loss: 0.4470 | Train Acc: 84.52%\n",
      "Test  Loss: 0.6118 | Test Acc: 79.74%\n",
      "--------------------------------------------------\n",
      "[Epoch 67/200] :\n"
     ]
    },
    {
     "name": "stderr",
     "output_type": "stream",
     "text": [
      "67 Train: 100%|██████| 391/391 [00:05<00:00, 67.60it/s]\n"
     ]
    },
    {
     "name": "stdout",
     "output_type": "stream",
     "text": [
      "Train Loss: 0.4503 | Train Acc: 84.37%\n",
      "Test  Loss: 0.7235 | Test Acc: 76.07%\n",
      "--------------------------------------------------\n",
      "[Epoch 68/200] :\n"
     ]
    },
    {
     "name": "stderr",
     "output_type": "stream",
     "text": [
      "68 Train: 100%|██████| 391/391 [00:05<00:00, 68.39it/s]\n"
     ]
    },
    {
     "name": "stdout",
     "output_type": "stream",
     "text": [
      "Train Loss: 0.4450 | Train Acc: 84.49%\n",
      "Test  Loss: 0.7428 | Test Acc: 76.09%\n",
      "--------------------------------------------------\n",
      "[Epoch 69/200] :\n"
     ]
    },
    {
     "name": "stderr",
     "output_type": "stream",
     "text": [
      "69 Train: 100%|██████| 391/391 [00:05<00:00, 66.24it/s]\n"
     ]
    },
    {
     "name": "stdout",
     "output_type": "stream",
     "text": [
      "Train Loss: 0.4390 | Train Acc: 84.68%\n",
      "Test  Loss: 0.5916 | Test Acc: 79.45%\n",
      "--------------------------------------------------\n",
      "[Epoch 70/200] :\n"
     ]
    },
    {
     "name": "stderr",
     "output_type": "stream",
     "text": [
      "70 Train: 100%|██████| 391/391 [00:06<00:00, 65.06it/s]\n"
     ]
    },
    {
     "name": "stdout",
     "output_type": "stream",
     "text": [
      "Train Loss: 0.4397 | Train Acc: 84.69%\n",
      "Test  Loss: 0.5885 | Test Acc: 80.43%\n",
      "--------------------------------------------------\n",
      "[Epoch 71/200] :\n"
     ]
    },
    {
     "name": "stderr",
     "output_type": "stream",
     "text": [
      "71 Train: 100%|██████| 391/391 [00:06<00:00, 64.07it/s]\n"
     ]
    },
    {
     "name": "stdout",
     "output_type": "stream",
     "text": [
      "Train Loss: 0.4427 | Train Acc: 84.49%\n",
      "Test  Loss: 0.5730 | Test Acc: 81.05%\n",
      "--------------------------------------------------\n",
      "[Epoch 72/200] :\n"
     ]
    },
    {
     "name": "stderr",
     "output_type": "stream",
     "text": [
      "72 Train: 100%|██████| 391/391 [00:05<00:00, 65.60it/s]\n"
     ]
    },
    {
     "name": "stdout",
     "output_type": "stream",
     "text": [
      "Train Loss: 0.4382 | Train Acc: 84.85%\n",
      "Test  Loss: 0.8778 | Test Acc: 73.55%\n",
      "--------------------------------------------------\n",
      "[Epoch 73/200] :\n"
     ]
    },
    {
     "name": "stderr",
     "output_type": "stream",
     "text": [
      "73 Train: 100%|██████| 391/391 [00:05<00:00, 65.78it/s]\n"
     ]
    },
    {
     "name": "stdout",
     "output_type": "stream",
     "text": [
      "Train Loss: 0.4430 | Train Acc: 84.57%\n",
      "Test  Loss: 0.6363 | Test Acc: 78.59%\n",
      "--------------------------------------------------\n",
      "[Epoch 74/200] :\n"
     ]
    },
    {
     "name": "stderr",
     "output_type": "stream",
     "text": [
      "74 Train: 100%|██████| 391/391 [00:05<00:00, 66.14it/s]\n"
     ]
    },
    {
     "name": "stdout",
     "output_type": "stream",
     "text": [
      "Train Loss: 0.4340 | Train Acc: 84.86%\n",
      "Test  Loss: 0.6836 | Test Acc: 79.23%\n",
      "--------------------------------------------------\n",
      "[Epoch 75/200] :\n"
     ]
    },
    {
     "name": "stderr",
     "output_type": "stream",
     "text": [
      "75 Train: 100%|██████| 391/391 [00:05<00:00, 69.27it/s]\n"
     ]
    },
    {
     "name": "stdout",
     "output_type": "stream",
     "text": [
      "Train Loss: 0.4363 | Train Acc: 84.62%\n",
      "Test  Loss: 0.5708 | Test Acc: 81.95%\n",
      "--------------------------------------------------\n",
      "[Epoch 76/200] :\n"
     ]
    },
    {
     "name": "stderr",
     "output_type": "stream",
     "text": [
      "76 Train: 100%|██████| 391/391 [00:05<00:00, 69.62it/s]\n"
     ]
    },
    {
     "name": "stdout",
     "output_type": "stream",
     "text": [
      "Train Loss: 0.4346 | Train Acc: 84.87%\n",
      "Test  Loss: 0.5632 | Test Acc: 81.52%\n",
      "--------------------------------------------------\n",
      "[Epoch 77/200] :\n"
     ]
    },
    {
     "name": "stderr",
     "output_type": "stream",
     "text": [
      "77 Train: 100%|██████| 391/391 [00:05<00:00, 68.12it/s]\n"
     ]
    },
    {
     "name": "stdout",
     "output_type": "stream",
     "text": [
      "Train Loss: 0.4297 | Train Acc: 85.06%\n",
      "Test  Loss: 0.5309 | Test Acc: 82.42%\n",
      "updated best eval loss : 0.5309174241898935\n",
      "--------------------------------------------------\n",
      "[Epoch 78/200] :\n"
     ]
    },
    {
     "name": "stderr",
     "output_type": "stream",
     "text": [
      "78 Train: 100%|██████| 391/391 [00:05<00:00, 70.30it/s]\n"
     ]
    },
    {
     "name": "stdout",
     "output_type": "stream",
     "text": [
      "Train Loss: 0.4327 | Train Acc: 84.89%\n",
      "Test  Loss: 0.6169 | Test Acc: 79.50%\n",
      "--------------------------------------------------\n",
      "[Epoch 79/200] :\n"
     ]
    },
    {
     "name": "stderr",
     "output_type": "stream",
     "text": [
      "79 Train: 100%|██████| 391/391 [00:05<00:00, 68.27it/s]\n"
     ]
    },
    {
     "name": "stdout",
     "output_type": "stream",
     "text": [
      "Train Loss: 0.4262 | Train Acc: 85.27%\n",
      "Test  Loss: 0.6141 | Test Acc: 80.04%\n",
      "--------------------------------------------------\n",
      "[Epoch 80/200] :\n"
     ]
    },
    {
     "name": "stderr",
     "output_type": "stream",
     "text": [
      "80 Train: 100%|██████| 391/391 [00:06<00:00, 64.17it/s]\n"
     ]
    },
    {
     "name": "stdout",
     "output_type": "stream",
     "text": [
      "Train Loss: 0.4284 | Train Acc: 84.99%\n",
      "Test  Loss: 0.6411 | Test Acc: 78.76%\n",
      "--------------------------------------------------\n",
      "[Epoch 81/200] :\n"
     ]
    },
    {
     "name": "stderr",
     "output_type": "stream",
     "text": [
      "81 Train: 100%|██████| 391/391 [00:05<00:00, 66.17it/s]\n"
     ]
    },
    {
     "name": "stdout",
     "output_type": "stream",
     "text": [
      "Train Loss: 0.4330 | Train Acc: 84.94%\n",
      "Test  Loss: 0.6459 | Test Acc: 78.46%\n",
      "--------------------------------------------------\n",
      "[Epoch 82/200] :\n"
     ]
    },
    {
     "name": "stderr",
     "output_type": "stream",
     "text": [
      "82 Train: 100%|██████| 391/391 [00:05<00:00, 68.16it/s]\n"
     ]
    },
    {
     "name": "stdout",
     "output_type": "stream",
     "text": [
      "Train Loss: 0.4254 | Train Acc: 85.15%\n",
      "Test  Loss: 0.5410 | Test Acc: 82.23%\n",
      "Learning Rate has changed : Now is 0.010000000000000002\n",
      "--------------------------------------------------\n",
      "[Epoch 83/200] :\n"
     ]
    },
    {
     "name": "stderr",
     "output_type": "stream",
     "text": [
      "83 Train: 100%|██████| 391/391 [00:05<00:00, 66.10it/s]\n"
     ]
    },
    {
     "name": "stdout",
     "output_type": "stream",
     "text": [
      "Train Loss: 0.3360 | Train Acc: 88.18%\n",
      "Test  Loss: 0.4116 | Test Acc: 86.13%\n",
      "updated best eval loss : 0.4116376264940334\n",
      "--------------------------------------------------\n",
      "[Epoch 84/200] :\n"
     ]
    },
    {
     "name": "stderr",
     "output_type": "stream",
     "text": [
      "84 Train: 100%|██████| 391/391 [00:05<00:00, 66.79it/s]\n"
     ]
    },
    {
     "name": "stdout",
     "output_type": "stream",
     "text": [
      "Train Loss: 0.3007 | Train Acc: 89.49%\n",
      "Test  Loss: 0.3711 | Test Acc: 87.59%\n",
      "updated best eval loss : 0.37109410781649094\n",
      "--------------------------------------------------\n",
      "[Epoch 85/200] :\n"
     ]
    },
    {
     "name": "stderr",
     "output_type": "stream",
     "text": [
      "85 Train: 100%|██████| 391/391 [00:05<00:00, 65.60it/s]\n"
     ]
    },
    {
     "name": "stdout",
     "output_type": "stream",
     "text": [
      "Train Loss: 0.2922 | Train Acc: 89.75%\n",
      "Test  Loss: 0.3863 | Test Acc: 86.97%\n",
      "--------------------------------------------------\n",
      "[Epoch 86/200] :\n"
     ]
    },
    {
     "name": "stderr",
     "output_type": "stream",
     "text": [
      "86 Train: 100%|██████| 391/391 [00:05<00:00, 66.41it/s]\n"
     ]
    },
    {
     "name": "stdout",
     "output_type": "stream",
     "text": [
      "Train Loss: 0.2886 | Train Acc: 89.98%\n",
      "Test  Loss: 0.4117 | Test Acc: 86.60%\n",
      "--------------------------------------------------\n",
      "[Epoch 87/200] :\n"
     ]
    },
    {
     "name": "stderr",
     "output_type": "stream",
     "text": [
      "87 Train: 100%|██████| 391/391 [00:05<00:00, 65.33it/s]\n"
     ]
    },
    {
     "name": "stdout",
     "output_type": "stream",
     "text": [
      "Train Loss: 0.2780 | Train Acc: 90.27%\n",
      "Test  Loss: 0.4053 | Test Acc: 86.66%\n",
      "--------------------------------------------------\n",
      "[Epoch 88/200] :\n"
     ]
    },
    {
     "name": "stderr",
     "output_type": "stream",
     "text": [
      "88 Train: 100%|██████| 391/391 [00:06<00:00, 64.44it/s]\n"
     ]
    },
    {
     "name": "stdout",
     "output_type": "stream",
     "text": [
      "Train Loss: 0.2757 | Train Acc: 90.38%\n",
      "Test  Loss: 0.4036 | Test Acc: 86.35%\n",
      "--------------------------------------------------\n",
      "[Epoch 89/200] :\n"
     ]
    },
    {
     "name": "stderr",
     "output_type": "stream",
     "text": [
      "89 Train: 100%|██████| 391/391 [00:06<00:00, 63.73it/s]\n"
     ]
    },
    {
     "name": "stdout",
     "output_type": "stream",
     "text": [
      "Train Loss: 0.2715 | Train Acc: 90.49%\n",
      "Test  Loss: 0.4268 | Test Acc: 85.92%\n",
      "--------------------------------------------------\n",
      "[Epoch 90/200] :\n"
     ]
    },
    {
     "name": "stderr",
     "output_type": "stream",
     "text": [
      "90 Train: 100%|██████| 391/391 [00:05<00:00, 68.69it/s]\n"
     ]
    },
    {
     "name": "stdout",
     "output_type": "stream",
     "text": [
      "Train Loss: 0.2672 | Train Acc: 90.73%\n",
      "Test  Loss: 0.3838 | Test Acc: 87.59%\n",
      "--------------------------------------------------\n",
      "[Epoch 91/200] :\n"
     ]
    },
    {
     "name": "stderr",
     "output_type": "stream",
     "text": [
      "91 Train: 100%|██████| 391/391 [00:05<00:00, 68.08it/s]\n"
     ]
    },
    {
     "name": "stdout",
     "output_type": "stream",
     "text": [
      "Train Loss: 0.2583 | Train Acc: 90.93%\n",
      "Test  Loss: 0.4166 | Test Acc: 86.52%\n",
      "--------------------------------------------------\n",
      "[Epoch 92/200] :\n"
     ]
    },
    {
     "name": "stderr",
     "output_type": "stream",
     "text": [
      "92 Train: 100%|██████| 391/391 [00:05<00:00, 69.63it/s]\n"
     ]
    },
    {
     "name": "stdout",
     "output_type": "stream",
     "text": [
      "Train Loss: 0.2600 | Train Acc: 90.96%\n",
      "Test  Loss: 0.4318 | Test Acc: 85.97%\n",
      "--------------------------------------------------\n",
      "[Epoch 93/200] :\n"
     ]
    },
    {
     "name": "stderr",
     "output_type": "stream",
     "text": [
      "93 Train: 100%|██████| 391/391 [00:05<00:00, 70.35it/s]\n"
     ]
    },
    {
     "name": "stdout",
     "output_type": "stream",
     "text": [
      "Train Loss: 0.2551 | Train Acc: 91.09%\n",
      "Test  Loss: 0.4255 | Test Acc: 85.72%\n",
      "--------------------------------------------------\n",
      "[Epoch 94/200] :\n"
     ]
    },
    {
     "name": "stderr",
     "output_type": "stream",
     "text": [
      "94 Train: 100%|██████| 391/391 [00:05<00:00, 69.60it/s]\n"
     ]
    },
    {
     "name": "stdout",
     "output_type": "stream",
     "text": [
      "Train Loss: 0.2588 | Train Acc: 90.92%\n",
      "Test  Loss: 0.4461 | Test Acc: 85.42%\n",
      "--------------------------------------------------\n",
      "[Epoch 95/200] :\n"
     ]
    },
    {
     "name": "stderr",
     "output_type": "stream",
     "text": [
      "95 Train: 100%|██████| 391/391 [00:05<00:00, 67.21it/s]\n"
     ]
    },
    {
     "name": "stdout",
     "output_type": "stream",
     "text": [
      "Train Loss: 0.2504 | Train Acc: 91.33%\n",
      "Test  Loss: 0.4324 | Test Acc: 85.90%\n",
      "--------------------------------------------------\n",
      "[Epoch 96/200] :\n"
     ]
    },
    {
     "name": "stderr",
     "output_type": "stream",
     "text": [
      "96 Train: 100%|██████| 391/391 [00:06<00:00, 63.92it/s]\n"
     ]
    },
    {
     "name": "stdout",
     "output_type": "stream",
     "text": [
      "Train Loss: 0.2460 | Train Acc: 91.54%\n",
      "Test  Loss: 0.4710 | Test Acc: 84.72%\n",
      "--------------------------------------------------\n",
      "[Epoch 97/200] :\n"
     ]
    },
    {
     "name": "stderr",
     "output_type": "stream",
     "text": [
      "97 Train: 100%|██████| 391/391 [00:05<00:00, 67.53it/s]\n"
     ]
    },
    {
     "name": "stdout",
     "output_type": "stream",
     "text": [
      "Train Loss: 0.2569 | Train Acc: 90.97%\n",
      "Test  Loss: 0.4522 | Test Acc: 85.16%\n",
      "--------------------------------------------------\n",
      "[Epoch 98/200] :\n"
     ]
    },
    {
     "name": "stderr",
     "output_type": "stream",
     "text": [
      "98 Train: 100%|██████| 391/391 [00:05<00:00, 66.54it/s]\n"
     ]
    },
    {
     "name": "stdout",
     "output_type": "stream",
     "text": [
      "Train Loss: 0.2494 | Train Acc: 91.28%\n",
      "Test  Loss: 0.4727 | Test Acc: 84.57%\n",
      "--------------------------------------------------\n",
      "[Epoch 99/200] :\n"
     ]
    },
    {
     "name": "stderr",
     "output_type": "stream",
     "text": [
      "99 Train: 100%|██████| 391/391 [00:05<00:00, 66.13it/s]\n"
     ]
    },
    {
     "name": "stdout",
     "output_type": "stream",
     "text": [
      "Train Loss: 0.2461 | Train Acc: 91.36%\n",
      "Test  Loss: 0.4668 | Test Acc: 85.11%\n",
      "--------------------------------------------------\n",
      "[Epoch 100/200] :\n"
     ]
    },
    {
     "name": "stderr",
     "output_type": "stream",
     "text": [
      "100 Train: 100%|█████| 391/391 [00:06<00:00, 64.00it/s]\n"
     ]
    },
    {
     "name": "stdout",
     "output_type": "stream",
     "text": [
      "Train Loss: 0.2439 | Train Acc: 91.48%\n",
      "Test  Loss: 0.4372 | Test Acc: 85.40%\n",
      "--------------------------------------------------\n",
      "[Epoch 101/200] :\n"
     ]
    },
    {
     "name": "stderr",
     "output_type": "stream",
     "text": [
      "101 Train: 100%|█████| 391/391 [00:05<00:00, 66.38it/s]\n"
     ]
    },
    {
     "name": "stdout",
     "output_type": "stream",
     "text": [
      "Train Loss: 0.2407 | Train Acc: 91.40%\n",
      "Test  Loss: 0.4563 | Test Acc: 85.20%\n",
      "--------------------------------------------------\n",
      "[Epoch 102/200] :\n"
     ]
    },
    {
     "name": "stderr",
     "output_type": "stream",
     "text": [
      "102 Train: 100%|█████| 391/391 [00:05<00:00, 65.79it/s]\n"
     ]
    },
    {
     "name": "stdout",
     "output_type": "stream",
     "text": [
      "Train Loss: 0.2403 | Train Acc: 91.43%\n",
      "Test  Loss: 0.4814 | Test Acc: 84.75%\n",
      "--------------------------------------------------\n",
      "[Epoch 103/200] :\n"
     ]
    },
    {
     "name": "stderr",
     "output_type": "stream",
     "text": [
      "103 Train: 100%|█████| 391/391 [00:06<00:00, 64.39it/s]\n"
     ]
    },
    {
     "name": "stdout",
     "output_type": "stream",
     "text": [
      "Train Loss: 0.2383 | Train Acc: 91.67%\n",
      "Test  Loss: 0.4667 | Test Acc: 85.10%\n",
      "--------------------------------------------------\n",
      "[Epoch 104/200] :\n"
     ]
    },
    {
     "name": "stderr",
     "output_type": "stream",
     "text": [
      "104 Train: 100%|█████| 391/391 [00:06<00:00, 62.79it/s]\n"
     ]
    },
    {
     "name": "stdout",
     "output_type": "stream",
     "text": [
      "Train Loss: 0.2425 | Train Acc: 91.57%\n",
      "Test  Loss: 0.4322 | Test Acc: 85.57%\n",
      "--------------------------------------------------\n",
      "[Epoch 105/200] :\n"
     ]
    },
    {
     "name": "stderr",
     "output_type": "stream",
     "text": [
      "105 Train: 100%|█████| 391/391 [00:05<00:00, 67.05it/s]\n"
     ]
    },
    {
     "name": "stdout",
     "output_type": "stream",
     "text": [
      "Train Loss: 0.2316 | Train Acc: 91.89%\n",
      "Test  Loss: 0.4398 | Test Acc: 85.92%\n",
      "--------------------------------------------------\n",
      "[Epoch 106/200] :\n"
     ]
    },
    {
     "name": "stderr",
     "output_type": "stream",
     "text": [
      "106 Train: 100%|█████| 391/391 [00:05<00:00, 69.77it/s]\n"
     ]
    },
    {
     "name": "stdout",
     "output_type": "stream",
     "text": [
      "Train Loss: 0.2349 | Train Acc: 91.82%\n",
      "Test  Loss: 0.4416 | Test Acc: 85.73%\n",
      "--------------------------------------------------\n",
      "[Epoch 107/200] :\n"
     ]
    },
    {
     "name": "stderr",
     "output_type": "stream",
     "text": [
      "107 Train: 100%|█████| 391/391 [00:05<00:00, 69.11it/s]\n"
     ]
    },
    {
     "name": "stdout",
     "output_type": "stream",
     "text": [
      "Train Loss: 0.2367 | Train Acc: 91.67%\n",
      "Test  Loss: 0.4362 | Test Acc: 85.99%\n",
      "--------------------------------------------------\n",
      "[Epoch 108/200] :\n"
     ]
    },
    {
     "name": "stderr",
     "output_type": "stream",
     "text": [
      "108 Train: 100%|█████| 391/391 [00:05<00:00, 70.10it/s]\n"
     ]
    },
    {
     "name": "stdout",
     "output_type": "stream",
     "text": [
      "Train Loss: 0.2285 | Train Acc: 92.01%\n",
      "Test  Loss: 0.4573 | Test Acc: 85.35%\n",
      "--------------------------------------------------\n",
      "[Epoch 109/200] :\n"
     ]
    },
    {
     "name": "stderr",
     "output_type": "stream",
     "text": [
      "109 Train: 100%|█████| 391/391 [00:05<00:00, 68.98it/s]\n"
     ]
    },
    {
     "name": "stdout",
     "output_type": "stream",
     "text": [
      "Train Loss: 0.2318 | Train Acc: 91.87%\n",
      "Test  Loss: 0.4452 | Test Acc: 85.40%\n",
      "--------------------------------------------------\n",
      "[Epoch 110/200] :\n"
     ]
    },
    {
     "name": "stderr",
     "output_type": "stream",
     "text": [
      "110 Train: 100%|█████| 391/391 [00:05<00:00, 67.27it/s]\n"
     ]
    },
    {
     "name": "stdout",
     "output_type": "stream",
     "text": [
      "Train Loss: 0.2275 | Train Acc: 92.14%\n",
      "Test  Loss: 0.4392 | Test Acc: 86.15%\n",
      "--------------------------------------------------\n",
      "[Epoch 111/200] :\n"
     ]
    },
    {
     "name": "stderr",
     "output_type": "stream",
     "text": [
      "111 Train: 100%|█████| 391/391 [00:05<00:00, 65.41it/s]\n"
     ]
    },
    {
     "name": "stdout",
     "output_type": "stream",
     "text": [
      "Train Loss: 0.2284 | Train Acc: 91.98%\n",
      "Test  Loss: 0.4670 | Test Acc: 85.49%\n",
      "--------------------------------------------------\n",
      "[Epoch 112/200] :\n"
     ]
    },
    {
     "name": "stderr",
     "output_type": "stream",
     "text": [
      "112 Train: 100%|█████| 391/391 [00:05<00:00, 66.21it/s]\n"
     ]
    },
    {
     "name": "stdout",
     "output_type": "stream",
     "text": [
      "Train Loss: 0.2295 | Train Acc: 92.04%\n",
      "Test  Loss: 0.4513 | Test Acc: 85.87%\n",
      "--------------------------------------------------\n",
      "[Epoch 113/200] :\n"
     ]
    },
    {
     "name": "stderr",
     "output_type": "stream",
     "text": [
      "113 Train: 100%|█████| 391/391 [00:05<00:00, 66.32it/s]\n"
     ]
    },
    {
     "name": "stdout",
     "output_type": "stream",
     "text": [
      "Train Loss: 0.2222 | Train Acc: 92.12%\n",
      "Test  Loss: 0.5083 | Test Acc: 84.12%\n",
      "--------------------------------------------------\n",
      "[Epoch 114/200] :\n"
     ]
    },
    {
     "name": "stderr",
     "output_type": "stream",
     "text": [
      "114 Train: 100%|█████| 391/391 [00:05<00:00, 65.85it/s]\n"
     ]
    },
    {
     "name": "stdout",
     "output_type": "stream",
     "text": [
      "Train Loss: 0.2272 | Train Acc: 92.08%\n",
      "Test  Loss: 0.4803 | Test Acc: 84.63%\n",
      "--------------------------------------------------\n",
      "[Epoch 115/200] :\n"
     ]
    },
    {
     "name": "stderr",
     "output_type": "stream",
     "text": [
      "115 Train: 100%|█████| 391/391 [00:05<00:00, 65.43it/s]\n"
     ]
    },
    {
     "name": "stdout",
     "output_type": "stream",
     "text": [
      "Train Loss: 0.2272 | Train Acc: 92.10%\n",
      "Test  Loss: 0.4769 | Test Acc: 84.85%\n",
      "--------------------------------------------------\n",
      "[Epoch 116/200] :\n"
     ]
    },
    {
     "name": "stderr",
     "output_type": "stream",
     "text": [
      "116 Train: 100%|█████| 391/391 [00:05<00:00, 65.74it/s]\n"
     ]
    },
    {
     "name": "stdout",
     "output_type": "stream",
     "text": [
      "Train Loss: 0.2198 | Train Acc: 92.39%\n",
      "Test  Loss: 0.5289 | Test Acc: 83.29%\n",
      "--------------------------------------------------\n",
      "[Epoch 117/200] :\n"
     ]
    },
    {
     "name": "stderr",
     "output_type": "stream",
     "text": [
      "117 Train: 100%|█████| 391/391 [00:05<00:00, 65.53it/s]\n"
     ]
    },
    {
     "name": "stdout",
     "output_type": "stream",
     "text": [
      "Train Loss: 0.2232 | Train Acc: 92.18%\n",
      "Test  Loss: 0.5272 | Test Acc: 83.27%\n",
      "--------------------------------------------------\n",
      "[Epoch 118/200] :\n"
     ]
    },
    {
     "name": "stderr",
     "output_type": "stream",
     "text": [
      "118 Train: 100%|█████| 391/391 [00:06<00:00, 63.72it/s]\n"
     ]
    },
    {
     "name": "stdout",
     "output_type": "stream",
     "text": [
      "Train Loss: 0.2236 | Train Acc: 92.24%\n",
      "Test  Loss: 0.5035 | Test Acc: 84.23%\n",
      "--------------------------------------------------\n",
      "[Epoch 119/200] :\n"
     ]
    },
    {
     "name": "stderr",
     "output_type": "stream",
     "text": [
      "119 Train: 100%|█████| 391/391 [00:05<00:00, 66.51it/s]\n"
     ]
    },
    {
     "name": "stdout",
     "output_type": "stream",
     "text": [
      "Train Loss: 0.2216 | Train Acc: 92.28%\n",
      "Test  Loss: 0.5350 | Test Acc: 83.01%\n",
      "--------------------------------------------------\n",
      "[Epoch 120/200] :\n"
     ]
    },
    {
     "name": "stderr",
     "output_type": "stream",
     "text": [
      "120 Train: 100%|█████| 391/391 [00:05<00:00, 66.89it/s]\n"
     ]
    },
    {
     "name": "stdout",
     "output_type": "stream",
     "text": [
      "Train Loss: 0.2246 | Train Acc: 92.17%\n",
      "Test  Loss: 0.4947 | Test Acc: 84.00%\n",
      "--------------------------------------------------\n",
      "[Epoch 121/200] :\n"
     ]
    },
    {
     "name": "stderr",
     "output_type": "stream",
     "text": [
      "121 Train: 100%|█████| 391/391 [00:05<00:00, 68.69it/s]\n"
     ]
    },
    {
     "name": "stdout",
     "output_type": "stream",
     "text": [
      "Train Loss: 0.2157 | Train Acc: 92.50%\n",
      "Test  Loss: 0.5082 | Test Acc: 83.59%\n",
      "--------------------------------------------------\n",
      "[Epoch 122/200] :\n"
     ]
    },
    {
     "name": "stderr",
     "output_type": "stream",
     "text": [
      "122 Train: 100%|█████| 391/391 [00:05<00:00, 69.51it/s]\n"
     ]
    },
    {
     "name": "stdout",
     "output_type": "stream",
     "text": [
      "Train Loss: 0.2193 | Train Acc: 92.36%\n",
      "Test  Loss: 0.4792 | Test Acc: 84.84%\n",
      "--------------------------------------------------\n",
      "[Epoch 123/200] :\n"
     ]
    },
    {
     "name": "stderr",
     "output_type": "stream",
     "text": [
      "123 Train: 100%|█████| 391/391 [00:05<00:00, 68.88it/s]\n"
     ]
    },
    {
     "name": "stdout",
     "output_type": "stream",
     "text": [
      "Train Loss: 0.2185 | Train Acc: 92.45%\n",
      "Test  Loss: 0.4686 | Test Acc: 84.88%\n",
      "Learning Rate has changed : Now is 0.0010000000000000002\n",
      "--------------------------------------------------\n",
      "[Epoch 124/200] :\n"
     ]
    },
    {
     "name": "stderr",
     "output_type": "stream",
     "text": [
      "124 Train: 100%|█████| 391/391 [00:05<00:00, 68.39it/s]\n"
     ]
    },
    {
     "name": "stdout",
     "output_type": "stream",
     "text": [
      "Train Loss: 0.2083 | Train Acc: 92.76%\n",
      "Test  Loss: 0.4677 | Test Acc: 84.67%\n",
      "--------------------------------------------------\n",
      "[Epoch 125/200] :\n"
     ]
    },
    {
     "name": "stderr",
     "output_type": "stream",
     "text": [
      "125 Train: 100%|█████| 391/391 [00:05<00:00, 68.39it/s]\n"
     ]
    },
    {
     "name": "stdout",
     "output_type": "stream",
     "text": [
      "Train Loss: 0.2027 | Train Acc: 92.91%\n",
      "Test  Loss: 0.4451 | Test Acc: 85.50%\n",
      "--------------------------------------------------\n",
      "[Epoch 126/200] :\n"
     ]
    },
    {
     "name": "stderr",
     "output_type": "stream",
     "text": [
      "126 Train: 100%|█████| 391/391 [00:05<00:00, 66.61it/s]\n"
     ]
    },
    {
     "name": "stdout",
     "output_type": "stream",
     "text": [
      "Train Loss: 0.2003 | Train Acc: 93.10%\n",
      "Test  Loss: 0.4520 | Test Acc: 85.48%\n",
      "--------------------------------------------------\n",
      "[Epoch 127/200] :\n"
     ]
    },
    {
     "name": "stderr",
     "output_type": "stream",
     "text": [
      "127 Train: 100%|█████| 391/391 [00:05<00:00, 67.83it/s]\n"
     ]
    },
    {
     "name": "stdout",
     "output_type": "stream",
     "text": [
      "Train Loss: 0.2032 | Train Acc: 92.91%\n",
      "Test  Loss: 0.4526 | Test Acc: 85.45%\n",
      "--------------------------------------------------\n",
      "[Epoch 128/200] :\n"
     ]
    },
    {
     "name": "stderr",
     "output_type": "stream",
     "text": [
      "128 Train: 100%|█████| 391/391 [00:05<00:00, 68.43it/s]\n"
     ]
    },
    {
     "name": "stdout",
     "output_type": "stream",
     "text": [
      "Train Loss: 0.1993 | Train Acc: 93.11%\n",
      "Test  Loss: 0.4473 | Test Acc: 85.46%\n",
      "--------------------------------------------------\n",
      "[Epoch 129/200] :\n"
     ]
    },
    {
     "name": "stderr",
     "output_type": "stream",
     "text": [
      "129 Train: 100%|█████| 391/391 [00:05<00:00, 68.15it/s]\n"
     ]
    },
    {
     "name": "stdout",
     "output_type": "stream",
     "text": [
      "Train Loss: 0.2008 | Train Acc: 93.10%\n",
      "Test  Loss: 0.4489 | Test Acc: 85.44%\n",
      "--------------------------------------------------\n",
      "[Epoch 130/200] :\n"
     ]
    },
    {
     "name": "stderr",
     "output_type": "stream",
     "text": [
      "130 Train: 100%|█████| 391/391 [00:05<00:00, 65.99it/s]\n"
     ]
    },
    {
     "name": "stdout",
     "output_type": "stream",
     "text": [
      "Train Loss: 0.1947 | Train Acc: 93.34%\n",
      "Test  Loss: 0.4645 | Test Acc: 84.97%\n",
      "--------------------------------------------------\n",
      "[Epoch 131/200] :\n"
     ]
    },
    {
     "name": "stderr",
     "output_type": "stream",
     "text": [
      "131 Train: 100%|█████| 391/391 [00:05<00:00, 65.21it/s]\n"
     ]
    },
    {
     "name": "stdout",
     "output_type": "stream",
     "text": [
      "Train Loss: 0.1986 | Train Acc: 93.09%\n",
      "Test  Loss: 0.4493 | Test Acc: 85.57%\n",
      "--------------------------------------------------\n",
      "[Epoch 132/200] :\n"
     ]
    },
    {
     "name": "stderr",
     "output_type": "stream",
     "text": [
      "132 Train: 100%|█████| 391/391 [00:05<00:00, 65.81it/s]\n"
     ]
    },
    {
     "name": "stdout",
     "output_type": "stream",
     "text": [
      "Train Loss: 0.1981 | Train Acc: 93.09%\n",
      "Test  Loss: 0.4452 | Test Acc: 85.61%\n",
      "--------------------------------------------------\n",
      "[Epoch 133/200] :\n"
     ]
    },
    {
     "name": "stderr",
     "output_type": "stream",
     "text": [
      "133 Train: 100%|█████| 391/391 [00:06<00:00, 65.01it/s]\n"
     ]
    },
    {
     "name": "stdout",
     "output_type": "stream",
     "text": [
      "Train Loss: 0.1987 | Train Acc: 93.04%\n",
      "Test  Loss: 0.4441 | Test Acc: 85.49%\n",
      "--------------------------------------------------\n",
      "[Epoch 134/200] :\n"
     ]
    },
    {
     "name": "stderr",
     "output_type": "stream",
     "text": [
      "134 Train: 100%|█████| 391/391 [00:05<00:00, 66.26it/s]\n"
     ]
    },
    {
     "name": "stdout",
     "output_type": "stream",
     "text": [
      "Train Loss: 0.1934 | Train Acc: 93.29%\n",
      "Test  Loss: 0.4617 | Test Acc: 85.05%\n",
      "--------------------------------------------------\n",
      "[Epoch 135/200] :\n"
     ]
    },
    {
     "name": "stderr",
     "output_type": "stream",
     "text": [
      "135 Train: 100%|█████| 391/391 [00:05<00:00, 67.45it/s]\n"
     ]
    },
    {
     "name": "stdout",
     "output_type": "stream",
     "text": [
      "Train Loss: 0.1998 | Train Acc: 93.02%\n",
      "Test  Loss: 0.4666 | Test Acc: 85.15%\n",
      "--------------------------------------------------\n",
      "[Epoch 136/200] :\n"
     ]
    },
    {
     "name": "stderr",
     "output_type": "stream",
     "text": [
      "136 Train: 100%|█████| 391/391 [00:05<00:00, 69.49it/s]\n"
     ]
    },
    {
     "name": "stdout",
     "output_type": "stream",
     "text": [
      "Train Loss: 0.1962 | Train Acc: 93.17%\n",
      "Test  Loss: 0.4590 | Test Acc: 85.15%\n",
      "--------------------------------------------------\n",
      "[Epoch 137/200] :\n"
     ]
    },
    {
     "name": "stderr",
     "output_type": "stream",
     "text": [
      "137 Train: 100%|█████| 391/391 [00:05<00:00, 70.17it/s]\n"
     ]
    },
    {
     "name": "stdout",
     "output_type": "stream",
     "text": [
      "Train Loss: 0.1942 | Train Acc: 93.31%\n",
      "Test  Loss: 0.4660 | Test Acc: 85.02%\n",
      "--------------------------------------------------\n",
      "[Epoch 138/200] :\n"
     ]
    },
    {
     "name": "stderr",
     "output_type": "stream",
     "text": [
      "138 Train: 100%|█████| 391/391 [00:05<00:00, 68.89it/s]\n"
     ]
    },
    {
     "name": "stdout",
     "output_type": "stream",
     "text": [
      "Train Loss: 0.1962 | Train Acc: 93.20%\n",
      "Test  Loss: 0.4629 | Test Acc: 85.31%\n",
      "--------------------------------------------------\n",
      "[Epoch 139/200] :\n"
     ]
    },
    {
     "name": "stderr",
     "output_type": "stream",
     "text": [
      "139 Train: 100%|█████| 391/391 [00:05<00:00, 69.18it/s]\n"
     ]
    },
    {
     "name": "stdout",
     "output_type": "stream",
     "text": [
      "Train Loss: 0.1952 | Train Acc: 93.22%\n",
      "Test  Loss: 0.4752 | Test Acc: 84.89%\n",
      "--------------------------------------------------\n",
      "[Epoch 140/200] :\n"
     ]
    },
    {
     "name": "stderr",
     "output_type": "stream",
     "text": [
      "140 Train: 100%|█████| 391/391 [00:05<00:00, 68.52it/s]\n"
     ]
    },
    {
     "name": "stdout",
     "output_type": "stream",
     "text": [
      "Train Loss: 0.1915 | Train Acc: 93.41%\n",
      "Test  Loss: 0.4787 | Test Acc: 85.06%\n",
      "--------------------------------------------------\n",
      "[Epoch 141/200] :\n"
     ]
    },
    {
     "name": "stderr",
     "output_type": "stream",
     "text": [
      "141 Train: 100%|█████| 391/391 [00:05<00:00, 65.71it/s]\n"
     ]
    },
    {
     "name": "stdout",
     "output_type": "stream",
     "text": [
      "Train Loss: 0.1904 | Train Acc: 93.22%\n",
      "Test  Loss: 0.4603 | Test Acc: 85.06%\n",
      "--------------------------------------------------\n",
      "[Epoch 142/200] :\n"
     ]
    },
    {
     "name": "stderr",
     "output_type": "stream",
     "text": [
      "142 Train: 100%|█████| 391/391 [00:05<00:00, 65.34it/s]\n"
     ]
    },
    {
     "name": "stdout",
     "output_type": "stream",
     "text": [
      "Train Loss: 0.1887 | Train Acc: 93.56%\n",
      "Test  Loss: 0.4623 | Test Acc: 85.15%\n",
      "--------------------------------------------------\n",
      "[Epoch 143/200] :\n"
     ]
    },
    {
     "name": "stderr",
     "output_type": "stream",
     "text": [
      "143 Train: 100%|█████| 391/391 [00:05<00:00, 66.79it/s]\n"
     ]
    },
    {
     "name": "stdout",
     "output_type": "stream",
     "text": [
      "Train Loss: 0.1943 | Train Acc: 93.40%\n",
      "Test  Loss: 0.4822 | Test Acc: 84.69%\n",
      "--------------------------------------------------\n",
      "[Epoch 144/200] :\n"
     ]
    },
    {
     "name": "stderr",
     "output_type": "stream",
     "text": [
      "144 Train: 100%|█████| 391/391 [00:05<00:00, 67.35it/s]\n"
     ]
    },
    {
     "name": "stdout",
     "output_type": "stream",
     "text": [
      "Train Loss: 0.1939 | Train Acc: 93.41%\n",
      "Test  Loss: 0.4696 | Test Acc: 84.90%\n",
      "--------------------------------------------------\n",
      "[Epoch 145/200] :\n"
     ]
    },
    {
     "name": "stderr",
     "output_type": "stream",
     "text": [
      "145 Train: 100%|█████| 391/391 [00:05<00:00, 66.20it/s]\n"
     ]
    },
    {
     "name": "stdout",
     "output_type": "stream",
     "text": [
      "Train Loss: 0.1915 | Train Acc: 93.37%\n",
      "Test  Loss: 0.4654 | Test Acc: 84.96%\n",
      "--------------------------------------------------\n",
      "[Epoch 146/200] :\n"
     ]
    },
    {
     "name": "stderr",
     "output_type": "stream",
     "text": [
      "146 Train: 100%|█████| 391/391 [00:05<00:00, 67.03it/s]\n"
     ]
    },
    {
     "name": "stdout",
     "output_type": "stream",
     "text": [
      "Train Loss: 0.1898 | Train Acc: 93.45%\n",
      "Test  Loss: 0.4729 | Test Acc: 85.01%\n",
      "--------------------------------------------------\n",
      "[Epoch 147/200] :\n"
     ]
    },
    {
     "name": "stderr",
     "output_type": "stream",
     "text": [
      "147 Train: 100%|█████| 391/391 [00:05<00:00, 66.05it/s]\n"
     ]
    },
    {
     "name": "stdout",
     "output_type": "stream",
     "text": [
      "Train Loss: 0.1897 | Train Acc: 93.46%\n",
      "Test  Loss: 0.4718 | Test Acc: 84.70%\n",
      "--------------------------------------------------\n",
      "[Epoch 148/200] :\n"
     ]
    },
    {
     "name": "stderr",
     "output_type": "stream",
     "text": [
      "148 Train: 100%|█████| 391/391 [00:05<00:00, 65.78it/s]\n"
     ]
    },
    {
     "name": "stdout",
     "output_type": "stream",
     "text": [
      "Train Loss: 0.1894 | Train Acc: 93.37%\n",
      "Test  Loss: 0.4817 | Test Acc: 84.71%\n",
      "--------------------------------------------------\n",
      "[Epoch 149/200] :\n"
     ]
    },
    {
     "name": "stderr",
     "output_type": "stream",
     "text": [
      "149 Train: 100%|█████| 391/391 [00:05<00:00, 66.00it/s]\n"
     ]
    },
    {
     "name": "stdout",
     "output_type": "stream",
     "text": [
      "Train Loss: 0.1886 | Train Acc: 93.33%\n",
      "Test  Loss: 0.4634 | Test Acc: 85.13%\n",
      "--------------------------------------------------\n",
      "[Epoch 150/200] :\n"
     ]
    },
    {
     "name": "stderr",
     "output_type": "stream",
     "text": [
      "150 Train: 100%|█████| 391/391 [00:05<00:00, 65.36it/s]\n"
     ]
    },
    {
     "name": "stdout",
     "output_type": "stream",
     "text": [
      "Train Loss: 0.1906 | Train Acc: 93.33%\n",
      "Test  Loss: 0.4692 | Test Acc: 84.95%\n",
      "--------------------------------------------------\n",
      "[Epoch 151/200] :\n"
     ]
    },
    {
     "name": "stderr",
     "output_type": "stream",
     "text": [
      "151 Train: 100%|█████| 391/391 [00:05<00:00, 69.82it/s]\n"
     ]
    },
    {
     "name": "stdout",
     "output_type": "stream",
     "text": [
      "Train Loss: 0.1884 | Train Acc: 93.36%\n",
      "Test  Loss: 0.4621 | Test Acc: 85.23%\n",
      "--------------------------------------------------\n",
      "[Epoch 152/200] :\n"
     ]
    },
    {
     "name": "stderr",
     "output_type": "stream",
     "text": [
      "152 Train: 100%|█████| 391/391 [00:05<00:00, 66.84it/s]\n"
     ]
    },
    {
     "name": "stdout",
     "output_type": "stream",
     "text": [
      "Train Loss: 0.1882 | Train Acc: 93.47%\n",
      "Test  Loss: 0.4694 | Test Acc: 85.12%\n",
      "--------------------------------------------------\n",
      "[Epoch 153/200] :\n"
     ]
    },
    {
     "name": "stderr",
     "output_type": "stream",
     "text": [
      "153 Train: 100%|█████| 391/391 [00:05<00:00, 68.32it/s]\n"
     ]
    },
    {
     "name": "stdout",
     "output_type": "stream",
     "text": [
      "Train Loss: 0.1849 | Train Acc: 93.60%\n",
      "Test  Loss: 0.4670 | Test Acc: 84.99%\n",
      "--------------------------------------------------\n",
      "[Epoch 154/200] :\n"
     ]
    },
    {
     "name": "stderr",
     "output_type": "stream",
     "text": [
      "154 Train: 100%|█████| 391/391 [00:05<00:00, 67.22it/s]\n"
     ]
    },
    {
     "name": "stdout",
     "output_type": "stream",
     "text": [
      "Train Loss: 0.1872 | Train Acc: 93.56%\n",
      "Test  Loss: 0.4714 | Test Acc: 84.71%\n",
      "--------------------------------------------------\n",
      "[Epoch 155/200] :\n"
     ]
    },
    {
     "name": "stderr",
     "output_type": "stream",
     "text": [
      "155 Train: 100%|█████| 391/391 [00:05<00:00, 69.88it/s]\n"
     ]
    },
    {
     "name": "stdout",
     "output_type": "stream",
     "text": [
      "Train Loss: 0.1896 | Train Acc: 93.52%\n",
      "Test  Loss: 0.4682 | Test Acc: 84.87%\n",
      "--------------------------------------------------\n",
      "[Epoch 156/200] :\n"
     ]
    },
    {
     "name": "stderr",
     "output_type": "stream",
     "text": [
      "156 Train: 100%|█████| 391/391 [00:06<00:00, 64.27it/s]\n"
     ]
    },
    {
     "name": "stdout",
     "output_type": "stream",
     "text": [
      "Train Loss: 0.1899 | Train Acc: 93.42%\n",
      "Test  Loss: 0.4641 | Test Acc: 84.94%\n",
      "--------------------------------------------------\n",
      "[Epoch 157/200] :\n"
     ]
    },
    {
     "name": "stderr",
     "output_type": "stream",
     "text": [
      "157 Train: 100%|█████| 391/391 [00:06<00:00, 64.75it/s]\n"
     ]
    },
    {
     "name": "stdout",
     "output_type": "stream",
     "text": [
      "Train Loss: 0.1858 | Train Acc: 93.48%\n",
      "Test  Loss: 0.4768 | Test Acc: 84.73%\n",
      "--------------------------------------------------\n",
      "[Epoch 158/200] :\n"
     ]
    },
    {
     "name": "stderr",
     "output_type": "stream",
     "text": [
      "158 Train: 100%|█████| 391/391 [00:05<00:00, 68.54it/s]\n"
     ]
    },
    {
     "name": "stdout",
     "output_type": "stream",
     "text": [
      "Train Loss: 0.1930 | Train Acc: 93.35%\n",
      "Test  Loss: 0.4636 | Test Acc: 85.10%\n",
      "--------------------------------------------------\n",
      "[Epoch 159/200] :\n"
     ]
    },
    {
     "name": "stderr",
     "output_type": "stream",
     "text": [
      "159 Train: 100%|█████| 391/391 [00:05<00:00, 68.63it/s]\n"
     ]
    },
    {
     "name": "stdout",
     "output_type": "stream",
     "text": [
      "Train Loss: 0.1867 | Train Acc: 93.57%\n",
      "Test  Loss: 0.4582 | Test Acc: 85.28%\n",
      "--------------------------------------------------\n",
      "[Epoch 160/200] :\n"
     ]
    },
    {
     "name": "stderr",
     "output_type": "stream",
     "text": [
      "160 Train: 100%|█████| 391/391 [00:05<00:00, 66.60it/s]\n"
     ]
    },
    {
     "name": "stdout",
     "output_type": "stream",
     "text": [
      "Train Loss: 0.1865 | Train Acc: 93.51%\n",
      "Test  Loss: 0.4746 | Test Acc: 84.66%\n",
      "--------------------------------------------------\n",
      "[Epoch 161/200] :\n"
     ]
    },
    {
     "name": "stderr",
     "output_type": "stream",
     "text": [
      "161 Train: 100%|█████| 391/391 [00:05<00:00, 65.52it/s]\n"
     ]
    },
    {
     "name": "stdout",
     "output_type": "stream",
     "text": [
      "Train Loss: 0.1876 | Train Acc: 93.48%\n",
      "Test  Loss: 0.4699 | Test Acc: 85.07%\n",
      "--------------------------------------------------\n",
      "[Epoch 162/200] :\n"
     ]
    },
    {
     "name": "stderr",
     "output_type": "stream",
     "text": [
      "162 Train: 100%|█████| 391/391 [00:06<00:00, 64.69it/s]\n"
     ]
    },
    {
     "name": "stdout",
     "output_type": "stream",
     "text": [
      "Train Loss: 0.1889 | Train Acc: 93.50%\n",
      "Test  Loss: 0.4749 | Test Acc: 84.74%\n",
      "--------------------------------------------------\n",
      "[Epoch 163/200] :\n"
     ]
    },
    {
     "name": "stderr",
     "output_type": "stream",
     "text": [
      "163 Train: 100%|█████| 391/391 [00:05<00:00, 65.43it/s]\n"
     ]
    },
    {
     "name": "stdout",
     "output_type": "stream",
     "text": [
      "Train Loss: 0.1886 | Train Acc: 93.44%\n",
      "Test  Loss: 0.4604 | Test Acc: 85.16%\n",
      "--------------------------------------------------\n",
      "[Epoch 164/200] :\n"
     ]
    },
    {
     "name": "stderr",
     "output_type": "stream",
     "text": [
      "164 Train: 100%|█████| 391/391 [00:05<00:00, 65.75it/s]\n"
     ]
    },
    {
     "name": "stdout",
     "output_type": "stream",
     "text": [
      "Train Loss: 0.1870 | Train Acc: 93.58%\n",
      "Test  Loss: 0.4656 | Test Acc: 85.07%\n",
      "--------------------------------------------------\n",
      "[Epoch 165/200] :\n"
     ]
    },
    {
     "name": "stderr",
     "output_type": "stream",
     "text": [
      "165 Train: 100%|█████| 391/391 [00:05<00:00, 66.46it/s]\n"
     ]
    },
    {
     "name": "stdout",
     "output_type": "stream",
     "text": [
      "Train Loss: 0.1884 | Train Acc: 93.56%\n",
      "Test  Loss: 0.4671 | Test Acc: 85.08%\n",
      "--------------------------------------------------\n",
      "[Epoch 166/200] :\n"
     ]
    },
    {
     "name": "stderr",
     "output_type": "stream",
     "text": [
      "166 Train: 100%|█████| 391/391 [00:05<00:00, 68.84it/s]\n"
     ]
    },
    {
     "name": "stdout",
     "output_type": "stream",
     "text": [
      "Train Loss: 0.1883 | Train Acc: 93.49%\n",
      "Test  Loss: 0.4630 | Test Acc: 85.41%\n",
      "--------------------------------------------------\n",
      "[Epoch 167/200] :\n"
     ]
    },
    {
     "name": "stderr",
     "output_type": "stream",
     "text": [
      "167 Train: 100%|█████| 391/391 [00:05<00:00, 70.23it/s]\n"
     ]
    },
    {
     "name": "stdout",
     "output_type": "stream",
     "text": [
      "Train Loss: 0.1846 | Train Acc: 93.59%\n",
      "Test  Loss: 0.4597 | Test Acc: 85.26%\n",
      "--------------------------------------------------\n",
      "[Epoch 168/200] :\n"
     ]
    },
    {
     "name": "stderr",
     "output_type": "stream",
     "text": [
      "168 Train: 100%|█████| 391/391 [00:05<00:00, 69.43it/s]\n"
     ]
    },
    {
     "name": "stdout",
     "output_type": "stream",
     "text": [
      "Train Loss: 0.1901 | Train Acc: 93.50%\n",
      "Test  Loss: 0.4562 | Test Acc: 85.26%\n",
      "--------------------------------------------------\n",
      "[Epoch 169/200] :\n"
     ]
    },
    {
     "name": "stderr",
     "output_type": "stream",
     "text": [
      "169 Train: 100%|█████| 391/391 [00:05<00:00, 68.09it/s]\n"
     ]
    },
    {
     "name": "stdout",
     "output_type": "stream",
     "text": [
      "Train Loss: 0.1823 | Train Acc: 93.66%\n",
      "Test  Loss: 0.4620 | Test Acc: 85.58%\n",
      "--------------------------------------------------\n",
      "[Epoch 170/200] :\n"
     ]
    },
    {
     "name": "stderr",
     "output_type": "stream",
     "text": [
      "170 Train: 100%|█████| 391/391 [00:05<00:00, 66.99it/s]\n"
     ]
    },
    {
     "name": "stdout",
     "output_type": "stream",
     "text": [
      "Train Loss: 0.1903 | Train Acc: 93.49%\n",
      "Test  Loss: 0.4691 | Test Acc: 85.19%\n",
      "--------------------------------------------------\n",
      "[Epoch 171/200] :\n"
     ]
    },
    {
     "name": "stderr",
     "output_type": "stream",
     "text": [
      "171 Train: 100%|█████| 391/391 [00:05<00:00, 67.39it/s]\n"
     ]
    },
    {
     "name": "stdout",
     "output_type": "stream",
     "text": [
      "Train Loss: 0.1895 | Train Acc: 93.44%\n",
      "Test  Loss: 0.4865 | Test Acc: 85.16%\n",
      "--------------------------------------------------\n",
      "[Epoch 172/200] :\n"
     ]
    },
    {
     "name": "stderr",
     "output_type": "stream",
     "text": [
      "172 Train: 100%|█████| 391/391 [00:05<00:00, 66.15it/s]\n"
     ]
    },
    {
     "name": "stdout",
     "output_type": "stream",
     "text": [
      "Train Loss: 0.1858 | Train Acc: 93.56%\n",
      "Test  Loss: 0.4747 | Test Acc: 84.93%\n",
      "--------------------------------------------------\n",
      "[Epoch 173/200] :\n"
     ]
    },
    {
     "name": "stderr",
     "output_type": "stream",
     "text": [
      "173 Train: 100%|█████| 391/391 [00:05<00:00, 67.84it/s]\n"
     ]
    },
    {
     "name": "stdout",
     "output_type": "stream",
     "text": [
      "Train Loss: 0.1850 | Train Acc: 93.57%\n",
      "Test  Loss: 0.4676 | Test Acc: 85.22%\n",
      "--------------------------------------------------\n",
      "[Epoch 174/200] :\n"
     ]
    },
    {
     "name": "stderr",
     "output_type": "stream",
     "text": [
      "174 Train: 100%|█████| 391/391 [00:05<00:00, 66.76it/s]\n"
     ]
    },
    {
     "name": "stdout",
     "output_type": "stream",
     "text": [
      "Train Loss: 0.1824 | Train Acc: 93.81%\n",
      "Test  Loss: 0.4922 | Test Acc: 84.40%\n",
      "--------------------------------------------------\n",
      "[Epoch 175/200] :\n"
     ]
    },
    {
     "name": "stderr",
     "output_type": "stream",
     "text": [
      "175 Train: 100%|█████| 391/391 [00:05<00:00, 65.81it/s]\n"
     ]
    },
    {
     "name": "stdout",
     "output_type": "stream",
     "text": [
      "Train Loss: 0.1902 | Train Acc: 93.41%\n",
      "Test  Loss: 0.4905 | Test Acc: 84.59%\n",
      "--------------------------------------------------\n",
      "[Epoch 176/200] :\n"
     ]
    },
    {
     "name": "stderr",
     "output_type": "stream",
     "text": [
      "176 Train: 100%|█████| 391/391 [00:05<00:00, 65.25it/s]\n"
     ]
    },
    {
     "name": "stdout",
     "output_type": "stream",
     "text": [
      "Train Loss: 0.1871 | Train Acc: 93.48%\n",
      "Test  Loss: 0.4808 | Test Acc: 84.63%\n",
      "--------------------------------------------------\n",
      "[Epoch 177/200] :\n"
     ]
    },
    {
     "name": "stderr",
     "output_type": "stream",
     "text": [
      "177 Train: 100%|█████| 391/391 [00:06<00:00, 64.72it/s]\n"
     ]
    },
    {
     "name": "stdout",
     "output_type": "stream",
     "text": [
      "Train Loss: 0.1839 | Train Acc: 93.62%\n",
      "Test  Loss: 0.4939 | Test Acc: 84.29%\n",
      "--------------------------------------------------\n",
      "[Epoch 178/200] :\n"
     ]
    },
    {
     "name": "stderr",
     "output_type": "stream",
     "text": [
      "178 Train: 100%|█████| 391/391 [00:05<00:00, 65.45it/s]\n"
     ]
    },
    {
     "name": "stdout",
     "output_type": "stream",
     "text": [
      "Train Loss: 0.1843 | Train Acc: 93.72%\n",
      "Test  Loss: 0.4876 | Test Acc: 84.36%\n",
      "--------------------------------------------------\n",
      "[Epoch 179/200] :\n"
     ]
    },
    {
     "name": "stderr",
     "output_type": "stream",
     "text": [
      "179 Train: 100%|█████| 391/391 [00:05<00:00, 66.26it/s]\n"
     ]
    },
    {
     "name": "stdout",
     "output_type": "stream",
     "text": [
      "Train Loss: 0.1867 | Train Acc: 93.57%\n",
      "Test  Loss: 0.4798 | Test Acc: 84.74%\n",
      "--------------------------------------------------\n",
      "[Epoch 180/200] :\n"
     ]
    },
    {
     "name": "stderr",
     "output_type": "stream",
     "text": [
      "180 Train: 100%|█████| 391/391 [00:05<00:00, 66.10it/s]\n"
     ]
    },
    {
     "name": "stdout",
     "output_type": "stream",
     "text": [
      "Train Loss: 0.1852 | Train Acc: 93.50%\n",
      "Test  Loss: 0.4982 | Test Acc: 84.37%\n",
      "--------------------------------------------------\n",
      "[Epoch 181/200] :\n"
     ]
    },
    {
     "name": "stderr",
     "output_type": "stream",
     "text": [
      "181 Train: 100%|█████| 391/391 [00:05<00:00, 68.35it/s]\n"
     ]
    },
    {
     "name": "stdout",
     "output_type": "stream",
     "text": [
      "Train Loss: 0.1876 | Train Acc: 93.43%\n",
      "Test  Loss: 0.4864 | Test Acc: 84.56%\n",
      "--------------------------------------------------\n",
      "[Epoch 182/200] :\n"
     ]
    },
    {
     "name": "stderr",
     "output_type": "stream",
     "text": [
      "182 Train: 100%|█████| 391/391 [00:05<00:00, 68.56it/s]\n"
     ]
    },
    {
     "name": "stdout",
     "output_type": "stream",
     "text": [
      "Train Loss: 0.1827 | Train Acc: 93.65%\n",
      "Test  Loss: 0.5037 | Test Acc: 84.35%\n",
      "--------------------------------------------------\n",
      "[Epoch 183/200] :\n"
     ]
    },
    {
     "name": "stderr",
     "output_type": "stream",
     "text": [
      "183 Train: 100%|█████| 391/391 [00:05<00:00, 69.00it/s]\n"
     ]
    },
    {
     "name": "stdout",
     "output_type": "stream",
     "text": [
      "Train Loss: 0.1821 | Train Acc: 93.70%\n",
      "Test  Loss: 0.5008 | Test Acc: 84.08%\n",
      "--------------------------------------------------\n",
      "[Epoch 184/200] :\n"
     ]
    },
    {
     "name": "stderr",
     "output_type": "stream",
     "text": [
      "184 Train: 100%|█████| 391/391 [00:05<00:00, 69.74it/s]\n"
     ]
    },
    {
     "name": "stdout",
     "output_type": "stream",
     "text": [
      "Train Loss: 0.1829 | Train Acc: 93.66%\n",
      "Test  Loss: 0.4917 | Test Acc: 84.49%\n",
      "Early stop!! best_eval_loss = 0.37109410781649094\n"
     ]
    }
   ],
   "source": [
    "Training = DoTraining(\n",
    "    model=model,\n",
    "    criterion=criterion,\n",
    "    optimizer=optimizer,\n",
    "    scaler=scaler,\n",
    "    scheduler=scheduler,\n",
    "    earlystopper=earlystopper,\n",
    "    device=device,\n",
    "    logs=logs,\n",
    "    file_path=file_name,\n",
    ")\n",
    "pre_epochs = len(Training.logs[\"train_loss\"])\n",
    "\n",
    "\n",
    "for epoch in range(NUM_EPOCHS):\n",
    "    now = epoch + 1 + pre_epochs\n",
    "    print(f\"[Epoch {epoch+1+pre_epochs}/{NUM_EPOCHS}] :\")\n",
    "\n",
    "    if DATASET == \"ImageNet2012\":\n",
    "        eval_loss = Training.SingleEpoch(train_dataloader, valid_dataloader)\n",
    "    else:\n",
    "        eval_loss = Training.SingleEpoch(\n",
    "            train_dataloader, valid_dataloader, test_dataloader\n",
    "        )\n",
    "\n",
    "    Training.Save()\n",
    "\n",
    "    \n",
    "    \n",
    "    if earlystopper.check(eval_loss) == True:\n",
    "        break\n",
    "\n",
    "    print(\"-\" * 50)"
   ]
  },
  {
   "cell_type": "code",
   "execution_count": 17,
   "metadata": {},
   "outputs": [
    {
     "data": {
      "image/png": "[encoded data removed]",
      "text/plain": [
       "<Figure size 1000x500 with 2 Axes>"
      ]
     },
     "metadata": {},
     "output_type": "display_data"
    }
   ],
   "source": [
    "view = LogViewer(logs)\n",
    "view.draw(save_name=file_name)"
   ]
  },
  {
   "cell_type": "code",
   "execution_count": 18,
   "metadata": {},
   "outputs": [
    {
     "name": "stdout",
     "output_type": "stream",
     "text": [
      "1 epoch: train_loss=2.3735, train_acc=0.1314, test_loss=2.1853, test_acc=0.1333, lr=0.1000\n",
      "2 epoch: train_loss=2.0798, train_acc=0.2148, test_loss=2.3546, test_acc=0.2218, lr=0.1000\n",
      "3 epoch: train_loss=1.8352, train_acc=0.3153, test_loss=2.1068, test_acc=0.3182, lr=0.1000\n",
      "4 epoch: train_loss=1.5061, train_acc=0.4579, test_loss=1.7083, test_acc=0.4561, lr=0.1000\n",
      "5 epoch: train_loss=1.2799, train_acc=0.5432, test_loss=1.4064, test_acc=0.5487, lr=0.1000\n",
      "6 epoch: train_loss=1.1260, train_acc=0.6035, test_loss=1.7006, test_acc=0.4635, lr=0.1000\n",
      "7 epoch: train_loss=1.0174, train_acc=0.6424, test_loss=1.5005, test_acc=0.5257, lr=0.1000\n",
      "8 epoch: train_loss=0.9513, train_acc=0.6692, test_loss=1.0685, test_acc=0.6346, lr=0.1000\n",
      "9 epoch: train_loss=0.8944, train_acc=0.6888, test_loss=0.9583, test_acc=0.6755, lr=0.1000\n",
      "10 epoch: train_loss=0.8420, train_acc=0.7080, test_loss=0.9658, test_acc=0.6772, lr=0.1000\n",
      "11 epoch: train_loss=0.7979, train_acc=0.7254, test_loss=0.8477, test_acc=0.7189, lr=0.1000\n",
      "12 epoch: train_loss=0.7740, train_acc=0.7302, test_loss=0.7888, test_acc=0.7295, lr=0.1000\n",
      "13 epoch: train_loss=0.7439, train_acc=0.7392, test_loss=0.6807, test_acc=0.7676, lr=0.1000\n",
      "14 epoch: train_loss=0.7233, train_acc=0.7483, test_loss=0.7870, test_acc=0.7286, lr=0.1000\n",
      "15 epoch: train_loss=0.7041, train_acc=0.7555, test_loss=0.8039, test_acc=0.7314, lr=0.1000\n",
      "16 epoch: train_loss=0.6846, train_acc=0.7625, test_loss=0.8535, test_acc=0.7221, lr=0.1000\n",
      "17 epoch: train_loss=0.6701, train_acc=0.7694, test_loss=0.7460, test_acc=0.7492, lr=0.1000\n",
      "18 epoch: train_loss=0.6563, train_acc=0.7719, test_loss=0.7131, test_acc=0.7571, lr=0.1000\n",
      "19 epoch: train_loss=0.6436, train_acc=0.7759, test_loss=0.8578, test_acc=0.7180, lr=0.1000\n",
      "20 epoch: train_loss=0.6298, train_acc=0.7808, test_loss=0.6139, test_acc=0.7967, lr=0.1000\n",
      "21 epoch: train_loss=0.6198, train_acc=0.7850, test_loss=0.6567, test_acc=0.7771, lr=0.1000\n",
      "22 epoch: train_loss=0.6154, train_acc=0.7868, test_loss=0.6426, test_acc=0.7783, lr=0.1000\n",
      "23 epoch: train_loss=0.6020, train_acc=0.7897, test_loss=0.7544, test_acc=0.7517, lr=0.1000\n",
      "24 epoch: train_loss=0.5903, train_acc=0.7972, test_loss=0.7728, test_acc=0.7512, lr=0.1000\n",
      "25 epoch: train_loss=0.5854, train_acc=0.7976, test_loss=0.6401, test_acc=0.7814, lr=0.1000\n",
      "26 epoch: train_loss=0.5769, train_acc=0.8000, test_loss=0.9321, test_acc=0.6931, lr=0.1000\n",
      "27 epoch: train_loss=0.5654, train_acc=0.8046, test_loss=0.8765, test_acc=0.7112, lr=0.1000\n",
      "28 epoch: train_loss=0.5637, train_acc=0.8045, test_loss=0.6035, test_acc=0.7929, lr=0.1000\n",
      "29 epoch: train_loss=0.5577, train_acc=0.8065, test_loss=0.7361, test_acc=0.7599, lr=0.1000\n",
      "30 epoch: train_loss=0.5488, train_acc=0.8101, test_loss=0.5454, test_acc=0.8125, lr=0.1000\n",
      "31 epoch: train_loss=0.5549, train_acc=0.8088, test_loss=0.9260, test_acc=0.7073, lr=0.1000\n",
      "32 epoch: train_loss=0.5415, train_acc=0.8132, test_loss=0.8609, test_acc=0.7345, lr=0.1000\n",
      "33 epoch: train_loss=0.5409, train_acc=0.8113, test_loss=0.6153, test_acc=0.7966, lr=0.1000\n",
      "34 epoch: train_loss=0.5332, train_acc=0.8151, test_loss=0.6329, test_acc=0.7953, lr=0.1000\n",
      "35 epoch: train_loss=0.5261, train_acc=0.8162, test_loss=0.5948, test_acc=0.7990, lr=0.1000\n",
      "36 epoch: train_loss=0.5218, train_acc=0.8202, test_loss=0.5871, test_acc=0.7996, lr=0.1000\n",
      "37 epoch: train_loss=0.5237, train_acc=0.8166, test_loss=0.5833, test_acc=0.8039, lr=0.1000\n",
      "38 epoch: train_loss=0.5129, train_acc=0.8212, test_loss=0.6289, test_acc=0.7963, lr=0.1000\n",
      "39 epoch: train_loss=0.5128, train_acc=0.8222, test_loss=0.6011, test_acc=0.8030, lr=0.1000\n",
      "40 epoch: train_loss=0.5081, train_acc=0.8242, test_loss=0.6805, test_acc=0.7896, lr=0.1000\n",
      "41 epoch: train_loss=0.5044, train_acc=0.8256, test_loss=0.7503, test_acc=0.7589, lr=0.1000\n",
      "42 epoch: train_loss=0.4997, train_acc=0.8252, test_loss=0.7247, test_acc=0.7573, lr=0.1000\n",
      "43 epoch: train_loss=0.4918, train_acc=0.8315, test_loss=0.8897, test_acc=0.7206, lr=0.1000\n",
      "44 epoch: train_loss=0.4968, train_acc=0.8282, test_loss=0.5915, test_acc=0.7996, lr=0.1000\n",
      "45 epoch: train_loss=0.4950, train_acc=0.8284, test_loss=0.7306, test_acc=0.7640, lr=0.1000\n",
      "46 epoch: train_loss=0.4885, train_acc=0.8293, test_loss=0.5809, test_acc=0.8101, lr=0.1000\n",
      "47 epoch: train_loss=0.4793, train_acc=0.8342, test_loss=0.6987, test_acc=0.7751, lr=0.1000\n",
      "48 epoch: train_loss=0.4853, train_acc=0.8306, test_loss=0.8283, test_acc=0.7272, lr=0.1000\n",
      "49 epoch: train_loss=0.4836, train_acc=0.8325, test_loss=0.6775, test_acc=0.7747, lr=0.1000\n",
      "50 epoch: train_loss=0.4813, train_acc=0.8319, test_loss=0.6467, test_acc=0.7843, lr=0.1000\n",
      "51 epoch: train_loss=0.4721, train_acc=0.8354, test_loss=0.6415, test_acc=0.7852, lr=0.1000\n",
      "52 epoch: train_loss=0.4667, train_acc=0.8380, test_loss=0.6146, test_acc=0.7919, lr=0.1000\n",
      "53 epoch: train_loss=0.4717, train_acc=0.8372, test_loss=0.6307, test_acc=0.7934, lr=0.1000\n",
      "54 epoch: train_loss=0.4654, train_acc=0.8374, test_loss=0.6336, test_acc=0.7936, lr=0.1000\n",
      "55 epoch: train_loss=0.4658, train_acc=0.8372, test_loss=0.5362, test_acc=0.8175, lr=0.1000\n",
      "56 epoch: train_loss=0.4637, train_acc=0.8381, test_loss=0.6526, test_acc=0.7866, lr=0.1000\n",
      "57 epoch: train_loss=0.4631, train_acc=0.8398, test_loss=0.6273, test_acc=0.7851, lr=0.1000\n",
      "58 epoch: train_loss=0.4649, train_acc=0.8374, test_loss=1.1902, test_acc=0.6772, lr=0.1000\n",
      "59 epoch: train_loss=0.4586, train_acc=0.8416, test_loss=0.5757, test_acc=0.8111, lr=0.1000\n",
      "60 epoch: train_loss=0.4518, train_acc=0.8415, test_loss=0.7253, test_acc=0.7587, lr=0.1000\n",
      "61 epoch: train_loss=0.4629, train_acc=0.8397, test_loss=0.9303, test_acc=0.7060, lr=0.1000\n",
      "62 epoch: train_loss=0.4518, train_acc=0.8423, test_loss=0.7156, test_acc=0.7563, lr=0.1000\n",
      "63 epoch: train_loss=0.4601, train_acc=0.8391, test_loss=0.5983, test_acc=0.8067, lr=0.1000\n",
      "64 epoch: train_loss=0.4477, train_acc=0.8425, test_loss=0.6035, test_acc=0.8041, lr=0.1000\n",
      "65 epoch: train_loss=0.4496, train_acc=0.8437, test_loss=0.5615, test_acc=0.8112, lr=0.1000\n",
      "66 epoch: train_loss=0.4470, train_acc=0.8452, test_loss=0.6118, test_acc=0.7974, lr=0.1000\n",
      "67 epoch: train_loss=0.4503, train_acc=0.8437, test_loss=0.7235, test_acc=0.7607, lr=0.1000\n",
      "68 epoch: train_loss=0.4450, train_acc=0.8449, test_loss=0.7428, test_acc=0.7609, lr=0.1000\n",
      "69 epoch: train_loss=0.4390, train_acc=0.8468, test_loss=0.5916, test_acc=0.7945, lr=0.1000\n",
      "70 epoch: train_loss=0.4397, train_acc=0.8469, test_loss=0.5885, test_acc=0.8043, lr=0.1000\n",
      "71 epoch: train_loss=0.4427, train_acc=0.8449, test_loss=0.5730, test_acc=0.8105, lr=0.1000\n",
      "72 epoch: train_loss=0.4382, train_acc=0.8485, test_loss=0.8778, test_acc=0.7355, lr=0.1000\n",
      "73 epoch: train_loss=0.4430, train_acc=0.8457, test_loss=0.6363, test_acc=0.7859, lr=0.1000\n",
      "74 epoch: train_loss=0.4340, train_acc=0.8486, test_loss=0.6836, test_acc=0.7923, lr=0.1000\n",
      "75 epoch: train_loss=0.4363, train_acc=0.8462, test_loss=0.5708, test_acc=0.8195, lr=0.1000\n",
      "76 epoch: train_loss=0.4346, train_acc=0.8487, test_loss=0.5632, test_acc=0.8152, lr=0.1000\n",
      "77 epoch: train_loss=0.4297, train_acc=0.8506, test_loss=0.5309, test_acc=0.8242, lr=0.1000\n",
      "78 epoch: train_loss=0.4327, train_acc=0.8489, test_loss=0.6169, test_acc=0.7950, lr=0.1000\n",
      "79 epoch: train_loss=0.4262, train_acc=0.8527, test_loss=0.6141, test_acc=0.8004, lr=0.1000\n",
      "80 epoch: train_loss=0.4284, train_acc=0.8499, test_loss=0.6411, test_acc=0.7876, lr=0.1000\n",
      "81 epoch: train_loss=0.4330, train_acc=0.8494, test_loss=0.6459, test_acc=0.7846, lr=0.1000\n",
      "82 epoch: train_loss=0.4254, train_acc=0.8515, test_loss=0.5410, test_acc=0.8223, lr=0.1000\n",
      "83 epoch: train_loss=0.3360, train_acc=0.8818, test_loss=0.4116, test_acc=0.8613, lr=0.0100\n",
      "84 epoch: train_loss=0.3007, train_acc=0.8949, test_loss=0.3711, test_acc=0.8759, lr=0.0100\n",
      "85 epoch: train_loss=0.2922, train_acc=0.8975, test_loss=0.3863, test_acc=0.8697, lr=0.0100\n",
      "86 epoch: train_loss=0.2886, train_acc=0.8998, test_loss=0.4117, test_acc=0.8660, lr=0.0100\n",
      "87 epoch: train_loss=0.2780, train_acc=0.9027, test_loss=0.4053, test_acc=0.8666, lr=0.0100\n",
      "88 epoch: train_loss=0.2757, train_acc=0.9038, test_loss=0.4036, test_acc=0.8635, lr=0.0100\n",
      "89 epoch: train_loss=0.2715, train_acc=0.9049, test_loss=0.4268, test_acc=0.8592, lr=0.0100\n",
      "90 epoch: train_loss=0.2672, train_acc=0.9073, test_loss=0.3838, test_acc=0.8759, lr=0.0100\n",
      "91 epoch: train_loss=0.2583, train_acc=0.9093, test_loss=0.4166, test_acc=0.8652, lr=0.0100\n",
      "92 epoch: train_loss=0.2600, train_acc=0.9096, test_loss=0.4318, test_acc=0.8597, lr=0.0100\n",
      "93 epoch: train_loss=0.2551, train_acc=0.9109, test_loss=0.4255, test_acc=0.8572, lr=0.0100\n",
      "94 epoch: train_loss=0.2588, train_acc=0.9092, test_loss=0.4461, test_acc=0.8542, lr=0.0100\n",
      "95 epoch: train_loss=0.2504, train_acc=0.9133, test_loss=0.4324, test_acc=0.8590, lr=0.0100\n",
      "96 epoch: train_loss=0.2460, train_acc=0.9154, test_loss=0.4710, test_acc=0.8472, lr=0.0100\n",
      "97 epoch: train_loss=0.2569, train_acc=0.9097, test_loss=0.4522, test_acc=0.8516, lr=0.0100\n",
      "98 epoch: train_loss=0.2494, train_acc=0.9128, test_loss=0.4727, test_acc=0.8457, lr=0.0100\n",
      "99 epoch: train_loss=0.2461, train_acc=0.9136, test_loss=0.4668, test_acc=0.8511, lr=0.0100\n",
      "100 epoch: train_loss=0.2439, train_acc=0.9148, test_loss=0.4372, test_acc=0.8540, lr=0.0100\n",
      "101 epoch: train_loss=0.2407, train_acc=0.9140, test_loss=0.4563, test_acc=0.8520, lr=0.0100\n",
      "102 epoch: train_loss=0.2403, train_acc=0.9143, test_loss=0.4814, test_acc=0.8475, lr=0.0100\n",
      "103 epoch: train_loss=0.2383, train_acc=0.9167, test_loss=0.4667, test_acc=0.8510, lr=0.0100\n",
      "104 epoch: train_loss=0.2425, train_acc=0.9157, test_loss=0.4322, test_acc=0.8557, lr=0.0100\n",
      "105 epoch: train_loss=0.2316, train_acc=0.9189, test_loss=0.4398, test_acc=0.8592, lr=0.0100\n",
      "106 epoch: train_loss=0.2349, train_acc=0.9182, test_loss=0.4416, test_acc=0.8573, lr=0.0100\n",
      "107 epoch: train_loss=0.2367, train_acc=0.9167, test_loss=0.4362, test_acc=0.8599, lr=0.0100\n",
      "108 epoch: train_loss=0.2285, train_acc=0.9201, test_loss=0.4573, test_acc=0.8535, lr=0.0100\n",
      "109 epoch: train_loss=0.2318, train_acc=0.9187, test_loss=0.4452, test_acc=0.8540, lr=0.0100\n",
      "110 epoch: train_loss=0.2275, train_acc=0.9214, test_loss=0.4392, test_acc=0.8615, lr=0.0100\n",
      "111 epoch: train_loss=0.2284, train_acc=0.9198, test_loss=0.4670, test_acc=0.8549, lr=0.0100\n",
      "112 epoch: train_loss=0.2295, train_acc=0.9204, test_loss=0.4513, test_acc=0.8587, lr=0.0100\n",
      "113 epoch: train_loss=0.2222, train_acc=0.9212, test_loss=0.5083, test_acc=0.8412, lr=0.0100\n",
      "114 epoch: train_loss=0.2272, train_acc=0.9208, test_loss=0.4803, test_acc=0.8463, lr=0.0100\n",
      "115 epoch: train_loss=0.2272, train_acc=0.9210, test_loss=0.4769, test_acc=0.8485, lr=0.0100\n",
      "116 epoch: train_loss=0.2198, train_acc=0.9239, test_loss=0.5289, test_acc=0.8329, lr=0.0100\n",
      "117 epoch: train_loss=0.2232, train_acc=0.9218, test_loss=0.5272, test_acc=0.8327, lr=0.0100\n",
      "118 epoch: train_loss=0.2236, train_acc=0.9224, test_loss=0.5035, test_acc=0.8423, lr=0.0100\n",
      "119 epoch: train_loss=0.2216, train_acc=0.9228, test_loss=0.5350, test_acc=0.8301, lr=0.0100\n",
      "120 epoch: train_loss=0.2246, train_acc=0.9217, test_loss=0.4947, test_acc=0.8400, lr=0.0100\n",
      "121 epoch: train_loss=0.2157, train_acc=0.9250, test_loss=0.5082, test_acc=0.8359, lr=0.0100\n",
      "122 epoch: train_loss=0.2193, train_acc=0.9236, test_loss=0.4792, test_acc=0.8484, lr=0.0100\n",
      "123 epoch: train_loss=0.2185, train_acc=0.9245, test_loss=0.4686, test_acc=0.8488, lr=0.0100\n",
      "124 epoch: train_loss=0.2083, train_acc=0.9276, test_loss=0.4677, test_acc=0.8467, lr=0.0010\n",
      "125 epoch: train_loss=0.2027, train_acc=0.9291, test_loss=0.4451, test_acc=0.8550, lr=0.0010\n",
      "126 epoch: train_loss=0.2003, train_acc=0.9310, test_loss=0.4520, test_acc=0.8548, lr=0.0010\n",
      "127 epoch: train_loss=0.2032, train_acc=0.9291, test_loss=0.4526, test_acc=0.8545, lr=0.0010\n",
      "128 epoch: train_loss=0.1993, train_acc=0.9311, test_loss=0.4473, test_acc=0.8546, lr=0.0010\n",
      "129 epoch: train_loss=0.2008, train_acc=0.9310, test_loss=0.4489, test_acc=0.8544, lr=0.0010\n",
      "130 epoch: train_loss=0.1947, train_acc=0.9334, test_loss=0.4645, test_acc=0.8497, lr=0.0010\n",
      "131 epoch: train_loss=0.1986, train_acc=0.9309, test_loss=0.4493, test_acc=0.8557, lr=0.0010\n",
      "132 epoch: train_loss=0.1981, train_acc=0.9309, test_loss=0.4452, test_acc=0.8561, lr=0.0010\n",
      "133 epoch: train_loss=0.1987, train_acc=0.9304, test_loss=0.4441, test_acc=0.8549, lr=0.0010\n",
      "134 epoch: train_loss=0.1934, train_acc=0.9329, test_loss=0.4617, test_acc=0.8505, lr=0.0010\n",
      "135 epoch: train_loss=0.1998, train_acc=0.9302, test_loss=0.4666, test_acc=0.8515, lr=0.0010\n",
      "136 epoch: train_loss=0.1962, train_acc=0.9317, test_loss=0.4590, test_acc=0.8515, lr=0.0010\n",
      "137 epoch: train_loss=0.1942, train_acc=0.9331, test_loss=0.4660, test_acc=0.8502, lr=0.0010\n",
      "138 epoch: train_loss=0.1962, train_acc=0.9320, test_loss=0.4629, test_acc=0.8531, lr=0.0010\n",
      "139 epoch: train_loss=0.1952, train_acc=0.9322, test_loss=0.4752, test_acc=0.8489, lr=0.0010\n",
      "140 epoch: train_loss=0.1915, train_acc=0.9341, test_loss=0.4787, test_acc=0.8506, lr=0.0010\n",
      "141 epoch: train_loss=0.1904, train_acc=0.9322, test_loss=0.4603, test_acc=0.8506, lr=0.0010\n",
      "142 epoch: train_loss=0.1887, train_acc=0.9356, test_loss=0.4623, test_acc=0.8515, lr=0.0010\n",
      "143 epoch: train_loss=0.1943, train_acc=0.9340, test_loss=0.4822, test_acc=0.8469, lr=0.0010\n",
      "144 epoch: train_loss=0.1939, train_acc=0.9341, test_loss=0.4696, test_acc=0.8490, lr=0.0010\n",
      "145 epoch: train_loss=0.1915, train_acc=0.9337, test_loss=0.4654, test_acc=0.8496, lr=0.0010\n",
      "146 epoch: train_loss=0.1898, train_acc=0.9345, test_loss=0.4729, test_acc=0.8501, lr=0.0010\n",
      "147 epoch: train_loss=0.1897, train_acc=0.9346, test_loss=0.4718, test_acc=0.8470, lr=0.0010\n",
      "148 epoch: train_loss=0.1894, train_acc=0.9337, test_loss=0.4817, test_acc=0.8471, lr=0.0010\n",
      "149 epoch: train_loss=0.1886, train_acc=0.9333, test_loss=0.4634, test_acc=0.8513, lr=0.0010\n",
      "150 epoch: train_loss=0.1906, train_acc=0.9333, test_loss=0.4692, test_acc=0.8495, lr=0.0010\n",
      "151 epoch: train_loss=0.1884, train_acc=0.9336, test_loss=0.4621, test_acc=0.8523, lr=0.0010\n",
      "152 epoch: train_loss=0.1882, train_acc=0.9347, test_loss=0.4694, test_acc=0.8512, lr=0.0010\n",
      "153 epoch: train_loss=0.1849, train_acc=0.9360, test_loss=0.4670, test_acc=0.8499, lr=0.0010\n",
      "154 epoch: train_loss=0.1872, train_acc=0.9356, test_loss=0.4714, test_acc=0.8471, lr=0.0010\n",
      "155 epoch: train_loss=0.1896, train_acc=0.9352, test_loss=0.4682, test_acc=0.8487, lr=0.0010\n",
      "156 epoch: train_loss=0.1899, train_acc=0.9342, test_loss=0.4641, test_acc=0.8494, lr=0.0010\n",
      "157 epoch: train_loss=0.1858, train_acc=0.9348, test_loss=0.4768, test_acc=0.8473, lr=0.0010\n",
      "158 epoch: train_loss=0.1930, train_acc=0.9335, test_loss=0.4636, test_acc=0.8510, lr=0.0010\n",
      "159 epoch: train_loss=0.1867, train_acc=0.9357, test_loss=0.4582, test_acc=0.8528, lr=0.0010\n",
      "160 epoch: train_loss=0.1865, train_acc=0.9351, test_loss=0.4746, test_acc=0.8466, lr=0.0010\n",
      "161 epoch: train_loss=0.1876, train_acc=0.9348, test_loss=0.4699, test_acc=0.8507, lr=0.0010\n",
      "162 epoch: train_loss=0.1889, train_acc=0.9350, test_loss=0.4749, test_acc=0.8474, lr=0.0010\n",
      "163 epoch: train_loss=0.1886, train_acc=0.9344, test_loss=0.4604, test_acc=0.8516, lr=0.0010\n",
      "164 epoch: train_loss=0.1870, train_acc=0.9358, test_loss=0.4656, test_acc=0.8507, lr=0.0010\n",
      "165 epoch: train_loss=0.1884, train_acc=0.9356, test_loss=0.4671, test_acc=0.8508, lr=0.0010\n",
      "166 epoch: train_loss=0.1883, train_acc=0.9349, test_loss=0.4630, test_acc=0.8541, lr=0.0010\n",
      "167 epoch: train_loss=0.1846, train_acc=0.9359, test_loss=0.4597, test_acc=0.8526, lr=0.0010\n",
      "168 epoch: train_loss=0.1901, train_acc=0.9350, test_loss=0.4562, test_acc=0.8526, lr=0.0010\n",
      "169 epoch: train_loss=0.1823, train_acc=0.9366, test_loss=0.4620, test_acc=0.8558, lr=0.0010\n",
      "170 epoch: train_loss=0.1903, train_acc=0.9349, test_loss=0.4691, test_acc=0.8519, lr=0.0010\n",
      "171 epoch: train_loss=0.1895, train_acc=0.9344, test_loss=0.4865, test_acc=0.8516, lr=0.0010\n",
      "172 epoch: train_loss=0.1858, train_acc=0.9356, test_loss=0.4747, test_acc=0.8493, lr=0.0010\n",
      "173 epoch: train_loss=0.1850, train_acc=0.9357, test_loss=0.4676, test_acc=0.8522, lr=0.0010\n",
      "174 epoch: train_loss=0.1824, train_acc=0.9381, test_loss=0.4922, test_acc=0.8440, lr=0.0010\n",
      "175 epoch: train_loss=0.1902, train_acc=0.9341, test_loss=0.4905, test_acc=0.8459, lr=0.0010\n",
      "176 epoch: train_loss=0.1871, train_acc=0.9348, test_loss=0.4808, test_acc=0.8463, lr=0.0010\n",
      "177 epoch: train_loss=0.1839, train_acc=0.9362, test_loss=0.4939, test_acc=0.8429, lr=0.0010\n",
      "178 epoch: train_loss=0.1843, train_acc=0.9372, test_loss=0.4876, test_acc=0.8436, lr=0.0010\n",
      "179 epoch: train_loss=0.1867, train_acc=0.9357, test_loss=0.4798, test_acc=0.8474, lr=0.0010\n",
      "180 epoch: train_loss=0.1852, train_acc=0.9350, test_loss=0.4982, test_acc=0.8437, lr=0.0010\n",
      "181 epoch: train_loss=0.1876, train_acc=0.9343, test_loss=0.4864, test_acc=0.8456, lr=0.0010\n",
      "182 epoch: train_loss=0.1827, train_acc=0.9365, test_loss=0.5037, test_acc=0.8435, lr=0.0010\n",
      "183 epoch: train_loss=0.1821, train_acc=0.9370, test_loss=0.5008, test_acc=0.8408, lr=0.0010\n",
      "184 epoch: train_loss=0.1829, train_acc=0.9366, test_loss=0.4917, test_acc=0.8449, lr=0.0010\n"
     ]
    }
   ],
   "source": [
    "view.print_all()"
   ]
  }
 ],
 "metadata": {
  "kernelspec": {
   "display_name": "base",
   "language": "python",
   "name": "python3"
  },
  "language_info": {
   "codemirror_mode": {
    "name": "ipython",
    "version": 3
   },
   "file_extension": ".py",
   "mimetype": "text/x-python",
   "name": "python",
   "nbconvert_exporter": "python",
   "pygments_lexer": "ipython3",
   "version": "3.11.5"
  }
 },
 "nbformat": 4,
 "nbformat_minor": 2
}
