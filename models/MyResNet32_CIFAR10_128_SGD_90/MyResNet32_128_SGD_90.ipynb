{
 "cells": [
  {
   "cell_type": "markdown",
   "metadata": {},
   "source": [
    "# Import"
   ]
  },
  {
   "cell_type": "code",
   "execution_count": 1,
   "metadata": {},
   "outputs": [],
   "source": [
    "import torch\n",
    "from torch import nn\n",
    "from torch.optim.lr_scheduler import ReduceLROnPlateau, MultiStepLR\n",
    "from torch.utils.data import DataLoader\n",
    "from fvcore.nn import FlopCountAnalysis, flop_count_table\n",
    "import numpy as np\n",
    "import matplotlib.pyplot as plt\n",
    "import sys, os\n",
    "\n",
    "sys.path.append(os.path.dirname(os.path.abspath(os.path.dirname(\"src\"))))\n",
    "\n",
    "from src.Mydataloader import LoadDataset\n",
    "from src.Mymodel import MyResNet34\n",
    "from src.Mymodel import MyResNet_CIFAR\n",
    "from src.Mytraining import DoTraining\n",
    "from src.Earlystopper import EarlyStopper\n",
    "from src.LogViewer import LogViewer"
   ]
  },
  {
   "cell_type": "markdown",
   "metadata": {},
   "source": [
    "# Setup"
   ]
  },
  {
   "cell_type": "code",
   "execution_count": 2,
   "metadata": {},
   "outputs": [],
   "source": [
    "\"\"\"Dataset selection\"\"\"\n",
    "DATASET = \"CIFAR10\"\n",
    "# DATASET = \"CIFAR100\"\n",
    "# DATASET = \"ImageNet2012\"\n",
    "\n",
    "\"\"\"Model selection for CIFAR\"\"\"\n",
    "NUM_LAYERS_LEVEL = 5\n",
    "\n",
    "\"\"\"Dataset parameters\"\"\"\n",
    "BATCH = 128\n",
    "SHUFFLE = True\n",
    "NUMOFWORKERS = 8\n",
    "PIN_MEMORY = True\n",
    "SPLIT_RATIO = 0.90\n",
    "\n",
    "\"\"\"optimizer parameters\"\"\"\n",
    "OPTIMIZER = \"SGD\"\n",
    "# OPTIMIZER = \"Adam\"\n",
    "# OPTIMIZER = \"Adam_decay\"\n",
    "\n",
    "\"\"\"Learning rate scheduler parameters\"\"\"\n",
    "NUM_EPOCHS = 1000\n",
    "SCHEDULER_PARIENCE = 10\n",
    "COOLDOWN = 50\n",
    "\n",
    "\"\"\"Early stopping parameters\"\"\"\n",
    "EARLYSTOPPINGPATIENCE = 70\n",
    "file_path = \"\"\n",
    "if DATASET == \"ImageNet2012\":\n",
    "    file_path = f\"MyResNet34_{BATCH}_{OPTIMIZER}\"\n",
    "else:\n",
    "    file_path = f\"MyResNet{NUM_LAYERS_LEVEL*6+2}_{BATCH}_{OPTIMIZER}\"\n",
    "\n",
    "if SPLIT_RATIO != 0:\n",
    "    file_path += f\"_{int(SPLIT_RATIO*100)}\""
   ]
  },
  {
   "cell_type": "code",
   "execution_count": 3,
   "metadata": {},
   "outputs": [
    {
     "data": {
      "text/plain": [
       "'MyResNet32_128_SGD_90'"
      ]
     },
     "execution_count": 3,
     "metadata": {},
     "output_type": "execute_result"
    }
   ],
   "source": [
    "file_path"
   ]
  },
  {
   "cell_type": "markdown",
   "metadata": {},
   "source": [
    "# Loading the dataset"
   ]
  },
  {
   "cell_type": "markdown",
   "metadata": {},
   "source": [
    "## Define Dateloader"
   ]
  },
  {
   "cell_type": "code",
   "execution_count": 4,
   "metadata": {},
   "outputs": [
    {
     "name": "stderr",
     "output_type": "stream",
     "text": [
      "/home/lee/anaconda3/lib/python3.11/site-packages/torchvision/transforms/v2/_deprecated.py:43: UserWarning: The transform `ToTensor()` is deprecated and will be removed in a future release. Instead, please use `v2.Compose([v2.ToImage(), v2.ToDtype(torch.float32, scale=True)])`.\n",
      "  warnings.warn(\n"
     ]
    },
    {
     "name": "stdout",
     "output_type": "stream",
     "text": [
      "-----------------------------------------------------------------------\n",
      "Dataset :  CIFAR10\n",
      "- Length of Train Set :  45000\n",
      "- Length of Valid Set :  5000\n",
      "- Length of Test Set :  10000\n",
      "- Count of Classes :  10\n",
      "-----------------------------------------------------------------------\n"
     ]
    }
   ],
   "source": [
    "tmp = LoadDataset(root=\"../../data\", seceted_dataset=DATASET, split_ratio=SPLIT_RATIO)\n",
    "train_data, valid_data, test_data, COUNT_OF_CLASSES = tmp.Unpack()"
   ]
  },
  {
   "cell_type": "code",
   "execution_count": 5,
   "metadata": {},
   "outputs": [
    {
     "name": "stdout",
     "output_type": "stream",
     "text": [
      "train.transforms = Compose(\n",
      "      AutoAugment(interpolation=InterpolationMode.NEAREST, policy=AutoAugmentPolicy.CIFAR10)\n",
      "      RandomCrop(size=(32, 32), padding=[4, 4, 4, 4], pad_if_needed=False, fill=0, padding_mode=constant)\n",
      "      RandomHorizontalFlip(p=0.5)\n",
      "      ToTensor()\n",
      "      Normalize(mean=[0.49139968, 0.48215827, 0.44653124], std=[1, 1, 1], inplace=True)\n",
      ") 128\n",
      "valid.transforms = ToTensor() 128\n",
      "test.transforms = ToTensor() 128\n"
     ]
    }
   ],
   "source": [
    "\n",
    "train_dataloader = DataLoader(\n",
    "    train_data,\n",
    "    batch_size=BATCH,\n",
    "    shuffle=SHUFFLE,\n",
    "    num_workers=NUMOFWORKERS,\n",
    "    pin_memory=PIN_MEMORY,\n",
    "    # pin_memory_device=\"cuda\",\n",
    "    persistent_workers=True,\n",
    ")\n",
    "print(\"train.transforms =\", train_data.transform, train_dataloader.batch_size)\n",
    "\n",
    "if valid_data is not None:\n",
    "    valid_dataloader = DataLoader(\n",
    "        valid_data,\n",
    "        batch_size=BATCH,\n",
    "        shuffle=SHUFFLE,\n",
    "        num_workers=NUMOFWORKERS,\n",
    "        pin_memory=PIN_MEMORY,\n",
    "        # pin_memory_device=\"cuda\",\n",
    "        persistent_workers=True,\n",
    "    )\n",
    "    print(\"valid.transforms =\", valid_data.transform, valid_dataloader.batch_size)\n",
    "else:\n",
    "    valid_dataloader = None\n",
    "\n",
    "if test_data is not None:\n",
    "    test_dataloader = DataLoader(\n",
    "        test_data,\n",
    "        batch_size=BATCH,\n",
    "        shuffle=SHUFFLE,\n",
    "        num_workers=NUMOFWORKERS,\n",
    "        pin_memory=PIN_MEMORY,\n",
    "        # pin_memory_device=\"cuda\",\n",
    "        persistent_workers=True,\n",
    "    )\n",
    "    print(\"test.transforms =\", test_data.transform, test_dataloader.batch_size)\n",
    "else:\n",
    "    test_dataloader = None"
   ]
  },
  {
   "cell_type": "markdown",
   "metadata": {},
   "source": [
    "## Confirm that the dataset is loaded properly"
   ]
  },
  {
   "cell_type": "code",
   "execution_count": 6,
   "metadata": {},
   "outputs": [
    {
     "name": "stdout",
     "output_type": "stream",
     "text": [
      "Shape of X [N, C, H, W]: torch.Size([128, 3, 32, 32])\n",
      "mean of X tensor([0.5023, 0.4960, 0.4644])\n",
      "Shape of y: torch.Size([128]) torch.int64\n"
     ]
    },
    {
     "data": {
      "image/png": "[encoded data removed]",
      "text/plain": [
       "<Figure size 800x400 with 10 Axes>"
      ]
     },
     "metadata": {},
     "output_type": "display_data"
    }
   ],
   "source": [
    "if test_data is not None:\n",
    "    for X, y in test_dataloader:\n",
    "        print(f\"Shape of X [N, C, H, W]: {X.shape}\")\n",
    "        print(\"mean of X\", X.mean(dim=(0, 2, 3)))\n",
    "        print(f\"Shape of y: {y.shape} {y.dtype}\")\n",
    "        break\n",
    "    \n",
    "    class_names = test_dataloader.dataset.classes\n",
    "    count = 0\n",
    "    fig, axs = plt.subplots(2, 5, figsize=(8, 4))\n",
    "\n",
    "    for images, labels in test_dataloader:\n",
    "        images = images.numpy()\n",
    "\n",
    "        for i in range(len(images)):\n",
    "            image = images[i]\n",
    "            label = labels[i]\n",
    "            image = np.transpose(image, (1, 2, 0))\n",
    "            image = np.clip(image, 0, 1)\n",
    "            ax = axs[count // 5, count % 5]\n",
    "            ax.imshow(image)\n",
    "            ax.set_title(f\"{class_names[label], label}\")\n",
    "            ax.axis(\"off\")\n",
    "            count += 1\n",
    "\n",
    "            if count == 10:\n",
    "                break\n",
    "        if count == 10:\n",
    "            break\n",
    "    plt.tight_layout()\n",
    "    plt.show()"
   ]
  },
  {
   "cell_type": "markdown",
   "metadata": {},
   "source": [
    "# Define ResNet"
   ]
  },
  {
   "cell_type": "markdown",
   "metadata": {},
   "source": [
    "## Model Confirm"
   ]
  },
  {
   "cell_type": "code",
   "execution_count": 7,
   "metadata": {},
   "outputs": [
    {
     "data": {
      "text/plain": [
       "device(type='cuda')"
      ]
     },
     "execution_count": 7,
     "metadata": {},
     "output_type": "execute_result"
    }
   ],
   "source": [
    "device = torch.device(\"cuda\" if torch.cuda.is_available() else \"cpu\")\n",
    "device"
   ]
  },
  {
   "cell_type": "code",
   "execution_count": 8,
   "metadata": {},
   "outputs": [
    {
     "name": "stdout",
     "output_type": "stream",
     "text": [
      "ResNet-32 for CIFAR10 is loaded.\n"
     ]
    }
   ],
   "source": [
    "if DATASET == \"CIFAR10\" or DATASET == \"CIFAR100\":\n",
    "    \"\"\"ResNet{20, 32, 44, 56, 110, 1202} for CIFAR\"\"\"\n",
    "    model = MyResNet_CIFAR(\n",
    "        num_classes=COUNT_OF_CLASSES,\n",
    "        num_layer_factor=NUM_LAYERS_LEVEL,\n",
    "        Downsample_option=\"A\",\n",
    "    ).to(device)\n",
    "    print(f\"ResNet-{5*6+2} for {DATASET} is loaded.\")\n",
    "\n",
    "elif DATASET == \"ImageNet2012\":\n",
    "    \"\"\"ResNet34 for ImageNet 2012\"\"\"\n",
    "    model = MyResNet34(\n",
    "        num_classes=COUNT_OF_CLASSES, \n",
    "        Downsample_option=\"A\"\n",
    "    ).to(device)\n",
    "    # model = models.resnet34(pretrained=True).to(device)\n",
    "    # model = models.resnet34(pretrained=False).to(device)\n",
    "    print(f\"ResNet-34 for {DATASET} is loaded.\")\n"
   ]
  },
  {
   "cell_type": "code",
   "execution_count": 9,
   "metadata": {},
   "outputs": [],
   "source": [
    "# model.named_modules"
   ]
  },
  {
   "cell_type": "code",
   "execution_count": 10,
   "metadata": {},
   "outputs": [],
   "source": [
    "# tmp_input = torch.rand(BATCH, 3, 32, 32).to(device)\n",
    "# flops = FlopCountAnalysis(model, tmp_input)\n",
    "# print(flop_count_table(flops))"
   ]
  },
  {
   "cell_type": "markdown",
   "metadata": {},
   "source": [
    "# Define Training"
   ]
  },
  {
   "cell_type": "markdown",
   "metadata": {},
   "source": [
    "## (1) Define Criterion"
   ]
  },
  {
   "cell_type": "code",
   "execution_count": 11,
   "metadata": {},
   "outputs": [],
   "source": [
    "criterion = nn.CrossEntropyLoss()"
   ]
  },
  {
   "cell_type": "markdown",
   "metadata": {},
   "source": [
    "## (2) Define Optimazer"
   ]
  },
  {
   "cell_type": "code",
   "execution_count": 12,
   "metadata": {},
   "outputs": [],
   "source": [
    "if OPTIMIZER == \"Adam\":\n",
    "    optimizer = torch.optim.Adam(model.parameters())\n",
    "elif OPTIMIZER == \"Adam_decay\":\n",
    "    optimizer = torch.optim.Adam(model.parameters(), weight_decay=1e-4)\n",
    "elif OPTIMIZER == \"SGD\":\n",
    "    optimizer = torch.optim.SGD(\n",
    "        model.parameters(), lr=0.1, momentum=0.9, weight_decay=0.0001\n",
    "    )"
   ]
  },
  {
   "cell_type": "markdown",
   "metadata": {},
   "source": [
    "## (3) Define Early Stopping"
   ]
  },
  {
   "cell_type": "code",
   "execution_count": 13,
   "metadata": {},
   "outputs": [],
   "source": [
    "earlystopper = EarlyStopper(patience=EARLYSTOPPINGPATIENCE, model=model, file_path=file_path)"
   ]
  },
  {
   "cell_type": "markdown",
   "metadata": {},
   "source": [
    "## (4) Define Learning Rate schedualer"
   ]
  },
  {
   "cell_type": "code",
   "execution_count": 14,
   "metadata": {},
   "outputs": [
    {
     "data": {
      "text/plain": [
       "'\\n=======================================================\\nif batch = 256\\n=======================================================\\nnon-split [single epoch = 196 iter] : milestones = [164, 246]\\n- 1 ~ 164 epochs == 1 ~ 32k iter >> lr = 0.1\\n- 165~246 epochs == 32k ~ 48k iter >> lr = 0.01\\n- 247~328(?) epochs == 48k ~ 64k iter >> lr = 0.001\\n=======================================================\\nsplit to 45k/5k [single epoch = 176 iter]: milestones = [182, 273]\\n- 1~182 epochs == 1 ~ 32k iter >> lr = 0.1\\n- 182~273 epochs == 32k ~ 48k iter >> lr = 0.01\\n- 273~364(?) epochs == 48k ~ 64k iter >> lr = 0.001\\n=======================================================\\nif batch = 128\\n=======================================================\\nnon-split [signle epoch = 391 iter]: milestones = [82, 123]\\n- 1 ~ 82 epochs == 1 ~ 32k iter >> lr = 0.1\\n- 83~123 epochs == 32k ~ 48k iter >> lr = 0.01\\n- 124~(164) epochs == 48k ~ 64k iter >> lr = 0.001\\n=======================================================\\nsplit to 45k/5k [signle epoch = 352 iter]: milestones = [91, 137]\\n- 1~91 epochs == 1 ~ 32k iter >> lr = 0.1\\n- 92~137 epochs == 32k ~ 48k iter >> lr = 0.01\\n- 138~(183) epochs == 48k ~ 64k iter >> lr = 0.001\\n=======================================================\\n'"
      ]
     },
     "execution_count": 14,
     "metadata": {},
     "output_type": "execute_result"
    }
   ],
   "source": [
    "scheduler = ReduceLROnPlateau(\n",
    "    optimizer,\n",
    "    mode=\"min\",\n",
    "    patience=SCHEDULER_PARIENCE,\n",
    "    factor=0.1,\n",
    "    verbose=True,\n",
    "    threshold=1e-4,\n",
    "    cooldown=COOLDOWN,\n",
    ")\n",
    "\n",
    "# scheduler = MultiStepLR(optimizer, milestones=[82, 123], gamma=0.1)\n",
    "\"\"\"\n",
    "=======================================================\n",
    "if batch = 256\n",
    "=======================================================\n",
    "non-split [single epoch = 196 iter] : milestones = [164, 246]\n",
    "- 1 ~ 164 epochs == 1 ~ 32k iter >> lr = 0.1\n",
    "- 165~246 epochs == 32k ~ 48k iter >> lr = 0.01\n",
    "- 247~328(?) epochs == 48k ~ 64k iter >> lr = 0.001\n",
    "=======================================================\n",
    "split to 45k/5k [single epoch = 176 iter]: milestones = [182, 273]\n",
    "- 1~182 epochs == 1 ~ 32k iter >> lr = 0.1\n",
    "- 182~273 epochs == 32k ~ 48k iter >> lr = 0.01\n",
    "- 273~364(?) epochs == 48k ~ 64k iter >> lr = 0.001\n",
    "=======================================================\n",
    "if batch = 128\n",
    "=======================================================\n",
    "non-split [signle epoch = 391 iter]: milestones = [82, 123]\n",
    "- 1 ~ 82 epochs == 1 ~ 32k iter >> lr = 0.1\n",
    "- 83~123 epochs == 32k ~ 48k iter >> lr = 0.01\n",
    "- 124~(164) epochs == 48k ~ 64k iter >> lr = 0.001\n",
    "=======================================================\n",
    "split to 45k/5k [signle epoch = 352 iter]: milestones = [91, 137]\n",
    "- 1~91 epochs == 1 ~ 32k iter >> lr = 0.1\n",
    "- 92~137 epochs == 32k ~ 48k iter >> lr = 0.01\n",
    "- 138~(183) epochs == 48k ~ 64k iter >> lr = 0.001\n",
    "=======================================================\n",
    "\"\"\""
   ]
  },
  {
   "cell_type": "markdown",
   "metadata": {},
   "source": [
    "## (5) Define AMP scaler"
   ]
  },
  {
   "cell_type": "code",
   "execution_count": 15,
   "metadata": {},
   "outputs": [],
   "source": [
    "scaler = torch.cuda.amp.GradScaler(enabled=True)"
   ]
  },
  {
   "cell_type": "markdown",
   "metadata": {},
   "source": [
    "## Load before process"
   ]
  },
  {
   "cell_type": "code",
   "execution_count": 16,
   "metadata": {},
   "outputs": [
    {
     "name": "stdout",
     "output_type": "stream",
     "text": [
      "File does not exist. Created a new log.\n"
     ]
    }
   ],
   "source": [
    "if os.path.exists(file_path + \".pth.tar\"):\n",
    "    # Read checkpoint as desired, e.g.,\n",
    "    checkpoint = torch.load(\n",
    "        file_path + \".pth.tar\",\n",
    "        map_location=lambda storage, loc: storage.cuda(device),\n",
    "    )\n",
    "    model.load_state_dict(checkpoint[\"model\"])\n",
    "    optimizer.load_state_dict(checkpoint[\"optimizer\"])\n",
    "    scaler.load_state_dict(checkpoint[\"scaler\"])\n",
    "    scheduler.load_state_dict(checkpoint[\"scheduler\"])\n",
    "    earlystopper.load_state_dict(checkpoint[\"earlystopper\"])\n",
    "    logs = checkpoint[\"logs\"]\n",
    "\n",
    "    print(\"Suceessfully loaded the All setting and Log file.\")\n",
    "    print(file_path)\n",
    "    print(f\"Current epoch is {len(logs['train_loss'])}\")\n",
    "    print(f\"Current learning rate: {optimizer.param_groups[0]['lr']}\")\n",
    "else:\n",
    "    # Create a dictionary to store the variables\n",
    "    train_loss = []\n",
    "    train_acc = []\n",
    "    eval_loss = []\n",
    "    valid_acc = []\n",
    "    test_loss = []\n",
    "    test_acc = []\n",
    "    lr_log = []\n",
    "    logs = {\n",
    "        \"train_loss\": train_loss,\n",
    "        \"train_acc\": train_acc,\n",
    "        \"valid_loss\": eval_loss,\n",
    "        \"valid_acc\": valid_acc,\n",
    "        \"test_loss\": test_loss,\n",
    "        \"test_acc\": test_acc,\n",
    "        \"lr_log\": lr_log,\n",
    "    }\n",
    "    print(\"File does not exist. Created a new log.\")"
   ]
  },
  {
   "cell_type": "code",
   "execution_count": 17,
   "metadata": {},
   "outputs": [
    {
     "data": {
      "text/plain": [
       "0.1"
      ]
     },
     "execution_count": 17,
     "metadata": {},
     "output_type": "execute_result"
    }
   ],
   "source": [
    "optimizer.param_groups[0][\"lr\"]"
   ]
  },
  {
   "cell_type": "markdown",
   "metadata": {},
   "source": [
    "# [Training Loop]"
   ]
  },
  {
   "cell_type": "code",
   "execution_count": 18,
   "metadata": {},
   "outputs": [],
   "source": [
    "if valid_data is None:\n",
    "    valid_dataloader = None\n",
    "if test_data is None:\n",
    "    test_dataloader = None"
   ]
  },
  {
   "cell_type": "code",
   "execution_count": 19,
   "metadata": {},
   "outputs": [
    {
     "name": "stdout",
     "output_type": "stream",
     "text": [
      "[Epoch 1/1000] :\n"
     ]
    },
    {
     "name": "stderr",
     "output_type": "stream",
     "text": [
      "train: 100%|██████████| 352/352 [00:19<00:00, 18.09it/s]"
     ]
    },
    {
     "name": "stdout",
     "output_type": "stream",
     "text": [
      "Train Loss: 0.0064 | Train Acc: 15.28%\n"
     ]
    },
    {
     "name": "stderr",
     "output_type": "stream",
     "text": [
      "\n"
     ]
    },
    {
     "name": "stdout",
     "output_type": "stream",
     "text": [
      "Valid Loss: 2.1886 | Valid Acc: 17.84%\n",
      "Test  Loss: 3.2908 | Test Acc: 18.33%\n",
      "updated best eval loss : 2.1885907739400863\n",
      "--------------------------------------------------\n",
      "[Epoch 2/1000] :\n"
     ]
    },
    {
     "name": "stderr",
     "output_type": "stream",
     "text": [
      "train: 100%|██████████| 352/352 [00:15<00:00, 22.91it/s]\n"
     ]
    },
    {
     "name": "stdout",
     "output_type": "stream",
     "text": [
      "Train Loss: 0.0060 | Train Acc: 16.67%\n",
      "Valid Loss: 2.0598 | Valid Acc: 25.10%\n",
      "Test  Loss: 2.1653 | Test Acc: 26.88%\n",
      "updated best eval loss : 2.0598230212926865\n",
      "--------------------------------------------------\n",
      "[Epoch 3/1000] :\n"
     ]
    },
    {
     "name": "stderr",
     "output_type": "stream",
     "text": [
      "train: 100%|██████████| 352/352 [00:15<00:00, 22.59it/s]\n"
     ]
    },
    {
     "name": "stdout",
     "output_type": "stream",
     "text": [
      "Train Loss: 0.0044 | Train Acc: 44.44%\n",
      "Valid Loss: 1.6394 | Valid Acc: 41.36%\n",
      "Test  Loss: 1.6676 | Test Acc: 40.90%\n",
      "updated best eval loss : 1.6393632382154464\n",
      "--------------------------------------------------\n",
      "[Epoch 4/1000] :\n"
     ]
    },
    {
     "name": "stderr",
     "output_type": "stream",
     "text": [
      "train: 100%|██████████| 352/352 [00:15<00:00, 22.83it/s]\n"
     ]
    },
    {
     "name": "stdout",
     "output_type": "stream",
     "text": [
      "Train Loss: 0.0042 | Train Acc: 47.22%\n",
      "Valid Loss: 1.5014 | Valid Acc: 48.08%\n",
      "Test  Loss: 2.0515 | Test Acc: 38.16%\n",
      "updated best eval loss : 1.5013961255550385\n",
      "--------------------------------------------------\n",
      "[Epoch 5/1000] :\n"
     ]
    },
    {
     "name": "stderr",
     "output_type": "stream",
     "text": [
      "train: 100%|██████████| 352/352 [00:15<00:00, 22.51it/s]\n"
     ]
    },
    {
     "name": "stdout",
     "output_type": "stream",
     "text": [
      "Train Loss: 0.0040 | Train Acc: 51.39%\n",
      "Valid Loss: 1.4702 | Valid Acc: 51.48%\n",
      "Test  Loss: 1.6913 | Test Acc: 45.82%\n",
      "updated best eval loss : 1.4701738208532333\n",
      "--------------------------------------------------\n",
      "[Epoch 6/1000] :\n"
     ]
    },
    {
     "name": "stderr",
     "output_type": "stream",
     "text": [
      "train: 100%|██████████| 352/352 [00:15<00:00, 23.15it/s]\n"
     ]
    },
    {
     "name": "stdout",
     "output_type": "stream",
     "text": [
      "Train Loss: 0.0028 | Train Acc: 62.50%\n",
      "Valid Loss: 1.1200 | Valid Acc: 59.88%\n",
      "Test  Loss: 1.0955 | Test Acc: 62.46%\n",
      "updated best eval loss : 1.1199916757643222\n",
      "--------------------------------------------------\n",
      "[Epoch 7/1000] :\n"
     ]
    },
    {
     "name": "stderr",
     "output_type": "stream",
     "text": [
      "train: 100%|██████████| 352/352 [00:15<00:00, 23.23it/s]\n"
     ]
    },
    {
     "name": "stdout",
     "output_type": "stream",
     "text": [
      "Train Loss: 0.0030 | Train Acc: 63.89%\n",
      "Valid Loss: 1.2540 | Valid Acc: 57.86%\n",
      "Test  Loss: 1.1133 | Test Acc: 62.48%\n",
      "--------------------------------------------------\n",
      "[Epoch 8/1000] :\n"
     ]
    },
    {
     "name": "stderr",
     "output_type": "stream",
     "text": [
      "train: 100%|██████████| 352/352 [00:15<00:00, 22.84it/s]\n"
     ]
    },
    {
     "name": "stdout",
     "output_type": "stream",
     "text": [
      "Train Loss: 0.0026 | Train Acc: 65.28%\n",
      "Valid Loss: 0.9119 | Valid Acc: 68.00%\n",
      "Test  Loss: 0.8371 | Test Acc: 70.88%\n",
      "updated best eval loss : 0.9118533104658126\n",
      "--------------------------------------------------\n",
      "[Epoch 9/1000] :\n"
     ]
    },
    {
     "name": "stderr",
     "output_type": "stream",
     "text": [
      "train: 100%|██████████| 352/352 [00:14<00:00, 23.53it/s]\n"
     ]
    },
    {
     "name": "stdout",
     "output_type": "stream",
     "text": [
      "Train Loss: 0.0018 | Train Acc: 77.78%\n",
      "Valid Loss: 0.9364 | Valid Acc: 67.94%\n",
      "Test  Loss: 1.0210 | Test Acc: 66.99%\n",
      "--------------------------------------------------\n",
      "[Epoch 10/1000] :\n"
     ]
    },
    {
     "name": "stderr",
     "output_type": "stream",
     "text": [
      "train: 100%|██████████| 352/352 [00:15<00:00, 23.29it/s]\n"
     ]
    },
    {
     "name": "stdout",
     "output_type": "stream",
     "text": [
      "Train Loss: 0.0019 | Train Acc: 72.22%\n",
      "Valid Loss: 0.9171 | Valid Acc: 68.80%\n",
      "Test  Loss: 1.0242 | Test Acc: 65.71%\n",
      "--------------------------------------------------\n",
      "[Epoch 11/1000] :\n"
     ]
    },
    {
     "name": "stderr",
     "output_type": "stream",
     "text": [
      "train: 100%|██████████| 352/352 [00:15<00:00, 22.83it/s]\n"
     ]
    },
    {
     "name": "stdout",
     "output_type": "stream",
     "text": [
      "Train Loss: 0.0022 | Train Acc: 72.22%\n",
      "Valid Loss: 0.8293 | Valid Acc: 71.42%\n",
      "Test  Loss: 0.7890 | Test Acc: 72.49%\n",
      "updated best eval loss : 0.8292955830693245\n",
      "--------------------------------------------------\n",
      "[Epoch 12/1000] :\n"
     ]
    },
    {
     "name": "stderr",
     "output_type": "stream",
     "text": [
      "train: 100%|██████████| 352/352 [00:15<00:00, 22.78it/s]\n"
     ]
    },
    {
     "name": "stdout",
     "output_type": "stream",
     "text": [
      "Train Loss: 0.0022 | Train Acc: 69.44%\n",
      "Valid Loss: 0.9572 | Valid Acc: 68.10%\n",
      "Test  Loss: 1.4320 | Test Acc: 60.67%\n",
      "--------------------------------------------------\n",
      "[Epoch 13/1000] :\n"
     ]
    },
    {
     "name": "stderr",
     "output_type": "stream",
     "text": [
      "train: 100%|██████████| 352/352 [00:15<00:00, 22.68it/s]\n"
     ]
    },
    {
     "name": "stdout",
     "output_type": "stream",
     "text": [
      "Train Loss: 0.0023 | Train Acc: 75.00%\n",
      "Valid Loss: 0.8322 | Valid Acc: 71.34%\n",
      "Test  Loss: 0.8556 | Test Acc: 72.32%\n",
      "--------------------------------------------------\n",
      "[Epoch 14/1000] :\n"
     ]
    },
    {
     "name": "stderr",
     "output_type": "stream",
     "text": [
      "train: 100%|██████████| 352/352 [00:15<00:00, 22.66it/s]\n"
     ]
    },
    {
     "name": "stdout",
     "output_type": "stream",
     "text": [
      "Train Loss: 0.0016 | Train Acc: 80.56%\n",
      "Valid Loss: 0.7644 | Valid Acc: 73.70%\n",
      "Test  Loss: 0.7118 | Test Acc: 75.95%\n",
      "updated best eval loss : 0.7644101426005363\n",
      "--------------------------------------------------\n",
      "[Epoch 15/1000] :\n"
     ]
    },
    {
     "name": "stderr",
     "output_type": "stream",
     "text": [
      "train: 100%|██████████| 352/352 [00:15<00:00, 22.46it/s]\n"
     ]
    },
    {
     "name": "stdout",
     "output_type": "stream",
     "text": [
      "Train Loss: 0.0024 | Train Acc: 72.22%\n",
      "Valid Loss: 0.7634 | Valid Acc: 74.04%\n",
      "Test  Loss: 0.8964 | Test Acc: 71.60%\n",
      "updated best eval loss : 0.763377208262682\n",
      "--------------------------------------------------\n",
      "[Epoch 16/1000] :\n"
     ]
    },
    {
     "name": "stderr",
     "output_type": "stream",
     "text": [
      "train: 100%|██████████| 352/352 [00:15<00:00, 23.33it/s]\n"
     ]
    },
    {
     "name": "stdout",
     "output_type": "stream",
     "text": [
      "Train Loss: 0.0026 | Train Acc: 72.22%\n",
      "Valid Loss: 0.7398 | Valid Acc: 74.96%\n",
      "Test  Loss: 0.6359 | Test Acc: 78.50%\n",
      "updated best eval loss : 0.7397607952356339\n",
      "--------------------------------------------------\n",
      "[Epoch 17/1000] :\n"
     ]
    },
    {
     "name": "stderr",
     "output_type": "stream",
     "text": [
      "train: 100%|██████████| 352/352 [00:15<00:00, 22.74it/s]\n"
     ]
    },
    {
     "name": "stdout",
     "output_type": "stream",
     "text": [
      "Train Loss: 0.0024 | Train Acc: 70.83%\n",
      "Valid Loss: 0.7142 | Valid Acc: 74.82%\n",
      "Test  Loss: 0.6143 | Test Acc: 78.82%\n",
      "updated best eval loss : 0.7142051160335541\n",
      "--------------------------------------------------\n",
      "[Epoch 18/1000] :\n"
     ]
    },
    {
     "name": "stderr",
     "output_type": "stream",
     "text": [
      "train: 100%|██████████| 352/352 [00:15<00:00, 22.78it/s]\n"
     ]
    },
    {
     "name": "stdout",
     "output_type": "stream",
     "text": [
      "Train Loss: 0.0008 | Train Acc: 93.06%\n",
      "Valid Loss: 0.6846 | Valid Acc: 75.94%\n",
      "Test  Loss: 0.7677 | Test Acc: 73.79%\n",
      "updated best eval loss : 0.6845679797232151\n",
      "--------------------------------------------------\n",
      "[Epoch 19/1000] :\n"
     ]
    },
    {
     "name": "stderr",
     "output_type": "stream",
     "text": [
      "train: 100%|██████████| 352/352 [00:15<00:00, 23.25it/s]\n"
     ]
    },
    {
     "name": "stdout",
     "output_type": "stream",
     "text": [
      "Train Loss: 0.0021 | Train Acc: 75.00%\n",
      "Valid Loss: 0.6750 | Valid Acc: 76.46%\n",
      "Test  Loss: 0.7568 | Test Acc: 74.86%\n",
      "updated best eval loss : 0.6749539352953434\n",
      "--------------------------------------------------\n",
      "[Epoch 20/1000] :\n"
     ]
    },
    {
     "name": "stderr",
     "output_type": "stream",
     "text": [
      "train: 100%|██████████| 352/352 [00:15<00:00, 23.12it/s]\n"
     ]
    },
    {
     "name": "stdout",
     "output_type": "stream",
     "text": [
      "Train Loss: 0.0018 | Train Acc: 81.94%\n",
      "Valid Loss: 0.7774 | Valid Acc: 73.84%\n",
      "Test  Loss: 0.7296 | Test Acc: 75.31%\n",
      "--------------------------------------------------\n",
      "[Epoch 21/1000] :\n"
     ]
    },
    {
     "name": "stderr",
     "output_type": "stream",
     "text": [
      "train: 100%|██████████| 352/352 [00:15<00:00, 22.99it/s]\n"
     ]
    },
    {
     "name": "stdout",
     "output_type": "stream",
     "text": [
      "Train Loss: 0.0021 | Train Acc: 73.61%\n",
      "Valid Loss: 0.8157 | Valid Acc: 72.98%\n",
      "Test  Loss: 0.7817 | Test Acc: 75.56%\n",
      "--------------------------------------------------\n",
      "[Epoch 22/1000] :\n"
     ]
    },
    {
     "name": "stderr",
     "output_type": "stream",
     "text": [
      "train: 100%|██████████| 352/352 [00:15<00:00, 22.58it/s]\n"
     ]
    },
    {
     "name": "stdout",
     "output_type": "stream",
     "text": [
      "Train Loss: 0.0021 | Train Acc: 75.00%\n",
      "Valid Loss: 0.7433 | Valid Acc: 74.50%\n",
      "Test  Loss: 0.7372 | Test Acc: 75.55%\n",
      "--------------------------------------------------\n",
      "[Epoch 23/1000] :\n"
     ]
    },
    {
     "name": "stderr",
     "output_type": "stream",
     "text": [
      "train: 100%|██████████| 352/352 [00:15<00:00, 23.19it/s]\n"
     ]
    },
    {
     "name": "stdout",
     "output_type": "stream",
     "text": [
      "Train Loss: 0.0012 | Train Acc: 84.72%\n",
      "Valid Loss: 0.8823 | Valid Acc: 72.60%\n",
      "Test  Loss: 0.9640 | Test Acc: 71.01%\n",
      "--------------------------------------------------\n",
      "[Epoch 24/1000] :\n"
     ]
    },
    {
     "name": "stderr",
     "output_type": "stream",
     "text": [
      "train: 100%|██████████| 352/352 [00:15<00:00, 22.58it/s]\n"
     ]
    },
    {
     "name": "stdout",
     "output_type": "stream",
     "text": [
      "Train Loss: 0.0018 | Train Acc: 81.94%\n",
      "Valid Loss: 0.8359 | Valid Acc: 72.86%\n",
      "Test  Loss: 0.9722 | Test Acc: 68.78%\n",
      "--------------------------------------------------\n",
      "[Epoch 25/1000] :\n"
     ]
    },
    {
     "name": "stderr",
     "output_type": "stream",
     "text": [
      "train: 100%|██████████| 352/352 [00:15<00:00, 23.36it/s]\n"
     ]
    },
    {
     "name": "stdout",
     "output_type": "stream",
     "text": [
      "Train Loss: 0.0011 | Train Acc: 88.89%\n",
      "Valid Loss: 0.6675 | Valid Acc: 77.12%\n",
      "Test  Loss: 0.6172 | Test Acc: 79.25%\n",
      "updated best eval loss : 0.6674546241760254\n",
      "--------------------------------------------------\n",
      "[Epoch 26/1000] :\n"
     ]
    },
    {
     "name": "stderr",
     "output_type": "stream",
     "text": [
      "train: 100%|██████████| 352/352 [00:15<00:00, 22.76it/s]\n"
     ]
    },
    {
     "name": "stdout",
     "output_type": "stream",
     "text": [
      "Train Loss: 0.0022 | Train Acc: 77.78%\n",
      "Valid Loss: 0.6625 | Valid Acc: 76.54%\n",
      "Test  Loss: 0.8861 | Test Acc: 70.88%\n",
      "updated best eval loss : 0.6624764010310173\n",
      "--------------------------------------------------\n",
      "[Epoch 27/1000] :\n"
     ]
    },
    {
     "name": "stderr",
     "output_type": "stream",
     "text": [
      "train: 100%|██████████| 352/352 [00:15<00:00, 22.70it/s]\n"
     ]
    },
    {
     "name": "stdout",
     "output_type": "stream",
     "text": [
      "Train Loss: 0.0014 | Train Acc: 79.17%\n",
      "Valid Loss: 0.7361 | Valid Acc: 74.88%\n",
      "Test  Loss: 0.7018 | Test Acc: 77.35%\n",
      "--------------------------------------------------\n",
      "[Epoch 28/1000] :\n"
     ]
    },
    {
     "name": "stderr",
     "output_type": "stream",
     "text": [
      "train: 100%|██████████| 352/352 [00:15<00:00, 22.70it/s]\n"
     ]
    },
    {
     "name": "stdout",
     "output_type": "stream",
     "text": [
      "Train Loss: 0.0013 | Train Acc: 84.72%\n",
      "Valid Loss: 0.6058 | Valid Acc: 79.82%\n",
      "Test  Loss: 0.4912 | Test Acc: 83.26%\n",
      "updated best eval loss : 0.605836120992899\n",
      "--------------------------------------------------\n",
      "[Epoch 29/1000] :\n"
     ]
    },
    {
     "name": "stderr",
     "output_type": "stream",
     "text": [
      "train: 100%|██████████| 352/352 [00:15<00:00, 22.38it/s]\n"
     ]
    },
    {
     "name": "stdout",
     "output_type": "stream",
     "text": [
      "Train Loss: 0.0015 | Train Acc: 79.17%\n",
      "Valid Loss: 0.6374 | Valid Acc: 78.34%\n",
      "Test  Loss: 0.6388 | Test Acc: 78.26%\n",
      "--------------------------------------------------\n",
      "[Epoch 30/1000] :\n"
     ]
    },
    {
     "name": "stderr",
     "output_type": "stream",
     "text": [
      "train: 100%|██████████| 352/352 [00:15<00:00, 23.46it/s]\n"
     ]
    },
    {
     "name": "stdout",
     "output_type": "stream",
     "text": [
      "Train Loss: 0.0019 | Train Acc: 77.78%\n",
      "Valid Loss: 0.6531 | Valid Acc: 77.22%\n",
      "Test  Loss: 0.6029 | Test Acc: 79.23%\n",
      "--------------------------------------------------\n",
      "[Epoch 31/1000] :\n"
     ]
    },
    {
     "name": "stderr",
     "output_type": "stream",
     "text": [
      "train: 100%|██████████| 352/352 [00:14<00:00, 23.55it/s]\n"
     ]
    },
    {
     "name": "stdout",
     "output_type": "stream",
     "text": [
      "Train Loss: 0.0011 | Train Acc: 88.89%\n",
      "Valid Loss: 0.7159 | Valid Acc: 75.64%\n",
      "Test  Loss: 0.6755 | Test Acc: 77.55%\n",
      "--------------------------------------------------\n",
      "[Epoch 32/1000] :\n"
     ]
    },
    {
     "name": "stderr",
     "output_type": "stream",
     "text": [
      "train: 100%|██████████| 352/352 [00:15<00:00, 23.00it/s]\n"
     ]
    },
    {
     "name": "stdout",
     "output_type": "stream",
     "text": [
      "Train Loss: 0.0012 | Train Acc: 86.11%\n",
      "Valid Loss: 0.6597 | Valid Acc: 78.04%\n",
      "Test  Loss: 0.6118 | Test Acc: 78.99%\n",
      "--------------------------------------------------\n",
      "[Epoch 33/1000] :\n"
     ]
    },
    {
     "name": "stderr",
     "output_type": "stream",
     "text": [
      "train: 100%|██████████| 352/352 [00:15<00:00, 22.56it/s]\n"
     ]
    },
    {
     "name": "stdout",
     "output_type": "stream",
     "text": [
      "Train Loss: 0.0009 | Train Acc: 84.72%\n",
      "Valid Loss: 0.6472 | Valid Acc: 77.54%\n",
      "Test  Loss: 0.6475 | Test Acc: 77.63%\n",
      "--------------------------------------------------\n",
      "[Epoch 34/1000] :\n"
     ]
    },
    {
     "name": "stderr",
     "output_type": "stream",
     "text": [
      "train: 100%|██████████| 352/352 [00:15<00:00, 23.10it/s]\n"
     ]
    },
    {
     "name": "stdout",
     "output_type": "stream",
     "text": [
      "Train Loss: 0.0023 | Train Acc: 69.44%\n",
      "Valid Loss: 0.7195 | Valid Acc: 75.66%\n",
      "Test  Loss: 0.7783 | Test Acc: 74.75%\n",
      "--------------------------------------------------\n",
      "[Epoch 35/1000] :\n"
     ]
    },
    {
     "name": "stderr",
     "output_type": "stream",
     "text": [
      "train: 100%|██████████| 352/352 [00:14<00:00, 23.57it/s]\n"
     ]
    },
    {
     "name": "stdout",
     "output_type": "stream",
     "text": [
      "Train Loss: 0.0013 | Train Acc: 87.50%\n",
      "Valid Loss: 0.6356 | Valid Acc: 78.82%\n",
      "Test  Loss: 0.5575 | Test Acc: 81.03%\n",
      "--------------------------------------------------\n",
      "[Epoch 36/1000] :\n"
     ]
    },
    {
     "name": "stderr",
     "output_type": "stream",
     "text": [
      "train: 100%|██████████| 352/352 [00:15<00:00, 22.96it/s]\n"
     ]
    },
    {
     "name": "stdout",
     "output_type": "stream",
     "text": [
      "Train Loss: 0.0015 | Train Acc: 81.94%\n",
      "Valid Loss: 0.6793 | Valid Acc: 76.46%\n",
      "Test  Loss: 0.6206 | Test Acc: 78.79%\n",
      "--------------------------------------------------\n",
      "[Epoch 37/1000] :\n"
     ]
    },
    {
     "name": "stderr",
     "output_type": "stream",
     "text": [
      "train: 100%|██████████| 352/352 [00:15<00:00, 23.06it/s]\n"
     ]
    },
    {
     "name": "stdout",
     "output_type": "stream",
     "text": [
      "Train Loss: 0.0012 | Train Acc: 87.50%\n",
      "Valid Loss: 0.6375 | Valid Acc: 77.88%\n",
      "Test  Loss: 0.6481 | Test Acc: 78.33%\n",
      "--------------------------------------------------\n",
      "[Epoch 38/1000] :\n"
     ]
    },
    {
     "name": "stderr",
     "output_type": "stream",
     "text": [
      "train: 100%|██████████| 352/352 [00:15<00:00, 23.07it/s]\n"
     ]
    },
    {
     "name": "stdout",
     "output_type": "stream",
     "text": [
      "Train Loss: 0.0020 | Train Acc: 76.39%\n",
      "Valid Loss: 0.5817 | Valid Acc: 78.68%\n",
      "Test  Loss: 0.6025 | Test Acc: 79.33%\n",
      "updated best eval loss : 0.5817422404885292\n",
      "--------------------------------------------------\n",
      "[Epoch 39/1000] :\n"
     ]
    },
    {
     "name": "stderr",
     "output_type": "stream",
     "text": [
      "train: 100%|██████████| 352/352 [00:15<00:00, 23.21it/s]\n"
     ]
    },
    {
     "name": "stdout",
     "output_type": "stream",
     "text": [
      "Train Loss: 0.0011 | Train Acc: 88.89%\n",
      "Valid Loss: 0.6337 | Valid Acc: 77.62%\n",
      "Test  Loss: 0.6856 | Test Acc: 77.05%\n",
      "--------------------------------------------------\n",
      "[Epoch 40/1000] :\n"
     ]
    },
    {
     "name": "stderr",
     "output_type": "stream",
     "text": [
      "train: 100%|██████████| 352/352 [00:15<00:00, 22.77it/s]\n"
     ]
    },
    {
     "name": "stdout",
     "output_type": "stream",
     "text": [
      "Train Loss: 0.0009 | Train Acc: 87.50%\n",
      "Valid Loss: 0.6573 | Valid Acc: 77.06%\n",
      "Test  Loss: 0.5829 | Test Acc: 80.53%\n",
      "--------------------------------------------------\n",
      "[Epoch 41/1000] :\n"
     ]
    },
    {
     "name": "stderr",
     "output_type": "stream",
     "text": [
      "train: 100%|██████████| 352/352 [00:15<00:00, 23.45it/s]\n"
     ]
    },
    {
     "name": "stdout",
     "output_type": "stream",
     "text": [
      "Train Loss: 0.0008 | Train Acc: 90.28%\n",
      "Valid Loss: 0.6343 | Valid Acc: 77.96%\n",
      "Test  Loss: 0.5850 | Test Acc: 79.68%\n",
      "--------------------------------------------------\n",
      "[Epoch 42/1000] :\n"
     ]
    },
    {
     "name": "stderr",
     "output_type": "stream",
     "text": [
      "train: 100%|██████████| 352/352 [00:15<00:00, 23.29it/s]\n"
     ]
    },
    {
     "name": "stdout",
     "output_type": "stream",
     "text": [
      "Train Loss: 0.0015 | Train Acc: 86.11%\n",
      "Valid Loss: 0.6020 | Valid Acc: 79.00%\n",
      "Test  Loss: 0.6326 | Test Acc: 78.97%\n",
      "--------------------------------------------------\n",
      "[Epoch 43/1000] :\n"
     ]
    },
    {
     "name": "stderr",
     "output_type": "stream",
     "text": [
      "train: 100%|██████████| 352/352 [00:15<00:00, 23.03it/s]\n"
     ]
    },
    {
     "name": "stdout",
     "output_type": "stream",
     "text": [
      "Train Loss: 0.0011 | Train Acc: 83.33%\n",
      "Valid Loss: 0.6379 | Valid Acc: 78.36%\n",
      "Test  Loss: 0.5656 | Test Acc: 80.76%\n",
      "--------------------------------------------------\n",
      "[Epoch 44/1000] :\n"
     ]
    },
    {
     "name": "stderr",
     "output_type": "stream",
     "text": [
      "train: 100%|██████████| 352/352 [00:15<00:00, 22.63it/s]\n"
     ]
    },
    {
     "name": "stdout",
     "output_type": "stream",
     "text": [
      "Train Loss: 0.0016 | Train Acc: 79.17%\n",
      "Valid Loss: 0.6666 | Valid Acc: 77.34%\n",
      "Test  Loss: 0.5910 | Test Acc: 80.45%\n",
      "--------------------------------------------------\n",
      "[Epoch 45/1000] :\n"
     ]
    },
    {
     "name": "stderr",
     "output_type": "stream",
     "text": [
      "train: 100%|██████████| 352/352 [00:15<00:00, 22.61it/s]\n"
     ]
    },
    {
     "name": "stdout",
     "output_type": "stream",
     "text": [
      "Train Loss: 0.0020 | Train Acc: 77.78%\n",
      "Valid Loss: 0.6198 | Valid Acc: 78.48%\n",
      "Test  Loss: 0.5607 | Test Acc: 80.98%\n",
      "--------------------------------------------------\n",
      "[Epoch 46/1000] :\n"
     ]
    },
    {
     "name": "stderr",
     "output_type": "stream",
     "text": [
      "train: 100%|██████████| 352/352 [00:15<00:00, 22.86it/s]\n"
     ]
    },
    {
     "name": "stdout",
     "output_type": "stream",
     "text": [
      "Train Loss: 0.0008 | Train Acc: 94.44%\n",
      "Valid Loss: 0.7606 | Valid Acc: 75.18%\n",
      "Test  Loss: 0.6550 | Test Acc: 79.26%\n",
      "--------------------------------------------------\n",
      "[Epoch 47/1000] :\n"
     ]
    },
    {
     "name": "stderr",
     "output_type": "stream",
     "text": [
      "train: 100%|██████████| 352/352 [00:15<00:00, 23.19it/s]\n"
     ]
    },
    {
     "name": "stdout",
     "output_type": "stream",
     "text": [
      "Train Loss: 0.0011 | Train Acc: 86.11%\n",
      "Valid Loss: 0.6152 | Valid Acc: 78.92%\n",
      "Test  Loss: 0.5409 | Test Acc: 82.06%\n",
      "--------------------------------------------------\n",
      "[Epoch 48/1000] :\n"
     ]
    },
    {
     "name": "stderr",
     "output_type": "stream",
     "text": [
      "train: 100%|██████████| 352/352 [00:15<00:00, 22.75it/s]\n"
     ]
    },
    {
     "name": "stdout",
     "output_type": "stream",
     "text": [
      "Train Loss: 0.0010 | Train Acc: 83.33%\n",
      "Valid Loss: 0.6982 | Valid Acc: 78.04%\n",
      "Test  Loss: 0.6150 | Test Acc: 79.24%\n",
      "--------------------------------------------------\n",
      "[Epoch 49/1000] :\n"
     ]
    },
    {
     "name": "stderr",
     "output_type": "stream",
     "text": [
      "train: 100%|██████████| 352/352 [00:15<00:00, 22.69it/s]\n"
     ]
    },
    {
     "name": "stdout",
     "output_type": "stream",
     "text": [
      "Train Loss: 0.0016 | Train Acc: 80.56%\n",
      "Valid Loss: 0.6249 | Valid Acc: 78.34%\n",
      "Test  Loss: 0.6463 | Test Acc: 78.86%\n",
      "Epoch 00049: reducing learning rate of group 0 to 1.0000e-02.\n",
      "--------------------------------------------------\n",
      "[Epoch 50/1000] :\n"
     ]
    },
    {
     "name": "stderr",
     "output_type": "stream",
     "text": [
      "train: 100%|██████████| 352/352 [00:15<00:00, 22.44it/s]\n"
     ]
    },
    {
     "name": "stdout",
     "output_type": "stream",
     "text": [
      "Train Loss: 0.0011 | Train Acc: 90.28%\n",
      "Valid Loss: 0.4413 | Valid Acc: 84.72%\n",
      "Test  Loss: 0.4608 | Test Acc: 84.43%\n",
      "updated best eval loss : 0.44128103405237196\n",
      "--------------------------------------------------\n",
      "[Epoch 51/1000] :\n"
     ]
    },
    {
     "name": "stderr",
     "output_type": "stream",
     "text": [
      "train: 100%|██████████| 352/352 [00:15<00:00, 22.87it/s]\n"
     ]
    },
    {
     "name": "stdout",
     "output_type": "stream",
     "text": [
      "Train Loss: 0.0008 | Train Acc: 93.06%\n",
      "Valid Loss: 0.4491 | Valid Acc: 84.34%\n",
      "Test  Loss: 0.4628 | Test Acc: 84.57%\n",
      "--------------------------------------------------\n",
      "[Epoch 52/1000] :\n"
     ]
    },
    {
     "name": "stderr",
     "output_type": "stream",
     "text": [
      "train: 100%|██████████| 352/352 [00:15<00:00, 22.87it/s]\n"
     ]
    },
    {
     "name": "stdout",
     "output_type": "stream",
     "text": [
      "Train Loss: 0.0011 | Train Acc: 84.72%\n",
      "Valid Loss: 0.4415 | Valid Acc: 84.56%\n",
      "Test  Loss: 0.4665 | Test Acc: 84.69%\n",
      "--------------------------------------------------\n",
      "[Epoch 53/1000] :\n"
     ]
    },
    {
     "name": "stderr",
     "output_type": "stream",
     "text": [
      "train: 100%|██████████| 352/352 [00:15<00:00, 23.01it/s]\n"
     ]
    },
    {
     "name": "stdout",
     "output_type": "stream",
     "text": [
      "Train Loss: 0.0010 | Train Acc: 88.89%\n",
      "Valid Loss: 0.4266 | Valid Acc: 85.42%\n",
      "Test  Loss: 0.4691 | Test Acc: 84.78%\n",
      "updated best eval loss : 0.42661866154521705\n",
      "--------------------------------------------------\n",
      "[Epoch 54/1000] :\n"
     ]
    },
    {
     "name": "stderr",
     "output_type": "stream",
     "text": [
      "train: 100%|██████████| 352/352 [00:15<00:00, 22.95it/s]\n"
     ]
    },
    {
     "name": "stdout",
     "output_type": "stream",
     "text": [
      "Train Loss: 0.0007 | Train Acc: 93.06%\n",
      "Valid Loss: 0.4498 | Valid Acc: 85.06%\n",
      "Test  Loss: 0.4727 | Test Acc: 84.32%\n",
      "--------------------------------------------------\n",
      "[Epoch 55/1000] :\n"
     ]
    },
    {
     "name": "stderr",
     "output_type": "stream",
     "text": [
      "train: 100%|██████████| 352/352 [00:15<00:00, 22.77it/s]\n"
     ]
    },
    {
     "name": "stdout",
     "output_type": "stream",
     "text": [
      "Train Loss: 0.0009 | Train Acc: 88.89%\n",
      "Valid Loss: 0.4417 | Valid Acc: 84.78%\n",
      "Test  Loss: 0.4571 | Test Acc: 84.72%\n",
      "--------------------------------------------------\n",
      "[Epoch 56/1000] :\n"
     ]
    },
    {
     "name": "stderr",
     "output_type": "stream",
     "text": [
      "train: 100%|██████████| 352/352 [00:15<00:00, 22.42it/s]\n"
     ]
    },
    {
     "name": "stdout",
     "output_type": "stream",
     "text": [
      "Train Loss: 0.0008 | Train Acc: 90.28%\n",
      "Valid Loss: 0.4372 | Valid Acc: 85.64%\n",
      "Test  Loss: 0.4574 | Test Acc: 84.96%\n",
      "--------------------------------------------------\n",
      "[Epoch 57/1000] :\n"
     ]
    },
    {
     "name": "stderr",
     "output_type": "stream",
     "text": [
      "train: 100%|██████████| 352/352 [00:15<00:00, 22.69it/s]\n"
     ]
    },
    {
     "name": "stdout",
     "output_type": "stream",
     "text": [
      "Train Loss: 0.0010 | Train Acc: 84.72%\n",
      "Valid Loss: 0.4307 | Valid Acc: 85.40%\n",
      "Test  Loss: 0.4605 | Test Acc: 84.79%\n",
      "--------------------------------------------------\n",
      "[Epoch 58/1000] :\n"
     ]
    },
    {
     "name": "stderr",
     "output_type": "stream",
     "text": [
      "train: 100%|██████████| 352/352 [00:15<00:00, 22.86it/s]\n"
     ]
    },
    {
     "name": "stdout",
     "output_type": "stream",
     "text": [
      "Train Loss: 0.0009 | Train Acc: 88.89%\n",
      "Valid Loss: 0.3872 | Valid Acc: 86.40%\n",
      "Test  Loss: 0.4385 | Test Acc: 85.68%\n",
      "updated best eval loss : 0.38717220835387706\n",
      "--------------------------------------------------\n",
      "[Epoch 59/1000] :\n"
     ]
    },
    {
     "name": "stderr",
     "output_type": "stream",
     "text": [
      "train: 100%|██████████| 352/352 [00:15<00:00, 22.55it/s]\n"
     ]
    },
    {
     "name": "stdout",
     "output_type": "stream",
     "text": [
      "Train Loss: 0.0007 | Train Acc: 91.67%\n",
      "Valid Loss: 0.4155 | Valid Acc: 85.80%\n",
      "Test  Loss: 0.4463 | Test Acc: 85.24%\n",
      "--------------------------------------------------\n",
      "[Epoch 60/1000] :\n"
     ]
    },
    {
     "name": "stderr",
     "output_type": "stream",
     "text": [
      "train: 100%|██████████| 352/352 [00:15<00:00, 22.83it/s]\n"
     ]
    },
    {
     "name": "stdout",
     "output_type": "stream",
     "text": [
      "Train Loss: 0.0006 | Train Acc: 90.28%\n",
      "Valid Loss: 0.4035 | Valid Acc: 85.74%\n",
      "Test  Loss: 0.4460 | Test Acc: 85.54%\n",
      "--------------------------------------------------\n",
      "[Epoch 61/1000] :\n"
     ]
    },
    {
     "name": "stderr",
     "output_type": "stream",
     "text": [
      "train: 100%|██████████| 352/352 [00:15<00:00, 22.46it/s]\n"
     ]
    },
    {
     "name": "stdout",
     "output_type": "stream",
     "text": [
      "Train Loss: 0.0011 | Train Acc: 87.50%\n",
      "Valid Loss: 0.4449 | Valid Acc: 84.98%\n",
      "Test  Loss: 0.4653 | Test Acc: 84.77%\n",
      "--------------------------------------------------\n",
      "[Epoch 62/1000] :\n"
     ]
    },
    {
     "name": "stderr",
     "output_type": "stream",
     "text": [
      "train: 100%|██████████| 352/352 [00:15<00:00, 23.17it/s]\n"
     ]
    },
    {
     "name": "stdout",
     "output_type": "stream",
     "text": [
      "Train Loss: 0.0014 | Train Acc: 83.33%\n",
      "Valid Loss: 0.3972 | Valid Acc: 86.44%\n",
      "Test  Loss: 0.5156 | Test Acc: 83.28%\n",
      "--------------------------------------------------\n",
      "[Epoch 63/1000] :\n"
     ]
    },
    {
     "name": "stderr",
     "output_type": "stream",
     "text": [
      "train: 100%|██████████| 352/352 [00:15<00:00, 22.69it/s]\n"
     ]
    },
    {
     "name": "stdout",
     "output_type": "stream",
     "text": [
      "Train Loss: 0.0011 | Train Acc: 90.28%\n",
      "Valid Loss: 0.4141 | Valid Acc: 85.94%\n",
      "Test  Loss: 0.4439 | Test Acc: 85.52%\n",
      "--------------------------------------------------\n",
      "[Epoch 64/1000] :\n"
     ]
    },
    {
     "name": "stderr",
     "output_type": "stream",
     "text": [
      "train: 100%|██████████| 352/352 [00:15<00:00, 22.43it/s]\n"
     ]
    },
    {
     "name": "stdout",
     "output_type": "stream",
     "text": [
      "Train Loss: 0.0007 | Train Acc: 90.28%\n",
      "Valid Loss: 0.4255 | Valid Acc: 86.02%\n",
      "Test  Loss: 0.4939 | Test Acc: 83.78%\n",
      "--------------------------------------------------\n",
      "[Epoch 65/1000] :\n"
     ]
    },
    {
     "name": "stderr",
     "output_type": "stream",
     "text": [
      "train: 100%|██████████| 352/352 [00:15<00:00, 22.62it/s]\n"
     ]
    },
    {
     "name": "stdout",
     "output_type": "stream",
     "text": [
      "Train Loss: 0.0010 | Train Acc: 86.11%\n",
      "Valid Loss: 0.4041 | Valid Acc: 86.26%\n",
      "Test  Loss: 0.4886 | Test Acc: 84.13%\n",
      "--------------------------------------------------\n",
      "[Epoch 66/1000] :\n"
     ]
    },
    {
     "name": "stderr",
     "output_type": "stream",
     "text": [
      "train: 100%|██████████| 352/352 [00:15<00:00, 22.66it/s]\n"
     ]
    },
    {
     "name": "stdout",
     "output_type": "stream",
     "text": [
      "Train Loss: 0.0008 | Train Acc: 90.28%\n",
      "Valid Loss: 0.4438 | Valid Acc: 85.28%\n",
      "Test  Loss: 0.4902 | Test Acc: 84.50%\n",
      "--------------------------------------------------\n",
      "[Epoch 67/1000] :\n"
     ]
    },
    {
     "name": "stderr",
     "output_type": "stream",
     "text": [
      "train: 100%|██████████| 352/352 [00:15<00:00, 23.46it/s]\n"
     ]
    },
    {
     "name": "stdout",
     "output_type": "stream",
     "text": [
      "Train Loss: 0.0005 | Train Acc: 93.06%\n",
      "Valid Loss: 0.4210 | Valid Acc: 85.86%\n",
      "Test  Loss: 0.4885 | Test Acc: 83.96%\n",
      "--------------------------------------------------\n",
      "[Epoch 68/1000] :\n"
     ]
    },
    {
     "name": "stderr",
     "output_type": "stream",
     "text": [
      "train: 100%|██████████| 352/352 [00:15<00:00, 22.62it/s]\n"
     ]
    },
    {
     "name": "stdout",
     "output_type": "stream",
     "text": [
      "Train Loss: 0.0009 | Train Acc: 86.11%\n",
      "Valid Loss: 0.4021 | Valid Acc: 86.24%\n",
      "Test  Loss: 0.5040 | Test Acc: 84.00%\n",
      "--------------------------------------------------\n",
      "[Epoch 69/1000] :\n"
     ]
    },
    {
     "name": "stderr",
     "output_type": "stream",
     "text": [
      "train: 100%|██████████| 352/352 [00:15<00:00, 22.96it/s]\n"
     ]
    },
    {
     "name": "stdout",
     "output_type": "stream",
     "text": [
      "Train Loss: 0.0006 | Train Acc: 88.89%\n",
      "Valid Loss: 0.4195 | Valid Acc: 86.20%\n",
      "Test  Loss: 0.5197 | Test Acc: 83.63%\n",
      "--------------------------------------------------\n",
      "[Epoch 70/1000] :\n"
     ]
    },
    {
     "name": "stderr",
     "output_type": "stream",
     "text": [
      "train: 100%|██████████| 352/352 [00:15<00:00, 23.07it/s]\n"
     ]
    },
    {
     "name": "stdout",
     "output_type": "stream",
     "text": [
      "Train Loss: 0.0007 | Train Acc: 91.67%\n",
      "Valid Loss: 0.4214 | Valid Acc: 85.96%\n",
      "Test  Loss: 0.5043 | Test Acc: 83.85%\n",
      "--------------------------------------------------\n",
      "[Epoch 71/1000] :\n"
     ]
    },
    {
     "name": "stderr",
     "output_type": "stream",
     "text": [
      "train: 100%|██████████| 352/352 [00:14<00:00, 23.67it/s]\n"
     ]
    },
    {
     "name": "stdout",
     "output_type": "stream",
     "text": [
      "Train Loss: 0.0012 | Train Acc: 86.11%\n",
      "Valid Loss: 0.4110 | Valid Acc: 86.06%\n",
      "Test  Loss: 0.5396 | Test Acc: 82.70%\n",
      "--------------------------------------------------\n",
      "[Epoch 72/1000] :\n"
     ]
    },
    {
     "name": "stderr",
     "output_type": "stream",
     "text": [
      "train: 100%|██████████| 352/352 [00:15<00:00, 23.31it/s]\n"
     ]
    },
    {
     "name": "stdout",
     "output_type": "stream",
     "text": [
      "Train Loss: 0.0009 | Train Acc: 88.89%\n",
      "Valid Loss: 0.3951 | Valid Acc: 86.38%\n",
      "Test  Loss: 0.5035 | Test Acc: 83.81%\n",
      "--------------------------------------------------\n",
      "[Epoch 73/1000] :\n"
     ]
    },
    {
     "name": "stderr",
     "output_type": "stream",
     "text": [
      "train: 100%|██████████| 352/352 [00:15<00:00, 22.83it/s]\n"
     ]
    },
    {
     "name": "stdout",
     "output_type": "stream",
     "text": [
      "Train Loss: 0.0014 | Train Acc: 87.50%\n",
      "Valid Loss: 0.4024 | Valid Acc: 86.30%\n",
      "Test  Loss: 0.5260 | Test Acc: 83.09%\n",
      "--------------------------------------------------\n",
      "[Epoch 74/1000] :\n"
     ]
    },
    {
     "name": "stderr",
     "output_type": "stream",
     "text": [
      "train: 100%|██████████| 352/352 [00:15<00:00, 22.52it/s]\n"
     ]
    },
    {
     "name": "stdout",
     "output_type": "stream",
     "text": [
      "Train Loss: 0.0011 | Train Acc: 86.11%\n",
      "Valid Loss: 0.4057 | Valid Acc: 86.82%\n",
      "Test  Loss: 0.4794 | Test Acc: 84.51%\n",
      "--------------------------------------------------\n",
      "[Epoch 75/1000] :\n"
     ]
    },
    {
     "name": "stderr",
     "output_type": "stream",
     "text": [
      "train: 100%|██████████| 352/352 [00:15<00:00, 22.88it/s]\n"
     ]
    },
    {
     "name": "stdout",
     "output_type": "stream",
     "text": [
      "Train Loss: 0.0007 | Train Acc: 88.89%\n",
      "Valid Loss: 0.4185 | Valid Acc: 85.80%\n",
      "Test  Loss: 0.5268 | Test Acc: 83.67%\n",
      "--------------------------------------------------\n",
      "[Epoch 76/1000] :\n"
     ]
    },
    {
     "name": "stderr",
     "output_type": "stream",
     "text": [
      "train: 100%|██████████| 352/352 [00:15<00:00, 23.28it/s]\n"
     ]
    },
    {
     "name": "stdout",
     "output_type": "stream",
     "text": [
      "Train Loss: 0.0006 | Train Acc: 95.83%\n",
      "Valid Loss: 0.4181 | Valid Acc: 85.40%\n",
      "Test  Loss: 0.5031 | Test Acc: 84.00%\n",
      "--------------------------------------------------\n",
      "[Epoch 77/1000] :\n"
     ]
    },
    {
     "name": "stderr",
     "output_type": "stream",
     "text": [
      "train: 100%|██████████| 352/352 [00:15<00:00, 22.95it/s]\n"
     ]
    },
    {
     "name": "stdout",
     "output_type": "stream",
     "text": [
      "Train Loss: 0.0005 | Train Acc: 90.28%\n",
      "Valid Loss: 0.4166 | Valid Acc: 86.42%\n",
      "Test  Loss: 0.5245 | Test Acc: 83.16%\n",
      "--------------------------------------------------\n",
      "[Epoch 78/1000] :\n"
     ]
    },
    {
     "name": "stderr",
     "output_type": "stream",
     "text": [
      "train: 100%|██████████| 352/352 [00:15<00:00, 22.56it/s]\n"
     ]
    },
    {
     "name": "stdout",
     "output_type": "stream",
     "text": [
      "Train Loss: 0.0012 | Train Acc: 88.89%\n",
      "Valid Loss: 0.4065 | Valid Acc: 86.42%\n",
      "Test  Loss: 0.5156 | Test Acc: 83.61%\n",
      "--------------------------------------------------\n",
      "[Epoch 79/1000] :\n"
     ]
    },
    {
     "name": "stderr",
     "output_type": "stream",
     "text": [
      "train: 100%|██████████| 352/352 [00:15<00:00, 22.95it/s]\n"
     ]
    },
    {
     "name": "stdout",
     "output_type": "stream",
     "text": [
      "Train Loss: 0.0008 | Train Acc: 88.89%\n",
      "Valid Loss: 0.4132 | Valid Acc: 85.68%\n",
      "Test  Loss: 0.4917 | Test Acc: 84.53%\n",
      "--------------------------------------------------\n",
      "[Epoch 80/1000] :\n"
     ]
    },
    {
     "name": "stderr",
     "output_type": "stream",
     "text": [
      "train: 100%|██████████| 352/352 [00:15<00:00, 22.63it/s]\n"
     ]
    },
    {
     "name": "stdout",
     "output_type": "stream",
     "text": [
      "Train Loss: 0.0007 | Train Acc: 91.67%\n",
      "Valid Loss: 0.4064 | Valid Acc: 86.10%\n",
      "Test  Loss: 0.5041 | Test Acc: 84.22%\n",
      "--------------------------------------------------\n",
      "[Epoch 81/1000] :\n"
     ]
    },
    {
     "name": "stderr",
     "output_type": "stream",
     "text": [
      "train: 100%|██████████| 352/352 [00:15<00:00, 22.68it/s]\n"
     ]
    },
    {
     "name": "stdout",
     "output_type": "stream",
     "text": [
      "Train Loss: 0.0009 | Train Acc: 90.28%\n",
      "Valid Loss: 0.4131 | Valid Acc: 85.72%\n",
      "Test  Loss: 0.5280 | Test Acc: 83.07%\n",
      "--------------------------------------------------\n",
      "[Epoch 82/1000] :\n"
     ]
    },
    {
     "name": "stderr",
     "output_type": "stream",
     "text": [
      "train: 100%|██████████| 352/352 [00:15<00:00, 22.49it/s]\n"
     ]
    },
    {
     "name": "stdout",
     "output_type": "stream",
     "text": [
      "Train Loss: 0.0006 | Train Acc: 93.06%\n",
      "Valid Loss: 0.4001 | Valid Acc: 86.24%\n",
      "Test  Loss: 0.5172 | Test Acc: 83.62%\n",
      "--------------------------------------------------\n",
      "[Epoch 83/1000] :\n"
     ]
    },
    {
     "name": "stderr",
     "output_type": "stream",
     "text": [
      "train: 100%|██████████| 352/352 [00:15<00:00, 23.16it/s]\n"
     ]
    },
    {
     "name": "stdout",
     "output_type": "stream",
     "text": [
      "Train Loss: 0.0008 | Train Acc: 91.67%\n",
      "Valid Loss: 0.4145 | Valid Acc: 86.02%\n",
      "Test  Loss: 0.4595 | Test Acc: 85.54%\n",
      "--------------------------------------------------\n",
      "[Epoch 84/1000] :\n"
     ]
    },
    {
     "name": "stderr",
     "output_type": "stream",
     "text": [
      "train: 100%|██████████| 352/352 [00:15<00:00, 22.77it/s]\n"
     ]
    },
    {
     "name": "stdout",
     "output_type": "stream",
     "text": [
      "Train Loss: 0.0007 | Train Acc: 90.28%\n",
      "Valid Loss: 0.4121 | Valid Acc: 86.52%\n",
      "Test  Loss: 0.5069 | Test Acc: 84.11%\n",
      "--------------------------------------------------\n",
      "[Epoch 85/1000] :\n"
     ]
    },
    {
     "name": "stderr",
     "output_type": "stream",
     "text": [
      "train: 100%|██████████| 352/352 [00:15<00:00, 22.83it/s]\n"
     ]
    },
    {
     "name": "stdout",
     "output_type": "stream",
     "text": [
      "Train Loss: 0.0007 | Train Acc: 90.28%\n",
      "Valid Loss: 0.4156 | Valid Acc: 86.96%\n",
      "Test  Loss: 0.5379 | Test Acc: 82.61%\n",
      "--------------------------------------------------\n",
      "[Epoch 86/1000] :\n"
     ]
    },
    {
     "name": "stderr",
     "output_type": "stream",
     "text": [
      "train: 100%|██████████| 352/352 [00:15<00:00, 23.11it/s]\n"
     ]
    },
    {
     "name": "stdout",
     "output_type": "stream",
     "text": [
      "Train Loss: 0.0004 | Train Acc: 91.67%\n",
      "Valid Loss: 0.3953 | Valid Acc: 86.32%\n",
      "Test  Loss: 0.5688 | Test Acc: 81.89%\n",
      "--------------------------------------------------\n",
      "[Epoch 87/1000] :\n"
     ]
    },
    {
     "name": "stderr",
     "output_type": "stream",
     "text": [
      "train: 100%|██████████| 352/352 [00:15<00:00, 22.78it/s]\n"
     ]
    },
    {
     "name": "stdout",
     "output_type": "stream",
     "text": [
      "Train Loss: 0.0008 | Train Acc: 90.28%\n",
      "Valid Loss: 0.4171 | Valid Acc: 86.04%\n",
      "Test  Loss: 0.4976 | Test Acc: 84.49%\n",
      "--------------------------------------------------\n",
      "[Epoch 88/1000] :\n"
     ]
    },
    {
     "name": "stderr",
     "output_type": "stream",
     "text": [
      "train: 100%|██████████| 352/352 [00:14<00:00, 23.78it/s]\n"
     ]
    },
    {
     "name": "stdout",
     "output_type": "stream",
     "text": [
      "Train Loss: 0.0007 | Train Acc: 90.28%\n",
      "Valid Loss: 0.4329 | Valid Acc: 86.08%\n",
      "Test  Loss: 0.4953 | Test Acc: 84.60%\n",
      "--------------------------------------------------\n",
      "[Epoch 89/1000] :\n"
     ]
    },
    {
     "name": "stderr",
     "output_type": "stream",
     "text": [
      "train: 100%|██████████| 352/352 [00:15<00:00, 23.16it/s]\n"
     ]
    },
    {
     "name": "stdout",
     "output_type": "stream",
     "text": [
      "Train Loss: 0.0006 | Train Acc: 94.44%\n",
      "Valid Loss: 0.4159 | Valid Acc: 86.46%\n",
      "Test  Loss: 0.5297 | Test Acc: 83.72%\n",
      "--------------------------------------------------\n",
      "[Epoch 90/1000] :\n"
     ]
    },
    {
     "name": "stderr",
     "output_type": "stream",
     "text": [
      "train: 100%|██████████| 352/352 [00:15<00:00, 23.00it/s]\n"
     ]
    },
    {
     "name": "stdout",
     "output_type": "stream",
     "text": [
      "Train Loss: 0.0006 | Train Acc: 94.44%\n",
      "Valid Loss: 0.4156 | Valid Acc: 86.12%\n",
      "Test  Loss: 0.5138 | Test Acc: 83.65%\n",
      "--------------------------------------------------\n",
      "[Epoch 91/1000] :\n"
     ]
    },
    {
     "name": "stderr",
     "output_type": "stream",
     "text": [
      "train: 100%|██████████| 352/352 [00:14<00:00, 23.48it/s]\n"
     ]
    },
    {
     "name": "stdout",
     "output_type": "stream",
     "text": [
      "Train Loss: 0.0009 | Train Acc: 88.89%\n",
      "Valid Loss: 0.4138 | Valid Acc: 86.66%\n",
      "Test  Loss: 0.5304 | Test Acc: 83.13%\n",
      "--------------------------------------------------\n",
      "[Epoch 92/1000] :\n"
     ]
    },
    {
     "name": "stderr",
     "output_type": "stream",
     "text": [
      "train: 100%|██████████| 352/352 [00:15<00:00, 22.89it/s]\n"
     ]
    },
    {
     "name": "stdout",
     "output_type": "stream",
     "text": [
      "Train Loss: 0.0005 | Train Acc: 91.67%\n",
      "Valid Loss: 0.4120 | Valid Acc: 86.42%\n",
      "Test  Loss: 0.5244 | Test Acc: 83.76%\n",
      "--------------------------------------------------\n",
      "[Epoch 93/1000] :\n"
     ]
    },
    {
     "name": "stderr",
     "output_type": "stream",
     "text": [
      "train: 100%|██████████| 352/352 [00:15<00:00, 23.20it/s]\n"
     ]
    },
    {
     "name": "stdout",
     "output_type": "stream",
     "text": [
      "Train Loss: 0.0005 | Train Acc: 95.83%\n",
      "Valid Loss: 0.4283 | Valid Acc: 86.26%\n",
      "Test  Loss: 0.4996 | Test Acc: 84.46%\n",
      "--------------------------------------------------\n",
      "[Epoch 94/1000] :\n"
     ]
    },
    {
     "name": "stderr",
     "output_type": "stream",
     "text": [
      "train: 100%|██████████| 352/352 [00:15<00:00, 23.13it/s]\n"
     ]
    },
    {
     "name": "stdout",
     "output_type": "stream",
     "text": [
      "Train Loss: 0.0013 | Train Acc: 81.94%\n",
      "Valid Loss: 0.4210 | Valid Acc: 86.38%\n",
      "Test  Loss: 0.5424 | Test Acc: 83.27%\n",
      "--------------------------------------------------\n",
      "[Epoch 95/1000] :\n"
     ]
    },
    {
     "name": "stderr",
     "output_type": "stream",
     "text": [
      "train: 100%|██████████| 352/352 [00:15<00:00, 23.28it/s]\n"
     ]
    },
    {
     "name": "stdout",
     "output_type": "stream",
     "text": [
      "Train Loss: 0.0005 | Train Acc: 94.44%\n",
      "Valid Loss: 0.4084 | Valid Acc: 86.48%\n",
      "Test  Loss: 0.5480 | Test Acc: 83.06%\n",
      "--------------------------------------------------\n",
      "[Epoch 96/1000] :\n"
     ]
    },
    {
     "name": "stderr",
     "output_type": "stream",
     "text": [
      "train: 100%|██████████| 352/352 [00:15<00:00, 22.85it/s]\n"
     ]
    },
    {
     "name": "stdout",
     "output_type": "stream",
     "text": [
      "Train Loss: 0.0011 | Train Acc: 87.50%\n",
      "Valid Loss: 0.4031 | Valid Acc: 86.68%\n",
      "Test  Loss: 0.4968 | Test Acc: 84.22%\n",
      "--------------------------------------------------\n",
      "[Epoch 97/1000] :\n"
     ]
    },
    {
     "name": "stderr",
     "output_type": "stream",
     "text": [
      "train: 100%|██████████| 352/352 [00:15<00:00, 22.51it/s]\n"
     ]
    },
    {
     "name": "stdout",
     "output_type": "stream",
     "text": [
      "Train Loss: 0.0014 | Train Acc: 81.94%\n",
      "Valid Loss: 0.4073 | Valid Acc: 85.94%\n",
      "Test  Loss: 0.5129 | Test Acc: 83.76%\n",
      "--------------------------------------------------\n",
      "[Epoch 98/1000] :\n"
     ]
    },
    {
     "name": "stderr",
     "output_type": "stream",
     "text": [
      "train: 100%|██████████| 352/352 [00:14<00:00, 23.75it/s]\n"
     ]
    },
    {
     "name": "stdout",
     "output_type": "stream",
     "text": [
      "Train Loss: 0.0011 | Train Acc: 86.11%\n",
      "Valid Loss: 0.4062 | Valid Acc: 86.54%\n",
      "Test  Loss: 0.5333 | Test Acc: 83.67%\n",
      "--------------------------------------------------\n",
      "[Epoch 99/1000] :\n"
     ]
    },
    {
     "name": "stderr",
     "output_type": "stream",
     "text": [
      "train: 100%|██████████| 352/352 [00:15<00:00, 22.86it/s]\n"
     ]
    },
    {
     "name": "stdout",
     "output_type": "stream",
     "text": [
      "Train Loss: 0.0003 | Train Acc: 98.61%\n",
      "Valid Loss: 0.4028 | Valid Acc: 85.90%\n",
      "Test  Loss: 0.5000 | Test Acc: 84.63%\n",
      "--------------------------------------------------\n",
      "[Epoch 100/1000] :\n"
     ]
    },
    {
     "name": "stderr",
     "output_type": "stream",
     "text": [
      "train: 100%|██████████| 352/352 [00:15<00:00, 22.66it/s]\n"
     ]
    },
    {
     "name": "stdout",
     "output_type": "stream",
     "text": [
      "Train Loss: 0.0005 | Train Acc: 94.44%\n",
      "Valid Loss: 0.3992 | Valid Acc: 86.66%\n",
      "Test  Loss: 0.5301 | Test Acc: 83.55%\n",
      "--------------------------------------------------\n",
      "[Epoch 101/1000] :\n"
     ]
    },
    {
     "name": "stderr",
     "output_type": "stream",
     "text": [
      "train: 100%|██████████| 352/352 [00:15<00:00, 22.93it/s]\n"
     ]
    },
    {
     "name": "stdout",
     "output_type": "stream",
     "text": [
      "Train Loss: 0.0008 | Train Acc: 87.50%\n",
      "Valid Loss: 0.4216 | Valid Acc: 86.42%\n",
      "Test  Loss: 0.6191 | Test Acc: 81.21%\n",
      "--------------------------------------------------\n",
      "[Epoch 102/1000] :\n"
     ]
    },
    {
     "name": "stderr",
     "output_type": "stream",
     "text": [
      "train: 100%|██████████| 352/352 [00:15<00:00, 22.44it/s]\n"
     ]
    },
    {
     "name": "stdout",
     "output_type": "stream",
     "text": [
      "Train Loss: 0.0003 | Train Acc: 95.83%\n",
      "Valid Loss: 0.4182 | Valid Acc: 86.48%\n",
      "Test  Loss: 0.5552 | Test Acc: 83.06%\n",
      "--------------------------------------------------\n",
      "[Epoch 103/1000] :\n"
     ]
    },
    {
     "name": "stderr",
     "output_type": "stream",
     "text": [
      "train: 100%|██████████| 352/352 [00:15<00:00, 22.64it/s]\n"
     ]
    },
    {
     "name": "stdout",
     "output_type": "stream",
     "text": [
      "Train Loss: 0.0013 | Train Acc: 84.72%\n",
      "Valid Loss: 0.4140 | Valid Acc: 86.78%\n",
      "Test  Loss: 0.5599 | Test Acc: 83.10%\n",
      "--------------------------------------------------\n",
      "[Epoch 104/1000] :\n"
     ]
    },
    {
     "name": "stderr",
     "output_type": "stream",
     "text": [
      "train: 100%|██████████| 352/352 [00:15<00:00, 22.74it/s]\n"
     ]
    },
    {
     "name": "stdout",
     "output_type": "stream",
     "text": [
      "Train Loss: 0.0009 | Train Acc: 87.50%\n",
      "Valid Loss: 0.4130 | Valid Acc: 86.24%\n",
      "Test  Loss: 0.5457 | Test Acc: 82.87%\n",
      "--------------------------------------------------\n",
      "[Epoch 105/1000] :\n"
     ]
    },
    {
     "name": "stderr",
     "output_type": "stream",
     "text": [
      "train: 100%|██████████| 352/352 [00:15<00:00, 22.43it/s]\n"
     ]
    },
    {
     "name": "stdout",
     "output_type": "stream",
     "text": [
      "Train Loss: 0.0007 | Train Acc: 91.67%\n",
      "Valid Loss: 0.4224 | Valid Acc: 86.40%\n",
      "Test  Loss: 0.6454 | Test Acc: 80.97%\n",
      "--------------------------------------------------\n",
      "[Epoch 106/1000] :\n"
     ]
    },
    {
     "name": "stderr",
     "output_type": "stream",
     "text": [
      "train: 100%|██████████| 352/352 [00:14<00:00, 23.80it/s]\n"
     ]
    },
    {
     "name": "stdout",
     "output_type": "stream",
     "text": [
      "Train Loss: 0.0007 | Train Acc: 91.67%\n",
      "Valid Loss: 0.4121 | Valid Acc: 86.58%\n",
      "Test  Loss: 0.5320 | Test Acc: 83.94%\n",
      "--------------------------------------------------\n",
      "[Epoch 107/1000] :\n"
     ]
    },
    {
     "name": "stderr",
     "output_type": "stream",
     "text": [
      "train: 100%|██████████| 352/352 [00:15<00:00, 23.16it/s]\n"
     ]
    },
    {
     "name": "stdout",
     "output_type": "stream",
     "text": [
      "Train Loss: 0.0005 | Train Acc: 91.67%\n",
      "Valid Loss: 0.4106 | Valid Acc: 86.68%\n",
      "Test  Loss: 0.5334 | Test Acc: 83.43%\n",
      "--------------------------------------------------\n",
      "[Epoch 108/1000] :\n"
     ]
    },
    {
     "name": "stderr",
     "output_type": "stream",
     "text": [
      "train: 100%|██████████| 352/352 [00:15<00:00, 22.34it/s]\n"
     ]
    },
    {
     "name": "stdout",
     "output_type": "stream",
     "text": [
      "Train Loss: 0.0007 | Train Acc: 90.28%\n",
      "Valid Loss: 0.4158 | Valid Acc: 86.76%\n",
      "Test  Loss: 0.5073 | Test Acc: 84.17%\n",
      "--------------------------------------------------\n",
      "[Epoch 109/1000] :\n"
     ]
    },
    {
     "name": "stderr",
     "output_type": "stream",
     "text": [
      "train: 100%|██████████| 352/352 [00:15<00:00, 22.78it/s]\n"
     ]
    },
    {
     "name": "stdout",
     "output_type": "stream",
     "text": [
      "Train Loss: 0.0007 | Train Acc: 90.28%\n",
      "Valid Loss: 0.4046 | Valid Acc: 86.82%\n",
      "Test  Loss: 0.5308 | Test Acc: 83.66%\n",
      "--------------------------------------------------\n",
      "[Epoch 110/1000] :\n"
     ]
    },
    {
     "name": "stderr",
     "output_type": "stream",
     "text": [
      "train: 100%|██████████| 352/352 [00:15<00:00, 22.36it/s]\n"
     ]
    },
    {
     "name": "stdout",
     "output_type": "stream",
     "text": [
      "Train Loss: 0.0005 | Train Acc: 95.83%\n",
      "Valid Loss: 0.4245 | Valid Acc: 86.98%\n",
      "Test  Loss: 0.5435 | Test Acc: 83.01%\n",
      "Epoch 00110: reducing learning rate of group 0 to 1.0000e-03.\n",
      "--------------------------------------------------\n",
      "[Epoch 111/1000] :\n"
     ]
    },
    {
     "name": "stderr",
     "output_type": "stream",
     "text": [
      "train: 100%|██████████| 352/352 [00:15<00:00, 22.41it/s]\n"
     ]
    },
    {
     "name": "stdout",
     "output_type": "stream",
     "text": [
      "Train Loss: 0.0006 | Train Acc: 93.06%\n",
      "Valid Loss: 0.3906 | Valid Acc: 86.92%\n",
      "Test  Loss: 0.5150 | Test Acc: 84.08%\n",
      "--------------------------------------------------\n",
      "[Epoch 112/1000] :\n"
     ]
    },
    {
     "name": "stderr",
     "output_type": "stream",
     "text": [
      "train: 100%|██████████| 352/352 [00:15<00:00, 23.17it/s]\n"
     ]
    },
    {
     "name": "stdout",
     "output_type": "stream",
     "text": [
      "Train Loss: 0.0007 | Train Acc: 91.67%\n",
      "Valid Loss: 0.4329 | Valid Acc: 85.92%\n",
      "Test  Loss: 0.5140 | Test Acc: 83.66%\n",
      "--------------------------------------------------\n",
      "[Epoch 113/1000] :\n"
     ]
    },
    {
     "name": "stderr",
     "output_type": "stream",
     "text": [
      "train: 100%|██████████| 352/352 [00:15<00:00, 23.07it/s]\n"
     ]
    },
    {
     "name": "stdout",
     "output_type": "stream",
     "text": [
      "Train Loss: 0.0005 | Train Acc: 88.89%\n",
      "Valid Loss: 0.3866 | Valid Acc: 86.88%\n",
      "Test  Loss: 0.5106 | Test Acc: 83.92%\n",
      "updated best eval loss : 0.3865861186175607\n",
      "--------------------------------------------------\n",
      "[Epoch 114/1000] :\n"
     ]
    },
    {
     "name": "stderr",
     "output_type": "stream",
     "text": [
      "train: 100%|██████████| 352/352 [00:15<00:00, 22.95it/s]\n"
     ]
    },
    {
     "name": "stdout",
     "output_type": "stream",
     "text": [
      "Train Loss: 0.0005 | Train Acc: 94.44%\n",
      "Valid Loss: 0.3889 | Valid Acc: 86.66%\n",
      "Test  Loss: 0.5203 | Test Acc: 83.90%\n",
      "--------------------------------------------------\n",
      "[Epoch 115/1000] :\n"
     ]
    },
    {
     "name": "stderr",
     "output_type": "stream",
     "text": [
      "train: 100%|██████████| 352/352 [00:15<00:00, 22.78it/s]\n"
     ]
    },
    {
     "name": "stdout",
     "output_type": "stream",
     "text": [
      "Train Loss: 0.0005 | Train Acc: 93.06%\n",
      "Valid Loss: 0.3903 | Valid Acc: 87.54%\n",
      "Test  Loss: 0.5102 | Test Acc: 84.15%\n",
      "--------------------------------------------------\n",
      "[Epoch 116/1000] :\n"
     ]
    },
    {
     "name": "stderr",
     "output_type": "stream",
     "text": [
      "train: 100%|██████████| 352/352 [00:15<00:00, 22.59it/s]\n"
     ]
    },
    {
     "name": "stdout",
     "output_type": "stream",
     "text": [
      "Train Loss: 0.0003 | Train Acc: 95.83%\n",
      "Valid Loss: 0.3823 | Valid Acc: 87.02%\n",
      "Test  Loss: 0.4980 | Test Acc: 84.32%\n",
      "updated best eval loss : 0.38229512855759823\n",
      "--------------------------------------------------\n",
      "[Epoch 117/1000] :\n"
     ]
    },
    {
     "name": "stderr",
     "output_type": "stream",
     "text": [
      "train: 100%|██████████| 352/352 [00:15<00:00, 22.77it/s]\n"
     ]
    },
    {
     "name": "stdout",
     "output_type": "stream",
     "text": [
      "Train Loss: 0.0007 | Train Acc: 93.06%\n",
      "Valid Loss: 0.4014 | Valid Acc: 86.94%\n",
      "Test  Loss: 0.5109 | Test Acc: 83.99%\n",
      "--------------------------------------------------\n",
      "[Epoch 118/1000] :\n"
     ]
    },
    {
     "name": "stderr",
     "output_type": "stream",
     "text": [
      "train: 100%|██████████| 352/352 [00:15<00:00, 22.71it/s]\n"
     ]
    },
    {
     "name": "stdout",
     "output_type": "stream",
     "text": [
      "Train Loss: 0.0007 | Train Acc: 90.28%\n",
      "Valid Loss: 0.3767 | Valid Acc: 87.52%\n",
      "Test  Loss: 0.5150 | Test Acc: 83.99%\n",
      "updated best eval loss : 0.37670427821576596\n",
      "--------------------------------------------------\n",
      "[Epoch 119/1000] :\n"
     ]
    },
    {
     "name": "stderr",
     "output_type": "stream",
     "text": [
      "train: 100%|██████████| 352/352 [00:15<00:00, 23.13it/s]\n"
     ]
    },
    {
     "name": "stdout",
     "output_type": "stream",
     "text": [
      "Train Loss: 0.0003 | Train Acc: 95.83%\n",
      "Valid Loss: 0.4047 | Valid Acc: 87.48%\n",
      "Test  Loss: 0.5165 | Test Acc: 84.01%\n",
      "--------------------------------------------------\n",
      "[Epoch 120/1000] :\n"
     ]
    },
    {
     "name": "stderr",
     "output_type": "stream",
     "text": [
      "train: 100%|██████████| 352/352 [00:15<00:00, 22.27it/s]\n"
     ]
    },
    {
     "name": "stdout",
     "output_type": "stream",
     "text": [
      "Train Loss: 0.0004 | Train Acc: 94.44%\n",
      "Valid Loss: 0.3897 | Valid Acc: 87.08%\n",
      "Test  Loss: 0.5041 | Test Acc: 84.25%\n",
      "--------------------------------------------------\n",
      "[Epoch 121/1000] :\n"
     ]
    },
    {
     "name": "stderr",
     "output_type": "stream",
     "text": [
      "train: 100%|██████████| 352/352 [00:15<00:00, 22.39it/s]\n"
     ]
    },
    {
     "name": "stdout",
     "output_type": "stream",
     "text": [
      "Train Loss: 0.0009 | Train Acc: 87.50%\n",
      "Valid Loss: 0.4230 | Valid Acc: 86.82%\n",
      "Test  Loss: 0.5103 | Test Acc: 84.24%\n",
      "--------------------------------------------------\n",
      "[Epoch 122/1000] :\n"
     ]
    },
    {
     "name": "stderr",
     "output_type": "stream",
     "text": [
      "train: 100%|██████████| 352/352 [00:15<00:00, 22.22it/s]\n"
     ]
    },
    {
     "name": "stdout",
     "output_type": "stream",
     "text": [
      "Train Loss: 0.0006 | Train Acc: 94.44%\n",
      "Valid Loss: 0.4023 | Valid Acc: 86.74%\n",
      "Test  Loss: 0.5053 | Test Acc: 84.31%\n",
      "--------------------------------------------------\n",
      "[Epoch 123/1000] :\n"
     ]
    },
    {
     "name": "stderr",
     "output_type": "stream",
     "text": [
      "train: 100%|██████████| 352/352 [00:16<00:00, 21.52it/s]\n"
     ]
    },
    {
     "name": "stdout",
     "output_type": "stream",
     "text": [
      "Train Loss: 0.0007 | Train Acc: 90.28%\n",
      "Valid Loss: 0.3876 | Valid Acc: 87.38%\n",
      "Test  Loss: 0.5188 | Test Acc: 84.08%\n",
      "--------------------------------------------------\n",
      "[Epoch 124/1000] :\n"
     ]
    },
    {
     "name": "stderr",
     "output_type": "stream",
     "text": [
      "train: 100%|██████████| 352/352 [00:15<00:00, 22.77it/s]\n"
     ]
    },
    {
     "name": "stdout",
     "output_type": "stream",
     "text": [
      "Train Loss: 0.0009 | Train Acc: 93.06%\n",
      "Valid Loss: 0.3899 | Valid Acc: 87.50%\n",
      "Test  Loss: 0.5378 | Test Acc: 83.33%\n",
      "--------------------------------------------------\n",
      "[Epoch 125/1000] :\n"
     ]
    },
    {
     "name": "stderr",
     "output_type": "stream",
     "text": [
      "train: 100%|██████████| 352/352 [00:15<00:00, 22.49it/s]\n"
     ]
    },
    {
     "name": "stdout",
     "output_type": "stream",
     "text": [
      "Train Loss: 0.0007 | Train Acc: 91.67%\n",
      "Valid Loss: 0.3978 | Valid Acc: 87.10%\n",
      "Test  Loss: 0.5164 | Test Acc: 83.99%\n",
      "--------------------------------------------------\n",
      "[Epoch 126/1000] :\n"
     ]
    },
    {
     "name": "stderr",
     "output_type": "stream",
     "text": [
      "train: 100%|██████████| 352/352 [00:15<00:00, 22.73it/s]\n"
     ]
    },
    {
     "name": "stdout",
     "output_type": "stream",
     "text": [
      "Train Loss: 0.0008 | Train Acc: 91.67%\n",
      "Valid Loss: 0.4312 | Valid Acc: 86.24%\n",
      "Test  Loss: 0.5386 | Test Acc: 83.38%\n",
      "--------------------------------------------------\n",
      "[Epoch 127/1000] :\n"
     ]
    },
    {
     "name": "stderr",
     "output_type": "stream",
     "text": [
      "train: 100%|██████████| 352/352 [00:15<00:00, 23.00it/s]\n"
     ]
    },
    {
     "name": "stdout",
     "output_type": "stream",
     "text": [
      "Train Loss: 0.0005 | Train Acc: 94.44%\n",
      "Valid Loss: 0.3905 | Valid Acc: 87.48%\n",
      "Test  Loss: 0.5339 | Test Acc: 83.60%\n",
      "--------------------------------------------------\n",
      "[Epoch 128/1000] :\n"
     ]
    },
    {
     "name": "stderr",
     "output_type": "stream",
     "text": [
      "train: 100%|██████████| 352/352 [00:15<00:00, 22.45it/s]\n"
     ]
    },
    {
     "name": "stdout",
     "output_type": "stream",
     "text": [
      "Train Loss: 0.0007 | Train Acc: 90.28%\n",
      "Valid Loss: 0.3881 | Valid Acc: 87.02%\n",
      "Test  Loss: 0.5178 | Test Acc: 83.97%\n",
      "--------------------------------------------------\n",
      "[Epoch 129/1000] :\n"
     ]
    },
    {
     "name": "stderr",
     "output_type": "stream",
     "text": [
      "train: 100%|██████████| 352/352 [00:15<00:00, 22.72it/s]\n"
     ]
    },
    {
     "name": "stdout",
     "output_type": "stream",
     "text": [
      "Train Loss: 0.0005 | Train Acc: 93.06%\n",
      "Valid Loss: 0.3993 | Valid Acc: 87.20%\n",
      "Test  Loss: 0.5242 | Test Acc: 83.92%\n",
      "--------------------------------------------------\n",
      "[Epoch 130/1000] :\n"
     ]
    },
    {
     "name": "stderr",
     "output_type": "stream",
     "text": [
      "train: 100%|██████████| 352/352 [00:15<00:00, 22.98it/s]\n"
     ]
    },
    {
     "name": "stdout",
     "output_type": "stream",
     "text": [
      "Train Loss: 0.0004 | Train Acc: 95.83%\n",
      "Valid Loss: 0.3946 | Valid Acc: 87.58%\n",
      "Test  Loss: 0.5489 | Test Acc: 83.25%\n",
      "--------------------------------------------------\n",
      "[Epoch 131/1000] :\n"
     ]
    },
    {
     "name": "stderr",
     "output_type": "stream",
     "text": [
      "train: 100%|██████████| 352/352 [00:15<00:00, 23.11it/s]\n"
     ]
    },
    {
     "name": "stdout",
     "output_type": "stream",
     "text": [
      "Train Loss: 0.0006 | Train Acc: 91.67%\n",
      "Valid Loss: 0.3847 | Valid Acc: 87.24%\n",
      "Test  Loss: 0.5116 | Test Acc: 84.37%\n",
      "--------------------------------------------------\n",
      "[Epoch 132/1000] :\n"
     ]
    },
    {
     "name": "stderr",
     "output_type": "stream",
     "text": [
      "train: 100%|██████████| 352/352 [00:15<00:00, 23.16it/s]\n"
     ]
    },
    {
     "name": "stdout",
     "output_type": "stream",
     "text": [
      "Train Loss: 0.0005 | Train Acc: 91.67%\n",
      "Valid Loss: 0.3995 | Valid Acc: 86.98%\n",
      "Test  Loss: 0.5105 | Test Acc: 84.31%\n",
      "--------------------------------------------------\n",
      "[Epoch 133/1000] :\n"
     ]
    },
    {
     "name": "stderr",
     "output_type": "stream",
     "text": [
      "train: 100%|██████████| 352/352 [00:14<00:00, 23.47it/s]\n"
     ]
    },
    {
     "name": "stdout",
     "output_type": "stream",
     "text": [
      "Train Loss: 0.0004 | Train Acc: 95.83%\n",
      "Valid Loss: 0.4013 | Valid Acc: 86.54%\n",
      "Test  Loss: 0.5085 | Test Acc: 84.62%\n",
      "--------------------------------------------------\n",
      "[Epoch 134/1000] :\n"
     ]
    },
    {
     "name": "stderr",
     "output_type": "stream",
     "text": [
      "train: 100%|██████████| 352/352 [00:15<00:00, 23.12it/s]\n"
     ]
    },
    {
     "name": "stdout",
     "output_type": "stream",
     "text": [
      "Train Loss: 0.0005 | Train Acc: 93.06%\n",
      "Valid Loss: 0.3934 | Valid Acc: 87.64%\n",
      "Test  Loss: 0.5301 | Test Acc: 83.86%\n",
      "--------------------------------------------------\n",
      "[Epoch 135/1000] :\n"
     ]
    },
    {
     "name": "stderr",
     "output_type": "stream",
     "text": [
      "train: 100%|██████████| 352/352 [00:15<00:00, 23.14it/s]\n"
     ]
    },
    {
     "name": "stdout",
     "output_type": "stream",
     "text": [
      "Train Loss: 0.0010 | Train Acc: 86.11%\n",
      "Valid Loss: 0.3802 | Valid Acc: 86.84%\n",
      "Test  Loss: 0.5121 | Test Acc: 84.29%\n",
      "--------------------------------------------------\n",
      "[Epoch 136/1000] :\n"
     ]
    },
    {
     "name": "stderr",
     "output_type": "stream",
     "text": [
      "train: 100%|██████████| 352/352 [00:15<00:00, 22.99it/s]\n"
     ]
    },
    {
     "name": "stdout",
     "output_type": "stream",
     "text": [
      "Train Loss: 0.0005 | Train Acc: 93.06%\n",
      "Valid Loss: 0.4066 | Valid Acc: 86.72%\n",
      "Test  Loss: 0.5361 | Test Acc: 83.81%\n",
      "--------------------------------------------------\n",
      "[Epoch 137/1000] :\n"
     ]
    },
    {
     "name": "stderr",
     "output_type": "stream",
     "text": [
      "train: 100%|██████████| 352/352 [00:15<00:00, 23.11it/s]\n"
     ]
    },
    {
     "name": "stdout",
     "output_type": "stream",
     "text": [
      "Train Loss: 0.0007 | Train Acc: 91.67%\n",
      "Valid Loss: 0.3824 | Valid Acc: 87.44%\n",
      "Test  Loss: 0.5387 | Test Acc: 83.65%\n",
      "--------------------------------------------------\n",
      "[Epoch 138/1000] :\n"
     ]
    },
    {
     "name": "stderr",
     "output_type": "stream",
     "text": [
      "train: 100%|██████████| 352/352 [00:15<00:00, 23.19it/s]\n"
     ]
    },
    {
     "name": "stdout",
     "output_type": "stream",
     "text": [
      "Train Loss: 0.0006 | Train Acc: 94.44%\n",
      "Valid Loss: 0.4013 | Valid Acc: 87.12%\n",
      "Test  Loss: 0.5213 | Test Acc: 84.01%\n",
      "--------------------------------------------------\n",
      "[Epoch 139/1000] :\n"
     ]
    },
    {
     "name": "stderr",
     "output_type": "stream",
     "text": [
      "train: 100%|██████████| 352/352 [00:15<00:00, 22.95it/s]\n"
     ]
    },
    {
     "name": "stdout",
     "output_type": "stream",
     "text": [
      "Train Loss: 0.0009 | Train Acc: 90.28%\n",
      "Valid Loss: 0.3868 | Valid Acc: 87.40%\n",
      "Test  Loss: 0.5239 | Test Acc: 84.00%\n",
      "--------------------------------------------------\n",
      "[Epoch 140/1000] :\n"
     ]
    },
    {
     "name": "stderr",
     "output_type": "stream",
     "text": [
      "train: 100%|██████████| 352/352 [00:15<00:00, 23.18it/s]\n"
     ]
    },
    {
     "name": "stdout",
     "output_type": "stream",
     "text": [
      "Train Loss: 0.0006 | Train Acc: 91.67%\n",
      "Valid Loss: 0.3841 | Valid Acc: 87.00%\n",
      "Test  Loss: 0.5243 | Test Acc: 83.69%\n",
      "--------------------------------------------------\n",
      "[Epoch 141/1000] :\n"
     ]
    },
    {
     "name": "stderr",
     "output_type": "stream",
     "text": [
      "train: 100%|██████████| 352/352 [00:15<00:00, 23.11it/s]\n"
     ]
    },
    {
     "name": "stdout",
     "output_type": "stream",
     "text": [
      "Train Loss: 0.0007 | Train Acc: 91.67%\n",
      "Valid Loss: 0.4124 | Valid Acc: 87.40%\n",
      "Test  Loss: 0.5570 | Test Acc: 83.10%\n",
      "--------------------------------------------------\n",
      "[Epoch 142/1000] :\n"
     ]
    },
    {
     "name": "stderr",
     "output_type": "stream",
     "text": [
      "train: 100%|██████████| 352/352 [00:15<00:00, 23.06it/s]\n"
     ]
    },
    {
     "name": "stdout",
     "output_type": "stream",
     "text": [
      "Train Loss: 0.0006 | Train Acc: 93.06%\n",
      "Valid Loss: 0.3906 | Valid Acc: 87.36%\n",
      "Test  Loss: 0.5471 | Test Acc: 83.26%\n",
      "--------------------------------------------------\n",
      "[Epoch 143/1000] :\n"
     ]
    },
    {
     "name": "stderr",
     "output_type": "stream",
     "text": [
      "train: 100%|██████████| 352/352 [00:15<00:00, 22.82it/s]\n"
     ]
    },
    {
     "name": "stdout",
     "output_type": "stream",
     "text": [
      "Train Loss: 0.0006 | Train Acc: 91.67%\n",
      "Valid Loss: 0.3918 | Valid Acc: 86.92%\n",
      "Test  Loss: 0.5245 | Test Acc: 83.96%\n",
      "--------------------------------------------------\n",
      "[Epoch 144/1000] :\n"
     ]
    },
    {
     "name": "stderr",
     "output_type": "stream",
     "text": [
      "train: 100%|██████████| 352/352 [00:15<00:00, 22.74it/s]\n"
     ]
    },
    {
     "name": "stdout",
     "output_type": "stream",
     "text": [
      "Train Loss: 0.0005 | Train Acc: 93.06%\n",
      "Valid Loss: 0.3958 | Valid Acc: 87.40%\n",
      "Test  Loss: 0.5332 | Test Acc: 83.83%\n",
      "--------------------------------------------------\n",
      "[Epoch 145/1000] :\n"
     ]
    },
    {
     "name": "stderr",
     "output_type": "stream",
     "text": [
      "train: 100%|██████████| 352/352 [00:15<00:00, 22.65it/s]\n"
     ]
    },
    {
     "name": "stdout",
     "output_type": "stream",
     "text": [
      "Train Loss: 0.0007 | Train Acc: 88.89%\n",
      "Valid Loss: 0.4174 | Valid Acc: 86.94%\n",
      "Test  Loss: 0.5405 | Test Acc: 83.67%\n",
      "--------------------------------------------------\n",
      "[Epoch 146/1000] :\n"
     ]
    },
    {
     "name": "stderr",
     "output_type": "stream",
     "text": [
      "train: 100%|██████████| 352/352 [00:15<00:00, 23.11it/s]\n"
     ]
    },
    {
     "name": "stdout",
     "output_type": "stream",
     "text": [
      "Train Loss: 0.0006 | Train Acc: 94.44%\n",
      "Valid Loss: 0.4325 | Valid Acc: 86.94%\n",
      "Test  Loss: 0.5461 | Test Acc: 83.52%\n",
      "--------------------------------------------------\n",
      "[Epoch 147/1000] :\n"
     ]
    },
    {
     "name": "stderr",
     "output_type": "stream",
     "text": [
      "train: 100%|██████████| 352/352 [00:15<00:00, 23.07it/s]\n"
     ]
    },
    {
     "name": "stdout",
     "output_type": "stream",
     "text": [
      "Train Loss: 0.0003 | Train Acc: 94.44%\n",
      "Valid Loss: 0.3999 | Valid Acc: 87.04%\n",
      "Test  Loss: 0.5529 | Test Acc: 83.45%\n",
      "--------------------------------------------------\n",
      "[Epoch 148/1000] :\n"
     ]
    },
    {
     "name": "stderr",
     "output_type": "stream",
     "text": [
      "train: 100%|██████████| 352/352 [00:15<00:00, 22.43it/s]\n"
     ]
    },
    {
     "name": "stdout",
     "output_type": "stream",
     "text": [
      "Train Loss: 0.0008 | Train Acc: 90.28%\n",
      "Valid Loss: 0.3952 | Valid Acc: 87.64%\n",
      "Test  Loss: 0.5490 | Test Acc: 83.68%\n",
      "--------------------------------------------------\n",
      "[Epoch 149/1000] :\n"
     ]
    },
    {
     "name": "stderr",
     "output_type": "stream",
     "text": [
      "train: 100%|██████████| 352/352 [00:15<00:00, 22.76it/s]\n"
     ]
    },
    {
     "name": "stdout",
     "output_type": "stream",
     "text": [
      "Train Loss: 0.0004 | Train Acc: 94.44%\n",
      "Valid Loss: 0.4124 | Valid Acc: 87.80%\n",
      "Test  Loss: 0.5497 | Test Acc: 83.23%\n",
      "--------------------------------------------------\n",
      "[Epoch 150/1000] :\n"
     ]
    },
    {
     "name": "stderr",
     "output_type": "stream",
     "text": [
      "train: 100%|██████████| 352/352 [00:15<00:00, 22.92it/s]\n"
     ]
    },
    {
     "name": "stdout",
     "output_type": "stream",
     "text": [
      "Train Loss: 0.0005 | Train Acc: 91.67%\n",
      "Valid Loss: 0.4011 | Valid Acc: 87.14%\n",
      "Test  Loss: 0.5396 | Test Acc: 83.75%\n",
      "--------------------------------------------------\n",
      "[Epoch 151/1000] :\n"
     ]
    },
    {
     "name": "stderr",
     "output_type": "stream",
     "text": [
      "train: 100%|██████████| 352/352 [00:15<00:00, 23.08it/s]\n"
     ]
    },
    {
     "name": "stdout",
     "output_type": "stream",
     "text": [
      "Train Loss: 0.0007 | Train Acc: 93.06%\n",
      "Valid Loss: 0.3888 | Valid Acc: 87.56%\n",
      "Test  Loss: 0.5607 | Test Acc: 83.39%\n",
      "--------------------------------------------------\n",
      "[Epoch 152/1000] :\n"
     ]
    },
    {
     "name": "stderr",
     "output_type": "stream",
     "text": [
      "train: 100%|██████████| 352/352 [00:14<00:00, 23.67it/s]\n"
     ]
    },
    {
     "name": "stdout",
     "output_type": "stream",
     "text": [
      "Train Loss: 0.0004 | Train Acc: 94.44%\n",
      "Valid Loss: 0.4193 | Valid Acc: 86.88%\n",
      "Test  Loss: 0.5590 | Test Acc: 83.35%\n",
      "--------------------------------------------------\n",
      "[Epoch 153/1000] :\n"
     ]
    },
    {
     "name": "stderr",
     "output_type": "stream",
     "text": [
      "train: 100%|██████████| 352/352 [00:15<00:00, 23.03it/s]\n"
     ]
    },
    {
     "name": "stdout",
     "output_type": "stream",
     "text": [
      "Train Loss: 0.0009 | Train Acc: 87.50%\n",
      "Valid Loss: 0.4024 | Valid Acc: 87.34%\n",
      "Test  Loss: 0.5518 | Test Acc: 83.45%\n",
      "--------------------------------------------------\n",
      "[Epoch 154/1000] :\n"
     ]
    },
    {
     "name": "stderr",
     "output_type": "stream",
     "text": [
      "train: 100%|██████████| 352/352 [00:15<00:00, 23.03it/s]\n"
     ]
    },
    {
     "name": "stdout",
     "output_type": "stream",
     "text": [
      "Train Loss: 0.0006 | Train Acc: 93.06%\n",
      "Valid Loss: 0.3680 | Valid Acc: 87.48%\n",
      "Test  Loss: 0.5411 | Test Acc: 83.62%\n",
      "updated best eval loss : 0.3680455598514527\n",
      "--------------------------------------------------\n",
      "[Epoch 155/1000] :\n"
     ]
    },
    {
     "name": "stderr",
     "output_type": "stream",
     "text": [
      "train: 100%|██████████| 352/352 [00:15<00:00, 23.13it/s]\n"
     ]
    },
    {
     "name": "stdout",
     "output_type": "stream",
     "text": [
      "Train Loss: 0.0008 | Train Acc: 91.67%\n",
      "Valid Loss: 0.3681 | Valid Acc: 87.70%\n",
      "Test  Loss: 0.5428 | Test Acc: 83.37%\n",
      "--------------------------------------------------\n",
      "[Epoch 156/1000] :\n"
     ]
    },
    {
     "name": "stderr",
     "output_type": "stream",
     "text": [
      "train: 100%|██████████| 352/352 [00:15<00:00, 23.05it/s]\n"
     ]
    },
    {
     "name": "stdout",
     "output_type": "stream",
     "text": [
      "Train Loss: 0.0002 | Train Acc: 95.83%\n",
      "Valid Loss: 0.3858 | Valid Acc: 87.84%\n",
      "Test  Loss: 0.5603 | Test Acc: 83.08%\n",
      "--------------------------------------------------\n",
      "[Epoch 157/1000] :\n"
     ]
    },
    {
     "name": "stderr",
     "output_type": "stream",
     "text": [
      "train: 100%|██████████| 352/352 [00:15<00:00, 22.75it/s]\n"
     ]
    },
    {
     "name": "stdout",
     "output_type": "stream",
     "text": [
      "Train Loss: 0.0009 | Train Acc: 87.50%\n",
      "Valid Loss: 0.3662 | Valid Acc: 88.06%\n",
      "Test  Loss: 0.5349 | Test Acc: 83.75%\n",
      "updated best eval loss : 0.36618683964479715\n",
      "--------------------------------------------------\n",
      "[Epoch 158/1000] :\n"
     ]
    },
    {
     "name": "stderr",
     "output_type": "stream",
     "text": [
      "train: 100%|██████████| 352/352 [00:15<00:00, 22.14it/s]\n"
     ]
    },
    {
     "name": "stdout",
     "output_type": "stream",
     "text": [
      "Train Loss: 0.0005 | Train Acc: 95.83%\n",
      "Valid Loss: 0.3843 | Valid Acc: 87.38%\n",
      "Test  Loss: 0.5486 | Test Acc: 83.52%\n",
      "--------------------------------------------------\n",
      "[Epoch 159/1000] :\n"
     ]
    },
    {
     "name": "stderr",
     "output_type": "stream",
     "text": [
      "train: 100%|██████████| 352/352 [00:15<00:00, 23.11it/s]\n"
     ]
    },
    {
     "name": "stdout",
     "output_type": "stream",
     "text": [
      "Train Loss: 0.0007 | Train Acc: 91.67%\n",
      "Valid Loss: 0.4012 | Valid Acc: 87.26%\n",
      "Test  Loss: 0.5409 | Test Acc: 83.52%\n",
      "--------------------------------------------------\n",
      "[Epoch 160/1000] :\n"
     ]
    },
    {
     "name": "stderr",
     "output_type": "stream",
     "text": [
      "train: 100%|██████████| 352/352 [00:15<00:00, 22.57it/s]\n"
     ]
    },
    {
     "name": "stdout",
     "output_type": "stream",
     "text": [
      "Train Loss: 0.0004 | Train Acc: 95.83%\n",
      "Valid Loss: 0.4096 | Valid Acc: 87.26%\n",
      "Test  Loss: 0.5416 | Test Acc: 83.43%\n",
      "--------------------------------------------------\n",
      "[Epoch 161/1000] :\n"
     ]
    },
    {
     "name": "stderr",
     "output_type": "stream",
     "text": [
      "train: 100%|██████████| 352/352 [00:15<00:00, 22.95it/s]\n"
     ]
    },
    {
     "name": "stdout",
     "output_type": "stream",
     "text": [
      "Train Loss: 0.0003 | Train Acc: 95.83%\n",
      "Valid Loss: 0.4033 | Valid Acc: 87.12%\n",
      "Test  Loss: 0.5357 | Test Acc: 83.76%\n",
      "--------------------------------------------------\n",
      "[Epoch 162/1000] :\n"
     ]
    },
    {
     "name": "stderr",
     "output_type": "stream",
     "text": [
      "train: 100%|██████████| 352/352 [00:15<00:00, 23.08it/s]\n"
     ]
    },
    {
     "name": "stdout",
     "output_type": "stream",
     "text": [
      "Train Loss: 0.0004 | Train Acc: 94.44%\n",
      "Valid Loss: 0.4265 | Valid Acc: 87.16%\n",
      "Test  Loss: 0.5521 | Test Acc: 83.19%\n",
      "--------------------------------------------------\n",
      "[Epoch 163/1000] :\n"
     ]
    },
    {
     "name": "stderr",
     "output_type": "stream",
     "text": [
      "train: 100%|██████████| 352/352 [00:15<00:00, 22.80it/s]\n"
     ]
    },
    {
     "name": "stdout",
     "output_type": "stream",
     "text": [
      "Train Loss: 0.0003 | Train Acc: 98.61%\n",
      "Valid Loss: 0.4008 | Valid Acc: 87.50%\n",
      "Test  Loss: 0.5381 | Test Acc: 83.77%\n",
      "--------------------------------------------------\n",
      "[Epoch 164/1000] :\n"
     ]
    },
    {
     "name": "stderr",
     "output_type": "stream",
     "text": [
      "train: 100%|██████████| 352/352 [00:15<00:00, 22.78it/s]\n"
     ]
    },
    {
     "name": "stdout",
     "output_type": "stream",
     "text": [
      "Train Loss: 0.0004 | Train Acc: 94.44%\n",
      "Valid Loss: 0.3975 | Valid Acc: 86.84%\n",
      "Test  Loss: 0.5498 | Test Acc: 83.45%\n",
      "--------------------------------------------------\n",
      "[Epoch 165/1000] :\n"
     ]
    },
    {
     "name": "stderr",
     "output_type": "stream",
     "text": [
      "train: 100%|██████████| 352/352 [00:15<00:00, 23.39it/s]\n"
     ]
    },
    {
     "name": "stdout",
     "output_type": "stream",
     "text": [
      "Train Loss: 0.0004 | Train Acc: 95.83%\n",
      "Valid Loss: 0.3723 | Valid Acc: 87.66%\n",
      "Test  Loss: 0.5605 | Test Acc: 83.06%\n",
      "--------------------------------------------------\n",
      "[Epoch 166/1000] :\n"
     ]
    },
    {
     "name": "stderr",
     "output_type": "stream",
     "text": [
      "train: 100%|██████████| 352/352 [00:15<00:00, 22.83it/s]\n"
     ]
    },
    {
     "name": "stdout",
     "output_type": "stream",
     "text": [
      "Train Loss: 0.0003 | Train Acc: 95.83%\n",
      "Valid Loss: 0.3921 | Valid Acc: 87.14%\n",
      "Test  Loss: 0.5394 | Test Acc: 83.65%\n",
      "--------------------------------------------------\n",
      "[Epoch 167/1000] :\n"
     ]
    },
    {
     "name": "stderr",
     "output_type": "stream",
     "text": [
      "train: 100%|██████████| 352/352 [00:15<00:00, 22.75it/s]\n"
     ]
    },
    {
     "name": "stdout",
     "output_type": "stream",
     "text": [
      "Train Loss: 0.0008 | Train Acc: 91.67%\n",
      "Valid Loss: 0.4107 | Valid Acc: 87.58%\n",
      "Test  Loss: 0.5465 | Test Acc: 83.62%\n",
      "--------------------------------------------------\n",
      "[Epoch 168/1000] :\n"
     ]
    },
    {
     "name": "stderr",
     "output_type": "stream",
     "text": [
      "train: 100%|██████████| 352/352 [00:15<00:00, 22.51it/s]\n"
     ]
    },
    {
     "name": "stdout",
     "output_type": "stream",
     "text": [
      "Train Loss: 0.0004 | Train Acc: 94.44%\n",
      "Valid Loss: 0.3671 | Valid Acc: 87.76%\n",
      "Test  Loss: 0.5352 | Test Acc: 83.84%\n",
      "--------------------------------------------------\n",
      "[Epoch 169/1000] :\n"
     ]
    },
    {
     "name": "stderr",
     "output_type": "stream",
     "text": [
      "train: 100%|██████████| 352/352 [00:15<00:00, 22.54it/s]\n"
     ]
    },
    {
     "name": "stdout",
     "output_type": "stream",
     "text": [
      "Train Loss: 0.0007 | Train Acc: 91.67%\n",
      "Valid Loss: 0.3874 | Valid Acc: 86.78%\n",
      "Test  Loss: 0.5443 | Test Acc: 83.37%\n",
      "--------------------------------------------------\n",
      "[Epoch 170/1000] :\n"
     ]
    },
    {
     "name": "stderr",
     "output_type": "stream",
     "text": [
      "train: 100%|██████████| 352/352 [00:14<00:00, 23.68it/s]\n"
     ]
    },
    {
     "name": "stdout",
     "output_type": "stream",
     "text": [
      "Train Loss: 0.0011 | Train Acc: 90.28%\n",
      "Valid Loss: 0.4034 | Valid Acc: 87.12%\n",
      "Test  Loss: 0.5664 | Test Acc: 82.62%\n",
      "--------------------------------------------------\n",
      "[Epoch 171/1000] :\n"
     ]
    },
    {
     "name": "stderr",
     "output_type": "stream",
     "text": [
      "train: 100%|██████████| 352/352 [00:15<00:00, 22.97it/s]\n"
     ]
    },
    {
     "name": "stdout",
     "output_type": "stream",
     "text": [
      "Train Loss: 0.0003 | Train Acc: 93.06%\n",
      "Valid Loss: 0.3895 | Valid Acc: 87.46%\n",
      "Test  Loss: 0.5430 | Test Acc: 83.44%\n",
      "Epoch 00171: reducing learning rate of group 0 to 1.0000e-04.\n",
      "--------------------------------------------------\n",
      "[Epoch 172/1000] :\n"
     ]
    },
    {
     "name": "stderr",
     "output_type": "stream",
     "text": [
      "train: 100%|██████████| 352/352 [00:15<00:00, 23.00it/s]\n"
     ]
    },
    {
     "name": "stdout",
     "output_type": "stream",
     "text": [
      "Train Loss: 0.0002 | Train Acc: 98.61%\n",
      "Valid Loss: 0.3908 | Valid Acc: 86.88%\n",
      "Test  Loss: 0.5430 | Test Acc: 83.30%\n",
      "--------------------------------------------------\n",
      "[Epoch 173/1000] :\n"
     ]
    },
    {
     "name": "stderr",
     "output_type": "stream",
     "text": [
      "train: 100%|██████████| 352/352 [00:16<00:00, 21.98it/s]\n"
     ]
    },
    {
     "name": "stdout",
     "output_type": "stream",
     "text": [
      "Train Loss: 0.0003 | Train Acc: 94.44%\n",
      "Valid Loss: 0.3741 | Valid Acc: 88.14%\n",
      "Test  Loss: 0.5323 | Test Acc: 83.67%\n",
      "--------------------------------------------------\n",
      "[Epoch 174/1000] :\n"
     ]
    },
    {
     "name": "stderr",
     "output_type": "stream",
     "text": [
      "train: 100%|██████████| 352/352 [00:16<00:00, 21.97it/s]\n"
     ]
    },
    {
     "name": "stdout",
     "output_type": "stream",
     "text": [
      "Train Loss: 0.0004 | Train Acc: 97.22%\n",
      "Valid Loss: 0.3826 | Valid Acc: 87.38%\n",
      "Test  Loss: 0.5472 | Test Acc: 83.31%\n",
      "--------------------------------------------------\n",
      "[Epoch 175/1000] :\n"
     ]
    },
    {
     "name": "stderr",
     "output_type": "stream",
     "text": [
      "train: 100%|██████████| 352/352 [00:15<00:00, 22.71it/s]\n"
     ]
    },
    {
     "name": "stdout",
     "output_type": "stream",
     "text": [
      "Train Loss: 0.0006 | Train Acc: 90.28%\n",
      "Valid Loss: 0.3772 | Valid Acc: 88.02%\n",
      "Test  Loss: 0.5489 | Test Acc: 83.38%\n",
      "--------------------------------------------------\n",
      "[Epoch 176/1000] :\n"
     ]
    },
    {
     "name": "stderr",
     "output_type": "stream",
     "text": [
      "train: 100%|██████████| 352/352 [00:15<00:00, 23.12it/s]\n"
     ]
    },
    {
     "name": "stdout",
     "output_type": "stream",
     "text": [
      "Train Loss: 0.0003 | Train Acc: 94.44%\n",
      "Valid Loss: 0.3712 | Valid Acc: 87.80%\n",
      "Test  Loss: 0.5391 | Test Acc: 83.59%\n",
      "--------------------------------------------------\n",
      "[Epoch 177/1000] :\n"
     ]
    },
    {
     "name": "stderr",
     "output_type": "stream",
     "text": [
      "train: 100%|██████████| 352/352 [00:15<00:00, 22.20it/s]\n"
     ]
    },
    {
     "name": "stdout",
     "output_type": "stream",
     "text": [
      "Train Loss: 0.0004 | Train Acc: 94.44%\n",
      "Valid Loss: 0.3776 | Valid Acc: 87.68%\n",
      "Test  Loss: 0.5471 | Test Acc: 83.15%\n",
      "--------------------------------------------------\n",
      "[Epoch 178/1000] :\n"
     ]
    },
    {
     "name": "stderr",
     "output_type": "stream",
     "text": [
      "train: 100%|██████████| 352/352 [00:16<00:00, 21.88it/s]\n"
     ]
    },
    {
     "name": "stdout",
     "output_type": "stream",
     "text": [
      "Train Loss: 0.0010 | Train Acc: 83.33%\n",
      "Valid Loss: 0.3779 | Valid Acc: 87.52%\n",
      "Test  Loss: 0.5433 | Test Acc: 83.40%\n",
      "--------------------------------------------------\n",
      "[Epoch 179/1000] :\n"
     ]
    },
    {
     "name": "stderr",
     "output_type": "stream",
     "text": [
      "train: 100%|██████████| 352/352 [00:15<00:00, 23.08it/s]\n"
     ]
    },
    {
     "name": "stdout",
     "output_type": "stream",
     "text": [
      "Train Loss: 0.0008 | Train Acc: 87.50%\n",
      "Valid Loss: 0.4030 | Valid Acc: 86.66%\n",
      "Test  Loss: 0.5576 | Test Acc: 83.17%\n",
      "--------------------------------------------------\n",
      "[Epoch 180/1000] :\n"
     ]
    },
    {
     "name": "stderr",
     "output_type": "stream",
     "text": [
      "train: 100%|██████████| 352/352 [00:15<00:00, 22.18it/s]\n"
     ]
    },
    {
     "name": "stdout",
     "output_type": "stream",
     "text": [
      "Train Loss: 0.0004 | Train Acc: 97.22%\n",
      "Valid Loss: 0.3868 | Valid Acc: 87.50%\n",
      "Test  Loss: 0.5402 | Test Acc: 83.59%\n",
      "--------------------------------------------------\n",
      "[Epoch 181/1000] :\n"
     ]
    },
    {
     "name": "stderr",
     "output_type": "stream",
     "text": [
      "train: 100%|██████████| 352/352 [00:15<00:00, 22.29it/s]\n"
     ]
    },
    {
     "name": "stdout",
     "output_type": "stream",
     "text": [
      "Train Loss: 0.0004 | Train Acc: 94.44%\n",
      "Valid Loss: 0.4086 | Valid Acc: 87.66%\n",
      "Test  Loss: 0.5537 | Test Acc: 83.25%\n",
      "--------------------------------------------------\n",
      "[Epoch 182/1000] :\n"
     ]
    },
    {
     "name": "stderr",
     "output_type": "stream",
     "text": [
      "train: 100%|██████████| 352/352 [00:15<00:00, 22.29it/s]\n"
     ]
    },
    {
     "name": "stdout",
     "output_type": "stream",
     "text": [
      "Train Loss: 0.0011 | Train Acc: 87.50%\n",
      "Valid Loss: 0.3886 | Valid Acc: 87.48%\n",
      "Test  Loss: 0.5467 | Test Acc: 83.50%\n",
      "--------------------------------------------------\n",
      "[Epoch 183/1000] :\n"
     ]
    },
    {
     "name": "stderr",
     "output_type": "stream",
     "text": [
      "train: 100%|██████████| 352/352 [00:15<00:00, 22.79it/s]\n"
     ]
    },
    {
     "name": "stdout",
     "output_type": "stream",
     "text": [
      "Train Loss: 0.0003 | Train Acc: 95.83%\n",
      "Valid Loss: 0.3868 | Valid Acc: 87.56%\n",
      "Test  Loss: 0.5476 | Test Acc: 83.39%\n",
      "--------------------------------------------------\n",
      "[Epoch 184/1000] :\n"
     ]
    },
    {
     "name": "stderr",
     "output_type": "stream",
     "text": [
      "train: 100%|██████████| 352/352 [00:15<00:00, 22.16it/s]\n"
     ]
    },
    {
     "name": "stdout",
     "output_type": "stream",
     "text": [
      "Train Loss: 0.0006 | Train Acc: 93.06%\n",
      "Valid Loss: 0.3899 | Valid Acc: 87.38%\n",
      "Test  Loss: 0.5595 | Test Acc: 82.78%\n",
      "--------------------------------------------------\n",
      "[Epoch 185/1000] :\n"
     ]
    },
    {
     "name": "stderr",
     "output_type": "stream",
     "text": [
      "train: 100%|██████████| 352/352 [00:15<00:00, 22.21it/s]\n"
     ]
    },
    {
     "name": "stdout",
     "output_type": "stream",
     "text": [
      "Train Loss: 0.0005 | Train Acc: 93.06%\n",
      "Valid Loss: 0.3688 | Valid Acc: 87.74%\n",
      "Test  Loss: 0.5489 | Test Acc: 83.50%\n",
      "--------------------------------------------------\n",
      "[Epoch 186/1000] :\n"
     ]
    },
    {
     "name": "stderr",
     "output_type": "stream",
     "text": [
      "train: 100%|██████████| 352/352 [00:16<00:00, 21.88it/s]\n"
     ]
    },
    {
     "name": "stdout",
     "output_type": "stream",
     "text": [
      "Train Loss: 0.0006 | Train Acc: 94.44%\n",
      "Valid Loss: 0.3755 | Valid Acc: 87.36%\n",
      "Test  Loss: 0.5702 | Test Acc: 83.27%\n",
      "--------------------------------------------------\n",
      "[Epoch 187/1000] :\n"
     ]
    },
    {
     "name": "stderr",
     "output_type": "stream",
     "text": [
      "train: 100%|██████████| 352/352 [00:15<00:00, 22.93it/s]\n"
     ]
    },
    {
     "name": "stdout",
     "output_type": "stream",
     "text": [
      "Train Loss: 0.0008 | Train Acc: 91.67%\n",
      "Valid Loss: 0.4220 | Valid Acc: 87.06%\n",
      "Test  Loss: 0.5557 | Test Acc: 83.07%\n",
      "--------------------------------------------------\n",
      "[Epoch 188/1000] :\n"
     ]
    },
    {
     "name": "stderr",
     "output_type": "stream",
     "text": [
      "train: 100%|██████████| 352/352 [00:15<00:00, 23.06it/s]\n"
     ]
    },
    {
     "name": "stdout",
     "output_type": "stream",
     "text": [
      "Train Loss: 0.0010 | Train Acc: 86.11%\n",
      "Valid Loss: 0.3836 | Valid Acc: 87.68%\n",
      "Test  Loss: 0.5551 | Test Acc: 83.23%\n",
      "--------------------------------------------------\n",
      "[Epoch 189/1000] :\n"
     ]
    },
    {
     "name": "stderr",
     "output_type": "stream",
     "text": [
      "train: 100%|██████████| 352/352 [00:15<00:00, 23.05it/s]\n"
     ]
    },
    {
     "name": "stdout",
     "output_type": "stream",
     "text": [
      "Train Loss: 0.0005 | Train Acc: 94.44%\n",
      "Valid Loss: 0.3986 | Valid Acc: 87.36%\n",
      "Test  Loss: 0.5530 | Test Acc: 83.38%\n",
      "--------------------------------------------------\n",
      "[Epoch 190/1000] :\n"
     ]
    },
    {
     "name": "stderr",
     "output_type": "stream",
     "text": [
      "train: 100%|██████████| 352/352 [00:15<00:00, 23.10it/s]\n"
     ]
    },
    {
     "name": "stdout",
     "output_type": "stream",
     "text": [
      "Train Loss: 0.0004 | Train Acc: 95.83%\n",
      "Valid Loss: 0.3904 | Valid Acc: 87.44%\n",
      "Test  Loss: 0.5422 | Test Acc: 83.50%\n",
      "--------------------------------------------------\n",
      "[Epoch 191/1000] :\n"
     ]
    },
    {
     "name": "stderr",
     "output_type": "stream",
     "text": [
      "train: 100%|██████████| 352/352 [00:15<00:00, 22.91it/s]\n"
     ]
    },
    {
     "name": "stdout",
     "output_type": "stream",
     "text": [
      "Train Loss: 0.0005 | Train Acc: 91.67%\n",
      "Valid Loss: 0.4106 | Valid Acc: 87.34%\n",
      "Test  Loss: 0.5436 | Test Acc: 83.47%\n",
      "--------------------------------------------------\n",
      "[Epoch 192/1000] :\n"
     ]
    },
    {
     "name": "stderr",
     "output_type": "stream",
     "text": [
      "train: 100%|██████████| 352/352 [00:15<00:00, 22.48it/s]\n"
     ]
    },
    {
     "name": "stdout",
     "output_type": "stream",
     "text": [
      "Train Loss: 0.0009 | Train Acc: 84.72%\n",
      "Valid Loss: 0.3950 | Valid Acc: 87.56%\n",
      "Test  Loss: 0.5462 | Test Acc: 83.67%\n",
      "--------------------------------------------------\n",
      "[Epoch 193/1000] :\n"
     ]
    },
    {
     "name": "stderr",
     "output_type": "stream",
     "text": [
      "train: 100%|██████████| 352/352 [00:15<00:00, 23.45it/s]\n"
     ]
    },
    {
     "name": "stdout",
     "output_type": "stream",
     "text": [
      "Train Loss: 0.0005 | Train Acc: 91.67%\n",
      "Valid Loss: 0.3879 | Valid Acc: 87.28%\n",
      "Test  Loss: 0.5382 | Test Acc: 83.68%\n",
      "--------------------------------------------------\n",
      "[Epoch 194/1000] :\n"
     ]
    },
    {
     "name": "stderr",
     "output_type": "stream",
     "text": [
      "train: 100%|██████████| 352/352 [00:15<00:00, 23.06it/s]\n"
     ]
    },
    {
     "name": "stdout",
     "output_type": "stream",
     "text": [
      "Train Loss: 0.0008 | Train Acc: 93.06%\n",
      "Valid Loss: 0.3865 | Valid Acc: 87.52%\n",
      "Test  Loss: 0.5656 | Test Acc: 83.36%\n",
      "--------------------------------------------------\n",
      "[Epoch 195/1000] :\n"
     ]
    },
    {
     "name": "stderr",
     "output_type": "stream",
     "text": [
      "train: 100%|██████████| 352/352 [00:15<00:00, 23.11it/s]\n"
     ]
    },
    {
     "name": "stdout",
     "output_type": "stream",
     "text": [
      "Train Loss: 0.0005 | Train Acc: 91.67%\n",
      "Valid Loss: 0.3796 | Valid Acc: 87.66%\n",
      "Test  Loss: 0.5503 | Test Acc: 83.25%\n",
      "--------------------------------------------------\n",
      "[Epoch 196/1000] :\n"
     ]
    },
    {
     "name": "stderr",
     "output_type": "stream",
     "text": [
      "train: 100%|██████████| 352/352 [00:15<00:00, 23.23it/s]\n"
     ]
    },
    {
     "name": "stdout",
     "output_type": "stream",
     "text": [
      "Train Loss: 0.0003 | Train Acc: 97.22%\n",
      "Valid Loss: 0.3855 | Valid Acc: 88.00%\n",
      "Test  Loss: 0.5580 | Test Acc: 83.18%\n",
      "--------------------------------------------------\n",
      "[Epoch 197/1000] :\n"
     ]
    },
    {
     "name": "stderr",
     "output_type": "stream",
     "text": [
      "train: 100%|██████████| 352/352 [00:15<00:00, 22.54it/s]\n"
     ]
    },
    {
     "name": "stdout",
     "output_type": "stream",
     "text": [
      "Train Loss: 0.0003 | Train Acc: 94.44%\n",
      "Valid Loss: 0.4005 | Valid Acc: 87.76%\n",
      "Test  Loss: 0.5409 | Test Acc: 83.62%\n",
      "--------------------------------------------------\n",
      "[Epoch 198/1000] :\n"
     ]
    },
    {
     "name": "stderr",
     "output_type": "stream",
     "text": [
      "train: 100%|██████████| 352/352 [00:18<00:00, 18.73it/s]\n"
     ]
    },
    {
     "name": "stdout",
     "output_type": "stream",
     "text": [
      "Train Loss: 0.0007 | Train Acc: 91.67%\n",
      "Valid Loss: 0.3833 | Valid Acc: 87.74%\n",
      "Test  Loss: 0.5435 | Test Acc: 83.58%\n",
      "--------------------------------------------------\n",
      "[Epoch 199/1000] :\n"
     ]
    },
    {
     "name": "stderr",
     "output_type": "stream",
     "text": [
      "train: 100%|██████████| 352/352 [00:15<00:00, 23.13it/s]\n"
     ]
    },
    {
     "name": "stdout",
     "output_type": "stream",
     "text": [
      "Train Loss: 0.0007 | Train Acc: 94.44%\n",
      "Valid Loss: 0.4235 | Valid Acc: 87.60%\n",
      "Test  Loss: 0.5590 | Test Acc: 83.18%\n",
      "--------------------------------------------------\n",
      "[Epoch 200/1000] :\n"
     ]
    },
    {
     "name": "stderr",
     "output_type": "stream",
     "text": [
      "train: 100%|██████████| 352/352 [00:15<00:00, 22.67it/s]\n"
     ]
    },
    {
     "name": "stdout",
     "output_type": "stream",
     "text": [
      "Train Loss: 0.0004 | Train Acc: 94.44%\n",
      "Valid Loss: 0.4075 | Valid Acc: 87.24%\n",
      "Test  Loss: 0.5499 | Test Acc: 83.46%\n",
      "--------------------------------------------------\n",
      "[Epoch 201/1000] :\n"
     ]
    },
    {
     "name": "stderr",
     "output_type": "stream",
     "text": [
      "train: 100%|██████████| 352/352 [00:16<00:00, 21.49it/s]\n"
     ]
    },
    {
     "name": "stdout",
     "output_type": "stream",
     "text": [
      "Train Loss: 0.0006 | Train Acc: 90.28%\n",
      "Valid Loss: 0.3906 | Valid Acc: 87.12%\n",
      "Test  Loss: 0.5467 | Test Acc: 83.46%\n",
      "--------------------------------------------------\n",
      "[Epoch 202/1000] :\n"
     ]
    },
    {
     "name": "stderr",
     "output_type": "stream",
     "text": [
      "train: 100%|██████████| 352/352 [00:16<00:00, 21.34it/s]\n"
     ]
    },
    {
     "name": "stdout",
     "output_type": "stream",
     "text": [
      "Train Loss: 0.0004 | Train Acc: 94.44%\n",
      "Valid Loss: 0.3923 | Valid Acc: 87.30%\n",
      "Test  Loss: 0.5522 | Test Acc: 83.45%\n",
      "--------------------------------------------------\n",
      "[Epoch 203/1000] :\n"
     ]
    },
    {
     "name": "stderr",
     "output_type": "stream",
     "text": [
      "train: 100%|██████████| 352/352 [00:16<00:00, 21.73it/s]\n"
     ]
    },
    {
     "name": "stdout",
     "output_type": "stream",
     "text": [
      "Train Loss: 0.0004 | Train Acc: 93.06%\n",
      "Valid Loss: 0.3871 | Valid Acc: 87.50%\n",
      "Test  Loss: 0.5528 | Test Acc: 83.47%\n",
      "--------------------------------------------------\n",
      "[Epoch 204/1000] :\n"
     ]
    },
    {
     "name": "stderr",
     "output_type": "stream",
     "text": [
      "train: 100%|██████████| 352/352 [00:16<00:00, 21.60it/s]\n"
     ]
    },
    {
     "name": "stdout",
     "output_type": "stream",
     "text": [
      "Train Loss: 0.0006 | Train Acc: 93.06%\n",
      "Valid Loss: 0.3999 | Valid Acc: 87.42%\n",
      "Test  Loss: 0.5334 | Test Acc: 83.79%\n",
      "--------------------------------------------------\n",
      "[Epoch 205/1000] :\n"
     ]
    },
    {
     "name": "stderr",
     "output_type": "stream",
     "text": [
      "train: 100%|██████████| 352/352 [00:15<00:00, 22.89it/s]\n"
     ]
    },
    {
     "name": "stdout",
     "output_type": "stream",
     "text": [
      "Train Loss: 0.0008 | Train Acc: 91.67%\n",
      "Valid Loss: 0.3881 | Valid Acc: 87.34%\n",
      "Test  Loss: 0.5386 | Test Acc: 83.86%\n",
      "--------------------------------------------------\n",
      "[Epoch 206/1000] :\n"
     ]
    },
    {
     "name": "stderr",
     "output_type": "stream",
     "text": [
      "train: 100%|██████████| 352/352 [00:15<00:00, 22.53it/s]\n"
     ]
    },
    {
     "name": "stdout",
     "output_type": "stream",
     "text": [
      "Train Loss: 0.0004 | Train Acc: 95.83%\n",
      "Valid Loss: 0.4055 | Valid Acc: 87.88%\n",
      "Test  Loss: 0.5637 | Test Acc: 83.25%\n",
      "--------------------------------------------------\n",
      "[Epoch 207/1000] :\n"
     ]
    },
    {
     "name": "stderr",
     "output_type": "stream",
     "text": [
      "train: 100%|██████████| 352/352 [00:17<00:00, 20.08it/s]\n"
     ]
    },
    {
     "name": "stdout",
     "output_type": "stream",
     "text": [
      "Train Loss: 0.0006 | Train Acc: 91.67%\n",
      "Valid Loss: 0.3986 | Valid Acc: 87.32%\n",
      "Test  Loss: 0.5468 | Test Acc: 83.94%\n",
      "--------------------------------------------------\n",
      "[Epoch 208/1000] :\n"
     ]
    },
    {
     "name": "stderr",
     "output_type": "stream",
     "text": [
      "train: 100%|██████████| 352/352 [00:16<00:00, 21.94it/s]\n"
     ]
    },
    {
     "name": "stdout",
     "output_type": "stream",
     "text": [
      "Train Loss: 0.0005 | Train Acc: 93.06%\n",
      "Valid Loss: 0.3812 | Valid Acc: 87.54%\n",
      "Test  Loss: 0.5500 | Test Acc: 83.30%\n",
      "--------------------------------------------------\n",
      "[Epoch 209/1000] :\n"
     ]
    },
    {
     "name": "stderr",
     "output_type": "stream",
     "text": [
      "train: 100%|██████████| 352/352 [00:15<00:00, 22.00it/s]\n"
     ]
    },
    {
     "name": "stdout",
     "output_type": "stream",
     "text": [
      "Train Loss: 0.0005 | Train Acc: 94.44%\n",
      "Valid Loss: 0.3876 | Valid Acc: 87.46%\n",
      "Test  Loss: 0.5567 | Test Acc: 83.36%\n",
      "--------------------------------------------------\n",
      "[Epoch 210/1000] :\n"
     ]
    },
    {
     "name": "stderr",
     "output_type": "stream",
     "text": [
      "train: 100%|██████████| 352/352 [00:15<00:00, 22.39it/s]\n"
     ]
    },
    {
     "name": "stdout",
     "output_type": "stream",
     "text": [
      "Train Loss: 0.0012 | Train Acc: 88.89%\n",
      "Valid Loss: 0.3871 | Valid Acc: 87.32%\n",
      "Test  Loss: 0.5425 | Test Acc: 83.62%\n",
      "--------------------------------------------------\n",
      "[Epoch 211/1000] :\n"
     ]
    },
    {
     "name": "stderr",
     "output_type": "stream",
     "text": [
      "train: 100%|██████████| 352/352 [00:15<00:00, 22.95it/s]\n"
     ]
    },
    {
     "name": "stdout",
     "output_type": "stream",
     "text": [
      "Train Loss: 0.0010 | Train Acc: 86.11%\n",
      "Valid Loss: 0.3796 | Valid Acc: 87.34%\n",
      "Test  Loss: 0.5718 | Test Acc: 83.01%\n",
      "--------------------------------------------------\n",
      "[Epoch 212/1000] :\n"
     ]
    },
    {
     "name": "stderr",
     "output_type": "stream",
     "text": [
      "train: 100%|██████████| 352/352 [00:15<00:00, 23.13it/s]\n"
     ]
    },
    {
     "name": "stdout",
     "output_type": "stream",
     "text": [
      "Train Loss: 0.0004 | Train Acc: 93.06%\n",
      "Valid Loss: 0.4048 | Valid Acc: 86.96%\n",
      "Test  Loss: 0.5465 | Test Acc: 83.38%\n",
      "--------------------------------------------------\n",
      "[Epoch 213/1000] :\n"
     ]
    },
    {
     "name": "stderr",
     "output_type": "stream",
     "text": [
      "train: 100%|██████████| 352/352 [00:15<00:00, 23.26it/s]\n"
     ]
    },
    {
     "name": "stdout",
     "output_type": "stream",
     "text": [
      "Train Loss: 0.0008 | Train Acc: 90.28%\n",
      "Valid Loss: 0.3941 | Valid Acc: 87.38%\n",
      "Test  Loss: 0.5495 | Test Acc: 83.38%\n",
      "--------------------------------------------------\n",
      "[Epoch 214/1000] :\n"
     ]
    },
    {
     "name": "stderr",
     "output_type": "stream",
     "text": [
      "train: 100%|██████████| 352/352 [00:15<00:00, 22.78it/s]\n"
     ]
    },
    {
     "name": "stdout",
     "output_type": "stream",
     "text": [
      "Train Loss: 0.0002 | Train Acc: 98.61%\n",
      "Valid Loss: 0.4049 | Valid Acc: 86.70%\n",
      "Test  Loss: 0.5560 | Test Acc: 83.53%\n",
      "--------------------------------------------------\n",
      "[Epoch 215/1000] :\n"
     ]
    },
    {
     "name": "stderr",
     "output_type": "stream",
     "text": [
      "train: 100%|██████████| 352/352 [00:15<00:00, 22.48it/s]\n"
     ]
    },
    {
     "name": "stdout",
     "output_type": "stream",
     "text": [
      "Train Loss: 0.0006 | Train Acc: 91.67%\n",
      "Valid Loss: 0.4132 | Valid Acc: 87.88%\n",
      "Test  Loss: 0.5535 | Test Acc: 83.34%\n",
      "--------------------------------------------------\n",
      "[Epoch 216/1000] :\n"
     ]
    },
    {
     "name": "stderr",
     "output_type": "stream",
     "text": [
      "train: 100%|██████████| 352/352 [00:15<00:00, 22.67it/s]\n"
     ]
    },
    {
     "name": "stdout",
     "output_type": "stream",
     "text": [
      "Train Loss: 0.0006 | Train Acc: 91.67%\n",
      "Valid Loss: 0.3607 | Valid Acc: 88.10%\n",
      "Test  Loss: 0.5492 | Test Acc: 83.39%\n",
      "updated best eval loss : 0.3607147420756519\n",
      "--------------------------------------------------\n",
      "[Epoch 217/1000] :\n"
     ]
    },
    {
     "name": "stderr",
     "output_type": "stream",
     "text": [
      "train: 100%|██████████| 352/352 [00:15<00:00, 23.32it/s]\n"
     ]
    },
    {
     "name": "stdout",
     "output_type": "stream",
     "text": [
      "Train Loss: 0.0011 | Train Acc: 94.44%\n",
      "Valid Loss: 0.4035 | Valid Acc: 86.96%\n",
      "Test  Loss: 0.5562 | Test Acc: 83.58%\n",
      "--------------------------------------------------\n",
      "[Epoch 218/1000] :\n"
     ]
    },
    {
     "name": "stderr",
     "output_type": "stream",
     "text": [
      "train: 100%|██████████| 352/352 [00:15<00:00, 22.79it/s]\n"
     ]
    },
    {
     "name": "stdout",
     "output_type": "stream",
     "text": [
      "Train Loss: 0.0003 | Train Acc: 95.83%\n",
      "Valid Loss: 0.3951 | Valid Acc: 87.62%\n",
      "Test  Loss: 0.5542 | Test Acc: 83.45%\n",
      "--------------------------------------------------\n",
      "[Epoch 219/1000] :\n"
     ]
    },
    {
     "name": "stderr",
     "output_type": "stream",
     "text": [
      "train: 100%|██████████| 352/352 [00:15<00:00, 22.74it/s]\n"
     ]
    },
    {
     "name": "stdout",
     "output_type": "stream",
     "text": [
      "Train Loss: 0.0005 | Train Acc: 93.06%\n",
      "Valid Loss: 0.3904 | Valid Acc: 87.72%\n",
      "Test  Loss: 0.5542 | Test Acc: 83.14%\n",
      "--------------------------------------------------\n",
      "[Epoch 220/1000] :\n"
     ]
    },
    {
     "name": "stderr",
     "output_type": "stream",
     "text": [
      "train: 100%|██████████| 352/352 [00:15<00:00, 22.46it/s]\n"
     ]
    },
    {
     "name": "stdout",
     "output_type": "stream",
     "text": [
      "Train Loss: 0.0004 | Train Acc: 94.44%\n",
      "Valid Loss: 0.3985 | Valid Acc: 87.02%\n",
      "Test  Loss: 0.5460 | Test Acc: 83.49%\n",
      "--------------------------------------------------\n",
      "[Epoch 221/1000] :\n"
     ]
    },
    {
     "name": "stderr",
     "output_type": "stream",
     "text": [
      "train: 100%|██████████| 352/352 [00:15<00:00, 22.51it/s]\n"
     ]
    },
    {
     "name": "stdout",
     "output_type": "stream",
     "text": [
      "Train Loss: 0.0006 | Train Acc: 90.28%\n",
      "Valid Loss: 0.4112 | Valid Acc: 87.10%\n",
      "Test  Loss: 0.5506 | Test Acc: 83.58%\n",
      "--------------------------------------------------\n",
      "[Epoch 222/1000] :\n"
     ]
    },
    {
     "name": "stderr",
     "output_type": "stream",
     "text": [
      "train: 100%|██████████| 352/352 [00:15<00:00, 22.71it/s]\n"
     ]
    },
    {
     "name": "stdout",
     "output_type": "stream",
     "text": [
      "Train Loss: 0.0004 | Train Acc: 94.44%\n",
      "Valid Loss: 0.3688 | Valid Acc: 87.34%\n",
      "Test  Loss: 0.5659 | Test Acc: 83.13%\n",
      "--------------------------------------------------\n",
      "[Epoch 223/1000] :\n"
     ]
    },
    {
     "name": "stderr",
     "output_type": "stream",
     "text": [
      "train: 100%|██████████| 352/352 [00:15<00:00, 22.94it/s]\n"
     ]
    },
    {
     "name": "stdout",
     "output_type": "stream",
     "text": [
      "Train Loss: 0.0004 | Train Acc: 93.06%\n",
      "Valid Loss: 0.3769 | Valid Acc: 88.10%\n",
      "Test  Loss: 0.5591 | Test Acc: 82.98%\n",
      "--------------------------------------------------\n",
      "[Epoch 224/1000] :\n"
     ]
    },
    {
     "name": "stderr",
     "output_type": "stream",
     "text": [
      "train: 100%|██████████| 352/352 [00:15<00:00, 23.00it/s]\n"
     ]
    },
    {
     "name": "stdout",
     "output_type": "stream",
     "text": [
      "Train Loss: 0.0006 | Train Acc: 93.06%\n",
      "Valid Loss: 0.3891 | Valid Acc: 87.30%\n",
      "Test  Loss: 0.5522 | Test Acc: 83.29%\n",
      "--------------------------------------------------\n",
      "[Epoch 225/1000] :\n"
     ]
    },
    {
     "name": "stderr",
     "output_type": "stream",
     "text": [
      "train: 100%|██████████| 352/352 [00:15<00:00, 22.70it/s]\n"
     ]
    },
    {
     "name": "stdout",
     "output_type": "stream",
     "text": [
      "Train Loss: 0.0003 | Train Acc: 95.83%\n",
      "Valid Loss: 0.3943 | Valid Acc: 87.62%\n",
      "Test  Loss: 0.5554 | Test Acc: 83.17%\n",
      "--------------------------------------------------\n",
      "[Epoch 226/1000] :\n"
     ]
    },
    {
     "name": "stderr",
     "output_type": "stream",
     "text": [
      "train: 100%|██████████| 352/352 [00:15<00:00, 22.32it/s]\n"
     ]
    },
    {
     "name": "stdout",
     "output_type": "stream",
     "text": [
      "Train Loss: 0.0006 | Train Acc: 93.06%\n",
      "Valid Loss: 0.4044 | Valid Acc: 88.02%\n",
      "Test  Loss: 0.5403 | Test Acc: 83.80%\n",
      "--------------------------------------------------\n",
      "[Epoch 227/1000] :\n"
     ]
    },
    {
     "name": "stderr",
     "output_type": "stream",
     "text": [
      "train: 100%|██████████| 352/352 [00:15<00:00, 23.30it/s]\n"
     ]
    },
    {
     "name": "stdout",
     "output_type": "stream",
     "text": [
      "Train Loss: 0.0004 | Train Acc: 94.44%\n",
      "Valid Loss: 0.3909 | Valid Acc: 87.22%\n",
      "Test  Loss: 0.5385 | Test Acc: 83.85%\n",
      "--------------------------------------------------\n",
      "[Epoch 228/1000] :\n"
     ]
    },
    {
     "name": "stderr",
     "output_type": "stream",
     "text": [
      "train: 100%|██████████| 352/352 [00:15<00:00, 22.87it/s]\n"
     ]
    },
    {
     "name": "stdout",
     "output_type": "stream",
     "text": [
      "Train Loss: 0.0005 | Train Acc: 93.06%\n",
      "Valid Loss: 0.3920 | Valid Acc: 87.44%\n",
      "Test  Loss: 0.5486 | Test Acc: 83.70%\n",
      "--------------------------------------------------\n",
      "[Epoch 229/1000] :\n"
     ]
    },
    {
     "name": "stderr",
     "output_type": "stream",
     "text": [
      "train: 100%|██████████| 352/352 [00:15<00:00, 23.01it/s]\n"
     ]
    },
    {
     "name": "stdout",
     "output_type": "stream",
     "text": [
      "Train Loss: 0.0008 | Train Acc: 91.67%\n",
      "Valid Loss: 0.3737 | Valid Acc: 88.20%\n",
      "Test  Loss: 0.5662 | Test Acc: 82.94%\n",
      "--------------------------------------------------\n",
      "[Epoch 230/1000] :\n"
     ]
    },
    {
     "name": "stderr",
     "output_type": "stream",
     "text": [
      "train: 100%|██████████| 352/352 [00:14<00:00, 23.48it/s]\n"
     ]
    },
    {
     "name": "stdout",
     "output_type": "stream",
     "text": [
      "Train Loss: 0.0005 | Train Acc: 94.44%\n",
      "Valid Loss: 0.3993 | Valid Acc: 87.40%\n",
      "Test  Loss: 0.5562 | Test Acc: 83.45%\n",
      "--------------------------------------------------\n",
      "[Epoch 231/1000] :\n"
     ]
    },
    {
     "name": "stderr",
     "output_type": "stream",
     "text": [
      "train: 100%|██████████| 352/352 [00:15<00:00, 22.67it/s]\n"
     ]
    },
    {
     "name": "stdout",
     "output_type": "stream",
     "text": [
      "Train Loss: 0.0006 | Train Acc: 91.67%\n",
      "Valid Loss: 0.3745 | Valid Acc: 87.58%\n",
      "Test  Loss: 0.5516 | Test Acc: 83.51%\n",
      "--------------------------------------------------\n",
      "[Epoch 232/1000] :\n"
     ]
    },
    {
     "name": "stderr",
     "output_type": "stream",
     "text": [
      "train: 100%|██████████| 352/352 [00:15<00:00, 22.90it/s]\n"
     ]
    },
    {
     "name": "stdout",
     "output_type": "stream",
     "text": [
      "Train Loss: 0.0005 | Train Acc: 94.44%\n",
      "Valid Loss: 0.3809 | Valid Acc: 87.82%\n",
      "Test  Loss: 0.5395 | Test Acc: 83.65%\n",
      "Epoch 00232: reducing learning rate of group 0 to 1.0000e-05.\n",
      "--------------------------------------------------\n",
      "[Epoch 233/1000] :\n"
     ]
    },
    {
     "name": "stderr",
     "output_type": "stream",
     "text": [
      "train: 100%|██████████| 352/352 [00:14<00:00, 23.69it/s]\n"
     ]
    },
    {
     "name": "stdout",
     "output_type": "stream",
     "text": [
      "Train Loss: 0.0004 | Train Acc: 95.83%\n",
      "Valid Loss: 0.3720 | Valid Acc: 87.64%\n",
      "Test  Loss: 0.5414 | Test Acc: 83.68%\n",
      "--------------------------------------------------\n",
      "[Epoch 234/1000] :\n"
     ]
    },
    {
     "name": "stderr",
     "output_type": "stream",
     "text": [
      "train: 100%|██████████| 352/352 [00:15<00:00, 22.77it/s]\n"
     ]
    },
    {
     "name": "stdout",
     "output_type": "stream",
     "text": [
      "Train Loss: 0.0007 | Train Acc: 90.28%\n",
      "Valid Loss: 0.3758 | Valid Acc: 87.94%\n",
      "Test  Loss: 0.5397 | Test Acc: 83.74%\n",
      "--------------------------------------------------\n",
      "[Epoch 235/1000] :\n"
     ]
    },
    {
     "name": "stderr",
     "output_type": "stream",
     "text": [
      "train: 100%|██████████| 352/352 [00:15<00:00, 22.86it/s]\n"
     ]
    },
    {
     "name": "stdout",
     "output_type": "stream",
     "text": [
      "Train Loss: 0.0003 | Train Acc: 97.22%\n",
      "Valid Loss: 0.3962 | Valid Acc: 87.74%\n",
      "Test  Loss: 0.5491 | Test Acc: 83.31%\n",
      "--------------------------------------------------\n",
      "[Epoch 236/1000] :\n"
     ]
    },
    {
     "name": "stderr",
     "output_type": "stream",
     "text": [
      "train: 100%|██████████| 352/352 [00:15<00:00, 22.75it/s]\n"
     ]
    },
    {
     "name": "stdout",
     "output_type": "stream",
     "text": [
      "Train Loss: 0.0008 | Train Acc: 88.89%\n",
      "Valid Loss: 0.3761 | Valid Acc: 87.66%\n",
      "Test  Loss: 0.5519 | Test Acc: 83.26%\n",
      "--------------------------------------------------\n",
      "[Epoch 237/1000] :\n"
     ]
    },
    {
     "name": "stderr",
     "output_type": "stream",
     "text": [
      "train:   4%|▍         | 14/352 [00:00<00:18, 18.53it/s]\n"
     ]
    },
    {
     "ename": "KeyboardInterrupt",
     "evalue": "",
     "output_type": "error",
     "traceback": [
      "\u001b[0;31m---------------------------------------------------------------------------\u001b[0m",
      "\u001b[0;31mKeyboardInterrupt\u001b[0m                         Traceback (most recent call last)",
      "Cell \u001b[0;32mIn[19], line 21\u001b[0m\n\u001b[1;32m     19\u001b[0m     eval_loss \u001b[38;5;241m=\u001b[39m Training\u001b[38;5;241m.\u001b[39mSingleEpoch(train_dataloader, valid_dataloader)\n\u001b[1;32m     20\u001b[0m \u001b[38;5;28;01melse\u001b[39;00m:\n\u001b[0;32m---> 21\u001b[0m     eval_loss \u001b[38;5;241m=\u001b[39m Training\u001b[38;5;241m.\u001b[39mSingleEpoch(\n\u001b[1;32m     22\u001b[0m         train_dataloader, valid_dataloader, test_dataloader\n\u001b[1;32m     23\u001b[0m     )\n\u001b[1;32m     25\u001b[0m Training\u001b[38;5;241m.\u001b[39mSave()\n\u001b[1;32m     27\u001b[0m \u001b[38;5;28;01mif\u001b[39;00m earlystopper\u001b[38;5;241m.\u001b[39mcheck(eval_loss) \u001b[38;5;241m==\u001b[39m \u001b[38;5;28;01mTrue\u001b[39;00m:\n",
      "File \u001b[0;32m~/Desktop/MyResNet/models/src/Mytraining.py:111\u001b[0m, in \u001b[0;36mDoTraining.SingleEpoch\u001b[0;34m(self, train_dataloader, valid_dataloader, test_dataloader)\u001b[0m\n\u001b[1;32m    108\u001b[0m \u001b[38;5;28;01mif\u001b[39;00m valid_dataloader \u001b[38;5;241m==\u001b[39m \u001b[38;5;28;01mNone\u001b[39;00m \u001b[38;5;129;01mand\u001b[39;00m test_dataloader \u001b[38;5;241m==\u001b[39m \u001b[38;5;28;01mNone\u001b[39;00m:\n\u001b[1;32m    109\u001b[0m     \u001b[38;5;28;01mraise\u001b[39;00m \u001b[38;5;167;01mValueError\u001b[39;00m(\u001b[38;5;124m\"\u001b[39m\u001b[38;5;124mNo any valid/test dataloader\u001b[39m\u001b[38;5;124m\"\u001b[39m)\n\u001b[0;32m--> 111\u001b[0m train_loss, train_acc \u001b[38;5;241m=\u001b[39m \u001b[38;5;28mself\u001b[39m\u001b[38;5;241m.\u001b[39mForward_train(train_dataloader)\n\u001b[1;32m    112\u001b[0m \u001b[38;5;28mself\u001b[39m\u001b[38;5;241m.\u001b[39mlogs[\u001b[38;5;124m\"\u001b[39m\u001b[38;5;124mtrain_loss\u001b[39m\u001b[38;5;124m\"\u001b[39m]\u001b[38;5;241m.\u001b[39mappend(train_loss)\n\u001b[1;32m    113\u001b[0m \u001b[38;5;28mself\u001b[39m\u001b[38;5;241m.\u001b[39mlogs[\u001b[38;5;124m\"\u001b[39m\u001b[38;5;124mtrain_acc\u001b[39m\u001b[38;5;124m\"\u001b[39m]\u001b[38;5;241m.\u001b[39mappend(train_acc)\n",
      "File \u001b[0;32m~/Desktop/MyResNet/models/src/Mytraining.py:38\u001b[0m, in \u001b[0;36mDoTraining.Forward_train\u001b[0;34m(self, dataloader)\u001b[0m\n\u001b[1;32m     36\u001b[0m     images, labels \u001b[38;5;241m=\u001b[39m images\u001b[38;5;241m.\u001b[39mto(\u001b[38;5;28mself\u001b[39m\u001b[38;5;241m.\u001b[39mdevice), labels\u001b[38;5;241m.\u001b[39mto(\u001b[38;5;28mself\u001b[39m\u001b[38;5;241m.\u001b[39mdevice)\n\u001b[1;32m     37\u001b[0m     \u001b[38;5;28mself\u001b[39m\u001b[38;5;241m.\u001b[39moptimizer\u001b[38;5;241m.\u001b[39mzero_grad()\n\u001b[0;32m---> 38\u001b[0m     outputs \u001b[38;5;241m=\u001b[39m \u001b[38;5;28mself\u001b[39m\u001b[38;5;241m.\u001b[39mmodel(images)\n\u001b[1;32m     39\u001b[0m     loss \u001b[38;5;241m=\u001b[39m \u001b[38;5;28mself\u001b[39m\u001b[38;5;241m.\u001b[39mcriterion(outputs, labels)\n\u001b[1;32m     41\u001b[0m \u001b[38;5;28mself\u001b[39m\u001b[38;5;241m.\u001b[39mscaler\u001b[38;5;241m.\u001b[39mscale(loss)\u001b[38;5;241m.\u001b[39mbackward()\n",
      "File \u001b[0;32m~/anaconda3/lib/python3.11/site-packages/torch/nn/modules/module.py:1518\u001b[0m, in \u001b[0;36mModule._wrapped_call_impl\u001b[0;34m(self, *args, **kwargs)\u001b[0m\n\u001b[1;32m   1516\u001b[0m     \u001b[38;5;28;01mreturn\u001b[39;00m \u001b[38;5;28mself\u001b[39m\u001b[38;5;241m.\u001b[39m_compiled_call_impl(\u001b[38;5;241m*\u001b[39margs, \u001b[38;5;241m*\u001b[39m\u001b[38;5;241m*\u001b[39mkwargs)  \u001b[38;5;66;03m# type: ignore[misc]\u001b[39;00m\n\u001b[1;32m   1517\u001b[0m \u001b[38;5;28;01melse\u001b[39;00m:\n\u001b[0;32m-> 1518\u001b[0m     \u001b[38;5;28;01mreturn\u001b[39;00m \u001b[38;5;28mself\u001b[39m\u001b[38;5;241m.\u001b[39m_call_impl(\u001b[38;5;241m*\u001b[39margs, \u001b[38;5;241m*\u001b[39m\u001b[38;5;241m*\u001b[39mkwargs)\n",
      "File \u001b[0;32m~/anaconda3/lib/python3.11/site-packages/torch/nn/modules/module.py:1527\u001b[0m, in \u001b[0;36mModule._call_impl\u001b[0;34m(self, *args, **kwargs)\u001b[0m\n\u001b[1;32m   1522\u001b[0m \u001b[38;5;66;03m# If we don't have any hooks, we want to skip the rest of the logic in\u001b[39;00m\n\u001b[1;32m   1523\u001b[0m \u001b[38;5;66;03m# this function, and just call forward.\u001b[39;00m\n\u001b[1;32m   1524\u001b[0m \u001b[38;5;28;01mif\u001b[39;00m \u001b[38;5;129;01mnot\u001b[39;00m (\u001b[38;5;28mself\u001b[39m\u001b[38;5;241m.\u001b[39m_backward_hooks \u001b[38;5;129;01mor\u001b[39;00m \u001b[38;5;28mself\u001b[39m\u001b[38;5;241m.\u001b[39m_backward_pre_hooks \u001b[38;5;129;01mor\u001b[39;00m \u001b[38;5;28mself\u001b[39m\u001b[38;5;241m.\u001b[39m_forward_hooks \u001b[38;5;129;01mor\u001b[39;00m \u001b[38;5;28mself\u001b[39m\u001b[38;5;241m.\u001b[39m_forward_pre_hooks\n\u001b[1;32m   1525\u001b[0m         \u001b[38;5;129;01mor\u001b[39;00m _global_backward_pre_hooks \u001b[38;5;129;01mor\u001b[39;00m _global_backward_hooks\n\u001b[1;32m   1526\u001b[0m         \u001b[38;5;129;01mor\u001b[39;00m _global_forward_hooks \u001b[38;5;129;01mor\u001b[39;00m _global_forward_pre_hooks):\n\u001b[0;32m-> 1527\u001b[0m     \u001b[38;5;28;01mreturn\u001b[39;00m forward_call(\u001b[38;5;241m*\u001b[39margs, \u001b[38;5;241m*\u001b[39m\u001b[38;5;241m*\u001b[39mkwargs)\n\u001b[1;32m   1529\u001b[0m \u001b[38;5;28;01mtry\u001b[39;00m:\n\u001b[1;32m   1530\u001b[0m     result \u001b[38;5;241m=\u001b[39m \u001b[38;5;28;01mNone\u001b[39;00m\n",
      "File \u001b[0;32m~/Desktop/MyResNet/models/src/Mymodel.py:198\u001b[0m, in \u001b[0;36mMyResNet_CIFAR.forward\u001b[0;34m(self, x)\u001b[0m\n\u001b[1;32m    196\u001b[0m x \u001b[38;5;241m=\u001b[39m \u001b[38;5;28mself\u001b[39m\u001b[38;5;241m.\u001b[39msingle_conv32block(x)\n\u001b[1;32m    197\u001b[0m x \u001b[38;5;241m=\u001b[39m \u001b[38;5;28mself\u001b[39m\u001b[38;5;241m.\u001b[39mconv32blocks(x)\n\u001b[0;32m--> 198\u001b[0m x \u001b[38;5;241m=\u001b[39m \u001b[38;5;28mself\u001b[39m\u001b[38;5;241m.\u001b[39mconv16blocks(x)\n\u001b[1;32m    199\u001b[0m x \u001b[38;5;241m=\u001b[39m \u001b[38;5;28mself\u001b[39m\u001b[38;5;241m.\u001b[39mconv8blocks(x)\n\u001b[1;32m    200\u001b[0m x \u001b[38;5;241m=\u001b[39m \u001b[38;5;28mself\u001b[39m\u001b[38;5;241m.\u001b[39mavgpool(x)\n",
      "File \u001b[0;32m~/anaconda3/lib/python3.11/site-packages/torch/nn/modules/module.py:1518\u001b[0m, in \u001b[0;36mModule._wrapped_call_impl\u001b[0;34m(self, *args, **kwargs)\u001b[0m\n\u001b[1;32m   1516\u001b[0m     \u001b[38;5;28;01mreturn\u001b[39;00m \u001b[38;5;28mself\u001b[39m\u001b[38;5;241m.\u001b[39m_compiled_call_impl(\u001b[38;5;241m*\u001b[39margs, \u001b[38;5;241m*\u001b[39m\u001b[38;5;241m*\u001b[39mkwargs)  \u001b[38;5;66;03m# type: ignore[misc]\u001b[39;00m\n\u001b[1;32m   1517\u001b[0m \u001b[38;5;28;01melse\u001b[39;00m:\n\u001b[0;32m-> 1518\u001b[0m     \u001b[38;5;28;01mreturn\u001b[39;00m \u001b[38;5;28mself\u001b[39m\u001b[38;5;241m.\u001b[39m_call_impl(\u001b[38;5;241m*\u001b[39margs, \u001b[38;5;241m*\u001b[39m\u001b[38;5;241m*\u001b[39mkwargs)\n",
      "File \u001b[0;32m~/anaconda3/lib/python3.11/site-packages/torch/nn/modules/module.py:1527\u001b[0m, in \u001b[0;36mModule._call_impl\u001b[0;34m(self, *args, **kwargs)\u001b[0m\n\u001b[1;32m   1522\u001b[0m \u001b[38;5;66;03m# If we don't have any hooks, we want to skip the rest of the logic in\u001b[39;00m\n\u001b[1;32m   1523\u001b[0m \u001b[38;5;66;03m# this function, and just call forward.\u001b[39;00m\n\u001b[1;32m   1524\u001b[0m \u001b[38;5;28;01mif\u001b[39;00m \u001b[38;5;129;01mnot\u001b[39;00m (\u001b[38;5;28mself\u001b[39m\u001b[38;5;241m.\u001b[39m_backward_hooks \u001b[38;5;129;01mor\u001b[39;00m \u001b[38;5;28mself\u001b[39m\u001b[38;5;241m.\u001b[39m_backward_pre_hooks \u001b[38;5;129;01mor\u001b[39;00m \u001b[38;5;28mself\u001b[39m\u001b[38;5;241m.\u001b[39m_forward_hooks \u001b[38;5;129;01mor\u001b[39;00m \u001b[38;5;28mself\u001b[39m\u001b[38;5;241m.\u001b[39m_forward_pre_hooks\n\u001b[1;32m   1525\u001b[0m         \u001b[38;5;129;01mor\u001b[39;00m _global_backward_pre_hooks \u001b[38;5;129;01mor\u001b[39;00m _global_backward_hooks\n\u001b[1;32m   1526\u001b[0m         \u001b[38;5;129;01mor\u001b[39;00m _global_forward_hooks \u001b[38;5;129;01mor\u001b[39;00m _global_forward_pre_hooks):\n\u001b[0;32m-> 1527\u001b[0m     \u001b[38;5;28;01mreturn\u001b[39;00m forward_call(\u001b[38;5;241m*\u001b[39margs, \u001b[38;5;241m*\u001b[39m\u001b[38;5;241m*\u001b[39mkwargs)\n\u001b[1;32m   1529\u001b[0m \u001b[38;5;28;01mtry\u001b[39;00m:\n\u001b[1;32m   1530\u001b[0m     result \u001b[38;5;241m=\u001b[39m \u001b[38;5;28;01mNone\u001b[39;00m\n",
      "File \u001b[0;32m~/anaconda3/lib/python3.11/site-packages/torch/nn/modules/container.py:215\u001b[0m, in \u001b[0;36mSequential.forward\u001b[0;34m(self, input)\u001b[0m\n\u001b[1;32m    213\u001b[0m \u001b[38;5;28;01mdef\u001b[39;00m \u001b[38;5;21mforward\u001b[39m(\u001b[38;5;28mself\u001b[39m, \u001b[38;5;28minput\u001b[39m):\n\u001b[1;32m    214\u001b[0m     \u001b[38;5;28;01mfor\u001b[39;00m module \u001b[38;5;129;01min\u001b[39;00m \u001b[38;5;28mself\u001b[39m:\n\u001b[0;32m--> 215\u001b[0m         \u001b[38;5;28minput\u001b[39m \u001b[38;5;241m=\u001b[39m module(\u001b[38;5;28minput\u001b[39m)\n\u001b[1;32m    216\u001b[0m     \u001b[38;5;28;01mreturn\u001b[39;00m \u001b[38;5;28minput\u001b[39m\n",
      "File \u001b[0;32m~/anaconda3/lib/python3.11/site-packages/torch/nn/modules/module.py:1518\u001b[0m, in \u001b[0;36mModule._wrapped_call_impl\u001b[0;34m(self, *args, **kwargs)\u001b[0m\n\u001b[1;32m   1516\u001b[0m     \u001b[38;5;28;01mreturn\u001b[39;00m \u001b[38;5;28mself\u001b[39m\u001b[38;5;241m.\u001b[39m_compiled_call_impl(\u001b[38;5;241m*\u001b[39margs, \u001b[38;5;241m*\u001b[39m\u001b[38;5;241m*\u001b[39mkwargs)  \u001b[38;5;66;03m# type: ignore[misc]\u001b[39;00m\n\u001b[1;32m   1517\u001b[0m \u001b[38;5;28;01melse\u001b[39;00m:\n\u001b[0;32m-> 1518\u001b[0m     \u001b[38;5;28;01mreturn\u001b[39;00m \u001b[38;5;28mself\u001b[39m\u001b[38;5;241m.\u001b[39m_call_impl(\u001b[38;5;241m*\u001b[39margs, \u001b[38;5;241m*\u001b[39m\u001b[38;5;241m*\u001b[39mkwargs)\n",
      "File \u001b[0;32m~/anaconda3/lib/python3.11/site-packages/torch/nn/modules/module.py:1527\u001b[0m, in \u001b[0;36mModule._call_impl\u001b[0;34m(self, *args, **kwargs)\u001b[0m\n\u001b[1;32m   1522\u001b[0m \u001b[38;5;66;03m# If we don't have any hooks, we want to skip the rest of the logic in\u001b[39;00m\n\u001b[1;32m   1523\u001b[0m \u001b[38;5;66;03m# this function, and just call forward.\u001b[39;00m\n\u001b[1;32m   1524\u001b[0m \u001b[38;5;28;01mif\u001b[39;00m \u001b[38;5;129;01mnot\u001b[39;00m (\u001b[38;5;28mself\u001b[39m\u001b[38;5;241m.\u001b[39m_backward_hooks \u001b[38;5;129;01mor\u001b[39;00m \u001b[38;5;28mself\u001b[39m\u001b[38;5;241m.\u001b[39m_backward_pre_hooks \u001b[38;5;129;01mor\u001b[39;00m \u001b[38;5;28mself\u001b[39m\u001b[38;5;241m.\u001b[39m_forward_hooks \u001b[38;5;129;01mor\u001b[39;00m \u001b[38;5;28mself\u001b[39m\u001b[38;5;241m.\u001b[39m_forward_pre_hooks\n\u001b[1;32m   1525\u001b[0m         \u001b[38;5;129;01mor\u001b[39;00m _global_backward_pre_hooks \u001b[38;5;129;01mor\u001b[39;00m _global_backward_hooks\n\u001b[1;32m   1526\u001b[0m         \u001b[38;5;129;01mor\u001b[39;00m _global_forward_hooks \u001b[38;5;129;01mor\u001b[39;00m _global_forward_pre_hooks):\n\u001b[0;32m-> 1527\u001b[0m     \u001b[38;5;28;01mreturn\u001b[39;00m forward_call(\u001b[38;5;241m*\u001b[39margs, \u001b[38;5;241m*\u001b[39m\u001b[38;5;241m*\u001b[39mkwargs)\n\u001b[1;32m   1529\u001b[0m \u001b[38;5;28;01mtry\u001b[39;00m:\n\u001b[1;32m   1530\u001b[0m     result \u001b[38;5;241m=\u001b[39m \u001b[38;5;28;01mNone\u001b[39;00m\n",
      "File \u001b[0;32m~/Desktop/MyResNet/models/src/Mymodel.py:48\u001b[0m, in \u001b[0;36mBlock.forward\u001b[0;34m(self, x)\u001b[0m\n\u001b[1;32m     46\u001b[0m x \u001b[38;5;241m=\u001b[39m \u001b[38;5;28mself\u001b[39m\u001b[38;5;241m.\u001b[39mconv1(x)\n\u001b[1;32m     47\u001b[0m x \u001b[38;5;241m=\u001b[39m \u001b[38;5;28mself\u001b[39m\u001b[38;5;241m.\u001b[39mbn1(x)\n\u001b[0;32m---> 48\u001b[0m x \u001b[38;5;241m=\u001b[39m \u001b[38;5;28mself\u001b[39m\u001b[38;5;241m.\u001b[39mrelu(x)\n\u001b[1;32m     49\u001b[0m \u001b[38;5;66;03m# print(\"x2 :\", x.shape)\u001b[39;00m\n\u001b[1;32m     50\u001b[0m x \u001b[38;5;241m=\u001b[39m \u001b[38;5;28mself\u001b[39m\u001b[38;5;241m.\u001b[39mconv2(x)\n",
      "File \u001b[0;32m~/anaconda3/lib/python3.11/site-packages/torch/nn/modules/module.py:1518\u001b[0m, in \u001b[0;36mModule._wrapped_call_impl\u001b[0;34m(self, *args, **kwargs)\u001b[0m\n\u001b[1;32m   1516\u001b[0m     \u001b[38;5;28;01mreturn\u001b[39;00m \u001b[38;5;28mself\u001b[39m\u001b[38;5;241m.\u001b[39m_compiled_call_impl(\u001b[38;5;241m*\u001b[39margs, \u001b[38;5;241m*\u001b[39m\u001b[38;5;241m*\u001b[39mkwargs)  \u001b[38;5;66;03m# type: ignore[misc]\u001b[39;00m\n\u001b[1;32m   1517\u001b[0m \u001b[38;5;28;01melse\u001b[39;00m:\n\u001b[0;32m-> 1518\u001b[0m     \u001b[38;5;28;01mreturn\u001b[39;00m \u001b[38;5;28mself\u001b[39m\u001b[38;5;241m.\u001b[39m_call_impl(\u001b[38;5;241m*\u001b[39margs, \u001b[38;5;241m*\u001b[39m\u001b[38;5;241m*\u001b[39mkwargs)\n",
      "File \u001b[0;32m~/anaconda3/lib/python3.11/site-packages/torch/nn/modules/module.py:1527\u001b[0m, in \u001b[0;36mModule._call_impl\u001b[0;34m(self, *args, **kwargs)\u001b[0m\n\u001b[1;32m   1522\u001b[0m \u001b[38;5;66;03m# If we don't have any hooks, we want to skip the rest of the logic in\u001b[39;00m\n\u001b[1;32m   1523\u001b[0m \u001b[38;5;66;03m# this function, and just call forward.\u001b[39;00m\n\u001b[1;32m   1524\u001b[0m \u001b[38;5;28;01mif\u001b[39;00m \u001b[38;5;129;01mnot\u001b[39;00m (\u001b[38;5;28mself\u001b[39m\u001b[38;5;241m.\u001b[39m_backward_hooks \u001b[38;5;129;01mor\u001b[39;00m \u001b[38;5;28mself\u001b[39m\u001b[38;5;241m.\u001b[39m_backward_pre_hooks \u001b[38;5;129;01mor\u001b[39;00m \u001b[38;5;28mself\u001b[39m\u001b[38;5;241m.\u001b[39m_forward_hooks \u001b[38;5;129;01mor\u001b[39;00m \u001b[38;5;28mself\u001b[39m\u001b[38;5;241m.\u001b[39m_forward_pre_hooks\n\u001b[1;32m   1525\u001b[0m         \u001b[38;5;129;01mor\u001b[39;00m _global_backward_pre_hooks \u001b[38;5;129;01mor\u001b[39;00m _global_backward_hooks\n\u001b[1;32m   1526\u001b[0m         \u001b[38;5;129;01mor\u001b[39;00m _global_forward_hooks \u001b[38;5;129;01mor\u001b[39;00m _global_forward_pre_hooks):\n\u001b[0;32m-> 1527\u001b[0m     \u001b[38;5;28;01mreturn\u001b[39;00m forward_call(\u001b[38;5;241m*\u001b[39margs, \u001b[38;5;241m*\u001b[39m\u001b[38;5;241m*\u001b[39mkwargs)\n\u001b[1;32m   1529\u001b[0m \u001b[38;5;28;01mtry\u001b[39;00m:\n\u001b[1;32m   1530\u001b[0m     result \u001b[38;5;241m=\u001b[39m \u001b[38;5;28;01mNone\u001b[39;00m\n",
      "File \u001b[0;32m~/anaconda3/lib/python3.11/site-packages/torch/nn/modules/activation.py:101\u001b[0m, in \u001b[0;36mReLU.forward\u001b[0;34m(self, input)\u001b[0m\n\u001b[1;32m    100\u001b[0m \u001b[38;5;28;01mdef\u001b[39;00m \u001b[38;5;21mforward\u001b[39m(\u001b[38;5;28mself\u001b[39m, \u001b[38;5;28minput\u001b[39m: Tensor) \u001b[38;5;241m-\u001b[39m\u001b[38;5;241m>\u001b[39m Tensor:\n\u001b[0;32m--> 101\u001b[0m     \u001b[38;5;28;01mreturn\u001b[39;00m F\u001b[38;5;241m.\u001b[39mrelu(\u001b[38;5;28minput\u001b[39m, inplace\u001b[38;5;241m=\u001b[39m\u001b[38;5;28mself\u001b[39m\u001b[38;5;241m.\u001b[39minplace)\n",
      "File \u001b[0;32m~/anaconda3/lib/python3.11/site-packages/torch/nn/functional.py:1469\u001b[0m, in \u001b[0;36mrelu\u001b[0;34m(input, inplace)\u001b[0m\n\u001b[1;32m   1467\u001b[0m     \u001b[38;5;28;01mreturn\u001b[39;00m handle_torch_function(relu, (\u001b[38;5;28minput\u001b[39m,), \u001b[38;5;28minput\u001b[39m, inplace\u001b[38;5;241m=\u001b[39minplace)\n\u001b[1;32m   1468\u001b[0m \u001b[38;5;28;01mif\u001b[39;00m inplace:\n\u001b[0;32m-> 1469\u001b[0m     result \u001b[38;5;241m=\u001b[39m torch\u001b[38;5;241m.\u001b[39mrelu_(\u001b[38;5;28minput\u001b[39m)\n\u001b[1;32m   1470\u001b[0m \u001b[38;5;28;01melse\u001b[39;00m:\n\u001b[1;32m   1471\u001b[0m     result \u001b[38;5;241m=\u001b[39m torch\u001b[38;5;241m.\u001b[39mrelu(\u001b[38;5;28minput\u001b[39m)\n",
      "\u001b[0;31mKeyboardInterrupt\u001b[0m: "
     ]
    }
   ],
   "source": [
    "Training = DoTraining(\n",
    "    model=model,\n",
    "    criterion=criterion,\n",
    "    optimizer=optimizer,\n",
    "    scaler=scaler,\n",
    "    scheduler=scheduler,\n",
    "    earlystopper=earlystopper,\n",
    "    device=device,\n",
    "    logs=logs,\n",
    "    file_path=file_path,\n",
    ")\n",
    "pre_epochs = len(Training.logs[\"train_loss\"])\n",
    "\n",
    "for epoch in range(NUM_EPOCHS):\n",
    "    now = epoch + 1 + pre_epochs\n",
    "    print(f\"[Epoch {epoch+1+pre_epochs}/{NUM_EPOCHS}] :\")\n",
    "\n",
    "    if DATASET == \"ImageNet2012\":\n",
    "        eval_loss = Training.SingleEpoch(train_dataloader, valid_dataloader)\n",
    "    else:\n",
    "        eval_loss = Training.SingleEpoch(\n",
    "            train_dataloader, valid_dataloader, test_dataloader\n",
    "        )\n",
    "\n",
    "    Training.Save()\n",
    "\n",
    "    if earlystopper.check(eval_loss) == True:\n",
    "        break\n",
    "\n",
    "    print(\"-\" * 50)"
   ]
  },
  {
   "cell_type": "code",
   "execution_count": null,
   "metadata": {},
   "outputs": [
    {
     "data": {
      "image/png": "[encoded data removed]",
      "text/plain": [
       "<Figure size 1000x500 with 2 Axes>"
      ]
     },
     "metadata": {},
     "output_type": "display_data"
    }
   ],
   "source": [
    "view = LogViewer(logs)\n",
    "view.draw()"
   ]
  },
  {
   "cell_type": "code",
   "execution_count": null,
   "metadata": {},
   "outputs": [
    {
     "name": "stdout",
     "output_type": "stream",
     "text": [
      "1 epoch: train_loss=0.0056, train_acc=0.2500, test_loss=2.1601, test_acc=0.1842, valid_loss=2.1756, valid_acc=0.1632, lr=0.1000\n",
      "2 epoch: train_loss=0.0055, train_acc=0.1667, test_loss=2.0074, test_acc=0.2489, valid_loss=1.9896, valid_acc=0.2424, lr=0.1000\n",
      "3 epoch: train_loss=0.0064, train_acc=0.0833, test_loss=2.0821, test_acc=0.2691, valid_loss=1.8391, valid_acc=0.3384, lr=0.1000\n",
      "4 epoch: train_loss=0.0040, train_acc=0.5000, test_loss=1.3600, test_acc=0.5181, valid_loss=1.4690, valid_acc=0.4832, lr=0.1000\n",
      "5 epoch: train_loss=0.0051, train_acc=0.3333, test_loss=1.3300, test_acc=0.5317, valid_loss=1.4080, valid_acc=0.5128, lr=0.1000\n",
      "6 epoch: train_loss=0.0062, train_acc=0.3333, test_loss=1.1169, test_acc=0.6263, valid_loss=1.3762, valid_acc=0.5396, lr=0.1000\n",
      "7 epoch: train_loss=0.0025, train_acc=0.8333, test_loss=0.9675, test_acc=0.6697, valid_loss=1.0775, valid_acc=0.6292, lr=0.1000\n",
      "8 epoch: train_loss=0.0022, train_acc=0.7500, test_loss=1.2025, test_acc=0.6191, valid_loss=1.0377, valid_acc=0.6464, lr=0.1000\n",
      "9 epoch: train_loss=0.0031, train_acc=0.6667, test_loss=1.1627, test_acc=0.6156, valid_loss=1.0254, valid_acc=0.6544, lr=0.1000\n",
      "10 epoch: train_loss=0.0033, train_acc=0.7500, test_loss=0.9488, test_acc=0.6868, valid_loss=1.0400, valid_acc=0.6540, lr=0.1000\n",
      "11 epoch: train_loss=0.0031, train_acc=0.5833, test_loss=0.9558, test_acc=0.6850, valid_loss=1.3985, valid_acc=0.5764, lr=0.1000\n",
      "12 epoch: train_loss=0.0027, train_acc=0.5833, test_loss=0.8104, test_acc=0.7349, valid_loss=0.8358, valid_acc=0.7096, lr=0.1000\n",
      "13 epoch: train_loss=0.0033, train_acc=0.5000, test_loss=0.8323, test_acc=0.7132, valid_loss=0.9056, valid_acc=0.6912, lr=0.1000\n",
      "14 epoch: train_loss=0.0040, train_acc=0.5833, test_loss=0.7218, test_acc=0.7555, valid_loss=0.8687, valid_acc=0.7120, lr=0.1000\n",
      "15 epoch: train_loss=0.0023, train_acc=0.6667, test_loss=1.0798, test_acc=0.6721, valid_loss=1.0435, valid_acc=0.6676, lr=0.1000\n",
      "16 epoch: train_loss=0.0039, train_acc=0.5833, test_loss=0.7018, test_acc=0.7637, valid_loss=0.7488, valid_acc=0.7472, lr=0.1000\n",
      "17 epoch: train_loss=0.0020, train_acc=0.6667, test_loss=0.8470, test_acc=0.7183, valid_loss=0.8740, valid_acc=0.7008, lr=0.1000\n",
      "18 epoch: train_loss=0.0006, train_acc=0.9167, test_loss=0.6788, test_acc=0.7817, valid_loss=0.7995, valid_acc=0.7360, lr=0.1000\n",
      "19 epoch: train_loss=0.0024, train_acc=0.7500, test_loss=0.6712, test_acc=0.7759, valid_loss=0.7097, valid_acc=0.7656, lr=0.1000\n",
      "20 epoch: train_loss=0.0023, train_acc=0.7500, test_loss=0.7375, test_acc=0.7653, valid_loss=0.7976, valid_acc=0.7352, lr=0.1000\n",
      "21 epoch: train_loss=0.0012, train_acc=0.8333, test_loss=0.7467, test_acc=0.7512, valid_loss=0.7711, valid_acc=0.7420, lr=0.1000\n",
      "22 epoch: train_loss=0.0026, train_acc=0.6667, test_loss=0.5901, test_acc=0.7926, valid_loss=0.6827, valid_acc=0.7624, lr=0.1000\n",
      "23 epoch: train_loss=0.0014, train_acc=0.8333, test_loss=0.6851, test_acc=0.7586, valid_loss=0.7015, valid_acc=0.7576, lr=0.1000\n",
      "24 epoch: train_loss=0.0015, train_acc=0.7500, test_loss=0.5561, test_acc=0.8061, valid_loss=0.7599, valid_acc=0.7396, lr=0.1000\n",
      "25 epoch: train_loss=0.0021, train_acc=0.7500, test_loss=0.8826, test_acc=0.7190, valid_loss=0.7353, valid_acc=0.7480, lr=0.1000\n",
      "26 epoch: train_loss=0.0026, train_acc=0.7500, test_loss=0.6139, test_acc=0.7945, valid_loss=0.7670, valid_acc=0.7496, lr=0.1000\n",
      "27 epoch: train_loss=0.0021, train_acc=0.7500, test_loss=0.8398, test_acc=0.7279, valid_loss=0.8007, valid_acc=0.7348, lr=0.1000\n",
      "28 epoch: train_loss=0.0008, train_acc=0.9167, test_loss=0.5917, test_acc=0.7976, valid_loss=0.6891, valid_acc=0.7676, lr=0.1000\n",
      "29 epoch: train_loss=0.0018, train_acc=0.7500, test_loss=0.6333, test_acc=0.7891, valid_loss=0.7561, valid_acc=0.7448, lr=0.1000\n",
      "30 epoch: train_loss=0.0008, train_acc=0.9167, test_loss=0.6670, test_acc=0.7763, valid_loss=0.7193, valid_acc=0.7556, lr=0.1000\n",
      "31 epoch: train_loss=0.0030, train_acc=0.4167, test_loss=0.5506, test_acc=0.8116, valid_loss=0.6974, valid_acc=0.7700, lr=0.1000\n",
      "32 epoch: train_loss=0.0012, train_acc=0.9167, test_loss=0.7304, test_acc=0.7603, valid_loss=0.6461, valid_acc=0.7788, lr=0.1000\n",
      "33 epoch: train_loss=0.0040, train_acc=0.4167, test_loss=0.8036, test_acc=0.7373, valid_loss=0.8269, valid_acc=0.7280, lr=0.1000\n",
      "34 epoch: train_loss=0.0012, train_acc=0.8333, test_loss=0.6350, test_acc=0.7961, valid_loss=0.6405, valid_acc=0.7816, lr=0.1000\n",
      "35 epoch: train_loss=0.0019, train_acc=0.7500, test_loss=0.5926, test_acc=0.7921, valid_loss=0.6450, valid_acc=0.7812, lr=0.1000\n",
      "36 epoch: train_loss=0.0012, train_acc=0.8333, test_loss=0.9023, test_acc=0.7163, valid_loss=0.7758, valid_acc=0.7440, lr=0.1000\n",
      "37 epoch: train_loss=0.0030, train_acc=0.5833, test_loss=0.4546, test_acc=0.8485, valid_loss=0.6416, valid_acc=0.7840, lr=0.1000\n",
      "38 epoch: train_loss=0.0015, train_acc=0.8333, test_loss=0.5936, test_acc=0.8054, valid_loss=0.6607, valid_acc=0.7700, lr=0.1000\n",
      "39 epoch: train_loss=0.0007, train_acc=0.9167, test_loss=0.5650, test_acc=0.8171, valid_loss=0.6144, valid_acc=0.7844, lr=0.1000\n",
      "40 epoch: train_loss=0.0030, train_acc=0.5833, test_loss=0.6679, test_acc=0.7834, valid_loss=0.7623, valid_acc=0.7540, lr=0.1000\n",
      "41 epoch: train_loss=0.0003, train_acc=1.0000, test_loss=0.5490, test_acc=0.8182, valid_loss=0.5891, valid_acc=0.7940, lr=0.1000\n",
      "42 epoch: train_loss=0.0014, train_acc=0.7500, test_loss=0.7388, test_acc=0.7575, valid_loss=0.6344, valid_acc=0.7844, lr=0.1000\n",
      "43 epoch: train_loss=0.0012, train_acc=0.8333, test_loss=0.6525, test_acc=0.7796, valid_loss=0.6129, valid_acc=0.7924, lr=0.1000\n",
      "44 epoch: train_loss=0.0019, train_acc=0.8333, test_loss=0.5990, test_acc=0.8013, valid_loss=0.7913, valid_acc=0.7428, lr=0.1000\n",
      "45 epoch: train_loss=0.0017, train_acc=0.8333, test_loss=0.4957, test_acc=0.8303, valid_loss=0.5681, valid_acc=0.8160, lr=0.1000\n",
      "46 epoch: train_loss=0.0007, train_acc=0.8333, test_loss=0.4788, test_acc=0.8439, valid_loss=0.5966, valid_acc=0.7944, lr=0.1000\n",
      "47 epoch: train_loss=0.0024, train_acc=0.7500, test_loss=0.6499, test_acc=0.7914, valid_loss=0.7589, valid_acc=0.7468, lr=0.1000\n",
      "48 epoch: train_loss=0.0026, train_acc=0.5833, test_loss=0.6602, test_acc=0.7808, valid_loss=0.7210, valid_acc=0.7772, lr=0.1000\n",
      "49 epoch: train_loss=0.0020, train_acc=0.8333, test_loss=0.5845, test_acc=0.8037, valid_loss=0.6140, valid_acc=0.7932, lr=0.1000\n",
      "50 epoch: train_loss=0.0014, train_acc=0.8333, test_loss=0.6592, test_acc=0.7726, valid_loss=0.6116, valid_acc=0.7888, lr=0.1000\n",
      "51 epoch: train_loss=0.0016, train_acc=0.8333, test_loss=0.5251, test_acc=0.8161, valid_loss=0.5732, valid_acc=0.7988, lr=0.1000\n",
      "52 epoch: train_loss=0.0025, train_acc=0.7500, test_loss=0.4790, test_acc=0.8346, valid_loss=0.5806, valid_acc=0.8020, lr=0.1000\n",
      "53 epoch: train_loss=0.0016, train_acc=0.8333, test_loss=0.5083, test_acc=0.8320, valid_loss=0.6105, valid_acc=0.7936, lr=0.1000\n",
      "54 epoch: train_loss=0.0018, train_acc=0.7500, test_loss=0.4715, test_acc=0.8433, valid_loss=0.6094, valid_acc=0.7968, lr=0.1000\n",
      "55 epoch: train_loss=0.0019, train_acc=0.7500, test_loss=0.4453, test_acc=0.8483, valid_loss=0.6326, valid_acc=0.7864, lr=0.1000\n",
      "56 epoch: train_loss=0.0013, train_acc=0.8333, test_loss=0.5313, test_acc=0.8131, valid_loss=0.7081, valid_acc=0.7640, lr=0.1000\n",
      "57 epoch: train_loss=0.0001, train_acc=1.0000, test_loss=0.3379, test_acc=0.8824, valid_loss=0.4044, valid_acc=0.8540, lr=0.0100\n",
      "58 epoch: train_loss=0.0010, train_acc=0.8333, test_loss=0.3588, test_acc=0.8778, valid_loss=0.4054, valid_acc=0.8608, lr=0.0100\n",
      "59 epoch: train_loss=0.0011, train_acc=0.9167, test_loss=0.3430, test_acc=0.8832, valid_loss=0.4293, valid_acc=0.8556, lr=0.0100\n",
      "60 epoch: train_loss=0.0008, train_acc=0.8333, test_loss=0.3348, test_acc=0.8872, valid_loss=0.3742, valid_acc=0.8748, lr=0.0100\n",
      "61 epoch: train_loss=0.0009, train_acc=0.9167, test_loss=0.3407, test_acc=0.8839, valid_loss=0.4081, valid_acc=0.8540, lr=0.0100\n",
      "62 epoch: train_loss=0.0005, train_acc=0.9167, test_loss=0.3081, test_acc=0.8952, valid_loss=0.3935, valid_acc=0.8700, lr=0.0100\n",
      "63 epoch: train_loss=0.0011, train_acc=0.8333, test_loss=0.3478, test_acc=0.8840, valid_loss=0.4082, valid_acc=0.8624, lr=0.0100\n",
      "64 epoch: train_loss=0.0004, train_acc=1.0000, test_loss=0.3287, test_acc=0.8900, valid_loss=0.4275, valid_acc=0.8556, lr=0.0100\n",
      "65 epoch: train_loss=0.0010, train_acc=0.8333, test_loss=0.3371, test_acc=0.8877, valid_loss=0.4042, valid_acc=0.8656, lr=0.0100\n",
      "66 epoch: train_loss=0.0027, train_acc=0.6667, test_loss=0.3385, test_acc=0.8876, valid_loss=0.3858, valid_acc=0.8656, lr=0.0100\n",
      "67 epoch: train_loss=0.0010, train_acc=0.9167, test_loss=0.3322, test_acc=0.8872, valid_loss=0.4150, valid_acc=0.8576, lr=0.0100\n",
      "68 epoch: train_loss=0.0022, train_acc=0.7500, test_loss=0.3425, test_acc=0.8899, valid_loss=0.3771, valid_acc=0.8684, lr=0.0100\n",
      "69 epoch: train_loss=0.0002, train_acc=1.0000, test_loss=0.3291, test_acc=0.8926, valid_loss=0.4065, valid_acc=0.8608, lr=0.0100\n",
      "70 epoch: train_loss=0.0007, train_acc=0.9167, test_loss=0.3301, test_acc=0.8909, valid_loss=0.3984, valid_acc=0.8724, lr=0.0100\n",
      "71 epoch: train_loss=0.0014, train_acc=0.7500, test_loss=0.3414, test_acc=0.8900, valid_loss=0.4089, valid_acc=0.8612, lr=0.0100\n",
      "72 epoch: train_loss=0.0010, train_acc=0.9167, test_loss=0.3290, test_acc=0.8919, valid_loss=0.3647, valid_acc=0.8824, lr=0.0100\n",
      "73 epoch: train_loss=0.0016, train_acc=0.8333, test_loss=0.3512, test_acc=0.8823, valid_loss=0.3906, valid_acc=0.8736, lr=0.0100\n",
      "74 epoch: train_loss=0.0011, train_acc=0.9167, test_loss=0.3504, test_acc=0.8829, valid_loss=0.3900, valid_acc=0.8664, lr=0.0100\n",
      "75 epoch: train_loss=0.0012, train_acc=0.7500, test_loss=0.3345, test_acc=0.8885, valid_loss=0.3932, valid_acc=0.8692, lr=0.0100\n",
      "76 epoch: train_loss=0.0003, train_acc=0.9167, test_loss=0.3705, test_acc=0.8812, valid_loss=0.4128, valid_acc=0.8600, lr=0.0100\n",
      "77 epoch: train_loss=0.0006, train_acc=0.9167, test_loss=0.3492, test_acc=0.8869, valid_loss=0.4041, valid_acc=0.8636, lr=0.0100\n",
      "78 epoch: train_loss=0.0017, train_acc=0.9167, test_loss=0.3281, test_acc=0.8914, valid_loss=0.3988, valid_acc=0.8692, lr=0.0100\n",
      "79 epoch: train_loss=0.0025, train_acc=0.7500, test_loss=0.3293, test_acc=0.8932, valid_loss=0.3737, valid_acc=0.8736, lr=0.0100\n",
      "80 epoch: train_loss=0.0011, train_acc=0.9167, test_loss=0.3198, test_acc=0.8959, valid_loss=0.3940, valid_acc=0.8680, lr=0.0100\n",
      "81 epoch: train_loss=0.0003, train_acc=0.9167, test_loss=0.3452, test_acc=0.8869, valid_loss=0.3966, valid_acc=0.8748, lr=0.0100\n",
      "82 epoch: train_loss=0.0018, train_acc=0.9167, test_loss=0.3218, test_acc=0.8939, valid_loss=0.3841, valid_acc=0.8688, lr=0.0100\n",
      "83 epoch: train_loss=0.0003, train_acc=1.0000, test_loss=0.3294, test_acc=0.8935, valid_loss=0.3667, valid_acc=0.8804, lr=0.0100\n",
      "84 epoch: train_loss=0.0007, train_acc=0.9167, test_loss=0.3414, test_acc=0.8897, valid_loss=0.3704, valid_acc=0.8740, lr=0.0100\n",
      "85 epoch: train_loss=0.0021, train_acc=0.8333, test_loss=0.3213, test_acc=0.8945, valid_loss=0.3973, valid_acc=0.8660, lr=0.0100\n",
      "86 epoch: train_loss=0.0004, train_acc=1.0000, test_loss=0.3242, test_acc=0.8949, valid_loss=0.3874, valid_acc=0.8700, lr=0.0100\n",
      "87 epoch: train_loss=0.0020, train_acc=0.6667, test_loss=0.3345, test_acc=0.8926, valid_loss=0.3778, valid_acc=0.8720, lr=0.0100\n",
      "88 epoch: train_loss=0.0010, train_acc=0.8333, test_loss=0.3548, test_acc=0.8870, valid_loss=0.3887, valid_acc=0.8752, lr=0.0100\n",
      "89 epoch: train_loss=0.0016, train_acc=0.7500, test_loss=0.3447, test_acc=0.8875, valid_loss=0.4029, valid_acc=0.8652, lr=0.0100\n",
      "90 epoch: train_loss=0.0005, train_acc=0.9167, test_loss=0.3431, test_acc=0.8898, valid_loss=0.3872, valid_acc=0.8672, lr=0.0100\n",
      "91 epoch: train_loss=0.0008, train_acc=0.8333, test_loss=0.3518, test_acc=0.8820, valid_loss=0.3839, valid_acc=0.8720, lr=0.0100\n",
      "92 epoch: train_loss=0.0001, train_acc=1.0000, test_loss=0.3349, test_acc=0.8900, valid_loss=0.3787, valid_acc=0.8740, lr=0.0100\n",
      "93 epoch: train_loss=0.0015, train_acc=0.6667, test_loss=0.3688, test_acc=0.8808, valid_loss=0.4055, valid_acc=0.8652, lr=0.0100\n",
      "94 epoch: train_loss=0.0017, train_acc=0.6667, test_loss=0.3258, test_acc=0.8923, valid_loss=0.3719, valid_acc=0.8800, lr=0.0100\n",
      "95 epoch: train_loss=0.0011, train_acc=0.9167, test_loss=0.3515, test_acc=0.8904, valid_loss=0.3924, valid_acc=0.8632, lr=0.0100\n",
      "96 epoch: train_loss=0.0010, train_acc=0.8333, test_loss=0.3419, test_acc=0.8930, valid_loss=0.3791, valid_acc=0.8692, lr=0.0100\n",
      "97 epoch: train_loss=0.0002, train_acc=1.0000, test_loss=0.3095, test_acc=0.9000, valid_loss=0.3957, valid_acc=0.8692, lr=0.0100\n",
      "98 epoch: train_loss=0.0002, train_acc=1.0000, test_loss=0.3096, test_acc=0.8997, valid_loss=0.3800, valid_acc=0.8680, lr=0.0100\n",
      "99 epoch: train_loss=0.0010, train_acc=0.9167, test_loss=0.3404, test_acc=0.8906, valid_loss=0.3841, valid_acc=0.8716, lr=0.0100\n",
      "100 epoch: train_loss=0.0012, train_acc=0.7500, test_loss=0.3287, test_acc=0.8940, valid_loss=0.3856, valid_acc=0.8664, lr=0.0100\n",
      "101 epoch: train_loss=0.0010, train_acc=0.8333, test_loss=0.3352, test_acc=0.8927, valid_loss=0.4058, valid_acc=0.8660, lr=0.0100\n",
      "102 epoch: train_loss=0.0000, train_acc=1.0000, test_loss=0.3413, test_acc=0.8921, valid_loss=0.3704, valid_acc=0.8844, lr=0.0100\n",
      "103 epoch: train_loss=0.0001, train_acc=1.0000, test_loss=0.3603, test_acc=0.8847, valid_loss=0.3952, valid_acc=0.8720, lr=0.0100\n",
      "104 epoch: train_loss=0.0011, train_acc=0.9167, test_loss=0.3344, test_acc=0.8935, valid_loss=0.4040, valid_acc=0.8596, lr=0.0100\n",
      "105 epoch: train_loss=0.0051, train_acc=0.6667, test_loss=0.3737, test_acc=0.8786, valid_loss=0.3827, valid_acc=0.8728, lr=0.0100\n",
      "106 epoch: train_loss=0.0008, train_acc=0.9167, test_loss=0.3646, test_acc=0.8843, valid_loss=0.4015, valid_acc=0.8664, lr=0.0100\n",
      "107 epoch: train_loss=0.0004, train_acc=0.9167, test_loss=0.3334, test_acc=0.8951, valid_loss=0.4066, valid_acc=0.8708, lr=0.0100\n",
      "108 epoch: train_loss=0.0012, train_acc=0.8333, test_loss=0.3306, test_acc=0.8938, valid_loss=0.3909, valid_acc=0.8724, lr=0.0100\n",
      "109 epoch: train_loss=0.0002, train_acc=1.0000, test_loss=0.3471, test_acc=0.8855, valid_loss=0.3939, valid_acc=0.8656, lr=0.0100\n",
      "110 epoch: train_loss=0.0004, train_acc=0.9167, test_loss=0.3292, test_acc=0.8915, valid_loss=0.3710, valid_acc=0.8768, lr=0.0100\n",
      "111 epoch: train_loss=0.0015, train_acc=0.7500, test_loss=0.3578, test_acc=0.8841, valid_loss=0.3764, valid_acc=0.8764, lr=0.0100\n",
      "112 epoch: train_loss=0.0030, train_acc=0.6667, test_loss=0.3889, test_acc=0.8784, valid_loss=0.4071, valid_acc=0.8628, lr=0.0100\n",
      "113 epoch: train_loss=0.0016, train_acc=0.8333, test_loss=0.3744, test_acc=0.8783, valid_loss=0.4074, valid_acc=0.8704, lr=0.0100\n",
      "114 epoch: train_loss=0.0013, train_acc=0.7500, test_loss=0.3830, test_acc=0.8779, valid_loss=0.3684, valid_acc=0.8756, lr=0.0100\n",
      "115 epoch: train_loss=0.0007, train_acc=0.9167, test_loss=0.3535, test_acc=0.8873, valid_loss=0.3817, valid_acc=0.8764, lr=0.0100\n",
      "116 epoch: train_loss=0.0001, train_acc=1.0000, test_loss=0.3246, test_acc=0.8961, valid_loss=0.4101, valid_acc=0.8624, lr=0.0100\n",
      "117 epoch: train_loss=0.0011, train_acc=0.8333, test_loss=0.3746, test_acc=0.8836, valid_loss=0.3728, valid_acc=0.8744, lr=0.0100\n",
      "118 epoch: train_loss=0.0018, train_acc=0.7500, test_loss=0.3447, test_acc=0.8912, valid_loss=0.3751, valid_acc=0.8780, lr=0.0010\n",
      "119 epoch: train_loss=0.0001, train_acc=1.0000, test_loss=0.3347, test_acc=0.8945, valid_loss=0.3840, valid_acc=0.8748, lr=0.0010\n",
      "120 epoch: train_loss=0.0006, train_acc=0.9167, test_loss=0.3340, test_acc=0.8929, valid_loss=0.3639, valid_acc=0.8792, lr=0.0010\n",
      "121 epoch: train_loss=0.0008, train_acc=0.8333, test_loss=0.3420, test_acc=0.8917, valid_loss=0.3479, valid_acc=0.8856, lr=0.0010\n",
      "122 epoch: train_loss=0.0014, train_acc=0.9167, test_loss=0.3266, test_acc=0.8977, valid_loss=0.3720, valid_acc=0.8824, lr=0.0010\n",
      "123 epoch: train_loss=0.0016, train_acc=0.7500, test_loss=0.3246, test_acc=0.8979, valid_loss=0.3664, valid_acc=0.8808, lr=0.0010\n",
      "124 epoch: train_loss=0.0012, train_acc=0.8333, test_loss=0.3102, test_acc=0.9029, valid_loss=0.3867, valid_acc=0.8792, lr=0.0010\n",
      "125 epoch: train_loss=0.0015, train_acc=0.7500, test_loss=0.3100, test_acc=0.9037, valid_loss=0.3830, valid_acc=0.8796, lr=0.0010\n",
      "126 epoch: train_loss=0.0004, train_acc=0.9167, test_loss=0.3144, test_acc=0.9027, valid_loss=0.3644, valid_acc=0.8800, lr=0.0010\n",
      "127 epoch: train_loss=0.0023, train_acc=0.7500, test_loss=0.3209, test_acc=0.9032, valid_loss=0.3933, valid_acc=0.8816, lr=0.0010\n",
      "128 epoch: train_loss=0.0026, train_acc=0.5833, test_loss=0.3337, test_acc=0.8975, valid_loss=0.3696, valid_acc=0.8804, lr=0.0010\n",
      "129 epoch: train_loss=0.0008, train_acc=0.9167, test_loss=0.3221, test_acc=0.8993, valid_loss=0.3784, valid_acc=0.8692, lr=0.0010\n",
      "130 epoch: train_loss=0.0008, train_acc=0.9167, test_loss=0.3215, test_acc=0.8985, valid_loss=0.3604, valid_acc=0.8804, lr=0.0010\n",
      "131 epoch: train_loss=0.0003, train_acc=0.9167, test_loss=0.3195, test_acc=0.9020, valid_loss=0.3680, valid_acc=0.8856, lr=0.0010\n",
      "132 epoch: train_loss=0.0011, train_acc=0.9167, test_loss=0.3105, test_acc=0.9043, valid_loss=0.3393, valid_acc=0.8828, lr=0.0010\n",
      "133 epoch: train_loss=0.0004, train_acc=0.9167, test_loss=0.3247, test_acc=0.8973, valid_loss=0.3722, valid_acc=0.8772, lr=0.0010\n",
      "134 epoch: train_loss=0.0009, train_acc=0.8333, test_loss=0.3265, test_acc=0.8987, valid_loss=0.3711, valid_acc=0.8804, lr=0.0010\n",
      "135 epoch: train_loss=0.0002, train_acc=1.0000, test_loss=0.3326, test_acc=0.8941, valid_loss=0.3338, valid_acc=0.8932, lr=0.0010\n",
      "136 epoch: train_loss=0.0007, train_acc=0.9167, test_loss=0.3222, test_acc=0.8971, valid_loss=0.3569, valid_acc=0.8840, lr=0.0010\n",
      "137 epoch: train_loss=0.0009, train_acc=0.8333, test_loss=0.3163, test_acc=0.9019, valid_loss=0.3361, valid_acc=0.8852, lr=0.0010\n",
      "138 epoch: train_loss=0.0003, train_acc=0.9167, test_loss=0.3144, test_acc=0.9013, valid_loss=0.3762, valid_acc=0.8756, lr=0.0010\n",
      "139 epoch: train_loss=0.0002, train_acc=1.0000, test_loss=0.3287, test_acc=0.8974, valid_loss=0.3854, valid_acc=0.8756, lr=0.0010\n",
      "140 epoch: train_loss=0.0000, train_acc=1.0000, test_loss=0.3144, test_acc=0.9038, valid_loss=0.3479, valid_acc=0.8892, lr=0.0010\n",
      "141 epoch: train_loss=0.0006, train_acc=0.9167, test_loss=0.3274, test_acc=0.8968, valid_loss=0.3914, valid_acc=0.8712, lr=0.0010\n",
      "142 epoch: train_loss=0.0010, train_acc=0.8333, test_loss=0.3261, test_acc=0.8995, valid_loss=0.3826, valid_acc=0.8760, lr=0.0010\n",
      "143 epoch: train_loss=0.0006, train_acc=0.9167, test_loss=0.3186, test_acc=0.9001, valid_loss=0.3767, valid_acc=0.8792, lr=0.0010\n",
      "144 epoch: train_loss=0.0002, train_acc=1.0000, test_loss=0.3140, test_acc=0.9030, valid_loss=0.3841, valid_acc=0.8768, lr=0.0010\n",
      "145 epoch: train_loss=0.0001, train_acc=1.0000, test_loss=0.3199, test_acc=0.8998, valid_loss=0.3514, valid_acc=0.8896, lr=0.0010\n",
      "146 epoch: train_loss=0.0005, train_acc=0.9167, test_loss=0.3197, test_acc=0.9005, valid_loss=0.3500, valid_acc=0.8864, lr=0.0010\n",
      "147 epoch: train_loss=0.0027, train_acc=0.7500, test_loss=0.3250, test_acc=0.8996, valid_loss=0.3703, valid_acc=0.8860, lr=0.0010\n",
      "148 epoch: train_loss=0.0002, train_acc=1.0000, test_loss=0.3267, test_acc=0.8984, valid_loss=0.3735, valid_acc=0.8784, lr=0.0010\n",
      "149 epoch: train_loss=0.0002, train_acc=1.0000, test_loss=0.3319, test_acc=0.8969, valid_loss=0.3759, valid_acc=0.8728, lr=0.0010\n",
      "150 epoch: train_loss=0.0004, train_acc=0.9167, test_loss=0.3240, test_acc=0.8983, valid_loss=0.3584, valid_acc=0.8836, lr=0.0010\n",
      "151 epoch: train_loss=0.0012, train_acc=0.9167, test_loss=0.3162, test_acc=0.9020, valid_loss=0.3649, valid_acc=0.8908, lr=0.0010\n",
      "152 epoch: train_loss=0.0000, train_acc=1.0000, test_loss=0.3233, test_acc=0.8991, valid_loss=0.3773, valid_acc=0.8784, lr=0.0010\n",
      "153 epoch: train_loss=0.0016, train_acc=0.9167, test_loss=0.3236, test_acc=0.8986, valid_loss=0.3854, valid_acc=0.8732, lr=0.0010\n",
      "154 epoch: train_loss=0.0007, train_acc=0.9167, test_loss=0.3242, test_acc=0.8986, valid_loss=0.3659, valid_acc=0.8800, lr=0.0010\n",
      "155 epoch: train_loss=0.0001, train_acc=1.0000, test_loss=0.3140, test_acc=0.9022, valid_loss=0.3780, valid_acc=0.8780, lr=0.0010\n",
      "156 epoch: train_loss=0.0006, train_acc=0.9167, test_loss=0.3109, test_acc=0.9044, valid_loss=0.3745, valid_acc=0.8880, lr=0.0010\n",
      "157 epoch: train_loss=0.0004, train_acc=0.9167, test_loss=0.3276, test_acc=0.8975, valid_loss=0.3661, valid_acc=0.8820, lr=0.0010\n",
      "158 epoch: train_loss=0.0005, train_acc=0.9167, test_loss=0.3189, test_acc=0.9009, valid_loss=0.3727, valid_acc=0.8808, lr=0.0010\n",
      "159 epoch: train_loss=0.0009, train_acc=0.8333, test_loss=0.3185, test_acc=0.9017, valid_loss=0.3593, valid_acc=0.8796, lr=0.0010\n",
      "160 epoch: train_loss=0.0007, train_acc=0.9167, test_loss=0.3195, test_acc=0.8993, valid_loss=0.3715, valid_acc=0.8804, lr=0.0010\n",
      "161 epoch: train_loss=0.0019, train_acc=0.7500, test_loss=0.3300, test_acc=0.8978, valid_loss=0.3733, valid_acc=0.8828, lr=0.0010\n",
      "162 epoch: train_loss=0.0002, train_acc=1.0000, test_loss=0.3249, test_acc=0.9016, valid_loss=0.3493, valid_acc=0.8908, lr=0.0010\n",
      "163 epoch: train_loss=0.0002, train_acc=1.0000, test_loss=0.3152, test_acc=0.9016, valid_loss=0.3587, valid_acc=0.8824, lr=0.0010\n",
      "164 epoch: train_loss=0.0006, train_acc=0.9167, test_loss=0.3213, test_acc=0.8994, valid_loss=0.3650, valid_acc=0.8836, lr=0.0010\n",
      "165 epoch: train_loss=0.0011, train_acc=0.7500, test_loss=0.3273, test_acc=0.8994, valid_loss=0.3394, valid_acc=0.8812, lr=0.0010\n",
      "166 epoch: train_loss=0.0004, train_acc=0.9167, test_loss=0.3186, test_acc=0.8982, valid_loss=0.3678, valid_acc=0.8864, lr=0.0010\n",
      "167 epoch: train_loss=0.0019, train_acc=0.8333, test_loss=0.3250, test_acc=0.8981, valid_loss=0.3699, valid_acc=0.8804, lr=0.0010\n",
      "168 epoch: train_loss=0.0001, train_acc=1.0000, test_loss=0.3410, test_acc=0.8947, valid_loss=0.3793, valid_acc=0.8732, lr=0.0010\n",
      "169 epoch: train_loss=0.0014, train_acc=0.9167, test_loss=0.3220, test_acc=0.8987, valid_loss=0.3583, valid_acc=0.8808, lr=0.0010\n",
      "170 epoch: train_loss=0.0017, train_acc=0.8333, test_loss=0.3218, test_acc=0.8995, valid_loss=0.3833, valid_acc=0.8728, lr=0.0010\n",
      "171 epoch: train_loss=0.0005, train_acc=0.9167, test_loss=0.3308, test_acc=0.8984, valid_loss=0.3736, valid_acc=0.8824, lr=0.0010\n",
      "172 epoch: train_loss=0.0010, train_acc=0.9167, test_loss=0.3375, test_acc=0.8981, valid_loss=0.3877, valid_acc=0.8788, lr=0.0010\n",
      "173 epoch: train_loss=0.0008, train_acc=0.8333, test_loss=0.3217, test_acc=0.9007, valid_loss=0.3658, valid_acc=0.8768, lr=0.0010\n",
      "174 epoch: train_loss=0.0000, train_acc=1.0000, test_loss=0.3270, test_acc=0.8978, valid_loss=0.3855, valid_acc=0.8744, lr=0.0010\n",
      "175 epoch: train_loss=0.0007, train_acc=0.9167, test_loss=0.3304, test_acc=0.8974, valid_loss=0.3611, valid_acc=0.8848, lr=0.0010\n",
      "176 epoch: train_loss=0.0009, train_acc=0.9167, test_loss=0.3230, test_acc=0.9004, valid_loss=0.3794, valid_acc=0.8728, lr=0.0010\n",
      "177 epoch: train_loss=0.0012, train_acc=0.9167, test_loss=0.3178, test_acc=0.8998, valid_loss=0.3733, valid_acc=0.8796, lr=0.0010\n",
      "178 epoch: train_loss=0.0033, train_acc=0.8333, test_loss=0.3388, test_acc=0.8964, valid_loss=0.3549, valid_acc=0.8868, lr=0.0010\n",
      "179 epoch: train_loss=0.0016, train_acc=0.9167, test_loss=0.3196, test_acc=0.9010, valid_loss=0.4012, valid_acc=0.8776, lr=0.0001\n",
      "180 epoch: train_loss=0.0007, train_acc=1.0000, test_loss=0.3309, test_acc=0.8972, valid_loss=0.3686, valid_acc=0.8836, lr=0.0001\n",
      "181 epoch: train_loss=0.0012, train_acc=0.8333, test_loss=0.3168, test_acc=0.9020, valid_loss=0.3680, valid_acc=0.8852, lr=0.0001\n",
      "182 epoch: train_loss=0.0007, train_acc=0.9167, test_loss=0.3443, test_acc=0.8920, valid_loss=0.3503, valid_acc=0.8868, lr=0.0001\n",
      "183 epoch: train_loss=0.0003, train_acc=1.0000, test_loss=0.3348, test_acc=0.8984, valid_loss=0.3603, valid_acc=0.8780, lr=0.0001\n",
      "184 epoch: train_loss=0.0006, train_acc=0.8333, test_loss=0.3342, test_acc=0.8966, valid_loss=0.3751, valid_acc=0.8732, lr=0.0001\n",
      "185 epoch: train_loss=0.0001, train_acc=1.0000, test_loss=0.3369, test_acc=0.8986, valid_loss=0.3594, valid_acc=0.8908, lr=0.0001\n",
      "186 epoch: train_loss=0.0011, train_acc=0.7500, test_loss=0.3278, test_acc=0.8997, valid_loss=0.3668, valid_acc=0.8816, lr=0.0001\n",
      "187 epoch: train_loss=0.0004, train_acc=1.0000, test_loss=0.3365, test_acc=0.8957, valid_loss=0.3711, valid_acc=0.8816, lr=0.0001\n",
      "188 epoch: train_loss=0.0006, train_acc=0.9167, test_loss=0.3243, test_acc=0.9000, valid_loss=0.3770, valid_acc=0.8752, lr=0.0001\n",
      "189 epoch: train_loss=0.0006, train_acc=0.9167, test_loss=0.3191, test_acc=0.9001, valid_loss=0.3487, valid_acc=0.8892, lr=0.0001\n",
      "190 epoch: train_loss=0.0000, train_acc=1.0000, test_loss=0.3286, test_acc=0.8975, valid_loss=0.4003, valid_acc=0.8752, lr=0.0001\n",
      "191 epoch: train_loss=0.0005, train_acc=0.9167, test_loss=0.3308, test_acc=0.8997, valid_loss=0.3716, valid_acc=0.8848, lr=0.0001\n",
      "192 epoch: train_loss=0.0003, train_acc=0.9167, test_loss=0.3250, test_acc=0.8993, valid_loss=0.3830, valid_acc=0.8792, lr=0.0001\n",
      "193 epoch: train_loss=0.0000, train_acc=1.0000, test_loss=0.3260, test_acc=0.8978, valid_loss=0.3739, valid_acc=0.8824, lr=0.0001\n",
      "194 epoch: train_loss=0.0015, train_acc=0.8333, test_loss=0.3202, test_acc=0.9014, valid_loss=0.3760, valid_acc=0.8808, lr=0.0001\n",
      "195 epoch: train_loss=0.0015, train_acc=0.8333, test_loss=0.3210, test_acc=0.8991, valid_loss=0.3464, valid_acc=0.8836, lr=0.0001\n",
      "196 epoch: train_loss=0.0010, train_acc=0.7500, test_loss=0.3188, test_acc=0.9011, valid_loss=0.3953, valid_acc=0.8808, lr=0.0001\n",
      "197 epoch: train_loss=0.0004, train_acc=0.9167, test_loss=0.3206, test_acc=0.8992, valid_loss=0.3597, valid_acc=0.8828, lr=0.0001\n",
      "198 epoch: train_loss=0.0004, train_acc=0.9167, test_loss=0.3350, test_acc=0.8949, valid_loss=0.3598, valid_acc=0.8836, lr=0.0001\n",
      "199 epoch: train_loss=0.0012, train_acc=0.9167, test_loss=0.3301, test_acc=0.8983, valid_loss=0.3778, valid_acc=0.8800, lr=0.0001\n",
      "200 epoch: train_loss=0.0013, train_acc=0.8333, test_loss=0.3312, test_acc=0.8980, valid_loss=0.3886, valid_acc=0.8740, lr=0.0001\n",
      "201 epoch: train_loss=0.0010, train_acc=0.8333, test_loss=0.3373, test_acc=0.8957, valid_loss=0.3474, valid_acc=0.8868, lr=0.0001\n",
      "202 epoch: train_loss=0.0018, train_acc=0.8333, test_loss=0.3294, test_acc=0.8955, valid_loss=0.3846, valid_acc=0.8776, lr=0.0001\n",
      "203 epoch: train_loss=0.0015, train_acc=0.9167, test_loss=0.3266, test_acc=0.8999, valid_loss=0.3562, valid_acc=0.8872, lr=0.0001\n",
      "204 epoch: train_loss=0.0008, train_acc=0.8333, test_loss=0.3319, test_acc=0.8953, valid_loss=0.3692, valid_acc=0.8800, lr=0.0001\n",
      "205 epoch: train_loss=0.0001, train_acc=1.0000, test_loss=0.3334, test_acc=0.8953, valid_loss=0.3762, valid_acc=0.8768, lr=0.0001\n"
     ]
    }
   ],
   "source": [
    "view.print_all()"
   ]
  },
  {
   "cell_type": "code",
   "execution_count": null,
   "metadata": {},
   "outputs": [],
   "source": [
    "# CHECK = 5410\n",
    "# logs[\"train_loss\"] = logs[\"train_loss\"][:CHECK]\n",
    "# logs[\"train_acc\"] = logs[\"train_acc\"][:CHECK]\n",
    "# logs[\"valid_loss\"] = logs[\"valid_loss\"][:CHECK]\n",
    "# logs[\"valid_acc\"] = logs[\"valid_acc\"][:CHECK]\n",
    "# logs[\"test_loss\"] = logs[\"test_loss\"][:CHECK]\n",
    "# logs[\"test_acc\"] = logs[\"test_acc\"][:CHECK]\n",
    "# model.load_state_dict(torch.load(f\"models/{file_path}.pth\"))"
   ]
  }
 ],
 "metadata": {
  "kernelspec": {
   "display_name": "base",
   "language": "python",
   "name": "python3"
  },
  "language_info": {
   "codemirror_mode": {
    "name": "ipython",
    "version": 3
   },
   "file_extension": ".py",
   "mimetype": "text/x-python",
   "name": "python",
   "nbconvert_exporter": "python",
   "pygments_lexer": "ipython3",
   "version": "3.11.5"
  }
 },
 "nbformat": 4,
 "nbformat_minor": 2
}
