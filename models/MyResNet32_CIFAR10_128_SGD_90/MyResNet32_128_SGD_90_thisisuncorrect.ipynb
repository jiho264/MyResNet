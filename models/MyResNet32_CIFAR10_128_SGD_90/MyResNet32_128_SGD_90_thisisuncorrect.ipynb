{
 "cells": [
  {
   "cell_type": "markdown",
   "metadata": {},
   "source": [
    "# Import"
   ]
  },
  {
   "cell_type": "code",
   "execution_count": 20,
   "metadata": {},
   "outputs": [],
   "source": [
    "import torch\n",
    "from torch import nn\n",
    "from torch.optim.lr_scheduler import ReduceLROnPlateau, MultiStepLR\n",
    "from torch.utils.data import DataLoader\n",
    "from fvcore.nn import FlopCountAnalysis, flop_count_table\n",
    "import numpy as np\n",
    "import matplotlib.pyplot as plt\n",
    "import sys, os\n",
    "\n",
    "sys.path.append(os.path.dirname(os.path.abspath(os.path.dirname(\"src\"))))\n",
    "\n",
    "from src.Mydataloader import LoadDataset\n",
    "from src.Mymodel import MyResNet34\n",
    "from src.Mymodel import MyResNet_CIFAR\n",
    "from src.Mytraining import DoTraining\n",
    "from src.Earlystopper import EarlyStopper\n",
    "from src.LogViewer import LogViewer"
   ]
  },
  {
   "cell_type": "markdown",
   "metadata": {},
   "source": [
    "# Setup"
   ]
  },
  {
   "cell_type": "code",
   "execution_count": 21,
   "metadata": {},
   "outputs": [],
   "source": [
    "\"\"\"Dataset selection\"\"\"\n",
    "DATASET = \"CIFAR10\"\n",
    "# DATASET = \"CIFAR100\"\n",
    "# DATASET = \"ImageNet2012\"\n",
    "\n",
    "\"\"\"Model selection for CIFAR\"\"\"\n",
    "NUM_LAYERS_LEVEL = 5\n",
    "\n",
    "\"\"\"Dataset parameters\"\"\"\n",
    "BATCH = 128\n",
    "SHUFFLE = True\n",
    "NUMOFWORKERS = 8\n",
    "PIN_MEMORY = True\n",
    "SPLIT_RATIO = 0.9\n",
    "\n",
    "\"\"\"optimizer parameters\"\"\"\n",
    "OPTIMIZER = \"SGD\"\n",
    "# OPTIMIZER = \"Adam\"\n",
    "# OPTIMIZER = \"Adam_decay\"\n",
    "\n",
    "\"\"\"Learning rate scheduler parameters\"\"\"\n",
    "NUM_EPOCHS = 1000\n",
    "# SCHEDULER_PARIENCE = 50\n",
    "# COOLDOWN = 50\n",
    "\n",
    "\"\"\"Early stopping parameters\"\"\"\n",
    "EARLYSTOPPINGPATIENCE = 50\n",
    "file_path = \"\"\n",
    "if DATASET == \"ImageNet2012\":\n",
    "    file_path = f\"MyResNet34_{BATCH}_{OPTIMIZER}\"\n",
    "else:\n",
    "    file_path = f\"MyResNet{NUM_LAYERS_LEVEL*6+2}_{BATCH}_{OPTIMIZER}\"\n",
    "\n",
    "if SPLIT_RATIO != 0:\n",
    "    file_path += f\"_{int(SPLIT_RATIO*100)}\""
   ]
  },
  {
   "cell_type": "code",
   "execution_count": 22,
   "metadata": {},
   "outputs": [
    {
     "data": {
      "text/plain": [
       "'MyResNet32_128_SGD_90'"
      ]
     },
     "execution_count": 22,
     "metadata": {},
     "output_type": "execute_result"
    }
   ],
   "source": [
    "file_path"
   ]
  },
  {
   "cell_type": "markdown",
   "metadata": {},
   "source": [
    "# Loading the dataset"
   ]
  },
  {
   "cell_type": "markdown",
   "metadata": {},
   "source": [
    "## Define Dateloader"
   ]
  },
  {
   "cell_type": "code",
   "execution_count": 23,
   "metadata": {},
   "outputs": [
    {
     "name": "stdout",
     "output_type": "stream",
     "text": [
      "-----------------------------------------------------------------------\n",
      "Dataset :  CIFAR10\n",
      "- Length of Train Set :  45000\n",
      "- Length of Valid Set :  5000\n",
      "- Length of Test Set :  10000\n",
      "- Count of Classes :  10\n",
      "-----------------------------------------------------------------------\n"
     ]
    }
   ],
   "source": [
    "tmp = LoadDataset(root=\"../../data\", seceted_dataset=DATASET, split_ratio=SPLIT_RATIO)\n",
    "train_data, valid_data, test_data, COUNT_OF_CLASSES = tmp.Unpack()"
   ]
  },
  {
   "cell_type": "code",
   "execution_count": 24,
   "metadata": {},
   "outputs": [
    {
     "name": "stdout",
     "output_type": "stream",
     "text": [
      "train.transforms = Compose(\n",
      "      AutoAugment(interpolation=InterpolationMode.NEAREST, policy=AutoAugmentPolicy.CIFAR10)\n",
      "      RandomCrop(size=(32, 32), padding=[4, 4, 4, 4], pad_if_needed=False, fill=0, padding_mode=constant)\n",
      "      RandomHorizontalFlip(p=0.5)\n",
      "      ToTensor()\n",
      "      Normalize(mean=[0.49139968, 0.48215827, 0.44653124], std=[1, 1, 1], inplace=True)\n",
      ") 128\n",
      "valid.transforms = ToTensor() 128\n",
      "test.transforms = ToTensor() 128\n"
     ]
    }
   ],
   "source": [
    "\n",
    "train_dataloader = DataLoader(\n",
    "    train_data,\n",
    "    batch_size=BATCH,\n",
    "    shuffle=SHUFFLE,\n",
    "    num_workers=NUMOFWORKERS,\n",
    "    pin_memory=PIN_MEMORY,\n",
    "    # pin_memory_device=\"cuda\",\n",
    "    persistent_workers=True,\n",
    ")\n",
    "print(\"train.transforms =\", train_data.transform, train_dataloader.batch_size)\n",
    "\n",
    "if valid_data is not None:\n",
    "    valid_dataloader = DataLoader(\n",
    "        valid_data,\n",
    "        batch_size=BATCH,\n",
    "        shuffle=SHUFFLE,\n",
    "        num_workers=NUMOFWORKERS,\n",
    "        pin_memory=PIN_MEMORY,\n",
    "        # pin_memory_device=\"cuda\",\n",
    "        persistent_workers=True,\n",
    "    )\n",
    "    print(\"valid.transforms =\", valid_data.transform, valid_dataloader.batch_size)\n",
    "else:\n",
    "    valid_dataloader = None\n",
    "\n",
    "if test_data is not None:\n",
    "    test_dataloader = DataLoader(\n",
    "        test_data,\n",
    "        batch_size=BATCH,\n",
    "        shuffle=SHUFFLE,\n",
    "        num_workers=NUMOFWORKERS,\n",
    "        pin_memory=PIN_MEMORY,\n",
    "        # pin_memory_device=\"cuda\",\n",
    "        persistent_workers=True,\n",
    "    )\n",
    "    print(\"test.transforms =\", test_data.transform, test_dataloader.batch_size)\n",
    "else:\n",
    "    test_dataloader = None"
   ]
  },
  {
   "cell_type": "markdown",
   "metadata": {},
   "source": [
    "## Confirm that the dataset is loaded properly"
   ]
  },
  {
   "cell_type": "code",
   "execution_count": 25,
   "metadata": {},
   "outputs": [
    {
     "name": "stdout",
     "output_type": "stream",
     "text": [
      "Shape of X [N, C, H, W]: torch.Size([128, 3, 32, 32])\n",
      "mean of X tensor([0.4958, 0.4878, 0.4506])\n",
      "Shape of y: torch.Size([128]) torch.int64\n"
     ]
    },
    {
     "data": {
      "image/png": "[encoded data removed]",
      "text/plain": [
       "<Figure size 800x400 with 10 Axes>"
      ]
     },
     "metadata": {},
     "output_type": "display_data"
    }
   ],
   "source": [
    "if test_data is not None:\n",
    "    for X, y in test_dataloader:\n",
    "        print(f\"Shape of X [N, C, H, W]: {X.shape}\")\n",
    "        print(\"mean of X\", X.mean(dim=(0, 2, 3)))\n",
    "        print(f\"Shape of y: {y.shape} {y.dtype}\")\n",
    "        break\n",
    "    \n",
    "    class_names = test_dataloader.dataset.classes\n",
    "    count = 0\n",
    "    fig, axs = plt.subplots(2, 5, figsize=(8, 4))\n",
    "\n",
    "    for images, labels in test_dataloader:\n",
    "        images = images.numpy()\n",
    "\n",
    "        for i in range(len(images)):\n",
    "            image = images[i]\n",
    "            label = labels[i]\n",
    "            image = np.transpose(image, (1, 2, 0))\n",
    "            image = np.clip(image, 0, 1)\n",
    "            ax = axs[count // 5, count % 5]\n",
    "            ax.imshow(image)\n",
    "            ax.set_title(f\"{class_names[label], label}\")\n",
    "            ax.axis(\"off\")\n",
    "            count += 1\n",
    "\n",
    "            if count == 10:\n",
    "                break\n",
    "        if count == 10:\n",
    "            break\n",
    "    plt.tight_layout()\n",
    "    plt.show()"
   ]
  },
  {
   "cell_type": "markdown",
   "metadata": {},
   "source": [
    "# Define ResNet"
   ]
  },
  {
   "cell_type": "markdown",
   "metadata": {},
   "source": [
    "## Model Confirm"
   ]
  },
  {
   "cell_type": "code",
   "execution_count": 26,
   "metadata": {},
   "outputs": [
    {
     "data": {
      "text/plain": [
       "device(type='cuda')"
      ]
     },
     "execution_count": 26,
     "metadata": {},
     "output_type": "execute_result"
    }
   ],
   "source": [
    "device = torch.device(\"cuda\" if torch.cuda.is_available() else \"cpu\")\n",
    "device"
   ]
  },
  {
   "cell_type": "code",
   "execution_count": 27,
   "metadata": {},
   "outputs": [
    {
     "name": "stdout",
     "output_type": "stream",
     "text": [
      "ResNet-32 for CIFAR10 is loaded.\n"
     ]
    }
   ],
   "source": [
    "if DATASET == \"CIFAR10\" or DATASET == \"CIFAR100\":\n",
    "    \"\"\"ResNet{20, 32, 44, 56, 110, 1202} for CIFAR\"\"\"\n",
    "    model = MyResNet_CIFAR(\n",
    "        num_classes=COUNT_OF_CLASSES,\n",
    "        num_layer_factor=NUM_LAYERS_LEVEL,\n",
    "        Downsample_option=\"A\",\n",
    "    ).to(device)\n",
    "    print(f\"ResNet-{5*6+2} for {DATASET} is loaded.\")\n",
    "\n",
    "elif DATASET == \"ImageNet2012\":\n",
    "    \"\"\"ResNet34 for ImageNet 2012\"\"\"\n",
    "    model = MyResNet34(\n",
    "        num_classes=COUNT_OF_CLASSES, \n",
    "        Downsample_option=\"A\"\n",
    "    ).to(device)\n",
    "    # model = models.resnet34(pretrained=True).to(device)\n",
    "    # model = models.resnet34(pretrained=False).to(device)\n",
    "    print(f\"ResNet-34 for {DATASET} is loaded.\")\n"
   ]
  },
  {
   "cell_type": "code",
   "execution_count": 28,
   "metadata": {},
   "outputs": [],
   "source": [
    "# model.named_modules"
   ]
  },
  {
   "cell_type": "code",
   "execution_count": 29,
   "metadata": {},
   "outputs": [],
   "source": [
    "# tmp_input = torch.rand(BATCH, 3, 32, 32).to(device)\n",
    "# flops = FlopCountAnalysis(model, tmp_input)\n",
    "# print(flop_count_table(flops))"
   ]
  },
  {
   "cell_type": "markdown",
   "metadata": {},
   "source": [
    "# Define Training"
   ]
  },
  {
   "cell_type": "markdown",
   "metadata": {},
   "source": [
    "## (1) Define Criterion"
   ]
  },
  {
   "cell_type": "code",
   "execution_count": 30,
   "metadata": {},
   "outputs": [],
   "source": [
    "criterion = nn.CrossEntropyLoss()"
   ]
  },
  {
   "cell_type": "markdown",
   "metadata": {},
   "source": [
    "## (2) Define Optimazer"
   ]
  },
  {
   "cell_type": "code",
   "execution_count": 31,
   "metadata": {},
   "outputs": [],
   "source": [
    "if OPTIMIZER == \"Adam\":\n",
    "    optimizer = torch.optim.Adam(model.parameters())\n",
    "elif OPTIMIZER == \"Adam_decay\":\n",
    "    optimizer = torch.optim.Adam(model.parameters(), weight_decay=1e-4)\n",
    "elif OPTIMIZER == \"SGD\":\n",
    "    optimizer = torch.optim.SGD(\n",
    "        model.parameters(), lr=0.1, momentum=0.9, weight_decay=0.0001\n",
    "    )"
   ]
  },
  {
   "cell_type": "markdown",
   "metadata": {},
   "source": [
    "## (3) Define Early Stopping"
   ]
  },
  {
   "cell_type": "code",
   "execution_count": 32,
   "metadata": {},
   "outputs": [],
   "source": [
    "earlystopper = EarlyStopper(patience=EARLYSTOPPINGPATIENCE, model=model, file_path=file_path)"
   ]
  },
  {
   "cell_type": "markdown",
   "metadata": {},
   "source": [
    "## (4) Define Learning Rate schedualer"
   ]
  },
  {
   "cell_type": "code",
   "execution_count": 33,
   "metadata": {},
   "outputs": [
    {
     "data": {
      "text/plain": [
       "'\\n=======================================================\\nif batch = 256\\n=======================================================\\nnon-split [single epoch = 196 iter] : milestones = [164, 246]\\n- 1 ~ 164 epochs == 1 ~ 32k iter >> lr = 0.1\\n- 165~246 epochs == 32k ~ 48k iter >> lr = 0.01\\n- 247~328(?) epochs == 48k ~ 64k iter >> lr = 0.001\\n=======================================================\\nsplit to 45k/5k [single epoch = 176 iter]: milestones = [182, 273]\\n- 1~182 epochs == 1 ~ 32k iter >> lr = 0.1\\n- 182~273 epochs == 32k ~ 48k iter >> lr = 0.01\\n- 273~364(?) epochs == 48k ~ 64k iter >> lr = 0.001\\n=======================================================\\nif batch = 128\\n=======================================================\\nnon-split [signle epoch = 391 iter]: milestones = [82, 123]\\n- 1 ~ 82 epochs == 1 ~ 32k iter >> lr = 0.1\\n- 83~123 epochs == 32k ~ 48k iter >> lr = 0.01\\n- 124~(164) epochs == 48k ~ 64k iter >> lr = 0.001\\n=======================================================\\nsplit to 45k/5k [signle epoch = 352 iter]: milestones = [91, 137]\\n- 1~91 epochs == 1 ~ 32k iter >> lr = 0.1\\n- 92~137 epochs == 32k ~ 48k iter >> lr = 0.01\\n- 138~(183) epochs == 48k ~ 64k iter >> lr = 0.001\\n=======================================================\\n'"
      ]
     },
     "execution_count": 33,
     "metadata": {},
     "output_type": "execute_result"
    }
   ],
   "source": [
    "# scheduler = ReduceLROnPlateau(\n",
    "#     optimizer,\n",
    "#     mode=\"min\",\n",
    "#     patience=SCHEDULER_PARIENCE,\n",
    "#     factor=0.1,\n",
    "#     verbose=True,\n",
    "#     threshold=1e-4,\n",
    "#     cooldown=COOLDOWN,\n",
    "# )\n",
    "\n",
    "scheduler = MultiStepLR(optimizer, milestones=[91, 137], gamma=0.1)\n",
    "\"\"\"\n",
    "=======================================================\n",
    "if batch = 256\n",
    "=======================================================\n",
    "non-split [single epoch = 196 iter] : milestones = [164, 246]\n",
    "- 1 ~ 164 epochs == 1 ~ 32k iter >> lr = 0.1\n",
    "- 165~246 epochs == 32k ~ 48k iter >> lr = 0.01\n",
    "- 247~328(?) epochs == 48k ~ 64k iter >> lr = 0.001\n",
    "=======================================================\n",
    "split to 45k/5k [single epoch = 176 iter]: milestones = [182, 273]\n",
    "- 1~182 epochs == 1 ~ 32k iter >> lr = 0.1\n",
    "- 182~273 epochs == 32k ~ 48k iter >> lr = 0.01\n",
    "- 273~364(?) epochs == 48k ~ 64k iter >> lr = 0.001\n",
    "=======================================================\n",
    "if batch = 128\n",
    "=======================================================\n",
    "non-split [signle epoch = 391 iter]: milestones = [82, 123]\n",
    "- 1 ~ 82 epochs == 1 ~ 32k iter >> lr = 0.1\n",
    "- 83~123 epochs == 32k ~ 48k iter >> lr = 0.01\n",
    "- 124~(164) epochs == 48k ~ 64k iter >> lr = 0.001\n",
    "=======================================================\n",
    "split to 45k/5k [signle epoch = 352 iter]: milestones = [91, 137]\n",
    "- 1~91 epochs == 1 ~ 32k iter >> lr = 0.1\n",
    "- 92~137 epochs == 32k ~ 48k iter >> lr = 0.01\n",
    "- 138~(183) epochs == 48k ~ 64k iter >> lr = 0.001\n",
    "=======================================================\n",
    "\"\"\""
   ]
  },
  {
   "cell_type": "markdown",
   "metadata": {},
   "source": [
    "## (5) Define AMP scaler"
   ]
  },
  {
   "cell_type": "code",
   "execution_count": 34,
   "metadata": {},
   "outputs": [],
   "source": [
    "scaler = torch.cuda.amp.GradScaler(enabled=True)"
   ]
  },
  {
   "cell_type": "markdown",
   "metadata": {},
   "source": [
    "## Load before process"
   ]
  },
  {
   "cell_type": "code",
   "execution_count": 35,
   "metadata": {},
   "outputs": [
    {
     "name": "stdout",
     "output_type": "stream",
     "text": [
      "Suceessfully loaded the All setting and Log file.\n",
      "MyResNet32_128_SGD_90\n",
      "Current epoch is 23\n",
      "Current learning rate: 0.1\n"
     ]
    }
   ],
   "source": [
    "if os.path.exists(file_path + \".pth.tar\"):\n",
    "    # Read checkpoint as desired, e.g.,\n",
    "    checkpoint = torch.load(\n",
    "        file_path + \".pth.tar\",\n",
    "        map_location=lambda storage, loc: storage.cuda(device),\n",
    "    )\n",
    "    model.load_state_dict(checkpoint[\"model\"])\n",
    "    optimizer.load_state_dict(checkpoint[\"optimizer\"])\n",
    "    scaler.load_state_dict(checkpoint[\"scaler\"])\n",
    "    scheduler.load_state_dict(checkpoint[\"scheduler\"])\n",
    "    earlystopper.load_state_dict(checkpoint[\"earlystopper\"])\n",
    "    logs = checkpoint[\"logs\"]\n",
    "\n",
    "    print(\"Suceessfully loaded the All setting and Log file.\")\n",
    "    print(file_path)\n",
    "    print(f\"Current epoch is {len(logs['train_loss'])}\")\n",
    "    print(f\"Current learning rate: {optimizer.param_groups[0]['lr']}\")\n",
    "else:\n",
    "    # Create a dictionary to store the variables\n",
    "    train_loss = []\n",
    "    train_acc = []\n",
    "    eval_loss = []\n",
    "    valid_acc = []\n",
    "    test_loss = []\n",
    "    test_acc = []\n",
    "    lr_log = []\n",
    "    logs = {\n",
    "        \"train_loss\": train_loss,\n",
    "        \"train_acc\": train_acc,\n",
    "        \"valid_loss\": eval_loss,\n",
    "        \"valid_acc\": valid_acc,\n",
    "        \"test_loss\": test_loss,\n",
    "        \"test_acc\": test_acc,\n",
    "        \"lr_log\": lr_log,\n",
    "    }\n",
    "    print(\"File does not exist. Created a new log.\")"
   ]
  },
  {
   "cell_type": "code",
   "execution_count": 36,
   "metadata": {},
   "outputs": [
    {
     "data": {
      "text/plain": [
       "0.1"
      ]
     },
     "execution_count": 36,
     "metadata": {},
     "output_type": "execute_result"
    }
   ],
   "source": [
    "optimizer.param_groups[0][\"lr\"]"
   ]
  },
  {
   "cell_type": "markdown",
   "metadata": {},
   "source": [
    "# [Training Loop]"
   ]
  },
  {
   "cell_type": "code",
   "execution_count": 37,
   "metadata": {},
   "outputs": [],
   "source": [
    "if valid_data is None:\n",
    "    valid_dataloader = None\n",
    "if test_data is None:\n",
    "    test_dataloader = None"
   ]
  },
  {
   "cell_type": "code",
   "execution_count": 38,
   "metadata": {},
   "outputs": [
    {
     "name": "stdout",
     "output_type": "stream",
     "text": [
      "[Epoch 24/1000] :\n"
     ]
    },
    {
     "name": "stderr",
     "output_type": "stream",
     "text": [
      "train: 100%|██████████| 352/352 [00:28<00:00, 12.51it/s]"
     ]
    },
    {
     "name": "stdout",
     "output_type": "stream",
     "text": [
      "Train Loss: 0.0015 | Train Acc: 79.17%\n"
     ]
    },
    {
     "name": "stderr",
     "output_type": "stream",
     "text": [
      "\n"
     ]
    },
    {
     "name": "stdout",
     "output_type": "stream",
     "text": [
      "Valid Loss: 0.6198 | Valid Acc: 78.06%\n",
      "Test  Loss: 0.6701 | Test Acc: 77.39%\n",
      "updated best eval loss : 0.619845949858427\n",
      "--------------------------------------------------\n",
      "[Epoch 25/1000] :\n"
     ]
    },
    {
     "name": "stderr",
     "output_type": "stream",
     "text": [
      "train:  72%|███████▏  | 255/352 [00:20<00:07, 12.48it/s]\n"
     ]
    },
    {
     "ename": "KeyboardInterrupt",
     "evalue": "",
     "output_type": "error",
     "traceback": [
      "\u001b[0;31m---------------------------------------------------------------------------\u001b[0m",
      "\u001b[0;31mKeyboardInterrupt\u001b[0m                         Traceback (most recent call last)",
      "Cell \u001b[0;32mIn[38], line 21\u001b[0m\n\u001b[1;32m     19\u001b[0m     eval_loss \u001b[38;5;241m=\u001b[39m Training\u001b[38;5;241m.\u001b[39mSingleEpoch(train_dataloader, valid_dataloader)\n\u001b[1;32m     20\u001b[0m \u001b[38;5;28;01melse\u001b[39;00m:\n\u001b[0;32m---> 21\u001b[0m     eval_loss \u001b[38;5;241m=\u001b[39m Training\u001b[38;5;241m.\u001b[39mSingleEpoch(\n\u001b[1;32m     22\u001b[0m         train_dataloader, valid_dataloader, test_dataloader\n\u001b[1;32m     23\u001b[0m     )\n\u001b[1;32m     25\u001b[0m Training\u001b[38;5;241m.\u001b[39mSave()\n\u001b[1;32m     27\u001b[0m \u001b[38;5;28;01mif\u001b[39;00m earlystopper\u001b[38;5;241m.\u001b[39mcheck(eval_loss) \u001b[38;5;241m==\u001b[39m \u001b[38;5;28;01mTrue\u001b[39;00m:\n",
      "File \u001b[0;32m~/Desktop/MyResNet/models/src/Mytraining.py:111\u001b[0m, in \u001b[0;36mDoTraining.SingleEpoch\u001b[0;34m(self, train_dataloader, valid_dataloader, test_dataloader)\u001b[0m\n\u001b[1;32m    108\u001b[0m \u001b[38;5;28;01mif\u001b[39;00m valid_dataloader \u001b[38;5;241m==\u001b[39m \u001b[38;5;28;01mNone\u001b[39;00m \u001b[38;5;129;01mand\u001b[39;00m test_dataloader \u001b[38;5;241m==\u001b[39m \u001b[38;5;28;01mNone\u001b[39;00m:\n\u001b[1;32m    109\u001b[0m     \u001b[38;5;28;01mraise\u001b[39;00m \u001b[38;5;167;01mValueError\u001b[39;00m(\u001b[38;5;124m\"\u001b[39m\u001b[38;5;124mNo any valid/test dataloader\u001b[39m\u001b[38;5;124m\"\u001b[39m)\n\u001b[0;32m--> 111\u001b[0m train_loss, train_acc \u001b[38;5;241m=\u001b[39m \u001b[38;5;28mself\u001b[39m\u001b[38;5;241m.\u001b[39mForward_train(train_dataloader)\n\u001b[1;32m    112\u001b[0m \u001b[38;5;28mself\u001b[39m\u001b[38;5;241m.\u001b[39mlogs[\u001b[38;5;124m\"\u001b[39m\u001b[38;5;124mtrain_loss\u001b[39m\u001b[38;5;124m\"\u001b[39m]\u001b[38;5;241m.\u001b[39mappend(train_loss)\n\u001b[1;32m    113\u001b[0m \u001b[38;5;28mself\u001b[39m\u001b[38;5;241m.\u001b[39mlogs[\u001b[38;5;124m\"\u001b[39m\u001b[38;5;124mtrain_acc\u001b[39m\u001b[38;5;124m\"\u001b[39m]\u001b[38;5;241m.\u001b[39mappend(train_acc)\n",
      "File \u001b[0;32m~/Desktop/MyResNet/models/src/Mytraining.py:38\u001b[0m, in \u001b[0;36mDoTraining.Forward_train\u001b[0;34m(self, dataloader)\u001b[0m\n\u001b[1;32m     36\u001b[0m     images, labels \u001b[38;5;241m=\u001b[39m images\u001b[38;5;241m.\u001b[39mto(\u001b[38;5;28mself\u001b[39m\u001b[38;5;241m.\u001b[39mdevice), labels\u001b[38;5;241m.\u001b[39mto(\u001b[38;5;28mself\u001b[39m\u001b[38;5;241m.\u001b[39mdevice)\n\u001b[1;32m     37\u001b[0m     \u001b[38;5;28mself\u001b[39m\u001b[38;5;241m.\u001b[39moptimizer\u001b[38;5;241m.\u001b[39mzero_grad()\n\u001b[0;32m---> 38\u001b[0m     outputs \u001b[38;5;241m=\u001b[39m \u001b[38;5;28mself\u001b[39m\u001b[38;5;241m.\u001b[39mmodel(images)\n\u001b[1;32m     39\u001b[0m     loss \u001b[38;5;241m=\u001b[39m \u001b[38;5;28mself\u001b[39m\u001b[38;5;241m.\u001b[39mcriterion(outputs, labels)\n\u001b[1;32m     41\u001b[0m \u001b[38;5;28mself\u001b[39m\u001b[38;5;241m.\u001b[39mscaler\u001b[38;5;241m.\u001b[39mscale(loss)\u001b[38;5;241m.\u001b[39mbackward()\n",
      "File \u001b[0;32m~/anaconda3/lib/python3.11/site-packages/torch/nn/modules/module.py:1518\u001b[0m, in \u001b[0;36mModule._wrapped_call_impl\u001b[0;34m(self, *args, **kwargs)\u001b[0m\n\u001b[1;32m   1516\u001b[0m     \u001b[38;5;28;01mreturn\u001b[39;00m \u001b[38;5;28mself\u001b[39m\u001b[38;5;241m.\u001b[39m_compiled_call_impl(\u001b[38;5;241m*\u001b[39margs, \u001b[38;5;241m*\u001b[39m\u001b[38;5;241m*\u001b[39mkwargs)  \u001b[38;5;66;03m# type: ignore[misc]\u001b[39;00m\n\u001b[1;32m   1517\u001b[0m \u001b[38;5;28;01melse\u001b[39;00m:\n\u001b[0;32m-> 1518\u001b[0m     \u001b[38;5;28;01mreturn\u001b[39;00m \u001b[38;5;28mself\u001b[39m\u001b[38;5;241m.\u001b[39m_call_impl(\u001b[38;5;241m*\u001b[39margs, \u001b[38;5;241m*\u001b[39m\u001b[38;5;241m*\u001b[39mkwargs)\n",
      "File \u001b[0;32m~/anaconda3/lib/python3.11/site-packages/torch/nn/modules/module.py:1527\u001b[0m, in \u001b[0;36mModule._call_impl\u001b[0;34m(self, *args, **kwargs)\u001b[0m\n\u001b[1;32m   1522\u001b[0m \u001b[38;5;66;03m# If we don't have any hooks, we want to skip the rest of the logic in\u001b[39;00m\n\u001b[1;32m   1523\u001b[0m \u001b[38;5;66;03m# this function, and just call forward.\u001b[39;00m\n\u001b[1;32m   1524\u001b[0m \u001b[38;5;28;01mif\u001b[39;00m \u001b[38;5;129;01mnot\u001b[39;00m (\u001b[38;5;28mself\u001b[39m\u001b[38;5;241m.\u001b[39m_backward_hooks \u001b[38;5;129;01mor\u001b[39;00m \u001b[38;5;28mself\u001b[39m\u001b[38;5;241m.\u001b[39m_backward_pre_hooks \u001b[38;5;129;01mor\u001b[39;00m \u001b[38;5;28mself\u001b[39m\u001b[38;5;241m.\u001b[39m_forward_hooks \u001b[38;5;129;01mor\u001b[39;00m \u001b[38;5;28mself\u001b[39m\u001b[38;5;241m.\u001b[39m_forward_pre_hooks\n\u001b[1;32m   1525\u001b[0m         \u001b[38;5;129;01mor\u001b[39;00m _global_backward_pre_hooks \u001b[38;5;129;01mor\u001b[39;00m _global_backward_hooks\n\u001b[1;32m   1526\u001b[0m         \u001b[38;5;129;01mor\u001b[39;00m _global_forward_hooks \u001b[38;5;129;01mor\u001b[39;00m _global_forward_pre_hooks):\n\u001b[0;32m-> 1527\u001b[0m     \u001b[38;5;28;01mreturn\u001b[39;00m forward_call(\u001b[38;5;241m*\u001b[39margs, \u001b[38;5;241m*\u001b[39m\u001b[38;5;241m*\u001b[39mkwargs)\n\u001b[1;32m   1529\u001b[0m \u001b[38;5;28;01mtry\u001b[39;00m:\n\u001b[1;32m   1530\u001b[0m     result \u001b[38;5;241m=\u001b[39m \u001b[38;5;28;01mNone\u001b[39;00m\n",
      "File \u001b[0;32m~/Desktop/MyResNet/models/src/Mymodel.py:198\u001b[0m, in \u001b[0;36mMyResNet_CIFAR.forward\u001b[0;34m(self, x)\u001b[0m\n\u001b[1;32m    196\u001b[0m x \u001b[38;5;241m=\u001b[39m \u001b[38;5;28mself\u001b[39m\u001b[38;5;241m.\u001b[39msingle_conv32block(x)\n\u001b[1;32m    197\u001b[0m x \u001b[38;5;241m=\u001b[39m \u001b[38;5;28mself\u001b[39m\u001b[38;5;241m.\u001b[39mconv32blocks(x)\n\u001b[0;32m--> 198\u001b[0m x \u001b[38;5;241m=\u001b[39m \u001b[38;5;28mself\u001b[39m\u001b[38;5;241m.\u001b[39mconv16blocks(x)\n\u001b[1;32m    199\u001b[0m x \u001b[38;5;241m=\u001b[39m \u001b[38;5;28mself\u001b[39m\u001b[38;5;241m.\u001b[39mconv8blocks(x)\n\u001b[1;32m    200\u001b[0m x \u001b[38;5;241m=\u001b[39m \u001b[38;5;28mself\u001b[39m\u001b[38;5;241m.\u001b[39mavgpool(x)\n",
      "File \u001b[0;32m~/anaconda3/lib/python3.11/site-packages/torch/nn/modules/module.py:1518\u001b[0m, in \u001b[0;36mModule._wrapped_call_impl\u001b[0;34m(self, *args, **kwargs)\u001b[0m\n\u001b[1;32m   1516\u001b[0m     \u001b[38;5;28;01mreturn\u001b[39;00m \u001b[38;5;28mself\u001b[39m\u001b[38;5;241m.\u001b[39m_compiled_call_impl(\u001b[38;5;241m*\u001b[39margs, \u001b[38;5;241m*\u001b[39m\u001b[38;5;241m*\u001b[39mkwargs)  \u001b[38;5;66;03m# type: ignore[misc]\u001b[39;00m\n\u001b[1;32m   1517\u001b[0m \u001b[38;5;28;01melse\u001b[39;00m:\n\u001b[0;32m-> 1518\u001b[0m     \u001b[38;5;28;01mreturn\u001b[39;00m \u001b[38;5;28mself\u001b[39m\u001b[38;5;241m.\u001b[39m_call_impl(\u001b[38;5;241m*\u001b[39margs, \u001b[38;5;241m*\u001b[39m\u001b[38;5;241m*\u001b[39mkwargs)\n",
      "File \u001b[0;32m~/anaconda3/lib/python3.11/site-packages/torch/nn/modules/module.py:1527\u001b[0m, in \u001b[0;36mModule._call_impl\u001b[0;34m(self, *args, **kwargs)\u001b[0m\n\u001b[1;32m   1522\u001b[0m \u001b[38;5;66;03m# If we don't have any hooks, we want to skip the rest of the logic in\u001b[39;00m\n\u001b[1;32m   1523\u001b[0m \u001b[38;5;66;03m# this function, and just call forward.\u001b[39;00m\n\u001b[1;32m   1524\u001b[0m \u001b[38;5;28;01mif\u001b[39;00m \u001b[38;5;129;01mnot\u001b[39;00m (\u001b[38;5;28mself\u001b[39m\u001b[38;5;241m.\u001b[39m_backward_hooks \u001b[38;5;129;01mor\u001b[39;00m \u001b[38;5;28mself\u001b[39m\u001b[38;5;241m.\u001b[39m_backward_pre_hooks \u001b[38;5;129;01mor\u001b[39;00m \u001b[38;5;28mself\u001b[39m\u001b[38;5;241m.\u001b[39m_forward_hooks \u001b[38;5;129;01mor\u001b[39;00m \u001b[38;5;28mself\u001b[39m\u001b[38;5;241m.\u001b[39m_forward_pre_hooks\n\u001b[1;32m   1525\u001b[0m         \u001b[38;5;129;01mor\u001b[39;00m _global_backward_pre_hooks \u001b[38;5;129;01mor\u001b[39;00m _global_backward_hooks\n\u001b[1;32m   1526\u001b[0m         \u001b[38;5;129;01mor\u001b[39;00m _global_forward_hooks \u001b[38;5;129;01mor\u001b[39;00m _global_forward_pre_hooks):\n\u001b[0;32m-> 1527\u001b[0m     \u001b[38;5;28;01mreturn\u001b[39;00m forward_call(\u001b[38;5;241m*\u001b[39margs, \u001b[38;5;241m*\u001b[39m\u001b[38;5;241m*\u001b[39mkwargs)\n\u001b[1;32m   1529\u001b[0m \u001b[38;5;28;01mtry\u001b[39;00m:\n\u001b[1;32m   1530\u001b[0m     result \u001b[38;5;241m=\u001b[39m \u001b[38;5;28;01mNone\u001b[39;00m\n",
      "File \u001b[0;32m~/anaconda3/lib/python3.11/site-packages/torch/nn/modules/container.py:215\u001b[0m, in \u001b[0;36mSequential.forward\u001b[0;34m(self, input)\u001b[0m\n\u001b[1;32m    213\u001b[0m \u001b[38;5;28;01mdef\u001b[39;00m \u001b[38;5;21mforward\u001b[39m(\u001b[38;5;28mself\u001b[39m, \u001b[38;5;28minput\u001b[39m):\n\u001b[1;32m    214\u001b[0m     \u001b[38;5;28;01mfor\u001b[39;00m module \u001b[38;5;129;01min\u001b[39;00m \u001b[38;5;28mself\u001b[39m:\n\u001b[0;32m--> 215\u001b[0m         \u001b[38;5;28minput\u001b[39m \u001b[38;5;241m=\u001b[39m module(\u001b[38;5;28minput\u001b[39m)\n\u001b[1;32m    216\u001b[0m     \u001b[38;5;28;01mreturn\u001b[39;00m \u001b[38;5;28minput\u001b[39m\n",
      "File \u001b[0;32m~/anaconda3/lib/python3.11/site-packages/torch/nn/modules/module.py:1518\u001b[0m, in \u001b[0;36mModule._wrapped_call_impl\u001b[0;34m(self, *args, **kwargs)\u001b[0m\n\u001b[1;32m   1516\u001b[0m     \u001b[38;5;28;01mreturn\u001b[39;00m \u001b[38;5;28mself\u001b[39m\u001b[38;5;241m.\u001b[39m_compiled_call_impl(\u001b[38;5;241m*\u001b[39margs, \u001b[38;5;241m*\u001b[39m\u001b[38;5;241m*\u001b[39mkwargs)  \u001b[38;5;66;03m# type: ignore[misc]\u001b[39;00m\n\u001b[1;32m   1517\u001b[0m \u001b[38;5;28;01melse\u001b[39;00m:\n\u001b[0;32m-> 1518\u001b[0m     \u001b[38;5;28;01mreturn\u001b[39;00m \u001b[38;5;28mself\u001b[39m\u001b[38;5;241m.\u001b[39m_call_impl(\u001b[38;5;241m*\u001b[39margs, \u001b[38;5;241m*\u001b[39m\u001b[38;5;241m*\u001b[39mkwargs)\n",
      "File \u001b[0;32m~/anaconda3/lib/python3.11/site-packages/torch/nn/modules/module.py:1527\u001b[0m, in \u001b[0;36mModule._call_impl\u001b[0;34m(self, *args, **kwargs)\u001b[0m\n\u001b[1;32m   1522\u001b[0m \u001b[38;5;66;03m# If we don't have any hooks, we want to skip the rest of the logic in\u001b[39;00m\n\u001b[1;32m   1523\u001b[0m \u001b[38;5;66;03m# this function, and just call forward.\u001b[39;00m\n\u001b[1;32m   1524\u001b[0m \u001b[38;5;28;01mif\u001b[39;00m \u001b[38;5;129;01mnot\u001b[39;00m (\u001b[38;5;28mself\u001b[39m\u001b[38;5;241m.\u001b[39m_backward_hooks \u001b[38;5;129;01mor\u001b[39;00m \u001b[38;5;28mself\u001b[39m\u001b[38;5;241m.\u001b[39m_backward_pre_hooks \u001b[38;5;129;01mor\u001b[39;00m \u001b[38;5;28mself\u001b[39m\u001b[38;5;241m.\u001b[39m_forward_hooks \u001b[38;5;129;01mor\u001b[39;00m \u001b[38;5;28mself\u001b[39m\u001b[38;5;241m.\u001b[39m_forward_pre_hooks\n\u001b[1;32m   1525\u001b[0m         \u001b[38;5;129;01mor\u001b[39;00m _global_backward_pre_hooks \u001b[38;5;129;01mor\u001b[39;00m _global_backward_hooks\n\u001b[1;32m   1526\u001b[0m         \u001b[38;5;129;01mor\u001b[39;00m _global_forward_hooks \u001b[38;5;129;01mor\u001b[39;00m _global_forward_pre_hooks):\n\u001b[0;32m-> 1527\u001b[0m     \u001b[38;5;28;01mreturn\u001b[39;00m forward_call(\u001b[38;5;241m*\u001b[39margs, \u001b[38;5;241m*\u001b[39m\u001b[38;5;241m*\u001b[39mkwargs)\n\u001b[1;32m   1529\u001b[0m \u001b[38;5;28;01mtry\u001b[39;00m:\n\u001b[1;32m   1530\u001b[0m     result \u001b[38;5;241m=\u001b[39m \u001b[38;5;28;01mNone\u001b[39;00m\n",
      "File \u001b[0;32m~/Desktop/MyResNet/models/src/Mymodel.py:56\u001b[0m, in \u001b[0;36mBlock.forward\u001b[0;34m(self, x)\u001b[0m\n\u001b[1;32m     53\u001b[0m \u001b[38;5;28;01mif\u001b[39;00m \u001b[38;5;28mself\u001b[39m\u001b[38;5;241m.\u001b[39mDownsample_option \u001b[38;5;241m==\u001b[39m \u001b[38;5;124m\"\u001b[39m\u001b[38;5;124mA\u001b[39m\u001b[38;5;124m\"\u001b[39m:\n\u001b[1;32m     54\u001b[0m     identity \u001b[38;5;241m=\u001b[39m F\u001b[38;5;241m.\u001b[39mmax_pool2d(identity, kernel_size\u001b[38;5;241m=\u001b[39m\u001b[38;5;241m2\u001b[39m, stride\u001b[38;5;241m=\u001b[39m\u001b[38;5;241m2\u001b[39m)\n\u001b[1;32m     55\u001b[0m     identity \u001b[38;5;241m=\u001b[39m torch\u001b[38;5;241m.\u001b[39mcat(\n\u001b[0;32m---> 56\u001b[0m         [identity, torch\u001b[38;5;241m.\u001b[39mzeros(identity\u001b[38;5;241m.\u001b[39mshape)\u001b[38;5;241m.\u001b[39mto(\u001b[38;5;28mself\u001b[39m\u001b[38;5;241m.\u001b[39mdevice)], dim\u001b[38;5;241m=\u001b[39m\u001b[38;5;241m1\u001b[39m\n\u001b[1;32m     57\u001b[0m     )\n\u001b[1;32m     58\u001b[0m \u001b[38;5;28;01melif\u001b[39;00m \u001b[38;5;28mself\u001b[39m\u001b[38;5;241m.\u001b[39mDownsample_option \u001b[38;5;241m==\u001b[39m \u001b[38;5;124m\"\u001b[39m\u001b[38;5;124mB\u001b[39m\u001b[38;5;124m\"\u001b[39m:\n\u001b[1;32m     59\u001b[0m     identity \u001b[38;5;241m=\u001b[39m \u001b[38;5;28mself\u001b[39m\u001b[38;5;241m.\u001b[39mconv_down(identity)\n",
      "\u001b[0;31mKeyboardInterrupt\u001b[0m: "
     ]
    }
   ],
   "source": [
    "Training = DoTraining(\n",
    "    model=model,\n",
    "    criterion=criterion,\n",
    "    optimizer=optimizer,\n",
    "    scaler=scaler,\n",
    "    scheduler=scheduler,\n",
    "    earlystopper=earlystopper,\n",
    "    device=device,\n",
    "    logs=logs,\n",
    "    file_path=file_path,\n",
    ")\n",
    "pre_epochs = len(Training.logs[\"train_loss\"])\n",
    "\n",
    "for epoch in range(NUM_EPOCHS):\n",
    "    now = epoch + 1 + pre_epochs\n",
    "    print(f\"[Epoch {epoch+1+pre_epochs}/{NUM_EPOCHS}] :\")\n",
    "\n",
    "    if DATASET == \"ImageNet2012\":\n",
    "        eval_loss = Training.SingleEpoch(train_dataloader, valid_dataloader)\n",
    "    else:\n",
    "        eval_loss = Training.SingleEpoch(\n",
    "            train_dataloader, valid_dataloader, test_dataloader\n",
    "        )\n",
    "\n",
    "    Training.Save()\n",
    "\n",
    "    if earlystopper.check(eval_loss) == True:\n",
    "        break\n",
    "\n",
    "    print(\"-\" * 50)"
   ]
  },
  {
   "cell_type": "code",
   "execution_count": null,
   "metadata": {},
   "outputs": [],
   "source": [
    "view = LogViewer(logs)\n",
    "view.draw()"
   ]
  },
  {
   "cell_type": "code",
   "execution_count": null,
   "metadata": {},
   "outputs": [],
   "source": [
    "view.print_all()"
   ]
  },
  {
   "cell_type": "code",
   "execution_count": null,
   "metadata": {},
   "outputs": [],
   "source": [
    "# CHECK = 5410\n",
    "# logs[\"train_loss\"] = logs[\"train_loss\"][:CHECK]\n",
    "# logs[\"train_acc\"] = logs[\"train_acc\"][:CHECK]\n",
    "# logs[\"valid_loss\"] = logs[\"valid_loss\"][:CHECK]\n",
    "# logs[\"valid_acc\"] = logs[\"valid_acc\"][:CHECK]\n",
    "# logs[\"test_loss\"] = logs[\"test_loss\"][:CHECK]\n",
    "# logs[\"test_acc\"] = logs[\"test_acc\"][:CHECK]\n",
    "# model.load_state_dict(torch.load(f\"models/{file_path}.pth\"))"
   ]
  }
 ],
 "metadata": {
  "kernelspec": {
   "display_name": "base",
   "language": "python",
   "name": "python3"
  },
  "language_info": {
   "codemirror_mode": {
    "name": "ipython",
    "version": 3
   },
   "file_extension": ".py",
   "mimetype": "text/x-python",
   "name": "python",
   "nbconvert_exporter": "python",
   "pygments_lexer": "ipython3",
   "version": "3.11.5"
  }
 },
 "nbformat": 4,
 "nbformat_minor": 2
}
