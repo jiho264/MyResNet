{
 "cells": [
  {
   "cell_type": "markdown",
   "metadata": {},
   "source": [
    "# Import"
   ]
  },
  {
   "cell_type": "code",
   "execution_count": 12,
   "metadata": {},
   "outputs": [],
   "source": [
    "import torch\n",
    "from torch import nn\n",
    "from torch.optim.lr_scheduler import ExponentialLR, MultiStepLR, ReduceLROnPlateau\n",
    "import sys, os\n",
    "\n",
    "sys.path.append(os.path.dirname(os.path.abspath(os.path.dirname(\"src\"))))\n",
    "\n",
    "from src.Mydataloader import LoadDataset\n",
    "from src.Mymodel import MyResNet_CIFAR\n",
    "from src.Mytraining import DoTraining\n",
    "from src.Earlystopper import EarlyStopper\n",
    "from src.LogViewer import LogViewer"
   ]
  },
  {
   "cell_type": "markdown",
   "metadata": {},
   "source": [
    "# Setup"
   ]
  },
  {
   "cell_type": "code",
   "execution_count": 13,
   "metadata": {},
   "outputs": [],
   "source": [
    "\"\"\"Dataset selection\"\"\"\n",
    "DATASET = \"CIFAR10\"\n",
    "# DATASET = \"CIFAR100\"\n",
    "# DATASET = \"ImageNet2012\"\n",
    "\n",
    "\"\"\"Dataset parameters\"\"\"\n",
    "BATCH = 128\n",
    "SHUFFLE = True\n",
    "NUMOFWORKERS = 8\n",
    "PIN_MEMORY = True\n",
    "SPLIT_RATIO = 0.9\n",
    "\n",
    "\"\"\"optimizer parameters\"\"\"\n",
    "# OPTIMIZER = \"Adam\"\n",
    "# OPTIMIZER = \"Adam_decay\"\n",
    "OPTIMIZER = \"SGD\"\n",
    "# OPTIMIZER = \"SGD_nasterov\"\n",
    "# OPTIMIZER = \"AdamW\"\n",
    "# OPTIMIZER = \"AdamW_amsgrad\"\n",
    "# OPTIMIZER = \"NAdam\"\n",
    "\n",
    "\"\"\"Learning rate scheduler parameters\"\"\"\n",
    "NUM_EPOCHS = 170\n",
    "\n",
    "\"\"\"Early stopping parameters\"\"\"\n",
    "EARLYSTOPPINGPATIENCE = 50\n",
    "\n",
    "file_name = f\"MyResNet32_{BATCH}_{OPTIMIZER}\""
   ]
  },
  {
   "cell_type": "code",
   "execution_count": 14,
   "metadata": {},
   "outputs": [
    {
     "data": {
      "text/plain": [
       "'MyResNet32_128_SGD'"
      ]
     },
     "execution_count": 14,
     "metadata": {},
     "output_type": "execute_result"
    }
   ],
   "source": [
    "file_name"
   ]
  },
  {
   "cell_type": "markdown",
   "metadata": {},
   "source": [
    "# Loading the dataset"
   ]
  },
  {
   "cell_type": "markdown",
   "metadata": {},
   "source": [
    "## Define Dateloader"
   ]
  },
  {
   "cell_type": "code",
   "execution_count": 15,
   "metadata": {},
   "outputs": [
    {
     "name": "stdout",
     "output_type": "stream",
     "text": [
      "-----------------------------------------------------------------------\n",
      "Dataset :  CIFAR10\n",
      "- Length of Train Set :  45000\n",
      "- Length of Valid Set :  5000\n",
      "- Length of Test Set :  10000\n",
      "- Count of Classes :  10\n",
      "-----------------------------------------------------------------------\n"
     ]
    }
   ],
   "source": [
    "tmp = LoadDataset(root=\"../../data\", seceted_dataset=DATASET, split_ratio=SPLIT_RATIO)\n",
    "train_data, valid_data, test_data, COUNT_OF_CLASSES = tmp.Unpack()"
   ]
  },
  {
   "cell_type": "code",
   "execution_count": 16,
   "metadata": {},
   "outputs": [
    {
     "name": "stdout",
     "output_type": "stream",
     "text": [
      "train.transforms = Compose(\n",
      "      AutoAugment(interpolation=InterpolationMode.NEAREST, policy=AutoAugmentPolicy.CIFAR10)\n",
      "      RandomCrop(size=(32, 32), padding=[4, 4, 4, 4], pad_if_needed=False, fill=0, padding_mode=constant)\n",
      "      RandomHorizontalFlip(p=0.5)\n",
      "      ToTensor()\n",
      "      Normalize(mean=[0.49139968, 0.48215827, 0.44653124], std=[1, 1, 1], inplace=True)\n",
      ") 128\n",
      "valid.transforms = ToTensor() 128\n",
      "test.transforms = ToTensor() 128\n"
     ]
    }
   ],
   "source": [
    "train_dataloader, valid_dataloader, test_dataloader = tmp.get_dataloader(\n",
    "    batch_size=BATCH, shuffle=SHUFFLE, num_workers=NUMOFWORKERS, pin_memory=PIN_MEMORY\n",
    ")"
   ]
  },
  {
   "cell_type": "markdown",
   "metadata": {},
   "source": [
    "# Define ResNet"
   ]
  },
  {
   "cell_type": "markdown",
   "metadata": {},
   "source": [
    "## Model Confirm"
   ]
  },
  {
   "cell_type": "code",
   "execution_count": 17,
   "metadata": {},
   "outputs": [
    {
     "data": {
      "text/plain": [
       "device(type='cuda')"
      ]
     },
     "execution_count": 17,
     "metadata": {},
     "output_type": "execute_result"
    }
   ],
   "source": [
    "device = torch.device(\"cuda\" if torch.cuda.is_available() else \"cpu\")\n",
    "device"
   ]
  },
  {
   "cell_type": "code",
   "execution_count": 18,
   "metadata": {},
   "outputs": [],
   "source": [
    "model = MyResNet_CIFAR(num_classes=COUNT_OF_CLASSES, num_layer_factor=5).to(device)"
   ]
  },
  {
   "cell_type": "markdown",
   "metadata": {},
   "source": [
    "# Define Training"
   ]
  },
  {
   "cell_type": "markdown",
   "metadata": {},
   "source": [
    "## (1) Define Criterion"
   ]
  },
  {
   "cell_type": "code",
   "execution_count": 19,
   "metadata": {},
   "outputs": [],
   "source": [
    "criterion = nn.CrossEntropyLoss()"
   ]
  },
  {
   "cell_type": "markdown",
   "metadata": {},
   "source": [
    "## (2) Define Optimazer"
   ]
  },
  {
   "cell_type": "code",
   "execution_count": 20,
   "metadata": {},
   "outputs": [],
   "source": [
    "if OPTIMIZER == \"Adam\":\n",
    "    optimizer = torch.optim.Adam(model.parameters())\n",
    "elif OPTIMIZER == \"Adam_decay\":\n",
    "    optimizer = torch.optim.Adam(model.parameters(), weight_decay=1e-4)\n",
    "elif OPTIMIZER == \"SGD\":\n",
    "    optimizer = torch.optim.SGD(\n",
    "        model.parameters(), lr=0.1, momentum=0.9, weight_decay=1e-4\n",
    "    )\n",
    "elif OPTIMIZER == \"SGD_nasterov\":\n",
    "    optimizer = torch.optim.SGD(\n",
    "        model.parameters(), lr=0.1, momentum=0.9, weight_decay=1e-4, nesterov=True\n",
    "    )\n",
    "elif OPTIMIZER == \"AdamW\":\n",
    "    optimizer = torch.optim.AdamW(model.parameters(), weight_decay=1e-4)\n",
    "elif OPTIMIZER == \"AdamW_amsgrad\":\n",
    "    optimizer = torch.optim.AdamW(model.parameters(), weight_decay=1e-4, amsgrad=True)\n",
    "elif OPTIMIZER == \"NAdam\":\n",
    "    optimizer = torch.optim.NAdam(model.parameters(), weight_decay=1e-4)"
   ]
  },
  {
   "cell_type": "markdown",
   "metadata": {},
   "source": [
    "## (3) Define Early Stopping"
   ]
  },
  {
   "cell_type": "code",
   "execution_count": 21,
   "metadata": {},
   "outputs": [],
   "source": [
    "earlystopper = EarlyStopper(patience=EARLYSTOPPINGPATIENCE, model=model, file_name=file_name)"
   ]
  },
  {
   "cell_type": "markdown",
   "metadata": {},
   "source": [
    "## (4) Define Learning Rate schedualer"
   ]
  },
  {
   "cell_type": "code",
   "execution_count": 22,
   "metadata": {},
   "outputs": [],
   "source": [
    "scheduler = ReduceLROnPlateau(optimizer=optimizer, patience=10, factor=0.1, cooldown=50)"
   ]
  },
  {
   "cell_type": "markdown",
   "metadata": {},
   "source": [
    "## (5) Define AMP scaler"
   ]
  },
  {
   "cell_type": "code",
   "execution_count": 23,
   "metadata": {},
   "outputs": [],
   "source": [
    "scaler = torch.cuda.amp.GradScaler(enabled=True)"
   ]
  },
  {
   "cell_type": "markdown",
   "metadata": {},
   "source": [
    "## Load before process"
   ]
  },
  {
   "cell_type": "code",
   "execution_count": 24,
   "metadata": {},
   "outputs": [
    {
     "name": "stdout",
     "output_type": "stream",
     "text": [
      "File does not exist. Created a new log.\n"
     ]
    }
   ],
   "source": [
    "if os.path.exists(file_name + \".pth.tar\"):\n",
    "    # Read checkpoint as desired, e.g.,\n",
    "    checkpoint = torch.load(\n",
    "        file_name + \".pth.tar\",\n",
    "        map_location=lambda storage, loc: storage.cuda(device),\n",
    "    )\n",
    "    model.load_state_dict(checkpoint[\"model\"])\n",
    "    optimizer.load_state_dict(checkpoint[\"optimizer\"])\n",
    "    scaler.load_state_dict(checkpoint[\"scaler\"])\n",
    "    scheduler.load_state_dict(checkpoint[\"scheduler\"])\n",
    "    earlystopper.load_state_dict(checkpoint[\"earlystopper\"])\n",
    "    logs = checkpoint[\"logs\"]\n",
    "\n",
    "    print(\"Suceessfully loaded the All setting and Log file.\")\n",
    "    print(file_name)\n",
    "    print(f\"Current epoch is {len(logs['train_loss'])}\")\n",
    "    print(f\"Current learning rate: {optimizer.param_groups[0]['lr']}\")\n",
    "else:\n",
    "    # Create a dictionary to store the variables\n",
    "    train_loss = []\n",
    "    train_acc = []\n",
    "    eval_loss = []\n",
    "    valid_acc = []\n",
    "    test_loss = []\n",
    "    test_acc = []\n",
    "    lr_log = []\n",
    "    logs = {\n",
    "        \"train_loss\": train_loss,\n",
    "        \"train_acc\": train_acc,\n",
    "        \"valid_loss\": eval_loss,\n",
    "        \"valid_acc\": valid_acc,\n",
    "        \"test_loss\": test_loss,\n",
    "        \"test_acc\": test_acc,\n",
    "        \"lr_log\": lr_log,\n",
    "    }\n",
    "    print(\"File does not exist. Created a new log.\")"
   ]
  },
  {
   "cell_type": "code",
   "execution_count": 25,
   "metadata": {},
   "outputs": [
    {
     "data": {
      "text/plain": [
       "0.1"
      ]
     },
     "execution_count": 25,
     "metadata": {},
     "output_type": "execute_result"
    }
   ],
   "source": [
    "optimizer.param_groups[0][\"lr\"]"
   ]
  },
  {
   "cell_type": "code",
   "execution_count": 26,
   "metadata": {},
   "outputs": [
    {
     "data": {
      "text/plain": [
       "0"
      ]
     },
     "execution_count": 26,
     "metadata": {},
     "output_type": "execute_result"
    }
   ],
   "source": [
    "earlystopper.early_stop_counter"
   ]
  },
  {
   "cell_type": "markdown",
   "metadata": {},
   "source": [
    "# [Training Loop]"
   ]
  },
  {
   "cell_type": "code",
   "execution_count": 27,
   "metadata": {},
   "outputs": [
    {
     "name": "stdout",
     "output_type": "stream",
     "text": [
      "[Epoch 1/170] :\n"
     ]
    },
    {
     "name": "stderr",
     "output_type": "stream",
     "text": [
      "1 Train: 100%|███████| 352/352 [01:32<00:00,  3.81it/s]"
     ]
    },
    {
     "name": "stdout",
     "output_type": "stream",
     "text": [
      "Train Loss: 2.3364 | Train Acc: 14.22%\n"
     ]
    },
    {
     "name": "stderr",
     "output_type": "stream",
     "text": [
      "\n"
     ]
    },
    {
     "name": "stdout",
     "output_type": "stream",
     "text": [
      "Valid Loss: 2.1240 | Valid Acc: 19.56%\n",
      "Test  Loss: 2.1913 | Test Acc: 18.79%\n",
      "updated best eval loss : 2.1240122258663177\n",
      "--------------------------------------------------\n",
      "[Epoch 2/170] :\n"
     ]
    },
    {
     "name": "stderr",
     "output_type": "stream",
     "text": [
      "2 Train: 100%|███████| 352/352 [01:18<00:00,  4.50it/s]\n"
     ]
    },
    {
     "name": "stdout",
     "output_type": "stream",
     "text": [
      "Train Loss: 1.9733 | Train Acc: 25.46%\n",
      "Valid Loss: 1.8866 | Valid Acc: 29.06%\n",
      "Test  Loss: 2.2685 | Test Acc: 21.89%\n",
      "updated best eval loss : 1.886613565683365\n",
      "--------------------------------------------------\n",
      "[Epoch 3/170] :\n"
     ]
    },
    {
     "name": "stderr",
     "output_type": "stream",
     "text": [
      "3 Train: 100%|███████| 352/352 [01:17<00:00,  4.57it/s]\n"
     ]
    },
    {
     "name": "stdout",
     "output_type": "stream",
     "text": [
      "Train Loss: 1.7193 | Train Acc: 36.37%\n",
      "Valid Loss: 1.6321 | Valid Acc: 38.96%\n",
      "Test  Loss: 1.7856 | Test Acc: 34.28%\n",
      "updated best eval loss : 1.632055202126503\n",
      "--------------------------------------------------\n",
      "[Epoch 4/170] :\n"
     ]
    },
    {
     "name": "stderr",
     "output_type": "stream",
     "text": [
      "4 Train: 100%|███████| 352/352 [01:16<00:00,  4.60it/s]\n"
     ]
    },
    {
     "name": "stdout",
     "output_type": "stream",
     "text": [
      "Train Loss: 1.4156 | Train Acc: 49.05%\n",
      "Valid Loss: 1.3270 | Valid Acc: 52.26%\n",
      "Test  Loss: 1.8405 | Test Acc: 38.03%\n",
      "updated best eval loss : 1.3269820362329483\n",
      "--------------------------------------------------\n",
      "[Epoch 5/170] :\n"
     ]
    },
    {
     "name": "stderr",
     "output_type": "stream",
     "text": [
      "5 Train: 100%|███████| 352/352 [01:17<00:00,  4.53it/s]\n"
     ]
    },
    {
     "name": "stdout",
     "output_type": "stream",
     "text": [
      "Train Loss: 1.1831 | Train Acc: 57.83%\n",
      "Valid Loss: 1.1533 | Valid Acc: 58.66%\n",
      "Test  Loss: 1.2062 | Test Acc: 57.74%\n",
      "updated best eval loss : 1.1532513990998268\n",
      "--------------------------------------------------\n",
      "[Epoch 6/170] :\n"
     ]
    },
    {
     "name": "stderr",
     "output_type": "stream",
     "text": [
      "6 Train: 100%|███████| 352/352 [01:17<00:00,  4.54it/s]\n"
     ]
    },
    {
     "name": "stdout",
     "output_type": "stream",
     "text": [
      "Train Loss: 1.0560 | Train Acc: 62.80%\n",
      "Valid Loss: 1.2827 | Valid Acc: 57.34%\n",
      "Test  Loss: 1.2387 | Test Acc: 58.89%\n",
      "--------------------------------------------------\n",
      "[Epoch 7/170] :\n"
     ]
    },
    {
     "name": "stderr",
     "output_type": "stream",
     "text": [
      "7 Train: 100%|███████| 352/352 [01:17<00:00,  4.53it/s]\n"
     ]
    },
    {
     "name": "stdout",
     "output_type": "stream",
     "text": [
      "Train Loss: 0.9500 | Train Acc: 66.67%\n",
      "Valid Loss: 1.1741 | Valid Acc: 60.42%\n",
      "Test  Loss: 0.9736 | Test Acc: 67.48%\n",
      "--------------------------------------------------\n",
      "[Epoch 8/170] :\n"
     ]
    },
    {
     "name": "stderr",
     "output_type": "stream",
     "text": [
      "8 Train: 100%|███████| 352/352 [01:18<00:00,  4.48it/s]\n"
     ]
    },
    {
     "name": "stdout",
     "output_type": "stream",
     "text": [
      "Train Loss: 0.8896 | Train Acc: 69.09%\n",
      "Valid Loss: 0.9501 | Valid Acc: 66.72%\n",
      "Test  Loss: 0.8236 | Test Acc: 71.53%\n",
      "updated best eval loss : 0.9501317858695983\n",
      "--------------------------------------------------\n",
      "[Epoch 9/170] :\n"
     ]
    },
    {
     "name": "stderr",
     "output_type": "stream",
     "text": [
      "9 Train: 100%|███████| 352/352 [01:16<00:00,  4.60it/s]\n"
     ]
    },
    {
     "name": "stdout",
     "output_type": "stream",
     "text": [
      "Train Loss: 0.8357 | Train Acc: 70.83%\n",
      "Valid Loss: 0.8572 | Valid Acc: 70.60%\n",
      "Test  Loss: 0.8117 | Test Acc: 72.00%\n",
      "updated best eval loss : 0.8572280541062355\n",
      "--------------------------------------------------\n",
      "[Epoch 10/170] :\n"
     ]
    },
    {
     "name": "stderr",
     "output_type": "stream",
     "text": [
      "10 Train: 100%|██████| 352/352 [01:17<00:00,  4.53it/s]\n"
     ]
    },
    {
     "name": "stdout",
     "output_type": "stream",
     "text": [
      "Train Loss: 0.7922 | Train Acc: 72.39%\n",
      "Valid Loss: 0.8334 | Valid Acc: 71.02%\n",
      "Test  Loss: 1.1801 | Test Acc: 62.45%\n",
      "updated best eval loss : 0.8334099873900414\n",
      "--------------------------------------------------\n",
      "[Epoch 11/170] :\n"
     ]
    },
    {
     "name": "stderr",
     "output_type": "stream",
     "text": [
      "11 Train: 100%|██████| 352/352 [01:18<00:00,  4.48it/s]\n"
     ]
    },
    {
     "name": "stdout",
     "output_type": "stream",
     "text": [
      "Train Loss: 0.7627 | Train Acc: 73.72%\n",
      "Valid Loss: 0.8396 | Valid Acc: 71.02%\n",
      "Test  Loss: 0.9360 | Test Acc: 68.85%\n",
      "--------------------------------------------------\n",
      "[Epoch 12/170] :\n"
     ]
    },
    {
     "name": "stderr",
     "output_type": "stream",
     "text": [
      "12 Train: 100%|██████| 352/352 [01:18<00:00,  4.48it/s]\n"
     ]
    },
    {
     "name": "stdout",
     "output_type": "stream",
     "text": [
      "Train Loss: 0.7345 | Train Acc: 74.50%\n",
      "Valid Loss: 0.8499 | Valid Acc: 71.90%\n",
      "Test  Loss: 0.8033 | Test Acc: 72.99%\n",
      "--------------------------------------------------\n",
      "[Epoch 13/170] :\n"
     ]
    },
    {
     "name": "stderr",
     "output_type": "stream",
     "text": [
      "13 Train: 100%|██████| 352/352 [01:19<00:00,  4.45it/s]\n"
     ]
    },
    {
     "name": "stdout",
     "output_type": "stream",
     "text": [
      "Train Loss: 0.7078 | Train Acc: 75.22%\n",
      "Valid Loss: 0.7179 | Valid Acc: 74.50%\n",
      "Test  Loss: 0.9456 | Test Acc: 68.97%\n",
      "updated best eval loss : 0.7178579039871693\n",
      "--------------------------------------------------\n",
      "[Epoch 14/170] :\n"
     ]
    },
    {
     "name": "stderr",
     "output_type": "stream",
     "text": [
      "14 Train: 100%|██████| 352/352 [01:16<00:00,  4.62it/s]\n"
     ]
    },
    {
     "name": "stdout",
     "output_type": "stream",
     "text": [
      "Train Loss: 0.6951 | Train Acc: 75.71%\n",
      "Valid Loss: 0.8197 | Valid Acc: 71.84%\n",
      "Test  Loss: 0.7192 | Test Acc: 75.56%\n",
      "--------------------------------------------------\n",
      "[Epoch 15/170] :\n"
     ]
    },
    {
     "name": "stderr",
     "output_type": "stream",
     "text": [
      "15 Train: 100%|██████| 352/352 [01:16<00:00,  4.60it/s]\n"
     ]
    },
    {
     "name": "stdout",
     "output_type": "stream",
     "text": [
      "Train Loss: 0.6651 | Train Acc: 76.86%\n",
      "Valid Loss: 0.7265 | Valid Acc: 74.50%\n",
      "Test  Loss: 0.7157 | Test Acc: 75.82%\n",
      "--------------------------------------------------\n",
      "[Epoch 16/170] :\n"
     ]
    },
    {
     "name": "stderr",
     "output_type": "stream",
     "text": [
      "16 Train: 100%|██████| 352/352 [01:16<00:00,  4.63it/s]\n"
     ]
    },
    {
     "name": "stdout",
     "output_type": "stream",
     "text": [
      "Train Loss: 0.6530 | Train Acc: 77.49%\n",
      "Valid Loss: 0.7695 | Valid Acc: 74.18%\n",
      "Test  Loss: 0.7420 | Test Acc: 75.63%\n",
      "--------------------------------------------------\n",
      "[Epoch 17/170] :\n"
     ]
    },
    {
     "name": "stderr",
     "output_type": "stream",
     "text": [
      "17 Train: 100%|██████| 352/352 [01:16<00:00,  4.63it/s]\n"
     ]
    },
    {
     "name": "stdout",
     "output_type": "stream",
     "text": [
      "Train Loss: 0.6388 | Train Acc: 77.66%\n",
      "Valid Loss: 0.7591 | Valid Acc: 74.34%\n",
      "Test  Loss: 0.8192 | Test Acc: 72.01%\n",
      "--------------------------------------------------\n",
      "[Epoch 18/170] :\n"
     ]
    },
    {
     "name": "stderr",
     "output_type": "stream",
     "text": [
      "18 Train: 100%|██████| 352/352 [01:17<00:00,  4.52it/s]\n"
     ]
    },
    {
     "name": "stdout",
     "output_type": "stream",
     "text": [
      "Train Loss: 0.6299 | Train Acc: 78.16%\n",
      "Valid Loss: 0.7921 | Valid Acc: 73.22%\n",
      "Test  Loss: 0.8551 | Test Acc: 72.70%\n",
      "--------------------------------------------------\n",
      "[Epoch 19/170] :\n"
     ]
    },
    {
     "name": "stderr",
     "output_type": "stream",
     "text": [
      "19 Train: 100%|██████| 352/352 [01:17<00:00,  4.52it/s]\n"
     ]
    },
    {
     "name": "stdout",
     "output_type": "stream",
     "text": [
      "Train Loss: 0.6240 | Train Acc: 78.38%\n",
      "Valid Loss: 0.8259 | Valid Acc: 72.28%\n",
      "Test  Loss: 0.9214 | Test Acc: 70.58%\n",
      "--------------------------------------------------\n",
      "[Epoch 20/170] :\n"
     ]
    },
    {
     "name": "stderr",
     "output_type": "stream",
     "text": [
      "20 Train: 100%|██████| 352/352 [01:17<00:00,  4.54it/s]\n"
     ]
    },
    {
     "name": "stdout",
     "output_type": "stream",
     "text": [
      "Train Loss: 0.5971 | Train Acc: 79.29%\n",
      "Valid Loss: 0.6979 | Valid Acc: 76.32%\n",
      "Test  Loss: 0.8808 | Test Acc: 71.26%\n",
      "updated best eval loss : 0.6978623166680336\n",
      "--------------------------------------------------\n",
      "[Epoch 21/170] :\n"
     ]
    },
    {
     "name": "stderr",
     "output_type": "stream",
     "text": [
      "21 Train: 100%|██████| 352/352 [01:18<00:00,  4.49it/s]\n"
     ]
    },
    {
     "name": "stdout",
     "output_type": "stream",
     "text": [
      "Train Loss: 0.5969 | Train Acc: 79.35%\n",
      "Valid Loss: 0.7058 | Valid Acc: 75.92%\n",
      "Test  Loss: 0.7674 | Test Acc: 75.12%\n",
      "--------------------------------------------------\n",
      "[Epoch 22/170] :\n"
     ]
    },
    {
     "name": "stderr",
     "output_type": "stream",
     "text": [
      "22 Train: 100%|██████| 352/352 [01:17<00:00,  4.54it/s]\n"
     ]
    },
    {
     "name": "stdout",
     "output_type": "stream",
     "text": [
      "Train Loss: 0.5775 | Train Acc: 80.04%\n",
      "Valid Loss: 0.7385 | Valid Acc: 75.08%\n",
      "Test  Loss: 0.7674 | Test Acc: 74.98%\n",
      "--------------------------------------------------\n",
      "[Epoch 23/170] :\n"
     ]
    },
    {
     "name": "stderr",
     "output_type": "stream",
     "text": [
      "23 Train: 100%|██████| 352/352 [01:16<00:00,  4.60it/s]\n"
     ]
    },
    {
     "name": "stdout",
     "output_type": "stream",
     "text": [
      "Train Loss: 0.5738 | Train Acc: 80.23%\n",
      "Valid Loss: 0.6603 | Valid Acc: 77.02%\n",
      "Test  Loss: 0.7005 | Test Acc: 76.31%\n",
      "updated best eval loss : 0.6603358179330826\n",
      "--------------------------------------------------\n",
      "[Epoch 24/170] :\n"
     ]
    },
    {
     "name": "stderr",
     "output_type": "stream",
     "text": [
      "24 Train: 100%|██████| 352/352 [01:18<00:00,  4.50it/s]\n"
     ]
    },
    {
     "name": "stdout",
     "output_type": "stream",
     "text": [
      "Train Loss: 0.5634 | Train Acc: 80.43%\n",
      "Valid Loss: 0.6913 | Valid Acc: 76.14%\n",
      "Test  Loss: 0.8272 | Test Acc: 72.59%\n",
      "--------------------------------------------------\n",
      "[Epoch 25/170] :\n"
     ]
    },
    {
     "name": "stderr",
     "output_type": "stream",
     "text": [
      "25 Train: 100%|██████| 352/352 [01:17<00:00,  4.52it/s]\n"
     ]
    },
    {
     "name": "stdout",
     "output_type": "stream",
     "text": [
      "Train Loss: 0.5614 | Train Acc: 80.54%\n",
      "Valid Loss: 0.6898 | Valid Acc: 76.68%\n",
      "Test  Loss: 0.7581 | Test Acc: 74.51%\n",
      "--------------------------------------------------\n",
      "[Epoch 26/170] :\n"
     ]
    },
    {
     "name": "stderr",
     "output_type": "stream",
     "text": [
      "26 Train: 100%|██████| 352/352 [01:16<00:00,  4.60it/s]\n"
     ]
    },
    {
     "name": "stdout",
     "output_type": "stream",
     "text": [
      "Train Loss: 0.5501 | Train Acc: 80.83%\n",
      "Valid Loss: 0.7362 | Valid Acc: 74.80%\n",
      "Test  Loss: 1.0774 | Test Acc: 67.15%\n",
      "--------------------------------------------------\n",
      "[Epoch 27/170] :\n"
     ]
    },
    {
     "name": "stderr",
     "output_type": "stream",
     "text": [
      "27 Train: 100%|██████| 352/352 [01:17<00:00,  4.53it/s]\n"
     ]
    },
    {
     "name": "stdout",
     "output_type": "stream",
     "text": [
      "Train Loss: 0.5432 | Train Acc: 81.00%\n",
      "Valid Loss: 0.6179 | Valid Acc: 78.06%\n",
      "Test  Loss: 0.8458 | Test Acc: 71.18%\n",
      "updated best eval loss : 0.617850660905242\n",
      "--------------------------------------------------\n",
      "[Epoch 28/170] :\n"
     ]
    },
    {
     "name": "stderr",
     "output_type": "stream",
     "text": [
      "28 Train: 100%|██████| 352/352 [01:15<00:00,  4.64it/s]\n"
     ]
    },
    {
     "name": "stdout",
     "output_type": "stream",
     "text": [
      "Train Loss: 0.5372 | Train Acc: 81.55%\n",
      "Valid Loss: 0.7880 | Valid Acc: 74.24%\n",
      "Test  Loss: 0.8430 | Test Acc: 73.58%\n",
      "--------------------------------------------------\n",
      "[Epoch 29/170] :\n"
     ]
    },
    {
     "name": "stderr",
     "output_type": "stream",
     "text": [
      "29 Train: 100%|██████| 352/352 [01:16<00:00,  4.58it/s]\n"
     ]
    },
    {
     "name": "stdout",
     "output_type": "stream",
     "text": [
      "Train Loss: 0.5316 | Train Acc: 81.62%\n",
      "Valid Loss: 0.7362 | Valid Acc: 75.70%\n",
      "Test  Loss: 0.7046 | Test Acc: 76.81%\n",
      "--------------------------------------------------\n",
      "[Epoch 30/170] :\n"
     ]
    },
    {
     "name": "stderr",
     "output_type": "stream",
     "text": [
      "30 Train: 100%|██████| 352/352 [01:17<00:00,  4.56it/s]\n"
     ]
    },
    {
     "name": "stdout",
     "output_type": "stream",
     "text": [
      "Train Loss: 0.5323 | Train Acc: 81.58%\n",
      "Valid Loss: 0.6024 | Valid Acc: 79.20%\n",
      "Test  Loss: 0.8906 | Test Acc: 70.61%\n",
      "updated best eval loss : 0.6024097092449665\n",
      "--------------------------------------------------\n",
      "[Epoch 31/170] :\n"
     ]
    },
    {
     "name": "stderr",
     "output_type": "stream",
     "text": [
      "31 Train: 100%|██████| 352/352 [01:18<00:00,  4.50it/s]\n"
     ]
    },
    {
     "name": "stdout",
     "output_type": "stream",
     "text": [
      "Train Loss: 0.5307 | Train Acc: 81.65%\n",
      "Valid Loss: 0.6650 | Valid Acc: 77.42%\n",
      "Test  Loss: 0.6197 | Test Acc: 79.39%\n",
      "--------------------------------------------------\n",
      "[Epoch 32/170] :\n"
     ]
    },
    {
     "name": "stderr",
     "output_type": "stream",
     "text": [
      "32 Train: 100%|██████| 352/352 [01:16<00:00,  4.59it/s]\n"
     ]
    },
    {
     "name": "stdout",
     "output_type": "stream",
     "text": [
      "Train Loss: 0.5185 | Train Acc: 81.89%\n",
      "Valid Loss: 0.6031 | Valid Acc: 79.02%\n",
      "Test  Loss: 0.6890 | Test Acc: 75.94%\n",
      "--------------------------------------------------\n",
      "[Epoch 33/170] :\n"
     ]
    },
    {
     "name": "stderr",
     "output_type": "stream",
     "text": [
      "33 Train: 100%|██████| 352/352 [01:16<00:00,  4.61it/s]\n"
     ]
    },
    {
     "name": "stdout",
     "output_type": "stream",
     "text": [
      "Train Loss: 0.5187 | Train Acc: 81.91%\n",
      "Valid Loss: 0.5997 | Valid Acc: 79.58%\n",
      "Test  Loss: 0.8764 | Test Acc: 72.68%\n",
      "updated best eval loss : 0.5997496705502272\n",
      "--------------------------------------------------\n",
      "[Epoch 34/170] :\n"
     ]
    },
    {
     "name": "stderr",
     "output_type": "stream",
     "text": [
      "34 Train: 100%|██████| 352/352 [01:16<00:00,  4.59it/s]\n"
     ]
    },
    {
     "name": "stdout",
     "output_type": "stream",
     "text": [
      "Train Loss: 0.5097 | Train Acc: 82.33%\n",
      "Valid Loss: 0.6261 | Valid Acc: 77.82%\n",
      "Test  Loss: 1.0192 | Test Acc: 68.22%\n",
      "--------------------------------------------------\n",
      "[Epoch 35/170] :\n"
     ]
    },
    {
     "name": "stderr",
     "output_type": "stream",
     "text": [
      "35 Train: 100%|██████| 352/352 [01:18<00:00,  4.47it/s]\n"
     ]
    },
    {
     "name": "stdout",
     "output_type": "stream",
     "text": [
      "Train Loss: 0.4977 | Train Acc: 82.64%\n",
      "Valid Loss: 0.7659 | Valid Acc: 74.72%\n",
      "Test  Loss: 0.9975 | Test Acc: 67.61%\n",
      "--------------------------------------------------\n",
      "[Epoch 36/170] :\n"
     ]
    },
    {
     "name": "stderr",
     "output_type": "stream",
     "text": [
      "36 Train: 100%|██████| 352/352 [01:17<00:00,  4.57it/s]\n"
     ]
    },
    {
     "name": "stdout",
     "output_type": "stream",
     "text": [
      "Train Loss: 0.5046 | Train Acc: 82.55%\n",
      "Valid Loss: 0.5815 | Valid Acc: 80.06%\n",
      "Test  Loss: 0.5938 | Test Acc: 79.53%\n",
      "updated best eval loss : 0.5814682953059673\n",
      "--------------------------------------------------\n",
      "[Epoch 37/170] :\n"
     ]
    },
    {
     "name": "stderr",
     "output_type": "stream",
     "text": [
      "37 Train: 100%|██████| 352/352 [01:18<00:00,  4.47it/s]\n"
     ]
    },
    {
     "name": "stdout",
     "output_type": "stream",
     "text": [
      "Train Loss: 0.5030 | Train Acc: 82.58%\n",
      "Valid Loss: 0.5905 | Valid Acc: 79.80%\n",
      "Test  Loss: 0.6945 | Test Acc: 76.51%\n",
      "--------------------------------------------------\n",
      "[Epoch 38/170] :\n"
     ]
    },
    {
     "name": "stderr",
     "output_type": "stream",
     "text": [
      "38 Train: 100%|██████| 352/352 [01:16<00:00,  4.61it/s]\n"
     ]
    },
    {
     "name": "stdout",
     "output_type": "stream",
     "text": [
      "Train Loss: 0.4967 | Train Acc: 82.60%\n",
      "Valid Loss: 0.6258 | Valid Acc: 78.82%\n",
      "Test  Loss: 0.6420 | Test Acc: 78.51%\n",
      "--------------------------------------------------\n",
      "[Epoch 39/170] :\n"
     ]
    },
    {
     "name": "stderr",
     "output_type": "stream",
     "text": [
      "39 Train: 100%|██████| 352/352 [01:16<00:00,  4.61it/s]\n"
     ]
    },
    {
     "name": "stdout",
     "output_type": "stream",
     "text": [
      "Train Loss: 0.4894 | Train Acc: 82.92%\n",
      "Valid Loss: 0.5898 | Valid Acc: 79.86%\n",
      "Test  Loss: 0.8025 | Test Acc: 72.78%\n",
      "--------------------------------------------------\n",
      "[Epoch 40/170] :\n"
     ]
    },
    {
     "name": "stderr",
     "output_type": "stream",
     "text": [
      "40 Train: 100%|██████| 352/352 [01:16<00:00,  4.62it/s]\n"
     ]
    },
    {
     "name": "stdout",
     "output_type": "stream",
     "text": [
      "Train Loss: 0.4857 | Train Acc: 82.99%\n",
      "Valid Loss: 0.6043 | Valid Acc: 79.72%\n",
      "Test  Loss: 0.6222 | Test Acc: 79.87%\n",
      "--------------------------------------------------\n",
      "[Epoch 41/170] :\n"
     ]
    },
    {
     "name": "stderr",
     "output_type": "stream",
     "text": [
      "41 Train: 100%|██████| 352/352 [01:16<00:00,  4.61it/s]\n"
     ]
    },
    {
     "name": "stdout",
     "output_type": "stream",
     "text": [
      "Train Loss: 0.4788 | Train Acc: 83.27%\n",
      "Valid Loss: 0.5805 | Valid Acc: 79.72%\n",
      "Test  Loss: 0.8285 | Test Acc: 72.65%\n",
      "updated best eval loss : 0.5805402867496013\n",
      "--------------------------------------------------\n",
      "[Epoch 42/170] :\n"
     ]
    },
    {
     "name": "stderr",
     "output_type": "stream",
     "text": [
      "42 Train: 100%|██████| 352/352 [01:08<00:00,  5.15it/s]\n"
     ]
    },
    {
     "name": "stdout",
     "output_type": "stream",
     "text": [
      "Train Loss: 0.4782 | Train Acc: 83.28%\n",
      "Valid Loss: 0.6473 | Valid Acc: 79.10%\n",
      "Test  Loss: 0.8337 | Test Acc: 73.44%\n",
      "--------------------------------------------------\n",
      "[Epoch 43/170] :\n"
     ]
    },
    {
     "name": "stderr",
     "output_type": "stream",
     "text": [
      "43 Train: 100%|██████| 352/352 [00:51<00:00,  6.87it/s]\n"
     ]
    },
    {
     "name": "stdout",
     "output_type": "stream",
     "text": [
      "Train Loss: 0.4767 | Train Acc: 83.40%\n",
      "Valid Loss: 0.5457 | Valid Acc: 80.94%\n",
      "Test  Loss: 0.5774 | Test Acc: 80.36%\n",
      "updated best eval loss : 0.5456969279795885\n",
      "--------------------------------------------------\n",
      "[Epoch 44/170] :\n"
     ]
    },
    {
     "name": "stderr",
     "output_type": "stream",
     "text": [
      "44 Train: 100%|██████| 352/352 [00:43<00:00,  8.04it/s]\n"
     ]
    },
    {
     "name": "stdout",
     "output_type": "stream",
     "text": [
      "Train Loss: 0.4744 | Train Acc: 83.47%\n",
      "Valid Loss: 0.6300 | Valid Acc: 78.42%\n",
      "Test  Loss: 0.6345 | Test Acc: 78.80%\n",
      "--------------------------------------------------\n",
      "[Epoch 45/170] :\n"
     ]
    },
    {
     "name": "stderr",
     "output_type": "stream",
     "text": [
      "45 Train: 100%|██████| 352/352 [00:39<00:00,  8.90it/s]\n"
     ]
    },
    {
     "name": "stdout",
     "output_type": "stream",
     "text": [
      "Train Loss: 0.4703 | Train Acc: 83.52%\n",
      "Valid Loss: 0.5799 | Valid Acc: 79.96%\n",
      "Test  Loss: 0.8962 | Test Acc: 71.90%\n",
      "--------------------------------------------------\n",
      "[Epoch 46/170] :\n"
     ]
    },
    {
     "name": "stderr",
     "output_type": "stream",
     "text": [
      "46 Train: 100%|██████| 352/352 [00:39<00:00,  8.92it/s]\n"
     ]
    },
    {
     "name": "stdout",
     "output_type": "stream",
     "text": [
      "Train Loss: 0.4739 | Train Acc: 83.28%\n",
      "Valid Loss: 0.6032 | Valid Acc: 79.70%\n",
      "Test  Loss: 0.7897 | Test Acc: 73.71%\n",
      "--------------------------------------------------\n",
      "[Epoch 47/170] :\n"
     ]
    },
    {
     "name": "stderr",
     "output_type": "stream",
     "text": [
      "47 Train: 100%|██████| 352/352 [00:40<00:00,  8.79it/s]\n"
     ]
    },
    {
     "name": "stdout",
     "output_type": "stream",
     "text": [
      "Train Loss: 0.4621 | Train Acc: 84.01%\n",
      "Valid Loss: 0.5853 | Valid Acc: 79.14%\n",
      "Test  Loss: 0.6083 | Test Acc: 79.87%\n",
      "--------------------------------------------------\n",
      "[Epoch 48/170] :\n"
     ]
    },
    {
     "name": "stderr",
     "output_type": "stream",
     "text": [
      "48 Train: 100%|██████| 352/352 [00:39<00:00,  9.02it/s]\n"
     ]
    },
    {
     "name": "stdout",
     "output_type": "stream",
     "text": [
      "Train Loss: 0.4652 | Train Acc: 83.86%\n",
      "Valid Loss: 0.5831 | Valid Acc: 80.02%\n",
      "Test  Loss: 0.8108 | Test Acc: 72.15%\n",
      "--------------------------------------------------\n",
      "[Epoch 49/170] :\n"
     ]
    },
    {
     "name": "stderr",
     "output_type": "stream",
     "text": [
      "49 Train: 100%|██████| 352/352 [00:40<00:00,  8.77it/s]\n"
     ]
    },
    {
     "name": "stdout",
     "output_type": "stream",
     "text": [
      "Train Loss: 0.4593 | Train Acc: 83.99%\n",
      "Valid Loss: 0.7624 | Valid Acc: 75.44%\n",
      "Test  Loss: 1.0003 | Test Acc: 68.87%\n",
      "--------------------------------------------------\n",
      "[Epoch 50/170] :\n"
     ]
    },
    {
     "name": "stderr",
     "output_type": "stream",
     "text": [
      "50 Train: 100%|██████| 352/352 [00:39<00:00,  8.86it/s]\n"
     ]
    },
    {
     "name": "stdout",
     "output_type": "stream",
     "text": [
      "Train Loss: 0.4592 | Train Acc: 83.86%\n",
      "Valid Loss: 0.5499 | Valid Acc: 81.36%\n",
      "Test  Loss: 0.8984 | Test Acc: 72.98%\n",
      "--------------------------------------------------\n",
      "[Epoch 51/170] :\n"
     ]
    },
    {
     "name": "stderr",
     "output_type": "stream",
     "text": [
      "51 Train: 100%|██████| 352/352 [00:39<00:00,  8.90it/s]\n"
     ]
    },
    {
     "name": "stdout",
     "output_type": "stream",
     "text": [
      "Train Loss: 0.4579 | Train Acc: 84.21%\n",
      "Valid Loss: 0.6051 | Valid Acc: 78.84%\n",
      "Test  Loss: 0.6944 | Test Acc: 76.61%\n",
      "--------------------------------------------------\n",
      "[Epoch 52/170] :\n"
     ]
    },
    {
     "name": "stderr",
     "output_type": "stream",
     "text": [
      "52 Train: 100%|██████| 352/352 [00:39<00:00,  8.88it/s]\n"
     ]
    },
    {
     "name": "stdout",
     "output_type": "stream",
     "text": [
      "Train Loss: 0.4570 | Train Acc: 84.21%\n",
      "Valid Loss: 0.5615 | Valid Acc: 81.40%\n",
      "Test  Loss: 0.8076 | Test Acc: 74.69%\n",
      "--------------------------------------------------\n",
      "[Epoch 53/170] :\n"
     ]
    },
    {
     "name": "stderr",
     "output_type": "stream",
     "text": [
      "53 Train: 100%|██████| 352/352 [00:39<00:00,  8.90it/s]\n"
     ]
    },
    {
     "name": "stdout",
     "output_type": "stream",
     "text": [
      "Train Loss: 0.4483 | Train Acc: 84.53%\n",
      "Valid Loss: 0.5992 | Valid Acc: 79.68%\n",
      "Test  Loss: 0.8401 | Test Acc: 73.98%\n",
      "--------------------------------------------------\n",
      "[Epoch 54/170] :\n"
     ]
    },
    {
     "name": "stderr",
     "output_type": "stream",
     "text": [
      "54 Train: 100%|██████| 352/352 [00:39<00:00,  8.86it/s]\n"
     ]
    },
    {
     "name": "stdout",
     "output_type": "stream",
     "text": [
      "Train Loss: 0.4536 | Train Acc: 84.23%\n",
      "Valid Loss: 0.5340 | Valid Acc: 81.90%\n",
      "Test  Loss: 0.6557 | Test Acc: 78.41%\n",
      "updated best eval loss : 0.5340198025107383\n",
      "--------------------------------------------------\n",
      "[Epoch 55/170] :\n"
     ]
    },
    {
     "name": "stderr",
     "output_type": "stream",
     "text": [
      "55 Train: 100%|██████| 352/352 [00:30<00:00, 11.67it/s]\n"
     ]
    },
    {
     "name": "stdout",
     "output_type": "stream",
     "text": [
      "Train Loss: 0.4451 | Train Acc: 84.45%\n",
      "Valid Loss: 0.5990 | Valid Acc: 79.80%\n",
      "Test  Loss: 0.6684 | Test Acc: 77.68%\n",
      "--------------------------------------------------\n",
      "[Epoch 56/170] :\n"
     ]
    },
    {
     "name": "stderr",
     "output_type": "stream",
     "text": [
      "56 Train: 100%|██████| 352/352 [00:30<00:00, 11.66it/s]\n"
     ]
    },
    {
     "name": "stdout",
     "output_type": "stream",
     "text": [
      "Train Loss: 0.4563 | Train Acc: 84.27%\n",
      "Valid Loss: 0.6731 | Valid Acc: 77.88%\n",
      "Test  Loss: 0.9186 | Test Acc: 70.42%\n",
      "--------------------------------------------------\n",
      "[Epoch 57/170] :\n"
     ]
    },
    {
     "name": "stderr",
     "output_type": "stream",
     "text": [
      "57 Train: 100%|██████| 352/352 [00:30<00:00, 11.68it/s]\n"
     ]
    },
    {
     "name": "stdout",
     "output_type": "stream",
     "text": [
      "Train Loss: 0.4485 | Train Acc: 84.58%\n",
      "Valid Loss: 0.5805 | Valid Acc: 80.82%\n",
      "Test  Loss: 0.5959 | Test Acc: 79.65%\n",
      "--------------------------------------------------\n",
      "[Epoch 58/170] :\n"
     ]
    },
    {
     "name": "stderr",
     "output_type": "stream",
     "text": [
      "58 Train: 100%|██████| 352/352 [00:29<00:00, 11.83it/s]\n"
     ]
    },
    {
     "name": "stdout",
     "output_type": "stream",
     "text": [
      "Train Loss: 0.4472 | Train Acc: 84.54%\n",
      "Valid Loss: 0.5388 | Valid Acc: 81.50%\n",
      "Test  Loss: 0.7471 | Test Acc: 75.89%\n",
      "--------------------------------------------------\n",
      "[Epoch 59/170] :\n"
     ]
    },
    {
     "name": "stderr",
     "output_type": "stream",
     "text": [
      "59 Train: 100%|██████| 352/352 [00:30<00:00, 11.67it/s]\n"
     ]
    },
    {
     "name": "stdout",
     "output_type": "stream",
     "text": [
      "Train Loss: 0.4448 | Train Acc: 84.45%\n",
      "Valid Loss: 0.6477 | Valid Acc: 78.54%\n",
      "Test  Loss: 0.7719 | Test Acc: 76.63%\n",
      "--------------------------------------------------\n",
      "[Epoch 60/170] :\n"
     ]
    },
    {
     "name": "stderr",
     "output_type": "stream",
     "text": [
      "60 Train: 100%|██████| 352/352 [00:29<00:00, 11.78it/s]\n"
     ]
    },
    {
     "name": "stdout",
     "output_type": "stream",
     "text": [
      "Train Loss: 0.4381 | Train Acc: 84.82%\n",
      "Valid Loss: 0.6048 | Valid Acc: 80.42%\n",
      "Test  Loss: 0.7238 | Test Acc: 76.61%\n",
      "--------------------------------------------------\n",
      "[Epoch 61/170] :\n"
     ]
    },
    {
     "name": "stderr",
     "output_type": "stream",
     "text": [
      "61 Train: 100%|██████| 352/352 [00:29<00:00, 11.79it/s]\n"
     ]
    },
    {
     "name": "stdout",
     "output_type": "stream",
     "text": [
      "Train Loss: 0.4315 | Train Acc: 85.05%\n",
      "Valid Loss: 0.5870 | Valid Acc: 80.68%\n",
      "Test  Loss: 0.6224 | Test Acc: 79.64%\n",
      "--------------------------------------------------\n",
      "[Epoch 62/170] :\n"
     ]
    },
    {
     "name": "stderr",
     "output_type": "stream",
     "text": [
      "62 Train: 100%|██████| 352/352 [00:30<00:00, 11.63it/s]\n"
     ]
    },
    {
     "name": "stdout",
     "output_type": "stream",
     "text": [
      "Train Loss: 0.4372 | Train Acc: 84.56%\n",
      "Valid Loss: 0.6824 | Valid Acc: 78.10%\n",
      "Test  Loss: 0.6731 | Test Acc: 78.24%\n",
      "--------------------------------------------------\n",
      "[Epoch 63/170] :\n"
     ]
    },
    {
     "name": "stderr",
     "output_type": "stream",
     "text": [
      "63 Train: 100%|██████| 352/352 [00:29<00:00, 11.83it/s]\n"
     ]
    },
    {
     "name": "stdout",
     "output_type": "stream",
     "text": [
      "Train Loss: 0.4296 | Train Acc: 85.10%\n",
      "Valid Loss: 0.5378 | Valid Acc: 81.22%\n",
      "Test  Loss: 0.4942 | Test Acc: 83.60%\n",
      "--------------------------------------------------\n",
      "[Epoch 64/170] :\n"
     ]
    },
    {
     "name": "stderr",
     "output_type": "stream",
     "text": [
      "64 Train: 100%|██████| 352/352 [00:29<00:00, 11.75it/s]\n"
     ]
    },
    {
     "name": "stdout",
     "output_type": "stream",
     "text": [
      "Train Loss: 0.4336 | Train Acc: 84.78%\n",
      "Valid Loss: 0.5549 | Valid Acc: 81.06%\n",
      "Test  Loss: 0.5065 | Test Acc: 83.02%\n",
      "--------------------------------------------------\n",
      "[Epoch 65/170] :\n"
     ]
    },
    {
     "name": "stderr",
     "output_type": "stream",
     "text": [
      "65 Train: 100%|██████| 352/352 [00:29<00:00, 11.78it/s]\n"
     ]
    },
    {
     "name": "stdout",
     "output_type": "stream",
     "text": [
      "Train Loss: 0.4321 | Train Acc: 84.89%\n",
      "Valid Loss: 0.6714 | Valid Acc: 77.72%\n",
      "Test  Loss: 0.8300 | Test Acc: 74.38%\n",
      "--------------------------------------------------\n",
      "[Epoch 66/170] :\n"
     ]
    },
    {
     "name": "stderr",
     "output_type": "stream",
     "text": [
      "66 Train: 100%|██████| 352/352 [00:29<00:00, 11.84it/s]\n"
     ]
    },
    {
     "name": "stdout",
     "output_type": "stream",
     "text": [
      "Train Loss: 0.3459 | Train Acc: 87.88%\n",
      "Valid Loss: 0.4239 | Valid Acc: 85.60%\n",
      "Test  Loss: 0.4637 | Test Acc: 83.98%\n",
      "updated best eval loss : 0.42388358265161513\n",
      "--------------------------------------------------\n",
      "[Epoch 67/170] :\n"
     ]
    },
    {
     "name": "stderr",
     "output_type": "stream",
     "text": [
      "67 Train: 100%|██████| 352/352 [00:30<00:00, 11.66it/s]\n"
     ]
    },
    {
     "name": "stdout",
     "output_type": "stream",
     "text": [
      "Train Loss: 0.3101 | Train Acc: 89.21%\n",
      "Valid Loss: 0.3847 | Valid Acc: 86.08%\n",
      "Test  Loss: 0.4536 | Test Acc: 84.55%\n",
      "updated best eval loss : 0.384715751092881\n",
      "--------------------------------------------------\n",
      "[Epoch 68/170] :\n"
     ]
    },
    {
     "name": "stderr",
     "output_type": "stream",
     "text": [
      "68 Train: 100%|██████| 352/352 [00:29<00:00, 11.77it/s]\n"
     ]
    },
    {
     "name": "stdout",
     "output_type": "stream",
     "text": [
      "Train Loss: 0.2953 | Train Acc: 89.77%\n",
      "Valid Loss: 0.4106 | Valid Acc: 85.72%\n",
      "Test  Loss: 0.4714 | Test Acc: 84.00%\n",
      "--------------------------------------------------\n",
      "[Epoch 69/170] :\n"
     ]
    },
    {
     "name": "stderr",
     "output_type": "stream",
     "text": [
      "69 Train: 100%|██████| 352/352 [00:29<00:00, 12.02it/s]\n"
     ]
    },
    {
     "name": "stdout",
     "output_type": "stream",
     "text": [
      "Train Loss: 0.2865 | Train Acc: 90.08%\n",
      "Valid Loss: 0.4146 | Valid Acc: 86.00%\n",
      "Test  Loss: 0.4608 | Test Acc: 84.26%\n",
      "--------------------------------------------------\n",
      "[Epoch 70/170] :\n"
     ]
    },
    {
     "name": "stderr",
     "output_type": "stream",
     "text": [
      "70 Train: 100%|██████| 352/352 [00:29<00:00, 11.83it/s]\n"
     ]
    },
    {
     "name": "stdout",
     "output_type": "stream",
     "text": [
      "Train Loss: 0.2878 | Train Acc: 90.12%\n",
      "Valid Loss: 0.3832 | Valid Acc: 86.50%\n",
      "Test  Loss: 0.4499 | Test Acc: 85.02%\n",
      "updated best eval loss : 0.3831908795982599\n",
      "--------------------------------------------------\n",
      "[Epoch 71/170] :\n"
     ]
    },
    {
     "name": "stderr",
     "output_type": "stream",
     "text": [
      "71 Train: 100%|██████| 352/352 [00:29<00:00, 11.75it/s]\n"
     ]
    },
    {
     "name": "stdout",
     "output_type": "stream",
     "text": [
      "Train Loss: 0.2793 | Train Acc: 90.36%\n",
      "Valid Loss: 0.3804 | Valid Acc: 87.34%\n",
      "Test  Loss: 0.4529 | Test Acc: 84.98%\n",
      "updated best eval loss : 0.38038427717983725\n",
      "--------------------------------------------------\n",
      "[Epoch 72/170] :\n"
     ]
    },
    {
     "name": "stderr",
     "output_type": "stream",
     "text": [
      "72 Train: 100%|██████| 352/352 [00:29<00:00, 11.97it/s]\n"
     ]
    },
    {
     "name": "stdout",
     "output_type": "stream",
     "text": [
      "Train Loss: 0.2767 | Train Acc: 90.42%\n",
      "Valid Loss: 0.4025 | Valid Acc: 86.26%\n",
      "Test  Loss: 0.4345 | Test Acc: 85.82%\n",
      "--------------------------------------------------\n",
      "[Epoch 73/170] :\n"
     ]
    },
    {
     "name": "stderr",
     "output_type": "stream",
     "text": [
      "73 Train: 100%|██████| 352/352 [00:30<00:00, 11.64it/s]\n"
     ]
    },
    {
     "name": "stdout",
     "output_type": "stream",
     "text": [
      "Train Loss: 0.2721 | Train Acc: 90.56%\n",
      "Valid Loss: 0.3949 | Valid Acc: 86.78%\n",
      "Test  Loss: 0.4532 | Test Acc: 85.26%\n",
      "--------------------------------------------------\n",
      "[Epoch 74/170] :\n"
     ]
    },
    {
     "name": "stderr",
     "output_type": "stream",
     "text": [
      "74 Train: 100%|██████| 352/352 [00:29<00:00, 11.91it/s]\n"
     ]
    },
    {
     "name": "stdout",
     "output_type": "stream",
     "text": [
      "Train Loss: 0.2685 | Train Acc: 90.71%\n",
      "Valid Loss: 0.3805 | Valid Acc: 86.60%\n",
      "Test  Loss: 0.4840 | Test Acc: 84.28%\n",
      "--------------------------------------------------\n",
      "[Epoch 75/170] :\n"
     ]
    },
    {
     "name": "stderr",
     "output_type": "stream",
     "text": [
      "75 Train: 100%|██████| 352/352 [00:30<00:00, 11.72it/s]\n"
     ]
    },
    {
     "name": "stdout",
     "output_type": "stream",
     "text": [
      "Train Loss: 0.2645 | Train Acc: 90.95%\n",
      "Valid Loss: 0.3783 | Valid Acc: 87.02%\n",
      "Test  Loss: 0.4648 | Test Acc: 84.93%\n",
      "updated best eval loss : 0.37833471447229383\n",
      "--------------------------------------------------\n",
      "[Epoch 76/170] :\n"
     ]
    },
    {
     "name": "stderr",
     "output_type": "stream",
     "text": [
      "76 Train: 100%|██████| 352/352 [00:29<00:00, 11.88it/s]\n"
     ]
    },
    {
     "name": "stdout",
     "output_type": "stream",
     "text": [
      "Train Loss: 0.2670 | Train Acc: 90.74%\n",
      "Valid Loss: 0.3832 | Valid Acc: 86.84%\n",
      "Test  Loss: 0.4881 | Test Acc: 83.84%\n",
      "--------------------------------------------------\n",
      "[Epoch 77/170] :\n"
     ]
    },
    {
     "name": "stderr",
     "output_type": "stream",
     "text": [
      "77 Train: 100%|██████| 352/352 [00:29<00:00, 11.75it/s]\n"
     ]
    },
    {
     "name": "stdout",
     "output_type": "stream",
     "text": [
      "Train Loss: 0.2592 | Train Acc: 90.96%\n",
      "Valid Loss: 0.4162 | Valid Acc: 86.62%\n",
      "Test  Loss: 0.4990 | Test Acc: 84.11%\n",
      "--------------------------------------------------\n",
      "[Epoch 78/170] :\n"
     ]
    },
    {
     "name": "stderr",
     "output_type": "stream",
     "text": [
      "78 Train: 100%|██████| 352/352 [00:29<00:00, 11.78it/s]\n"
     ]
    },
    {
     "name": "stdout",
     "output_type": "stream",
     "text": [
      "Train Loss: 0.2548 | Train Acc: 91.10%\n",
      "Valid Loss: 0.3901 | Valid Acc: 87.02%\n",
      "Test  Loss: 0.5988 | Test Acc: 81.07%\n",
      "--------------------------------------------------\n",
      "[Epoch 79/170] :\n"
     ]
    },
    {
     "name": "stderr",
     "output_type": "stream",
     "text": [
      "79 Train: 100%|██████| 352/352 [00:29<00:00, 11.83it/s]\n"
     ]
    },
    {
     "name": "stdout",
     "output_type": "stream",
     "text": [
      "Train Loss: 0.2540 | Train Acc: 91.31%\n",
      "Valid Loss: 0.3794 | Valid Acc: 87.26%\n",
      "Test  Loss: 0.4941 | Test Acc: 83.84%\n",
      "--------------------------------------------------\n",
      "[Epoch 80/170] :\n"
     ]
    },
    {
     "name": "stderr",
     "output_type": "stream",
     "text": [
      "80 Train: 100%|██████| 352/352 [00:29<00:00, 11.92it/s]\n"
     ]
    },
    {
     "name": "stdout",
     "output_type": "stream",
     "text": [
      "Train Loss: 0.2494 | Train Acc: 91.34%\n",
      "Valid Loss: 0.4061 | Valid Acc: 87.02%\n",
      "Test  Loss: 0.6525 | Test Acc: 80.45%\n",
      "--------------------------------------------------\n",
      "[Epoch 81/170] :\n"
     ]
    },
    {
     "name": "stderr",
     "output_type": "stream",
     "text": [
      "81 Train: 100%|██████| 352/352 [00:29<00:00, 11.92it/s]\n"
     ]
    },
    {
     "name": "stdout",
     "output_type": "stream",
     "text": [
      "Train Loss: 0.2524 | Train Acc: 91.20%\n",
      "Valid Loss: 0.3836 | Valid Acc: 86.92%\n",
      "Test  Loss: 0.5444 | Test Acc: 82.82%\n",
      "--------------------------------------------------\n",
      "[Epoch 82/170] :\n"
     ]
    },
    {
     "name": "stderr",
     "output_type": "stream",
     "text": [
      "82 Train: 100%|██████| 352/352 [00:29<00:00, 11.88it/s]\n"
     ]
    },
    {
     "name": "stdout",
     "output_type": "stream",
     "text": [
      "Train Loss: 0.2472 | Train Acc: 91.44%\n",
      "Valid Loss: 0.4084 | Valid Acc: 87.06%\n",
      "Test  Loss: 0.5305 | Test Acc: 83.48%\n",
      "--------------------------------------------------\n",
      "[Epoch 83/170] :\n"
     ]
    },
    {
     "name": "stderr",
     "output_type": "stream",
     "text": [
      "83 Train: 100%|██████| 352/352 [00:29<00:00, 11.89it/s]\n"
     ]
    },
    {
     "name": "stdout",
     "output_type": "stream",
     "text": [
      "Train Loss: 0.2544 | Train Acc: 91.17%\n",
      "Valid Loss: 0.3797 | Valid Acc: 87.36%\n",
      "Test  Loss: 0.5008 | Test Acc: 84.09%\n",
      "--------------------------------------------------\n",
      "[Epoch 84/170] :\n"
     ]
    },
    {
     "name": "stderr",
     "output_type": "stream",
     "text": [
      "84 Train: 100%|██████| 352/352 [00:29<00:00, 11.77it/s]\n"
     ]
    },
    {
     "name": "stdout",
     "output_type": "stream",
     "text": [
      "Train Loss: 0.2443 | Train Acc: 91.49%\n",
      "Valid Loss: 0.3748 | Valid Acc: 87.12%\n",
      "Test  Loss: 0.4832 | Test Acc: 84.38%\n",
      "updated best eval loss : 0.37484555393457414\n",
      "--------------------------------------------------\n",
      "[Epoch 85/170] :\n"
     ]
    },
    {
     "name": "stderr",
     "output_type": "stream",
     "text": [
      "85 Train: 100%|██████| 352/352 [00:29<00:00, 11.83it/s]\n"
     ]
    },
    {
     "name": "stdout",
     "output_type": "stream",
     "text": [
      "Train Loss: 0.2444 | Train Acc: 91.46%\n",
      "Valid Loss: 0.3746 | Valid Acc: 87.50%\n",
      "Test  Loss: 0.4753 | Test Acc: 84.58%\n",
      "updated best eval loss : 0.37455645129084586\n",
      "--------------------------------------------------\n",
      "[Epoch 86/170] :\n"
     ]
    },
    {
     "name": "stderr",
     "output_type": "stream",
     "text": [
      "86 Train: 100%|██████| 352/352 [00:30<00:00, 11.57it/s]\n"
     ]
    },
    {
     "name": "stdout",
     "output_type": "stream",
     "text": [
      "Train Loss: 0.2408 | Train Acc: 91.51%\n",
      "Valid Loss: 0.3817 | Valid Acc: 87.06%\n",
      "Test  Loss: 0.5150 | Test Acc: 84.04%\n",
      "--------------------------------------------------\n",
      "[Epoch 87/170] :\n"
     ]
    },
    {
     "name": "stderr",
     "output_type": "stream",
     "text": [
      "87 Train: 100%|██████| 352/352 [00:29<00:00, 11.79it/s]\n"
     ]
    },
    {
     "name": "stdout",
     "output_type": "stream",
     "text": [
      "Train Loss: 0.2368 | Train Acc: 91.74%\n",
      "Valid Loss: 0.4044 | Valid Acc: 86.74%\n",
      "Test  Loss: 0.5974 | Test Acc: 81.77%\n",
      "--------------------------------------------------\n",
      "[Epoch 88/170] :\n"
     ]
    },
    {
     "name": "stderr",
     "output_type": "stream",
     "text": [
      "88 Train: 100%|██████| 352/352 [00:29<00:00, 11.73it/s]\n"
     ]
    },
    {
     "name": "stdout",
     "output_type": "stream",
     "text": [
      "Train Loss: 0.2404 | Train Acc: 91.68%\n",
      "Valid Loss: 0.3826 | Valid Acc: 87.28%\n",
      "Test  Loss: 0.5452 | Test Acc: 83.28%\n",
      "--------------------------------------------------\n",
      "[Epoch 89/170] :\n"
     ]
    },
    {
     "name": "stderr",
     "output_type": "stream",
     "text": [
      "89 Train: 100%|██████| 352/352 [00:29<00:00, 11.80it/s]\n"
     ]
    },
    {
     "name": "stdout",
     "output_type": "stream",
     "text": [
      "Train Loss: 0.2406 | Train Acc: 91.58%\n",
      "Valid Loss: 0.3859 | Valid Acc: 87.22%\n",
      "Test  Loss: 0.5449 | Test Acc: 83.56%\n",
      "--------------------------------------------------\n",
      "[Epoch 90/170] :\n"
     ]
    },
    {
     "name": "stderr",
     "output_type": "stream",
     "text": [
      "90 Train: 100%|██████| 352/352 [00:29<00:00, 12.05it/s]\n"
     ]
    },
    {
     "name": "stdout",
     "output_type": "stream",
     "text": [
      "Train Loss: 0.2376 | Train Acc: 91.68%\n",
      "Valid Loss: 0.3883 | Valid Acc: 86.58%\n",
      "Test  Loss: 0.5335 | Test Acc: 83.21%\n",
      "--------------------------------------------------\n",
      "[Epoch 91/170] :\n"
     ]
    },
    {
     "name": "stderr",
     "output_type": "stream",
     "text": [
      "91 Train: 100%|██████| 352/352 [00:29<00:00, 11.75it/s]\n"
     ]
    },
    {
     "name": "stdout",
     "output_type": "stream",
     "text": [
      "Train Loss: 0.2384 | Train Acc: 91.63%\n",
      "Valid Loss: 0.3914 | Valid Acc: 87.00%\n",
      "Test  Loss: 0.4957 | Test Acc: 84.28%\n",
      "--------------------------------------------------\n",
      "[Epoch 92/170] :\n"
     ]
    },
    {
     "name": "stderr",
     "output_type": "stream",
     "text": [
      "92 Train: 100%|██████| 352/352 [00:29<00:00, 11.96it/s]\n"
     ]
    },
    {
     "name": "stdout",
     "output_type": "stream",
     "text": [
      "Train Loss: 0.2358 | Train Acc: 91.66%\n",
      "Valid Loss: 0.3885 | Valid Acc: 87.24%\n",
      "Test  Loss: 0.5737 | Test Acc: 82.29%\n",
      "--------------------------------------------------\n",
      "[Epoch 93/170] :\n"
     ]
    },
    {
     "name": "stderr",
     "output_type": "stream",
     "text": [
      "93 Train: 100%|██████| 352/352 [00:29<00:00, 11.78it/s]\n"
     ]
    },
    {
     "name": "stdout",
     "output_type": "stream",
     "text": [
      "Train Loss: 0.2335 | Train Acc: 91.83%\n",
      "Valid Loss: 0.3773 | Valid Acc: 87.54%\n",
      "Test  Loss: 0.4913 | Test Acc: 84.59%\n",
      "--------------------------------------------------\n",
      "[Epoch 94/170] :\n"
     ]
    },
    {
     "name": "stderr",
     "output_type": "stream",
     "text": [
      "94 Train: 100%|██████| 352/352 [00:29<00:00, 12.06it/s]\n"
     ]
    },
    {
     "name": "stdout",
     "output_type": "stream",
     "text": [
      "Train Loss: 0.2325 | Train Acc: 92.01%\n",
      "Valid Loss: 0.4006 | Valid Acc: 86.50%\n",
      "Test  Loss: 0.5538 | Test Acc: 82.89%\n",
      "--------------------------------------------------\n",
      "[Epoch 95/170] :\n"
     ]
    },
    {
     "name": "stderr",
     "output_type": "stream",
     "text": [
      "95 Train: 100%|██████| 352/352 [00:29<00:00, 11.95it/s]\n"
     ]
    },
    {
     "name": "stdout",
     "output_type": "stream",
     "text": [
      "Train Loss: 0.2313 | Train Acc: 91.88%\n",
      "Valid Loss: 0.4246 | Valid Acc: 87.16%\n",
      "Test  Loss: 0.5458 | Test Acc: 83.44%\n",
      "--------------------------------------------------\n",
      "[Epoch 96/170] :\n"
     ]
    },
    {
     "name": "stderr",
     "output_type": "stream",
     "text": [
      "96 Train: 100%|██████| 352/352 [00:29<00:00, 11.80it/s]\n"
     ]
    },
    {
     "name": "stdout",
     "output_type": "stream",
     "text": [
      "Train Loss: 0.2278 | Train Acc: 92.06%\n",
      "Valid Loss: 0.3954 | Valid Acc: 87.16%\n",
      "Test  Loss: 0.5157 | Test Acc: 83.89%\n",
      "--------------------------------------------------\n",
      "[Epoch 97/170] :\n"
     ]
    },
    {
     "name": "stderr",
     "output_type": "stream",
     "text": [
      "97 Train: 100%|██████| 352/352 [00:29<00:00, 11.95it/s]\n"
     ]
    },
    {
     "name": "stdout",
     "output_type": "stream",
     "text": [
      "Train Loss: 0.2319 | Train Acc: 91.85%\n",
      "Valid Loss: 0.4020 | Valid Acc: 87.32%\n",
      "Test  Loss: 0.5625 | Test Acc: 82.53%\n",
      "--------------------------------------------------\n",
      "[Epoch 98/170] :\n"
     ]
    },
    {
     "name": "stderr",
     "output_type": "stream",
     "text": [
      "98 Train: 100%|██████| 352/352 [00:29<00:00, 11.88it/s]\n"
     ]
    },
    {
     "name": "stdout",
     "output_type": "stream",
     "text": [
      "Train Loss: 0.2265 | Train Acc: 92.26%\n",
      "Valid Loss: 0.3964 | Valid Acc: 87.22%\n",
      "Test  Loss: 0.5491 | Test Acc: 82.61%\n",
      "--------------------------------------------------\n",
      "[Epoch 99/170] :\n"
     ]
    },
    {
     "name": "stderr",
     "output_type": "stream",
     "text": [
      "99 Train: 100%|██████| 352/352 [00:29<00:00, 11.85it/s]\n"
     ]
    },
    {
     "name": "stdout",
     "output_type": "stream",
     "text": [
      "Train Loss: 0.2262 | Train Acc: 92.10%\n",
      "Valid Loss: 0.3791 | Valid Acc: 87.10%\n",
      "Test  Loss: 0.5159 | Test Acc: 83.67%\n",
      "--------------------------------------------------\n",
      "[Epoch 100/170] :\n"
     ]
    },
    {
     "name": "stderr",
     "output_type": "stream",
     "text": [
      "100 Train: 100%|█████| 352/352 [00:30<00:00, 11.72it/s]\n"
     ]
    },
    {
     "name": "stdout",
     "output_type": "stream",
     "text": [
      "Train Loss: 0.2275 | Train Acc: 92.19%\n",
      "Valid Loss: 0.4160 | Valid Acc: 86.74%\n",
      "Test  Loss: 0.5109 | Test Acc: 83.75%\n",
      "--------------------------------------------------\n",
      "[Epoch 101/170] :\n"
     ]
    },
    {
     "name": "stderr",
     "output_type": "stream",
     "text": [
      "101 Train: 100%|█████| 352/352 [00:29<00:00, 11.88it/s]\n"
     ]
    },
    {
     "name": "stdout",
     "output_type": "stream",
     "text": [
      "Train Loss: 0.2209 | Train Acc: 92.26%\n",
      "Valid Loss: 0.3987 | Valid Acc: 87.16%\n",
      "Test  Loss: 0.5480 | Test Acc: 83.09%\n",
      "--------------------------------------------------\n",
      "[Epoch 102/170] :\n"
     ]
    },
    {
     "name": "stderr",
     "output_type": "stream",
     "text": [
      "102 Train: 100%|█████| 352/352 [00:29<00:00, 11.95it/s]\n"
     ]
    },
    {
     "name": "stdout",
     "output_type": "stream",
     "text": [
      "Train Loss: 0.2239 | Train Acc: 92.24%\n",
      "Valid Loss: 0.3878 | Valid Acc: 87.42%\n",
      "Test  Loss: 0.5902 | Test Acc: 82.08%\n",
      "--------------------------------------------------\n",
      "[Epoch 103/170] :\n"
     ]
    },
    {
     "name": "stderr",
     "output_type": "stream",
     "text": [
      "103 Train: 100%|█████| 352/352 [00:29<00:00, 11.97it/s]\n"
     ]
    },
    {
     "name": "stdout",
     "output_type": "stream",
     "text": [
      "Train Loss: 0.2178 | Train Acc: 92.40%\n",
      "Valid Loss: 0.3975 | Valid Acc: 87.30%\n",
      "Test  Loss: 0.5691 | Test Acc: 82.82%\n",
      "--------------------------------------------------\n",
      "[Epoch 104/170] :\n"
     ]
    },
    {
     "name": "stderr",
     "output_type": "stream",
     "text": [
      "104 Train: 100%|█████| 352/352 [00:30<00:00, 11.65it/s]\n"
     ]
    },
    {
     "name": "stdout",
     "output_type": "stream",
     "text": [
      "Train Loss: 0.2232 | Train Acc: 92.32%\n",
      "Valid Loss: 0.3678 | Valid Acc: 87.58%\n",
      "Test  Loss: 0.4728 | Test Acc: 84.94%\n",
      "updated best eval loss : 0.36775589832104744\n",
      "--------------------------------------------------\n",
      "[Epoch 105/170] :\n"
     ]
    },
    {
     "name": "stderr",
     "output_type": "stream",
     "text": [
      "105 Train: 100%|█████| 352/352 [00:29<00:00, 11.80it/s]\n"
     ]
    },
    {
     "name": "stdout",
     "output_type": "stream",
     "text": [
      "Train Loss: 0.2188 | Train Acc: 92.36%\n",
      "Valid Loss: 0.3853 | Valid Acc: 87.44%\n",
      "Test  Loss: 0.5498 | Test Acc: 83.14%\n",
      "--------------------------------------------------\n",
      "[Epoch 106/170] :\n"
     ]
    },
    {
     "name": "stderr",
     "output_type": "stream",
     "text": [
      "106 Train: 100%|█████| 352/352 [00:30<00:00, 11.72it/s]\n"
     ]
    },
    {
     "name": "stdout",
     "output_type": "stream",
     "text": [
      "Train Loss: 0.2192 | Train Acc: 92.45%\n",
      "Valid Loss: 0.4227 | Valid Acc: 86.66%\n",
      "Test  Loss: 0.5050 | Test Acc: 84.18%\n",
      "--------------------------------------------------\n",
      "[Epoch 107/170] :\n"
     ]
    },
    {
     "name": "stderr",
     "output_type": "stream",
     "text": [
      "107 Train: 100%|█████| 352/352 [00:29<00:00, 11.94it/s]\n"
     ]
    },
    {
     "name": "stdout",
     "output_type": "stream",
     "text": [
      "Train Loss: 0.2182 | Train Acc: 92.32%\n",
      "Valid Loss: 0.3983 | Valid Acc: 86.70%\n",
      "Test  Loss: 0.4954 | Test Acc: 84.65%\n",
      "--------------------------------------------------\n",
      "[Epoch 108/170] :\n"
     ]
    },
    {
     "name": "stderr",
     "output_type": "stream",
     "text": [
      "108 Train: 100%|█████| 352/352 [00:30<00:00, 11.71it/s]\n"
     ]
    },
    {
     "name": "stdout",
     "output_type": "stream",
     "text": [
      "Train Loss: 0.2206 | Train Acc: 92.19%\n",
      "Valid Loss: 0.4132 | Valid Acc: 87.00%\n",
      "Test  Loss: 0.5356 | Test Acc: 83.53%\n",
      "--------------------------------------------------\n",
      "[Epoch 109/170] :\n"
     ]
    },
    {
     "name": "stderr",
     "output_type": "stream",
     "text": [
      "109 Train: 100%|█████| 352/352 [00:29<00:00, 11.76it/s]\n"
     ]
    },
    {
     "name": "stdout",
     "output_type": "stream",
     "text": [
      "Train Loss: 0.2136 | Train Acc: 92.56%\n",
      "Valid Loss: 0.3876 | Valid Acc: 87.24%\n",
      "Test  Loss: 0.5354 | Test Acc: 83.63%\n",
      "--------------------------------------------------\n",
      "[Epoch 110/170] :\n"
     ]
    },
    {
     "name": "stderr",
     "output_type": "stream",
     "text": [
      "110 Train: 100%|█████| 352/352 [00:29<00:00, 11.86it/s]\n"
     ]
    },
    {
     "name": "stdout",
     "output_type": "stream",
     "text": [
      "Train Loss: 0.2160 | Train Acc: 92.52%\n",
      "Valid Loss: 0.4001 | Valid Acc: 87.32%\n",
      "Test  Loss: 0.4578 | Test Acc: 85.64%\n",
      "--------------------------------------------------\n",
      "[Epoch 111/170] :\n"
     ]
    },
    {
     "name": "stderr",
     "output_type": "stream",
     "text": [
      "111 Train: 100%|█████| 352/352 [00:29<00:00, 11.79it/s]\n"
     ]
    },
    {
     "name": "stdout",
     "output_type": "stream",
     "text": [
      "Train Loss: 0.2222 | Train Acc: 92.21%\n",
      "Valid Loss: 0.3989 | Valid Acc: 87.20%\n",
      "Test  Loss: 0.4555 | Test Acc: 85.95%\n",
      "--------------------------------------------------\n",
      "[Epoch 112/170] :\n"
     ]
    },
    {
     "name": "stderr",
     "output_type": "stream",
     "text": [
      "112 Train: 100%|█████| 352/352 [00:29<00:00, 11.77it/s]\n"
     ]
    },
    {
     "name": "stdout",
     "output_type": "stream",
     "text": [
      "Train Loss: 0.2176 | Train Acc: 92.44%\n",
      "Valid Loss: 0.3698 | Valid Acc: 87.56%\n",
      "Test  Loss: 0.5487 | Test Acc: 83.94%\n",
      "--------------------------------------------------\n",
      "[Epoch 113/170] :\n"
     ]
    },
    {
     "name": "stderr",
     "output_type": "stream",
     "text": [
      "113 Train: 100%|█████| 352/352 [00:29<00:00, 11.74it/s]\n"
     ]
    },
    {
     "name": "stdout",
     "output_type": "stream",
     "text": [
      "Train Loss: 0.2152 | Train Acc: 92.40%\n",
      "Valid Loss: 0.3887 | Valid Acc: 86.98%\n",
      "Test  Loss: 0.4996 | Test Acc: 84.66%\n",
      "--------------------------------------------------\n",
      "[Epoch 114/170] :\n"
     ]
    },
    {
     "name": "stderr",
     "output_type": "stream",
     "text": [
      "114 Train: 100%|█████| 352/352 [00:29<00:00, 11.82it/s]\n"
     ]
    },
    {
     "name": "stdout",
     "output_type": "stream",
     "text": [
      "Train Loss: 0.2156 | Train Acc: 92.54%\n",
      "Valid Loss: 0.3828 | Valid Acc: 87.46%\n",
      "Test  Loss: 0.5576 | Test Acc: 83.14%\n",
      "--------------------------------------------------\n",
      "[Epoch 115/170] :\n"
     ]
    },
    {
     "name": "stderr",
     "output_type": "stream",
     "text": [
      "115 Train: 100%|█████| 352/352 [00:30<00:00, 11.50it/s]\n"
     ]
    },
    {
     "name": "stdout",
     "output_type": "stream",
     "text": [
      "Train Loss: 0.2131 | Train Acc: 92.52%\n",
      "Valid Loss: 0.4083 | Valid Acc: 87.46%\n",
      "Test  Loss: 0.5962 | Test Acc: 81.98%\n",
      "--------------------------------------------------\n",
      "[Epoch 116/170] :\n"
     ]
    },
    {
     "name": "stderr",
     "output_type": "stream",
     "text": [
      "116 Train: 100%|█████| 352/352 [00:29<00:00, 12.02it/s]\n"
     ]
    },
    {
     "name": "stdout",
     "output_type": "stream",
     "text": [
      "Train Loss: 0.2166 | Train Acc: 92.54%\n",
      "Valid Loss: 0.3978 | Valid Acc: 87.14%\n",
      "Test  Loss: 0.6230 | Test Acc: 81.52%\n",
      "--------------------------------------------------\n",
      "[Epoch 117/170] :\n"
     ]
    },
    {
     "name": "stderr",
     "output_type": "stream",
     "text": [
      "117 Train: 100%|█████| 352/352 [00:29<00:00, 11.79it/s]\n"
     ]
    },
    {
     "name": "stdout",
     "output_type": "stream",
     "text": [
      "Train Loss: 0.2133 | Train Acc: 92.60%\n",
      "Valid Loss: 0.3748 | Valid Acc: 87.62%\n",
      "Test  Loss: 0.5696 | Test Acc: 83.29%\n",
      "--------------------------------------------------\n",
      "[Epoch 118/170] :\n"
     ]
    },
    {
     "name": "stderr",
     "output_type": "stream",
     "text": [
      "118 Train: 100%|█████| 352/352 [00:29<00:00, 11.90it/s]\n"
     ]
    },
    {
     "name": "stdout",
     "output_type": "stream",
     "text": [
      "Train Loss: 0.2132 | Train Acc: 92.54%\n",
      "Valid Loss: 0.4195 | Valid Acc: 86.80%\n",
      "Test  Loss: 0.6464 | Test Acc: 81.42%\n",
      "--------------------------------------------------\n",
      "[Epoch 119/170] :\n"
     ]
    },
    {
     "name": "stderr",
     "output_type": "stream",
     "text": [
      "119 Train: 100%|█████| 352/352 [00:29<00:00, 11.77it/s]\n"
     ]
    },
    {
     "name": "stdout",
     "output_type": "stream",
     "text": [
      "Train Loss: 0.2103 | Train Acc: 92.72%\n",
      "Valid Loss: 0.3863 | Valid Acc: 87.68%\n",
      "Test  Loss: 0.5708 | Test Acc: 83.29%\n",
      "--------------------------------------------------\n",
      "[Epoch 120/170] :\n"
     ]
    },
    {
     "name": "stderr",
     "output_type": "stream",
     "text": [
      "120 Train: 100%|█████| 352/352 [00:29<00:00, 11.82it/s]\n"
     ]
    },
    {
     "name": "stdout",
     "output_type": "stream",
     "text": [
      "Train Loss: 0.2122 | Train Acc: 92.64%\n",
      "Valid Loss: 0.3989 | Valid Acc: 86.96%\n",
      "Test  Loss: 0.5464 | Test Acc: 83.76%\n",
      "--------------------------------------------------\n",
      "[Epoch 121/170] :\n"
     ]
    },
    {
     "name": "stderr",
     "output_type": "stream",
     "text": [
      "121 Train: 100%|█████| 352/352 [00:29<00:00, 11.82it/s]\n"
     ]
    },
    {
     "name": "stdout",
     "output_type": "stream",
     "text": [
      "Train Loss: 0.2114 | Train Acc: 92.71%\n",
      "Valid Loss: 0.4088 | Valid Acc: 87.50%\n",
      "Test  Loss: 0.5015 | Test Acc: 84.30%\n",
      "--------------------------------------------------\n",
      "[Epoch 122/170] :\n"
     ]
    },
    {
     "name": "stderr",
     "output_type": "stream",
     "text": [
      "122 Train: 100%|█████| 352/352 [00:29<00:00, 11.78it/s]\n"
     ]
    },
    {
     "name": "stdout",
     "output_type": "stream",
     "text": [
      "Train Loss: 0.2044 | Train Acc: 92.93%\n",
      "Valid Loss: 0.3891 | Valid Acc: 87.68%\n",
      "Test  Loss: 0.5288 | Test Acc: 83.84%\n",
      "--------------------------------------------------\n",
      "[Epoch 123/170] :\n"
     ]
    },
    {
     "name": "stderr",
     "output_type": "stream",
     "text": [
      "123 Train: 100%|█████| 352/352 [00:29<00:00, 11.76it/s]\n"
     ]
    },
    {
     "name": "stdout",
     "output_type": "stream",
     "text": [
      "Train Loss: 0.2109 | Train Acc: 92.66%\n",
      "Valid Loss: 0.3925 | Valid Acc: 87.04%\n",
      "Test  Loss: 0.4850 | Test Acc: 85.08%\n",
      "--------------------------------------------------\n",
      "[Epoch 124/170] :\n"
     ]
    },
    {
     "name": "stderr",
     "output_type": "stream",
     "text": [
      "124 Train: 100%|█████| 352/352 [00:29<00:00, 11.76it/s]\n"
     ]
    },
    {
     "name": "stdout",
     "output_type": "stream",
     "text": [
      "Train Loss: 0.2077 | Train Acc: 92.75%\n",
      "Valid Loss: 0.4291 | Valid Acc: 87.06%\n",
      "Test  Loss: 0.5272 | Test Acc: 84.15%\n",
      "--------------------------------------------------\n",
      "[Epoch 125/170] :\n"
     ]
    },
    {
     "name": "stderr",
     "output_type": "stream",
     "text": [
      "125 Train: 100%|█████| 352/352 [00:30<00:00, 11.70it/s]\n"
     ]
    },
    {
     "name": "stdout",
     "output_type": "stream",
     "text": [
      "Train Loss: 0.2060 | Train Acc: 92.68%\n",
      "Valid Loss: 0.3943 | Valid Acc: 87.58%\n",
      "Test  Loss: 0.5633 | Test Acc: 82.37%\n",
      "--------------------------------------------------\n",
      "[Epoch 126/170] :\n"
     ]
    },
    {
     "name": "stderr",
     "output_type": "stream",
     "text": [
      "126 Train: 100%|█████| 352/352 [00:29<00:00, 11.88it/s]\n"
     ]
    },
    {
     "name": "stdout",
     "output_type": "stream",
     "text": [
      "Train Loss: 0.2086 | Train Acc: 92.75%\n",
      "Valid Loss: 0.4305 | Valid Acc: 87.00%\n",
      "Test  Loss: 0.5902 | Test Acc: 82.51%\n",
      "--------------------------------------------------\n",
      "[Epoch 127/170] :\n"
     ]
    },
    {
     "name": "stderr",
     "output_type": "stream",
     "text": [
      "127 Train: 100%|█████| 352/352 [00:29<00:00, 11.84it/s]\n"
     ]
    },
    {
     "name": "stdout",
     "output_type": "stream",
     "text": [
      "Train Loss: 0.1983 | Train Acc: 93.17%\n",
      "Valid Loss: 0.3735 | Valid Acc: 88.08%\n",
      "Test  Loss: 0.5339 | Test Acc: 84.01%\n",
      "--------------------------------------------------\n",
      "[Epoch 128/170] :\n"
     ]
    },
    {
     "name": "stderr",
     "output_type": "stream",
     "text": [
      "128 Train: 100%|█████| 352/352 [00:29<00:00, 11.78it/s]\n"
     ]
    },
    {
     "name": "stdout",
     "output_type": "stream",
     "text": [
      "Train Loss: 0.1907 | Train Acc: 93.46%\n",
      "Valid Loss: 0.3760 | Valid Acc: 87.92%\n",
      "Test  Loss: 0.5293 | Test Acc: 84.07%\n",
      "--------------------------------------------------\n",
      "[Epoch 129/170] :\n"
     ]
    },
    {
     "name": "stderr",
     "output_type": "stream",
     "text": [
      "129 Train: 100%|█████| 352/352 [00:30<00:00, 11.72it/s]\n"
     ]
    },
    {
     "name": "stdout",
     "output_type": "stream",
     "text": [
      "Train Loss: 0.1878 | Train Acc: 93.60%\n",
      "Valid Loss: 0.4360 | Valid Acc: 87.32%\n",
      "Test  Loss: 0.5499 | Test Acc: 83.62%\n",
      "--------------------------------------------------\n",
      "[Epoch 130/170] :\n"
     ]
    },
    {
     "name": "stderr",
     "output_type": "stream",
     "text": [
      "130 Train: 100%|█████| 352/352 [00:29<00:00, 11.81it/s]\n"
     ]
    },
    {
     "name": "stdout",
     "output_type": "stream",
     "text": [
      "Train Loss: 0.1873 | Train Acc: 93.61%\n",
      "Valid Loss: 0.3772 | Valid Acc: 87.20%\n",
      "Test  Loss: 0.5432 | Test Acc: 83.91%\n",
      "--------------------------------------------------\n",
      "[Epoch 131/170] :\n"
     ]
    },
    {
     "name": "stderr",
     "output_type": "stream",
     "text": [
      "131 Train: 100%|█████| 352/352 [00:29<00:00, 11.76it/s]\n"
     ]
    },
    {
     "name": "stdout",
     "output_type": "stream",
     "text": [
      "Train Loss: 0.1818 | Train Acc: 93.68%\n",
      "Valid Loss: 0.3962 | Valid Acc: 87.40%\n",
      "Test  Loss: 0.5680 | Test Acc: 83.28%\n",
      "--------------------------------------------------\n",
      "[Epoch 132/170] :\n"
     ]
    },
    {
     "name": "stderr",
     "output_type": "stream",
     "text": [
      "132 Train: 100%|█████| 352/352 [00:29<00:00, 11.97it/s]\n"
     ]
    },
    {
     "name": "stdout",
     "output_type": "stream",
     "text": [
      "Train Loss: 0.1886 | Train Acc: 93.56%\n",
      "Valid Loss: 0.3561 | Valid Acc: 88.00%\n",
      "Test  Loss: 0.5530 | Test Acc: 83.15%\n",
      "updated best eval loss : 0.3560540061444044\n",
      "--------------------------------------------------\n",
      "[Epoch 133/170] :\n"
     ]
    },
    {
     "name": "stderr",
     "output_type": "stream",
     "text": [
      "133 Train: 100%|█████| 352/352 [00:29<00:00, 11.96it/s]\n"
     ]
    },
    {
     "name": "stdout",
     "output_type": "stream",
     "text": [
      "Train Loss: 0.1852 | Train Acc: 93.61%\n",
      "Valid Loss: 0.3721 | Valid Acc: 88.48%\n",
      "Test  Loss: 0.5540 | Test Acc: 83.32%\n",
      "--------------------------------------------------\n",
      "[Epoch 134/170] :\n"
     ]
    },
    {
     "name": "stderr",
     "output_type": "stream",
     "text": [
      "134 Train: 100%|█████| 352/352 [00:16<00:00, 21.18it/s]\n"
     ]
    },
    {
     "name": "stdout",
     "output_type": "stream",
     "text": [
      "Train Loss: 0.1819 | Train Acc: 93.79%\n",
      "Valid Loss: 0.3735 | Valid Acc: 87.96%\n",
      "Test  Loss: 0.5634 | Test Acc: 82.96%\n",
      "--------------------------------------------------\n",
      "[Epoch 135/170] :\n"
     ]
    },
    {
     "name": "stderr",
     "output_type": "stream",
     "text": [
      "135 Train: 100%|█████| 352/352 [00:16<00:00, 21.12it/s]\n"
     ]
    },
    {
     "name": "stdout",
     "output_type": "stream",
     "text": [
      "Train Loss: 0.1807 | Train Acc: 93.92%\n",
      "Valid Loss: 0.3490 | Valid Acc: 88.84%\n",
      "Test  Loss: 0.5563 | Test Acc: 83.19%\n",
      "updated best eval loss : 0.34896242916584014\n",
      "--------------------------------------------------\n",
      "[Epoch 136/170] :\n"
     ]
    },
    {
     "name": "stderr",
     "output_type": "stream",
     "text": [
      "136 Train: 100%|█████| 352/352 [00:16<00:00, 21.68it/s]\n"
     ]
    },
    {
     "name": "stdout",
     "output_type": "stream",
     "text": [
      "Train Loss: 0.1821 | Train Acc: 93.70%\n",
      "Valid Loss: 0.3821 | Valid Acc: 87.62%\n",
      "Test  Loss: 0.5582 | Test Acc: 83.30%\n",
      "--------------------------------------------------\n",
      "[Epoch 137/170] :\n"
     ]
    },
    {
     "name": "stderr",
     "output_type": "stream",
     "text": [
      "137 Train: 100%|█████| 352/352 [00:16<00:00, 21.10it/s]\n"
     ]
    },
    {
     "name": "stdout",
     "output_type": "stream",
     "text": [
      "Train Loss: 0.1828 | Train Acc: 93.73%\n",
      "Valid Loss: 0.3800 | Valid Acc: 87.66%\n",
      "Test  Loss: 0.5474 | Test Acc: 83.58%\n",
      "--------------------------------------------------\n",
      "[Epoch 138/170] :\n"
     ]
    },
    {
     "name": "stderr",
     "output_type": "stream",
     "text": [
      "138 Train: 100%|█████| 352/352 [00:16<00:00, 21.07it/s]\n"
     ]
    },
    {
     "name": "stdout",
     "output_type": "stream",
     "text": [
      "Train Loss: 0.1793 | Train Acc: 93.86%\n",
      "Valid Loss: 0.3522 | Valid Acc: 87.72%\n",
      "Test  Loss: 0.6076 | Test Acc: 82.44%\n",
      "--------------------------------------------------\n",
      "[Epoch 139/170] :\n"
     ]
    },
    {
     "name": "stderr",
     "output_type": "stream",
     "text": [
      "139 Train: 100%|█████| 352/352 [00:16<00:00, 21.19it/s]\n"
     ]
    },
    {
     "name": "stdout",
     "output_type": "stream",
     "text": [
      "Train Loss: 0.1802 | Train Acc: 93.82%\n",
      "Valid Loss: 0.3865 | Valid Acc: 87.68%\n",
      "Test  Loss: 0.5830 | Test Acc: 82.79%\n",
      "--------------------------------------------------\n",
      "[Epoch 140/170] :\n"
     ]
    },
    {
     "name": "stderr",
     "output_type": "stream",
     "text": [
      "140 Train: 100%|█████| 352/352 [00:16<00:00, 21.63it/s]\n"
     ]
    },
    {
     "name": "stdout",
     "output_type": "stream",
     "text": [
      "Train Loss: 0.1737 | Train Acc: 94.03%\n",
      "Valid Loss: 0.3628 | Valid Acc: 88.04%\n",
      "Test  Loss: 0.5872 | Test Acc: 82.75%\n",
      "--------------------------------------------------\n",
      "[Epoch 141/170] :\n"
     ]
    },
    {
     "name": "stderr",
     "output_type": "stream",
     "text": [
      "141 Train: 100%|█████| 352/352 [00:16<00:00, 21.23it/s]\n"
     ]
    },
    {
     "name": "stdout",
     "output_type": "stream",
     "text": [
      "Train Loss: 0.1836 | Train Acc: 93.68%\n",
      "Valid Loss: 0.3911 | Valid Acc: 88.16%\n",
      "Test  Loss: 0.5830 | Test Acc: 82.81%\n",
      "--------------------------------------------------\n",
      "[Epoch 142/170] :\n"
     ]
    },
    {
     "name": "stderr",
     "output_type": "stream",
     "text": [
      "142 Train: 100%|█████| 352/352 [00:16<00:00, 21.13it/s]\n"
     ]
    },
    {
     "name": "stdout",
     "output_type": "stream",
     "text": [
      "Train Loss: 0.1782 | Train Acc: 93.92%\n",
      "Valid Loss: 0.3771 | Valid Acc: 88.18%\n",
      "Test  Loss: 0.5662 | Test Acc: 83.21%\n",
      "--------------------------------------------------\n",
      "[Epoch 143/170] :\n"
     ]
    },
    {
     "name": "stderr",
     "output_type": "stream",
     "text": [
      "143 Train: 100%|█████| 352/352 [00:16<00:00, 21.00it/s]\n"
     ]
    },
    {
     "name": "stdout",
     "output_type": "stream",
     "text": [
      "Train Loss: 0.1800 | Train Acc: 93.77%\n",
      "Valid Loss: 0.3919 | Valid Acc: 87.78%\n",
      "Test  Loss: 0.5813 | Test Acc: 82.95%\n",
      "--------------------------------------------------\n",
      "[Epoch 144/170] :\n"
     ]
    },
    {
     "name": "stderr",
     "output_type": "stream",
     "text": [
      "144 Train: 100%|█████| 352/352 [00:16<00:00, 21.38it/s]\n"
     ]
    },
    {
     "name": "stdout",
     "output_type": "stream",
     "text": [
      "Train Loss: 0.1783 | Train Acc: 93.78%\n",
      "Valid Loss: 0.3755 | Valid Acc: 87.88%\n",
      "Test  Loss: 0.5910 | Test Acc: 82.39%\n",
      "--------------------------------------------------\n",
      "[Epoch 145/170] :\n"
     ]
    },
    {
     "name": "stderr",
     "output_type": "stream",
     "text": [
      "145 Train: 100%|█████| 352/352 [00:16<00:00, 21.42it/s]\n"
     ]
    },
    {
     "name": "stdout",
     "output_type": "stream",
     "text": [
      "Train Loss: 0.1791 | Train Acc: 93.89%\n",
      "Valid Loss: 0.3540 | Valid Acc: 88.54%\n",
      "Test  Loss: 0.6096 | Test Acc: 82.33%\n",
      "--------------------------------------------------\n",
      "[Epoch 146/170] :\n"
     ]
    },
    {
     "name": "stderr",
     "output_type": "stream",
     "text": [
      "146 Train: 100%|█████| 352/352 [00:16<00:00, 21.46it/s]\n"
     ]
    },
    {
     "name": "stdout",
     "output_type": "stream",
     "text": [
      "Train Loss: 0.1791 | Train Acc: 93.84%\n",
      "Valid Loss: 0.3873 | Valid Acc: 88.02%\n",
      "Test  Loss: 0.5950 | Test Acc: 82.55%\n",
      "--------------------------------------------------\n",
      "[Epoch 147/170] :\n"
     ]
    },
    {
     "name": "stderr",
     "output_type": "stream",
     "text": [
      "147 Train: 100%|█████| 352/352 [00:16<00:00, 20.98it/s]\n"
     ]
    },
    {
     "name": "stdout",
     "output_type": "stream",
     "text": [
      "Train Loss: 0.1790 | Train Acc: 93.93%\n",
      "Valid Loss: 0.3604 | Valid Acc: 88.06%\n",
      "Test  Loss: 0.6463 | Test Acc: 81.65%\n",
      "--------------------------------------------------\n",
      "[Epoch 148/170] :\n"
     ]
    },
    {
     "name": "stderr",
     "output_type": "stream",
     "text": [
      "148 Train: 100%|█████| 352/352 [00:16<00:00, 21.70it/s]\n"
     ]
    },
    {
     "name": "stdout",
     "output_type": "stream",
     "text": [
      "Train Loss: 0.1797 | Train Acc: 93.76%\n",
      "Valid Loss: 0.3683 | Valid Acc: 88.24%\n",
      "Test  Loss: 0.6109 | Test Acc: 82.16%\n",
      "--------------------------------------------------\n",
      "[Epoch 149/170] :\n"
     ]
    },
    {
     "name": "stderr",
     "output_type": "stream",
     "text": [
      "149 Train: 100%|█████| 352/352 [00:16<00:00, 20.83it/s]\n"
     ]
    },
    {
     "name": "stdout",
     "output_type": "stream",
     "text": [
      "Train Loss: 0.1796 | Train Acc: 93.74%\n",
      "Valid Loss: 0.3757 | Valid Acc: 87.96%\n",
      "Test  Loss: 0.6150 | Test Acc: 81.97%\n",
      "--------------------------------------------------\n",
      "[Epoch 150/170] :\n"
     ]
    },
    {
     "name": "stderr",
     "output_type": "stream",
     "text": [
      "150 Train: 100%|█████| 352/352 [00:16<00:00, 21.17it/s]\n"
     ]
    },
    {
     "name": "stdout",
     "output_type": "stream",
     "text": [
      "Train Loss: 0.1811 | Train Acc: 93.79%\n",
      "Valid Loss: 0.3498 | Valid Acc: 88.28%\n",
      "Test  Loss: 0.6402 | Test Acc: 81.52%\n",
      "--------------------------------------------------\n",
      "[Epoch 151/170] :\n"
     ]
    },
    {
     "name": "stderr",
     "output_type": "stream",
     "text": [
      "151 Train: 100%|█████| 352/352 [00:16<00:00, 21.17it/s]\n"
     ]
    },
    {
     "name": "stdout",
     "output_type": "stream",
     "text": [
      "Train Loss: 0.1817 | Train Acc: 93.72%\n",
      "Valid Loss: 0.3622 | Valid Acc: 88.42%\n",
      "Test  Loss: 0.6486 | Test Acc: 81.25%\n",
      "--------------------------------------------------\n",
      "[Epoch 152/170] :\n"
     ]
    },
    {
     "name": "stderr",
     "output_type": "stream",
     "text": [
      "152 Train: 100%|█████| 352/352 [00:16<00:00, 20.83it/s]\n"
     ]
    },
    {
     "name": "stdout",
     "output_type": "stream",
     "text": [
      "Train Loss: 0.1788 | Train Acc: 93.86%\n",
      "Valid Loss: 0.3947 | Valid Acc: 87.32%\n",
      "Test  Loss: 0.5940 | Test Acc: 82.35%\n",
      "--------------------------------------------------\n",
      "[Epoch 153/170] :\n"
     ]
    },
    {
     "name": "stderr",
     "output_type": "stream",
     "text": [
      "153 Train: 100%|█████| 352/352 [00:16<00:00, 21.00it/s]\n"
     ]
    },
    {
     "name": "stdout",
     "output_type": "stream",
     "text": [
      "Train Loss: 0.1764 | Train Acc: 93.94%\n",
      "Valid Loss: 0.3749 | Valid Acc: 88.48%\n",
      "Test  Loss: 0.5887 | Test Acc: 82.52%\n",
      "--------------------------------------------------\n",
      "[Epoch 154/170] :\n"
     ]
    },
    {
     "name": "stderr",
     "output_type": "stream",
     "text": [
      "154 Train: 100%|█████| 352/352 [00:16<00:00, 21.31it/s]\n"
     ]
    },
    {
     "name": "stdout",
     "output_type": "stream",
     "text": [
      "Train Loss: 0.1781 | Train Acc: 93.93%\n",
      "Valid Loss: 0.3892 | Valid Acc: 87.70%\n",
      "Test  Loss: 0.5948 | Test Acc: 82.55%\n",
      "--------------------------------------------------\n",
      "[Epoch 155/170] :\n"
     ]
    },
    {
     "name": "stderr",
     "output_type": "stream",
     "text": [
      "155 Train: 100%|█████| 352/352 [00:16<00:00, 21.17it/s]\n"
     ]
    },
    {
     "name": "stdout",
     "output_type": "stream",
     "text": [
      "Train Loss: 0.1752 | Train Acc: 93.98%\n",
      "Valid Loss: 0.3659 | Valid Acc: 87.82%\n",
      "Test  Loss: 0.6055 | Test Acc: 82.06%\n",
      "--------------------------------------------------\n",
      "[Epoch 156/170] :\n"
     ]
    },
    {
     "name": "stderr",
     "output_type": "stream",
     "text": [
      "156 Train: 100%|█████| 352/352 [00:16<00:00, 21.14it/s]\n"
     ]
    },
    {
     "name": "stdout",
     "output_type": "stream",
     "text": [
      "Train Loss: 0.1776 | Train Acc: 93.84%\n",
      "Valid Loss: 0.3757 | Valid Acc: 87.98%\n",
      "Test  Loss: 0.6239 | Test Acc: 82.15%\n",
      "--------------------------------------------------\n",
      "[Epoch 157/170] :\n"
     ]
    },
    {
     "name": "stderr",
     "output_type": "stream",
     "text": [
      "157 Train: 100%|█████| 352/352 [00:16<00:00, 21.22it/s]\n"
     ]
    },
    {
     "name": "stdout",
     "output_type": "stream",
     "text": [
      "Train Loss: 0.1780 | Train Acc: 93.78%\n",
      "Valid Loss: 0.3748 | Valid Acc: 87.72%\n",
      "Test  Loss: 0.6047 | Test Acc: 82.33%\n",
      "--------------------------------------------------\n",
      "[Epoch 158/170] :\n"
     ]
    },
    {
     "name": "stderr",
     "output_type": "stream",
     "text": [
      "158 Train: 100%|█████| 352/352 [00:16<00:00, 21.24it/s]\n"
     ]
    },
    {
     "name": "stdout",
     "output_type": "stream",
     "text": [
      "Train Loss: 0.1736 | Train Acc: 94.08%\n",
      "Valid Loss: 0.3687 | Valid Acc: 87.76%\n",
      "Test  Loss: 0.5814 | Test Acc: 83.01%\n",
      "--------------------------------------------------\n",
      "[Epoch 159/170] :\n"
     ]
    },
    {
     "name": "stderr",
     "output_type": "stream",
     "text": [
      "159 Train: 100%|█████| 352/352 [00:16<00:00, 20.95it/s]\n"
     ]
    },
    {
     "name": "stdout",
     "output_type": "stream",
     "text": [
      "Train Loss: 0.1742 | Train Acc: 94.11%\n",
      "Valid Loss: 0.3713 | Valid Acc: 88.34%\n",
      "Test  Loss: 0.6114 | Test Acc: 82.16%\n",
      "--------------------------------------------------\n",
      "[Epoch 160/170] :\n"
     ]
    },
    {
     "name": "stderr",
     "output_type": "stream",
     "text": [
      "160 Train: 100%|█████| 352/352 [00:16<00:00, 21.22it/s]\n"
     ]
    },
    {
     "name": "stdout",
     "output_type": "stream",
     "text": [
      "Train Loss: 0.1793 | Train Acc: 93.88%\n",
      "Valid Loss: 0.3491 | Valid Acc: 88.62%\n",
      "Test  Loss: 0.6156 | Test Acc: 82.28%\n",
      "--------------------------------------------------\n",
      "[Epoch 161/170] :\n"
     ]
    },
    {
     "name": "stderr",
     "output_type": "stream",
     "text": [
      "161 Train: 100%|█████| 352/352 [00:16<00:00, 20.98it/s]\n"
     ]
    },
    {
     "name": "stdout",
     "output_type": "stream",
     "text": [
      "Train Loss: 0.1709 | Train Acc: 94.24%\n",
      "Valid Loss: 0.3723 | Valid Acc: 88.00%\n",
      "Test  Loss: 0.6313 | Test Acc: 81.96%\n",
      "--------------------------------------------------\n",
      "[Epoch 162/170] :\n"
     ]
    },
    {
     "name": "stderr",
     "output_type": "stream",
     "text": [
      "162 Train: 100%|█████| 352/352 [00:16<00:00, 21.08it/s]\n"
     ]
    },
    {
     "name": "stdout",
     "output_type": "stream",
     "text": [
      "Train Loss: 0.1723 | Train Acc: 94.00%\n",
      "Valid Loss: 0.3655 | Valid Acc: 87.70%\n",
      "Test  Loss: 0.5914 | Test Acc: 82.68%\n",
      "--------------------------------------------------\n",
      "[Epoch 163/170] :\n"
     ]
    },
    {
     "name": "stderr",
     "output_type": "stream",
     "text": [
      "163 Train: 100%|█████| 352/352 [00:16<00:00, 20.97it/s]\n"
     ]
    },
    {
     "name": "stdout",
     "output_type": "stream",
     "text": [
      "Train Loss: 0.1738 | Train Acc: 94.01%\n",
      "Valid Loss: 0.3544 | Valid Acc: 88.54%\n",
      "Test  Loss: 0.5860 | Test Acc: 82.70%\n",
      "--------------------------------------------------\n",
      "[Epoch 164/170] :\n"
     ]
    },
    {
     "name": "stderr",
     "output_type": "stream",
     "text": [
      "164 Train: 100%|█████| 352/352 [00:16<00:00, 21.40it/s]\n"
     ]
    },
    {
     "name": "stdout",
     "output_type": "stream",
     "text": [
      "Train Loss: 0.1761 | Train Acc: 93.88%\n",
      "Valid Loss: 0.3679 | Valid Acc: 87.72%\n",
      "Test  Loss: 0.5900 | Test Acc: 82.58%\n",
      "--------------------------------------------------\n",
      "[Epoch 165/170] :\n"
     ]
    },
    {
     "name": "stderr",
     "output_type": "stream",
     "text": [
      "165 Train: 100%|█████| 352/352 [00:16<00:00, 21.33it/s]\n"
     ]
    },
    {
     "name": "stdout",
     "output_type": "stream",
     "text": [
      "Train Loss: 0.1732 | Train Acc: 94.09%\n",
      "Valid Loss: 0.3585 | Valid Acc: 88.20%\n",
      "Test  Loss: 0.6012 | Test Acc: 82.74%\n",
      "--------------------------------------------------\n",
      "[Epoch 166/170] :\n"
     ]
    },
    {
     "name": "stderr",
     "output_type": "stream",
     "text": [
      "166 Train: 100%|█████| 352/352 [00:16<00:00, 21.43it/s]\n"
     ]
    },
    {
     "name": "stdout",
     "output_type": "stream",
     "text": [
      "Train Loss: 0.1720 | Train Acc: 94.08%\n",
      "Valid Loss: 0.3840 | Valid Acc: 87.88%\n",
      "Test  Loss: 0.6019 | Test Acc: 82.29%\n",
      "--------------------------------------------------\n",
      "[Epoch 167/170] :\n"
     ]
    },
    {
     "name": "stderr",
     "output_type": "stream",
     "text": [
      "167 Train: 100%|█████| 352/352 [00:16<00:00, 21.15it/s]\n"
     ]
    },
    {
     "name": "stdout",
     "output_type": "stream",
     "text": [
      "Train Loss: 0.1722 | Train Acc: 94.10%\n",
      "Valid Loss: 0.3800 | Valid Acc: 87.86%\n",
      "Test  Loss: 0.6137 | Test Acc: 82.45%\n",
      "--------------------------------------------------\n",
      "[Epoch 168/170] :\n"
     ]
    },
    {
     "name": "stderr",
     "output_type": "stream",
     "text": [
      "168 Train: 100%|█████| 352/352 [00:16<00:00, 20.84it/s]\n"
     ]
    },
    {
     "name": "stdout",
     "output_type": "stream",
     "text": [
      "Train Loss: 0.1758 | Train Acc: 93.96%\n",
      "Valid Loss: 0.3741 | Valid Acc: 88.10%\n",
      "Test  Loss: 0.6046 | Test Acc: 82.57%\n",
      "--------------------------------------------------\n",
      "[Epoch 169/170] :\n"
     ]
    },
    {
     "name": "stderr",
     "output_type": "stream",
     "text": [
      "169 Train: 100%|█████| 352/352 [00:16<00:00, 21.26it/s]\n"
     ]
    },
    {
     "name": "stdout",
     "output_type": "stream",
     "text": [
      "Train Loss: 0.1756 | Train Acc: 93.95%\n",
      "Valid Loss: 0.3712 | Valid Acc: 87.42%\n",
      "Test  Loss: 0.6319 | Test Acc: 82.11%\n",
      "--------------------------------------------------\n",
      "[Epoch 170/170] :\n"
     ]
    },
    {
     "name": "stderr",
     "output_type": "stream",
     "text": [
      "170 Train: 100%|█████| 352/352 [00:16<00:00, 21.36it/s]\n"
     ]
    },
    {
     "name": "stdout",
     "output_type": "stream",
     "text": [
      "Train Loss: 0.1738 | Train Acc: 94.18%\n",
      "Valid Loss: 0.3962 | Valid Acc: 87.98%\n",
      "Test  Loss: 0.6312 | Test Acc: 81.69%\n",
      "--------------------------------------------------\n"
     ]
    }
   ],
   "source": [
    "Training = DoTraining(\n",
    "    model=model,\n",
    "    criterion=criterion,\n",
    "    optimizer=optimizer,\n",
    "    scaler=scaler,\n",
    "    scheduler=scheduler,\n",
    "    earlystopper=earlystopper,\n",
    "    device=device,\n",
    "    logs=logs,\n",
    "    file_path=file_name,\n",
    ")\n",
    "pre_epochs = len(Training.logs[\"train_loss\"])\n",
    "\n",
    "for epoch in range(NUM_EPOCHS):\n",
    "    now = epoch + 1 + pre_epochs\n",
    "    print(f\"[Epoch {epoch+1+pre_epochs}/{NUM_EPOCHS}] :\")\n",
    "\n",
    "    if DATASET == \"ImageNet2012\":\n",
    "        eval_loss = Training.SingleEpoch(train_dataloader, valid_dataloader)\n",
    "    else:\n",
    "        eval_loss = Training.SingleEpoch(\n",
    "            train_dataloader, valid_dataloader, test_dataloader\n",
    "        )\n",
    "\n",
    "    Training.Save()\n",
    "\n",
    "    \n",
    "    \n",
    "    if earlystopper.check(eval_loss) == True:\n",
    "        break\n",
    "\n",
    "    print(\"-\" * 50)"
   ]
  },
  {
   "cell_type": "code",
   "execution_count": 28,
   "metadata": {},
   "outputs": [
    {
     "data": {
      "image/png": "[encoded data removed]",
      "text/plain": [
       "<Figure size 1000x500 with 2 Axes>"
      ]
     },
     "metadata": {},
     "output_type": "display_data"
    }
   ],
   "source": [
    "view = LogViewer(logs)\n",
    "view.draw(save_name=file_name)"
   ]
  },
  {
   "cell_type": "code",
   "execution_count": 29,
   "metadata": {},
   "outputs": [
    {
     "name": "stdout",
     "output_type": "stream",
     "text": [
      "1 epoch: train_loss=2.3364, train_acc=0.1422, test_loss=2.1913, test_acc=0.1879, valid_loss=2.1240, valid_acc=0.1956, lr=0.1000\n",
      "2 epoch: train_loss=1.9733, train_acc=0.2546, test_loss=2.2685, test_acc=0.2189, valid_loss=1.8866, valid_acc=0.2906, lr=0.1000\n",
      "3 epoch: train_loss=1.7193, train_acc=0.3637, test_loss=1.7856, test_acc=0.3428, valid_loss=1.6321, valid_acc=0.3896, lr=0.1000\n",
      "4 epoch: train_loss=1.4156, train_acc=0.4905, test_loss=1.8405, test_acc=0.3803, valid_loss=1.3270, valid_acc=0.5226, lr=0.1000\n",
      "5 epoch: train_loss=1.1831, train_acc=0.5783, test_loss=1.2062, test_acc=0.5774, valid_loss=1.1533, valid_acc=0.5866, lr=0.1000\n",
      "6 epoch: train_loss=1.0560, train_acc=0.6280, test_loss=1.2387, test_acc=0.5889, valid_loss=1.2827, valid_acc=0.5734, lr=0.1000\n",
      "7 epoch: train_loss=0.9500, train_acc=0.6667, test_loss=0.9736, test_acc=0.6748, valid_loss=1.1741, valid_acc=0.6042, lr=0.1000\n",
      "8 epoch: train_loss=0.8896, train_acc=0.6909, test_loss=0.8236, test_acc=0.7153, valid_loss=0.9501, valid_acc=0.6672, lr=0.1000\n",
      "9 epoch: train_loss=0.8357, train_acc=0.7083, test_loss=0.8117, test_acc=0.7200, valid_loss=0.8572, valid_acc=0.7060, lr=0.1000\n",
      "10 epoch: train_loss=0.7922, train_acc=0.7239, test_loss=1.1801, test_acc=0.6245, valid_loss=0.8334, valid_acc=0.7102, lr=0.1000\n",
      "11 epoch: train_loss=0.7627, train_acc=0.7372, test_loss=0.9360, test_acc=0.6885, valid_loss=0.8396, valid_acc=0.7102, lr=0.1000\n",
      "12 epoch: train_loss=0.7345, train_acc=0.7450, test_loss=0.8033, test_acc=0.7299, valid_loss=0.8499, valid_acc=0.7190, lr=0.1000\n",
      "13 epoch: train_loss=0.7078, train_acc=0.7522, test_loss=0.9456, test_acc=0.6897, valid_loss=0.7179, valid_acc=0.7450, lr=0.1000\n",
      "14 epoch: train_loss=0.6951, train_acc=0.7571, test_loss=0.7192, test_acc=0.7556, valid_loss=0.8197, valid_acc=0.7184, lr=0.1000\n",
      "15 epoch: train_loss=0.6651, train_acc=0.7686, test_loss=0.7157, test_acc=0.7582, valid_loss=0.7265, valid_acc=0.7450, lr=0.1000\n",
      "16 epoch: train_loss=0.6530, train_acc=0.7749, test_loss=0.7420, test_acc=0.7563, valid_loss=0.7695, valid_acc=0.7418, lr=0.1000\n",
      "17 epoch: train_loss=0.6388, train_acc=0.7766, test_loss=0.8192, test_acc=0.7201, valid_loss=0.7591, valid_acc=0.7434, lr=0.1000\n",
      "18 epoch: train_loss=0.6299, train_acc=0.7816, test_loss=0.8551, test_acc=0.7270, valid_loss=0.7921, valid_acc=0.7322, lr=0.1000\n",
      "19 epoch: train_loss=0.6240, train_acc=0.7838, test_loss=0.9214, test_acc=0.7058, valid_loss=0.8259, valid_acc=0.7228, lr=0.1000\n",
      "20 epoch: train_loss=0.5971, train_acc=0.7929, test_loss=0.8808, test_acc=0.7126, valid_loss=0.6979, valid_acc=0.7632, lr=0.1000\n",
      "21 epoch: train_loss=0.5969, train_acc=0.7935, test_loss=0.7674, test_acc=0.7512, valid_loss=0.7058, valid_acc=0.7592, lr=0.1000\n",
      "22 epoch: train_loss=0.5775, train_acc=0.8004, test_loss=0.7674, test_acc=0.7498, valid_loss=0.7385, valid_acc=0.7508, lr=0.1000\n",
      "23 epoch: train_loss=0.5738, train_acc=0.8023, test_loss=0.7005, test_acc=0.7631, valid_loss=0.6603, valid_acc=0.7702, lr=0.1000\n",
      "24 epoch: train_loss=0.5634, train_acc=0.8043, test_loss=0.8272, test_acc=0.7259, valid_loss=0.6913, valid_acc=0.7614, lr=0.1000\n",
      "25 epoch: train_loss=0.5614, train_acc=0.8054, test_loss=0.7581, test_acc=0.7451, valid_loss=0.6898, valid_acc=0.7668, lr=0.1000\n",
      "26 epoch: train_loss=0.5501, train_acc=0.8083, test_loss=1.0774, test_acc=0.6715, valid_loss=0.7362, valid_acc=0.7480, lr=0.1000\n",
      "27 epoch: train_loss=0.5432, train_acc=0.8100, test_loss=0.8458, test_acc=0.7118, valid_loss=0.6179, valid_acc=0.7806, lr=0.1000\n",
      "28 epoch: train_loss=0.5372, train_acc=0.8155, test_loss=0.8430, test_acc=0.7358, valid_loss=0.7880, valid_acc=0.7424, lr=0.1000\n",
      "29 epoch: train_loss=0.5316, train_acc=0.8162, test_loss=0.7046, test_acc=0.7681, valid_loss=0.7362, valid_acc=0.7570, lr=0.1000\n",
      "30 epoch: train_loss=0.5323, train_acc=0.8158, test_loss=0.8906, test_acc=0.7061, valid_loss=0.6024, valid_acc=0.7920, lr=0.1000\n",
      "31 epoch: train_loss=0.5307, train_acc=0.8165, test_loss=0.6197, test_acc=0.7939, valid_loss=0.6650, valid_acc=0.7742, lr=0.1000\n",
      "32 epoch: train_loss=0.5185, train_acc=0.8189, test_loss=0.6890, test_acc=0.7594, valid_loss=0.6031, valid_acc=0.7902, lr=0.1000\n",
      "33 epoch: train_loss=0.5187, train_acc=0.8191, test_loss=0.8764, test_acc=0.7268, valid_loss=0.5997, valid_acc=0.7958, lr=0.1000\n",
      "34 epoch: train_loss=0.5097, train_acc=0.8233, test_loss=1.0192, test_acc=0.6822, valid_loss=0.6261, valid_acc=0.7782, lr=0.1000\n",
      "35 epoch: train_loss=0.4977, train_acc=0.8264, test_loss=0.9975, test_acc=0.6761, valid_loss=0.7659, valid_acc=0.7472, lr=0.1000\n",
      "36 epoch: train_loss=0.5046, train_acc=0.8255, test_loss=0.5938, test_acc=0.7953, valid_loss=0.5815, valid_acc=0.8006, lr=0.1000\n",
      "37 epoch: train_loss=0.5030, train_acc=0.8258, test_loss=0.6945, test_acc=0.7651, valid_loss=0.5905, valid_acc=0.7980, lr=0.1000\n",
      "38 epoch: train_loss=0.4967, train_acc=0.8260, test_loss=0.6420, test_acc=0.7851, valid_loss=0.6258, valid_acc=0.7882, lr=0.1000\n",
      "39 epoch: train_loss=0.4894, train_acc=0.8292, test_loss=0.8025, test_acc=0.7278, valid_loss=0.5898, valid_acc=0.7986, lr=0.1000\n",
      "40 epoch: train_loss=0.4857, train_acc=0.8299, test_loss=0.6222, test_acc=0.7987, valid_loss=0.6043, valid_acc=0.7972, lr=0.1000\n",
      "41 epoch: train_loss=0.4788, train_acc=0.8327, test_loss=0.8285, test_acc=0.7265, valid_loss=0.5805, valid_acc=0.7972, lr=0.1000\n",
      "42 epoch: train_loss=0.4782, train_acc=0.8328, test_loss=0.8337, test_acc=0.7344, valid_loss=0.6473, valid_acc=0.7910, lr=0.1000\n",
      "43 epoch: train_loss=0.4767, train_acc=0.8340, test_loss=0.5774, test_acc=0.8036, valid_loss=0.5457, valid_acc=0.8094, lr=0.1000\n",
      "44 epoch: train_loss=0.4744, train_acc=0.8347, test_loss=0.6345, test_acc=0.7880, valid_loss=0.6300, valid_acc=0.7842, lr=0.1000\n",
      "45 epoch: train_loss=0.4703, train_acc=0.8352, test_loss=0.8962, test_acc=0.7190, valid_loss=0.5799, valid_acc=0.7996, lr=0.1000\n",
      "46 epoch: train_loss=0.4739, train_acc=0.8328, test_loss=0.7897, test_acc=0.7371, valid_loss=0.6032, valid_acc=0.7970, lr=0.1000\n",
      "47 epoch: train_loss=0.4621, train_acc=0.8401, test_loss=0.6083, test_acc=0.7987, valid_loss=0.5853, valid_acc=0.7914, lr=0.1000\n",
      "48 epoch: train_loss=0.4652, train_acc=0.8386, test_loss=0.8108, test_acc=0.7215, valid_loss=0.5831, valid_acc=0.8002, lr=0.1000\n",
      "49 epoch: train_loss=0.4593, train_acc=0.8399, test_loss=1.0003, test_acc=0.6887, valid_loss=0.7624, valid_acc=0.7544, lr=0.1000\n",
      "50 epoch: train_loss=0.4592, train_acc=0.8386, test_loss=0.8984, test_acc=0.7298, valid_loss=0.5499, valid_acc=0.8136, lr=0.1000\n",
      "51 epoch: train_loss=0.4579, train_acc=0.8421, test_loss=0.6944, test_acc=0.7661, valid_loss=0.6051, valid_acc=0.7884, lr=0.1000\n",
      "52 epoch: train_loss=0.4570, train_acc=0.8421, test_loss=0.8076, test_acc=0.7469, valid_loss=0.5615, valid_acc=0.8140, lr=0.1000\n",
      "53 epoch: train_loss=0.4483, train_acc=0.8453, test_loss=0.8401, test_acc=0.7398, valid_loss=0.5992, valid_acc=0.7968, lr=0.1000\n",
      "54 epoch: train_loss=0.4536, train_acc=0.8423, test_loss=0.6557, test_acc=0.7841, valid_loss=0.5340, valid_acc=0.8190, lr=0.1000\n",
      "55 epoch: train_loss=0.4451, train_acc=0.8445, test_loss=0.6684, test_acc=0.7768, valid_loss=0.5990, valid_acc=0.7980, lr=0.1000\n",
      "56 epoch: train_loss=0.4563, train_acc=0.8427, test_loss=0.9186, test_acc=0.7042, valid_loss=0.6731, valid_acc=0.7788, lr=0.1000\n",
      "57 epoch: train_loss=0.4485, train_acc=0.8458, test_loss=0.5959, test_acc=0.7965, valid_loss=0.5805, valid_acc=0.8082, lr=0.1000\n",
      "58 epoch: train_loss=0.4472, train_acc=0.8454, test_loss=0.7471, test_acc=0.7589, valid_loss=0.5388, valid_acc=0.8150, lr=0.1000\n",
      "59 epoch: train_loss=0.4448, train_acc=0.8445, test_loss=0.7719, test_acc=0.7663, valid_loss=0.6477, valid_acc=0.7854, lr=0.1000\n",
      "60 epoch: train_loss=0.4381, train_acc=0.8482, test_loss=0.7238, test_acc=0.7661, valid_loss=0.6048, valid_acc=0.8042, lr=0.1000\n",
      "61 epoch: train_loss=0.4315, train_acc=0.8505, test_loss=0.6224, test_acc=0.7964, valid_loss=0.5870, valid_acc=0.8068, lr=0.1000\n",
      "62 epoch: train_loss=0.4372, train_acc=0.8456, test_loss=0.6731, test_acc=0.7824, valid_loss=0.6824, valid_acc=0.7810, lr=0.1000\n",
      "63 epoch: train_loss=0.4296, train_acc=0.8510, test_loss=0.4942, test_acc=0.8360, valid_loss=0.5378, valid_acc=0.8122, lr=0.1000\n",
      "64 epoch: train_loss=0.4336, train_acc=0.8478, test_loss=0.5065, test_acc=0.8302, valid_loss=0.5549, valid_acc=0.8106, lr=0.1000\n",
      "65 epoch: train_loss=0.4321, train_acc=0.8489, test_loss=0.8300, test_acc=0.7438, valid_loss=0.6714, valid_acc=0.7772, lr=0.1000\n",
      "66 epoch: train_loss=0.3459, train_acc=0.8788, test_loss=0.4637, test_acc=0.8398, valid_loss=0.4239, valid_acc=0.8560, lr=0.0100\n",
      "67 epoch: train_loss=0.3101, train_acc=0.8921, test_loss=0.4536, test_acc=0.8455, valid_loss=0.3847, valid_acc=0.8608, lr=0.0100\n",
      "68 epoch: train_loss=0.2953, train_acc=0.8977, test_loss=0.4714, test_acc=0.8400, valid_loss=0.4106, valid_acc=0.8572, lr=0.0100\n",
      "69 epoch: train_loss=0.2865, train_acc=0.9008, test_loss=0.4608, test_acc=0.8426, valid_loss=0.4146, valid_acc=0.8600, lr=0.0100\n",
      "70 epoch: train_loss=0.2878, train_acc=0.9012, test_loss=0.4499, test_acc=0.8502, valid_loss=0.3832, valid_acc=0.8650, lr=0.0100\n",
      "71 epoch: train_loss=0.2793, train_acc=0.9036, test_loss=0.4529, test_acc=0.8498, valid_loss=0.3804, valid_acc=0.8734, lr=0.0100\n",
      "72 epoch: train_loss=0.2767, train_acc=0.9042, test_loss=0.4345, test_acc=0.8582, valid_loss=0.4025, valid_acc=0.8626, lr=0.0100\n",
      "73 epoch: train_loss=0.2721, train_acc=0.9056, test_loss=0.4532, test_acc=0.8526, valid_loss=0.3949, valid_acc=0.8678, lr=0.0100\n",
      "74 epoch: train_loss=0.2685, train_acc=0.9071, test_loss=0.4840, test_acc=0.8428, valid_loss=0.3805, valid_acc=0.8660, lr=0.0100\n",
      "75 epoch: train_loss=0.2645, train_acc=0.9095, test_loss=0.4648, test_acc=0.8493, valid_loss=0.3783, valid_acc=0.8702, lr=0.0100\n",
      "76 epoch: train_loss=0.2670, train_acc=0.9074, test_loss=0.4881, test_acc=0.8384, valid_loss=0.3832, valid_acc=0.8684, lr=0.0100\n",
      "77 epoch: train_loss=0.2592, train_acc=0.9096, test_loss=0.4990, test_acc=0.8411, valid_loss=0.4162, valid_acc=0.8662, lr=0.0100\n",
      "78 epoch: train_loss=0.2548, train_acc=0.9110, test_loss=0.5988, test_acc=0.8107, valid_loss=0.3901, valid_acc=0.8702, lr=0.0100\n",
      "79 epoch: train_loss=0.2540, train_acc=0.9131, test_loss=0.4941, test_acc=0.8384, valid_loss=0.3794, valid_acc=0.8726, lr=0.0100\n",
      "80 epoch: train_loss=0.2494, train_acc=0.9134, test_loss=0.6525, test_acc=0.8045, valid_loss=0.4061, valid_acc=0.8702, lr=0.0100\n",
      "81 epoch: train_loss=0.2524, train_acc=0.9120, test_loss=0.5444, test_acc=0.8282, valid_loss=0.3836, valid_acc=0.8692, lr=0.0100\n",
      "82 epoch: train_loss=0.2472, train_acc=0.9144, test_loss=0.5305, test_acc=0.8348, valid_loss=0.4084, valid_acc=0.8706, lr=0.0100\n",
      "83 epoch: train_loss=0.2544, train_acc=0.9117, test_loss=0.5008, test_acc=0.8409, valid_loss=0.3797, valid_acc=0.8736, lr=0.0100\n",
      "84 epoch: train_loss=0.2443, train_acc=0.9149, test_loss=0.4832, test_acc=0.8438, valid_loss=0.3748, valid_acc=0.8712, lr=0.0100\n",
      "85 epoch: train_loss=0.2444, train_acc=0.9146, test_loss=0.4753, test_acc=0.8458, valid_loss=0.3746, valid_acc=0.8750, lr=0.0100\n",
      "86 epoch: train_loss=0.2408, train_acc=0.9151, test_loss=0.5150, test_acc=0.8404, valid_loss=0.3817, valid_acc=0.8706, lr=0.0100\n",
      "87 epoch: train_loss=0.2368, train_acc=0.9174, test_loss=0.5974, test_acc=0.8177, valid_loss=0.4044, valid_acc=0.8674, lr=0.0100\n",
      "88 epoch: train_loss=0.2404, train_acc=0.9168, test_loss=0.5452, test_acc=0.8328, valid_loss=0.3826, valid_acc=0.8728, lr=0.0100\n",
      "89 epoch: train_loss=0.2406, train_acc=0.9158, test_loss=0.5449, test_acc=0.8356, valid_loss=0.3859, valid_acc=0.8722, lr=0.0100\n",
      "90 epoch: train_loss=0.2376, train_acc=0.9168, test_loss=0.5335, test_acc=0.8321, valid_loss=0.3883, valid_acc=0.8658, lr=0.0100\n",
      "91 epoch: train_loss=0.2384, train_acc=0.9163, test_loss=0.4957, test_acc=0.8428, valid_loss=0.3914, valid_acc=0.8700, lr=0.0100\n",
      "92 epoch: train_loss=0.2358, train_acc=0.9166, test_loss=0.5737, test_acc=0.8229, valid_loss=0.3885, valid_acc=0.8724, lr=0.0100\n",
      "93 epoch: train_loss=0.2335, train_acc=0.9183, test_loss=0.4913, test_acc=0.8459, valid_loss=0.3773, valid_acc=0.8754, lr=0.0100\n",
      "94 epoch: train_loss=0.2325, train_acc=0.9201, test_loss=0.5538, test_acc=0.8289, valid_loss=0.4006, valid_acc=0.8650, lr=0.0100\n",
      "95 epoch: train_loss=0.2313, train_acc=0.9188, test_loss=0.5458, test_acc=0.8344, valid_loss=0.4246, valid_acc=0.8716, lr=0.0100\n",
      "96 epoch: train_loss=0.2278, train_acc=0.9206, test_loss=0.5157, test_acc=0.8389, valid_loss=0.3954, valid_acc=0.8716, lr=0.0100\n",
      "97 epoch: train_loss=0.2319, train_acc=0.9185, test_loss=0.5625, test_acc=0.8253, valid_loss=0.4020, valid_acc=0.8732, lr=0.0100\n",
      "98 epoch: train_loss=0.2265, train_acc=0.9226, test_loss=0.5491, test_acc=0.8261, valid_loss=0.3964, valid_acc=0.8722, lr=0.0100\n",
      "99 epoch: train_loss=0.2262, train_acc=0.9210, test_loss=0.5159, test_acc=0.8367, valid_loss=0.3791, valid_acc=0.8710, lr=0.0100\n",
      "100 epoch: train_loss=0.2275, train_acc=0.9219, test_loss=0.5109, test_acc=0.8375, valid_loss=0.4160, valid_acc=0.8674, lr=0.0100\n",
      "101 epoch: train_loss=0.2209, train_acc=0.9226, test_loss=0.5480, test_acc=0.8309, valid_loss=0.3987, valid_acc=0.8716, lr=0.0100\n",
      "102 epoch: train_loss=0.2239, train_acc=0.9224, test_loss=0.5902, test_acc=0.8208, valid_loss=0.3878, valid_acc=0.8742, lr=0.0100\n",
      "103 epoch: train_loss=0.2178, train_acc=0.9240, test_loss=0.5691, test_acc=0.8282, valid_loss=0.3975, valid_acc=0.8730, lr=0.0100\n",
      "104 epoch: train_loss=0.2232, train_acc=0.9232, test_loss=0.4728, test_acc=0.8494, valid_loss=0.3678, valid_acc=0.8758, lr=0.0100\n",
      "105 epoch: train_loss=0.2188, train_acc=0.9236, test_loss=0.5498, test_acc=0.8314, valid_loss=0.3853, valid_acc=0.8744, lr=0.0100\n",
      "106 epoch: train_loss=0.2192, train_acc=0.9245, test_loss=0.5050, test_acc=0.8418, valid_loss=0.4227, valid_acc=0.8666, lr=0.0100\n",
      "107 epoch: train_loss=0.2182, train_acc=0.9232, test_loss=0.4954, test_acc=0.8465, valid_loss=0.3983, valid_acc=0.8670, lr=0.0100\n",
      "108 epoch: train_loss=0.2206, train_acc=0.9219, test_loss=0.5356, test_acc=0.8353, valid_loss=0.4132, valid_acc=0.8700, lr=0.0100\n",
      "109 epoch: train_loss=0.2136, train_acc=0.9256, test_loss=0.5354, test_acc=0.8363, valid_loss=0.3876, valid_acc=0.8724, lr=0.0100\n",
      "110 epoch: train_loss=0.2160, train_acc=0.9252, test_loss=0.4578, test_acc=0.8564, valid_loss=0.4001, valid_acc=0.8732, lr=0.0100\n",
      "111 epoch: train_loss=0.2222, train_acc=0.9221, test_loss=0.4555, test_acc=0.8595, valid_loss=0.3989, valid_acc=0.8720, lr=0.0100\n",
      "112 epoch: train_loss=0.2176, train_acc=0.9244, test_loss=0.5487, test_acc=0.8394, valid_loss=0.3698, valid_acc=0.8756, lr=0.0100\n",
      "113 epoch: train_loss=0.2152, train_acc=0.9240, test_loss=0.4996, test_acc=0.8466, valid_loss=0.3887, valid_acc=0.8698, lr=0.0100\n",
      "114 epoch: train_loss=0.2156, train_acc=0.9254, test_loss=0.5576, test_acc=0.8314, valid_loss=0.3828, valid_acc=0.8746, lr=0.0100\n",
      "115 epoch: train_loss=0.2131, train_acc=0.9252, test_loss=0.5962, test_acc=0.8198, valid_loss=0.4083, valid_acc=0.8746, lr=0.0100\n",
      "116 epoch: train_loss=0.2166, train_acc=0.9254, test_loss=0.6230, test_acc=0.8152, valid_loss=0.3978, valid_acc=0.8714, lr=0.0100\n",
      "117 epoch: train_loss=0.2133, train_acc=0.9260, test_loss=0.5696, test_acc=0.8329, valid_loss=0.3748, valid_acc=0.8762, lr=0.0100\n",
      "118 epoch: train_loss=0.2132, train_acc=0.9254, test_loss=0.6464, test_acc=0.8142, valid_loss=0.4195, valid_acc=0.8680, lr=0.0100\n",
      "119 epoch: train_loss=0.2103, train_acc=0.9272, test_loss=0.5708, test_acc=0.8329, valid_loss=0.3863, valid_acc=0.8768, lr=0.0100\n",
      "120 epoch: train_loss=0.2122, train_acc=0.9264, test_loss=0.5464, test_acc=0.8376, valid_loss=0.3989, valid_acc=0.8696, lr=0.0100\n",
      "121 epoch: train_loss=0.2114, train_acc=0.9271, test_loss=0.5015, test_acc=0.8430, valid_loss=0.4088, valid_acc=0.8750, lr=0.0100\n",
      "122 epoch: train_loss=0.2044, train_acc=0.9293, test_loss=0.5288, test_acc=0.8384, valid_loss=0.3891, valid_acc=0.8768, lr=0.0100\n",
      "123 epoch: train_loss=0.2109, train_acc=0.9266, test_loss=0.4850, test_acc=0.8508, valid_loss=0.3925, valid_acc=0.8704, lr=0.0100\n",
      "124 epoch: train_loss=0.2077, train_acc=0.9275, test_loss=0.5272, test_acc=0.8415, valid_loss=0.4291, valid_acc=0.8706, lr=0.0100\n",
      "125 epoch: train_loss=0.2060, train_acc=0.9268, test_loss=0.5633, test_acc=0.8237, valid_loss=0.3943, valid_acc=0.8758, lr=0.0100\n",
      "126 epoch: train_loss=0.2086, train_acc=0.9275, test_loss=0.5902, test_acc=0.8251, valid_loss=0.4305, valid_acc=0.8700, lr=0.0100\n",
      "127 epoch: train_loss=0.1983, train_acc=0.9317, test_loss=0.5339, test_acc=0.8401, valid_loss=0.3735, valid_acc=0.8808, lr=0.0010\n",
      "128 epoch: train_loss=0.1907, train_acc=0.9346, test_loss=0.5293, test_acc=0.8407, valid_loss=0.3760, valid_acc=0.8792, lr=0.0010\n",
      "129 epoch: train_loss=0.1878, train_acc=0.9360, test_loss=0.5499, test_acc=0.8362, valid_loss=0.4360, valid_acc=0.8732, lr=0.0010\n",
      "130 epoch: train_loss=0.1873, train_acc=0.9361, test_loss=0.5432, test_acc=0.8391, valid_loss=0.3772, valid_acc=0.8720, lr=0.0010\n",
      "131 epoch: train_loss=0.1818, train_acc=0.9368, test_loss=0.5680, test_acc=0.8328, valid_loss=0.3962, valid_acc=0.8740, lr=0.0010\n",
      "132 epoch: train_loss=0.1886, train_acc=0.9356, test_loss=0.5530, test_acc=0.8315, valid_loss=0.3561, valid_acc=0.8800, lr=0.0010\n",
      "133 epoch: train_loss=0.1852, train_acc=0.9361, test_loss=0.5540, test_acc=0.8332, valid_loss=0.3721, valid_acc=0.8848, lr=0.0010\n",
      "134 epoch: train_loss=0.1819, train_acc=0.9379, test_loss=0.5634, test_acc=0.8296, valid_loss=0.3735, valid_acc=0.8796, lr=0.0010\n",
      "135 epoch: train_loss=0.1807, train_acc=0.9392, test_loss=0.5563, test_acc=0.8319, valid_loss=0.3490, valid_acc=0.8884, lr=0.0010\n",
      "136 epoch: train_loss=0.1821, train_acc=0.9370, test_loss=0.5582, test_acc=0.8330, valid_loss=0.3821, valid_acc=0.8762, lr=0.0010\n",
      "137 epoch: train_loss=0.1828, train_acc=0.9373, test_loss=0.5474, test_acc=0.8358, valid_loss=0.3800, valid_acc=0.8766, lr=0.0010\n",
      "138 epoch: train_loss=0.1793, train_acc=0.9386, test_loss=0.6076, test_acc=0.8244, valid_loss=0.3522, valid_acc=0.8772, lr=0.0010\n",
      "139 epoch: train_loss=0.1802, train_acc=0.9382, test_loss=0.5830, test_acc=0.8279, valid_loss=0.3865, valid_acc=0.8768, lr=0.0010\n",
      "140 epoch: train_loss=0.1737, train_acc=0.9403, test_loss=0.5872, test_acc=0.8275, valid_loss=0.3628, valid_acc=0.8804, lr=0.0010\n",
      "141 epoch: train_loss=0.1836, train_acc=0.9368, test_loss=0.5830, test_acc=0.8281, valid_loss=0.3911, valid_acc=0.8816, lr=0.0010\n",
      "142 epoch: train_loss=0.1782, train_acc=0.9392, test_loss=0.5662, test_acc=0.8321, valid_loss=0.3771, valid_acc=0.8818, lr=0.0010\n",
      "143 epoch: train_loss=0.1800, train_acc=0.9377, test_loss=0.5813, test_acc=0.8295, valid_loss=0.3919, valid_acc=0.8778, lr=0.0010\n",
      "144 epoch: train_loss=0.1783, train_acc=0.9378, test_loss=0.5910, test_acc=0.8239, valid_loss=0.3755, valid_acc=0.8788, lr=0.0010\n",
      "145 epoch: train_loss=0.1791, train_acc=0.9389, test_loss=0.6096, test_acc=0.8233, valid_loss=0.3540, valid_acc=0.8854, lr=0.0010\n",
      "146 epoch: train_loss=0.1791, train_acc=0.9384, test_loss=0.5950, test_acc=0.8255, valid_loss=0.3873, valid_acc=0.8802, lr=0.0010\n",
      "147 epoch: train_loss=0.1790, train_acc=0.9393, test_loss=0.6463, test_acc=0.8165, valid_loss=0.3604, valid_acc=0.8806, lr=0.0010\n",
      "148 epoch: train_loss=0.1797, train_acc=0.9376, test_loss=0.6109, test_acc=0.8216, valid_loss=0.3683, valid_acc=0.8824, lr=0.0010\n",
      "149 epoch: train_loss=0.1796, train_acc=0.9374, test_loss=0.6150, test_acc=0.8197, valid_loss=0.3757, valid_acc=0.8796, lr=0.0010\n",
      "150 epoch: train_loss=0.1811, train_acc=0.9379, test_loss=0.6402, test_acc=0.8152, valid_loss=0.3498, valid_acc=0.8828, lr=0.0010\n",
      "151 epoch: train_loss=0.1817, train_acc=0.9372, test_loss=0.6486, test_acc=0.8125, valid_loss=0.3622, valid_acc=0.8842, lr=0.0010\n",
      "152 epoch: train_loss=0.1788, train_acc=0.9386, test_loss=0.5940, test_acc=0.8235, valid_loss=0.3947, valid_acc=0.8732, lr=0.0010\n",
      "153 epoch: train_loss=0.1764, train_acc=0.9394, test_loss=0.5887, test_acc=0.8252, valid_loss=0.3749, valid_acc=0.8848, lr=0.0010\n",
      "154 epoch: train_loss=0.1781, train_acc=0.9393, test_loss=0.5948, test_acc=0.8255, valid_loss=0.3892, valid_acc=0.8770, lr=0.0010\n",
      "155 epoch: train_loss=0.1752, train_acc=0.9398, test_loss=0.6055, test_acc=0.8206, valid_loss=0.3659, valid_acc=0.8782, lr=0.0010\n",
      "156 epoch: train_loss=0.1776, train_acc=0.9384, test_loss=0.6239, test_acc=0.8215, valid_loss=0.3757, valid_acc=0.8798, lr=0.0010\n",
      "157 epoch: train_loss=0.1780, train_acc=0.9378, test_loss=0.6047, test_acc=0.8233, valid_loss=0.3748, valid_acc=0.8772, lr=0.0010\n",
      "158 epoch: train_loss=0.1736, train_acc=0.9408, test_loss=0.5814, test_acc=0.8301, valid_loss=0.3687, valid_acc=0.8776, lr=0.0010\n",
      "159 epoch: train_loss=0.1742, train_acc=0.9411, test_loss=0.6114, test_acc=0.8216, valid_loss=0.3713, valid_acc=0.8834, lr=0.0010\n",
      "160 epoch: train_loss=0.1793, train_acc=0.9388, test_loss=0.6156, test_acc=0.8228, valid_loss=0.3491, valid_acc=0.8862, lr=0.0010\n",
      "161 epoch: train_loss=0.1709, train_acc=0.9424, test_loss=0.6313, test_acc=0.8196, valid_loss=0.3723, valid_acc=0.8800, lr=0.0010\n",
      "162 epoch: train_loss=0.1723, train_acc=0.9400, test_loss=0.5914, test_acc=0.8268, valid_loss=0.3655, valid_acc=0.8770, lr=0.0010\n",
      "163 epoch: train_loss=0.1738, train_acc=0.9401, test_loss=0.5860, test_acc=0.8270, valid_loss=0.3544, valid_acc=0.8854, lr=0.0010\n",
      "164 epoch: train_loss=0.1761, train_acc=0.9388, test_loss=0.5900, test_acc=0.8258, valid_loss=0.3679, valid_acc=0.8772, lr=0.0010\n",
      "165 epoch: train_loss=0.1732, train_acc=0.9409, test_loss=0.6012, test_acc=0.8274, valid_loss=0.3585, valid_acc=0.8820, lr=0.0010\n",
      "166 epoch: train_loss=0.1720, train_acc=0.9408, test_loss=0.6019, test_acc=0.8229, valid_loss=0.3840, valid_acc=0.8788, lr=0.0010\n",
      "167 epoch: train_loss=0.1722, train_acc=0.9410, test_loss=0.6137, test_acc=0.8245, valid_loss=0.3800, valid_acc=0.8786, lr=0.0010\n",
      "168 epoch: train_loss=0.1758, train_acc=0.9396, test_loss=0.6046, test_acc=0.8257, valid_loss=0.3741, valid_acc=0.8810, lr=0.0010\n",
      "169 epoch: train_loss=0.1756, train_acc=0.9395, test_loss=0.6319, test_acc=0.8211, valid_loss=0.3712, valid_acc=0.8742, lr=0.0010\n",
      "170 epoch: train_loss=0.1738, train_acc=0.9418, test_loss=0.6312, test_acc=0.8169, valid_loss=0.3962, valid_acc=0.8798, lr=0.0010\n"
     ]
    }
   ],
   "source": [
    "view.print_all()"
   ]
  }
 ],
 "metadata": {
  "kernelspec": {
   "display_name": "base",
   "language": "python",
   "name": "python3"
  },
  "language_info": {
   "codemirror_mode": {
    "name": "ipython",
    "version": 3
   },
   "file_extension": ".py",
   "mimetype": "text/x-python",
   "name": "python",
   "nbconvert_exporter": "python",
   "pygments_lexer": "ipython3",
   "version": "3.11.5"
  }
 },
 "nbformat": 4,
 "nbformat_minor": 2
}
