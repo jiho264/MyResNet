{
 "cells": [
  {
   "cell_type": "markdown",
   "metadata": {},
   "source": [
    "# Import"
   ]
  },
  {
   "cell_type": "code",
   "execution_count": 1,
   "metadata": {},
   "outputs": [],
   "source": [
    "import torch\n",
    "from torch import nn\n",
    "from torch.optim.lr_scheduler import ReduceLROnPlateau, MultiStepLR\n",
    "from torch.utils.data import DataLoader\n",
    "from fvcore.nn import FlopCountAnalysis, flop_count_table\n",
    "import numpy as np\n",
    "import matplotlib.pyplot as plt\n",
    "import sys, os\n",
    "\n",
    "sys.path.append(os.path.dirname(os.path.abspath(os.path.dirname(\"src\"))))\n",
    "\n",
    "from src.Mydataloader import LoadDataset\n",
    "from src.Mymodel import MyResNet34\n",
    "from src.Mymodel import MyResNet_CIFAR\n",
    "from src.Mytraining import DoTraining\n",
    "from src.Earlystopper import EarlyStopper\n",
    "from src.LogViewer import LogViewer"
   ]
  },
  {
   "cell_type": "markdown",
   "metadata": {},
   "source": [
    "# Setup"
   ]
  },
  {
   "cell_type": "code",
   "execution_count": 2,
   "metadata": {},
   "outputs": [],
   "source": [
    "\"\"\"Dataset selection\"\"\"\n",
    "DATASET = \"CIFAR10\"\n",
    "# DATASET = \"CIFAR100\"\n",
    "# DATASET = \"ImageNet2012\"\n",
    "\n",
    "\"\"\"Model selection for CIFAR\"\"\"\n",
    "NUM_LAYERS_LEVEL = 5\n",
    "\n",
    "\"\"\"Dataset parameters\"\"\"\n",
    "BATCH = 128\n",
    "SHUFFLE = True\n",
    "NUMOFWORKERS = 8\n",
    "PIN_MEMORY = True\n",
    "SPLIT_RATIO = 0.95\n",
    "\n",
    "\"\"\"optimizer parameters\"\"\"\n",
    "OPTIMIZER = \"SGD\"\n",
    "# OPTIMIZER = \"Adam\"\n",
    "# OPTIMIZER = \"Adam_decay\"\n",
    "\n",
    "\"\"\"Learning rate scheduler parameters\"\"\"\n",
    "NUM_EPOCHS = 200\n",
    "SCHEDULER_PARIENCE = 10\n",
    "COOLDOWN = 40\n",
    "\n",
    "\"\"\"Early stopping parameters\"\"\"\n",
    "EARLYSTOPPINGPATIENCE = 50\n",
    "file_name = \"\"\n",
    "if DATASET == \"ImageNet2012\":\n",
    "    file_name = f\"MyResNet34_{BATCH}_{OPTIMIZER}\"\n",
    "else:\n",
    "    file_name = f\"MyResNet{NUM_LAYERS_LEVEL*6+2}_{BATCH}_{OPTIMIZER}\"\n",
    "\n",
    "if SPLIT_RATIO != 0:\n",
    "    file_name += f\"_{int(SPLIT_RATIO*100)}\""
   ]
  },
  {
   "cell_type": "code",
   "execution_count": 3,
   "metadata": {},
   "outputs": [
    {
     "data": {
      "text/plain": [
       "'MyResNet32_128_SGD_95'"
      ]
     },
     "execution_count": 3,
     "metadata": {},
     "output_type": "execute_result"
    }
   ],
   "source": [
    "file_name"
   ]
  },
  {
   "cell_type": "markdown",
   "metadata": {},
   "source": [
    "# Loading the dataset"
   ]
  },
  {
   "cell_type": "markdown",
   "metadata": {},
   "source": [
    "## Define Dateloader"
   ]
  },
  {
   "cell_type": "code",
   "execution_count": 4,
   "metadata": {},
   "outputs": [
    {
     "name": "stderr",
     "output_type": "stream",
     "text": [
      "/home/lee/anaconda3/lib/python3.11/site-packages/torchvision/transforms/v2/_deprecated.py:43: UserWarning: The transform `ToTensor()` is deprecated and will be removed in a future release. Instead, please use `v2.Compose([v2.ToImage(), v2.ToDtype(torch.float32, scale=True)])`.\n",
      "  warnings.warn(\n"
     ]
    },
    {
     "name": "stdout",
     "output_type": "stream",
     "text": [
      "-----------------------------------------------------------------------\n",
      "Dataset :  CIFAR10\n",
      "- Length of Train Set :  47500\n",
      "- Length of Valid Set :  2500\n",
      "- Length of Test Set :  10000\n",
      "- Count of Classes :  10\n",
      "-----------------------------------------------------------------------\n"
     ]
    }
   ],
   "source": [
    "tmp = LoadDataset(root=\"../../data\", seceted_dataset=DATASET, split_ratio=SPLIT_RATIO)\n",
    "train_data, valid_data, test_data, COUNT_OF_CLASSES = tmp.Unpack()"
   ]
  },
  {
   "cell_type": "code",
   "execution_count": 5,
   "metadata": {},
   "outputs": [
    {
     "name": "stdout",
     "output_type": "stream",
     "text": [
      "train.transforms = Compose(\n",
      "      AutoAugment(interpolation=InterpolationMode.NEAREST, policy=AutoAugmentPolicy.CIFAR10)\n",
      "      RandomCrop(size=(32, 32), padding=[4, 4, 4, 4], pad_if_needed=False, fill=0, padding_mode=constant)\n",
      "      RandomHorizontalFlip(p=0.5)\n",
      "      ToTensor()\n",
      "      Normalize(mean=[0.49139968, 0.48215827, 0.44653124], std=[1, 1, 1], inplace=True)\n",
      ") 128\n",
      "valid.transforms = ToTensor() 128\n",
      "test.transforms = ToTensor() 128\n"
     ]
    }
   ],
   "source": [
    "\n",
    "train_dataloader = DataLoader(\n",
    "    train_data,\n",
    "    batch_size=BATCH,\n",
    "    shuffle=SHUFFLE,\n",
    "    num_workers=NUMOFWORKERS,\n",
    "    pin_memory=PIN_MEMORY,\n",
    "    # pin_memory_device=\"cuda\",\n",
    "    persistent_workers=True,\n",
    ")\n",
    "print(\"train.transforms =\", train_data.transform, train_dataloader.batch_size)\n",
    "\n",
    "if valid_data is not None:\n",
    "    valid_dataloader = DataLoader(\n",
    "        valid_data,\n",
    "        batch_size=BATCH,\n",
    "        shuffle=SHUFFLE,\n",
    "        num_workers=NUMOFWORKERS,\n",
    "        pin_memory=PIN_MEMORY,\n",
    "        # pin_memory_device=\"cuda\",\n",
    "        persistent_workers=True,\n",
    "    )\n",
    "    print(\"valid.transforms =\", valid_data.transform, valid_dataloader.batch_size)\n",
    "else:\n",
    "    valid_dataloader = None\n",
    "\n",
    "if test_data is not None:\n",
    "    test_dataloader = DataLoader(\n",
    "        test_data,\n",
    "        batch_size=BATCH,\n",
    "        shuffle=SHUFFLE,\n",
    "        num_workers=NUMOFWORKERS,\n",
    "        pin_memory=PIN_MEMORY,\n",
    "        # pin_memory_device=\"cuda\",\n",
    "        persistent_workers=True,\n",
    "    )\n",
    "    print(\"test.transforms =\", test_data.transform, test_dataloader.batch_size)\n",
    "else:\n",
    "    test_dataloader = None"
   ]
  },
  {
   "cell_type": "markdown",
   "metadata": {},
   "source": [
    "## Confirm that the dataset is loaded properly"
   ]
  },
  {
   "cell_type": "code",
   "execution_count": 6,
   "metadata": {},
   "outputs": [
    {
     "name": "stdout",
     "output_type": "stream",
     "text": [
      "Shape of X [N, C, H, W]: torch.Size([128, 3, 32, 32])\n",
      "mean of X tensor([0.4931, 0.4892, 0.4587])\n",
      "Shape of y: torch.Size([128]) torch.int64\n"
     ]
    },
    {
     "data": {
      "image/png": "[encoded data removed]",
      "text/plain": [
       "<Figure size 800x400 with 10 Axes>"
      ]
     },
     "metadata": {},
     "output_type": "display_data"
    }
   ],
   "source": [
    "if test_data is not None:\n",
    "    for X, y in test_dataloader:\n",
    "        print(f\"Shape of X [N, C, H, W]: {X.shape}\")\n",
    "        print(\"mean of X\", X.mean(dim=(0, 2, 3)))\n",
    "        print(f\"Shape of y: {y.shape} {y.dtype}\")\n",
    "        break\n",
    "    \n",
    "    class_names = test_dataloader.dataset.classes\n",
    "    count = 0\n",
    "    fig, axs = plt.subplots(2, 5, figsize=(8, 4))\n",
    "\n",
    "    for images, labels in test_dataloader:\n",
    "        images = images.numpy()\n",
    "\n",
    "        for i in range(len(images)):\n",
    "            image = images[i]\n",
    "            label = labels[i]\n",
    "            image = np.transpose(image, (1, 2, 0))\n",
    "            image = np.clip(image, 0, 1)\n",
    "            ax = axs[count // 5, count % 5]\n",
    "            ax.imshow(image)\n",
    "            ax.set_title(f\"{class_names[label], label}\")\n",
    "            ax.axis(\"off\")\n",
    "            count += 1\n",
    "\n",
    "            if count == 10:\n",
    "                break\n",
    "        if count == 10:\n",
    "            break\n",
    "    plt.tight_layout()\n",
    "    plt.show()"
   ]
  },
  {
   "cell_type": "markdown",
   "metadata": {},
   "source": [
    "# Define ResNet"
   ]
  },
  {
   "cell_type": "markdown",
   "metadata": {},
   "source": [
    "## Model Confirm"
   ]
  },
  {
   "cell_type": "code",
   "execution_count": 7,
   "metadata": {},
   "outputs": [
    {
     "data": {
      "text/plain": [
       "device(type='cuda')"
      ]
     },
     "execution_count": 7,
     "metadata": {},
     "output_type": "execute_result"
    }
   ],
   "source": [
    "device = torch.device(\"cuda\" if torch.cuda.is_available() else \"cpu\")\n",
    "device"
   ]
  },
  {
   "cell_type": "code",
   "execution_count": 8,
   "metadata": {},
   "outputs": [
    {
     "name": "stdout",
     "output_type": "stream",
     "text": [
      "ResNet-32 for CIFAR10 is loaded.\n"
     ]
    }
   ],
   "source": [
    "if DATASET == \"CIFAR10\" or DATASET == \"CIFAR100\":\n",
    "    \"\"\"ResNet{20, 32, 44, 56, 110, 1202} for CIFAR\"\"\"\n",
    "    model = MyResNet_CIFAR(\n",
    "        num_classes=COUNT_OF_CLASSES,\n",
    "        num_layer_factor=NUM_LAYERS_LEVEL,\n",
    "        Downsample_option=\"A\",\n",
    "    ).to(device)\n",
    "    print(f\"ResNet-{5*6+2} for {DATASET} is loaded.\")\n",
    "\n",
    "elif DATASET == \"ImageNet2012\":\n",
    "    \"\"\"ResNet34 for ImageNet 2012\"\"\"\n",
    "    model = MyResNet34(\n",
    "        num_classes=COUNT_OF_CLASSES, \n",
    "        Downsample_option=\"A\"\n",
    "    ).to(device)\n",
    "    # model = models.resnet34(pretrained=True).to(device)\n",
    "    # model = models.resnet34(pretrained=False).to(device)\n",
    "    print(f\"ResNet-34 for {DATASET} is loaded.\")\n"
   ]
  },
  {
   "cell_type": "code",
   "execution_count": 9,
   "metadata": {},
   "outputs": [],
   "source": [
    "# model.named_modules"
   ]
  },
  {
   "cell_type": "code",
   "execution_count": 10,
   "metadata": {},
   "outputs": [],
   "source": [
    "# tmp_input = torch.rand(BATCH, 3, 32, 32).to(device)\n",
    "# flops = FlopCountAnalysis(model, tmp_input)\n",
    "# print(flop_count_table(flops))"
   ]
  },
  {
   "cell_type": "markdown",
   "metadata": {},
   "source": [
    "# Define Training"
   ]
  },
  {
   "cell_type": "markdown",
   "metadata": {},
   "source": [
    "## (1) Define Criterion"
   ]
  },
  {
   "cell_type": "code",
   "execution_count": 11,
   "metadata": {},
   "outputs": [],
   "source": [
    "criterion = nn.CrossEntropyLoss()"
   ]
  },
  {
   "cell_type": "markdown",
   "metadata": {},
   "source": [
    "## (2) Define Optimazer"
   ]
  },
  {
   "cell_type": "code",
   "execution_count": 12,
   "metadata": {},
   "outputs": [],
   "source": [
    "if OPTIMIZER == \"Adam\":\n",
    "    optimizer = torch.optim.Adam(model.parameters())\n",
    "elif OPTIMIZER == \"Adam_decay\":\n",
    "    optimizer = torch.optim.Adam(model.parameters(), weight_decay=1e-4)\n",
    "elif OPTIMIZER == \"SGD\":\n",
    "    optimizer = torch.optim.SGD(\n",
    "        model.parameters(), lr=0.1, momentum=0.9, weight_decay=0.0001\n",
    "    )"
   ]
  },
  {
   "cell_type": "markdown",
   "metadata": {},
   "source": [
    "## (3) Define Early Stopping"
   ]
  },
  {
   "cell_type": "code",
   "execution_count": 13,
   "metadata": {},
   "outputs": [],
   "source": [
    "earlystopper = EarlyStopper(patience=EARLYSTOPPINGPATIENCE, model=model, file_name=file_name)"
   ]
  },
  {
   "cell_type": "markdown",
   "metadata": {},
   "source": [
    "## (4) Define Learning Rate schedualer"
   ]
  },
  {
   "cell_type": "code",
   "execution_count": 14,
   "metadata": {},
   "outputs": [
    {
     "data": {
      "text/plain": [
       "'\\n=======================================================\\nif batch = 256\\n=======================================================\\nnon-split [single epoch = 196 iter] : milestones = [164, 246]\\n- 1 ~ 164 epochs == 1 ~ 32k iter >> lr = 0.1\\n- 165~246 epochs == 32k ~ 48k iter >> lr = 0.01\\n- 247~328(?) epochs == 48k ~ 64k iter >> lr = 0.001\\n=======================================================\\nsplit to 45k/5k [single epoch = 176 iter]: milestones = [182, 273]\\n- 1~182 epochs == 1 ~ 32k iter >> lr = 0.1\\n- 182~273 epochs == 32k ~ 48k iter >> lr = 0.01\\n- 273~364(?) epochs == 48k ~ 64k iter >> lr = 0.001\\n=======================================================\\nif batch = 128\\n=======================================================\\nnon-split [signle epoch = 391 iter]: milestones = [82, 123]\\n- 1 ~ 82 epochs == 1 ~ 32k iter >> lr = 0.1\\n- 83~123 epochs == 32k ~ 48k iter >> lr = 0.01\\n- 124~(164) epochs == 48k ~ 64k iter >> lr = 0.001\\n=======================================================\\nsplit to 45k/5k [signle epoch = 352 iter]: milestones = [91, 137]\\n- 1~91 epochs == 1 ~ 32k iter >> lr = 0.1\\n- 92~137 epochs == 32k ~ 48k iter >> lr = 0.01\\n- 138~(183) epochs == 48k ~ 64k iter >> lr = 0.001\\n=======================================================\\n'"
      ]
     },
     "execution_count": 14,
     "metadata": {},
     "output_type": "execute_result"
    }
   ],
   "source": [
    "scheduler = ReduceLROnPlateau(\n",
    "    optimizer,\n",
    "    mode=\"min\",\n",
    "    patience=SCHEDULER_PARIENCE,\n",
    "    factor=0.1,\n",
    "    verbose=True,\n",
    "    threshold=1e-4,\n",
    "    cooldown=COOLDOWN,\n",
    "    min_lr=1e-4,\n",
    ")\n",
    "\n",
    "# scheduler = MultiStepLR(optimizer, milestones=[82, 123], gamma=0.1)\n",
    "\"\"\"\n",
    "=======================================================\n",
    "if batch = 256\n",
    "=======================================================\n",
    "non-split [single epoch = 196 iter] : milestones = [164, 246]\n",
    "- 1 ~ 164 epochs == 1 ~ 32k iter >> lr = 0.1\n",
    "- 165~246 epochs == 32k ~ 48k iter >> lr = 0.01\n",
    "- 247~328(?) epochs == 48k ~ 64k iter >> lr = 0.001\n",
    "=======================================================\n",
    "split to 45k/5k [single epoch = 176 iter]: milestones = [182, 273]\n",
    "- 1~182 epochs == 1 ~ 32k iter >> lr = 0.1\n",
    "- 182~273 epochs == 32k ~ 48k iter >> lr = 0.01\n",
    "- 273~364(?) epochs == 48k ~ 64k iter >> lr = 0.001\n",
    "=======================================================\n",
    "if batch = 128\n",
    "=======================================================\n",
    "non-split [signle epoch = 391 iter]: milestones = [82, 123]\n",
    "- 1 ~ 82 epochs == 1 ~ 32k iter >> lr = 0.1\n",
    "- 83~123 epochs == 32k ~ 48k iter >> lr = 0.01\n",
    "- 124~(164) epochs == 48k ~ 64k iter >> lr = 0.001\n",
    "=======================================================\n",
    "split to 45k/5k [signle epoch = 352 iter]: milestones = [91, 137]\n",
    "- 1~91 epochs == 1 ~ 32k iter >> lr = 0.1\n",
    "- 92~137 epochs == 32k ~ 48k iter >> lr = 0.01\n",
    "- 138~(183) epochs == 48k ~ 64k iter >> lr = 0.001\n",
    "=======================================================\n",
    "\"\"\""
   ]
  },
  {
   "cell_type": "markdown",
   "metadata": {},
   "source": [
    "## (5) Define AMP scaler"
   ]
  },
  {
   "cell_type": "code",
   "execution_count": 15,
   "metadata": {},
   "outputs": [],
   "source": [
    "scaler = torch.cuda.amp.GradScaler(enabled=True)"
   ]
  },
  {
   "cell_type": "markdown",
   "metadata": {},
   "source": [
    "## Load before process"
   ]
  },
  {
   "cell_type": "code",
   "execution_count": 16,
   "metadata": {},
   "outputs": [
    {
     "name": "stdout",
     "output_type": "stream",
     "text": [
      "File does not exist. Created a new log.\n"
     ]
    }
   ],
   "source": [
    "if os.path.exists(file_name + \".pth.tar\"):\n",
    "    # Read checkpoint as desired, e.g.,\n",
    "    checkpoint = torch.load(\n",
    "        file_name + \".pth.tar\",\n",
    "        map_location=lambda storage, loc: storage.cuda(device),\n",
    "    )\n",
    "    model.load_state_dict(checkpoint[\"model\"])\n",
    "    optimizer.load_state_dict(checkpoint[\"optimizer\"])\n",
    "    scaler.load_state_dict(checkpoint[\"scaler\"])\n",
    "    scheduler.load_state_dict(checkpoint[\"scheduler\"])\n",
    "    earlystopper.load_state_dict(checkpoint[\"earlystopper\"])\n",
    "    logs = checkpoint[\"logs\"]\n",
    "\n",
    "    print(\"Suceessfully loaded the All setting and Log file.\")\n",
    "    print(file_name)\n",
    "    print(f\"Current epoch is {len(logs['train_loss'])}\")\n",
    "    print(f\"Current learning rate: {optimizer.param_groups[0]['lr']}\")\n",
    "else:\n",
    "    # Create a dictionary to store the variables\n",
    "    train_loss = []\n",
    "    train_acc = []\n",
    "    eval_loss = []\n",
    "    valid_acc = []\n",
    "    test_loss = []\n",
    "    test_acc = []\n",
    "    lr_log = []\n",
    "    logs = {\n",
    "        \"train_loss\": train_loss,\n",
    "        \"train_acc\": train_acc,\n",
    "        \"valid_loss\": eval_loss,\n",
    "        \"valid_acc\": valid_acc,\n",
    "        \"test_loss\": test_loss,\n",
    "        \"test_acc\": test_acc,\n",
    "        \"lr_log\": lr_log,\n",
    "    }\n",
    "    print(\"File does not exist. Created a new log.\")"
   ]
  },
  {
   "cell_type": "code",
   "execution_count": 17,
   "metadata": {},
   "outputs": [
    {
     "data": {
      "text/plain": [
       "0.1"
      ]
     },
     "execution_count": 17,
     "metadata": {},
     "output_type": "execute_result"
    }
   ],
   "source": [
    "optimizer.param_groups[0][\"lr\"]"
   ]
  },
  {
   "cell_type": "markdown",
   "metadata": {},
   "source": [
    "# [Training Loop]"
   ]
  },
  {
   "cell_type": "code",
   "execution_count": 18,
   "metadata": {},
   "outputs": [],
   "source": [
    "if valid_data is None:\n",
    "    valid_dataloader = None\n",
    "if test_data is None:\n",
    "    test_dataloader = None"
   ]
  },
  {
   "cell_type": "code",
   "execution_count": 19,
   "metadata": {},
   "outputs": [
    {
     "name": "stdout",
     "output_type": "stream",
     "text": [
      "[Epoch 1/1000] :\n"
     ]
    },
    {
     "name": "stderr",
     "output_type": "stream",
     "text": [
      "train: 100%|██████████| 372/372 [00:32<00:00, 11.33it/s]"
     ]
    },
    {
     "name": "stdout",
     "output_type": "stream",
     "text": [
      "Train Loss: 0.0056 | Train Acc: 25.00%\n"
     ]
    },
    {
     "name": "stderr",
     "output_type": "stream",
     "text": [
      "\n"
     ]
    },
    {
     "name": "stdout",
     "output_type": "stream",
     "text": [
      "Valid Loss: 2.1756 | Valid Acc: 16.32%\n",
      "Test  Loss: 2.1601 | Test Acc: 18.42%\n",
      "updated best eval loss : 2.1755802989006043\n",
      "--------------------------------------------------\n",
      "[Epoch 2/1000] :\n"
     ]
    },
    {
     "name": "stderr",
     "output_type": "stream",
     "text": [
      "train: 100%|██████████| 372/372 [00:29<00:00, 12.45it/s]\n"
     ]
    },
    {
     "name": "stdout",
     "output_type": "stream",
     "text": [
      "Train Loss: 0.0055 | Train Acc: 16.67%\n",
      "Valid Loss: 1.9896 | Valid Acc: 24.24%\n",
      "Test  Loss: 2.0074 | Test Acc: 24.89%\n",
      "updated best eval loss : 1.989634668827057\n",
      "--------------------------------------------------\n",
      "[Epoch 3/1000] :\n"
     ]
    },
    {
     "name": "stderr",
     "output_type": "stream",
     "text": [
      "train: 100%|██████████| 372/372 [00:29<00:00, 12.79it/s]\n"
     ]
    },
    {
     "name": "stdout",
     "output_type": "stream",
     "text": [
      "Train Loss: 0.0064 | Train Acc: 8.33%\n",
      "Valid Loss: 1.8391 | Valid Acc: 33.84%\n",
      "Test  Loss: 2.0821 | Test Acc: 26.91%\n",
      "updated best eval loss : 1.8391035795211792\n",
      "--------------------------------------------------\n",
      "[Epoch 4/1000] :\n"
     ]
    },
    {
     "name": "stderr",
     "output_type": "stream",
     "text": [
      "train: 100%|██████████| 372/372 [00:29<00:00, 12.76it/s]\n"
     ]
    },
    {
     "name": "stdout",
     "output_type": "stream",
     "text": [
      "Train Loss: 0.0040 | Train Acc: 50.00%\n",
      "Valid Loss: 1.4690 | Valid Acc: 48.32%\n",
      "Test  Loss: 1.3600 | Test Acc: 51.81%\n",
      "updated best eval loss : 1.469032210111618\n",
      "--------------------------------------------------\n",
      "[Epoch 5/1000] :\n"
     ]
    },
    {
     "name": "stderr",
     "output_type": "stream",
     "text": [
      "train: 100%|██████████| 372/372 [00:28<00:00, 12.84it/s]\n"
     ]
    },
    {
     "name": "stdout",
     "output_type": "stream",
     "text": [
      "Train Loss: 0.0051 | Train Acc: 33.33%\n",
      "Valid Loss: 1.4080 | Valid Acc: 51.28%\n",
      "Test  Loss: 1.3300 | Test Acc: 53.17%\n",
      "updated best eval loss : 1.4080478310585023\n",
      "--------------------------------------------------\n",
      "[Epoch 6/1000] :\n"
     ]
    },
    {
     "name": "stderr",
     "output_type": "stream",
     "text": [
      "train: 100%|██████████| 372/372 [00:29<00:00, 12.75it/s]\n"
     ]
    },
    {
     "name": "stdout",
     "output_type": "stream",
     "text": [
      "Train Loss: 0.0062 | Train Acc: 33.33%\n",
      "Valid Loss: 1.3762 | Valid Acc: 53.96%\n",
      "Test  Loss: 1.1169 | Test Acc: 62.63%\n",
      "updated best eval loss : 1.3761900067329407\n",
      "--------------------------------------------------\n",
      "[Epoch 7/1000] :\n"
     ]
    },
    {
     "name": "stderr",
     "output_type": "stream",
     "text": [
      "train: 100%|██████████| 372/372 [00:28<00:00, 12.92it/s]\n"
     ]
    },
    {
     "name": "stdout",
     "output_type": "stream",
     "text": [
      "Train Loss: 0.0025 | Train Acc: 83.33%\n",
      "Valid Loss: 1.0775 | Valid Acc: 62.92%\n",
      "Test  Loss: 0.9675 | Test Acc: 66.97%\n",
      "updated best eval loss : 1.0775407761335374\n",
      "--------------------------------------------------\n",
      "[Epoch 8/1000] :\n"
     ]
    },
    {
     "name": "stderr",
     "output_type": "stream",
     "text": [
      "train: 100%|██████████| 372/372 [00:28<00:00, 12.94it/s]\n"
     ]
    },
    {
     "name": "stdout",
     "output_type": "stream",
     "text": [
      "Train Loss: 0.0022 | Train Acc: 75.00%\n",
      "Valid Loss: 1.0377 | Valid Acc: 64.64%\n",
      "Test  Loss: 1.2025 | Test Acc: 61.91%\n",
      "updated best eval loss : 1.0377240628004074\n",
      "--------------------------------------------------\n",
      "[Epoch 9/1000] :\n"
     ]
    },
    {
     "name": "stderr",
     "output_type": "stream",
     "text": [
      "train: 100%|██████████| 372/372 [00:29<00:00, 12.61it/s]\n"
     ]
    },
    {
     "name": "stdout",
     "output_type": "stream",
     "text": [
      "Train Loss: 0.0031 | Train Acc: 66.67%\n",
      "Valid Loss: 1.0254 | Valid Acc: 65.44%\n",
      "Test  Loss: 1.1627 | Test Acc: 61.56%\n",
      "updated best eval loss : 1.0254429221153258\n",
      "--------------------------------------------------\n",
      "[Epoch 10/1000] :\n"
     ]
    },
    {
     "name": "stderr",
     "output_type": "stream",
     "text": [
      "train: 100%|██████████| 372/372 [00:29<00:00, 12.75it/s]\n"
     ]
    },
    {
     "name": "stdout",
     "output_type": "stream",
     "text": [
      "Train Loss: 0.0033 | Train Acc: 75.00%\n",
      "Valid Loss: 1.0400 | Valid Acc: 65.40%\n",
      "Test  Loss: 0.9488 | Test Acc: 68.68%\n",
      "--------------------------------------------------\n",
      "[Epoch 11/1000] :\n"
     ]
    },
    {
     "name": "stderr",
     "output_type": "stream",
     "text": [
      "train: 100%|██████████| 372/372 [00:29<00:00, 12.61it/s]\n"
     ]
    },
    {
     "name": "stdout",
     "output_type": "stream",
     "text": [
      "Train Loss: 0.0031 | Train Acc: 58.33%\n",
      "Valid Loss: 1.3985 | Valid Acc: 57.64%\n",
      "Test  Loss: 0.9558 | Test Acc: 68.50%\n",
      "--------------------------------------------------\n",
      "[Epoch 12/1000] :\n"
     ]
    },
    {
     "name": "stderr",
     "output_type": "stream",
     "text": [
      "train: 100%|██████████| 372/372 [00:28<00:00, 12.95it/s]\n"
     ]
    },
    {
     "name": "stdout",
     "output_type": "stream",
     "text": [
      "Train Loss: 0.0027 | Train Acc: 58.33%\n",
      "Valid Loss: 0.8358 | Valid Acc: 70.96%\n",
      "Test  Loss: 0.8104 | Test Acc: 73.49%\n",
      "updated best eval loss : 0.8357891499996185\n",
      "--------------------------------------------------\n",
      "[Epoch 13/1000] :\n"
     ]
    },
    {
     "name": "stderr",
     "output_type": "stream",
     "text": [
      "train: 100%|██████████| 372/372 [00:28<00:00, 12.85it/s]\n"
     ]
    },
    {
     "name": "stdout",
     "output_type": "stream",
     "text": [
      "Train Loss: 0.0033 | Train Acc: 50.00%\n",
      "Valid Loss: 0.9056 | Valid Acc: 69.12%\n",
      "Test  Loss: 0.8323 | Test Acc: 71.32%\n",
      "--------------------------------------------------\n",
      "[Epoch 14/1000] :\n"
     ]
    },
    {
     "name": "stderr",
     "output_type": "stream",
     "text": [
      "train: 100%|██████████| 372/372 [00:29<00:00, 12.54it/s]\n"
     ]
    },
    {
     "name": "stdout",
     "output_type": "stream",
     "text": [
      "Train Loss: 0.0040 | Train Acc: 58.33%\n",
      "Valid Loss: 0.8687 | Valid Acc: 71.20%\n",
      "Test  Loss: 0.7218 | Test Acc: 75.55%\n",
      "--------------------------------------------------\n",
      "[Epoch 15/1000] :\n"
     ]
    },
    {
     "name": "stderr",
     "output_type": "stream",
     "text": [
      "train: 100%|██████████| 372/372 [00:28<00:00, 12.95it/s]\n"
     ]
    },
    {
     "name": "stdout",
     "output_type": "stream",
     "text": [
      "Train Loss: 0.0023 | Train Acc: 66.67%\n",
      "Valid Loss: 1.0435 | Valid Acc: 66.76%\n",
      "Test  Loss: 1.0798 | Test Acc: 67.21%\n",
      "--------------------------------------------------\n",
      "[Epoch 16/1000] :\n"
     ]
    },
    {
     "name": "stderr",
     "output_type": "stream",
     "text": [
      "train: 100%|██████████| 372/372 [00:28<00:00, 12.87it/s]\n"
     ]
    },
    {
     "name": "stdout",
     "output_type": "stream",
     "text": [
      "Train Loss: 0.0039 | Train Acc: 58.33%\n",
      "Valid Loss: 0.7488 | Valid Acc: 74.72%\n",
      "Test  Loss: 0.7018 | Test Acc: 76.37%\n",
      "updated best eval loss : 0.748834902048111\n",
      "--------------------------------------------------\n",
      "[Epoch 17/1000] :\n"
     ]
    },
    {
     "name": "stderr",
     "output_type": "stream",
     "text": [
      "train: 100%|██████████| 372/372 [00:28<00:00, 12.97it/s]\n"
     ]
    },
    {
     "name": "stdout",
     "output_type": "stream",
     "text": [
      "Train Loss: 0.0020 | Train Acc: 66.67%\n",
      "Valid Loss: 0.8740 | Valid Acc: 70.08%\n",
      "Test  Loss: 0.8470 | Test Acc: 71.83%\n",
      "--------------------------------------------------\n",
      "[Epoch 18/1000] :\n"
     ]
    },
    {
     "name": "stderr",
     "output_type": "stream",
     "text": [
      "train: 100%|██████████| 372/372 [00:29<00:00, 12.72it/s]\n"
     ]
    },
    {
     "name": "stdout",
     "output_type": "stream",
     "text": [
      "Train Loss: 0.0006 | Train Acc: 91.67%\n",
      "Valid Loss: 0.7995 | Valid Acc: 73.60%\n",
      "Test  Loss: 0.6788 | Test Acc: 78.17%\n",
      "--------------------------------------------------\n",
      "[Epoch 19/1000] :\n"
     ]
    },
    {
     "name": "stderr",
     "output_type": "stream",
     "text": [
      "train: 100%|██████████| 372/372 [00:29<00:00, 12.71it/s]\n"
     ]
    },
    {
     "name": "stdout",
     "output_type": "stream",
     "text": [
      "Train Loss: 0.0024 | Train Acc: 75.00%\n",
      "Valid Loss: 0.7097 | Valid Acc: 76.56%\n",
      "Test  Loss: 0.6712 | Test Acc: 77.59%\n",
      "updated best eval loss : 0.7096870362758636\n",
      "--------------------------------------------------\n",
      "[Epoch 20/1000] :\n"
     ]
    },
    {
     "name": "stderr",
     "output_type": "stream",
     "text": [
      "train: 100%|██████████| 372/372 [00:29<00:00, 12.70it/s]\n"
     ]
    },
    {
     "name": "stdout",
     "output_type": "stream",
     "text": [
      "Train Loss: 0.0023 | Train Acc: 75.00%\n",
      "Valid Loss: 0.7976 | Valid Acc: 73.52%\n",
      "Test  Loss: 0.7375 | Test Acc: 76.53%\n",
      "--------------------------------------------------\n",
      "[Epoch 21/1000] :\n"
     ]
    },
    {
     "name": "stderr",
     "output_type": "stream",
     "text": [
      "train: 100%|██████████| 372/372 [00:29<00:00, 12.63it/s]\n"
     ]
    },
    {
     "name": "stdout",
     "output_type": "stream",
     "text": [
      "Train Loss: 0.0012 | Train Acc: 83.33%\n",
      "Valid Loss: 0.7711 | Valid Acc: 74.20%\n",
      "Test  Loss: 0.7467 | Test Acc: 75.12%\n",
      "--------------------------------------------------\n",
      "[Epoch 22/1000] :\n"
     ]
    },
    {
     "name": "stderr",
     "output_type": "stream",
     "text": [
      "train: 100%|██████████| 372/372 [00:29<00:00, 12.74it/s]\n"
     ]
    },
    {
     "name": "stdout",
     "output_type": "stream",
     "text": [
      "Train Loss: 0.0026 | Train Acc: 66.67%\n",
      "Valid Loss: 0.6827 | Valid Acc: 76.24%\n",
      "Test  Loss: 0.5901 | Test Acc: 79.26%\n",
      "updated best eval loss : 0.682719612121582\n",
      "--------------------------------------------------\n",
      "[Epoch 23/1000] :\n"
     ]
    },
    {
     "name": "stderr",
     "output_type": "stream",
     "text": [
      "train: 100%|██████████| 372/372 [00:28<00:00, 13.27it/s]\n"
     ]
    },
    {
     "name": "stdout",
     "output_type": "stream",
     "text": [
      "Train Loss: 0.0014 | Train Acc: 83.33%\n",
      "Valid Loss: 0.7015 | Valid Acc: 75.76%\n",
      "Test  Loss: 0.6851 | Test Acc: 75.86%\n",
      "--------------------------------------------------\n",
      "[Epoch 24/1000] :\n"
     ]
    },
    {
     "name": "stderr",
     "output_type": "stream",
     "text": [
      "train: 100%|██████████| 372/372 [00:29<00:00, 12.74it/s]\n"
     ]
    },
    {
     "name": "stdout",
     "output_type": "stream",
     "text": [
      "Train Loss: 0.0015 | Train Acc: 75.00%\n",
      "Valid Loss: 0.7599 | Valid Acc: 73.96%\n",
      "Test  Loss: 0.5561 | Test Acc: 80.61%\n",
      "--------------------------------------------------\n",
      "[Epoch 25/1000] :\n"
     ]
    },
    {
     "name": "stderr",
     "output_type": "stream",
     "text": [
      "train: 100%|██████████| 372/372 [00:28<00:00, 12.87it/s]\n"
     ]
    },
    {
     "name": "stdout",
     "output_type": "stream",
     "text": [
      "Train Loss: 0.0021 | Train Acc: 75.00%\n",
      "Valid Loss: 0.7353 | Valid Acc: 74.80%\n",
      "Test  Loss: 0.8826 | Test Acc: 71.90%\n",
      "--------------------------------------------------\n",
      "[Epoch 26/1000] :\n"
     ]
    },
    {
     "name": "stderr",
     "output_type": "stream",
     "text": [
      "train: 100%|██████████| 372/372 [00:28<00:00, 13.02it/s]\n"
     ]
    },
    {
     "name": "stdout",
     "output_type": "stream",
     "text": [
      "Train Loss: 0.0026 | Train Acc: 75.00%\n",
      "Valid Loss: 0.7670 | Valid Acc: 74.96%\n",
      "Test  Loss: 0.6139 | Test Acc: 79.45%\n",
      "--------------------------------------------------\n",
      "[Epoch 27/1000] :\n"
     ]
    },
    {
     "name": "stderr",
     "output_type": "stream",
     "text": [
      "train: 100%|██████████| 372/372 [00:28<00:00, 13.17it/s]\n"
     ]
    },
    {
     "name": "stdout",
     "output_type": "stream",
     "text": [
      "Train Loss: 0.0021 | Train Acc: 75.00%\n",
      "Valid Loss: 0.8007 | Valid Acc: 73.48%\n",
      "Test  Loss: 0.8398 | Test Acc: 72.79%\n",
      "--------------------------------------------------\n",
      "[Epoch 28/1000] :\n"
     ]
    },
    {
     "name": "stderr",
     "output_type": "stream",
     "text": [
      "train: 100%|██████████| 372/372 [00:28<00:00, 13.04it/s]\n"
     ]
    },
    {
     "name": "stdout",
     "output_type": "stream",
     "text": [
      "Train Loss: 0.0008 | Train Acc: 91.67%\n",
      "Valid Loss: 0.6891 | Valid Acc: 76.76%\n",
      "Test  Loss: 0.5917 | Test Acc: 79.76%\n",
      "--------------------------------------------------\n",
      "[Epoch 29/1000] :\n"
     ]
    },
    {
     "name": "stderr",
     "output_type": "stream",
     "text": [
      "train: 100%|██████████| 372/372 [00:28<00:00, 13.08it/s]\n"
     ]
    },
    {
     "name": "stdout",
     "output_type": "stream",
     "text": [
      "Train Loss: 0.0018 | Train Acc: 75.00%\n",
      "Valid Loss: 0.7561 | Valid Acc: 74.48%\n",
      "Test  Loss: 0.6333 | Test Acc: 78.91%\n",
      "--------------------------------------------------\n",
      "[Epoch 30/1000] :\n"
     ]
    },
    {
     "name": "stderr",
     "output_type": "stream",
     "text": [
      "train: 100%|██████████| 372/372 [00:28<00:00, 13.10it/s]\n"
     ]
    },
    {
     "name": "stdout",
     "output_type": "stream",
     "text": [
      "Train Loss: 0.0008 | Train Acc: 91.67%\n",
      "Valid Loss: 0.7193 | Valid Acc: 75.56%\n",
      "Test  Loss: 0.6670 | Test Acc: 77.63%\n",
      "--------------------------------------------------\n",
      "[Epoch 31/1000] :\n"
     ]
    },
    {
     "name": "stderr",
     "output_type": "stream",
     "text": [
      "train: 100%|██████████| 372/372 [00:28<00:00, 13.04it/s]\n"
     ]
    },
    {
     "name": "stdout",
     "output_type": "stream",
     "text": [
      "Train Loss: 0.0030 | Train Acc: 41.67%\n",
      "Valid Loss: 0.6974 | Valid Acc: 77.00%\n",
      "Test  Loss: 0.5506 | Test Acc: 81.16%\n",
      "--------------------------------------------------\n",
      "[Epoch 32/1000] :\n"
     ]
    },
    {
     "name": "stderr",
     "output_type": "stream",
     "text": [
      "train: 100%|██████████| 372/372 [00:28<00:00, 12.99it/s]\n"
     ]
    },
    {
     "name": "stdout",
     "output_type": "stream",
     "text": [
      "Train Loss: 0.0012 | Train Acc: 91.67%\n",
      "Valid Loss: 0.6461 | Valid Acc: 77.88%\n",
      "Test  Loss: 0.7304 | Test Acc: 76.03%\n",
      "updated best eval loss : 0.6461324378848076\n",
      "--------------------------------------------------\n",
      "[Epoch 33/1000] :\n"
     ]
    },
    {
     "name": "stderr",
     "output_type": "stream",
     "text": [
      "train: 100%|██████████| 372/372 [00:28<00:00, 13.02it/s]\n"
     ]
    },
    {
     "name": "stdout",
     "output_type": "stream",
     "text": [
      "Train Loss: 0.0040 | Train Acc: 41.67%\n",
      "Valid Loss: 0.8269 | Valid Acc: 72.80%\n",
      "Test  Loss: 0.8036 | Test Acc: 73.73%\n",
      "--------------------------------------------------\n",
      "[Epoch 34/1000] :\n"
     ]
    },
    {
     "name": "stderr",
     "output_type": "stream",
     "text": [
      "train: 100%|██████████| 372/372 [00:29<00:00, 12.81it/s]\n"
     ]
    },
    {
     "name": "stdout",
     "output_type": "stream",
     "text": [
      "Train Loss: 0.0012 | Train Acc: 83.33%\n",
      "Valid Loss: 0.6405 | Valid Acc: 78.16%\n",
      "Test  Loss: 0.6350 | Test Acc: 79.61%\n",
      "updated best eval loss : 0.6405304029583931\n",
      "--------------------------------------------------\n",
      "[Epoch 35/1000] :\n"
     ]
    },
    {
     "name": "stderr",
     "output_type": "stream",
     "text": [
      "train: 100%|██████████| 372/372 [00:28<00:00, 12.94it/s]\n"
     ]
    },
    {
     "name": "stdout",
     "output_type": "stream",
     "text": [
      "Train Loss: 0.0019 | Train Acc: 75.00%\n",
      "Valid Loss: 0.6450 | Valid Acc: 78.12%\n",
      "Test  Loss: 0.5926 | Test Acc: 79.21%\n",
      "--------------------------------------------------\n",
      "[Epoch 36/1000] :\n"
     ]
    },
    {
     "name": "stderr",
     "output_type": "stream",
     "text": [
      "train: 100%|██████████| 372/372 [00:29<00:00, 12.59it/s]\n"
     ]
    },
    {
     "name": "stdout",
     "output_type": "stream",
     "text": [
      "Train Loss: 0.0012 | Train Acc: 83.33%\n",
      "Valid Loss: 0.7758 | Valid Acc: 74.40%\n",
      "Test  Loss: 0.9023 | Test Acc: 71.63%\n",
      "--------------------------------------------------\n",
      "[Epoch 37/1000] :\n"
     ]
    },
    {
     "name": "stderr",
     "output_type": "stream",
     "text": [
      "train: 100%|██████████| 372/372 [00:29<00:00, 12.80it/s]\n"
     ]
    },
    {
     "name": "stdout",
     "output_type": "stream",
     "text": [
      "Train Loss: 0.0030 | Train Acc: 58.33%\n",
      "Valid Loss: 0.6416 | Valid Acc: 78.40%\n",
      "Test  Loss: 0.4546 | Test Acc: 84.85%\n",
      "--------------------------------------------------\n",
      "[Epoch 38/1000] :\n"
     ]
    },
    {
     "name": "stderr",
     "output_type": "stream",
     "text": [
      "train: 100%|██████████| 372/372 [00:29<00:00, 12.53it/s]\n"
     ]
    },
    {
     "name": "stdout",
     "output_type": "stream",
     "text": [
      "Train Loss: 0.0015 | Train Acc: 83.33%\n",
      "Valid Loss: 0.6607 | Valid Acc: 77.00%\n",
      "Test  Loss: 0.5936 | Test Acc: 80.54%\n",
      "--------------------------------------------------\n",
      "[Epoch 39/1000] :\n"
     ]
    },
    {
     "name": "stderr",
     "output_type": "stream",
     "text": [
      "train: 100%|██████████| 372/372 [00:28<00:00, 12.84it/s]\n"
     ]
    },
    {
     "name": "stdout",
     "output_type": "stream",
     "text": [
      "Train Loss: 0.0007 | Train Acc: 91.67%\n",
      "Valid Loss: 0.6144 | Valid Acc: 78.44%\n",
      "Test  Loss: 0.5650 | Test Acc: 81.71%\n",
      "updated best eval loss : 0.6144373923540115\n",
      "--------------------------------------------------\n",
      "[Epoch 40/1000] :\n"
     ]
    },
    {
     "name": "stderr",
     "output_type": "stream",
     "text": [
      "train: 100%|██████████| 372/372 [00:29<00:00, 12.70it/s]\n"
     ]
    },
    {
     "name": "stdout",
     "output_type": "stream",
     "text": [
      "Train Loss: 0.0030 | Train Acc: 58.33%\n",
      "Valid Loss: 0.7623 | Valid Acc: 75.40%\n",
      "Test  Loss: 0.6679 | Test Acc: 78.34%\n",
      "--------------------------------------------------\n",
      "[Epoch 41/1000] :\n"
     ]
    },
    {
     "name": "stderr",
     "output_type": "stream",
     "text": [
      "train: 100%|██████████| 372/372 [00:28<00:00, 12.95it/s]\n"
     ]
    },
    {
     "name": "stdout",
     "output_type": "stream",
     "text": [
      "Train Loss: 0.0003 | Train Acc: 100.00%\n",
      "Valid Loss: 0.5891 | Valid Acc: 79.40%\n",
      "Test  Loss: 0.5490 | Test Acc: 81.82%\n",
      "updated best eval loss : 0.5891140937805176\n",
      "--------------------------------------------------\n",
      "[Epoch 42/1000] :\n"
     ]
    },
    {
     "name": "stderr",
     "output_type": "stream",
     "text": [
      "train: 100%|██████████| 372/372 [00:28<00:00, 13.01it/s]\n"
     ]
    },
    {
     "name": "stdout",
     "output_type": "stream",
     "text": [
      "Train Loss: 0.0014 | Train Acc: 75.00%\n",
      "Valid Loss: 0.6344 | Valid Acc: 78.44%\n",
      "Test  Loss: 0.7388 | Test Acc: 75.75%\n",
      "--------------------------------------------------\n",
      "[Epoch 43/1000] :\n"
     ]
    },
    {
     "name": "stderr",
     "output_type": "stream",
     "text": [
      "train: 100%|██████████| 372/372 [00:28<00:00, 12.93it/s]\n"
     ]
    },
    {
     "name": "stdout",
     "output_type": "stream",
     "text": [
      "Train Loss: 0.0012 | Train Acc: 83.33%\n",
      "Valid Loss: 0.6129 | Valid Acc: 79.24%\n",
      "Test  Loss: 0.6525 | Test Acc: 77.96%\n",
      "--------------------------------------------------\n",
      "[Epoch 44/1000] :\n"
     ]
    },
    {
     "name": "stderr",
     "output_type": "stream",
     "text": [
      "train: 100%|██████████| 372/372 [00:29<00:00, 12.67it/s]\n"
     ]
    },
    {
     "name": "stdout",
     "output_type": "stream",
     "text": [
      "Train Loss: 0.0019 | Train Acc: 83.33%\n",
      "Valid Loss: 0.7913 | Valid Acc: 74.28%\n",
      "Test  Loss: 0.5990 | Test Acc: 80.13%\n",
      "--------------------------------------------------\n",
      "[Epoch 45/1000] :\n"
     ]
    },
    {
     "name": "stderr",
     "output_type": "stream",
     "text": [
      "train: 100%|██████████| 372/372 [00:28<00:00, 12.83it/s]\n"
     ]
    },
    {
     "name": "stdout",
     "output_type": "stream",
     "text": [
      "Train Loss: 0.0017 | Train Acc: 83.33%\n",
      "Valid Loss: 0.5681 | Valid Acc: 81.60%\n",
      "Test  Loss: 0.4957 | Test Acc: 83.03%\n",
      "updated best eval loss : 0.5681141018867493\n",
      "--------------------------------------------------\n",
      "[Epoch 46/1000] :\n"
     ]
    },
    {
     "name": "stderr",
     "output_type": "stream",
     "text": [
      "train: 100%|██████████| 372/372 [00:29<00:00, 12.70it/s]\n"
     ]
    },
    {
     "name": "stdout",
     "output_type": "stream",
     "text": [
      "Train Loss: 0.0007 | Train Acc: 83.33%\n",
      "Valid Loss: 0.5966 | Valid Acc: 79.44%\n",
      "Test  Loss: 0.4788 | Test Acc: 84.39%\n",
      "--------------------------------------------------\n",
      "[Epoch 47/1000] :\n"
     ]
    },
    {
     "name": "stderr",
     "output_type": "stream",
     "text": [
      "train: 100%|██████████| 372/372 [00:28<00:00, 13.18it/s]\n"
     ]
    },
    {
     "name": "stdout",
     "output_type": "stream",
     "text": [
      "Train Loss: 0.0024 | Train Acc: 75.00%\n",
      "Valid Loss: 0.7589 | Valid Acc: 74.68%\n",
      "Test  Loss: 0.6499 | Test Acc: 79.14%\n",
      "--------------------------------------------------\n",
      "[Epoch 48/1000] :\n"
     ]
    },
    {
     "name": "stderr",
     "output_type": "stream",
     "text": [
      "train: 100%|██████████| 372/372 [00:28<00:00, 12.89it/s]\n"
     ]
    },
    {
     "name": "stdout",
     "output_type": "stream",
     "text": [
      "Train Loss: 0.0026 | Train Acc: 58.33%\n",
      "Valid Loss: 0.7210 | Valid Acc: 77.72%\n",
      "Test  Loss: 0.6602 | Test Acc: 78.08%\n",
      "--------------------------------------------------\n",
      "[Epoch 49/1000] :\n"
     ]
    },
    {
     "name": "stderr",
     "output_type": "stream",
     "text": [
      "train: 100%|██████████| 372/372 [00:28<00:00, 12.83it/s]\n"
     ]
    },
    {
     "name": "stdout",
     "output_type": "stream",
     "text": [
      "Train Loss: 0.0020 | Train Acc: 83.33%\n",
      "Valid Loss: 0.6140 | Valid Acc: 79.32%\n",
      "Test  Loss: 0.5845 | Test Acc: 80.37%\n",
      "--------------------------------------------------\n",
      "[Epoch 50/1000] :\n"
     ]
    },
    {
     "name": "stderr",
     "output_type": "stream",
     "text": [
      "train: 100%|██████████| 372/372 [00:28<00:00, 12.90it/s]\n"
     ]
    },
    {
     "name": "stdout",
     "output_type": "stream",
     "text": [
      "Train Loss: 0.0014 | Train Acc: 83.33%\n",
      "Valid Loss: 0.6116 | Valid Acc: 78.88%\n",
      "Test  Loss: 0.6592 | Test Acc: 77.26%\n",
      "--------------------------------------------------\n",
      "[Epoch 51/1000] :\n"
     ]
    },
    {
     "name": "stderr",
     "output_type": "stream",
     "text": [
      "train: 100%|██████████| 372/372 [00:28<00:00, 12.96it/s]\n"
     ]
    },
    {
     "name": "stdout",
     "output_type": "stream",
     "text": [
      "Train Loss: 0.0016 | Train Acc: 83.33%\n",
      "Valid Loss: 0.5732 | Valid Acc: 79.88%\n",
      "Test  Loss: 0.5251 | Test Acc: 81.61%\n",
      "--------------------------------------------------\n",
      "[Epoch 52/1000] :\n"
     ]
    },
    {
     "name": "stderr",
     "output_type": "stream",
     "text": [
      "train: 100%|██████████| 372/372 [00:28<00:00, 13.00it/s]\n"
     ]
    },
    {
     "name": "stdout",
     "output_type": "stream",
     "text": [
      "Train Loss: 0.0025 | Train Acc: 75.00%\n",
      "Valid Loss: 0.5806 | Valid Acc: 80.20%\n",
      "Test  Loss: 0.4790 | Test Acc: 83.46%\n",
      "--------------------------------------------------\n",
      "[Epoch 53/1000] :\n"
     ]
    },
    {
     "name": "stderr",
     "output_type": "stream",
     "text": [
      "train: 100%|██████████| 372/372 [00:28<00:00, 13.08it/s]\n"
     ]
    },
    {
     "name": "stdout",
     "output_type": "stream",
     "text": [
      "Train Loss: 0.0016 | Train Acc: 83.33%\n",
      "Valid Loss: 0.6105 | Valid Acc: 79.36%\n",
      "Test  Loss: 0.5083 | Test Acc: 83.20%\n",
      "--------------------------------------------------\n",
      "[Epoch 54/1000] :\n"
     ]
    },
    {
     "name": "stderr",
     "output_type": "stream",
     "text": [
      "train: 100%|██████████| 372/372 [00:28<00:00, 13.06it/s]\n"
     ]
    },
    {
     "name": "stdout",
     "output_type": "stream",
     "text": [
      "Train Loss: 0.0018 | Train Acc: 75.00%\n",
      "Valid Loss: 0.6094 | Valid Acc: 79.68%\n",
      "Test  Loss: 0.4715 | Test Acc: 84.33%\n",
      "--------------------------------------------------\n",
      "[Epoch 55/1000] :\n"
     ]
    },
    {
     "name": "stderr",
     "output_type": "stream",
     "text": [
      "train: 100%|██████████| 372/372 [00:28<00:00, 12.87it/s]\n"
     ]
    },
    {
     "name": "stdout",
     "output_type": "stream",
     "text": [
      "Train Loss: 0.0019 | Train Acc: 75.00%\n",
      "Valid Loss: 0.6326 | Valid Acc: 78.64%\n",
      "Test  Loss: 0.4453 | Test Acc: 84.83%\n",
      "--------------------------------------------------\n",
      "[Epoch 56/1000] :\n"
     ]
    },
    {
     "name": "stderr",
     "output_type": "stream",
     "text": [
      "train: 100%|██████████| 372/372 [00:29<00:00, 12.63it/s]\n"
     ]
    },
    {
     "name": "stdout",
     "output_type": "stream",
     "text": [
      "Train Loss: 0.0013 | Train Acc: 83.33%\n",
      "Valid Loss: 0.7081 | Valid Acc: 76.40%\n",
      "Test  Loss: 0.5313 | Test Acc: 81.31%\n",
      "Epoch 00056: reducing learning rate of group 0 to 1.0000e-02.\n",
      "--------------------------------------------------\n",
      "[Epoch 57/1000] :\n"
     ]
    },
    {
     "name": "stderr",
     "output_type": "stream",
     "text": [
      "train: 100%|██████████| 372/372 [00:29<00:00, 12.78it/s]\n"
     ]
    },
    {
     "name": "stdout",
     "output_type": "stream",
     "text": [
      "Train Loss: 0.0001 | Train Acc: 100.00%\n",
      "Valid Loss: 0.4044 | Valid Acc: 85.40%\n",
      "Test  Loss: 0.3379 | Test Acc: 88.24%\n",
      "updated best eval loss : 0.4043938145041466\n",
      "--------------------------------------------------\n",
      "[Epoch 58/1000] :\n"
     ]
    },
    {
     "name": "stderr",
     "output_type": "stream",
     "text": [
      "train: 100%|██████████| 372/372 [00:28<00:00, 12.84it/s]\n"
     ]
    },
    {
     "name": "stdout",
     "output_type": "stream",
     "text": [
      "Train Loss: 0.0010 | Train Acc: 83.33%\n",
      "Valid Loss: 0.4054 | Valid Acc: 86.08%\n",
      "Test  Loss: 0.3588 | Test Acc: 87.78%\n",
      "--------------------------------------------------\n",
      "[Epoch 59/1000] :\n"
     ]
    },
    {
     "name": "stderr",
     "output_type": "stream",
     "text": [
      "train: 100%|██████████| 372/372 [00:29<00:00, 12.68it/s]\n"
     ]
    },
    {
     "name": "stdout",
     "output_type": "stream",
     "text": [
      "Train Loss: 0.0011 | Train Acc: 91.67%\n",
      "Valid Loss: 0.4293 | Valid Acc: 85.56%\n",
      "Test  Loss: 0.3430 | Test Acc: 88.32%\n",
      "--------------------------------------------------\n",
      "[Epoch 60/1000] :\n"
     ]
    },
    {
     "name": "stderr",
     "output_type": "stream",
     "text": [
      "train: 100%|██████████| 372/372 [00:31<00:00, 11.64it/s]\n"
     ]
    },
    {
     "name": "stdout",
     "output_type": "stream",
     "text": [
      "Train Loss: 0.0008 | Train Acc: 83.33%\n",
      "Valid Loss: 0.3742 | Valid Acc: 87.48%\n",
      "Test  Loss: 0.3348 | Test Acc: 88.72%\n",
      "updated best eval loss : 0.3742076799273491\n",
      "--------------------------------------------------\n",
      "[Epoch 61/1000] :\n"
     ]
    },
    {
     "name": "stderr",
     "output_type": "stream",
     "text": [
      "train: 100%|██████████| 372/372 [00:30<00:00, 12.14it/s]\n"
     ]
    },
    {
     "name": "stdout",
     "output_type": "stream",
     "text": [
      "Train Loss: 0.0009 | Train Acc: 91.67%\n",
      "Valid Loss: 0.4081 | Valid Acc: 85.40%\n",
      "Test  Loss: 0.3407 | Test Acc: 88.39%\n",
      "--------------------------------------------------\n",
      "[Epoch 62/1000] :\n"
     ]
    },
    {
     "name": "stderr",
     "output_type": "stream",
     "text": [
      "train: 100%|██████████| 372/372 [00:28<00:00, 13.24it/s]\n"
     ]
    },
    {
     "name": "stdout",
     "output_type": "stream",
     "text": [
      "Train Loss: 0.0005 | Train Acc: 91.67%\n",
      "Valid Loss: 0.3935 | Valid Acc: 87.00%\n",
      "Test  Loss: 0.3081 | Test Acc: 89.52%\n",
      "--------------------------------------------------\n",
      "[Epoch 63/1000] :\n"
     ]
    },
    {
     "name": "stderr",
     "output_type": "stream",
     "text": [
      "train: 100%|██████████| 372/372 [00:29<00:00, 12.64it/s]\n"
     ]
    },
    {
     "name": "stdout",
     "output_type": "stream",
     "text": [
      "Train Loss: 0.0011 | Train Acc: 83.33%\n",
      "Valid Loss: 0.4082 | Valid Acc: 86.24%\n",
      "Test  Loss: 0.3478 | Test Acc: 88.40%\n",
      "--------------------------------------------------\n",
      "[Epoch 64/1000] :\n"
     ]
    },
    {
     "name": "stderr",
     "output_type": "stream",
     "text": [
      "train: 100%|██████████| 372/372 [00:30<00:00, 12.33it/s]\n"
     ]
    },
    {
     "name": "stdout",
     "output_type": "stream",
     "text": [
      "Train Loss: 0.0004 | Train Acc: 100.00%\n",
      "Valid Loss: 0.4275 | Valid Acc: 85.56%\n",
      "Test  Loss: 0.3287 | Test Acc: 89.00%\n",
      "--------------------------------------------------\n",
      "[Epoch 65/1000] :\n"
     ]
    },
    {
     "name": "stderr",
     "output_type": "stream",
     "text": [
      "train: 100%|██████████| 372/372 [00:29<00:00, 12.76it/s]\n"
     ]
    },
    {
     "name": "stdout",
     "output_type": "stream",
     "text": [
      "Train Loss: 0.0010 | Train Acc: 83.33%\n",
      "Valid Loss: 0.4042 | Valid Acc: 86.56%\n",
      "Test  Loss: 0.3371 | Test Acc: 88.77%\n",
      "--------------------------------------------------\n",
      "[Epoch 66/1000] :\n"
     ]
    },
    {
     "name": "stderr",
     "output_type": "stream",
     "text": [
      "train: 100%|██████████| 372/372 [00:29<00:00, 12.44it/s]\n"
     ]
    },
    {
     "name": "stdout",
     "output_type": "stream",
     "text": [
      "Train Loss: 0.0027 | Train Acc: 66.67%\n",
      "Valid Loss: 0.3858 | Valid Acc: 86.56%\n",
      "Test  Loss: 0.3385 | Test Acc: 88.76%\n",
      "--------------------------------------------------\n",
      "[Epoch 67/1000] :\n"
     ]
    },
    {
     "name": "stderr",
     "output_type": "stream",
     "text": [
      "train: 100%|██████████| 372/372 [00:29<00:00, 12.61it/s]\n"
     ]
    },
    {
     "name": "stdout",
     "output_type": "stream",
     "text": [
      "Train Loss: 0.0010 | Train Acc: 91.67%\n",
      "Valid Loss: 0.4150 | Valid Acc: 85.76%\n",
      "Test  Loss: 0.3322 | Test Acc: 88.72%\n",
      "--------------------------------------------------\n",
      "[Epoch 68/1000] :\n"
     ]
    },
    {
     "name": "stderr",
     "output_type": "stream",
     "text": [
      "train: 100%|██████████| 372/372 [00:29<00:00, 12.40it/s]\n"
     ]
    },
    {
     "name": "stdout",
     "output_type": "stream",
     "text": [
      "Train Loss: 0.0022 | Train Acc: 75.00%\n",
      "Valid Loss: 0.3771 | Valid Acc: 86.84%\n",
      "Test  Loss: 0.3425 | Test Acc: 88.99%\n",
      "--------------------------------------------------\n",
      "[Epoch 69/1000] :\n"
     ]
    },
    {
     "name": "stderr",
     "output_type": "stream",
     "text": [
      "train: 100%|██████████| 372/372 [00:30<00:00, 12.24it/s]\n"
     ]
    },
    {
     "name": "stdout",
     "output_type": "stream",
     "text": [
      "Train Loss: 0.0002 | Train Acc: 100.00%\n",
      "Valid Loss: 0.4065 | Valid Acc: 86.08%\n",
      "Test  Loss: 0.3291 | Test Acc: 89.26%\n",
      "--------------------------------------------------\n",
      "[Epoch 70/1000] :\n"
     ]
    },
    {
     "name": "stderr",
     "output_type": "stream",
     "text": [
      "train: 100%|██████████| 372/372 [00:30<00:00, 12.22it/s]\n"
     ]
    },
    {
     "name": "stdout",
     "output_type": "stream",
     "text": [
      "Train Loss: 0.0007 | Train Acc: 91.67%\n",
      "Valid Loss: 0.3984 | Valid Acc: 87.24%\n",
      "Test  Loss: 0.3301 | Test Acc: 89.09%\n",
      "--------------------------------------------------\n",
      "[Epoch 71/1000] :\n"
     ]
    },
    {
     "name": "stderr",
     "output_type": "stream",
     "text": [
      "train: 100%|██████████| 372/372 [00:30<00:00, 12.12it/s]\n"
     ]
    },
    {
     "name": "stdout",
     "output_type": "stream",
     "text": [
      "Train Loss: 0.0014 | Train Acc: 75.00%\n",
      "Valid Loss: 0.4089 | Valid Acc: 86.12%\n",
      "Test  Loss: 0.3414 | Test Acc: 89.00%\n",
      "--------------------------------------------------\n",
      "[Epoch 72/1000] :\n"
     ]
    },
    {
     "name": "stderr",
     "output_type": "stream",
     "text": [
      "train: 100%|██████████| 372/372 [00:29<00:00, 12.79it/s]\n"
     ]
    },
    {
     "name": "stdout",
     "output_type": "stream",
     "text": [
      "Train Loss: 0.0010 | Train Acc: 91.67%\n",
      "Valid Loss: 0.3647 | Valid Acc: 88.24%\n",
      "Test  Loss: 0.3290 | Test Acc: 89.19%\n",
      "updated best eval loss : 0.3647132232785225\n",
      "--------------------------------------------------\n",
      "[Epoch 73/1000] :\n"
     ]
    },
    {
     "name": "stderr",
     "output_type": "stream",
     "text": [
      "train: 100%|██████████| 372/372 [00:30<00:00, 12.31it/s]\n"
     ]
    },
    {
     "name": "stdout",
     "output_type": "stream",
     "text": [
      "Train Loss: 0.0016 | Train Acc: 83.33%\n",
      "Valid Loss: 0.3906 | Valid Acc: 87.36%\n",
      "Test  Loss: 0.3512 | Test Acc: 88.23%\n",
      "--------------------------------------------------\n",
      "[Epoch 74/1000] :\n"
     ]
    },
    {
     "name": "stderr",
     "output_type": "stream",
     "text": [
      "train: 100%|██████████| 372/372 [00:28<00:00, 12.97it/s]\n"
     ]
    },
    {
     "name": "stdout",
     "output_type": "stream",
     "text": [
      "Train Loss: 0.0011 | Train Acc: 91.67%\n",
      "Valid Loss: 0.3900 | Valid Acc: 86.64%\n",
      "Test  Loss: 0.3504 | Test Acc: 88.29%\n",
      "--------------------------------------------------\n",
      "[Epoch 75/1000] :\n"
     ]
    },
    {
     "name": "stderr",
     "output_type": "stream",
     "text": [
      "train: 100%|██████████| 372/372 [00:28<00:00, 13.00it/s]\n"
     ]
    },
    {
     "name": "stdout",
     "output_type": "stream",
     "text": [
      "Train Loss: 0.0012 | Train Acc: 75.00%\n",
      "Valid Loss: 0.3932 | Valid Acc: 86.92%\n",
      "Test  Loss: 0.3345 | Test Acc: 88.85%\n",
      "--------------------------------------------------\n",
      "[Epoch 76/1000] :\n"
     ]
    },
    {
     "name": "stderr",
     "output_type": "stream",
     "text": [
      "train: 100%|██████████| 372/372 [00:29<00:00, 12.54it/s]\n"
     ]
    },
    {
     "name": "stdout",
     "output_type": "stream",
     "text": [
      "Train Loss: 0.0003 | Train Acc: 91.67%\n",
      "Valid Loss: 0.4128 | Valid Acc: 86.00%\n",
      "Test  Loss: 0.3705 | Test Acc: 88.12%\n",
      "--------------------------------------------------\n",
      "[Epoch 77/1000] :\n"
     ]
    },
    {
     "name": "stderr",
     "output_type": "stream",
     "text": [
      "train: 100%|██████████| 372/372 [00:30<00:00, 12.30it/s]\n"
     ]
    },
    {
     "name": "stdout",
     "output_type": "stream",
     "text": [
      "Train Loss: 0.0006 | Train Acc: 91.67%\n",
      "Valid Loss: 0.4041 | Valid Acc: 86.36%\n",
      "Test  Loss: 0.3492 | Test Acc: 88.69%\n",
      "--------------------------------------------------\n",
      "[Epoch 78/1000] :\n"
     ]
    },
    {
     "name": "stderr",
     "output_type": "stream",
     "text": [
      "train: 100%|██████████| 372/372 [00:29<00:00, 12.74it/s]\n"
     ]
    },
    {
     "name": "stdout",
     "output_type": "stream",
     "text": [
      "Train Loss: 0.0017 | Train Acc: 91.67%\n",
      "Valid Loss: 0.3988 | Valid Acc: 86.92%\n",
      "Test  Loss: 0.3281 | Test Acc: 89.14%\n",
      "--------------------------------------------------\n",
      "[Epoch 79/1000] :\n"
     ]
    },
    {
     "name": "stderr",
     "output_type": "stream",
     "text": [
      "train: 100%|██████████| 372/372 [00:29<00:00, 12.61it/s]\n"
     ]
    },
    {
     "name": "stdout",
     "output_type": "stream",
     "text": [
      "Train Loss: 0.0025 | Train Acc: 75.00%\n",
      "Valid Loss: 0.3737 | Valid Acc: 87.36%\n",
      "Test  Loss: 0.3293 | Test Acc: 89.32%\n",
      "--------------------------------------------------\n",
      "[Epoch 80/1000] :\n"
     ]
    },
    {
     "name": "stderr",
     "output_type": "stream",
     "text": [
      "train: 100%|██████████| 372/372 [00:29<00:00, 12.44it/s]\n"
     ]
    },
    {
     "name": "stdout",
     "output_type": "stream",
     "text": [
      "Train Loss: 0.0011 | Train Acc: 91.67%\n",
      "Valid Loss: 0.3940 | Valid Acc: 86.80%\n",
      "Test  Loss: 0.3198 | Test Acc: 89.59%\n",
      "--------------------------------------------------\n",
      "[Epoch 81/1000] :\n"
     ]
    },
    {
     "name": "stderr",
     "output_type": "stream",
     "text": [
      "train: 100%|██████████| 372/372 [00:29<00:00, 12.78it/s]\n"
     ]
    },
    {
     "name": "stdout",
     "output_type": "stream",
     "text": [
      "Train Loss: 0.0003 | Train Acc: 91.67%\n",
      "Valid Loss: 0.3966 | Valid Acc: 87.48%\n",
      "Test  Loss: 0.3452 | Test Acc: 88.69%\n",
      "--------------------------------------------------\n",
      "[Epoch 82/1000] :\n"
     ]
    },
    {
     "name": "stderr",
     "output_type": "stream",
     "text": [
      "train: 100%|██████████| 372/372 [00:29<00:00, 12.48it/s]\n"
     ]
    },
    {
     "name": "stdout",
     "output_type": "stream",
     "text": [
      "Train Loss: 0.0018 | Train Acc: 91.67%\n",
      "Valid Loss: 0.3841 | Valid Acc: 86.88%\n",
      "Test  Loss: 0.3218 | Test Acc: 89.39%\n",
      "--------------------------------------------------\n",
      "[Epoch 83/1000] :\n"
     ]
    },
    {
     "name": "stderr",
     "output_type": "stream",
     "text": [
      "train: 100%|██████████| 372/372 [00:29<00:00, 12.65it/s]\n"
     ]
    },
    {
     "name": "stdout",
     "output_type": "stream",
     "text": [
      "Train Loss: 0.0003 | Train Acc: 100.00%\n",
      "Valid Loss: 0.3667 | Valid Acc: 88.04%\n",
      "Test  Loss: 0.3294 | Test Acc: 89.35%\n",
      "--------------------------------------------------\n",
      "[Epoch 84/1000] :\n"
     ]
    },
    {
     "name": "stderr",
     "output_type": "stream",
     "text": [
      "train: 100%|██████████| 372/372 [00:29<00:00, 12.68it/s]\n"
     ]
    },
    {
     "name": "stdout",
     "output_type": "stream",
     "text": [
      "Train Loss: 0.0007 | Train Acc: 91.67%\n",
      "Valid Loss: 0.3704 | Valid Acc: 87.40%\n",
      "Test  Loss: 0.3414 | Test Acc: 88.97%\n",
      "--------------------------------------------------\n",
      "[Epoch 85/1000] :\n"
     ]
    },
    {
     "name": "stderr",
     "output_type": "stream",
     "text": [
      "train: 100%|██████████| 372/372 [00:29<00:00, 12.58it/s]\n"
     ]
    },
    {
     "name": "stdout",
     "output_type": "stream",
     "text": [
      "Train Loss: 0.0021 | Train Acc: 83.33%\n",
      "Valid Loss: 0.3973 | Valid Acc: 86.60%\n",
      "Test  Loss: 0.3213 | Test Acc: 89.45%\n",
      "--------------------------------------------------\n",
      "[Epoch 86/1000] :\n"
     ]
    },
    {
     "name": "stderr",
     "output_type": "stream",
     "text": [
      "train: 100%|██████████| 372/372 [00:29<00:00, 12.78it/s]\n"
     ]
    },
    {
     "name": "stdout",
     "output_type": "stream",
     "text": [
      "Train Loss: 0.0004 | Train Acc: 100.00%\n",
      "Valid Loss: 0.3874 | Valid Acc: 87.00%\n",
      "Test  Loss: 0.3242 | Test Acc: 89.49%\n",
      "--------------------------------------------------\n",
      "[Epoch 87/1000] :\n"
     ]
    },
    {
     "name": "stderr",
     "output_type": "stream",
     "text": [
      "train: 100%|██████████| 372/372 [00:29<00:00, 12.42it/s]\n"
     ]
    },
    {
     "name": "stdout",
     "output_type": "stream",
     "text": [
      "Train Loss: 0.0020 | Train Acc: 66.67%\n",
      "Valid Loss: 0.3778 | Valid Acc: 87.20%\n",
      "Test  Loss: 0.3345 | Test Acc: 89.26%\n",
      "--------------------------------------------------\n",
      "[Epoch 88/1000] :\n"
     ]
    },
    {
     "name": "stderr",
     "output_type": "stream",
     "text": [
      "train: 100%|██████████| 372/372 [00:28<00:00, 12.87it/s]\n"
     ]
    },
    {
     "name": "stdout",
     "output_type": "stream",
     "text": [
      "Train Loss: 0.0010 | Train Acc: 83.33%\n",
      "Valid Loss: 0.3887 | Valid Acc: 87.52%\n",
      "Test  Loss: 0.3548 | Test Acc: 88.70%\n",
      "--------------------------------------------------\n",
      "[Epoch 89/1000] :\n"
     ]
    },
    {
     "name": "stderr",
     "output_type": "stream",
     "text": [
      "train: 100%|██████████| 372/372 [00:29<00:00, 12.60it/s]\n"
     ]
    },
    {
     "name": "stdout",
     "output_type": "stream",
     "text": [
      "Train Loss: 0.0016 | Train Acc: 75.00%\n",
      "Valid Loss: 0.4029 | Valid Acc: 86.52%\n",
      "Test  Loss: 0.3447 | Test Acc: 88.75%\n",
      "--------------------------------------------------\n",
      "[Epoch 90/1000] :\n"
     ]
    },
    {
     "name": "stderr",
     "output_type": "stream",
     "text": [
      "train: 100%|██████████| 372/372 [00:30<00:00, 12.40it/s]\n"
     ]
    },
    {
     "name": "stdout",
     "output_type": "stream",
     "text": [
      "Train Loss: 0.0005 | Train Acc: 91.67%\n",
      "Valid Loss: 0.3872 | Valid Acc: 86.72%\n",
      "Test  Loss: 0.3431 | Test Acc: 88.98%\n",
      "--------------------------------------------------\n",
      "[Epoch 91/1000] :\n"
     ]
    },
    {
     "name": "stderr",
     "output_type": "stream",
     "text": [
      "train: 100%|██████████| 372/372 [00:29<00:00, 12.60it/s]\n"
     ]
    },
    {
     "name": "stdout",
     "output_type": "stream",
     "text": [
      "Train Loss: 0.0008 | Train Acc: 83.33%\n",
      "Valid Loss: 0.3839 | Valid Acc: 87.20%\n",
      "Test  Loss: 0.3518 | Test Acc: 88.20%\n",
      "--------------------------------------------------\n",
      "[Epoch 92/1000] :\n"
     ]
    },
    {
     "name": "stderr",
     "output_type": "stream",
     "text": [
      "train: 100%|██████████| 372/372 [00:30<00:00, 12.29it/s]\n"
     ]
    },
    {
     "name": "stdout",
     "output_type": "stream",
     "text": [
      "Train Loss: 0.0001 | Train Acc: 100.00%\n",
      "Valid Loss: 0.3787 | Valid Acc: 87.40%\n",
      "Test  Loss: 0.3349 | Test Acc: 89.00%\n",
      "--------------------------------------------------\n",
      "[Epoch 93/1000] :\n"
     ]
    },
    {
     "name": "stderr",
     "output_type": "stream",
     "text": [
      "train: 100%|██████████| 372/372 [00:29<00:00, 12.73it/s]\n"
     ]
    },
    {
     "name": "stdout",
     "output_type": "stream",
     "text": [
      "Train Loss: 0.0015 | Train Acc: 66.67%\n",
      "Valid Loss: 0.4055 | Valid Acc: 86.52%\n",
      "Test  Loss: 0.3688 | Test Acc: 88.08%\n",
      "--------------------------------------------------\n",
      "[Epoch 94/1000] :\n"
     ]
    },
    {
     "name": "stderr",
     "output_type": "stream",
     "text": [
      "train: 100%|██████████| 372/372 [00:29<00:00, 12.79it/s]\n"
     ]
    },
    {
     "name": "stdout",
     "output_type": "stream",
     "text": [
      "Train Loss: 0.0017 | Train Acc: 66.67%\n",
      "Valid Loss: 0.3719 | Valid Acc: 88.00%\n",
      "Test  Loss: 0.3258 | Test Acc: 89.23%\n",
      "--------------------------------------------------\n",
      "[Epoch 95/1000] :\n"
     ]
    },
    {
     "name": "stderr",
     "output_type": "stream",
     "text": [
      "train: 100%|██████████| 372/372 [00:28<00:00, 12.95it/s]\n"
     ]
    },
    {
     "name": "stdout",
     "output_type": "stream",
     "text": [
      "Train Loss: 0.0011 | Train Acc: 91.67%\n",
      "Valid Loss: 0.3924 | Valid Acc: 86.32%\n",
      "Test  Loss: 0.3515 | Test Acc: 89.04%\n",
      "--------------------------------------------------\n",
      "[Epoch 96/1000] :\n"
     ]
    },
    {
     "name": "stderr",
     "output_type": "stream",
     "text": [
      "train: 100%|██████████| 372/372 [00:29<00:00, 12.60it/s]\n"
     ]
    },
    {
     "name": "stdout",
     "output_type": "stream",
     "text": [
      "Train Loss: 0.0010 | Train Acc: 83.33%\n",
      "Valid Loss: 0.3791 | Valid Acc: 86.92%\n",
      "Test  Loss: 0.3419 | Test Acc: 89.30%\n",
      "--------------------------------------------------\n",
      "[Epoch 97/1000] :\n"
     ]
    },
    {
     "name": "stderr",
     "output_type": "stream",
     "text": [
      "train: 100%|██████████| 372/372 [00:30<00:00, 12.33it/s]\n"
     ]
    },
    {
     "name": "stdout",
     "output_type": "stream",
     "text": [
      "Train Loss: 0.0002 | Train Acc: 100.00%\n",
      "Valid Loss: 0.3957 | Valid Acc: 86.92%\n",
      "Test  Loss: 0.3095 | Test Acc: 90.00%\n",
      "--------------------------------------------------\n",
      "[Epoch 98/1000] :\n"
     ]
    },
    {
     "name": "stderr",
     "output_type": "stream",
     "text": [
      "train: 100%|██████████| 372/372 [00:29<00:00, 12.61it/s]\n"
     ]
    },
    {
     "name": "stdout",
     "output_type": "stream",
     "text": [
      "Train Loss: 0.0002 | Train Acc: 100.00%\n",
      "Valid Loss: 0.3800 | Valid Acc: 86.80%\n",
      "Test  Loss: 0.3096 | Test Acc: 89.97%\n",
      "--------------------------------------------------\n",
      "[Epoch 99/1000] :\n"
     ]
    },
    {
     "name": "stderr",
     "output_type": "stream",
     "text": [
      "train: 100%|██████████| 372/372 [00:29<00:00, 12.44it/s]\n"
     ]
    },
    {
     "name": "stdout",
     "output_type": "stream",
     "text": [
      "Train Loss: 0.0010 | Train Acc: 91.67%\n",
      "Valid Loss: 0.3841 | Valid Acc: 87.16%\n",
      "Test  Loss: 0.3404 | Test Acc: 89.06%\n",
      "--------------------------------------------------\n",
      "[Epoch 100/1000] :\n"
     ]
    },
    {
     "name": "stderr",
     "output_type": "stream",
     "text": [
      "train: 100%|██████████| 372/372 [00:29<00:00, 12.73it/s]\n"
     ]
    },
    {
     "name": "stdout",
     "output_type": "stream",
     "text": [
      "Train Loss: 0.0012 | Train Acc: 75.00%\n",
      "Valid Loss: 0.3856 | Valid Acc: 86.64%\n",
      "Test  Loss: 0.3287 | Test Acc: 89.40%\n",
      "--------------------------------------------------\n",
      "[Epoch 101/1000] :\n"
     ]
    },
    {
     "name": "stderr",
     "output_type": "stream",
     "text": [
      "train: 100%|██████████| 372/372 [00:28<00:00, 12.89it/s]\n"
     ]
    },
    {
     "name": "stdout",
     "output_type": "stream",
     "text": [
      "Train Loss: 0.0010 | Train Acc: 83.33%\n",
      "Valid Loss: 0.4058 | Valid Acc: 86.60%\n",
      "Test  Loss: 0.3352 | Test Acc: 89.27%\n",
      "--------------------------------------------------\n",
      "[Epoch 102/1000] :\n"
     ]
    },
    {
     "name": "stderr",
     "output_type": "stream",
     "text": [
      "train: 100%|██████████| 372/372 [00:30<00:00, 12.38it/s]\n"
     ]
    },
    {
     "name": "stdout",
     "output_type": "stream",
     "text": [
      "Train Loss: 0.0000 | Train Acc: 100.00%\n",
      "Valid Loss: 0.3704 | Valid Acc: 88.44%\n",
      "Test  Loss: 0.3413 | Test Acc: 89.21%\n",
      "--------------------------------------------------\n",
      "[Epoch 103/1000] :\n"
     ]
    },
    {
     "name": "stderr",
     "output_type": "stream",
     "text": [
      "train: 100%|██████████| 372/372 [00:29<00:00, 12.82it/s]\n"
     ]
    },
    {
     "name": "stdout",
     "output_type": "stream",
     "text": [
      "Train Loss: 0.0001 | Train Acc: 100.00%\n",
      "Valid Loss: 0.3952 | Valid Acc: 87.20%\n",
      "Test  Loss: 0.3603 | Test Acc: 88.47%\n",
      "--------------------------------------------------\n",
      "[Epoch 104/1000] :\n"
     ]
    },
    {
     "name": "stderr",
     "output_type": "stream",
     "text": [
      "train: 100%|██████████| 372/372 [00:29<00:00, 12.77it/s]\n"
     ]
    },
    {
     "name": "stdout",
     "output_type": "stream",
     "text": [
      "Train Loss: 0.0011 | Train Acc: 91.67%\n",
      "Valid Loss: 0.4040 | Valid Acc: 85.96%\n",
      "Test  Loss: 0.3344 | Test Acc: 89.35%\n",
      "--------------------------------------------------\n",
      "[Epoch 105/1000] :\n"
     ]
    },
    {
     "name": "stderr",
     "output_type": "stream",
     "text": [
      "train: 100%|██████████| 372/372 [00:30<00:00, 12.37it/s]\n"
     ]
    },
    {
     "name": "stdout",
     "output_type": "stream",
     "text": [
      "Train Loss: 0.0051 | Train Acc: 66.67%\n",
      "Valid Loss: 0.3827 | Valid Acc: 87.28%\n",
      "Test  Loss: 0.3737 | Test Acc: 87.86%\n",
      "--------------------------------------------------\n",
      "[Epoch 106/1000] :\n"
     ]
    },
    {
     "name": "stderr",
     "output_type": "stream",
     "text": [
      "train: 100%|██████████| 372/372 [00:29<00:00, 12.44it/s]\n"
     ]
    },
    {
     "name": "stdout",
     "output_type": "stream",
     "text": [
      "Train Loss: 0.0008 | Train Acc: 91.67%\n",
      "Valid Loss: 0.4015 | Valid Acc: 86.64%\n",
      "Test  Loss: 0.3646 | Test Acc: 88.43%\n",
      "--------------------------------------------------\n",
      "[Epoch 107/1000] :\n"
     ]
    },
    {
     "name": "stderr",
     "output_type": "stream",
     "text": [
      "train: 100%|██████████| 372/372 [00:29<00:00, 12.53it/s]\n"
     ]
    },
    {
     "name": "stdout",
     "output_type": "stream",
     "text": [
      "Train Loss: 0.0004 | Train Acc: 91.67%\n",
      "Valid Loss: 0.4066 | Valid Acc: 87.08%\n",
      "Test  Loss: 0.3334 | Test Acc: 89.51%\n",
      "--------------------------------------------------\n",
      "[Epoch 108/1000] :\n"
     ]
    },
    {
     "name": "stderr",
     "output_type": "stream",
     "text": [
      "train: 100%|██████████| 372/372 [00:29<00:00, 12.50it/s]\n"
     ]
    },
    {
     "name": "stdout",
     "output_type": "stream",
     "text": [
      "Train Loss: 0.0012 | Train Acc: 83.33%\n",
      "Valid Loss: 0.3909 | Valid Acc: 87.24%\n",
      "Test  Loss: 0.3306 | Test Acc: 89.38%\n",
      "--------------------------------------------------\n",
      "[Epoch 109/1000] :\n"
     ]
    },
    {
     "name": "stderr",
     "output_type": "stream",
     "text": [
      "train: 100%|██████████| 372/372 [00:29<00:00, 12.67it/s]\n"
     ]
    },
    {
     "name": "stdout",
     "output_type": "stream",
     "text": [
      "Train Loss: 0.0002 | Train Acc: 100.00%\n",
      "Valid Loss: 0.3939 | Valid Acc: 86.56%\n",
      "Test  Loss: 0.3471 | Test Acc: 88.55%\n",
      "--------------------------------------------------\n",
      "[Epoch 110/1000] :\n"
     ]
    },
    {
     "name": "stderr",
     "output_type": "stream",
     "text": [
      "train: 100%|██████████| 372/372 [00:29<00:00, 12.54it/s]\n"
     ]
    },
    {
     "name": "stdout",
     "output_type": "stream",
     "text": [
      "Train Loss: 0.0004 | Train Acc: 91.67%\n",
      "Valid Loss: 0.3710 | Valid Acc: 87.68%\n",
      "Test  Loss: 0.3292 | Test Acc: 89.15%\n",
      "--------------------------------------------------\n",
      "[Epoch 111/1000] :\n"
     ]
    },
    {
     "name": "stderr",
     "output_type": "stream",
     "text": [
      "train: 100%|██████████| 372/372 [00:29<00:00, 12.80it/s]\n"
     ]
    },
    {
     "name": "stdout",
     "output_type": "stream",
     "text": [
      "Train Loss: 0.0015 | Train Acc: 75.00%\n",
      "Valid Loss: 0.3764 | Valid Acc: 87.64%\n",
      "Test  Loss: 0.3578 | Test Acc: 88.41%\n",
      "--------------------------------------------------\n",
      "[Epoch 112/1000] :\n"
     ]
    },
    {
     "name": "stderr",
     "output_type": "stream",
     "text": [
      "train: 100%|██████████| 372/372 [00:29<00:00, 12.61it/s]\n"
     ]
    },
    {
     "name": "stdout",
     "output_type": "stream",
     "text": [
      "Train Loss: 0.0030 | Train Acc: 66.67%\n",
      "Valid Loss: 0.4071 | Valid Acc: 86.28%\n",
      "Test  Loss: 0.3889 | Test Acc: 87.84%\n",
      "--------------------------------------------------\n",
      "[Epoch 113/1000] :\n"
     ]
    },
    {
     "name": "stderr",
     "output_type": "stream",
     "text": [
      "train: 100%|██████████| 372/372 [00:30<00:00, 12.30it/s]\n"
     ]
    },
    {
     "name": "stdout",
     "output_type": "stream",
     "text": [
      "Train Loss: 0.0016 | Train Acc: 83.33%\n",
      "Valid Loss: 0.4074 | Valid Acc: 87.04%\n",
      "Test  Loss: 0.3744 | Test Acc: 87.83%\n",
      "--------------------------------------------------\n",
      "[Epoch 114/1000] :\n"
     ]
    },
    {
     "name": "stderr",
     "output_type": "stream",
     "text": [
      "train: 100%|██████████| 372/372 [00:29<00:00, 12.52it/s]\n"
     ]
    },
    {
     "name": "stdout",
     "output_type": "stream",
     "text": [
      "Train Loss: 0.0013 | Train Acc: 75.00%\n",
      "Valid Loss: 0.3684 | Valid Acc: 87.56%\n",
      "Test  Loss: 0.3830 | Test Acc: 87.79%\n",
      "--------------------------------------------------\n",
      "[Epoch 115/1000] :\n"
     ]
    },
    {
     "name": "stderr",
     "output_type": "stream",
     "text": [
      "train: 100%|██████████| 372/372 [00:30<00:00, 12.38it/s]\n"
     ]
    },
    {
     "name": "stdout",
     "output_type": "stream",
     "text": [
      "Train Loss: 0.0007 | Train Acc: 91.67%\n",
      "Valid Loss: 0.3817 | Valid Acc: 87.64%\n",
      "Test  Loss: 0.3535 | Test Acc: 88.73%\n",
      "--------------------------------------------------\n",
      "[Epoch 116/1000] :\n"
     ]
    },
    {
     "name": "stderr",
     "output_type": "stream",
     "text": [
      "train: 100%|██████████| 372/372 [00:29<00:00, 12.44it/s]\n"
     ]
    },
    {
     "name": "stdout",
     "output_type": "stream",
     "text": [
      "Train Loss: 0.0001 | Train Acc: 100.00%\n",
      "Valid Loss: 0.4101 | Valid Acc: 86.24%\n",
      "Test  Loss: 0.3246 | Test Acc: 89.61%\n",
      "--------------------------------------------------\n",
      "[Epoch 117/1000] :\n"
     ]
    },
    {
     "name": "stderr",
     "output_type": "stream",
     "text": [
      "train: 100%|██████████| 372/372 [00:30<00:00, 12.39it/s]\n"
     ]
    },
    {
     "name": "stdout",
     "output_type": "stream",
     "text": [
      "Train Loss: 0.0011 | Train Acc: 83.33%\n",
      "Valid Loss: 0.3728 | Valid Acc: 87.44%\n",
      "Test  Loss: 0.3746 | Test Acc: 88.36%\n",
      "Epoch 00117: reducing learning rate of group 0 to 1.0000e-03.\n",
      "--------------------------------------------------\n",
      "[Epoch 118/1000] :\n"
     ]
    },
    {
     "name": "stderr",
     "output_type": "stream",
     "text": [
      "train: 100%|██████████| 372/372 [00:29<00:00, 12.51it/s]\n"
     ]
    },
    {
     "name": "stdout",
     "output_type": "stream",
     "text": [
      "Train Loss: 0.0018 | Train Acc: 75.00%\n",
      "Valid Loss: 0.3751 | Valid Acc: 87.80%\n",
      "Test  Loss: 0.3447 | Test Acc: 89.12%\n",
      "--------------------------------------------------\n",
      "[Epoch 119/1000] :\n"
     ]
    },
    {
     "name": "stderr",
     "output_type": "stream",
     "text": [
      "train: 100%|██████████| 372/372 [00:29<00:00, 12.67it/s]\n"
     ]
    },
    {
     "name": "stdout",
     "output_type": "stream",
     "text": [
      "Train Loss: 0.0001 | Train Acc: 100.00%\n",
      "Valid Loss: 0.3840 | Valid Acc: 87.48%\n",
      "Test  Loss: 0.3347 | Test Acc: 89.45%\n",
      "--------------------------------------------------\n",
      "[Epoch 120/1000] :\n"
     ]
    },
    {
     "name": "stderr",
     "output_type": "stream",
     "text": [
      "train: 100%|██████████| 372/372 [00:30<00:00, 12.38it/s]\n"
     ]
    },
    {
     "name": "stdout",
     "output_type": "stream",
     "text": [
      "Train Loss: 0.0006 | Train Acc: 91.67%\n",
      "Valid Loss: 0.3639 | Valid Acc: 87.92%\n",
      "Test  Loss: 0.3340 | Test Acc: 89.29%\n",
      "updated best eval loss : 0.3639434240758419\n",
      "--------------------------------------------------\n",
      "[Epoch 121/1000] :\n"
     ]
    },
    {
     "name": "stderr",
     "output_type": "stream",
     "text": [
      "train: 100%|██████████| 372/372 [00:29<00:00, 12.41it/s]\n"
     ]
    },
    {
     "name": "stdout",
     "output_type": "stream",
     "text": [
      "Train Loss: 0.0008 | Train Acc: 83.33%\n",
      "Valid Loss: 0.3479 | Valid Acc: 88.56%\n",
      "Test  Loss: 0.3420 | Test Acc: 89.17%\n",
      "updated best eval loss : 0.3478687711060047\n",
      "--------------------------------------------------\n",
      "[Epoch 122/1000] :\n"
     ]
    },
    {
     "name": "stderr",
     "output_type": "stream",
     "text": [
      "train: 100%|██████████| 372/372 [00:29<00:00, 12.56it/s]\n"
     ]
    },
    {
     "name": "stdout",
     "output_type": "stream",
     "text": [
      "Train Loss: 0.0014 | Train Acc: 91.67%\n",
      "Valid Loss: 0.3720 | Valid Acc: 88.24%\n",
      "Test  Loss: 0.3266 | Test Acc: 89.77%\n",
      "--------------------------------------------------\n",
      "[Epoch 123/1000] :\n"
     ]
    },
    {
     "name": "stderr",
     "output_type": "stream",
     "text": [
      "train: 100%|██████████| 372/372 [00:29<00:00, 12.64it/s]\n"
     ]
    },
    {
     "name": "stdout",
     "output_type": "stream",
     "text": [
      "Train Loss: 0.0016 | Train Acc: 75.00%\n",
      "Valid Loss: 0.3664 | Valid Acc: 88.08%\n",
      "Test  Loss: 0.3246 | Test Acc: 89.79%\n",
      "--------------------------------------------------\n",
      "[Epoch 124/1000] :\n"
     ]
    },
    {
     "name": "stderr",
     "output_type": "stream",
     "text": [
      "train: 100%|██████████| 372/372 [00:29<00:00, 12.55it/s]\n"
     ]
    },
    {
     "name": "stdout",
     "output_type": "stream",
     "text": [
      "Train Loss: 0.0012 | Train Acc: 83.33%\n",
      "Valid Loss: 0.3867 | Valid Acc: 87.92%\n",
      "Test  Loss: 0.3102 | Test Acc: 90.29%\n",
      "--------------------------------------------------\n",
      "[Epoch 125/1000] :\n"
     ]
    },
    {
     "name": "stderr",
     "output_type": "stream",
     "text": [
      "train: 100%|██████████| 372/372 [00:29<00:00, 12.66it/s]\n"
     ]
    },
    {
     "name": "stdout",
     "output_type": "stream",
     "text": [
      "Train Loss: 0.0015 | Train Acc: 75.00%\n",
      "Valid Loss: 0.3830 | Valid Acc: 87.96%\n",
      "Test  Loss: 0.3100 | Test Acc: 90.37%\n",
      "--------------------------------------------------\n",
      "[Epoch 126/1000] :\n"
     ]
    },
    {
     "name": "stderr",
     "output_type": "stream",
     "text": [
      "train: 100%|██████████| 372/372 [00:29<00:00, 12.63it/s]\n"
     ]
    },
    {
     "name": "stdout",
     "output_type": "stream",
     "text": [
      "Train Loss: 0.0004 | Train Acc: 91.67%\n",
      "Valid Loss: 0.3644 | Valid Acc: 88.00%\n",
      "Test  Loss: 0.3144 | Test Acc: 90.27%\n",
      "--------------------------------------------------\n",
      "[Epoch 127/1000] :\n"
     ]
    },
    {
     "name": "stderr",
     "output_type": "stream",
     "text": [
      "train: 100%|██████████| 372/372 [00:29<00:00, 12.53it/s]\n"
     ]
    },
    {
     "name": "stdout",
     "output_type": "stream",
     "text": [
      "Train Loss: 0.0023 | Train Acc: 75.00%\n",
      "Valid Loss: 0.3933 | Valid Acc: 88.16%\n",
      "Test  Loss: 0.3209 | Test Acc: 90.32%\n",
      "--------------------------------------------------\n",
      "[Epoch 128/1000] :\n"
     ]
    },
    {
     "name": "stderr",
     "output_type": "stream",
     "text": [
      "train: 100%|██████████| 372/372 [00:30<00:00, 12.20it/s]\n"
     ]
    },
    {
     "name": "stdout",
     "output_type": "stream",
     "text": [
      "Train Loss: 0.0026 | Train Acc: 58.33%\n",
      "Valid Loss: 0.3696 | Valid Acc: 88.04%\n",
      "Test  Loss: 0.3337 | Test Acc: 89.75%\n",
      "--------------------------------------------------\n",
      "[Epoch 129/1000] :\n"
     ]
    },
    {
     "name": "stderr",
     "output_type": "stream",
     "text": [
      "train: 100%|██████████| 372/372 [00:29<00:00, 12.57it/s]\n"
     ]
    },
    {
     "name": "stdout",
     "output_type": "stream",
     "text": [
      "Train Loss: 0.0008 | Train Acc: 91.67%\n",
      "Valid Loss: 0.3784 | Valid Acc: 86.92%\n",
      "Test  Loss: 0.3221 | Test Acc: 89.93%\n",
      "--------------------------------------------------\n",
      "[Epoch 130/1000] :\n"
     ]
    },
    {
     "name": "stderr",
     "output_type": "stream",
     "text": [
      "train: 100%|██████████| 372/372 [00:30<00:00, 12.30it/s]\n"
     ]
    },
    {
     "name": "stdout",
     "output_type": "stream",
     "text": [
      "Train Loss: 0.0008 | Train Acc: 91.67%\n",
      "Valid Loss: 0.3604 | Valid Acc: 88.04%\n",
      "Test  Loss: 0.3215 | Test Acc: 89.85%\n",
      "--------------------------------------------------\n",
      "[Epoch 131/1000] :\n"
     ]
    },
    {
     "name": "stderr",
     "output_type": "stream",
     "text": [
      "train: 100%|██████████| 372/372 [00:30<00:00, 12.36it/s]\n"
     ]
    },
    {
     "name": "stdout",
     "output_type": "stream",
     "text": [
      "Train Loss: 0.0003 | Train Acc: 91.67%\n",
      "Valid Loss: 0.3680 | Valid Acc: 88.56%\n",
      "Test  Loss: 0.3195 | Test Acc: 90.20%\n",
      "--------------------------------------------------\n",
      "[Epoch 132/1000] :\n"
     ]
    },
    {
     "name": "stderr",
     "output_type": "stream",
     "text": [
      "train: 100%|██████████| 372/372 [00:29<00:00, 12.42it/s]\n"
     ]
    },
    {
     "name": "stdout",
     "output_type": "stream",
     "text": [
      "Train Loss: 0.0011 | Train Acc: 91.67%\n",
      "Valid Loss: 0.3393 | Valid Acc: 88.28%\n",
      "Test  Loss: 0.3105 | Test Acc: 90.43%\n",
      "updated best eval loss : 0.3393141582608223\n",
      "--------------------------------------------------\n",
      "[Epoch 133/1000] :\n"
     ]
    },
    {
     "name": "stderr",
     "output_type": "stream",
     "text": [
      "train: 100%|██████████| 372/372 [00:29<00:00, 12.62it/s]\n"
     ]
    },
    {
     "name": "stdout",
     "output_type": "stream",
     "text": [
      "Train Loss: 0.0004 | Train Acc: 91.67%\n",
      "Valid Loss: 0.3722 | Valid Acc: 87.72%\n",
      "Test  Loss: 0.3247 | Test Acc: 89.73%\n",
      "--------------------------------------------------\n",
      "[Epoch 134/1000] :\n"
     ]
    },
    {
     "name": "stderr",
     "output_type": "stream",
     "text": [
      "train: 100%|██████████| 372/372 [00:27<00:00, 13.64it/s]\n"
     ]
    },
    {
     "name": "stdout",
     "output_type": "stream",
     "text": [
      "Train Loss: 0.0009 | Train Acc: 83.33%\n",
      "Valid Loss: 0.3711 | Valid Acc: 88.04%\n",
      "Test  Loss: 0.3265 | Test Acc: 89.87%\n",
      "--------------------------------------------------\n",
      "[Epoch 135/1000] :\n"
     ]
    },
    {
     "name": "stderr",
     "output_type": "stream",
     "text": [
      "train: 100%|██████████| 372/372 [00:31<00:00, 11.74it/s]\n"
     ]
    },
    {
     "name": "stdout",
     "output_type": "stream",
     "text": [
      "Train Loss: 0.0002 | Train Acc: 100.00%\n",
      "Valid Loss: 0.3338 | Valid Acc: 89.32%\n",
      "Test  Loss: 0.3326 | Test Acc: 89.41%\n",
      "updated best eval loss : 0.33383524119853974\n",
      "--------------------------------------------------\n",
      "[Epoch 136/1000] :\n"
     ]
    },
    {
     "name": "stderr",
     "output_type": "stream",
     "text": [
      "train: 100%|██████████| 372/372 [00:31<00:00, 11.77it/s]\n"
     ]
    },
    {
     "name": "stdout",
     "output_type": "stream",
     "text": [
      "Train Loss: 0.0007 | Train Acc: 91.67%\n",
      "Valid Loss: 0.3569 | Valid Acc: 88.40%\n",
      "Test  Loss: 0.3222 | Test Acc: 89.71%\n",
      "--------------------------------------------------\n",
      "[Epoch 137/1000] :\n"
     ]
    },
    {
     "name": "stderr",
     "output_type": "stream",
     "text": [
      "train: 100%|██████████| 372/372 [00:31<00:00, 11.99it/s]\n"
     ]
    },
    {
     "name": "stdout",
     "output_type": "stream",
     "text": [
      "Train Loss: 0.0009 | Train Acc: 83.33%\n",
      "Valid Loss: 0.3361 | Valid Acc: 88.52%\n",
      "Test  Loss: 0.3163 | Test Acc: 90.19%\n",
      "--------------------------------------------------\n",
      "[Epoch 138/1000] :\n"
     ]
    },
    {
     "name": "stderr",
     "output_type": "stream",
     "text": [
      "train: 100%|██████████| 372/372 [00:30<00:00, 12.26it/s]\n"
     ]
    },
    {
     "name": "stdout",
     "output_type": "stream",
     "text": [
      "Train Loss: 0.0003 | Train Acc: 91.67%\n",
      "Valid Loss: 0.3762 | Valid Acc: 87.56%\n",
      "Test  Loss: 0.3144 | Test Acc: 90.13%\n",
      "--------------------------------------------------\n",
      "[Epoch 139/1000] :\n"
     ]
    },
    {
     "name": "stderr",
     "output_type": "stream",
     "text": [
      "train: 100%|██████████| 372/372 [00:30<00:00, 12.28it/s]\n"
     ]
    },
    {
     "name": "stdout",
     "output_type": "stream",
     "text": [
      "Train Loss: 0.0002 | Train Acc: 100.00%\n",
      "Valid Loss: 0.3854 | Valid Acc: 87.56%\n",
      "Test  Loss: 0.3287 | Test Acc: 89.74%\n",
      "--------------------------------------------------\n",
      "[Epoch 140/1000] :\n"
     ]
    },
    {
     "name": "stderr",
     "output_type": "stream",
     "text": [
      "train: 100%|██████████| 372/372 [00:29<00:00, 12.42it/s]\n"
     ]
    },
    {
     "name": "stdout",
     "output_type": "stream",
     "text": [
      "Train Loss: 0.0000 | Train Acc: 100.00%\n",
      "Valid Loss: 0.3479 | Valid Acc: 88.92%\n",
      "Test  Loss: 0.3144 | Test Acc: 90.38%\n",
      "--------------------------------------------------\n",
      "[Epoch 141/1000] :\n"
     ]
    },
    {
     "name": "stderr",
     "output_type": "stream",
     "text": [
      "train: 100%|██████████| 372/372 [00:29<00:00, 12.46it/s]\n"
     ]
    },
    {
     "name": "stdout",
     "output_type": "stream",
     "text": [
      "Train Loss: 0.0006 | Train Acc: 91.67%\n",
      "Valid Loss: 0.3914 | Valid Acc: 87.12%\n",
      "Test  Loss: 0.3274 | Test Acc: 89.68%\n",
      "--------------------------------------------------\n",
      "[Epoch 142/1000] :\n"
     ]
    },
    {
     "name": "stderr",
     "output_type": "stream",
     "text": [
      "train: 100%|██████████| 372/372 [00:30<00:00, 12.36it/s]\n"
     ]
    },
    {
     "name": "stdout",
     "output_type": "stream",
     "text": [
      "Train Loss: 0.0010 | Train Acc: 83.33%\n",
      "Valid Loss: 0.3826 | Valid Acc: 87.60%\n",
      "Test  Loss: 0.3261 | Test Acc: 89.95%\n",
      "--------------------------------------------------\n",
      "[Epoch 143/1000] :\n"
     ]
    },
    {
     "name": "stderr",
     "output_type": "stream",
     "text": [
      "train: 100%|██████████| 372/372 [00:29<00:00, 12.41it/s]\n"
     ]
    },
    {
     "name": "stdout",
     "output_type": "stream",
     "text": [
      "Train Loss: 0.0006 | Train Acc: 91.67%\n",
      "Valid Loss: 0.3767 | Valid Acc: 87.92%\n",
      "Test  Loss: 0.3186 | Test Acc: 90.01%\n",
      "--------------------------------------------------\n",
      "[Epoch 144/1000] :\n"
     ]
    },
    {
     "name": "stderr",
     "output_type": "stream",
     "text": [
      "train: 100%|██████████| 372/372 [00:29<00:00, 12.47it/s]\n"
     ]
    },
    {
     "name": "stdout",
     "output_type": "stream",
     "text": [
      "Train Loss: 0.0002 | Train Acc: 100.00%\n",
      "Valid Loss: 0.3841 | Valid Acc: 87.68%\n",
      "Test  Loss: 0.3140 | Test Acc: 90.30%\n",
      "--------------------------------------------------\n",
      "[Epoch 145/1000] :\n"
     ]
    },
    {
     "name": "stderr",
     "output_type": "stream",
     "text": [
      "train: 100%|██████████| 372/372 [00:29<00:00, 12.53it/s]\n"
     ]
    },
    {
     "name": "stdout",
     "output_type": "stream",
     "text": [
      "Train Loss: 0.0001 | Train Acc: 100.00%\n",
      "Valid Loss: 0.3514 | Valid Acc: 88.96%\n",
      "Test  Loss: 0.3199 | Test Acc: 89.98%\n",
      "--------------------------------------------------\n",
      "[Epoch 146/1000] :\n"
     ]
    },
    {
     "name": "stderr",
     "output_type": "stream",
     "text": [
      "train: 100%|██████████| 372/372 [00:30<00:00, 12.02it/s]\n"
     ]
    },
    {
     "name": "stdout",
     "output_type": "stream",
     "text": [
      "Train Loss: 0.0005 | Train Acc: 91.67%\n",
      "Valid Loss: 0.3500 | Valid Acc: 88.64%\n",
      "Test  Loss: 0.3197 | Test Acc: 90.05%\n",
      "--------------------------------------------------\n",
      "[Epoch 147/1000] :\n"
     ]
    },
    {
     "name": "stderr",
     "output_type": "stream",
     "text": [
      "train: 100%|██████████| 372/372 [00:29<00:00, 12.43it/s]\n"
     ]
    },
    {
     "name": "stdout",
     "output_type": "stream",
     "text": [
      "Train Loss: 0.0027 | Train Acc: 75.00%\n",
      "Valid Loss: 0.3703 | Valid Acc: 88.60%\n",
      "Test  Loss: 0.3250 | Test Acc: 89.96%\n",
      "--------------------------------------------------\n",
      "[Epoch 148/1000] :\n"
     ]
    },
    {
     "name": "stderr",
     "output_type": "stream",
     "text": [
      "train: 100%|██████████| 372/372 [00:29<00:00, 12.64it/s]\n"
     ]
    },
    {
     "name": "stdout",
     "output_type": "stream",
     "text": [
      "Train Loss: 0.0002 | Train Acc: 100.00%\n",
      "Valid Loss: 0.3735 | Valid Acc: 87.84%\n",
      "Test  Loss: 0.3267 | Test Acc: 89.84%\n",
      "--------------------------------------------------\n",
      "[Epoch 149/1000] :\n"
     ]
    },
    {
     "name": "stderr",
     "output_type": "stream",
     "text": [
      "train: 100%|██████████| 372/372 [00:30<00:00, 12.38it/s]\n"
     ]
    },
    {
     "name": "stdout",
     "output_type": "stream",
     "text": [
      "Train Loss: 0.0002 | Train Acc: 100.00%\n",
      "Valid Loss: 0.3759 | Valid Acc: 87.28%\n",
      "Test  Loss: 0.3319 | Test Acc: 89.69%\n",
      "--------------------------------------------------\n",
      "[Epoch 150/1000] :\n"
     ]
    },
    {
     "name": "stderr",
     "output_type": "stream",
     "text": [
      "train: 100%|██████████| 372/372 [00:29<00:00, 12.44it/s]\n"
     ]
    },
    {
     "name": "stdout",
     "output_type": "stream",
     "text": [
      "Train Loss: 0.0004 | Train Acc: 91.67%\n",
      "Valid Loss: 0.3584 | Valid Acc: 88.36%\n",
      "Test  Loss: 0.3240 | Test Acc: 89.83%\n",
      "--------------------------------------------------\n",
      "[Epoch 151/1000] :\n"
     ]
    },
    {
     "name": "stderr",
     "output_type": "stream",
     "text": [
      "train: 100%|██████████| 372/372 [00:29<00:00, 12.46it/s]\n"
     ]
    },
    {
     "name": "stdout",
     "output_type": "stream",
     "text": [
      "Train Loss: 0.0012 | Train Acc: 91.67%\n",
      "Valid Loss: 0.3649 | Valid Acc: 89.08%\n",
      "Test  Loss: 0.3162 | Test Acc: 90.20%\n",
      "--------------------------------------------------\n",
      "[Epoch 152/1000] :\n"
     ]
    },
    {
     "name": "stderr",
     "output_type": "stream",
     "text": [
      "train: 100%|██████████| 372/372 [00:29<00:00, 12.65it/s]\n"
     ]
    },
    {
     "name": "stdout",
     "output_type": "stream",
     "text": [
      "Train Loss: 0.0000 | Train Acc: 100.00%\n",
      "Valid Loss: 0.3773 | Valid Acc: 87.84%\n",
      "Test  Loss: 0.3233 | Test Acc: 89.91%\n",
      "--------------------------------------------------\n",
      "[Epoch 153/1000] :\n"
     ]
    },
    {
     "name": "stderr",
     "output_type": "stream",
     "text": [
      "train: 100%|██████████| 372/372 [00:29<00:00, 12.51it/s]\n"
     ]
    },
    {
     "name": "stdout",
     "output_type": "stream",
     "text": [
      "Train Loss: 0.0016 | Train Acc: 91.67%\n",
      "Valid Loss: 0.3854 | Valid Acc: 87.32%\n",
      "Test  Loss: 0.3236 | Test Acc: 89.86%\n",
      "--------------------------------------------------\n",
      "[Epoch 154/1000] :\n"
     ]
    },
    {
     "name": "stderr",
     "output_type": "stream",
     "text": [
      "train: 100%|██████████| 372/372 [00:29<00:00, 12.64it/s]\n"
     ]
    },
    {
     "name": "stdout",
     "output_type": "stream",
     "text": [
      "Train Loss: 0.0007 | Train Acc: 91.67%\n",
      "Valid Loss: 0.3659 | Valid Acc: 88.00%\n",
      "Test  Loss: 0.3242 | Test Acc: 89.86%\n",
      "--------------------------------------------------\n",
      "[Epoch 155/1000] :\n"
     ]
    },
    {
     "name": "stderr",
     "output_type": "stream",
     "text": [
      "train: 100%|██████████| 372/372 [00:29<00:00, 12.69it/s]\n"
     ]
    },
    {
     "name": "stdout",
     "output_type": "stream",
     "text": [
      "Train Loss: 0.0001 | Train Acc: 100.00%\n",
      "Valid Loss: 0.3780 | Valid Acc: 87.80%\n",
      "Test  Loss: 0.3140 | Test Acc: 90.22%\n",
      "--------------------------------------------------\n",
      "[Epoch 156/1000] :\n"
     ]
    },
    {
     "name": "stderr",
     "output_type": "stream",
     "text": [
      "train: 100%|██████████| 372/372 [00:30<00:00, 12.28it/s]\n"
     ]
    },
    {
     "name": "stdout",
     "output_type": "stream",
     "text": [
      "Train Loss: 0.0006 | Train Acc: 91.67%\n",
      "Valid Loss: 0.3745 | Valid Acc: 88.80%\n",
      "Test  Loss: 0.3109 | Test Acc: 90.44%\n",
      "--------------------------------------------------\n",
      "[Epoch 157/1000] :\n"
     ]
    },
    {
     "name": "stderr",
     "output_type": "stream",
     "text": [
      "train: 100%|██████████| 372/372 [00:29<00:00, 12.73it/s]\n"
     ]
    },
    {
     "name": "stdout",
     "output_type": "stream",
     "text": [
      "Train Loss: 0.0004 | Train Acc: 91.67%\n",
      "Valid Loss: 0.3661 | Valid Acc: 88.20%\n",
      "Test  Loss: 0.3276 | Test Acc: 89.75%\n",
      "--------------------------------------------------\n",
      "[Epoch 158/1000] :\n"
     ]
    },
    {
     "name": "stderr",
     "output_type": "stream",
     "text": [
      "train: 100%|██████████| 372/372 [00:29<00:00, 12.55it/s]\n"
     ]
    },
    {
     "name": "stdout",
     "output_type": "stream",
     "text": [
      "Train Loss: 0.0005 | Train Acc: 91.67%\n",
      "Valid Loss: 0.3727 | Valid Acc: 88.08%\n",
      "Test  Loss: 0.3189 | Test Acc: 90.09%\n",
      "--------------------------------------------------\n",
      "[Epoch 159/1000] :\n"
     ]
    },
    {
     "name": "stderr",
     "output_type": "stream",
     "text": [
      "train: 100%|██████████| 372/372 [00:30<00:00, 12.28it/s]\n"
     ]
    },
    {
     "name": "stdout",
     "output_type": "stream",
     "text": [
      "Train Loss: 0.0009 | Train Acc: 83.33%\n",
      "Valid Loss: 0.3593 | Valid Acc: 87.96%\n",
      "Test  Loss: 0.3185 | Test Acc: 90.17%\n",
      "--------------------------------------------------\n",
      "[Epoch 160/1000] :\n"
     ]
    },
    {
     "name": "stderr",
     "output_type": "stream",
     "text": [
      "train: 100%|██████████| 372/372 [00:29<00:00, 12.42it/s]\n"
     ]
    },
    {
     "name": "stdout",
     "output_type": "stream",
     "text": [
      "Train Loss: 0.0007 | Train Acc: 91.67%\n",
      "Valid Loss: 0.3715 | Valid Acc: 88.04%\n",
      "Test  Loss: 0.3195 | Test Acc: 89.93%\n",
      "--------------------------------------------------\n",
      "[Epoch 161/1000] :\n"
     ]
    },
    {
     "name": "stderr",
     "output_type": "stream",
     "text": [
      "train: 100%|██████████| 372/372 [00:29<00:00, 12.54it/s]\n"
     ]
    },
    {
     "name": "stdout",
     "output_type": "stream",
     "text": [
      "Train Loss: 0.0019 | Train Acc: 75.00%\n",
      "Valid Loss: 0.3733 | Valid Acc: 88.28%\n",
      "Test  Loss: 0.3300 | Test Acc: 89.78%\n",
      "--------------------------------------------------\n",
      "[Epoch 162/1000] :\n"
     ]
    },
    {
     "name": "stderr",
     "output_type": "stream",
     "text": [
      "train: 100%|██████████| 372/372 [00:29<00:00, 12.59it/s]\n"
     ]
    },
    {
     "name": "stdout",
     "output_type": "stream",
     "text": [
      "Train Loss: 0.0002 | Train Acc: 100.00%\n",
      "Valid Loss: 0.3493 | Valid Acc: 89.08%\n",
      "Test  Loss: 0.3249 | Test Acc: 90.16%\n",
      "--------------------------------------------------\n",
      "[Epoch 163/1000] :\n"
     ]
    },
    {
     "name": "stderr",
     "output_type": "stream",
     "text": [
      "train: 100%|██████████| 372/372 [00:29<00:00, 12.58it/s]\n"
     ]
    },
    {
     "name": "stdout",
     "output_type": "stream",
     "text": [
      "Train Loss: 0.0002 | Train Acc: 100.00%\n",
      "Valid Loss: 0.3587 | Valid Acc: 88.24%\n",
      "Test  Loss: 0.3152 | Test Acc: 90.16%\n",
      "--------------------------------------------------\n",
      "[Epoch 164/1000] :\n"
     ]
    },
    {
     "name": "stderr",
     "output_type": "stream",
     "text": [
      "train: 100%|██████████| 372/372 [00:30<00:00, 12.38it/s]\n"
     ]
    },
    {
     "name": "stdout",
     "output_type": "stream",
     "text": [
      "Train Loss: 0.0006 | Train Acc: 91.67%\n",
      "Valid Loss: 0.3650 | Valid Acc: 88.36%\n",
      "Test  Loss: 0.3213 | Test Acc: 89.94%\n",
      "--------------------------------------------------\n",
      "[Epoch 165/1000] :\n"
     ]
    },
    {
     "name": "stderr",
     "output_type": "stream",
     "text": [
      "train: 100%|██████████| 372/372 [00:29<00:00, 12.81it/s]\n"
     ]
    },
    {
     "name": "stdout",
     "output_type": "stream",
     "text": [
      "Train Loss: 0.0011 | Train Acc: 75.00%\n",
      "Valid Loss: 0.3394 | Valid Acc: 88.12%\n",
      "Test  Loss: 0.3273 | Test Acc: 89.94%\n",
      "--------------------------------------------------\n",
      "[Epoch 166/1000] :\n"
     ]
    },
    {
     "name": "stderr",
     "output_type": "stream",
     "text": [
      "train: 100%|██████████| 372/372 [00:29<00:00, 12.79it/s]\n"
     ]
    },
    {
     "name": "stdout",
     "output_type": "stream",
     "text": [
      "Train Loss: 0.0004 | Train Acc: 91.67%\n",
      "Valid Loss: 0.3678 | Valid Acc: 88.64%\n",
      "Test  Loss: 0.3186 | Test Acc: 89.82%\n",
      "--------------------------------------------------\n",
      "[Epoch 167/1000] :\n"
     ]
    },
    {
     "name": "stderr",
     "output_type": "stream",
     "text": [
      "train: 100%|██████████| 372/372 [00:28<00:00, 12.85it/s]\n"
     ]
    },
    {
     "name": "stdout",
     "output_type": "stream",
     "text": [
      "Train Loss: 0.0019 | Train Acc: 83.33%\n",
      "Valid Loss: 0.3699 | Valid Acc: 88.04%\n",
      "Test  Loss: 0.3250 | Test Acc: 89.81%\n",
      "--------------------------------------------------\n",
      "[Epoch 168/1000] :\n"
     ]
    },
    {
     "name": "stderr",
     "output_type": "stream",
     "text": [
      "train: 100%|██████████| 372/372 [00:29<00:00, 12.49it/s]\n"
     ]
    },
    {
     "name": "stdout",
     "output_type": "stream",
     "text": [
      "Train Loss: 0.0001 | Train Acc: 100.00%\n",
      "Valid Loss: 0.3793 | Valid Acc: 87.32%\n",
      "Test  Loss: 0.3410 | Test Acc: 89.47%\n",
      "--------------------------------------------------\n",
      "[Epoch 169/1000] :\n"
     ]
    },
    {
     "name": "stderr",
     "output_type": "stream",
     "text": [
      "train: 100%|██████████| 372/372 [00:29<00:00, 12.64it/s]\n"
     ]
    },
    {
     "name": "stdout",
     "output_type": "stream",
     "text": [
      "Train Loss: 0.0014 | Train Acc: 91.67%\n",
      "Valid Loss: 0.3583 | Valid Acc: 88.08%\n",
      "Test  Loss: 0.3220 | Test Acc: 89.87%\n",
      "--------------------------------------------------\n",
      "[Epoch 170/1000] :\n"
     ]
    },
    {
     "name": "stderr",
     "output_type": "stream",
     "text": [
      "train: 100%|██████████| 372/372 [00:29<00:00, 12.42it/s]\n"
     ]
    },
    {
     "name": "stdout",
     "output_type": "stream",
     "text": [
      "Train Loss: 0.0017 | Train Acc: 83.33%\n",
      "Valid Loss: 0.3833 | Valid Acc: 87.28%\n",
      "Test  Loss: 0.3218 | Test Acc: 89.95%\n",
      "--------------------------------------------------\n",
      "[Epoch 171/1000] :\n"
     ]
    },
    {
     "name": "stderr",
     "output_type": "stream",
     "text": [
      "train: 100%|██████████| 372/372 [00:29<00:00, 12.61it/s]\n"
     ]
    },
    {
     "name": "stdout",
     "output_type": "stream",
     "text": [
      "Train Loss: 0.0005 | Train Acc: 91.67%\n",
      "Valid Loss: 0.3736 | Valid Acc: 88.24%\n",
      "Test  Loss: 0.3308 | Test Acc: 89.84%\n",
      "--------------------------------------------------\n",
      "[Epoch 172/1000] :\n"
     ]
    },
    {
     "name": "stderr",
     "output_type": "stream",
     "text": [
      "train: 100%|██████████| 372/372 [00:30<00:00, 12.30it/s]\n"
     ]
    },
    {
     "name": "stdout",
     "output_type": "stream",
     "text": [
      "Train Loss: 0.0010 | Train Acc: 91.67%\n",
      "Valid Loss: 0.3877 | Valid Acc: 87.88%\n",
      "Test  Loss: 0.3375 | Test Acc: 89.81%\n",
      "--------------------------------------------------\n",
      "[Epoch 173/1000] :\n"
     ]
    },
    {
     "name": "stderr",
     "output_type": "stream",
     "text": [
      "train: 100%|██████████| 372/372 [00:29<00:00, 12.63it/s]\n"
     ]
    },
    {
     "name": "stdout",
     "output_type": "stream",
     "text": [
      "Train Loss: 0.0008 | Train Acc: 83.33%\n",
      "Valid Loss: 0.3658 | Valid Acc: 87.68%\n",
      "Test  Loss: 0.3217 | Test Acc: 90.07%\n",
      "--------------------------------------------------\n",
      "[Epoch 174/1000] :\n"
     ]
    },
    {
     "name": "stderr",
     "output_type": "stream",
     "text": [
      "train: 100%|██████████| 372/372 [00:29<00:00, 12.66it/s]\n"
     ]
    },
    {
     "name": "stdout",
     "output_type": "stream",
     "text": [
      "Train Loss: 0.0000 | Train Acc: 100.00%\n",
      "Valid Loss: 0.3855 | Valid Acc: 87.44%\n",
      "Test  Loss: 0.3270 | Test Acc: 89.78%\n",
      "--------------------------------------------------\n",
      "[Epoch 175/1000] :\n"
     ]
    },
    {
     "name": "stderr",
     "output_type": "stream",
     "text": [
      "train: 100%|██████████| 372/372 [00:29<00:00, 12.67it/s]\n"
     ]
    },
    {
     "name": "stdout",
     "output_type": "stream",
     "text": [
      "Train Loss: 0.0007 | Train Acc: 91.67%\n",
      "Valid Loss: 0.3611 | Valid Acc: 88.48%\n",
      "Test  Loss: 0.3304 | Test Acc: 89.74%\n",
      "--------------------------------------------------\n",
      "[Epoch 176/1000] :\n"
     ]
    },
    {
     "name": "stderr",
     "output_type": "stream",
     "text": [
      "train: 100%|██████████| 372/372 [00:29<00:00, 12.64it/s]\n"
     ]
    },
    {
     "name": "stdout",
     "output_type": "stream",
     "text": [
      "Train Loss: 0.0009 | Train Acc: 91.67%\n",
      "Valid Loss: 0.3794 | Valid Acc: 87.28%\n",
      "Test  Loss: 0.3230 | Test Acc: 90.04%\n",
      "--------------------------------------------------\n",
      "[Epoch 177/1000] :\n"
     ]
    },
    {
     "name": "stderr",
     "output_type": "stream",
     "text": [
      "train: 100%|██████████| 372/372 [00:29<00:00, 12.43it/s]\n"
     ]
    },
    {
     "name": "stdout",
     "output_type": "stream",
     "text": [
      "Train Loss: 0.0012 | Train Acc: 91.67%\n",
      "Valid Loss: 0.3733 | Valid Acc: 87.96%\n",
      "Test  Loss: 0.3178 | Test Acc: 89.98%\n",
      "--------------------------------------------------\n",
      "[Epoch 178/1000] :\n"
     ]
    },
    {
     "name": "stderr",
     "output_type": "stream",
     "text": [
      "train: 100%|██████████| 372/372 [00:29<00:00, 12.53it/s]\n"
     ]
    },
    {
     "name": "stdout",
     "output_type": "stream",
     "text": [
      "Train Loss: 0.0033 | Train Acc: 83.33%\n",
      "Valid Loss: 0.3549 | Valid Acc: 88.68%\n",
      "Test  Loss: 0.3388 | Test Acc: 89.64%\n",
      "Epoch 00178: reducing learning rate of group 0 to 1.0000e-04.\n",
      "--------------------------------------------------\n",
      "[Epoch 179/1000] :\n"
     ]
    },
    {
     "name": "stderr",
     "output_type": "stream",
     "text": [
      "train: 100%|██████████| 372/372 [00:29<00:00, 12.78it/s]\n"
     ]
    },
    {
     "name": "stdout",
     "output_type": "stream",
     "text": [
      "Train Loss: 0.0016 | Train Acc: 91.67%\n",
      "Valid Loss: 0.4012 | Valid Acc: 87.76%\n",
      "Test  Loss: 0.3196 | Test Acc: 90.10%\n",
      "--------------------------------------------------\n",
      "[Epoch 180/1000] :\n"
     ]
    },
    {
     "name": "stderr",
     "output_type": "stream",
     "text": [
      "train: 100%|██████████| 372/372 [00:29<00:00, 12.81it/s]\n"
     ]
    },
    {
     "name": "stdout",
     "output_type": "stream",
     "text": [
      "Train Loss: 0.0007 | Train Acc: 100.00%\n",
      "Valid Loss: 0.3686 | Valid Acc: 88.36%\n",
      "Test  Loss: 0.3309 | Test Acc: 89.72%\n",
      "--------------------------------------------------\n",
      "[Epoch 181/1000] :\n"
     ]
    },
    {
     "name": "stderr",
     "output_type": "stream",
     "text": [
      "train: 100%|██████████| 372/372 [00:29<00:00, 12.64it/s]\n"
     ]
    },
    {
     "name": "stdout",
     "output_type": "stream",
     "text": [
      "Train Loss: 0.0012 | Train Acc: 83.33%\n",
      "Valid Loss: 0.3680 | Valid Acc: 88.52%\n",
      "Test  Loss: 0.3168 | Test Acc: 90.20%\n",
      "--------------------------------------------------\n",
      "[Epoch 182/1000] :\n"
     ]
    },
    {
     "name": "stderr",
     "output_type": "stream",
     "text": [
      "train: 100%|██████████| 372/372 [00:29<00:00, 12.41it/s]\n"
     ]
    },
    {
     "name": "stdout",
     "output_type": "stream",
     "text": [
      "Train Loss: 0.0007 | Train Acc: 91.67%\n",
      "Valid Loss: 0.3503 | Valid Acc: 88.68%\n",
      "Test  Loss: 0.3443 | Test Acc: 89.20%\n",
      "--------------------------------------------------\n",
      "[Epoch 183/1000] :\n"
     ]
    },
    {
     "name": "stderr",
     "output_type": "stream",
     "text": [
      "train: 100%|██████████| 372/372 [00:29<00:00, 12.77it/s]\n"
     ]
    },
    {
     "name": "stdout",
     "output_type": "stream",
     "text": [
      "Train Loss: 0.0003 | Train Acc: 100.00%\n",
      "Valid Loss: 0.3603 | Valid Acc: 87.80%\n",
      "Test  Loss: 0.3348 | Test Acc: 89.84%\n",
      "--------------------------------------------------\n",
      "[Epoch 184/1000] :\n"
     ]
    },
    {
     "name": "stderr",
     "output_type": "stream",
     "text": [
      "train: 100%|██████████| 372/372 [00:29<00:00, 12.52it/s]\n"
     ]
    },
    {
     "name": "stdout",
     "output_type": "stream",
     "text": [
      "Train Loss: 0.0006 | Train Acc: 83.33%\n",
      "Valid Loss: 0.3751 | Valid Acc: 87.32%\n",
      "Test  Loss: 0.3342 | Test Acc: 89.66%\n",
      "--------------------------------------------------\n",
      "[Epoch 185/1000] :\n"
     ]
    },
    {
     "name": "stderr",
     "output_type": "stream",
     "text": [
      "train: 100%|██████████| 372/372 [00:29<00:00, 12.52it/s]\n"
     ]
    },
    {
     "name": "stdout",
     "output_type": "stream",
     "text": [
      "Train Loss: 0.0001 | Train Acc: 100.00%\n",
      "Valid Loss: 0.3594 | Valid Acc: 89.08%\n",
      "Test  Loss: 0.3369 | Test Acc: 89.86%\n",
      "--------------------------------------------------\n",
      "[Epoch 186/1000] :\n"
     ]
    },
    {
     "name": "stderr",
     "output_type": "stream",
     "text": [
      "train: 100%|██████████| 372/372 [00:29<00:00, 12.50it/s]\n"
     ]
    },
    {
     "name": "stdout",
     "output_type": "stream",
     "text": [
      "Train Loss: 0.0011 | Train Acc: 75.00%\n",
      "Valid Loss: 0.3668 | Valid Acc: 88.16%\n",
      "Test  Loss: 0.3278 | Test Acc: 89.97%\n",
      "--------------------------------------------------\n",
      "[Epoch 187/1000] :\n"
     ]
    },
    {
     "name": "stderr",
     "output_type": "stream",
     "text": [
      "train: 100%|██████████| 372/372 [00:29<00:00, 12.51it/s]\n"
     ]
    },
    {
     "name": "stdout",
     "output_type": "stream",
     "text": [
      "Train Loss: 0.0004 | Train Acc: 100.00%\n",
      "Valid Loss: 0.3711 | Valid Acc: 88.16%\n",
      "Test  Loss: 0.3365 | Test Acc: 89.57%\n",
      "--------------------------------------------------\n",
      "[Epoch 188/1000] :\n"
     ]
    },
    {
     "name": "stderr",
     "output_type": "stream",
     "text": [
      "train: 100%|██████████| 372/372 [00:30<00:00, 12.38it/s]\n"
     ]
    },
    {
     "name": "stdout",
     "output_type": "stream",
     "text": [
      "Train Loss: 0.0006 | Train Acc: 91.67%\n",
      "Valid Loss: 0.3770 | Valid Acc: 87.52%\n",
      "Test  Loss: 0.3243 | Test Acc: 90.00%\n",
      "--------------------------------------------------\n",
      "[Epoch 189/1000] :\n"
     ]
    },
    {
     "name": "stderr",
     "output_type": "stream",
     "text": [
      "train: 100%|██████████| 372/372 [00:29<00:00, 12.40it/s]\n"
     ]
    },
    {
     "name": "stdout",
     "output_type": "stream",
     "text": [
      "Train Loss: 0.0006 | Train Acc: 91.67%\n",
      "Valid Loss: 0.3487 | Valid Acc: 88.92%\n",
      "Test  Loss: 0.3191 | Test Acc: 90.01%\n",
      "--------------------------------------------------\n",
      "[Epoch 190/1000] :\n"
     ]
    },
    {
     "name": "stderr",
     "output_type": "stream",
     "text": [
      "train: 100%|██████████| 372/372 [00:29<00:00, 12.56it/s]\n"
     ]
    },
    {
     "name": "stdout",
     "output_type": "stream",
     "text": [
      "Train Loss: 0.0000 | Train Acc: 100.00%\n",
      "Valid Loss: 0.4003 | Valid Acc: 87.52%\n",
      "Test  Loss: 0.3286 | Test Acc: 89.75%\n",
      "--------------------------------------------------\n",
      "[Epoch 191/1000] :\n"
     ]
    },
    {
     "name": "stderr",
     "output_type": "stream",
     "text": [
      "train: 100%|██████████| 372/372 [00:30<00:00, 12.34it/s]\n"
     ]
    },
    {
     "name": "stdout",
     "output_type": "stream",
     "text": [
      "Train Loss: 0.0005 | Train Acc: 91.67%\n",
      "Valid Loss: 0.3716 | Valid Acc: 88.48%\n",
      "Test  Loss: 0.3308 | Test Acc: 89.97%\n",
      "--------------------------------------------------\n",
      "[Epoch 192/1000] :\n"
     ]
    },
    {
     "name": "stderr",
     "output_type": "stream",
     "text": [
      "train: 100%|██████████| 372/372 [00:29<00:00, 12.59it/s]\n"
     ]
    },
    {
     "name": "stdout",
     "output_type": "stream",
     "text": [
      "Train Loss: 0.0003 | Train Acc: 91.67%\n",
      "Valid Loss: 0.3830 | Valid Acc: 87.92%\n",
      "Test  Loss: 0.3250 | Test Acc: 89.93%\n",
      "--------------------------------------------------\n",
      "[Epoch 193/1000] :\n"
     ]
    },
    {
     "name": "stderr",
     "output_type": "stream",
     "text": [
      "train: 100%|██████████| 372/372 [00:29<00:00, 12.51it/s]\n"
     ]
    },
    {
     "name": "stdout",
     "output_type": "stream",
     "text": [
      "Train Loss: 0.0000 | Train Acc: 100.00%\n",
      "Valid Loss: 0.3739 | Valid Acc: 88.24%\n",
      "Test  Loss: 0.3260 | Test Acc: 89.78%\n",
      "--------------------------------------------------\n",
      "[Epoch 194/1000] :\n"
     ]
    },
    {
     "name": "stderr",
     "output_type": "stream",
     "text": [
      "train: 100%|██████████| 372/372 [00:30<00:00, 12.38it/s]\n"
     ]
    },
    {
     "name": "stdout",
     "output_type": "stream",
     "text": [
      "Train Loss: 0.0015 | Train Acc: 83.33%\n",
      "Valid Loss: 0.3760 | Valid Acc: 88.08%\n",
      "Test  Loss: 0.3202 | Test Acc: 90.14%\n",
      "--------------------------------------------------\n",
      "[Epoch 195/1000] :\n"
     ]
    },
    {
     "name": "stderr",
     "output_type": "stream",
     "text": [
      "train: 100%|██████████| 372/372 [00:29<00:00, 12.58it/s]\n"
     ]
    },
    {
     "name": "stdout",
     "output_type": "stream",
     "text": [
      "Train Loss: 0.0015 | Train Acc: 83.33%\n",
      "Valid Loss: 0.3464 | Valid Acc: 88.36%\n",
      "Test  Loss: 0.3210 | Test Acc: 89.91%\n",
      "--------------------------------------------------\n",
      "[Epoch 196/1000] :\n"
     ]
    },
    {
     "name": "stderr",
     "output_type": "stream",
     "text": [
      "train: 100%|██████████| 372/372 [00:29<00:00, 12.45it/s]\n"
     ]
    },
    {
     "name": "stdout",
     "output_type": "stream",
     "text": [
      "Train Loss: 0.0010 | Train Acc: 75.00%\n",
      "Valid Loss: 0.3953 | Valid Acc: 88.08%\n",
      "Test  Loss: 0.3188 | Test Acc: 90.11%\n",
      "--------------------------------------------------\n",
      "[Epoch 197/1000] :\n"
     ]
    },
    {
     "name": "stderr",
     "output_type": "stream",
     "text": [
      "train: 100%|██████████| 372/372 [00:29<00:00, 12.67it/s]\n"
     ]
    },
    {
     "name": "stdout",
     "output_type": "stream",
     "text": [
      "Train Loss: 0.0004 | Train Acc: 91.67%\n",
      "Valid Loss: 0.3597 | Valid Acc: 88.28%\n",
      "Test  Loss: 0.3206 | Test Acc: 89.92%\n",
      "--------------------------------------------------\n",
      "[Epoch 198/1000] :\n"
     ]
    },
    {
     "name": "stderr",
     "output_type": "stream",
     "text": [
      "train: 100%|██████████| 372/372 [00:29<00:00, 12.75it/s]\n"
     ]
    },
    {
     "name": "stdout",
     "output_type": "stream",
     "text": [
      "Train Loss: 0.0004 | Train Acc: 91.67%\n",
      "Valid Loss: 0.3598 | Valid Acc: 88.36%\n",
      "Test  Loss: 0.3350 | Test Acc: 89.49%\n",
      "--------------------------------------------------\n",
      "[Epoch 199/1000] :\n"
     ]
    },
    {
     "name": "stderr",
     "output_type": "stream",
     "text": [
      "train: 100%|██████████| 372/372 [00:29<00:00, 12.57it/s]\n"
     ]
    },
    {
     "name": "stdout",
     "output_type": "stream",
     "text": [
      "Train Loss: 0.0012 | Train Acc: 91.67%\n",
      "Valid Loss: 0.3778 | Valid Acc: 88.00%\n",
      "Test  Loss: 0.3301 | Test Acc: 89.83%\n",
      "--------------------------------------------------\n",
      "[Epoch 200/1000] :\n"
     ]
    },
    {
     "name": "stderr",
     "output_type": "stream",
     "text": [
      "train: 100%|██████████| 372/372 [00:29<00:00, 12.62it/s]\n"
     ]
    },
    {
     "name": "stdout",
     "output_type": "stream",
     "text": [
      "Train Loss: 0.0013 | Train Acc: 83.33%\n",
      "Valid Loss: 0.3886 | Valid Acc: 87.40%\n",
      "Test  Loss: 0.3312 | Test Acc: 89.80%\n",
      "--------------------------------------------------\n",
      "[Epoch 201/1000] :\n"
     ]
    },
    {
     "name": "stderr",
     "output_type": "stream",
     "text": [
      "train: 100%|██████████| 372/372 [00:29<00:00, 12.44it/s]\n"
     ]
    },
    {
     "name": "stdout",
     "output_type": "stream",
     "text": [
      "Train Loss: 0.0010 | Train Acc: 83.33%\n",
      "Valid Loss: 0.3474 | Valid Acc: 88.68%\n",
      "Test  Loss: 0.3373 | Test Acc: 89.57%\n",
      "--------------------------------------------------\n",
      "[Epoch 202/1000] :\n"
     ]
    },
    {
     "name": "stderr",
     "output_type": "stream",
     "text": [
      "train: 100%|██████████| 372/372 [00:29<00:00, 12.50it/s]\n"
     ]
    },
    {
     "name": "stdout",
     "output_type": "stream",
     "text": [
      "Train Loss: 0.0018 | Train Acc: 83.33%\n",
      "Valid Loss: 0.3846 | Valid Acc: 87.76%\n",
      "Test  Loss: 0.3294 | Test Acc: 89.55%\n",
      "--------------------------------------------------\n",
      "[Epoch 203/1000] :\n"
     ]
    },
    {
     "name": "stderr",
     "output_type": "stream",
     "text": [
      "train: 100%|██████████| 372/372 [00:29<00:00, 12.66it/s]\n"
     ]
    },
    {
     "name": "stdout",
     "output_type": "stream",
     "text": [
      "Train Loss: 0.0015 | Train Acc: 91.67%\n",
      "Valid Loss: 0.3562 | Valid Acc: 88.72%\n",
      "Test  Loss: 0.3266 | Test Acc: 89.99%\n",
      "--------------------------------------------------\n",
      "[Epoch 204/1000] :\n"
     ]
    },
    {
     "name": "stderr",
     "output_type": "stream",
     "text": [
      "train: 100%|██████████| 372/372 [00:29<00:00, 12.55it/s]\n"
     ]
    },
    {
     "name": "stdout",
     "output_type": "stream",
     "text": [
      "Train Loss: 0.0008 | Train Acc: 83.33%\n",
      "Valid Loss: 0.3692 | Valid Acc: 88.00%\n",
      "Test  Loss: 0.3319 | Test Acc: 89.53%\n",
      "--------------------------------------------------\n",
      "[Epoch 205/1000] :\n"
     ]
    },
    {
     "name": "stderr",
     "output_type": "stream",
     "text": [
      "train: 100%|██████████| 372/372 [00:29<00:00, 12.43it/s]\n"
     ]
    },
    {
     "name": "stdout",
     "output_type": "stream",
     "text": [
      "Train Loss: 0.0001 | Train Acc: 100.00%\n",
      "Valid Loss: 0.3762 | Valid Acc: 87.68%\n",
      "Test  Loss: 0.3334 | Test Acc: 89.53%\n",
      "Early stop!! best_eval_loss = 0.33383524119853974\n"
     ]
    }
   ],
   "source": [
    "Training = DoTraining(\n",
    "    model=model,\n",
    "    criterion=criterion,\n",
    "    optimizer=optimizer,\n",
    "    scaler=scaler,\n",
    "    scheduler=scheduler,\n",
    "    earlystopper=earlystopper,\n",
    "    device=device,\n",
    "    logs=logs,\n",
    "    file_path=file_name,\n",
    ")\n",
    "pre_epochs = len(Training.logs[\"train_loss\"])\n",
    "\n",
    "for epoch in range(NUM_EPOCHS):\n",
    "    now = epoch + 1 + pre_epochs\n",
    "    print(f\"[Epoch {epoch+1+pre_epochs}/{NUM_EPOCHS}] :\")\n",
    "\n",
    "    if DATASET == \"ImageNet2012\":\n",
    "        eval_loss = Training.SingleEpoch(train_dataloader, valid_dataloader)\n",
    "    else:\n",
    "        eval_loss = Training.SingleEpoch(\n",
    "            train_dataloader, valid_dataloader, test_dataloader\n",
    "        )\n",
    "\n",
    "    Training.Save()\n",
    "\n",
    "    if optimizer.param_groups[0][\"lr\"] < 1e-4:\n",
    "        break\n",
    "    if earlystopper.check(eval_loss) == True:\n",
    "        break\n",
    "\n",
    "    print(\"-\" * 50)"
   ]
  },
  {
   "cell_type": "code",
   "execution_count": 20,
   "metadata": {},
   "outputs": [
    {
     "data": {
      "image/png": "[encoded data removed]",
      "text/plain": [
       "<Figure size 1000x500 with 2 Axes>"
      ]
     },
     "metadata": {},
     "output_type": "display_data"
    }
   ],
   "source": [
    "view = LogViewer(logs)\n",
    "view.draw(file_name)"
   ]
  },
  {
   "cell_type": "code",
   "execution_count": 21,
   "metadata": {},
   "outputs": [
    {
     "name": "stdout",
     "output_type": "stream",
     "text": [
      "1 epoch: train_loss=0.0056, train_acc=0.2500, test_loss=2.1601, test_acc=0.1842, valid_loss=2.1756, valid_acc=0.1632, lr=0.1000\n",
      "2 epoch: train_loss=0.0055, train_acc=0.1667, test_loss=2.0074, test_acc=0.2489, valid_loss=1.9896, valid_acc=0.2424, lr=0.1000\n",
      "3 epoch: train_loss=0.0064, train_acc=0.0833, test_loss=2.0821, test_acc=0.2691, valid_loss=1.8391, valid_acc=0.3384, lr=0.1000\n",
      "4 epoch: train_loss=0.0040, train_acc=0.5000, test_loss=1.3600, test_acc=0.5181, valid_loss=1.4690, valid_acc=0.4832, lr=0.1000\n",
      "5 epoch: train_loss=0.0051, train_acc=0.3333, test_loss=1.3300, test_acc=0.5317, valid_loss=1.4080, valid_acc=0.5128, lr=0.1000\n",
      "6 epoch: train_loss=0.0062, train_acc=0.3333, test_loss=1.1169, test_acc=0.6263, valid_loss=1.3762, valid_acc=0.5396, lr=0.1000\n",
      "7 epoch: train_loss=0.0025, train_acc=0.8333, test_loss=0.9675, test_acc=0.6697, valid_loss=1.0775, valid_acc=0.6292, lr=0.1000\n",
      "8 epoch: train_loss=0.0022, train_acc=0.7500, test_loss=1.2025, test_acc=0.6191, valid_loss=1.0377, valid_acc=0.6464, lr=0.1000\n",
      "9 epoch: train_loss=0.0031, train_acc=0.6667, test_loss=1.1627, test_acc=0.6156, valid_loss=1.0254, valid_acc=0.6544, lr=0.1000\n",
      "10 epoch: train_loss=0.0033, train_acc=0.7500, test_loss=0.9488, test_acc=0.6868, valid_loss=1.0400, valid_acc=0.6540, lr=0.1000\n",
      "11 epoch: train_loss=0.0031, train_acc=0.5833, test_loss=0.9558, test_acc=0.6850, valid_loss=1.3985, valid_acc=0.5764, lr=0.1000\n",
      "12 epoch: train_loss=0.0027, train_acc=0.5833, test_loss=0.8104, test_acc=0.7349, valid_loss=0.8358, valid_acc=0.7096, lr=0.1000\n",
      "13 epoch: train_loss=0.0033, train_acc=0.5000, test_loss=0.8323, test_acc=0.7132, valid_loss=0.9056, valid_acc=0.6912, lr=0.1000\n",
      "14 epoch: train_loss=0.0040, train_acc=0.5833, test_loss=0.7218, test_acc=0.7555, valid_loss=0.8687, valid_acc=0.7120, lr=0.1000\n",
      "15 epoch: train_loss=0.0023, train_acc=0.6667, test_loss=1.0798, test_acc=0.6721, valid_loss=1.0435, valid_acc=0.6676, lr=0.1000\n",
      "16 epoch: train_loss=0.0039, train_acc=0.5833, test_loss=0.7018, test_acc=0.7637, valid_loss=0.7488, valid_acc=0.7472, lr=0.1000\n",
      "17 epoch: train_loss=0.0020, train_acc=0.6667, test_loss=0.8470, test_acc=0.7183, valid_loss=0.8740, valid_acc=0.7008, lr=0.1000\n",
      "18 epoch: train_loss=0.0006, train_acc=0.9167, test_loss=0.6788, test_acc=0.7817, valid_loss=0.7995, valid_acc=0.7360, lr=0.1000\n",
      "19 epoch: train_loss=0.0024, train_acc=0.7500, test_loss=0.6712, test_acc=0.7759, valid_loss=0.7097, valid_acc=0.7656, lr=0.1000\n",
      "20 epoch: train_loss=0.0023, train_acc=0.7500, test_loss=0.7375, test_acc=0.7653, valid_loss=0.7976, valid_acc=0.7352, lr=0.1000\n",
      "21 epoch: train_loss=0.0012, train_acc=0.8333, test_loss=0.7467, test_acc=0.7512, valid_loss=0.7711, valid_acc=0.7420, lr=0.1000\n",
      "22 epoch: train_loss=0.0026, train_acc=0.6667, test_loss=0.5901, test_acc=0.7926, valid_loss=0.6827, valid_acc=0.7624, lr=0.1000\n",
      "23 epoch: train_loss=0.0014, train_acc=0.8333, test_loss=0.6851, test_acc=0.7586, valid_loss=0.7015, valid_acc=0.7576, lr=0.1000\n",
      "24 epoch: train_loss=0.0015, train_acc=0.7500, test_loss=0.5561, test_acc=0.8061, valid_loss=0.7599, valid_acc=0.7396, lr=0.1000\n",
      "25 epoch: train_loss=0.0021, train_acc=0.7500, test_loss=0.8826, test_acc=0.7190, valid_loss=0.7353, valid_acc=0.7480, lr=0.1000\n",
      "26 epoch: train_loss=0.0026, train_acc=0.7500, test_loss=0.6139, test_acc=0.7945, valid_loss=0.7670, valid_acc=0.7496, lr=0.1000\n",
      "27 epoch: train_loss=0.0021, train_acc=0.7500, test_loss=0.8398, test_acc=0.7279, valid_loss=0.8007, valid_acc=0.7348, lr=0.1000\n",
      "28 epoch: train_loss=0.0008, train_acc=0.9167, test_loss=0.5917, test_acc=0.7976, valid_loss=0.6891, valid_acc=0.7676, lr=0.1000\n",
      "29 epoch: train_loss=0.0018, train_acc=0.7500, test_loss=0.6333, test_acc=0.7891, valid_loss=0.7561, valid_acc=0.7448, lr=0.1000\n",
      "30 epoch: train_loss=0.0008, train_acc=0.9167, test_loss=0.6670, test_acc=0.7763, valid_loss=0.7193, valid_acc=0.7556, lr=0.1000\n",
      "31 epoch: train_loss=0.0030, train_acc=0.4167, test_loss=0.5506, test_acc=0.8116, valid_loss=0.6974, valid_acc=0.7700, lr=0.1000\n",
      "32 epoch: train_loss=0.0012, train_acc=0.9167, test_loss=0.7304, test_acc=0.7603, valid_loss=0.6461, valid_acc=0.7788, lr=0.1000\n",
      "33 epoch: train_loss=0.0040, train_acc=0.4167, test_loss=0.8036, test_acc=0.7373, valid_loss=0.8269, valid_acc=0.7280, lr=0.1000\n",
      "34 epoch: train_loss=0.0012, train_acc=0.8333, test_loss=0.6350, test_acc=0.7961, valid_loss=0.6405, valid_acc=0.7816, lr=0.1000\n",
      "35 epoch: train_loss=0.0019, train_acc=0.7500, test_loss=0.5926, test_acc=0.7921, valid_loss=0.6450, valid_acc=0.7812, lr=0.1000\n",
      "36 epoch: train_loss=0.0012, train_acc=0.8333, test_loss=0.9023, test_acc=0.7163, valid_loss=0.7758, valid_acc=0.7440, lr=0.1000\n",
      "37 epoch: train_loss=0.0030, train_acc=0.5833, test_loss=0.4546, test_acc=0.8485, valid_loss=0.6416, valid_acc=0.7840, lr=0.1000\n",
      "38 epoch: train_loss=0.0015, train_acc=0.8333, test_loss=0.5936, test_acc=0.8054, valid_loss=0.6607, valid_acc=0.7700, lr=0.1000\n",
      "39 epoch: train_loss=0.0007, train_acc=0.9167, test_loss=0.5650, test_acc=0.8171, valid_loss=0.6144, valid_acc=0.7844, lr=0.1000\n",
      "40 epoch: train_loss=0.0030, train_acc=0.5833, test_loss=0.6679, test_acc=0.7834, valid_loss=0.7623, valid_acc=0.7540, lr=0.1000\n",
      "41 epoch: train_loss=0.0003, train_acc=1.0000, test_loss=0.5490, test_acc=0.8182, valid_loss=0.5891, valid_acc=0.7940, lr=0.1000\n",
      "42 epoch: train_loss=0.0014, train_acc=0.7500, test_loss=0.7388, test_acc=0.7575, valid_loss=0.6344, valid_acc=0.7844, lr=0.1000\n",
      "43 epoch: train_loss=0.0012, train_acc=0.8333, test_loss=0.6525, test_acc=0.7796, valid_loss=0.6129, valid_acc=0.7924, lr=0.1000\n",
      "44 epoch: train_loss=0.0019, train_acc=0.8333, test_loss=0.5990, test_acc=0.8013, valid_loss=0.7913, valid_acc=0.7428, lr=0.1000\n",
      "45 epoch: train_loss=0.0017, train_acc=0.8333, test_loss=0.4957, test_acc=0.8303, valid_loss=0.5681, valid_acc=0.8160, lr=0.1000\n",
      "46 epoch: train_loss=0.0007, train_acc=0.8333, test_loss=0.4788, test_acc=0.8439, valid_loss=0.5966, valid_acc=0.7944, lr=0.1000\n",
      "47 epoch: train_loss=0.0024, train_acc=0.7500, test_loss=0.6499, test_acc=0.7914, valid_loss=0.7589, valid_acc=0.7468, lr=0.1000\n",
      "48 epoch: train_loss=0.0026, train_acc=0.5833, test_loss=0.6602, test_acc=0.7808, valid_loss=0.7210, valid_acc=0.7772, lr=0.1000\n",
      "49 epoch: train_loss=0.0020, train_acc=0.8333, test_loss=0.5845, test_acc=0.8037, valid_loss=0.6140, valid_acc=0.7932, lr=0.1000\n",
      "50 epoch: train_loss=0.0014, train_acc=0.8333, test_loss=0.6592, test_acc=0.7726, valid_loss=0.6116, valid_acc=0.7888, lr=0.1000\n",
      "51 epoch: train_loss=0.0016, train_acc=0.8333, test_loss=0.5251, test_acc=0.8161, valid_loss=0.5732, valid_acc=0.7988, lr=0.1000\n",
      "52 epoch: train_loss=0.0025, train_acc=0.7500, test_loss=0.4790, test_acc=0.8346, valid_loss=0.5806, valid_acc=0.8020, lr=0.1000\n",
      "53 epoch: train_loss=0.0016, train_acc=0.8333, test_loss=0.5083, test_acc=0.8320, valid_loss=0.6105, valid_acc=0.7936, lr=0.1000\n",
      "54 epoch: train_loss=0.0018, train_acc=0.7500, test_loss=0.4715, test_acc=0.8433, valid_loss=0.6094, valid_acc=0.7968, lr=0.1000\n",
      "55 epoch: train_loss=0.0019, train_acc=0.7500, test_loss=0.4453, test_acc=0.8483, valid_loss=0.6326, valid_acc=0.7864, lr=0.1000\n",
      "56 epoch: train_loss=0.0013, train_acc=0.8333, test_loss=0.5313, test_acc=0.8131, valid_loss=0.7081, valid_acc=0.7640, lr=0.1000\n",
      "57 epoch: train_loss=0.0001, train_acc=1.0000, test_loss=0.3379, test_acc=0.8824, valid_loss=0.4044, valid_acc=0.8540, lr=0.0100\n",
      "58 epoch: train_loss=0.0010, train_acc=0.8333, test_loss=0.3588, test_acc=0.8778, valid_loss=0.4054, valid_acc=0.8608, lr=0.0100\n",
      "59 epoch: train_loss=0.0011, train_acc=0.9167, test_loss=0.3430, test_acc=0.8832, valid_loss=0.4293, valid_acc=0.8556, lr=0.0100\n",
      "60 epoch: train_loss=0.0008, train_acc=0.8333, test_loss=0.3348, test_acc=0.8872, valid_loss=0.3742, valid_acc=0.8748, lr=0.0100\n",
      "61 epoch: train_loss=0.0009, train_acc=0.9167, test_loss=0.3407, test_acc=0.8839, valid_loss=0.4081, valid_acc=0.8540, lr=0.0100\n",
      "62 epoch: train_loss=0.0005, train_acc=0.9167, test_loss=0.3081, test_acc=0.8952, valid_loss=0.3935, valid_acc=0.8700, lr=0.0100\n",
      "63 epoch: train_loss=0.0011, train_acc=0.8333, test_loss=0.3478, test_acc=0.8840, valid_loss=0.4082, valid_acc=0.8624, lr=0.0100\n",
      "64 epoch: train_loss=0.0004, train_acc=1.0000, test_loss=0.3287, test_acc=0.8900, valid_loss=0.4275, valid_acc=0.8556, lr=0.0100\n",
      "65 epoch: train_loss=0.0010, train_acc=0.8333, test_loss=0.3371, test_acc=0.8877, valid_loss=0.4042, valid_acc=0.8656, lr=0.0100\n",
      "66 epoch: train_loss=0.0027, train_acc=0.6667, test_loss=0.3385, test_acc=0.8876, valid_loss=0.3858, valid_acc=0.8656, lr=0.0100\n",
      "67 epoch: train_loss=0.0010, train_acc=0.9167, test_loss=0.3322, test_acc=0.8872, valid_loss=0.4150, valid_acc=0.8576, lr=0.0100\n",
      "68 epoch: train_loss=0.0022, train_acc=0.7500, test_loss=0.3425, test_acc=0.8899, valid_loss=0.3771, valid_acc=0.8684, lr=0.0100\n",
      "69 epoch: train_loss=0.0002, train_acc=1.0000, test_loss=0.3291, test_acc=0.8926, valid_loss=0.4065, valid_acc=0.8608, lr=0.0100\n",
      "70 epoch: train_loss=0.0007, train_acc=0.9167, test_loss=0.3301, test_acc=0.8909, valid_loss=0.3984, valid_acc=0.8724, lr=0.0100\n",
      "71 epoch: train_loss=0.0014, train_acc=0.7500, test_loss=0.3414, test_acc=0.8900, valid_loss=0.4089, valid_acc=0.8612, lr=0.0100\n",
      "72 epoch: train_loss=0.0010, train_acc=0.9167, test_loss=0.3290, test_acc=0.8919, valid_loss=0.3647, valid_acc=0.8824, lr=0.0100\n",
      "73 epoch: train_loss=0.0016, train_acc=0.8333, test_loss=0.3512, test_acc=0.8823, valid_loss=0.3906, valid_acc=0.8736, lr=0.0100\n",
      "74 epoch: train_loss=0.0011, train_acc=0.9167, test_loss=0.3504, test_acc=0.8829, valid_loss=0.3900, valid_acc=0.8664, lr=0.0100\n",
      "75 epoch: train_loss=0.0012, train_acc=0.7500, test_loss=0.3345, test_acc=0.8885, valid_loss=0.3932, valid_acc=0.8692, lr=0.0100\n",
      "76 epoch: train_loss=0.0003, train_acc=0.9167, test_loss=0.3705, test_acc=0.8812, valid_loss=0.4128, valid_acc=0.8600, lr=0.0100\n",
      "77 epoch: train_loss=0.0006, train_acc=0.9167, test_loss=0.3492, test_acc=0.8869, valid_loss=0.4041, valid_acc=0.8636, lr=0.0100\n",
      "78 epoch: train_loss=0.0017, train_acc=0.9167, test_loss=0.3281, test_acc=0.8914, valid_loss=0.3988, valid_acc=0.8692, lr=0.0100\n",
      "79 epoch: train_loss=0.0025, train_acc=0.7500, test_loss=0.3293, test_acc=0.8932, valid_loss=0.3737, valid_acc=0.8736, lr=0.0100\n",
      "80 epoch: train_loss=0.0011, train_acc=0.9167, test_loss=0.3198, test_acc=0.8959, valid_loss=0.3940, valid_acc=0.8680, lr=0.0100\n",
      "81 epoch: train_loss=0.0003, train_acc=0.9167, test_loss=0.3452, test_acc=0.8869, valid_loss=0.3966, valid_acc=0.8748, lr=0.0100\n",
      "82 epoch: train_loss=0.0018, train_acc=0.9167, test_loss=0.3218, test_acc=0.8939, valid_loss=0.3841, valid_acc=0.8688, lr=0.0100\n",
      "83 epoch: train_loss=0.0003, train_acc=1.0000, test_loss=0.3294, test_acc=0.8935, valid_loss=0.3667, valid_acc=0.8804, lr=0.0100\n",
      "84 epoch: train_loss=0.0007, train_acc=0.9167, test_loss=0.3414, test_acc=0.8897, valid_loss=0.3704, valid_acc=0.8740, lr=0.0100\n",
      "85 epoch: train_loss=0.0021, train_acc=0.8333, test_loss=0.3213, test_acc=0.8945, valid_loss=0.3973, valid_acc=0.8660, lr=0.0100\n",
      "86 epoch: train_loss=0.0004, train_acc=1.0000, test_loss=0.3242, test_acc=0.8949, valid_loss=0.3874, valid_acc=0.8700, lr=0.0100\n",
      "87 epoch: train_loss=0.0020, train_acc=0.6667, test_loss=0.3345, test_acc=0.8926, valid_loss=0.3778, valid_acc=0.8720, lr=0.0100\n",
      "88 epoch: train_loss=0.0010, train_acc=0.8333, test_loss=0.3548, test_acc=0.8870, valid_loss=0.3887, valid_acc=0.8752, lr=0.0100\n",
      "89 epoch: train_loss=0.0016, train_acc=0.7500, test_loss=0.3447, test_acc=0.8875, valid_loss=0.4029, valid_acc=0.8652, lr=0.0100\n",
      "90 epoch: train_loss=0.0005, train_acc=0.9167, test_loss=0.3431, test_acc=0.8898, valid_loss=0.3872, valid_acc=0.8672, lr=0.0100\n",
      "91 epoch: train_loss=0.0008, train_acc=0.8333, test_loss=0.3518, test_acc=0.8820, valid_loss=0.3839, valid_acc=0.8720, lr=0.0100\n",
      "92 epoch: train_loss=0.0001, train_acc=1.0000, test_loss=0.3349, test_acc=0.8900, valid_loss=0.3787, valid_acc=0.8740, lr=0.0100\n",
      "93 epoch: train_loss=0.0015, train_acc=0.6667, test_loss=0.3688, test_acc=0.8808, valid_loss=0.4055, valid_acc=0.8652, lr=0.0100\n",
      "94 epoch: train_loss=0.0017, train_acc=0.6667, test_loss=0.3258, test_acc=0.8923, valid_loss=0.3719, valid_acc=0.8800, lr=0.0100\n",
      "95 epoch: train_loss=0.0011, train_acc=0.9167, test_loss=0.3515, test_acc=0.8904, valid_loss=0.3924, valid_acc=0.8632, lr=0.0100\n",
      "96 epoch: train_loss=0.0010, train_acc=0.8333, test_loss=0.3419, test_acc=0.8930, valid_loss=0.3791, valid_acc=0.8692, lr=0.0100\n",
      "97 epoch: train_loss=0.0002, train_acc=1.0000, test_loss=0.3095, test_acc=0.9000, valid_loss=0.3957, valid_acc=0.8692, lr=0.0100\n",
      "98 epoch: train_loss=0.0002, train_acc=1.0000, test_loss=0.3096, test_acc=0.8997, valid_loss=0.3800, valid_acc=0.8680, lr=0.0100\n",
      "99 epoch: train_loss=0.0010, train_acc=0.9167, test_loss=0.3404, test_acc=0.8906, valid_loss=0.3841, valid_acc=0.8716, lr=0.0100\n",
      "100 epoch: train_loss=0.0012, train_acc=0.7500, test_loss=0.3287, test_acc=0.8940, valid_loss=0.3856, valid_acc=0.8664, lr=0.0100\n",
      "101 epoch: train_loss=0.0010, train_acc=0.8333, test_loss=0.3352, test_acc=0.8927, valid_loss=0.4058, valid_acc=0.8660, lr=0.0100\n",
      "102 epoch: train_loss=0.0000, train_acc=1.0000, test_loss=0.3413, test_acc=0.8921, valid_loss=0.3704, valid_acc=0.8844, lr=0.0100\n",
      "103 epoch: train_loss=0.0001, train_acc=1.0000, test_loss=0.3603, test_acc=0.8847, valid_loss=0.3952, valid_acc=0.8720, lr=0.0100\n",
      "104 epoch: train_loss=0.0011, train_acc=0.9167, test_loss=0.3344, test_acc=0.8935, valid_loss=0.4040, valid_acc=0.8596, lr=0.0100\n",
      "105 epoch: train_loss=0.0051, train_acc=0.6667, test_loss=0.3737, test_acc=0.8786, valid_loss=0.3827, valid_acc=0.8728, lr=0.0100\n",
      "106 epoch: train_loss=0.0008, train_acc=0.9167, test_loss=0.3646, test_acc=0.8843, valid_loss=0.4015, valid_acc=0.8664, lr=0.0100\n",
      "107 epoch: train_loss=0.0004, train_acc=0.9167, test_loss=0.3334, test_acc=0.8951, valid_loss=0.4066, valid_acc=0.8708, lr=0.0100\n",
      "108 epoch: train_loss=0.0012, train_acc=0.8333, test_loss=0.3306, test_acc=0.8938, valid_loss=0.3909, valid_acc=0.8724, lr=0.0100\n",
      "109 epoch: train_loss=0.0002, train_acc=1.0000, test_loss=0.3471, test_acc=0.8855, valid_loss=0.3939, valid_acc=0.8656, lr=0.0100\n",
      "110 epoch: train_loss=0.0004, train_acc=0.9167, test_loss=0.3292, test_acc=0.8915, valid_loss=0.3710, valid_acc=0.8768, lr=0.0100\n",
      "111 epoch: train_loss=0.0015, train_acc=0.7500, test_loss=0.3578, test_acc=0.8841, valid_loss=0.3764, valid_acc=0.8764, lr=0.0100\n",
      "112 epoch: train_loss=0.0030, train_acc=0.6667, test_loss=0.3889, test_acc=0.8784, valid_loss=0.4071, valid_acc=0.8628, lr=0.0100\n",
      "113 epoch: train_loss=0.0016, train_acc=0.8333, test_loss=0.3744, test_acc=0.8783, valid_loss=0.4074, valid_acc=0.8704, lr=0.0100\n",
      "114 epoch: train_loss=0.0013, train_acc=0.7500, test_loss=0.3830, test_acc=0.8779, valid_loss=0.3684, valid_acc=0.8756, lr=0.0100\n",
      "115 epoch: train_loss=0.0007, train_acc=0.9167, test_loss=0.3535, test_acc=0.8873, valid_loss=0.3817, valid_acc=0.8764, lr=0.0100\n",
      "116 epoch: train_loss=0.0001, train_acc=1.0000, test_loss=0.3246, test_acc=0.8961, valid_loss=0.4101, valid_acc=0.8624, lr=0.0100\n",
      "117 epoch: train_loss=0.0011, train_acc=0.8333, test_loss=0.3746, test_acc=0.8836, valid_loss=0.3728, valid_acc=0.8744, lr=0.0100\n",
      "118 epoch: train_loss=0.0018, train_acc=0.7500, test_loss=0.3447, test_acc=0.8912, valid_loss=0.3751, valid_acc=0.8780, lr=0.0010\n",
      "119 epoch: train_loss=0.0001, train_acc=1.0000, test_loss=0.3347, test_acc=0.8945, valid_loss=0.3840, valid_acc=0.8748, lr=0.0010\n",
      "120 epoch: train_loss=0.0006, train_acc=0.9167, test_loss=0.3340, test_acc=0.8929, valid_loss=0.3639, valid_acc=0.8792, lr=0.0010\n",
      "121 epoch: train_loss=0.0008, train_acc=0.8333, test_loss=0.3420, test_acc=0.8917, valid_loss=0.3479, valid_acc=0.8856, lr=0.0010\n",
      "122 epoch: train_loss=0.0014, train_acc=0.9167, test_loss=0.3266, test_acc=0.8977, valid_loss=0.3720, valid_acc=0.8824, lr=0.0010\n",
      "123 epoch: train_loss=0.0016, train_acc=0.7500, test_loss=0.3246, test_acc=0.8979, valid_loss=0.3664, valid_acc=0.8808, lr=0.0010\n",
      "124 epoch: train_loss=0.0012, train_acc=0.8333, test_loss=0.3102, test_acc=0.9029, valid_loss=0.3867, valid_acc=0.8792, lr=0.0010\n",
      "125 epoch: train_loss=0.0015, train_acc=0.7500, test_loss=0.3100, test_acc=0.9037, valid_loss=0.3830, valid_acc=0.8796, lr=0.0010\n",
      "126 epoch: train_loss=0.0004, train_acc=0.9167, test_loss=0.3144, test_acc=0.9027, valid_loss=0.3644, valid_acc=0.8800, lr=0.0010\n",
      "127 epoch: train_loss=0.0023, train_acc=0.7500, test_loss=0.3209, test_acc=0.9032, valid_loss=0.3933, valid_acc=0.8816, lr=0.0010\n",
      "128 epoch: train_loss=0.0026, train_acc=0.5833, test_loss=0.3337, test_acc=0.8975, valid_loss=0.3696, valid_acc=0.8804, lr=0.0010\n",
      "129 epoch: train_loss=0.0008, train_acc=0.9167, test_loss=0.3221, test_acc=0.8993, valid_loss=0.3784, valid_acc=0.8692, lr=0.0010\n",
      "130 epoch: train_loss=0.0008, train_acc=0.9167, test_loss=0.3215, test_acc=0.8985, valid_loss=0.3604, valid_acc=0.8804, lr=0.0010\n",
      "131 epoch: train_loss=0.0003, train_acc=0.9167, test_loss=0.3195, test_acc=0.9020, valid_loss=0.3680, valid_acc=0.8856, lr=0.0010\n",
      "132 epoch: train_loss=0.0011, train_acc=0.9167, test_loss=0.3105, test_acc=0.9043, valid_loss=0.3393, valid_acc=0.8828, lr=0.0010\n",
      "133 epoch: train_loss=0.0004, train_acc=0.9167, test_loss=0.3247, test_acc=0.8973, valid_loss=0.3722, valid_acc=0.8772, lr=0.0010\n",
      "134 epoch: train_loss=0.0009, train_acc=0.8333, test_loss=0.3265, test_acc=0.8987, valid_loss=0.3711, valid_acc=0.8804, lr=0.0010\n",
      "135 epoch: train_loss=0.0002, train_acc=1.0000, test_loss=0.3326, test_acc=0.8941, valid_loss=0.3338, valid_acc=0.8932, lr=0.0010\n",
      "136 epoch: train_loss=0.0007, train_acc=0.9167, test_loss=0.3222, test_acc=0.8971, valid_loss=0.3569, valid_acc=0.8840, lr=0.0010\n",
      "137 epoch: train_loss=0.0009, train_acc=0.8333, test_loss=0.3163, test_acc=0.9019, valid_loss=0.3361, valid_acc=0.8852, lr=0.0010\n",
      "138 epoch: train_loss=0.0003, train_acc=0.9167, test_loss=0.3144, test_acc=0.9013, valid_loss=0.3762, valid_acc=0.8756, lr=0.0010\n",
      "139 epoch: train_loss=0.0002, train_acc=1.0000, test_loss=0.3287, test_acc=0.8974, valid_loss=0.3854, valid_acc=0.8756, lr=0.0010\n",
      "140 epoch: train_loss=0.0000, train_acc=1.0000, test_loss=0.3144, test_acc=0.9038, valid_loss=0.3479, valid_acc=0.8892, lr=0.0010\n",
      "141 epoch: train_loss=0.0006, train_acc=0.9167, test_loss=0.3274, test_acc=0.8968, valid_loss=0.3914, valid_acc=0.8712, lr=0.0010\n",
      "142 epoch: train_loss=0.0010, train_acc=0.8333, test_loss=0.3261, test_acc=0.8995, valid_loss=0.3826, valid_acc=0.8760, lr=0.0010\n",
      "143 epoch: train_loss=0.0006, train_acc=0.9167, test_loss=0.3186, test_acc=0.9001, valid_loss=0.3767, valid_acc=0.8792, lr=0.0010\n",
      "144 epoch: train_loss=0.0002, train_acc=1.0000, test_loss=0.3140, test_acc=0.9030, valid_loss=0.3841, valid_acc=0.8768, lr=0.0010\n",
      "145 epoch: train_loss=0.0001, train_acc=1.0000, test_loss=0.3199, test_acc=0.8998, valid_loss=0.3514, valid_acc=0.8896, lr=0.0010\n",
      "146 epoch: train_loss=0.0005, train_acc=0.9167, test_loss=0.3197, test_acc=0.9005, valid_loss=0.3500, valid_acc=0.8864, lr=0.0010\n",
      "147 epoch: train_loss=0.0027, train_acc=0.7500, test_loss=0.3250, test_acc=0.8996, valid_loss=0.3703, valid_acc=0.8860, lr=0.0010\n",
      "148 epoch: train_loss=0.0002, train_acc=1.0000, test_loss=0.3267, test_acc=0.8984, valid_loss=0.3735, valid_acc=0.8784, lr=0.0010\n",
      "149 epoch: train_loss=0.0002, train_acc=1.0000, test_loss=0.3319, test_acc=0.8969, valid_loss=0.3759, valid_acc=0.8728, lr=0.0010\n",
      "150 epoch: train_loss=0.0004, train_acc=0.9167, test_loss=0.3240, test_acc=0.8983, valid_loss=0.3584, valid_acc=0.8836, lr=0.0010\n",
      "151 epoch: train_loss=0.0012, train_acc=0.9167, test_loss=0.3162, test_acc=0.9020, valid_loss=0.3649, valid_acc=0.8908, lr=0.0010\n",
      "152 epoch: train_loss=0.0000, train_acc=1.0000, test_loss=0.3233, test_acc=0.8991, valid_loss=0.3773, valid_acc=0.8784, lr=0.0010\n",
      "153 epoch: train_loss=0.0016, train_acc=0.9167, test_loss=0.3236, test_acc=0.8986, valid_loss=0.3854, valid_acc=0.8732, lr=0.0010\n",
      "154 epoch: train_loss=0.0007, train_acc=0.9167, test_loss=0.3242, test_acc=0.8986, valid_loss=0.3659, valid_acc=0.8800, lr=0.0010\n",
      "155 epoch: train_loss=0.0001, train_acc=1.0000, test_loss=0.3140, test_acc=0.9022, valid_loss=0.3780, valid_acc=0.8780, lr=0.0010\n",
      "156 epoch: train_loss=0.0006, train_acc=0.9167, test_loss=0.3109, test_acc=0.9044, valid_loss=0.3745, valid_acc=0.8880, lr=0.0010\n",
      "157 epoch: train_loss=0.0004, train_acc=0.9167, test_loss=0.3276, test_acc=0.8975, valid_loss=0.3661, valid_acc=0.8820, lr=0.0010\n",
      "158 epoch: train_loss=0.0005, train_acc=0.9167, test_loss=0.3189, test_acc=0.9009, valid_loss=0.3727, valid_acc=0.8808, lr=0.0010\n",
      "159 epoch: train_loss=0.0009, train_acc=0.8333, test_loss=0.3185, test_acc=0.9017, valid_loss=0.3593, valid_acc=0.8796, lr=0.0010\n",
      "160 epoch: train_loss=0.0007, train_acc=0.9167, test_loss=0.3195, test_acc=0.8993, valid_loss=0.3715, valid_acc=0.8804, lr=0.0010\n",
      "161 epoch: train_loss=0.0019, train_acc=0.7500, test_loss=0.3300, test_acc=0.8978, valid_loss=0.3733, valid_acc=0.8828, lr=0.0010\n",
      "162 epoch: train_loss=0.0002, train_acc=1.0000, test_loss=0.3249, test_acc=0.9016, valid_loss=0.3493, valid_acc=0.8908, lr=0.0010\n",
      "163 epoch: train_loss=0.0002, train_acc=1.0000, test_loss=0.3152, test_acc=0.9016, valid_loss=0.3587, valid_acc=0.8824, lr=0.0010\n",
      "164 epoch: train_loss=0.0006, train_acc=0.9167, test_loss=0.3213, test_acc=0.8994, valid_loss=0.3650, valid_acc=0.8836, lr=0.0010\n",
      "165 epoch: train_loss=0.0011, train_acc=0.7500, test_loss=0.3273, test_acc=0.8994, valid_loss=0.3394, valid_acc=0.8812, lr=0.0010\n",
      "166 epoch: train_loss=0.0004, train_acc=0.9167, test_loss=0.3186, test_acc=0.8982, valid_loss=0.3678, valid_acc=0.8864, lr=0.0010\n",
      "167 epoch: train_loss=0.0019, train_acc=0.8333, test_loss=0.3250, test_acc=0.8981, valid_loss=0.3699, valid_acc=0.8804, lr=0.0010\n",
      "168 epoch: train_loss=0.0001, train_acc=1.0000, test_loss=0.3410, test_acc=0.8947, valid_loss=0.3793, valid_acc=0.8732, lr=0.0010\n",
      "169 epoch: train_loss=0.0014, train_acc=0.9167, test_loss=0.3220, test_acc=0.8987, valid_loss=0.3583, valid_acc=0.8808, lr=0.0010\n",
      "170 epoch: train_loss=0.0017, train_acc=0.8333, test_loss=0.3218, test_acc=0.8995, valid_loss=0.3833, valid_acc=0.8728, lr=0.0010\n",
      "171 epoch: train_loss=0.0005, train_acc=0.9167, test_loss=0.3308, test_acc=0.8984, valid_loss=0.3736, valid_acc=0.8824, lr=0.0010\n",
      "172 epoch: train_loss=0.0010, train_acc=0.9167, test_loss=0.3375, test_acc=0.8981, valid_loss=0.3877, valid_acc=0.8788, lr=0.0010\n",
      "173 epoch: train_loss=0.0008, train_acc=0.8333, test_loss=0.3217, test_acc=0.9007, valid_loss=0.3658, valid_acc=0.8768, lr=0.0010\n",
      "174 epoch: train_loss=0.0000, train_acc=1.0000, test_loss=0.3270, test_acc=0.8978, valid_loss=0.3855, valid_acc=0.8744, lr=0.0010\n",
      "175 epoch: train_loss=0.0007, train_acc=0.9167, test_loss=0.3304, test_acc=0.8974, valid_loss=0.3611, valid_acc=0.8848, lr=0.0010\n",
      "176 epoch: train_loss=0.0009, train_acc=0.9167, test_loss=0.3230, test_acc=0.9004, valid_loss=0.3794, valid_acc=0.8728, lr=0.0010\n",
      "177 epoch: train_loss=0.0012, train_acc=0.9167, test_loss=0.3178, test_acc=0.8998, valid_loss=0.3733, valid_acc=0.8796, lr=0.0010\n",
      "178 epoch: train_loss=0.0033, train_acc=0.8333, test_loss=0.3388, test_acc=0.8964, valid_loss=0.3549, valid_acc=0.8868, lr=0.0010\n",
      "179 epoch: train_loss=0.0016, train_acc=0.9167, test_loss=0.3196, test_acc=0.9010, valid_loss=0.4012, valid_acc=0.8776, lr=0.0001\n",
      "180 epoch: train_loss=0.0007, train_acc=1.0000, test_loss=0.3309, test_acc=0.8972, valid_loss=0.3686, valid_acc=0.8836, lr=0.0001\n",
      "181 epoch: train_loss=0.0012, train_acc=0.8333, test_loss=0.3168, test_acc=0.9020, valid_loss=0.3680, valid_acc=0.8852, lr=0.0001\n",
      "182 epoch: train_loss=0.0007, train_acc=0.9167, test_loss=0.3443, test_acc=0.8920, valid_loss=0.3503, valid_acc=0.8868, lr=0.0001\n",
      "183 epoch: train_loss=0.0003, train_acc=1.0000, test_loss=0.3348, test_acc=0.8984, valid_loss=0.3603, valid_acc=0.8780, lr=0.0001\n",
      "184 epoch: train_loss=0.0006, train_acc=0.8333, test_loss=0.3342, test_acc=0.8966, valid_loss=0.3751, valid_acc=0.8732, lr=0.0001\n",
      "185 epoch: train_loss=0.0001, train_acc=1.0000, test_loss=0.3369, test_acc=0.8986, valid_loss=0.3594, valid_acc=0.8908, lr=0.0001\n",
      "186 epoch: train_loss=0.0011, train_acc=0.7500, test_loss=0.3278, test_acc=0.8997, valid_loss=0.3668, valid_acc=0.8816, lr=0.0001\n",
      "187 epoch: train_loss=0.0004, train_acc=1.0000, test_loss=0.3365, test_acc=0.8957, valid_loss=0.3711, valid_acc=0.8816, lr=0.0001\n",
      "188 epoch: train_loss=0.0006, train_acc=0.9167, test_loss=0.3243, test_acc=0.9000, valid_loss=0.3770, valid_acc=0.8752, lr=0.0001\n",
      "189 epoch: train_loss=0.0006, train_acc=0.9167, test_loss=0.3191, test_acc=0.9001, valid_loss=0.3487, valid_acc=0.8892, lr=0.0001\n",
      "190 epoch: train_loss=0.0000, train_acc=1.0000, test_loss=0.3286, test_acc=0.8975, valid_loss=0.4003, valid_acc=0.8752, lr=0.0001\n",
      "191 epoch: train_loss=0.0005, train_acc=0.9167, test_loss=0.3308, test_acc=0.8997, valid_loss=0.3716, valid_acc=0.8848, lr=0.0001\n",
      "192 epoch: train_loss=0.0003, train_acc=0.9167, test_loss=0.3250, test_acc=0.8993, valid_loss=0.3830, valid_acc=0.8792, lr=0.0001\n",
      "193 epoch: train_loss=0.0000, train_acc=1.0000, test_loss=0.3260, test_acc=0.8978, valid_loss=0.3739, valid_acc=0.8824, lr=0.0001\n",
      "194 epoch: train_loss=0.0015, train_acc=0.8333, test_loss=0.3202, test_acc=0.9014, valid_loss=0.3760, valid_acc=0.8808, lr=0.0001\n",
      "195 epoch: train_loss=0.0015, train_acc=0.8333, test_loss=0.3210, test_acc=0.8991, valid_loss=0.3464, valid_acc=0.8836, lr=0.0001\n",
      "196 epoch: train_loss=0.0010, train_acc=0.7500, test_loss=0.3188, test_acc=0.9011, valid_loss=0.3953, valid_acc=0.8808, lr=0.0001\n",
      "197 epoch: train_loss=0.0004, train_acc=0.9167, test_loss=0.3206, test_acc=0.8992, valid_loss=0.3597, valid_acc=0.8828, lr=0.0001\n",
      "198 epoch: train_loss=0.0004, train_acc=0.9167, test_loss=0.3350, test_acc=0.8949, valid_loss=0.3598, valid_acc=0.8836, lr=0.0001\n",
      "199 epoch: train_loss=0.0012, train_acc=0.9167, test_loss=0.3301, test_acc=0.8983, valid_loss=0.3778, valid_acc=0.8800, lr=0.0001\n",
      "200 epoch: train_loss=0.0013, train_acc=0.8333, test_loss=0.3312, test_acc=0.8980, valid_loss=0.3886, valid_acc=0.8740, lr=0.0001\n",
      "201 epoch: train_loss=0.0010, train_acc=0.8333, test_loss=0.3373, test_acc=0.8957, valid_loss=0.3474, valid_acc=0.8868, lr=0.0001\n",
      "202 epoch: train_loss=0.0018, train_acc=0.8333, test_loss=0.3294, test_acc=0.8955, valid_loss=0.3846, valid_acc=0.8776, lr=0.0001\n",
      "203 epoch: train_loss=0.0015, train_acc=0.9167, test_loss=0.3266, test_acc=0.8999, valid_loss=0.3562, valid_acc=0.8872, lr=0.0001\n",
      "204 epoch: train_loss=0.0008, train_acc=0.8333, test_loss=0.3319, test_acc=0.8953, valid_loss=0.3692, valid_acc=0.8800, lr=0.0001\n",
      "205 epoch: train_loss=0.0001, train_acc=1.0000, test_loss=0.3334, test_acc=0.8953, valid_loss=0.3762, valid_acc=0.8768, lr=0.0001\n"
     ]
    }
   ],
   "source": [
    "view.print_all()"
   ]
  },
  {
   "cell_type": "code",
   "execution_count": 22,
   "metadata": {},
   "outputs": [],
   "source": [
    "# CHECK = 5410\n",
    "# logs[\"train_loss\"] = logs[\"train_loss\"][:CHECK]\n",
    "# logs[\"train_acc\"] = logs[\"train_acc\"][:CHECK]\n",
    "# logs[\"valid_loss\"] = logs[\"valid_loss\"][:CHECK]\n",
    "# logs[\"valid_acc\"] = logs[\"valid_acc\"][:CHECK]\n",
    "# logs[\"test_loss\"] = logs[\"test_loss\"][:CHECK]\n",
    "# logs[\"test_acc\"] = logs[\"test_acc\"][:CHECK]\n",
    "# model.load_state_dict(torch.load(f\"models/{file_path}.pth\"))"
   ]
  }
 ],
 "metadata": {
  "kernelspec": {
   "display_name": "base",
   "language": "python",
   "name": "python3"
  },
  "language_info": {
   "codemirror_mode": {
    "name": "ipython",
    "version": 3
   },
   "file_extension": ".py",
   "mimetype": "text/x-python",
   "name": "python",
   "nbconvert_exporter": "python",
   "pygments_lexer": "ipython3",
   "version": "3.11.5"
  }
 },
 "nbformat": 4,
 "nbformat_minor": 2
}
