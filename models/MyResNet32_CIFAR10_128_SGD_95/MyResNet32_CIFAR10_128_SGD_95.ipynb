{
 "cells": [
  {
   "cell_type": "markdown",
   "metadata": {},
   "source": [
    "# Import"
   ]
  },
  {
   "cell_type": "code",
   "execution_count": 1,
   "metadata": {},
   "outputs": [],
   "source": [
    "import torch\n",
    "from torch import nn\n",
    "from torch.optim.lr_scheduler import ExponentialLR, MultiStepLR, ReduceLROnPlateau\n",
    "import sys, os\n",
    "\n",
    "sys.path.append(os.path.dirname(os.path.abspath(os.path.dirname(\"src\"))))\n",
    "\n",
    "from src.Mydataloader import LoadDataset\n",
    "from src.Mymodel import MyResNet_CIFAR\n",
    "from src.Mytraining import DoTraining\n",
    "from src.Earlystopper import EarlyStopper\n",
    "from src.LogViewer import LogViewer"
   ]
  },
  {
   "cell_type": "markdown",
   "metadata": {},
   "source": [
    "# Setup"
   ]
  },
  {
   "cell_type": "code",
   "execution_count": 2,
   "metadata": {},
   "outputs": [],
   "source": [
    "\"\"\"Dataset selection\"\"\"\n",
    "DATASET = \"CIFAR10\"\n",
    "# DATASET = \"CIFAR100\"\n",
    "# DATASET = \"ImageNet2012\"\n",
    "\n",
    "\"\"\"Dataset parameters\"\"\"\n",
    "BATCH = 128\n",
    "SHUFFLE = True\n",
    "NUMOFWORKERS = 8\n",
    "PIN_MEMORY = True\n",
    "SPLIT_RATIO = 0.95\n",
    "\n",
    "\"\"\"optimizer parameters\"\"\"\n",
    "# OPTIMIZER = \"Adam\"\n",
    "# OPTIMIZER = \"Adam_decay\"\n",
    "OPTIMIZER = \"SGD\"\n",
    "# OPTIMIZER = \"SGD_nasterov\"\n",
    "# OPTIMIZER = \"AdamW\"\n",
    "# OPTIMIZER = \"AdamW_amsgrad\"\n",
    "# OPTIMIZER = \"NAdam\"\n",
    "\n",
    "\"\"\"Learning rate scheduler parameters\"\"\"\n",
    "NUM_EPOCHS = 200\n",
    "\n",
    "\"\"\"Early stopping parameters\"\"\"\n",
    "EARLYSTOPPINGPATIENCE = 50\n",
    "\n",
    "file_name = f\"MyResNet32_{BATCH}_{OPTIMIZER}\""
   ]
  },
  {
   "cell_type": "code",
   "execution_count": 3,
   "metadata": {},
   "outputs": [
    {
     "data": {
      "text/plain": [
       "'MyResNet32_128_SGD'"
      ]
     },
     "execution_count": 3,
     "metadata": {},
     "output_type": "execute_result"
    }
   ],
   "source": [
    "file_name"
   ]
  },
  {
   "cell_type": "markdown",
   "metadata": {},
   "source": [
    "# Loading the dataset"
   ]
  },
  {
   "cell_type": "markdown",
   "metadata": {},
   "source": [
    "## Define Dateloader"
   ]
  },
  {
   "cell_type": "code",
   "execution_count": 4,
   "metadata": {},
   "outputs": [
    {
     "name": "stdout",
     "output_type": "stream",
     "text": [
      "-----------------------------------------------------------------------\n",
      "Dataset :  CIFAR10\n",
      "- Length of Train Set :  47500\n",
      "- Length of Valid Set :  2500\n",
      "- Length of Test Set :  10000\n",
      "- Count of Classes :  10\n",
      "-----------------------------------------------------------------------\n"
     ]
    }
   ],
   "source": [
    "tmp = LoadDataset(root=\"../../data\", seceted_dataset=DATASET, split_ratio=SPLIT_RATIO)\n",
    "train_data, valid_data, test_data, COUNT_OF_CLASSES = tmp.Unpack()"
   ]
  },
  {
   "cell_type": "code",
   "execution_count": 5,
   "metadata": {},
   "outputs": [
    {
     "name": "stdout",
     "output_type": "stream",
     "text": [
      "train.transforms = Compose(\n",
      "      Compose(\n",
      "        ToImage()\n",
      "        ToDtype(scale=True)\n",
      "  )\n",
      "      Normalize(mean=[0.49139968, 0.48215827, 0.44653124], std=[1, 1, 1], inplace=True)\n",
      "      AutoAugment(interpolation=InterpolationMode.NEAREST, policy=AutoAugmentPolicy.CIFAR10)\n",
      "      RandomCrop(size=(32, 32), padding=[4, 4, 4, 4], pad_if_needed=False, fill=0, padding_mode=constant)\n",
      "      RandomHorizontalFlip(p=0.5)\n",
      ") 128\n",
      "valid.transforms = (Compose(\n",
      "      ToImage()\n",
      "      ToDtype(scale=True)\n",
      "),) 128\n",
      "test.transforms = Compose(\n",
      "      ToImage()\n",
      "      ToDtype(scale=True)\n",
      ") 128\n"
     ]
    }
   ],
   "source": [
    "train_dataloader, valid_dataloader, test_dataloader = tmp.get_dataloader(\n",
    "    batch_size=BATCH, shuffle=SHUFFLE, num_workers=NUMOFWORKERS, pin_memory=PIN_MEMORY\n",
    ")\n"
   ]
  },
  {
   "cell_type": "markdown",
   "metadata": {},
   "source": [
    "# Define ResNet"
   ]
  },
  {
   "cell_type": "markdown",
   "metadata": {},
   "source": [
    "## Model Confirm"
   ]
  },
  {
   "cell_type": "code",
   "execution_count": 6,
   "metadata": {},
   "outputs": [
    {
     "data": {
      "text/plain": [
       "device(type='cuda')"
      ]
     },
     "execution_count": 6,
     "metadata": {},
     "output_type": "execute_result"
    }
   ],
   "source": [
    "device = torch.device(\"cuda\" if torch.cuda.is_available() else \"cpu\")\n",
    "device"
   ]
  },
  {
   "cell_type": "code",
   "execution_count": 7,
   "metadata": {},
   "outputs": [],
   "source": [
    "model = MyResNet_CIFAR(num_classes=COUNT_OF_CLASSES, num_layer_factor=5).to(device)"
   ]
  },
  {
   "cell_type": "markdown",
   "metadata": {},
   "source": [
    "# Define Training"
   ]
  },
  {
   "cell_type": "markdown",
   "metadata": {},
   "source": [
    "## (1) Define Criterion"
   ]
  },
  {
   "cell_type": "code",
   "execution_count": 8,
   "metadata": {},
   "outputs": [],
   "source": [
    "criterion = nn.CrossEntropyLoss()"
   ]
  },
  {
   "cell_type": "markdown",
   "metadata": {},
   "source": [
    "## (2) Define Optimazer"
   ]
  },
  {
   "cell_type": "code",
   "execution_count": 9,
   "metadata": {},
   "outputs": [],
   "source": [
    "if OPTIMIZER == \"Adam\":\n",
    "    optimizer = torch.optim.Adam(model.parameters())\n",
    "elif OPTIMIZER == \"Adam_decay\":\n",
    "    optimizer = torch.optim.Adam(model.parameters(), weight_decay=1e-4)\n",
    "elif OPTIMIZER == \"SGD\":\n",
    "    optimizer = torch.optim.SGD(\n",
    "        model.parameters(), lr=0.1, momentum=0.9, weight_decay=0.0001\n",
    "    )\n",
    "elif OPTIMIZER == \"SGD_nasterov\":\n",
    "    optimizer = torch.optim.SGD(\n",
    "        model.parameters(), lr=0.1, momentum=0.9, weight_decay=1e-4, nesterov=True\n",
    "    )\n",
    "elif OPTIMIZER == \"AdamW\":\n",
    "    optimizer = torch.optim.AdamW(model.parameters(), weight_decay=1e-4)\n",
    "elif OPTIMIZER == \"AdamW_amsgrad\":\n",
    "    optimizer = torch.optim.AdamW(model.parameters(), weight_decay=1e-4, amsgrad=True)\n",
    "elif OPTIMIZER == \"NAdam\":\n",
    "    optimizer = torch.optim.NAdam(model.parameters(), weight_decay=1e-4)"
   ]
  },
  {
   "cell_type": "markdown",
   "metadata": {},
   "source": [
    "## (3) Define Early Stopping"
   ]
  },
  {
   "cell_type": "code",
   "execution_count": 10,
   "metadata": {},
   "outputs": [],
   "source": [
    "earlystopper = EarlyStopper(patience=EARLYSTOPPINGPATIENCE, model=model, file_name=file_name)"
   ]
  },
  {
   "cell_type": "markdown",
   "metadata": {},
   "source": [
    "## (4) Define Learning Rate schedualer"
   ]
  },
  {
   "cell_type": "code",
   "execution_count": 11,
   "metadata": {},
   "outputs": [
    {
     "data": {
      "text/plain": [
       "'\\n=======================================================\\nif batch = 256\\n=======================================================\\nnon-split [single epoch = 196 iter] : milestones = [164, 246]\\n- 1 ~ 164 epochs == 1 ~ 32k iter >> lr = 0.1\\n- 165~246 epochs == 32k ~ 48k iter >> lr = 0.01\\n- 247~328(?) epochs == 48k ~ 64k iter >> lr = 0.001\\n=======================================================\\nsplit to 45k/5k [single epoch = 176 iter]: milestones = [182, 273]\\n- 1~182 epochs == 1 ~ 32k iter >> lr = 0.1\\n- 182~273 epochs == 32k ~ 48k iter >> lr = 0.01\\n- 273~364(?) epochs == 48k ~ 64k iter >> lr = 0.001\\n=======================================================\\nif batch = 128\\n=======================================================\\nnon-split [signle epoch = 391 iter]: milestones = [82, 123]\\n- 1 ~ 82 epochs == 1 ~ 32k iter >> lr = 0.1\\n- 83~123 epochs == 32k ~ 48k iter >> lr = 0.01\\n- 124~(164) epochs == 48k ~ 64k iter >> lr = 0.001\\n=======================================================\\nsplit to 45k/5k [signle epoch = 352 iter]: milestones = [91, 137]\\n- 1~91 epochs == 1 ~ 32k iter >> lr = 0.1\\n- 92~137 epochs == 32k ~ 48k iter >> lr = 0.01\\n- 138~(183) epochs == 48k ~ 64k iter >> lr = 0.001\\n=======================================================\\n'"
      ]
     },
     "execution_count": 11,
     "metadata": {},
     "output_type": "execute_result"
    }
   ],
   "source": [
    "# scheduler = ExponentialLR(optimizer, gamma=0.95)\n",
    "# scheduler = MultiStepLR(optimizer, milestones=[82, 123], gamma=0.1)\n",
    "scheduler = ReduceLROnPlateau(optimizer=optimizer, patience=10, factor=0.1, cooldown=40)\n",
    "\"\"\"\n",
    "=======================================================\n",
    "if batch = 256\n",
    "=======================================================\n",
    "non-split [single epoch = 196 iter] : milestones = [164, 246]\n",
    "- 1 ~ 164 epochs == 1 ~ 32k iter >> lr = 0.1\n",
    "- 165~246 epochs == 32k ~ 48k iter >> lr = 0.01\n",
    "- 247~328(?) epochs == 48k ~ 64k iter >> lr = 0.001\n",
    "=======================================================\n",
    "split to 45k/5k [single epoch = 176 iter]: milestones = [182, 273]\n",
    "- 1~182 epochs == 1 ~ 32k iter >> lr = 0.1\n",
    "- 182~273 epochs == 32k ~ 48k iter >> lr = 0.01\n",
    "- 273~364(?) epochs == 48k ~ 64k iter >> lr = 0.001\n",
    "=======================================================\n",
    "if batch = 128\n",
    "=======================================================\n",
    "non-split [signle epoch = 391 iter]: milestones = [82, 123]\n",
    "- 1 ~ 82 epochs == 1 ~ 32k iter >> lr = 0.1\n",
    "- 83~123 epochs == 32k ~ 48k iter >> lr = 0.01\n",
    "- 124~(164) epochs == 48k ~ 64k iter >> lr = 0.001\n",
    "=======================================================\n",
    "split to 45k/5k [signle epoch = 352 iter]: milestones = [91, 137]\n",
    "- 1~91 epochs == 1 ~ 32k iter >> lr = 0.1\n",
    "- 92~137 epochs == 32k ~ 48k iter >> lr = 0.01\n",
    "- 138~(183) epochs == 48k ~ 64k iter >> lr = 0.001\n",
    "=======================================================\n",
    "\"\"\""
   ]
  },
  {
   "cell_type": "markdown",
   "metadata": {},
   "source": [
    "## (5) Define AMP scaler"
   ]
  },
  {
   "cell_type": "code",
   "execution_count": 12,
   "metadata": {},
   "outputs": [],
   "source": [
    "scaler = torch.cuda.amp.GradScaler(enabled=True)"
   ]
  },
  {
   "cell_type": "markdown",
   "metadata": {},
   "source": [
    "## Load before process"
   ]
  },
  {
   "cell_type": "code",
   "execution_count": 13,
   "metadata": {},
   "outputs": [
    {
     "name": "stdout",
     "output_type": "stream",
     "text": [
      "File does not exist. Created a new log.\n"
     ]
    }
   ],
   "source": [
    "if os.path.exists(file_name + \".pth.tar\"):\n",
    "    # Read checkpoint as desired, e.g.,\n",
    "    checkpoint = torch.load(\n",
    "        file_name + \".pth.tar\",\n",
    "        map_location=lambda storage, loc: storage.cuda(device),\n",
    "    )\n",
    "    model.load_state_dict(checkpoint[\"model\"])\n",
    "    optimizer.load_state_dict(checkpoint[\"optimizer\"])\n",
    "    scaler.load_state_dict(checkpoint[\"scaler\"])\n",
    "    scheduler.load_state_dict(checkpoint[\"scheduler\"])\n",
    "    earlystopper.load_state_dict(checkpoint[\"earlystopper\"])\n",
    "    logs = checkpoint[\"logs\"]\n",
    "\n",
    "    print(\"Suceessfully loaded the All setting and Log file.\")\n",
    "    print(file_name)\n",
    "    print(f\"Current epoch is {len(logs['train_loss'])}\")\n",
    "    print(f\"Current learning rate: {optimizer.param_groups[0]['lr']}\")\n",
    "else:\n",
    "    # Create a dictionary to store the variables\n",
    "    train_loss = []\n",
    "    train_acc = []\n",
    "    eval_loss = []\n",
    "    valid_acc = []\n",
    "    test_loss = []\n",
    "    test_acc = []\n",
    "    lr_log = []\n",
    "    logs = {\n",
    "        \"train_loss\": train_loss,\n",
    "        \"train_acc\": train_acc,\n",
    "        \"valid_loss\": eval_loss,\n",
    "        \"valid_acc\": valid_acc,\n",
    "        \"test_loss\": test_loss,\n",
    "        \"test_acc\": test_acc,\n",
    "        \"lr_log\": lr_log,\n",
    "    }\n",
    "    print(\"File does not exist. Created a new log.\")"
   ]
  },
  {
   "cell_type": "code",
   "execution_count": 14,
   "metadata": {},
   "outputs": [
    {
     "data": {
      "text/plain": [
       "0.1"
      ]
     },
     "execution_count": 14,
     "metadata": {},
     "output_type": "execute_result"
    }
   ],
   "source": [
    "optimizer.param_groups[0][\"lr\"]"
   ]
  },
  {
   "cell_type": "code",
   "execution_count": 15,
   "metadata": {},
   "outputs": [
    {
     "data": {
      "text/plain": [
       "0"
      ]
     },
     "execution_count": 15,
     "metadata": {},
     "output_type": "execute_result"
    }
   ],
   "source": [
    "earlystopper.early_stop_counter"
   ]
  },
  {
   "cell_type": "markdown",
   "metadata": {},
   "source": [
    "# [Training Loop]"
   ]
  },
  {
   "cell_type": "code",
   "execution_count": 16,
   "metadata": {},
   "outputs": [
    {
     "name": "stdout",
     "output_type": "stream",
     "text": [
      "[Epoch 1/200] :\n"
     ]
    },
    {
     "name": "stderr",
     "output_type": "stream",
     "text": [
      "1 Train: 100%|███████| 372/372 [00:46<00:00,  8.07it/s]"
     ]
    },
    {
     "name": "stdout",
     "output_type": "stream",
     "text": [
      "Train Loss: 2.4304 | Train Acc: 10.96%\n"
     ]
    },
    {
     "name": "stderr",
     "output_type": "stream",
     "text": [
      "\n"
     ]
    },
    {
     "name": "stdout",
     "output_type": "stream",
     "text": [
      "Valid Loss: 2.2978 | Valid Acc: 10.64%\n",
      "Test  Loss: 2.2966 | Test Acc: 10.55%\n",
      "updated best eval loss : 2.2978232383728026\n",
      "--------------------------------------------------\n",
      "[Epoch 2/200] :\n"
     ]
    },
    {
     "name": "stderr",
     "output_type": "stream",
     "text": [
      "2 Train: 100%|███████| 372/372 [00:43<00:00,  8.47it/s]\n"
     ]
    },
    {
     "name": "stdout",
     "output_type": "stream",
     "text": [
      "Train Loss: 2.1591 | Train Acc: 17.17%\n",
      "Valid Loss: 2.1131 | Valid Acc: 17.60%\n",
      "Test  Loss: 2.0202 | Test Acc: 19.29%\n",
      "updated best eval loss : 2.113135814666748\n",
      "--------------------------------------------------\n",
      "[Epoch 3/200] :\n"
     ]
    },
    {
     "name": "stderr",
     "output_type": "stream",
     "text": [
      "3 Train: 100%|███████| 372/372 [00:44<00:00,  8.34it/s]\n"
     ]
    },
    {
     "name": "stdout",
     "output_type": "stream",
     "text": [
      "Train Loss: 1.9527 | Train Acc: 26.52%\n",
      "Valid Loss: 2.0780 | Valid Acc: 25.16%\n",
      "Test  Loss: 2.0032 | Test Acc: 26.18%\n",
      "updated best eval loss : 2.0779769241809847\n",
      "--------------------------------------------------\n",
      "[Epoch 4/200] :\n"
     ]
    },
    {
     "name": "stderr",
     "output_type": "stream",
     "text": [
      "4 Train: 100%|███████| 372/372 [00:43<00:00,  8.59it/s]\n"
     ]
    },
    {
     "name": "stdout",
     "output_type": "stream",
     "text": [
      "Train Loss: 1.7488 | Train Acc: 35.54%\n",
      "Valid Loss: 1.8120 | Valid Acc: 34.24%\n",
      "Test  Loss: 1.6144 | Test Acc: 40.99%\n",
      "updated best eval loss : 1.8119832098484039\n",
      "--------------------------------------------------\n",
      "[Epoch 5/200] :\n"
     ]
    },
    {
     "name": "stderr",
     "output_type": "stream",
     "text": [
      "5 Train: 100%|███████| 372/372 [00:44<00:00,  8.38it/s]\n"
     ]
    },
    {
     "name": "stdout",
     "output_type": "stream",
     "text": [
      "Train Loss: 1.5424 | Train Acc: 43.84%\n",
      "Valid Loss: 1.5383 | Valid Acc: 46.04%\n",
      "Test  Loss: 1.2003 | Test Acc: 57.12%\n",
      "updated best eval loss : 1.5382500410079956\n",
      "--------------------------------------------------\n",
      "[Epoch 6/200] :\n"
     ]
    },
    {
     "name": "stderr",
     "output_type": "stream",
     "text": [
      "6 Train: 100%|███████| 372/372 [00:43<00:00,  8.53it/s]\n"
     ]
    },
    {
     "name": "stdout",
     "output_type": "stream",
     "text": [
      "Train Loss: 1.3690 | Train Acc: 50.71%\n",
      "Valid Loss: 1.3517 | Valid Acc: 51.56%\n",
      "Test  Loss: 1.1476 | Test Acc: 58.82%\n",
      "updated best eval loss : 1.3517017126083375\n",
      "--------------------------------------------------\n",
      "[Epoch 7/200] :\n"
     ]
    },
    {
     "name": "stderr",
     "output_type": "stream",
     "text": [
      "7 Train: 100%|███████| 372/372 [00:43<00:00,  8.55it/s]\n"
     ]
    },
    {
     "name": "stdout",
     "output_type": "stream",
     "text": [
      "Train Loss: 1.2245 | Train Acc: 56.70%\n",
      "Valid Loss: 1.3060 | Valid Acc: 54.04%\n",
      "Test  Loss: 1.1024 | Test Acc: 63.10%\n",
      "updated best eval loss : 1.306043803691864\n",
      "--------------------------------------------------\n",
      "[Epoch 8/200] :\n"
     ]
    },
    {
     "name": "stderr",
     "output_type": "stream",
     "text": [
      "8 Train: 100%|███████| 372/372 [00:43<00:00,  8.55it/s]\n"
     ]
    },
    {
     "name": "stdout",
     "output_type": "stream",
     "text": [
      "Train Loss: 1.1250 | Train Acc: 60.33%\n",
      "Valid Loss: 1.1294 | Valid Acc: 59.40%\n",
      "Test  Loss: 0.9145 | Test Acc: 68.69%\n",
      "updated best eval loss : 1.1293584287166596\n",
      "--------------------------------------------------\n",
      "[Epoch 9/200] :\n"
     ]
    },
    {
     "name": "stderr",
     "output_type": "stream",
     "text": [
      "9 Train:  39%|██▋    | 146/372 [00:17<00:25,  8.95it/s]"
     ]
    }
   ],
   "source": [
    "Training = DoTraining(\n",
    "    model=model,\n",
    "    criterion=criterion,\n",
    "    optimizer=optimizer,\n",
    "    scaler=scaler,\n",
    "    scheduler=scheduler,\n",
    "    earlystopper=earlystopper,\n",
    "    device=device,\n",
    "    logs=logs,\n",
    "    file_path=file_name,\n",
    ")\n",
    "pre_epochs = len(Training.logs[\"train_loss\"])\n",
    "\n",
    "\n",
    "for epoch in range(NUM_EPOCHS):\n",
    "    now = epoch + 1 + pre_epochs\n",
    "    print(f\"[Epoch {epoch+1+pre_epochs}/{NUM_EPOCHS}] :\")\n",
    "\n",
    "    if DATASET == \"ImageNet2012\":\n",
    "        eval_loss = Training.SingleEpoch(train_dataloader, valid_dataloader)\n",
    "    else:\n",
    "        eval_loss = Training.SingleEpoch(\n",
    "            train_dataloader, valid_dataloader, test_dataloader\n",
    "        )\n",
    "\n",
    "    Training.Save()\n",
    "\n",
    "    \n",
    "    \n",
    "    if earlystopper.check(eval_loss) == True:\n",
    "        break\n",
    "\n",
    "    print(\"-\" * 50)"
   ]
  },
  {
   "cell_type": "code",
   "execution_count": null,
   "metadata": {},
   "outputs": [],
   "source": [
    "view = LogViewer(logs)\n",
    "view.draw(title=file_name, save=True)"
   ]
  },
  {
   "cell_type": "code",
   "execution_count": null,
   "metadata": {},
   "outputs": [],
   "source": [
    "view.print_all()"
   ]
  }
 ],
 "metadata": {
  "kernelspec": {
   "display_name": "base",
   "language": "python",
   "name": "python3"
  },
  "language_info": {
   "codemirror_mode": {
    "name": "ipython",
    "version": 3
   },
   "file_extension": ".py",
   "mimetype": "text/x-python",
   "name": "python",
   "nbconvert_exporter": "python",
   "pygments_lexer": "ipython3",
   "version": "3.11.5"
  }
 },
 "nbformat": 4,
 "nbformat_minor": 2
}
