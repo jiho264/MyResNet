{
 "cells": [
  {
   "cell_type": "markdown",
   "metadata": {},
   "source": [
    "# Import"
   ]
  },
  {
   "cell_type": "code",
   "execution_count": 1,
   "metadata": {},
   "outputs": [],
   "source": [
    "import torch\n",
    "from torch import nn\n",
    "from torch.optim.lr_scheduler import ExponentialLR, MultiStepLR, ReduceLROnPlateau\n",
    "import sys, os\n",
    "\n",
    "sys.path.append(os.path.dirname(os.path.abspath(os.path.dirname(\"src\"))))\n",
    "\n",
    "from src.Mydataloader import LoadDataset\n",
    "from src.Mymodel import MyResNet_CIFAR\n",
    "from src.Mytraining import DoTraining\n",
    "from src.Earlystopper import EarlyStopper\n",
    "from src.LogViewer import LogViewer"
   ]
  },
  {
   "cell_type": "markdown",
   "metadata": {},
   "source": [
    "# Setup"
   ]
  },
  {
   "cell_type": "code",
   "execution_count": 2,
   "metadata": {},
   "outputs": [],
   "source": [
    "\"\"\"Dataset selection\"\"\"\n",
    "DATASET = \"CIFAR10\"\n",
    "# DATASET = \"CIFAR100\"\n",
    "# DATASET = \"ImageNet2012\"\n",
    "\n",
    "\"\"\"Dataset parameters\"\"\"\n",
    "BATCH = 128\n",
    "SHUFFLE = True\n",
    "NUMOFWORKERS = 8\n",
    "PIN_MEMORY = True\n",
    "SPLIT_RATIO = 0.95\n",
    "\n",
    "\"\"\"optimizer parameters\"\"\"\n",
    "# OPTIMIZER = \"Adam\"\n",
    "# OPTIMIZER = \"Adam_decay\"\n",
    "OPTIMIZER = \"SGD\"\n",
    "# OPTIMIZER = \"SGD_nasterov\"\n",
    "# OPTIMIZER = \"AdamW\"\n",
    "# OPTIMIZER = \"AdamW_amsgrad\"\n",
    "# OPTIMIZER = \"NAdam\"\n",
    "\n",
    "\"\"\"Learning rate scheduler parameters\"\"\"\n",
    "NUM_EPOCHS = 200\n",
    "\n",
    "\"\"\"Early stopping parameters\"\"\"\n",
    "EARLYSTOPPINGPATIENCE = 50\n",
    "\n",
    "file_name = f\"MyResNet32_{BATCH}_{OPTIMIZER}\""
   ]
  },
  {
   "cell_type": "code",
   "execution_count": 3,
   "metadata": {},
   "outputs": [
    {
     "data": {
      "text/plain": [
       "'MyResNet32_128_SGD'"
      ]
     },
     "execution_count": 3,
     "metadata": {},
     "output_type": "execute_result"
    }
   ],
   "source": [
    "file_name"
   ]
  },
  {
   "cell_type": "markdown",
   "metadata": {},
   "source": [
    "# Loading the dataset"
   ]
  },
  {
   "cell_type": "markdown",
   "metadata": {},
   "source": [
    "## Define Dateloader"
   ]
  },
  {
   "cell_type": "code",
   "execution_count": 4,
   "metadata": {},
   "outputs": [
    {
     "name": "stdout",
     "output_type": "stream",
     "text": [
      "-----------------------------------------------------------------------\n",
      "Dataset :  CIFAR10\n",
      "- Length of Train Set :  47500\n",
      "- Length of Valid Set :  2500\n",
      "- Length of Test Set :  10000\n",
      "- Count of Classes :  10\n",
      "-----------------------------------------------------------------------\n"
     ]
    }
   ],
   "source": [
    "tmp = LoadDataset(root=\"../../data\", seceted_dataset=DATASET, split_ratio=SPLIT_RATIO)\n",
    "train_data, valid_data, test_data, COUNT_OF_CLASSES = tmp.Unpack()"
   ]
  },
  {
   "cell_type": "code",
   "execution_count": 5,
   "metadata": {},
   "outputs": [
    {
     "name": "stdout",
     "output_type": "stream",
     "text": [
      "train.transforms = Compose(\n",
      "      Compose(\n",
      "        ToImage()\n",
      "        ToDtype(scale=True)\n",
      "  )\n",
      "      Normalize(mean=[0.49139968, 0.48215827, 0.44653124], std=[1, 1, 1], inplace=True)\n",
      "      AutoAugment(interpolation=InterpolationMode.NEAREST, policy=AutoAugmentPolicy.CIFAR10)\n",
      "      RandomCrop(size=(32, 32), padding=[4, 4, 4, 4], pad_if_needed=False, fill=0, padding_mode=constant)\n",
      "      RandomHorizontalFlip(p=0.5)\n",
      ") 128\n",
      "valid.transforms = (Compose(\n",
      "      ToImage()\n",
      "      ToDtype(scale=True)\n",
      "),) 128\n",
      "test.transforms = Compose(\n",
      "      ToImage()\n",
      "      ToDtype(scale=True)\n",
      ") 128\n"
     ]
    }
   ],
   "source": [
    "train_dataloader, valid_dataloader, test_dataloader = tmp.get_dataloader(\n",
    "    batch_size=BATCH, shuffle=SHUFFLE, num_workers=NUMOFWORKERS, pin_memory=PIN_MEMORY\n",
    ")\n"
   ]
  },
  {
   "cell_type": "markdown",
   "metadata": {},
   "source": [
    "# Define ResNet"
   ]
  },
  {
   "cell_type": "markdown",
   "metadata": {},
   "source": [
    "## Model Confirm"
   ]
  },
  {
   "cell_type": "code",
   "execution_count": 6,
   "metadata": {},
   "outputs": [
    {
     "data": {
      "text/plain": [
       "device(type='cuda')"
      ]
     },
     "execution_count": 6,
     "metadata": {},
     "output_type": "execute_result"
    }
   ],
   "source": [
    "device = torch.device(\"cuda\" if torch.cuda.is_available() else \"cpu\")\n",
    "device"
   ]
  },
  {
   "cell_type": "code",
   "execution_count": 7,
   "metadata": {},
   "outputs": [],
   "source": [
    "model = MyResNet_CIFAR(num_classes=COUNT_OF_CLASSES, num_layer_factor=5).to(device)"
   ]
  },
  {
   "cell_type": "markdown",
   "metadata": {},
   "source": [
    "# Define Training"
   ]
  },
  {
   "cell_type": "markdown",
   "metadata": {},
   "source": [
    "## (1) Define Criterion"
   ]
  },
  {
   "cell_type": "code",
   "execution_count": 8,
   "metadata": {},
   "outputs": [],
   "source": [
    "criterion = nn.CrossEntropyLoss()"
   ]
  },
  {
   "cell_type": "markdown",
   "metadata": {},
   "source": [
    "## (2) Define Optimazer"
   ]
  },
  {
   "cell_type": "code",
   "execution_count": 9,
   "metadata": {},
   "outputs": [],
   "source": [
    "if OPTIMIZER == \"Adam\":\n",
    "    optimizer = torch.optim.Adam(model.parameters())\n",
    "elif OPTIMIZER == \"Adam_decay\":\n",
    "    optimizer = torch.optim.Adam(model.parameters(), weight_decay=1e-4)\n",
    "elif OPTIMIZER == \"SGD\":\n",
    "    optimizer = torch.optim.SGD(\n",
    "        model.parameters(), lr=0.1, momentum=0.9, weight_decay=0.0001\n",
    "    )\n",
    "elif OPTIMIZER == \"SGD_nasterov\":\n",
    "    optimizer = torch.optim.SGD(\n",
    "        model.parameters(), lr=0.1, momentum=0.9, weight_decay=1e-4, nesterov=True\n",
    "    )\n",
    "elif OPTIMIZER == \"AdamW\":\n",
    "    optimizer = torch.optim.AdamW(model.parameters(), weight_decay=1e-4)\n",
    "elif OPTIMIZER == \"AdamW_amsgrad\":\n",
    "    optimizer = torch.optim.AdamW(model.parameters(), weight_decay=1e-4, amsgrad=True)\n",
    "elif OPTIMIZER == \"NAdam\":\n",
    "    optimizer = torch.optim.NAdam(model.parameters(), weight_decay=1e-4)"
   ]
  },
  {
   "cell_type": "markdown",
   "metadata": {},
   "source": [
    "## (3) Define Early Stopping"
   ]
  },
  {
   "cell_type": "code",
   "execution_count": 10,
   "metadata": {},
   "outputs": [],
   "source": [
    "earlystopper = EarlyStopper(patience=EARLYSTOPPINGPATIENCE, model=model, file_name=file_name)"
   ]
  },
  {
   "cell_type": "markdown",
   "metadata": {},
   "source": [
    "## (4) Define Learning Rate schedualer"
   ]
  },
  {
   "cell_type": "code",
   "execution_count": 11,
   "metadata": {},
   "outputs": [
    {
     "data": {
      "text/plain": [
       "'\\n=======================================================\\nif batch = 256\\n=======================================================\\nnon-split [single epoch = 196 iter] : milestones = [164, 246]\\n- 1 ~ 164 epochs == 1 ~ 32k iter >> lr = 0.1\\n- 165~246 epochs == 32k ~ 48k iter >> lr = 0.01\\n- 247~328(?) epochs == 48k ~ 64k iter >> lr = 0.001\\n=======================================================\\nsplit to 45k/5k [single epoch = 176 iter]: milestones = [182, 273]\\n- 1~182 epochs == 1 ~ 32k iter >> lr = 0.1\\n- 182~273 epochs == 32k ~ 48k iter >> lr = 0.01\\n- 273~364(?) epochs == 48k ~ 64k iter >> lr = 0.001\\n=======================================================\\nif batch = 128\\n=======================================================\\nnon-split [signle epoch = 391 iter]: milestones = [82, 123]\\n- 1 ~ 82 epochs == 1 ~ 32k iter >> lr = 0.1\\n- 83~123 epochs == 32k ~ 48k iter >> lr = 0.01\\n- 124~(164) epochs == 48k ~ 64k iter >> lr = 0.001\\n=======================================================\\nsplit to 45k/5k [signle epoch = 352 iter]: milestones = [91, 137]\\n- 1~91 epochs == 1 ~ 32k iter >> lr = 0.1\\n- 92~137 epochs == 32k ~ 48k iter >> lr = 0.01\\n- 138~(183) epochs == 48k ~ 64k iter >> lr = 0.001\\n=======================================================\\n'"
      ]
     },
     "execution_count": 11,
     "metadata": {},
     "output_type": "execute_result"
    }
   ],
   "source": [
    "# scheduler = ExponentialLR(optimizer, gamma=0.95)\n",
    "# scheduler = MultiStepLR(optimizer, milestones=[82, 123], gamma=0.1)\n",
    "scheduler = ReduceLROnPlateau(optimizer=optimizer, patience=10, factor=0.1, cooldown=40)\n",
    "\"\"\"\n",
    "=======================================================\n",
    "if batch = 256\n",
    "=======================================================\n",
    "non-split [single epoch = 196 iter] : milestones = [164, 246]\n",
    "- 1 ~ 164 epochs == 1 ~ 32k iter >> lr = 0.1\n",
    "- 165~246 epochs == 32k ~ 48k iter >> lr = 0.01\n",
    "- 247~328(?) epochs == 48k ~ 64k iter >> lr = 0.001\n",
    "=======================================================\n",
    "split to 45k/5k [single epoch = 176 iter]: milestones = [182, 273]\n",
    "- 1~182 epochs == 1 ~ 32k iter >> lr = 0.1\n",
    "- 182~273 epochs == 32k ~ 48k iter >> lr = 0.01\n",
    "- 273~364(?) epochs == 48k ~ 64k iter >> lr = 0.001\n",
    "=======================================================\n",
    "if batch = 128\n",
    "=======================================================\n",
    "non-split [signle epoch = 391 iter]: milestones = [82, 123]\n",
    "- 1 ~ 82 epochs == 1 ~ 32k iter >> lr = 0.1\n",
    "- 83~123 epochs == 32k ~ 48k iter >> lr = 0.01\n",
    "- 124~(164) epochs == 48k ~ 64k iter >> lr = 0.001\n",
    "=======================================================\n",
    "split to 45k/5k [signle epoch = 352 iter]: milestones = [91, 137]\n",
    "- 1~91 epochs == 1 ~ 32k iter >> lr = 0.1\n",
    "- 92~137 epochs == 32k ~ 48k iter >> lr = 0.01\n",
    "- 138~(183) epochs == 48k ~ 64k iter >> lr = 0.001\n",
    "=======================================================\n",
    "\"\"\""
   ]
  },
  {
   "cell_type": "markdown",
   "metadata": {},
   "source": [
    "## (5) Define AMP scaler"
   ]
  },
  {
   "cell_type": "code",
   "execution_count": 12,
   "metadata": {},
   "outputs": [],
   "source": [
    "scaler = torch.cuda.amp.GradScaler(enabled=True)"
   ]
  },
  {
   "cell_type": "markdown",
   "metadata": {},
   "source": [
    "## Load before process"
   ]
  },
  {
   "cell_type": "code",
   "execution_count": 13,
   "metadata": {},
   "outputs": [
    {
     "name": "stdout",
     "output_type": "stream",
     "text": [
      "File does not exist. Created a new log.\n"
     ]
    }
   ],
   "source": [
    "if os.path.exists(file_name + \".pth.tar\"):\n",
    "    # Read checkpoint as desired, e.g.,\n",
    "    checkpoint = torch.load(\n",
    "        file_name + \".pth.tar\",\n",
    "        map_location=lambda storage, loc: storage.cuda(device),\n",
    "    )\n",
    "    model.load_state_dict(checkpoint[\"model\"])\n",
    "    optimizer.load_state_dict(checkpoint[\"optimizer\"])\n",
    "    scaler.load_state_dict(checkpoint[\"scaler\"])\n",
    "    scheduler.load_state_dict(checkpoint[\"scheduler\"])\n",
    "    earlystopper.load_state_dict(checkpoint[\"earlystopper\"])\n",
    "    logs = checkpoint[\"logs\"]\n",
    "\n",
    "    print(\"Suceessfully loaded the All setting and Log file.\")\n",
    "    print(file_name)\n",
    "    print(f\"Current epoch is {len(logs['train_loss'])}\")\n",
    "    print(f\"Current learning rate: {optimizer.param_groups[0]['lr']}\")\n",
    "else:\n",
    "    # Create a dictionary to store the variables\n",
    "    train_loss = []\n",
    "    train_acc = []\n",
    "    eval_loss = []\n",
    "    valid_acc = []\n",
    "    test_loss = []\n",
    "    test_acc = []\n",
    "    lr_log = []\n",
    "    logs = {\n",
    "        \"train_loss\": train_loss,\n",
    "        \"train_acc\": train_acc,\n",
    "        \"valid_loss\": eval_loss,\n",
    "        \"valid_acc\": valid_acc,\n",
    "        \"test_loss\": test_loss,\n",
    "        \"test_acc\": test_acc,\n",
    "        \"lr_log\": lr_log,\n",
    "    }\n",
    "    print(\"File does not exist. Created a new log.\")"
   ]
  },
  {
   "cell_type": "code",
   "execution_count": 14,
   "metadata": {},
   "outputs": [
    {
     "data": {
      "text/plain": [
       "0.1"
      ]
     },
     "execution_count": 14,
     "metadata": {},
     "output_type": "execute_result"
    }
   ],
   "source": [
    "optimizer.param_groups[0][\"lr\"]"
   ]
  },
  {
   "cell_type": "code",
   "execution_count": 15,
   "metadata": {},
   "outputs": [
    {
     "data": {
      "text/plain": [
       "0"
      ]
     },
     "execution_count": 15,
     "metadata": {},
     "output_type": "execute_result"
    }
   ],
   "source": [
    "earlystopper.early_stop_counter"
   ]
  },
  {
   "cell_type": "markdown",
   "metadata": {},
   "source": [
    "# [Training Loop]"
   ]
  },
  {
   "cell_type": "code",
   "execution_count": 16,
   "metadata": {},
   "outputs": [
    {
     "name": "stdout",
     "output_type": "stream",
     "text": [
      "[Epoch 1/200] :\n"
     ]
    },
    {
     "name": "stderr",
     "output_type": "stream",
     "text": [
      "1 Train: 100%|███████| 372/372 [00:46<00:00,  8.07it/s]"
     ]
    },
    {
     "name": "stdout",
     "output_type": "stream",
     "text": [
      "Train Loss: 2.4304 | Train Acc: 10.96%\n"
     ]
    },
    {
     "name": "stderr",
     "output_type": "stream",
     "text": [
      "\n"
     ]
    },
    {
     "name": "stdout",
     "output_type": "stream",
     "text": [
      "Valid Loss: 2.2978 | Valid Acc: 10.64%\n",
      "Test  Loss: 2.2966 | Test Acc: 10.55%\n",
      "updated best eval loss : 2.2978232383728026\n",
      "--------------------------------------------------\n",
      "[Epoch 2/200] :\n"
     ]
    },
    {
     "name": "stderr",
     "output_type": "stream",
     "text": [
      "2 Train: 100%|███████| 372/372 [00:43<00:00,  8.47it/s]\n"
     ]
    },
    {
     "name": "stdout",
     "output_type": "stream",
     "text": [
      "Train Loss: 2.1591 | Train Acc: 17.17%\n",
      "Valid Loss: 2.1131 | Valid Acc: 17.60%\n",
      "Test  Loss: 2.0202 | Test Acc: 19.29%\n",
      "updated best eval loss : 2.113135814666748\n",
      "--------------------------------------------------\n",
      "[Epoch 3/200] :\n"
     ]
    },
    {
     "name": "stderr",
     "output_type": "stream",
     "text": [
      "3 Train: 100%|███████| 372/372 [00:44<00:00,  8.34it/s]\n"
     ]
    },
    {
     "name": "stdout",
     "output_type": "stream",
     "text": [
      "Train Loss: 1.9527 | Train Acc: 26.52%\n",
      "Valid Loss: 2.0780 | Valid Acc: 25.16%\n",
      "Test  Loss: 2.0032 | Test Acc: 26.18%\n",
      "updated best eval loss : 2.0779769241809847\n",
      "--------------------------------------------------\n",
      "[Epoch 4/200] :\n"
     ]
    },
    {
     "name": "stderr",
     "output_type": "stream",
     "text": [
      "4 Train: 100%|███████| 372/372 [00:43<00:00,  8.59it/s]\n"
     ]
    },
    {
     "name": "stdout",
     "output_type": "stream",
     "text": [
      "Train Loss: 1.7488 | Train Acc: 35.54%\n",
      "Valid Loss: 1.8120 | Valid Acc: 34.24%\n",
      "Test  Loss: 1.6144 | Test Acc: 40.99%\n",
      "updated best eval loss : 1.8119832098484039\n",
      "--------------------------------------------------\n",
      "[Epoch 5/200] :\n"
     ]
    },
    {
     "name": "stderr",
     "output_type": "stream",
     "text": [
      "5 Train: 100%|███████| 372/372 [00:44<00:00,  8.38it/s]\n"
     ]
    },
    {
     "name": "stdout",
     "output_type": "stream",
     "text": [
      "Train Loss: 1.5424 | Train Acc: 43.84%\n",
      "Valid Loss: 1.5383 | Valid Acc: 46.04%\n",
      "Test  Loss: 1.2003 | Test Acc: 57.12%\n",
      "updated best eval loss : 1.5382500410079956\n",
      "--------------------------------------------------\n",
      "[Epoch 6/200] :\n"
     ]
    },
    {
     "name": "stderr",
     "output_type": "stream",
     "text": [
      "6 Train: 100%|███████| 372/372 [00:43<00:00,  8.53it/s]\n"
     ]
    },
    {
     "name": "stdout",
     "output_type": "stream",
     "text": [
      "Train Loss: 1.3690 | Train Acc: 50.71%\n",
      "Valid Loss: 1.3517 | Valid Acc: 51.56%\n",
      "Test  Loss: 1.1476 | Test Acc: 58.82%\n",
      "updated best eval loss : 1.3517017126083375\n",
      "--------------------------------------------------\n",
      "[Epoch 7/200] :\n"
     ]
    },
    {
     "name": "stderr",
     "output_type": "stream",
     "text": [
      "7 Train: 100%|███████| 372/372 [00:43<00:00,  8.55it/s]\n"
     ]
    },
    {
     "name": "stdout",
     "output_type": "stream",
     "text": [
      "Train Loss: 1.2245 | Train Acc: 56.70%\n",
      "Valid Loss: 1.3060 | Valid Acc: 54.04%\n",
      "Test  Loss: 1.1024 | Test Acc: 63.10%\n",
      "updated best eval loss : 1.306043803691864\n",
      "--------------------------------------------------\n",
      "[Epoch 8/200] :\n"
     ]
    },
    {
     "name": "stderr",
     "output_type": "stream",
     "text": [
      "8 Train: 100%|███████| 372/372 [00:43<00:00,  8.55it/s]\n"
     ]
    },
    {
     "name": "stdout",
     "output_type": "stream",
     "text": [
      "Train Loss: 1.1250 | Train Acc: 60.33%\n",
      "Valid Loss: 1.1294 | Valid Acc: 59.40%\n",
      "Test  Loss: 0.9145 | Test Acc: 68.69%\n",
      "updated best eval loss : 1.1293584287166596\n",
      "--------------------------------------------------\n",
      "[Epoch 9/200] :\n"
     ]
    },
    {
     "name": "stderr",
     "output_type": "stream",
     "text": [
      "9 Train: 100%|███████| 372/372 [00:44<00:00,  8.37it/s]\n"
     ]
    },
    {
     "name": "stdout",
     "output_type": "stream",
     "text": [
      "Train Loss: 1.0579 | Train Acc: 62.94%\n",
      "Valid Loss: 1.1073 | Valid Acc: 61.92%\n",
      "Test  Loss: 0.8243 | Test Acc: 71.44%\n",
      "updated best eval loss : 1.1073096334934234\n",
      "--------------------------------------------------\n",
      "[Epoch 10/200] :\n"
     ]
    },
    {
     "name": "stderr",
     "output_type": "stream",
     "text": [
      "10 Train: 100%|██████| 372/372 [00:42<00:00,  8.66it/s]\n"
     ]
    },
    {
     "name": "stdout",
     "output_type": "stream",
     "text": [
      "Train Loss: 1.0204 | Train Acc: 64.11%\n",
      "Valid Loss: 1.0332 | Valid Acc: 63.76%\n",
      "Test  Loss: 0.7336 | Test Acc: 74.51%\n",
      "updated best eval loss : 1.03320714533329\n",
      "--------------------------------------------------\n",
      "[Epoch 11/200] :\n"
     ]
    },
    {
     "name": "stderr",
     "output_type": "stream",
     "text": [
      "11 Train: 100%|██████| 372/372 [00:43<00:00,  8.65it/s]\n"
     ]
    },
    {
     "name": "stdout",
     "output_type": "stream",
     "text": [
      "Train Loss: 0.9692 | Train Acc: 66.11%\n",
      "Valid Loss: 1.1835 | Valid Acc: 60.92%\n",
      "Test  Loss: 1.0807 | Test Acc: 65.21%\n",
      "--------------------------------------------------\n",
      "[Epoch 12/200] :\n"
     ]
    },
    {
     "name": "stderr",
     "output_type": "stream",
     "text": [
      "12 Train: 100%|██████| 372/372 [00:44<00:00,  8.33it/s]\n"
     ]
    },
    {
     "name": "stdout",
     "output_type": "stream",
     "text": [
      "Train Loss: 0.9312 | Train Acc: 67.45%\n",
      "Valid Loss: 1.0265 | Valid Acc: 64.00%\n",
      "Test  Loss: 0.7612 | Test Acc: 74.40%\n",
      "updated best eval loss : 1.0264923572540283\n",
      "--------------------------------------------------\n",
      "[Epoch 13/200] :\n"
     ]
    },
    {
     "name": "stderr",
     "output_type": "stream",
     "text": [
      "13 Train: 100%|██████| 372/372 [00:44<00:00,  8.41it/s]\n"
     ]
    },
    {
     "name": "stdout",
     "output_type": "stream",
     "text": [
      "Train Loss: 0.9097 | Train Acc: 68.35%\n",
      "Valid Loss: 1.0807 | Valid Acc: 64.16%\n",
      "Test  Loss: 0.7814 | Test Acc: 74.01%\n",
      "--------------------------------------------------\n",
      "[Epoch 14/200] :\n"
     ]
    },
    {
     "name": "stderr",
     "output_type": "stream",
     "text": [
      "14 Train: 100%|██████| 372/372 [00:43<00:00,  8.53it/s]\n"
     ]
    },
    {
     "name": "stdout",
     "output_type": "stream",
     "text": [
      "Train Loss: 0.9018 | Train Acc: 68.34%\n",
      "Valid Loss: 0.9514 | Valid Acc: 66.32%\n",
      "Test  Loss: 0.6514 | Test Acc: 76.76%\n",
      "updated best eval loss : 0.9514444082975387\n",
      "--------------------------------------------------\n",
      "[Epoch 15/200] :\n"
     ]
    },
    {
     "name": "stderr",
     "output_type": "stream",
     "text": [
      "15 Train: 100%|██████| 372/372 [00:42<00:00,  8.69it/s]\n"
     ]
    },
    {
     "name": "stdout",
     "output_type": "stream",
     "text": [
      "Train Loss: 0.8593 | Train Acc: 69.87%\n",
      "Valid Loss: 0.9752 | Valid Acc: 66.60%\n",
      "Test  Loss: 0.7146 | Test Acc: 76.30%\n",
      "--------------------------------------------------\n",
      "[Epoch 16/200] :\n"
     ]
    },
    {
     "name": "stderr",
     "output_type": "stream",
     "text": [
      "16 Train: 100%|██████| 372/372 [00:43<00:00,  8.62it/s]\n"
     ]
    },
    {
     "name": "stdout",
     "output_type": "stream",
     "text": [
      "Train Loss: 0.8485 | Train Acc: 70.31%\n",
      "Valid Loss: 0.8904 | Valid Acc: 69.12%\n",
      "Test  Loss: 0.6216 | Test Acc: 78.77%\n",
      "updated best eval loss : 0.8903704732656479\n",
      "--------------------------------------------------\n",
      "[Epoch 17/200] :\n"
     ]
    },
    {
     "name": "stderr",
     "output_type": "stream",
     "text": [
      "17 Train: 100%|██████| 372/372 [00:43<00:00,  8.58it/s]\n"
     ]
    },
    {
     "name": "stdout",
     "output_type": "stream",
     "text": [
      "Train Loss: 0.8271 | Train Acc: 71.03%\n",
      "Valid Loss: 0.9228 | Valid Acc: 68.56%\n",
      "Test  Loss: 0.6569 | Test Acc: 77.96%\n",
      "--------------------------------------------------\n",
      "[Epoch 18/200] :\n"
     ]
    },
    {
     "name": "stderr",
     "output_type": "stream",
     "text": [
      "18 Train: 100%|██████| 372/372 [00:43<00:00,  8.65it/s]\n"
     ]
    },
    {
     "name": "stdout",
     "output_type": "stream",
     "text": [
      "Train Loss: 0.8193 | Train Acc: 71.59%\n",
      "Valid Loss: 0.9301 | Valid Acc: 68.48%\n",
      "Test  Loss: 0.6272 | Test Acc: 78.42%\n",
      "--------------------------------------------------\n",
      "[Epoch 19/200] :\n"
     ]
    },
    {
     "name": "stderr",
     "output_type": "stream",
     "text": [
      "19 Train: 100%|██████| 372/372 [00:43<00:00,  8.63it/s]\n"
     ]
    },
    {
     "name": "stdout",
     "output_type": "stream",
     "text": [
      "Train Loss: 0.7954 | Train Acc: 72.01%\n",
      "Valid Loss: 1.0479 | Valid Acc: 65.60%\n",
      "Test  Loss: 0.6373 | Test Acc: 78.53%\n",
      "--------------------------------------------------\n",
      "[Epoch 20/200] :\n"
     ]
    },
    {
     "name": "stderr",
     "output_type": "stream",
     "text": [
      "20 Train: 100%|██████| 372/372 [00:42<00:00,  8.74it/s]\n"
     ]
    },
    {
     "name": "stdout",
     "output_type": "stream",
     "text": [
      "Train Loss: 0.7944 | Train Acc: 72.45%\n",
      "Valid Loss: 0.8655 | Valid Acc: 70.80%\n",
      "Test  Loss: 0.6882 | Test Acc: 76.59%\n",
      "updated best eval loss : 0.8655394554138184\n",
      "--------------------------------------------------\n",
      "[Epoch 21/200] :\n"
     ]
    },
    {
     "name": "stderr",
     "output_type": "stream",
     "text": [
      "21 Train: 100%|██████| 372/372 [00:43<00:00,  8.53it/s]\n"
     ]
    },
    {
     "name": "stdout",
     "output_type": "stream",
     "text": [
      "Train Loss: 0.7709 | Train Acc: 72.89%\n",
      "Valid Loss: 0.9635 | Valid Acc: 66.00%\n",
      "Test  Loss: 0.6437 | Test Acc: 78.61%\n",
      "--------------------------------------------------\n",
      "[Epoch 22/200] :\n"
     ]
    },
    {
     "name": "stderr",
     "output_type": "stream",
     "text": [
      "22 Train: 100%|██████| 372/372 [00:44<00:00,  8.33it/s]\n"
     ]
    },
    {
     "name": "stdout",
     "output_type": "stream",
     "text": [
      "Train Loss: 0.7696 | Train Acc: 73.17%\n",
      "Valid Loss: 0.8684 | Valid Acc: 70.68%\n",
      "Test  Loss: 0.6161 | Test Acc: 79.02%\n",
      "--------------------------------------------------\n",
      "[Epoch 23/200] :\n"
     ]
    },
    {
     "name": "stderr",
     "output_type": "stream",
     "text": [
      "23 Train: 100%|██████| 372/372 [00:42<00:00,  8.67it/s]\n"
     ]
    },
    {
     "name": "stdout",
     "output_type": "stream",
     "text": [
      "Train Loss: 0.7557 | Train Acc: 73.70%\n",
      "Valid Loss: 0.8007 | Valid Acc: 71.84%\n",
      "Test  Loss: 0.5640 | Test Acc: 81.09%\n",
      "updated best eval loss : 0.8007064491510392\n",
      "--------------------------------------------------\n",
      "[Epoch 24/200] :\n"
     ]
    },
    {
     "name": "stderr",
     "output_type": "stream",
     "text": [
      "24 Train: 100%|██████| 372/372 [00:43<00:00,  8.60it/s]\n"
     ]
    },
    {
     "name": "stdout",
     "output_type": "stream",
     "text": [
      "Train Loss: 0.7480 | Train Acc: 73.91%\n",
      "Valid Loss: 0.8219 | Valid Acc: 72.12%\n",
      "Test  Loss: 0.5119 | Test Acc: 82.73%\n",
      "--------------------------------------------------\n",
      "[Epoch 25/200] :\n"
     ]
    },
    {
     "name": "stderr",
     "output_type": "stream",
     "text": [
      "25 Train: 100%|██████| 372/372 [00:42<00:00,  8.74it/s]\n"
     ]
    },
    {
     "name": "stdout",
     "output_type": "stream",
     "text": [
      "Train Loss: 0.7393 | Train Acc: 74.16%\n",
      "Valid Loss: 0.9292 | Valid Acc: 68.72%\n",
      "Test  Loss: 0.7397 | Test Acc: 76.67%\n",
      "--------------------------------------------------\n",
      "[Epoch 26/200] :\n"
     ]
    },
    {
     "name": "stderr",
     "output_type": "stream",
     "text": [
      "26 Train: 100%|██████| 372/372 [00:43<00:00,  8.61it/s]\n"
     ]
    },
    {
     "name": "stdout",
     "output_type": "stream",
     "text": [
      "Train Loss: 0.7308 | Train Acc: 74.61%\n",
      "Valid Loss: 0.7926 | Valid Acc: 72.68%\n",
      "Test  Loss: 0.4826 | Test Acc: 83.34%\n",
      "updated best eval loss : 0.7926132678985596\n",
      "--------------------------------------------------\n",
      "[Epoch 27/200] :\n"
     ]
    },
    {
     "name": "stderr",
     "output_type": "stream",
     "text": [
      "27 Train: 100%|██████| 372/372 [00:42<00:00,  8.71it/s]\n"
     ]
    },
    {
     "name": "stdout",
     "output_type": "stream",
     "text": [
      "Train Loss: 0.7155 | Train Acc: 75.08%\n",
      "Valid Loss: 0.7511 | Valid Acc: 74.04%\n",
      "Test  Loss: 0.5309 | Test Acc: 82.33%\n",
      "updated best eval loss : 0.751126366853714\n",
      "--------------------------------------------------\n",
      "[Epoch 28/200] :\n"
     ]
    },
    {
     "name": "stderr",
     "output_type": "stream",
     "text": [
      "28 Train: 100%|██████| 372/372 [00:43<00:00,  8.59it/s]\n"
     ]
    },
    {
     "name": "stdout",
     "output_type": "stream",
     "text": [
      "Train Loss: 0.7227 | Train Acc: 74.81%\n",
      "Valid Loss: 0.8390 | Valid Acc: 70.92%\n",
      "Test  Loss: 0.6043 | Test Acc: 79.72%\n",
      "--------------------------------------------------\n",
      "[Epoch 29/200] :\n"
     ]
    },
    {
     "name": "stderr",
     "output_type": "stream",
     "text": [
      "29 Train: 100%|██████| 372/372 [00:43<00:00,  8.58it/s]\n"
     ]
    },
    {
     "name": "stdout",
     "output_type": "stream",
     "text": [
      "Train Loss: 0.7073 | Train Acc: 75.06%\n",
      "Valid Loss: 0.7856 | Valid Acc: 72.16%\n",
      "Test  Loss: 0.5165 | Test Acc: 82.22%\n",
      "--------------------------------------------------\n",
      "[Epoch 30/200] :\n"
     ]
    },
    {
     "name": "stderr",
     "output_type": "stream",
     "text": [
      "30 Train: 100%|██████| 372/372 [00:46<00:00,  7.98it/s]\n"
     ]
    },
    {
     "name": "stdout",
     "output_type": "stream",
     "text": [
      "Train Loss: 0.6987 | Train Acc: 75.63%\n",
      "Valid Loss: 0.7650 | Valid Acc: 72.68%\n",
      "Test  Loss: 0.5169 | Test Acc: 81.89%\n",
      "--------------------------------------------------\n",
      "[Epoch 31/200] :\n"
     ]
    },
    {
     "name": "stderr",
     "output_type": "stream",
     "text": [
      "31 Train: 100%|██████| 372/372 [00:45<00:00,  8.27it/s]\n"
     ]
    },
    {
     "name": "stdout",
     "output_type": "stream",
     "text": [
      "Train Loss: 0.6910 | Train Acc: 75.69%\n",
      "Valid Loss: 0.8005 | Valid Acc: 72.76%\n",
      "Test  Loss: 0.5811 | Test Acc: 80.64%\n",
      "--------------------------------------------------\n",
      "[Epoch 32/200] :\n"
     ]
    },
    {
     "name": "stderr",
     "output_type": "stream",
     "text": [
      "32 Train: 100%|██████| 372/372 [00:43<00:00,  8.52it/s]\n"
     ]
    },
    {
     "name": "stdout",
     "output_type": "stream",
     "text": [
      "Train Loss: 0.6918 | Train Acc: 75.77%\n",
      "Valid Loss: 0.7736 | Valid Acc: 72.16%\n",
      "Test  Loss: 0.5154 | Test Acc: 82.59%\n",
      "--------------------------------------------------\n",
      "[Epoch 33/200] :\n"
     ]
    },
    {
     "name": "stderr",
     "output_type": "stream",
     "text": [
      "33 Train: 100%|██████| 372/372 [00:45<00:00,  8.10it/s]\n"
     ]
    },
    {
     "name": "stdout",
     "output_type": "stream",
     "text": [
      "Train Loss: 0.6834 | Train Acc: 76.16%\n",
      "Valid Loss: 0.8558 | Valid Acc: 70.68%\n",
      "Test  Loss: 0.6002 | Test Acc: 80.14%\n",
      "--------------------------------------------------\n",
      "[Epoch 34/200] :\n"
     ]
    },
    {
     "name": "stderr",
     "output_type": "stream",
     "text": [
      "34 Train: 100%|██████| 372/372 [00:47<00:00,  7.75it/s]\n"
     ]
    },
    {
     "name": "stdout",
     "output_type": "stream",
     "text": [
      "Train Loss: 0.6845 | Train Acc: 76.23%\n",
      "Valid Loss: 0.8473 | Valid Acc: 71.92%\n",
      "Test  Loss: 0.5794 | Test Acc: 81.24%\n",
      "--------------------------------------------------\n",
      "[Epoch 35/200] :\n"
     ]
    },
    {
     "name": "stderr",
     "output_type": "stream",
     "text": [
      "35 Train: 100%|██████| 372/372 [00:46<00:00,  7.99it/s]\n"
     ]
    },
    {
     "name": "stdout",
     "output_type": "stream",
     "text": [
      "Train Loss: 0.6739 | Train Acc: 76.56%\n",
      "Valid Loss: 0.7583 | Valid Acc: 73.32%\n",
      "Test  Loss: 0.4810 | Test Acc: 82.77%\n",
      "--------------------------------------------------\n",
      "[Epoch 36/200] :\n"
     ]
    },
    {
     "name": "stderr",
     "output_type": "stream",
     "text": [
      "36 Train: 100%|██████| 372/372 [00:45<00:00,  8.15it/s]\n"
     ]
    },
    {
     "name": "stdout",
     "output_type": "stream",
     "text": [
      "Train Loss: 0.6779 | Train Acc: 76.36%\n",
      "Valid Loss: 0.7417 | Valid Acc: 75.00%\n",
      "Test  Loss: 0.4822 | Test Acc: 83.47%\n",
      "updated best eval loss : 0.7417040169239044\n",
      "--------------------------------------------------\n",
      "[Epoch 37/200] :\n"
     ]
    },
    {
     "name": "stderr",
     "output_type": "stream",
     "text": [
      "37 Train: 100%|██████| 372/372 [00:44<00:00,  8.45it/s]\n"
     ]
    },
    {
     "name": "stdout",
     "output_type": "stream",
     "text": [
      "Train Loss: 0.6705 | Train Acc: 76.66%\n",
      "Valid Loss: 0.7485 | Valid Acc: 73.88%\n",
      "Test  Loss: 0.5022 | Test Acc: 82.95%\n",
      "--------------------------------------------------\n",
      "[Epoch 38/200] :\n"
     ]
    },
    {
     "name": "stderr",
     "output_type": "stream",
     "text": [
      "38 Train: 100%|██████| 372/372 [00:45<00:00,  8.23it/s]\n"
     ]
    },
    {
     "name": "stdout",
     "output_type": "stream",
     "text": [
      "Train Loss: 0.6687 | Train Acc: 76.47%\n",
      "Valid Loss: 0.7389 | Valid Acc: 74.00%\n",
      "Test  Loss: 0.4583 | Test Acc: 84.47%\n",
      "updated best eval loss : 0.7388627231121063\n",
      "--------------------------------------------------\n",
      "[Epoch 39/200] :\n"
     ]
    },
    {
     "name": "stderr",
     "output_type": "stream",
     "text": [
      "39 Train: 100%|██████| 372/372 [00:44<00:00,  8.32it/s]\n"
     ]
    },
    {
     "name": "stdout",
     "output_type": "stream",
     "text": [
      "Train Loss: 0.6529 | Train Acc: 77.36%\n",
      "Valid Loss: 0.8617 | Valid Acc: 70.80%\n",
      "Test  Loss: 0.6114 | Test Acc: 79.55%\n",
      "--------------------------------------------------\n",
      "[Epoch 40/200] :\n"
     ]
    },
    {
     "name": "stderr",
     "output_type": "stream",
     "text": [
      "40 Train: 100%|██████| 372/372 [00:42<00:00,  8.73it/s]\n"
     ]
    },
    {
     "name": "stdout",
     "output_type": "stream",
     "text": [
      "Train Loss: 0.6632 | Train Acc: 76.75%\n",
      "Valid Loss: 0.7861 | Valid Acc: 72.92%\n",
      "Test  Loss: 0.4787 | Test Acc: 83.47%\n",
      "--------------------------------------------------\n",
      "[Epoch 41/200] :\n"
     ]
    },
    {
     "name": "stderr",
     "output_type": "stream",
     "text": [
      "41 Train: 100%|██████| 372/372 [00:42<00:00,  8.69it/s]\n"
     ]
    },
    {
     "name": "stdout",
     "output_type": "stream",
     "text": [
      "Train Loss: 0.6538 | Train Acc: 77.14%\n",
      "Valid Loss: 0.8253 | Valid Acc: 71.24%\n",
      "Test  Loss: 0.5691 | Test Acc: 80.94%\n",
      "--------------------------------------------------\n",
      "[Epoch 42/200] :\n"
     ]
    },
    {
     "name": "stderr",
     "output_type": "stream",
     "text": [
      "42 Train: 100%|██████| 372/372 [00:43<00:00,  8.63it/s]\n"
     ]
    },
    {
     "name": "stdout",
     "output_type": "stream",
     "text": [
      "Train Loss: 0.6531 | Train Acc: 77.32%\n",
      "Valid Loss: 0.7814 | Valid Acc: 73.00%\n",
      "Test  Loss: 0.5228 | Test Acc: 82.18%\n",
      "--------------------------------------------------\n",
      "[Epoch 43/200] :\n"
     ]
    },
    {
     "name": "stderr",
     "output_type": "stream",
     "text": [
      "43 Train: 100%|██████| 372/372 [00:43<00:00,  8.61it/s]\n"
     ]
    },
    {
     "name": "stdout",
     "output_type": "stream",
     "text": [
      "Train Loss: 0.6619 | Train Acc: 77.08%\n",
      "Valid Loss: 0.7375 | Valid Acc: 75.08%\n",
      "Test  Loss: 0.5014 | Test Acc: 82.90%\n",
      "updated best eval loss : 0.7375152856111526\n",
      "--------------------------------------------------\n",
      "[Epoch 44/200] :\n"
     ]
    },
    {
     "name": "stderr",
     "output_type": "stream",
     "text": [
      "44 Train: 100%|██████| 372/372 [00:41<00:00,  9.02it/s]\n"
     ]
    },
    {
     "name": "stdout",
     "output_type": "stream",
     "text": [
      "Train Loss: 0.6431 | Train Acc: 77.58%\n",
      "Valid Loss: 0.7638 | Valid Acc: 73.40%\n",
      "Test  Loss: 0.5215 | Test Acc: 82.54%\n",
      "--------------------------------------------------\n",
      "[Epoch 45/200] :\n"
     ]
    },
    {
     "name": "stderr",
     "output_type": "stream",
     "text": [
      "45 Train: 100%|██████| 372/372 [00:32<00:00, 11.31it/s]\n"
     ]
    },
    {
     "name": "stdout",
     "output_type": "stream",
     "text": [
      "Train Loss: 0.6480 | Train Acc: 77.53%\n",
      "Valid Loss: 0.7689 | Valid Acc: 73.64%\n",
      "Test  Loss: 0.4796 | Test Acc: 83.81%\n",
      "--------------------------------------------------\n",
      "[Epoch 46/200] :\n"
     ]
    },
    {
     "name": "stderr",
     "output_type": "stream",
     "text": [
      "46 Train: 100%|██████| 372/372 [00:33<00:00, 11.23it/s]\n"
     ]
    },
    {
     "name": "stdout",
     "output_type": "stream",
     "text": [
      "Train Loss: 0.6402 | Train Acc: 77.57%\n",
      "Valid Loss: 0.8252 | Valid Acc: 71.92%\n",
      "Test  Loss: 0.5231 | Test Acc: 82.81%\n",
      "--------------------------------------------------\n",
      "[Epoch 47/200] :\n"
     ]
    },
    {
     "name": "stderr",
     "output_type": "stream",
     "text": [
      "47 Train: 100%|██████| 372/372 [00:32<00:00, 11.33it/s]\n"
     ]
    },
    {
     "name": "stdout",
     "output_type": "stream",
     "text": [
      "Train Loss: 0.6301 | Train Acc: 78.10%\n",
      "Valid Loss: 0.7991 | Valid Acc: 72.92%\n",
      "Test  Loss: 0.5135 | Test Acc: 82.73%\n",
      "--------------------------------------------------\n",
      "[Epoch 48/200] :\n"
     ]
    },
    {
     "name": "stderr",
     "output_type": "stream",
     "text": [
      "48 Train: 100%|██████| 372/372 [00:32<00:00, 11.29it/s]\n"
     ]
    },
    {
     "name": "stdout",
     "output_type": "stream",
     "text": [
      "Train Loss: 0.6398 | Train Acc: 77.77%\n",
      "Valid Loss: 0.7157 | Valid Acc: 75.36%\n",
      "Test  Loss: 0.5184 | Test Acc: 82.60%\n",
      "updated best eval loss : 0.7156756818294525\n",
      "--------------------------------------------------\n",
      "[Epoch 49/200] :\n"
     ]
    },
    {
     "name": "stderr",
     "output_type": "stream",
     "text": [
      "49 Train: 100%|██████| 372/372 [00:33<00:00, 11.27it/s]\n"
     ]
    },
    {
     "name": "stdout",
     "output_type": "stream",
     "text": [
      "Train Loss: 0.6362 | Train Acc: 77.95%\n",
      "Valid Loss: 0.8138 | Valid Acc: 72.84%\n",
      "Test  Loss: 0.5111 | Test Acc: 82.84%\n",
      "--------------------------------------------------\n",
      "[Epoch 50/200] :\n"
     ]
    },
    {
     "name": "stderr",
     "output_type": "stream",
     "text": [
      "50 Train: 100%|██████| 372/372 [00:33<00:00, 11.26it/s]\n"
     ]
    },
    {
     "name": "stdout",
     "output_type": "stream",
     "text": [
      "Train Loss: 0.6374 | Train Acc: 77.89%\n",
      "Valid Loss: 0.8341 | Valid Acc: 71.08%\n",
      "Test  Loss: 0.6000 | Test Acc: 79.97%\n",
      "--------------------------------------------------\n",
      "[Epoch 51/200] :\n"
     ]
    },
    {
     "name": "stderr",
     "output_type": "stream",
     "text": [
      "51 Train: 100%|██████| 372/372 [00:33<00:00, 11.25it/s]\n"
     ]
    },
    {
     "name": "stdout",
     "output_type": "stream",
     "text": [
      "Train Loss: 0.6383 | Train Acc: 77.83%\n",
      "Valid Loss: 0.7012 | Valid Acc: 75.76%\n",
      "Test  Loss: 0.4353 | Test Acc: 85.45%\n",
      "updated best eval loss : 0.7012431412935257\n",
      "--------------------------------------------------\n",
      "[Epoch 52/200] :\n"
     ]
    },
    {
     "name": "stderr",
     "output_type": "stream",
     "text": [
      "52 Train: 100%|██████| 372/372 [00:32<00:00, 11.38it/s]\n"
     ]
    },
    {
     "name": "stdout",
     "output_type": "stream",
     "text": [
      "Train Loss: 0.6263 | Train Acc: 78.03%\n",
      "Valid Loss: 0.6574 | Valid Acc: 76.64%\n",
      "Test  Loss: 0.3879 | Test Acc: 86.39%\n",
      "updated best eval loss : 0.6573980629444123\n",
      "--------------------------------------------------\n",
      "[Epoch 53/200] :\n"
     ]
    },
    {
     "name": "stderr",
     "output_type": "stream",
     "text": [
      "53 Train: 100%|██████| 372/372 [00:33<00:00, 11.23it/s]\n"
     ]
    },
    {
     "name": "stdout",
     "output_type": "stream",
     "text": [
      "Train Loss: 0.6108 | Train Acc: 78.51%\n",
      "Valid Loss: 0.8386 | Valid Acc: 72.20%\n",
      "Test  Loss: 0.5379 | Test Acc: 82.03%\n",
      "--------------------------------------------------\n",
      "[Epoch 54/200] :\n"
     ]
    },
    {
     "name": "stderr",
     "output_type": "stream",
     "text": [
      "54 Train: 100%|██████| 372/372 [00:33<00:00, 11.22it/s]\n"
     ]
    },
    {
     "name": "stdout",
     "output_type": "stream",
     "text": [
      "Train Loss: 0.6107 | Train Acc: 78.87%\n",
      "Valid Loss: 0.8065 | Valid Acc: 73.16%\n",
      "Test  Loss: 0.5468 | Test Acc: 82.00%\n",
      "--------------------------------------------------\n",
      "[Epoch 55/200] :\n"
     ]
    },
    {
     "name": "stderr",
     "output_type": "stream",
     "text": [
      "55 Train: 100%|██████| 372/372 [00:33<00:00, 11.21it/s]\n"
     ]
    },
    {
     "name": "stdout",
     "output_type": "stream",
     "text": [
      "Train Loss: 0.6196 | Train Acc: 78.56%\n",
      "Valid Loss: 0.7266 | Valid Acc: 74.16%\n",
      "Test  Loss: 0.4916 | Test Acc: 83.29%\n",
      "--------------------------------------------------\n",
      "[Epoch 56/200] :\n"
     ]
    },
    {
     "name": "stderr",
     "output_type": "stream",
     "text": [
      "56 Train: 100%|██████| 372/372 [00:32<00:00, 11.31it/s]\n"
     ]
    },
    {
     "name": "stdout",
     "output_type": "stream",
     "text": [
      "Train Loss: 0.6209 | Train Acc: 78.48%\n",
      "Valid Loss: 0.8640 | Valid Acc: 70.08%\n",
      "Test  Loss: 0.6354 | Test Acc: 78.72%\n",
      "--------------------------------------------------\n",
      "[Epoch 57/200] :\n"
     ]
    },
    {
     "name": "stderr",
     "output_type": "stream",
     "text": [
      "57 Train: 100%|██████| 372/372 [00:32<00:00, 11.40it/s]\n"
     ]
    },
    {
     "name": "stdout",
     "output_type": "stream",
     "text": [
      "Train Loss: 0.6163 | Train Acc: 78.56%\n",
      "Valid Loss: 0.7213 | Valid Acc: 75.92%\n",
      "Test  Loss: 0.4763 | Test Acc: 84.22%\n",
      "--------------------------------------------------\n",
      "[Epoch 58/200] :\n"
     ]
    },
    {
     "name": "stderr",
     "output_type": "stream",
     "text": [
      "58 Train: 100%|██████| 372/372 [00:32<00:00, 11.35it/s]\n"
     ]
    },
    {
     "name": "stdout",
     "output_type": "stream",
     "text": [
      "Train Loss: 0.6168 | Train Acc: 78.40%\n",
      "Valid Loss: 0.9163 | Valid Acc: 69.20%\n",
      "Test  Loss: 0.6504 | Test Acc: 79.25%\n",
      "--------------------------------------------------\n",
      "[Epoch 59/200] :\n"
     ]
    },
    {
     "name": "stderr",
     "output_type": "stream",
     "text": [
      "59 Train: 100%|██████| 372/372 [00:32<00:00, 11.29it/s]\n"
     ]
    },
    {
     "name": "stdout",
     "output_type": "stream",
     "text": [
      "Train Loss: 0.6001 | Train Acc: 79.25%\n",
      "Valid Loss: 0.7332 | Valid Acc: 74.32%\n",
      "Test  Loss: 0.4587 | Test Acc: 84.57%\n",
      "--------------------------------------------------\n",
      "[Epoch 60/200] :\n"
     ]
    },
    {
     "name": "stderr",
     "output_type": "stream",
     "text": [
      "60 Train: 100%|██████| 372/372 [00:33<00:00, 11.23it/s]\n"
     ]
    },
    {
     "name": "stdout",
     "output_type": "stream",
     "text": [
      "Train Loss: 0.5977 | Train Acc: 79.13%\n",
      "Valid Loss: 0.7290 | Valid Acc: 74.96%\n",
      "Test  Loss: 0.4780 | Test Acc: 83.90%\n",
      "--------------------------------------------------\n",
      "[Epoch 61/200] :\n"
     ]
    },
    {
     "name": "stderr",
     "output_type": "stream",
     "text": [
      "61 Train: 100%|██████| 372/372 [00:33<00:00, 11.24it/s]\n"
     ]
    },
    {
     "name": "stdout",
     "output_type": "stream",
     "text": [
      "Train Loss: 0.6039 | Train Acc: 78.99%\n",
      "Valid Loss: 0.6921 | Valid Acc: 76.96%\n",
      "Test  Loss: 0.4897 | Test Acc: 83.94%\n",
      "--------------------------------------------------\n",
      "[Epoch 62/200] :\n"
     ]
    },
    {
     "name": "stderr",
     "output_type": "stream",
     "text": [
      "62 Train: 100%|██████| 372/372 [00:33<00:00, 11.12it/s]\n"
     ]
    },
    {
     "name": "stdout",
     "output_type": "stream",
     "text": [
      "Train Loss: 0.6045 | Train Acc: 78.97%\n",
      "Valid Loss: 0.7647 | Valid Acc: 74.00%\n",
      "Test  Loss: 0.5876 | Test Acc: 80.47%\n",
      "--------------------------------------------------\n",
      "[Epoch 63/200] :\n"
     ]
    },
    {
     "name": "stderr",
     "output_type": "stream",
     "text": [
      "63 Train: 100%|██████| 372/372 [00:33<00:00, 11.19it/s]\n"
     ]
    },
    {
     "name": "stdout",
     "output_type": "stream",
     "text": [
      "Train Loss: 0.6072 | Train Acc: 78.88%\n",
      "Valid Loss: 0.7020 | Valid Acc: 74.96%\n",
      "Test  Loss: 0.4363 | Test Acc: 85.27%\n",
      "--------------------------------------------------\n",
      "[Epoch 64/200] :\n"
     ]
    },
    {
     "name": "stderr",
     "output_type": "stream",
     "text": [
      "64 Train: 100%|██████| 372/372 [00:32<00:00, 11.30it/s]\n"
     ]
    },
    {
     "name": "stdout",
     "output_type": "stream",
     "text": [
      "Train Loss: 0.5005 | Train Acc: 82.57%\n",
      "Valid Loss: 0.5234 | Valid Acc: 81.76%\n",
      "Test  Loss: 0.3008 | Test Acc: 89.70%\n",
      "updated best eval loss : 0.5233820304274559\n",
      "--------------------------------------------------\n",
      "[Epoch 65/200] :\n"
     ]
    },
    {
     "name": "stderr",
     "output_type": "stream",
     "text": [
      "65 Train: 100%|██████| 372/372 [00:33<00:00, 11.14it/s]\n"
     ]
    },
    {
     "name": "stdout",
     "output_type": "stream",
     "text": [
      "Train Loss: 0.4634 | Train Acc: 83.85%\n",
      "Valid Loss: 0.5275 | Valid Acc: 81.76%\n",
      "Test  Loss: 0.2918 | Test Acc: 89.59%\n",
      "--------------------------------------------------\n",
      "[Epoch 66/200] :\n"
     ]
    },
    {
     "name": "stderr",
     "output_type": "stream",
     "text": [
      "66 Train: 100%|██████| 372/372 [00:32<00:00, 11.31it/s]\n"
     ]
    },
    {
     "name": "stdout",
     "output_type": "stream",
     "text": [
      "Train Loss: 0.4493 | Train Acc: 84.38%\n",
      "Valid Loss: 0.4969 | Valid Acc: 83.48%\n",
      "Test  Loss: 0.2829 | Test Acc: 90.35%\n",
      "updated best eval loss : 0.4969321295619011\n",
      "--------------------------------------------------\n",
      "[Epoch 67/200] :\n"
     ]
    },
    {
     "name": "stderr",
     "output_type": "stream",
     "text": [
      "67 Train: 100%|██████| 372/372 [00:33<00:00, 11.11it/s]\n"
     ]
    },
    {
     "name": "stdout",
     "output_type": "stream",
     "text": [
      "Train Loss: 0.4475 | Train Acc: 84.63%\n",
      "Valid Loss: 0.5030 | Valid Acc: 82.92%\n",
      "Test  Loss: 0.2852 | Test Acc: 90.21%\n",
      "--------------------------------------------------\n",
      "[Epoch 68/200] :\n"
     ]
    },
    {
     "name": "stderr",
     "output_type": "stream",
     "text": [
      "68 Train: 100%|██████| 372/372 [00:32<00:00, 11.47it/s]\n"
     ]
    },
    {
     "name": "stdout",
     "output_type": "stream",
     "text": [
      "Train Loss: 0.4438 | Train Acc: 84.46%\n",
      "Valid Loss: 0.5014 | Valid Acc: 83.68%\n",
      "Test  Loss: 0.2768 | Test Acc: 90.34%\n",
      "--------------------------------------------------\n",
      "[Epoch 69/200] :\n"
     ]
    },
    {
     "name": "stderr",
     "output_type": "stream",
     "text": [
      "69 Train: 100%|██████| 372/372 [00:33<00:00, 11.24it/s]\n"
     ]
    },
    {
     "name": "stdout",
     "output_type": "stream",
     "text": [
      "Train Loss: 0.4317 | Train Acc: 84.79%\n",
      "Valid Loss: 0.4801 | Valid Acc: 83.08%\n",
      "Test  Loss: 0.2837 | Test Acc: 90.24%\n",
      "updated best eval loss : 0.48010376691818235\n",
      "--------------------------------------------------\n",
      "[Epoch 70/200] :\n"
     ]
    },
    {
     "name": "stderr",
     "output_type": "stream",
     "text": [
      "70 Train: 100%|██████| 372/372 [00:32<00:00, 11.31it/s]\n"
     ]
    },
    {
     "name": "stdout",
     "output_type": "stream",
     "text": [
      "Train Loss: 0.4314 | Train Acc: 85.09%\n",
      "Valid Loss: 0.4944 | Valid Acc: 82.64%\n",
      "Test  Loss: 0.2805 | Test Acc: 90.38%\n",
      "--------------------------------------------------\n",
      "[Epoch 71/200] :\n"
     ]
    },
    {
     "name": "stderr",
     "output_type": "stream",
     "text": [
      "71 Train: 100%|██████| 372/372 [00:33<00:00, 11.19it/s]\n"
     ]
    },
    {
     "name": "stdout",
     "output_type": "stream",
     "text": [
      "Train Loss: 0.4239 | Train Acc: 85.13%\n",
      "Valid Loss: 0.4694 | Valid Acc: 83.80%\n",
      "Test  Loss: 0.2777 | Test Acc: 90.58%\n",
      "updated best eval loss : 0.46944609880447385\n",
      "--------------------------------------------------\n",
      "[Epoch 72/200] :\n"
     ]
    },
    {
     "name": "stderr",
     "output_type": "stream",
     "text": [
      "72 Train: 100%|██████| 372/372 [00:32<00:00, 11.32it/s]\n"
     ]
    },
    {
     "name": "stdout",
     "output_type": "stream",
     "text": [
      "Train Loss: 0.4209 | Train Acc: 85.30%\n",
      "Valid Loss: 0.4660 | Valid Acc: 83.60%\n",
      "Test  Loss: 0.2682 | Test Acc: 90.85%\n",
      "updated best eval loss : 0.46603131517767904\n",
      "--------------------------------------------------\n",
      "[Epoch 73/200] :\n"
     ]
    },
    {
     "name": "stderr",
     "output_type": "stream",
     "text": [
      "73 Train: 100%|██████| 372/372 [00:33<00:00, 11.18it/s]\n"
     ]
    },
    {
     "name": "stdout",
     "output_type": "stream",
     "text": [
      "Train Loss: 0.4171 | Train Acc: 85.62%\n",
      "Valid Loss: 0.5024 | Valid Acc: 82.56%\n",
      "Test  Loss: 0.2688 | Test Acc: 90.86%\n",
      "--------------------------------------------------\n",
      "[Epoch 74/200] :\n"
     ]
    },
    {
     "name": "stderr",
     "output_type": "stream",
     "text": [
      "74 Train: 100%|██████| 372/372 [00:33<00:00, 11.16it/s]\n"
     ]
    },
    {
     "name": "stdout",
     "output_type": "stream",
     "text": [
      "Train Loss: 0.4099 | Train Acc: 85.56%\n",
      "Valid Loss: 0.4867 | Valid Acc: 83.40%\n",
      "Test  Loss: 0.2677 | Test Acc: 90.82%\n",
      "--------------------------------------------------\n",
      "[Epoch 75/200] :\n"
     ]
    },
    {
     "name": "stderr",
     "output_type": "stream",
     "text": [
      "75 Train: 100%|██████| 372/372 [00:33<00:00, 11.12it/s]\n"
     ]
    },
    {
     "name": "stdout",
     "output_type": "stream",
     "text": [
      "Train Loss: 0.4058 | Train Acc: 85.77%\n",
      "Valid Loss: 0.4730 | Valid Acc: 83.40%\n",
      "Test  Loss: 0.2718 | Test Acc: 90.82%\n",
      "--------------------------------------------------\n",
      "[Epoch 76/200] :\n"
     ]
    },
    {
     "name": "stderr",
     "output_type": "stream",
     "text": [
      "76 Train: 100%|██████| 372/372 [00:33<00:00, 10.99it/s]\n"
     ]
    },
    {
     "name": "stdout",
     "output_type": "stream",
     "text": [
      "Train Loss: 0.4061 | Train Acc: 85.80%\n",
      "Valid Loss: 0.4869 | Valid Acc: 83.04%\n",
      "Test  Loss: 0.2707 | Test Acc: 90.62%\n",
      "--------------------------------------------------\n",
      "[Epoch 77/200] :\n"
     ]
    },
    {
     "name": "stderr",
     "output_type": "stream",
     "text": [
      "77 Train: 100%|██████| 372/372 [00:32<00:00, 11.35it/s]\n"
     ]
    },
    {
     "name": "stdout",
     "output_type": "stream",
     "text": [
      "Train Loss: 0.4082 | Train Acc: 85.60%\n",
      "Valid Loss: 0.4843 | Valid Acc: 82.88%\n",
      "Test  Loss: 0.2665 | Test Acc: 90.86%\n",
      "--------------------------------------------------\n",
      "[Epoch 78/200] :\n"
     ]
    },
    {
     "name": "stderr",
     "output_type": "stream",
     "text": [
      "78 Train: 100%|██████| 372/372 [00:33<00:00, 11.25it/s]\n"
     ]
    },
    {
     "name": "stdout",
     "output_type": "stream",
     "text": [
      "Train Loss: 0.3996 | Train Acc: 86.01%\n",
      "Valid Loss: 0.4597 | Valid Acc: 83.56%\n",
      "Test  Loss: 0.2652 | Test Acc: 90.77%\n",
      "updated best eval loss : 0.45971646085381507\n",
      "--------------------------------------------------\n",
      "[Epoch 79/200] :\n"
     ]
    },
    {
     "name": "stderr",
     "output_type": "stream",
     "text": [
      "79 Train: 100%|██████| 372/372 [00:32<00:00, 11.27it/s]\n"
     ]
    },
    {
     "name": "stdout",
     "output_type": "stream",
     "text": [
      "Train Loss: 0.4052 | Train Acc: 85.70%\n",
      "Valid Loss: 0.4791 | Valid Acc: 83.72%\n",
      "Test  Loss: 0.2702 | Test Acc: 90.81%\n",
      "--------------------------------------------------\n",
      "[Epoch 80/200] :\n"
     ]
    },
    {
     "name": "stderr",
     "output_type": "stream",
     "text": [
      "80 Train: 100%|██████| 372/372 [00:32<00:00, 11.35it/s]\n"
     ]
    },
    {
     "name": "stdout",
     "output_type": "stream",
     "text": [
      "Train Loss: 0.3988 | Train Acc: 86.01%\n",
      "Valid Loss: 0.4559 | Valid Acc: 84.48%\n",
      "Test  Loss: 0.2647 | Test Acc: 91.20%\n",
      "updated best eval loss : 0.4558683007955551\n",
      "--------------------------------------------------\n",
      "[Epoch 81/200] :\n"
     ]
    },
    {
     "name": "stderr",
     "output_type": "stream",
     "text": [
      "81 Train: 100%|██████| 372/372 [00:33<00:00, 11.24it/s]\n"
     ]
    },
    {
     "name": "stdout",
     "output_type": "stream",
     "text": [
      "Train Loss: 0.3957 | Train Acc: 86.08%\n",
      "Valid Loss: 0.4700 | Valid Acc: 83.60%\n",
      "Test  Loss: 0.2604 | Test Acc: 91.03%\n",
      "--------------------------------------------------\n",
      "[Epoch 82/200] :\n"
     ]
    },
    {
     "name": "stderr",
     "output_type": "stream",
     "text": [
      "82 Train: 100%|██████| 372/372 [00:32<00:00, 11.29it/s]\n"
     ]
    },
    {
     "name": "stdout",
     "output_type": "stream",
     "text": [
      "Train Loss: 0.4002 | Train Acc: 85.89%\n",
      "Valid Loss: 0.4875 | Valid Acc: 83.44%\n",
      "Test  Loss: 0.2720 | Test Acc: 90.93%\n",
      "--------------------------------------------------\n",
      "[Epoch 83/200] :\n"
     ]
    },
    {
     "name": "stderr",
     "output_type": "stream",
     "text": [
      "83 Train: 100%|██████| 372/372 [00:33<00:00, 11.25it/s]\n"
     ]
    },
    {
     "name": "stdout",
     "output_type": "stream",
     "text": [
      "Train Loss: 0.3903 | Train Acc: 86.39%\n",
      "Valid Loss: 0.4767 | Valid Acc: 83.76%\n",
      "Test  Loss: 0.2636 | Test Acc: 91.13%\n",
      "--------------------------------------------------\n",
      "[Epoch 84/200] :\n"
     ]
    },
    {
     "name": "stderr",
     "output_type": "stream",
     "text": [
      "84 Train: 100%|██████| 372/372 [00:33<00:00, 11.18it/s]\n"
     ]
    },
    {
     "name": "stdout",
     "output_type": "stream",
     "text": [
      "Train Loss: 0.3932 | Train Acc: 86.34%\n",
      "Valid Loss: 0.4889 | Valid Acc: 83.00%\n",
      "Test  Loss: 0.2642 | Test Acc: 90.99%\n",
      "--------------------------------------------------\n",
      "[Epoch 85/200] :\n"
     ]
    },
    {
     "name": "stderr",
     "output_type": "stream",
     "text": [
      "85 Train: 100%|██████| 372/372 [00:32<00:00, 11.30it/s]\n"
     ]
    },
    {
     "name": "stdout",
     "output_type": "stream",
     "text": [
      "Train Loss: 0.3926 | Train Acc: 86.17%\n",
      "Valid Loss: 0.4573 | Valid Acc: 84.00%\n",
      "Test  Loss: 0.2607 | Test Acc: 91.18%\n",
      "--------------------------------------------------\n",
      "[Epoch 86/200] :\n"
     ]
    },
    {
     "name": "stderr",
     "output_type": "stream",
     "text": [
      "86 Train: 100%|██████| 372/372 [00:32<00:00, 11.38it/s]\n"
     ]
    },
    {
     "name": "stdout",
     "output_type": "stream",
     "text": [
      "Train Loss: 0.3933 | Train Acc: 86.12%\n",
      "Valid Loss: 0.4993 | Valid Acc: 83.00%\n",
      "Test  Loss: 0.2656 | Test Acc: 91.00%\n",
      "--------------------------------------------------\n",
      "[Epoch 87/200] :\n"
     ]
    },
    {
     "name": "stderr",
     "output_type": "stream",
     "text": [
      "87 Train: 100%|██████| 372/372 [00:33<00:00, 11.18it/s]\n"
     ]
    },
    {
     "name": "stdout",
     "output_type": "stream",
     "text": [
      "Train Loss: 0.3861 | Train Acc: 86.26%\n",
      "Valid Loss: 0.4676 | Valid Acc: 84.24%\n",
      "Test  Loss: 0.2593 | Test Acc: 91.40%\n",
      "--------------------------------------------------\n",
      "[Epoch 88/200] :\n"
     ]
    },
    {
     "name": "stderr",
     "output_type": "stream",
     "text": [
      "88 Train: 100%|██████| 372/372 [00:32<00:00, 11.36it/s]\n"
     ]
    },
    {
     "name": "stdout",
     "output_type": "stream",
     "text": [
      "Train Loss: 0.3825 | Train Acc: 86.49%\n",
      "Valid Loss: 0.5401 | Valid Acc: 81.80%\n",
      "Test  Loss: 0.2599 | Test Acc: 91.09%\n",
      "--------------------------------------------------\n",
      "[Epoch 89/200] :\n"
     ]
    },
    {
     "name": "stderr",
     "output_type": "stream",
     "text": [
      "89 Train: 100%|██████| 372/372 [00:33<00:00, 11.19it/s]\n"
     ]
    },
    {
     "name": "stdout",
     "output_type": "stream",
     "text": [
      "Train Loss: 0.3843 | Train Acc: 86.49%\n",
      "Valid Loss: 0.4820 | Valid Acc: 83.04%\n",
      "Test  Loss: 0.2608 | Test Acc: 91.16%\n",
      "--------------------------------------------------\n",
      "[Epoch 90/200] :\n"
     ]
    },
    {
     "name": "stderr",
     "output_type": "stream",
     "text": [
      "90 Train: 100%|██████| 372/372 [00:32<00:00, 11.35it/s]\n"
     ]
    },
    {
     "name": "stdout",
     "output_type": "stream",
     "text": [
      "Train Loss: 0.3798 | Train Acc: 86.82%\n",
      "Valid Loss: 0.4593 | Valid Acc: 84.60%\n",
      "Test  Loss: 0.2644 | Test Acc: 91.26%\n",
      "--------------------------------------------------\n",
      "[Epoch 91/200] :\n"
     ]
    },
    {
     "name": "stderr",
     "output_type": "stream",
     "text": [
      "91 Train: 100%|██████| 372/372 [00:32<00:00, 11.29it/s]\n"
     ]
    },
    {
     "name": "stdout",
     "output_type": "stream",
     "text": [
      "Train Loss: 0.3806 | Train Acc: 86.53%\n",
      "Valid Loss: 0.4623 | Valid Acc: 85.00%\n",
      "Test  Loss: 0.2602 | Test Acc: 91.29%\n",
      "--------------------------------------------------\n",
      "[Epoch 92/200] :\n"
     ]
    },
    {
     "name": "stderr",
     "output_type": "stream",
     "text": [
      "92 Train: 100%|██████| 372/372 [00:33<00:00, 11.17it/s]\n"
     ]
    },
    {
     "name": "stdout",
     "output_type": "stream",
     "text": [
      "Train Loss: 0.3757 | Train Acc: 86.75%\n",
      "Valid Loss: 0.4915 | Valid Acc: 83.40%\n",
      "Test  Loss: 0.2612 | Test Acc: 91.31%\n",
      "--------------------------------------------------\n",
      "[Epoch 93/200] :\n"
     ]
    },
    {
     "name": "stderr",
     "output_type": "stream",
     "text": [
      "93 Train: 100%|██████| 372/372 [00:33<00:00, 11.07it/s]\n"
     ]
    },
    {
     "name": "stdout",
     "output_type": "stream",
     "text": [
      "Train Loss: 0.3815 | Train Acc: 86.57%\n",
      "Valid Loss: 0.4868 | Valid Acc: 83.32%\n",
      "Test  Loss: 0.2641 | Test Acc: 91.28%\n",
      "--------------------------------------------------\n",
      "[Epoch 94/200] :\n"
     ]
    },
    {
     "name": "stderr",
     "output_type": "stream",
     "text": [
      "94 Train: 100%|██████| 372/372 [00:32<00:00, 11.37it/s]\n"
     ]
    },
    {
     "name": "stdout",
     "output_type": "stream",
     "text": [
      "Train Loss: 0.3764 | Train Acc: 86.84%\n",
      "Valid Loss: 0.4684 | Valid Acc: 84.44%\n",
      "Test  Loss: 0.2560 | Test Acc: 91.39%\n",
      "--------------------------------------------------\n",
      "[Epoch 95/200] :\n"
     ]
    },
    {
     "name": "stderr",
     "output_type": "stream",
     "text": [
      "95 Train: 100%|██████| 372/372 [00:33<00:00, 10.98it/s]\n"
     ]
    },
    {
     "name": "stdout",
     "output_type": "stream",
     "text": [
      "Train Loss: 0.3775 | Train Acc: 86.92%\n",
      "Valid Loss: 0.4938 | Valid Acc: 82.64%\n",
      "Test  Loss: 0.2658 | Test Acc: 90.92%\n",
      "--------------------------------------------------\n",
      "[Epoch 96/200] :\n"
     ]
    },
    {
     "name": "stderr",
     "output_type": "stream",
     "text": [
      "96 Train: 100%|██████| 372/372 [00:33<00:00, 11.19it/s]\n"
     ]
    },
    {
     "name": "stdout",
     "output_type": "stream",
     "text": [
      "Train Loss: 0.3764 | Train Acc: 87.01%\n",
      "Valid Loss: 0.4683 | Valid Acc: 84.16%\n",
      "Test  Loss: 0.2573 | Test Acc: 91.38%\n",
      "--------------------------------------------------\n",
      "[Epoch 97/200] :\n"
     ]
    },
    {
     "name": "stderr",
     "output_type": "stream",
     "text": [
      "97 Train: 100%|██████| 372/372 [00:32<00:00, 11.34it/s]\n"
     ]
    },
    {
     "name": "stdout",
     "output_type": "stream",
     "text": [
      "Train Loss: 0.3737 | Train Acc: 86.77%\n",
      "Valid Loss: 0.4623 | Valid Acc: 85.04%\n",
      "Test  Loss: 0.2698 | Test Acc: 90.97%\n",
      "--------------------------------------------------\n",
      "[Epoch 98/200] :\n"
     ]
    },
    {
     "name": "stderr",
     "output_type": "stream",
     "text": [
      "98 Train: 100%|██████| 372/372 [00:33<00:00, 11.01it/s]\n"
     ]
    },
    {
     "name": "stdout",
     "output_type": "stream",
     "text": [
      "Train Loss: 0.3711 | Train Acc: 86.96%\n",
      "Valid Loss: 0.4600 | Valid Acc: 84.24%\n",
      "Test  Loss: 0.2565 | Test Acc: 91.22%\n",
      "--------------------------------------------------\n",
      "[Epoch 99/200] :\n"
     ]
    },
    {
     "name": "stderr",
     "output_type": "stream",
     "text": [
      "99 Train: 100%|██████| 372/372 [00:33<00:00, 11.22it/s]\n"
     ]
    },
    {
     "name": "stdout",
     "output_type": "stream",
     "text": [
      "Train Loss: 0.3740 | Train Acc: 86.92%\n",
      "Valid Loss: 0.4389 | Valid Acc: 84.64%\n",
      "Test  Loss: 0.2533 | Test Acc: 91.43%\n",
      "updated best eval loss : 0.4388987720012665\n",
      "--------------------------------------------------\n",
      "[Epoch 100/200] :\n"
     ]
    },
    {
     "name": "stderr",
     "output_type": "stream",
     "text": [
      "100 Train: 100%|█████| 372/372 [00:33<00:00, 11.12it/s]\n"
     ]
    },
    {
     "name": "stdout",
     "output_type": "stream",
     "text": [
      "Train Loss: 0.3723 | Train Acc: 86.93%\n",
      "Valid Loss: 0.4602 | Valid Acc: 84.48%\n",
      "Test  Loss: 0.2665 | Test Acc: 90.87%\n",
      "--------------------------------------------------\n",
      "[Epoch 101/200] :\n"
     ]
    },
    {
     "name": "stderr",
     "output_type": "stream",
     "text": [
      "101 Train: 100%|█████| 372/372 [00:33<00:00, 11.18it/s]\n"
     ]
    },
    {
     "name": "stdout",
     "output_type": "stream",
     "text": [
      "Train Loss: 0.3699 | Train Acc: 87.04%\n",
      "Valid Loss: 0.4368 | Valid Acc: 84.68%\n",
      "Test  Loss: 0.2560 | Test Acc: 91.46%\n",
      "updated best eval loss : 0.43683363050222396\n",
      "--------------------------------------------------\n",
      "[Epoch 102/200] :\n"
     ]
    },
    {
     "name": "stderr",
     "output_type": "stream",
     "text": [
      "102 Train: 100%|█████| 372/372 [00:33<00:00, 11.10it/s]\n"
     ]
    },
    {
     "name": "stdout",
     "output_type": "stream",
     "text": [
      "Train Loss: 0.3737 | Train Acc: 87.11%\n",
      "Valid Loss: 0.4719 | Valid Acc: 83.40%\n",
      "Test  Loss: 0.2671 | Test Acc: 91.07%\n",
      "--------------------------------------------------\n",
      "[Epoch 103/200] :\n"
     ]
    },
    {
     "name": "stderr",
     "output_type": "stream",
     "text": [
      "103 Train: 100%|█████| 372/372 [00:33<00:00, 11.17it/s]\n"
     ]
    },
    {
     "name": "stdout",
     "output_type": "stream",
     "text": [
      "Train Loss: 0.3644 | Train Acc: 87.10%\n",
      "Valid Loss: 0.4697 | Valid Acc: 84.20%\n",
      "Test  Loss: 0.2629 | Test Acc: 91.22%\n",
      "--------------------------------------------------\n",
      "[Epoch 104/200] :\n"
     ]
    },
    {
     "name": "stderr",
     "output_type": "stream",
     "text": [
      "104 Train: 100%|█████| 372/372 [00:33<00:00, 11.24it/s]\n"
     ]
    },
    {
     "name": "stdout",
     "output_type": "stream",
     "text": [
      "Train Loss: 0.3669 | Train Acc: 87.14%\n",
      "Valid Loss: 0.4651 | Valid Acc: 84.08%\n",
      "Test  Loss: 0.2542 | Test Acc: 91.56%\n",
      "--------------------------------------------------\n",
      "[Epoch 105/200] :\n"
     ]
    },
    {
     "name": "stderr",
     "output_type": "stream",
     "text": [
      "105 Train: 100%|█████| 372/372 [00:32<00:00, 11.29it/s]\n"
     ]
    },
    {
     "name": "stdout",
     "output_type": "stream",
     "text": [
      "Train Loss: 0.3616 | Train Acc: 87.45%\n",
      "Valid Loss: 0.4718 | Valid Acc: 83.60%\n",
      "Test  Loss: 0.2686 | Test Acc: 91.26%\n",
      "--------------------------------------------------\n",
      "[Epoch 106/200] :\n"
     ]
    },
    {
     "name": "stderr",
     "output_type": "stream",
     "text": [
      "106 Train: 100%|█████| 372/372 [00:33<00:00, 11.06it/s]\n"
     ]
    },
    {
     "name": "stdout",
     "output_type": "stream",
     "text": [
      "Train Loss: 0.3644 | Train Acc: 87.27%\n",
      "Valid Loss: 0.4627 | Valid Acc: 83.56%\n",
      "Test  Loss: 0.2508 | Test Acc: 91.50%\n",
      "--------------------------------------------------\n",
      "[Epoch 107/200] :\n"
     ]
    },
    {
     "name": "stderr",
     "output_type": "stream",
     "text": [
      "107 Train: 100%|█████| 372/372 [00:33<00:00, 11.22it/s]\n"
     ]
    },
    {
     "name": "stdout",
     "output_type": "stream",
     "text": [
      "Train Loss: 0.3616 | Train Acc: 87.25%\n",
      "Valid Loss: 0.4827 | Valid Acc: 84.04%\n",
      "Test  Loss: 0.2629 | Test Acc: 91.22%\n",
      "--------------------------------------------------\n",
      "[Epoch 108/200] :\n"
     ]
    },
    {
     "name": "stderr",
     "output_type": "stream",
     "text": [
      "108 Train: 100%|█████| 372/372 [00:33<00:00, 11.14it/s]\n"
     ]
    },
    {
     "name": "stdout",
     "output_type": "stream",
     "text": [
      "Train Loss: 0.3683 | Train Acc: 86.93%\n",
      "Valid Loss: 0.4648 | Valid Acc: 84.08%\n",
      "Test  Loss: 0.2611 | Test Acc: 91.31%\n",
      "--------------------------------------------------\n",
      "[Epoch 109/200] :\n"
     ]
    },
    {
     "name": "stderr",
     "output_type": "stream",
     "text": [
      "109 Train: 100%|█████| 372/372 [00:33<00:00, 11.13it/s]\n"
     ]
    },
    {
     "name": "stdout",
     "output_type": "stream",
     "text": [
      "Train Loss: 0.3575 | Train Acc: 87.40%\n",
      "Valid Loss: 0.4989 | Valid Acc: 83.00%\n",
      "Test  Loss: 0.2608 | Test Acc: 91.08%\n",
      "--------------------------------------------------\n",
      "[Epoch 110/200] :\n"
     ]
    },
    {
     "name": "stderr",
     "output_type": "stream",
     "text": [
      "110 Train: 100%|█████| 372/372 [00:32<00:00, 11.28it/s]\n"
     ]
    },
    {
     "name": "stdout",
     "output_type": "stream",
     "text": [
      "Train Loss: 0.3631 | Train Acc: 87.16%\n",
      "Valid Loss: 0.4760 | Valid Acc: 83.44%\n",
      "Test  Loss: 0.2610 | Test Acc: 91.49%\n",
      "--------------------------------------------------\n",
      "[Epoch 111/200] :\n"
     ]
    },
    {
     "name": "stderr",
     "output_type": "stream",
     "text": [
      "111 Train: 100%|█████| 372/372 [00:32<00:00, 11.28it/s]\n"
     ]
    },
    {
     "name": "stdout",
     "output_type": "stream",
     "text": [
      "Train Loss: 0.3659 | Train Acc: 87.13%\n",
      "Valid Loss: 0.4924 | Valid Acc: 83.40%\n",
      "Test  Loss: 0.2672 | Test Acc: 91.01%\n",
      "--------------------------------------------------\n",
      "[Epoch 112/200] :\n"
     ]
    },
    {
     "name": "stderr",
     "output_type": "stream",
     "text": [
      "112 Train: 100%|█████| 372/372 [00:33<00:00, 11.05it/s]\n"
     ]
    },
    {
     "name": "stdout",
     "output_type": "stream",
     "text": [
      "Train Loss: 0.3608 | Train Acc: 87.31%\n",
      "Valid Loss: 0.4651 | Valid Acc: 83.92%\n",
      "Test  Loss: 0.2650 | Test Acc: 91.22%\n",
      "--------------------------------------------------\n",
      "[Epoch 113/200] :\n"
     ]
    },
    {
     "name": "stderr",
     "output_type": "stream",
     "text": [
      "113 Train: 100%|█████| 372/372 [00:33<00:00, 11.09it/s]\n"
     ]
    },
    {
     "name": "stdout",
     "output_type": "stream",
     "text": [
      "Train Loss: 0.3540 | Train Acc: 87.57%\n",
      "Valid Loss: 0.4827 | Valid Acc: 83.08%\n",
      "Test  Loss: 0.2719 | Test Acc: 90.98%\n",
      "--------------------------------------------------\n",
      "[Epoch 114/200] :\n"
     ]
    },
    {
     "name": "stderr",
     "output_type": "stream",
     "text": [
      "114 Train: 100%|█████| 372/372 [00:33<00:00, 11.16it/s]\n"
     ]
    },
    {
     "name": "stdout",
     "output_type": "stream",
     "text": [
      "Train Loss: 0.3581 | Train Acc: 87.56%\n",
      "Valid Loss: 0.4622 | Valid Acc: 84.08%\n",
      "Test  Loss: 0.2594 | Test Acc: 91.16%\n",
      "--------------------------------------------------\n",
      "[Epoch 115/200] :\n"
     ]
    },
    {
     "name": "stderr",
     "output_type": "stream",
     "text": [
      "115 Train: 100%|█████| 372/372 [00:33<00:00, 11.06it/s]\n"
     ]
    },
    {
     "name": "stdout",
     "output_type": "stream",
     "text": [
      "Train Loss: 0.3445 | Train Acc: 87.96%\n",
      "Valid Loss: 0.4322 | Valid Acc: 84.76%\n",
      "Test  Loss: 0.2432 | Test Acc: 91.73%\n",
      "updated best eval loss : 0.4321886137127876\n",
      "--------------------------------------------------\n",
      "[Epoch 116/200] :\n"
     ]
    },
    {
     "name": "stderr",
     "output_type": "stream",
     "text": [
      "116 Train: 100%|█████| 372/372 [00:33<00:00, 11.19it/s]\n"
     ]
    },
    {
     "name": "stdout",
     "output_type": "stream",
     "text": [
      "Train Loss: 0.3313 | Train Acc: 88.37%\n",
      "Valid Loss: 0.4551 | Valid Acc: 84.00%\n",
      "Test  Loss: 0.2440 | Test Acc: 91.60%\n",
      "--------------------------------------------------\n",
      "[Epoch 117/200] :\n"
     ]
    },
    {
     "name": "stderr",
     "output_type": "stream",
     "text": [
      "117 Train: 100%|█████| 372/372 [00:33<00:00, 11.13it/s]\n"
     ]
    },
    {
     "name": "stdout",
     "output_type": "stream",
     "text": [
      "Train Loss: 0.3310 | Train Acc: 88.71%\n",
      "Valid Loss: 0.4326 | Valid Acc: 85.12%\n",
      "Test  Loss: 0.2440 | Test Acc: 91.70%\n",
      "--------------------------------------------------\n",
      "[Epoch 118/200] :\n"
     ]
    },
    {
     "name": "stderr",
     "output_type": "stream",
     "text": [
      "118 Train: 100%|█████| 372/372 [00:33<00:00, 11.23it/s]\n"
     ]
    },
    {
     "name": "stdout",
     "output_type": "stream",
     "text": [
      "Train Loss: 0.3297 | Train Acc: 88.36%\n",
      "Valid Loss: 0.4540 | Valid Acc: 84.56%\n",
      "Test  Loss: 0.2447 | Test Acc: 91.82%\n",
      "--------------------------------------------------\n",
      "[Epoch 119/200] :\n"
     ]
    },
    {
     "name": "stderr",
     "output_type": "stream",
     "text": [
      "119 Train: 100%|█████| 372/372 [00:34<00:00, 10.92it/s]\n"
     ]
    },
    {
     "name": "stdout",
     "output_type": "stream",
     "text": [
      "Train Loss: 0.3281 | Train Acc: 88.50%\n",
      "Valid Loss: 0.4442 | Valid Acc: 84.80%\n",
      "Test  Loss: 0.2414 | Test Acc: 91.76%\n",
      "--------------------------------------------------\n",
      "[Epoch 120/200] :\n"
     ]
    },
    {
     "name": "stderr",
     "output_type": "stream",
     "text": [
      "120 Train: 100%|█████| 372/372 [00:33<00:00, 11.20it/s]\n"
     ]
    },
    {
     "name": "stdout",
     "output_type": "stream",
     "text": [
      "Train Loss: 0.3253 | Train Acc: 88.60%\n",
      "Valid Loss: 0.4428 | Valid Acc: 84.80%\n",
      "Test  Loss: 0.2386 | Test Acc: 92.01%\n",
      "--------------------------------------------------\n",
      "[Epoch 121/200] :\n"
     ]
    },
    {
     "name": "stderr",
     "output_type": "stream",
     "text": [
      "121 Train: 100%|█████| 372/372 [00:33<00:00, 11.08it/s]\n"
     ]
    },
    {
     "name": "stdout",
     "output_type": "stream",
     "text": [
      "Train Loss: 0.3280 | Train Acc: 88.39%\n",
      "Valid Loss: 0.4377 | Valid Acc: 84.64%\n",
      "Test  Loss: 0.2426 | Test Acc: 91.71%\n",
      "--------------------------------------------------\n",
      "[Epoch 122/200] :\n"
     ]
    },
    {
     "name": "stderr",
     "output_type": "stream",
     "text": [
      "122 Train: 100%|█████| 372/372 [00:32<00:00, 11.31it/s]\n"
     ]
    },
    {
     "name": "stdout",
     "output_type": "stream",
     "text": [
      "Train Loss: 0.3221 | Train Acc: 88.82%\n",
      "Valid Loss: 0.4380 | Valid Acc: 85.12%\n",
      "Test  Loss: 0.2445 | Test Acc: 91.83%\n",
      "--------------------------------------------------\n",
      "[Epoch 123/200] :\n"
     ]
    },
    {
     "name": "stderr",
     "output_type": "stream",
     "text": [
      "123 Train: 100%|█████| 372/372 [00:32<00:00, 11.32it/s]\n"
     ]
    },
    {
     "name": "stdout",
     "output_type": "stream",
     "text": [
      "Train Loss: 0.3270 | Train Acc: 88.55%\n",
      "Valid Loss: 0.4480 | Valid Acc: 84.76%\n",
      "Test  Loss: 0.2413 | Test Acc: 91.68%\n",
      "--------------------------------------------------\n",
      "[Epoch 124/200] :\n"
     ]
    },
    {
     "name": "stderr",
     "output_type": "stream",
     "text": [
      "124 Train: 100%|█████| 372/372 [00:33<00:00, 11.26it/s]\n"
     ]
    },
    {
     "name": "stdout",
     "output_type": "stream",
     "text": [
      "Train Loss: 0.3248 | Train Acc: 88.70%\n",
      "Valid Loss: 0.4289 | Valid Acc: 84.20%\n",
      "Test  Loss: 0.2442 | Test Acc: 91.79%\n",
      "updated best eval loss : 0.4289176300168037\n",
      "--------------------------------------------------\n",
      "[Epoch 125/200] :\n"
     ]
    },
    {
     "name": "stderr",
     "output_type": "stream",
     "text": [
      "125 Train: 100%|█████| 372/372 [00:33<00:00, 11.07it/s]\n"
     ]
    },
    {
     "name": "stdout",
     "output_type": "stream",
     "text": [
      "Train Loss: 0.3230 | Train Acc: 88.86%\n",
      "Valid Loss: 0.4471 | Valid Acc: 85.04%\n"
     ]
    }
   ],
   "source": [
    "Training = DoTraining(\n",
    "    model=model,\n",
    "    criterion=criterion,\n",
    "    optimizer=optimizer,\n",
    "    scaler=scaler,\n",
    "    scheduler=scheduler,\n",
    "    earlystopper=earlystopper,\n",
    "    device=device,\n",
    "    logs=logs,\n",
    "    file_path=file_name,\n",
    ")\n",
    "pre_epochs = len(Training.logs[\"train_loss\"])\n",
    "\n",
    "\n",
    "for epoch in range(NUM_EPOCHS):\n",
    "    now = epoch + 1 + pre_epochs\n",
    "    print(f\"[Epoch {epoch+1+pre_epochs}/{NUM_EPOCHS}] :\")\n",
    "\n",
    "    if DATASET == \"ImageNet2012\":\n",
    "        eval_loss = Training.SingleEpoch(train_dataloader, valid_dataloader)\n",
    "    else:\n",
    "        eval_loss = Training.SingleEpoch(\n",
    "            train_dataloader, valid_dataloader, test_dataloader\n",
    "        )\n",
    "\n",
    "    Training.Save()\n",
    "\n",
    "    \n",
    "    \n",
    "    if earlystopper.check(eval_loss) == True:\n",
    "        break\n",
    "\n",
    "    print(\"-\" * 50)"
   ]
  },
  {
   "cell_type": "code",
   "execution_count": null,
   "metadata": {},
   "outputs": [],
   "source": [
    "view = LogViewer(logs)\n",
    "view.draw(title=file_name, save=True)"
   ]
  },
  {
   "cell_type": "code",
   "execution_count": null,
   "metadata": {},
   "outputs": [],
   "source": [
    "view.print_all()"
   ]
  }
 ],
 "metadata": {
  "kernelspec": {
   "display_name": "base",
   "language": "python",
   "name": "python3"
  },
  "language_info": {
   "codemirror_mode": {
    "name": "ipython",
    "version": 3
   },
   "file_extension": ".py",
   "mimetype": "text/x-python",
   "name": "python",
   "nbconvert_exporter": "python",
   "pygments_lexer": "ipython3",
   "version": "3.11.5"
  }
 },
 "nbformat": 4,
 "nbformat_minor": 2
}
