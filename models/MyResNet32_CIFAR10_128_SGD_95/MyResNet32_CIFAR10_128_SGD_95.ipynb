{
 "cells": [
  {
   "cell_type": "markdown",
   "metadata": {},
   "source": [
    "# Import"
   ]
  },
  {
   "cell_type": "code",
   "execution_count": 23,
   "metadata": {},
   "outputs": [],
   "source": [
    "import torch\n",
    "from torch import nn\n",
    "from torch.optim.lr_scheduler import ExponentialLR, MultiStepLR, ReduceLROnPlateau\n",
    "import sys, os\n",
    "\n",
    "sys.path.append(os.path.dirname(os.path.abspath(os.path.dirname(\"src\"))))\n",
    "\n",
    "from src.Mydataloader import LoadDataset\n",
    "from src.Mymodel import MyResNet_CIFAR\n",
    "from src.Mytraining import DoTraining\n",
    "from src.Earlystopper import EarlyStopper\n",
    "from src.LogViewer import LogViewer"
   ]
  },
  {
   "cell_type": "markdown",
   "metadata": {},
   "source": [
    "# Setup"
   ]
  },
  {
   "cell_type": "code",
   "execution_count": 24,
   "metadata": {},
   "outputs": [],
   "source": [
    "\"\"\"Dataset selection\"\"\"\n",
    "DATASET = \"CIFAR10\"\n",
    "# DATASET = \"CIFAR100\"\n",
    "# DATASET = \"ImageNet2012\"\n",
    "\n",
    "\"\"\"Dataset parameters\"\"\"\n",
    "BATCH = 128\n",
    "SHUFFLE = True\n",
    "NUMOFWORKERS = 8\n",
    "PIN_MEMORY = True\n",
    "SPLIT_RATIO = 0.95\n",
    "\n",
    "\"\"\"optimizer parameters\"\"\"\n",
    "# OPTIMIZER = \"Adam\"\n",
    "# OPTIMIZER = \"Adam_decay\"\n",
    "OPTIMIZER = \"SGD\"\n",
    "# OPTIMIZER = \"SGD_nasterov\"\n",
    "# OPTIMIZER = \"AdamW\"\n",
    "# OPTIMIZER = \"AdamW_amsgrad\"\n",
    "# OPTIMIZER = \"NAdam\"\n",
    "\n",
    "\"\"\"Learning rate scheduler parameters\"\"\"\n",
    "NUM_EPOCHS = 170\n",
    "\n",
    "\"\"\"Early stopping parameters\"\"\"\n",
    "EARLYSTOPPINGPATIENCE = 50\n",
    "\n",
    "file_name = f\"MyResNet32_{BATCH}_{OPTIMIZER}\""
   ]
  },
  {
   "cell_type": "code",
   "execution_count": 25,
   "metadata": {},
   "outputs": [
    {
     "data": {
      "text/plain": [
       "'MyResNet32_128_SGD'"
      ]
     },
     "execution_count": 25,
     "metadata": {},
     "output_type": "execute_result"
    }
   ],
   "source": [
    "file_name"
   ]
  },
  {
   "cell_type": "markdown",
   "metadata": {},
   "source": [
    "# Loading the dataset"
   ]
  },
  {
   "cell_type": "markdown",
   "metadata": {},
   "source": [
    "## Define Dateloader"
   ]
  },
  {
   "cell_type": "code",
   "execution_count": 26,
   "metadata": {},
   "outputs": [
    {
     "name": "stderr",
     "output_type": "stream",
     "text": [
      "/home/lee/anaconda3/lib/python3.11/site-packages/torchvision/transforms/v2/_deprecated.py:43: UserWarning: The transform `ToTensor()` is deprecated and will be removed in a future release. Instead, please use `v2.Compose([v2.ToImage(), v2.ToDtype(torch.float32, scale=True)])`.\n",
      "  warnings.warn(\n"
     ]
    },
    {
     "name": "stdout",
     "output_type": "stream",
     "text": [
      "-----------------------------------------------------------------------\n",
      "Dataset :  CIFAR10\n",
      "- Length of Train Set :  47500\n",
      "- Length of Valid Set :  2500\n",
      "- Length of Test Set :  10000\n",
      "- Count of Classes :  10\n",
      "-----------------------------------------------------------------------\n"
     ]
    }
   ],
   "source": [
    "tmp = LoadDataset(root=\"../../data\", seceted_dataset=DATASET, split_ratio=SPLIT_RATIO)\n",
    "train_data, valid_data, test_data, COUNT_OF_CLASSES = tmp.Unpack()"
   ]
  },
  {
   "cell_type": "code",
   "execution_count": 27,
   "metadata": {},
   "outputs": [
    {
     "name": "stdout",
     "output_type": "stream",
     "text": [
      "train.transforms = Compose(\n",
      "      AutoAugment(interpolation=InterpolationMode.NEAREST, policy=AutoAugmentPolicy.CIFAR10)\n",
      "      RandomCrop(size=(32, 32), padding=[4, 4, 4, 4], pad_if_needed=False, fill=0, padding_mode=constant)\n",
      "      RandomHorizontalFlip(p=0.5)\n",
      "      ToTensor()\n",
      "      Normalize(mean=[0.49139968, 0.48215827, 0.44653124], std=[1, 1, 1], inplace=True)\n",
      ") 128\n",
      "valid.transforms = ToTensor() 128\n",
      "test.transforms = ToTensor() 128\n"
     ]
    }
   ],
   "source": [
    "train_dataloader, valid_dataloader, test_dataloader = tmp.get_dataloader(\n",
    "    batch_size=BATCH, shuffle=SHUFFLE, num_workers=NUMOFWORKERS, pin_memory=PIN_MEMORY\n",
    ")"
   ]
  },
  {
   "cell_type": "markdown",
   "metadata": {},
   "source": [
    "# Define ResNet"
   ]
  },
  {
   "cell_type": "markdown",
   "metadata": {},
   "source": [
    "## Model Confirm"
   ]
  },
  {
   "cell_type": "code",
   "execution_count": 28,
   "metadata": {},
   "outputs": [
    {
     "data": {
      "text/plain": [
       "device(type='cuda')"
      ]
     },
     "execution_count": 28,
     "metadata": {},
     "output_type": "execute_result"
    }
   ],
   "source": [
    "device = torch.device(\"cuda\" if torch.cuda.is_available() else \"cpu\")\n",
    "device"
   ]
  },
  {
   "cell_type": "code",
   "execution_count": 29,
   "metadata": {},
   "outputs": [],
   "source": [
    "model = MyResNet_CIFAR(num_classes=COUNT_OF_CLASSES, num_layer_factor=5).to(device)"
   ]
  },
  {
   "cell_type": "markdown",
   "metadata": {},
   "source": [
    "# Define Training"
   ]
  },
  {
   "cell_type": "markdown",
   "metadata": {},
   "source": [
    "## (1) Define Criterion"
   ]
  },
  {
   "cell_type": "code",
   "execution_count": 30,
   "metadata": {},
   "outputs": [],
   "source": [
    "criterion = nn.CrossEntropyLoss()"
   ]
  },
  {
   "cell_type": "markdown",
   "metadata": {},
   "source": [
    "## (2) Define Optimazer"
   ]
  },
  {
   "cell_type": "code",
   "execution_count": 31,
   "metadata": {},
   "outputs": [],
   "source": [
    "if OPTIMIZER == \"Adam\":\n",
    "    optimizer = torch.optim.Adam(model.parameters())\n",
    "elif OPTIMIZER == \"Adam_decay\":\n",
    "    optimizer = torch.optim.Adam(model.parameters(), weight_decay=1e-4)\n",
    "elif OPTIMIZER == \"SGD\":\n",
    "    optimizer = torch.optim.SGD(\n",
    "        model.parameters(), lr=0.1, momentum=0.9, weight_decay=1e-4\n",
    "    )\n",
    "elif OPTIMIZER == \"SGD_nasterov\":\n",
    "    optimizer = torch.optim.SGD(\n",
    "        model.parameters(), lr=0.1, momentum=0.9, weight_decay=1e-4, nesterov=True\n",
    "    )\n",
    "elif OPTIMIZER == \"AdamW\":\n",
    "    optimizer = torch.optim.AdamW(model.parameters(), weight_decay=1e-4)\n",
    "elif OPTIMIZER == \"AdamW_amsgrad\":\n",
    "    optimizer = torch.optim.AdamW(model.parameters(), weight_decay=1e-4, amsgrad=True)\n",
    "elif OPTIMIZER == \"NAdam\":\n",
    "    optimizer = torch.optim.NAdam(model.parameters(), weight_decay=1e-4)"
   ]
  },
  {
   "cell_type": "markdown",
   "metadata": {},
   "source": [
    "## (3) Define Early Stopping"
   ]
  },
  {
   "cell_type": "code",
   "execution_count": 32,
   "metadata": {},
   "outputs": [],
   "source": [
    "earlystopper = EarlyStopper(patience=EARLYSTOPPINGPATIENCE, model=model, file_name=file_name)"
   ]
  },
  {
   "cell_type": "markdown",
   "metadata": {},
   "source": [
    "## (4) Define Learning Rate schedualer"
   ]
  },
  {
   "cell_type": "code",
   "execution_count": 33,
   "metadata": {},
   "outputs": [],
   "source": [
    "scheduler = ReduceLROnPlateau(optimizer=optimizer, patience=10, factor=0.1, cooldown=50)"
   ]
  },
  {
   "cell_type": "markdown",
   "metadata": {},
   "source": [
    "## (5) Define AMP scaler"
   ]
  },
  {
   "cell_type": "code",
   "execution_count": 34,
   "metadata": {},
   "outputs": [],
   "source": [
    "scaler = torch.cuda.amp.GradScaler(enabled=True)"
   ]
  },
  {
   "cell_type": "markdown",
   "metadata": {},
   "source": [
    "## Load before process"
   ]
  },
  {
   "cell_type": "code",
   "execution_count": 35,
   "metadata": {},
   "outputs": [
    {
     "name": "stdout",
     "output_type": "stream",
     "text": [
      "File does not exist. Created a new log.\n"
     ]
    }
   ],
   "source": [
    "if os.path.exists(file_name + \".pth.tar\"):\n",
    "    # Read checkpoint as desired, e.g.,\n",
    "    checkpoint = torch.load(\n",
    "        file_name + \".pth.tar\",\n",
    "        map_location=lambda storage, loc: storage.cuda(device),\n",
    "    )\n",
    "    model.load_state_dict(checkpoint[\"model\"])\n",
    "    optimizer.load_state_dict(checkpoint[\"optimizer\"])\n",
    "    scaler.load_state_dict(checkpoint[\"scaler\"])\n",
    "    scheduler.load_state_dict(checkpoint[\"scheduler\"])\n",
    "    earlystopper.load_state_dict(checkpoint[\"earlystopper\"])\n",
    "    logs = checkpoint[\"logs\"]\n",
    "\n",
    "    print(\"Suceessfully loaded the All setting and Log file.\")\n",
    "    print(file_name)\n",
    "    print(f\"Current epoch is {len(logs['train_loss'])}\")\n",
    "    print(f\"Current learning rate: {optimizer.param_groups[0]['lr']}\")\n",
    "else:\n",
    "    # Create a dictionary to store the variables\n",
    "    train_loss = []\n",
    "    train_acc = []\n",
    "    eval_loss = []\n",
    "    valid_acc = []\n",
    "    test_loss = []\n",
    "    test_acc = []\n",
    "    lr_log = []\n",
    "    logs = {\n",
    "        \"train_loss\": train_loss,\n",
    "        \"train_acc\": train_acc,\n",
    "        \"valid_loss\": eval_loss,\n",
    "        \"valid_acc\": valid_acc,\n",
    "        \"test_loss\": test_loss,\n",
    "        \"test_acc\": test_acc,\n",
    "        \"lr_log\": lr_log,\n",
    "    }\n",
    "    print(\"File does not exist. Created a new log.\")"
   ]
  },
  {
   "cell_type": "code",
   "execution_count": 36,
   "metadata": {},
   "outputs": [
    {
     "data": {
      "text/plain": [
       "0.1"
      ]
     },
     "execution_count": 36,
     "metadata": {},
     "output_type": "execute_result"
    }
   ],
   "source": [
    "optimizer.param_groups[0][\"lr\"]"
   ]
  },
  {
   "cell_type": "code",
   "execution_count": 37,
   "metadata": {},
   "outputs": [
    {
     "data": {
      "text/plain": [
       "0"
      ]
     },
     "execution_count": 37,
     "metadata": {},
     "output_type": "execute_result"
    }
   ],
   "source": [
    "earlystopper.early_stop_counter"
   ]
  },
  {
   "cell_type": "markdown",
   "metadata": {},
   "source": [
    "# [Training Loop]"
   ]
  },
  {
   "cell_type": "code",
   "execution_count": 38,
   "metadata": {},
   "outputs": [
    {
     "name": "stdout",
     "output_type": "stream",
     "text": [
      "[Epoch 1/170] :\n"
     ]
    },
    {
     "name": "stderr",
     "output_type": "stream",
     "text": [
      "1 Train: 100%|███████| 372/372 [01:34<00:00,  3.95it/s]"
     ]
    },
    {
     "name": "stdout",
     "output_type": "stream",
     "text": [
      "Train Loss: 2.4456 | Train Acc: 10.40%\n"
     ]
    },
    {
     "name": "stderr",
     "output_type": "stream",
     "text": [
      "\n"
     ]
    },
    {
     "name": "stdout",
     "output_type": "stream",
     "text": [
      "Valid Loss: 2.2895 | Valid Acc: 10.28%\n",
      "Test  Loss: 2.2637 | Test Acc: 12.94%\n",
      "updated best eval loss : 2.2894911646842955\n",
      "--------------------------------------------------\n",
      "[Epoch 2/170] :\n"
     ]
    },
    {
     "name": "stderr",
     "output_type": "stream",
     "text": [
      "2 Train: 100%|███████| 372/372 [01:21<00:00,  4.57it/s]\n"
     ]
    },
    {
     "name": "stdout",
     "output_type": "stream",
     "text": [
      "Train Loss: 2.1928 | Train Acc: 16.68%\n",
      "Valid Loss: 2.0918 | Valid Acc: 24.56%\n",
      "Test  Loss: 2.1129 | Test Acc: 20.60%\n",
      "updated best eval loss : 2.0917852401733397\n",
      "--------------------------------------------------\n",
      "[Epoch 3/170] :\n"
     ]
    },
    {
     "name": "stderr",
     "output_type": "stream",
     "text": [
      "3 Train: 100%|███████| 372/372 [01:21<00:00,  4.59it/s]\n"
     ]
    },
    {
     "name": "stdout",
     "output_type": "stream",
     "text": [
      "Train Loss: 1.8797 | Train Acc: 30.15%\n",
      "Valid Loss: 1.7872 | Valid Acc: 34.80%\n",
      "Test  Loss: 2.0979 | Test Acc: 25.94%\n",
      "updated best eval loss : 1.78724085688591\n",
      "--------------------------------------------------\n",
      "[Epoch 4/170] :\n"
     ]
    },
    {
     "name": "stderr",
     "output_type": "stream",
     "text": [
      "4 Train: 100%|███████| 372/372 [01:21<00:00,  4.57it/s]\n"
     ]
    },
    {
     "name": "stdout",
     "output_type": "stream",
     "text": [
      "Train Loss: 1.5824 | Train Acc: 42.67%\n",
      "Valid Loss: 1.6347 | Valid Acc: 42.80%\n",
      "Test  Loss: 1.9098 | Test Acc: 33.25%\n",
      "updated best eval loss : 1.6347011744976043\n",
      "--------------------------------------------------\n",
      "[Epoch 5/170] :\n"
     ]
    },
    {
     "name": "stderr",
     "output_type": "stream",
     "text": [
      "5 Train: 100%|███████| 372/372 [01:21<00:00,  4.57it/s]\n"
     ]
    },
    {
     "name": "stdout",
     "output_type": "stream",
     "text": [
      "Train Loss: 1.3653 | Train Acc: 50.67%\n",
      "Valid Loss: 1.3452 | Valid Acc: 52.08%\n",
      "Test  Loss: 1.2723 | Test Acc: 55.18%\n",
      "updated best eval loss : 1.345199716091156\n",
      "--------------------------------------------------\n",
      "[Epoch 6/170] :\n"
     ]
    },
    {
     "name": "stderr",
     "output_type": "stream",
     "text": [
      "6 Train: 100%|███████| 372/372 [01:20<00:00,  4.62it/s]\n"
     ]
    },
    {
     "name": "stdout",
     "output_type": "stream",
     "text": [
      "Train Loss: 1.1885 | Train Acc: 57.41%\n",
      "Valid Loss: 1.3742 | Valid Acc: 53.00%\n",
      "Test  Loss: 1.1632 | Test Acc: 58.57%\n",
      "--------------------------------------------------\n",
      "[Epoch 7/170] :\n"
     ]
    },
    {
     "name": "stderr",
     "output_type": "stream",
     "text": [
      "7 Train: 100%|███████| 372/372 [01:21<00:00,  4.57it/s]\n"
     ]
    },
    {
     "name": "stdout",
     "output_type": "stream",
     "text": [
      "Train Loss: 1.0547 | Train Acc: 62.72%\n",
      "Valid Loss: 1.2010 | Valid Acc: 59.04%\n",
      "Test  Loss: 2.8175 | Test Acc: 34.02%\n",
      "updated best eval loss : 1.2010330379009246\n",
      "--------------------------------------------------\n",
      "[Epoch 8/170] :\n"
     ]
    },
    {
     "name": "stderr",
     "output_type": "stream",
     "text": [
      "8 Train: 100%|███████| 372/372 [01:22<00:00,  4.53it/s]\n"
     ]
    },
    {
     "name": "stdout",
     "output_type": "stream",
     "text": [
      "Train Loss: 0.9595 | Train Acc: 66.51%\n",
      "Valid Loss: 1.0406 | Valid Acc: 63.16%\n",
      "Test  Loss: 0.9785 | Test Acc: 67.50%\n",
      "updated best eval loss : 1.0405680119991303\n",
      "--------------------------------------------------\n",
      "[Epoch 9/170] :\n"
     ]
    },
    {
     "name": "stderr",
     "output_type": "stream",
     "text": [
      "9 Train: 100%|███████| 372/372 [01:22<00:00,  4.53it/s]\n"
     ]
    },
    {
     "name": "stdout",
     "output_type": "stream",
     "text": [
      "Train Loss: 0.9044 | Train Acc: 68.43%\n",
      "Valid Loss: 1.1979 | Valid Acc: 61.36%\n",
      "Test  Loss: 1.5272 | Test Acc: 54.03%\n",
      "--------------------------------------------------\n",
      "[Epoch 10/170] :\n"
     ]
    },
    {
     "name": "stderr",
     "output_type": "stream",
     "text": [
      "10 Train: 100%|██████| 372/372 [01:22<00:00,  4.53it/s]\n"
     ]
    },
    {
     "name": "stdout",
     "output_type": "stream",
     "text": [
      "Train Loss: 0.8622 | Train Acc: 69.77%\n",
      "Valid Loss: 0.9095 | Valid Acc: 67.40%\n",
      "Test  Loss: 0.8288 | Test Acc: 71.50%\n",
      "updated best eval loss : 0.909481155872345\n",
      "--------------------------------------------------\n",
      "[Epoch 11/170] :\n"
     ]
    },
    {
     "name": "stderr",
     "output_type": "stream",
     "text": [
      "11 Train: 100%|██████| 372/372 [01:22<00:00,  4.53it/s]\n"
     ]
    },
    {
     "name": "stdout",
     "output_type": "stream",
     "text": [
      "Train Loss: 0.7987 | Train Acc: 72.24%\n",
      "Valid Loss: 0.9285 | Valid Acc: 67.52%\n",
      "Test  Loss: 1.0072 | Test Acc: 67.03%\n",
      "--------------------------------------------------\n",
      "[Epoch 12/170] :\n"
     ]
    },
    {
     "name": "stderr",
     "output_type": "stream",
     "text": [
      "12 Train: 100%|██████| 372/372 [01:21<00:00,  4.58it/s]\n"
     ]
    },
    {
     "name": "stdout",
     "output_type": "stream",
     "text": [
      "Train Loss: 0.7777 | Train Acc: 72.78%\n",
      "Valid Loss: 0.8747 | Valid Acc: 69.92%\n",
      "Test  Loss: 0.7422 | Test Acc: 73.92%\n",
      "updated best eval loss : 0.8746830433607101\n",
      "--------------------------------------------------\n",
      "[Epoch 13/170] :\n"
     ]
    },
    {
     "name": "stderr",
     "output_type": "stream",
     "text": [
      "13 Train: 100%|██████| 372/372 [01:21<00:00,  4.57it/s]\n"
     ]
    },
    {
     "name": "stdout",
     "output_type": "stream",
     "text": [
      "Train Loss: 0.7512 | Train Acc: 73.78%\n",
      "Valid Loss: 1.0931 | Valid Acc: 66.16%\n",
      "Test  Loss: 1.6363 | Test Acc: 56.79%\n",
      "--------------------------------------------------\n",
      "[Epoch 14/170] :\n"
     ]
    },
    {
     "name": "stderr",
     "output_type": "stream",
     "text": [
      "14 Train: 100%|██████| 372/372 [01:21<00:00,  4.56it/s]\n"
     ]
    },
    {
     "name": "stdout",
     "output_type": "stream",
     "text": [
      "Train Loss: 0.7252 | Train Acc: 74.90%\n",
      "Valid Loss: 0.8424 | Valid Acc: 71.16%\n",
      "Test  Loss: 1.1618 | Test Acc: 63.70%\n",
      "updated best eval loss : 0.8424089193344116\n",
      "--------------------------------------------------\n",
      "[Epoch 15/170] :\n"
     ]
    },
    {
     "name": "stderr",
     "output_type": "stream",
     "text": [
      "15 Train: 100%|██████| 372/372 [01:21<00:00,  4.54it/s]\n"
     ]
    },
    {
     "name": "stdout",
     "output_type": "stream",
     "text": [
      "Train Loss: 0.7008 | Train Acc: 75.83%\n",
      "Valid Loss: 1.0431 | Valid Acc: 64.32%\n",
      "Test  Loss: 1.2142 | Test Acc: 61.00%\n",
      "--------------------------------------------------\n",
      "[Epoch 16/170] :\n"
     ]
    },
    {
     "name": "stderr",
     "output_type": "stream",
     "text": [
      "16 Train: 100%|██████| 372/372 [01:21<00:00,  4.55it/s]\n"
     ]
    },
    {
     "name": "stdout",
     "output_type": "stream",
     "text": [
      "Train Loss: 0.6979 | Train Acc: 75.70%\n",
      "Valid Loss: 0.8127 | Valid Acc: 71.04%\n",
      "Test  Loss: 0.6338 | Test Acc: 78.35%\n",
      "updated best eval loss : 0.8126820981502533\n",
      "--------------------------------------------------\n",
      "[Epoch 17/170] :\n"
     ]
    },
    {
     "name": "stderr",
     "output_type": "stream",
     "text": [
      "17 Train: 100%|██████| 372/372 [01:20<00:00,  4.61it/s]\n"
     ]
    },
    {
     "name": "stdout",
     "output_type": "stream",
     "text": [
      "Train Loss: 0.6649 | Train Acc: 76.93%\n",
      "Valid Loss: 0.8370 | Valid Acc: 71.04%\n",
      "Test  Loss: 0.7385 | Test Acc: 75.59%\n",
      "--------------------------------------------------\n",
      "[Epoch 18/170] :\n"
     ]
    },
    {
     "name": "stderr",
     "output_type": "stream",
     "text": [
      "18 Train: 100%|██████| 372/372 [01:21<00:00,  4.59it/s]\n"
     ]
    },
    {
     "name": "stdout",
     "output_type": "stream",
     "text": [
      "Train Loss: 0.6535 | Train Acc: 77.31%\n",
      "Valid Loss: 0.8197 | Valid Acc: 71.76%\n",
      "Test  Loss: 0.8611 | Test Acc: 71.84%\n",
      "--------------------------------------------------\n",
      "[Epoch 19/170] :\n"
     ]
    },
    {
     "name": "stderr",
     "output_type": "stream",
     "text": [
      "19 Train: 100%|██████| 372/372 [01:20<00:00,  4.61it/s]\n"
     ]
    },
    {
     "name": "stdout",
     "output_type": "stream",
     "text": [
      "Train Loss: 0.6427 | Train Acc: 77.51%\n",
      "Valid Loss: 0.7390 | Valid Acc: 73.96%\n",
      "Test  Loss: 1.0493 | Test Acc: 67.29%\n",
      "updated best eval loss : 0.7389577001333236\n",
      "--------------------------------------------------\n",
      "[Epoch 20/170] :\n"
     ]
    },
    {
     "name": "stderr",
     "output_type": "stream",
     "text": [
      "20 Train: 100%|██████| 372/372 [01:20<00:00,  4.59it/s]\n"
     ]
    },
    {
     "name": "stdout",
     "output_type": "stream",
     "text": [
      "Train Loss: 0.6259 | Train Acc: 78.43%\n",
      "Valid Loss: 0.7673 | Valid Acc: 72.96%\n",
      "Test  Loss: 0.8306 | Test Acc: 73.26%\n",
      "--------------------------------------------------\n",
      "[Epoch 21/170] :\n"
     ]
    },
    {
     "name": "stderr",
     "output_type": "stream",
     "text": [
      "21 Train: 100%|██████| 372/372 [01:22<00:00,  4.52it/s]\n"
     ]
    },
    {
     "name": "stdout",
     "output_type": "stream",
     "text": [
      "Train Loss: 0.6228 | Train Acc: 78.45%\n",
      "Valid Loss: 0.8429 | Valid Acc: 71.56%\n",
      "Test  Loss: 0.6976 | Test Acc: 76.27%\n",
      "--------------------------------------------------\n",
      "[Epoch 22/170] :\n"
     ]
    },
    {
     "name": "stderr",
     "output_type": "stream",
     "text": [
      "22 Train: 100%|██████| 372/372 [01:20<00:00,  4.64it/s]\n"
     ]
    },
    {
     "name": "stdout",
     "output_type": "stream",
     "text": [
      "Train Loss: 0.6095 | Train Acc: 78.84%\n",
      "Valid Loss: 0.7301 | Valid Acc: 75.60%\n",
      "Test  Loss: 0.8482 | Test Acc: 72.53%\n",
      "updated best eval loss : 0.7301307991147041\n",
      "--------------------------------------------------\n",
      "[Epoch 23/170] :\n"
     ]
    },
    {
     "name": "stderr",
     "output_type": "stream",
     "text": [
      "23 Train: 100%|██████| 372/372 [01:21<00:00,  4.56it/s]\n"
     ]
    },
    {
     "name": "stdout",
     "output_type": "stream",
     "text": [
      "Train Loss: 0.5951 | Train Acc: 79.39%\n",
      "Valid Loss: 0.7897 | Valid Acc: 73.00%\n",
      "Test  Loss: 0.8863 | Test Acc: 70.75%\n",
      "--------------------------------------------------\n",
      "[Epoch 24/170] :\n"
     ]
    },
    {
     "name": "stderr",
     "output_type": "stream",
     "text": [
      "24 Train: 100%|██████| 372/372 [01:21<00:00,  4.57it/s]\n"
     ]
    },
    {
     "name": "stdout",
     "output_type": "stream",
     "text": [
      "Train Loss: 0.5834 | Train Acc: 79.87%\n",
      "Valid Loss: 0.7256 | Valid Acc: 76.24%\n",
      "Test  Loss: 0.7348 | Test Acc: 76.32%\n",
      "updated best eval loss : 0.7255519986152649\n",
      "--------------------------------------------------\n",
      "[Epoch 25/170] :\n"
     ]
    },
    {
     "name": "stderr",
     "output_type": "stream",
     "text": [
      "25 Train: 100%|██████| 372/372 [01:21<00:00,  4.55it/s]\n"
     ]
    },
    {
     "name": "stdout",
     "output_type": "stream",
     "text": [
      "Train Loss: 0.5797 | Train Acc: 79.96%\n",
      "Valid Loss: 0.8386 | Valid Acc: 71.80%\n",
      "Test  Loss: 0.6695 | Test Acc: 77.81%\n",
      "--------------------------------------------------\n",
      "[Epoch 26/170] :\n"
     ]
    },
    {
     "name": "stderr",
     "output_type": "stream",
     "text": [
      "26 Train: 100%|██████| 372/372 [01:21<00:00,  4.54it/s]\n"
     ]
    },
    {
     "name": "stdout",
     "output_type": "stream",
     "text": [
      "Train Loss: 0.5794 | Train Acc: 79.91%\n",
      "Valid Loss: 0.7360 | Valid Acc: 74.56%\n",
      "Test  Loss: 0.6368 | Test Acc: 77.83%\n",
      "--------------------------------------------------\n",
      "[Epoch 27/170] :\n"
     ]
    },
    {
     "name": "stderr",
     "output_type": "stream",
     "text": [
      "27 Train: 100%|██████| 372/372 [01:20<00:00,  4.60it/s]\n"
     ]
    },
    {
     "name": "stdout",
     "output_type": "stream",
     "text": [
      "Train Loss: 0.5707 | Train Acc: 80.13%\n",
      "Valid Loss: 0.7377 | Valid Acc: 73.84%\n",
      "Test  Loss: 0.8485 | Test Acc: 71.91%\n",
      "--------------------------------------------------\n",
      "[Epoch 28/170] :\n"
     ]
    },
    {
     "name": "stderr",
     "output_type": "stream",
     "text": [
      "28 Train: 100%|██████| 372/372 [01:21<00:00,  4.55it/s]\n"
     ]
    },
    {
     "name": "stdout",
     "output_type": "stream",
     "text": [
      "Train Loss: 0.5608 | Train Acc: 80.56%\n",
      "Valid Loss: 0.6788 | Valid Acc: 76.12%\n",
      "Test  Loss: 0.6876 | Test Acc: 76.31%\n",
      "updated best eval loss : 0.6788116931915283\n",
      "--------------------------------------------------\n",
      "[Epoch 29/170] :\n"
     ]
    },
    {
     "name": "stderr",
     "output_type": "stream",
     "text": [
      "29 Train: 100%|██████| 372/372 [01:22<00:00,  4.49it/s]\n"
     ]
    },
    {
     "name": "stdout",
     "output_type": "stream",
     "text": [
      "Train Loss: 0.5472 | Train Acc: 80.96%\n",
      "Valid Loss: 0.6661 | Valid Acc: 76.60%\n",
      "Test  Loss: 0.7356 | Test Acc: 76.15%\n",
      "updated best eval loss : 0.6660529568791389\n",
      "--------------------------------------------------\n",
      "[Epoch 30/170] :\n"
     ]
    },
    {
     "name": "stderr",
     "output_type": "stream",
     "text": [
      "30 Train: 100%|██████| 372/372 [01:21<00:00,  4.59it/s]\n"
     ]
    },
    {
     "name": "stdout",
     "output_type": "stream",
     "text": [
      "Train Loss: 0.5532 | Train Acc: 80.99%\n",
      "Valid Loss: 0.7038 | Valid Acc: 76.56%\n",
      "Test  Loss: 0.7155 | Test Acc: 76.66%\n",
      "--------------------------------------------------\n",
      "[Epoch 31/170] :\n"
     ]
    },
    {
     "name": "stderr",
     "output_type": "stream",
     "text": [
      "31 Train: 100%|██████| 372/372 [01:21<00:00,  4.56it/s]\n"
     ]
    },
    {
     "name": "stdout",
     "output_type": "stream",
     "text": [
      "Train Loss: 0.5358 | Train Acc: 81.43%\n",
      "Valid Loss: 0.6890 | Valid Acc: 76.00%\n",
      "Test  Loss: 0.6132 | Test Acc: 78.86%\n",
      "--------------------------------------------------\n",
      "[Epoch 32/170] :\n"
     ]
    },
    {
     "name": "stderr",
     "output_type": "stream",
     "text": [
      "32 Train: 100%|██████| 372/372 [01:22<00:00,  4.50it/s]\n"
     ]
    },
    {
     "name": "stdout",
     "output_type": "stream",
     "text": [
      "Train Loss: 0.5363 | Train Acc: 81.31%\n",
      "Valid Loss: 0.6848 | Valid Acc: 77.48%\n",
      "Test  Loss: 0.7268 | Test Acc: 76.50%\n",
      "--------------------------------------------------\n",
      "[Epoch 33/170] :\n"
     ]
    },
    {
     "name": "stderr",
     "output_type": "stream",
     "text": [
      "33 Train: 100%|██████| 372/372 [01:20<00:00,  4.62it/s]\n"
     ]
    },
    {
     "name": "stdout",
     "output_type": "stream",
     "text": [
      "Train Loss: 0.5257 | Train Acc: 81.78%\n",
      "Valid Loss: 0.7140 | Valid Acc: 76.16%\n",
      "Test  Loss: 0.7610 | Test Acc: 75.08%\n",
      "--------------------------------------------------\n",
      "[Epoch 34/170] :\n"
     ]
    },
    {
     "name": "stderr",
     "output_type": "stream",
     "text": [
      "34 Train: 100%|██████| 372/372 [01:21<00:00,  4.56it/s]\n"
     ]
    },
    {
     "name": "stdout",
     "output_type": "stream",
     "text": [
      "Train Loss: 0.5239 | Train Acc: 81.75%\n",
      "Valid Loss: 0.7195 | Valid Acc: 76.04%\n",
      "Test  Loss: 0.6879 | Test Acc: 77.66%\n",
      "--------------------------------------------------\n",
      "[Epoch 35/170] :\n"
     ]
    },
    {
     "name": "stderr",
     "output_type": "stream",
     "text": [
      "35 Train: 100%|██████| 372/372 [01:21<00:00,  4.58it/s]\n"
     ]
    },
    {
     "name": "stdout",
     "output_type": "stream",
     "text": [
      "Train Loss: 0.5208 | Train Acc: 81.87%\n",
      "Valid Loss: 0.6281 | Valid Acc: 78.24%\n",
      "Test  Loss: 0.6647 | Test Acc: 78.29%\n",
      "updated best eval loss : 0.6281392127275467\n",
      "--------------------------------------------------\n",
      "[Epoch 36/170] :\n"
     ]
    },
    {
     "name": "stderr",
     "output_type": "stream",
     "text": [
      "36 Train: 100%|██████| 372/372 [01:21<00:00,  4.58it/s]\n"
     ]
    },
    {
     "name": "stdout",
     "output_type": "stream",
     "text": [
      "Train Loss: 0.5150 | Train Acc: 82.09%\n",
      "Valid Loss: 0.7269 | Valid Acc: 74.96%\n",
      "Test  Loss: 0.7958 | Test Acc: 73.09%\n",
      "--------------------------------------------------\n",
      "[Epoch 37/170] :\n"
     ]
    },
    {
     "name": "stderr",
     "output_type": "stream",
     "text": [
      "37 Train: 100%|██████| 372/372 [01:21<00:00,  4.55it/s]\n"
     ]
    },
    {
     "name": "stdout",
     "output_type": "stream",
     "text": [
      "Train Loss: 0.5143 | Train Acc: 82.23%\n",
      "Valid Loss: 0.6417 | Valid Acc: 77.96%\n",
      "Test  Loss: 0.6799 | Test Acc: 77.96%\n",
      "--------------------------------------------------\n",
      "[Epoch 38/170] :\n"
     ]
    },
    {
     "name": "stderr",
     "output_type": "stream",
     "text": [
      "38 Train: 100%|██████| 372/372 [01:21<00:00,  4.58it/s]\n"
     ]
    },
    {
     "name": "stdout",
     "output_type": "stream",
     "text": [
      "Train Loss: 0.5074 | Train Acc: 82.49%\n",
      "Valid Loss: 0.6811 | Valid Acc: 76.04%\n",
      "Test  Loss: 0.5852 | Test Acc: 79.98%\n",
      "--------------------------------------------------\n",
      "[Epoch 39/170] :\n"
     ]
    },
    {
     "name": "stderr",
     "output_type": "stream",
     "text": [
      "39 Train: 100%|██████| 372/372 [01:21<00:00,  4.57it/s]\n"
     ]
    },
    {
     "name": "stdout",
     "output_type": "stream",
     "text": [
      "Train Loss: 0.5044 | Train Acc: 82.53%\n",
      "Valid Loss: 0.6669 | Valid Acc: 77.48%\n",
      "Test  Loss: 0.4697 | Test Acc: 84.00%\n",
      "--------------------------------------------------\n",
      "[Epoch 40/170] :\n"
     ]
    },
    {
     "name": "stderr",
     "output_type": "stream",
     "text": [
      "40 Train: 100%|██████| 372/372 [01:20<00:00,  4.62it/s]\n"
     ]
    },
    {
     "name": "stdout",
     "output_type": "stream",
     "text": [
      "Train Loss: 0.4969 | Train Acc: 82.89%\n",
      "Valid Loss: 0.7209 | Valid Acc: 75.60%\n",
      "Test  Loss: 0.4995 | Test Acc: 83.04%\n",
      "--------------------------------------------------\n",
      "[Epoch 41/170] :\n"
     ]
    },
    {
     "name": "stderr",
     "output_type": "stream",
     "text": [
      "41 Train: 100%|██████| 372/372 [01:20<00:00,  4.64it/s]\n"
     ]
    },
    {
     "name": "stdout",
     "output_type": "stream",
     "text": [
      "Train Loss: 0.4933 | Train Acc: 82.95%\n",
      "Valid Loss: 0.6888 | Valid Acc: 77.00%\n",
      "Test  Loss: 0.8010 | Test Acc: 73.64%\n",
      "--------------------------------------------------\n",
      "[Epoch 42/170] :\n"
     ]
    },
    {
     "name": "stderr",
     "output_type": "stream",
     "text": [
      "42 Train: 100%|██████| 372/372 [01:11<00:00,  5.19it/s]\n"
     ]
    },
    {
     "name": "stdout",
     "output_type": "stream",
     "text": [
      "Train Loss: 0.4954 | Train Acc: 82.67%\n",
      "Valid Loss: 0.6480 | Valid Acc: 77.64%\n",
      "Test  Loss: 0.5673 | Test Acc: 80.76%\n",
      "--------------------------------------------------\n",
      "[Epoch 43/170] :\n"
     ]
    },
    {
     "name": "stderr",
     "output_type": "stream",
     "text": [
      "43 Train: 100%|██████| 372/372 [00:50<00:00,  7.37it/s]\n"
     ]
    },
    {
     "name": "stdout",
     "output_type": "stream",
     "text": [
      "Train Loss: 0.4903 | Train Acc: 83.13%\n",
      "Valid Loss: 0.6342 | Valid Acc: 78.08%\n",
      "Test  Loss: 0.6011 | Test Acc: 80.15%\n",
      "--------------------------------------------------\n",
      "[Epoch 44/170] :\n"
     ]
    },
    {
     "name": "stderr",
     "output_type": "stream",
     "text": [
      "44 Train: 100%|██████| 372/372 [00:45<00:00,  8.19it/s]\n"
     ]
    },
    {
     "name": "stdout",
     "output_type": "stream",
     "text": [
      "Train Loss: 0.4821 | Train Acc: 83.23%\n",
      "Valid Loss: 0.5821 | Valid Acc: 79.24%\n",
      "Test  Loss: 0.5779 | Test Acc: 80.48%\n",
      "updated best eval loss : 0.5820921286940575\n",
      "--------------------------------------------------\n",
      "[Epoch 45/170] :\n"
     ]
    },
    {
     "name": "stderr",
     "output_type": "stream",
     "text": [
      "45 Train: 100%|██████| 372/372 [00:41<00:00,  8.95it/s]\n"
     ]
    },
    {
     "name": "stdout",
     "output_type": "stream",
     "text": [
      "Train Loss: 0.4802 | Train Acc: 83.39%\n",
      "Valid Loss: 0.6829 | Valid Acc: 77.36%\n",
      "Test  Loss: 0.5893 | Test Acc: 80.16%\n",
      "--------------------------------------------------\n",
      "[Epoch 46/170] :\n"
     ]
    },
    {
     "name": "stderr",
     "output_type": "stream",
     "text": [
      "46 Train: 100%|██████| 372/372 [00:41<00:00,  8.92it/s]\n"
     ]
    },
    {
     "name": "stdout",
     "output_type": "stream",
     "text": [
      "Train Loss: 0.4819 | Train Acc: 83.27%\n",
      "Valid Loss: 0.6233 | Valid Acc: 78.08%\n",
      "Test  Loss: 0.5697 | Test Acc: 80.70%\n",
      "--------------------------------------------------\n",
      "[Epoch 47/170] :\n"
     ]
    },
    {
     "name": "stderr",
     "output_type": "stream",
     "text": [
      "47 Train: 100%|██████| 372/372 [00:41<00:00,  8.97it/s]\n"
     ]
    },
    {
     "name": "stdout",
     "output_type": "stream",
     "text": [
      "Train Loss: 0.4788 | Train Acc: 83.31%\n",
      "Valid Loss: 0.6496 | Valid Acc: 77.96%\n",
      "Test  Loss: 0.6660 | Test Acc: 78.64%\n",
      "--------------------------------------------------\n",
      "[Epoch 48/170] :\n"
     ]
    },
    {
     "name": "stderr",
     "output_type": "stream",
     "text": [
      "48 Train: 100%|██████| 372/372 [00:42<00:00,  8.82it/s]\n"
     ]
    },
    {
     "name": "stdout",
     "output_type": "stream",
     "text": [
      "Train Loss: 0.4852 | Train Acc: 83.29%\n",
      "Valid Loss: 0.6668 | Valid Acc: 76.92%\n",
      "Test  Loss: 0.6443 | Test Acc: 78.93%\n",
      "--------------------------------------------------\n",
      "[Epoch 49/170] :\n"
     ]
    },
    {
     "name": "stderr",
     "output_type": "stream",
     "text": [
      "49 Train: 100%|██████| 372/372 [00:41<00:00,  8.96it/s]\n"
     ]
    },
    {
     "name": "stdout",
     "output_type": "stream",
     "text": [
      "Train Loss: 0.4743 | Train Acc: 83.47%\n",
      "Valid Loss: 0.6719 | Valid Acc: 76.68%\n",
      "Test  Loss: 0.8270 | Test Acc: 73.76%\n",
      "--------------------------------------------------\n",
      "[Epoch 50/170] :\n"
     ]
    },
    {
     "name": "stderr",
     "output_type": "stream",
     "text": [
      "50 Train: 100%|██████| 372/372 [00:42<00:00,  8.84it/s]\n"
     ]
    },
    {
     "name": "stdout",
     "output_type": "stream",
     "text": [
      "Train Loss: 0.4712 | Train Acc: 83.69%\n",
      "Valid Loss: 0.6047 | Valid Acc: 78.60%\n",
      "Test  Loss: 0.4811 | Test Acc: 84.06%\n",
      "--------------------------------------------------\n",
      "[Epoch 51/170] :\n"
     ]
    },
    {
     "name": "stderr",
     "output_type": "stream",
     "text": [
      "51 Train: 100%|██████| 372/372 [00:42<00:00,  8.80it/s]\n"
     ]
    },
    {
     "name": "stdout",
     "output_type": "stream",
     "text": [
      "Train Loss: 0.4705 | Train Acc: 83.68%\n",
      "Valid Loss: 0.7366 | Valid Acc: 74.72%\n",
      "Test  Loss: 0.8987 | Test Acc: 71.52%\n",
      "--------------------------------------------------\n",
      "[Epoch 52/170] :\n"
     ]
    },
    {
     "name": "stderr",
     "output_type": "stream",
     "text": [
      "52 Train: 100%|██████| 372/372 [00:42<00:00,  8.84it/s]\n"
     ]
    },
    {
     "name": "stdout",
     "output_type": "stream",
     "text": [
      "Train Loss: 0.4666 | Train Acc: 83.91%\n",
      "Valid Loss: 0.6010 | Valid Acc: 78.48%\n",
      "Test  Loss: 0.6238 | Test Acc: 78.71%\n",
      "--------------------------------------------------\n",
      "[Epoch 53/170] :\n"
     ]
    },
    {
     "name": "stderr",
     "output_type": "stream",
     "text": [
      "53 Train: 100%|██████| 372/372 [00:41<00:00,  8.95it/s]\n"
     ]
    },
    {
     "name": "stdout",
     "output_type": "stream",
     "text": [
      "Train Loss: 0.4672 | Train Acc: 83.70%\n",
      "Valid Loss: 0.7002 | Valid Acc: 76.44%\n",
      "Test  Loss: 0.5871 | Test Acc: 80.73%\n",
      "--------------------------------------------------\n",
      "[Epoch 54/170] :\n"
     ]
    },
    {
     "name": "stderr",
     "output_type": "stream",
     "text": [
      "54 Train: 100%|██████| 372/372 [00:41<00:00,  9.03it/s]\n"
     ]
    },
    {
     "name": "stdout",
     "output_type": "stream",
     "text": [
      "Train Loss: 0.4661 | Train Acc: 83.92%\n",
      "Valid Loss: 0.5919 | Valid Acc: 78.96%\n",
      "Test  Loss: 0.5822 | Test Acc: 80.64%\n",
      "--------------------------------------------------\n",
      "[Epoch 55/170] :\n"
     ]
    },
    {
     "name": "stderr",
     "output_type": "stream",
     "text": [
      "55 Train: 100%|██████| 372/372 [00:31<00:00, 11.83it/s]\n"
     ]
    },
    {
     "name": "stdout",
     "output_type": "stream",
     "text": [
      "Train Loss: 0.4592 | Train Acc: 84.06%\n",
      "Valid Loss: 0.7267 | Valid Acc: 76.88%\n",
      "Test  Loss: 0.7476 | Test Acc: 76.36%\n",
      "--------------------------------------------------\n",
      "[Epoch 56/170] :\n"
     ]
    },
    {
     "name": "stderr",
     "output_type": "stream",
     "text": [
      "56 Train: 100%|██████| 372/372 [00:31<00:00, 11.90it/s]\n"
     ]
    },
    {
     "name": "stdout",
     "output_type": "stream",
     "text": [
      "Train Loss: 0.3710 | Train Acc: 87.10%\n",
      "Valid Loss: 0.4469 | Valid Acc: 84.40%\n",
      "Test  Loss: 0.4246 | Test Acc: 85.42%\n",
      "updated best eval loss : 0.44687939435243607\n",
      "--------------------------------------------------\n",
      "[Epoch 57/170] :\n"
     ]
    },
    {
     "name": "stderr",
     "output_type": "stream",
     "text": [
      "57 Train: 100%|██████| 372/372 [00:30<00:00, 12.08it/s]\n"
     ]
    },
    {
     "name": "stdout",
     "output_type": "stream",
     "text": [
      "Train Loss: 0.3344 | Train Acc: 88.40%\n",
      "Valid Loss: 0.4358 | Valid Acc: 84.52%\n",
      "Test  Loss: 0.4207 | Test Acc: 85.65%\n",
      "updated best eval loss : 0.43580309897661207\n",
      "--------------------------------------------------\n",
      "[Epoch 58/170] :\n"
     ]
    },
    {
     "name": "stderr",
     "output_type": "stream",
     "text": [
      "58 Train: 100%|██████| 372/372 [00:31<00:00, 11.72it/s]\n"
     ]
    },
    {
     "name": "stdout",
     "output_type": "stream",
     "text": [
      "Train Loss: 0.3267 | Train Acc: 88.57%\n",
      "Valid Loss: 0.4101 | Valid Acc: 85.52%\n",
      "Test  Loss: 0.4478 | Test Acc: 84.93%\n",
      "updated best eval loss : 0.4101248264312744\n",
      "--------------------------------------------------\n",
      "[Epoch 59/170] :\n"
     ]
    },
    {
     "name": "stderr",
     "output_type": "stream",
     "text": [
      "59 Train: 100%|██████| 372/372 [00:31<00:00, 11.67it/s]\n"
     ]
    },
    {
     "name": "stdout",
     "output_type": "stream",
     "text": [
      "Train Loss: 0.3174 | Train Acc: 89.04%\n",
      "Valid Loss: 0.4256 | Valid Acc: 84.96%\n",
      "Test  Loss: 0.4143 | Test Acc: 86.26%\n",
      "--------------------------------------------------\n",
      "[Epoch 60/170] :\n"
     ]
    },
    {
     "name": "stderr",
     "output_type": "stream",
     "text": [
      "60 Train: 100%|██████| 372/372 [00:31<00:00, 11.85it/s]\n"
     ]
    },
    {
     "name": "stdout",
     "output_type": "stream",
     "text": [
      "Train Loss: 0.3102 | Train Acc: 89.04%\n",
      "Valid Loss: 0.4184 | Valid Acc: 85.48%\n",
      "Test  Loss: 0.4009 | Test Acc: 86.79%\n",
      "--------------------------------------------------\n",
      "[Epoch 61/170] :\n"
     ]
    },
    {
     "name": "stderr",
     "output_type": "stream",
     "text": [
      "61 Train: 100%|██████| 372/372 [00:31<00:00, 11.71it/s]\n"
     ]
    },
    {
     "name": "stdout",
     "output_type": "stream",
     "text": [
      "Train Loss: 0.3086 | Train Acc: 89.23%\n",
      "Valid Loss: 0.4277 | Valid Acc: 84.16%\n",
      "Test  Loss: 0.3950 | Test Acc: 86.58%\n",
      "--------------------------------------------------\n",
      "[Epoch 62/170] :\n"
     ]
    },
    {
     "name": "stderr",
     "output_type": "stream",
     "text": [
      "62 Train: 100%|██████| 372/372 [00:31<00:00, 11.91it/s]\n"
     ]
    },
    {
     "name": "stdout",
     "output_type": "stream",
     "text": [
      "Train Loss: 0.2979 | Train Acc: 89.48%\n",
      "Valid Loss: 0.4016 | Valid Acc: 85.96%\n",
      "Test  Loss: 0.3772 | Test Acc: 87.24%\n",
      "updated best eval loss : 0.40159533768892286\n",
      "--------------------------------------------------\n",
      "[Epoch 63/170] :\n"
     ]
    },
    {
     "name": "stderr",
     "output_type": "stream",
     "text": [
      "63 Train: 100%|██████| 372/372 [00:31<00:00, 11.81it/s]\n"
     ]
    },
    {
     "name": "stdout",
     "output_type": "stream",
     "text": [
      "Train Loss: 0.2984 | Train Acc: 89.68%\n",
      "Valid Loss: 0.4178 | Valid Acc: 85.44%\n",
      "Test  Loss: 0.3998 | Test Acc: 86.85%\n",
      "--------------------------------------------------\n",
      "[Epoch 64/170] :\n"
     ]
    },
    {
     "name": "stderr",
     "output_type": "stream",
     "text": [
      "64 Train: 100%|██████| 372/372 [00:31<00:00, 11.95it/s]\n"
     ]
    },
    {
     "name": "stdout",
     "output_type": "stream",
     "text": [
      "Train Loss: 0.2947 | Train Acc: 89.60%\n",
      "Valid Loss: 0.4199 | Valid Acc: 85.88%\n",
      "Test  Loss: 0.3873 | Test Acc: 87.27%\n",
      "--------------------------------------------------\n",
      "[Epoch 65/170] :\n"
     ]
    },
    {
     "name": "stderr",
     "output_type": "stream",
     "text": [
      "65 Train: 100%|██████| 372/372 [00:31<00:00, 11.79it/s]\n"
     ]
    },
    {
     "name": "stdout",
     "output_type": "stream",
     "text": [
      "Train Loss: 0.2908 | Train Acc: 89.78%\n",
      "Valid Loss: 0.3947 | Valid Acc: 86.48%\n",
      "Test  Loss: 0.3687 | Test Acc: 87.64%\n",
      "updated best eval loss : 0.39471378847956656\n",
      "--------------------------------------------------\n",
      "[Epoch 66/170] :\n"
     ]
    },
    {
     "name": "stderr",
     "output_type": "stream",
     "text": [
      "66 Train: 100%|██████| 372/372 [00:31<00:00, 11.85it/s]\n"
     ]
    },
    {
     "name": "stdout",
     "output_type": "stream",
     "text": [
      "Train Loss: 0.2954 | Train Acc: 89.69%\n",
      "Valid Loss: 0.4019 | Valid Acc: 86.24%\n",
      "Test  Loss: 0.3786 | Test Acc: 87.36%\n",
      "--------------------------------------------------\n",
      "[Epoch 67/170] :\n"
     ]
    },
    {
     "name": "stderr",
     "output_type": "stream",
     "text": [
      "67 Train: 100%|██████| 372/372 [00:30<00:00, 12.01it/s]\n"
     ]
    },
    {
     "name": "stdout",
     "output_type": "stream",
     "text": [
      "Train Loss: 0.2860 | Train Acc: 89.92%\n",
      "Valid Loss: 0.3875 | Valid Acc: 86.44%\n",
      "Test  Loss: 0.3956 | Test Acc: 87.05%\n",
      "updated best eval loss : 0.38745154067873955\n",
      "--------------------------------------------------\n",
      "[Epoch 68/170] :\n"
     ]
    },
    {
     "name": "stderr",
     "output_type": "stream",
     "text": [
      "68 Train: 100%|██████| 372/372 [00:31<00:00, 11.69it/s]\n"
     ]
    },
    {
     "name": "stdout",
     "output_type": "stream",
     "text": [
      "Train Loss: 0.2864 | Train Acc: 90.04%\n",
      "Valid Loss: 0.4028 | Valid Acc: 86.08%\n",
      "Test  Loss: 0.3877 | Test Acc: 87.02%\n",
      "--------------------------------------------------\n",
      "[Epoch 69/170] :\n"
     ]
    },
    {
     "name": "stderr",
     "output_type": "stream",
     "text": [
      "69 Train: 100%|██████| 372/372 [00:31<00:00, 11.74it/s]\n"
     ]
    },
    {
     "name": "stdout",
     "output_type": "stream",
     "text": [
      "Train Loss: 0.2774 | Train Acc: 90.29%\n",
      "Valid Loss: 0.4264 | Valid Acc: 85.36%\n",
      "Test  Loss: 0.3829 | Test Acc: 87.29%\n",
      "--------------------------------------------------\n",
      "[Epoch 70/170] :\n"
     ]
    },
    {
     "name": "stderr",
     "output_type": "stream",
     "text": [
      "70 Train: 100%|██████| 372/372 [00:31<00:00, 11.78it/s]\n"
     ]
    },
    {
     "name": "stdout",
     "output_type": "stream",
     "text": [
      "Train Loss: 0.2829 | Train Acc: 90.17%\n",
      "Valid Loss: 0.4197 | Valid Acc: 85.32%\n",
      "Test  Loss: 0.3896 | Test Acc: 87.18%\n",
      "--------------------------------------------------\n",
      "[Epoch 71/170] :\n"
     ]
    },
    {
     "name": "stderr",
     "output_type": "stream",
     "text": [
      "71 Train: 100%|██████| 372/372 [00:31<00:00, 11.85it/s]\n"
     ]
    },
    {
     "name": "stdout",
     "output_type": "stream",
     "text": [
      "Train Loss: 0.2777 | Train Acc: 90.28%\n",
      "Valid Loss: 0.4067 | Valid Acc: 86.08%\n",
      "Test  Loss: 0.3850 | Test Acc: 87.37%\n",
      "--------------------------------------------------\n",
      "[Epoch 72/170] :\n"
     ]
    },
    {
     "name": "stderr",
     "output_type": "stream",
     "text": [
      "72 Train: 100%|██████| 372/372 [00:31<00:00, 11.80it/s]\n"
     ]
    },
    {
     "name": "stdout",
     "output_type": "stream",
     "text": [
      "Train Loss: 0.2790 | Train Acc: 90.21%\n",
      "Valid Loss: 0.4208 | Valid Acc: 86.04%\n",
      "Test  Loss: 0.3826 | Test Acc: 87.66%\n",
      "--------------------------------------------------\n",
      "[Epoch 73/170] :\n"
     ]
    },
    {
     "name": "stderr",
     "output_type": "stream",
     "text": [
      "73 Train: 100%|██████| 372/372 [00:31<00:00, 11.89it/s]\n"
     ]
    },
    {
     "name": "stdout",
     "output_type": "stream",
     "text": [
      "Train Loss: 0.2685 | Train Acc: 90.69%\n",
      "Valid Loss: 0.3798 | Valid Acc: 86.00%\n",
      "Test  Loss: 0.4006 | Test Acc: 87.28%\n",
      "updated best eval loss : 0.37981202006340026\n",
      "--------------------------------------------------\n",
      "[Epoch 74/170] :\n"
     ]
    },
    {
     "name": "stderr",
     "output_type": "stream",
     "text": [
      "74 Train: 100%|██████| 372/372 [00:31<00:00, 11.82it/s]\n"
     ]
    },
    {
     "name": "stdout",
     "output_type": "stream",
     "text": [
      "Train Loss: 0.2743 | Train Acc: 90.50%\n",
      "Valid Loss: 0.3982 | Valid Acc: 86.00%\n",
      "Test  Loss: 0.3744 | Test Acc: 87.68%\n",
      "--------------------------------------------------\n",
      "[Epoch 75/170] :\n"
     ]
    },
    {
     "name": "stderr",
     "output_type": "stream",
     "text": [
      "75 Train: 100%|██████| 372/372 [00:31<00:00, 11.67it/s]\n"
     ]
    },
    {
     "name": "stdout",
     "output_type": "stream",
     "text": [
      "Train Loss: 0.2686 | Train Acc: 90.50%\n",
      "Valid Loss: 0.4178 | Valid Acc: 86.20%\n",
      "Test  Loss: 0.4002 | Test Acc: 86.82%\n",
      "--------------------------------------------------\n",
      "[Epoch 76/170] :\n"
     ]
    },
    {
     "name": "stderr",
     "output_type": "stream",
     "text": [
      "76 Train: 100%|██████| 372/372 [00:31<00:00, 11.72it/s]\n"
     ]
    },
    {
     "name": "stdout",
     "output_type": "stream",
     "text": [
      "Train Loss: 0.2705 | Train Acc: 90.51%\n",
      "Valid Loss: 0.4181 | Valid Acc: 85.68%\n",
      "Test  Loss: 0.3823 | Test Acc: 87.64%\n",
      "--------------------------------------------------\n",
      "[Epoch 77/170] :\n"
     ]
    },
    {
     "name": "stderr",
     "output_type": "stream",
     "text": [
      "77 Train: 100%|██████| 372/372 [00:32<00:00, 11.49it/s]\n"
     ]
    },
    {
     "name": "stdout",
     "output_type": "stream",
     "text": [
      "Train Loss: 0.2685 | Train Acc: 90.60%\n",
      "Valid Loss: 0.3889 | Valid Acc: 87.40%\n",
      "Test  Loss: 0.3684 | Test Acc: 87.70%\n",
      "--------------------------------------------------\n",
      "[Epoch 78/170] :\n"
     ]
    },
    {
     "name": "stderr",
     "output_type": "stream",
     "text": [
      "78 Train: 100%|██████| 372/372 [00:31<00:00, 11.90it/s]\n"
     ]
    },
    {
     "name": "stdout",
     "output_type": "stream",
     "text": [
      "Train Loss: 0.2612 | Train Acc: 90.85%\n",
      "Valid Loss: 0.4077 | Valid Acc: 85.76%\n",
      "Test  Loss: 0.3885 | Test Acc: 87.33%\n",
      "--------------------------------------------------\n",
      "[Epoch 79/170] :\n"
     ]
    },
    {
     "name": "stderr",
     "output_type": "stream",
     "text": [
      "79 Train: 100%|██████| 372/372 [00:31<00:00, 11.76it/s]\n"
     ]
    },
    {
     "name": "stdout",
     "output_type": "stream",
     "text": [
      "Train Loss: 0.2604 | Train Acc: 90.94%\n",
      "Valid Loss: 0.4040 | Valid Acc: 86.84%\n",
      "Test  Loss: 0.4055 | Test Acc: 86.59%\n",
      "--------------------------------------------------\n",
      "[Epoch 80/170] :\n"
     ]
    },
    {
     "name": "stderr",
     "output_type": "stream",
     "text": [
      "80 Train: 100%|██████| 372/372 [00:31<00:00, 11.76it/s]\n"
     ]
    },
    {
     "name": "stdout",
     "output_type": "stream",
     "text": [
      "Train Loss: 0.2571 | Train Acc: 91.04%\n",
      "Valid Loss: 0.3962 | Valid Acc: 87.12%\n",
      "Test  Loss: 0.4012 | Test Acc: 86.96%\n",
      "--------------------------------------------------\n",
      "[Epoch 81/170] :\n"
     ]
    },
    {
     "name": "stderr",
     "output_type": "stream",
     "text": [
      "81 Train: 100%|██████| 372/372 [00:31<00:00, 11.65it/s]\n"
     ]
    },
    {
     "name": "stdout",
     "output_type": "stream",
     "text": [
      "Train Loss: 0.2604 | Train Acc: 91.00%\n",
      "Valid Loss: 0.4053 | Valid Acc: 86.76%\n",
      "Test  Loss: 0.3626 | Test Acc: 88.01%\n",
      "--------------------------------------------------\n",
      "[Epoch 82/170] :\n"
     ]
    },
    {
     "name": "stderr",
     "output_type": "stream",
     "text": [
      "82 Train: 100%|██████| 372/372 [00:31<00:00, 11.98it/s]\n"
     ]
    },
    {
     "name": "stdout",
     "output_type": "stream",
     "text": [
      "Train Loss: 0.2563 | Train Acc: 91.01%\n",
      "Valid Loss: 0.3622 | Valid Acc: 87.44%\n",
      "Test  Loss: 0.3895 | Test Acc: 87.22%\n",
      "updated best eval loss : 0.3622048057615757\n",
      "--------------------------------------------------\n",
      "[Epoch 83/170] :\n"
     ]
    },
    {
     "name": "stderr",
     "output_type": "stream",
     "text": [
      "83 Train: 100%|██████| 372/372 [00:32<00:00, 11.55it/s]\n"
     ]
    },
    {
     "name": "stdout",
     "output_type": "stream",
     "text": [
      "Train Loss: 0.2579 | Train Acc: 91.04%\n",
      "Valid Loss: 0.4031 | Valid Acc: 85.92%\n",
      "Test  Loss: 0.3888 | Test Acc: 87.44%\n",
      "--------------------------------------------------\n",
      "[Epoch 84/170] :\n"
     ]
    },
    {
     "name": "stderr",
     "output_type": "stream",
     "text": [
      "84 Train: 100%|██████| 372/372 [00:31<00:00, 11.68it/s]\n"
     ]
    },
    {
     "name": "stdout",
     "output_type": "stream",
     "text": [
      "Train Loss: 0.2617 | Train Acc: 90.96%\n",
      "Valid Loss: 0.3932 | Valid Acc: 86.68%\n",
      "Test  Loss: 0.3788 | Test Acc: 87.98%\n",
      "--------------------------------------------------\n",
      "[Epoch 85/170] :\n"
     ]
    },
    {
     "name": "stderr",
     "output_type": "stream",
     "text": [
      "85 Train: 100%|██████| 372/372 [00:31<00:00, 11.90it/s]\n"
     ]
    },
    {
     "name": "stdout",
     "output_type": "stream",
     "text": [
      "Train Loss: 0.2591 | Train Acc: 90.81%\n",
      "Valid Loss: 0.4274 | Valid Acc: 84.92%\n",
      "Test  Loss: 0.3874 | Test Acc: 87.37%\n",
      "--------------------------------------------------\n",
      "[Epoch 86/170] :\n"
     ]
    },
    {
     "name": "stderr",
     "output_type": "stream",
     "text": [
      "86 Train: 100%|██████| 372/372 [00:31<00:00, 11.79it/s]\n"
     ]
    },
    {
     "name": "stdout",
     "output_type": "stream",
     "text": [
      "Train Loss: 0.2572 | Train Acc: 91.09%\n",
      "Valid Loss: 0.4331 | Valid Acc: 85.84%\n",
      "Test  Loss: 0.3837 | Test Acc: 87.50%\n",
      "--------------------------------------------------\n",
      "[Epoch 87/170] :\n"
     ]
    },
    {
     "name": "stderr",
     "output_type": "stream",
     "text": [
      "87 Train: 100%|██████| 372/372 [00:31<00:00, 11.78it/s]\n"
     ]
    },
    {
     "name": "stdout",
     "output_type": "stream",
     "text": [
      "Train Loss: 0.2503 | Train Acc: 91.25%\n",
      "Valid Loss: 0.4139 | Valid Acc: 85.76%\n",
      "Test  Loss: 0.3694 | Test Acc: 88.03%\n",
      "--------------------------------------------------\n",
      "[Epoch 88/170] :\n"
     ]
    },
    {
     "name": "stderr",
     "output_type": "stream",
     "text": [
      "88 Train: 100%|██████| 372/372 [00:31<00:00, 11.84it/s]\n"
     ]
    },
    {
     "name": "stdout",
     "output_type": "stream",
     "text": [
      "Train Loss: 0.2468 | Train Acc: 91.24%\n",
      "Valid Loss: 0.4117 | Valid Acc: 86.52%\n",
      "Test  Loss: 0.4104 | Test Acc: 86.76%\n",
      "--------------------------------------------------\n",
      "[Epoch 89/170] :\n"
     ]
    },
    {
     "name": "stderr",
     "output_type": "stream",
     "text": [
      "89 Train: 100%|██████| 372/372 [00:31<00:00, 11.87it/s]\n"
     ]
    },
    {
     "name": "stdout",
     "output_type": "stream",
     "text": [
      "Train Loss: 0.2560 | Train Acc: 91.04%\n",
      "Valid Loss: 0.3875 | Valid Acc: 86.48%\n",
      "Test  Loss: 0.4031 | Test Acc: 86.91%\n",
      "--------------------------------------------------\n",
      "[Epoch 90/170] :\n"
     ]
    },
    {
     "name": "stderr",
     "output_type": "stream",
     "text": [
      "90 Train: 100%|██████| 372/372 [00:31<00:00, 11.79it/s]\n"
     ]
    },
    {
     "name": "stdout",
     "output_type": "stream",
     "text": [
      "Train Loss: 0.2483 | Train Acc: 91.31%\n",
      "Valid Loss: 0.3993 | Valid Acc: 86.20%\n",
      "Test  Loss: 0.3945 | Test Acc: 87.42%\n",
      "--------------------------------------------------\n",
      "[Epoch 91/170] :\n"
     ]
    },
    {
     "name": "stderr",
     "output_type": "stream",
     "text": [
      "91 Train: 100%|██████| 372/372 [00:31<00:00, 11.89it/s]\n"
     ]
    },
    {
     "name": "stdout",
     "output_type": "stream",
     "text": [
      "Train Loss: 0.2478 | Train Acc: 91.32%\n",
      "Valid Loss: 0.4089 | Valid Acc: 86.60%\n",
      "Test  Loss: 0.4079 | Test Acc: 87.27%\n",
      "--------------------------------------------------\n",
      "[Epoch 92/170] :\n"
     ]
    },
    {
     "name": "stderr",
     "output_type": "stream",
     "text": [
      "92 Train: 100%|██████| 372/372 [00:31<00:00, 11.63it/s]\n"
     ]
    },
    {
     "name": "stdout",
     "output_type": "stream",
     "text": [
      "Train Loss: 0.2479 | Train Acc: 91.28%\n",
      "Valid Loss: 0.4035 | Valid Acc: 85.60%\n",
      "Test  Loss: 0.4540 | Test Acc: 86.02%\n",
      "--------------------------------------------------\n",
      "[Epoch 93/170] :\n"
     ]
    },
    {
     "name": "stderr",
     "output_type": "stream",
     "text": [
      "93 Train: 100%|██████| 372/372 [00:31<00:00, 11.77it/s]\n"
     ]
    },
    {
     "name": "stdout",
     "output_type": "stream",
     "text": [
      "Train Loss: 0.2440 | Train Acc: 91.46%\n",
      "Valid Loss: 0.4000 | Valid Acc: 86.72%\n",
      "Test  Loss: 0.4211 | Test Acc: 87.00%\n",
      "--------------------------------------------------\n",
      "[Epoch 94/170] :\n"
     ]
    },
    {
     "name": "stderr",
     "output_type": "stream",
     "text": [
      "94 Train: 100%|██████| 372/372 [00:31<00:00, 11.68it/s]\n"
     ]
    },
    {
     "name": "stdout",
     "output_type": "stream",
     "text": [
      "Train Loss: 0.2515 | Train Acc: 91.12%\n",
      "Valid Loss: 0.3838 | Valid Acc: 86.76%\n",
      "Test  Loss: 0.4245 | Test Acc: 86.91%\n",
      "--------------------------------------------------\n",
      "[Epoch 95/170] :\n"
     ]
    },
    {
     "name": "stderr",
     "output_type": "stream",
     "text": [
      "95 Train: 100%|██████| 372/372 [00:31<00:00, 11.76it/s]\n"
     ]
    },
    {
     "name": "stdout",
     "output_type": "stream",
     "text": [
      "Train Loss: 0.2469 | Train Acc: 91.27%\n",
      "Valid Loss: 0.4053 | Valid Acc: 86.48%\n",
      "Test  Loss: 0.4265 | Test Acc: 86.95%\n",
      "--------------------------------------------------\n",
      "[Epoch 96/170] :\n"
     ]
    },
    {
     "name": "stderr",
     "output_type": "stream",
     "text": [
      "96 Train: 100%|██████| 372/372 [00:31<00:00, 11.79it/s]\n"
     ]
    },
    {
     "name": "stdout",
     "output_type": "stream",
     "text": [
      "Train Loss: 0.2449 | Train Acc: 91.45%\n",
      "Valid Loss: 0.4007 | Valid Acc: 86.36%\n",
      "Test  Loss: 0.4194 | Test Acc: 86.67%\n",
      "--------------------------------------------------\n",
      "[Epoch 97/170] :\n"
     ]
    },
    {
     "name": "stderr",
     "output_type": "stream",
     "text": [
      "97 Train: 100%|██████| 372/372 [00:31<00:00, 11.68it/s]\n"
     ]
    },
    {
     "name": "stdout",
     "output_type": "stream",
     "text": [
      "Train Loss: 0.2447 | Train Acc: 91.40%\n",
      "Valid Loss: 0.3976 | Valid Acc: 86.40%\n",
      "Test  Loss: 0.3676 | Test Acc: 88.08%\n",
      "--------------------------------------------------\n",
      "[Epoch 98/170] :\n"
     ]
    },
    {
     "name": "stderr",
     "output_type": "stream",
     "text": [
      "98 Train: 100%|██████| 372/372 [00:31<00:00, 11.93it/s]\n"
     ]
    },
    {
     "name": "stdout",
     "output_type": "stream",
     "text": [
      "Train Loss: 0.2382 | Train Acc: 91.67%\n",
      "Valid Loss: 0.4012 | Valid Acc: 86.40%\n",
      "Test  Loss: 0.3921 | Test Acc: 87.48%\n",
      "--------------------------------------------------\n",
      "[Epoch 99/170] :\n"
     ]
    },
    {
     "name": "stderr",
     "output_type": "stream",
     "text": [
      "99 Train: 100%|██████| 372/372 [00:31<00:00, 11.82it/s]\n"
     ]
    },
    {
     "name": "stdout",
     "output_type": "stream",
     "text": [
      "Train Loss: 0.2432 | Train Acc: 91.61%\n",
      "Valid Loss: 0.4164 | Valid Acc: 85.56%\n",
      "Test  Loss: 0.4248 | Test Acc: 86.83%\n",
      "--------------------------------------------------\n",
      "[Epoch 100/170] :\n"
     ]
    },
    {
     "name": "stderr",
     "output_type": "stream",
     "text": [
      "100 Train: 100%|█████| 372/372 [00:31<00:00, 11.82it/s]\n"
     ]
    },
    {
     "name": "stdout",
     "output_type": "stream",
     "text": [
      "Train Loss: 0.2412 | Train Acc: 91.45%\n",
      "Valid Loss: 0.4099 | Valid Acc: 86.68%\n",
      "Test  Loss: 0.4214 | Test Acc: 86.55%\n",
      "--------------------------------------------------\n",
      "[Epoch 101/170] :\n"
     ]
    },
    {
     "name": "stderr",
     "output_type": "stream",
     "text": [
      "101 Train: 100%|█████| 372/372 [00:31<00:00, 11.65it/s]\n"
     ]
    },
    {
     "name": "stdout",
     "output_type": "stream",
     "text": [
      "Train Loss: 0.2368 | Train Acc: 91.86%\n",
      "Valid Loss: 0.4212 | Valid Acc: 85.56%\n",
      "Test  Loss: 0.4140 | Test Acc: 87.06%\n",
      "--------------------------------------------------\n",
      "[Epoch 102/170] :\n"
     ]
    },
    {
     "name": "stderr",
     "output_type": "stream",
     "text": [
      "102 Train: 100%|█████| 372/372 [00:32<00:00, 11.57it/s]\n"
     ]
    },
    {
     "name": "stdout",
     "output_type": "stream",
     "text": [
      "Train Loss: 0.2408 | Train Acc: 91.52%\n",
      "Valid Loss: 0.4108 | Valid Acc: 86.28%\n",
      "Test  Loss: 0.3966 | Test Acc: 87.36%\n",
      "--------------------------------------------------\n",
      "[Epoch 103/170] :\n"
     ]
    },
    {
     "name": "stderr",
     "output_type": "stream",
     "text": [
      "103 Train: 100%|█████| 372/372 [00:31<00:00, 11.99it/s]\n"
     ]
    },
    {
     "name": "stdout",
     "output_type": "stream",
     "text": [
      "Train Loss: 0.2428 | Train Acc: 91.58%\n",
      "Valid Loss: 0.3810 | Valid Acc: 86.60%\n",
      "Test  Loss: 0.3885 | Test Acc: 87.82%\n",
      "--------------------------------------------------\n",
      "[Epoch 104/170] :\n"
     ]
    },
    {
     "name": "stderr",
     "output_type": "stream",
     "text": [
      "104 Train: 100%|█████| 372/372 [00:31<00:00, 11.85it/s]\n"
     ]
    },
    {
     "name": "stdout",
     "output_type": "stream",
     "text": [
      "Train Loss: 0.2416 | Train Acc: 91.59%\n",
      "Valid Loss: 0.4385 | Valid Acc: 85.88%\n",
      "Test  Loss: 0.4094 | Test Acc: 87.14%\n",
      "--------------------------------------------------\n",
      "[Epoch 105/170] :\n"
     ]
    },
    {
     "name": "stderr",
     "output_type": "stream",
     "text": [
      "105 Train: 100%|█████| 372/372 [00:31<00:00, 11.75it/s]\n"
     ]
    },
    {
     "name": "stdout",
     "output_type": "stream",
     "text": [
      "Train Loss: 0.2400 | Train Acc: 91.62%\n",
      "Valid Loss: 0.3918 | Valid Acc: 86.72%\n",
      "Test  Loss: 0.3877 | Test Acc: 87.24%\n",
      "--------------------------------------------------\n",
      "[Epoch 106/170] :\n"
     ]
    },
    {
     "name": "stderr",
     "output_type": "stream",
     "text": [
      "106 Train: 100%|█████| 372/372 [00:31<00:00, 11.68it/s]\n"
     ]
    },
    {
     "name": "stdout",
     "output_type": "stream",
     "text": [
      "Train Loss: 0.2346 | Train Acc: 91.68%\n",
      "Valid Loss: 0.4268 | Valid Acc: 86.04%\n",
      "Test  Loss: 0.4322 | Test Acc: 86.84%\n",
      "--------------------------------------------------\n",
      "[Epoch 107/170] :\n"
     ]
    },
    {
     "name": "stderr",
     "output_type": "stream",
     "text": [
      "107 Train: 100%|█████| 372/372 [00:31<00:00, 11.83it/s]\n"
     ]
    },
    {
     "name": "stdout",
     "output_type": "stream",
     "text": [
      "Train Loss: 0.2399 | Train Acc: 91.60%\n",
      "Valid Loss: 0.4118 | Valid Acc: 86.32%\n",
      "Test  Loss: 0.4176 | Test Acc: 86.57%\n",
      "--------------------------------------------------\n",
      "[Epoch 108/170] :\n"
     ]
    },
    {
     "name": "stderr",
     "output_type": "stream",
     "text": [
      "108 Train: 100%|█████| 372/372 [00:31<00:00, 11.82it/s]\n"
     ]
    },
    {
     "name": "stdout",
     "output_type": "stream",
     "text": [
      "Train Loss: 0.2392 | Train Acc: 91.53%\n",
      "Valid Loss: 0.3905 | Valid Acc: 86.84%\n",
      "Test  Loss: 0.4239 | Test Acc: 86.54%\n",
      "--------------------------------------------------\n",
      "[Epoch 109/170] :\n"
     ]
    },
    {
     "name": "stderr",
     "output_type": "stream",
     "text": [
      "109 Train: 100%|█████| 372/372 [00:31<00:00, 11.96it/s]\n"
     ]
    },
    {
     "name": "stdout",
     "output_type": "stream",
     "text": [
      "Train Loss: 0.2304 | Train Acc: 91.84%\n",
      "Valid Loss: 0.4094 | Valid Acc: 86.52%\n",
      "Test  Loss: 0.4134 | Test Acc: 87.09%\n",
      "--------------------------------------------------\n",
      "[Epoch 110/170] :\n"
     ]
    },
    {
     "name": "stderr",
     "output_type": "stream",
     "text": [
      "110 Train: 100%|█████| 372/372 [00:31<00:00, 11.90it/s]\n"
     ]
    },
    {
     "name": "stdout",
     "output_type": "stream",
     "text": [
      "Train Loss: 0.2370 | Train Acc: 91.83%\n",
      "Valid Loss: 0.4157 | Valid Acc: 86.80%\n",
      "Test  Loss: 0.4713 | Test Acc: 85.89%\n",
      "--------------------------------------------------\n",
      "[Epoch 111/170] :\n"
     ]
    },
    {
     "name": "stderr",
     "output_type": "stream",
     "text": [
      "111 Train: 100%|█████| 372/372 [00:31<00:00, 11.90it/s]\n"
     ]
    },
    {
     "name": "stdout",
     "output_type": "stream",
     "text": [
      "Train Loss: 0.2350 | Train Acc: 91.72%\n",
      "Valid Loss: 0.4042 | Valid Acc: 85.84%\n",
      "Test  Loss: 0.3873 | Test Acc: 87.65%\n",
      "--------------------------------------------------\n",
      "[Epoch 112/170] :\n"
     ]
    },
    {
     "name": "stderr",
     "output_type": "stream",
     "text": [
      "112 Train: 100%|█████| 372/372 [00:31<00:00, 11.77it/s]\n"
     ]
    },
    {
     "name": "stdout",
     "output_type": "stream",
     "text": [
      "Train Loss: 0.2321 | Train Acc: 91.96%\n",
      "Valid Loss: 0.4178 | Valid Acc: 85.96%\n",
      "Test  Loss: 0.4261 | Test Acc: 86.72%\n",
      "--------------------------------------------------\n",
      "[Epoch 113/170] :\n"
     ]
    },
    {
     "name": "stderr",
     "output_type": "stream",
     "text": [
      "113 Train: 100%|█████| 372/372 [00:31<00:00, 11.82it/s]\n"
     ]
    },
    {
     "name": "stdout",
     "output_type": "stream",
     "text": [
      "Train Loss: 0.2397 | Train Acc: 91.75%\n",
      "Valid Loss: 0.3836 | Valid Acc: 86.52%\n",
      "Test  Loss: 0.4179 | Test Acc: 87.26%\n",
      "--------------------------------------------------\n",
      "[Epoch 114/170] :\n"
     ]
    },
    {
     "name": "stderr",
     "output_type": "stream",
     "text": [
      "114 Train: 100%|█████| 372/372 [00:31<00:00, 11.83it/s]\n"
     ]
    },
    {
     "name": "stdout",
     "output_type": "stream",
     "text": [
      "Train Loss: 0.2301 | Train Acc: 91.93%\n",
      "Valid Loss: 0.3962 | Valid Acc: 86.64%\n",
      "Test  Loss: 0.4053 | Test Acc: 87.34%\n",
      "--------------------------------------------------\n",
      "[Epoch 115/170] :\n"
     ]
    },
    {
     "name": "stderr",
     "output_type": "stream",
     "text": [
      "115 Train: 100%|█████| 372/372 [00:31<00:00, 11.78it/s]\n"
     ]
    },
    {
     "name": "stdout",
     "output_type": "stream",
     "text": [
      "Train Loss: 0.2353 | Train Acc: 91.83%\n",
      "Valid Loss: 0.3896 | Valid Acc: 86.84%\n",
      "Test  Loss: 0.4227 | Test Acc: 86.97%\n",
      "--------------------------------------------------\n",
      "[Epoch 116/170] :\n"
     ]
    },
    {
     "name": "stderr",
     "output_type": "stream",
     "text": [
      "116 Train: 100%|█████| 372/372 [00:31<00:00, 11.93it/s]\n"
     ]
    },
    {
     "name": "stdout",
     "output_type": "stream",
     "text": [
      "Train Loss: 0.2287 | Train Acc: 92.01%\n",
      "Valid Loss: 0.4381 | Valid Acc: 85.24%\n",
      "Test  Loss: 0.4015 | Test Acc: 87.67%\n",
      "--------------------------------------------------\n",
      "[Epoch 117/170] :\n"
     ]
    },
    {
     "name": "stderr",
     "output_type": "stream",
     "text": [
      "117 Train: 100%|█████| 372/372 [00:31<00:00, 11.82it/s]\n"
     ]
    },
    {
     "name": "stdout",
     "output_type": "stream",
     "text": [
      "Train Loss: 0.2188 | Train Acc: 92.41%\n",
      "Valid Loss: 0.3721 | Valid Acc: 86.84%\n",
      "Test  Loss: 0.3944 | Test Acc: 87.88%\n",
      "--------------------------------------------------\n",
      "[Epoch 118/170] :\n"
     ]
    },
    {
     "name": "stderr",
     "output_type": "stream",
     "text": [
      "118 Train: 100%|█████| 372/372 [00:31<00:00, 11.65it/s]\n"
     ]
    },
    {
     "name": "stdout",
     "output_type": "stream",
     "text": [
      "Train Loss: 0.2102 | Train Acc: 92.77%\n",
      "Valid Loss: 0.3728 | Valid Acc: 87.28%\n",
      "Test  Loss: 0.3694 | Test Acc: 88.23%\n",
      "--------------------------------------------------\n",
      "[Epoch 119/170] :\n"
     ]
    },
    {
     "name": "stderr",
     "output_type": "stream",
     "text": [
      "119 Train: 100%|█████| 372/372 [00:32<00:00, 11.60it/s]\n"
     ]
    },
    {
     "name": "stdout",
     "output_type": "stream",
     "text": [
      "Train Loss: 0.2103 | Train Acc: 92.77%\n",
      "Valid Loss: 0.3844 | Valid Acc: 87.52%\n",
      "Test  Loss: 0.3871 | Test Acc: 88.13%\n",
      "--------------------------------------------------\n",
      "[Epoch 120/170] :\n"
     ]
    },
    {
     "name": "stderr",
     "output_type": "stream",
     "text": [
      "120 Train: 100%|█████| 372/372 [00:31<00:00, 11.73it/s]\n"
     ]
    },
    {
     "name": "stdout",
     "output_type": "stream",
     "text": [
      "Train Loss: 0.2073 | Train Acc: 92.81%\n",
      "Valid Loss: 0.3981 | Valid Acc: 86.20%\n",
      "Test  Loss: 0.3786 | Test Acc: 88.29%\n",
      "--------------------------------------------------\n",
      "[Epoch 121/170] :\n"
     ]
    },
    {
     "name": "stderr",
     "output_type": "stream",
     "text": [
      "121 Train: 100%|█████| 372/372 [00:31<00:00, 11.64it/s]\n"
     ]
    },
    {
     "name": "stdout",
     "output_type": "stream",
     "text": [
      "Train Loss: 0.2048 | Train Acc: 92.94%\n",
      "Valid Loss: 0.3876 | Valid Acc: 86.40%\n",
      "Test  Loss: 0.3854 | Test Acc: 87.91%\n",
      "--------------------------------------------------\n",
      "[Epoch 122/170] :\n"
     ]
    },
    {
     "name": "stderr",
     "output_type": "stream",
     "text": [
      "122 Train: 100%|█████| 372/372 [00:31<00:00, 11.74it/s]\n"
     ]
    },
    {
     "name": "stdout",
     "output_type": "stream",
     "text": [
      "Train Loss: 0.2061 | Train Acc: 92.83%\n",
      "Valid Loss: 0.3827 | Valid Acc: 87.44%\n",
      "Test  Loss: 0.3834 | Test Acc: 87.94%\n",
      "--------------------------------------------------\n",
      "[Epoch 123/170] :\n"
     ]
    },
    {
     "name": "stderr",
     "output_type": "stream",
     "text": [
      "123 Train: 100%|█████| 372/372 [00:31<00:00, 11.90it/s]\n"
     ]
    },
    {
     "name": "stdout",
     "output_type": "stream",
     "text": [
      "Train Loss: 0.2049 | Train Acc: 92.96%\n",
      "Valid Loss: 0.4012 | Valid Acc: 86.68%\n",
      "Test  Loss: 0.3740 | Test Acc: 88.21%\n",
      "--------------------------------------------------\n",
      "[Epoch 124/170] :\n"
     ]
    },
    {
     "name": "stderr",
     "output_type": "stream",
     "text": [
      "124 Train: 100%|█████| 372/372 [00:31<00:00, 11.78it/s]\n"
     ]
    },
    {
     "name": "stdout",
     "output_type": "stream",
     "text": [
      "Train Loss: 0.2049 | Train Acc: 92.97%\n",
      "Valid Loss: 0.3853 | Valid Acc: 87.08%\n",
      "Test  Loss: 0.3699 | Test Acc: 88.53%\n",
      "--------------------------------------------------\n",
      "[Epoch 125/170] :\n"
     ]
    },
    {
     "name": "stderr",
     "output_type": "stream",
     "text": [
      "125 Train: 100%|█████| 372/372 [00:31<00:00, 11.80it/s]\n"
     ]
    },
    {
     "name": "stdout",
     "output_type": "stream",
     "text": [
      "Train Loss: 0.2006 | Train Acc: 93.04%\n",
      "Valid Loss: 0.4020 | Valid Acc: 86.20%\n",
      "Test  Loss: 0.3897 | Test Acc: 87.90%\n",
      "--------------------------------------------------\n",
      "[Epoch 126/170] :\n"
     ]
    },
    {
     "name": "stderr",
     "output_type": "stream",
     "text": [
      "126 Train: 100%|█████| 372/372 [00:31<00:00, 11.66it/s]\n"
     ]
    },
    {
     "name": "stdout",
     "output_type": "stream",
     "text": [
      "Train Loss: 0.2015 | Train Acc: 92.94%\n",
      "Valid Loss: 0.4115 | Valid Acc: 86.76%\n",
      "Test  Loss: 0.3803 | Test Acc: 88.26%\n",
      "--------------------------------------------------\n",
      "[Epoch 127/170] :\n"
     ]
    },
    {
     "name": "stderr",
     "output_type": "stream",
     "text": [
      "127 Train: 100%|█████| 372/372 [00:31<00:00, 11.88it/s]\n"
     ]
    },
    {
     "name": "stdout",
     "output_type": "stream",
     "text": [
      "Train Loss: 0.1981 | Train Acc: 93.16%\n",
      "Valid Loss: 0.3967 | Valid Acc: 87.60%\n",
      "Test  Loss: 0.3941 | Test Acc: 88.09%\n",
      "--------------------------------------------------\n",
      "[Epoch 128/170] :\n"
     ]
    },
    {
     "name": "stderr",
     "output_type": "stream",
     "text": [
      "128 Train: 100%|█████| 372/372 [00:31<00:00, 11.66it/s]\n"
     ]
    },
    {
     "name": "stdout",
     "output_type": "stream",
     "text": [
      "Train Loss: 0.2036 | Train Acc: 92.95%\n",
      "Valid Loss: 0.3987 | Valid Acc: 87.20%\n",
      "Test  Loss: 0.3895 | Test Acc: 88.06%\n",
      "--------------------------------------------------\n",
      "[Epoch 129/170] :\n"
     ]
    },
    {
     "name": "stderr",
     "output_type": "stream",
     "text": [
      "129 Train: 100%|█████| 372/372 [00:31<00:00, 11.77it/s]\n"
     ]
    },
    {
     "name": "stdout",
     "output_type": "stream",
     "text": [
      "Train Loss: 0.2000 | Train Acc: 92.95%\n",
      "Valid Loss: 0.3671 | Valid Acc: 87.68%\n",
      "Test  Loss: 0.3827 | Test Acc: 88.11%\n",
      "--------------------------------------------------\n",
      "[Epoch 130/170] :\n"
     ]
    },
    {
     "name": "stderr",
     "output_type": "stream",
     "text": [
      "130 Train: 100%|█████| 372/372 [00:31<00:00, 11.77it/s]\n"
     ]
    },
    {
     "name": "stdout",
     "output_type": "stream",
     "text": [
      "Train Loss: 0.2007 | Train Acc: 93.04%\n",
      "Valid Loss: 0.3744 | Valid Acc: 87.36%\n",
      "Test  Loss: 0.3809 | Test Acc: 88.17%\n",
      "--------------------------------------------------\n",
      "[Epoch 131/170] :\n"
     ]
    },
    {
     "name": "stderr",
     "output_type": "stream",
     "text": [
      "131 Train: 100%|█████| 372/372 [00:31<00:00, 11.75it/s]\n"
     ]
    },
    {
     "name": "stdout",
     "output_type": "stream",
     "text": [
      "Train Loss: 0.2003 | Train Acc: 92.97%\n",
      "Valid Loss: 0.3787 | Valid Acc: 87.20%\n",
      "Test  Loss: 0.3826 | Test Acc: 88.04%\n",
      "--------------------------------------------------\n",
      "[Epoch 132/170] :\n"
     ]
    },
    {
     "name": "stderr",
     "output_type": "stream",
     "text": [
      "132 Train: 100%|█████| 372/372 [00:31<00:00, 11.77it/s]\n"
     ]
    },
    {
     "name": "stdout",
     "output_type": "stream",
     "text": [
      "Train Loss: 0.1921 | Train Acc: 93.49%\n",
      "Valid Loss: 0.3907 | Valid Acc: 86.80%\n",
      "Test  Loss: 0.3859 | Test Acc: 88.07%\n",
      "Early stop!! best_eval_loss = 0.3622048057615757\n"
     ]
    }
   ],
   "source": [
    "Training = DoTraining(\n",
    "    model=model,\n",
    "    criterion=criterion,\n",
    "    optimizer=optimizer,\n",
    "    scaler=scaler,\n",
    "    scheduler=scheduler,\n",
    "    earlystopper=earlystopper,\n",
    "    device=device,\n",
    "    logs=logs,\n",
    "    file_path=file_name,\n",
    ")\n",
    "pre_epochs = len(Training.logs[\"train_loss\"])\n",
    "\n",
    "for epoch in range(NUM_EPOCHS):\n",
    "    now = epoch + 1 + pre_epochs\n",
    "    print(f\"[Epoch {epoch+1+pre_epochs}/{NUM_EPOCHS}] :\")\n",
    "\n",
    "    if DATASET == \"ImageNet2012\":\n",
    "        eval_loss = Training.SingleEpoch(train_dataloader, valid_dataloader)\n",
    "    else:\n",
    "        eval_loss = Training.SingleEpoch(\n",
    "            train_dataloader, valid_dataloader, test_dataloader\n",
    "        )\n",
    "\n",
    "    Training.Save()\n",
    "\n",
    "    \n",
    "    \n",
    "    if earlystopper.check(eval_loss) == True:\n",
    "        break\n",
    "\n",
    "    print(\"-\" * 50)"
   ]
  },
  {
   "cell_type": "code",
   "execution_count": 39,
   "metadata": {},
   "outputs": [
    {
     "data": {
      "image/png": "[encoded data removed]",
      "text/plain": [
       "<Figure size 1000x500 with 2 Axes>"
      ]
     },
     "metadata": {},
     "output_type": "display_data"
    }
   ],
   "source": [
    "view = LogViewer(logs)\n",
    "view.draw(save_name=file_name)"
   ]
  },
  {
   "cell_type": "code",
   "execution_count": 40,
   "metadata": {},
   "outputs": [
    {
     "name": "stdout",
     "output_type": "stream",
     "text": [
      "1 epoch: train_loss=2.4456, train_acc=0.1040, test_loss=2.2637, test_acc=0.1294, valid_loss=2.2895, valid_acc=0.1028, lr=0.1000\n",
      "2 epoch: train_loss=2.1928, train_acc=0.1668, test_loss=2.1129, test_acc=0.2060, valid_loss=2.0918, valid_acc=0.2456, lr=0.1000\n",
      "3 epoch: train_loss=1.8797, train_acc=0.3015, test_loss=2.0979, test_acc=0.2594, valid_loss=1.7872, valid_acc=0.3480, lr=0.1000\n",
      "4 epoch: train_loss=1.5824, train_acc=0.4267, test_loss=1.9098, test_acc=0.3325, valid_loss=1.6347, valid_acc=0.4280, lr=0.1000\n",
      "5 epoch: train_loss=1.3653, train_acc=0.5067, test_loss=1.2723, test_acc=0.5518, valid_loss=1.3452, valid_acc=0.5208, lr=0.1000\n",
      "6 epoch: train_loss=1.1885, train_acc=0.5741, test_loss=1.1632, test_acc=0.5857, valid_loss=1.3742, valid_acc=0.5300, lr=0.1000\n",
      "7 epoch: train_loss=1.0547, train_acc=0.6272, test_loss=2.8175, test_acc=0.3402, valid_loss=1.2010, valid_acc=0.5904, lr=0.1000\n",
      "8 epoch: train_loss=0.9595, train_acc=0.6651, test_loss=0.9785, test_acc=0.6750, valid_loss=1.0406, valid_acc=0.6316, lr=0.1000\n",
      "9 epoch: train_loss=0.9044, train_acc=0.6843, test_loss=1.5272, test_acc=0.5403, valid_loss=1.1979, valid_acc=0.6136, lr=0.1000\n",
      "10 epoch: train_loss=0.8622, train_acc=0.6977, test_loss=0.8288, test_acc=0.7150, valid_loss=0.9095, valid_acc=0.6740, lr=0.1000\n",
      "11 epoch: train_loss=0.7987, train_acc=0.7224, test_loss=1.0072, test_acc=0.6703, valid_loss=0.9285, valid_acc=0.6752, lr=0.1000\n",
      "12 epoch: train_loss=0.7777, train_acc=0.7278, test_loss=0.7422, test_acc=0.7392, valid_loss=0.8747, valid_acc=0.6992, lr=0.1000\n",
      "13 epoch: train_loss=0.7512, train_acc=0.7378, test_loss=1.6363, test_acc=0.5679, valid_loss=1.0931, valid_acc=0.6616, lr=0.1000\n",
      "14 epoch: train_loss=0.7252, train_acc=0.7490, test_loss=1.1618, test_acc=0.6370, valid_loss=0.8424, valid_acc=0.7116, lr=0.1000\n",
      "15 epoch: train_loss=0.7008, train_acc=0.7583, test_loss=1.2142, test_acc=0.6100, valid_loss=1.0431, valid_acc=0.6432, lr=0.1000\n",
      "16 epoch: train_loss=0.6979, train_acc=0.7570, test_loss=0.6338, test_acc=0.7835, valid_loss=0.8127, valid_acc=0.7104, lr=0.1000\n",
      "17 epoch: train_loss=0.6649, train_acc=0.7693, test_loss=0.7385, test_acc=0.7559, valid_loss=0.8370, valid_acc=0.7104, lr=0.1000\n",
      "18 epoch: train_loss=0.6535, train_acc=0.7731, test_loss=0.8611, test_acc=0.7184, valid_loss=0.8197, valid_acc=0.7176, lr=0.1000\n",
      "19 epoch: train_loss=0.6427, train_acc=0.7751, test_loss=1.0493, test_acc=0.6729, valid_loss=0.7390, valid_acc=0.7396, lr=0.1000\n",
      "20 epoch: train_loss=0.6259, train_acc=0.7843, test_loss=0.8306, test_acc=0.7326, valid_loss=0.7673, valid_acc=0.7296, lr=0.1000\n",
      "21 epoch: train_loss=0.6228, train_acc=0.7845, test_loss=0.6976, test_acc=0.7627, valid_loss=0.8429, valid_acc=0.7156, lr=0.1000\n",
      "22 epoch: train_loss=0.6095, train_acc=0.7884, test_loss=0.8482, test_acc=0.7253, valid_loss=0.7301, valid_acc=0.7560, lr=0.1000\n",
      "23 epoch: train_loss=0.5951, train_acc=0.7939, test_loss=0.8863, test_acc=0.7075, valid_loss=0.7897, valid_acc=0.7300, lr=0.1000\n",
      "24 epoch: train_loss=0.5834, train_acc=0.7987, test_loss=0.7348, test_acc=0.7632, valid_loss=0.7256, valid_acc=0.7624, lr=0.1000\n",
      "25 epoch: train_loss=0.5797, train_acc=0.7996, test_loss=0.6695, test_acc=0.7781, valid_loss=0.8386, valid_acc=0.7180, lr=0.1000\n",
      "26 epoch: train_loss=0.5794, train_acc=0.7991, test_loss=0.6368, test_acc=0.7783, valid_loss=0.7360, valid_acc=0.7456, lr=0.1000\n",
      "27 epoch: train_loss=0.5707, train_acc=0.8013, test_loss=0.8485, test_acc=0.7191, valid_loss=0.7377, valid_acc=0.7384, lr=0.1000\n",
      "28 epoch: train_loss=0.5608, train_acc=0.8056, test_loss=0.6876, test_acc=0.7631, valid_loss=0.6788, valid_acc=0.7612, lr=0.1000\n",
      "29 epoch: train_loss=0.5472, train_acc=0.8096, test_loss=0.7356, test_acc=0.7615, valid_loss=0.6661, valid_acc=0.7660, lr=0.1000\n",
      "30 epoch: train_loss=0.5532, train_acc=0.8099, test_loss=0.7155, test_acc=0.7666, valid_loss=0.7038, valid_acc=0.7656, lr=0.1000\n",
      "31 epoch: train_loss=0.5358, train_acc=0.8143, test_loss=0.6132, test_acc=0.7886, valid_loss=0.6890, valid_acc=0.7600, lr=0.1000\n",
      "32 epoch: train_loss=0.5363, train_acc=0.8131, test_loss=0.7268, test_acc=0.7650, valid_loss=0.6848, valid_acc=0.7748, lr=0.1000\n",
      "33 epoch: train_loss=0.5257, train_acc=0.8178, test_loss=0.7610, test_acc=0.7508, valid_loss=0.7140, valid_acc=0.7616, lr=0.1000\n",
      "34 epoch: train_loss=0.5239, train_acc=0.8175, test_loss=0.6879, test_acc=0.7766, valid_loss=0.7195, valid_acc=0.7604, lr=0.1000\n",
      "35 epoch: train_loss=0.5208, train_acc=0.8187, test_loss=0.6647, test_acc=0.7829, valid_loss=0.6281, valid_acc=0.7824, lr=0.1000\n",
      "36 epoch: train_loss=0.5150, train_acc=0.8209, test_loss=0.7958, test_acc=0.7309, valid_loss=0.7269, valid_acc=0.7496, lr=0.1000\n",
      "37 epoch: train_loss=0.5143, train_acc=0.8223, test_loss=0.6799, test_acc=0.7796, valid_loss=0.6417, valid_acc=0.7796, lr=0.1000\n",
      "38 epoch: train_loss=0.5074, train_acc=0.8249, test_loss=0.5852, test_acc=0.7998, valid_loss=0.6811, valid_acc=0.7604, lr=0.1000\n",
      "39 epoch: train_loss=0.5044, train_acc=0.8253, test_loss=0.4697, test_acc=0.8400, valid_loss=0.6669, valid_acc=0.7748, lr=0.1000\n",
      "40 epoch: train_loss=0.4969, train_acc=0.8289, test_loss=0.4995, test_acc=0.8304, valid_loss=0.7209, valid_acc=0.7560, lr=0.1000\n",
      "41 epoch: train_loss=0.4933, train_acc=0.8295, test_loss=0.8010, test_acc=0.7364, valid_loss=0.6888, valid_acc=0.7700, lr=0.1000\n",
      "42 epoch: train_loss=0.4954, train_acc=0.8267, test_loss=0.5673, test_acc=0.8076, valid_loss=0.6480, valid_acc=0.7764, lr=0.1000\n",
      "43 epoch: train_loss=0.4903, train_acc=0.8313, test_loss=0.6011, test_acc=0.8015, valid_loss=0.6342, valid_acc=0.7808, lr=0.1000\n",
      "44 epoch: train_loss=0.4821, train_acc=0.8323, test_loss=0.5779, test_acc=0.8048, valid_loss=0.5821, valid_acc=0.7924, lr=0.1000\n",
      "45 epoch: train_loss=0.4802, train_acc=0.8339, test_loss=0.5893, test_acc=0.8016, valid_loss=0.6829, valid_acc=0.7736, lr=0.1000\n",
      "46 epoch: train_loss=0.4819, train_acc=0.8327, test_loss=0.5697, test_acc=0.8070, valid_loss=0.6233, valid_acc=0.7808, lr=0.1000\n",
      "47 epoch: train_loss=0.4788, train_acc=0.8331, test_loss=0.6660, test_acc=0.7864, valid_loss=0.6496, valid_acc=0.7796, lr=0.1000\n",
      "48 epoch: train_loss=0.4852, train_acc=0.8329, test_loss=0.6443, test_acc=0.7893, valid_loss=0.6668, valid_acc=0.7692, lr=0.1000\n",
      "49 epoch: train_loss=0.4743, train_acc=0.8347, test_loss=0.8270, test_acc=0.7376, valid_loss=0.6719, valid_acc=0.7668, lr=0.1000\n",
      "50 epoch: train_loss=0.4712, train_acc=0.8369, test_loss=0.4811, test_acc=0.8406, valid_loss=0.6047, valid_acc=0.7860, lr=0.1000\n",
      "51 epoch: train_loss=0.4705, train_acc=0.8368, test_loss=0.8987, test_acc=0.7152, valid_loss=0.7366, valid_acc=0.7472, lr=0.1000\n",
      "52 epoch: train_loss=0.4666, train_acc=0.8391, test_loss=0.6238, test_acc=0.7871, valid_loss=0.6010, valid_acc=0.7848, lr=0.1000\n",
      "53 epoch: train_loss=0.4672, train_acc=0.8370, test_loss=0.5871, test_acc=0.8073, valid_loss=0.7002, valid_acc=0.7644, lr=0.1000\n",
      "54 epoch: train_loss=0.4661, train_acc=0.8392, test_loss=0.5822, test_acc=0.8064, valid_loss=0.5919, valid_acc=0.7896, lr=0.1000\n",
      "55 epoch: train_loss=0.4592, train_acc=0.8406, test_loss=0.7476, test_acc=0.7636, valid_loss=0.7267, valid_acc=0.7688, lr=0.1000\n",
      "56 epoch: train_loss=0.3710, train_acc=0.8710, test_loss=0.4246, test_acc=0.8542, valid_loss=0.4469, valid_acc=0.8440, lr=0.0100\n",
      "57 epoch: train_loss=0.3344, train_acc=0.8840, test_loss=0.4207, test_acc=0.8565, valid_loss=0.4358, valid_acc=0.8452, lr=0.0100\n",
      "58 epoch: train_loss=0.3267, train_acc=0.8857, test_loss=0.4478, test_acc=0.8493, valid_loss=0.4101, valid_acc=0.8552, lr=0.0100\n",
      "59 epoch: train_loss=0.3174, train_acc=0.8904, test_loss=0.4143, test_acc=0.8626, valid_loss=0.4256, valid_acc=0.8496, lr=0.0100\n",
      "60 epoch: train_loss=0.3102, train_acc=0.8904, test_loss=0.4009, test_acc=0.8679, valid_loss=0.4184, valid_acc=0.8548, lr=0.0100\n",
      "61 epoch: train_loss=0.3086, train_acc=0.8923, test_loss=0.3950, test_acc=0.8658, valid_loss=0.4277, valid_acc=0.8416, lr=0.0100\n",
      "62 epoch: train_loss=0.2979, train_acc=0.8948, test_loss=0.3772, test_acc=0.8724, valid_loss=0.4016, valid_acc=0.8596, lr=0.0100\n",
      "63 epoch: train_loss=0.2984, train_acc=0.8968, test_loss=0.3998, test_acc=0.8685, valid_loss=0.4178, valid_acc=0.8544, lr=0.0100\n",
      "64 epoch: train_loss=0.2947, train_acc=0.8960, test_loss=0.3873, test_acc=0.8727, valid_loss=0.4199, valid_acc=0.8588, lr=0.0100\n",
      "65 epoch: train_loss=0.2908, train_acc=0.8978, test_loss=0.3687, test_acc=0.8764, valid_loss=0.3947, valid_acc=0.8648, lr=0.0100\n",
      "66 epoch: train_loss=0.2954, train_acc=0.8969, test_loss=0.3786, test_acc=0.8736, valid_loss=0.4019, valid_acc=0.8624, lr=0.0100\n",
      "67 epoch: train_loss=0.2860, train_acc=0.8992, test_loss=0.3956, test_acc=0.8705, valid_loss=0.3875, valid_acc=0.8644, lr=0.0100\n",
      "68 epoch: train_loss=0.2864, train_acc=0.9004, test_loss=0.3877, test_acc=0.8702, valid_loss=0.4028, valid_acc=0.8608, lr=0.0100\n",
      "69 epoch: train_loss=0.2774, train_acc=0.9029, test_loss=0.3829, test_acc=0.8729, valid_loss=0.4264, valid_acc=0.8536, lr=0.0100\n",
      "70 epoch: train_loss=0.2829, train_acc=0.9017, test_loss=0.3896, test_acc=0.8718, valid_loss=0.4197, valid_acc=0.8532, lr=0.0100\n",
      "71 epoch: train_loss=0.2777, train_acc=0.9028, test_loss=0.3850, test_acc=0.8737, valid_loss=0.4067, valid_acc=0.8608, lr=0.0100\n",
      "72 epoch: train_loss=0.2790, train_acc=0.9021, test_loss=0.3826, test_acc=0.8766, valid_loss=0.4208, valid_acc=0.8604, lr=0.0100\n",
      "73 epoch: train_loss=0.2685, train_acc=0.9069, test_loss=0.4006, test_acc=0.8728, valid_loss=0.3798, valid_acc=0.8600, lr=0.0100\n",
      "74 epoch: train_loss=0.2743, train_acc=0.9050, test_loss=0.3744, test_acc=0.8768, valid_loss=0.3982, valid_acc=0.8600, lr=0.0100\n",
      "75 epoch: train_loss=0.2686, train_acc=0.9050, test_loss=0.4002, test_acc=0.8682, valid_loss=0.4178, valid_acc=0.8620, lr=0.0100\n",
      "76 epoch: train_loss=0.2705, train_acc=0.9051, test_loss=0.3823, test_acc=0.8764, valid_loss=0.4181, valid_acc=0.8568, lr=0.0100\n",
      "77 epoch: train_loss=0.2685, train_acc=0.9060, test_loss=0.3684, test_acc=0.8770, valid_loss=0.3889, valid_acc=0.8740, lr=0.0100\n",
      "78 epoch: train_loss=0.2612, train_acc=0.9085, test_loss=0.3885, test_acc=0.8733, valid_loss=0.4077, valid_acc=0.8576, lr=0.0100\n",
      "79 epoch: train_loss=0.2604, train_acc=0.9094, test_loss=0.4055, test_acc=0.8659, valid_loss=0.4040, valid_acc=0.8684, lr=0.0100\n",
      "80 epoch: train_loss=0.2571, train_acc=0.9104, test_loss=0.4012, test_acc=0.8696, valid_loss=0.3962, valid_acc=0.8712, lr=0.0100\n",
      "81 epoch: train_loss=0.2604, train_acc=0.9100, test_loss=0.3626, test_acc=0.8801, valid_loss=0.4053, valid_acc=0.8676, lr=0.0100\n",
      "82 epoch: train_loss=0.2563, train_acc=0.9101, test_loss=0.3895, test_acc=0.8722, valid_loss=0.3622, valid_acc=0.8744, lr=0.0100\n",
      "83 epoch: train_loss=0.2579, train_acc=0.9104, test_loss=0.3888, test_acc=0.8744, valid_loss=0.4031, valid_acc=0.8592, lr=0.0100\n",
      "84 epoch: train_loss=0.2617, train_acc=0.9096, test_loss=0.3788, test_acc=0.8798, valid_loss=0.3932, valid_acc=0.8668, lr=0.0100\n",
      "85 epoch: train_loss=0.2591, train_acc=0.9081, test_loss=0.3874, test_acc=0.8737, valid_loss=0.4274, valid_acc=0.8492, lr=0.0100\n",
      "86 epoch: train_loss=0.2572, train_acc=0.9109, test_loss=0.3837, test_acc=0.8750, valid_loss=0.4331, valid_acc=0.8584, lr=0.0100\n",
      "87 epoch: train_loss=0.2503, train_acc=0.9125, test_loss=0.3694, test_acc=0.8803, valid_loss=0.4139, valid_acc=0.8576, lr=0.0100\n",
      "88 epoch: train_loss=0.2468, train_acc=0.9124, test_loss=0.4104, test_acc=0.8676, valid_loss=0.4117, valid_acc=0.8652, lr=0.0100\n",
      "89 epoch: train_loss=0.2560, train_acc=0.9104, test_loss=0.4031, test_acc=0.8691, valid_loss=0.3875, valid_acc=0.8648, lr=0.0100\n",
      "90 epoch: train_loss=0.2483, train_acc=0.9131, test_loss=0.3945, test_acc=0.8742, valid_loss=0.3993, valid_acc=0.8620, lr=0.0100\n",
      "91 epoch: train_loss=0.2478, train_acc=0.9132, test_loss=0.4079, test_acc=0.8727, valid_loss=0.4089, valid_acc=0.8660, lr=0.0100\n",
      "92 epoch: train_loss=0.2479, train_acc=0.9128, test_loss=0.4540, test_acc=0.8602, valid_loss=0.4035, valid_acc=0.8560, lr=0.0100\n",
      "93 epoch: train_loss=0.2440, train_acc=0.9146, test_loss=0.4211, test_acc=0.8700, valid_loss=0.4000, valid_acc=0.8672, lr=0.0100\n",
      "94 epoch: train_loss=0.2515, train_acc=0.9112, test_loss=0.4245, test_acc=0.8691, valid_loss=0.3838, valid_acc=0.8676, lr=0.0100\n",
      "95 epoch: train_loss=0.2469, train_acc=0.9127, test_loss=0.4265, test_acc=0.8695, valid_loss=0.4053, valid_acc=0.8648, lr=0.0100\n",
      "96 epoch: train_loss=0.2449, train_acc=0.9145, test_loss=0.4194, test_acc=0.8667, valid_loss=0.4007, valid_acc=0.8636, lr=0.0100\n",
      "97 epoch: train_loss=0.2447, train_acc=0.9140, test_loss=0.3676, test_acc=0.8808, valid_loss=0.3976, valid_acc=0.8640, lr=0.0100\n",
      "98 epoch: train_loss=0.2382, train_acc=0.9167, test_loss=0.3921, test_acc=0.8748, valid_loss=0.4012, valid_acc=0.8640, lr=0.0100\n",
      "99 epoch: train_loss=0.2432, train_acc=0.9161, test_loss=0.4248, test_acc=0.8683, valid_loss=0.4164, valid_acc=0.8556, lr=0.0100\n",
      "100 epoch: train_loss=0.2412, train_acc=0.9145, test_loss=0.4214, test_acc=0.8655, valid_loss=0.4099, valid_acc=0.8668, lr=0.0100\n",
      "101 epoch: train_loss=0.2368, train_acc=0.9186, test_loss=0.4140, test_acc=0.8706, valid_loss=0.4212, valid_acc=0.8556, lr=0.0100\n",
      "102 epoch: train_loss=0.2408, train_acc=0.9152, test_loss=0.3966, test_acc=0.8736, valid_loss=0.4108, valid_acc=0.8628, lr=0.0100\n",
      "103 epoch: train_loss=0.2428, train_acc=0.9158, test_loss=0.3885, test_acc=0.8782, valid_loss=0.3810, valid_acc=0.8660, lr=0.0100\n",
      "104 epoch: train_loss=0.2416, train_acc=0.9159, test_loss=0.4094, test_acc=0.8714, valid_loss=0.4385, valid_acc=0.8588, lr=0.0100\n",
      "105 epoch: train_loss=0.2400, train_acc=0.9162, test_loss=0.3877, test_acc=0.8724, valid_loss=0.3918, valid_acc=0.8672, lr=0.0100\n",
      "106 epoch: train_loss=0.2346, train_acc=0.9168, test_loss=0.4322, test_acc=0.8684, valid_loss=0.4268, valid_acc=0.8604, lr=0.0100\n",
      "107 epoch: train_loss=0.2399, train_acc=0.9160, test_loss=0.4176, test_acc=0.8657, valid_loss=0.4118, valid_acc=0.8632, lr=0.0100\n",
      "108 epoch: train_loss=0.2392, train_acc=0.9153, test_loss=0.4239, test_acc=0.8654, valid_loss=0.3905, valid_acc=0.8684, lr=0.0100\n",
      "109 epoch: train_loss=0.2304, train_acc=0.9184, test_loss=0.4134, test_acc=0.8709, valid_loss=0.4094, valid_acc=0.8652, lr=0.0100\n",
      "110 epoch: train_loss=0.2370, train_acc=0.9183, test_loss=0.4713, test_acc=0.8589, valid_loss=0.4157, valid_acc=0.8680, lr=0.0100\n",
      "111 epoch: train_loss=0.2350, train_acc=0.9172, test_loss=0.3873, test_acc=0.8765, valid_loss=0.4042, valid_acc=0.8584, lr=0.0100\n",
      "112 epoch: train_loss=0.2321, train_acc=0.9196, test_loss=0.4261, test_acc=0.8672, valid_loss=0.4178, valid_acc=0.8596, lr=0.0100\n",
      "113 epoch: train_loss=0.2397, train_acc=0.9175, test_loss=0.4179, test_acc=0.8726, valid_loss=0.3836, valid_acc=0.8652, lr=0.0100\n",
      "114 epoch: train_loss=0.2301, train_acc=0.9193, test_loss=0.4053, test_acc=0.8734, valid_loss=0.3962, valid_acc=0.8664, lr=0.0100\n",
      "115 epoch: train_loss=0.2353, train_acc=0.9183, test_loss=0.4227, test_acc=0.8697, valid_loss=0.3896, valid_acc=0.8684, lr=0.0100\n",
      "116 epoch: train_loss=0.2287, train_acc=0.9201, test_loss=0.4015, test_acc=0.8767, valid_loss=0.4381, valid_acc=0.8524, lr=0.0100\n",
      "117 epoch: train_loss=0.2188, train_acc=0.9241, test_loss=0.3944, test_acc=0.8788, valid_loss=0.3721, valid_acc=0.8684, lr=0.0010\n",
      "118 epoch: train_loss=0.2102, train_acc=0.9277, test_loss=0.3694, test_acc=0.8823, valid_loss=0.3728, valid_acc=0.8728, lr=0.0010\n",
      "119 epoch: train_loss=0.2103, train_acc=0.9277, test_loss=0.3871, test_acc=0.8813, valid_loss=0.3844, valid_acc=0.8752, lr=0.0010\n",
      "120 epoch: train_loss=0.2073, train_acc=0.9281, test_loss=0.3786, test_acc=0.8829, valid_loss=0.3981, valid_acc=0.8620, lr=0.0010\n",
      "121 epoch: train_loss=0.2048, train_acc=0.9294, test_loss=0.3854, test_acc=0.8791, valid_loss=0.3876, valid_acc=0.8640, lr=0.0010\n",
      "122 epoch: train_loss=0.2061, train_acc=0.9283, test_loss=0.3834, test_acc=0.8794, valid_loss=0.3827, valid_acc=0.8744, lr=0.0010\n",
      "123 epoch: train_loss=0.2049, train_acc=0.9296, test_loss=0.3740, test_acc=0.8821, valid_loss=0.4012, valid_acc=0.8668, lr=0.0010\n",
      "124 epoch: train_loss=0.2049, train_acc=0.9297, test_loss=0.3699, test_acc=0.8853, valid_loss=0.3853, valid_acc=0.8708, lr=0.0010\n",
      "125 epoch: train_loss=0.2006, train_acc=0.9304, test_loss=0.3897, test_acc=0.8790, valid_loss=0.4020, valid_acc=0.8620, lr=0.0010\n",
      "126 epoch: train_loss=0.2015, train_acc=0.9294, test_loss=0.3803, test_acc=0.8826, valid_loss=0.4115, valid_acc=0.8676, lr=0.0010\n",
      "127 epoch: train_loss=0.1981, train_acc=0.9316, test_loss=0.3941, test_acc=0.8809, valid_loss=0.3967, valid_acc=0.8760, lr=0.0010\n",
      "128 epoch: train_loss=0.2036, train_acc=0.9295, test_loss=0.3895, test_acc=0.8806, valid_loss=0.3987, valid_acc=0.8720, lr=0.0010\n",
      "129 epoch: train_loss=0.2000, train_acc=0.9295, test_loss=0.3827, test_acc=0.8811, valid_loss=0.3671, valid_acc=0.8768, lr=0.0010\n",
      "130 epoch: train_loss=0.2007, train_acc=0.9304, test_loss=0.3809, test_acc=0.8817, valid_loss=0.3744, valid_acc=0.8736, lr=0.0010\n",
      "131 epoch: train_loss=0.2003, train_acc=0.9297, test_loss=0.3826, test_acc=0.8804, valid_loss=0.3787, valid_acc=0.8720, lr=0.0010\n",
      "132 epoch: train_loss=0.1921, train_acc=0.9349, test_loss=0.3859, test_acc=0.8807, valid_loss=0.3907, valid_acc=0.8680, lr=0.0010\n"
     ]
    }
   ],
   "source": [
    "view.print_all()"
   ]
  }
 ],
 "metadata": {
  "kernelspec": {
   "display_name": "base",
   "language": "python",
   "name": "python3"
  },
  "language_info": {
   "codemirror_mode": {
    "name": "ipython",
    "version": 3
   },
   "file_extension": ".py",
   "mimetype": "text/x-python",
   "name": "python",
   "nbconvert_exporter": "python",
   "pygments_lexer": "ipython3",
   "version": "3.11.5"
  }
 },
 "nbformat": 4,
 "nbformat_minor": 2
}
