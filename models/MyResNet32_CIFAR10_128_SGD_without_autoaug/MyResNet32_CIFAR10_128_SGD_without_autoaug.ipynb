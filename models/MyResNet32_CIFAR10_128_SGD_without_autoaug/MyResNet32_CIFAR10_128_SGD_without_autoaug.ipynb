{
 "cells": [
  {
   "cell_type": "markdown",
   "metadata": {},
   "source": [
    "# Import"
   ]
  },
  {
   "cell_type": "code",
   "execution_count": 1,
   "metadata": {},
   "outputs": [],
   "source": [
    "import torch\n",
    "from torch import nn\n",
    "from torch.optim.lr_scheduler import ExponentialLR, MultiStepLR\n",
    "import sys, os\n",
    "\n",
    "sys.path.append(os.path.dirname(os.path.abspath(os.path.dirname(\"src\"))))\n",
    "\n",
    "from src.Mydataloader import LoadDataset\n",
    "from src.Mymodel import MyResNet_CIFAR\n",
    "from src.Mytraining import DoTraining\n",
    "from src.Earlystopper import EarlyStopper\n",
    "from src.LogViewer import LogViewer"
   ]
  },
  {
   "cell_type": "markdown",
   "metadata": {},
   "source": [
    "# Setup"
   ]
  },
  {
   "cell_type": "code",
   "execution_count": 2,
   "metadata": {},
   "outputs": [],
   "source": [
    "\"\"\"Dataset selection\"\"\"\n",
    "DATASET = \"CIFAR10\"\n",
    "# DATASET = \"CIFAR100\"\n",
    "# DATASET = \"ImageNet2012\"\n",
    "\n",
    "\"\"\"Dataset parameters\"\"\"\n",
    "BATCH = 128\n",
    "SHUFFLE = True\n",
    "NUMOFWORKERS = 8\n",
    "PIN_MEMORY = True\n",
    "SPLIT_RATIO = 0\n",
    "\n",
    "\"\"\"optimizer parameters\"\"\"\n",
    "# OPTIMIZER = \"Adam\"\n",
    "# OPTIMIZER = \"Adam_decay\"\n",
    "OPTIMIZER = \"SGD\"\n",
    "# OPTIMIZER = \"SGD_nasterov\"\n",
    "# OPTIMIZER = \"AdamW\"\n",
    "# OPTIMIZER = \"AdamW_amsgrad\"\n",
    "# OPTIMIZER = \"NAdam\"\n",
    "\n",
    "\"\"\"Learning rate scheduler parameters\"\"\"\n",
    "NUM_EPOCHS = 164\n",
    "\n",
    "\"\"\"Early stopping parameters\"\"\"\n",
    "EARLYSTOPPINGPATIENCE = 200\n",
    "\n",
    "file_name = f\"MyResNet32_{BATCH}_{OPTIMIZER}\""
   ]
  },
  {
   "cell_type": "code",
   "execution_count": 3,
   "metadata": {},
   "outputs": [
    {
     "data": {
      "text/plain": [
       "'MyResNet32_128_SGD'"
      ]
     },
     "execution_count": 3,
     "metadata": {},
     "output_type": "execute_result"
    }
   ],
   "source": [
    "file_name"
   ]
  },
  {
   "cell_type": "markdown",
   "metadata": {},
   "source": [
    "# Loading the dataset"
   ]
  },
  {
   "cell_type": "markdown",
   "metadata": {},
   "source": [
    "## Define Dateloader"
   ]
  },
  {
   "cell_type": "code",
   "execution_count": 4,
   "metadata": {},
   "outputs": [
    {
     "name": "stdout",
     "output_type": "stream",
     "text": [
      "-----------------------------------------------------------------------\n",
      "Dataset :  CIFAR10\n",
      "- Length of Train Set :  50000\n",
      "- Length of Test Set :  10000\n",
      "- Count of Classes :  10\n",
      "-----------------------------------------------------------------------\n"
     ]
    }
   ],
   "source": [
    "tmp = LoadDataset(root=\"../../data\", seceted_dataset=DATASET, split_ratio=SPLIT_RATIO)\n",
    "train_data, valid_data, test_data, COUNT_OF_CLASSES = tmp.Unpack()"
   ]
  },
  {
   "cell_type": "code",
   "execution_count": 5,
   "metadata": {},
   "outputs": [],
   "source": [
    "import copy\n",
    "import torch\n",
    "from torch.utils.data import DataLoader, random_split\n",
    "from torchvision import datasets\n",
    "from torchvision.transforms.v2 import (\n",
    "    RandomHorizontalFlip,\n",
    "    Compose,\n",
    "    RandomCrop,\n",
    "    RandomShortestSize,\n",
    "    AutoAugment,\n",
    "    Normalize,\n",
    "    CenterCrop,\n",
    "    ToImage,\n",
    "    ToDtype,\n",
    ")\n",
    "from torchvision.transforms.autoaugment import AutoAugmentPolicy\n",
    "import matplotlib.pyplot as plt\n",
    "import numpy as np\n",
    "\n",
    "\n",
    "tmp.train_data.transform = Compose(\n",
    "    [\n",
    "        Compose([ToImage(), ToDtype(torch.float32, scale=True)]),\n",
    "        Normalize(\n",
    "            mean=[0.49139968, 0.48215827, 0.44653124], std=[1, 1, 1], inplace=True\n",
    "        ),\n",
    "        RandomCrop(\n",
    "            size=(32, 32),\n",
    "            padding=[4, 4, 4, 4],\n",
    "            pad_if_needed=False,\n",
    "            fill=0,\n",
    "            padding_mode=\"constant\",\n",
    "        ),\n",
    "        RandomHorizontalFlip(p=0.5),\n",
    "    ]\n",
    ")"
   ]
  },
  {
   "cell_type": "code",
   "execution_count": 6,
   "metadata": {},
   "outputs": [
    {
     "name": "stdout",
     "output_type": "stream",
     "text": [
      "train.transforms = Compose(\n",
      "      Compose(\n",
      "        ToImage()\n",
      "        ToDtype(scale=True)\n",
      "  )\n",
      "      Normalize(mean=[0.49139968, 0.48215827, 0.44653124], std=[1, 1, 1], inplace=True)\n",
      "      RandomCrop(size=(32, 32), padding=[4, 4, 4, 4], pad_if_needed=False, fill=0, padding_mode=constant)\n",
      "      RandomHorizontalFlip(p=0.5)\n",
      ") 128\n",
      "test.transforms = Compose(\n",
      "      ToImage()\n",
      "      ToDtype(scale=True)\n",
      ") 128\n"
     ]
    }
   ],
   "source": [
    "train_dataloader, valid_dataloader, test_dataloader = tmp.get_dataloader(\n",
    "    batch_size=BATCH, shuffle=SHUFFLE, num_workers=NUMOFWORKERS, pin_memory=PIN_MEMORY\n",
    ")\n"
   ]
  },
  {
   "cell_type": "markdown",
   "metadata": {},
   "source": [
    "# Define ResNet"
   ]
  },
  {
   "cell_type": "markdown",
   "metadata": {},
   "source": [
    "## Model Confirm"
   ]
  },
  {
   "cell_type": "code",
   "execution_count": 7,
   "metadata": {},
   "outputs": [
    {
     "data": {
      "text/plain": [
       "device(type='cuda')"
      ]
     },
     "execution_count": 7,
     "metadata": {},
     "output_type": "execute_result"
    }
   ],
   "source": [
    "device = torch.device(\"cuda\" if torch.cuda.is_available() else \"cpu\")\n",
    "device"
   ]
  },
  {
   "cell_type": "code",
   "execution_count": 8,
   "metadata": {},
   "outputs": [],
   "source": [
    "model = MyResNet_CIFAR(num_classes=COUNT_OF_CLASSES, num_layer_factor=5).to(device)"
   ]
  },
  {
   "cell_type": "markdown",
   "metadata": {},
   "source": [
    "# Define Training"
   ]
  },
  {
   "cell_type": "markdown",
   "metadata": {},
   "source": [
    "## (1) Define Criterion"
   ]
  },
  {
   "cell_type": "code",
   "execution_count": 9,
   "metadata": {},
   "outputs": [],
   "source": [
    "criterion = nn.CrossEntropyLoss()"
   ]
  },
  {
   "cell_type": "markdown",
   "metadata": {},
   "source": [
    "## (2) Define Optimazer"
   ]
  },
  {
   "cell_type": "code",
   "execution_count": 10,
   "metadata": {},
   "outputs": [],
   "source": [
    "if OPTIMIZER == \"Adam\":\n",
    "    optimizer = torch.optim.Adam(model.parameters())\n",
    "elif OPTIMIZER == \"Adam_decay\":\n",
    "    optimizer = torch.optim.Adam(model.parameters(), weight_decay=1e-4)\n",
    "elif OPTIMIZER == \"SGD\":\n",
    "    optimizer = torch.optim.SGD(\n",
    "        model.parameters(), lr=0.1, momentum=0.9, weight_decay=0.0001\n",
    "    )\n",
    "elif OPTIMIZER == \"SGD_nasterov\":\n",
    "    optimizer = torch.optim.SGD(\n",
    "        model.parameters(), lr=0.1, momentum=0.9, weight_decay=1e-4, nesterov=True\n",
    "    )\n",
    "elif OPTIMIZER == \"AdamW\":\n",
    "    optimizer = torch.optim.AdamW(model.parameters(), weight_decay=1e-4)\n",
    "elif OPTIMIZER == \"AdamW_amsgrad\":\n",
    "    optimizer = torch.optim.AdamW(model.parameters(), weight_decay=1e-4, amsgrad=True)\n",
    "elif OPTIMIZER == \"NAdam\":\n",
    "    optimizer = torch.optim.NAdam(model.parameters(), weight_decay=1e-4)"
   ]
  },
  {
   "cell_type": "markdown",
   "metadata": {},
   "source": [
    "## (3) Define Early Stopping"
   ]
  },
  {
   "cell_type": "code",
   "execution_count": 11,
   "metadata": {},
   "outputs": [],
   "source": [
    "earlystopper = EarlyStopper(patience=EARLYSTOPPINGPATIENCE, model=model, file_name=file_name)"
   ]
  },
  {
   "cell_type": "markdown",
   "metadata": {},
   "source": [
    "## (4) Define Learning Rate schedualer"
   ]
  },
  {
   "cell_type": "code",
   "execution_count": 12,
   "metadata": {},
   "outputs": [
    {
     "data": {
      "text/plain": [
       "'\\n=======================================================\\nif batch = 256\\n=======================================================\\nnon-split [single epoch = 196 iter] : milestones = [164, 246]\\n- 1 ~ 164 epochs == 1 ~ 32k iter >> lr = 0.1\\n- 165~246 epochs == 32k ~ 48k iter >> lr = 0.01\\n- 247~328(?) epochs == 48k ~ 64k iter >> lr = 0.001\\n=======================================================\\nsplit to 45k/5k [single epoch = 176 iter]: milestones = [182, 273]\\n- 1~182 epochs == 1 ~ 32k iter >> lr = 0.1\\n- 182~273 epochs == 32k ~ 48k iter >> lr = 0.01\\n- 273~364(?) epochs == 48k ~ 64k iter >> lr = 0.001\\n=======================================================\\nif batch = 128\\n=======================================================\\nnon-split [signle epoch = 391 iter]: milestones = [82, 123]\\n- 1 ~ 82 epochs == 1 ~ 32k iter >> lr = 0.1\\n- 83~123 epochs == 32k ~ 48k iter >> lr = 0.01\\n- 124~(164) epochs == 48k ~ 64k iter >> lr = 0.001\\n=======================================================\\nsplit to 45k/5k [signle epoch = 352 iter]: milestones = [91, 137]\\n- 1~91 epochs == 1 ~ 32k iter >> lr = 0.1\\n- 92~137 epochs == 32k ~ 48k iter >> lr = 0.01\\n- 138~(183) epochs == 48k ~ 64k iter >> lr = 0.001\\n=======================================================\\n'"
      ]
     },
     "execution_count": 12,
     "metadata": {},
     "output_type": "execute_result"
    }
   ],
   "source": [
    "# scheduler = ExponentialLR(optimizer, gamma=0.95)\n",
    "scheduler = MultiStepLR(optimizer, milestones=[82, 123], gamma=0.1)\n",
    "\"\"\"\n",
    "=======================================================\n",
    "if batch = 256\n",
    "=======================================================\n",
    "non-split [single epoch = 196 iter] : milestones = [164, 246]\n",
    "- 1 ~ 164 epochs == 1 ~ 32k iter >> lr = 0.1\n",
    "- 165~246 epochs == 32k ~ 48k iter >> lr = 0.01\n",
    "- 247~328(?) epochs == 48k ~ 64k iter >> lr = 0.001\n",
    "=======================================================\n",
    "split to 45k/5k [single epoch = 176 iter]: milestones = [182, 273]\n",
    "- 1~182 epochs == 1 ~ 32k iter >> lr = 0.1\n",
    "- 182~273 epochs == 32k ~ 48k iter >> lr = 0.01\n",
    "- 273~364(?) epochs == 48k ~ 64k iter >> lr = 0.001\n",
    "=======================================================\n",
    "if batch = 128\n",
    "=======================================================\n",
    "non-split [signle epoch = 391 iter]: milestones = [82, 123]\n",
    "- 1 ~ 82 epochs == 1 ~ 32k iter >> lr = 0.1\n",
    "- 83~123 epochs == 32k ~ 48k iter >> lr = 0.01\n",
    "- 124~(164) epochs == 48k ~ 64k iter >> lr = 0.001\n",
    "=======================================================\n",
    "split to 45k/5k [signle epoch = 352 iter]: milestones = [91, 137]\n",
    "- 1~91 epochs == 1 ~ 32k iter >> lr = 0.1\n",
    "- 92~137 epochs == 32k ~ 48k iter >> lr = 0.01\n",
    "- 138~(183) epochs == 48k ~ 64k iter >> lr = 0.001\n",
    "=======================================================\n",
    "\"\"\""
   ]
  },
  {
   "cell_type": "markdown",
   "metadata": {},
   "source": [
    "## (5) Define AMP scaler"
   ]
  },
  {
   "cell_type": "code",
   "execution_count": 13,
   "metadata": {},
   "outputs": [],
   "source": [
    "scaler = torch.cuda.amp.GradScaler(enabled=True)"
   ]
  },
  {
   "cell_type": "markdown",
   "metadata": {},
   "source": [
    "## Load before process"
   ]
  },
  {
   "cell_type": "code",
   "execution_count": 14,
   "metadata": {},
   "outputs": [
    {
     "name": "stdout",
     "output_type": "stream",
     "text": [
      "File does not exist. Created a new log.\n"
     ]
    }
   ],
   "source": [
    "if os.path.exists(file_name + \".pth.tar\"):\n",
    "    # Read checkpoint as desired, e.g.,\n",
    "    checkpoint = torch.load(\n",
    "        file_name + \".pth.tar\",\n",
    "        map_location=lambda storage, loc: storage.cuda(device),\n",
    "    )\n",
    "    model.load_state_dict(checkpoint[\"model\"])\n",
    "    optimizer.load_state_dict(checkpoint[\"optimizer\"])\n",
    "    scaler.load_state_dict(checkpoint[\"scaler\"])\n",
    "    scheduler.load_state_dict(checkpoint[\"scheduler\"])\n",
    "    earlystopper.load_state_dict(checkpoint[\"earlystopper\"])\n",
    "    logs = checkpoint[\"logs\"]\n",
    "\n",
    "    print(\"Suceessfully loaded the All setting and Log file.\")\n",
    "    print(file_name)\n",
    "    print(f\"Current epoch is {len(logs['train_loss'])}\")\n",
    "    print(f\"Current learning rate: {optimizer.param_groups[0]['lr']}\")\n",
    "else:\n",
    "    # Create a dictionary to store the variables\n",
    "    train_loss = []\n",
    "    train_acc = []\n",
    "    eval_loss = []\n",
    "    valid_acc = []\n",
    "    test_loss = []\n",
    "    test_acc = []\n",
    "    lr_log = []\n",
    "    logs = {\n",
    "        \"train_loss\": train_loss,\n",
    "        \"train_acc\": train_acc,\n",
    "        \"valid_loss\": eval_loss,\n",
    "        \"valid_acc\": valid_acc,\n",
    "        \"test_loss\": test_loss,\n",
    "        \"test_acc\": test_acc,\n",
    "        \"lr_log\": lr_log,\n",
    "    }\n",
    "    print(\"File does not exist. Created a new log.\")"
   ]
  },
  {
   "cell_type": "code",
   "execution_count": 15,
   "metadata": {},
   "outputs": [
    {
     "data": {
      "text/plain": [
       "0.1"
      ]
     },
     "execution_count": 15,
     "metadata": {},
     "output_type": "execute_result"
    }
   ],
   "source": [
    "optimizer.param_groups[0][\"lr\"]"
   ]
  },
  {
   "cell_type": "code",
   "execution_count": 16,
   "metadata": {},
   "outputs": [
    {
     "data": {
      "text/plain": [
       "0"
      ]
     },
     "execution_count": 16,
     "metadata": {},
     "output_type": "execute_result"
    }
   ],
   "source": [
    "earlystopper.early_stop_counter"
   ]
  },
  {
   "cell_type": "markdown",
   "metadata": {},
   "source": [
    "# [Training Loop]"
   ]
  },
  {
   "cell_type": "code",
   "execution_count": 17,
   "metadata": {},
   "outputs": [
    {
     "name": "stdout",
     "output_type": "stream",
     "text": [
      "[Epoch 1/164] :\n"
     ]
    },
    {
     "name": "stderr",
     "output_type": "stream",
     "text": [
      "1 Train: 100%|███████| 391/391 [00:16<00:00, 23.54it/s]"
     ]
    },
    {
     "name": "stdout",
     "output_type": "stream",
     "text": [
      "Train Loss: 2.3262 | Train Acc: 14.81%\n"
     ]
    },
    {
     "name": "stderr",
     "output_type": "stream",
     "text": [
      "\n"
     ]
    },
    {
     "name": "stdout",
     "output_type": "stream",
     "text": [
      "Test  Loss: 2.1915 | Test Acc: 18.50%\n",
      "updated best eval loss : 2.1914695682404917\n",
      "--------------------------------------------------\n",
      "[Epoch 2/164] :\n"
     ]
    },
    {
     "name": "stderr",
     "output_type": "stream",
     "text": [
      "2 Train: 100%|███████| 391/391 [00:12<00:00, 30.95it/s]\n"
     ]
    },
    {
     "name": "stdout",
     "output_type": "stream",
     "text": [
      "Train Loss: 1.5980 | Train Acc: 40.70%\n",
      "Test  Loss: 1.8476 | Test Acc: 37.28%\n",
      "updated best eval loss : 1.8476054879683483\n",
      "--------------------------------------------------\n",
      "[Epoch 3/164] :\n"
     ]
    },
    {
     "name": "stderr",
     "output_type": "stream",
     "text": [
      "3 Train: 100%|███████| 391/391 [00:12<00:00, 30.83it/s]\n"
     ]
    },
    {
     "name": "stdout",
     "output_type": "stream",
     "text": [
      "Train Loss: 1.1405 | Train Acc: 59.27%\n",
      "Test  Loss: 1.0715 | Test Acc: 61.47%\n",
      "updated best eval loss : 1.0714761516715907\n",
      "--------------------------------------------------\n",
      "[Epoch 4/164] :\n"
     ]
    },
    {
     "name": "stderr",
     "output_type": "stream",
     "text": [
      "4 Train: 100%|███████| 391/391 [00:12<00:00, 32.35it/s]\n"
     ]
    },
    {
     "name": "stdout",
     "output_type": "stream",
     "text": [
      "Train Loss: 0.9072 | Train Acc: 67.85%\n",
      "Test  Loss: 1.4656 | Test Acc: 53.26%\n",
      "--------------------------------------------------\n",
      "[Epoch 5/164] :\n"
     ]
    },
    {
     "name": "stderr",
     "output_type": "stream",
     "text": [
      "5 Train: 100%|███████| 391/391 [00:12<00:00, 30.63it/s]\n"
     ]
    },
    {
     "name": "stdout",
     "output_type": "stream",
     "text": [
      "Train Loss: 0.7602 | Train Acc: 73.31%\n",
      "Test  Loss: 1.0961 | Test Acc: 62.82%\n",
      "--------------------------------------------------\n",
      "[Epoch 6/164] :\n"
     ]
    },
    {
     "name": "stderr",
     "output_type": "stream",
     "text": [
      "6 Train: 100%|███████| 391/391 [00:09<00:00, 41.39it/s]\n"
     ]
    },
    {
     "name": "stdout",
     "output_type": "stream",
     "text": [
      "Train Loss: 0.6710 | Train Acc: 76.79%\n",
      "Test  Loss: 1.0044 | Test Acc: 66.35%\n",
      "updated best eval loss : 1.0044329166412354\n",
      "--------------------------------------------------\n",
      "[Epoch 7/164] :\n"
     ]
    },
    {
     "name": "stderr",
     "output_type": "stream",
     "text": [
      "7 Train: 100%|███████| 391/391 [00:08<00:00, 45.27it/s]\n"
     ]
    },
    {
     "name": "stdout",
     "output_type": "stream",
     "text": [
      "Train Loss: 0.6078 | Train Acc: 78.98%\n",
      "Test  Loss: 0.7726 | Test Acc: 74.05%\n",
      "updated best eval loss : 0.7725851294360583\n",
      "--------------------------------------------------\n",
      "[Epoch 8/164] :\n"
     ]
    },
    {
     "name": "stderr",
     "output_type": "stream",
     "text": [
      "8 Train: 100%|███████| 391/391 [00:08<00:00, 45.88it/s]\n"
     ]
    },
    {
     "name": "stdout",
     "output_type": "stream",
     "text": [
      "Train Loss: 0.5666 | Train Acc: 80.27%\n",
      "Test  Loss: 0.9547 | Test Acc: 68.44%\n",
      "--------------------------------------------------\n",
      "[Epoch 9/164] :\n"
     ]
    },
    {
     "name": "stderr",
     "output_type": "stream",
     "text": [
      "9 Train: 100%|███████| 391/391 [00:08<00:00, 45.76it/s]\n"
     ]
    },
    {
     "name": "stdout",
     "output_type": "stream",
     "text": [
      "Train Loss: 0.5269 | Train Acc: 81.96%\n",
      "Test  Loss: 1.2506 | Test Acc: 61.33%\n",
      "--------------------------------------------------\n",
      "[Epoch 10/164] :\n"
     ]
    },
    {
     "name": "stderr",
     "output_type": "stream",
     "text": [
      "10 Train: 100%|██████| 391/391 [00:09<00:00, 43.11it/s]\n"
     ]
    },
    {
     "name": "stdout",
     "output_type": "stream",
     "text": [
      "Train Loss: 0.5004 | Train Acc: 82.83%\n",
      "Test  Loss: 0.8177 | Test Acc: 73.43%\n",
      "--------------------------------------------------\n",
      "[Epoch 11/164] :\n"
     ]
    },
    {
     "name": "stderr",
     "output_type": "stream",
     "text": [
      "11 Train: 100%|██████| 391/391 [00:08<00:00, 45.71it/s]\n"
     ]
    },
    {
     "name": "stdout",
     "output_type": "stream",
     "text": [
      "Train Loss: 0.4776 | Train Acc: 83.45%\n",
      "Test  Loss: 0.7156 | Test Acc: 75.90%\n",
      "updated best eval loss : 0.7155703113803381\n",
      "--------------------------------------------------\n",
      "[Epoch 12/164] :\n"
     ]
    },
    {
     "name": "stderr",
     "output_type": "stream",
     "text": [
      "12 Train: 100%|██████| 391/391 [00:08<00:00, 46.17it/s]\n"
     ]
    },
    {
     "name": "stdout",
     "output_type": "stream",
     "text": [
      "Train Loss: 0.4558 | Train Acc: 84.32%\n",
      "Test  Loss: 0.7135 | Test Acc: 75.85%\n",
      "updated best eval loss : 0.7134771716745594\n",
      "--------------------------------------------------\n",
      "[Epoch 13/164] :\n"
     ]
    },
    {
     "name": "stderr",
     "output_type": "stream",
     "text": [
      "13 Train: 100%|██████| 391/391 [00:08<00:00, 45.23it/s]\n"
     ]
    },
    {
     "name": "stdout",
     "output_type": "stream",
     "text": [
      "Train Loss: 0.4387 | Train Acc: 84.73%\n",
      "Test  Loss: 0.6887 | Test Acc: 77.81%\n",
      "updated best eval loss : 0.6886533766607695\n",
      "--------------------------------------------------\n",
      "[Epoch 14/164] :\n"
     ]
    },
    {
     "name": "stderr",
     "output_type": "stream",
     "text": [
      "14 Train: 100%|██████| 391/391 [00:08<00:00, 46.29it/s]\n"
     ]
    },
    {
     "name": "stdout",
     "output_type": "stream",
     "text": [
      "Train Loss: 0.4215 | Train Acc: 85.24%\n",
      "Test  Loss: 0.8357 | Test Acc: 73.78%\n",
      "--------------------------------------------------\n",
      "[Epoch 15/164] :\n"
     ]
    },
    {
     "name": "stderr",
     "output_type": "stream",
     "text": [
      "15 Train: 100%|██████| 391/391 [00:08<00:00, 45.48it/s]\n"
     ]
    },
    {
     "name": "stdout",
     "output_type": "stream",
     "text": [
      "Train Loss: 0.4075 | Train Acc: 85.74%\n",
      "Test  Loss: 0.7216 | Test Acc: 76.80%\n",
      "--------------------------------------------------\n",
      "[Epoch 16/164] :\n"
     ]
    },
    {
     "name": "stderr",
     "output_type": "stream",
     "text": [
      "16 Train: 100%|██████| 391/391 [00:08<00:00, 45.59it/s]\n"
     ]
    },
    {
     "name": "stdout",
     "output_type": "stream",
     "text": [
      "Train Loss: 0.3977 | Train Acc: 86.46%\n",
      "Test  Loss: 0.7458 | Test Acc: 74.94%\n",
      "--------------------------------------------------\n",
      "[Epoch 17/164] :\n"
     ]
    },
    {
     "name": "stderr",
     "output_type": "stream",
     "text": [
      "17 Train: 100%|██████| 391/391 [00:08<00:00, 45.24it/s]\n"
     ]
    },
    {
     "name": "stdout",
     "output_type": "stream",
     "text": [
      "Train Loss: 0.3848 | Train Acc: 86.62%\n",
      "Test  Loss: 0.8035 | Test Acc: 74.69%\n",
      "--------------------------------------------------\n",
      "[Epoch 18/164] :\n"
     ]
    },
    {
     "name": "stderr",
     "output_type": "stream",
     "text": [
      "18 Train: 100%|██████| 391/391 [00:08<00:00, 46.14it/s]\n"
     ]
    },
    {
     "name": "stdout",
     "output_type": "stream",
     "text": [
      "Train Loss: 0.3716 | Train Acc: 86.98%\n",
      "Test  Loss: 0.8286 | Test Acc: 75.89%\n",
      "--------------------------------------------------\n",
      "[Epoch 19/164] :\n"
     ]
    },
    {
     "name": "stderr",
     "output_type": "stream",
     "text": [
      "19 Train: 100%|██████| 391/391 [00:08<00:00, 47.38it/s]\n"
     ]
    },
    {
     "name": "stdout",
     "output_type": "stream",
     "text": [
      "Train Loss: 0.3626 | Train Acc: 87.50%\n",
      "Test  Loss: 1.0380 | Test Acc: 69.78%\n",
      "--------------------------------------------------\n",
      "[Epoch 20/164] :\n"
     ]
    },
    {
     "name": "stderr",
     "output_type": "stream",
     "text": [
      "20 Train: 100%|██████| 391/391 [00:08<00:00, 45.61it/s]\n"
     ]
    },
    {
     "name": "stdout",
     "output_type": "stream",
     "text": [
      "Train Loss: 0.3546 | Train Acc: 87.68%\n",
      "Test  Loss: 0.7623 | Test Acc: 75.21%\n",
      "--------------------------------------------------\n",
      "[Epoch 21/164] :\n"
     ]
    },
    {
     "name": "stderr",
     "output_type": "stream",
     "text": [
      "21 Train: 100%|██████| 391/391 [00:08<00:00, 46.03it/s]\n"
     ]
    },
    {
     "name": "stdout",
     "output_type": "stream",
     "text": [
      "Train Loss: 0.3389 | Train Acc: 88.28%\n",
      "Test  Loss: 0.7321 | Test Acc: 77.44%\n",
      "--------------------------------------------------\n",
      "[Epoch 22/164] :\n"
     ]
    },
    {
     "name": "stderr",
     "output_type": "stream",
     "text": [
      "22 Train: 100%|██████| 391/391 [00:08<00:00, 46.01it/s]\n"
     ]
    },
    {
     "name": "stdout",
     "output_type": "stream",
     "text": [
      "Train Loss: 0.3352 | Train Acc: 88.30%\n",
      "Test  Loss: 0.7371 | Test Acc: 76.34%\n",
      "--------------------------------------------------\n",
      "[Epoch 23/164] :\n"
     ]
    },
    {
     "name": "stderr",
     "output_type": "stream",
     "text": [
      "23 Train: 100%|██████| 391/391 [00:08<00:00, 45.71it/s]\n"
     ]
    },
    {
     "name": "stdout",
     "output_type": "stream",
     "text": [
      "Train Loss: 0.3276 | Train Acc: 88.64%\n",
      "Test  Loss: 1.3513 | Test Acc: 65.51%\n",
      "--------------------------------------------------\n",
      "[Epoch 24/164] :\n"
     ]
    },
    {
     "name": "stderr",
     "output_type": "stream",
     "text": [
      "24 Train: 100%|██████| 391/391 [00:08<00:00, 44.97it/s]\n"
     ]
    },
    {
     "name": "stdout",
     "output_type": "stream",
     "text": [
      "Train Loss: 0.3255 | Train Acc: 88.61%\n",
      "Test  Loss: 0.5392 | Test Acc: 81.74%\n",
      "updated best eval loss : 0.5391767677627032\n",
      "--------------------------------------------------\n",
      "[Epoch 25/164] :\n"
     ]
    },
    {
     "name": "stderr",
     "output_type": "stream",
     "text": [
      "25 Train: 100%|██████| 391/391 [00:08<00:00, 48.23it/s]\n"
     ]
    },
    {
     "name": "stdout",
     "output_type": "stream",
     "text": [
      "Train Loss: 0.3117 | Train Acc: 89.14%\n",
      "Test  Loss: 0.5091 | Test Acc: 82.73%\n",
      "updated best eval loss : 0.5091154654569263\n",
      "--------------------------------------------------\n",
      "[Epoch 26/164] :\n"
     ]
    },
    {
     "name": "stderr",
     "output_type": "stream",
     "text": [
      "26 Train: 100%|██████| 391/391 [00:08<00:00, 45.16it/s]\n"
     ]
    },
    {
     "name": "stdout",
     "output_type": "stream",
     "text": [
      "Train Loss: 0.3108 | Train Acc: 89.34%\n",
      "Test  Loss: 0.6661 | Test Acc: 78.58%\n",
      "--------------------------------------------------\n",
      "[Epoch 27/164] :\n"
     ]
    },
    {
     "name": "stderr",
     "output_type": "stream",
     "text": [
      "27 Train: 100%|██████| 391/391 [00:09<00:00, 42.65it/s]\n"
     ]
    },
    {
     "name": "stdout",
     "output_type": "stream",
     "text": [
      "Train Loss: 0.3050 | Train Acc: 89.36%\n",
      "Test  Loss: 0.9378 | Test Acc: 73.88%\n",
      "--------------------------------------------------\n",
      "[Epoch 28/164] :\n"
     ]
    },
    {
     "name": "stderr",
     "output_type": "stream",
     "text": [
      "28 Train: 100%|██████| 391/391 [00:08<00:00, 44.52it/s]\n"
     ]
    },
    {
     "name": "stdout",
     "output_type": "stream",
     "text": [
      "Train Loss: 0.3004 | Train Acc: 89.54%\n",
      "Test  Loss: 0.7803 | Test Acc: 75.59%\n",
      "--------------------------------------------------\n",
      "[Epoch 29/164] :\n"
     ]
    },
    {
     "name": "stderr",
     "output_type": "stream",
     "text": [
      "29 Train: 100%|██████| 391/391 [00:08<00:00, 45.10it/s]\n"
     ]
    },
    {
     "name": "stdout",
     "output_type": "stream",
     "text": [
      "Train Loss: 0.2926 | Train Acc: 89.81%\n",
      "Test  Loss: 1.2678 | Test Acc: 67.27%\n",
      "--------------------------------------------------\n",
      "[Epoch 30/164] :\n"
     ]
    },
    {
     "name": "stderr",
     "output_type": "stream",
     "text": [
      "30 Train: 100%|██████| 391/391 [00:08<00:00, 45.90it/s]\n"
     ]
    },
    {
     "name": "stdout",
     "output_type": "stream",
     "text": [
      "Train Loss: 0.2920 | Train Acc: 89.84%\n",
      "Test  Loss: 0.5818 | Test Acc: 81.12%\n",
      "--------------------------------------------------\n",
      "[Epoch 31/164] :\n"
     ]
    },
    {
     "name": "stderr",
     "output_type": "stream",
     "text": [
      "31 Train: 100%|██████| 391/391 [00:08<00:00, 45.74it/s]\n"
     ]
    },
    {
     "name": "stdout",
     "output_type": "stream",
     "text": [
      "Train Loss: 0.2853 | Train Acc: 89.96%\n",
      "Test  Loss: 0.5537 | Test Acc: 82.58%\n",
      "--------------------------------------------------\n",
      "[Epoch 32/164] :\n"
     ]
    },
    {
     "name": "stderr",
     "output_type": "stream",
     "text": [
      "32 Train: 100%|██████| 391/391 [00:08<00:00, 47.16it/s]\n"
     ]
    },
    {
     "name": "stdout",
     "output_type": "stream",
     "text": [
      "Train Loss: 0.2780 | Train Acc: 90.24%\n",
      "Test  Loss: 0.7654 | Test Acc: 77.96%\n",
      "--------------------------------------------------\n",
      "[Epoch 33/164] :\n"
     ]
    },
    {
     "name": "stderr",
     "output_type": "stream",
     "text": [
      "33 Train: 100%|██████| 391/391 [00:08<00:00, 45.62it/s]\n"
     ]
    },
    {
     "name": "stdout",
     "output_type": "stream",
     "text": [
      "Train Loss: 0.2798 | Train Acc: 90.26%\n",
      "Test  Loss: 0.8798 | Test Acc: 74.62%\n",
      "--------------------------------------------------\n",
      "[Epoch 34/164] :\n"
     ]
    },
    {
     "name": "stderr",
     "output_type": "stream",
     "text": [
      "34 Train: 100%|██████| 391/391 [00:09<00:00, 42.50it/s]\n"
     ]
    },
    {
     "name": "stdout",
     "output_type": "stream",
     "text": [
      "Train Loss: 0.2740 | Train Acc: 90.38%\n",
      "Test  Loss: 0.7295 | Test Acc: 77.44%\n",
      "--------------------------------------------------\n",
      "[Epoch 35/164] :\n"
     ]
    },
    {
     "name": "stderr",
     "output_type": "stream",
     "text": [
      "35 Train: 100%|██████| 391/391 [00:08<00:00, 45.86it/s]\n"
     ]
    },
    {
     "name": "stdout",
     "output_type": "stream",
     "text": [
      "Train Loss: 0.2741 | Train Acc: 90.29%\n",
      "Test  Loss: 0.6910 | Test Acc: 78.75%\n",
      "--------------------------------------------------\n",
      "[Epoch 36/164] :\n"
     ]
    },
    {
     "name": "stderr",
     "output_type": "stream",
     "text": [
      "36 Train: 100%|██████| 391/391 [00:08<00:00, 43.69it/s]\n"
     ]
    },
    {
     "name": "stdout",
     "output_type": "stream",
     "text": [
      "Train Loss: 0.2646 | Train Acc: 90.73%\n",
      "Test  Loss: 0.9388 | Test Acc: 73.54%\n",
      "--------------------------------------------------\n",
      "[Epoch 37/164] :\n"
     ]
    },
    {
     "name": "stderr",
     "output_type": "stream",
     "text": [
      "37 Train: 100%|██████| 391/391 [00:08<00:00, 43.96it/s]\n"
     ]
    },
    {
     "name": "stdout",
     "output_type": "stream",
     "text": [
      "Train Loss: 0.2638 | Train Acc: 90.76%\n",
      "Test  Loss: 0.7958 | Test Acc: 77.37%\n",
      "--------------------------------------------------\n",
      "[Epoch 38/164] :\n"
     ]
    },
    {
     "name": "stderr",
     "output_type": "stream",
     "text": [
      "38 Train: 100%|██████| 391/391 [00:08<00:00, 47.18it/s]\n"
     ]
    },
    {
     "name": "stdout",
     "output_type": "stream",
     "text": [
      "Train Loss: 0.2597 | Train Acc: 91.00%\n",
      "Test  Loss: 0.5876 | Test Acc: 81.20%\n",
      "--------------------------------------------------\n",
      "[Epoch 39/164] :\n"
     ]
    },
    {
     "name": "stderr",
     "output_type": "stream",
     "text": [
      "39 Train: 100%|██████| 391/391 [00:08<00:00, 45.30it/s]\n"
     ]
    },
    {
     "name": "stdout",
     "output_type": "stream",
     "text": [
      "Train Loss: 0.2644 | Train Acc: 90.71%\n",
      "Test  Loss: 0.8147 | Test Acc: 74.60%\n",
      "--------------------------------------------------\n",
      "[Epoch 40/164] :\n"
     ]
    },
    {
     "name": "stderr",
     "output_type": "stream",
     "text": [
      "40 Train: 100%|██████| 391/391 [00:08<00:00, 45.23it/s]\n"
     ]
    },
    {
     "name": "stdout",
     "output_type": "stream",
     "text": [
      "Train Loss: 0.2576 | Train Acc: 91.04%\n",
      "Test  Loss: 0.7970 | Test Acc: 76.24%\n",
      "--------------------------------------------------\n",
      "[Epoch 41/164] :\n"
     ]
    },
    {
     "name": "stderr",
     "output_type": "stream",
     "text": [
      "41 Train: 100%|██████| 391/391 [00:08<00:00, 46.22it/s]\n"
     ]
    },
    {
     "name": "stdout",
     "output_type": "stream",
     "text": [
      "Train Loss: 0.2514 | Train Acc: 91.14%\n",
      "Test  Loss: 0.8840 | Test Acc: 73.81%\n",
      "--------------------------------------------------\n",
      "[Epoch 42/164] :\n"
     ]
    },
    {
     "name": "stderr",
     "output_type": "stream",
     "text": [
      "42 Train: 100%|██████| 391/391 [00:08<00:00, 45.98it/s]\n"
     ]
    },
    {
     "name": "stdout",
     "output_type": "stream",
     "text": [
      "Train Loss: 0.2454 | Train Acc: 91.40%\n",
      "Test  Loss: 0.6650 | Test Acc: 79.90%\n",
      "--------------------------------------------------\n",
      "[Epoch 43/164] :\n"
     ]
    },
    {
     "name": "stderr",
     "output_type": "stream",
     "text": [
      "43 Train: 100%|██████| 391/391 [00:08<00:00, 45.66it/s]\n"
     ]
    },
    {
     "name": "stdout",
     "output_type": "stream",
     "text": [
      "Train Loss: 0.2477 | Train Acc: 91.29%\n",
      "Test  Loss: 1.2006 | Test Acc: 68.55%\n",
      "--------------------------------------------------\n",
      "[Epoch 44/164] :\n"
     ]
    },
    {
     "name": "stderr",
     "output_type": "stream",
     "text": [
      "44 Train: 100%|██████| 391/391 [00:08<00:00, 45.78it/s]\n"
     ]
    },
    {
     "name": "stdout",
     "output_type": "stream",
     "text": [
      "Train Loss: 0.2442 | Train Acc: 91.44%\n",
      "Test  Loss: 0.6575 | Test Acc: 78.33%\n",
      "--------------------------------------------------\n",
      "[Epoch 45/164] :\n"
     ]
    },
    {
     "name": "stderr",
     "output_type": "stream",
     "text": [
      "45 Train: 100%|██████| 391/391 [00:08<00:00, 46.95it/s]\n"
     ]
    },
    {
     "name": "stdout",
     "output_type": "stream",
     "text": [
      "Train Loss: 0.2432 | Train Acc: 91.53%\n",
      "Test  Loss: 0.9262 | Test Acc: 73.06%\n",
      "--------------------------------------------------\n",
      "[Epoch 46/164] :\n"
     ]
    },
    {
     "name": "stderr",
     "output_type": "stream",
     "text": [
      "46 Train: 100%|██████| 391/391 [00:08<00:00, 44.94it/s]\n"
     ]
    },
    {
     "name": "stdout",
     "output_type": "stream",
     "text": [
      "Train Loss: 0.2401 | Train Acc: 91.66%\n",
      "Test  Loss: 0.7177 | Test Acc: 78.85%\n",
      "--------------------------------------------------\n",
      "[Epoch 47/164] :\n"
     ]
    },
    {
     "name": "stderr",
     "output_type": "stream",
     "text": [
      "47 Train: 100%|██████| 391/391 [00:08<00:00, 45.32it/s]\n"
     ]
    },
    {
     "name": "stdout",
     "output_type": "stream",
     "text": [
      "Train Loss: 0.2419 | Train Acc: 91.48%\n",
      "Test  Loss: 0.6186 | Test Acc: 80.99%\n",
      "--------------------------------------------------\n",
      "[Epoch 48/164] :\n"
     ]
    },
    {
     "name": "stderr",
     "output_type": "stream",
     "text": [
      "48 Train: 100%|██████| 391/391 [00:08<00:00, 43.92it/s]\n"
     ]
    },
    {
     "name": "stdout",
     "output_type": "stream",
     "text": [
      "Train Loss: 0.2396 | Train Acc: 91.53%\n",
      "Test  Loss: 0.8062 | Test Acc: 75.15%\n",
      "--------------------------------------------------\n",
      "[Epoch 49/164] :\n"
     ]
    },
    {
     "name": "stderr",
     "output_type": "stream",
     "text": [
      "49 Train: 100%|██████| 391/391 [00:08<00:00, 45.41it/s]\n"
     ]
    },
    {
     "name": "stdout",
     "output_type": "stream",
     "text": [
      "Train Loss: 0.2278 | Train Acc: 92.07%\n",
      "Test  Loss: 0.6726 | Test Acc: 80.19%\n",
      "--------------------------------------------------\n",
      "[Epoch 50/164] :\n"
     ]
    },
    {
     "name": "stderr",
     "output_type": "stream",
     "text": [
      "50 Train: 100%|██████| 391/391 [00:08<00:00, 44.61it/s]\n"
     ]
    },
    {
     "name": "stdout",
     "output_type": "stream",
     "text": [
      "Train Loss: 0.2373 | Train Acc: 91.73%\n",
      "Test  Loss: 0.7535 | Test Acc: 76.82%\n",
      "--------------------------------------------------\n",
      "[Epoch 51/164] :\n"
     ]
    },
    {
     "name": "stderr",
     "output_type": "stream",
     "text": [
      "51 Train: 100%|██████| 391/391 [00:08<00:00, 46.61it/s]\n"
     ]
    },
    {
     "name": "stdout",
     "output_type": "stream",
     "text": [
      "Train Loss: 0.2295 | Train Acc: 92.01%\n",
      "Test  Loss: 0.9187 | Test Acc: 73.92%\n",
      "--------------------------------------------------\n",
      "[Epoch 52/164] :\n"
     ]
    },
    {
     "name": "stderr",
     "output_type": "stream",
     "text": [
      "52 Train: 100%|██████| 391/391 [00:08<00:00, 46.25it/s]\n"
     ]
    },
    {
     "name": "stdout",
     "output_type": "stream",
     "text": [
      "Train Loss: 0.2275 | Train Acc: 91.95%\n",
      "Test  Loss: 0.6740 | Test Acc: 80.17%\n",
      "--------------------------------------------------\n",
      "[Epoch 53/164] :\n"
     ]
    },
    {
     "name": "stderr",
     "output_type": "stream",
     "text": [
      "53 Train: 100%|██████| 391/391 [00:08<00:00, 45.93it/s]\n"
     ]
    },
    {
     "name": "stdout",
     "output_type": "stream",
     "text": [
      "Train Loss: 0.2298 | Train Acc: 91.93%\n",
      "Test  Loss: 0.5392 | Test Acc: 83.03%\n",
      "--------------------------------------------------\n",
      "[Epoch 54/164] :\n"
     ]
    },
    {
     "name": "stderr",
     "output_type": "stream",
     "text": [
      "54 Train: 100%|██████| 391/391 [00:09<00:00, 42.08it/s]\n"
     ]
    },
    {
     "name": "stdout",
     "output_type": "stream",
     "text": [
      "Train Loss: 0.2246 | Train Acc: 92.01%\n",
      "Test  Loss: 1.0017 | Test Acc: 72.61%\n",
      "--------------------------------------------------\n",
      "[Epoch 55/164] :\n"
     ]
    },
    {
     "name": "stderr",
     "output_type": "stream",
     "text": [
      "55 Train: 100%|██████| 391/391 [00:08<00:00, 45.52it/s]\n"
     ]
    },
    {
     "name": "stdout",
     "output_type": "stream",
     "text": [
      "Train Loss: 0.2244 | Train Acc: 92.09%\n",
      "Test  Loss: 0.6544 | Test Acc: 80.86%\n",
      "--------------------------------------------------\n",
      "[Epoch 56/164] :\n"
     ]
    },
    {
     "name": "stderr",
     "output_type": "stream",
     "text": [
      "56 Train: 100%|██████| 391/391 [00:08<00:00, 44.94it/s]\n"
     ]
    },
    {
     "name": "stdout",
     "output_type": "stream",
     "text": [
      "Train Loss: 0.2238 | Train Acc: 92.19%\n",
      "Test  Loss: 0.6723 | Test Acc: 79.32%\n",
      "--------------------------------------------------\n",
      "[Epoch 57/164] :\n"
     ]
    },
    {
     "name": "stderr",
     "output_type": "stream",
     "text": [
      "57 Train: 100%|██████| 391/391 [00:08<00:00, 45.43it/s]\n"
     ]
    },
    {
     "name": "stdout",
     "output_type": "stream",
     "text": [
      "Train Loss: 0.2182 | Train Acc: 92.32%\n",
      "Test  Loss: 0.5744 | Test Acc: 81.87%\n",
      "--------------------------------------------------\n",
      "[Epoch 58/164] :\n"
     ]
    },
    {
     "name": "stderr",
     "output_type": "stream",
     "text": [
      "58 Train: 100%|██████| 391/391 [00:08<00:00, 45.95it/s]\n"
     ]
    },
    {
     "name": "stdout",
     "output_type": "stream",
     "text": [
      "Train Loss: 0.2215 | Train Acc: 92.22%\n",
      "Test  Loss: 0.4894 | Test Acc: 84.40%\n",
      "updated best eval loss : 0.4894446817379964\n",
      "--------------------------------------------------\n",
      "[Epoch 59/164] :\n"
     ]
    },
    {
     "name": "stderr",
     "output_type": "stream",
     "text": [
      "59 Train: 100%|██████| 391/391 [00:08<00:00, 45.21it/s]\n"
     ]
    },
    {
     "name": "stdout",
     "output_type": "stream",
     "text": [
      "Train Loss: 0.2178 | Train Acc: 92.41%\n",
      "Test  Loss: 0.4937 | Test Acc: 83.62%\n",
      "--------------------------------------------------\n",
      "[Epoch 60/164] :\n"
     ]
    },
    {
     "name": "stderr",
     "output_type": "stream",
     "text": [
      "60 Train: 100%|██████| 391/391 [00:08<00:00, 44.62it/s]\n"
     ]
    },
    {
     "name": "stdout",
     "output_type": "stream",
     "text": [
      "Train Loss: 0.2160 | Train Acc: 92.46%\n",
      "Test  Loss: 0.5510 | Test Acc: 82.78%\n",
      "--------------------------------------------------\n",
      "[Epoch 61/164] :\n"
     ]
    },
    {
     "name": "stderr",
     "output_type": "stream",
     "text": [
      "61 Train: 100%|██████| 391/391 [00:08<00:00, 45.93it/s]\n"
     ]
    },
    {
     "name": "stdout",
     "output_type": "stream",
     "text": [
      "Train Loss: 0.2112 | Train Acc: 92.65%\n",
      "Test  Loss: 0.5739 | Test Acc: 82.08%\n",
      "--------------------------------------------------\n",
      "[Epoch 62/164] :\n"
     ]
    },
    {
     "name": "stderr",
     "output_type": "stream",
     "text": [
      "62 Train: 100%|██████| 391/391 [00:08<00:00, 46.09it/s]\n"
     ]
    },
    {
     "name": "stdout",
     "output_type": "stream",
     "text": [
      "Train Loss: 0.2143 | Train Acc: 92.44%\n",
      "Test  Loss: 0.4940 | Test Acc: 83.83%\n",
      "--------------------------------------------------\n",
      "[Epoch 63/164] :\n"
     ]
    },
    {
     "name": "stderr",
     "output_type": "stream",
     "text": [
      "63 Train: 100%|██████| 391/391 [00:08<00:00, 46.22it/s]\n"
     ]
    },
    {
     "name": "stdout",
     "output_type": "stream",
     "text": [
      "Train Loss: 0.2086 | Train Acc: 92.63%\n",
      "Test  Loss: 0.7063 | Test Acc: 79.08%\n",
      "--------------------------------------------------\n",
      "[Epoch 64/164] :\n"
     ]
    },
    {
     "name": "stderr",
     "output_type": "stream",
     "text": [
      "64 Train: 100%|██████| 391/391 [00:08<00:00, 46.25it/s]\n"
     ]
    },
    {
     "name": "stdout",
     "output_type": "stream",
     "text": [
      "Train Loss: 0.2114 | Train Acc: 92.49%\n",
      "Test  Loss: 0.6141 | Test Acc: 80.97%\n",
      "--------------------------------------------------\n",
      "[Epoch 65/164] :\n"
     ]
    },
    {
     "name": "stderr",
     "output_type": "stream",
     "text": [
      "65 Train: 100%|██████| 391/391 [00:08<00:00, 46.38it/s]\n"
     ]
    },
    {
     "name": "stdout",
     "output_type": "stream",
     "text": [
      "Train Loss: 0.2085 | Train Acc: 92.58%\n",
      "Test  Loss: 0.6624 | Test Acc: 80.90%\n",
      "--------------------------------------------------\n",
      "[Epoch 66/164] :\n"
     ]
    },
    {
     "name": "stderr",
     "output_type": "stream",
     "text": [
      "66 Train: 100%|██████| 391/391 [00:08<00:00, 45.48it/s]\n"
     ]
    },
    {
     "name": "stdout",
     "output_type": "stream",
     "text": [
      "Train Loss: 0.2074 | Train Acc: 92.65%\n",
      "Test  Loss: 0.5325 | Test Acc: 83.44%\n",
      "--------------------------------------------------\n",
      "[Epoch 67/164] :\n"
     ]
    },
    {
     "name": "stderr",
     "output_type": "stream",
     "text": [
      "67 Train: 100%|██████| 391/391 [00:08<00:00, 45.04it/s]\n"
     ]
    },
    {
     "name": "stdout",
     "output_type": "stream",
     "text": [
      "Train Loss: 0.2123 | Train Acc: 92.57%\n",
      "Test  Loss: 0.5791 | Test Acc: 82.91%\n",
      "--------------------------------------------------\n",
      "[Epoch 68/164] :\n"
     ]
    },
    {
     "name": "stderr",
     "output_type": "stream",
     "text": [
      "68 Train: 100%|██████| 391/391 [00:08<00:00, 45.60it/s]\n"
     ]
    },
    {
     "name": "stdout",
     "output_type": "stream",
     "text": [
      "Train Loss: 0.2089 | Train Acc: 92.58%\n",
      "Test  Loss: 0.6370 | Test Acc: 81.24%\n",
      "--------------------------------------------------\n",
      "[Epoch 69/164] :\n"
     ]
    },
    {
     "name": "stderr",
     "output_type": "stream",
     "text": [
      "69 Train: 100%|██████| 391/391 [00:08<00:00, 45.67it/s]\n"
     ]
    },
    {
     "name": "stdout",
     "output_type": "stream",
     "text": [
      "Train Loss: 0.2035 | Train Acc: 92.78%\n",
      "Test  Loss: 0.5111 | Test Acc: 83.85%\n",
      "--------------------------------------------------\n",
      "[Epoch 70/164] :\n"
     ]
    },
    {
     "name": "stderr",
     "output_type": "stream",
     "text": [
      "70 Train: 100%|██████| 391/391 [00:08<00:00, 44.74it/s]\n"
     ]
    },
    {
     "name": "stdout",
     "output_type": "stream",
     "text": [
      "Train Loss: 0.2054 | Train Acc: 92.73%\n",
      "Test  Loss: 0.5456 | Test Acc: 83.24%\n",
      "--------------------------------------------------\n",
      "[Epoch 71/164] :\n"
     ]
    },
    {
     "name": "stderr",
     "output_type": "stream",
     "text": [
      "71 Train: 100%|██████| 391/391 [00:08<00:00, 47.70it/s]\n"
     ]
    },
    {
     "name": "stdout",
     "output_type": "stream",
     "text": [
      "Train Loss: 0.2032 | Train Acc: 93.00%\n",
      "Test  Loss: 0.7794 | Test Acc: 77.55%\n",
      "--------------------------------------------------\n",
      "[Epoch 72/164] :\n"
     ]
    },
    {
     "name": "stderr",
     "output_type": "stream",
     "text": [
      "72 Train: 100%|██████| 391/391 [00:08<00:00, 46.07it/s]\n"
     ]
    },
    {
     "name": "stdout",
     "output_type": "stream",
     "text": [
      "Train Loss: 0.1967 | Train Acc: 92.99%\n",
      "Test  Loss: 0.6029 | Test Acc: 82.12%\n",
      "--------------------------------------------------\n",
      "[Epoch 73/164] :\n"
     ]
    },
    {
     "name": "stderr",
     "output_type": "stream",
     "text": [
      "73 Train: 100%|██████| 391/391 [00:08<00:00, 45.65it/s]\n"
     ]
    },
    {
     "name": "stdout",
     "output_type": "stream",
     "text": [
      "Train Loss: 0.2025 | Train Acc: 92.91%\n",
      "Test  Loss: 1.0336 | Test Acc: 75.25%\n",
      "--------------------------------------------------\n",
      "[Epoch 74/164] :\n"
     ]
    },
    {
     "name": "stderr",
     "output_type": "stream",
     "text": [
      "74 Train: 100%|██████| 391/391 [00:08<00:00, 45.52it/s]\n"
     ]
    },
    {
     "name": "stdout",
     "output_type": "stream",
     "text": [
      "Train Loss: 0.2079 | Train Acc: 92.59%\n",
      "Test  Loss: 0.9635 | Test Acc: 75.11%\n",
      "--------------------------------------------------\n",
      "[Epoch 75/164] :\n"
     ]
    },
    {
     "name": "stderr",
     "output_type": "stream",
     "text": [
      "75 Train: 100%|██████| 391/391 [00:08<00:00, 45.46it/s]\n"
     ]
    },
    {
     "name": "stdout",
     "output_type": "stream",
     "text": [
      "Train Loss: 0.2002 | Train Acc: 93.06%\n",
      "Test  Loss: 0.5992 | Test Acc: 82.00%\n",
      "--------------------------------------------------\n",
      "[Epoch 76/164] :\n"
     ]
    },
    {
     "name": "stderr",
     "output_type": "stream",
     "text": [
      "76 Train: 100%|██████| 391/391 [00:08<00:00, 46.19it/s]\n"
     ]
    },
    {
     "name": "stdout",
     "output_type": "stream",
     "text": [
      "Train Loss: 0.1986 | Train Acc: 93.03%\n",
      "Test  Loss: 0.7029 | Test Acc: 80.95%\n",
      "--------------------------------------------------\n",
      "[Epoch 77/164] :\n"
     ]
    },
    {
     "name": "stderr",
     "output_type": "stream",
     "text": [
      "77 Train: 100%|██████| 391/391 [00:08<00:00, 45.35it/s]\n"
     ]
    },
    {
     "name": "stdout",
     "output_type": "stream",
     "text": [
      "Train Loss: 0.1976 | Train Acc: 93.02%\n",
      "Test  Loss: 0.5912 | Test Acc: 82.71%\n",
      "--------------------------------------------------\n",
      "[Epoch 78/164] :\n"
     ]
    },
    {
     "name": "stderr",
     "output_type": "stream",
     "text": [
      "78 Train: 100%|██████| 391/391 [00:08<00:00, 46.03it/s]\n"
     ]
    },
    {
     "name": "stdout",
     "output_type": "stream",
     "text": [
      "Train Loss: 0.2000 | Train Acc: 92.92%\n",
      "Test  Loss: 0.4847 | Test Acc: 84.70%\n",
      "updated best eval loss : 0.4846729211792161\n",
      "--------------------------------------------------\n",
      "[Epoch 79/164] :\n"
     ]
    },
    {
     "name": "stderr",
     "output_type": "stream",
     "text": [
      "79 Train: 100%|██████| 391/391 [00:08<00:00, 44.92it/s]\n"
     ]
    },
    {
     "name": "stdout",
     "output_type": "stream",
     "text": [
      "Train Loss: 0.1983 | Train Acc: 93.07%\n",
      "Test  Loss: 0.8030 | Test Acc: 77.15%\n",
      "--------------------------------------------------\n",
      "[Epoch 80/164] :\n"
     ]
    },
    {
     "name": "stderr",
     "output_type": "stream",
     "text": [
      "80 Train: 100%|██████| 391/391 [00:09<00:00, 42.49it/s]\n"
     ]
    },
    {
     "name": "stdout",
     "output_type": "stream",
     "text": [
      "Train Loss: 0.1992 | Train Acc: 92.99%\n",
      "Test  Loss: 0.5580 | Test Acc: 83.78%\n",
      "--------------------------------------------------\n",
      "[Epoch 81/164] :\n"
     ]
    },
    {
     "name": "stderr",
     "output_type": "stream",
     "text": [
      "81 Train: 100%|██████| 391/391 [00:08<00:00, 44.35it/s]\n"
     ]
    },
    {
     "name": "stdout",
     "output_type": "stream",
     "text": [
      "Train Loss: 0.2019 | Train Acc: 92.92%\n",
      "Test  Loss: 0.5869 | Test Acc: 82.25%\n",
      "--------------------------------------------------\n",
      "[Epoch 82/164] :\n"
     ]
    },
    {
     "name": "stderr",
     "output_type": "stream",
     "text": [
      "82 Train: 100%|██████| 391/391 [00:08<00:00, 45.90it/s]\n"
     ]
    },
    {
     "name": "stdout",
     "output_type": "stream",
     "text": [
      "Train Loss: 0.1948 | Train Acc: 93.19%\n",
      "Test  Loss: 0.6683 | Test Acc: 80.13%\n",
      "Learning Rate has changed : Now is 0.010000000000000002\n",
      "--------------------------------------------------\n",
      "[Epoch 83/164] :\n"
     ]
    },
    {
     "name": "stderr",
     "output_type": "stream",
     "text": [
      "83 Train: 100%|██████| 391/391 [00:08<00:00, 44.86it/s]\n"
     ]
    },
    {
     "name": "stdout",
     "output_type": "stream",
     "text": [
      "Train Loss: 0.1140 | Train Acc: 96.12%\n",
      "Test  Loss: 0.4154 | Test Acc: 87.35%\n",
      "updated best eval loss : 0.41541592632950863\n",
      "--------------------------------------------------\n",
      "[Epoch 84/164] :\n"
     ]
    },
    {
     "name": "stderr",
     "output_type": "stream",
     "text": [
      "84 Train: 100%|██████| 391/391 [00:08<00:00, 47.00it/s]\n"
     ]
    },
    {
     "name": "stdout",
     "output_type": "stream",
     "text": [
      "Train Loss: 0.0881 | Train Acc: 97.04%\n",
      "Test  Loss: 0.4301 | Test Acc: 86.92%\n",
      "--------------------------------------------------\n",
      "[Epoch 85/164] :\n"
     ]
    },
    {
     "name": "stderr",
     "output_type": "stream",
     "text": [
      "85 Train: 100%|██████| 391/391 [00:08<00:00, 44.96it/s]\n"
     ]
    },
    {
     "name": "stdout",
     "output_type": "stream",
     "text": [
      "Train Loss: 0.0740 | Train Acc: 97.58%\n",
      "Test  Loss: 0.4176 | Test Acc: 87.75%\n",
      "--------------------------------------------------\n",
      "[Epoch 86/164] :\n"
     ]
    },
    {
     "name": "stderr",
     "output_type": "stream",
     "text": [
      "86 Train: 100%|██████| 391/391 [00:08<00:00, 45.09it/s]\n"
     ]
    },
    {
     "name": "stdout",
     "output_type": "stream",
     "text": [
      "Train Loss: 0.0679 | Train Acc: 97.73%\n",
      "Test  Loss: 0.4497 | Test Acc: 86.92%\n",
      "--------------------------------------------------\n",
      "[Epoch 87/164] :\n"
     ]
    },
    {
     "name": "stderr",
     "output_type": "stream",
     "text": [
      "87 Train: 100%|██████| 391/391 [00:08<00:00, 44.61it/s]\n"
     ]
    },
    {
     "name": "stdout",
     "output_type": "stream",
     "text": [
      "Train Loss: 0.0654 | Train Acc: 97.85%\n",
      "Test  Loss: 0.4926 | Test Acc: 86.51%\n",
      "--------------------------------------------------\n",
      "[Epoch 88/164] :\n"
     ]
    },
    {
     "name": "stderr",
     "output_type": "stream",
     "text": [
      "88 Train: 100%|██████| 391/391 [00:08<00:00, 45.08it/s]\n"
     ]
    },
    {
     "name": "stdout",
     "output_type": "stream",
     "text": [
      "Train Loss: 0.0588 | Train Acc: 98.09%\n",
      "Test  Loss: 0.4628 | Test Acc: 87.37%\n",
      "--------------------------------------------------\n",
      "[Epoch 89/164] :\n"
     ]
    },
    {
     "name": "stderr",
     "output_type": "stream",
     "text": [
      "89 Train: 100%|██████| 391/391 [00:08<00:00, 44.06it/s]\n"
     ]
    },
    {
     "name": "stdout",
     "output_type": "stream",
     "text": [
      "Train Loss: 0.0571 | Train Acc: 98.09%\n",
      "Test  Loss: 0.4464 | Test Acc: 87.71%\n",
      "--------------------------------------------------\n",
      "[Epoch 90/164] :\n"
     ]
    },
    {
     "name": "stderr",
     "output_type": "stream",
     "text": [
      "90 Train: 100%|██████| 391/391 [00:08<00:00, 45.72it/s]\n"
     ]
    },
    {
     "name": "stdout",
     "output_type": "stream",
     "text": [
      "Train Loss: 0.0536 | Train Acc: 98.23%\n",
      "Test  Loss: 0.4401 | Test Acc: 88.01%\n",
      "--------------------------------------------------\n",
      "[Epoch 91/164] :\n"
     ]
    },
    {
     "name": "stderr",
     "output_type": "stream",
     "text": [
      "91 Train: 100%|██████| 391/391 [00:08<00:00, 46.47it/s]\n"
     ]
    },
    {
     "name": "stdout",
     "output_type": "stream",
     "text": [
      "Train Loss: 0.0504 | Train Acc: 98.36%\n",
      "Test  Loss: 0.5104 | Test Acc: 86.59%\n",
      "--------------------------------------------------\n",
      "[Epoch 92/164] :\n"
     ]
    },
    {
     "name": "stderr",
     "output_type": "stream",
     "text": [
      "92 Train: 100%|██████| 391/391 [00:08<00:00, 46.27it/s]\n"
     ]
    },
    {
     "name": "stdout",
     "output_type": "stream",
     "text": [
      "Train Loss: 0.0485 | Train Acc: 98.44%\n",
      "Test  Loss: 0.5305 | Test Acc: 86.32%\n",
      "--------------------------------------------------\n",
      "[Epoch 93/164] :\n"
     ]
    },
    {
     "name": "stderr",
     "output_type": "stream",
     "text": [
      "93 Train: 100%|██████| 391/391 [00:08<00:00, 45.99it/s]\n"
     ]
    },
    {
     "name": "stdout",
     "output_type": "stream",
     "text": [
      "Train Loss: 0.0475 | Train Acc: 98.40%\n",
      "Test  Loss: 0.4519 | Test Acc: 87.85%\n",
      "--------------------------------------------------\n",
      "[Epoch 94/164] :\n"
     ]
    },
    {
     "name": "stderr",
     "output_type": "stream",
     "text": [
      "94 Train: 100%|██████| 391/391 [00:08<00:00, 44.79it/s]\n"
     ]
    },
    {
     "name": "stdout",
     "output_type": "stream",
     "text": [
      "Train Loss: 0.0433 | Train Acc: 98.55%\n",
      "Test  Loss: 0.4881 | Test Acc: 87.30%\n",
      "--------------------------------------------------\n",
      "[Epoch 95/164] :\n"
     ]
    },
    {
     "name": "stderr",
     "output_type": "stream",
     "text": [
      "95 Train: 100%|██████| 391/391 [00:08<00:00, 45.09it/s]\n"
     ]
    },
    {
     "name": "stdout",
     "output_type": "stream",
     "text": [
      "Train Loss: 0.0415 | Train Acc: 98.69%\n",
      "Test  Loss: 0.4758 | Test Acc: 87.63%\n",
      "--------------------------------------------------\n",
      "[Epoch 96/164] :\n"
     ]
    },
    {
     "name": "stderr",
     "output_type": "stream",
     "text": [
      "96 Train: 100%|██████| 391/391 [00:08<00:00, 46.01it/s]\n"
     ]
    },
    {
     "name": "stdout",
     "output_type": "stream",
     "text": [
      "Train Loss: 0.0408 | Train Acc: 98.62%\n",
      "Test  Loss: 0.4900 | Test Acc: 87.61%\n",
      "--------------------------------------------------\n",
      "[Epoch 97/164] :\n"
     ]
    },
    {
     "name": "stderr",
     "output_type": "stream",
     "text": [
      "97 Train: 100%|██████| 391/391 [00:08<00:00, 47.19it/s]\n"
     ]
    },
    {
     "name": "stdout",
     "output_type": "stream",
     "text": [
      "Train Loss: 0.0399 | Train Acc: 98.69%\n",
      "Test  Loss: 0.4547 | Test Acc: 88.15%\n",
      "--------------------------------------------------\n",
      "[Epoch 98/164] :\n"
     ]
    },
    {
     "name": "stderr",
     "output_type": "stream",
     "text": [
      "98 Train: 100%|██████| 391/391 [00:08<00:00, 45.38it/s]\n"
     ]
    },
    {
     "name": "stdout",
     "output_type": "stream",
     "text": [
      "Train Loss: 0.0369 | Train Acc: 98.89%\n",
      "Test  Loss: 0.5314 | Test Acc: 87.06%\n",
      "--------------------------------------------------\n",
      "[Epoch 99/164] :\n"
     ]
    },
    {
     "name": "stderr",
     "output_type": "stream",
     "text": [
      "99 Train: 100%|██████| 391/391 [00:08<00:00, 45.57it/s]\n"
     ]
    },
    {
     "name": "stdout",
     "output_type": "stream",
     "text": [
      "Train Loss: 0.0352 | Train Acc: 98.90%\n",
      "Test  Loss: 0.5117 | Test Acc: 87.52%\n",
      "--------------------------------------------------\n",
      "[Epoch 100/164] :\n"
     ]
    },
    {
     "name": "stderr",
     "output_type": "stream",
     "text": [
      "100 Train: 100%|█████| 391/391 [00:08<00:00, 45.22it/s]\n"
     ]
    },
    {
     "name": "stdout",
     "output_type": "stream",
     "text": [
      "Train Loss: 0.0342 | Train Acc: 98.89%\n",
      "Test  Loss: 0.5274 | Test Acc: 86.84%\n",
      "--------------------------------------------------\n",
      "[Epoch 101/164] :\n"
     ]
    },
    {
     "name": "stderr",
     "output_type": "stream",
     "text": [
      "101 Train: 100%|█████| 391/391 [00:08<00:00, 45.07it/s]\n"
     ]
    },
    {
     "name": "stdout",
     "output_type": "stream",
     "text": [
      "Train Loss: 0.0344 | Train Acc: 98.87%\n",
      "Test  Loss: 0.5569 | Test Acc: 86.84%\n",
      "--------------------------------------------------\n",
      "[Epoch 102/164] :\n"
     ]
    },
    {
     "name": "stderr",
     "output_type": "stream",
     "text": [
      "102 Train: 100%|█████| 391/391 [00:08<00:00, 45.74it/s]\n"
     ]
    },
    {
     "name": "stdout",
     "output_type": "stream",
     "text": [
      "Train Loss: 0.0336 | Train Acc: 98.85%\n",
      "Test  Loss: 0.5917 | Test Acc: 86.44%\n",
      "--------------------------------------------------\n",
      "[Epoch 103/164] :\n"
     ]
    },
    {
     "name": "stderr",
     "output_type": "stream",
     "text": [
      "103 Train: 100%|█████| 391/391 [00:08<00:00, 45.67it/s]\n"
     ]
    },
    {
     "name": "stdout",
     "output_type": "stream",
     "text": [
      "Train Loss: 0.0297 | Train Acc: 99.03%\n",
      "Test  Loss: 0.5573 | Test Acc: 87.29%\n",
      "--------------------------------------------------\n",
      "[Epoch 104/164] :\n"
     ]
    },
    {
     "name": "stderr",
     "output_type": "stream",
     "text": [
      "104 Train: 100%|█████| 391/391 [00:08<00:00, 45.51it/s]\n"
     ]
    },
    {
     "name": "stdout",
     "output_type": "stream",
     "text": [
      "Train Loss: 0.0310 | Train Acc: 99.01%\n",
      "Test  Loss: 0.5420 | Test Acc: 87.26%\n",
      "--------------------------------------------------\n",
      "[Epoch 105/164] :\n"
     ]
    },
    {
     "name": "stderr",
     "output_type": "stream",
     "text": [
      "105 Train: 100%|█████| 391/391 [00:08<00:00, 46.13it/s]\n"
     ]
    },
    {
     "name": "stdout",
     "output_type": "stream",
     "text": [
      "Train Loss: 0.0289 | Train Acc: 99.09%\n",
      "Test  Loss: 0.5516 | Test Acc: 87.40%\n",
      "--------------------------------------------------\n",
      "[Epoch 106/164] :\n"
     ]
    },
    {
     "name": "stderr",
     "output_type": "stream",
     "text": [
      "106 Train: 100%|█████| 391/391 [00:08<00:00, 45.29it/s]\n"
     ]
    },
    {
     "name": "stdout",
     "output_type": "stream",
     "text": [
      "Train Loss: 0.0306 | Train Acc: 99.00%\n",
      "Test  Loss: 0.5279 | Test Acc: 87.71%\n",
      "--------------------------------------------------\n",
      "[Epoch 107/164] :\n"
     ]
    },
    {
     "name": "stderr",
     "output_type": "stream",
     "text": [
      "107 Train: 100%|█████| 391/391 [00:08<00:00, 46.04it/s]\n"
     ]
    },
    {
     "name": "stdout",
     "output_type": "stream",
     "text": [
      "Train Loss: 0.0281 | Train Acc: 99.10%\n",
      "Test  Loss: 0.5721 | Test Acc: 86.91%\n",
      "--------------------------------------------------\n",
      "[Epoch 108/164] :\n"
     ]
    },
    {
     "name": "stderr",
     "output_type": "stream",
     "text": [
      "108 Train: 100%|█████| 391/391 [00:08<00:00, 45.53it/s]\n"
     ]
    },
    {
     "name": "stdout",
     "output_type": "stream",
     "text": [
      "Train Loss: 0.0294 | Train Acc: 99.08%\n",
      "Test  Loss: 0.5308 | Test Acc: 87.76%\n",
      "--------------------------------------------------\n",
      "[Epoch 109/164] :\n"
     ]
    },
    {
     "name": "stderr",
     "output_type": "stream",
     "text": [
      "109 Train: 100%|█████| 391/391 [00:08<00:00, 44.70it/s]\n"
     ]
    },
    {
     "name": "stdout",
     "output_type": "stream",
     "text": [
      "Train Loss: 0.0262 | Train Acc: 99.17%\n",
      "Test  Loss: 0.5898 | Test Acc: 86.95%\n",
      "--------------------------------------------------\n",
      "[Epoch 110/164] :\n"
     ]
    },
    {
     "name": "stderr",
     "output_type": "stream",
     "text": [
      "110 Train: 100%|█████| 391/391 [00:08<00:00, 45.88it/s]\n"
     ]
    },
    {
     "name": "stdout",
     "output_type": "stream",
     "text": [
      "Train Loss: 0.0247 | Train Acc: 99.22%\n",
      "Test  Loss: 0.5499 | Test Acc: 87.73%\n",
      "--------------------------------------------------\n",
      "[Epoch 111/164] :\n"
     ]
    },
    {
     "name": "stderr",
     "output_type": "stream",
     "text": [
      "111 Train: 100%|█████| 391/391 [00:08<00:00, 46.57it/s]\n"
     ]
    },
    {
     "name": "stdout",
     "output_type": "stream",
     "text": [
      "Train Loss: 0.0252 | Train Acc: 99.21%\n",
      "Test  Loss: 0.5472 | Test Acc: 87.83%\n",
      "--------------------------------------------------\n",
      "[Epoch 112/164] :\n"
     ]
    },
    {
     "name": "stderr",
     "output_type": "stream",
     "text": [
      "112 Train: 100%|█████| 391/391 [00:08<00:00, 45.97it/s]\n"
     ]
    },
    {
     "name": "stdout",
     "output_type": "stream",
     "text": [
      "Train Loss: 0.0250 | Train Acc: 99.18%\n",
      "Test  Loss: 0.6073 | Test Acc: 86.36%\n",
      "--------------------------------------------------\n",
      "[Epoch 113/164] :\n"
     ]
    },
    {
     "name": "stderr",
     "output_type": "stream",
     "text": [
      "113 Train: 100%|█████| 391/391 [00:08<00:00, 46.11it/s]\n"
     ]
    },
    {
     "name": "stdout",
     "output_type": "stream",
     "text": [
      "Train Loss: 0.0240 | Train Acc: 99.22%\n",
      "Test  Loss: 0.5268 | Test Acc: 87.89%\n",
      "--------------------------------------------------\n",
      "[Epoch 114/164] :\n"
     ]
    },
    {
     "name": "stderr",
     "output_type": "stream",
     "text": [
      "114 Train: 100%|█████| 391/391 [00:08<00:00, 45.67it/s]\n"
     ]
    },
    {
     "name": "stdout",
     "output_type": "stream",
     "text": [
      "Train Loss: 0.0235 | Train Acc: 99.31%\n",
      "Test  Loss: 0.5599 | Test Acc: 87.36%\n",
      "--------------------------------------------------\n",
      "[Epoch 115/164] :\n"
     ]
    },
    {
     "name": "stderr",
     "output_type": "stream",
     "text": [
      "115 Train: 100%|█████| 391/391 [00:08<00:00, 45.66it/s]\n"
     ]
    },
    {
     "name": "stdout",
     "output_type": "stream",
     "text": [
      "Train Loss: 0.0229 | Train Acc: 99.28%\n",
      "Test  Loss: 0.5909 | Test Acc: 86.90%\n",
      "--------------------------------------------------\n",
      "[Epoch 116/164] :\n"
     ]
    },
    {
     "name": "stderr",
     "output_type": "stream",
     "text": [
      "116 Train: 100%|█████| 391/391 [00:08<00:00, 45.65it/s]\n"
     ]
    },
    {
     "name": "stdout",
     "output_type": "stream",
     "text": [
      "Train Loss: 0.0209 | Train Acc: 99.37%\n",
      "Test  Loss: 0.6195 | Test Acc: 86.66%\n",
      "--------------------------------------------------\n",
      "[Epoch 117/164] :\n"
     ]
    },
    {
     "name": "stderr",
     "output_type": "stream",
     "text": [
      "117 Train: 100%|█████| 391/391 [00:08<00:00, 47.70it/s]\n"
     ]
    },
    {
     "name": "stdout",
     "output_type": "stream",
     "text": [
      "Train Loss: 0.0213 | Train Acc: 99.33%\n",
      "Test  Loss: 0.5808 | Test Acc: 87.28%\n",
      "--------------------------------------------------\n",
      "[Epoch 118/164] :\n"
     ]
    },
    {
     "name": "stderr",
     "output_type": "stream",
     "text": [
      "118 Train: 100%|█████| 391/391 [00:08<00:00, 45.32it/s]\n"
     ]
    },
    {
     "name": "stdout",
     "output_type": "stream",
     "text": [
      "Train Loss: 0.0228 | Train Acc: 99.27%\n",
      "Test  Loss: 0.5802 | Test Acc: 87.21%\n",
      "--------------------------------------------------\n",
      "[Epoch 119/164] :\n"
     ]
    },
    {
     "name": "stderr",
     "output_type": "stream",
     "text": [
      "119 Train: 100%|█████| 391/391 [00:08<00:00, 45.06it/s]\n"
     ]
    },
    {
     "name": "stdout",
     "output_type": "stream",
     "text": [
      "Train Loss: 0.0213 | Train Acc: 99.35%\n",
      "Test  Loss: 0.6308 | Test Acc: 86.23%\n",
      "--------------------------------------------------\n",
      "[Epoch 120/164] :\n"
     ]
    },
    {
     "name": "stderr",
     "output_type": "stream",
     "text": [
      "120 Train: 100%|█████| 391/391 [00:08<00:00, 44.83it/s]\n"
     ]
    },
    {
     "name": "stdout",
     "output_type": "stream",
     "text": [
      "Train Loss: 0.0206 | Train Acc: 99.39%\n",
      "Test  Loss: 0.5954 | Test Acc: 86.90%\n",
      "--------------------------------------------------\n",
      "[Epoch 121/164] :\n"
     ]
    },
    {
     "name": "stderr",
     "output_type": "stream",
     "text": [
      "121 Train: 100%|█████| 391/391 [00:08<00:00, 44.92it/s]\n"
     ]
    },
    {
     "name": "stdout",
     "output_type": "stream",
     "text": [
      "Train Loss: 0.0200 | Train Acc: 99.40%\n",
      "Test  Loss: 0.5999 | Test Acc: 86.93%\n",
      "--------------------------------------------------\n",
      "[Epoch 122/164] :\n"
     ]
    },
    {
     "name": "stderr",
     "output_type": "stream",
     "text": [
      "122 Train: 100%|█████| 391/391 [00:08<00:00, 45.36it/s]\n"
     ]
    },
    {
     "name": "stdout",
     "output_type": "stream",
     "text": [
      "Train Loss: 0.0194 | Train Acc: 99.42%\n",
      "Test  Loss: 0.6213 | Test Acc: 86.95%\n",
      "--------------------------------------------------\n",
      "[Epoch 123/164] :\n"
     ]
    },
    {
     "name": "stderr",
     "output_type": "stream",
     "text": [
      "123 Train: 100%|█████| 391/391 [00:09<00:00, 42.58it/s]\n"
     ]
    },
    {
     "name": "stdout",
     "output_type": "stream",
     "text": [
      "Train Loss: 0.0191 | Train Acc: 99.40%\n",
      "Test  Loss: 0.6413 | Test Acc: 86.79%\n",
      "Learning Rate has changed : Now is 0.0010000000000000002\n",
      "--------------------------------------------------\n",
      "[Epoch 124/164] :\n"
     ]
    },
    {
     "name": "stderr",
     "output_type": "stream",
     "text": [
      "124 Train: 100%|█████| 391/391 [00:08<00:00, 45.30it/s]\n"
     ]
    },
    {
     "name": "stdout",
     "output_type": "stream",
     "text": [
      "Train Loss: 0.0183 | Train Acc: 99.46%\n",
      "Test  Loss: 0.5737 | Test Acc: 87.52%\n",
      "--------------------------------------------------\n",
      "[Epoch 125/164] :\n"
     ]
    },
    {
     "name": "stderr",
     "output_type": "stream",
     "text": [
      "125 Train: 100%|█████| 391/391 [00:08<00:00, 46.10it/s]\n"
     ]
    },
    {
     "name": "stdout",
     "output_type": "stream",
     "text": [
      "Train Loss: 0.0163 | Train Acc: 99.49%\n",
      "Test  Loss: 0.5862 | Test Acc: 87.39%\n",
      "--------------------------------------------------\n",
      "[Epoch 126/164] :\n"
     ]
    },
    {
     "name": "stderr",
     "output_type": "stream",
     "text": [
      "126 Train: 100%|█████| 391/391 [00:08<00:00, 45.13it/s]\n"
     ]
    },
    {
     "name": "stdout",
     "output_type": "stream",
     "text": [
      "Train Loss: 0.0157 | Train Acc: 99.58%\n",
      "Test  Loss: 0.5625 | Test Acc: 87.62%\n",
      "--------------------------------------------------\n",
      "[Epoch 127/164] :\n"
     ]
    },
    {
     "name": "stderr",
     "output_type": "stream",
     "text": [
      "127 Train: 100%|█████| 391/391 [00:08<00:00, 44.00it/s]\n"
     ]
    },
    {
     "name": "stdout",
     "output_type": "stream",
     "text": [
      "Train Loss: 0.0144 | Train Acc: 99.60%\n",
      "Test  Loss: 0.5863 | Test Acc: 87.54%\n",
      "--------------------------------------------------\n",
      "[Epoch 128/164] :\n"
     ]
    },
    {
     "name": "stderr",
     "output_type": "stream",
     "text": [
      "128 Train: 100%|█████| 391/391 [00:08<00:00, 44.80it/s]\n"
     ]
    },
    {
     "name": "stdout",
     "output_type": "stream",
     "text": [
      "Train Loss: 0.0148 | Train Acc: 99.60%\n",
      "Test  Loss: 0.5958 | Test Acc: 87.41%\n",
      "--------------------------------------------------\n",
      "[Epoch 129/164] :\n"
     ]
    },
    {
     "name": "stderr",
     "output_type": "stream",
     "text": [
      "129 Train: 100%|█████| 391/391 [00:08<00:00, 44.55it/s]\n"
     ]
    },
    {
     "name": "stdout",
     "output_type": "stream",
     "text": [
      "Train Loss: 0.0142 | Train Acc: 99.58%\n",
      "Test  Loss: 0.5902 | Test Acc: 87.38%\n",
      "--------------------------------------------------\n",
      "[Epoch 130/164] :\n"
     ]
    },
    {
     "name": "stderr",
     "output_type": "stream",
     "text": [
      "130 Train: 100%|█████| 391/391 [00:08<00:00, 46.51it/s]\n"
     ]
    },
    {
     "name": "stdout",
     "output_type": "stream",
     "text": [
      "Train Loss: 0.0141 | Train Acc: 99.61%\n",
      "Test  Loss: 0.5613 | Test Acc: 87.76%\n",
      "--------------------------------------------------\n",
      "[Epoch 131/164] :\n"
     ]
    },
    {
     "name": "stderr",
     "output_type": "stream",
     "text": [
      "131 Train: 100%|█████| 391/391 [00:08<00:00, 45.55it/s]\n"
     ]
    },
    {
     "name": "stdout",
     "output_type": "stream",
     "text": [
      "Train Loss: 0.0150 | Train Acc: 99.55%\n",
      "Test  Loss: 0.5820 | Test Acc: 87.47%\n",
      "--------------------------------------------------\n",
      "[Epoch 132/164] :\n"
     ]
    },
    {
     "name": "stderr",
     "output_type": "stream",
     "text": [
      "132 Train: 100%|█████| 391/391 [00:08<00:00, 45.06it/s]\n"
     ]
    },
    {
     "name": "stdout",
     "output_type": "stream",
     "text": [
      "Train Loss: 0.0139 | Train Acc: 99.63%\n",
      "Test  Loss: 0.5853 | Test Acc: 87.37%\n",
      "--------------------------------------------------\n",
      "[Epoch 133/164] :\n"
     ]
    },
    {
     "name": "stderr",
     "output_type": "stream",
     "text": [
      "133 Train: 100%|█████| 391/391 [00:08<00:00, 45.47it/s]\n"
     ]
    },
    {
     "name": "stdout",
     "output_type": "stream",
     "text": [
      "Train Loss: 0.0142 | Train Acc: 99.60%\n",
      "Test  Loss: 0.5748 | Test Acc: 87.58%\n",
      "--------------------------------------------------\n",
      "[Epoch 134/164] :\n"
     ]
    },
    {
     "name": "stderr",
     "output_type": "stream",
     "text": [
      "134 Train: 100%|█████| 391/391 [00:08<00:00, 46.00it/s]\n"
     ]
    },
    {
     "name": "stdout",
     "output_type": "stream",
     "text": [
      "Train Loss: 0.0140 | Train Acc: 99.60%\n",
      "Test  Loss: 0.5758 | Test Acc: 87.45%\n",
      "--------------------------------------------------\n",
      "[Epoch 135/164] :\n"
     ]
    },
    {
     "name": "stderr",
     "output_type": "stream",
     "text": [
      "135 Train: 100%|█████| 391/391 [00:08<00:00, 45.94it/s]\n"
     ]
    },
    {
     "name": "stdout",
     "output_type": "stream",
     "text": [
      "Train Loss: 0.0136 | Train Acc: 99.64%\n",
      "Test  Loss: 0.6118 | Test Acc: 87.27%\n",
      "--------------------------------------------------\n",
      "[Epoch 136/164] :\n"
     ]
    },
    {
     "name": "stderr",
     "output_type": "stream",
     "text": [
      "136 Train: 100%|█████| 391/391 [00:08<00:00, 46.15it/s]\n"
     ]
    },
    {
     "name": "stdout",
     "output_type": "stream",
     "text": [
      "Train Loss: 0.0138 | Train Acc: 99.62%\n",
      "Test  Loss: 0.5756 | Test Acc: 87.47%\n",
      "--------------------------------------------------\n",
      "[Epoch 137/164] :\n"
     ]
    },
    {
     "name": "stderr",
     "output_type": "stream",
     "text": [
      "137 Train: 100%|█████| 391/391 [00:08<00:00, 48.02it/s]\n"
     ]
    },
    {
     "name": "stdout",
     "output_type": "stream",
     "text": [
      "Train Loss: 0.0124 | Train Acc: 99.68%\n",
      "Test  Loss: 0.5946 | Test Acc: 87.19%\n",
      "--------------------------------------------------\n",
      "[Epoch 138/164] :\n"
     ]
    },
    {
     "name": "stderr",
     "output_type": "stream",
     "text": [
      "138 Train: 100%|█████| 391/391 [00:08<00:00, 45.76it/s]\n"
     ]
    },
    {
     "name": "stdout",
     "output_type": "stream",
     "text": [
      "Train Loss: 0.0128 | Train Acc: 99.64%\n",
      "Test  Loss: 0.6240 | Test Acc: 86.95%\n",
      "--------------------------------------------------\n",
      "[Epoch 139/164] :\n"
     ]
    },
    {
     "name": "stderr",
     "output_type": "stream",
     "text": [
      "139 Train: 100%|█████| 391/391 [00:08<00:00, 45.45it/s]\n"
     ]
    },
    {
     "name": "stdout",
     "output_type": "stream",
     "text": [
      "Train Loss: 0.0132 | Train Acc: 99.62%\n",
      "Test  Loss: 0.5867 | Test Acc: 87.65%\n",
      "--------------------------------------------------\n",
      "[Epoch 140/164] :\n"
     ]
    },
    {
     "name": "stderr",
     "output_type": "stream",
     "text": [
      "140 Train: 100%|█████| 391/391 [00:08<00:00, 45.59it/s]\n"
     ]
    },
    {
     "name": "stdout",
     "output_type": "stream",
     "text": [
      "Train Loss: 0.0132 | Train Acc: 99.66%\n",
      "Test  Loss: 0.5807 | Test Acc: 87.62%\n",
      "--------------------------------------------------\n",
      "[Epoch 141/164] :\n"
     ]
    },
    {
     "name": "stderr",
     "output_type": "stream",
     "text": [
      "141 Train: 100%|█████| 391/391 [00:08<00:00, 45.80it/s]\n"
     ]
    },
    {
     "name": "stdout",
     "output_type": "stream",
     "text": [
      "Train Loss: 0.0124 | Train Acc: 99.67%\n",
      "Test  Loss: 0.5799 | Test Acc: 87.56%\n",
      "--------------------------------------------------\n",
      "[Epoch 142/164] :\n"
     ]
    },
    {
     "name": "stderr",
     "output_type": "stream",
     "text": [
      "142 Train: 100%|█████| 391/391 [00:08<00:00, 44.58it/s]\n"
     ]
    },
    {
     "name": "stdout",
     "output_type": "stream",
     "text": [
      "Train Loss: 0.0127 | Train Acc: 99.65%\n",
      "Test  Loss: 0.5936 | Test Acc: 87.43%\n",
      "--------------------------------------------------\n",
      "[Epoch 143/164] :\n"
     ]
    },
    {
     "name": "stderr",
     "output_type": "stream",
     "text": [
      "143 Train: 100%|█████| 391/391 [00:09<00:00, 43.43it/s]\n"
     ]
    },
    {
     "name": "stdout",
     "output_type": "stream",
     "text": [
      "Train Loss: 0.0119 | Train Acc: 99.69%\n",
      "Test  Loss: 0.5889 | Test Acc: 87.55%\n",
      "--------------------------------------------------\n",
      "[Epoch 144/164] :\n"
     ]
    },
    {
     "name": "stderr",
     "output_type": "stream",
     "text": [
      "144 Train: 100%|█████| 391/391 [00:08<00:00, 45.30it/s]\n"
     ]
    },
    {
     "name": "stdout",
     "output_type": "stream",
     "text": [
      "Train Loss: 0.0118 | Train Acc: 99.67%\n",
      "Test  Loss: 0.5769 | Test Acc: 87.69%\n",
      "--------------------------------------------------\n",
      "[Epoch 145/164] :\n"
     ]
    },
    {
     "name": "stderr",
     "output_type": "stream",
     "text": [
      "145 Train: 100%|█████| 391/391 [00:08<00:00, 46.50it/s]\n"
     ]
    },
    {
     "name": "stdout",
     "output_type": "stream",
     "text": [
      "Train Loss: 0.0122 | Train Acc: 99.69%\n",
      "Test  Loss: 0.5954 | Test Acc: 87.35%\n",
      "--------------------------------------------------\n",
      "[Epoch 146/164] :\n"
     ]
    },
    {
     "name": "stderr",
     "output_type": "stream",
     "text": [
      "146 Train: 100%|█████| 391/391 [00:08<00:00, 45.96it/s]\n"
     ]
    },
    {
     "name": "stdout",
     "output_type": "stream",
     "text": [
      "Train Loss: 0.0127 | Train Acc: 99.65%\n",
      "Test  Loss: 0.6084 | Test Acc: 87.16%\n",
      "--------------------------------------------------\n",
      "[Epoch 147/164] :\n"
     ]
    },
    {
     "name": "stderr",
     "output_type": "stream",
     "text": [
      "147 Train: 100%|█████| 391/391 [00:09<00:00, 43.44it/s]\n"
     ]
    },
    {
     "name": "stdout",
     "output_type": "stream",
     "text": [
      "Train Loss: 0.0130 | Train Acc: 99.65%\n",
      "Test  Loss: 0.5821 | Test Acc: 87.55%\n",
      "--------------------------------------------------\n",
      "[Epoch 148/164] :\n"
     ]
    },
    {
     "name": "stderr",
     "output_type": "stream",
     "text": [
      "148 Train: 100%|█████| 391/391 [00:08<00:00, 45.19it/s]\n"
     ]
    },
    {
     "name": "stdout",
     "output_type": "stream",
     "text": [
      "Train Loss: 0.0123 | Train Acc: 99.69%\n",
      "Test  Loss: 0.5764 | Test Acc: 87.72%\n",
      "--------------------------------------------------\n",
      "[Epoch 149/164] :\n"
     ]
    },
    {
     "name": "stderr",
     "output_type": "stream",
     "text": [
      "149 Train: 100%|█████| 391/391 [00:08<00:00, 45.47it/s]\n"
     ]
    },
    {
     "name": "stdout",
     "output_type": "stream",
     "text": [
      "Train Loss: 0.0117 | Train Acc: 99.69%\n",
      "Test  Loss: 0.6159 | Test Acc: 87.20%\n",
      "--------------------------------------------------\n",
      "[Epoch 150/164] :\n"
     ]
    },
    {
     "name": "stderr",
     "output_type": "stream",
     "text": [
      "150 Train: 100%|█████| 391/391 [00:09<00:00, 43.36it/s]\n"
     ]
    },
    {
     "name": "stdout",
     "output_type": "stream",
     "text": [
      "Train Loss: 0.0126 | Train Acc: 99.68%\n",
      "Test  Loss: 0.5820 | Test Acc: 87.58%\n",
      "--------------------------------------------------\n",
      "[Epoch 151/164] :\n"
     ]
    },
    {
     "name": "stderr",
     "output_type": "stream",
     "text": [
      "151 Train: 100%|█████| 391/391 [00:08<00:00, 43.73it/s]\n"
     ]
    },
    {
     "name": "stdout",
     "output_type": "stream",
     "text": [
      "Train Loss: 0.0121 | Train Acc: 99.70%\n",
      "Test  Loss: 0.5683 | Test Acc: 87.86%\n",
      "--------------------------------------------------\n",
      "[Epoch 152/164] :\n"
     ]
    },
    {
     "name": "stderr",
     "output_type": "stream",
     "text": [
      "152 Train: 100%|█████| 391/391 [00:08<00:00, 45.18it/s]\n"
     ]
    },
    {
     "name": "stdout",
     "output_type": "stream",
     "text": [
      "Train Loss: 0.0121 | Train Acc: 99.70%\n",
      "Test  Loss: 0.6187 | Test Acc: 87.16%\n",
      "--------------------------------------------------\n",
      "[Epoch 153/164] :\n"
     ]
    },
    {
     "name": "stderr",
     "output_type": "stream",
     "text": [
      "153 Train: 100%|█████| 391/391 [00:08<00:00, 44.94it/s]\n"
     ]
    },
    {
     "name": "stdout",
     "output_type": "stream",
     "text": [
      "Train Loss: 0.0127 | Train Acc: 99.66%\n",
      "Test  Loss: 0.6008 | Test Acc: 87.21%\n",
      "--------------------------------------------------\n",
      "[Epoch 154/164] :\n"
     ]
    },
    {
     "name": "stderr",
     "output_type": "stream",
     "text": [
      "154 Train: 100%|█████| 391/391 [00:08<00:00, 45.82it/s]\n"
     ]
    },
    {
     "name": "stdout",
     "output_type": "stream",
     "text": [
      "Train Loss: 0.0122 | Train Acc: 99.68%\n",
      "Test  Loss: 0.6136 | Test Acc: 87.22%\n",
      "--------------------------------------------------\n",
      "[Epoch 155/164] :\n"
     ]
    },
    {
     "name": "stderr",
     "output_type": "stream",
     "text": [
      "155 Train: 100%|█████| 391/391 [00:08<00:00, 44.45it/s]\n"
     ]
    },
    {
     "name": "stdout",
     "output_type": "stream",
     "text": [
      "Train Loss: 0.0121 | Train Acc: 99.69%\n",
      "Test  Loss: 0.6218 | Test Acc: 87.04%\n",
      "--------------------------------------------------\n",
      "[Epoch 156/164] :\n"
     ]
    },
    {
     "name": "stderr",
     "output_type": "stream",
     "text": [
      "156 Train: 100%|█████| 391/391 [00:08<00:00, 47.71it/s]\n"
     ]
    },
    {
     "name": "stdout",
     "output_type": "stream",
     "text": [
      "Train Loss: 0.0123 | Train Acc: 99.67%\n",
      "Test  Loss: 0.6231 | Test Acc: 87.16%\n",
      "--------------------------------------------------\n",
      "[Epoch 157/164] :\n"
     ]
    },
    {
     "name": "stderr",
     "output_type": "stream",
     "text": [
      "157 Train: 100%|█████| 391/391 [00:08<00:00, 45.35it/s]\n"
     ]
    },
    {
     "name": "stdout",
     "output_type": "stream",
     "text": [
      "Train Loss: 0.0114 | Train Acc: 99.71%\n",
      "Test  Loss: 0.5989 | Test Acc: 87.56%\n",
      "--------------------------------------------------\n",
      "[Epoch 158/164] :\n"
     ]
    },
    {
     "name": "stderr",
     "output_type": "stream",
     "text": [
      "158 Train: 100%|█████| 391/391 [00:08<00:00, 44.39it/s]\n"
     ]
    },
    {
     "name": "stdout",
     "output_type": "stream",
     "text": [
      "Train Loss: 0.0119 | Train Acc: 99.69%\n",
      "Test  Loss: 0.6005 | Test Acc: 87.52%\n",
      "--------------------------------------------------\n",
      "[Epoch 159/164] :\n"
     ]
    },
    {
     "name": "stderr",
     "output_type": "stream",
     "text": [
      "159 Train: 100%|█████| 391/391 [00:08<00:00, 44.97it/s]\n"
     ]
    },
    {
     "name": "stdout",
     "output_type": "stream",
     "text": [
      "Train Loss: 0.0119 | Train Acc: 99.66%\n",
      "Test  Loss: 0.6010 | Test Acc: 87.30%\n",
      "--------------------------------------------------\n",
      "[Epoch 160/164] :\n"
     ]
    },
    {
     "name": "stderr",
     "output_type": "stream",
     "text": [
      "160 Train: 100%|█████| 391/391 [00:08<00:00, 44.94it/s]\n"
     ]
    },
    {
     "name": "stdout",
     "output_type": "stream",
     "text": [
      "Train Loss: 0.0114 | Train Acc: 99.70%\n",
      "Test  Loss: 0.6069 | Test Acc: 87.36%\n",
      "--------------------------------------------------\n",
      "[Epoch 161/164] :\n"
     ]
    },
    {
     "name": "stderr",
     "output_type": "stream",
     "text": [
      "161 Train: 100%|█████| 391/391 [00:08<00:00, 45.15it/s]\n"
     ]
    },
    {
     "name": "stdout",
     "output_type": "stream",
     "text": [
      "Train Loss: 0.0113 | Train Acc: 99.69%\n",
      "Test  Loss: 0.5944 | Test Acc: 87.55%\n",
      "--------------------------------------------------\n",
      "[Epoch 162/164] :\n"
     ]
    },
    {
     "name": "stderr",
     "output_type": "stream",
     "text": [
      "162 Train: 100%|█████| 391/391 [00:08<00:00, 44.98it/s]\n"
     ]
    },
    {
     "name": "stdout",
     "output_type": "stream",
     "text": [
      "Train Loss: 0.0116 | Train Acc: 99.70%\n",
      "Test  Loss: 0.5953 | Test Acc: 87.53%\n",
      "--------------------------------------------------\n",
      "[Epoch 163/164] :\n"
     ]
    },
    {
     "name": "stderr",
     "output_type": "stream",
     "text": [
      "163 Train: 100%|█████| 391/391 [00:08<00:00, 46.25it/s]\n"
     ]
    },
    {
     "name": "stdout",
     "output_type": "stream",
     "text": [
      "Train Loss: 0.0102 | Train Acc: 99.76%\n",
      "Test  Loss: 0.6140 | Test Acc: 87.36%\n",
      "--------------------------------------------------\n",
      "[Epoch 164/164] :\n"
     ]
    },
    {
     "name": "stderr",
     "output_type": "stream",
     "text": [
      "164 Train: 100%|█████| 391/391 [00:08<00:00, 45.56it/s]\n"
     ]
    },
    {
     "name": "stdout",
     "output_type": "stream",
     "text": [
      "Train Loss: 0.0113 | Train Acc: 99.70%\n",
      "Test  Loss: 0.5891 | Test Acc: 87.48%\n",
      "--------------------------------------------------\n"
     ]
    }
   ],
   "source": [
    "Training = DoTraining(\n",
    "    model=model,\n",
    "    criterion=criterion,\n",
    "    optimizer=optimizer,\n",
    "    scaler=scaler,\n",
    "    scheduler=scheduler,\n",
    "    earlystopper=earlystopper,\n",
    "    device=device,\n",
    "    logs=logs,\n",
    "    file_path=file_name,\n",
    ")\n",
    "pre_epochs = len(Training.logs[\"train_loss\"])\n",
    "\n",
    "\n",
    "for epoch in range(NUM_EPOCHS):\n",
    "    now = epoch + 1 + pre_epochs\n",
    "    print(f\"[Epoch {epoch+1+pre_epochs}/{NUM_EPOCHS}] :\")\n",
    "\n",
    "    if DATASET == \"ImageNet2012\":\n",
    "        eval_loss = Training.SingleEpoch(train_dataloader, valid_dataloader)\n",
    "    else:\n",
    "        eval_loss = Training.SingleEpoch(\n",
    "            train_dataloader, valid_dataloader, test_dataloader\n",
    "        )\n",
    "\n",
    "    Training.Save()\n",
    "\n",
    "    \n",
    "    \n",
    "    if earlystopper.check(eval_loss) == True:\n",
    "        break\n",
    "\n",
    "    print(\"-\" * 50)"
   ]
  },
  {
   "cell_type": "code",
   "execution_count": 20,
   "metadata": {},
   "outputs": [
    {
     "data": {
      "image/png": "[encoded data removed]",
      "text/plain": [
       "<Figure size 1000x500 with 2 Axes>"
      ]
     },
     "metadata": {},
     "output_type": "display_data"
    }
   ],
   "source": [
    "view = LogViewer(logs)\n",
    "file_name = f\"{file_name}_Submean\"\n",
    "view.draw(title=file_name, save=True, min_marker=True)"
   ]
  },
  {
   "cell_type": "code",
   "execution_count": 19,
   "metadata": {},
   "outputs": [
    {
     "name": "stdout",
     "output_type": "stream",
     "text": [
      "1 epoch: train_loss=2.3262, train_acc=0.1481, test_loss=2.1915, test_acc=0.1850, lr=0.1000\n",
      "2 epoch: train_loss=1.5980, train_acc=0.4070, test_loss=1.8476, test_acc=0.3728, lr=0.1000\n",
      "3 epoch: train_loss=1.1405, train_acc=0.5927, test_loss=1.0715, test_acc=0.6147, lr=0.1000\n",
      "4 epoch: train_loss=0.9072, train_acc=0.6785, test_loss=1.4656, test_acc=0.5326, lr=0.1000\n",
      "5 epoch: train_loss=0.7602, train_acc=0.7331, test_loss=1.0961, test_acc=0.6282, lr=0.1000\n",
      "6 epoch: train_loss=0.6710, train_acc=0.7679, test_loss=1.0044, test_acc=0.6635, lr=0.1000\n",
      "7 epoch: train_loss=0.6078, train_acc=0.7898, test_loss=0.7726, test_acc=0.7405, lr=0.1000\n",
      "8 epoch: train_loss=0.5666, train_acc=0.8027, test_loss=0.9547, test_acc=0.6844, lr=0.1000\n",
      "9 epoch: train_loss=0.5269, train_acc=0.8196, test_loss=1.2506, test_acc=0.6133, lr=0.1000\n",
      "10 epoch: train_loss=0.5004, train_acc=0.8283, test_loss=0.8177, test_acc=0.7343, lr=0.1000\n",
      "11 epoch: train_loss=0.4776, train_acc=0.8345, test_loss=0.7156, test_acc=0.7590, lr=0.1000\n",
      "12 epoch: train_loss=0.4558, train_acc=0.8432, test_loss=0.7135, test_acc=0.7585, lr=0.1000\n",
      "13 epoch: train_loss=0.4387, train_acc=0.8473, test_loss=0.6887, test_acc=0.7781, lr=0.1000\n",
      "14 epoch: train_loss=0.4215, train_acc=0.8524, test_loss=0.8357, test_acc=0.7378, lr=0.1000\n",
      "15 epoch: train_loss=0.4075, train_acc=0.8574, test_loss=0.7216, test_acc=0.7680, lr=0.1000\n",
      "16 epoch: train_loss=0.3977, train_acc=0.8646, test_loss=0.7458, test_acc=0.7494, lr=0.1000\n",
      "17 epoch: train_loss=0.3848, train_acc=0.8662, test_loss=0.8035, test_acc=0.7469, lr=0.1000\n",
      "18 epoch: train_loss=0.3716, train_acc=0.8698, test_loss=0.8286, test_acc=0.7589, lr=0.1000\n",
      "19 epoch: train_loss=0.3626, train_acc=0.8750, test_loss=1.0380, test_acc=0.6978, lr=0.1000\n",
      "20 epoch: train_loss=0.3546, train_acc=0.8768, test_loss=0.7623, test_acc=0.7521, lr=0.1000\n",
      "21 epoch: train_loss=0.3389, train_acc=0.8828, test_loss=0.7321, test_acc=0.7744, lr=0.1000\n",
      "22 epoch: train_loss=0.3352, train_acc=0.8830, test_loss=0.7371, test_acc=0.7634, lr=0.1000\n",
      "23 epoch: train_loss=0.3276, train_acc=0.8864, test_loss=1.3513, test_acc=0.6551, lr=0.1000\n",
      "24 epoch: train_loss=0.3255, train_acc=0.8861, test_loss=0.5392, test_acc=0.8174, lr=0.1000\n",
      "25 epoch: train_loss=0.3117, train_acc=0.8914, test_loss=0.5091, test_acc=0.8273, lr=0.1000\n",
      "26 epoch: train_loss=0.3108, train_acc=0.8934, test_loss=0.6661, test_acc=0.7858, lr=0.1000\n",
      "27 epoch: train_loss=0.3050, train_acc=0.8936, test_loss=0.9378, test_acc=0.7388, lr=0.1000\n",
      "28 epoch: train_loss=0.3004, train_acc=0.8954, test_loss=0.7803, test_acc=0.7559, lr=0.1000\n",
      "29 epoch: train_loss=0.2926, train_acc=0.8981, test_loss=1.2678, test_acc=0.6727, lr=0.1000\n",
      "30 epoch: train_loss=0.2920, train_acc=0.8984, test_loss=0.5818, test_acc=0.8112, lr=0.1000\n",
      "31 epoch: train_loss=0.2853, train_acc=0.8996, test_loss=0.5537, test_acc=0.8258, lr=0.1000\n",
      "32 epoch: train_loss=0.2780, train_acc=0.9024, test_loss=0.7654, test_acc=0.7796, lr=0.1000\n",
      "33 epoch: train_loss=0.2798, train_acc=0.9026, test_loss=0.8798, test_acc=0.7462, lr=0.1000\n",
      "34 epoch: train_loss=0.2740, train_acc=0.9038, test_loss=0.7295, test_acc=0.7744, lr=0.1000\n",
      "35 epoch: train_loss=0.2741, train_acc=0.9029, test_loss=0.6910, test_acc=0.7875, lr=0.1000\n",
      "36 epoch: train_loss=0.2646, train_acc=0.9073, test_loss=0.9388, test_acc=0.7354, lr=0.1000\n",
      "37 epoch: train_loss=0.2638, train_acc=0.9076, test_loss=0.7958, test_acc=0.7737, lr=0.1000\n",
      "38 epoch: train_loss=0.2597, train_acc=0.9100, test_loss=0.5876, test_acc=0.8120, lr=0.1000\n",
      "39 epoch: train_loss=0.2644, train_acc=0.9071, test_loss=0.8147, test_acc=0.7460, lr=0.1000\n",
      "40 epoch: train_loss=0.2576, train_acc=0.9104, test_loss=0.7970, test_acc=0.7624, lr=0.1000\n",
      "41 epoch: train_loss=0.2514, train_acc=0.9114, test_loss=0.8840, test_acc=0.7381, lr=0.1000\n",
      "42 epoch: train_loss=0.2454, train_acc=0.9140, test_loss=0.6650, test_acc=0.7990, lr=0.1000\n",
      "43 epoch: train_loss=0.2477, train_acc=0.9129, test_loss=1.2006, test_acc=0.6855, lr=0.1000\n",
      "44 epoch: train_loss=0.2442, train_acc=0.9144, test_loss=0.6575, test_acc=0.7833, lr=0.1000\n",
      "45 epoch: train_loss=0.2432, train_acc=0.9153, test_loss=0.9262, test_acc=0.7306, lr=0.1000\n",
      "46 epoch: train_loss=0.2401, train_acc=0.9166, test_loss=0.7177, test_acc=0.7885, lr=0.1000\n",
      "47 epoch: train_loss=0.2419, train_acc=0.9148, test_loss=0.6186, test_acc=0.8099, lr=0.1000\n",
      "48 epoch: train_loss=0.2396, train_acc=0.9153, test_loss=0.8062, test_acc=0.7515, lr=0.1000\n",
      "49 epoch: train_loss=0.2278, train_acc=0.9207, test_loss=0.6726, test_acc=0.8019, lr=0.1000\n",
      "50 epoch: train_loss=0.2373, train_acc=0.9173, test_loss=0.7535, test_acc=0.7682, lr=0.1000\n",
      "51 epoch: train_loss=0.2295, train_acc=0.9201, test_loss=0.9187, test_acc=0.7392, lr=0.1000\n",
      "52 epoch: train_loss=0.2275, train_acc=0.9195, test_loss=0.6740, test_acc=0.8017, lr=0.1000\n",
      "53 epoch: train_loss=0.2298, train_acc=0.9193, test_loss=0.5392, test_acc=0.8303, lr=0.1000\n",
      "54 epoch: train_loss=0.2246, train_acc=0.9201, test_loss=1.0017, test_acc=0.7261, lr=0.1000\n",
      "55 epoch: train_loss=0.2244, train_acc=0.9209, test_loss=0.6544, test_acc=0.8086, lr=0.1000\n",
      "56 epoch: train_loss=0.2238, train_acc=0.9219, test_loss=0.6723, test_acc=0.7932, lr=0.1000\n",
      "57 epoch: train_loss=0.2182, train_acc=0.9232, test_loss=0.5744, test_acc=0.8187, lr=0.1000\n",
      "58 epoch: train_loss=0.2215, train_acc=0.9222, test_loss=0.4894, test_acc=0.8440, lr=0.1000\n",
      "59 epoch: train_loss=0.2178, train_acc=0.9241, test_loss=0.4937, test_acc=0.8362, lr=0.1000\n",
      "60 epoch: train_loss=0.2160, train_acc=0.9246, test_loss=0.5510, test_acc=0.8278, lr=0.1000\n",
      "61 epoch: train_loss=0.2112, train_acc=0.9265, test_loss=0.5739, test_acc=0.8208, lr=0.1000\n",
      "62 epoch: train_loss=0.2143, train_acc=0.9244, test_loss=0.4940, test_acc=0.8383, lr=0.1000\n",
      "63 epoch: train_loss=0.2086, train_acc=0.9263, test_loss=0.7063, test_acc=0.7908, lr=0.1000\n",
      "64 epoch: train_loss=0.2114, train_acc=0.9249, test_loss=0.6141, test_acc=0.8097, lr=0.1000\n",
      "65 epoch: train_loss=0.2085, train_acc=0.9258, test_loss=0.6624, test_acc=0.8090, lr=0.1000\n",
      "66 epoch: train_loss=0.2074, train_acc=0.9265, test_loss=0.5325, test_acc=0.8344, lr=0.1000\n",
      "67 epoch: train_loss=0.2123, train_acc=0.9257, test_loss=0.5791, test_acc=0.8291, lr=0.1000\n",
      "68 epoch: train_loss=0.2089, train_acc=0.9258, test_loss=0.6370, test_acc=0.8124, lr=0.1000\n",
      "69 epoch: train_loss=0.2035, train_acc=0.9278, test_loss=0.5111, test_acc=0.8385, lr=0.1000\n",
      "70 epoch: train_loss=0.2054, train_acc=0.9273, test_loss=0.5456, test_acc=0.8324, lr=0.1000\n",
      "71 epoch: train_loss=0.2032, train_acc=0.9300, test_loss=0.7794, test_acc=0.7755, lr=0.1000\n",
      "72 epoch: train_loss=0.1967, train_acc=0.9299, test_loss=0.6029, test_acc=0.8212, lr=0.1000\n",
      "73 epoch: train_loss=0.2025, train_acc=0.9291, test_loss=1.0336, test_acc=0.7525, lr=0.1000\n",
      "74 epoch: train_loss=0.2079, train_acc=0.9259, test_loss=0.9635, test_acc=0.7511, lr=0.1000\n",
      "75 epoch: train_loss=0.2002, train_acc=0.9306, test_loss=0.5992, test_acc=0.8200, lr=0.1000\n",
      "76 epoch: train_loss=0.1986, train_acc=0.9303, test_loss=0.7029, test_acc=0.8095, lr=0.1000\n",
      "77 epoch: train_loss=0.1976, train_acc=0.9302, test_loss=0.5912, test_acc=0.8271, lr=0.1000\n",
      "78 epoch: train_loss=0.2000, train_acc=0.9292, test_loss=0.4847, test_acc=0.8470, lr=0.1000\n",
      "79 epoch: train_loss=0.1983, train_acc=0.9307, test_loss=0.8030, test_acc=0.7715, lr=0.1000\n",
      "80 epoch: train_loss=0.1992, train_acc=0.9299, test_loss=0.5580, test_acc=0.8378, lr=0.1000\n",
      "81 epoch: train_loss=0.2019, train_acc=0.9292, test_loss=0.5869, test_acc=0.8225, lr=0.1000\n",
      "82 epoch: train_loss=0.1948, train_acc=0.9319, test_loss=0.6683, test_acc=0.8013, lr=0.1000\n",
      "83 epoch: train_loss=0.1140, train_acc=0.9612, test_loss=0.4154, test_acc=0.8735, lr=0.0100\n",
      "84 epoch: train_loss=0.0881, train_acc=0.9704, test_loss=0.4301, test_acc=0.8692, lr=0.0100\n",
      "85 epoch: train_loss=0.0740, train_acc=0.9758, test_loss=0.4176, test_acc=0.8775, lr=0.0100\n",
      "86 epoch: train_loss=0.0679, train_acc=0.9773, test_loss=0.4497, test_acc=0.8692, lr=0.0100\n",
      "87 epoch: train_loss=0.0654, train_acc=0.9785, test_loss=0.4926, test_acc=0.8651, lr=0.0100\n",
      "88 epoch: train_loss=0.0588, train_acc=0.9809, test_loss=0.4628, test_acc=0.8737, lr=0.0100\n",
      "89 epoch: train_loss=0.0571, train_acc=0.9809, test_loss=0.4464, test_acc=0.8771, lr=0.0100\n",
      "90 epoch: train_loss=0.0536, train_acc=0.9823, test_loss=0.4401, test_acc=0.8801, lr=0.0100\n",
      "91 epoch: train_loss=0.0504, train_acc=0.9836, test_loss=0.5104, test_acc=0.8659, lr=0.0100\n",
      "92 epoch: train_loss=0.0485, train_acc=0.9844, test_loss=0.5305, test_acc=0.8632, lr=0.0100\n",
      "93 epoch: train_loss=0.0475, train_acc=0.9840, test_loss=0.4519, test_acc=0.8785, lr=0.0100\n",
      "94 epoch: train_loss=0.0433, train_acc=0.9855, test_loss=0.4881, test_acc=0.8730, lr=0.0100\n",
      "95 epoch: train_loss=0.0415, train_acc=0.9869, test_loss=0.4758, test_acc=0.8763, lr=0.0100\n",
      "96 epoch: train_loss=0.0408, train_acc=0.9862, test_loss=0.4900, test_acc=0.8761, lr=0.0100\n",
      "97 epoch: train_loss=0.0399, train_acc=0.9869, test_loss=0.4547, test_acc=0.8815, lr=0.0100\n",
      "98 epoch: train_loss=0.0369, train_acc=0.9889, test_loss=0.5314, test_acc=0.8706, lr=0.0100\n",
      "99 epoch: train_loss=0.0352, train_acc=0.9890, test_loss=0.5117, test_acc=0.8752, lr=0.0100\n",
      "100 epoch: train_loss=0.0342, train_acc=0.9889, test_loss=0.5274, test_acc=0.8684, lr=0.0100\n",
      "101 epoch: train_loss=0.0344, train_acc=0.9887, test_loss=0.5569, test_acc=0.8684, lr=0.0100\n",
      "102 epoch: train_loss=0.0336, train_acc=0.9885, test_loss=0.5917, test_acc=0.8644, lr=0.0100\n",
      "103 epoch: train_loss=0.0297, train_acc=0.9903, test_loss=0.5573, test_acc=0.8729, lr=0.0100\n",
      "104 epoch: train_loss=0.0310, train_acc=0.9901, test_loss=0.5420, test_acc=0.8726, lr=0.0100\n",
      "105 epoch: train_loss=0.0289, train_acc=0.9909, test_loss=0.5516, test_acc=0.8740, lr=0.0100\n",
      "106 epoch: train_loss=0.0306, train_acc=0.9900, test_loss=0.5279, test_acc=0.8771, lr=0.0100\n",
      "107 epoch: train_loss=0.0281, train_acc=0.9910, test_loss=0.5721, test_acc=0.8691, lr=0.0100\n",
      "108 epoch: train_loss=0.0294, train_acc=0.9908, test_loss=0.5308, test_acc=0.8776, lr=0.0100\n",
      "109 epoch: train_loss=0.0262, train_acc=0.9917, test_loss=0.5898, test_acc=0.8695, lr=0.0100\n",
      "110 epoch: train_loss=0.0247, train_acc=0.9922, test_loss=0.5499, test_acc=0.8773, lr=0.0100\n",
      "111 epoch: train_loss=0.0252, train_acc=0.9921, test_loss=0.5472, test_acc=0.8783, lr=0.0100\n",
      "112 epoch: train_loss=0.0250, train_acc=0.9918, test_loss=0.6073, test_acc=0.8636, lr=0.0100\n",
      "113 epoch: train_loss=0.0240, train_acc=0.9922, test_loss=0.5268, test_acc=0.8789, lr=0.0100\n",
      "114 epoch: train_loss=0.0235, train_acc=0.9931, test_loss=0.5599, test_acc=0.8736, lr=0.0100\n",
      "115 epoch: train_loss=0.0229, train_acc=0.9928, test_loss=0.5909, test_acc=0.8690, lr=0.0100\n",
      "116 epoch: train_loss=0.0209, train_acc=0.9937, test_loss=0.6195, test_acc=0.8666, lr=0.0100\n",
      "117 epoch: train_loss=0.0213, train_acc=0.9933, test_loss=0.5808, test_acc=0.8728, lr=0.0100\n",
      "118 epoch: train_loss=0.0228, train_acc=0.9927, test_loss=0.5802, test_acc=0.8721, lr=0.0100\n",
      "119 epoch: train_loss=0.0213, train_acc=0.9935, test_loss=0.6308, test_acc=0.8623, lr=0.0100\n",
      "120 epoch: train_loss=0.0206, train_acc=0.9939, test_loss=0.5954, test_acc=0.8690, lr=0.0100\n",
      "121 epoch: train_loss=0.0200, train_acc=0.9940, test_loss=0.5999, test_acc=0.8693, lr=0.0100\n",
      "122 epoch: train_loss=0.0194, train_acc=0.9942, test_loss=0.6213, test_acc=0.8695, lr=0.0100\n",
      "123 epoch: train_loss=0.0191, train_acc=0.9940, test_loss=0.6413, test_acc=0.8679, lr=0.0100\n",
      "124 epoch: train_loss=0.0183, train_acc=0.9946, test_loss=0.5737, test_acc=0.8752, lr=0.0010\n",
      "125 epoch: train_loss=0.0163, train_acc=0.9949, test_loss=0.5862, test_acc=0.8739, lr=0.0010\n",
      "126 epoch: train_loss=0.0157, train_acc=0.9958, test_loss=0.5625, test_acc=0.8762, lr=0.0010\n",
      "127 epoch: train_loss=0.0144, train_acc=0.9960, test_loss=0.5863, test_acc=0.8754, lr=0.0010\n",
      "128 epoch: train_loss=0.0148, train_acc=0.9960, test_loss=0.5958, test_acc=0.8741, lr=0.0010\n",
      "129 epoch: train_loss=0.0142, train_acc=0.9958, test_loss=0.5902, test_acc=0.8738, lr=0.0010\n",
      "130 epoch: train_loss=0.0141, train_acc=0.9961, test_loss=0.5613, test_acc=0.8776, lr=0.0010\n",
      "131 epoch: train_loss=0.0150, train_acc=0.9955, test_loss=0.5820, test_acc=0.8747, lr=0.0010\n",
      "132 epoch: train_loss=0.0139, train_acc=0.9963, test_loss=0.5853, test_acc=0.8737, lr=0.0010\n",
      "133 epoch: train_loss=0.0142, train_acc=0.9960, test_loss=0.5748, test_acc=0.8758, lr=0.0010\n",
      "134 epoch: train_loss=0.0140, train_acc=0.9960, test_loss=0.5758, test_acc=0.8745, lr=0.0010\n",
      "135 epoch: train_loss=0.0136, train_acc=0.9964, test_loss=0.6118, test_acc=0.8727, lr=0.0010\n",
      "136 epoch: train_loss=0.0138, train_acc=0.9962, test_loss=0.5756, test_acc=0.8747, lr=0.0010\n",
      "137 epoch: train_loss=0.0124, train_acc=0.9968, test_loss=0.5946, test_acc=0.8719, lr=0.0010\n",
      "138 epoch: train_loss=0.0128, train_acc=0.9964, test_loss=0.6240, test_acc=0.8695, lr=0.0010\n",
      "139 epoch: train_loss=0.0132, train_acc=0.9962, test_loss=0.5867, test_acc=0.8765, lr=0.0010\n",
      "140 epoch: train_loss=0.0132, train_acc=0.9966, test_loss=0.5807, test_acc=0.8762, lr=0.0010\n",
      "141 epoch: train_loss=0.0124, train_acc=0.9967, test_loss=0.5799, test_acc=0.8756, lr=0.0010\n",
      "142 epoch: train_loss=0.0127, train_acc=0.9965, test_loss=0.5936, test_acc=0.8743, lr=0.0010\n",
      "143 epoch: train_loss=0.0119, train_acc=0.9969, test_loss=0.5889, test_acc=0.8755, lr=0.0010\n",
      "144 epoch: train_loss=0.0118, train_acc=0.9967, test_loss=0.5769, test_acc=0.8769, lr=0.0010\n",
      "145 epoch: train_loss=0.0122, train_acc=0.9969, test_loss=0.5954, test_acc=0.8735, lr=0.0010\n",
      "146 epoch: train_loss=0.0127, train_acc=0.9965, test_loss=0.6084, test_acc=0.8716, lr=0.0010\n",
      "147 epoch: train_loss=0.0130, train_acc=0.9965, test_loss=0.5821, test_acc=0.8755, lr=0.0010\n",
      "148 epoch: train_loss=0.0123, train_acc=0.9969, test_loss=0.5764, test_acc=0.8772, lr=0.0010\n",
      "149 epoch: train_loss=0.0117, train_acc=0.9969, test_loss=0.6159, test_acc=0.8720, lr=0.0010\n",
      "150 epoch: train_loss=0.0126, train_acc=0.9968, test_loss=0.5820, test_acc=0.8758, lr=0.0010\n",
      "151 epoch: train_loss=0.0121, train_acc=0.9970, test_loss=0.5683, test_acc=0.8786, lr=0.0010\n",
      "152 epoch: train_loss=0.0121, train_acc=0.9970, test_loss=0.6187, test_acc=0.8716, lr=0.0010\n",
      "153 epoch: train_loss=0.0127, train_acc=0.9966, test_loss=0.6008, test_acc=0.8721, lr=0.0010\n",
      "154 epoch: train_loss=0.0122, train_acc=0.9968, test_loss=0.6136, test_acc=0.8722, lr=0.0010\n",
      "155 epoch: train_loss=0.0121, train_acc=0.9969, test_loss=0.6218, test_acc=0.8704, lr=0.0010\n",
      "156 epoch: train_loss=0.0123, train_acc=0.9967, test_loss=0.6231, test_acc=0.8716, lr=0.0010\n",
      "157 epoch: train_loss=0.0114, train_acc=0.9971, test_loss=0.5989, test_acc=0.8756, lr=0.0010\n",
      "158 epoch: train_loss=0.0119, train_acc=0.9969, test_loss=0.6005, test_acc=0.8752, lr=0.0010\n",
      "159 epoch: train_loss=0.0119, train_acc=0.9966, test_loss=0.6010, test_acc=0.8730, lr=0.0010\n",
      "160 epoch: train_loss=0.0114, train_acc=0.9970, test_loss=0.6069, test_acc=0.8736, lr=0.0010\n",
      "161 epoch: train_loss=0.0113, train_acc=0.9969, test_loss=0.5944, test_acc=0.8755, lr=0.0010\n",
      "162 epoch: train_loss=0.0116, train_acc=0.9970, test_loss=0.5953, test_acc=0.8753, lr=0.0010\n",
      "163 epoch: train_loss=0.0102, train_acc=0.9976, test_loss=0.6140, test_acc=0.8736, lr=0.0010\n",
      "164 epoch: train_loss=0.0113, train_acc=0.9970, test_loss=0.5891, test_acc=0.8748, lr=0.0010\n"
     ]
    }
   ],
   "source": [
    "view.print_all()"
   ]
  }
 ],
 "metadata": {
  "kernelspec": {
   "display_name": "base",
   "language": "python",
   "name": "python3"
  },
  "language_info": {
   "codemirror_mode": {
    "name": "ipython",
    "version": 3
   },
   "file_extension": ".py",
   "mimetype": "text/x-python",
   "name": "python",
   "nbconvert_exporter": "python",
   "pygments_lexer": "ipython3",
   "version": "3.11.5"
  }
 },
 "nbformat": 4,
 "nbformat_minor": 2
}
