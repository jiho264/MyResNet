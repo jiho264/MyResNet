{
 "cells": [
  {
   "cell_type": "markdown",
   "metadata": {},
   "source": [
    "# Import"
   ]
  },
  {
   "cell_type": "code",
   "execution_count": 35,
   "metadata": {},
   "outputs": [],
   "source": [
    "import torch\n",
    "from torch import nn\n",
    "import torchvision\n",
    "from torch.optim.lr_scheduler import ReduceLROnPlateau, MultiStepLR, CosineAnnealingLR\n",
    "from fvcore.nn import FlopCountAnalysis, flop_count_table\n",
    "import sys, os\n",
    "\n",
    "sys.path.append(os.path.dirname(os.path.abspath(os.path.dirname(\"src\"))))\n",
    "\n",
    "from src.Mydataloader import LoadDataset\n",
    "from src.Mymodel import MyResNet34\n",
    "from src.Mymodel import MyResNet_CIFAR\n",
    "from src.Mytraining import DoTraining\n",
    "from src.Earlystopper import EarlyStopper\n",
    "from src.LogViewer import LogViewer"
   ]
  },
  {
   "cell_type": "markdown",
   "metadata": {},
   "source": [
    "# Setup"
   ]
  },
  {
   "cell_type": "code",
   "execution_count": 36,
   "metadata": {},
   "outputs": [],
   "source": [
    "\"\"\"Dataset selection\"\"\"\n",
    "DATASET = \"CIFAR10\"\n",
    "# DATASET = \"CIFAR100\"\n",
    "# DATASET = \"ImageNet2012\"\n",
    "\n",
    "\"\"\"Dataset parameters\"\"\"\n",
    "BATCH = 128\n",
    "SHUFFLE = True\n",
    "NUMOFWORKERS = 8\n",
    "PIN_MEMORY = True\n",
    "SPLIT_RATIO = 0\n",
    "\n",
    "\"\"\"optimizer parameters\"\"\"\n",
    "# OPTIMIZER = \"Adam\"\n",
    "# OPTIMIZER = \"Adam_decay\"\n",
    "# OPTIMIZER = \"SGD\"\n",
    "# OPTIMIZER = \"SGD_nasterov\"\n",
    "# OPTIMIZER = \"AdamW\"\n",
    "# OPTIMIZER = \"AdamW_amsgrad\"\n",
    "OPTIMIZER = \"NAdam\"\n",
    "\"\"\"Learning rate scheduler parameters\"\"\"\n",
    "NUM_EPOCHS = 180\n",
    "\n",
    "\"\"\"Early stopping parameters\"\"\"\n",
    "EARLYSTOPPINGPATIENCE = 150\n",
    "\n",
    "file_path = f\"MyResNet34_{BATCH}_{OPTIMIZER}\""
   ]
  },
  {
   "cell_type": "code",
   "execution_count": 37,
   "metadata": {},
   "outputs": [
    {
     "data": {
      "text/plain": [
       "'MyResNet34_128_NAdam'"
      ]
     },
     "execution_count": 37,
     "metadata": {},
     "output_type": "execute_result"
    }
   ],
   "source": [
    "file_path"
   ]
  },
  {
   "cell_type": "markdown",
   "metadata": {},
   "source": [
    "# Loading the dataset"
   ]
  },
  {
   "cell_type": "markdown",
   "metadata": {},
   "source": [
    "## Define Dateloader"
   ]
  },
  {
   "cell_type": "code",
   "execution_count": 38,
   "metadata": {},
   "outputs": [
    {
     "name": "stdout",
     "output_type": "stream",
     "text": [
      "-----------------------------------------------------------------------\n",
      "Dataset :  CIFAR10\n",
      "- Length of Train Set :  50000\n",
      "- Length of Test Set :  10000\n",
      "- Count of Classes :  10\n",
      "-----------------------------------------------------------------------\n"
     ]
    }
   ],
   "source": [
    "tmp = LoadDataset(root=\"../../data\", seceted_dataset=DATASET, split_ratio=SPLIT_RATIO)\n",
    "train_data, valid_data, test_data, COUNT_OF_CLASSES = tmp.Unpack()"
   ]
  },
  {
   "cell_type": "code",
   "execution_count": 39,
   "metadata": {},
   "outputs": [
    {
     "name": "stdout",
     "output_type": "stream",
     "text": [
      "train.transforms = Compose(\n",
      "      AutoAugment(interpolation=InterpolationMode.NEAREST, policy=AutoAugmentPolicy.CIFAR10)\n",
      "      RandomCrop(size=(32, 32), padding=[4, 4, 4, 4], pad_if_needed=False, fill=0, padding_mode=constant)\n",
      "      RandomHorizontalFlip(p=0.5)\n",
      "      ToTensor()\n",
      "      Normalize(mean=[0.49139968, 0.48215827, 0.44653124], std=[1, 1, 1], inplace=True)\n",
      ") 128\n",
      "test.transforms = ToTensor() 128\n"
     ]
    }
   ],
   "source": [
    "train_dataloader, valid_dataloader, test_dataloader = tmp.get_dataloader(\n",
    "    batch_size=BATCH, shuffle=SHUFFLE, num_workers=NUMOFWORKERS, pin_memory=PIN_MEMORY\n",
    ")"
   ]
  },
  {
   "cell_type": "markdown",
   "metadata": {},
   "source": [
    "# Define ResNet"
   ]
  },
  {
   "cell_type": "markdown",
   "metadata": {},
   "source": [
    "## Model Confirm"
   ]
  },
  {
   "cell_type": "code",
   "execution_count": 40,
   "metadata": {},
   "outputs": [
    {
     "data": {
      "text/plain": [
       "device(type='cuda')"
      ]
     },
     "execution_count": 40,
     "metadata": {},
     "output_type": "execute_result"
    }
   ],
   "source": [
    "device = torch.device(\"cuda\" if torch.cuda.is_available() else \"cpu\")\n",
    "device"
   ]
  },
  {
   "cell_type": "code",
   "execution_count": 41,
   "metadata": {},
   "outputs": [],
   "source": [
    "model = MyResNet_CIFAR(num_classes=COUNT_OF_CLASSES, num_layer_factor=5).to(device)"
   ]
  },
  {
   "cell_type": "markdown",
   "metadata": {},
   "source": [
    "# Define Training"
   ]
  },
  {
   "cell_type": "markdown",
   "metadata": {},
   "source": [
    "## (1) Define Criterion"
   ]
  },
  {
   "cell_type": "code",
   "execution_count": 42,
   "metadata": {},
   "outputs": [],
   "source": [
    "criterion = nn.CrossEntropyLoss()"
   ]
  },
  {
   "cell_type": "markdown",
   "metadata": {},
   "source": [
    "## (2) Define Optimazer"
   ]
  },
  {
   "cell_type": "code",
   "execution_count": 43,
   "metadata": {},
   "outputs": [],
   "source": [
    "if OPTIMIZER == \"Adam\":\n",
    "    optimizer = torch.optim.Adam(model.parameters())\n",
    "elif OPTIMIZER == \"Adam_decay\":\n",
    "    optimizer = torch.optim.Adam(model.parameters(), weight_decay=1e-4)\n",
    "elif OPTIMIZER == \"SGD\":\n",
    "    optimizer = torch.optim.SGD(\n",
    "        model.parameters(), lr=0.1, momentum=0.9, weight_decay=1e-4\n",
    "    )\n",
    "elif OPTIMIZER == \"SGD_nasterov\":\n",
    "    optimizer = torch.optim.SGD(\n",
    "        model.parameters(), lr=0.1, momentum=0.9, weight_decay=1e-4, nesterov=True\n",
    "    )\n",
    "elif OPTIMIZER == \"AdamW\":\n",
    "    optimizer = torch.optim.AdamW(model.parameters(), weight_decay=1e-4)\n",
    "elif OPTIMIZER == \"AdamW_amsgrad\":\n",
    "    optimizer = torch.optim.AdamW(model.parameters(), weight_decay=1e-4, amsgrad=True)\n",
    "elif OPTIMIZER == \"NAdam\":\n",
    "    optimizer = torch.optim.NAdam(model.parameters(), weight_decay=1e-4)"
   ]
  },
  {
   "cell_type": "markdown",
   "metadata": {},
   "source": [
    "## (3) Define Early Stopping"
   ]
  },
  {
   "cell_type": "code",
   "execution_count": 44,
   "metadata": {},
   "outputs": [],
   "source": [
    "earlystopper = EarlyStopper(patience=EARLYSTOPPINGPATIENCE, model=model, file_name=file_path)"
   ]
  },
  {
   "cell_type": "markdown",
   "metadata": {},
   "source": [
    "## (4) Define Learning Rate schedualer"
   ]
  },
  {
   "cell_type": "code",
   "execution_count": 45,
   "metadata": {},
   "outputs": [],
   "source": [
    "scheduler = CosineAnnealingLR(optimizer, T_max=NUM_EPOCHS, eta_min=0)"
   ]
  },
  {
   "cell_type": "markdown",
   "metadata": {},
   "source": [
    "## (5) Define AMP scaler"
   ]
  },
  {
   "cell_type": "code",
   "execution_count": 46,
   "metadata": {},
   "outputs": [],
   "source": [
    "scaler = torch.cuda.amp.GradScaler(enabled=True)"
   ]
  },
  {
   "cell_type": "markdown",
   "metadata": {},
   "source": [
    "## Load before process"
   ]
  },
  {
   "cell_type": "code",
   "execution_count": 47,
   "metadata": {},
   "outputs": [
    {
     "name": "stdout",
     "output_type": "stream",
     "text": [
      "Suceessfully loaded the All setting and Log file.\n",
      "MyResNet34_128_NAdam\n",
      "Current epoch is 22\n",
      "Current learning rate: 0.002\n"
     ]
    }
   ],
   "source": [
    "if os.path.exists(file_path + \".pth.tar\"):\n",
    "    # Read checkpoint as desired, e.g.,\n",
    "    checkpoint = torch.load(\n",
    "        file_path + \".pth.tar\",\n",
    "        map_location=lambda storage, loc: storage.cuda(device),\n",
    "    )\n",
    "    model.load_state_dict(checkpoint[\"model\"])\n",
    "    optimizer.load_state_dict(checkpoint[\"optimizer\"])\n",
    "    scaler.load_state_dict(checkpoint[\"scaler\"])\n",
    "    scheduler.load_state_dict(checkpoint[\"scheduler\"])\n",
    "    earlystopper.load_state_dict(checkpoint[\"earlystopper\"])\n",
    "    logs = checkpoint[\"logs\"]\n",
    "\n",
    "    print(\"Suceessfully loaded the All setting and Log file.\")\n",
    "    print(file_path)\n",
    "    print(f\"Current epoch is {len(logs['train_loss'])}\")\n",
    "    print(f\"Current learning rate: {optimizer.param_groups[0]['lr']}\")\n",
    "else:\n",
    "    # Create a dictionary to store the variables\n",
    "    train_loss = []\n",
    "    train_acc = []\n",
    "    eval_loss = []\n",
    "    valid_acc = []\n",
    "    test_loss = []\n",
    "    test_acc = []\n",
    "    lr_log = []\n",
    "    logs = {\n",
    "        \"train_loss\": train_loss,\n",
    "        \"train_acc\": train_acc,\n",
    "        \"valid_loss\": eval_loss,\n",
    "        \"valid_acc\": valid_acc,\n",
    "        \"test_loss\": test_loss,\n",
    "        \"test_acc\": test_acc,\n",
    "        \"lr_log\": lr_log,\n",
    "    }\n",
    "    print(\"File does not exist. Created a new log.\")"
   ]
  },
  {
   "cell_type": "code",
   "execution_count": 48,
   "metadata": {},
   "outputs": [
    {
     "data": {
      "text/plain": [
       "0.002"
      ]
     },
     "execution_count": 48,
     "metadata": {},
     "output_type": "execute_result"
    }
   ],
   "source": [
    "optimizer.param_groups[0][\"lr\"]"
   ]
  },
  {
   "cell_type": "code",
   "execution_count": 49,
   "metadata": {},
   "outputs": [
    {
     "data": {
      "text/plain": [
       "4"
      ]
     },
     "execution_count": 49,
     "metadata": {},
     "output_type": "execute_result"
    }
   ],
   "source": [
    "earlystopper.early_stop_counter"
   ]
  },
  {
   "cell_type": "markdown",
   "metadata": {},
   "source": [
    "# [Training Loop]"
   ]
  },
  {
   "cell_type": "code",
   "execution_count": 50,
   "metadata": {},
   "outputs": [],
   "source": [
    "if valid_data is None:\n",
    "    valid_dataloader = None\n",
    "if test_data is None:\n",
    "    test_dataloader = None"
   ]
  },
  {
   "cell_type": "code",
   "execution_count": 51,
   "metadata": {},
   "outputs": [
    {
     "name": "stdout",
     "output_type": "stream",
     "text": [
      "[Epoch 23/180] :\n"
     ]
    },
    {
     "name": "stderr",
     "output_type": "stream",
     "text": [
      "23 Train: 100%|██████| 391/391 [00:19<00:00, 20.52it/s]"
     ]
    },
    {
     "name": "stdout",
     "output_type": "stream",
     "text": [
      "Train Loss: 0.5162 | Train Acc: 82.09%\n"
     ]
    },
    {
     "name": "stderr",
     "output_type": "stream",
     "text": [
      "\n"
     ]
    },
    {
     "name": "stdout",
     "output_type": "stream",
     "text": [
      "Test  Loss: 0.8239 | Test Acc: 74.19%\n",
      "--------------------------------------------------\n",
      "[Epoch 24/180] :\n"
     ]
    },
    {
     "name": "stderr",
     "output_type": "stream",
     "text": [
      "24 Train: 100%|██████| 391/391 [00:19<00:00, 20.20it/s]\n"
     ]
    },
    {
     "name": "stdout",
     "output_type": "stream",
     "text": [
      "Train Loss: 0.5172 | Train Acc: 82.04%\n",
      "Test  Loss: 0.5759 | Test Acc: 81.15%\n",
      "--------------------------------------------------\n",
      "[Epoch 25/180] :\n"
     ]
    },
    {
     "name": "stderr",
     "output_type": "stream",
     "text": [
      "25 Train: 100%|██████| 391/391 [00:19<00:00, 20.16it/s]\n"
     ]
    },
    {
     "name": "stdout",
     "output_type": "stream",
     "text": [
      "Train Loss: 0.5092 | Train Acc: 82.48%\n",
      "Test  Loss: 0.6332 | Test Acc: 79.02%\n",
      "--------------------------------------------------\n",
      "[Epoch 26/180] :\n"
     ]
    },
    {
     "name": "stderr",
     "output_type": "stream",
     "text": [
      "26 Train: 100%|██████| 391/391 [00:18<00:00, 20.99it/s]\n"
     ]
    },
    {
     "name": "stdout",
     "output_type": "stream",
     "text": [
      "Train Loss: 0.5081 | Train Acc: 82.47%\n",
      "Test  Loss: 0.5112 | Test Acc: 82.90%\n",
      "updated best eval loss : 0.5112344211415399\n",
      "--------------------------------------------------\n",
      "[Epoch 27/180] :\n"
     ]
    },
    {
     "name": "stderr",
     "output_type": "stream",
     "text": [
      "27 Train: 100%|██████| 391/391 [00:20<00:00, 18.74it/s]\n"
     ]
    },
    {
     "name": "stdout",
     "output_type": "stream",
     "text": [
      "Train Loss: 0.4984 | Train Acc: 82.80%\n",
      "Test  Loss: 0.4776 | Test Acc: 83.89%\n",
      "updated best eval loss : 0.477607347165482\n",
      "--------------------------------------------------\n",
      "[Epoch 28/180] :\n"
     ]
    },
    {
     "name": "stderr",
     "output_type": "stream",
     "text": [
      "28 Train: 100%|██████| 391/391 [00:19<00:00, 19.64it/s]\n"
     ]
    },
    {
     "name": "stdout",
     "output_type": "stream",
     "text": [
      "Train Loss: 0.4992 | Train Acc: 82.58%\n",
      "Test  Loss: 0.5393 | Test Acc: 81.93%\n",
      "--------------------------------------------------\n",
      "[Epoch 29/180] :\n"
     ]
    },
    {
     "name": "stderr",
     "output_type": "stream",
     "text": [
      "29 Train: 100%|██████| 391/391 [00:20<00:00, 19.48it/s]\n"
     ]
    },
    {
     "name": "stdout",
     "output_type": "stream",
     "text": [
      "Train Loss: 0.4933 | Train Acc: 82.76%\n",
      "Test  Loss: 0.5628 | Test Acc: 81.55%\n",
      "--------------------------------------------------\n",
      "[Epoch 30/180] :\n"
     ]
    },
    {
     "name": "stderr",
     "output_type": "stream",
     "text": [
      "30 Train: 100%|██████| 391/391 [00:19<00:00, 20.49it/s]\n"
     ]
    },
    {
     "name": "stdout",
     "output_type": "stream",
     "text": [
      "Train Loss: 0.4897 | Train Acc: 83.00%\n",
      "Test  Loss: 0.6119 | Test Acc: 79.52%\n",
      "--------------------------------------------------\n",
      "[Epoch 31/180] :\n"
     ]
    },
    {
     "name": "stderr",
     "output_type": "stream",
     "text": [
      "31 Train: 100%|██████| 391/391 [00:20<00:00, 19.52it/s]\n"
     ]
    },
    {
     "name": "stdout",
     "output_type": "stream",
     "text": [
      "Train Loss: 0.4874 | Train Acc: 83.01%\n",
      "Test  Loss: 0.6818 | Test Acc: 78.72%\n",
      "--------------------------------------------------\n",
      "[Epoch 32/180] :\n"
     ]
    },
    {
     "name": "stderr",
     "output_type": "stream",
     "text": [
      "32 Train: 100%|██████| 391/391 [00:19<00:00, 19.96it/s]\n"
     ]
    },
    {
     "name": "stdout",
     "output_type": "stream",
     "text": [
      "Train Loss: 0.4825 | Train Acc: 83.26%\n",
      "Test  Loss: 0.4945 | Test Acc: 83.43%\n",
      "--------------------------------------------------\n",
      "[Epoch 33/180] :\n"
     ]
    },
    {
     "name": "stderr",
     "output_type": "stream",
     "text": [
      "33 Train: 100%|██████| 391/391 [00:19<00:00, 20.16it/s]\n"
     ]
    },
    {
     "name": "stdout",
     "output_type": "stream",
     "text": [
      "Train Loss: 0.4774 | Train Acc: 83.48%\n",
      "Test  Loss: 0.4980 | Test Acc: 83.55%\n",
      "--------------------------------------------------\n",
      "[Epoch 34/180] :\n"
     ]
    },
    {
     "name": "stderr",
     "output_type": "stream",
     "text": [
      "34 Train: 100%|██████| 391/391 [00:19<00:00, 19.77it/s]\n"
     ]
    },
    {
     "name": "stdout",
     "output_type": "stream",
     "text": [
      "Train Loss: 0.4744 | Train Acc: 83.52%\n",
      "Test  Loss: 0.4396 | Test Acc: 84.95%\n",
      "updated best eval loss : 0.4395965326435958\n",
      "--------------------------------------------------\n",
      "[Epoch 35/180] :\n"
     ]
    },
    {
     "name": "stderr",
     "output_type": "stream",
     "text": [
      "35 Train: 100%|██████| 391/391 [00:19<00:00, 20.37it/s]\n"
     ]
    },
    {
     "name": "stdout",
     "output_type": "stream",
     "text": [
      "Train Loss: 0.4732 | Train Acc: 83.36%\n",
      "Test  Loss: 0.5320 | Test Acc: 82.27%\n",
      "--------------------------------------------------\n",
      "[Epoch 36/180] :\n"
     ]
    },
    {
     "name": "stderr",
     "output_type": "stream",
     "text": [
      "36 Train: 100%|██████| 391/391 [00:20<00:00, 19.40it/s]\n"
     ]
    },
    {
     "name": "stdout",
     "output_type": "stream",
     "text": [
      "Train Loss: 0.4753 | Train Acc: 83.51%\n",
      "Test  Loss: 0.4869 | Test Acc: 83.17%\n",
      "--------------------------------------------------\n",
      "[Epoch 37/180] :\n"
     ]
    },
    {
     "name": "stderr",
     "output_type": "stream",
     "text": [
      "37 Train: 100%|██████| 391/391 [00:20<00:00, 19.23it/s]\n"
     ]
    },
    {
     "name": "stdout",
     "output_type": "stream",
     "text": [
      "Train Loss: 0.4652 | Train Acc: 83.92%\n",
      "Test  Loss: 0.4467 | Test Acc: 84.97%\n",
      "--------------------------------------------------\n",
      "[Epoch 38/180] :\n"
     ]
    },
    {
     "name": "stderr",
     "output_type": "stream",
     "text": [
      "38 Train: 100%|██████| 391/391 [00:18<00:00, 20.60it/s]\n"
     ]
    },
    {
     "name": "stdout",
     "output_type": "stream",
     "text": [
      "Train Loss: 0.4623 | Train Acc: 84.02%\n",
      "Test  Loss: 0.5008 | Test Acc: 83.33%\n",
      "--------------------------------------------------\n",
      "[Epoch 39/180] :\n"
     ]
    },
    {
     "name": "stderr",
     "output_type": "stream",
     "text": [
      "39 Train: 100%|██████| 391/391 [00:20<00:00, 18.77it/s]\n"
     ]
    },
    {
     "name": "stdout",
     "output_type": "stream",
     "text": [
      "Train Loss: 0.4595 | Train Acc: 83.84%\n",
      "Test  Loss: 0.5479 | Test Acc: 81.60%\n",
      "--------------------------------------------------\n",
      "[Epoch 40/180] :\n"
     ]
    },
    {
     "name": "stderr",
     "output_type": "stream",
     "text": [
      "40 Train: 100%|██████| 391/391 [00:20<00:00, 19.38it/s]\n"
     ]
    },
    {
     "name": "stdout",
     "output_type": "stream",
     "text": [
      "Train Loss: 0.4545 | Train Acc: 84.13%\n",
      "Test  Loss: 0.5036 | Test Acc: 83.43%\n",
      "--------------------------------------------------\n",
      "[Epoch 41/180] :\n"
     ]
    },
    {
     "name": "stderr",
     "output_type": "stream",
     "text": [
      "41 Train: 100%|██████| 391/391 [00:19<00:00, 19.69it/s]\n"
     ]
    },
    {
     "name": "stdout",
     "output_type": "stream",
     "text": [
      "Train Loss: 0.4558 | Train Acc: 84.12%\n",
      "Test  Loss: 0.5599 | Test Acc: 81.56%\n",
      "--------------------------------------------------\n",
      "[Epoch 42/180] :\n"
     ]
    },
    {
     "name": "stderr",
     "output_type": "stream",
     "text": [
      "42 Train: 100%|██████| 391/391 [00:20<00:00, 19.28it/s]\n"
     ]
    },
    {
     "name": "stdout",
     "output_type": "stream",
     "text": [
      "Train Loss: 0.4568 | Train Acc: 84.30%\n",
      "Test  Loss: 0.4936 | Test Acc: 83.51%\n",
      "--------------------------------------------------\n",
      "[Epoch 43/180] :\n"
     ]
    },
    {
     "name": "stderr",
     "output_type": "stream",
     "text": [
      "43 Train: 100%|██████| 391/391 [00:20<00:00, 19.33it/s]\n"
     ]
    },
    {
     "name": "stdout",
     "output_type": "stream",
     "text": [
      "Train Loss: 0.4486 | Train Acc: 84.50%\n",
      "Test  Loss: 0.5611 | Test Acc: 81.46%\n",
      "--------------------------------------------------\n",
      "[Epoch 44/180] :\n"
     ]
    },
    {
     "name": "stderr",
     "output_type": "stream",
     "text": [
      "44 Train: 100%|██████| 391/391 [00:20<00:00, 19.49it/s]\n"
     ]
    },
    {
     "name": "stdout",
     "output_type": "stream",
     "text": [
      "Train Loss: 0.4506 | Train Acc: 84.42%\n",
      "Test  Loss: 0.4462 | Test Acc: 85.10%\n",
      "--------------------------------------------------\n",
      "[Epoch 45/180] :\n"
     ]
    },
    {
     "name": "stderr",
     "output_type": "stream",
     "text": [
      "45 Train: 100%|██████| 391/391 [00:19<00:00, 19.65it/s]\n"
     ]
    },
    {
     "name": "stdout",
     "output_type": "stream",
     "text": [
      "Train Loss: 0.4484 | Train Acc: 84.31%\n",
      "Test  Loss: 0.4895 | Test Acc: 83.93%\n",
      "--------------------------------------------------\n",
      "[Epoch 46/180] :\n"
     ]
    },
    {
     "name": "stderr",
     "output_type": "stream",
     "text": [
      "46 Train: 100%|██████| 391/391 [00:20<00:00, 19.10it/s]\n"
     ]
    },
    {
     "name": "stdout",
     "output_type": "stream",
     "text": [
      "Train Loss: 0.4458 | Train Acc: 84.52%\n",
      "Test  Loss: 0.4519 | Test Acc: 84.83%\n",
      "--------------------------------------------------\n",
      "[Epoch 47/180] :\n"
     ]
    },
    {
     "name": "stderr",
     "output_type": "stream",
     "text": [
      "47 Train: 100%|██████| 391/391 [00:20<00:00, 19.33it/s]\n"
     ]
    },
    {
     "name": "stdout",
     "output_type": "stream",
     "text": [
      "Train Loss: 0.4430 | Train Acc: 84.71%\n",
      "Test  Loss: 0.6377 | Test Acc: 80.47%\n",
      "--------------------------------------------------\n",
      "[Epoch 48/180] :\n"
     ]
    },
    {
     "name": "stderr",
     "output_type": "stream",
     "text": [
      "48 Train: 100%|██████| 391/391 [00:19<00:00, 19.91it/s]\n"
     ]
    },
    {
     "name": "stdout",
     "output_type": "stream",
     "text": [
      "Train Loss: 0.4380 | Train Acc: 84.75%\n",
      "Test  Loss: 0.5339 | Test Acc: 82.75%\n",
      "--------------------------------------------------\n",
      "[Epoch 49/180] :\n"
     ]
    },
    {
     "name": "stderr",
     "output_type": "stream",
     "text": [
      "49 Train: 100%|██████| 391/391 [00:19<00:00, 20.27it/s]\n"
     ]
    },
    {
     "name": "stdout",
     "output_type": "stream",
     "text": [
      "Train Loss: 0.4411 | Train Acc: 84.77%\n",
      "Test  Loss: 0.4975 | Test Acc: 83.90%\n",
      "--------------------------------------------------\n",
      "[Epoch 50/180] :\n"
     ]
    },
    {
     "name": "stderr",
     "output_type": "stream",
     "text": [
      "50 Train: 100%|██████| 391/391 [00:19<00:00, 20.02it/s]\n"
     ]
    },
    {
     "name": "stdout",
     "output_type": "stream",
     "text": [
      "Train Loss: 0.4403 | Train Acc: 84.80%\n",
      "Test  Loss: 0.4659 | Test Acc: 84.68%\n",
      "--------------------------------------------------\n",
      "[Epoch 51/180] :\n"
     ]
    },
    {
     "name": "stderr",
     "output_type": "stream",
     "text": [
      "51 Train: 100%|██████| 391/391 [00:20<00:00, 19.10it/s]\n"
     ]
    },
    {
     "name": "stdout",
     "output_type": "stream",
     "text": [
      "Train Loss: 0.4406 | Train Acc: 84.68%\n",
      "Test  Loss: 0.5159 | Test Acc: 82.38%\n",
      "--------------------------------------------------\n",
      "[Epoch 52/180] :\n"
     ]
    },
    {
     "name": "stderr",
     "output_type": "stream",
     "text": [
      "52 Train: 100%|██████| 391/391 [00:19<00:00, 19.57it/s]\n"
     ]
    },
    {
     "name": "stdout",
     "output_type": "stream",
     "text": [
      "Train Loss: 0.4369 | Train Acc: 84.81%\n",
      "Test  Loss: 0.5580 | Test Acc: 81.82%\n",
      "--------------------------------------------------\n",
      "[Epoch 53/180] :\n"
     ]
    },
    {
     "name": "stderr",
     "output_type": "stream",
     "text": [
      "53 Train: 100%|██████| 391/391 [00:18<00:00, 20.63it/s]\n"
     ]
    },
    {
     "name": "stdout",
     "output_type": "stream",
     "text": [
      "Train Loss: 0.4333 | Train Acc: 84.82%\n",
      "Test  Loss: 0.4561 | Test Acc: 84.36%\n",
      "--------------------------------------------------\n",
      "[Epoch 54/180] :\n"
     ]
    },
    {
     "name": "stderr",
     "output_type": "stream",
     "text": [
      "54 Train: 100%|██████| 391/391 [00:19<00:00, 19.75it/s]\n"
     ]
    },
    {
     "name": "stdout",
     "output_type": "stream",
     "text": [
      "Train Loss: 0.4297 | Train Acc: 85.06%\n",
      "Test  Loss: 0.6515 | Test Acc: 79.10%\n",
      "--------------------------------------------------\n",
      "[Epoch 55/180] :\n"
     ]
    },
    {
     "name": "stderr",
     "output_type": "stream",
     "text": [
      "55 Train: 100%|██████| 391/391 [00:20<00:00, 19.29it/s]\n"
     ]
    },
    {
     "name": "stdout",
     "output_type": "stream",
     "text": [
      "Train Loss: 0.4358 | Train Acc: 84.82%\n",
      "Test  Loss: 0.4028 | Test Acc: 86.35%\n",
      "updated best eval loss : 0.40275334104706967\n",
      "--------------------------------------------------\n",
      "[Epoch 56/180] :\n"
     ]
    },
    {
     "name": "stderr",
     "output_type": "stream",
     "text": [
      "56 Train: 100%|██████| 391/391 [00:19<00:00, 19.92it/s]\n"
     ]
    },
    {
     "name": "stdout",
     "output_type": "stream",
     "text": [
      "Train Loss: 0.4240 | Train Acc: 85.38%\n",
      "Test  Loss: 0.4600 | Test Acc: 85.10%\n",
      "--------------------------------------------------\n",
      "[Epoch 57/180] :\n"
     ]
    },
    {
     "name": "stderr",
     "output_type": "stream",
     "text": [
      "57 Train: 100%|██████| 391/391 [00:19<00:00, 19.70it/s]\n"
     ]
    },
    {
     "name": "stdout",
     "output_type": "stream",
     "text": [
      "Train Loss: 0.4292 | Train Acc: 85.15%\n",
      "Test  Loss: 0.4071 | Test Acc: 86.27%\n",
      "--------------------------------------------------\n",
      "[Epoch 58/180] :\n"
     ]
    },
    {
     "name": "stderr",
     "output_type": "stream",
     "text": [
      "58 Train: 100%|██████| 391/391 [00:20<00:00, 19.47it/s]\n"
     ]
    },
    {
     "name": "stdout",
     "output_type": "stream",
     "text": [
      "Train Loss: 0.4265 | Train Acc: 85.20%\n",
      "Test  Loss: 0.4940 | Test Acc: 83.55%\n",
      "--------------------------------------------------\n",
      "[Epoch 59/180] :\n"
     ]
    },
    {
     "name": "stderr",
     "output_type": "stream",
     "text": [
      "59 Train: 100%|██████| 391/391 [00:19<00:00, 19.74it/s]\n"
     ]
    },
    {
     "name": "stdout",
     "output_type": "stream",
     "text": [
      "Train Loss: 0.4254 | Train Acc: 85.28%\n",
      "Test  Loss: 0.4803 | Test Acc: 84.53%\n",
      "--------------------------------------------------\n",
      "[Epoch 60/180] :\n"
     ]
    },
    {
     "name": "stderr",
     "output_type": "stream",
     "text": [
      "60 Train: 100%|██████| 391/391 [00:19<00:00, 19.92it/s]\n"
     ]
    },
    {
     "name": "stdout",
     "output_type": "stream",
     "text": [
      "Train Loss: 0.4211 | Train Acc: 85.54%\n",
      "Test  Loss: 0.5044 | Test Acc: 83.48%\n",
      "--------------------------------------------------\n",
      "[Epoch 61/180] :\n"
     ]
    },
    {
     "name": "stderr",
     "output_type": "stream",
     "text": [
      "61 Train: 100%|██████| 391/391 [00:20<00:00, 18.87it/s]\n"
     ]
    },
    {
     "name": "stdout",
     "output_type": "stream",
     "text": [
      "Train Loss: 0.4191 | Train Acc: 85.58%\n",
      "Test  Loss: 0.7589 | Test Acc: 77.76%\n",
      "--------------------------------------------------\n",
      "[Epoch 62/180] :\n"
     ]
    },
    {
     "name": "stderr",
     "output_type": "stream",
     "text": [
      "62 Train: 100%|██████| 391/391 [00:18<00:00, 20.74it/s]\n"
     ]
    },
    {
     "name": "stdout",
     "output_type": "stream",
     "text": [
      "Train Loss: 0.4295 | Train Acc: 85.01%\n",
      "Test  Loss: 0.5251 | Test Acc: 82.67%\n",
      "--------------------------------------------------\n",
      "[Epoch 63/180] :\n"
     ]
    },
    {
     "name": "stderr",
     "output_type": "stream",
     "text": [
      "63 Train: 100%|██████| 391/391 [00:19<00:00, 19.83it/s]\n"
     ]
    },
    {
     "name": "stdout",
     "output_type": "stream",
     "text": [
      "Train Loss: 0.4204 | Train Acc: 85.33%\n",
      "Test  Loss: 0.4587 | Test Acc: 84.91%\n",
      "--------------------------------------------------\n",
      "[Epoch 64/180] :\n"
     ]
    },
    {
     "name": "stderr",
     "output_type": "stream",
     "text": [
      "64 Train: 100%|██████| 391/391 [00:20<00:00, 19.35it/s]\n"
     ]
    },
    {
     "name": "stdout",
     "output_type": "stream",
     "text": [
      "Train Loss: 0.4203 | Train Acc: 85.53%\n",
      "Test  Loss: 0.5123 | Test Acc: 83.09%\n",
      "--------------------------------------------------\n",
      "[Epoch 65/180] :\n"
     ]
    },
    {
     "name": "stderr",
     "output_type": "stream",
     "text": [
      "65 Train: 100%|██████| 391/391 [00:20<00:00, 18.75it/s]\n"
     ]
    },
    {
     "name": "stdout",
     "output_type": "stream",
     "text": [
      "Train Loss: 0.4211 | Train Acc: 85.39%\n",
      "Test  Loss: 0.5349 | Test Acc: 83.27%\n",
      "--------------------------------------------------\n",
      "[Epoch 66/180] :\n"
     ]
    },
    {
     "name": "stderr",
     "output_type": "stream",
     "text": [
      "66 Train: 100%|██████| 391/391 [00:19<00:00, 19.80it/s]\n"
     ]
    },
    {
     "name": "stdout",
     "output_type": "stream",
     "text": [
      "Train Loss: 0.4131 | Train Acc: 85.72%\n",
      "Test  Loss: 0.6179 | Test Acc: 80.26%\n",
      "--------------------------------------------------\n",
      "[Epoch 67/180] :\n"
     ]
    },
    {
     "name": "stderr",
     "output_type": "stream",
     "text": [
      "67 Train: 100%|██████| 391/391 [00:19<00:00, 20.24it/s]\n"
     ]
    },
    {
     "name": "stdout",
     "output_type": "stream",
     "text": [
      "Train Loss: 0.4135 | Train Acc: 85.65%\n",
      "Test  Loss: 0.4980 | Test Acc: 83.62%\n",
      "--------------------------------------------------\n",
      "[Epoch 68/180] :\n"
     ]
    },
    {
     "name": "stderr",
     "output_type": "stream",
     "text": [
      "68 Train: 100%|██████| 391/391 [00:20<00:00, 19.22it/s]\n"
     ]
    },
    {
     "name": "stdout",
     "output_type": "stream",
     "text": [
      "Train Loss: 0.4151 | Train Acc: 85.55%\n",
      "Test  Loss: 0.4183 | Test Acc: 85.87%\n",
      "--------------------------------------------------\n",
      "[Epoch 69/180] :\n"
     ]
    },
    {
     "name": "stderr",
     "output_type": "stream",
     "text": [
      "69 Train: 100%|██████| 391/391 [00:20<00:00, 18.97it/s]\n"
     ]
    },
    {
     "name": "stdout",
     "output_type": "stream",
     "text": [
      "Train Loss: 0.4130 | Train Acc: 85.52%\n",
      "Test  Loss: 0.5133 | Test Acc: 82.85%\n",
      "--------------------------------------------------\n",
      "[Epoch 70/180] :\n"
     ]
    },
    {
     "name": "stderr",
     "output_type": "stream",
     "text": [
      "70 Train: 100%|██████| 391/391 [00:20<00:00, 19.33it/s]\n"
     ]
    },
    {
     "name": "stdout",
     "output_type": "stream",
     "text": [
      "Train Loss: 0.4005 | Train Acc: 85.96%\n",
      "Test  Loss: 0.5186 | Test Acc: 83.47%\n",
      "--------------------------------------------------\n",
      "[Epoch 71/180] :\n"
     ]
    },
    {
     "name": "stderr",
     "output_type": "stream",
     "text": [
      "71 Train: 100%|██████| 391/391 [00:19<00:00, 19.96it/s]\n"
     ]
    },
    {
     "name": "stdout",
     "output_type": "stream",
     "text": [
      "Train Loss: 0.4125 | Train Acc: 85.67%\n",
      "Test  Loss: 0.4437 | Test Acc: 85.35%\n",
      "--------------------------------------------------\n",
      "[Epoch 72/180] :\n"
     ]
    },
    {
     "name": "stderr",
     "output_type": "stream",
     "text": [
      "72 Train: 100%|██████| 391/391 [00:19<00:00, 19.99it/s]\n"
     ]
    },
    {
     "name": "stdout",
     "output_type": "stream",
     "text": [
      "Train Loss: 0.4089 | Train Acc: 85.79%\n",
      "Test  Loss: 0.5080 | Test Acc: 83.39%\n",
      "--------------------------------------------------\n",
      "[Epoch 73/180] :\n"
     ]
    },
    {
     "name": "stderr",
     "output_type": "stream",
     "text": [
      "73 Train: 100%|██████| 391/391 [00:19<00:00, 20.33it/s]\n"
     ]
    },
    {
     "name": "stdout",
     "output_type": "stream",
     "text": [
      "Train Loss: 0.4141 | Train Acc: 85.60%\n",
      "Test  Loss: 0.5264 | Test Acc: 82.45%\n",
      "--------------------------------------------------\n",
      "[Epoch 74/180] :\n"
     ]
    },
    {
     "name": "stderr",
     "output_type": "stream",
     "text": [
      "74 Train: 100%|██████| 391/391 [00:19<00:00, 19.86it/s]\n"
     ]
    },
    {
     "name": "stdout",
     "output_type": "stream",
     "text": [
      "Train Loss: 0.4048 | Train Acc: 85.88%\n",
      "Test  Loss: 0.4271 | Test Acc: 85.36%\n",
      "--------------------------------------------------\n",
      "[Epoch 75/180] :\n"
     ]
    },
    {
     "name": "stderr",
     "output_type": "stream",
     "text": [
      "75 Train: 100%|██████| 391/391 [00:19<00:00, 19.77it/s]\n"
     ]
    },
    {
     "name": "stdout",
     "output_type": "stream",
     "text": [
      "Train Loss: 0.4043 | Train Acc: 86.02%\n",
      "Test  Loss: 0.4841 | Test Acc: 83.96%\n",
      "--------------------------------------------------\n",
      "[Epoch 76/180] :\n"
     ]
    },
    {
     "name": "stderr",
     "output_type": "stream",
     "text": [
      "76 Train: 100%|██████| 391/391 [00:20<00:00, 19.26it/s]\n"
     ]
    },
    {
     "name": "stdout",
     "output_type": "stream",
     "text": [
      "Train Loss: 0.4134 | Train Acc: 85.69%\n",
      "Test  Loss: 0.5008 | Test Acc: 84.06%\n",
      "--------------------------------------------------\n",
      "[Epoch 77/180] :\n"
     ]
    },
    {
     "name": "stderr",
     "output_type": "stream",
     "text": [
      "77 Train: 100%|██████| 391/391 [00:19<00:00, 19.84it/s]\n"
     ]
    },
    {
     "name": "stdout",
     "output_type": "stream",
     "text": [
      "Train Loss: 0.4031 | Train Acc: 86.06%\n",
      "Test  Loss: 0.4678 | Test Acc: 84.91%\n",
      "--------------------------------------------------\n",
      "[Epoch 78/180] :\n"
     ]
    },
    {
     "name": "stderr",
     "output_type": "stream",
     "text": [
      "78 Train: 100%|██████| 391/391 [00:19<00:00, 19.69it/s]\n"
     ]
    },
    {
     "name": "stdout",
     "output_type": "stream",
     "text": [
      "Train Loss: 0.4075 | Train Acc: 85.88%\n",
      "Test  Loss: 0.4661 | Test Acc: 85.07%\n",
      "--------------------------------------------------\n",
      "[Epoch 79/180] :\n"
     ]
    },
    {
     "name": "stderr",
     "output_type": "stream",
     "text": [
      "79 Train: 100%|██████| 391/391 [00:20<00:00, 19.46it/s]\n"
     ]
    },
    {
     "name": "stdout",
     "output_type": "stream",
     "text": [
      "Train Loss: 0.4084 | Train Acc: 85.84%\n",
      "Test  Loss: 0.4590 | Test Acc: 84.74%\n",
      "--------------------------------------------------\n",
      "[Epoch 80/180] :\n"
     ]
    },
    {
     "name": "stderr",
     "output_type": "stream",
     "text": [
      "80 Train: 100%|██████| 391/391 [00:20<00:00, 19.17it/s]\n"
     ]
    },
    {
     "name": "stdout",
     "output_type": "stream",
     "text": [
      "Train Loss: 0.3988 | Train Acc: 86.06%\n",
      "Test  Loss: 0.4472 | Test Acc: 85.35%\n",
      "--------------------------------------------------\n",
      "[Epoch 81/180] :\n"
     ]
    },
    {
     "name": "stderr",
     "output_type": "stream",
     "text": [
      "81 Train: 100%|██████| 391/391 [00:19<00:00, 19.71it/s]\n"
     ]
    },
    {
     "name": "stdout",
     "output_type": "stream",
     "text": [
      "Train Loss: 0.4071 | Train Acc: 85.85%\n",
      "Test  Loss: 0.6083 | Test Acc: 81.12%\n",
      "--------------------------------------------------\n",
      "[Epoch 82/180] :\n"
     ]
    },
    {
     "name": "stderr",
     "output_type": "stream",
     "text": [
      "82 Train: 100%|██████| 391/391 [00:19<00:00, 19.79it/s]\n"
     ]
    },
    {
     "name": "stdout",
     "output_type": "stream",
     "text": [
      "Train Loss: 0.4066 | Train Acc: 86.04%\n",
      "Test  Loss: 0.5291 | Test Acc: 82.84%\n",
      "--------------------------------------------------\n",
      "[Epoch 83/180] :\n"
     ]
    },
    {
     "name": "stderr",
     "output_type": "stream",
     "text": [
      "83 Train: 100%|██████| 391/391 [00:20<00:00, 19.29it/s]\n"
     ]
    },
    {
     "name": "stdout",
     "output_type": "stream",
     "text": [
      "Train Loss: 0.4007 | Train Acc: 86.06%\n",
      "Test  Loss: 0.5126 | Test Acc: 83.81%\n",
      "--------------------------------------------------\n",
      "[Epoch 84/180] :\n"
     ]
    },
    {
     "name": "stderr",
     "output_type": "stream",
     "text": [
      "84 Train: 100%|██████| 391/391 [00:20<00:00, 19.20it/s]\n"
     ]
    },
    {
     "name": "stdout",
     "output_type": "stream",
     "text": [
      "Train Loss: 0.4049 | Train Acc: 86.00%\n",
      "Test  Loss: 0.6191 | Test Acc: 80.78%\n",
      "--------------------------------------------------\n",
      "[Epoch 85/180] :\n"
     ]
    },
    {
     "name": "stderr",
     "output_type": "stream",
     "text": [
      "85 Train: 100%|██████| 391/391 [00:19<00:00, 19.99it/s]\n"
     ]
    },
    {
     "name": "stdout",
     "output_type": "stream",
     "text": [
      "Train Loss: 0.3939 | Train Acc: 86.21%\n",
      "Test  Loss: 0.5064 | Test Acc: 83.76%\n",
      "--------------------------------------------------\n",
      "[Epoch 86/180] :\n"
     ]
    },
    {
     "name": "stderr",
     "output_type": "stream",
     "text": [
      "86 Train: 100%|██████| 391/391 [00:19<00:00, 20.22it/s]\n"
     ]
    },
    {
     "name": "stdout",
     "output_type": "stream",
     "text": [
      "Train Loss: 0.3948 | Train Acc: 86.29%\n",
      "Test  Loss: 0.5048 | Test Acc: 83.31%\n",
      "--------------------------------------------------\n",
      "[Epoch 87/180] :\n"
     ]
    },
    {
     "name": "stderr",
     "output_type": "stream",
     "text": [
      "87 Train: 100%|██████| 391/391 [00:19<00:00, 19.67it/s]\n"
     ]
    },
    {
     "name": "stdout",
     "output_type": "stream",
     "text": [
      "Train Loss: 0.4042 | Train Acc: 86.14%\n",
      "Test  Loss: 0.4664 | Test Acc: 84.28%\n",
      "--------------------------------------------------\n",
      "[Epoch 88/180] :\n"
     ]
    },
    {
     "name": "stderr",
     "output_type": "stream",
     "text": [
      "88 Train: 100%|██████| 391/391 [00:20<00:00, 19.07it/s]\n"
     ]
    },
    {
     "name": "stdout",
     "output_type": "stream",
     "text": [
      "Train Loss: 0.3956 | Train Acc: 86.10%\n",
      "Test  Loss: 0.5040 | Test Acc: 83.08%\n",
      "--------------------------------------------------\n",
      "[Epoch 89/180] :\n"
     ]
    },
    {
     "name": "stderr",
     "output_type": "stream",
     "text": [
      "89 Train: 100%|██████| 391/391 [00:20<00:00, 19.24it/s]\n"
     ]
    },
    {
     "name": "stdout",
     "output_type": "stream",
     "text": [
      "Train Loss: 0.3955 | Train Acc: 86.15%\n",
      "Test  Loss: 0.5614 | Test Acc: 81.52%\n",
      "--------------------------------------------------\n",
      "[Epoch 90/180] :\n"
     ]
    },
    {
     "name": "stderr",
     "output_type": "stream",
     "text": [
      "90 Train: 100%|██████| 391/391 [00:19<00:00, 19.76it/s]\n"
     ]
    },
    {
     "name": "stdout",
     "output_type": "stream",
     "text": [
      "Train Loss: 0.3985 | Train Acc: 86.21%\n",
      "Test  Loss: 0.5811 | Test Acc: 82.18%\n",
      "--------------------------------------------------\n",
      "[Epoch 91/180] :\n"
     ]
    },
    {
     "name": "stderr",
     "output_type": "stream",
     "text": [
      "91 Train: 100%|██████| 391/391 [00:20<00:00, 19.05it/s]\n"
     ]
    },
    {
     "name": "stdout",
     "output_type": "stream",
     "text": [
      "Train Loss: 0.3949 | Train Acc: 86.25%\n",
      "Test  Loss: 0.5392 | Test Acc: 82.56%\n",
      "--------------------------------------------------\n",
      "[Epoch 92/180] :\n"
     ]
    },
    {
     "name": "stderr",
     "output_type": "stream",
     "text": [
      "92 Train: 100%|██████| 391/391 [00:19<00:00, 19.87it/s]\n"
     ]
    },
    {
     "name": "stdout",
     "output_type": "stream",
     "text": [
      "Train Loss: 0.3972 | Train Acc: 86.04%\n",
      "Test  Loss: 0.4856 | Test Acc: 83.92%\n",
      "--------------------------------------------------\n",
      "[Epoch 93/180] :\n"
     ]
    },
    {
     "name": "stderr",
     "output_type": "stream",
     "text": [
      "93 Train: 100%|██████| 391/391 [00:20<00:00, 19.33it/s]\n"
     ]
    },
    {
     "name": "stdout",
     "output_type": "stream",
     "text": [
      "Train Loss: 0.3926 | Train Acc: 86.36%\n",
      "Test  Loss: 0.4107 | Test Acc: 86.40%\n",
      "--------------------------------------------------\n",
      "[Epoch 94/180] :\n"
     ]
    },
    {
     "name": "stderr",
     "output_type": "stream",
     "text": [
      "94 Train: 100%|██████| 391/391 [00:20<00:00, 19.44it/s]\n"
     ]
    },
    {
     "name": "stdout",
     "output_type": "stream",
     "text": [
      "Train Loss: 0.3964 | Train Acc: 86.20%\n",
      "Test  Loss: 0.5046 | Test Acc: 83.22%\n",
      "--------------------------------------------------\n",
      "[Epoch 95/180] :\n"
     ]
    },
    {
     "name": "stderr",
     "output_type": "stream",
     "text": [
      "95 Train: 100%|██████| 391/391 [00:20<00:00, 19.44it/s]\n"
     ]
    },
    {
     "name": "stdout",
     "output_type": "stream",
     "text": [
      "Train Loss: 0.3905 | Train Acc: 86.30%\n",
      "Test  Loss: 0.4586 | Test Acc: 84.96%\n",
      "--------------------------------------------------\n",
      "[Epoch 96/180] :\n"
     ]
    },
    {
     "name": "stderr",
     "output_type": "stream",
     "text": [
      "96 Train: 100%|██████| 391/391 [00:19<00:00, 20.28it/s]\n"
     ]
    },
    {
     "name": "stdout",
     "output_type": "stream",
     "text": [
      "Train Loss: 0.3932 | Train Acc: 86.35%\n",
      "Test  Loss: 0.5015 | Test Acc: 83.88%\n",
      "--------------------------------------------------\n",
      "[Epoch 97/180] :\n"
     ]
    },
    {
     "name": "stderr",
     "output_type": "stream",
     "text": [
      "97 Train: 100%|██████| 391/391 [00:19<00:00, 19.79it/s]\n"
     ]
    },
    {
     "name": "stdout",
     "output_type": "stream",
     "text": [
      "Train Loss: 0.3907 | Train Acc: 86.44%\n",
      "Test  Loss: 0.5194 | Test Acc: 82.94%\n",
      "--------------------------------------------------\n",
      "[Epoch 98/180] :\n"
     ]
    },
    {
     "name": "stderr",
     "output_type": "stream",
     "text": [
      "98 Train: 100%|██████| 391/391 [00:20<00:00, 19.30it/s]\n"
     ]
    },
    {
     "name": "stdout",
     "output_type": "stream",
     "text": [
      "Train Loss: 0.3972 | Train Acc: 86.24%\n",
      "Test  Loss: 0.4723 | Test Acc: 84.44%\n",
      "--------------------------------------------------\n",
      "[Epoch 99/180] :\n"
     ]
    },
    {
     "name": "stderr",
     "output_type": "stream",
     "text": [
      "99 Train: 100%|██████| 391/391 [00:19<00:00, 20.03it/s]\n"
     ]
    },
    {
     "name": "stdout",
     "output_type": "stream",
     "text": [
      "Train Loss: 0.3910 | Train Acc: 86.15%\n",
      "Test  Loss: 0.6617 | Test Acc: 79.46%\n",
      "--------------------------------------------------\n",
      "[Epoch 100/180] :\n"
     ]
    },
    {
     "name": "stderr",
     "output_type": "stream",
     "text": [
      "100 Train: 100%|█████| 391/391 [00:19<00:00, 19.71it/s]\n"
     ]
    },
    {
     "name": "stdout",
     "output_type": "stream",
     "text": [
      "Train Loss: 0.3943 | Train Acc: 86.15%\n",
      "Test  Loss: 0.5093 | Test Acc: 83.70%\n",
      "--------------------------------------------------\n",
      "[Epoch 101/180] :\n"
     ]
    },
    {
     "name": "stderr",
     "output_type": "stream",
     "text": [
      "101 Train: 100%|█████| 391/391 [00:19<00:00, 19.67it/s]\n"
     ]
    },
    {
     "name": "stdout",
     "output_type": "stream",
     "text": [
      "Train Loss: 0.3892 | Train Acc: 86.51%\n",
      "Test  Loss: 0.5630 | Test Acc: 81.49%\n",
      "--------------------------------------------------\n",
      "[Epoch 102/180] :\n"
     ]
    },
    {
     "name": "stderr",
     "output_type": "stream",
     "text": [
      "102 Train: 100%|█████| 391/391 [00:19<00:00, 20.15it/s]\n"
     ]
    },
    {
     "name": "stdout",
     "output_type": "stream",
     "text": [
      "Train Loss: 0.3872 | Train Acc: 86.64%\n",
      "Test  Loss: 0.3999 | Test Acc: 86.44%\n",
      "updated best eval loss : 0.3999142578885525\n",
      "--------------------------------------------------\n",
      "[Epoch 103/180] :\n"
     ]
    },
    {
     "name": "stderr",
     "output_type": "stream",
     "text": [
      "103 Train: 100%|█████| 391/391 [00:19<00:00, 19.69it/s]\n"
     ]
    },
    {
     "name": "stdout",
     "output_type": "stream",
     "text": [
      "Train Loss: 0.3832 | Train Acc: 86.72%\n",
      "Test  Loss: 0.4569 | Test Acc: 84.98%\n",
      "--------------------------------------------------\n",
      "[Epoch 104/180] :\n"
     ]
    },
    {
     "name": "stderr",
     "output_type": "stream",
     "text": [
      "104 Train: 100%|█████| 391/391 [00:19<00:00, 19.71it/s]\n"
     ]
    },
    {
     "name": "stdout",
     "output_type": "stream",
     "text": [
      "Train Loss: 0.3899 | Train Acc: 86.44%\n",
      "Test  Loss: 0.4704 | Test Acc: 84.31%\n",
      "--------------------------------------------------\n",
      "[Epoch 105/180] :\n"
     ]
    },
    {
     "name": "stderr",
     "output_type": "stream",
     "text": [
      "105 Train: 100%|█████| 391/391 [00:19<00:00, 20.22it/s]\n"
     ]
    },
    {
     "name": "stdout",
     "output_type": "stream",
     "text": [
      "Train Loss: 0.3922 | Train Acc: 86.29%\n",
      "Test  Loss: 0.4669 | Test Acc: 84.85%\n",
      "--------------------------------------------------\n",
      "[Epoch 106/180] :\n"
     ]
    },
    {
     "name": "stderr",
     "output_type": "stream",
     "text": [
      "106 Train: 100%|█████| 391/391 [00:19<00:00, 19.82it/s]\n"
     ]
    },
    {
     "name": "stdout",
     "output_type": "stream",
     "text": [
      "Train Loss: 0.3941 | Train Acc: 86.38%\n",
      "Test  Loss: 0.4742 | Test Acc: 84.46%\n",
      "--------------------------------------------------\n",
      "[Epoch 107/180] :\n"
     ]
    },
    {
     "name": "stderr",
     "output_type": "stream",
     "text": [
      "107 Train: 100%|█████| 391/391 [00:19<00:00, 19.73it/s]\n"
     ]
    },
    {
     "name": "stdout",
     "output_type": "stream",
     "text": [
      "Train Loss: 0.3857 | Train Acc: 86.54%\n",
      "Test  Loss: 0.5542 | Test Acc: 82.35%\n",
      "--------------------------------------------------\n",
      "[Epoch 108/180] :\n"
     ]
    },
    {
     "name": "stderr",
     "output_type": "stream",
     "text": [
      "108 Train: 100%|█████| 391/391 [00:19<00:00, 20.08it/s]\n"
     ]
    },
    {
     "name": "stdout",
     "output_type": "stream",
     "text": [
      "Train Loss: 0.3841 | Train Acc: 86.53%\n",
      "Test  Loss: 0.4822 | Test Acc: 84.04%\n",
      "--------------------------------------------------\n",
      "[Epoch 109/180] :\n"
     ]
    },
    {
     "name": "stderr",
     "output_type": "stream",
     "text": [
      "109 Train: 100%|█████| 391/391 [00:19<00:00, 20.27it/s]\n"
     ]
    },
    {
     "name": "stdout",
     "output_type": "stream",
     "text": [
      "Train Loss: 0.3879 | Train Acc: 86.59%\n",
      "Test  Loss: 0.5257 | Test Acc: 83.07%\n",
      "--------------------------------------------------\n",
      "[Epoch 110/180] :\n"
     ]
    },
    {
     "name": "stderr",
     "output_type": "stream",
     "text": [
      "110 Train: 100%|█████| 391/391 [00:18<00:00, 20.59it/s]\n"
     ]
    },
    {
     "name": "stdout",
     "output_type": "stream",
     "text": [
      "Train Loss: 0.3876 | Train Acc: 86.60%\n",
      "Test  Loss: 0.3823 | Test Acc: 87.07%\n",
      "updated best eval loss : 0.3823137006050424\n",
      "--------------------------------------------------\n",
      "[Epoch 111/180] :\n"
     ]
    },
    {
     "name": "stderr",
     "output_type": "stream",
     "text": [
      "111 Train: 100%|█████| 391/391 [00:19<00:00, 19.91it/s]\n"
     ]
    },
    {
     "name": "stdout",
     "output_type": "stream",
     "text": [
      "Train Loss: 0.3844 | Train Acc: 86.44%\n",
      "Test  Loss: 0.6807 | Test Acc: 78.96%\n",
      "--------------------------------------------------\n",
      "[Epoch 112/180] :\n"
     ]
    },
    {
     "name": "stderr",
     "output_type": "stream",
     "text": [
      "112 Train: 100%|█████| 391/391 [00:19<00:00, 19.55it/s]\n"
     ]
    },
    {
     "name": "stdout",
     "output_type": "stream",
     "text": [
      "Train Loss: 0.3888 | Train Acc: 86.46%\n",
      "Test  Loss: 0.4316 | Test Acc: 85.17%\n",
      "--------------------------------------------------\n",
      "[Epoch 113/180] :\n"
     ]
    },
    {
     "name": "stderr",
     "output_type": "stream",
     "text": [
      "113 Train: 100%|█████| 391/391 [00:20<00:00, 19.10it/s]\n"
     ]
    },
    {
     "name": "stdout",
     "output_type": "stream",
     "text": [
      "Train Loss: 0.3859 | Train Acc: 86.58%\n",
      "Test  Loss: 0.4421 | Test Acc: 85.52%\n",
      "--------------------------------------------------\n",
      "[Epoch 114/180] :\n"
     ]
    },
    {
     "name": "stderr",
     "output_type": "stream",
     "text": [
      "114 Train: 100%|█████| 391/391 [00:19<00:00, 19.64it/s]\n"
     ]
    },
    {
     "name": "stdout",
     "output_type": "stream",
     "text": [
      "Train Loss: 0.3873 | Train Acc: 86.54%\n",
      "Test  Loss: 0.6310 | Test Acc: 80.64%\n",
      "--------------------------------------------------\n",
      "[Epoch 115/180] :\n"
     ]
    },
    {
     "name": "stderr",
     "output_type": "stream",
     "text": [
      "115 Train: 100%|█████| 391/391 [00:19<00:00, 19.76it/s]\n"
     ]
    },
    {
     "name": "stdout",
     "output_type": "stream",
     "text": [
      "Train Loss: 0.3901 | Train Acc: 86.40%\n",
      "Test  Loss: 0.5060 | Test Acc: 83.52%\n",
      "--------------------------------------------------\n",
      "[Epoch 116/180] :\n"
     ]
    },
    {
     "name": "stderr",
     "output_type": "stream",
     "text": [
      "116 Train: 100%|█████| 391/391 [00:19<00:00, 19.71it/s]\n"
     ]
    },
    {
     "name": "stdout",
     "output_type": "stream",
     "text": [
      "Train Loss: 0.3876 | Train Acc: 86.74%\n",
      "Test  Loss: 0.4142 | Test Acc: 86.27%\n",
      "--------------------------------------------------\n",
      "[Epoch 117/180] :\n"
     ]
    },
    {
     "name": "stderr",
     "output_type": "stream",
     "text": [
      "117 Train: 100%|█████| 391/391 [00:20<00:00, 18.81it/s]\n"
     ]
    },
    {
     "name": "stdout",
     "output_type": "stream",
     "text": [
      "Train Loss: 0.3815 | Train Acc: 86.81%\n",
      "Test  Loss: 0.4938 | Test Acc: 84.13%\n",
      "--------------------------------------------------\n",
      "[Epoch 118/180] :\n"
     ]
    },
    {
     "name": "stderr",
     "output_type": "stream",
     "text": [
      "118 Train: 100%|█████| 391/391 [00:19<00:00, 19.86it/s]\n"
     ]
    },
    {
     "name": "stdout",
     "output_type": "stream",
     "text": [
      "Train Loss: 0.3797 | Train Acc: 86.84%\n",
      "Test  Loss: 0.4684 | Test Acc: 85.00%\n",
      "--------------------------------------------------\n",
      "[Epoch 119/180] :\n"
     ]
    },
    {
     "name": "stderr",
     "output_type": "stream",
     "text": [
      "119 Train: 100%|█████| 391/391 [00:19<00:00, 20.50it/s]\n"
     ]
    },
    {
     "name": "stdout",
     "output_type": "stream",
     "text": [
      "Train Loss: 0.3780 | Train Acc: 86.64%\n",
      "Test  Loss: 0.4781 | Test Acc: 84.54%\n",
      "--------------------------------------------------\n",
      "[Epoch 120/180] :\n"
     ]
    },
    {
     "name": "stderr",
     "output_type": "stream",
     "text": [
      "120 Train: 100%|█████| 391/391 [00:18<00:00, 20.77it/s]\n"
     ]
    },
    {
     "name": "stdout",
     "output_type": "stream",
     "text": [
      "Train Loss: 0.3796 | Train Acc: 86.79%\n",
      "Test  Loss: 0.4685 | Test Acc: 84.29%\n",
      "--------------------------------------------------\n",
      "[Epoch 121/180] :\n"
     ]
    },
    {
     "name": "stderr",
     "output_type": "stream",
     "text": [
      "121 Train: 100%|█████| 391/391 [00:19<00:00, 20.12it/s]\n"
     ]
    },
    {
     "name": "stdout",
     "output_type": "stream",
     "text": [
      "Train Loss: 0.3830 | Train Acc: 86.61%\n",
      "Test  Loss: 0.4211 | Test Acc: 86.17%\n",
      "--------------------------------------------------\n",
      "[Epoch 122/180] :\n"
     ]
    },
    {
     "name": "stderr",
     "output_type": "stream",
     "text": [
      "122 Train: 100%|█████| 391/391 [00:19<00:00, 19.86it/s]\n"
     ]
    },
    {
     "name": "stdout",
     "output_type": "stream",
     "text": [
      "Train Loss: 0.3845 | Train Acc: 86.70%\n",
      "Test  Loss: 0.4447 | Test Acc: 85.10%\n",
      "--------------------------------------------------\n",
      "[Epoch 123/180] :\n"
     ]
    },
    {
     "name": "stderr",
     "output_type": "stream",
     "text": [
      "123 Train: 100%|█████| 391/391 [00:20<00:00, 19.22it/s]\n"
     ]
    },
    {
     "name": "stdout",
     "output_type": "stream",
     "text": [
      "Train Loss: 0.3801 | Train Acc: 86.81%\n",
      "Test  Loss: 0.4542 | Test Acc: 84.83%\n",
      "--------------------------------------------------\n",
      "[Epoch 124/180] :\n"
     ]
    },
    {
     "name": "stderr",
     "output_type": "stream",
     "text": [
      "124 Train: 100%|█████| 391/391 [00:20<00:00, 19.26it/s]\n"
     ]
    },
    {
     "name": "stdout",
     "output_type": "stream",
     "text": [
      "Train Loss: 0.3801 | Train Acc: 86.76%\n",
      "Test  Loss: 0.4390 | Test Acc: 85.15%\n",
      "--------------------------------------------------\n",
      "[Epoch 125/180] :\n"
     ]
    },
    {
     "name": "stderr",
     "output_type": "stream",
     "text": [
      "125 Train: 100%|█████| 391/391 [00:20<00:00, 19.30it/s]\n"
     ]
    },
    {
     "name": "stdout",
     "output_type": "stream",
     "text": [
      "Train Loss: 0.3757 | Train Acc: 87.02%\n",
      "Test  Loss: 0.4037 | Test Acc: 86.29%\n",
      "--------------------------------------------------\n",
      "[Epoch 126/180] :\n"
     ]
    },
    {
     "name": "stderr",
     "output_type": "stream",
     "text": [
      "126 Train: 100%|█████| 391/391 [00:19<00:00, 20.29it/s]\n"
     ]
    },
    {
     "name": "stdout",
     "output_type": "stream",
     "text": [
      "Train Loss: 0.3771 | Train Acc: 86.98%\n",
      "Test  Loss: 0.4646 | Test Acc: 84.53%\n",
      "--------------------------------------------------\n",
      "[Epoch 127/180] :\n"
     ]
    },
    {
     "name": "stderr",
     "output_type": "stream",
     "text": [
      "127 Train: 100%|█████| 391/391 [00:19<00:00, 19.63it/s]\n"
     ]
    },
    {
     "name": "stdout",
     "output_type": "stream",
     "text": [
      "Train Loss: 0.3782 | Train Acc: 86.71%\n",
      "Test  Loss: 0.4460 | Test Acc: 85.19%\n",
      "--------------------------------------------------\n",
      "[Epoch 128/180] :\n"
     ]
    },
    {
     "name": "stderr",
     "output_type": "stream",
     "text": [
      "128 Train: 100%|█████| 391/391 [00:20<00:00, 19.49it/s]\n"
     ]
    },
    {
     "name": "stdout",
     "output_type": "stream",
     "text": [
      "Train Loss: 0.3839 | Train Acc: 86.70%\n",
      "Test  Loss: 0.4288 | Test Acc: 85.81%\n",
      "--------------------------------------------------\n",
      "[Epoch 129/180] :\n"
     ]
    },
    {
     "name": "stderr",
     "output_type": "stream",
     "text": [
      "129 Train: 100%|█████| 391/391 [00:20<00:00, 19.41it/s]\n"
     ]
    },
    {
     "name": "stdout",
     "output_type": "stream",
     "text": [
      "Train Loss: 0.3778 | Train Acc: 86.82%\n",
      "Test  Loss: 0.5376 | Test Acc: 82.59%\n",
      "--------------------------------------------------\n",
      "[Epoch 130/180] :\n"
     ]
    },
    {
     "name": "stderr",
     "output_type": "stream",
     "text": [
      "130 Train: 100%|█████| 391/391 [00:20<00:00, 19.49it/s]\n"
     ]
    },
    {
     "name": "stdout",
     "output_type": "stream",
     "text": [
      "Train Loss: 0.3773 | Train Acc: 86.96%\n",
      "Test  Loss: 0.4904 | Test Acc: 84.28%\n",
      "--------------------------------------------------\n",
      "[Epoch 131/180] :\n"
     ]
    },
    {
     "name": "stderr",
     "output_type": "stream",
     "text": [
      "131 Train: 100%|█████| 391/391 [00:20<00:00, 19.26it/s]\n"
     ]
    },
    {
     "name": "stdout",
     "output_type": "stream",
     "text": [
      "Train Loss: 0.3797 | Train Acc: 86.92%\n",
      "Test  Loss: 0.5588 | Test Acc: 81.90%\n",
      "--------------------------------------------------\n",
      "[Epoch 132/180] :\n"
     ]
    },
    {
     "name": "stderr",
     "output_type": "stream",
     "text": [
      "132 Train: 100%|█████| 391/391 [00:20<00:00, 18.62it/s]\n"
     ]
    },
    {
     "name": "stdout",
     "output_type": "stream",
     "text": [
      "Train Loss: 0.3801 | Train Acc: 86.69%\n",
      "Test  Loss: 0.4004 | Test Acc: 86.91%\n",
      "--------------------------------------------------\n",
      "[Epoch 133/180] :\n"
     ]
    },
    {
     "name": "stderr",
     "output_type": "stream",
     "text": [
      "133 Train: 100%|█████| 391/391 [00:19<00:00, 19.66it/s]\n"
     ]
    },
    {
     "name": "stdout",
     "output_type": "stream",
     "text": [
      "Train Loss: 0.3718 | Train Acc: 86.98%\n",
      "Test  Loss: 0.4578 | Test Acc: 85.10%\n",
      "--------------------------------------------------\n",
      "[Epoch 134/180] :\n"
     ]
    },
    {
     "name": "stderr",
     "output_type": "stream",
     "text": [
      "134 Train: 100%|█████| 391/391 [00:19<00:00, 20.09it/s]\n"
     ]
    },
    {
     "name": "stdout",
     "output_type": "stream",
     "text": [
      "Train Loss: 0.3790 | Train Acc: 86.73%\n",
      "Test  Loss: 0.4568 | Test Acc: 85.66%\n",
      "--------------------------------------------------\n",
      "[Epoch 135/180] :\n"
     ]
    },
    {
     "name": "stderr",
     "output_type": "stream",
     "text": [
      "135 Train: 100%|█████| 391/391 [00:20<00:00, 19.51it/s]\n"
     ]
    },
    {
     "name": "stdout",
     "output_type": "stream",
     "text": [
      "Train Loss: 0.3765 | Train Acc: 86.87%\n",
      "Test  Loss: 0.5092 | Test Acc: 83.71%\n",
      "--------------------------------------------------\n",
      "[Epoch 136/180] :\n"
     ]
    },
    {
     "name": "stderr",
     "output_type": "stream",
     "text": [
      "136 Train: 100%|█████| 391/391 [00:20<00:00, 19.34it/s]\n"
     ]
    },
    {
     "name": "stdout",
     "output_type": "stream",
     "text": [
      "Train Loss: 0.3796 | Train Acc: 86.62%\n",
      "Test  Loss: 0.4521 | Test Acc: 84.80%\n",
      "--------------------------------------------------\n",
      "[Epoch 137/180] :\n"
     ]
    },
    {
     "name": "stderr",
     "output_type": "stream",
     "text": [
      "137 Train: 100%|█████| 391/391 [00:20<00:00, 19.08it/s]\n"
     ]
    },
    {
     "name": "stdout",
     "output_type": "stream",
     "text": [
      "Train Loss: 0.3814 | Train Acc: 86.62%\n",
      "Test  Loss: 0.4818 | Test Acc: 84.20%\n",
      "--------------------------------------------------\n",
      "[Epoch 138/180] :\n"
     ]
    },
    {
     "name": "stderr",
     "output_type": "stream",
     "text": [
      "138 Train: 100%|█████| 391/391 [00:20<00:00, 18.77it/s]\n"
     ]
    },
    {
     "name": "stdout",
     "output_type": "stream",
     "text": [
      "Train Loss: 0.3774 | Train Acc: 86.82%\n",
      "Test  Loss: 0.3971 | Test Acc: 86.53%\n",
      "--------------------------------------------------\n",
      "[Epoch 139/180] :\n"
     ]
    },
    {
     "name": "stderr",
     "output_type": "stream",
     "text": [
      "139 Train: 100%|█████| 391/391 [00:19<00:00, 20.02it/s]\n"
     ]
    },
    {
     "name": "stdout",
     "output_type": "stream",
     "text": [
      "Train Loss: 0.3804 | Train Acc: 86.91%\n",
      "Test  Loss: 0.4970 | Test Acc: 84.44%\n",
      "--------------------------------------------------\n",
      "[Epoch 140/180] :\n"
     ]
    },
    {
     "name": "stderr",
     "output_type": "stream",
     "text": [
      "140 Train: 100%|█████| 391/391 [00:20<00:00, 18.92it/s]\n"
     ]
    },
    {
     "name": "stdout",
     "output_type": "stream",
     "text": [
      "Train Loss: 0.3741 | Train Acc: 87.21%\n",
      "Test  Loss: 0.4887 | Test Acc: 84.19%\n",
      "--------------------------------------------------\n",
      "[Epoch 141/180] :\n"
     ]
    },
    {
     "name": "stderr",
     "output_type": "stream",
     "text": [
      "141 Train: 100%|█████| 391/391 [00:19<00:00, 19.71it/s]\n"
     ]
    },
    {
     "name": "stdout",
     "output_type": "stream",
     "text": [
      "Train Loss: 0.3787 | Train Acc: 86.85%\n",
      "Test  Loss: 0.5301 | Test Acc: 83.09%\n",
      "--------------------------------------------------\n",
      "[Epoch 142/180] :\n"
     ]
    },
    {
     "name": "stderr",
     "output_type": "stream",
     "text": [
      "142 Train: 100%|█████| 391/391 [00:20<00:00, 18.99it/s]\n"
     ]
    },
    {
     "name": "stdout",
     "output_type": "stream",
     "text": [
      "Train Loss: 0.3805 | Train Acc: 86.94%\n",
      "Test  Loss: 0.3984 | Test Acc: 86.23%\n",
      "--------------------------------------------------\n",
      "[Epoch 143/180] :\n"
     ]
    },
    {
     "name": "stderr",
     "output_type": "stream",
     "text": [
      "143 Train: 100%|█████| 391/391 [00:18<00:00, 20.77it/s]\n"
     ]
    },
    {
     "name": "stdout",
     "output_type": "stream",
     "text": [
      "Train Loss: 0.3761 | Train Acc: 86.91%\n",
      "Test  Loss: 0.4606 | Test Acc: 85.04%\n",
      "--------------------------------------------------\n",
      "[Epoch 144/180] :\n"
     ]
    },
    {
     "name": "stderr",
     "output_type": "stream",
     "text": [
      "144 Train: 100%|█████| 391/391 [00:19<00:00, 19.80it/s]\n"
     ]
    },
    {
     "name": "stdout",
     "output_type": "stream",
     "text": [
      "Train Loss: 0.3692 | Train Acc: 87.02%\n",
      "Test  Loss: 0.4815 | Test Acc: 84.43%\n",
      "--------------------------------------------------\n",
      "[Epoch 145/180] :\n"
     ]
    },
    {
     "name": "stderr",
     "output_type": "stream",
     "text": [
      "145 Train: 100%|█████| 391/391 [00:20<00:00, 19.18it/s]\n"
     ]
    },
    {
     "name": "stdout",
     "output_type": "stream",
     "text": [
      "Train Loss: 0.3777 | Train Acc: 86.87%\n",
      "Test  Loss: 0.4652 | Test Acc: 84.71%\n",
      "--------------------------------------------------\n",
      "[Epoch 146/180] :\n"
     ]
    },
    {
     "name": "stderr",
     "output_type": "stream",
     "text": [
      "146 Train: 100%|█████| 391/391 [00:19<00:00, 19.61it/s]\n"
     ]
    },
    {
     "name": "stdout",
     "output_type": "stream",
     "text": [
      "Train Loss: 0.3737 | Train Acc: 86.99%\n",
      "Test  Loss: 0.4423 | Test Acc: 85.26%\n",
      "--------------------------------------------------\n",
      "[Epoch 147/180] :\n"
     ]
    },
    {
     "name": "stderr",
     "output_type": "stream",
     "text": [
      "147 Train: 100%|█████| 391/391 [00:20<00:00, 19.25it/s]\n"
     ]
    },
    {
     "name": "stdout",
     "output_type": "stream",
     "text": [
      "Train Loss: 0.3738 | Train Acc: 86.92%\n",
      "Test  Loss: 0.4486 | Test Acc: 85.01%\n",
      "--------------------------------------------------\n",
      "[Epoch 148/180] :\n"
     ]
    },
    {
     "name": "stderr",
     "output_type": "stream",
     "text": [
      "148 Train: 100%|█████| 391/391 [00:19<00:00, 19.93it/s]\n"
     ]
    },
    {
     "name": "stdout",
     "output_type": "stream",
     "text": [
      "Train Loss: 0.3720 | Train Acc: 87.05%\n",
      "Test  Loss: 0.5895 | Test Acc: 81.74%\n",
      "--------------------------------------------------\n",
      "[Epoch 149/180] :\n"
     ]
    },
    {
     "name": "stderr",
     "output_type": "stream",
     "text": [
      "149 Train: 100%|█████| 391/391 [00:19<00:00, 19.95it/s]\n"
     ]
    },
    {
     "name": "stdout",
     "output_type": "stream",
     "text": [
      "Train Loss: 0.3748 | Train Acc: 86.91%\n",
      "Test  Loss: 0.4708 | Test Acc: 84.28%\n",
      "--------------------------------------------------\n",
      "[Epoch 150/180] :\n"
     ]
    },
    {
     "name": "stderr",
     "output_type": "stream",
     "text": [
      "150 Train: 100%|█████| 391/391 [00:20<00:00, 19.47it/s]\n"
     ]
    },
    {
     "name": "stdout",
     "output_type": "stream",
     "text": [
      "Train Loss: 0.3682 | Train Acc: 87.27%\n",
      "Test  Loss: 0.4139 | Test Acc: 86.33%\n",
      "--------------------------------------------------\n",
      "[Epoch 151/180] :\n"
     ]
    },
    {
     "name": "stderr",
     "output_type": "stream",
     "text": [
      "151 Train: 100%|█████| 391/391 [00:20<00:00, 19.29it/s]\n"
     ]
    },
    {
     "name": "stdout",
     "output_type": "stream",
     "text": [
      "Train Loss: 0.3728 | Train Acc: 87.05%\n",
      "Test  Loss: 0.5640 | Test Acc: 81.55%\n",
      "--------------------------------------------------\n",
      "[Epoch 152/180] :\n"
     ]
    },
    {
     "name": "stderr",
     "output_type": "stream",
     "text": [
      "152 Train: 100%|█████| 391/391 [00:20<00:00, 19.52it/s]\n"
     ]
    },
    {
     "name": "stdout",
     "output_type": "stream",
     "text": [
      "Train Loss: 0.3813 | Train Acc: 86.71%\n",
      "Test  Loss: 0.4601 | Test Acc: 84.47%\n",
      "--------------------------------------------------\n",
      "[Epoch 153/180] :\n"
     ]
    },
    {
     "name": "stderr",
     "output_type": "stream",
     "text": [
      "153 Train: 100%|█████| 391/391 [00:20<00:00, 19.30it/s]\n"
     ]
    },
    {
     "name": "stdout",
     "output_type": "stream",
     "text": [
      "Train Loss: 0.3696 | Train Acc: 87.27%\n",
      "Test  Loss: 0.4448 | Test Acc: 85.19%\n",
      "--------------------------------------------------\n",
      "[Epoch 154/180] :\n"
     ]
    },
    {
     "name": "stderr",
     "output_type": "stream",
     "text": [
      "154 Train: 100%|█████| 391/391 [00:20<00:00, 19.51it/s]\n"
     ]
    },
    {
     "name": "stdout",
     "output_type": "stream",
     "text": [
      "Train Loss: 0.3713 | Train Acc: 87.08%\n",
      "Test  Loss: 0.4783 | Test Acc: 84.07%\n",
      "--------------------------------------------------\n",
      "[Epoch 155/180] :\n"
     ]
    },
    {
     "name": "stderr",
     "output_type": "stream",
     "text": [
      "155 Train: 100%|█████| 391/391 [00:19<00:00, 20.10it/s]\n"
     ]
    },
    {
     "name": "stdout",
     "output_type": "stream",
     "text": [
      "Train Loss: 0.3753 | Train Acc: 86.95%\n",
      "Test  Loss: 0.4156 | Test Acc: 86.38%\n",
      "--------------------------------------------------\n",
      "[Epoch 156/180] :\n"
     ]
    },
    {
     "name": "stderr",
     "output_type": "stream",
     "text": [
      "156 Train: 100%|█████| 391/391 [00:19<00:00, 19.93it/s]\n"
     ]
    },
    {
     "name": "stdout",
     "output_type": "stream",
     "text": [
      "Train Loss: 0.3738 | Train Acc: 87.04%\n",
      "Test  Loss: 0.4625 | Test Acc: 84.80%\n",
      "--------------------------------------------------\n",
      "[Epoch 157/180] :\n"
     ]
    },
    {
     "name": "stderr",
     "output_type": "stream",
     "text": [
      "157 Train: 100%|█████| 391/391 [00:19<00:00, 19.70it/s]\n"
     ]
    },
    {
     "name": "stdout",
     "output_type": "stream",
     "text": [
      "Train Loss: 0.3724 | Train Acc: 87.02%\n",
      "Test  Loss: 0.4708 | Test Acc: 84.70%\n",
      "--------------------------------------------------\n",
      "[Epoch 158/180] :\n"
     ]
    },
    {
     "name": "stderr",
     "output_type": "stream",
     "text": [
      "158 Train: 100%|█████| 391/391 [00:19<00:00, 19.86it/s]\n"
     ]
    },
    {
     "name": "stdout",
     "output_type": "stream",
     "text": [
      "Train Loss: 0.3678 | Train Acc: 87.31%\n",
      "Test  Loss: 0.4472 | Test Acc: 84.89%\n",
      "--------------------------------------------------\n",
      "[Epoch 159/180] :\n"
     ]
    },
    {
     "name": "stderr",
     "output_type": "stream",
     "text": [
      "159 Train: 100%|█████| 391/391 [00:19<00:00, 20.14it/s]\n"
     ]
    },
    {
     "name": "stdout",
     "output_type": "stream",
     "text": [
      "Train Loss: 0.3737 | Train Acc: 86.91%\n",
      "Test  Loss: 0.4417 | Test Acc: 85.39%\n",
      "--------------------------------------------------\n",
      "[Epoch 160/180] :\n"
     ]
    },
    {
     "name": "stderr",
     "output_type": "stream",
     "text": [
      "160 Train: 100%|█████| 391/391 [00:19<00:00, 19.68it/s]\n"
     ]
    },
    {
     "name": "stdout",
     "output_type": "stream",
     "text": [
      "Train Loss: 0.3687 | Train Acc: 87.11%\n",
      "Test  Loss: 0.4055 | Test Acc: 86.82%\n",
      "--------------------------------------------------\n",
      "[Epoch 161/180] :\n"
     ]
    },
    {
     "name": "stderr",
     "output_type": "stream",
     "text": [
      "161 Train: 100%|█████| 391/391 [00:20<00:00, 19.30it/s]\n"
     ]
    },
    {
     "name": "stdout",
     "output_type": "stream",
     "text": [
      "Train Loss: 0.3724 | Train Acc: 87.19%\n",
      "Test  Loss: 0.5510 | Test Acc: 81.93%\n",
      "--------------------------------------------------\n",
      "[Epoch 162/180] :\n"
     ]
    },
    {
     "name": "stderr",
     "output_type": "stream",
     "text": [
      "162 Train: 100%|█████| 391/391 [00:18<00:00, 20.81it/s]\n"
     ]
    },
    {
     "name": "stdout",
     "output_type": "stream",
     "text": [
      "Train Loss: 0.3723 | Train Acc: 87.04%\n",
      "Test  Loss: 0.4994 | Test Acc: 84.09%\n",
      "--------------------------------------------------\n",
      "[Epoch 163/180] :\n"
     ]
    },
    {
     "name": "stderr",
     "output_type": "stream",
     "text": [
      "163 Train: 100%|█████| 391/391 [00:11<00:00, 35.21it/s]\n"
     ]
    },
    {
     "name": "stdout",
     "output_type": "stream",
     "text": [
      "Train Loss: 0.3720 | Train Acc: 87.14%\n",
      "Test  Loss: 0.4654 | Test Acc: 84.84%\n",
      "--------------------------------------------------\n",
      "[Epoch 164/180] :\n"
     ]
    },
    {
     "name": "stderr",
     "output_type": "stream",
     "text": [
      "164 Train: 100%|█████| 391/391 [00:10<00:00, 37.89it/s]\n"
     ]
    },
    {
     "name": "stdout",
     "output_type": "stream",
     "text": [
      "Train Loss: 0.3679 | Train Acc: 87.06%\n",
      "Test  Loss: 0.4000 | Test Acc: 86.67%\n",
      "--------------------------------------------------\n",
      "[Epoch 165/180] :\n"
     ]
    },
    {
     "name": "stderr",
     "output_type": "stream",
     "text": [
      "165 Train: 100%|█████| 391/391 [00:10<00:00, 38.34it/s]\n"
     ]
    },
    {
     "name": "stdout",
     "output_type": "stream",
     "text": [
      "Train Loss: 0.3730 | Train Acc: 86.97%\n",
      "Test  Loss: 0.4863 | Test Acc: 83.51%\n",
      "--------------------------------------------------\n",
      "[Epoch 166/180] :\n"
     ]
    },
    {
     "name": "stderr",
     "output_type": "stream",
     "text": [
      "166 Train: 100%|█████| 391/391 [00:10<00:00, 37.82it/s]\n"
     ]
    },
    {
     "name": "stdout",
     "output_type": "stream",
     "text": [
      "Train Loss: 0.3682 | Train Acc: 87.17%\n",
      "Test  Loss: 0.4038 | Test Acc: 86.50%\n",
      "--------------------------------------------------\n",
      "[Epoch 167/180] :\n"
     ]
    },
    {
     "name": "stderr",
     "output_type": "stream",
     "text": [
      "167 Train: 100%|█████| 391/391 [00:10<00:00, 37.46it/s]\n"
     ]
    },
    {
     "name": "stdout",
     "output_type": "stream",
     "text": [
      "Train Loss: 0.3693 | Train Acc: 87.27%\n",
      "Test  Loss: 0.4377 | Test Acc: 85.33%\n",
      "--------------------------------------------------\n",
      "[Epoch 168/180] :\n"
     ]
    },
    {
     "name": "stderr",
     "output_type": "stream",
     "text": [
      "168 Train: 100%|█████| 391/391 [00:10<00:00, 37.12it/s]\n"
     ]
    },
    {
     "name": "stdout",
     "output_type": "stream",
     "text": [
      "Train Loss: 0.3695 | Train Acc: 87.07%\n",
      "Test  Loss: 0.4519 | Test Acc: 84.69%\n",
      "--------------------------------------------------\n",
      "[Epoch 169/180] :\n"
     ]
    },
    {
     "name": "stderr",
     "output_type": "stream",
     "text": [
      "169 Train: 100%|█████| 391/391 [00:11<00:00, 34.74it/s]\n"
     ]
    },
    {
     "name": "stdout",
     "output_type": "stream",
     "text": [
      "Train Loss: 0.3710 | Train Acc: 86.93%\n",
      "Test  Loss: 0.5971 | Test Acc: 80.84%\n",
      "--------------------------------------------------\n",
      "[Epoch 170/180] :\n"
     ]
    },
    {
     "name": "stderr",
     "output_type": "stream",
     "text": [
      "170 Train: 100%|█████| 391/391 [00:14<00:00, 27.25it/s]\n"
     ]
    },
    {
     "name": "stdout",
     "output_type": "stream",
     "text": [
      "Train Loss: 0.3672 | Train Acc: 87.38%\n",
      "Test  Loss: 0.4307 | Test Acc: 85.73%\n",
      "--------------------------------------------------\n",
      "[Epoch 171/180] :\n"
     ]
    },
    {
     "name": "stderr",
     "output_type": "stream",
     "text": [
      "171 Train: 100%|█████| 391/391 [00:14<00:00, 27.29it/s]\n"
     ]
    },
    {
     "name": "stdout",
     "output_type": "stream",
     "text": [
      "Train Loss: 0.3678 | Train Acc: 87.25%\n",
      "Test  Loss: 0.4563 | Test Acc: 84.70%\n",
      "--------------------------------------------------\n",
      "[Epoch 172/180] :\n"
     ]
    },
    {
     "name": "stderr",
     "output_type": "stream",
     "text": [
      "172 Train: 100%|█████| 391/391 [00:14<00:00, 26.33it/s]\n"
     ]
    },
    {
     "name": "stdout",
     "output_type": "stream",
     "text": [
      "Train Loss: 0.3690 | Train Acc: 87.05%\n",
      "Test  Loss: 0.5367 | Test Acc: 82.59%\n",
      "--------------------------------------------------\n",
      "[Epoch 173/180] :\n"
     ]
    },
    {
     "name": "stderr",
     "output_type": "stream",
     "text": [
      "173 Train: 100%|█████| 391/391 [00:14<00:00, 27.33it/s]\n"
     ]
    },
    {
     "name": "stdout",
     "output_type": "stream",
     "text": [
      "Train Loss: 0.3696 | Train Acc: 87.06%\n",
      "Test  Loss: 0.4603 | Test Acc: 84.64%\n",
      "--------------------------------------------------\n",
      "[Epoch 174/180] :\n"
     ]
    },
    {
     "name": "stderr",
     "output_type": "stream",
     "text": [
      "174 Train: 100%|█████| 391/391 [00:14<00:00, 26.08it/s]\n"
     ]
    },
    {
     "name": "stdout",
     "output_type": "stream",
     "text": [
      "Train Loss: 0.3664 | Train Acc: 87.27%\n",
      "Test  Loss: 0.5069 | Test Acc: 83.24%\n",
      "--------------------------------------------------\n",
      "[Epoch 175/180] :\n"
     ]
    },
    {
     "name": "stderr",
     "output_type": "stream",
     "text": [
      "175 Train: 100%|█████| 391/391 [00:14<00:00, 26.98it/s]\n"
     ]
    },
    {
     "name": "stdout",
     "output_type": "stream",
     "text": [
      "Train Loss: 0.3647 | Train Acc: 87.25%\n",
      "Test  Loss: 0.5085 | Test Acc: 83.41%\n",
      "--------------------------------------------------\n",
      "[Epoch 176/180] :\n"
     ]
    },
    {
     "name": "stderr",
     "output_type": "stream",
     "text": [
      "176 Train: 100%|█████| 391/391 [00:15<00:00, 26.06it/s]\n"
     ]
    },
    {
     "name": "stdout",
     "output_type": "stream",
     "text": [
      "Train Loss: 0.3679 | Train Acc: 87.34%\n",
      "Test  Loss: 0.4505 | Test Acc: 85.33%\n",
      "--------------------------------------------------\n",
      "[Epoch 177/180] :\n"
     ]
    },
    {
     "name": "stderr",
     "output_type": "stream",
     "text": [
      "177 Train: 100%|█████| 391/391 [00:15<00:00, 25.89it/s]\n"
     ]
    },
    {
     "name": "stdout",
     "output_type": "stream",
     "text": [
      "Train Loss: 0.3661 | Train Acc: 87.28%\n",
      "Test  Loss: 0.4855 | Test Acc: 83.97%\n",
      "--------------------------------------------------\n",
      "[Epoch 178/180] :\n"
     ]
    },
    {
     "name": "stderr",
     "output_type": "stream",
     "text": [
      "178 Train: 100%|█████| 391/391 [00:14<00:00, 26.10it/s]\n"
     ]
    },
    {
     "name": "stdout",
     "output_type": "stream",
     "text": [
      "Train Loss: 0.3630 | Train Acc: 87.42%\n",
      "Test  Loss: 0.3762 | Test Acc: 87.61%\n",
      "updated best eval loss : 0.37624356905116313\n",
      "--------------------------------------------------\n",
      "[Epoch 179/180] :\n"
     ]
    },
    {
     "name": "stderr",
     "output_type": "stream",
     "text": [
      "179 Train: 100%|█████| 391/391 [00:13<00:00, 29.10it/s]\n"
     ]
    },
    {
     "name": "stdout",
     "output_type": "stream",
     "text": [
      "Train Loss: 0.3641 | Train Acc: 87.36%\n",
      "Test  Loss: 0.4533 | Test Acc: 85.44%\n",
      "--------------------------------------------------\n",
      "[Epoch 180/180] :\n"
     ]
    },
    {
     "name": "stderr",
     "output_type": "stream",
     "text": [
      "180 Train: 100%|█████| 391/391 [00:10<00:00, 37.75it/s]\n"
     ]
    },
    {
     "name": "stdout",
     "output_type": "stream",
     "text": [
      "Train Loss: 0.3642 | Train Acc: 87.37%\n",
      "Test  Loss: 0.4871 | Test Acc: 83.97%\n",
      "--------------------------------------------------\n",
      "[Epoch 181/180] :\n"
     ]
    },
    {
     "name": "stderr",
     "output_type": "stream",
     "text": [
      "181 Train: 100%|█████| 391/391 [00:10<00:00, 37.45it/s]\n"
     ]
    },
    {
     "name": "stdout",
     "output_type": "stream",
     "text": [
      "Train Loss: 0.3651 | Train Acc: 87.17%\n",
      "Test  Loss: 0.4625 | Test Acc: 84.95%\n",
      "--------------------------------------------------\n",
      "[Epoch 182/180] :\n"
     ]
    },
    {
     "name": "stderr",
     "output_type": "stream",
     "text": [
      "182 Train: 100%|█████| 391/391 [00:10<00:00, 37.31it/s]\n"
     ]
    },
    {
     "name": "stdout",
     "output_type": "stream",
     "text": [
      "Train Loss: 0.3680 | Train Acc: 87.18%\n",
      "Test  Loss: 0.5133 | Test Acc: 83.12%\n",
      "--------------------------------------------------\n",
      "[Epoch 183/180] :\n"
     ]
    },
    {
     "name": "stderr",
     "output_type": "stream",
     "text": [
      "183 Train: 100%|█████| 391/391 [00:10<00:00, 36.77it/s]\n"
     ]
    },
    {
     "name": "stdout",
     "output_type": "stream",
     "text": [
      "Train Loss: 0.3677 | Train Acc: 87.12%\n",
      "Test  Loss: 0.3962 | Test Acc: 86.51%\n",
      "--------------------------------------------------\n",
      "[Epoch 184/180] :\n"
     ]
    },
    {
     "name": "stderr",
     "output_type": "stream",
     "text": [
      "184 Train: 100%|█████| 391/391 [00:09<00:00, 40.71it/s]\n"
     ]
    },
    {
     "name": "stdout",
     "output_type": "stream",
     "text": [
      "Train Loss: 0.3662 | Train Acc: 87.25%\n",
      "Test  Loss: 0.4717 | Test Acc: 83.95%\n",
      "--------------------------------------------------\n",
      "[Epoch 185/180] :\n"
     ]
    },
    {
     "name": "stderr",
     "output_type": "stream",
     "text": [
      "185 Train: 100%|█████| 391/391 [00:07<00:00, 55.69it/s]\n"
     ]
    },
    {
     "name": "stdout",
     "output_type": "stream",
     "text": [
      "Train Loss: 0.3642 | Train Acc: 87.34%\n",
      "Test  Loss: 0.4385 | Test Acc: 85.57%\n",
      "--------------------------------------------------\n",
      "[Epoch 186/180] :\n"
     ]
    },
    {
     "name": "stderr",
     "output_type": "stream",
     "text": [
      "186 Train: 100%|█████| 391/391 [00:07<00:00, 54.99it/s]\n"
     ]
    },
    {
     "name": "stdout",
     "output_type": "stream",
     "text": [
      "Train Loss: 0.3632 | Train Acc: 87.27%\n",
      "Test  Loss: 0.4262 | Test Acc: 86.03%\n",
      "--------------------------------------------------\n",
      "[Epoch 187/180] :\n"
     ]
    },
    {
     "name": "stderr",
     "output_type": "stream",
     "text": [
      "187 Train: 100%|█████| 391/391 [00:07<00:00, 55.30it/s]\n"
     ]
    },
    {
     "name": "stdout",
     "output_type": "stream",
     "text": [
      "Train Loss: 0.3726 | Train Acc: 87.13%\n",
      "Test  Loss: 0.6029 | Test Acc: 80.08%\n",
      "--------------------------------------------------\n",
      "[Epoch 188/180] :\n"
     ]
    },
    {
     "name": "stderr",
     "output_type": "stream",
     "text": [
      "188 Train: 100%|█████| 391/391 [00:07<00:00, 53.76it/s]\n"
     ]
    },
    {
     "name": "stdout",
     "output_type": "stream",
     "text": [
      "Train Loss: 0.3655 | Train Acc: 87.37%\n",
      "Test  Loss: 0.4532 | Test Acc: 85.04%\n",
      "--------------------------------------------------\n",
      "[Epoch 189/180] :\n"
     ]
    },
    {
     "name": "stderr",
     "output_type": "stream",
     "text": [
      "189 Train: 100%|█████| 391/391 [00:07<00:00, 54.79it/s]\n"
     ]
    },
    {
     "name": "stdout",
     "output_type": "stream",
     "text": [
      "Train Loss: 0.3627 | Train Acc: 87.33%\n",
      "Test  Loss: 0.4916 | Test Acc: 84.05%\n",
      "--------------------------------------------------\n",
      "[Epoch 190/180] :\n"
     ]
    },
    {
     "name": "stderr",
     "output_type": "stream",
     "text": [
      "190 Train: 100%|█████| 391/391 [00:07<00:00, 55.05it/s]\n"
     ]
    },
    {
     "name": "stdout",
     "output_type": "stream",
     "text": [
      "Train Loss: 0.3717 | Train Acc: 86.98%\n",
      "Test  Loss: 0.4755 | Test Acc: 84.07%\n",
      "--------------------------------------------------\n",
      "[Epoch 191/180] :\n"
     ]
    },
    {
     "name": "stderr",
     "output_type": "stream",
     "text": [
      "191 Train: 100%|█████| 391/391 [00:07<00:00, 53.23it/s]\n"
     ]
    },
    {
     "name": "stdout",
     "output_type": "stream",
     "text": [
      "Train Loss: 0.3605 | Train Acc: 87.43%\n",
      "Test  Loss: 0.4008 | Test Acc: 86.59%\n",
      "--------------------------------------------------\n",
      "[Epoch 192/180] :\n"
     ]
    },
    {
     "name": "stderr",
     "output_type": "stream",
     "text": [
      "192 Train: 100%|█████| 391/391 [00:07<00:00, 53.02it/s]\n"
     ]
    },
    {
     "name": "stdout",
     "output_type": "stream",
     "text": [
      "Train Loss: 0.3655 | Train Acc: 87.44%\n",
      "Test  Loss: 0.4420 | Test Acc: 85.34%\n",
      "--------------------------------------------------\n",
      "[Epoch 193/180] :\n"
     ]
    },
    {
     "name": "stderr",
     "output_type": "stream",
     "text": [
      "193 Train: 100%|█████| 391/391 [00:07<00:00, 53.22it/s]\n"
     ]
    },
    {
     "name": "stdout",
     "output_type": "stream",
     "text": [
      "Train Loss: 0.3680 | Train Acc: 87.20%\n",
      "Test  Loss: 0.5843 | Test Acc: 80.83%\n",
      "--------------------------------------------------\n",
      "[Epoch 194/180] :\n"
     ]
    },
    {
     "name": "stderr",
     "output_type": "stream",
     "text": [
      "194 Train: 100%|█████| 391/391 [00:07<00:00, 53.11it/s]\n"
     ]
    },
    {
     "name": "stdout",
     "output_type": "stream",
     "text": [
      "Train Loss: 0.3621 | Train Acc: 87.35%\n",
      "Test  Loss: 0.4356 | Test Acc: 85.77%\n",
      "--------------------------------------------------\n",
      "[Epoch 195/180] :\n"
     ]
    },
    {
     "name": "stderr",
     "output_type": "stream",
     "text": [
      "195 Train: 100%|█████| 391/391 [00:07<00:00, 53.62it/s]\n"
     ]
    },
    {
     "name": "stdout",
     "output_type": "stream",
     "text": [
      "Train Loss: 0.3658 | Train Acc: 87.21%\n",
      "Test  Loss: 0.4593 | Test Acc: 84.61%\n",
      "--------------------------------------------------\n",
      "[Epoch 196/180] :\n"
     ]
    },
    {
     "name": "stderr",
     "output_type": "stream",
     "text": [
      "196 Train: 100%|█████| 391/391 [00:07<00:00, 55.37it/s]\n"
     ]
    },
    {
     "name": "stdout",
     "output_type": "stream",
     "text": [
      "Train Loss: 0.3682 | Train Acc: 87.10%\n",
      "Test  Loss: 0.5662 | Test Acc: 81.00%\n",
      "--------------------------------------------------\n",
      "[Epoch 197/180] :\n"
     ]
    },
    {
     "name": "stderr",
     "output_type": "stream",
     "text": [
      "197 Train: 100%|█████| 391/391 [00:07<00:00, 55.49it/s]\n"
     ]
    },
    {
     "name": "stdout",
     "output_type": "stream",
     "text": [
      "Train Loss: 0.3656 | Train Acc: 87.34%\n",
      "Test  Loss: 0.6908 | Test Acc: 78.23%\n",
      "--------------------------------------------------\n",
      "[Epoch 198/180] :\n"
     ]
    },
    {
     "name": "stderr",
     "output_type": "stream",
     "text": [
      "198 Train: 100%|█████| 391/391 [00:07<00:00, 55.60it/s]\n"
     ]
    },
    {
     "name": "stdout",
     "output_type": "stream",
     "text": [
      "Train Loss: 0.3695 | Train Acc: 87.23%\n",
      "Test  Loss: 0.4684 | Test Acc: 84.93%\n",
      "--------------------------------------------------\n",
      "[Epoch 199/180] :\n"
     ]
    },
    {
     "name": "stderr",
     "output_type": "stream",
     "text": [
      "199 Train: 100%|█████| 391/391 [00:07<00:00, 55.44it/s]\n"
     ]
    },
    {
     "name": "stdout",
     "output_type": "stream",
     "text": [
      "Train Loss: 0.3624 | Train Acc: 87.42%\n",
      "Test  Loss: 0.4391 | Test Acc: 85.50%\n",
      "--------------------------------------------------\n",
      "[Epoch 200/180] :\n"
     ]
    },
    {
     "name": "stderr",
     "output_type": "stream",
     "text": [
      "200 Train: 100%|█████| 391/391 [00:07<00:00, 53.69it/s]\n"
     ]
    },
    {
     "name": "stdout",
     "output_type": "stream",
     "text": [
      "Train Loss: 0.3675 | Train Acc: 87.30%\n",
      "Test  Loss: 0.4558 | Test Acc: 85.03%\n",
      "--------------------------------------------------\n",
      "[Epoch 201/180] :\n"
     ]
    },
    {
     "name": "stderr",
     "output_type": "stream",
     "text": [
      "201 Train: 100%|█████| 391/391 [00:07<00:00, 54.84it/s]\n"
     ]
    },
    {
     "name": "stdout",
     "output_type": "stream",
     "text": [
      "Train Loss: 0.3595 | Train Acc: 87.45%\n",
      "Test  Loss: 0.5870 | Test Acc: 80.68%\n",
      "--------------------------------------------------\n",
      "[Epoch 202/180] :\n"
     ]
    },
    {
     "name": "stderr",
     "output_type": "stream",
     "text": [
      "202 Train: 100%|█████| 391/391 [00:07<00:00, 55.22it/s]\n"
     ]
    },
    {
     "name": "stdout",
     "output_type": "stream",
     "text": [
      "Train Loss: 0.3673 | Train Acc: 87.22%\n",
      "Test  Loss: 0.4573 | Test Acc: 84.96%\n",
      "--------------------------------------------------\n"
     ]
    }
   ],
   "source": [
    "Training = DoTraining(\n",
    "    model=model,\n",
    "    criterion=criterion,\n",
    "    optimizer=optimizer,\n",
    "    scaler=scaler,\n",
    "    scheduler=scheduler,\n",
    "    earlystopper=earlystopper,\n",
    "    device=device,\n",
    "    logs=logs,\n",
    "    file_path=file_path,\n",
    ")\n",
    "pre_epochs = len(Training.logs[\"train_loss\"])\n",
    "\n",
    "for epoch in range(NUM_EPOCHS):\n",
    "    now = epoch + 1 + pre_epochs\n",
    "    print(f\"[Epoch {epoch+1+pre_epochs}/{NUM_EPOCHS}] :\")\n",
    "\n",
    "    if DATASET == \"ImageNet2012\":\n",
    "        eval_loss = Training.SingleEpoch(train_dataloader, valid_dataloader)\n",
    "    else:\n",
    "        eval_loss = Training.SingleEpoch(\n",
    "            train_dataloader, valid_dataloader, test_dataloader\n",
    "        )\n",
    "\n",
    "    Training.Save()\n",
    "\n",
    "    \n",
    "    \n",
    "    if earlystopper.check(eval_loss) == True:\n",
    "        break\n",
    "\n",
    "    print(\"-\" * 50)"
   ]
  },
  {
   "cell_type": "code",
   "execution_count": 52,
   "metadata": {},
   "outputs": [
    {
     "data": {
      "image/png": "[encoded data removed]",
      "text/plain": [
       "<Figure size 1000x500 with 2 Axes>"
      ]
     },
     "metadata": {},
     "output_type": "display_data"
    }
   ],
   "source": [
    "view = LogViewer(logs)\n",
    "view.draw()"
   ]
  },
  {
   "cell_type": "code",
   "execution_count": 53,
   "metadata": {},
   "outputs": [
    {
     "name": "stdout",
     "output_type": "stream",
     "text": [
      "1 epoch: train_loss=1.5995, train_acc=0.4201, test_loss=1.4416, test_acc=0.5211, lr=0.0020\n",
      "2 epoch: train_loss=1.1507, train_acc=0.5916, test_loss=1.3564, test_acc=0.5518, lr=0.0020\n",
      "3 epoch: train_loss=0.9804, train_acc=0.6548, test_loss=1.3836, test_acc=0.5583, lr=0.0020\n",
      "4 epoch: train_loss=0.8864, train_acc=0.6927, test_loss=1.1124, test_acc=0.6247, lr=0.0020\n",
      "5 epoch: train_loss=0.8211, train_acc=0.7152, test_loss=1.7593, test_acc=0.5571, lr=0.0020\n",
      "6 epoch: train_loss=0.7707, train_acc=0.7314, test_loss=0.7974, test_acc=0.7334, lr=0.0020\n",
      "7 epoch: train_loss=0.7292, train_acc=0.7445, test_loss=0.8346, test_acc=0.7193, lr=0.0020\n",
      "8 epoch: train_loss=0.6987, train_acc=0.7564, test_loss=0.8465, test_acc=0.7092, lr=0.0020\n",
      "9 epoch: train_loss=0.6752, train_acc=0.7659, test_loss=0.6252, test_acc=0.7896, lr=0.0020\n",
      "10 epoch: train_loss=0.6494, train_acc=0.7754, test_loss=0.8554, test_acc=0.7253, lr=0.0020\n",
      "11 epoch: train_loss=0.6367, train_acc=0.7798, test_loss=0.6630, test_acc=0.7652, lr=0.0020\n",
      "12 epoch: train_loss=0.6213, train_acc=0.7848, test_loss=0.5478, test_acc=0.8148, lr=0.0020\n",
      "13 epoch: train_loss=0.6058, train_acc=0.7899, test_loss=0.8730, test_acc=0.7242, lr=0.0020\n",
      "14 epoch: train_loss=0.5911, train_acc=0.7958, test_loss=0.6744, test_acc=0.7733, lr=0.0020\n",
      "15 epoch: train_loss=0.5842, train_acc=0.7963, test_loss=0.6630, test_acc=0.7820, lr=0.0020\n",
      "16 epoch: train_loss=0.5725, train_acc=0.8010, test_loss=0.5403, test_acc=0.8204, lr=0.0020\n",
      "17 epoch: train_loss=0.5645, train_acc=0.8059, test_loss=0.6116, test_acc=0.7979, lr=0.0020\n",
      "18 epoch: train_loss=0.5534, train_acc=0.8061, test_loss=0.9477, test_acc=0.7142, lr=0.0020\n",
      "19 epoch: train_loss=0.5496, train_acc=0.8099, test_loss=0.6148, test_acc=0.7958, lr=0.0020\n",
      "20 epoch: train_loss=0.5408, train_acc=0.8129, test_loss=0.5518, test_acc=0.8110, lr=0.0020\n",
      "21 epoch: train_loss=0.5266, train_acc=0.8171, test_loss=0.6146, test_acc=0.7927, lr=0.0020\n",
      "22 epoch: train_loss=0.5287, train_acc=0.8154, test_loss=0.5380, test_acc=0.8210, lr=0.0020\n",
      "23 epoch: train_loss=0.5162, train_acc=0.8209, test_loss=0.8239, test_acc=0.7419, lr=0.0020\n",
      "24 epoch: train_loss=0.5172, train_acc=0.8204, test_loss=0.5759, test_acc=0.8115, lr=0.0020\n",
      "25 epoch: train_loss=0.5092, train_acc=0.8248, test_loss=0.6332, test_acc=0.7902, lr=0.0020\n",
      "26 epoch: train_loss=0.5081, train_acc=0.8247, test_loss=0.5112, test_acc=0.8290, lr=0.0020\n",
      "27 epoch: train_loss=0.4984, train_acc=0.8280, test_loss=0.4776, test_acc=0.8389, lr=0.0020\n",
      "28 epoch: train_loss=0.4992, train_acc=0.8258, test_loss=0.5393, test_acc=0.8193, lr=0.0020\n",
      "29 epoch: train_loss=0.4933, train_acc=0.8276, test_loss=0.5628, test_acc=0.8155, lr=0.0020\n",
      "30 epoch: train_loss=0.4897, train_acc=0.8300, test_loss=0.6119, test_acc=0.7952, lr=0.0020\n",
      "31 epoch: train_loss=0.4874, train_acc=0.8301, test_loss=0.6818, test_acc=0.7872, lr=0.0020\n",
      "32 epoch: train_loss=0.4825, train_acc=0.8326, test_loss=0.4945, test_acc=0.8343, lr=0.0020\n",
      "33 epoch: train_loss=0.4774, train_acc=0.8348, test_loss=0.4980, test_acc=0.8355, lr=0.0020\n",
      "34 epoch: train_loss=0.4744, train_acc=0.8352, test_loss=0.4396, test_acc=0.8495, lr=0.0020\n",
      "35 epoch: train_loss=0.4732, train_acc=0.8336, test_loss=0.5320, test_acc=0.8227, lr=0.0020\n",
      "36 epoch: train_loss=0.4753, train_acc=0.8351, test_loss=0.4869, test_acc=0.8317, lr=0.0020\n",
      "37 epoch: train_loss=0.4652, train_acc=0.8392, test_loss=0.4467, test_acc=0.8497, lr=0.0020\n",
      "38 epoch: train_loss=0.4623, train_acc=0.8402, test_loss=0.5008, test_acc=0.8333, lr=0.0020\n",
      "39 epoch: train_loss=0.4595, train_acc=0.8384, test_loss=0.5479, test_acc=0.8160, lr=0.0020\n",
      "40 epoch: train_loss=0.4545, train_acc=0.8413, test_loss=0.5036, test_acc=0.8343, lr=0.0020\n",
      "41 epoch: train_loss=0.4558, train_acc=0.8412, test_loss=0.5599, test_acc=0.8156, lr=0.0020\n",
      "42 epoch: train_loss=0.4568, train_acc=0.8430, test_loss=0.4936, test_acc=0.8351, lr=0.0020\n",
      "43 epoch: train_loss=0.4486, train_acc=0.8450, test_loss=0.5611, test_acc=0.8146, lr=0.0020\n",
      "44 epoch: train_loss=0.4506, train_acc=0.8442, test_loss=0.4462, test_acc=0.8510, lr=0.0020\n",
      "45 epoch: train_loss=0.4484, train_acc=0.8431, test_loss=0.4895, test_acc=0.8393, lr=0.0020\n",
      "46 epoch: train_loss=0.4458, train_acc=0.8452, test_loss=0.4519, test_acc=0.8483, lr=0.0020\n",
      "47 epoch: train_loss=0.4430, train_acc=0.8471, test_loss=0.6377, test_acc=0.8047, lr=0.0020\n",
      "48 epoch: train_loss=0.4380, train_acc=0.8475, test_loss=0.5339, test_acc=0.8275, lr=0.0020\n",
      "49 epoch: train_loss=0.4411, train_acc=0.8477, test_loss=0.4975, test_acc=0.8390, lr=0.0020\n",
      "50 epoch: train_loss=0.4403, train_acc=0.8480, test_loss=0.4659, test_acc=0.8468, lr=0.0020\n",
      "51 epoch: train_loss=0.4406, train_acc=0.8468, test_loss=0.5159, test_acc=0.8238, lr=0.0020\n",
      "52 epoch: train_loss=0.4369, train_acc=0.8481, test_loss=0.5580, test_acc=0.8182, lr=0.0020\n",
      "53 epoch: train_loss=0.4333, train_acc=0.8482, test_loss=0.4561, test_acc=0.8436, lr=0.0020\n",
      "54 epoch: train_loss=0.4297, train_acc=0.8506, test_loss=0.6515, test_acc=0.7910, lr=0.0020\n",
      "55 epoch: train_loss=0.4358, train_acc=0.8482, test_loss=0.4028, test_acc=0.8635, lr=0.0020\n",
      "56 epoch: train_loss=0.4240, train_acc=0.8538, test_loss=0.4600, test_acc=0.8510, lr=0.0020\n",
      "57 epoch: train_loss=0.4292, train_acc=0.8515, test_loss=0.4071, test_acc=0.8627, lr=0.0020\n",
      "58 epoch: train_loss=0.4265, train_acc=0.8520, test_loss=0.4940, test_acc=0.8355, lr=0.0020\n",
      "59 epoch: train_loss=0.4254, train_acc=0.8528, test_loss=0.4803, test_acc=0.8453, lr=0.0020\n",
      "60 epoch: train_loss=0.4211, train_acc=0.8554, test_loss=0.5044, test_acc=0.8348, lr=0.0020\n",
      "61 epoch: train_loss=0.4191, train_acc=0.8558, test_loss=0.7589, test_acc=0.7776, lr=0.0020\n",
      "62 epoch: train_loss=0.4295, train_acc=0.8501, test_loss=0.5251, test_acc=0.8267, lr=0.0020\n",
      "63 epoch: train_loss=0.4204, train_acc=0.8533, test_loss=0.4587, test_acc=0.8491, lr=0.0020\n",
      "64 epoch: train_loss=0.4203, train_acc=0.8553, test_loss=0.5123, test_acc=0.8309, lr=0.0020\n",
      "65 epoch: train_loss=0.4211, train_acc=0.8539, test_loss=0.5349, test_acc=0.8327, lr=0.0020\n",
      "66 epoch: train_loss=0.4131, train_acc=0.8572, test_loss=0.6179, test_acc=0.8026, lr=0.0020\n",
      "67 epoch: train_loss=0.4135, train_acc=0.8565, test_loss=0.4980, test_acc=0.8362, lr=0.0020\n",
      "68 epoch: train_loss=0.4151, train_acc=0.8555, test_loss=0.4183, test_acc=0.8587, lr=0.0020\n",
      "69 epoch: train_loss=0.4130, train_acc=0.8552, test_loss=0.5133, test_acc=0.8285, lr=0.0020\n",
      "70 epoch: train_loss=0.4005, train_acc=0.8596, test_loss=0.5186, test_acc=0.8347, lr=0.0020\n",
      "71 epoch: train_loss=0.4125, train_acc=0.8567, test_loss=0.4437, test_acc=0.8535, lr=0.0020\n",
      "72 epoch: train_loss=0.4089, train_acc=0.8579, test_loss=0.5080, test_acc=0.8339, lr=0.0020\n",
      "73 epoch: train_loss=0.4141, train_acc=0.8560, test_loss=0.5264, test_acc=0.8245, lr=0.0020\n",
      "74 epoch: train_loss=0.4048, train_acc=0.8588, test_loss=0.4271, test_acc=0.8536, lr=0.0020\n",
      "75 epoch: train_loss=0.4043, train_acc=0.8602, test_loss=0.4841, test_acc=0.8396, lr=0.0020\n",
      "76 epoch: train_loss=0.4134, train_acc=0.8569, test_loss=0.5008, test_acc=0.8406, lr=0.0020\n",
      "77 epoch: train_loss=0.4031, train_acc=0.8606, test_loss=0.4678, test_acc=0.8491, lr=0.0020\n",
      "78 epoch: train_loss=0.4075, train_acc=0.8588, test_loss=0.4661, test_acc=0.8507, lr=0.0020\n",
      "79 epoch: train_loss=0.4084, train_acc=0.8584, test_loss=0.4590, test_acc=0.8474, lr=0.0020\n",
      "80 epoch: train_loss=0.3988, train_acc=0.8606, test_loss=0.4472, test_acc=0.8535, lr=0.0020\n",
      "81 epoch: train_loss=0.4071, train_acc=0.8585, test_loss=0.6083, test_acc=0.8112, lr=0.0020\n",
      "82 epoch: train_loss=0.4066, train_acc=0.8604, test_loss=0.5291, test_acc=0.8284, lr=0.0020\n",
      "83 epoch: train_loss=0.4007, train_acc=0.8606, test_loss=0.5126, test_acc=0.8381, lr=0.0020\n",
      "84 epoch: train_loss=0.4049, train_acc=0.8600, test_loss=0.6191, test_acc=0.8078, lr=0.0020\n",
      "85 epoch: train_loss=0.3939, train_acc=0.8621, test_loss=0.5064, test_acc=0.8376, lr=0.0020\n",
      "86 epoch: train_loss=0.3948, train_acc=0.8629, test_loss=0.5048, test_acc=0.8331, lr=0.0020\n",
      "87 epoch: train_loss=0.4042, train_acc=0.8614, test_loss=0.4664, test_acc=0.8428, lr=0.0020\n",
      "88 epoch: train_loss=0.3956, train_acc=0.8610, test_loss=0.5040, test_acc=0.8308, lr=0.0020\n",
      "89 epoch: train_loss=0.3955, train_acc=0.8615, test_loss=0.5614, test_acc=0.8152, lr=0.0020\n",
      "90 epoch: train_loss=0.3985, train_acc=0.8621, test_loss=0.5811, test_acc=0.8218, lr=0.0020\n",
      "91 epoch: train_loss=0.3949, train_acc=0.8625, test_loss=0.5392, test_acc=0.8256, lr=0.0020\n",
      "92 epoch: train_loss=0.3972, train_acc=0.8604, test_loss=0.4856, test_acc=0.8392, lr=0.0020\n",
      "93 epoch: train_loss=0.3926, train_acc=0.8636, test_loss=0.4107, test_acc=0.8640, lr=0.0020\n",
      "94 epoch: train_loss=0.3964, train_acc=0.8620, test_loss=0.5046, test_acc=0.8322, lr=0.0020\n",
      "95 epoch: train_loss=0.3905, train_acc=0.8630, test_loss=0.4586, test_acc=0.8496, lr=0.0020\n",
      "96 epoch: train_loss=0.3932, train_acc=0.8635, test_loss=0.5015, test_acc=0.8388, lr=0.0020\n",
      "97 epoch: train_loss=0.3907, train_acc=0.8644, test_loss=0.5194, test_acc=0.8294, lr=0.0020\n",
      "98 epoch: train_loss=0.3972, train_acc=0.8624, test_loss=0.4723, test_acc=0.8444, lr=0.0020\n",
      "99 epoch: train_loss=0.3910, train_acc=0.8615, test_loss=0.6617, test_acc=0.7946, lr=0.0020\n",
      "100 epoch: train_loss=0.3943, train_acc=0.8615, test_loss=0.5093, test_acc=0.8370, lr=0.0020\n",
      "101 epoch: train_loss=0.3892, train_acc=0.8651, test_loss=0.5630, test_acc=0.8149, lr=0.0020\n",
      "102 epoch: train_loss=0.3872, train_acc=0.8664, test_loss=0.3999, test_acc=0.8644, lr=0.0020\n",
      "103 epoch: train_loss=0.3832, train_acc=0.8672, test_loss=0.4569, test_acc=0.8498, lr=0.0020\n",
      "104 epoch: train_loss=0.3899, train_acc=0.8644, test_loss=0.4704, test_acc=0.8431, lr=0.0020\n",
      "105 epoch: train_loss=0.3922, train_acc=0.8629, test_loss=0.4669, test_acc=0.8485, lr=0.0020\n",
      "106 epoch: train_loss=0.3941, train_acc=0.8638, test_loss=0.4742, test_acc=0.8446, lr=0.0020\n",
      "107 epoch: train_loss=0.3857, train_acc=0.8654, test_loss=0.5542, test_acc=0.8235, lr=0.0020\n",
      "108 epoch: train_loss=0.3841, train_acc=0.8653, test_loss=0.4822, test_acc=0.8404, lr=0.0020\n",
      "109 epoch: train_loss=0.3879, train_acc=0.8659, test_loss=0.5257, test_acc=0.8307, lr=0.0020\n",
      "110 epoch: train_loss=0.3876, train_acc=0.8660, test_loss=0.3823, test_acc=0.8707, lr=0.0020\n",
      "111 epoch: train_loss=0.3844, train_acc=0.8644, test_loss=0.6807, test_acc=0.7896, lr=0.0020\n",
      "112 epoch: train_loss=0.3888, train_acc=0.8646, test_loss=0.4316, test_acc=0.8517, lr=0.0020\n",
      "113 epoch: train_loss=0.3859, train_acc=0.8658, test_loss=0.4421, test_acc=0.8552, lr=0.0020\n",
      "114 epoch: train_loss=0.3873, train_acc=0.8654, test_loss=0.6310, test_acc=0.8064, lr=0.0020\n",
      "115 epoch: train_loss=0.3901, train_acc=0.8640, test_loss=0.5060, test_acc=0.8352, lr=0.0020\n",
      "116 epoch: train_loss=0.3876, train_acc=0.8674, test_loss=0.4142, test_acc=0.8627, lr=0.0020\n",
      "117 epoch: train_loss=0.3815, train_acc=0.8681, test_loss=0.4938, test_acc=0.8413, lr=0.0020\n",
      "118 epoch: train_loss=0.3797, train_acc=0.8684, test_loss=0.4684, test_acc=0.8500, lr=0.0020\n",
      "119 epoch: train_loss=0.3780, train_acc=0.8664, test_loss=0.4781, test_acc=0.8454, lr=0.0020\n",
      "120 epoch: train_loss=0.3796, train_acc=0.8679, test_loss=0.4685, test_acc=0.8429, lr=0.0020\n",
      "121 epoch: train_loss=0.3830, train_acc=0.8661, test_loss=0.4211, test_acc=0.8617, lr=0.0020\n",
      "122 epoch: train_loss=0.3845, train_acc=0.8670, test_loss=0.4447, test_acc=0.8510, lr=0.0020\n",
      "123 epoch: train_loss=0.3801, train_acc=0.8681, test_loss=0.4542, test_acc=0.8483, lr=0.0020\n",
      "124 epoch: train_loss=0.3801, train_acc=0.8676, test_loss=0.4390, test_acc=0.8515, lr=0.0020\n",
      "125 epoch: train_loss=0.3757, train_acc=0.8702, test_loss=0.4037, test_acc=0.8629, lr=0.0020\n",
      "126 epoch: train_loss=0.3771, train_acc=0.8698, test_loss=0.4646, test_acc=0.8453, lr=0.0020\n",
      "127 epoch: train_loss=0.3782, train_acc=0.8671, test_loss=0.4460, test_acc=0.8519, lr=0.0020\n",
      "128 epoch: train_loss=0.3839, train_acc=0.8670, test_loss=0.4288, test_acc=0.8581, lr=0.0020\n",
      "129 epoch: train_loss=0.3778, train_acc=0.8682, test_loss=0.5376, test_acc=0.8259, lr=0.0020\n",
      "130 epoch: train_loss=0.3773, train_acc=0.8696, test_loss=0.4904, test_acc=0.8428, lr=0.0020\n",
      "131 epoch: train_loss=0.3797, train_acc=0.8692, test_loss=0.5588, test_acc=0.8190, lr=0.0020\n",
      "132 epoch: train_loss=0.3801, train_acc=0.8669, test_loss=0.4004, test_acc=0.8691, lr=0.0020\n",
      "133 epoch: train_loss=0.3718, train_acc=0.8698, test_loss=0.4578, test_acc=0.8510, lr=0.0020\n",
      "134 epoch: train_loss=0.3790, train_acc=0.8673, test_loss=0.4568, test_acc=0.8566, lr=0.0020\n",
      "135 epoch: train_loss=0.3765, train_acc=0.8687, test_loss=0.5092, test_acc=0.8371, lr=0.0020\n",
      "136 epoch: train_loss=0.3796, train_acc=0.8662, test_loss=0.4521, test_acc=0.8480, lr=0.0020\n",
      "137 epoch: train_loss=0.3814, train_acc=0.8662, test_loss=0.4818, test_acc=0.8420, lr=0.0020\n",
      "138 epoch: train_loss=0.3774, train_acc=0.8682, test_loss=0.3971, test_acc=0.8653, lr=0.0020\n",
      "139 epoch: train_loss=0.3804, train_acc=0.8691, test_loss=0.4970, test_acc=0.8444, lr=0.0020\n",
      "140 epoch: train_loss=0.3741, train_acc=0.8721, test_loss=0.4887, test_acc=0.8419, lr=0.0020\n",
      "141 epoch: train_loss=0.3787, train_acc=0.8685, test_loss=0.5301, test_acc=0.8309, lr=0.0020\n",
      "142 epoch: train_loss=0.3805, train_acc=0.8694, test_loss=0.3984, test_acc=0.8623, lr=0.0020\n",
      "143 epoch: train_loss=0.3761, train_acc=0.8691, test_loss=0.4606, test_acc=0.8504, lr=0.0020\n",
      "144 epoch: train_loss=0.3692, train_acc=0.8702, test_loss=0.4815, test_acc=0.8443, lr=0.0020\n",
      "145 epoch: train_loss=0.3777, train_acc=0.8687, test_loss=0.4652, test_acc=0.8471, lr=0.0020\n",
      "146 epoch: train_loss=0.3737, train_acc=0.8699, test_loss=0.4423, test_acc=0.8526, lr=0.0020\n",
      "147 epoch: train_loss=0.3738, train_acc=0.8692, test_loss=0.4486, test_acc=0.8501, lr=0.0020\n",
      "148 epoch: train_loss=0.3720, train_acc=0.8705, test_loss=0.5895, test_acc=0.8174, lr=0.0020\n",
      "149 epoch: train_loss=0.3748, train_acc=0.8691, test_loss=0.4708, test_acc=0.8428, lr=0.0020\n",
      "150 epoch: train_loss=0.3682, train_acc=0.8727, test_loss=0.4139, test_acc=0.8633, lr=0.0020\n",
      "151 epoch: train_loss=0.3728, train_acc=0.8705, test_loss=0.5640, test_acc=0.8155, lr=0.0020\n",
      "152 epoch: train_loss=0.3813, train_acc=0.8671, test_loss=0.4601, test_acc=0.8447, lr=0.0020\n",
      "153 epoch: train_loss=0.3696, train_acc=0.8727, test_loss=0.4448, test_acc=0.8519, lr=0.0020\n",
      "154 epoch: train_loss=0.3713, train_acc=0.8708, test_loss=0.4783, test_acc=0.8407, lr=0.0020\n",
      "155 epoch: train_loss=0.3753, train_acc=0.8695, test_loss=0.4156, test_acc=0.8638, lr=0.0020\n",
      "156 epoch: train_loss=0.3738, train_acc=0.8704, test_loss=0.4625, test_acc=0.8480, lr=0.0020\n",
      "157 epoch: train_loss=0.3724, train_acc=0.8702, test_loss=0.4708, test_acc=0.8470, lr=0.0020\n",
      "158 epoch: train_loss=0.3678, train_acc=0.8731, test_loss=0.4472, test_acc=0.8489, lr=0.0020\n",
      "159 epoch: train_loss=0.3737, train_acc=0.8691, test_loss=0.4417, test_acc=0.8539, lr=0.0020\n",
      "160 epoch: train_loss=0.3687, train_acc=0.8711, test_loss=0.4055, test_acc=0.8682, lr=0.0020\n",
      "161 epoch: train_loss=0.3724, train_acc=0.8719, test_loss=0.5510, test_acc=0.8193, lr=0.0020\n",
      "162 epoch: train_loss=0.3723, train_acc=0.8704, test_loss=0.4994, test_acc=0.8409, lr=0.0020\n",
      "163 epoch: train_loss=0.3720, train_acc=0.8714, test_loss=0.4654, test_acc=0.8484, lr=0.0020\n",
      "164 epoch: train_loss=0.3679, train_acc=0.8706, test_loss=0.4000, test_acc=0.8667, lr=0.0020\n",
      "165 epoch: train_loss=0.3730, train_acc=0.8697, test_loss=0.4863, test_acc=0.8351, lr=0.0020\n",
      "166 epoch: train_loss=0.3682, train_acc=0.8717, test_loss=0.4038, test_acc=0.8650, lr=0.0020\n",
      "167 epoch: train_loss=0.3693, train_acc=0.8727, test_loss=0.4377, test_acc=0.8533, lr=0.0020\n",
      "168 epoch: train_loss=0.3695, train_acc=0.8707, test_loss=0.4519, test_acc=0.8469, lr=0.0020\n",
      "169 epoch: train_loss=0.3710, train_acc=0.8693, test_loss=0.5971, test_acc=0.8084, lr=0.0020\n",
      "170 epoch: train_loss=0.3672, train_acc=0.8738, test_loss=0.4307, test_acc=0.8573, lr=0.0020\n",
      "171 epoch: train_loss=0.3678, train_acc=0.8725, test_loss=0.4563, test_acc=0.8470, lr=0.0020\n",
      "172 epoch: train_loss=0.3690, train_acc=0.8705, test_loss=0.5367, test_acc=0.8259, lr=0.0020\n",
      "173 epoch: train_loss=0.3696, train_acc=0.8706, test_loss=0.4603, test_acc=0.8464, lr=0.0020\n",
      "174 epoch: train_loss=0.3664, train_acc=0.8727, test_loss=0.5069, test_acc=0.8324, lr=0.0020\n",
      "175 epoch: train_loss=0.3647, train_acc=0.8725, test_loss=0.5085, test_acc=0.8341, lr=0.0020\n",
      "176 epoch: train_loss=0.3679, train_acc=0.8734, test_loss=0.4505, test_acc=0.8533, lr=0.0020\n",
      "177 epoch: train_loss=0.3661, train_acc=0.8728, test_loss=0.4855, test_acc=0.8397, lr=0.0020\n",
      "178 epoch: train_loss=0.3630, train_acc=0.8742, test_loss=0.3762, test_acc=0.8761, lr=0.0020\n",
      "179 epoch: train_loss=0.3641, train_acc=0.8736, test_loss=0.4533, test_acc=0.8544, lr=0.0020\n",
      "180 epoch: train_loss=0.3642, train_acc=0.8737, test_loss=0.4871, test_acc=0.8397, lr=0.0020\n",
      "181 epoch: train_loss=0.3651, train_acc=0.8717, test_loss=0.4625, test_acc=0.8495, lr=0.0020\n",
      "182 epoch: train_loss=0.3680, train_acc=0.8718, test_loss=0.5133, test_acc=0.8312, lr=0.0020\n",
      "183 epoch: train_loss=0.3677, train_acc=0.8712, test_loss=0.3962, test_acc=0.8651, lr=0.0020\n",
      "184 epoch: train_loss=0.3662, train_acc=0.8725, test_loss=0.4717, test_acc=0.8395, lr=0.0020\n",
      "185 epoch: train_loss=0.3642, train_acc=0.8734, test_loss=0.4385, test_acc=0.8557, lr=0.0020\n",
      "186 epoch: train_loss=0.3632, train_acc=0.8727, test_loss=0.4262, test_acc=0.8603, lr=0.0020\n",
      "187 epoch: train_loss=0.3726, train_acc=0.8713, test_loss=0.6029, test_acc=0.8008, lr=0.0020\n",
      "188 epoch: train_loss=0.3655, train_acc=0.8737, test_loss=0.4532, test_acc=0.8504, lr=0.0020\n",
      "189 epoch: train_loss=0.3627, train_acc=0.8733, test_loss=0.4916, test_acc=0.8405, lr=0.0020\n",
      "190 epoch: train_loss=0.3717, train_acc=0.8698, test_loss=0.4755, test_acc=0.8407, lr=0.0020\n",
      "191 epoch: train_loss=0.3605, train_acc=0.8743, test_loss=0.4008, test_acc=0.8659, lr=0.0020\n",
      "192 epoch: train_loss=0.3655, train_acc=0.8744, test_loss=0.4420, test_acc=0.8534, lr=0.0020\n",
      "193 epoch: train_loss=0.3680, train_acc=0.8720, test_loss=0.5843, test_acc=0.8083, lr=0.0020\n",
      "194 epoch: train_loss=0.3621, train_acc=0.8735, test_loss=0.4356, test_acc=0.8577, lr=0.0020\n",
      "195 epoch: train_loss=0.3658, train_acc=0.8721, test_loss=0.4593, test_acc=0.8461, lr=0.0020\n",
      "196 epoch: train_loss=0.3682, train_acc=0.8710, test_loss=0.5662, test_acc=0.8100, lr=0.0020\n",
      "197 epoch: train_loss=0.3656, train_acc=0.8734, test_loss=0.6908, test_acc=0.7823, lr=0.0020\n",
      "198 epoch: train_loss=0.3695, train_acc=0.8723, test_loss=0.4684, test_acc=0.8493, lr=0.0020\n",
      "199 epoch: train_loss=0.3624, train_acc=0.8742, test_loss=0.4391, test_acc=0.8550, lr=0.0020\n",
      "200 epoch: train_loss=0.3675, train_acc=0.8730, test_loss=0.4558, test_acc=0.8503, lr=0.0020\n",
      "201 epoch: train_loss=0.3595, train_acc=0.8745, test_loss=0.5870, test_acc=0.8068, lr=0.0020\n",
      "202 epoch: train_loss=0.3673, train_acc=0.8722, test_loss=0.4573, test_acc=0.8496, lr=0.0020\n"
     ]
    }
   ],
   "source": [
    "view.print_all()"
   ]
  },
  {
   "cell_type": "code",
   "execution_count": 54,
   "metadata": {},
   "outputs": [],
   "source": [
    "# CHECK = 5410\n",
    "# logs[\"train_loss\"] = logs[\"train_loss\"][:CHECK]\n",
    "# logs[\"train_acc\"] = logs[\"train_acc\"][:CHECK]\n",
    "# logs[\"valid_loss\"] = logs[\"valid_loss\"][:CHECK]\n",
    "# logs[\"valid_acc\"] = logs[\"valid_acc\"][:CHECK]\n",
    "# logs[\"test_loss\"] = logs[\"test_loss\"][:CHECK]\n",
    "# logs[\"test_acc\"] = logs[\"test_acc\"][:CHECK]\n",
    "# model.load_state_dict(torch.load(f\"models/{file_path}.pth\"))"
   ]
  }
 ],
 "metadata": {
  "kernelspec": {
   "display_name": "base",
   "language": "python",
   "name": "python3"
  },
  "language_info": {
   "codemirror_mode": {
    "name": "ipython",
    "version": 3
   },
   "file_extension": ".py",
   "mimetype": "text/x-python",
   "name": "python",
   "nbconvert_exporter": "python",
   "pygments_lexer": "ipython3",
   "version": "3.11.5"
  }
 },
 "nbformat": 4,
 "nbformat_minor": 2
}
