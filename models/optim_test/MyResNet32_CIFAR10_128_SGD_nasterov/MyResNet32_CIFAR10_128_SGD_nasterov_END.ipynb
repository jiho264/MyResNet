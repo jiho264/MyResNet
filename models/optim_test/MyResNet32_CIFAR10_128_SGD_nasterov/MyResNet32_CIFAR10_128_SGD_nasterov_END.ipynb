{
 "cells": [
  {
   "cell_type": "markdown",
   "metadata": {},
   "source": [
    "# Import"
   ]
  },
  {
   "cell_type": "code",
   "execution_count": 35,
   "metadata": {},
   "outputs": [],
   "source": [
    "import torch\n",
    "from torch import nn\n",
    "import torchvision\n",
    "from torch.optim.lr_scheduler import ReduceLROnPlateau, MultiStepLR, CosineAnnealingLR\n",
    "from fvcore.nn import FlopCountAnalysis, flop_count_table\n",
    "import sys, os\n",
    "\n",
    "sys.path.append(os.path.dirname(os.path.abspath(os.path.dirname(\"src\"))))\n",
    "\n",
    "from src.Mydataloader import LoadDataset\n",
    "from src.Mymodel import MyResNet34\n",
    "from src.Mymodel import MyResNet_CIFAR\n",
    "from src.Mytraining import DoTraining\n",
    "from src.Earlystopper import EarlyStopper\n",
    "from src.LogViewer import LogViewer"
   ]
  },
  {
   "cell_type": "markdown",
   "metadata": {},
   "source": [
    "# Setup"
   ]
  },
  {
   "cell_type": "code",
   "execution_count": 36,
   "metadata": {},
   "outputs": [],
   "source": [
    "\"\"\"Dataset selection\"\"\"\n",
    "DATASET = \"CIFAR10\"\n",
    "# DATASET = \"CIFAR100\"\n",
    "# DATASET = \"ImageNet2012\"\n",
    "\n",
    "\"\"\"Dataset parameters\"\"\"\n",
    "BATCH = 128\n",
    "SHUFFLE = True\n",
    "NUMOFWORKERS = 8\n",
    "PIN_MEMORY = True\n",
    "SPLIT_RATIO = 0\n",
    "\n",
    "\"\"\"optimizer parameters\"\"\"\n",
    "# OPTIMIZER = \"Adam\"\n",
    "# OPTIMIZER = \"Adam_decay\"\n",
    "# OPTIMIZER = \"SGD\"\n",
    "OPTIMIZER = \"SGD_nasterov\"\n",
    "# OPTIMIZER = \"AdamW\"\n",
    "# OPTIMIZER = \"AdamW_amsgrad\"\n",
    "# OPTIMIZER = \"NAdam\"\n",
    "\"\"\"Learning rate scheduler parameters\"\"\"\n",
    "NUM_EPOCHS = 180\n",
    "\n",
    "\"\"\"Early stopping parameters\"\"\"\n",
    "EARLYSTOPPINGPATIENCE = 150\n",
    "\n",
    "file_path = f\"MyResNet32_{BATCH}_{OPTIMIZER}\""
   ]
  },
  {
   "cell_type": "code",
   "execution_count": 37,
   "metadata": {},
   "outputs": [
    {
     "data": {
      "text/plain": [
       "'MyResNet34_128_SGD_nasterov'"
      ]
     },
     "execution_count": 37,
     "metadata": {},
     "output_type": "execute_result"
    }
   ],
   "source": [
    "file_path"
   ]
  },
  {
   "cell_type": "markdown",
   "metadata": {},
   "source": [
    "# Loading the dataset"
   ]
  },
  {
   "cell_type": "markdown",
   "metadata": {},
   "source": [
    "## Define Dateloader"
   ]
  },
  {
   "cell_type": "code",
   "execution_count": 38,
   "metadata": {},
   "outputs": [
    {
     "name": "stdout",
     "output_type": "stream",
     "text": [
      "-----------------------------------------------------------------------\n",
      "Dataset :  CIFAR10\n",
      "- Length of Train Set :  50000\n",
      "- Length of Test Set :  10000\n",
      "- Count of Classes :  10\n",
      "-----------------------------------------------------------------------\n"
     ]
    }
   ],
   "source": [
    "tmp = LoadDataset(root=\"../../data\", seceted_dataset=DATASET, split_ratio=SPLIT_RATIO)\n",
    "train_data, valid_data, test_data, COUNT_OF_CLASSES = tmp.Unpack()"
   ]
  },
  {
   "cell_type": "code",
   "execution_count": 39,
   "metadata": {},
   "outputs": [
    {
     "name": "stdout",
     "output_type": "stream",
     "text": [
      "train.transforms = Compose(\n",
      "      AutoAugment(interpolation=InterpolationMode.NEAREST, policy=AutoAugmentPolicy.CIFAR10)\n",
      "      RandomCrop(size=(32, 32), padding=[4, 4, 4, 4], pad_if_needed=False, fill=0, padding_mode=constant)\n",
      "      RandomHorizontalFlip(p=0.5)\n",
      "      ToTensor()\n",
      "      Normalize(mean=[0.49139968, 0.48215827, 0.44653124], std=[1, 1, 1], inplace=True)\n",
      ") 128\n",
      "test.transforms = ToTensor() 128\n"
     ]
    }
   ],
   "source": [
    "train_dataloader, valid_dataloader, test_dataloader = tmp.get_dataloader(\n",
    "    batch_size=BATCH, shuffle=SHUFFLE, num_workers=NUMOFWORKERS, pin_memory=PIN_MEMORY\n",
    ")"
   ]
  },
  {
   "cell_type": "markdown",
   "metadata": {},
   "source": [
    "# Define ResNet"
   ]
  },
  {
   "cell_type": "markdown",
   "metadata": {},
   "source": [
    "## Model Confirm"
   ]
  },
  {
   "cell_type": "code",
   "execution_count": 40,
   "metadata": {},
   "outputs": [
    {
     "data": {
      "text/plain": [
       "device(type='cuda')"
      ]
     },
     "execution_count": 40,
     "metadata": {},
     "output_type": "execute_result"
    }
   ],
   "source": [
    "device = torch.device(\"cuda\" if torch.cuda.is_available() else \"cpu\")\n",
    "device"
   ]
  },
  {
   "cell_type": "code",
   "execution_count": 41,
   "metadata": {},
   "outputs": [],
   "source": [
    "model = MyResNet_CIFAR(num_classes=COUNT_OF_CLASSES, num_layer_factor=5).to(device)"
   ]
  },
  {
   "cell_type": "markdown",
   "metadata": {},
   "source": [
    "# Define Training"
   ]
  },
  {
   "cell_type": "markdown",
   "metadata": {},
   "source": [
    "## (1) Define Criterion"
   ]
  },
  {
   "cell_type": "code",
   "execution_count": 42,
   "metadata": {},
   "outputs": [],
   "source": [
    "criterion = nn.CrossEntropyLoss()"
   ]
  },
  {
   "cell_type": "markdown",
   "metadata": {},
   "source": [
    "## (2) Define Optimazer"
   ]
  },
  {
   "cell_type": "code",
   "execution_count": 43,
   "metadata": {},
   "outputs": [],
   "source": [
    "if OPTIMIZER == \"Adam\":\n",
    "    optimizer = torch.optim.Adam(model.parameters())\n",
    "elif OPTIMIZER == \"Adam_decay\":\n",
    "    optimizer = torch.optim.Adam(model.parameters(), weight_decay=1e-4)\n",
    "elif OPTIMIZER == \"SGD\":\n",
    "    optimizer = torch.optim.SGD(\n",
    "        model.parameters(), lr=0.1, momentum=0.9, weight_decay=1e-4\n",
    "    )\n",
    "elif OPTIMIZER == \"SGD_nasterov\":\n",
    "    optimizer = torch.optim.SGD(\n",
    "        model.parameters(), lr=0.1, momentum=0.9, weight_decay=1e-4, nesterov=True\n",
    "    )\n",
    "elif OPTIMIZER == \"AdamW\":\n",
    "    optimizer = torch.optim.AdamW(model.parameters(), weight_decay=1e-4)\n",
    "elif OPTIMIZER == \"AdamW_amsgrad\":\n",
    "    optimizer = torch.optim.AdamW(model.parameters(), weight_decay=1e-4, amsgrad=True)\n",
    "elif OPTIMIZER == \"NAdam\":\n",
    "    optimizer = torch.optim.NAdam(model.parameters(), weight_decay=1e-4)"
   ]
  },
  {
   "cell_type": "markdown",
   "metadata": {},
   "source": [
    "## (3) Define Early Stopping"
   ]
  },
  {
   "cell_type": "code",
   "execution_count": 44,
   "metadata": {},
   "outputs": [],
   "source": [
    "earlystopper = EarlyStopper(patience=EARLYSTOPPINGPATIENCE, model=model, file_name=file_path)"
   ]
  },
  {
   "cell_type": "markdown",
   "metadata": {},
   "source": [
    "## (4) Define Learning Rate schedualer"
   ]
  },
  {
   "cell_type": "code",
   "execution_count": 45,
   "metadata": {},
   "outputs": [],
   "source": [
    "scheduler = CosineAnnealingLR(optimizer, T_max=NUM_EPOCHS, eta_min=0)"
   ]
  },
  {
   "cell_type": "markdown",
   "metadata": {},
   "source": [
    "## (5) Define AMP scaler"
   ]
  },
  {
   "cell_type": "code",
   "execution_count": 46,
   "metadata": {},
   "outputs": [],
   "source": [
    "scaler = torch.cuda.amp.GradScaler(enabled=True)"
   ]
  },
  {
   "cell_type": "markdown",
   "metadata": {},
   "source": [
    "## Load before process"
   ]
  },
  {
   "cell_type": "code",
   "execution_count": 47,
   "metadata": {},
   "outputs": [
    {
     "name": "stdout",
     "output_type": "stream",
     "text": [
      "Suceessfully loaded the All setting and Log file.\n",
      "MyResNet34_128_SGD_nasterov\n",
      "Current epoch is 23\n",
      "Current learning rate: 0.1\n"
     ]
    }
   ],
   "source": [
    "if os.path.exists(file_path + \".pth.tar\"):\n",
    "    # Read checkpoint as desired, e.g.,\n",
    "    checkpoint = torch.load(\n",
    "        file_path + \".pth.tar\",\n",
    "        map_location=lambda storage, loc: storage.cuda(device),\n",
    "    )\n",
    "    model.load_state_dict(checkpoint[\"model\"])\n",
    "    optimizer.load_state_dict(checkpoint[\"optimizer\"])\n",
    "    scaler.load_state_dict(checkpoint[\"scaler\"])\n",
    "    scheduler.load_state_dict(checkpoint[\"scheduler\"])\n",
    "    earlystopper.load_state_dict(checkpoint[\"earlystopper\"])\n",
    "    logs = checkpoint[\"logs\"]\n",
    "\n",
    "    print(\"Suceessfully loaded the All setting and Log file.\")\n",
    "    print(file_path)\n",
    "    print(f\"Current epoch is {len(logs['train_loss'])}\")\n",
    "    print(f\"Current learning rate: {optimizer.param_groups[0]['lr']}\")\n",
    "else:\n",
    "    # Create a dictionary to store the variables\n",
    "    train_loss = []\n",
    "    train_acc = []\n",
    "    eval_loss = []\n",
    "    valid_acc = []\n",
    "    test_loss = []\n",
    "    test_acc = []\n",
    "    lr_log = []\n",
    "    logs = {\n",
    "        \"train_loss\": train_loss,\n",
    "        \"train_acc\": train_acc,\n",
    "        \"valid_loss\": eval_loss,\n",
    "        \"valid_acc\": valid_acc,\n",
    "        \"test_loss\": test_loss,\n",
    "        \"test_acc\": test_acc,\n",
    "        \"lr_log\": lr_log,\n",
    "    }\n",
    "    print(\"File does not exist. Created a new log.\")"
   ]
  },
  {
   "cell_type": "code",
   "execution_count": 48,
   "metadata": {},
   "outputs": [
    {
     "data": {
      "text/plain": [
       "0.1"
      ]
     },
     "execution_count": 48,
     "metadata": {},
     "output_type": "execute_result"
    }
   ],
   "source": [
    "optimizer.param_groups[0][\"lr\"]"
   ]
  },
  {
   "cell_type": "code",
   "execution_count": 49,
   "metadata": {},
   "outputs": [
    {
     "data": {
      "text/plain": [
       "0"
      ]
     },
     "execution_count": 49,
     "metadata": {},
     "output_type": "execute_result"
    }
   ],
   "source": [
    "earlystopper.early_stop_counter"
   ]
  },
  {
   "cell_type": "markdown",
   "metadata": {},
   "source": [
    "# [Training Loop]"
   ]
  },
  {
   "cell_type": "code",
   "execution_count": 50,
   "metadata": {},
   "outputs": [],
   "source": [
    "if valid_data is None:\n",
    "    valid_dataloader = None\n",
    "if test_data is None:\n",
    "    test_dataloader = None"
   ]
  },
  {
   "cell_type": "code",
   "execution_count": 51,
   "metadata": {},
   "outputs": [
    {
     "name": "stdout",
     "output_type": "stream",
     "text": [
      "[Epoch 24/180] :\n"
     ]
    },
    {
     "name": "stderr",
     "output_type": "stream",
     "text": [
      "24 Train: 100%|██████| 391/391 [00:16<00:00, 24.09it/s]"
     ]
    },
    {
     "name": "stdout",
     "output_type": "stream",
     "text": [
      "Train Loss: 0.8993 | Train Acc: 68.76%\n"
     ]
    },
    {
     "name": "stderr",
     "output_type": "stream",
     "text": [
      "\n"
     ]
    },
    {
     "name": "stdout",
     "output_type": "stream",
     "text": [
      "Test  Loss: 1.0570 | Test Acc: 64.80%\n",
      "updated best eval loss : 1.056959408747999\n",
      "--------------------------------------------------\n",
      "[Epoch 25/180] :\n"
     ]
    },
    {
     "name": "stderr",
     "output_type": "stream",
     "text": [
      "25 Train: 100%|██████| 391/391 [00:15<00:00, 25.24it/s]\n"
     ]
    },
    {
     "name": "stdout",
     "output_type": "stream",
     "text": [
      "Train Loss: 0.8367 | Train Acc: 71.12%\n",
      "Test  Loss: 0.7714 | Test Acc: 73.50%\n",
      "updated best eval loss : 0.7713810695877558\n",
      "--------------------------------------------------\n",
      "[Epoch 26/180] :\n"
     ]
    },
    {
     "name": "stderr",
     "output_type": "stream",
     "text": [
      "26 Train: 100%|██████| 391/391 [00:15<00:00, 24.79it/s]\n"
     ]
    },
    {
     "name": "stdout",
     "output_type": "stream",
     "text": [
      "Train Loss: 0.7789 | Train Acc: 72.99%\n",
      "Test  Loss: 0.6795 | Test Acc: 76.76%\n",
      "updated best eval loss : 0.6795277108874502\n",
      "--------------------------------------------------\n",
      "[Epoch 27/180] :\n"
     ]
    },
    {
     "name": "stderr",
     "output_type": "stream",
     "text": [
      "27 Train: 100%|██████| 391/391 [00:15<00:00, 24.74it/s]\n"
     ]
    },
    {
     "name": "stdout",
     "output_type": "stream",
     "text": [
      "Train Loss: 0.7460 | Train Acc: 74.07%\n",
      "Test  Loss: 0.7243 | Test Acc: 74.32%\n",
      "--------------------------------------------------\n",
      "[Epoch 28/180] :\n"
     ]
    },
    {
     "name": "stderr",
     "output_type": "stream",
     "text": [
      "28 Train: 100%|██████| 391/391 [00:16<00:00, 23.62it/s]\n"
     ]
    },
    {
     "name": "stdout",
     "output_type": "stream",
     "text": [
      "Train Loss: 0.7112 | Train Acc: 75.26%\n",
      "Test  Loss: 0.8913 | Test Acc: 69.48%\n",
      "--------------------------------------------------\n",
      "[Epoch 29/180] :\n"
     ]
    },
    {
     "name": "stderr",
     "output_type": "stream",
     "text": [
      "29 Train: 100%|██████| 391/391 [00:15<00:00, 25.12it/s]\n"
     ]
    },
    {
     "name": "stdout",
     "output_type": "stream",
     "text": [
      "Train Loss: 0.6837 | Train Acc: 76.22%\n",
      "Test  Loss: 0.9251 | Test Acc: 72.42%\n",
      "--------------------------------------------------\n",
      "[Epoch 30/180] :\n"
     ]
    },
    {
     "name": "stderr",
     "output_type": "stream",
     "text": [
      "30 Train: 100%|██████| 391/391 [00:16<00:00, 23.95it/s]\n"
     ]
    },
    {
     "name": "stdout",
     "output_type": "stream",
     "text": [
      "Train Loss: 0.6631 | Train Acc: 76.88%\n",
      "Test  Loss: 0.7389 | Test Acc: 75.95%\n",
      "--------------------------------------------------\n",
      "[Epoch 31/180] :\n"
     ]
    },
    {
     "name": "stderr",
     "output_type": "stream",
     "text": [
      "31 Train: 100%|██████| 391/391 [00:15<00:00, 25.40it/s]\n"
     ]
    },
    {
     "name": "stdout",
     "output_type": "stream",
     "text": [
      "Train Loss: 0.6456 | Train Acc: 77.65%\n",
      "Test  Loss: 0.6860 | Test Acc: 76.62%\n",
      "--------------------------------------------------\n",
      "[Epoch 32/180] :\n"
     ]
    },
    {
     "name": "stderr",
     "output_type": "stream",
     "text": [
      "32 Train: 100%|██████| 391/391 [00:16<00:00, 24.18it/s]\n"
     ]
    },
    {
     "name": "stdout",
     "output_type": "stream",
     "text": [
      "Train Loss: 0.6292 | Train Acc: 78.09%\n",
      "Test  Loss: 0.6852 | Test Acc: 77.35%\n",
      "--------------------------------------------------\n",
      "[Epoch 33/180] :\n"
     ]
    },
    {
     "name": "stderr",
     "output_type": "stream",
     "text": [
      "33 Train: 100%|██████| 391/391 [00:15<00:00, 25.29it/s]\n"
     ]
    },
    {
     "name": "stdout",
     "output_type": "stream",
     "text": [
      "Train Loss: 0.6113 | Train Acc: 78.72%\n",
      "Test  Loss: 0.6164 | Test Acc: 78.98%\n",
      "updated best eval loss : 0.6163595126399511\n",
      "--------------------------------------------------\n",
      "[Epoch 34/180] :\n"
     ]
    },
    {
     "name": "stderr",
     "output_type": "stream",
     "text": [
      "34 Train: 100%|██████| 391/391 [00:16<00:00, 23.75it/s]\n"
     ]
    },
    {
     "name": "stdout",
     "output_type": "stream",
     "text": [
      "Train Loss: 0.5978 | Train Acc: 79.29%\n",
      "Test  Loss: 0.9723 | Test Acc: 69.84%\n",
      "--------------------------------------------------\n",
      "[Epoch 35/180] :\n"
     ]
    },
    {
     "name": "stderr",
     "output_type": "stream",
     "text": [
      "35 Train: 100%|██████| 391/391 [00:15<00:00, 24.82it/s]\n"
     ]
    },
    {
     "name": "stdout",
     "output_type": "stream",
     "text": [
      "Train Loss: 0.5935 | Train Acc: 79.54%\n",
      "Test  Loss: 0.6450 | Test Acc: 77.75%\n",
      "--------------------------------------------------\n",
      "[Epoch 36/180] :\n"
     ]
    },
    {
     "name": "stderr",
     "output_type": "stream",
     "text": [
      "36 Train: 100%|██████| 391/391 [00:15<00:00, 25.34it/s]\n"
     ]
    },
    {
     "name": "stdout",
     "output_type": "stream",
     "text": [
      "Train Loss: 0.5774 | Train Acc: 80.01%\n",
      "Test  Loss: 0.5012 | Test Acc: 82.21%\n",
      "updated best eval loss : 0.5012117126319982\n",
      "--------------------------------------------------\n",
      "[Epoch 37/180] :\n"
     ]
    },
    {
     "name": "stderr",
     "output_type": "stream",
     "text": [
      "37 Train: 100%|██████| 391/391 [00:15<00:00, 24.74it/s]\n"
     ]
    },
    {
     "name": "stdout",
     "output_type": "stream",
     "text": [
      "Train Loss: 0.5694 | Train Acc: 80.32%\n",
      "Test  Loss: 0.6502 | Test Acc: 77.75%\n",
      "--------------------------------------------------\n",
      "[Epoch 38/180] :\n"
     ]
    },
    {
     "name": "stderr",
     "output_type": "stream",
     "text": [
      "38 Train: 100%|██████| 391/391 [00:15<00:00, 25.54it/s]\n"
     ]
    },
    {
     "name": "stdout",
     "output_type": "stream",
     "text": [
      "Train Loss: 0.5658 | Train Acc: 80.29%\n",
      "Test  Loss: 0.6589 | Test Acc: 77.29%\n",
      "--------------------------------------------------\n",
      "[Epoch 39/180] :\n"
     ]
    },
    {
     "name": "stderr",
     "output_type": "stream",
     "text": [
      "39 Train: 100%|██████| 391/391 [00:16<00:00, 24.19it/s]\n"
     ]
    },
    {
     "name": "stdout",
     "output_type": "stream",
     "text": [
      "Train Loss: 0.5503 | Train Acc: 80.88%\n",
      "Test  Loss: 0.8109 | Test Acc: 73.24%\n",
      "--------------------------------------------------\n",
      "[Epoch 40/180] :\n"
     ]
    },
    {
     "name": "stderr",
     "output_type": "stream",
     "text": [
      "40 Train: 100%|██████| 391/391 [00:16<00:00, 24.16it/s]\n"
     ]
    },
    {
     "name": "stdout",
     "output_type": "stream",
     "text": [
      "Train Loss: 0.5487 | Train Acc: 80.97%\n",
      "Test  Loss: 0.7360 | Test Acc: 77.08%\n",
      "--------------------------------------------------\n",
      "[Epoch 41/180] :\n"
     ]
    },
    {
     "name": "stderr",
     "output_type": "stream",
     "text": [
      "41 Train: 100%|██████| 391/391 [00:16<00:00, 24.31it/s]\n"
     ]
    },
    {
     "name": "stdout",
     "output_type": "stream",
     "text": [
      "Train Loss: 0.5364 | Train Acc: 81.45%\n",
      "Test  Loss: 0.6688 | Test Acc: 77.32%\n",
      "--------------------------------------------------\n",
      "[Epoch 42/180] :\n"
     ]
    },
    {
     "name": "stderr",
     "output_type": "stream",
     "text": [
      "42 Train: 100%|██████| 391/391 [00:15<00:00, 25.05it/s]\n"
     ]
    },
    {
     "name": "stdout",
     "output_type": "stream",
     "text": [
      "Train Loss: 0.5282 | Train Acc: 81.60%\n",
      "Test  Loss: 0.5988 | Test Acc: 79.49%\n",
      "--------------------------------------------------\n",
      "[Epoch 43/180] :\n"
     ]
    },
    {
     "name": "stderr",
     "output_type": "stream",
     "text": [
      "43 Train: 100%|██████| 391/391 [00:14<00:00, 26.25it/s]\n"
     ]
    },
    {
     "name": "stdout",
     "output_type": "stream",
     "text": [
      "Train Loss: 0.5265 | Train Acc: 81.73%\n",
      "Test  Loss: 0.5995 | Test Acc: 79.41%\n",
      "--------------------------------------------------\n",
      "[Epoch 44/180] :\n"
     ]
    },
    {
     "name": "stderr",
     "output_type": "stream",
     "text": [
      "44 Train: 100%|██████| 391/391 [00:15<00:00, 26.02it/s]\n"
     ]
    },
    {
     "name": "stdout",
     "output_type": "stream",
     "text": [
      "Train Loss: 0.5206 | Train Acc: 81.97%\n",
      "Test  Loss: 0.7311 | Test Acc: 76.82%\n",
      "--------------------------------------------------\n",
      "[Epoch 45/180] :\n"
     ]
    },
    {
     "name": "stderr",
     "output_type": "stream",
     "text": [
      "45 Train: 100%|██████| 391/391 [00:15<00:00, 25.45it/s]\n"
     ]
    },
    {
     "name": "stdout",
     "output_type": "stream",
     "text": [
      "Train Loss: 0.5171 | Train Acc: 82.14%\n",
      "Test  Loss: 0.5607 | Test Acc: 81.02%\n",
      "--------------------------------------------------\n",
      "[Epoch 46/180] :\n"
     ]
    },
    {
     "name": "stderr",
     "output_type": "stream",
     "text": [
      "46 Train: 100%|██████| 391/391 [00:15<00:00, 24.72it/s]\n"
     ]
    },
    {
     "name": "stdout",
     "output_type": "stream",
     "text": [
      "Train Loss: 0.5045 | Train Acc: 82.48%\n",
      "Test  Loss: 0.8533 | Test Acc: 72.96%\n",
      "--------------------------------------------------\n",
      "[Epoch 47/180] :\n"
     ]
    },
    {
     "name": "stderr",
     "output_type": "stream",
     "text": [
      "47 Train: 100%|██████| 391/391 [00:15<00:00, 25.22it/s]\n"
     ]
    },
    {
     "name": "stdout",
     "output_type": "stream",
     "text": [
      "Train Loss: 0.5039 | Train Acc: 82.58%\n",
      "Test  Loss: 0.6065 | Test Acc: 80.20%\n",
      "--------------------------------------------------\n",
      "[Epoch 48/180] :\n"
     ]
    },
    {
     "name": "stderr",
     "output_type": "stream",
     "text": [
      "48 Train: 100%|██████| 391/391 [00:15<00:00, 24.45it/s]\n"
     ]
    },
    {
     "name": "stdout",
     "output_type": "stream",
     "text": [
      "Train Loss: 0.5001 | Train Acc: 82.70%\n",
      "Test  Loss: 0.8072 | Test Acc: 74.47%\n",
      "--------------------------------------------------\n",
      "[Epoch 49/180] :\n"
     ]
    },
    {
     "name": "stderr",
     "output_type": "stream",
     "text": [
      "49 Train: 100%|██████| 391/391 [00:15<00:00, 25.08it/s]\n"
     ]
    },
    {
     "name": "stdout",
     "output_type": "stream",
     "text": [
      "Train Loss: 0.4973 | Train Acc: 82.67%\n",
      "Test  Loss: 0.9050 | Test Acc: 72.22%\n",
      "--------------------------------------------------\n",
      "[Epoch 50/180] :\n"
     ]
    },
    {
     "name": "stderr",
     "output_type": "stream",
     "text": [
      "50 Train: 100%|██████| 391/391 [00:16<00:00, 24.18it/s]\n"
     ]
    },
    {
     "name": "stdout",
     "output_type": "stream",
     "text": [
      "Train Loss: 0.4854 | Train Acc: 83.12%\n",
      "Test  Loss: 0.5770 | Test Acc: 80.93%\n",
      "--------------------------------------------------\n",
      "[Epoch 51/180] :\n"
     ]
    },
    {
     "name": "stderr",
     "output_type": "stream",
     "text": [
      "51 Train: 100%|██████| 391/391 [00:15<00:00, 25.16it/s]\n"
     ]
    },
    {
     "name": "stdout",
     "output_type": "stream",
     "text": [
      "Train Loss: 0.4862 | Train Acc: 83.32%\n",
      "Test  Loss: 0.5164 | Test Acc: 82.13%\n",
      "--------------------------------------------------\n",
      "[Epoch 52/180] :\n"
     ]
    },
    {
     "name": "stderr",
     "output_type": "stream",
     "text": [
      "52 Train: 100%|██████| 391/391 [00:16<00:00, 24.22it/s]\n"
     ]
    },
    {
     "name": "stdout",
     "output_type": "stream",
     "text": [
      "Train Loss: 0.4842 | Train Acc: 83.22%\n",
      "Test  Loss: 0.7381 | Test Acc: 76.03%\n",
      "--------------------------------------------------\n",
      "[Epoch 53/180] :\n"
     ]
    },
    {
     "name": "stderr",
     "output_type": "stream",
     "text": [
      "53 Train: 100%|██████| 391/391 [00:15<00:00, 24.88it/s]\n"
     ]
    },
    {
     "name": "stdout",
     "output_type": "stream",
     "text": [
      "Train Loss: 0.4815 | Train Acc: 83.57%\n",
      "Test  Loss: 0.5815 | Test Acc: 80.46%\n",
      "--------------------------------------------------\n",
      "[Epoch 54/180] :\n"
     ]
    },
    {
     "name": "stderr",
     "output_type": "stream",
     "text": [
      "54 Train: 100%|██████| 391/391 [00:15<00:00, 25.25it/s]\n"
     ]
    },
    {
     "name": "stdout",
     "output_type": "stream",
     "text": [
      "Train Loss: 0.4760 | Train Acc: 83.26%\n",
      "Test  Loss: 0.5923 | Test Acc: 80.67%\n",
      "--------------------------------------------------\n",
      "[Epoch 55/180] :\n"
     ]
    },
    {
     "name": "stderr",
     "output_type": "stream",
     "text": [
      "55 Train: 100%|██████| 391/391 [00:15<00:00, 25.51it/s]\n"
     ]
    },
    {
     "name": "stdout",
     "output_type": "stream",
     "text": [
      "Train Loss: 0.4731 | Train Acc: 83.63%\n",
      "Test  Loss: 0.6774 | Test Acc: 78.62%\n",
      "--------------------------------------------------\n",
      "[Epoch 56/180] :\n"
     ]
    },
    {
     "name": "stderr",
     "output_type": "stream",
     "text": [
      "56 Train: 100%|██████| 391/391 [00:16<00:00, 23.07it/s]\n"
     ]
    },
    {
     "name": "stdout",
     "output_type": "stream",
     "text": [
      "Train Loss: 0.4645 | Train Acc: 83.83%\n",
      "Test  Loss: 0.5457 | Test Acc: 81.94%\n",
      "--------------------------------------------------\n",
      "[Epoch 57/180] :\n"
     ]
    },
    {
     "name": "stderr",
     "output_type": "stream",
     "text": [
      "57 Train: 100%|██████| 391/391 [00:16<00:00, 23.76it/s]\n"
     ]
    },
    {
     "name": "stdout",
     "output_type": "stream",
     "text": [
      "Train Loss: 0.4669 | Train Acc: 83.78%\n",
      "Test  Loss: 0.5341 | Test Acc: 82.17%\n",
      "--------------------------------------------------\n",
      "[Epoch 58/180] :\n"
     ]
    },
    {
     "name": "stderr",
     "output_type": "stream",
     "text": [
      "58 Train: 100%|██████| 391/391 [00:15<00:00, 24.68it/s]\n"
     ]
    },
    {
     "name": "stdout",
     "output_type": "stream",
     "text": [
      "Train Loss: 0.4698 | Train Acc: 83.65%\n",
      "Test  Loss: 0.5494 | Test Acc: 81.97%\n",
      "--------------------------------------------------\n",
      "[Epoch 59/180] :\n"
     ]
    },
    {
     "name": "stderr",
     "output_type": "stream",
     "text": [
      "59 Train: 100%|██████| 391/391 [00:16<00:00, 23.86it/s]\n"
     ]
    },
    {
     "name": "stdout",
     "output_type": "stream",
     "text": [
      "Train Loss: 0.4649 | Train Acc: 83.91%\n",
      "Test  Loss: 0.5340 | Test Acc: 82.70%\n",
      "--------------------------------------------------\n",
      "[Epoch 60/180] :\n"
     ]
    },
    {
     "name": "stderr",
     "output_type": "stream",
     "text": [
      "60 Train: 100%|██████| 391/391 [00:14<00:00, 26.22it/s]\n"
     ]
    },
    {
     "name": "stdout",
     "output_type": "stream",
     "text": [
      "Train Loss: 0.4616 | Train Acc: 84.11%\n",
      "Test  Loss: 0.5772 | Test Acc: 81.01%\n",
      "--------------------------------------------------\n",
      "[Epoch 61/180] :\n"
     ]
    },
    {
     "name": "stderr",
     "output_type": "stream",
     "text": [
      "61 Train: 100%|██████| 391/391 [00:16<00:00, 24.28it/s]\n"
     ]
    },
    {
     "name": "stdout",
     "output_type": "stream",
     "text": [
      "Train Loss: 0.4562 | Train Acc: 84.08%\n",
      "Test  Loss: 0.8819 | Test Acc: 72.09%\n",
      "--------------------------------------------------\n",
      "[Epoch 62/180] :\n"
     ]
    },
    {
     "name": "stderr",
     "output_type": "stream",
     "text": [
      "62 Train: 100%|██████| 391/391 [00:16<00:00, 23.86it/s]\n"
     ]
    },
    {
     "name": "stdout",
     "output_type": "stream",
     "text": [
      "Train Loss: 0.4555 | Train Acc: 84.22%\n",
      "Test  Loss: 0.5638 | Test Acc: 80.96%\n",
      "--------------------------------------------------\n",
      "[Epoch 63/180] :\n"
     ]
    },
    {
     "name": "stderr",
     "output_type": "stream",
     "text": [
      "63 Train: 100%|██████| 391/391 [00:16<00:00, 24.00it/s]\n"
     ]
    },
    {
     "name": "stdout",
     "output_type": "stream",
     "text": [
      "Train Loss: 0.4565 | Train Acc: 84.18%\n",
      "Test  Loss: 0.8341 | Test Acc: 74.05%\n",
      "--------------------------------------------------\n",
      "[Epoch 64/180] :\n"
     ]
    },
    {
     "name": "stderr",
     "output_type": "stream",
     "text": [
      "64 Train: 100%|██████| 391/391 [00:16<00:00, 23.82it/s]\n"
     ]
    },
    {
     "name": "stdout",
     "output_type": "stream",
     "text": [
      "Train Loss: 0.4527 | Train Acc: 84.32%\n",
      "Test  Loss: 0.6383 | Test Acc: 79.52%\n",
      "--------------------------------------------------\n",
      "[Epoch 65/180] :\n"
     ]
    },
    {
     "name": "stderr",
     "output_type": "stream",
     "text": [
      "65 Train: 100%|██████| 391/391 [00:15<00:00, 25.11it/s]\n"
     ]
    },
    {
     "name": "stdout",
     "output_type": "stream",
     "text": [
      "Train Loss: 0.4479 | Train Acc: 84.47%\n",
      "Test  Loss: 0.4959 | Test Acc: 83.15%\n",
      "updated best eval loss : 0.49590233477610574\n",
      "--------------------------------------------------\n",
      "[Epoch 66/180] :\n"
     ]
    },
    {
     "name": "stderr",
     "output_type": "stream",
     "text": [
      "66 Train: 100%|██████| 391/391 [00:15<00:00, 24.72it/s]\n"
     ]
    },
    {
     "name": "stdout",
     "output_type": "stream",
     "text": [
      "Train Loss: 0.4449 | Train Acc: 84.40%\n",
      "Test  Loss: 0.5744 | Test Acc: 81.33%\n",
      "--------------------------------------------------\n",
      "[Epoch 67/180] :\n"
     ]
    },
    {
     "name": "stderr",
     "output_type": "stream",
     "text": [
      "67 Train: 100%|██████| 391/391 [00:15<00:00, 25.37it/s]\n"
     ]
    },
    {
     "name": "stdout",
     "output_type": "stream",
     "text": [
      "Train Loss: 0.4474 | Train Acc: 84.50%\n",
      "Test  Loss: 0.4681 | Test Acc: 84.69%\n",
      "updated best eval loss : 0.4681105843827694\n",
      "--------------------------------------------------\n",
      "[Epoch 68/180] :\n"
     ]
    },
    {
     "name": "stderr",
     "output_type": "stream",
     "text": [
      "68 Train: 100%|██████| 391/391 [00:15<00:00, 25.33it/s]\n"
     ]
    },
    {
     "name": "stdout",
     "output_type": "stream",
     "text": [
      "Train Loss: 0.4425 | Train Acc: 84.68%\n",
      "Test  Loss: 0.6558 | Test Acc: 79.43%\n",
      "--------------------------------------------------\n",
      "[Epoch 69/180] :\n"
     ]
    },
    {
     "name": "stderr",
     "output_type": "stream",
     "text": [
      "69 Train: 100%|██████| 391/391 [00:16<00:00, 23.47it/s]\n"
     ]
    },
    {
     "name": "stdout",
     "output_type": "stream",
     "text": [
      "Train Loss: 0.4394 | Train Acc: 84.91%\n",
      "Test  Loss: 0.5366 | Test Acc: 81.93%\n",
      "--------------------------------------------------\n",
      "[Epoch 70/180] :\n"
     ]
    },
    {
     "name": "stderr",
     "output_type": "stream",
     "text": [
      "70 Train: 100%|██████| 391/391 [00:15<00:00, 24.58it/s]\n"
     ]
    },
    {
     "name": "stdout",
     "output_type": "stream",
     "text": [
      "Train Loss: 0.4381 | Train Acc: 84.73%\n",
      "Test  Loss: 0.6181 | Test Acc: 81.03%\n",
      "--------------------------------------------------\n",
      "[Epoch 71/180] :\n"
     ]
    },
    {
     "name": "stderr",
     "output_type": "stream",
     "text": [
      "71 Train: 100%|██████| 391/391 [00:15<00:00, 25.40it/s]\n"
     ]
    },
    {
     "name": "stdout",
     "output_type": "stream",
     "text": [
      "Train Loss: 0.4336 | Train Acc: 84.95%\n",
      "Test  Loss: 0.4772 | Test Acc: 84.11%\n",
      "--------------------------------------------------\n",
      "[Epoch 72/180] :\n"
     ]
    },
    {
     "name": "stderr",
     "output_type": "stream",
     "text": [
      "72 Train: 100%|██████| 391/391 [00:16<00:00, 23.29it/s]\n"
     ]
    },
    {
     "name": "stdout",
     "output_type": "stream",
     "text": [
      "Train Loss: 0.4322 | Train Acc: 85.06%\n",
      "Test  Loss: 0.6090 | Test Acc: 80.57%\n",
      "--------------------------------------------------\n",
      "[Epoch 73/180] :\n"
     ]
    },
    {
     "name": "stderr",
     "output_type": "stream",
     "text": [
      "73 Train: 100%|██████| 391/391 [00:16<00:00, 24.28it/s]\n"
     ]
    },
    {
     "name": "stdout",
     "output_type": "stream",
     "text": [
      "Train Loss: 0.4309 | Train Acc: 84.96%\n",
      "Test  Loss: 0.4647 | Test Acc: 84.82%\n",
      "updated best eval loss : 0.46469275219531\n",
      "--------------------------------------------------\n",
      "[Epoch 74/180] :\n"
     ]
    },
    {
     "name": "stderr",
     "output_type": "stream",
     "text": [
      "74 Train: 100%|██████| 391/391 [00:15<00:00, 24.79it/s]\n"
     ]
    },
    {
     "name": "stdout",
     "output_type": "stream",
     "text": [
      "Train Loss: 0.4287 | Train Acc: 85.17%\n",
      "Test  Loss: 0.5220 | Test Acc: 82.98%\n",
      "--------------------------------------------------\n",
      "[Epoch 75/180] :\n"
     ]
    },
    {
     "name": "stderr",
     "output_type": "stream",
     "text": [
      "75 Train: 100%|██████| 391/391 [00:16<00:00, 24.02it/s]\n"
     ]
    },
    {
     "name": "stdout",
     "output_type": "stream",
     "text": [
      "Train Loss: 0.4277 | Train Acc: 85.21%\n",
      "Test  Loss: 0.4742 | Test Acc: 84.56%\n",
      "--------------------------------------------------\n",
      "[Epoch 76/180] :\n"
     ]
    },
    {
     "name": "stderr",
     "output_type": "stream",
     "text": [
      "76 Train: 100%|██████| 391/391 [00:15<00:00, 24.93it/s]\n"
     ]
    },
    {
     "name": "stdout",
     "output_type": "stream",
     "text": [
      "Train Loss: 0.4279 | Train Acc: 85.10%\n",
      "Test  Loss: 0.5398 | Test Acc: 82.65%\n",
      "--------------------------------------------------\n",
      "[Epoch 77/180] :\n"
     ]
    },
    {
     "name": "stderr",
     "output_type": "stream",
     "text": [
      "77 Train: 100%|██████| 391/391 [00:15<00:00, 24.67it/s]\n"
     ]
    },
    {
     "name": "stdout",
     "output_type": "stream",
     "text": [
      "Train Loss: 0.4206 | Train Acc: 85.37%\n",
      "Test  Loss: 0.6607 | Test Acc: 79.16%\n",
      "--------------------------------------------------\n",
      "[Epoch 78/180] :\n"
     ]
    },
    {
     "name": "stderr",
     "output_type": "stream",
     "text": [
      "78 Train: 100%|██████| 391/391 [00:15<00:00, 25.54it/s]\n"
     ]
    },
    {
     "name": "stdout",
     "output_type": "stream",
     "text": [
      "Train Loss: 0.4210 | Train Acc: 85.33%\n",
      "Test  Loss: 0.4800 | Test Acc: 84.04%\n",
      "--------------------------------------------------\n",
      "[Epoch 79/180] :\n"
     ]
    },
    {
     "name": "stderr",
     "output_type": "stream",
     "text": [
      "79 Train: 100%|██████| 391/391 [00:14<00:00, 26.14it/s]\n"
     ]
    },
    {
     "name": "stdout",
     "output_type": "stream",
     "text": [
      "Train Loss: 0.4259 | Train Acc: 85.22%\n",
      "Test  Loss: 0.5590 | Test Acc: 82.02%\n",
      "--------------------------------------------------\n",
      "[Epoch 80/180] :\n"
     ]
    },
    {
     "name": "stderr",
     "output_type": "stream",
     "text": [
      "80 Train: 100%|██████| 391/391 [00:15<00:00, 26.00it/s]\n"
     ]
    },
    {
     "name": "stdout",
     "output_type": "stream",
     "text": [
      "Train Loss: 0.4240 | Train Acc: 85.08%\n",
      "Test  Loss: 0.5354 | Test Acc: 82.62%\n",
      "--------------------------------------------------\n",
      "[Epoch 81/180] :\n"
     ]
    },
    {
     "name": "stderr",
     "output_type": "stream",
     "text": [
      "81 Train: 100%|██████| 391/391 [00:16<00:00, 24.42it/s]\n"
     ]
    },
    {
     "name": "stdout",
     "output_type": "stream",
     "text": [
      "Train Loss: 0.4172 | Train Acc: 85.38%\n",
      "Test  Loss: 0.5774 | Test Acc: 80.95%\n",
      "--------------------------------------------------\n",
      "[Epoch 82/180] :\n"
     ]
    },
    {
     "name": "stderr",
     "output_type": "stream",
     "text": [
      "82 Train: 100%|██████| 391/391 [00:15<00:00, 24.76it/s]\n"
     ]
    },
    {
     "name": "stdout",
     "output_type": "stream",
     "text": [
      "Train Loss: 0.4189 | Train Acc: 85.39%\n",
      "Test  Loss: 0.4780 | Test Acc: 84.04%\n",
      "--------------------------------------------------\n",
      "[Epoch 83/180] :\n"
     ]
    },
    {
     "name": "stderr",
     "output_type": "stream",
     "text": [
      "83 Train: 100%|██████| 391/391 [00:16<00:00, 24.36it/s]\n"
     ]
    },
    {
     "name": "stdout",
     "output_type": "stream",
     "text": [
      "Train Loss: 0.4147 | Train Acc: 85.61%\n",
      "Test  Loss: 0.5395 | Test Acc: 82.13%\n",
      "--------------------------------------------------\n",
      "[Epoch 84/180] :\n"
     ]
    },
    {
     "name": "stderr",
     "output_type": "stream",
     "text": [
      "84 Train: 100%|██████| 391/391 [00:15<00:00, 24.80it/s]\n"
     ]
    },
    {
     "name": "stdout",
     "output_type": "stream",
     "text": [
      "Train Loss: 0.4224 | Train Acc: 85.14%\n",
      "Test  Loss: 0.5031 | Test Acc: 83.46%\n",
      "--------------------------------------------------\n",
      "[Epoch 85/180] :\n"
     ]
    },
    {
     "name": "stderr",
     "output_type": "stream",
     "text": [
      "85 Train: 100%|██████| 391/391 [00:15<00:00, 25.97it/s]\n"
     ]
    },
    {
     "name": "stdout",
     "output_type": "stream",
     "text": [
      "Train Loss: 0.4171 | Train Acc: 85.51%\n",
      "Test  Loss: 0.4899 | Test Acc: 83.85%\n",
      "--------------------------------------------------\n",
      "[Epoch 86/180] :\n"
     ]
    },
    {
     "name": "stderr",
     "output_type": "stream",
     "text": [
      "86 Train: 100%|██████| 391/391 [00:15<00:00, 25.18it/s]\n"
     ]
    },
    {
     "name": "stdout",
     "output_type": "stream",
     "text": [
      "Train Loss: 0.4201 | Train Acc: 85.31%\n",
      "Test  Loss: 0.4566 | Test Acc: 84.59%\n",
      "updated best eval loss : 0.45657481913325154\n",
      "--------------------------------------------------\n",
      "[Epoch 87/180] :\n"
     ]
    },
    {
     "name": "stderr",
     "output_type": "stream",
     "text": [
      "87 Train: 100%|██████| 391/391 [00:15<00:00, 24.76it/s]\n"
     ]
    },
    {
     "name": "stdout",
     "output_type": "stream",
     "text": [
      "Train Loss: 0.4116 | Train Acc: 85.86%\n",
      "Test  Loss: 0.7076 | Test Acc: 78.15%\n",
      "--------------------------------------------------\n",
      "[Epoch 88/180] :\n"
     ]
    },
    {
     "name": "stderr",
     "output_type": "stream",
     "text": [
      "88 Train: 100%|██████| 391/391 [00:16<00:00, 24.13it/s]\n"
     ]
    },
    {
     "name": "stdout",
     "output_type": "stream",
     "text": [
      "Train Loss: 0.4160 | Train Acc: 85.65%\n",
      "Test  Loss: 0.7537 | Test Acc: 75.80%\n",
      "--------------------------------------------------\n",
      "[Epoch 89/180] :\n"
     ]
    },
    {
     "name": "stderr",
     "output_type": "stream",
     "text": [
      "89 Train: 100%|██████| 391/391 [00:14<00:00, 26.17it/s]\n"
     ]
    },
    {
     "name": "stdout",
     "output_type": "stream",
     "text": [
      "Train Loss: 0.4088 | Train Acc: 85.85%\n",
      "Test  Loss: 0.4689 | Test Acc: 84.37%\n",
      "--------------------------------------------------\n",
      "[Epoch 90/180] :\n"
     ]
    },
    {
     "name": "stderr",
     "output_type": "stream",
     "text": [
      "90 Train: 100%|██████| 391/391 [00:15<00:00, 25.21it/s]\n"
     ]
    },
    {
     "name": "stdout",
     "output_type": "stream",
     "text": [
      "Train Loss: 0.4136 | Train Acc: 85.63%\n",
      "Test  Loss: 0.5386 | Test Acc: 82.21%\n",
      "--------------------------------------------------\n",
      "[Epoch 91/180] :\n"
     ]
    },
    {
     "name": "stderr",
     "output_type": "stream",
     "text": [
      "91 Train: 100%|██████| 391/391 [00:16<00:00, 23.74it/s]\n"
     ]
    },
    {
     "name": "stdout",
     "output_type": "stream",
     "text": [
      "Train Loss: 0.4105 | Train Acc: 85.71%\n",
      "Test  Loss: 0.5899 | Test Acc: 81.12%\n",
      "--------------------------------------------------\n",
      "[Epoch 92/180] :\n"
     ]
    },
    {
     "name": "stderr",
     "output_type": "stream",
     "text": [
      "92 Train: 100%|██████| 391/391 [00:15<00:00, 24.87it/s]\n"
     ]
    },
    {
     "name": "stdout",
     "output_type": "stream",
     "text": [
      "Train Loss: 0.4145 | Train Acc: 85.43%\n",
      "Test  Loss: 0.4894 | Test Acc: 84.55%\n",
      "--------------------------------------------------\n",
      "[Epoch 93/180] :\n"
     ]
    },
    {
     "name": "stderr",
     "output_type": "stream",
     "text": [
      "93 Train: 100%|██████| 391/391 [00:14<00:00, 26.10it/s]\n"
     ]
    },
    {
     "name": "stdout",
     "output_type": "stream",
     "text": [
      "Train Loss: 0.4048 | Train Acc: 85.82%\n",
      "Test  Loss: 0.5396 | Test Acc: 82.93%\n",
      "--------------------------------------------------\n",
      "[Epoch 94/180] :\n"
     ]
    },
    {
     "name": "stderr",
     "output_type": "stream",
     "text": [
      "94 Train: 100%|██████| 391/391 [00:16<00:00, 23.29it/s]\n"
     ]
    },
    {
     "name": "stdout",
     "output_type": "stream",
     "text": [
      "Train Loss: 0.4097 | Train Acc: 85.62%\n",
      "Test  Loss: 0.5884 | Test Acc: 81.20%\n",
      "--------------------------------------------------\n",
      "[Epoch 95/180] :\n"
     ]
    },
    {
     "name": "stderr",
     "output_type": "stream",
     "text": [
      "95 Train: 100%|██████| 391/391 [00:15<00:00, 24.81it/s]\n"
     ]
    },
    {
     "name": "stdout",
     "output_type": "stream",
     "text": [
      "Train Loss: 0.4058 | Train Acc: 86.03%\n",
      "Test  Loss: 0.4407 | Test Acc: 85.74%\n",
      "updated best eval loss : 0.44066605122783514\n",
      "--------------------------------------------------\n",
      "[Epoch 96/180] :\n"
     ]
    },
    {
     "name": "stderr",
     "output_type": "stream",
     "text": [
      "96 Train: 100%|██████| 391/391 [00:15<00:00, 24.84it/s]\n"
     ]
    },
    {
     "name": "stdout",
     "output_type": "stream",
     "text": [
      "Train Loss: 0.4012 | Train Acc: 86.07%\n",
      "Test  Loss: 0.5765 | Test Acc: 81.95%\n",
      "--------------------------------------------------\n",
      "[Epoch 97/180] :\n"
     ]
    },
    {
     "name": "stderr",
     "output_type": "stream",
     "text": [
      "97 Train: 100%|██████| 391/391 [00:16<00:00, 24.11it/s]\n"
     ]
    },
    {
     "name": "stdout",
     "output_type": "stream",
     "text": [
      "Train Loss: 0.4033 | Train Acc: 85.91%\n",
      "Test  Loss: 0.5332 | Test Acc: 82.48%\n",
      "--------------------------------------------------\n",
      "[Epoch 98/180] :\n"
     ]
    },
    {
     "name": "stderr",
     "output_type": "stream",
     "text": [
      "98 Train: 100%|██████| 391/391 [00:15<00:00, 24.58it/s]\n"
     ]
    },
    {
     "name": "stdout",
     "output_type": "stream",
     "text": [
      "Train Loss: 0.4019 | Train Acc: 86.02%\n",
      "Test  Loss: 0.4643 | Test Acc: 84.29%\n",
      "--------------------------------------------------\n",
      "[Epoch 99/180] :\n"
     ]
    },
    {
     "name": "stderr",
     "output_type": "stream",
     "text": [
      "99 Train: 100%|██████| 391/391 [00:15<00:00, 24.58it/s]\n"
     ]
    },
    {
     "name": "stdout",
     "output_type": "stream",
     "text": [
      "Train Loss: 0.4030 | Train Acc: 86.03%\n",
      "Test  Loss: 0.5065 | Test Acc: 83.59%\n",
      "--------------------------------------------------\n",
      "[Epoch 100/180] :\n"
     ]
    },
    {
     "name": "stderr",
     "output_type": "stream",
     "text": [
      "100 Train: 100%|█████| 391/391 [00:16<00:00, 24.12it/s]\n"
     ]
    },
    {
     "name": "stdout",
     "output_type": "stream",
     "text": [
      "Train Loss: 0.3966 | Train Acc: 86.36%\n",
      "Test  Loss: 0.4567 | Test Acc: 84.81%\n",
      "--------------------------------------------------\n",
      "[Epoch 101/180] :\n"
     ]
    },
    {
     "name": "stderr",
     "output_type": "stream",
     "text": [
      "101 Train: 100%|█████| 391/391 [00:15<00:00, 24.53it/s]\n"
     ]
    },
    {
     "name": "stdout",
     "output_type": "stream",
     "text": [
      "Train Loss: 0.4004 | Train Acc: 86.07%\n",
      "Test  Loss: 0.5669 | Test Acc: 81.71%\n",
      "--------------------------------------------------\n",
      "[Epoch 102/180] :\n"
     ]
    },
    {
     "name": "stderr",
     "output_type": "stream",
     "text": [
      "102 Train: 100%|█████| 391/391 [00:15<00:00, 25.35it/s]\n"
     ]
    },
    {
     "name": "stdout",
     "output_type": "stream",
     "text": [
      "Train Loss: 0.4020 | Train Acc: 86.13%\n",
      "Test  Loss: 0.5131 | Test Acc: 82.90%\n",
      "--------------------------------------------------\n",
      "[Epoch 103/180] :\n"
     ]
    },
    {
     "name": "stderr",
     "output_type": "stream",
     "text": [
      "103 Train: 100%|█████| 391/391 [00:15<00:00, 25.64it/s]\n"
     ]
    },
    {
     "name": "stdout",
     "output_type": "stream",
     "text": [
      "Train Loss: 0.3960 | Train Acc: 86.21%\n",
      "Test  Loss: 0.4454 | Test Acc: 85.39%\n",
      "--------------------------------------------------\n",
      "[Epoch 104/180] :\n"
     ]
    },
    {
     "name": "stderr",
     "output_type": "stream",
     "text": [
      "104 Train: 100%|█████| 391/391 [00:16<00:00, 24.41it/s]\n"
     ]
    },
    {
     "name": "stdout",
     "output_type": "stream",
     "text": [
      "Train Loss: 0.3933 | Train Acc: 86.24%\n",
      "Test  Loss: 0.4934 | Test Acc: 83.91%\n",
      "--------------------------------------------------\n",
      "[Epoch 105/180] :\n"
     ]
    },
    {
     "name": "stderr",
     "output_type": "stream",
     "text": [
      "105 Train: 100%|█████| 391/391 [00:15<00:00, 24.71it/s]\n"
     ]
    },
    {
     "name": "stdout",
     "output_type": "stream",
     "text": [
      "Train Loss: 0.4025 | Train Acc: 85.99%\n",
      "Test  Loss: 0.4909 | Test Acc: 83.57%\n",
      "--------------------------------------------------\n",
      "[Epoch 106/180] :\n"
     ]
    },
    {
     "name": "stderr",
     "output_type": "stream",
     "text": [
      "106 Train: 100%|█████| 391/391 [00:16<00:00, 24.39it/s]\n"
     ]
    },
    {
     "name": "stdout",
     "output_type": "stream",
     "text": [
      "Train Loss: 0.3952 | Train Acc: 86.21%\n",
      "Test  Loss: 0.5669 | Test Acc: 81.77%\n",
      "--------------------------------------------------\n",
      "[Epoch 107/180] :\n"
     ]
    },
    {
     "name": "stderr",
     "output_type": "stream",
     "text": [
      "107 Train: 100%|█████| 391/391 [00:15<00:00, 24.81it/s]\n"
     ]
    },
    {
     "name": "stdout",
     "output_type": "stream",
     "text": [
      "Train Loss: 0.3941 | Train Acc: 86.34%\n",
      "Test  Loss: 0.6866 | Test Acc: 79.00%\n",
      "--------------------------------------------------\n",
      "[Epoch 108/180] :\n"
     ]
    },
    {
     "name": "stderr",
     "output_type": "stream",
     "text": [
      "108 Train: 100%|█████| 391/391 [00:15<00:00, 25.37it/s]\n"
     ]
    },
    {
     "name": "stdout",
     "output_type": "stream",
     "text": [
      "Train Loss: 0.3919 | Train Acc: 86.35%\n",
      "Test  Loss: 0.6079 | Test Acc: 80.35%\n",
      "--------------------------------------------------\n",
      "[Epoch 109/180] :\n"
     ]
    },
    {
     "name": "stderr",
     "output_type": "stream",
     "text": [
      "109 Train: 100%|█████| 391/391 [00:15<00:00, 25.04it/s]\n"
     ]
    },
    {
     "name": "stdout",
     "output_type": "stream",
     "text": [
      "Train Loss: 0.3889 | Train Acc: 86.51%\n",
      "Test  Loss: 0.5524 | Test Acc: 81.78%\n",
      "--------------------------------------------------\n",
      "[Epoch 110/180] :\n"
     ]
    },
    {
     "name": "stderr",
     "output_type": "stream",
     "text": [
      "110 Train: 100%|█████| 391/391 [00:15<00:00, 25.34it/s]\n"
     ]
    },
    {
     "name": "stdout",
     "output_type": "stream",
     "text": [
      "Train Loss: 0.3922 | Train Acc: 86.37%\n",
      "Test  Loss: 0.5204 | Test Acc: 83.51%\n",
      "--------------------------------------------------\n",
      "[Epoch 111/180] :\n"
     ]
    },
    {
     "name": "stderr",
     "output_type": "stream",
     "text": [
      "111 Train: 100%|█████| 391/391 [00:15<00:00, 24.81it/s]\n"
     ]
    },
    {
     "name": "stdout",
     "output_type": "stream",
     "text": [
      "Train Loss: 0.3944 | Train Acc: 86.28%\n",
      "Test  Loss: 0.5268 | Test Acc: 82.71%\n",
      "--------------------------------------------------\n",
      "[Epoch 112/180] :\n"
     ]
    },
    {
     "name": "stderr",
     "output_type": "stream",
     "text": [
      "112 Train: 100%|█████| 391/391 [00:17<00:00, 22.80it/s]\n"
     ]
    },
    {
     "name": "stdout",
     "output_type": "stream",
     "text": [
      "Train Loss: 0.3947 | Train Acc: 86.22%\n",
      "Test  Loss: 0.5216 | Test Acc: 83.45%\n",
      "--------------------------------------------------\n",
      "[Epoch 113/180] :\n"
     ]
    },
    {
     "name": "stderr",
     "output_type": "stream",
     "text": [
      "113 Train: 100%|█████| 391/391 [00:15<00:00, 25.23it/s]\n"
     ]
    },
    {
     "name": "stdout",
     "output_type": "stream",
     "text": [
      "Train Loss: 0.3907 | Train Acc: 86.46%\n",
      "Test  Loss: 0.5468 | Test Acc: 82.18%\n",
      "--------------------------------------------------\n",
      "[Epoch 114/180] :\n"
     ]
    },
    {
     "name": "stderr",
     "output_type": "stream",
     "text": [
      "114 Train: 100%|█████| 391/391 [00:15<00:00, 25.64it/s]\n"
     ]
    },
    {
     "name": "stdout",
     "output_type": "stream",
     "text": [
      "Train Loss: 0.3876 | Train Acc: 86.54%\n",
      "Test  Loss: 0.5821 | Test Acc: 80.48%\n",
      "--------------------------------------------------\n",
      "[Epoch 115/180] :\n"
     ]
    },
    {
     "name": "stderr",
     "output_type": "stream",
     "text": [
      "115 Train: 100%|█████| 391/391 [00:15<00:00, 24.89it/s]\n"
     ]
    },
    {
     "name": "stdout",
     "output_type": "stream",
     "text": [
      "Train Loss: 0.3881 | Train Acc: 86.51%\n",
      "Test  Loss: 0.5171 | Test Acc: 83.09%\n",
      "--------------------------------------------------\n",
      "[Epoch 116/180] :\n"
     ]
    },
    {
     "name": "stderr",
     "output_type": "stream",
     "text": [
      "116 Train: 100%|█████| 391/391 [00:15<00:00, 25.05it/s]\n"
     ]
    },
    {
     "name": "stdout",
     "output_type": "stream",
     "text": [
      "Train Loss: 0.3868 | Train Acc: 86.51%\n",
      "Test  Loss: 0.5202 | Test Acc: 83.04%\n",
      "--------------------------------------------------\n",
      "[Epoch 117/180] :\n"
     ]
    },
    {
     "name": "stderr",
     "output_type": "stream",
     "text": [
      "117 Train: 100%|█████| 391/391 [00:16<00:00, 23.92it/s]\n"
     ]
    },
    {
     "name": "stdout",
     "output_type": "stream",
     "text": [
      "Train Loss: 0.3907 | Train Acc: 86.53%\n",
      "Test  Loss: 0.5393 | Test Acc: 82.16%\n",
      "--------------------------------------------------\n",
      "[Epoch 118/180] :\n"
     ]
    },
    {
     "name": "stderr",
     "output_type": "stream",
     "text": [
      "118 Train: 100%|█████| 391/391 [00:15<00:00, 24.65it/s]\n"
     ]
    },
    {
     "name": "stdout",
     "output_type": "stream",
     "text": [
      "Train Loss: 0.3853 | Train Acc: 86.69%\n",
      "Test  Loss: 0.5076 | Test Acc: 83.34%\n",
      "--------------------------------------------------\n",
      "[Epoch 119/180] :\n"
     ]
    },
    {
     "name": "stderr",
     "output_type": "stream",
     "text": [
      "119 Train: 100%|█████| 391/391 [00:15<00:00, 25.03it/s]\n"
     ]
    },
    {
     "name": "stdout",
     "output_type": "stream",
     "text": [
      "Train Loss: 0.3852 | Train Acc: 86.56%\n",
      "Test  Loss: 0.5605 | Test Acc: 82.65%\n",
      "--------------------------------------------------\n",
      "[Epoch 120/180] :\n"
     ]
    },
    {
     "name": "stderr",
     "output_type": "stream",
     "text": [
      "120 Train: 100%|█████| 391/391 [00:15<00:00, 25.83it/s]\n"
     ]
    },
    {
     "name": "stdout",
     "output_type": "stream",
     "text": [
      "Train Loss: 0.3853 | Train Acc: 86.56%\n",
      "Test  Loss: 0.5083 | Test Acc: 83.40%\n",
      "--------------------------------------------------\n",
      "[Epoch 121/180] :\n"
     ]
    },
    {
     "name": "stderr",
     "output_type": "stream",
     "text": [
      "121 Train: 100%|█████| 391/391 [00:15<00:00, 24.78it/s]\n"
     ]
    },
    {
     "name": "stdout",
     "output_type": "stream",
     "text": [
      "Train Loss: 0.3931 | Train Acc: 86.23%\n",
      "Test  Loss: 0.4986 | Test Acc: 83.64%\n",
      "--------------------------------------------------\n",
      "[Epoch 122/180] :\n"
     ]
    },
    {
     "name": "stderr",
     "output_type": "stream",
     "text": [
      "122 Train: 100%|█████| 391/391 [00:16<00:00, 24.19it/s]\n"
     ]
    },
    {
     "name": "stdout",
     "output_type": "stream",
     "text": [
      "Train Loss: 0.3829 | Train Acc: 86.53%\n",
      "Test  Loss: 0.5102 | Test Acc: 83.18%\n",
      "--------------------------------------------------\n",
      "[Epoch 123/180] :\n"
     ]
    },
    {
     "name": "stderr",
     "output_type": "stream",
     "text": [
      "123 Train: 100%|█████| 391/391 [00:16<00:00, 24.13it/s]\n"
     ]
    },
    {
     "name": "stdout",
     "output_type": "stream",
     "text": [
      "Train Loss: 0.3872 | Train Acc: 86.55%\n",
      "Test  Loss: 0.3968 | Test Acc: 86.82%\n",
      "updated best eval loss : 0.3967994872150542\n",
      "--------------------------------------------------\n",
      "[Epoch 124/180] :\n"
     ]
    },
    {
     "name": "stderr",
     "output_type": "stream",
     "text": [
      "124 Train: 100%|█████| 391/391 [00:15<00:00, 24.78it/s]\n"
     ]
    },
    {
     "name": "stdout",
     "output_type": "stream",
     "text": [
      "Train Loss: 0.3822 | Train Acc: 86.58%\n",
      "Test  Loss: 0.4599 | Test Acc: 84.47%\n",
      "--------------------------------------------------\n",
      "[Epoch 125/180] :\n"
     ]
    },
    {
     "name": "stderr",
     "output_type": "stream",
     "text": [
      "125 Train: 100%|█████| 391/391 [00:15<00:00, 25.03it/s]\n"
     ]
    },
    {
     "name": "stdout",
     "output_type": "stream",
     "text": [
      "Train Loss: 0.3902 | Train Acc: 86.45%\n",
      "Test  Loss: 0.5224 | Test Acc: 82.72%\n",
      "--------------------------------------------------\n",
      "[Epoch 126/180] :\n"
     ]
    },
    {
     "name": "stderr",
     "output_type": "stream",
     "text": [
      "126 Train: 100%|█████| 391/391 [00:15<00:00, 25.10it/s]\n"
     ]
    },
    {
     "name": "stdout",
     "output_type": "stream",
     "text": [
      "Train Loss: 0.3851 | Train Acc: 86.67%\n",
      "Test  Loss: 0.5338 | Test Acc: 82.56%\n",
      "--------------------------------------------------\n",
      "[Epoch 127/180] :\n"
     ]
    },
    {
     "name": "stderr",
     "output_type": "stream",
     "text": [
      "127 Train: 100%|█████| 391/391 [00:15<00:00, 25.40it/s]\n"
     ]
    },
    {
     "name": "stdout",
     "output_type": "stream",
     "text": [
      "Train Loss: 0.3820 | Train Acc: 86.71%\n",
      "Test  Loss: 0.5878 | Test Acc: 80.85%\n",
      "--------------------------------------------------\n",
      "[Epoch 128/180] :\n"
     ]
    },
    {
     "name": "stderr",
     "output_type": "stream",
     "text": [
      "128 Train: 100%|█████| 391/391 [00:15<00:00, 25.55it/s]\n"
     ]
    },
    {
     "name": "stdout",
     "output_type": "stream",
     "text": [
      "Train Loss: 0.3830 | Train Acc: 86.68%\n",
      "Test  Loss: 0.5158 | Test Acc: 82.89%\n",
      "--------------------------------------------------\n",
      "[Epoch 129/180] :\n"
     ]
    },
    {
     "name": "stderr",
     "output_type": "stream",
     "text": [
      "129 Train: 100%|█████| 391/391 [00:15<00:00, 24.46it/s]\n"
     ]
    },
    {
     "name": "stdout",
     "output_type": "stream",
     "text": [
      "Train Loss: 0.3840 | Train Acc: 86.62%\n",
      "Test  Loss: 0.5498 | Test Acc: 82.57%\n",
      "--------------------------------------------------\n",
      "[Epoch 130/180] :\n"
     ]
    },
    {
     "name": "stderr",
     "output_type": "stream",
     "text": [
      "130 Train: 100%|█████| 391/391 [00:16<00:00, 23.52it/s]\n"
     ]
    },
    {
     "name": "stdout",
     "output_type": "stream",
     "text": [
      "Train Loss: 0.3834 | Train Acc: 86.63%\n",
      "Test  Loss: 0.5668 | Test Acc: 81.43%\n",
      "--------------------------------------------------\n",
      "[Epoch 131/180] :\n"
     ]
    },
    {
     "name": "stderr",
     "output_type": "stream",
     "text": [
      "131 Train: 100%|█████| 391/391 [00:15<00:00, 25.33it/s]\n"
     ]
    },
    {
     "name": "stdout",
     "output_type": "stream",
     "text": [
      "Train Loss: 0.3827 | Train Acc: 86.62%\n",
      "Test  Loss: 0.5287 | Test Acc: 83.04%\n",
      "--------------------------------------------------\n",
      "[Epoch 132/180] :\n"
     ]
    },
    {
     "name": "stderr",
     "output_type": "stream",
     "text": [
      "132 Train: 100%|█████| 391/391 [00:15<00:00, 24.65it/s]\n"
     ]
    },
    {
     "name": "stdout",
     "output_type": "stream",
     "text": [
      "Train Loss: 0.3759 | Train Acc: 86.99%\n",
      "Test  Loss: 0.5303 | Test Acc: 82.64%\n",
      "--------------------------------------------------\n",
      "[Epoch 133/180] :\n"
     ]
    },
    {
     "name": "stderr",
     "output_type": "stream",
     "text": [
      "133 Train: 100%|█████| 391/391 [00:15<00:00, 24.90it/s]\n"
     ]
    },
    {
     "name": "stdout",
     "output_type": "stream",
     "text": [
      "Train Loss: 0.3822 | Train Acc: 86.66%\n",
      "Test  Loss: 0.5546 | Test Acc: 81.99%\n",
      "--------------------------------------------------\n",
      "[Epoch 134/180] :\n"
     ]
    },
    {
     "name": "stderr",
     "output_type": "stream",
     "text": [
      "134 Train: 100%|█████| 391/391 [00:16<00:00, 23.52it/s]\n"
     ]
    },
    {
     "name": "stdout",
     "output_type": "stream",
     "text": [
      "Train Loss: 0.3791 | Train Acc: 86.71%\n",
      "Test  Loss: 0.5246 | Test Acc: 82.66%\n",
      "--------------------------------------------------\n",
      "[Epoch 135/180] :\n"
     ]
    },
    {
     "name": "stderr",
     "output_type": "stream",
     "text": [
      "135 Train: 100%|█████| 391/391 [00:16<00:00, 23.84it/s]\n"
     ]
    },
    {
     "name": "stdout",
     "output_type": "stream",
     "text": [
      "Train Loss: 0.3782 | Train Acc: 86.86%\n",
      "Test  Loss: 0.5300 | Test Acc: 82.90%\n",
      "--------------------------------------------------\n",
      "[Epoch 136/180] :\n"
     ]
    },
    {
     "name": "stderr",
     "output_type": "stream",
     "text": [
      "136 Train: 100%|█████| 391/391 [00:15<00:00, 24.85it/s]\n"
     ]
    },
    {
     "name": "stdout",
     "output_type": "stream",
     "text": [
      "Train Loss: 0.3778 | Train Acc: 86.87%\n",
      "Test  Loss: 0.5535 | Test Acc: 81.72%\n",
      "--------------------------------------------------\n",
      "[Epoch 137/180] :\n"
     ]
    },
    {
     "name": "stderr",
     "output_type": "stream",
     "text": [
      "137 Train: 100%|█████| 391/391 [00:15<00:00, 25.92it/s]\n"
     ]
    },
    {
     "name": "stdout",
     "output_type": "stream",
     "text": [
      "Train Loss: 0.3796 | Train Acc: 86.85%\n",
      "Test  Loss: 0.4266 | Test Acc: 85.65%\n",
      "--------------------------------------------------\n",
      "[Epoch 138/180] :\n"
     ]
    },
    {
     "name": "stderr",
     "output_type": "stream",
     "text": [
      "138 Train: 100%|█████| 391/391 [00:16<00:00, 24.23it/s]\n"
     ]
    },
    {
     "name": "stdout",
     "output_type": "stream",
     "text": [
      "Train Loss: 0.3794 | Train Acc: 86.76%\n",
      "Test  Loss: 0.5226 | Test Acc: 82.86%\n",
      "--------------------------------------------------\n",
      "[Epoch 139/180] :\n"
     ]
    },
    {
     "name": "stderr",
     "output_type": "stream",
     "text": [
      "139 Train: 100%|█████| 391/391 [00:15<00:00, 25.70it/s]\n"
     ]
    },
    {
     "name": "stdout",
     "output_type": "stream",
     "text": [
      "Train Loss: 0.3814 | Train Acc: 86.57%\n",
      "Test  Loss: 0.4289 | Test Acc: 86.16%\n",
      "--------------------------------------------------\n",
      "[Epoch 140/180] :\n"
     ]
    },
    {
     "name": "stderr",
     "output_type": "stream",
     "text": [
      "140 Train: 100%|█████| 391/391 [00:15<00:00, 25.12it/s]\n"
     ]
    },
    {
     "name": "stdout",
     "output_type": "stream",
     "text": [
      "Train Loss: 0.3789 | Train Acc: 86.76%\n",
      "Test  Loss: 0.4545 | Test Acc: 85.08%\n",
      "--------------------------------------------------\n",
      "[Epoch 141/180] :\n"
     ]
    },
    {
     "name": "stderr",
     "output_type": "stream",
     "text": [
      "141 Train: 100%|█████| 391/391 [00:15<00:00, 24.62it/s]\n"
     ]
    },
    {
     "name": "stdout",
     "output_type": "stream",
     "text": [
      "Train Loss: 0.3758 | Train Acc: 86.93%\n",
      "Test  Loss: 0.5955 | Test Acc: 81.59%\n",
      "--------------------------------------------------\n",
      "[Epoch 142/180] :\n"
     ]
    },
    {
     "name": "stderr",
     "output_type": "stream",
     "text": [
      "142 Train: 100%|█████| 391/391 [00:15<00:00, 24.44it/s]\n"
     ]
    },
    {
     "name": "stdout",
     "output_type": "stream",
     "text": [
      "Train Loss: 0.3751 | Train Acc: 86.87%\n",
      "Test  Loss: 0.5028 | Test Acc: 83.98%\n",
      "--------------------------------------------------\n",
      "[Epoch 143/180] :\n"
     ]
    },
    {
     "name": "stderr",
     "output_type": "stream",
     "text": [
      "143 Train: 100%|█████| 391/391 [00:15<00:00, 25.08it/s]\n"
     ]
    },
    {
     "name": "stdout",
     "output_type": "stream",
     "text": [
      "Train Loss: 0.3729 | Train Acc: 87.05%\n",
      "Test  Loss: 0.5719 | Test Acc: 81.54%\n",
      "--------------------------------------------------\n",
      "[Epoch 144/180] :\n"
     ]
    },
    {
     "name": "stderr",
     "output_type": "stream",
     "text": [
      "144 Train: 100%|█████| 391/391 [00:12<00:00, 32.17it/s]\n"
     ]
    },
    {
     "name": "stdout",
     "output_type": "stream",
     "text": [
      "Train Loss: 0.3775 | Train Acc: 86.74%\n",
      "Test  Loss: 0.5117 | Test Acc: 82.77%\n",
      "--------------------------------------------------\n",
      "[Epoch 145/180] :\n"
     ]
    },
    {
     "name": "stderr",
     "output_type": "stream",
     "text": [
      "145 Train: 100%|█████| 391/391 [00:12<00:00, 32.48it/s]\n"
     ]
    },
    {
     "name": "stdout",
     "output_type": "stream",
     "text": [
      "Train Loss: 0.3734 | Train Acc: 86.81%\n",
      "Test  Loss: 0.4743 | Test Acc: 84.75%\n",
      "--------------------------------------------------\n",
      "[Epoch 146/180] :\n"
     ]
    },
    {
     "name": "stderr",
     "output_type": "stream",
     "text": [
      "146 Train: 100%|█████| 391/391 [00:12<00:00, 32.07it/s]\n"
     ]
    },
    {
     "name": "stdout",
     "output_type": "stream",
     "text": [
      "Train Loss: 0.3763 | Train Acc: 86.88%\n",
      "Test  Loss: 0.5358 | Test Acc: 82.95%\n",
      "--------------------------------------------------\n",
      "[Epoch 147/180] :\n"
     ]
    },
    {
     "name": "stderr",
     "output_type": "stream",
     "text": [
      "147 Train: 100%|█████| 391/391 [00:11<00:00, 33.11it/s]\n"
     ]
    },
    {
     "name": "stdout",
     "output_type": "stream",
     "text": [
      "Train Loss: 0.3732 | Train Acc: 87.01%\n",
      "Test  Loss: 0.5098 | Test Acc: 83.32%\n",
      "--------------------------------------------------\n",
      "[Epoch 148/180] :\n"
     ]
    },
    {
     "name": "stderr",
     "output_type": "stream",
     "text": [
      "148 Train: 100%|█████| 391/391 [00:12<00:00, 31.38it/s]\n"
     ]
    },
    {
     "name": "stdout",
     "output_type": "stream",
     "text": [
      "Train Loss: 0.3712 | Train Acc: 87.05%\n",
      "Test  Loss: 0.4706 | Test Acc: 84.61%\n",
      "--------------------------------------------------\n",
      "[Epoch 149/180] :\n"
     ]
    },
    {
     "name": "stderr",
     "output_type": "stream",
     "text": [
      "149 Train: 100%|█████| 391/391 [00:12<00:00, 31.77it/s]\n"
     ]
    },
    {
     "name": "stdout",
     "output_type": "stream",
     "text": [
      "Train Loss: 0.3728 | Train Acc: 87.04%\n",
      "Test  Loss: 0.4545 | Test Acc: 84.80%\n",
      "--------------------------------------------------\n",
      "[Epoch 150/180] :\n"
     ]
    },
    {
     "name": "stderr",
     "output_type": "stream",
     "text": [
      "150 Train: 100%|█████| 391/391 [00:14<00:00, 26.12it/s]\n"
     ]
    },
    {
     "name": "stdout",
     "output_type": "stream",
     "text": [
      "Train Loss: 0.3684 | Train Acc: 87.01%\n",
      "Test  Loss: 0.4119 | Test Acc: 86.30%\n",
      "--------------------------------------------------\n",
      "[Epoch 151/180] :\n"
     ]
    },
    {
     "name": "stderr",
     "output_type": "stream",
     "text": [
      "151 Train: 100%|█████| 391/391 [00:15<00:00, 24.70it/s]\n"
     ]
    },
    {
     "name": "stdout",
     "output_type": "stream",
     "text": [
      "Train Loss: 0.3739 | Train Acc: 86.91%\n",
      "Test  Loss: 0.4427 | Test Acc: 85.23%\n",
      "--------------------------------------------------\n",
      "[Epoch 152/180] :\n"
     ]
    },
    {
     "name": "stderr",
     "output_type": "stream",
     "text": [
      "152 Train: 100%|█████| 391/391 [00:16<00:00, 24.32it/s]\n"
     ]
    },
    {
     "name": "stdout",
     "output_type": "stream",
     "text": [
      "Train Loss: 0.3753 | Train Acc: 86.84%\n",
      "Test  Loss: 0.5190 | Test Acc: 83.70%\n",
      "--------------------------------------------------\n",
      "[Epoch 153/180] :\n"
     ]
    },
    {
     "name": "stderr",
     "output_type": "stream",
     "text": [
      "153 Train: 100%|█████| 391/391 [00:16<00:00, 24.41it/s]\n"
     ]
    },
    {
     "name": "stdout",
     "output_type": "stream",
     "text": [
      "Train Loss: 0.3668 | Train Acc: 87.26%\n",
      "Test  Loss: 0.4312 | Test Acc: 85.09%\n",
      "--------------------------------------------------\n",
      "[Epoch 154/180] :\n"
     ]
    },
    {
     "name": "stderr",
     "output_type": "stream",
     "text": [
      "154 Train: 100%|█████| 391/391 [00:15<00:00, 24.88it/s]\n"
     ]
    },
    {
     "name": "stdout",
     "output_type": "stream",
     "text": [
      "Train Loss: 0.3686 | Train Acc: 87.27%\n",
      "Test  Loss: 0.4714 | Test Acc: 84.30%\n",
      "--------------------------------------------------\n",
      "[Epoch 155/180] :\n"
     ]
    },
    {
     "name": "stderr",
     "output_type": "stream",
     "text": [
      "155 Train: 100%|█████| 391/391 [00:15<00:00, 25.11it/s]\n"
     ]
    },
    {
     "name": "stdout",
     "output_type": "stream",
     "text": [
      "Train Loss: 0.3730 | Train Acc: 86.89%\n",
      "Test  Loss: 0.4611 | Test Acc: 85.44%\n",
      "--------------------------------------------------\n",
      "[Epoch 156/180] :\n"
     ]
    },
    {
     "name": "stderr",
     "output_type": "stream",
     "text": [
      "156 Train: 100%|█████| 391/391 [00:15<00:00, 25.55it/s]\n"
     ]
    },
    {
     "name": "stdout",
     "output_type": "stream",
     "text": [
      "Train Loss: 0.3734 | Train Acc: 87.01%\n",
      "Test  Loss: 0.5240 | Test Acc: 83.71%\n",
      "--------------------------------------------------\n",
      "[Epoch 157/180] :\n"
     ]
    },
    {
     "name": "stderr",
     "output_type": "stream",
     "text": [
      "157 Train: 100%|█████| 391/391 [00:15<00:00, 24.74it/s]\n"
     ]
    },
    {
     "name": "stdout",
     "output_type": "stream",
     "text": [
      "Train Loss: 0.3628 | Train Acc: 87.43%\n",
      "Test  Loss: 0.5251 | Test Acc: 82.54%\n",
      "--------------------------------------------------\n",
      "[Epoch 158/180] :\n"
     ]
    },
    {
     "name": "stderr",
     "output_type": "stream",
     "text": [
      "158 Train: 100%|█████| 391/391 [00:16<00:00, 23.88it/s]\n"
     ]
    },
    {
     "name": "stdout",
     "output_type": "stream",
     "text": [
      "Train Loss: 0.3658 | Train Acc: 87.39%\n",
      "Test  Loss: 0.4760 | Test Acc: 84.03%\n",
      "--------------------------------------------------\n",
      "[Epoch 159/180] :\n"
     ]
    },
    {
     "name": "stderr",
     "output_type": "stream",
     "text": [
      "159 Train: 100%|█████| 391/391 [00:16<00:00, 24.24it/s]\n"
     ]
    },
    {
     "name": "stdout",
     "output_type": "stream",
     "text": [
      "Train Loss: 0.3743 | Train Acc: 87.07%\n",
      "Test  Loss: 0.4692 | Test Acc: 85.02%\n",
      "--------------------------------------------------\n",
      "[Epoch 160/180] :\n"
     ]
    },
    {
     "name": "stderr",
     "output_type": "stream",
     "text": [
      "160 Train: 100%|█████| 391/391 [00:16<00:00, 23.68it/s]\n"
     ]
    },
    {
     "name": "stdout",
     "output_type": "stream",
     "text": [
      "Train Loss: 0.3700 | Train Acc: 87.13%\n",
      "Test  Loss: 0.4024 | Test Acc: 86.50%\n",
      "--------------------------------------------------\n",
      "[Epoch 161/180] :\n"
     ]
    },
    {
     "name": "stderr",
     "output_type": "stream",
     "text": [
      "161 Train: 100%|█████| 391/391 [00:16<00:00, 23.93it/s]\n"
     ]
    },
    {
     "name": "stdout",
     "output_type": "stream",
     "text": [
      "Train Loss: 0.3664 | Train Acc: 87.28%\n",
      "Test  Loss: 0.4393 | Test Acc: 85.54%\n",
      "--------------------------------------------------\n",
      "[Epoch 162/180] :\n"
     ]
    },
    {
     "name": "stderr",
     "output_type": "stream",
     "text": [
      "162 Train: 100%|█████| 391/391 [00:15<00:00, 24.80it/s]\n"
     ]
    },
    {
     "name": "stdout",
     "output_type": "stream",
     "text": [
      "Train Loss: 0.3675 | Train Acc: 87.28%\n",
      "Test  Loss: 0.4570 | Test Acc: 84.53%\n",
      "--------------------------------------------------\n",
      "[Epoch 163/180] :\n"
     ]
    },
    {
     "name": "stderr",
     "output_type": "stream",
     "text": [
      "163 Train: 100%|█████| 391/391 [00:15<00:00, 25.80it/s]\n"
     ]
    },
    {
     "name": "stdout",
     "output_type": "stream",
     "text": [
      "Train Loss: 0.3718 | Train Acc: 87.13%\n",
      "Test  Loss: 0.5818 | Test Acc: 81.67%\n",
      "--------------------------------------------------\n",
      "[Epoch 164/180] :\n"
     ]
    },
    {
     "name": "stderr",
     "output_type": "stream",
     "text": [
      "164 Train: 100%|█████| 391/391 [00:15<00:00, 24.87it/s]\n"
     ]
    },
    {
     "name": "stdout",
     "output_type": "stream",
     "text": [
      "Train Loss: 0.3669 | Train Acc: 87.00%\n",
      "Test  Loss: 0.4613 | Test Acc: 85.08%\n",
      "--------------------------------------------------\n",
      "[Epoch 165/180] :\n"
     ]
    },
    {
     "name": "stderr",
     "output_type": "stream",
     "text": [
      "165 Train: 100%|█████| 391/391 [00:15<00:00, 25.44it/s]\n"
     ]
    },
    {
     "name": "stdout",
     "output_type": "stream",
     "text": [
      "Train Loss: 0.3678 | Train Acc: 87.19%\n",
      "Test  Loss: 0.4508 | Test Acc: 85.45%\n",
      "--------------------------------------------------\n",
      "[Epoch 166/180] :\n"
     ]
    },
    {
     "name": "stderr",
     "output_type": "stream",
     "text": [
      "166 Train: 100%|█████| 391/391 [00:15<00:00, 24.86it/s]\n"
     ]
    },
    {
     "name": "stdout",
     "output_type": "stream",
     "text": [
      "Train Loss: 0.3664 | Train Acc: 87.02%\n",
      "Test  Loss: 0.5098 | Test Acc: 83.40%\n",
      "--------------------------------------------------\n",
      "[Epoch 167/180] :\n"
     ]
    },
    {
     "name": "stderr",
     "output_type": "stream",
     "text": [
      "167 Train: 100%|█████| 391/391 [00:15<00:00, 24.56it/s]\n"
     ]
    },
    {
     "name": "stdout",
     "output_type": "stream",
     "text": [
      "Train Loss: 0.3715 | Train Acc: 87.09%\n",
      "Test  Loss: 0.4398 | Test Acc: 85.39%\n",
      "--------------------------------------------------\n",
      "[Epoch 168/180] :\n"
     ]
    },
    {
     "name": "stderr",
     "output_type": "stream",
     "text": [
      "168 Train: 100%|█████| 391/391 [00:16<00:00, 24.34it/s]\n"
     ]
    },
    {
     "name": "stdout",
     "output_type": "stream",
     "text": [
      "Train Loss: 0.3628 | Train Acc: 87.41%\n",
      "Test  Loss: 0.4940 | Test Acc: 84.37%\n",
      "--------------------------------------------------\n",
      "[Epoch 169/180] :\n"
     ]
    },
    {
     "name": "stderr",
     "output_type": "stream",
     "text": [
      "169 Train: 100%|█████| 391/391 [00:15<00:00, 24.56it/s]\n"
     ]
    },
    {
     "name": "stdout",
     "output_type": "stream",
     "text": [
      "Train Loss: 0.3649 | Train Acc: 87.32%\n",
      "Test  Loss: 0.6414 | Test Acc: 81.06%\n",
      "--------------------------------------------------\n",
      "[Epoch 170/180] :\n"
     ]
    },
    {
     "name": "stderr",
     "output_type": "stream",
     "text": [
      "170 Train: 100%|█████| 391/391 [00:15<00:00, 25.37it/s]\n"
     ]
    },
    {
     "name": "stdout",
     "output_type": "stream",
     "text": [
      "Train Loss: 0.3665 | Train Acc: 87.22%\n",
      "Test  Loss: 0.4424 | Test Acc: 85.57%\n",
      "--------------------------------------------------\n",
      "[Epoch 171/180] :\n"
     ]
    },
    {
     "name": "stderr",
     "output_type": "stream",
     "text": [
      "171 Train: 100%|█████| 391/391 [00:15<00:00, 25.38it/s]\n"
     ]
    },
    {
     "name": "stdout",
     "output_type": "stream",
     "text": [
      "Train Loss: 0.3688 | Train Acc: 87.14%\n",
      "Test  Loss: 0.4805 | Test Acc: 84.45%\n",
      "--------------------------------------------------\n",
      "[Epoch 172/180] :\n"
     ]
    },
    {
     "name": "stderr",
     "output_type": "stream",
     "text": [
      "172 Train: 100%|█████| 391/391 [00:15<00:00, 24.46it/s]\n"
     ]
    },
    {
     "name": "stdout",
     "output_type": "stream",
     "text": [
      "Train Loss: 0.3709 | Train Acc: 86.98%\n",
      "Test  Loss: 0.5610 | Test Acc: 81.90%\n",
      "--------------------------------------------------\n",
      "[Epoch 173/180] :\n"
     ]
    },
    {
     "name": "stderr",
     "output_type": "stream",
     "text": [
      "173 Train: 100%|█████| 391/391 [00:15<00:00, 25.04it/s]\n"
     ]
    },
    {
     "name": "stdout",
     "output_type": "stream",
     "text": [
      "Train Loss: 0.3650 | Train Acc: 87.14%\n",
      "Test  Loss: 0.4326 | Test Acc: 86.00%\n",
      "--------------------------------------------------\n",
      "[Epoch 174/180] :\n"
     ]
    },
    {
     "name": "stderr",
     "output_type": "stream",
     "text": [
      "174 Train: 100%|█████| 391/391 [00:15<00:00, 24.94it/s]\n"
     ]
    },
    {
     "name": "stdout",
     "output_type": "stream",
     "text": [
      "Train Loss: 0.3619 | Train Acc: 87.35%\n",
      "Test  Loss: 0.3722 | Test Acc: 87.66%\n",
      "updated best eval loss : 0.37220953121969974\n",
      "--------------------------------------------------\n",
      "[Epoch 175/180] :\n"
     ]
    },
    {
     "name": "stderr",
     "output_type": "stream",
     "text": [
      "175 Train: 100%|█████| 391/391 [00:15<00:00, 25.65it/s]\n"
     ]
    },
    {
     "name": "stdout",
     "output_type": "stream",
     "text": [
      "Train Loss: 0.3562 | Train Acc: 87.69%\n",
      "Test  Loss: 0.4258 | Test Acc: 85.83%\n",
      "--------------------------------------------------\n",
      "[Epoch 176/180] :\n"
     ]
    },
    {
     "name": "stderr",
     "output_type": "stream",
     "text": [
      "176 Train: 100%|█████| 391/391 [00:15<00:00, 25.08it/s]\n"
     ]
    },
    {
     "name": "stdout",
     "output_type": "stream",
     "text": [
      "Train Loss: 0.3665 | Train Acc: 87.28%\n",
      "Test  Loss: 0.6406 | Test Acc: 79.77%\n",
      "--------------------------------------------------\n",
      "[Epoch 177/180] :\n"
     ]
    },
    {
     "name": "stderr",
     "output_type": "stream",
     "text": [
      "177 Train: 100%|█████| 391/391 [00:15<00:00, 24.45it/s]\n"
     ]
    },
    {
     "name": "stdout",
     "output_type": "stream",
     "text": [
      "Train Loss: 0.3659 | Train Acc: 87.31%\n",
      "Test  Loss: 0.4995 | Test Acc: 83.64%\n",
      "--------------------------------------------------\n",
      "[Epoch 178/180] :\n"
     ]
    },
    {
     "name": "stderr",
     "output_type": "stream",
     "text": [
      "178 Train: 100%|█████| 391/391 [00:16<00:00, 23.94it/s]\n"
     ]
    },
    {
     "name": "stdout",
     "output_type": "stream",
     "text": [
      "Train Loss: 0.3674 | Train Acc: 87.24%\n",
      "Test  Loss: 0.4574 | Test Acc: 84.95%\n",
      "--------------------------------------------------\n",
      "[Epoch 179/180] :\n"
     ]
    },
    {
     "name": "stderr",
     "output_type": "stream",
     "text": [
      "179 Train: 100%|█████| 391/391 [00:16<00:00, 23.24it/s]\n"
     ]
    },
    {
     "name": "stdout",
     "output_type": "stream",
     "text": [
      "Train Loss: 0.3667 | Train Acc: 87.37%\n",
      "Test  Loss: 0.5663 | Test Acc: 81.32%\n",
      "--------------------------------------------------\n",
      "[Epoch 180/180] :\n"
     ]
    },
    {
     "name": "stderr",
     "output_type": "stream",
     "text": [
      "180 Train: 100%|█████| 391/391 [00:16<00:00, 23.79it/s]\n"
     ]
    },
    {
     "name": "stdout",
     "output_type": "stream",
     "text": [
      "Train Loss: 0.3662 | Train Acc: 87.25%\n",
      "Test  Loss: 0.5186 | Test Acc: 83.82%\n",
      "--------------------------------------------------\n",
      "[Epoch 181/180] :\n"
     ]
    },
    {
     "name": "stderr",
     "output_type": "stream",
     "text": [
      "181 Train: 100%|█████| 391/391 [00:15<00:00, 25.27it/s]\n"
     ]
    },
    {
     "name": "stdout",
     "output_type": "stream",
     "text": [
      "Train Loss: 0.3582 | Train Acc: 87.58%\n",
      "Test  Loss: 0.4885 | Test Acc: 83.86%\n",
      "--------------------------------------------------\n",
      "[Epoch 182/180] :\n"
     ]
    },
    {
     "name": "stderr",
     "output_type": "stream",
     "text": [
      "182 Train: 100%|█████| 391/391 [00:15<00:00, 25.64it/s]\n"
     ]
    },
    {
     "name": "stdout",
     "output_type": "stream",
     "text": [
      "Train Loss: 0.3624 | Train Acc: 87.35%\n",
      "Test  Loss: 0.5906 | Test Acc: 80.51%\n",
      "--------------------------------------------------\n",
      "[Epoch 183/180] :\n"
     ]
    },
    {
     "name": "stderr",
     "output_type": "stream",
     "text": [
      "183 Train: 100%|█████| 391/391 [00:15<00:00, 24.99it/s]\n"
     ]
    },
    {
     "name": "stdout",
     "output_type": "stream",
     "text": [
      "Train Loss: 0.3671 | Train Acc: 87.14%\n",
      "Test  Loss: 0.4747 | Test Acc: 85.00%\n",
      "--------------------------------------------------\n",
      "[Epoch 184/180] :\n"
     ]
    },
    {
     "name": "stderr",
     "output_type": "stream",
     "text": [
      "184 Train: 100%|█████| 391/391 [00:15<00:00, 24.78it/s]\n"
     ]
    },
    {
     "name": "stdout",
     "output_type": "stream",
     "text": [
      "Train Loss: 0.3608 | Train Acc: 87.59%\n",
      "Test  Loss: 0.4461 | Test Acc: 84.88%\n",
      "--------------------------------------------------\n",
      "[Epoch 185/180] :\n"
     ]
    },
    {
     "name": "stderr",
     "output_type": "stream",
     "text": [
      "185 Train: 100%|█████| 391/391 [00:15<00:00, 25.02it/s]\n"
     ]
    },
    {
     "name": "stdout",
     "output_type": "stream",
     "text": [
      "Train Loss: 0.3649 | Train Acc: 87.18%\n",
      "Test  Loss: 0.4406 | Test Acc: 85.79%\n",
      "--------------------------------------------------\n",
      "[Epoch 186/180] :\n"
     ]
    },
    {
     "name": "stderr",
     "output_type": "stream",
     "text": [
      "186 Train: 100%|█████| 391/391 [00:15<00:00, 25.61it/s]\n"
     ]
    },
    {
     "name": "stdout",
     "output_type": "stream",
     "text": [
      "Train Loss: 0.3572 | Train Acc: 87.38%\n",
      "Test  Loss: 0.5627 | Test Acc: 82.66%\n",
      "--------------------------------------------------\n",
      "[Epoch 187/180] :\n"
     ]
    },
    {
     "name": "stderr",
     "output_type": "stream",
     "text": [
      "187 Train: 100%|█████| 391/391 [00:15<00:00, 25.32it/s]\n"
     ]
    },
    {
     "name": "stdout",
     "output_type": "stream",
     "text": [
      "Train Loss: 0.3626 | Train Acc: 87.39%\n",
      "Test  Loss: 0.4177 | Test Acc: 85.80%\n",
      "--------------------------------------------------\n",
      "[Epoch 188/180] :\n"
     ]
    },
    {
     "name": "stderr",
     "output_type": "stream",
     "text": [
      "188 Train: 100%|█████| 391/391 [00:16<00:00, 24.07it/s]\n"
     ]
    },
    {
     "name": "stdout",
     "output_type": "stream",
     "text": [
      "Train Loss: 0.3626 | Train Acc: 87.39%\n",
      "Test  Loss: 0.4567 | Test Acc: 84.38%\n",
      "--------------------------------------------------\n",
      "[Epoch 189/180] :\n"
     ]
    },
    {
     "name": "stderr",
     "output_type": "stream",
     "text": [
      "189 Train: 100%|█████| 391/391 [00:16<00:00, 23.88it/s]\n"
     ]
    },
    {
     "name": "stdout",
     "output_type": "stream",
     "text": [
      "Train Loss: 0.3635 | Train Acc: 87.23%\n",
      "Test  Loss: 0.5220 | Test Acc: 83.29%\n",
      "--------------------------------------------------\n",
      "[Epoch 190/180] :\n"
     ]
    },
    {
     "name": "stderr",
     "output_type": "stream",
     "text": [
      "190 Train: 100%|█████| 391/391 [00:16<00:00, 24.08it/s]\n"
     ]
    },
    {
     "name": "stdout",
     "output_type": "stream",
     "text": [
      "Train Loss: 0.3652 | Train Acc: 87.33%\n",
      "Test  Loss: 0.5014 | Test Acc: 83.62%\n",
      "--------------------------------------------------\n",
      "[Epoch 191/180] :\n"
     ]
    },
    {
     "name": "stderr",
     "output_type": "stream",
     "text": [
      "191 Train: 100%|█████| 391/391 [00:15<00:00, 24.70it/s]\n"
     ]
    },
    {
     "name": "stdout",
     "output_type": "stream",
     "text": [
      "Train Loss: 0.3649 | Train Acc: 87.29%\n",
      "Test  Loss: 0.4150 | Test Acc: 86.15%\n",
      "--------------------------------------------------\n",
      "[Epoch 192/180] :\n"
     ]
    },
    {
     "name": "stderr",
     "output_type": "stream",
     "text": [
      "192 Train: 100%|█████| 391/391 [00:14<00:00, 26.41it/s]\n"
     ]
    },
    {
     "name": "stdout",
     "output_type": "stream",
     "text": [
      "Train Loss: 0.3616 | Train Acc: 87.46%\n",
      "Test  Loss: 0.6771 | Test Acc: 79.29%\n",
      "--------------------------------------------------\n",
      "[Epoch 193/180] :\n"
     ]
    },
    {
     "name": "stderr",
     "output_type": "stream",
     "text": [
      "193 Train: 100%|█████| 391/391 [00:15<00:00, 24.47it/s]\n"
     ]
    },
    {
     "name": "stdout",
     "output_type": "stream",
     "text": [
      "Train Loss: 0.3590 | Train Acc: 87.55%\n",
      "Test  Loss: 0.4562 | Test Acc: 84.81%\n",
      "--------------------------------------------------\n",
      "[Epoch 194/180] :\n"
     ]
    },
    {
     "name": "stderr",
     "output_type": "stream",
     "text": [
      "194 Train: 100%|█████| 391/391 [00:15<00:00, 24.47it/s]\n"
     ]
    },
    {
     "name": "stdout",
     "output_type": "stream",
     "text": [
      "Train Loss: 0.3589 | Train Acc: 87.53%\n",
      "Test  Loss: 0.4951 | Test Acc: 84.67%\n",
      "--------------------------------------------------\n",
      "[Epoch 195/180] :\n"
     ]
    },
    {
     "name": "stderr",
     "output_type": "stream",
     "text": [
      "195 Train: 100%|█████| 391/391 [00:16<00:00, 23.55it/s]\n"
     ]
    },
    {
     "name": "stdout",
     "output_type": "stream",
     "text": [
      "Train Loss: 0.3606 | Train Acc: 87.39%\n",
      "Test  Loss: 0.4721 | Test Acc: 85.01%\n",
      "--------------------------------------------------\n",
      "[Epoch 196/180] :\n"
     ]
    },
    {
     "name": "stderr",
     "output_type": "stream",
     "text": [
      "196 Train: 100%|█████| 391/391 [00:16<00:00, 24.12it/s]\n"
     ]
    },
    {
     "name": "stdout",
     "output_type": "stream",
     "text": [
      "Train Loss: 0.3568 | Train Acc: 87.48%\n",
      "Test  Loss: 0.4744 | Test Acc: 84.75%\n",
      "--------------------------------------------------\n",
      "[Epoch 197/180] :\n"
     ]
    },
    {
     "name": "stderr",
     "output_type": "stream",
     "text": [
      "197 Train: 100%|█████| 391/391 [00:15<00:00, 26.01it/s]\n"
     ]
    },
    {
     "name": "stdout",
     "output_type": "stream",
     "text": [
      "Train Loss: 0.3598 | Train Acc: 87.34%\n",
      "Test  Loss: 0.4842 | Test Acc: 84.25%\n",
      "--------------------------------------------------\n",
      "[Epoch 198/180] :\n"
     ]
    },
    {
     "name": "stderr",
     "output_type": "stream",
     "text": [
      "198 Train: 100%|█████| 391/391 [00:15<00:00, 25.37it/s]\n"
     ]
    },
    {
     "name": "stdout",
     "output_type": "stream",
     "text": [
      "Train Loss: 0.3535 | Train Acc: 87.66%\n",
      "Test  Loss: 0.5211 | Test Acc: 83.00%\n",
      "--------------------------------------------------\n",
      "[Epoch 199/180] :\n"
     ]
    },
    {
     "name": "stderr",
     "output_type": "stream",
     "text": [
      "199 Train: 100%|█████| 391/391 [00:15<00:00, 24.64it/s]\n"
     ]
    },
    {
     "name": "stdout",
     "output_type": "stream",
     "text": [
      "Train Loss: 0.3578 | Train Acc: 87.62%\n",
      "Test  Loss: 0.4967 | Test Acc: 84.23%\n",
      "--------------------------------------------------\n",
      "[Epoch 200/180] :\n"
     ]
    },
    {
     "name": "stderr",
     "output_type": "stream",
     "text": [
      "200 Train: 100%|█████| 391/391 [00:15<00:00, 24.48it/s]\n"
     ]
    },
    {
     "name": "stdout",
     "output_type": "stream",
     "text": [
      "Train Loss: 0.3563 | Train Acc: 87.72%\n",
      "Test  Loss: 0.4368 | Test Acc: 85.60%\n",
      "--------------------------------------------------\n",
      "[Epoch 201/180] :\n"
     ]
    },
    {
     "name": "stderr",
     "output_type": "stream",
     "text": [
      "201 Train: 100%|█████| 391/391 [00:15<00:00, 24.90it/s]\n"
     ]
    },
    {
     "name": "stdout",
     "output_type": "stream",
     "text": [
      "Train Loss: 0.3572 | Train Acc: 87.54%\n",
      "Test  Loss: 0.5231 | Test Acc: 83.51%\n",
      "--------------------------------------------------\n",
      "[Epoch 202/180] :\n"
     ]
    },
    {
     "name": "stderr",
     "output_type": "stream",
     "text": [
      "202 Train: 100%|█████| 391/391 [00:15<00:00, 24.98it/s]\n"
     ]
    },
    {
     "name": "stdout",
     "output_type": "stream",
     "text": [
      "Train Loss: 0.3626 | Train Acc: 87.31%\n",
      "Test  Loss: 0.5129 | Test Acc: 83.47%\n",
      "--------------------------------------------------\n",
      "[Epoch 203/180] :\n"
     ]
    },
    {
     "name": "stderr",
     "output_type": "stream",
     "text": [
      "203 Train: 100%|█████| 391/391 [00:13<00:00, 28.99it/s]\n"
     ]
    },
    {
     "name": "stdout",
     "output_type": "stream",
     "text": [
      "Train Loss: 0.3563 | Train Acc: 87.47%\n",
      "Test  Loss: 0.4619 | Test Acc: 85.01%\n",
      "--------------------------------------------------\n"
     ]
    }
   ],
   "source": [
    "Training = DoTraining(\n",
    "    model=model,\n",
    "    criterion=criterion,\n",
    "    optimizer=optimizer,\n",
    "    scaler=scaler,\n",
    "    scheduler=scheduler,\n",
    "    earlystopper=earlystopper,\n",
    "    device=device,\n",
    "    logs=logs,\n",
    "    file_path=file_path,\n",
    ")\n",
    "pre_epochs = len(Training.logs[\"train_loss\"])\n",
    "\n",
    "for epoch in range(NUM_EPOCHS):\n",
    "    now = epoch + 1 + pre_epochs\n",
    "    print(f\"[Epoch {epoch+1+pre_epochs}/{NUM_EPOCHS}] :\")\n",
    "\n",
    "    if DATASET == \"ImageNet2012\":\n",
    "        eval_loss = Training.SingleEpoch(train_dataloader, valid_dataloader)\n",
    "    else:\n",
    "        eval_loss = Training.SingleEpoch(\n",
    "            train_dataloader, valid_dataloader, test_dataloader\n",
    "        )\n",
    "\n",
    "    Training.Save()\n",
    "\n",
    "    \n",
    "    \n",
    "    if earlystopper.check(eval_loss) == True:\n",
    "        break\n",
    "\n",
    "    print(\"-\" * 50)"
   ]
  },
  {
   "cell_type": "code",
   "execution_count": 55,
   "metadata": {},
   "outputs": [
    {
     "data": {
      "image/png": "[encoded data removed]",
      "text/plain": [
       "<Figure size 1000x500 with 2 Axes>"
      ]
     },
     "metadata": {},
     "output_type": "display_data"
    }
   ],
   "source": [
    "view = LogViewer(logs)\n",
    "view.draw()"
   ]
  },
  {
   "cell_type": "code",
   "execution_count": 53,
   "metadata": {},
   "outputs": [
    {
     "name": "stdout",
     "output_type": "stream",
     "text": [
      "1 epoch: train_loss=2.5204, train_acc=0.0988, test_loss=2.3053, test_acc=0.1000, lr=0.1000\n",
      "2 epoch: train_loss=2.3043, train_acc=0.1012, test_loss=2.3045, test_acc=0.1000, lr=0.1000\n",
      "3 epoch: train_loss=2.3044, train_acc=0.0990, test_loss=2.3032, test_acc=0.1000, lr=0.1000\n",
      "4 epoch: train_loss=2.3040, train_acc=0.1008, test_loss=2.3043, test_acc=0.1000, lr=0.1000\n",
      "5 epoch: train_loss=2.3043, train_acc=0.1001, test_loss=2.3042, test_acc=0.1000, lr=0.1000\n",
      "6 epoch: train_loss=2.3042, train_acc=0.1004, test_loss=2.3032, test_acc=0.1000, lr=0.1000\n",
      "7 epoch: train_loss=2.3043, train_acc=0.0986, test_loss=2.3030, test_acc=0.1000, lr=0.1000\n",
      "8 epoch: train_loss=2.3041, train_acc=0.0999, test_loss=2.3047, test_acc=0.1000, lr=0.1000\n",
      "9 epoch: train_loss=2.3044, train_acc=0.0989, test_loss=2.3044, test_acc=0.1000, lr=0.1000\n",
      "10 epoch: train_loss=2.3045, train_acc=0.0981, test_loss=2.3036, test_acc=0.1000, lr=0.1000\n",
      "11 epoch: train_loss=2.3043, train_acc=0.0987, test_loss=2.3059, test_acc=0.1000, lr=0.1000\n",
      "12 epoch: train_loss=2.3040, train_acc=0.1026, test_loss=2.3044, test_acc=0.1000, lr=0.1000\n",
      "13 epoch: train_loss=2.3042, train_acc=0.0996, test_loss=2.3048, test_acc=0.1000, lr=0.1000\n",
      "14 epoch: train_loss=2.3040, train_acc=0.0984, test_loss=2.3051, test_acc=0.1000, lr=0.1000\n",
      "15 epoch: train_loss=2.3043, train_acc=0.0988, test_loss=2.3042, test_acc=0.1000, lr=0.1000\n",
      "16 epoch: train_loss=2.3044, train_acc=0.0998, test_loss=2.3037, test_acc=0.1000, lr=0.1000\n",
      "17 epoch: train_loss=2.3042, train_acc=0.1003, test_loss=2.3044, test_acc=0.1000, lr=0.1000\n",
      "18 epoch: train_loss=2.3041, train_acc=0.1032, test_loss=2.3067, test_acc=0.1000, lr=0.1000\n",
      "19 epoch: train_loss=2.3021, train_acc=0.1023, test_loss=2.3043, test_acc=0.1000, lr=0.1000\n",
      "20 epoch: train_loss=2.0797, train_acc=0.2083, test_loss=1.8796, test_acc=0.3026, lr=0.1000\n",
      "21 epoch: train_loss=1.5299, train_acc=0.4413, test_loss=1.2109, test_acc=0.5752, lr=0.1000\n",
      "22 epoch: train_loss=1.1778, train_acc=0.5799, test_loss=1.2605, test_acc=0.5655, lr=0.1000\n",
      "23 epoch: train_loss=0.9967, train_acc=0.6486, test_loss=1.0180, test_acc=0.6433, lr=0.1000\n",
      "24 epoch: train_loss=0.8993, train_acc=0.6876, test_loss=1.0570, test_acc=0.6480, lr=0.1000\n",
      "25 epoch: train_loss=0.8367, train_acc=0.7112, test_loss=0.7714, test_acc=0.7350, lr=0.1000\n",
      "26 epoch: train_loss=0.7789, train_acc=0.7299, test_loss=0.6795, test_acc=0.7676, lr=0.1000\n",
      "27 epoch: train_loss=0.7460, train_acc=0.7407, test_loss=0.7243, test_acc=0.7432, lr=0.1000\n",
      "28 epoch: train_loss=0.7112, train_acc=0.7526, test_loss=0.8913, test_acc=0.6948, lr=0.1000\n",
      "29 epoch: train_loss=0.6837, train_acc=0.7622, test_loss=0.9251, test_acc=0.7242, lr=0.1000\n",
      "30 epoch: train_loss=0.6631, train_acc=0.7688, test_loss=0.7389, test_acc=0.7595, lr=0.1000\n",
      "31 epoch: train_loss=0.6456, train_acc=0.7765, test_loss=0.6860, test_acc=0.7662, lr=0.1000\n",
      "32 epoch: train_loss=0.6292, train_acc=0.7809, test_loss=0.6852, test_acc=0.7735, lr=0.1000\n",
      "33 epoch: train_loss=0.6113, train_acc=0.7872, test_loss=0.6164, test_acc=0.7898, lr=0.1000\n",
      "34 epoch: train_loss=0.5978, train_acc=0.7929, test_loss=0.9723, test_acc=0.6984, lr=0.1000\n",
      "35 epoch: train_loss=0.5935, train_acc=0.7954, test_loss=0.6450, test_acc=0.7775, lr=0.1000\n",
      "36 epoch: train_loss=0.5774, train_acc=0.8001, test_loss=0.5012, test_acc=0.8221, lr=0.1000\n",
      "37 epoch: train_loss=0.5694, train_acc=0.8032, test_loss=0.6502, test_acc=0.7775, lr=0.1000\n",
      "38 epoch: train_loss=0.5658, train_acc=0.8029, test_loss=0.6589, test_acc=0.7729, lr=0.1000\n",
      "39 epoch: train_loss=0.5503, train_acc=0.8088, test_loss=0.8109, test_acc=0.7324, lr=0.1000\n",
      "40 epoch: train_loss=0.5487, train_acc=0.8097, test_loss=0.7360, test_acc=0.7708, lr=0.1000\n",
      "41 epoch: train_loss=0.5364, train_acc=0.8145, test_loss=0.6688, test_acc=0.7732, lr=0.1000\n",
      "42 epoch: train_loss=0.5282, train_acc=0.8160, test_loss=0.5988, test_acc=0.7949, lr=0.1000\n",
      "43 epoch: train_loss=0.5265, train_acc=0.8173, test_loss=0.5995, test_acc=0.7941, lr=0.1000\n",
      "44 epoch: train_loss=0.5206, train_acc=0.8197, test_loss=0.7311, test_acc=0.7682, lr=0.1000\n",
      "45 epoch: train_loss=0.5171, train_acc=0.8214, test_loss=0.5607, test_acc=0.8102, lr=0.1000\n",
      "46 epoch: train_loss=0.5045, train_acc=0.8248, test_loss=0.8533, test_acc=0.7296, lr=0.1000\n",
      "47 epoch: train_loss=0.5039, train_acc=0.8258, test_loss=0.6065, test_acc=0.8020, lr=0.1000\n",
      "48 epoch: train_loss=0.5001, train_acc=0.8270, test_loss=0.8072, test_acc=0.7447, lr=0.1000\n",
      "49 epoch: train_loss=0.4973, train_acc=0.8267, test_loss=0.9050, test_acc=0.7222, lr=0.1000\n",
      "50 epoch: train_loss=0.4854, train_acc=0.8312, test_loss=0.5770, test_acc=0.8093, lr=0.1000\n",
      "51 epoch: train_loss=0.4862, train_acc=0.8332, test_loss=0.5164, test_acc=0.8213, lr=0.1000\n",
      "52 epoch: train_loss=0.4842, train_acc=0.8322, test_loss=0.7381, test_acc=0.7603, lr=0.1000\n",
      "53 epoch: train_loss=0.4815, train_acc=0.8357, test_loss=0.5815, test_acc=0.8046, lr=0.1000\n",
      "54 epoch: train_loss=0.4760, train_acc=0.8326, test_loss=0.5923, test_acc=0.8067, lr=0.1000\n",
      "55 epoch: train_loss=0.4731, train_acc=0.8363, test_loss=0.6774, test_acc=0.7862, lr=0.1000\n",
      "56 epoch: train_loss=0.4645, train_acc=0.8383, test_loss=0.5457, test_acc=0.8194, lr=0.1000\n",
      "57 epoch: train_loss=0.4669, train_acc=0.8378, test_loss=0.5341, test_acc=0.8217, lr=0.1000\n",
      "58 epoch: train_loss=0.4698, train_acc=0.8365, test_loss=0.5494, test_acc=0.8197, lr=0.1000\n",
      "59 epoch: train_loss=0.4649, train_acc=0.8391, test_loss=0.5340, test_acc=0.8270, lr=0.1000\n",
      "60 epoch: train_loss=0.4616, train_acc=0.8411, test_loss=0.5772, test_acc=0.8101, lr=0.1000\n",
      "61 epoch: train_loss=0.4562, train_acc=0.8408, test_loss=0.8819, test_acc=0.7209, lr=0.1000\n",
      "62 epoch: train_loss=0.4555, train_acc=0.8422, test_loss=0.5638, test_acc=0.8096, lr=0.1000\n",
      "63 epoch: train_loss=0.4565, train_acc=0.8418, test_loss=0.8341, test_acc=0.7405, lr=0.1000\n",
      "64 epoch: train_loss=0.4527, train_acc=0.8432, test_loss=0.6383, test_acc=0.7952, lr=0.1000\n",
      "65 epoch: train_loss=0.4479, train_acc=0.8447, test_loss=0.4959, test_acc=0.8315, lr=0.1000\n",
      "66 epoch: train_loss=0.4449, train_acc=0.8440, test_loss=0.5744, test_acc=0.8133, lr=0.1000\n",
      "67 epoch: train_loss=0.4474, train_acc=0.8450, test_loss=0.4681, test_acc=0.8469, lr=0.1000\n",
      "68 epoch: train_loss=0.4425, train_acc=0.8468, test_loss=0.6558, test_acc=0.7943, lr=0.1000\n",
      "69 epoch: train_loss=0.4394, train_acc=0.8491, test_loss=0.5366, test_acc=0.8193, lr=0.1000\n",
      "70 epoch: train_loss=0.4381, train_acc=0.8473, test_loss=0.6181, test_acc=0.8103, lr=0.1000\n",
      "71 epoch: train_loss=0.4336, train_acc=0.8495, test_loss=0.4772, test_acc=0.8411, lr=0.1000\n",
      "72 epoch: train_loss=0.4322, train_acc=0.8506, test_loss=0.6090, test_acc=0.8057, lr=0.1000\n",
      "73 epoch: train_loss=0.4309, train_acc=0.8496, test_loss=0.4647, test_acc=0.8482, lr=0.1000\n",
      "74 epoch: train_loss=0.4287, train_acc=0.8517, test_loss=0.5220, test_acc=0.8298, lr=0.1000\n",
      "75 epoch: train_loss=0.4277, train_acc=0.8521, test_loss=0.4742, test_acc=0.8456, lr=0.1000\n",
      "76 epoch: train_loss=0.4279, train_acc=0.8510, test_loss=0.5398, test_acc=0.8265, lr=0.1000\n",
      "77 epoch: train_loss=0.4206, train_acc=0.8537, test_loss=0.6607, test_acc=0.7916, lr=0.1000\n",
      "78 epoch: train_loss=0.4210, train_acc=0.8533, test_loss=0.4800, test_acc=0.8404, lr=0.1000\n",
      "79 epoch: train_loss=0.4259, train_acc=0.8522, test_loss=0.5590, test_acc=0.8202, lr=0.1000\n",
      "80 epoch: train_loss=0.4240, train_acc=0.8508, test_loss=0.5354, test_acc=0.8262, lr=0.1000\n",
      "81 epoch: train_loss=0.4172, train_acc=0.8538, test_loss=0.5774, test_acc=0.8095, lr=0.1000\n",
      "82 epoch: train_loss=0.4189, train_acc=0.8539, test_loss=0.4780, test_acc=0.8404, lr=0.1000\n",
      "83 epoch: train_loss=0.4147, train_acc=0.8561, test_loss=0.5395, test_acc=0.8213, lr=0.1000\n",
      "84 epoch: train_loss=0.4224, train_acc=0.8514, test_loss=0.5031, test_acc=0.8346, lr=0.1000\n",
      "85 epoch: train_loss=0.4171, train_acc=0.8551, test_loss=0.4899, test_acc=0.8385, lr=0.1000\n",
      "86 epoch: train_loss=0.4201, train_acc=0.8531, test_loss=0.4566, test_acc=0.8459, lr=0.1000\n",
      "87 epoch: train_loss=0.4116, train_acc=0.8586, test_loss=0.7076, test_acc=0.7815, lr=0.1000\n",
      "88 epoch: train_loss=0.4160, train_acc=0.8565, test_loss=0.7537, test_acc=0.7580, lr=0.1000\n",
      "89 epoch: train_loss=0.4088, train_acc=0.8585, test_loss=0.4689, test_acc=0.8437, lr=0.1000\n",
      "90 epoch: train_loss=0.4136, train_acc=0.8563, test_loss=0.5386, test_acc=0.8221, lr=0.1000\n",
      "91 epoch: train_loss=0.4105, train_acc=0.8571, test_loss=0.5899, test_acc=0.8112, lr=0.1000\n",
      "92 epoch: train_loss=0.4145, train_acc=0.8543, test_loss=0.4894, test_acc=0.8455, lr=0.1000\n",
      "93 epoch: train_loss=0.4048, train_acc=0.8582, test_loss=0.5396, test_acc=0.8293, lr=0.1000\n",
      "94 epoch: train_loss=0.4097, train_acc=0.8562, test_loss=0.5884, test_acc=0.8120, lr=0.1000\n",
      "95 epoch: train_loss=0.4058, train_acc=0.8603, test_loss=0.4407, test_acc=0.8574, lr=0.1000\n",
      "96 epoch: train_loss=0.4012, train_acc=0.8607, test_loss=0.5765, test_acc=0.8195, lr=0.1000\n",
      "97 epoch: train_loss=0.4033, train_acc=0.8591, test_loss=0.5332, test_acc=0.8248, lr=0.1000\n",
      "98 epoch: train_loss=0.4019, train_acc=0.8602, test_loss=0.4643, test_acc=0.8429, lr=0.1000\n",
      "99 epoch: train_loss=0.4030, train_acc=0.8603, test_loss=0.5065, test_acc=0.8359, lr=0.1000\n",
      "100 epoch: train_loss=0.3966, train_acc=0.8636, test_loss=0.4567, test_acc=0.8481, lr=0.1000\n",
      "101 epoch: train_loss=0.4004, train_acc=0.8607, test_loss=0.5669, test_acc=0.8171, lr=0.1000\n",
      "102 epoch: train_loss=0.4020, train_acc=0.8613, test_loss=0.5131, test_acc=0.8290, lr=0.1000\n",
      "103 epoch: train_loss=0.3960, train_acc=0.8621, test_loss=0.4454, test_acc=0.8539, lr=0.1000\n",
      "104 epoch: train_loss=0.3933, train_acc=0.8624, test_loss=0.4934, test_acc=0.8391, lr=0.1000\n",
      "105 epoch: train_loss=0.4025, train_acc=0.8599, test_loss=0.4909, test_acc=0.8357, lr=0.1000\n",
      "106 epoch: train_loss=0.3952, train_acc=0.8621, test_loss=0.5669, test_acc=0.8177, lr=0.1000\n",
      "107 epoch: train_loss=0.3941, train_acc=0.8634, test_loss=0.6866, test_acc=0.7900, lr=0.1000\n",
      "108 epoch: train_loss=0.3919, train_acc=0.8635, test_loss=0.6079, test_acc=0.8035, lr=0.1000\n",
      "109 epoch: train_loss=0.3889, train_acc=0.8651, test_loss=0.5524, test_acc=0.8178, lr=0.1000\n",
      "110 epoch: train_loss=0.3922, train_acc=0.8637, test_loss=0.5204, test_acc=0.8351, lr=0.1000\n",
      "111 epoch: train_loss=0.3944, train_acc=0.8628, test_loss=0.5268, test_acc=0.8271, lr=0.1000\n",
      "112 epoch: train_loss=0.3947, train_acc=0.8622, test_loss=0.5216, test_acc=0.8345, lr=0.1000\n",
      "113 epoch: train_loss=0.3907, train_acc=0.8646, test_loss=0.5468, test_acc=0.8218, lr=0.1000\n",
      "114 epoch: train_loss=0.3876, train_acc=0.8654, test_loss=0.5821, test_acc=0.8048, lr=0.1000\n",
      "115 epoch: train_loss=0.3881, train_acc=0.8651, test_loss=0.5171, test_acc=0.8309, lr=0.1000\n",
      "116 epoch: train_loss=0.3868, train_acc=0.8651, test_loss=0.5202, test_acc=0.8304, lr=0.1000\n",
      "117 epoch: train_loss=0.3907, train_acc=0.8653, test_loss=0.5393, test_acc=0.8216, lr=0.1000\n",
      "118 epoch: train_loss=0.3853, train_acc=0.8669, test_loss=0.5076, test_acc=0.8334, lr=0.1000\n",
      "119 epoch: train_loss=0.3852, train_acc=0.8656, test_loss=0.5605, test_acc=0.8265, lr=0.1000\n",
      "120 epoch: train_loss=0.3853, train_acc=0.8656, test_loss=0.5083, test_acc=0.8340, lr=0.1000\n",
      "121 epoch: train_loss=0.3931, train_acc=0.8623, test_loss=0.4986, test_acc=0.8364, lr=0.1000\n",
      "122 epoch: train_loss=0.3829, train_acc=0.8653, test_loss=0.5102, test_acc=0.8318, lr=0.1000\n",
      "123 epoch: train_loss=0.3872, train_acc=0.8655, test_loss=0.3968, test_acc=0.8682, lr=0.1000\n",
      "124 epoch: train_loss=0.3822, train_acc=0.8658, test_loss=0.4599, test_acc=0.8447, lr=0.1000\n",
      "125 epoch: train_loss=0.3902, train_acc=0.8645, test_loss=0.5224, test_acc=0.8272, lr=0.1000\n",
      "126 epoch: train_loss=0.3851, train_acc=0.8667, test_loss=0.5338, test_acc=0.8256, lr=0.1000\n",
      "127 epoch: train_loss=0.3820, train_acc=0.8671, test_loss=0.5878, test_acc=0.8085, lr=0.1000\n",
      "128 epoch: train_loss=0.3830, train_acc=0.8668, test_loss=0.5158, test_acc=0.8289, lr=0.1000\n",
      "129 epoch: train_loss=0.3840, train_acc=0.8662, test_loss=0.5498, test_acc=0.8257, lr=0.1000\n",
      "130 epoch: train_loss=0.3834, train_acc=0.8663, test_loss=0.5668, test_acc=0.8143, lr=0.1000\n",
      "131 epoch: train_loss=0.3827, train_acc=0.8662, test_loss=0.5287, test_acc=0.8304, lr=0.1000\n",
      "132 epoch: train_loss=0.3759, train_acc=0.8699, test_loss=0.5303, test_acc=0.8264, lr=0.1000\n",
      "133 epoch: train_loss=0.3822, train_acc=0.8666, test_loss=0.5546, test_acc=0.8199, lr=0.1000\n",
      "134 epoch: train_loss=0.3791, train_acc=0.8671, test_loss=0.5246, test_acc=0.8266, lr=0.1000\n",
      "135 epoch: train_loss=0.3782, train_acc=0.8686, test_loss=0.5300, test_acc=0.8290, lr=0.1000\n",
      "136 epoch: train_loss=0.3778, train_acc=0.8687, test_loss=0.5535, test_acc=0.8172, lr=0.1000\n",
      "137 epoch: train_loss=0.3796, train_acc=0.8685, test_loss=0.4266, test_acc=0.8565, lr=0.1000\n",
      "138 epoch: train_loss=0.3794, train_acc=0.8676, test_loss=0.5226, test_acc=0.8286, lr=0.1000\n",
      "139 epoch: train_loss=0.3814, train_acc=0.8657, test_loss=0.4289, test_acc=0.8616, lr=0.1000\n",
      "140 epoch: train_loss=0.3789, train_acc=0.8676, test_loss=0.4545, test_acc=0.8508, lr=0.1000\n",
      "141 epoch: train_loss=0.3758, train_acc=0.8693, test_loss=0.5955, test_acc=0.8159, lr=0.1000\n",
      "142 epoch: train_loss=0.3751, train_acc=0.8687, test_loss=0.5028, test_acc=0.8398, lr=0.1000\n",
      "143 epoch: train_loss=0.3729, train_acc=0.8705, test_loss=0.5719, test_acc=0.8154, lr=0.1000\n",
      "144 epoch: train_loss=0.3775, train_acc=0.8674, test_loss=0.5117, test_acc=0.8277, lr=0.1000\n",
      "145 epoch: train_loss=0.3734, train_acc=0.8681, test_loss=0.4743, test_acc=0.8475, lr=0.1000\n",
      "146 epoch: train_loss=0.3763, train_acc=0.8688, test_loss=0.5358, test_acc=0.8295, lr=0.1000\n",
      "147 epoch: train_loss=0.3732, train_acc=0.8701, test_loss=0.5098, test_acc=0.8332, lr=0.1000\n",
      "148 epoch: train_loss=0.3712, train_acc=0.8705, test_loss=0.4706, test_acc=0.8461, lr=0.1000\n",
      "149 epoch: train_loss=0.3728, train_acc=0.8704, test_loss=0.4545, test_acc=0.8480, lr=0.1000\n",
      "150 epoch: train_loss=0.3684, train_acc=0.8701, test_loss=0.4119, test_acc=0.8630, lr=0.1000\n",
      "151 epoch: train_loss=0.3739, train_acc=0.8691, test_loss=0.4427, test_acc=0.8523, lr=0.1000\n",
      "152 epoch: train_loss=0.3753, train_acc=0.8684, test_loss=0.5190, test_acc=0.8370, lr=0.1000\n",
      "153 epoch: train_loss=0.3668, train_acc=0.8726, test_loss=0.4312, test_acc=0.8509, lr=0.1000\n",
      "154 epoch: train_loss=0.3686, train_acc=0.8727, test_loss=0.4714, test_acc=0.8430, lr=0.1000\n",
      "155 epoch: train_loss=0.3730, train_acc=0.8689, test_loss=0.4611, test_acc=0.8544, lr=0.1000\n",
      "156 epoch: train_loss=0.3734, train_acc=0.8701, test_loss=0.5240, test_acc=0.8371, lr=0.1000\n",
      "157 epoch: train_loss=0.3628, train_acc=0.8743, test_loss=0.5251, test_acc=0.8254, lr=0.1000\n",
      "158 epoch: train_loss=0.3658, train_acc=0.8739, test_loss=0.4760, test_acc=0.8403, lr=0.1000\n",
      "159 epoch: train_loss=0.3743, train_acc=0.8707, test_loss=0.4692, test_acc=0.8502, lr=0.1000\n",
      "160 epoch: train_loss=0.3700, train_acc=0.8713, test_loss=0.4024, test_acc=0.8650, lr=0.1000\n",
      "161 epoch: train_loss=0.3664, train_acc=0.8728, test_loss=0.4393, test_acc=0.8554, lr=0.1000\n",
      "162 epoch: train_loss=0.3675, train_acc=0.8728, test_loss=0.4570, test_acc=0.8453, lr=0.1000\n",
      "163 epoch: train_loss=0.3718, train_acc=0.8713, test_loss=0.5818, test_acc=0.8167, lr=0.1000\n",
      "164 epoch: train_loss=0.3669, train_acc=0.8700, test_loss=0.4613, test_acc=0.8508, lr=0.1000\n",
      "165 epoch: train_loss=0.3678, train_acc=0.8719, test_loss=0.4508, test_acc=0.8545, lr=0.1000\n",
      "166 epoch: train_loss=0.3664, train_acc=0.8702, test_loss=0.5098, test_acc=0.8340, lr=0.1000\n",
      "167 epoch: train_loss=0.3715, train_acc=0.8709, test_loss=0.4398, test_acc=0.8539, lr=0.1000\n",
      "168 epoch: train_loss=0.3628, train_acc=0.8741, test_loss=0.4940, test_acc=0.8437, lr=0.1000\n",
      "169 epoch: train_loss=0.3649, train_acc=0.8732, test_loss=0.6414, test_acc=0.8106, lr=0.1000\n",
      "170 epoch: train_loss=0.3665, train_acc=0.8722, test_loss=0.4424, test_acc=0.8557, lr=0.1000\n",
      "171 epoch: train_loss=0.3688, train_acc=0.8714, test_loss=0.4805, test_acc=0.8445, lr=0.1000\n",
      "172 epoch: train_loss=0.3709, train_acc=0.8698, test_loss=0.5610, test_acc=0.8190, lr=0.1000\n",
      "173 epoch: train_loss=0.3650, train_acc=0.8714, test_loss=0.4326, test_acc=0.8600, lr=0.1000\n",
      "174 epoch: train_loss=0.3619, train_acc=0.8735, test_loss=0.3722, test_acc=0.8766, lr=0.1000\n",
      "175 epoch: train_loss=0.3562, train_acc=0.8769, test_loss=0.4258, test_acc=0.8583, lr=0.1000\n",
      "176 epoch: train_loss=0.3665, train_acc=0.8728, test_loss=0.6406, test_acc=0.7977, lr=0.1000\n",
      "177 epoch: train_loss=0.3659, train_acc=0.8731, test_loss=0.4995, test_acc=0.8364, lr=0.1000\n",
      "178 epoch: train_loss=0.3674, train_acc=0.8724, test_loss=0.4574, test_acc=0.8495, lr=0.1000\n",
      "179 epoch: train_loss=0.3667, train_acc=0.8737, test_loss=0.5663, test_acc=0.8132, lr=0.1000\n",
      "180 epoch: train_loss=0.3662, train_acc=0.8725, test_loss=0.5186, test_acc=0.8382, lr=0.1000\n",
      "181 epoch: train_loss=0.3582, train_acc=0.8758, test_loss=0.4885, test_acc=0.8386, lr=0.1000\n",
      "182 epoch: train_loss=0.3624, train_acc=0.8735, test_loss=0.5906, test_acc=0.8051, lr=0.1000\n",
      "183 epoch: train_loss=0.3671, train_acc=0.8714, test_loss=0.4747, test_acc=0.8500, lr=0.1000\n",
      "184 epoch: train_loss=0.3608, train_acc=0.8759, test_loss=0.4461, test_acc=0.8488, lr=0.1000\n",
      "185 epoch: train_loss=0.3649, train_acc=0.8718, test_loss=0.4406, test_acc=0.8579, lr=0.1000\n",
      "186 epoch: train_loss=0.3572, train_acc=0.8738, test_loss=0.5627, test_acc=0.8266, lr=0.1000\n",
      "187 epoch: train_loss=0.3626, train_acc=0.8739, test_loss=0.4177, test_acc=0.8580, lr=0.1000\n",
      "188 epoch: train_loss=0.3626, train_acc=0.8739, test_loss=0.4567, test_acc=0.8438, lr=0.1000\n",
      "189 epoch: train_loss=0.3635, train_acc=0.8723, test_loss=0.5220, test_acc=0.8329, lr=0.1000\n",
      "190 epoch: train_loss=0.3652, train_acc=0.8733, test_loss=0.5014, test_acc=0.8362, lr=0.1000\n",
      "191 epoch: train_loss=0.3649, train_acc=0.8729, test_loss=0.4150, test_acc=0.8615, lr=0.1000\n",
      "192 epoch: train_loss=0.3616, train_acc=0.8746, test_loss=0.6771, test_acc=0.7929, lr=0.1000\n",
      "193 epoch: train_loss=0.3590, train_acc=0.8755, test_loss=0.4562, test_acc=0.8481, lr=0.1000\n",
      "194 epoch: train_loss=0.3589, train_acc=0.8753, test_loss=0.4951, test_acc=0.8467, lr=0.1000\n",
      "195 epoch: train_loss=0.3606, train_acc=0.8739, test_loss=0.4721, test_acc=0.8501, lr=0.1000\n",
      "196 epoch: train_loss=0.3568, train_acc=0.8748, test_loss=0.4744, test_acc=0.8475, lr=0.1000\n",
      "197 epoch: train_loss=0.3598, train_acc=0.8734, test_loss=0.4842, test_acc=0.8425, lr=0.1000\n",
      "198 epoch: train_loss=0.3535, train_acc=0.8766, test_loss=0.5211, test_acc=0.8300, lr=0.1000\n",
      "199 epoch: train_loss=0.3578, train_acc=0.8762, test_loss=0.4967, test_acc=0.8423, lr=0.1000\n",
      "200 epoch: train_loss=0.3563, train_acc=0.8772, test_loss=0.4368, test_acc=0.8560, lr=0.1000\n",
      "201 epoch: train_loss=0.3572, train_acc=0.8754, test_loss=0.5231, test_acc=0.8351, lr=0.1000\n",
      "202 epoch: train_loss=0.3626, train_acc=0.8731, test_loss=0.5129, test_acc=0.8347, lr=0.1000\n",
      "203 epoch: train_loss=0.3563, train_acc=0.8747, test_loss=0.4619, test_acc=0.8501, lr=0.1000\n"
     ]
    }
   ],
   "source": [
    "view.print_all()"
   ]
  },
  {
   "cell_type": "code",
   "execution_count": 54,
   "metadata": {},
   "outputs": [],
   "source": [
    "# CHECK = 5410\n",
    "# logs[\"train_loss\"] = logs[\"train_loss\"][:CHECK]\n",
    "# logs[\"train_acc\"] = logs[\"train_acc\"][:CHECK]\n",
    "# logs[\"valid_loss\"] = logs[\"valid_loss\"][:CHECK]\n",
    "# logs[\"valid_acc\"] = logs[\"valid_acc\"][:CHECK]\n",
    "# logs[\"test_loss\"] = logs[\"test_loss\"][:CHECK]\n",
    "# logs[\"test_acc\"] = logs[\"test_acc\"][:CHECK]\n",
    "# model.load_state_dict(torch.load(f\"models/{file_path}.pth\"))"
   ]
  }
 ],
 "metadata": {
  "kernelspec": {
   "display_name": "base",
   "language": "python",
   "name": "python3"
  },
  "language_info": {
   "codemirror_mode": {
    "name": "ipython",
    "version": 3
   },
   "file_extension": ".py",
   "mimetype": "text/x-python",
   "name": "python",
   "nbconvert_exporter": "python",
   "pygments_lexer": "ipython3",
   "version": "3.11.5"
  }
 },
 "nbformat": 4,
 "nbformat_minor": 2
}
