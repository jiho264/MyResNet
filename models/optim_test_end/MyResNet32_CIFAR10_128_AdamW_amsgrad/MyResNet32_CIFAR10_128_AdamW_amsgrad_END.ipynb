{
 "cells": [
  {
   "cell_type": "markdown",
   "metadata": {},
   "source": [
    "# Import"
   ]
  },
  {
   "cell_type": "code",
   "execution_count": 1,
   "metadata": {},
   "outputs": [],
   "source": [
    "import torch\n",
    "from torch import nn\n",
    "import torchvision\n",
    "from torch.optim.lr_scheduler import ReduceLROnPlateau, MultiStepLR, CosineAnnealingLR\n",
    "from fvcore.nn import FlopCountAnalysis, flop_count_table\n",
    "import sys, os\n",
    "\n",
    "sys.path.append(os.path.dirname(os.path.abspath(os.path.dirname(\"src\"))))\n",
    "\n",
    "from src.Mydataloader import LoadDataset\n",
    "from src.Mymodel import MyResNet34\n",
    "from src.Mymodel import MyResNet_CIFAR\n",
    "from src.Mytraining import DoTraining\n",
    "from src.Earlystopper import EarlyStopper\n",
    "from src.LogViewer import LogViewer"
   ]
  },
  {
   "cell_type": "markdown",
   "metadata": {},
   "source": [
    "# Setup"
   ]
  },
  {
   "cell_type": "code",
   "execution_count": 2,
   "metadata": {},
   "outputs": [],
   "source": [
    "\"\"\"Dataset selection\"\"\"\n",
    "DATASET = \"CIFAR10\"\n",
    "# DATASET = \"CIFAR100\"\n",
    "# DATASET = \"ImageNet2012\"\n",
    "\n",
    "\"\"\"Dataset parameters\"\"\"\n",
    "BATCH = 128\n",
    "SHUFFLE = True\n",
    "NUMOFWORKERS = 8\n",
    "PIN_MEMORY = True\n",
    "SPLIT_RATIO = 0\n",
    "\n",
    "\"\"\"optimizer parameters\"\"\"\n",
    "# OPTIMIZER = \"Adam\"\n",
    "# OPTIMIZER = \"Adam_decay\"\n",
    "# OPTIMIZER = \"SGD\"\n",
    "# OPTIMIZER = \"SGD_nasterov\"\n",
    "# OPTIMIZER = \"AdamW\"\n",
    "OPTIMIZER = \"AdamW_amsgrad\"\n",
    "# OPTIMIZER = \"NAdam\"\n",
    "\"\"\"Learning rate scheduler parameters\"\"\"\n",
    "NUM_EPOCHS = 180\n",
    "\n",
    "\"\"\"Early stopping parameters\"\"\"\n",
    "EARLYSTOPPINGPATIENCE = 150\n",
    "\n",
    "file_path = f\"MyResNet34_{BATCH}_{OPTIMIZER}\""
   ]
  },
  {
   "cell_type": "code",
   "execution_count": 3,
   "metadata": {},
   "outputs": [
    {
     "data": {
      "text/plain": [
       "'MyResNet34_128_AdamW_amsgrad'"
      ]
     },
     "execution_count": 3,
     "metadata": {},
     "output_type": "execute_result"
    }
   ],
   "source": [
    "file_path"
   ]
  },
  {
   "cell_type": "markdown",
   "metadata": {},
   "source": [
    "# Loading the dataset"
   ]
  },
  {
   "cell_type": "markdown",
   "metadata": {},
   "source": [
    "## Define Dateloader"
   ]
  },
  {
   "cell_type": "code",
   "execution_count": 4,
   "metadata": {},
   "outputs": [
    {
     "name": "stderr",
     "output_type": "stream",
     "text": [
      "/home/lee/anaconda3/lib/python3.11/site-packages/torchvision/transforms/v2/_deprecated.py:43: UserWarning: The transform `ToTensor()` is deprecated and will be removed in a future release. Instead, please use `v2.Compose([v2.ToImage(), v2.ToDtype(torch.float32, scale=True)])`.\n",
      "  warnings.warn(\n"
     ]
    },
    {
     "name": "stdout",
     "output_type": "stream",
     "text": [
      "-----------------------------------------------------------------------\n",
      "Dataset :  CIFAR10\n",
      "- Length of Train Set :  50000\n",
      "- Length of Test Set :  10000\n",
      "- Count of Classes :  10\n",
      "-----------------------------------------------------------------------\n"
     ]
    }
   ],
   "source": [
    "tmp = LoadDataset(root=\"../../data\", seceted_dataset=DATASET, split_ratio=SPLIT_RATIO)\n",
    "train_data, valid_data, test_data, COUNT_OF_CLASSES = tmp.Unpack()"
   ]
  },
  {
   "cell_type": "code",
   "execution_count": 5,
   "metadata": {},
   "outputs": [
    {
     "name": "stdout",
     "output_type": "stream",
     "text": [
      "train.transforms = Compose(\n",
      "      AutoAugment(interpolation=InterpolationMode.NEAREST, policy=AutoAugmentPolicy.CIFAR10)\n",
      "      RandomCrop(size=(32, 32), padding=[4, 4, 4, 4], pad_if_needed=False, fill=0, padding_mode=constant)\n",
      "      RandomHorizontalFlip(p=0.5)\n",
      "      ToTensor()\n",
      "      Normalize(mean=[0.49139968, 0.48215827, 0.44653124], std=[1, 1, 1], inplace=True)\n",
      ") 128\n",
      "test.transforms = ToTensor() 128\n"
     ]
    }
   ],
   "source": [
    "train_dataloader, valid_dataloader, test_dataloader = tmp.get_dataloader(\n",
    "    batch_size=BATCH, shuffle=SHUFFLE, num_workers=NUMOFWORKERS, pin_memory=PIN_MEMORY\n",
    ")"
   ]
  },
  {
   "cell_type": "markdown",
   "metadata": {},
   "source": [
    "# Define ResNet"
   ]
  },
  {
   "cell_type": "markdown",
   "metadata": {},
   "source": [
    "## Model Confirm"
   ]
  },
  {
   "cell_type": "code",
   "execution_count": 6,
   "metadata": {},
   "outputs": [
    {
     "data": {
      "text/plain": [
       "device(type='cuda')"
      ]
     },
     "execution_count": 6,
     "metadata": {},
     "output_type": "execute_result"
    }
   ],
   "source": [
    "device = torch.device(\"cuda\" if torch.cuda.is_available() else \"cpu\")\n",
    "device"
   ]
  },
  {
   "cell_type": "code",
   "execution_count": 7,
   "metadata": {},
   "outputs": [],
   "source": [
    "model = MyResNet_CIFAR(num_classes=COUNT_OF_CLASSES, num_layer_factor=5).to(device)"
   ]
  },
  {
   "cell_type": "markdown",
   "metadata": {},
   "source": [
    "# Define Training"
   ]
  },
  {
   "cell_type": "markdown",
   "metadata": {},
   "source": [
    "## (1) Define Criterion"
   ]
  },
  {
   "cell_type": "code",
   "execution_count": 8,
   "metadata": {},
   "outputs": [],
   "source": [
    "criterion = nn.CrossEntropyLoss()"
   ]
  },
  {
   "cell_type": "markdown",
   "metadata": {},
   "source": [
    "## (2) Define Optimazer"
   ]
  },
  {
   "cell_type": "code",
   "execution_count": 9,
   "metadata": {},
   "outputs": [],
   "source": [
    "if OPTIMIZER == \"Adam\":\n",
    "    optimizer = torch.optim.Adam(model.parameters())\n",
    "elif OPTIMIZER == \"Adam_decay\":\n",
    "    optimizer = torch.optim.Adam(model.parameters(), weight_decay=1e-4)\n",
    "elif OPTIMIZER == \"SGD\":\n",
    "    optimizer = torch.optim.SGD(\n",
    "        model.parameters(), lr=0.1, momentum=0.9, weight_decay=1e-4\n",
    "    )\n",
    "elif OPTIMIZER == \"SGD_nasterov\":\n",
    "    optimizer = torch.optim.SGD(\n",
    "        model.parameters(), lr=0.1, momentum=0.9, weight_decay=1e-4, nesterov=True\n",
    "    )\n",
    "elif OPTIMIZER == \"AdamW\":\n",
    "    optimizer = torch.optim.AdamW(model.parameters(), weight_decay=1e-4)\n",
    "elif OPTIMIZER == \"AdamW_amsgrad\":\n",
    "    optimizer = torch.optim.AdamW(model.parameters(), weight_decay=1e-4, amsgrad=True)\n",
    "elif OPTIMIZER == \"NAdam\":\n",
    "    optimizer = torch.optim.NAdam(model.parameters(), weight_decay=1e-4)"
   ]
  },
  {
   "cell_type": "markdown",
   "metadata": {},
   "source": [
    "## (3) Define Early Stopping"
   ]
  },
  {
   "cell_type": "code",
   "execution_count": 10,
   "metadata": {},
   "outputs": [],
   "source": [
    "earlystopper = EarlyStopper(patience=EARLYSTOPPINGPATIENCE, model=model, file_name=file_path)"
   ]
  },
  {
   "cell_type": "markdown",
   "metadata": {},
   "source": [
    "## (4) Define Learning Rate schedualer"
   ]
  },
  {
   "cell_type": "code",
   "execution_count": 11,
   "metadata": {},
   "outputs": [],
   "source": [
    "scheduler = CosineAnnealingLR(optimizer, T_max=NUM_EPOCHS, eta_min=0)"
   ]
  },
  {
   "cell_type": "markdown",
   "metadata": {},
   "source": [
    "## (5) Define AMP scaler"
   ]
  },
  {
   "cell_type": "code",
   "execution_count": 12,
   "metadata": {},
   "outputs": [],
   "source": [
    "scaler = torch.cuda.amp.GradScaler(enabled=True)"
   ]
  },
  {
   "cell_type": "markdown",
   "metadata": {},
   "source": [
    "## Load before process"
   ]
  },
  {
   "cell_type": "code",
   "execution_count": 13,
   "metadata": {},
   "outputs": [
    {
     "name": "stdout",
     "output_type": "stream",
     "text": [
      "Suceessfully loaded the All setting and Log file.\n",
      "MyResNet34_128_AdamW_amsgrad\n",
      "Current epoch is 22\n",
      "Current learning rate: 0.001\n"
     ]
    }
   ],
   "source": [
    "if os.path.exists(file_path + \".pth.tar\"):\n",
    "    # Read checkpoint as desired, e.g.,\n",
    "    checkpoint = torch.load(\n",
    "        file_path + \".pth.tar\",\n",
    "        map_location=lambda storage, loc: storage.cuda(device),\n",
    "    )\n",
    "    model.load_state_dict(checkpoint[\"model\"])\n",
    "    optimizer.load_state_dict(checkpoint[\"optimizer\"])\n",
    "    scaler.load_state_dict(checkpoint[\"scaler\"])\n",
    "    scheduler.load_state_dict(checkpoint[\"scheduler\"])\n",
    "    earlystopper.load_state_dict(checkpoint[\"earlystopper\"])\n",
    "    logs = checkpoint[\"logs\"]\n",
    "\n",
    "    print(\"Suceessfully loaded the All setting and Log file.\")\n",
    "    print(file_path)\n",
    "    print(f\"Current epoch is {len(logs['train_loss'])}\")\n",
    "    print(f\"Current learning rate: {optimizer.param_groups[0]['lr']}\")\n",
    "else:\n",
    "    # Create a dictionary to store the variables\n",
    "    train_loss = []\n",
    "    train_acc = []\n",
    "    eval_loss = []\n",
    "    valid_acc = []\n",
    "    test_loss = []\n",
    "    test_acc = []\n",
    "    lr_log = []\n",
    "    logs = {\n",
    "        \"train_loss\": train_loss,\n",
    "        \"train_acc\": train_acc,\n",
    "        \"valid_loss\": eval_loss,\n",
    "        \"valid_acc\": valid_acc,\n",
    "        \"test_loss\": test_loss,\n",
    "        \"test_acc\": test_acc,\n",
    "        \"lr_log\": lr_log,\n",
    "    }\n",
    "    print(\"File does not exist. Created a new log.\")"
   ]
  },
  {
   "cell_type": "code",
   "execution_count": 14,
   "metadata": {},
   "outputs": [
    {
     "data": {
      "text/plain": [
       "0.001"
      ]
     },
     "execution_count": 14,
     "metadata": {},
     "output_type": "execute_result"
    }
   ],
   "source": [
    "optimizer.param_groups[0][\"lr\"]"
   ]
  },
  {
   "cell_type": "code",
   "execution_count": 15,
   "metadata": {},
   "outputs": [
    {
     "data": {
      "text/plain": [
       "0"
      ]
     },
     "execution_count": 15,
     "metadata": {},
     "output_type": "execute_result"
    }
   ],
   "source": [
    "earlystopper.early_stop_counter"
   ]
  },
  {
   "cell_type": "markdown",
   "metadata": {},
   "source": [
    "# [Training Loop]"
   ]
  },
  {
   "cell_type": "code",
   "execution_count": 16,
   "metadata": {},
   "outputs": [],
   "source": [
    "if valid_data is None:\n",
    "    valid_dataloader = None\n",
    "if test_data is None:\n",
    "    test_dataloader = None"
   ]
  },
  {
   "cell_type": "code",
   "execution_count": 17,
   "metadata": {},
   "outputs": [
    {
     "name": "stdout",
     "output_type": "stream",
     "text": [
      "[Epoch 23/180] :\n"
     ]
    },
    {
     "name": "stderr",
     "output_type": "stream",
     "text": [
      "23 Train:   0%|                | 0/391 [00:00<?, ?it/s]"
     ]
    },
    {
     "name": "stderr",
     "output_type": "stream",
     "text": [
      "23 Train: 100%|██████| 391/391 [00:20<00:00, 18.91it/s]"
     ]
    },
    {
     "name": "stdout",
     "output_type": "stream",
     "text": [
      "Train Loss: 0.5065 | Train Acc: 82.24%\n"
     ]
    },
    {
     "name": "stderr",
     "output_type": "stream",
     "text": [
      "\n"
     ]
    },
    {
     "name": "stdout",
     "output_type": "stream",
     "text": [
      "Test  Loss: 0.6190 | Test Acc: 79.78%\n",
      "--------------------------------------------------\n",
      "[Epoch 24/180] :\n"
     ]
    },
    {
     "name": "stderr",
     "output_type": "stream",
     "text": [
      "24 Train: 100%|██████| 391/391 [00:18<00:00, 21.37it/s]\n"
     ]
    },
    {
     "name": "stdout",
     "output_type": "stream",
     "text": [
      "Train Loss: 0.4972 | Train Acc: 82.67%\n",
      "Test  Loss: 0.4951 | Test Acc: 83.17%\n",
      "updated best eval loss : 0.4950697452207155\n",
      "--------------------------------------------------\n",
      "[Epoch 25/180] :\n"
     ]
    },
    {
     "name": "stderr",
     "output_type": "stream",
     "text": [
      "25 Train: 100%|██████| 391/391 [00:17<00:00, 21.78it/s]\n"
     ]
    },
    {
     "name": "stdout",
     "output_type": "stream",
     "text": [
      "Train Loss: 0.4869 | Train Acc: 83.02%\n",
      "Test  Loss: 0.4564 | Test Acc: 84.36%\n",
      "updated best eval loss : 0.4563586029070842\n",
      "--------------------------------------------------\n",
      "[Epoch 26/180] :\n"
     ]
    },
    {
     "name": "stderr",
     "output_type": "stream",
     "text": [
      "26 Train: 100%|██████| 391/391 [00:17<00:00, 22.67it/s]\n"
     ]
    },
    {
     "name": "stdout",
     "output_type": "stream",
     "text": [
      "Train Loss: 0.4830 | Train Acc: 83.27%\n",
      "Test  Loss: 0.5688 | Test Acc: 80.82%\n",
      "--------------------------------------------------\n",
      "[Epoch 27/180] :\n"
     ]
    },
    {
     "name": "stderr",
     "output_type": "stream",
     "text": [
      "27 Train: 100%|██████| 391/391 [00:18<00:00, 21.32it/s]\n"
     ]
    },
    {
     "name": "stdout",
     "output_type": "stream",
     "text": [
      "Train Loss: 0.4704 | Train Acc: 83.77%\n",
      "Test  Loss: 0.5098 | Test Acc: 82.86%\n",
      "--------------------------------------------------\n",
      "[Epoch 28/180] :\n"
     ]
    },
    {
     "name": "stderr",
     "output_type": "stream",
     "text": [
      "28 Train: 100%|██████| 391/391 [00:17<00:00, 22.00it/s]\n"
     ]
    },
    {
     "name": "stdout",
     "output_type": "stream",
     "text": [
      "Train Loss: 0.4674 | Train Acc: 83.66%\n",
      "Test  Loss: 0.5356 | Test Acc: 81.53%\n",
      "--------------------------------------------------\n",
      "[Epoch 29/180] :\n"
     ]
    },
    {
     "name": "stderr",
     "output_type": "stream",
     "text": [
      "29 Train: 100%|██████| 391/391 [00:17<00:00, 22.58it/s]\n"
     ]
    },
    {
     "name": "stdout",
     "output_type": "stream",
     "text": [
      "Train Loss: 0.4549 | Train Acc: 84.03%\n",
      "Test  Loss: 0.5698 | Test Acc: 81.05%\n",
      "--------------------------------------------------\n",
      "[Epoch 30/180] :\n"
     ]
    },
    {
     "name": "stderr",
     "output_type": "stream",
     "text": [
      "30 Train: 100%|██████| 391/391 [00:17<00:00, 22.17it/s]\n"
     ]
    },
    {
     "name": "stdout",
     "output_type": "stream",
     "text": [
      "Train Loss: 0.4555 | Train Acc: 83.97%\n",
      "Test  Loss: 0.5860 | Test Acc: 80.74%\n",
      "--------------------------------------------------\n",
      "[Epoch 31/180] :\n"
     ]
    },
    {
     "name": "stderr",
     "output_type": "stream",
     "text": [
      "31 Train: 100%|██████| 391/391 [00:17<00:00, 21.98it/s]\n"
     ]
    },
    {
     "name": "stdout",
     "output_type": "stream",
     "text": [
      "Train Loss: 0.4441 | Train Acc: 84.65%\n",
      "Test  Loss: 0.5392 | Test Acc: 82.43%\n",
      "--------------------------------------------------\n",
      "[Epoch 32/180] :\n"
     ]
    },
    {
     "name": "stderr",
     "output_type": "stream",
     "text": [
      "32 Train: 100%|██████| 391/391 [00:18<00:00, 21.64it/s]\n"
     ]
    },
    {
     "name": "stdout",
     "output_type": "stream",
     "text": [
      "Train Loss: 0.4373 | Train Acc: 84.76%\n",
      "Test  Loss: 0.5062 | Test Acc: 83.44%\n",
      "--------------------------------------------------\n",
      "[Epoch 33/180] :\n"
     ]
    },
    {
     "name": "stderr",
     "output_type": "stream",
     "text": [
      "33 Train: 100%|██████| 391/391 [00:18<00:00, 21.44it/s]\n"
     ]
    },
    {
     "name": "stdout",
     "output_type": "stream",
     "text": [
      "Train Loss: 0.4350 | Train Acc: 84.70%\n",
      "Test  Loss: 0.4813 | Test Acc: 84.07%\n",
      "--------------------------------------------------\n",
      "[Epoch 34/180] :\n"
     ]
    },
    {
     "name": "stderr",
     "output_type": "stream",
     "text": [
      "34 Train: 100%|██████| 391/391 [00:17<00:00, 22.64it/s]\n"
     ]
    },
    {
     "name": "stdout",
     "output_type": "stream",
     "text": [
      "Train Loss: 0.4336 | Train Acc: 84.85%\n",
      "Test  Loss: 0.4518 | Test Acc: 84.65%\n",
      "updated best eval loss : 0.4517932900145084\n",
      "--------------------------------------------------\n",
      "[Epoch 35/180] :\n"
     ]
    },
    {
     "name": "stderr",
     "output_type": "stream",
     "text": [
      "35 Train: 100%|██████| 391/391 [00:17<00:00, 22.58it/s]\n"
     ]
    },
    {
     "name": "stdout",
     "output_type": "stream",
     "text": [
      "Train Loss: 0.4237 | Train Acc: 85.04%\n",
      "Test  Loss: 0.4531 | Test Acc: 84.58%\n",
      "--------------------------------------------------\n",
      "[Epoch 36/180] :\n"
     ]
    },
    {
     "name": "stderr",
     "output_type": "stream",
     "text": [
      "36 Train: 100%|██████| 391/391 [00:18<00:00, 20.91it/s]\n"
     ]
    },
    {
     "name": "stdout",
     "output_type": "stream",
     "text": [
      "Train Loss: 0.4197 | Train Acc: 85.34%\n",
      "Test  Loss: 0.5532 | Test Acc: 82.44%\n",
      "--------------------------------------------------\n",
      "[Epoch 37/180] :\n"
     ]
    },
    {
     "name": "stderr",
     "output_type": "stream",
     "text": [
      "37 Train: 100%|██████| 391/391 [00:17<00:00, 22.51it/s]\n"
     ]
    },
    {
     "name": "stdout",
     "output_type": "stream",
     "text": [
      "Train Loss: 0.4152 | Train Acc: 85.44%\n",
      "Test  Loss: 0.5219 | Test Acc: 82.64%\n",
      "--------------------------------------------------\n",
      "[Epoch 38/180] :\n"
     ]
    },
    {
     "name": "stderr",
     "output_type": "stream",
     "text": [
      "38 Train: 100%|██████| 391/391 [00:17<00:00, 22.26it/s]\n"
     ]
    },
    {
     "name": "stdout",
     "output_type": "stream",
     "text": [
      "Train Loss: 0.4144 | Train Acc: 85.48%\n",
      "Test  Loss: 0.4388 | Test Acc: 85.11%\n",
      "updated best eval loss : 0.43875156361845474\n",
      "--------------------------------------------------\n",
      "[Epoch 39/180] :\n"
     ]
    },
    {
     "name": "stderr",
     "output_type": "stream",
     "text": [
      "39 Train: 100%|██████| 391/391 [00:17<00:00, 22.16it/s]\n"
     ]
    },
    {
     "name": "stdout",
     "output_type": "stream",
     "text": [
      "Train Loss: 0.4028 | Train Acc: 85.91%\n",
      "Test  Loss: 0.5556 | Test Acc: 81.83%\n",
      "--------------------------------------------------\n",
      "[Epoch 40/180] :\n"
     ]
    },
    {
     "name": "stderr",
     "output_type": "stream",
     "text": [
      "40 Train: 100%|██████| 391/391 [00:17<00:00, 22.50it/s]\n"
     ]
    },
    {
     "name": "stdout",
     "output_type": "stream",
     "text": [
      "Train Loss: 0.4002 | Train Acc: 86.19%\n",
      "Test  Loss: 0.4339 | Test Acc: 85.23%\n",
      "updated best eval loss : 0.43390082388739043\n",
      "--------------------------------------------------\n",
      "[Epoch 41/180] :\n"
     ]
    },
    {
     "name": "stderr",
     "output_type": "stream",
     "text": [
      "41 Train: 100%|██████| 391/391 [00:17<00:00, 22.13it/s]\n"
     ]
    },
    {
     "name": "stdout",
     "output_type": "stream",
     "text": [
      "Train Loss: 0.3986 | Train Acc: 86.13%\n",
      "Test  Loss: 0.4963 | Test Acc: 83.81%\n",
      "--------------------------------------------------\n",
      "[Epoch 42/180] :\n"
     ]
    },
    {
     "name": "stderr",
     "output_type": "stream",
     "text": [
      "42 Train: 100%|██████| 391/391 [00:17<00:00, 22.73it/s]\n"
     ]
    },
    {
     "name": "stdout",
     "output_type": "stream",
     "text": [
      "Train Loss: 0.3849 | Train Acc: 86.46%\n",
      "Test  Loss: 0.4768 | Test Acc: 84.15%\n",
      "--------------------------------------------------\n",
      "[Epoch 43/180] :\n"
     ]
    },
    {
     "name": "stderr",
     "output_type": "stream",
     "text": [
      "43 Train: 100%|██████| 391/391 [00:18<00:00, 21.09it/s]\n"
     ]
    },
    {
     "name": "stdout",
     "output_type": "stream",
     "text": [
      "Train Loss: 0.3888 | Train Acc: 86.34%\n",
      "Test  Loss: 0.5273 | Test Acc: 82.48%\n",
      "--------------------------------------------------\n",
      "[Epoch 44/180] :\n"
     ]
    },
    {
     "name": "stderr",
     "output_type": "stream",
     "text": [
      "44 Train: 100%|██████| 391/391 [00:18<00:00, 21.59it/s]\n"
     ]
    },
    {
     "name": "stdout",
     "output_type": "stream",
     "text": [
      "Train Loss: 0.3814 | Train Acc: 86.72%\n",
      "Test  Loss: 0.4611 | Test Acc: 84.89%\n",
      "--------------------------------------------------\n",
      "[Epoch 45/180] :\n"
     ]
    },
    {
     "name": "stderr",
     "output_type": "stream",
     "text": [
      "45 Train: 100%|██████| 391/391 [00:17<00:00, 22.42it/s]\n"
     ]
    },
    {
     "name": "stdout",
     "output_type": "stream",
     "text": [
      "Train Loss: 0.3859 | Train Acc: 86.39%\n",
      "Test  Loss: 0.4918 | Test Acc: 83.73%\n",
      "--------------------------------------------------\n",
      "[Epoch 46/180] :\n"
     ]
    },
    {
     "name": "stderr",
     "output_type": "stream",
     "text": [
      "46 Train: 100%|██████| 391/391 [00:17<00:00, 22.40it/s]\n"
     ]
    },
    {
     "name": "stdout",
     "output_type": "stream",
     "text": [
      "Train Loss: 0.3781 | Train Acc: 86.73%\n",
      "Test  Loss: 0.4558 | Test Acc: 84.74%\n",
      "--------------------------------------------------\n",
      "[Epoch 47/180] :\n"
     ]
    },
    {
     "name": "stderr",
     "output_type": "stream",
     "text": [
      "47 Train: 100%|██████| 391/391 [00:17<00:00, 21.76it/s]\n"
     ]
    },
    {
     "name": "stdout",
     "output_type": "stream",
     "text": [
      "Train Loss: 0.3741 | Train Acc: 86.88%\n",
      "Test  Loss: 0.4358 | Test Acc: 85.14%\n",
      "--------------------------------------------------\n",
      "[Epoch 48/180] :\n"
     ]
    },
    {
     "name": "stderr",
     "output_type": "stream",
     "text": [
      "48 Train: 100%|██████| 391/391 [00:17<00:00, 22.28it/s]\n"
     ]
    },
    {
     "name": "stdout",
     "output_type": "stream",
     "text": [
      "Train Loss: 0.3701 | Train Acc: 87.06%\n",
      "Test  Loss: 0.4742 | Test Acc: 84.74%\n",
      "--------------------------------------------------\n",
      "[Epoch 49/180] :\n"
     ]
    },
    {
     "name": "stderr",
     "output_type": "stream",
     "text": [
      "49 Train: 100%|██████| 391/391 [00:18<00:00, 21.63it/s]\n"
     ]
    },
    {
     "name": "stdout",
     "output_type": "stream",
     "text": [
      "Train Loss: 0.3677 | Train Acc: 87.13%\n",
      "Test  Loss: 0.4560 | Test Acc: 85.09%\n",
      "--------------------------------------------------\n",
      "[Epoch 50/180] :\n"
     ]
    },
    {
     "name": "stderr",
     "output_type": "stream",
     "text": [
      "50 Train: 100%|██████| 391/391 [00:17<00:00, 22.39it/s]\n"
     ]
    },
    {
     "name": "stdout",
     "output_type": "stream",
     "text": [
      "Train Loss: 0.3684 | Train Acc: 86.99%\n",
      "Test  Loss: 0.4905 | Test Acc: 83.84%\n",
      "--------------------------------------------------\n",
      "[Epoch 51/180] :\n"
     ]
    },
    {
     "name": "stderr",
     "output_type": "stream",
     "text": [
      "51 Train: 100%|██████| 391/391 [00:18<00:00, 21.29it/s]\n"
     ]
    },
    {
     "name": "stdout",
     "output_type": "stream",
     "text": [
      "Train Loss: 0.3642 | Train Acc: 87.23%\n",
      "Test  Loss: 0.4511 | Test Acc: 85.27%\n",
      "--------------------------------------------------\n",
      "[Epoch 52/180] :\n"
     ]
    },
    {
     "name": "stderr",
     "output_type": "stream",
     "text": [
      "52 Train: 100%|██████| 391/391 [00:17<00:00, 22.51it/s]\n"
     ]
    },
    {
     "name": "stdout",
     "output_type": "stream",
     "text": [
      "Train Loss: 0.3606 | Train Acc: 87.34%\n",
      "Test  Loss: 0.4626 | Test Acc: 84.95%\n",
      "--------------------------------------------------\n",
      "[Epoch 53/180] :\n"
     ]
    },
    {
     "name": "stderr",
     "output_type": "stream",
     "text": [
      "53 Train: 100%|██████| 391/391 [00:17<00:00, 21.88it/s]\n"
     ]
    },
    {
     "name": "stdout",
     "output_type": "stream",
     "text": [
      "Train Loss: 0.3508 | Train Acc: 87.70%\n",
      "Test  Loss: 0.4598 | Test Acc: 85.15%\n",
      "--------------------------------------------------\n",
      "[Epoch 54/180] :\n"
     ]
    },
    {
     "name": "stderr",
     "output_type": "stream",
     "text": [
      "54 Train: 100%|██████| 391/391 [00:18<00:00, 21.52it/s]\n"
     ]
    },
    {
     "name": "stdout",
     "output_type": "stream",
     "text": [
      "Train Loss: 0.3538 | Train Acc: 87.44%\n",
      "Test  Loss: 0.4155 | Test Acc: 86.21%\n",
      "updated best eval loss : 0.41552657417104216\n",
      "--------------------------------------------------\n",
      "[Epoch 55/180] :\n"
     ]
    },
    {
     "name": "stderr",
     "output_type": "stream",
     "text": [
      "55 Train: 100%|██████| 391/391 [00:17<00:00, 22.95it/s]\n"
     ]
    },
    {
     "name": "stdout",
     "output_type": "stream",
     "text": [
      "Train Loss: 0.3477 | Train Acc: 87.71%\n",
      "Test  Loss: 0.4195 | Test Acc: 85.85%\n",
      "--------------------------------------------------\n",
      "[Epoch 56/180] :\n"
     ]
    },
    {
     "name": "stderr",
     "output_type": "stream",
     "text": [
      "56 Train: 100%|██████| 391/391 [00:17<00:00, 22.26it/s]\n"
     ]
    },
    {
     "name": "stdout",
     "output_type": "stream",
     "text": [
      "Train Loss: 0.3464 | Train Acc: 87.93%\n",
      "Test  Loss: 0.4412 | Test Acc: 85.38%\n",
      "--------------------------------------------------\n",
      "[Epoch 57/180] :\n"
     ]
    },
    {
     "name": "stderr",
     "output_type": "stream",
     "text": [
      "57 Train: 100%|██████| 391/391 [00:17<00:00, 22.26it/s]\n"
     ]
    },
    {
     "name": "stdout",
     "output_type": "stream",
     "text": [
      "Train Loss: 0.3426 | Train Acc: 88.08%\n",
      "Test  Loss: 0.4533 | Test Acc: 84.99%\n",
      "--------------------------------------------------\n",
      "[Epoch 58/180] :\n"
     ]
    },
    {
     "name": "stderr",
     "output_type": "stream",
     "text": [
      "58 Train: 100%|██████| 391/391 [00:17<00:00, 22.34it/s]\n"
     ]
    },
    {
     "name": "stdout",
     "output_type": "stream",
     "text": [
      "Train Loss: 0.3430 | Train Acc: 88.02%\n",
      "Test  Loss: 0.4175 | Test Acc: 86.55%\n",
      "--------------------------------------------------\n",
      "[Epoch 59/180] :\n"
     ]
    },
    {
     "name": "stderr",
     "output_type": "stream",
     "text": [
      "59 Train: 100%|██████| 391/391 [00:17<00:00, 21.92it/s]\n"
     ]
    },
    {
     "name": "stdout",
     "output_type": "stream",
     "text": [
      "Train Loss: 0.3363 | Train Acc: 88.27%\n",
      "Test  Loss: 0.4164 | Test Acc: 86.54%\n",
      "--------------------------------------------------\n",
      "[Epoch 60/180] :\n"
     ]
    },
    {
     "name": "stderr",
     "output_type": "stream",
     "text": [
      "60 Train: 100%|██████| 391/391 [00:17<00:00, 22.18it/s]\n"
     ]
    },
    {
     "name": "stdout",
     "output_type": "stream",
     "text": [
      "Train Loss: 0.3311 | Train Acc: 88.40%\n",
      "Test  Loss: 0.3891 | Test Acc: 86.71%\n",
      "updated best eval loss : 0.3891464002619061\n",
      "--------------------------------------------------\n",
      "[Epoch 61/180] :\n"
     ]
    },
    {
     "name": "stderr",
     "output_type": "stream",
     "text": [
      "61 Train: 100%|██████| 391/391 [00:17<00:00, 22.76it/s]\n"
     ]
    },
    {
     "name": "stdout",
     "output_type": "stream",
     "text": [
      "Train Loss: 0.3344 | Train Acc: 88.41%\n",
      "Test  Loss: 0.4579 | Test Acc: 85.53%\n",
      "--------------------------------------------------\n",
      "[Epoch 62/180] :\n"
     ]
    },
    {
     "name": "stderr",
     "output_type": "stream",
     "text": [
      "62 Train: 100%|██████| 391/391 [00:17<00:00, 21.74it/s]\n"
     ]
    },
    {
     "name": "stdout",
     "output_type": "stream",
     "text": [
      "Train Loss: 0.3284 | Train Acc: 88.51%\n",
      "Test  Loss: 0.4336 | Test Acc: 86.22%\n",
      "--------------------------------------------------\n",
      "[Epoch 63/180] :\n"
     ]
    },
    {
     "name": "stderr",
     "output_type": "stream",
     "text": [
      "63 Train: 100%|██████| 391/391 [00:17<00:00, 21.74it/s]\n"
     ]
    },
    {
     "name": "stdout",
     "output_type": "stream",
     "text": [
      "Train Loss: 0.3248 | Train Acc: 88.58%\n",
      "Test  Loss: 0.4659 | Test Acc: 85.64%\n",
      "--------------------------------------------------\n",
      "[Epoch 64/180] :\n"
     ]
    },
    {
     "name": "stderr",
     "output_type": "stream",
     "text": [
      "64 Train: 100%|██████| 391/391 [00:18<00:00, 21.29it/s]\n"
     ]
    },
    {
     "name": "stdout",
     "output_type": "stream",
     "text": [
      "Train Loss: 0.3259 | Train Acc: 88.72%\n",
      "Test  Loss: 0.4186 | Test Acc: 86.33%\n",
      "--------------------------------------------------\n",
      "[Epoch 65/180] :\n"
     ]
    },
    {
     "name": "stderr",
     "output_type": "stream",
     "text": [
      "65 Train: 100%|██████| 391/391 [00:17<00:00, 21.81it/s]\n"
     ]
    },
    {
     "name": "stdout",
     "output_type": "stream",
     "text": [
      "Train Loss: 0.3209 | Train Acc: 88.77%\n",
      "Test  Loss: 0.4221 | Test Acc: 86.25%\n",
      "--------------------------------------------------\n",
      "[Epoch 66/180] :\n"
     ]
    },
    {
     "name": "stderr",
     "output_type": "stream",
     "text": [
      "66 Train: 100%|██████| 391/391 [00:17<00:00, 22.98it/s]\n"
     ]
    },
    {
     "name": "stdout",
     "output_type": "stream",
     "text": [
      "Train Loss: 0.3206 | Train Acc: 88.64%\n",
      "Test  Loss: 0.3861 | Test Acc: 87.48%\n",
      "updated best eval loss : 0.3861015259842329\n",
      "--------------------------------------------------\n",
      "[Epoch 67/180] :\n"
     ]
    },
    {
     "name": "stderr",
     "output_type": "stream",
     "text": [
      "67 Train: 100%|██████| 391/391 [00:17<00:00, 22.10it/s]\n"
     ]
    },
    {
     "name": "stdout",
     "output_type": "stream",
     "text": [
      "Train Loss: 0.3197 | Train Acc: 88.82%\n",
      "Test  Loss: 0.4589 | Test Acc: 85.31%\n",
      "--------------------------------------------------\n",
      "[Epoch 68/180] :\n"
     ]
    },
    {
     "name": "stderr",
     "output_type": "stream",
     "text": [
      "68 Train: 100%|██████| 391/391 [00:17<00:00, 22.46it/s]\n"
     ]
    },
    {
     "name": "stdout",
     "output_type": "stream",
     "text": [
      "Train Loss: 0.3179 | Train Acc: 88.92%\n",
      "Test  Loss: 0.5362 | Test Acc: 82.89%\n",
      "--------------------------------------------------\n",
      "[Epoch 69/180] :\n"
     ]
    },
    {
     "name": "stderr",
     "output_type": "stream",
     "text": [
      "69 Train: 100%|██████| 391/391 [00:17<00:00, 21.90it/s]\n"
     ]
    },
    {
     "name": "stdout",
     "output_type": "stream",
     "text": [
      "Train Loss: 0.3148 | Train Acc: 88.97%\n",
      "Test  Loss: 0.4188 | Test Acc: 86.60%\n",
      "--------------------------------------------------\n",
      "[Epoch 70/180] :\n"
     ]
    },
    {
     "name": "stderr",
     "output_type": "stream",
     "text": [
      "70 Train: 100%|██████| 391/391 [00:18<00:00, 21.54it/s]\n"
     ]
    },
    {
     "name": "stdout",
     "output_type": "stream",
     "text": [
      "Train Loss: 0.3129 | Train Acc: 88.92%\n",
      "Test  Loss: 0.4985 | Test Acc: 84.45%\n",
      "--------------------------------------------------\n",
      "[Epoch 71/180] :\n"
     ]
    },
    {
     "name": "stderr",
     "output_type": "stream",
     "text": [
      "71 Train: 100%|██████| 391/391 [00:17<00:00, 22.79it/s]\n"
     ]
    },
    {
     "name": "stdout",
     "output_type": "stream",
     "text": [
      "Train Loss: 0.3106 | Train Acc: 89.12%\n",
      "Test  Loss: 0.4728 | Test Acc: 85.31%\n",
      "--------------------------------------------------\n",
      "[Epoch 72/180] :\n"
     ]
    },
    {
     "name": "stderr",
     "output_type": "stream",
     "text": [
      "72 Train: 100%|██████| 391/391 [00:17<00:00, 22.22it/s]\n"
     ]
    },
    {
     "name": "stdout",
     "output_type": "stream",
     "text": [
      "Train Loss: 0.3093 | Train Acc: 89.19%\n",
      "Test  Loss: 0.4513 | Test Acc: 85.89%\n",
      "--------------------------------------------------\n",
      "[Epoch 73/180] :\n"
     ]
    },
    {
     "name": "stderr",
     "output_type": "stream",
     "text": [
      "73 Train: 100%|██████| 391/391 [00:18<00:00, 21.03it/s]\n"
     ]
    },
    {
     "name": "stdout",
     "output_type": "stream",
     "text": [
      "Train Loss: 0.3056 | Train Acc: 89.32%\n",
      "Test  Loss: 0.5289 | Test Acc: 83.77%\n",
      "--------------------------------------------------\n",
      "[Epoch 74/180] :\n"
     ]
    },
    {
     "name": "stderr",
     "output_type": "stream",
     "text": [
      "74 Train: 100%|██████| 391/391 [00:18<00:00, 21.58it/s]\n"
     ]
    },
    {
     "name": "stdout",
     "output_type": "stream",
     "text": [
      "Train Loss: 0.3103 | Train Acc: 89.16%\n",
      "Test  Loss: 0.4503 | Test Acc: 86.13%\n",
      "--------------------------------------------------\n",
      "[Epoch 75/180] :\n"
     ]
    },
    {
     "name": "stderr",
     "output_type": "stream",
     "text": [
      "75 Train: 100%|██████| 391/391 [00:17<00:00, 21.81it/s]\n"
     ]
    },
    {
     "name": "stdout",
     "output_type": "stream",
     "text": [
      "Train Loss: 0.2997 | Train Acc: 89.41%\n",
      "Test  Loss: 0.4305 | Test Acc: 86.06%\n",
      "--------------------------------------------------\n",
      "[Epoch 76/180] :\n"
     ]
    },
    {
     "name": "stderr",
     "output_type": "stream",
     "text": [
      "76 Train: 100%|██████| 391/391 [00:17<00:00, 22.25it/s]\n"
     ]
    },
    {
     "name": "stdout",
     "output_type": "stream",
     "text": [
      "Train Loss: 0.3048 | Train Acc: 89.34%\n",
      "Test  Loss: 0.4282 | Test Acc: 85.85%\n",
      "--------------------------------------------------\n",
      "[Epoch 77/180] :\n"
     ]
    },
    {
     "name": "stderr",
     "output_type": "stream",
     "text": [
      "77 Train: 100%|██████| 391/391 [00:17<00:00, 22.30it/s]\n"
     ]
    },
    {
     "name": "stdout",
     "output_type": "stream",
     "text": [
      "Train Loss: 0.3003 | Train Acc: 89.60%\n",
      "Test  Loss: 0.4286 | Test Acc: 86.46%\n",
      "--------------------------------------------------\n",
      "[Epoch 78/180] :\n"
     ]
    },
    {
     "name": "stderr",
     "output_type": "stream",
     "text": [
      "78 Train: 100%|██████| 391/391 [00:18<00:00, 21.08it/s]\n"
     ]
    },
    {
     "name": "stdout",
     "output_type": "stream",
     "text": [
      "Train Loss: 0.3003 | Train Acc: 89.56%\n",
      "Test  Loss: 0.4199 | Test Acc: 86.87%\n",
      "--------------------------------------------------\n",
      "[Epoch 79/180] :\n"
     ]
    },
    {
     "name": "stderr",
     "output_type": "stream",
     "text": [
      "79 Train: 100%|██████| 391/391 [00:17<00:00, 21.79it/s]\n"
     ]
    },
    {
     "name": "stdout",
     "output_type": "stream",
     "text": [
      "Train Loss: 0.2945 | Train Acc: 89.76%\n",
      "Test  Loss: 0.4366 | Test Acc: 86.13%\n",
      "--------------------------------------------------\n",
      "[Epoch 80/180] :\n"
     ]
    },
    {
     "name": "stderr",
     "output_type": "stream",
     "text": [
      "80 Train: 100%|██████| 391/391 [00:17<00:00, 21.77it/s]\n"
     ]
    },
    {
     "name": "stdout",
     "output_type": "stream",
     "text": [
      "Train Loss: 0.2949 | Train Acc: 89.58%\n",
      "Test  Loss: 0.4422 | Test Acc: 86.26%\n",
      "--------------------------------------------------\n",
      "[Epoch 81/180] :\n"
     ]
    },
    {
     "name": "stderr",
     "output_type": "stream",
     "text": [
      "81 Train: 100%|██████| 391/391 [00:16<00:00, 23.09it/s]\n"
     ]
    },
    {
     "name": "stdout",
     "output_type": "stream",
     "text": [
      "Train Loss: 0.2937 | Train Acc: 89.70%\n",
      "Test  Loss: 0.4493 | Test Acc: 86.28%\n",
      "--------------------------------------------------\n",
      "[Epoch 82/180] :\n"
     ]
    },
    {
     "name": "stderr",
     "output_type": "stream",
     "text": [
      "82 Train: 100%|██████| 391/391 [00:17<00:00, 22.97it/s]\n"
     ]
    },
    {
     "name": "stdout",
     "output_type": "stream",
     "text": [
      "Train Loss: 0.2960 | Train Acc: 89.74%\n",
      "Test  Loss: 0.4410 | Test Acc: 86.18%\n",
      "--------------------------------------------------\n",
      "[Epoch 83/180] :\n"
     ]
    },
    {
     "name": "stderr",
     "output_type": "stream",
     "text": [
      "83 Train: 100%|██████| 391/391 [00:17<00:00, 22.04it/s]\n"
     ]
    },
    {
     "name": "stdout",
     "output_type": "stream",
     "text": [
      "Train Loss: 0.2920 | Train Acc: 89.77%\n",
      "Test  Loss: 0.4355 | Test Acc: 86.53%\n",
      "--------------------------------------------------\n",
      "[Epoch 84/180] :\n"
     ]
    },
    {
     "name": "stderr",
     "output_type": "stream",
     "text": [
      "84 Train: 100%|██████| 391/391 [00:18<00:00, 21.46it/s]\n"
     ]
    },
    {
     "name": "stdout",
     "output_type": "stream",
     "text": [
      "Train Loss: 0.2938 | Train Acc: 89.64%\n",
      "Test  Loss: 0.4280 | Test Acc: 86.41%\n",
      "--------------------------------------------------\n",
      "[Epoch 85/180] :\n"
     ]
    },
    {
     "name": "stderr",
     "output_type": "stream",
     "text": [
      "85 Train: 100%|██████| 391/391 [00:18<00:00, 21.14it/s]\n"
     ]
    },
    {
     "name": "stdout",
     "output_type": "stream",
     "text": [
      "Train Loss: 0.2856 | Train Acc: 90.12%\n",
      "Test  Loss: 0.3896 | Test Acc: 87.58%\n",
      "--------------------------------------------------\n",
      "[Epoch 86/180] :\n"
     ]
    },
    {
     "name": "stderr",
     "output_type": "stream",
     "text": [
      "86 Train: 100%|██████| 391/391 [00:16<00:00, 23.36it/s]\n"
     ]
    },
    {
     "name": "stdout",
     "output_type": "stream",
     "text": [
      "Train Loss: 0.2843 | Train Acc: 90.04%\n",
      "Test  Loss: 0.4597 | Test Acc: 85.60%\n",
      "--------------------------------------------------\n",
      "[Epoch 87/180] :\n"
     ]
    },
    {
     "name": "stderr",
     "output_type": "stream",
     "text": [
      "87 Train: 100%|██████| 391/391 [00:17<00:00, 21.92it/s]\n"
     ]
    },
    {
     "name": "stdout",
     "output_type": "stream",
     "text": [
      "Train Loss: 0.2841 | Train Acc: 89.92%\n",
      "Test  Loss: 0.3941 | Test Acc: 87.80%\n",
      "--------------------------------------------------\n",
      "[Epoch 88/180] :\n"
     ]
    },
    {
     "name": "stderr",
     "output_type": "stream",
     "text": [
      "88 Train: 100%|██████| 391/391 [00:16<00:00, 23.08it/s]\n"
     ]
    },
    {
     "name": "stdout",
     "output_type": "stream",
     "text": [
      "Train Loss: 0.2803 | Train Acc: 90.23%\n",
      "Test  Loss: 0.4662 | Test Acc: 85.72%\n",
      "--------------------------------------------------\n",
      "[Epoch 89/180] :\n"
     ]
    },
    {
     "name": "stderr",
     "output_type": "stream",
     "text": [
      "89 Train: 100%|██████| 391/391 [00:17<00:00, 22.56it/s]\n"
     ]
    },
    {
     "name": "stdout",
     "output_type": "stream",
     "text": [
      "Train Loss: 0.2804 | Train Acc: 90.10%\n",
      "Test  Loss: 0.4245 | Test Acc: 86.92%\n",
      "--------------------------------------------------\n",
      "[Epoch 90/180] :\n"
     ]
    },
    {
     "name": "stderr",
     "output_type": "stream",
     "text": [
      "90 Train: 100%|██████| 391/391 [00:17<00:00, 21.93it/s]\n"
     ]
    },
    {
     "name": "stdout",
     "output_type": "stream",
     "text": [
      "Train Loss: 0.2817 | Train Acc: 90.27%\n",
      "Test  Loss: 0.3772 | Test Acc: 88.08%\n",
      "updated best eval loss : 0.37720109428031534\n",
      "--------------------------------------------------\n",
      "[Epoch 91/180] :\n"
     ]
    },
    {
     "name": "stderr",
     "output_type": "stream",
     "text": [
      "91 Train: 100%|██████| 391/391 [00:17<00:00, 21.90it/s]\n"
     ]
    },
    {
     "name": "stdout",
     "output_type": "stream",
     "text": [
      "Train Loss: 0.2804 | Train Acc: 90.19%\n",
      "Test  Loss: 0.3841 | Test Acc: 87.89%\n",
      "--------------------------------------------------\n",
      "[Epoch 92/180] :\n"
     ]
    },
    {
     "name": "stderr",
     "output_type": "stream",
     "text": [
      "92 Train: 100%|██████| 391/391 [00:18<00:00, 21.61it/s]\n"
     ]
    },
    {
     "name": "stdout",
     "output_type": "stream",
     "text": [
      "Train Loss: 0.2778 | Train Acc: 90.37%\n",
      "Test  Loss: 0.4022 | Test Acc: 87.23%\n",
      "--------------------------------------------------\n",
      "[Epoch 93/180] :\n"
     ]
    },
    {
     "name": "stderr",
     "output_type": "stream",
     "text": [
      "93 Train: 100%|██████| 391/391 [00:17<00:00, 22.50it/s]\n"
     ]
    },
    {
     "name": "stdout",
     "output_type": "stream",
     "text": [
      "Train Loss: 0.2709 | Train Acc: 90.37%\n",
      "Test  Loss: 0.3776 | Test Acc: 87.95%\n",
      "--------------------------------------------------\n",
      "[Epoch 94/180] :\n"
     ]
    },
    {
     "name": "stderr",
     "output_type": "stream",
     "text": [
      "94 Train: 100%|██████| 391/391 [00:19<00:00, 20.54it/s]\n"
     ]
    },
    {
     "name": "stdout",
     "output_type": "stream",
     "text": [
      "Train Loss: 0.2735 | Train Acc: 90.28%\n",
      "Test  Loss: 0.4223 | Test Acc: 87.65%\n",
      "--------------------------------------------------\n",
      "[Epoch 95/180] :\n"
     ]
    },
    {
     "name": "stderr",
     "output_type": "stream",
     "text": [
      "95 Train: 100%|██████| 391/391 [00:17<00:00, 22.15it/s]\n"
     ]
    },
    {
     "name": "stdout",
     "output_type": "stream",
     "text": [
      "Train Loss: 0.2774 | Train Acc: 90.32%\n",
      "Test  Loss: 0.4103 | Test Acc: 87.19%\n",
      "--------------------------------------------------\n",
      "[Epoch 96/180] :\n"
     ]
    },
    {
     "name": "stderr",
     "output_type": "stream",
     "text": [
      "96 Train: 100%|██████| 391/391 [00:17<00:00, 21.77it/s]\n"
     ]
    },
    {
     "name": "stdout",
     "output_type": "stream",
     "text": [
      "Train Loss: 0.2733 | Train Acc: 90.39%\n",
      "Test  Loss: 0.4611 | Test Acc: 86.15%\n",
      "--------------------------------------------------\n",
      "[Epoch 97/180] :\n"
     ]
    },
    {
     "name": "stderr",
     "output_type": "stream",
     "text": [
      "97 Train: 100%|██████| 391/391 [00:17<00:00, 22.09it/s]\n"
     ]
    },
    {
     "name": "stdout",
     "output_type": "stream",
     "text": [
      "Train Loss: 0.2669 | Train Acc: 90.60%\n",
      "Test  Loss: 0.5162 | Test Acc: 84.69%\n",
      "--------------------------------------------------\n",
      "[Epoch 98/180] :\n"
     ]
    },
    {
     "name": "stderr",
     "output_type": "stream",
     "text": [
      "98 Train: 100%|██████| 391/391 [00:17<00:00, 22.90it/s]\n"
     ]
    },
    {
     "name": "stdout",
     "output_type": "stream",
     "text": [
      "Train Loss: 0.2727 | Train Acc: 90.36%\n",
      "Test  Loss: 0.4070 | Test Acc: 87.21%\n",
      "--------------------------------------------------\n",
      "[Epoch 99/180] :\n"
     ]
    },
    {
     "name": "stderr",
     "output_type": "stream",
     "text": [
      "99 Train: 100%|██████| 391/391 [00:17<00:00, 22.98it/s]\n"
     ]
    },
    {
     "name": "stdout",
     "output_type": "stream",
     "text": [
      "Train Loss: 0.2691 | Train Acc: 90.64%\n",
      "Test  Loss: 0.4674 | Test Acc: 85.48%\n",
      "--------------------------------------------------\n",
      "[Epoch 100/180] :\n"
     ]
    },
    {
     "name": "stderr",
     "output_type": "stream",
     "text": [
      "100 Train: 100%|█████| 391/391 [00:17<00:00, 21.99it/s]\n"
     ]
    },
    {
     "name": "stdout",
     "output_type": "stream",
     "text": [
      "Train Loss: 0.2603 | Train Acc: 90.88%\n",
      "Test  Loss: 0.4579 | Test Acc: 85.97%\n",
      "--------------------------------------------------\n",
      "[Epoch 101/180] :\n"
     ]
    },
    {
     "name": "stderr",
     "output_type": "stream",
     "text": [
      "101 Train: 100%|█████| 391/391 [00:18<00:00, 21.68it/s]\n"
     ]
    },
    {
     "name": "stdout",
     "output_type": "stream",
     "text": [
      "Train Loss: 0.2646 | Train Acc: 90.76%\n",
      "Test  Loss: 0.4772 | Test Acc: 85.84%\n",
      "--------------------------------------------------\n",
      "[Epoch 102/180] :\n"
     ]
    },
    {
     "name": "stderr",
     "output_type": "stream",
     "text": [
      "102 Train: 100%|█████| 391/391 [00:18<00:00, 21.71it/s]\n"
     ]
    },
    {
     "name": "stdout",
     "output_type": "stream",
     "text": [
      "Train Loss: 0.2606 | Train Acc: 90.87%\n",
      "Test  Loss: 0.4085 | Test Acc: 87.45%\n",
      "--------------------------------------------------\n",
      "[Epoch 103/180] :\n"
     ]
    },
    {
     "name": "stderr",
     "output_type": "stream",
     "text": [
      "103 Train: 100%|█████| 391/391 [00:16<00:00, 23.33it/s]\n"
     ]
    },
    {
     "name": "stdout",
     "output_type": "stream",
     "text": [
      "Train Loss: 0.2663 | Train Acc: 90.61%\n",
      "Test  Loss: 0.3976 | Test Acc: 87.64%\n",
      "--------------------------------------------------\n",
      "[Epoch 104/180] :\n"
     ]
    },
    {
     "name": "stderr",
     "output_type": "stream",
     "text": [
      "104 Train: 100%|█████| 391/391 [00:17<00:00, 21.73it/s]\n"
     ]
    },
    {
     "name": "stdout",
     "output_type": "stream",
     "text": [
      "Train Loss: 0.2575 | Train Acc: 91.03%\n",
      "Test  Loss: 0.4060 | Test Acc: 87.43%\n",
      "--------------------------------------------------\n",
      "[Epoch 105/180] :\n"
     ]
    },
    {
     "name": "stderr",
     "output_type": "stream",
     "text": [
      "105 Train: 100%|█████| 391/391 [00:17<00:00, 22.55it/s]\n"
     ]
    },
    {
     "name": "stdout",
     "output_type": "stream",
     "text": [
      "Train Loss: 0.2609 | Train Acc: 90.88%\n",
      "Test  Loss: 0.4355 | Test Acc: 86.19%\n",
      "--------------------------------------------------\n",
      "[Epoch 106/180] :\n"
     ]
    },
    {
     "name": "stderr",
     "output_type": "stream",
     "text": [
      "106 Train: 100%|█████| 391/391 [00:18<00:00, 21.46it/s]\n"
     ]
    },
    {
     "name": "stdout",
     "output_type": "stream",
     "text": [
      "Train Loss: 0.2598 | Train Acc: 90.96%\n",
      "Test  Loss: 0.4860 | Test Acc: 85.45%\n",
      "--------------------------------------------------\n",
      "[Epoch 107/180] :\n"
     ]
    },
    {
     "name": "stderr",
     "output_type": "stream",
     "text": [
      "107 Train: 100%|█████| 391/391 [00:17<00:00, 22.28it/s]\n"
     ]
    },
    {
     "name": "stdout",
     "output_type": "stream",
     "text": [
      "Train Loss: 0.2558 | Train Acc: 91.02%\n",
      "Test  Loss: 0.3830 | Test Acc: 87.81%\n",
      "--------------------------------------------------\n",
      "[Epoch 108/180] :\n"
     ]
    },
    {
     "name": "stderr",
     "output_type": "stream",
     "text": [
      "108 Train: 100%|█████| 391/391 [00:17<00:00, 22.55it/s]\n"
     ]
    },
    {
     "name": "stdout",
     "output_type": "stream",
     "text": [
      "Train Loss: 0.2576 | Train Acc: 91.02%\n",
      "Test  Loss: 0.4096 | Test Acc: 87.67%\n",
      "--------------------------------------------------\n",
      "[Epoch 109/180] :\n"
     ]
    },
    {
     "name": "stderr",
     "output_type": "stream",
     "text": [
      "109 Train: 100%|█████| 391/391 [00:17<00:00, 21.88it/s]\n"
     ]
    },
    {
     "name": "stdout",
     "output_type": "stream",
     "text": [
      "Train Loss: 0.2580 | Train Acc: 90.95%\n",
      "Test  Loss: 0.4053 | Test Acc: 87.76%\n",
      "--------------------------------------------------\n",
      "[Epoch 110/180] :\n"
     ]
    },
    {
     "name": "stderr",
     "output_type": "stream",
     "text": [
      "110 Train: 100%|█████| 391/391 [00:17<00:00, 21.93it/s]\n"
     ]
    },
    {
     "name": "stdout",
     "output_type": "stream",
     "text": [
      "Train Loss: 0.2572 | Train Acc: 90.88%\n",
      "Test  Loss: 0.4290 | Test Acc: 86.65%\n",
      "--------------------------------------------------\n",
      "[Epoch 111/180] :\n"
     ]
    },
    {
     "name": "stderr",
     "output_type": "stream",
     "text": [
      "111 Train: 100%|█████| 391/391 [00:17<00:00, 21.93it/s]\n"
     ]
    },
    {
     "name": "stdout",
     "output_type": "stream",
     "text": [
      "Train Loss: 0.2476 | Train Acc: 91.31%\n",
      "Test  Loss: 0.4228 | Test Acc: 86.99%\n",
      "--------------------------------------------------\n",
      "[Epoch 112/180] :\n"
     ]
    },
    {
     "name": "stderr",
     "output_type": "stream",
     "text": [
      "112 Train: 100%|█████| 391/391 [00:17<00:00, 22.68it/s]\n"
     ]
    },
    {
     "name": "stdout",
     "output_type": "stream",
     "text": [
      "Train Loss: 0.2544 | Train Acc: 91.10%\n",
      "Test  Loss: 0.3979 | Test Acc: 87.61%\n",
      "--------------------------------------------------\n",
      "[Epoch 113/180] :\n"
     ]
    },
    {
     "name": "stderr",
     "output_type": "stream",
     "text": [
      "113 Train: 100%|█████| 391/391 [00:17<00:00, 21.74it/s]\n"
     ]
    },
    {
     "name": "stdout",
     "output_type": "stream",
     "text": [
      "Train Loss: 0.2536 | Train Acc: 91.06%\n",
      "Test  Loss: 0.4408 | Test Acc: 86.82%\n",
      "--------------------------------------------------\n",
      "[Epoch 114/180] :\n"
     ]
    },
    {
     "name": "stderr",
     "output_type": "stream",
     "text": [
      "114 Train: 100%|█████| 391/391 [00:17<00:00, 22.72it/s]\n"
     ]
    },
    {
     "name": "stdout",
     "output_type": "stream",
     "text": [
      "Train Loss: 0.2531 | Train Acc: 91.24%\n",
      "Test  Loss: 0.3888 | Test Acc: 88.03%\n",
      "--------------------------------------------------\n",
      "[Epoch 115/180] :\n"
     ]
    },
    {
     "name": "stderr",
     "output_type": "stream",
     "text": [
      "115 Train: 100%|█████| 391/391 [00:18<00:00, 21.37it/s]\n"
     ]
    },
    {
     "name": "stdout",
     "output_type": "stream",
     "text": [
      "Train Loss: 0.2429 | Train Acc: 91.54%\n",
      "Test  Loss: 0.4319 | Test Acc: 86.86%\n",
      "--------------------------------------------------\n",
      "[Epoch 116/180] :\n"
     ]
    },
    {
     "name": "stderr",
     "output_type": "stream",
     "text": [
      "116 Train: 100%|█████| 391/391 [00:18<00:00, 21.46it/s]\n"
     ]
    },
    {
     "name": "stdout",
     "output_type": "stream",
     "text": [
      "Train Loss: 0.2451 | Train Acc: 91.28%\n",
      "Test  Loss: 0.4020 | Test Acc: 87.83%\n",
      "--------------------------------------------------\n",
      "[Epoch 117/180] :\n"
     ]
    },
    {
     "name": "stderr",
     "output_type": "stream",
     "text": [
      "117 Train: 100%|█████| 391/391 [00:18<00:00, 21.36it/s]\n"
     ]
    },
    {
     "name": "stdout",
     "output_type": "stream",
     "text": [
      "Train Loss: 0.2470 | Train Acc: 91.38%\n",
      "Test  Loss: 0.3706 | Test Acc: 88.25%\n",
      "updated best eval loss : 0.3705539138681149\n",
      "--------------------------------------------------\n",
      "[Epoch 118/180] :\n"
     ]
    },
    {
     "name": "stderr",
     "output_type": "stream",
     "text": [
      "118 Train: 100%|█████| 391/391 [00:18<00:00, 21.46it/s]\n"
     ]
    },
    {
     "name": "stdout",
     "output_type": "stream",
     "text": [
      "Train Loss: 0.2466 | Train Acc: 91.36%\n",
      "Test  Loss: 0.4015 | Test Acc: 87.54%\n",
      "--------------------------------------------------\n",
      "[Epoch 119/180] :\n"
     ]
    },
    {
     "name": "stderr",
     "output_type": "stream",
     "text": [
      "119 Train: 100%|█████| 391/391 [00:17<00:00, 22.59it/s]\n"
     ]
    },
    {
     "name": "stdout",
     "output_type": "stream",
     "text": [
      "Train Loss: 0.2456 | Train Acc: 91.34%\n",
      "Test  Loss: 0.4372 | Test Acc: 87.18%\n",
      "--------------------------------------------------\n",
      "[Epoch 120/180] :\n"
     ]
    },
    {
     "name": "stderr",
     "output_type": "stream",
     "text": [
      "120 Train: 100%|█████| 391/391 [00:17<00:00, 22.35it/s]\n"
     ]
    },
    {
     "name": "stdout",
     "output_type": "stream",
     "text": [
      "Train Loss: 0.2455 | Train Acc: 91.45%\n",
      "Test  Loss: 0.4396 | Test Acc: 86.77%\n",
      "--------------------------------------------------\n",
      "[Epoch 121/180] :\n"
     ]
    },
    {
     "name": "stderr",
     "output_type": "stream",
     "text": [
      "121 Train: 100%|█████| 391/391 [00:17<00:00, 21.94it/s]\n"
     ]
    },
    {
     "name": "stdout",
     "output_type": "stream",
     "text": [
      "Train Loss: 0.2434 | Train Acc: 91.42%\n",
      "Test  Loss: 0.3918 | Test Acc: 88.10%\n",
      "--------------------------------------------------\n",
      "[Epoch 122/180] :\n"
     ]
    },
    {
     "name": "stderr",
     "output_type": "stream",
     "text": [
      "122 Train: 100%|█████| 391/391 [00:17<00:00, 22.23it/s]\n"
     ]
    },
    {
     "name": "stdout",
     "output_type": "stream",
     "text": [
      "Train Loss: 0.2465 | Train Acc: 91.45%\n",
      "Test  Loss: 0.4750 | Test Acc: 86.81%\n",
      "--------------------------------------------------\n",
      "[Epoch 123/180] :\n"
     ]
    },
    {
     "name": "stderr",
     "output_type": "stream",
     "text": [
      "123 Train: 100%|█████| 391/391 [00:17<00:00, 22.31it/s]\n"
     ]
    },
    {
     "name": "stdout",
     "output_type": "stream",
     "text": [
      "Train Loss: 0.2431 | Train Acc: 91.60%\n",
      "Test  Loss: 0.4308 | Test Acc: 87.00%\n",
      "--------------------------------------------------\n",
      "[Epoch 124/180] :\n"
     ]
    },
    {
     "name": "stderr",
     "output_type": "stream",
     "text": [
      "124 Train: 100%|█████| 391/391 [00:17<00:00, 22.01it/s]\n"
     ]
    },
    {
     "name": "stdout",
     "output_type": "stream",
     "text": [
      "Train Loss: 0.2410 | Train Acc: 91.57%\n",
      "Test  Loss: 0.3927 | Test Acc: 87.73%\n",
      "--------------------------------------------------\n",
      "[Epoch 125/180] :\n"
     ]
    },
    {
     "name": "stderr",
     "output_type": "stream",
     "text": [
      "125 Train: 100%|█████| 391/391 [00:17<00:00, 22.80it/s]\n"
     ]
    },
    {
     "name": "stdout",
     "output_type": "stream",
     "text": [
      "Train Loss: 0.2425 | Train Acc: 91.50%\n",
      "Test  Loss: 0.4365 | Test Acc: 87.30%\n",
      "--------------------------------------------------\n",
      "[Epoch 126/180] :\n"
     ]
    },
    {
     "name": "stderr",
     "output_type": "stream",
     "text": [
      "126 Train: 100%|█████| 391/391 [00:17<00:00, 21.90it/s]\n"
     ]
    },
    {
     "name": "stdout",
     "output_type": "stream",
     "text": [
      "Train Loss: 0.2388 | Train Acc: 91.52%\n",
      "Test  Loss: 0.3926 | Test Acc: 87.95%\n",
      "--------------------------------------------------\n",
      "[Epoch 127/180] :\n"
     ]
    },
    {
     "name": "stderr",
     "output_type": "stream",
     "text": [
      "127 Train: 100%|█████| 391/391 [00:17<00:00, 22.03it/s]\n"
     ]
    },
    {
     "name": "stdout",
     "output_type": "stream",
     "text": [
      "Train Loss: 0.2361 | Train Acc: 91.72%\n",
      "Test  Loss: 0.4424 | Test Acc: 87.34%\n",
      "--------------------------------------------------\n",
      "[Epoch 128/180] :\n"
     ]
    },
    {
     "name": "stderr",
     "output_type": "stream",
     "text": [
      "128 Train: 100%|█████| 391/391 [00:17<00:00, 21.76it/s]\n"
     ]
    },
    {
     "name": "stdout",
     "output_type": "stream",
     "text": [
      "Train Loss: 0.2349 | Train Acc: 91.71%\n",
      "Test  Loss: 0.4169 | Test Acc: 87.31%\n",
      "--------------------------------------------------\n",
      "[Epoch 129/180] :\n"
     ]
    },
    {
     "name": "stderr",
     "output_type": "stream",
     "text": [
      "129 Train: 100%|█████| 391/391 [00:18<00:00, 21.54it/s]\n"
     ]
    },
    {
     "name": "stdout",
     "output_type": "stream",
     "text": [
      "Train Loss: 0.2406 | Train Acc: 91.60%\n",
      "Test  Loss: 0.3898 | Test Acc: 88.16%\n",
      "--------------------------------------------------\n",
      "[Epoch 130/180] :\n"
     ]
    },
    {
     "name": "stderr",
     "output_type": "stream",
     "text": [
      "130 Train: 100%|█████| 391/391 [00:16<00:00, 23.16it/s]\n"
     ]
    },
    {
     "name": "stdout",
     "output_type": "stream",
     "text": [
      "Train Loss: 0.2360 | Train Acc: 91.69%\n",
      "Test  Loss: 0.4312 | Test Acc: 87.27%\n",
      "--------------------------------------------------\n",
      "[Epoch 131/180] :\n"
     ]
    },
    {
     "name": "stderr",
     "output_type": "stream",
     "text": [
      "131 Train: 100%|█████| 391/391 [00:13<00:00, 28.34it/s]\n"
     ]
    },
    {
     "name": "stdout",
     "output_type": "stream",
     "text": [
      "Train Loss: 0.2333 | Train Acc: 91.84%\n",
      "Test  Loss: 0.4555 | Test Acc: 87.11%\n",
      "--------------------------------------------------\n",
      "[Epoch 132/180] :\n"
     ]
    },
    {
     "name": "stderr",
     "output_type": "stream",
     "text": [
      "132 Train: 100%|█████| 391/391 [00:13<00:00, 28.57it/s]\n"
     ]
    },
    {
     "name": "stdout",
     "output_type": "stream",
     "text": [
      "Train Loss: 0.2382 | Train Acc: 91.66%\n",
      "Test  Loss: 0.4021 | Test Acc: 88.51%\n",
      "--------------------------------------------------\n",
      "[Epoch 133/180] :\n"
     ]
    },
    {
     "name": "stderr",
     "output_type": "stream",
     "text": [
      "133 Train: 100%|█████| 391/391 [00:13<00:00, 28.58it/s]\n"
     ]
    },
    {
     "name": "stdout",
     "output_type": "stream",
     "text": [
      "Train Loss: 0.2302 | Train Acc: 91.99%\n",
      "Test  Loss: 0.4046 | Test Acc: 87.60%\n",
      "--------------------------------------------------\n",
      "[Epoch 134/180] :\n"
     ]
    },
    {
     "name": "stderr",
     "output_type": "stream",
     "text": [
      "134 Train: 100%|█████| 391/391 [00:13<00:00, 28.89it/s]\n"
     ]
    },
    {
     "name": "stdout",
     "output_type": "stream",
     "text": [
      "Train Loss: 0.2353 | Train Acc: 91.81%\n",
      "Test  Loss: 0.4304 | Test Acc: 87.89%\n",
      "--------------------------------------------------\n",
      "[Epoch 135/180] :\n"
     ]
    },
    {
     "name": "stderr",
     "output_type": "stream",
     "text": [
      "135 Train: 100%|█████| 391/391 [00:13<00:00, 28.28it/s]\n"
     ]
    },
    {
     "name": "stdout",
     "output_type": "stream",
     "text": [
      "Train Loss: 0.2296 | Train Acc: 92.02%\n",
      "Test  Loss: 0.4369 | Test Acc: 87.61%\n",
      "--------------------------------------------------\n",
      "[Epoch 136/180] :\n"
     ]
    },
    {
     "name": "stderr",
     "output_type": "stream",
     "text": [
      "136 Train: 100%|█████| 391/391 [00:17<00:00, 22.92it/s]\n"
     ]
    },
    {
     "name": "stdout",
     "output_type": "stream",
     "text": [
      "Train Loss: 0.2308 | Train Acc: 91.85%\n",
      "Test  Loss: 0.4522 | Test Acc: 86.99%\n",
      "--------------------------------------------------\n",
      "[Epoch 137/180] :\n"
     ]
    },
    {
     "name": "stderr",
     "output_type": "stream",
     "text": [
      "137 Train: 100%|█████| 391/391 [00:17<00:00, 22.05it/s]\n"
     ]
    },
    {
     "name": "stdout",
     "output_type": "stream",
     "text": [
      "Train Loss: 0.2317 | Train Acc: 91.83%\n",
      "Test  Loss: 0.4454 | Test Acc: 86.54%\n",
      "--------------------------------------------------\n",
      "[Epoch 138/180] :\n"
     ]
    },
    {
     "name": "stderr",
     "output_type": "stream",
     "text": [
      "138 Train: 100%|█████| 391/391 [00:17<00:00, 22.76it/s]\n"
     ]
    },
    {
     "name": "stdout",
     "output_type": "stream",
     "text": [
      "Train Loss: 0.2331 | Train Acc: 91.80%\n",
      "Test  Loss: 0.4039 | Test Acc: 88.22%\n",
      "--------------------------------------------------\n",
      "[Epoch 139/180] :\n"
     ]
    },
    {
     "name": "stderr",
     "output_type": "stream",
     "text": [
      "139 Train: 100%|█████| 391/391 [00:18<00:00, 21.12it/s]\n"
     ]
    },
    {
     "name": "stdout",
     "output_type": "stream",
     "text": [
      "Train Loss: 0.2220 | Train Acc: 92.17%\n",
      "Test  Loss: 0.4651 | Test Acc: 86.39%\n",
      "--------------------------------------------------\n",
      "[Epoch 140/180] :\n"
     ]
    },
    {
     "name": "stderr",
     "output_type": "stream",
     "text": [
      "140 Train: 100%|█████| 391/391 [00:18<00:00, 21.25it/s]\n"
     ]
    },
    {
     "name": "stdout",
     "output_type": "stream",
     "text": [
      "Train Loss: 0.2342 | Train Acc: 91.81%\n",
      "Test  Loss: 0.4177 | Test Acc: 87.27%\n",
      "--------------------------------------------------\n",
      "[Epoch 141/180] :\n"
     ]
    },
    {
     "name": "stderr",
     "output_type": "stream",
     "text": [
      "141 Train: 100%|█████| 391/391 [00:17<00:00, 22.14it/s]\n"
     ]
    },
    {
     "name": "stdout",
     "output_type": "stream",
     "text": [
      "Train Loss: 0.2328 | Train Acc: 91.88%\n",
      "Test  Loss: 0.4271 | Test Acc: 87.50%\n",
      "--------------------------------------------------\n",
      "[Epoch 142/180] :\n"
     ]
    },
    {
     "name": "stderr",
     "output_type": "stream",
     "text": [
      "142 Train: 100%|█████| 391/391 [00:16<00:00, 23.01it/s]\n"
     ]
    },
    {
     "name": "stdout",
     "output_type": "stream",
     "text": [
      "Train Loss: 0.2249 | Train Acc: 92.19%\n",
      "Test  Loss: 0.4881 | Test Acc: 86.00%\n",
      "--------------------------------------------------\n",
      "[Epoch 143/180] :\n"
     ]
    },
    {
     "name": "stderr",
     "output_type": "stream",
     "text": [
      "143 Train: 100%|█████| 391/391 [00:16<00:00, 23.87it/s]\n"
     ]
    },
    {
     "name": "stdout",
     "output_type": "stream",
     "text": [
      "Train Loss: 0.2274 | Train Acc: 92.09%\n",
      "Test  Loss: 0.4707 | Test Acc: 86.65%\n",
      "--------------------------------------------------\n",
      "[Epoch 144/180] :\n"
     ]
    },
    {
     "name": "stderr",
     "output_type": "stream",
     "text": [
      "144 Train: 100%|█████| 391/391 [00:18<00:00, 21.68it/s]\n"
     ]
    },
    {
     "name": "stdout",
     "output_type": "stream",
     "text": [
      "Train Loss: 0.2241 | Train Acc: 92.05%\n",
      "Test  Loss: 0.3845 | Test Acc: 88.63%\n",
      "--------------------------------------------------\n",
      "[Epoch 145/180] :\n"
     ]
    },
    {
     "name": "stderr",
     "output_type": "stream",
     "text": [
      "145 Train: 100%|█████| 391/391 [00:18<00:00, 21.32it/s]\n"
     ]
    },
    {
     "name": "stdout",
     "output_type": "stream",
     "text": [
      "Train Loss: 0.2257 | Train Acc: 92.07%\n",
      "Test  Loss: 0.4066 | Test Acc: 87.54%\n",
      "--------------------------------------------------\n",
      "[Epoch 146/180] :\n"
     ]
    },
    {
     "name": "stderr",
     "output_type": "stream",
     "text": [
      "146 Train: 100%|█████| 391/391 [00:17<00:00, 22.63it/s]\n"
     ]
    },
    {
     "name": "stdout",
     "output_type": "stream",
     "text": [
      "Train Loss: 0.2235 | Train Acc: 92.19%\n",
      "Test  Loss: 0.3891 | Test Acc: 88.45%\n",
      "--------------------------------------------------\n",
      "[Epoch 147/180] :\n"
     ]
    },
    {
     "name": "stderr",
     "output_type": "stream",
     "text": [
      "147 Train: 100%|█████| 391/391 [00:17<00:00, 22.42it/s]\n"
     ]
    },
    {
     "name": "stdout",
     "output_type": "stream",
     "text": [
      "Train Loss: 0.2251 | Train Acc: 92.15%\n",
      "Test  Loss: 0.4041 | Test Acc: 88.17%\n",
      "--------------------------------------------------\n",
      "[Epoch 148/180] :\n"
     ]
    },
    {
     "name": "stderr",
     "output_type": "stream",
     "text": [
      "148 Train: 100%|█████| 391/391 [00:18<00:00, 21.45it/s]\n"
     ]
    },
    {
     "name": "stdout",
     "output_type": "stream",
     "text": [
      "Train Loss: 0.2260 | Train Acc: 92.18%\n",
      "Test  Loss: 0.4618 | Test Acc: 86.01%\n",
      "--------------------------------------------------\n",
      "[Epoch 149/180] :\n"
     ]
    },
    {
     "name": "stderr",
     "output_type": "stream",
     "text": [
      "149 Train: 100%|█████| 391/391 [00:17<00:00, 21.85it/s]\n"
     ]
    },
    {
     "name": "stdout",
     "output_type": "stream",
     "text": [
      "Train Loss: 0.2175 | Train Acc: 92.44%\n",
      "Test  Loss: 0.4614 | Test Acc: 86.19%\n",
      "--------------------------------------------------\n",
      "[Epoch 150/180] :\n"
     ]
    },
    {
     "name": "stderr",
     "output_type": "stream",
     "text": [
      "150 Train: 100%|█████| 391/391 [00:17<00:00, 22.85it/s]\n"
     ]
    },
    {
     "name": "stdout",
     "output_type": "stream",
     "text": [
      "Train Loss: 0.2225 | Train Acc: 92.42%\n",
      "Test  Loss: 0.5182 | Test Acc: 86.01%\n",
      "--------------------------------------------------\n",
      "[Epoch 151/180] :\n"
     ]
    },
    {
     "name": "stderr",
     "output_type": "stream",
     "text": [
      "151 Train: 100%|█████| 391/391 [00:18<00:00, 20.96it/s]\n"
     ]
    },
    {
     "name": "stdout",
     "output_type": "stream",
     "text": [
      "Train Loss: 0.2203 | Train Acc: 92.35%\n",
      "Test  Loss: 0.3953 | Test Acc: 88.49%\n",
      "--------------------------------------------------\n",
      "[Epoch 152/180] :\n"
     ]
    },
    {
     "name": "stderr",
     "output_type": "stream",
     "text": [
      "152 Train: 100%|█████| 391/391 [00:17<00:00, 22.80it/s]\n"
     ]
    },
    {
     "name": "stdout",
     "output_type": "stream",
     "text": [
      "Train Loss: 0.2184 | Train Acc: 92.29%\n",
      "Test  Loss: 0.4179 | Test Acc: 87.82%\n",
      "--------------------------------------------------\n",
      "[Epoch 153/180] :\n"
     ]
    },
    {
     "name": "stderr",
     "output_type": "stream",
     "text": [
      "153 Train: 100%|█████| 391/391 [00:17<00:00, 21.93it/s]\n"
     ]
    },
    {
     "name": "stdout",
     "output_type": "stream",
     "text": [
      "Train Loss: 0.2227 | Train Acc: 92.21%\n",
      "Test  Loss: 0.4694 | Test Acc: 86.40%\n",
      "--------------------------------------------------\n",
      "[Epoch 154/180] :\n"
     ]
    },
    {
     "name": "stderr",
     "output_type": "stream",
     "text": [
      "154 Train: 100%|█████| 391/391 [00:17<00:00, 22.13it/s]\n"
     ]
    },
    {
     "name": "stdout",
     "output_type": "stream",
     "text": [
      "Train Loss: 0.2162 | Train Acc: 92.43%\n",
      "Test  Loss: 0.4512 | Test Acc: 87.28%\n",
      "--------------------------------------------------\n",
      "[Epoch 155/180] :\n"
     ]
    },
    {
     "name": "stderr",
     "output_type": "stream",
     "text": [
      "155 Train: 100%|█████| 391/391 [00:18<00:00, 21.24it/s]\n"
     ]
    },
    {
     "name": "stdout",
     "output_type": "stream",
     "text": [
      "Train Loss: 0.2174 | Train Acc: 92.42%\n",
      "Test  Loss: 0.4320 | Test Acc: 87.39%\n",
      "--------------------------------------------------\n",
      "[Epoch 156/180] :\n"
     ]
    },
    {
     "name": "stderr",
     "output_type": "stream",
     "text": [
      "156 Train: 100%|█████| 391/391 [00:17<00:00, 21.80it/s]\n"
     ]
    },
    {
     "name": "stdout",
     "output_type": "stream",
     "text": [
      "Train Loss: 0.2156 | Train Acc: 92.57%\n",
      "Test  Loss: 0.4186 | Test Acc: 87.77%\n",
      "--------------------------------------------------\n",
      "[Epoch 157/180] :\n"
     ]
    },
    {
     "name": "stderr",
     "output_type": "stream",
     "text": [
      "157 Train: 100%|█████| 391/391 [00:17<00:00, 22.69it/s]\n"
     ]
    },
    {
     "name": "stdout",
     "output_type": "stream",
     "text": [
      "Train Loss: 0.2131 | Train Acc: 92.40%\n",
      "Test  Loss: 0.4078 | Test Acc: 88.04%\n",
      "--------------------------------------------------\n",
      "[Epoch 158/180] :\n"
     ]
    },
    {
     "name": "stderr",
     "output_type": "stream",
     "text": [
      "158 Train: 100%|█████| 391/391 [00:17<00:00, 22.02it/s]\n"
     ]
    },
    {
     "name": "stdout",
     "output_type": "stream",
     "text": [
      "Train Loss: 0.2183 | Train Acc: 92.38%\n",
      "Test  Loss: 0.4122 | Test Acc: 87.73%\n",
      "--------------------------------------------------\n",
      "[Epoch 159/180] :\n"
     ]
    },
    {
     "name": "stderr",
     "output_type": "stream",
     "text": [
      "159 Train: 100%|█████| 391/391 [00:17<00:00, 22.12it/s]\n"
     ]
    },
    {
     "name": "stdout",
     "output_type": "stream",
     "text": [
      "Train Loss: 0.2133 | Train Acc: 92.57%\n",
      "Test  Loss: 0.3959 | Test Acc: 88.12%\n",
      "--------------------------------------------------\n",
      "[Epoch 160/180] :\n"
     ]
    },
    {
     "name": "stderr",
     "output_type": "stream",
     "text": [
      "160 Train: 100%|█████| 391/391 [00:18<00:00, 20.94it/s]\n"
     ]
    },
    {
     "name": "stdout",
     "output_type": "stream",
     "text": [
      "Train Loss: 0.2169 | Train Acc: 92.56%\n",
      "Test  Loss: 0.4429 | Test Acc: 87.10%\n",
      "--------------------------------------------------\n",
      "[Epoch 161/180] :\n"
     ]
    },
    {
     "name": "stderr",
     "output_type": "stream",
     "text": [
      "161 Train: 100%|█████| 391/391 [00:18<00:00, 21.50it/s]\n"
     ]
    },
    {
     "name": "stdout",
     "output_type": "stream",
     "text": [
      "Train Loss: 0.2152 | Train Acc: 92.50%\n",
      "Test  Loss: 0.3707 | Test Acc: 88.90%\n",
      "--------------------------------------------------\n",
      "[Epoch 162/180] :\n"
     ]
    },
    {
     "name": "stderr",
     "output_type": "stream",
     "text": [
      "162 Train: 100%|█████| 391/391 [00:17<00:00, 22.54it/s]\n"
     ]
    },
    {
     "name": "stdout",
     "output_type": "stream",
     "text": [
      "Train Loss: 0.2141 | Train Acc: 92.67%\n",
      "Test  Loss: 0.4935 | Test Acc: 85.79%\n",
      "--------------------------------------------------\n",
      "[Epoch 163/180] :\n"
     ]
    },
    {
     "name": "stderr",
     "output_type": "stream",
     "text": [
      "163 Train: 100%|█████| 391/391 [00:17<00:00, 22.04it/s]\n"
     ]
    },
    {
     "name": "stdout",
     "output_type": "stream",
     "text": [
      "Train Loss: 0.2109 | Train Acc: 92.53%\n",
      "Test  Loss: 0.4816 | Test Acc: 86.04%\n",
      "--------------------------------------------------\n",
      "[Epoch 164/180] :\n"
     ]
    },
    {
     "name": "stderr",
     "output_type": "stream",
     "text": [
      "164 Train: 100%|█████| 391/391 [00:17<00:00, 22.02it/s]\n"
     ]
    },
    {
     "name": "stdout",
     "output_type": "stream",
     "text": [
      "Train Loss: 0.2143 | Train Acc: 92.51%\n",
      "Test  Loss: 0.3983 | Test Acc: 88.08%\n",
      "--------------------------------------------------\n",
      "[Epoch 165/180] :\n"
     ]
    },
    {
     "name": "stderr",
     "output_type": "stream",
     "text": [
      "165 Train: 100%|█████| 391/391 [00:17<00:00, 22.43it/s]\n"
     ]
    },
    {
     "name": "stdout",
     "output_type": "stream",
     "text": [
      "Train Loss: 0.2133 | Train Acc: 92.55%\n",
      "Test  Loss: 0.4127 | Test Acc: 87.61%\n",
      "--------------------------------------------------\n",
      "[Epoch 166/180] :\n"
     ]
    },
    {
     "name": "stderr",
     "output_type": "stream",
     "text": [
      "166 Train: 100%|█████| 391/391 [00:18<00:00, 21.57it/s]\n"
     ]
    },
    {
     "name": "stdout",
     "output_type": "stream",
     "text": [
      "Train Loss: 0.2110 | Train Acc: 92.61%\n",
      "Test  Loss: 0.3923 | Test Acc: 87.98%\n",
      "--------------------------------------------------\n",
      "[Epoch 167/180] :\n"
     ]
    },
    {
     "name": "stderr",
     "output_type": "stream",
     "text": [
      "167 Train: 100%|█████| 391/391 [00:17<00:00, 22.39it/s]\n"
     ]
    },
    {
     "name": "stdout",
     "output_type": "stream",
     "text": [
      "Train Loss: 0.2079 | Train Acc: 92.79%\n",
      "Test  Loss: 0.4593 | Test Acc: 87.24%\n",
      "--------------------------------------------------\n",
      "[Epoch 168/180] :\n"
     ]
    },
    {
     "name": "stderr",
     "output_type": "stream",
     "text": [
      "168 Train: 100%|█████| 391/391 [00:17<00:00, 22.34it/s]\n"
     ]
    },
    {
     "name": "stdout",
     "output_type": "stream",
     "text": [
      "Train Loss: 0.2077 | Train Acc: 92.81%\n",
      "Test  Loss: 0.4327 | Test Acc: 87.61%\n",
      "--------------------------------------------------\n",
      "[Epoch 169/180] :\n"
     ]
    },
    {
     "name": "stderr",
     "output_type": "stream",
     "text": [
      "169 Train: 100%|█████| 391/391 [00:17<00:00, 22.33it/s]\n"
     ]
    },
    {
     "name": "stdout",
     "output_type": "stream",
     "text": [
      "Train Loss: 0.2128 | Train Acc: 92.54%\n",
      "Test  Loss: 0.3854 | Test Acc: 88.50%\n",
      "--------------------------------------------------\n",
      "[Epoch 170/180] :\n"
     ]
    },
    {
     "name": "stderr",
     "output_type": "stream",
     "text": [
      "170 Train: 100%|█████| 391/391 [00:17<00:00, 22.35it/s]\n"
     ]
    },
    {
     "name": "stdout",
     "output_type": "stream",
     "text": [
      "Train Loss: 0.2066 | Train Acc: 92.63%\n",
      "Test  Loss: 0.4699 | Test Acc: 86.49%\n",
      "--------------------------------------------------\n",
      "[Epoch 171/180] :\n"
     ]
    },
    {
     "name": "stderr",
     "output_type": "stream",
     "text": [
      "171 Train: 100%|█████| 391/391 [00:17<00:00, 21.96it/s]\n"
     ]
    },
    {
     "name": "stdout",
     "output_type": "stream",
     "text": [
      "Train Loss: 0.2076 | Train Acc: 92.72%\n",
      "Test  Loss: 0.4313 | Test Acc: 87.61%\n",
      "--------------------------------------------------\n",
      "[Epoch 172/180] :\n"
     ]
    },
    {
     "name": "stderr",
     "output_type": "stream",
     "text": [
      "172 Train: 100%|█████| 391/391 [00:18<00:00, 21.25it/s]\n"
     ]
    },
    {
     "name": "stdout",
     "output_type": "stream",
     "text": [
      "Train Loss: 0.2109 | Train Acc: 92.60%\n",
      "Test  Loss: 0.3952 | Test Acc: 88.72%\n",
      "--------------------------------------------------\n",
      "[Epoch 173/180] :\n"
     ]
    },
    {
     "name": "stderr",
     "output_type": "stream",
     "text": [
      "173 Train: 100%|█████| 391/391 [00:18<00:00, 21.64it/s]\n"
     ]
    },
    {
     "name": "stdout",
     "output_type": "stream",
     "text": [
      "Train Loss: 0.2048 | Train Acc: 92.91%\n",
      "Test  Loss: 0.3885 | Test Acc: 88.57%\n",
      "--------------------------------------------------\n",
      "[Epoch 174/180] :\n"
     ]
    },
    {
     "name": "stderr",
     "output_type": "stream",
     "text": [
      "174 Train: 100%|█████| 391/391 [00:18<00:00, 21.69it/s]\n"
     ]
    },
    {
     "name": "stdout",
     "output_type": "stream",
     "text": [
      "Train Loss: 0.2047 | Train Acc: 92.96%\n",
      "Test  Loss: 0.3979 | Test Acc: 88.13%\n",
      "--------------------------------------------------\n",
      "[Epoch 175/180] :\n"
     ]
    },
    {
     "name": "stderr",
     "output_type": "stream",
     "text": [
      "175 Train: 100%|█████| 391/391 [00:17<00:00, 22.07it/s]\n"
     ]
    },
    {
     "name": "stdout",
     "output_type": "stream",
     "text": [
      "Train Loss: 0.2102 | Train Acc: 92.76%\n",
      "Test  Loss: 0.4151 | Test Acc: 88.11%\n",
      "--------------------------------------------------\n",
      "[Epoch 176/180] :\n"
     ]
    },
    {
     "name": "stderr",
     "output_type": "stream",
     "text": [
      "176 Train: 100%|█████| 391/391 [00:18<00:00, 21.54it/s]\n"
     ]
    },
    {
     "name": "stdout",
     "output_type": "stream",
     "text": [
      "Train Loss: 0.2076 | Train Acc: 92.74%\n",
      "Test  Loss: 0.4540 | Test Acc: 87.32%\n",
      "--------------------------------------------------\n",
      "[Epoch 177/180] :\n"
     ]
    },
    {
     "name": "stderr",
     "output_type": "stream",
     "text": [
      "177 Train: 100%|█████| 391/391 [00:18<00:00, 21.55it/s]\n"
     ]
    },
    {
     "name": "stdout",
     "output_type": "stream",
     "text": [
      "Train Loss: 0.2048 | Train Acc: 92.80%\n",
      "Test  Loss: 0.4427 | Test Acc: 87.24%\n",
      "--------------------------------------------------\n",
      "[Epoch 178/180] :\n"
     ]
    },
    {
     "name": "stderr",
     "output_type": "stream",
     "text": [
      "178 Train: 100%|█████| 391/391 [00:17<00:00, 22.65it/s]\n"
     ]
    },
    {
     "name": "stdout",
     "output_type": "stream",
     "text": [
      "Train Loss: 0.2049 | Train Acc: 92.91%\n",
      "Test  Loss: 0.4393 | Test Acc: 87.42%\n",
      "--------------------------------------------------\n",
      "[Epoch 179/180] :\n"
     ]
    },
    {
     "name": "stderr",
     "output_type": "stream",
     "text": [
      "179 Train: 100%|█████| 391/391 [00:17<00:00, 22.22it/s]\n"
     ]
    },
    {
     "name": "stdout",
     "output_type": "stream",
     "text": [
      "Train Loss: 0.2079 | Train Acc: 92.82%\n",
      "Test  Loss: 0.4446 | Test Acc: 87.12%\n",
      "--------------------------------------------------\n",
      "[Epoch 180/180] :\n"
     ]
    },
    {
     "name": "stderr",
     "output_type": "stream",
     "text": [
      "180 Train: 100%|█████| 391/391 [00:17<00:00, 22.64it/s]\n"
     ]
    },
    {
     "name": "stdout",
     "output_type": "stream",
     "text": [
      "Train Loss: 0.1992 | Train Acc: 93.03%\n",
      "Test  Loss: 0.4779 | Test Acc: 86.61%\n",
      "--------------------------------------------------\n",
      "[Epoch 181/180] :\n"
     ]
    },
    {
     "name": "stderr",
     "output_type": "stream",
     "text": [
      "181 Train: 100%|█████| 391/391 [00:18<00:00, 21.31it/s]\n"
     ]
    },
    {
     "name": "stdout",
     "output_type": "stream",
     "text": [
      "Train Loss: 0.2090 | Train Acc: 92.70%\n",
      "Test  Loss: 0.4560 | Test Acc: 86.89%\n",
      "--------------------------------------------------\n",
      "[Epoch 182/180] :\n"
     ]
    },
    {
     "name": "stderr",
     "output_type": "stream",
     "text": [
      "182 Train: 100%|█████| 391/391 [00:18<00:00, 21.22it/s]\n"
     ]
    },
    {
     "name": "stdout",
     "output_type": "stream",
     "text": [
      "Train Loss: 0.2017 | Train Acc: 93.00%\n",
      "Test  Loss: 0.4239 | Test Acc: 87.74%\n",
      "--------------------------------------------------\n",
      "[Epoch 183/180] :\n"
     ]
    },
    {
     "name": "stderr",
     "output_type": "stream",
     "text": [
      "183 Train: 100%|█████| 391/391 [00:16<00:00, 23.41it/s]\n"
     ]
    },
    {
     "name": "stdout",
     "output_type": "stream",
     "text": [
      "Train Loss: 0.2059 | Train Acc: 92.78%\n",
      "Test  Loss: 0.3664 | Test Acc: 88.98%\n",
      "updated best eval loss : 0.366433654593516\n",
      "--------------------------------------------------\n",
      "[Epoch 184/180] :\n"
     ]
    },
    {
     "name": "stderr",
     "output_type": "stream",
     "text": [
      "184 Train: 100%|█████| 391/391 [00:10<00:00, 37.56it/s]\n"
     ]
    },
    {
     "name": "stdout",
     "output_type": "stream",
     "text": [
      "Train Loss: 0.2043 | Train Acc: 92.86%\n",
      "Test  Loss: 0.4166 | Test Acc: 88.40%\n",
      "--------------------------------------------------\n",
      "[Epoch 185/180] :\n"
     ]
    },
    {
     "name": "stderr",
     "output_type": "stream",
     "text": [
      "185 Train: 100%|█████| 391/391 [00:09<00:00, 42.84it/s]\n"
     ]
    },
    {
     "name": "stdout",
     "output_type": "stream",
     "text": [
      "Train Loss: 0.2028 | Train Acc: 92.96%\n",
      "Test  Loss: 0.4187 | Test Acc: 87.64%\n",
      "--------------------------------------------------\n",
      "[Epoch 186/180] :\n"
     ]
    },
    {
     "name": "stderr",
     "output_type": "stream",
     "text": [
      "186 Train: 100%|█████| 391/391 [00:09<00:00, 42.58it/s]\n"
     ]
    },
    {
     "name": "stdout",
     "output_type": "stream",
     "text": [
      "Train Loss: 0.2027 | Train Acc: 92.93%\n",
      "Test  Loss: 0.4728 | Test Acc: 86.87%\n",
      "--------------------------------------------------\n",
      "[Epoch 187/180] :\n"
     ]
    },
    {
     "name": "stderr",
     "output_type": "stream",
     "text": [
      "187 Train: 100%|█████| 391/391 [00:09<00:00, 42.42it/s]\n"
     ]
    },
    {
     "name": "stdout",
     "output_type": "stream",
     "text": [
      "Train Loss: 0.2062 | Train Acc: 92.78%\n",
      "Test  Loss: 0.4121 | Test Acc: 88.41%\n",
      "--------------------------------------------------\n",
      "[Epoch 188/180] :\n"
     ]
    },
    {
     "name": "stderr",
     "output_type": "stream",
     "text": [
      "188 Train: 100%|█████| 391/391 [00:09<00:00, 40.85it/s]\n"
     ]
    },
    {
     "name": "stdout",
     "output_type": "stream",
     "text": [
      "Train Loss: 0.2023 | Train Acc: 92.97%\n",
      "Test  Loss: 0.4561 | Test Acc: 86.96%\n",
      "--------------------------------------------------\n",
      "[Epoch 189/180] :\n"
     ]
    },
    {
     "name": "stderr",
     "output_type": "stream",
     "text": [
      "189 Train: 100%|█████| 391/391 [00:09<00:00, 42.05it/s]\n"
     ]
    },
    {
     "name": "stdout",
     "output_type": "stream",
     "text": [
      "Train Loss: 0.1997 | Train Acc: 92.96%\n",
      "Test  Loss: 0.4231 | Test Acc: 87.78%\n",
      "--------------------------------------------------\n",
      "[Epoch 190/180] :\n"
     ]
    },
    {
     "name": "stderr",
     "output_type": "stream",
     "text": [
      "190 Train: 100%|█████| 391/391 [00:09<00:00, 42.06it/s]\n"
     ]
    },
    {
     "name": "stdout",
     "output_type": "stream",
     "text": [
      "Train Loss: 0.2006 | Train Acc: 93.11%\n",
      "Test  Loss: 0.4455 | Test Acc: 87.68%\n",
      "--------------------------------------------------\n",
      "[Epoch 191/180] :\n"
     ]
    },
    {
     "name": "stderr",
     "output_type": "stream",
     "text": [
      "191 Train: 100%|█████| 391/391 [00:10<00:00, 38.79it/s]\n"
     ]
    },
    {
     "name": "stdout",
     "output_type": "stream",
     "text": [
      "Train Loss: 0.2006 | Train Acc: 93.07%\n",
      "Test  Loss: 0.4476 | Test Acc: 87.08%\n",
      "--------------------------------------------------\n",
      "[Epoch 192/180] :\n"
     ]
    },
    {
     "name": "stderr",
     "output_type": "stream",
     "text": [
      "192 Train: 100%|█████| 391/391 [00:13<00:00, 29.70it/s]\n"
     ]
    },
    {
     "name": "stdout",
     "output_type": "stream",
     "text": [
      "Train Loss: 0.2000 | Train Acc: 93.07%\n",
      "Test  Loss: 0.3872 | Test Acc: 88.74%\n",
      "--------------------------------------------------\n",
      "[Epoch 193/180] :\n"
     ]
    },
    {
     "name": "stderr",
     "output_type": "stream",
     "text": [
      "193 Train: 100%|█████| 391/391 [00:12<00:00, 31.15it/s]\n"
     ]
    },
    {
     "name": "stdout",
     "output_type": "stream",
     "text": [
      "Train Loss: 0.2025 | Train Acc: 92.99%\n",
      "Test  Loss: 0.4255 | Test Acc: 88.04%\n",
      "--------------------------------------------------\n",
      "[Epoch 194/180] :\n"
     ]
    },
    {
     "name": "stderr",
     "output_type": "stream",
     "text": [
      "194 Train: 100%|█████| 391/391 [00:12<00:00, 31.42it/s]\n"
     ]
    },
    {
     "name": "stdout",
     "output_type": "stream",
     "text": [
      "Train Loss: 0.1968 | Train Acc: 93.11%\n",
      "Test  Loss: 0.4264 | Test Acc: 87.84%\n",
      "--------------------------------------------------\n",
      "[Epoch 195/180] :\n"
     ]
    },
    {
     "name": "stderr",
     "output_type": "stream",
     "text": [
      "195 Train: 100%|█████| 391/391 [00:12<00:00, 31.03it/s]\n"
     ]
    },
    {
     "name": "stdout",
     "output_type": "stream",
     "text": [
      "Train Loss: 0.1973 | Train Acc: 93.01%\n",
      "Test  Loss: 0.4487 | Test Acc: 87.88%\n",
      "--------------------------------------------------\n",
      "[Epoch 196/180] :\n"
     ]
    },
    {
     "name": "stderr",
     "output_type": "stream",
     "text": [
      "196 Train: 100%|█████| 391/391 [00:13<00:00, 30.05it/s]\n"
     ]
    },
    {
     "name": "stdout",
     "output_type": "stream",
     "text": [
      "Train Loss: 0.2006 | Train Acc: 93.05%\n",
      "Test  Loss: 0.4251 | Test Acc: 87.82%\n",
      "--------------------------------------------------\n",
      "[Epoch 197/180] :\n"
     ]
    },
    {
     "name": "stderr",
     "output_type": "stream",
     "text": [
      "197 Train: 100%|█████| 391/391 [00:13<00:00, 29.84it/s]\n"
     ]
    },
    {
     "name": "stdout",
     "output_type": "stream",
     "text": [
      "Train Loss: 0.1982 | Train Acc: 93.14%\n",
      "Test  Loss: 0.4100 | Test Acc: 88.18%\n",
      "--------------------------------------------------\n",
      "[Epoch 198/180] :\n"
     ]
    },
    {
     "name": "stderr",
     "output_type": "stream",
     "text": [
      "198 Train: 100%|█████| 391/391 [00:13<00:00, 29.97it/s]\n"
     ]
    },
    {
     "name": "stdout",
     "output_type": "stream",
     "text": [
      "Train Loss: 0.1970 | Train Acc: 93.23%\n",
      "Test  Loss: 0.5331 | Test Acc: 86.11%\n",
      "--------------------------------------------------\n",
      "[Epoch 199/180] :\n"
     ]
    },
    {
     "name": "stderr",
     "output_type": "stream",
     "text": [
      "199 Train: 100%|█████| 391/391 [00:12<00:00, 30.52it/s]\n"
     ]
    },
    {
     "name": "stdout",
     "output_type": "stream",
     "text": [
      "Train Loss: 0.1954 | Train Acc: 93.17%\n",
      "Test  Loss: 0.4100 | Test Acc: 88.19%\n",
      "--------------------------------------------------\n",
      "[Epoch 200/180] :\n"
     ]
    },
    {
     "name": "stderr",
     "output_type": "stream",
     "text": [
      "200 Train: 100%|█████| 391/391 [00:12<00:00, 30.89it/s]\n"
     ]
    },
    {
     "name": "stdout",
     "output_type": "stream",
     "text": [
      "Train Loss: 0.1973 | Train Acc: 93.08%\n",
      "Test  Loss: 0.4134 | Test Acc: 88.12%\n",
      "--------------------------------------------------\n",
      "[Epoch 201/180] :\n"
     ]
    },
    {
     "name": "stderr",
     "output_type": "stream",
     "text": [
      "201 Train: 100%|█████| 391/391 [00:12<00:00, 31.23it/s]\n"
     ]
    },
    {
     "name": "stdout",
     "output_type": "stream",
     "text": [
      "Train Loss: 0.1925 | Train Acc: 93.41%\n",
      "Test  Loss: 0.4545 | Test Acc: 87.14%\n",
      "--------------------------------------------------\n",
      "[Epoch 202/180] :\n"
     ]
    },
    {
     "name": "stderr",
     "output_type": "stream",
     "text": [
      "202 Train: 100%|█████| 391/391 [00:13<00:00, 29.91it/s]\n"
     ]
    },
    {
     "name": "stdout",
     "output_type": "stream",
     "text": [
      "Train Loss: 0.1927 | Train Acc: 93.24%\n",
      "Test  Loss: 0.4435 | Test Acc: 87.66%\n",
      "--------------------------------------------------\n"
     ]
    }
   ],
   "source": [
    "Training = DoTraining(\n",
    "    model=model,\n",
    "    criterion=criterion,\n",
    "    optimizer=optimizer,\n",
    "    scaler=scaler,\n",
    "    scheduler=scheduler,\n",
    "    earlystopper=earlystopper,\n",
    "    device=device,\n",
    "    logs=logs,\n",
    "    file_path=file_path,\n",
    ")\n",
    "pre_epochs = len(Training.logs[\"train_loss\"])\n",
    "\n",
    "for epoch in range(NUM_EPOCHS):\n",
    "    now = epoch + 1 + pre_epochs\n",
    "    print(f\"[Epoch {epoch+1+pre_epochs}/{NUM_EPOCHS}] :\")\n",
    "\n",
    "    if DATASET == \"ImageNet2012\":\n",
    "        eval_loss = Training.SingleEpoch(train_dataloader, valid_dataloader)\n",
    "    else:\n",
    "        eval_loss = Training.SingleEpoch(\n",
    "            train_dataloader, valid_dataloader, test_dataloader\n",
    "        )\n",
    "\n",
    "    Training.Save()\n",
    "\n",
    "    \n",
    "    \n",
    "    if earlystopper.check(eval_loss) == True:\n",
    "        break\n",
    "\n",
    "    print(\"-\" * 50)"
   ]
  },
  {
   "cell_type": "code",
   "execution_count": 18,
   "metadata": {},
   "outputs": [
    {
     "data": {
      "image/png": "[encoded data removed]",
      "text/plain": [
       "<Figure size 1000x500 with 2 Axes>"
      ]
     },
     "metadata": {},
     "output_type": "display_data"
    }
   ],
   "source": [
    "view = LogViewer(logs)\n",
    "view.draw()"
   ]
  },
  {
   "cell_type": "code",
   "execution_count": 19,
   "metadata": {},
   "outputs": [
    {
     "name": "stdout",
     "output_type": "stream",
     "text": [
      "1 epoch: train_loss=1.7368, train_acc=0.3673, test_loss=1.7171, test_acc=0.4204, lr=0.0010\n",
      "2 epoch: train_loss=1.2841, train_acc=0.5406, test_loss=1.5612, test_acc=0.4875, lr=0.0010\n",
      "3 epoch: train_loss=1.0886, train_acc=0.6156, test_loss=1.2267, test_acc=0.5857, lr=0.0010\n",
      "4 epoch: train_loss=0.9671, train_acc=0.6603, test_loss=0.9693, test_acc=0.6644, lr=0.0010\n",
      "5 epoch: train_loss=0.8912, train_acc=0.6905, test_loss=1.1296, test_acc=0.6423, lr=0.0010\n",
      "6 epoch: train_loss=0.8417, train_acc=0.7064, test_loss=0.8857, test_acc=0.6984, lr=0.0010\n",
      "7 epoch: train_loss=0.7866, train_acc=0.7268, test_loss=0.8221, test_acc=0.7161, lr=0.0010\n",
      "8 epoch: train_loss=0.7501, train_acc=0.7384, test_loss=0.6977, test_acc=0.7567, lr=0.0010\n",
      "9 epoch: train_loss=0.7210, train_acc=0.7498, test_loss=0.9000, test_acc=0.7038, lr=0.0010\n",
      "10 epoch: train_loss=0.6915, train_acc=0.7595, test_loss=0.6905, test_acc=0.7614, lr=0.0010\n",
      "11 epoch: train_loss=0.6626, train_acc=0.7698, test_loss=0.8214, test_acc=0.7324, lr=0.0010\n",
      "12 epoch: train_loss=0.6475, train_acc=0.7750, test_loss=0.6265, test_acc=0.7829, lr=0.0010\n",
      "13 epoch: train_loss=0.6225, train_acc=0.7833, test_loss=0.8836, test_acc=0.7248, lr=0.0010\n",
      "14 epoch: train_loss=0.6128, train_acc=0.7871, test_loss=0.7052, test_acc=0.7685, lr=0.0010\n",
      "15 epoch: train_loss=0.5953, train_acc=0.7920, test_loss=0.6762, test_acc=0.7773, lr=0.0010\n",
      "16 epoch: train_loss=0.5818, train_acc=0.7967, test_loss=0.6081, test_acc=0.7951, lr=0.0010\n",
      "17 epoch: train_loss=0.5691, train_acc=0.8040, test_loss=0.5700, test_acc=0.8092, lr=0.0010\n",
      "18 epoch: train_loss=0.5530, train_acc=0.8080, test_loss=0.6344, test_acc=0.7902, lr=0.0010\n",
      "19 epoch: train_loss=0.5382, train_acc=0.8124, test_loss=0.5960, test_acc=0.7973, lr=0.0010\n",
      "20 epoch: train_loss=0.5323, train_acc=0.8152, test_loss=0.5988, test_acc=0.7992, lr=0.0010\n",
      "21 epoch: train_loss=0.5229, train_acc=0.8189, test_loss=0.5488, test_acc=0.8102, lr=0.0010\n",
      "22 epoch: train_loss=0.5057, train_acc=0.8243, test_loss=0.5433, test_acc=0.8151, lr=0.0010\n",
      "23 epoch: train_loss=0.5065, train_acc=0.8224, test_loss=0.6190, test_acc=0.7978, lr=0.0010\n",
      "24 epoch: train_loss=0.4972, train_acc=0.8267, test_loss=0.4951, test_acc=0.8317, lr=0.0010\n",
      "25 epoch: train_loss=0.4869, train_acc=0.8302, test_loss=0.4564, test_acc=0.8436, lr=0.0010\n",
      "26 epoch: train_loss=0.4830, train_acc=0.8327, test_loss=0.5688, test_acc=0.8082, lr=0.0010\n",
      "27 epoch: train_loss=0.4704, train_acc=0.8377, test_loss=0.5098, test_acc=0.8286, lr=0.0010\n",
      "28 epoch: train_loss=0.4674, train_acc=0.8366, test_loss=0.5356, test_acc=0.8153, lr=0.0010\n",
      "29 epoch: train_loss=0.4549, train_acc=0.8403, test_loss=0.5698, test_acc=0.8105, lr=0.0010\n",
      "30 epoch: train_loss=0.4555, train_acc=0.8397, test_loss=0.5860, test_acc=0.8074, lr=0.0010\n",
      "31 epoch: train_loss=0.4441, train_acc=0.8465, test_loss=0.5392, test_acc=0.8243, lr=0.0010\n",
      "32 epoch: train_loss=0.4373, train_acc=0.8476, test_loss=0.5062, test_acc=0.8344, lr=0.0010\n",
      "33 epoch: train_loss=0.4350, train_acc=0.8470, test_loss=0.4813, test_acc=0.8407, lr=0.0010\n",
      "34 epoch: train_loss=0.4336, train_acc=0.8485, test_loss=0.4518, test_acc=0.8465, lr=0.0010\n",
      "35 epoch: train_loss=0.4237, train_acc=0.8504, test_loss=0.4531, test_acc=0.8458, lr=0.0010\n",
      "36 epoch: train_loss=0.4197, train_acc=0.8534, test_loss=0.5532, test_acc=0.8244, lr=0.0010\n",
      "37 epoch: train_loss=0.4152, train_acc=0.8544, test_loss=0.5219, test_acc=0.8264, lr=0.0010\n",
      "38 epoch: train_loss=0.4144, train_acc=0.8548, test_loss=0.4388, test_acc=0.8511, lr=0.0010\n",
      "39 epoch: train_loss=0.4028, train_acc=0.8591, test_loss=0.5556, test_acc=0.8183, lr=0.0010\n",
      "40 epoch: train_loss=0.4002, train_acc=0.8619, test_loss=0.4339, test_acc=0.8523, lr=0.0010\n",
      "41 epoch: train_loss=0.3986, train_acc=0.8613, test_loss=0.4963, test_acc=0.8381, lr=0.0010\n",
      "42 epoch: train_loss=0.3849, train_acc=0.8646, test_loss=0.4768, test_acc=0.8415, lr=0.0010\n",
      "43 epoch: train_loss=0.3888, train_acc=0.8634, test_loss=0.5273, test_acc=0.8248, lr=0.0010\n",
      "44 epoch: train_loss=0.3814, train_acc=0.8672, test_loss=0.4611, test_acc=0.8489, lr=0.0010\n",
      "45 epoch: train_loss=0.3859, train_acc=0.8639, test_loss=0.4918, test_acc=0.8373, lr=0.0010\n",
      "46 epoch: train_loss=0.3781, train_acc=0.8673, test_loss=0.4558, test_acc=0.8474, lr=0.0010\n",
      "47 epoch: train_loss=0.3741, train_acc=0.8688, test_loss=0.4358, test_acc=0.8514, lr=0.0010\n",
      "48 epoch: train_loss=0.3701, train_acc=0.8706, test_loss=0.4742, test_acc=0.8474, lr=0.0010\n",
      "49 epoch: train_loss=0.3677, train_acc=0.8713, test_loss=0.4560, test_acc=0.8509, lr=0.0010\n",
      "50 epoch: train_loss=0.3684, train_acc=0.8699, test_loss=0.4905, test_acc=0.8384, lr=0.0010\n",
      "51 epoch: train_loss=0.3642, train_acc=0.8723, test_loss=0.4511, test_acc=0.8527, lr=0.0010\n",
      "52 epoch: train_loss=0.3606, train_acc=0.8734, test_loss=0.4626, test_acc=0.8495, lr=0.0010\n",
      "53 epoch: train_loss=0.3508, train_acc=0.8770, test_loss=0.4598, test_acc=0.8515, lr=0.0010\n",
      "54 epoch: train_loss=0.3538, train_acc=0.8744, test_loss=0.4155, test_acc=0.8621, lr=0.0010\n",
      "55 epoch: train_loss=0.3477, train_acc=0.8771, test_loss=0.4195, test_acc=0.8585, lr=0.0010\n",
      "56 epoch: train_loss=0.3464, train_acc=0.8793, test_loss=0.4412, test_acc=0.8538, lr=0.0010\n",
      "57 epoch: train_loss=0.3426, train_acc=0.8808, test_loss=0.4533, test_acc=0.8499, lr=0.0010\n",
      "58 epoch: train_loss=0.3430, train_acc=0.8802, test_loss=0.4175, test_acc=0.8655, lr=0.0010\n",
      "59 epoch: train_loss=0.3363, train_acc=0.8827, test_loss=0.4164, test_acc=0.8654, lr=0.0010\n",
      "60 epoch: train_loss=0.3311, train_acc=0.8840, test_loss=0.3891, test_acc=0.8671, lr=0.0010\n",
      "61 epoch: train_loss=0.3344, train_acc=0.8841, test_loss=0.4579, test_acc=0.8553, lr=0.0010\n",
      "62 epoch: train_loss=0.3284, train_acc=0.8851, test_loss=0.4336, test_acc=0.8622, lr=0.0010\n",
      "63 epoch: train_loss=0.3248, train_acc=0.8858, test_loss=0.4659, test_acc=0.8564, lr=0.0010\n",
      "64 epoch: train_loss=0.3259, train_acc=0.8872, test_loss=0.4186, test_acc=0.8633, lr=0.0010\n",
      "65 epoch: train_loss=0.3209, train_acc=0.8877, test_loss=0.4221, test_acc=0.8625, lr=0.0010\n",
      "66 epoch: train_loss=0.3206, train_acc=0.8864, test_loss=0.3861, test_acc=0.8748, lr=0.0010\n",
      "67 epoch: train_loss=0.3197, train_acc=0.8882, test_loss=0.4589, test_acc=0.8531, lr=0.0010\n",
      "68 epoch: train_loss=0.3179, train_acc=0.8892, test_loss=0.5362, test_acc=0.8289, lr=0.0010\n",
      "69 epoch: train_loss=0.3148, train_acc=0.8897, test_loss=0.4188, test_acc=0.8660, lr=0.0010\n",
      "70 epoch: train_loss=0.3129, train_acc=0.8892, test_loss=0.4985, test_acc=0.8445, lr=0.0010\n",
      "71 epoch: train_loss=0.3106, train_acc=0.8912, test_loss=0.4728, test_acc=0.8531, lr=0.0010\n",
      "72 epoch: train_loss=0.3093, train_acc=0.8919, test_loss=0.4513, test_acc=0.8589, lr=0.0010\n",
      "73 epoch: train_loss=0.3056, train_acc=0.8932, test_loss=0.5289, test_acc=0.8377, lr=0.0010\n",
      "74 epoch: train_loss=0.3103, train_acc=0.8916, test_loss=0.4503, test_acc=0.8613, lr=0.0010\n",
      "75 epoch: train_loss=0.2997, train_acc=0.8941, test_loss=0.4305, test_acc=0.8606, lr=0.0010\n",
      "76 epoch: train_loss=0.3048, train_acc=0.8934, test_loss=0.4282, test_acc=0.8585, lr=0.0010\n",
      "77 epoch: train_loss=0.3003, train_acc=0.8960, test_loss=0.4286, test_acc=0.8646, lr=0.0010\n",
      "78 epoch: train_loss=0.3003, train_acc=0.8956, test_loss=0.4199, test_acc=0.8687, lr=0.0010\n",
      "79 epoch: train_loss=0.2945, train_acc=0.8976, test_loss=0.4366, test_acc=0.8613, lr=0.0010\n",
      "80 epoch: train_loss=0.2949, train_acc=0.8958, test_loss=0.4422, test_acc=0.8626, lr=0.0010\n",
      "81 epoch: train_loss=0.2937, train_acc=0.8970, test_loss=0.4493, test_acc=0.8628, lr=0.0010\n",
      "82 epoch: train_loss=0.2960, train_acc=0.8974, test_loss=0.4410, test_acc=0.8618, lr=0.0010\n",
      "83 epoch: train_loss=0.2920, train_acc=0.8977, test_loss=0.4355, test_acc=0.8653, lr=0.0010\n",
      "84 epoch: train_loss=0.2938, train_acc=0.8964, test_loss=0.4280, test_acc=0.8641, lr=0.0010\n",
      "85 epoch: train_loss=0.2856, train_acc=0.9012, test_loss=0.3896, test_acc=0.8758, lr=0.0010\n",
      "86 epoch: train_loss=0.2843, train_acc=0.9004, test_loss=0.4597, test_acc=0.8560, lr=0.0010\n",
      "87 epoch: train_loss=0.2841, train_acc=0.8992, test_loss=0.3941, test_acc=0.8780, lr=0.0010\n",
      "88 epoch: train_loss=0.2803, train_acc=0.9023, test_loss=0.4662, test_acc=0.8572, lr=0.0010\n",
      "89 epoch: train_loss=0.2804, train_acc=0.9010, test_loss=0.4245, test_acc=0.8692, lr=0.0010\n",
      "90 epoch: train_loss=0.2817, train_acc=0.9027, test_loss=0.3772, test_acc=0.8808, lr=0.0010\n",
      "91 epoch: train_loss=0.2804, train_acc=0.9019, test_loss=0.3841, test_acc=0.8789, lr=0.0010\n",
      "92 epoch: train_loss=0.2778, train_acc=0.9037, test_loss=0.4022, test_acc=0.8723, lr=0.0010\n",
      "93 epoch: train_loss=0.2709, train_acc=0.9037, test_loss=0.3776, test_acc=0.8795, lr=0.0010\n",
      "94 epoch: train_loss=0.2735, train_acc=0.9028, test_loss=0.4223, test_acc=0.8765, lr=0.0010\n",
      "95 epoch: train_loss=0.2774, train_acc=0.9032, test_loss=0.4103, test_acc=0.8719, lr=0.0010\n",
      "96 epoch: train_loss=0.2733, train_acc=0.9039, test_loss=0.4611, test_acc=0.8615, lr=0.0010\n",
      "97 epoch: train_loss=0.2669, train_acc=0.9060, test_loss=0.5162, test_acc=0.8469, lr=0.0010\n",
      "98 epoch: train_loss=0.2727, train_acc=0.9036, test_loss=0.4070, test_acc=0.8721, lr=0.0010\n",
      "99 epoch: train_loss=0.2691, train_acc=0.9064, test_loss=0.4674, test_acc=0.8548, lr=0.0010\n",
      "100 epoch: train_loss=0.2603, train_acc=0.9088, test_loss=0.4579, test_acc=0.8597, lr=0.0010\n",
      "101 epoch: train_loss=0.2646, train_acc=0.9076, test_loss=0.4772, test_acc=0.8584, lr=0.0010\n",
      "102 epoch: train_loss=0.2606, train_acc=0.9087, test_loss=0.4085, test_acc=0.8745, lr=0.0010\n",
      "103 epoch: train_loss=0.2663, train_acc=0.9061, test_loss=0.3976, test_acc=0.8764, lr=0.0010\n",
      "104 epoch: train_loss=0.2575, train_acc=0.9103, test_loss=0.4060, test_acc=0.8743, lr=0.0010\n",
      "105 epoch: train_loss=0.2609, train_acc=0.9088, test_loss=0.4355, test_acc=0.8619, lr=0.0010\n",
      "106 epoch: train_loss=0.2598, train_acc=0.9096, test_loss=0.4860, test_acc=0.8545, lr=0.0010\n",
      "107 epoch: train_loss=0.2558, train_acc=0.9102, test_loss=0.3830, test_acc=0.8781, lr=0.0010\n",
      "108 epoch: train_loss=0.2576, train_acc=0.9102, test_loss=0.4096, test_acc=0.8767, lr=0.0010\n",
      "109 epoch: train_loss=0.2580, train_acc=0.9095, test_loss=0.4053, test_acc=0.8776, lr=0.0010\n",
      "110 epoch: train_loss=0.2572, train_acc=0.9088, test_loss=0.4290, test_acc=0.8665, lr=0.0010\n",
      "111 epoch: train_loss=0.2476, train_acc=0.9131, test_loss=0.4228, test_acc=0.8699, lr=0.0010\n",
      "112 epoch: train_loss=0.2544, train_acc=0.9110, test_loss=0.3979, test_acc=0.8761, lr=0.0010\n",
      "113 epoch: train_loss=0.2536, train_acc=0.9106, test_loss=0.4408, test_acc=0.8682, lr=0.0010\n",
      "114 epoch: train_loss=0.2531, train_acc=0.9124, test_loss=0.3888, test_acc=0.8803, lr=0.0010\n",
      "115 epoch: train_loss=0.2429, train_acc=0.9154, test_loss=0.4319, test_acc=0.8686, lr=0.0010\n",
      "116 epoch: train_loss=0.2451, train_acc=0.9128, test_loss=0.4020, test_acc=0.8783, lr=0.0010\n",
      "117 epoch: train_loss=0.2470, train_acc=0.9138, test_loss=0.3706, test_acc=0.8825, lr=0.0010\n",
      "118 epoch: train_loss=0.2466, train_acc=0.9136, test_loss=0.4015, test_acc=0.8754, lr=0.0010\n",
      "119 epoch: train_loss=0.2456, train_acc=0.9134, test_loss=0.4372, test_acc=0.8718, lr=0.0010\n",
      "120 epoch: train_loss=0.2455, train_acc=0.9145, test_loss=0.4396, test_acc=0.8677, lr=0.0010\n",
      "121 epoch: train_loss=0.2434, train_acc=0.9142, test_loss=0.3918, test_acc=0.8810, lr=0.0010\n",
      "122 epoch: train_loss=0.2465, train_acc=0.9145, test_loss=0.4750, test_acc=0.8681, lr=0.0010\n",
      "123 epoch: train_loss=0.2431, train_acc=0.9160, test_loss=0.4308, test_acc=0.8700, lr=0.0010\n",
      "124 epoch: train_loss=0.2410, train_acc=0.9157, test_loss=0.3927, test_acc=0.8773, lr=0.0010\n",
      "125 epoch: train_loss=0.2425, train_acc=0.9150, test_loss=0.4365, test_acc=0.8730, lr=0.0010\n",
      "126 epoch: train_loss=0.2388, train_acc=0.9152, test_loss=0.3926, test_acc=0.8795, lr=0.0010\n",
      "127 epoch: train_loss=0.2361, train_acc=0.9172, test_loss=0.4424, test_acc=0.8734, lr=0.0010\n",
      "128 epoch: train_loss=0.2349, train_acc=0.9171, test_loss=0.4169, test_acc=0.8731, lr=0.0010\n",
      "129 epoch: train_loss=0.2406, train_acc=0.9160, test_loss=0.3898, test_acc=0.8816, lr=0.0010\n",
      "130 epoch: train_loss=0.2360, train_acc=0.9169, test_loss=0.4312, test_acc=0.8727, lr=0.0010\n",
      "131 epoch: train_loss=0.2333, train_acc=0.9184, test_loss=0.4555, test_acc=0.8711, lr=0.0010\n",
      "132 epoch: train_loss=0.2382, train_acc=0.9166, test_loss=0.4021, test_acc=0.8851, lr=0.0010\n",
      "133 epoch: train_loss=0.2302, train_acc=0.9199, test_loss=0.4046, test_acc=0.8760, lr=0.0010\n",
      "134 epoch: train_loss=0.2353, train_acc=0.9181, test_loss=0.4304, test_acc=0.8789, lr=0.0010\n",
      "135 epoch: train_loss=0.2296, train_acc=0.9202, test_loss=0.4369, test_acc=0.8761, lr=0.0010\n",
      "136 epoch: train_loss=0.2308, train_acc=0.9185, test_loss=0.4522, test_acc=0.8699, lr=0.0010\n",
      "137 epoch: train_loss=0.2317, train_acc=0.9183, test_loss=0.4454, test_acc=0.8654, lr=0.0010\n",
      "138 epoch: train_loss=0.2331, train_acc=0.9180, test_loss=0.4039, test_acc=0.8822, lr=0.0010\n",
      "139 epoch: train_loss=0.2220, train_acc=0.9217, test_loss=0.4651, test_acc=0.8639, lr=0.0010\n",
      "140 epoch: train_loss=0.2342, train_acc=0.9181, test_loss=0.4177, test_acc=0.8727, lr=0.0010\n",
      "141 epoch: train_loss=0.2328, train_acc=0.9188, test_loss=0.4271, test_acc=0.8750, lr=0.0010\n",
      "142 epoch: train_loss=0.2249, train_acc=0.9219, test_loss=0.4881, test_acc=0.8600, lr=0.0010\n",
      "143 epoch: train_loss=0.2274, train_acc=0.9209, test_loss=0.4707, test_acc=0.8665, lr=0.0010\n",
      "144 epoch: train_loss=0.2241, train_acc=0.9205, test_loss=0.3845, test_acc=0.8863, lr=0.0010\n",
      "145 epoch: train_loss=0.2257, train_acc=0.9207, test_loss=0.4066, test_acc=0.8754, lr=0.0010\n",
      "146 epoch: train_loss=0.2235, train_acc=0.9219, test_loss=0.3891, test_acc=0.8845, lr=0.0010\n",
      "147 epoch: train_loss=0.2251, train_acc=0.9215, test_loss=0.4041, test_acc=0.8817, lr=0.0010\n",
      "148 epoch: train_loss=0.2260, train_acc=0.9218, test_loss=0.4618, test_acc=0.8601, lr=0.0010\n",
      "149 epoch: train_loss=0.2175, train_acc=0.9244, test_loss=0.4614, test_acc=0.8619, lr=0.0010\n",
      "150 epoch: train_loss=0.2225, train_acc=0.9242, test_loss=0.5182, test_acc=0.8601, lr=0.0010\n",
      "151 epoch: train_loss=0.2203, train_acc=0.9235, test_loss=0.3953, test_acc=0.8849, lr=0.0010\n",
      "152 epoch: train_loss=0.2184, train_acc=0.9229, test_loss=0.4179, test_acc=0.8782, lr=0.0010\n",
      "153 epoch: train_loss=0.2227, train_acc=0.9221, test_loss=0.4694, test_acc=0.8640, lr=0.0010\n",
      "154 epoch: train_loss=0.2162, train_acc=0.9243, test_loss=0.4512, test_acc=0.8728, lr=0.0010\n",
      "155 epoch: train_loss=0.2174, train_acc=0.9242, test_loss=0.4320, test_acc=0.8739, lr=0.0010\n",
      "156 epoch: train_loss=0.2156, train_acc=0.9257, test_loss=0.4186, test_acc=0.8777, lr=0.0010\n",
      "157 epoch: train_loss=0.2131, train_acc=0.9240, test_loss=0.4078, test_acc=0.8804, lr=0.0010\n",
      "158 epoch: train_loss=0.2183, train_acc=0.9238, test_loss=0.4122, test_acc=0.8773, lr=0.0010\n",
      "159 epoch: train_loss=0.2133, train_acc=0.9257, test_loss=0.3959, test_acc=0.8812, lr=0.0010\n",
      "160 epoch: train_loss=0.2169, train_acc=0.9256, test_loss=0.4429, test_acc=0.8710, lr=0.0010\n",
      "161 epoch: train_loss=0.2152, train_acc=0.9250, test_loss=0.3707, test_acc=0.8890, lr=0.0010\n",
      "162 epoch: train_loss=0.2141, train_acc=0.9267, test_loss=0.4935, test_acc=0.8579, lr=0.0010\n",
      "163 epoch: train_loss=0.2109, train_acc=0.9253, test_loss=0.4816, test_acc=0.8604, lr=0.0010\n",
      "164 epoch: train_loss=0.2143, train_acc=0.9251, test_loss=0.3983, test_acc=0.8808, lr=0.0010\n",
      "165 epoch: train_loss=0.2133, train_acc=0.9255, test_loss=0.4127, test_acc=0.8761, lr=0.0010\n",
      "166 epoch: train_loss=0.2110, train_acc=0.9261, test_loss=0.3923, test_acc=0.8798, lr=0.0010\n",
      "167 epoch: train_loss=0.2079, train_acc=0.9279, test_loss=0.4593, test_acc=0.8724, lr=0.0010\n",
      "168 epoch: train_loss=0.2077, train_acc=0.9281, test_loss=0.4327, test_acc=0.8761, lr=0.0010\n",
      "169 epoch: train_loss=0.2128, train_acc=0.9254, test_loss=0.3854, test_acc=0.8850, lr=0.0010\n",
      "170 epoch: train_loss=0.2066, train_acc=0.9263, test_loss=0.4699, test_acc=0.8649, lr=0.0010\n",
      "171 epoch: train_loss=0.2076, train_acc=0.9272, test_loss=0.4313, test_acc=0.8761, lr=0.0010\n",
      "172 epoch: train_loss=0.2109, train_acc=0.9260, test_loss=0.3952, test_acc=0.8872, lr=0.0010\n",
      "173 epoch: train_loss=0.2048, train_acc=0.9291, test_loss=0.3885, test_acc=0.8857, lr=0.0010\n",
      "174 epoch: train_loss=0.2047, train_acc=0.9296, test_loss=0.3979, test_acc=0.8813, lr=0.0010\n",
      "175 epoch: train_loss=0.2102, train_acc=0.9276, test_loss=0.4151, test_acc=0.8811, lr=0.0010\n",
      "176 epoch: train_loss=0.2076, train_acc=0.9274, test_loss=0.4540, test_acc=0.8732, lr=0.0010\n",
      "177 epoch: train_loss=0.2048, train_acc=0.9280, test_loss=0.4427, test_acc=0.8724, lr=0.0010\n",
      "178 epoch: train_loss=0.2049, train_acc=0.9291, test_loss=0.4393, test_acc=0.8742, lr=0.0010\n",
      "179 epoch: train_loss=0.2079, train_acc=0.9282, test_loss=0.4446, test_acc=0.8712, lr=0.0010\n",
      "180 epoch: train_loss=0.1992, train_acc=0.9303, test_loss=0.4779, test_acc=0.8661, lr=0.0010\n",
      "181 epoch: train_loss=0.2090, train_acc=0.9270, test_loss=0.4560, test_acc=0.8689, lr=0.0010\n",
      "182 epoch: train_loss=0.2017, train_acc=0.9300, test_loss=0.4239, test_acc=0.8774, lr=0.0010\n",
      "183 epoch: train_loss=0.2059, train_acc=0.9278, test_loss=0.3664, test_acc=0.8898, lr=0.0010\n",
      "184 epoch: train_loss=0.2043, train_acc=0.9286, test_loss=0.4166, test_acc=0.8840, lr=0.0010\n",
      "185 epoch: train_loss=0.2028, train_acc=0.9296, test_loss=0.4187, test_acc=0.8764, lr=0.0010\n",
      "186 epoch: train_loss=0.2027, train_acc=0.9293, test_loss=0.4728, test_acc=0.8687, lr=0.0010\n",
      "187 epoch: train_loss=0.2062, train_acc=0.9278, test_loss=0.4121, test_acc=0.8841, lr=0.0010\n",
      "188 epoch: train_loss=0.2023, train_acc=0.9297, test_loss=0.4561, test_acc=0.8696, lr=0.0010\n",
      "189 epoch: train_loss=0.1997, train_acc=0.9296, test_loss=0.4231, test_acc=0.8778, lr=0.0010\n",
      "190 epoch: train_loss=0.2006, train_acc=0.9311, test_loss=0.4455, test_acc=0.8768, lr=0.0010\n",
      "191 epoch: train_loss=0.2006, train_acc=0.9307, test_loss=0.4476, test_acc=0.8708, lr=0.0010\n",
      "192 epoch: train_loss=0.2000, train_acc=0.9307, test_loss=0.3872, test_acc=0.8874, lr=0.0010\n",
      "193 epoch: train_loss=0.2025, train_acc=0.9299, test_loss=0.4255, test_acc=0.8804, lr=0.0010\n",
      "194 epoch: train_loss=0.1968, train_acc=0.9311, test_loss=0.4264, test_acc=0.8784, lr=0.0010\n",
      "195 epoch: train_loss=0.1973, train_acc=0.9301, test_loss=0.4487, test_acc=0.8788, lr=0.0010\n",
      "196 epoch: train_loss=0.2006, train_acc=0.9305, test_loss=0.4251, test_acc=0.8782, lr=0.0010\n",
      "197 epoch: train_loss=0.1982, train_acc=0.9314, test_loss=0.4100, test_acc=0.8818, lr=0.0010\n",
      "198 epoch: train_loss=0.1970, train_acc=0.9323, test_loss=0.5331, test_acc=0.8611, lr=0.0010\n",
      "199 epoch: train_loss=0.1954, train_acc=0.9317, test_loss=0.4100, test_acc=0.8819, lr=0.0010\n",
      "200 epoch: train_loss=0.1973, train_acc=0.9308, test_loss=0.4134, test_acc=0.8812, lr=0.0010\n",
      "201 epoch: train_loss=0.1925, train_acc=0.9341, test_loss=0.4545, test_acc=0.8714, lr=0.0010\n",
      "202 epoch: train_loss=0.1927, train_acc=0.9324, test_loss=0.4435, test_acc=0.8766, lr=0.0010\n"
     ]
    }
   ],
   "source": [
    "view.print_all()"
   ]
  },
  {
   "cell_type": "code",
   "execution_count": 20,
   "metadata": {},
   "outputs": [],
   "source": [
    "# CHECK = 5410\n",
    "# logs[\"train_loss\"] = logs[\"train_loss\"][:CHECK]\n",
    "# logs[\"train_acc\"] = logs[\"train_acc\"][:CHECK]\n",
    "# logs[\"valid_loss\"] = logs[\"valid_loss\"][:CHECK]\n",
    "# logs[\"valid_acc\"] = logs[\"valid_acc\"][:CHECK]\n",
    "# logs[\"test_loss\"] = logs[\"test_loss\"][:CHECK]\n",
    "# logs[\"test_acc\"] = logs[\"test_acc\"][:CHECK]\n",
    "# model.load_state_dict(torch.load(f\"models/{file_path}.pth\"))"
   ]
  }
 ],
 "metadata": {
  "kernelspec": {
   "display_name": "base",
   "language": "python",
   "name": "python3"
  },
  "language_info": {
   "codemirror_mode": {
    "name": "ipython",
    "version": 3
   },
   "file_extension": ".py",
   "mimetype": "text/x-python",
   "name": "python",
   "nbconvert_exporter": "python",
   "pygments_lexer": "ipython3",
   "version": "3.11.5"
  }
 },
 "nbformat": 4,
 "nbformat_minor": 2
}
