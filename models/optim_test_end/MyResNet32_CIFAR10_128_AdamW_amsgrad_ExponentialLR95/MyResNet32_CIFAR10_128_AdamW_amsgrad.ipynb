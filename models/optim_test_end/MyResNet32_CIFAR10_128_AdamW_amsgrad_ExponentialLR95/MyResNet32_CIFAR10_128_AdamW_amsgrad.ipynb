{
 "cells": [
  {
   "cell_type": "markdown",
   "metadata": {},
   "source": [
    "# Import"
   ]
  },
  {
   "cell_type": "code",
   "execution_count": 1,
   "metadata": {},
   "outputs": [],
   "source": [
    "import torch\n",
    "from torch import nn\n",
    "from torch.optim.lr_scheduler import ExponentialLR\n",
    "import sys, os\n",
    "\n",
    "sys.path.append(os.path.dirname(os.path.abspath(os.path.dirname(\"src\"))))\n",
    "\n",
    "from src.Mydataloader import LoadDataset\n",
    "from src.Mymodel import MyResNet_CIFAR\n",
    "from src.Mytraining import DoTraining\n",
    "from src.Earlystopper import EarlyStopper\n",
    "from src.LogViewer import LogViewer"
   ]
  },
  {
   "cell_type": "markdown",
   "metadata": {},
   "source": [
    "# Setup"
   ]
  },
  {
   "cell_type": "code",
   "execution_count": 2,
   "metadata": {},
   "outputs": [],
   "source": [
    "\"\"\"Dataset selection\"\"\"\n",
    "DATASET = \"CIFAR10\"\n",
    "# DATASET = \"CIFAR100\"\n",
    "# DATASET = \"ImageNet2012\"\n",
    "\n",
    "\"\"\"Dataset parameters\"\"\"\n",
    "BATCH = 128\n",
    "SHUFFLE = True\n",
    "NUMOFWORKERS = 8\n",
    "PIN_MEMORY = True\n",
    "\n",
    "\"\"\"optimizer parameters\"\"\"\n",
    "# OPTIMIZER = \"Adam\"\n",
    "# OPTIMIZER = \"Adam_decay\"\n",
    "# OPTIMIZER = \"SGD\"\n",
    "# OPTIMIZER = \"SGD_nasterov\"\n",
    "# OPTIMIZER = \"AdamW\"\n",
    "OPTIMIZER = \"AdamW_amsgrad\"\n",
    "# OPTIMIZER = \"NAdam\"\n",
    "\n",
    "\"\"\"Learning rate scheduler parameters\"\"\"\n",
    "NUM_EPOCHS = 100\n",
    "\n",
    "\"\"\"Early stopping parameters\"\"\"\n",
    "EARLYSTOPPINGPATIENCE = 100\n",
    "\n",
    "file_name = f\"MyResNet32_{BATCH}_{OPTIMIZER}\""
   ]
  },
  {
   "cell_type": "code",
   "execution_count": 3,
   "metadata": {},
   "outputs": [
    {
     "data": {
      "text/plain": [
       "'MyResNet32_128_AdamW_amsgrad'"
      ]
     },
     "execution_count": 3,
     "metadata": {},
     "output_type": "execute_result"
    }
   ],
   "source": [
    "file_name"
   ]
  },
  {
   "cell_type": "markdown",
   "metadata": {},
   "source": [
    "# Loading the dataset"
   ]
  },
  {
   "cell_type": "markdown",
   "metadata": {},
   "source": [
    "## Define Dateloader"
   ]
  },
  {
   "cell_type": "code",
   "execution_count": 4,
   "metadata": {},
   "outputs": [
    {
     "name": "stderr",
     "output_type": "stream",
     "text": [
      "/home/lee/anaconda3/lib/python3.11/site-packages/torchvision/transforms/v2/_deprecated.py:43: UserWarning: The transform `ToTensor()` is deprecated and will be removed in a future release. Instead, please use `v2.Compose([v2.ToImage(), v2.ToDtype(torch.float32, scale=True)])`.\n",
      "  warnings.warn(\n"
     ]
    },
    {
     "name": "stdout",
     "output_type": "stream",
     "text": [
      "-----------------------------------------------------------------------\n",
      "Dataset :  CIFAR10\n",
      "- Length of Train Set :  50000\n",
      "- Length of Test Set :  10000\n",
      "- Count of Classes :  10\n",
      "-----------------------------------------------------------------------\n"
     ]
    }
   ],
   "source": [
    "tmp = LoadDataset(root=\"../../../data\", seceted_dataset=DATASET)\n",
    "train_data, valid_data, test_data, COUNT_OF_CLASSES = tmp.Unpack()"
   ]
  },
  {
   "cell_type": "code",
   "execution_count": 5,
   "metadata": {},
   "outputs": [
    {
     "name": "stdout",
     "output_type": "stream",
     "text": [
      "train.transforms = Compose(\n",
      "      AutoAugment(interpolation=InterpolationMode.NEAREST, policy=AutoAugmentPolicy.CIFAR10)\n",
      "      RandomCrop(size=(32, 32), padding=[4, 4, 4, 4], pad_if_needed=False, fill=0, padding_mode=constant)\n",
      "      RandomHorizontalFlip(p=0.5)\n",
      "      ToTensor()\n",
      "      Normalize(mean=[0.49139968, 0.48215827, 0.44653124], std=[1, 1, 1], inplace=True)\n",
      ") 128\n",
      "test.transforms = ToTensor() 128\n"
     ]
    }
   ],
   "source": [
    "train_dataloader, valid_dataloader, test_dataloader = tmp.get_dataloader(\n",
    "    batch_size=BATCH, shuffle=SHUFFLE, num_workers=NUMOFWORKERS, pin_memory=PIN_MEMORY\n",
    ")"
   ]
  },
  {
   "cell_type": "markdown",
   "metadata": {},
   "source": [
    "# Define ResNet"
   ]
  },
  {
   "cell_type": "markdown",
   "metadata": {},
   "source": [
    "## Model Confirm"
   ]
  },
  {
   "cell_type": "code",
   "execution_count": 6,
   "metadata": {},
   "outputs": [
    {
     "data": {
      "text/plain": [
       "device(type='cuda')"
      ]
     },
     "execution_count": 6,
     "metadata": {},
     "output_type": "execute_result"
    }
   ],
   "source": [
    "device = torch.device(\"cuda\" if torch.cuda.is_available() else \"cpu\")\n",
    "device"
   ]
  },
  {
   "cell_type": "code",
   "execution_count": 7,
   "metadata": {},
   "outputs": [],
   "source": [
    "model = MyResNet_CIFAR(num_classes=COUNT_OF_CLASSES, num_layer_factor=5).to(device)"
   ]
  },
  {
   "cell_type": "markdown",
   "metadata": {},
   "source": [
    "# Define Training"
   ]
  },
  {
   "cell_type": "markdown",
   "metadata": {},
   "source": [
    "## (1) Define Criterion"
   ]
  },
  {
   "cell_type": "code",
   "execution_count": 8,
   "metadata": {},
   "outputs": [],
   "source": [
    "criterion = nn.CrossEntropyLoss()"
   ]
  },
  {
   "cell_type": "markdown",
   "metadata": {},
   "source": [
    "## (2) Define Optimazer"
   ]
  },
  {
   "cell_type": "code",
   "execution_count": 9,
   "metadata": {},
   "outputs": [],
   "source": [
    "if OPTIMIZER == \"Adam\":\n",
    "    optimizer = torch.optim.Adam(model.parameters())\n",
    "elif OPTIMIZER == \"Adam_decay\":\n",
    "    optimizer = torch.optim.Adam(model.parameters(), weight_decay=1e-4)\n",
    "elif OPTIMIZER == \"SGD\":\n",
    "    optimizer = torch.optim.SGD(\n",
    "        model.parameters(), lr=0.1, momentum=0.9, weight_decay=1e-4\n",
    "    )\n",
    "elif OPTIMIZER == \"SGD_nasterov\":\n",
    "    optimizer = torch.optim.SGD(\n",
    "        model.parameters(), lr=0.1, momentum=0.9, weight_decay=1e-4, nesterov=True\n",
    "    )\n",
    "elif OPTIMIZER == \"AdamW\":\n",
    "    optimizer = torch.optim.AdamW(model.parameters(), weight_decay=1e-4)\n",
    "elif OPTIMIZER == \"AdamW_amsgrad\":\n",
    "    optimizer = torch.optim.AdamW(model.parameters(), weight_decay=1e-4, amsgrad=True)\n",
    "elif OPTIMIZER == \"NAdam\":\n",
    "    optimizer = torch.optim.NAdam(model.parameters(), weight_decay=1e-4)"
   ]
  },
  {
   "cell_type": "markdown",
   "metadata": {},
   "source": [
    "## (3) Define Early Stopping"
   ]
  },
  {
   "cell_type": "code",
   "execution_count": 10,
   "metadata": {},
   "outputs": [],
   "source": [
    "earlystopper = EarlyStopper(patience=EARLYSTOPPINGPATIENCE, model=model, file_name=file_name)"
   ]
  },
  {
   "cell_type": "markdown",
   "metadata": {},
   "source": [
    "## (4) Define Learning Rate schedualer"
   ]
  },
  {
   "cell_type": "code",
   "execution_count": 11,
   "metadata": {},
   "outputs": [],
   "source": [
    "scheduler = ExponentialLR(optimizer, gamma=0.95)"
   ]
  },
  {
   "cell_type": "markdown",
   "metadata": {},
   "source": [
    "## (5) Define AMP scaler"
   ]
  },
  {
   "cell_type": "code",
   "execution_count": 12,
   "metadata": {},
   "outputs": [],
   "source": [
    "scaler = torch.cuda.amp.GradScaler(enabled=True)"
   ]
  },
  {
   "cell_type": "markdown",
   "metadata": {},
   "source": [
    "## Load before process"
   ]
  },
  {
   "cell_type": "code",
   "execution_count": 13,
   "metadata": {},
   "outputs": [
    {
     "name": "stdout",
     "output_type": "stream",
     "text": [
      "File does not exist. Created a new log.\n"
     ]
    }
   ],
   "source": [
    "if os.path.exists(file_name + \".pth.tar\"):\n",
    "    # Read checkpoint as desired, e.g.,\n",
    "    checkpoint = torch.load(\n",
    "        file_name + \".pth.tar\",\n",
    "        map_location=lambda storage, loc: storage.cuda(device),\n",
    "    )\n",
    "    model.load_state_dict(checkpoint[\"model\"])\n",
    "    optimizer.load_state_dict(checkpoint[\"optimizer\"])\n",
    "    scaler.load_state_dict(checkpoint[\"scaler\"])\n",
    "    scheduler.load_state_dict(checkpoint[\"scheduler\"])\n",
    "    earlystopper.load_state_dict(checkpoint[\"earlystopper\"])\n",
    "    logs = checkpoint[\"logs\"]\n",
    "\n",
    "    print(\"Suceessfully loaded the All setting and Log file.\")\n",
    "    print(file_name)\n",
    "    print(f\"Current epoch is {len(logs['train_loss'])}\")\n",
    "    print(f\"Current learning rate: {optimizer.param_groups[0]['lr']}\")\n",
    "else:\n",
    "    # Create a dictionary to store the variables\n",
    "    train_loss = []\n",
    "    train_acc = []\n",
    "    eval_loss = []\n",
    "    valid_acc = []\n",
    "    test_loss = []\n",
    "    test_acc = []\n",
    "    lr_log = []\n",
    "    logs = {\n",
    "        \"train_loss\": train_loss,\n",
    "        \"train_acc\": train_acc,\n",
    "        \"valid_loss\": eval_loss,\n",
    "        \"valid_acc\": valid_acc,\n",
    "        \"test_loss\": test_loss,\n",
    "        \"test_acc\": test_acc,\n",
    "        \"lr_log\": lr_log,\n",
    "    }\n",
    "    print(\"File does not exist. Created a new log.\")"
   ]
  },
  {
   "cell_type": "code",
   "execution_count": 14,
   "metadata": {},
   "outputs": [
    {
     "data": {
      "text/plain": [
       "0.001"
      ]
     },
     "execution_count": 14,
     "metadata": {},
     "output_type": "execute_result"
    }
   ],
   "source": [
    "optimizer.param_groups[0][\"lr\"]"
   ]
  },
  {
   "cell_type": "code",
   "execution_count": 15,
   "metadata": {},
   "outputs": [
    {
     "data": {
      "text/plain": [
       "0"
      ]
     },
     "execution_count": 15,
     "metadata": {},
     "output_type": "execute_result"
    }
   ],
   "source": [
    "earlystopper.early_stop_counter"
   ]
  },
  {
   "cell_type": "markdown",
   "metadata": {},
   "source": [
    "# [Training Loop]"
   ]
  },
  {
   "cell_type": "code",
   "execution_count": 16,
   "metadata": {},
   "outputs": [
    {
     "name": "stdout",
     "output_type": "stream",
     "text": [
      "[Epoch 1/100] :\n"
     ]
    },
    {
     "name": "stderr",
     "output_type": "stream",
     "text": [
      "1 Train: 100%|███████| 391/391 [00:23<00:00, 16.84it/s]"
     ]
    },
    {
     "name": "stdout",
     "output_type": "stream",
     "text": [
      "Train Loss: 1.7091 | Train Acc: 37.33%\n"
     ]
    },
    {
     "name": "stderr",
     "output_type": "stream",
     "text": [
      "\n"
     ]
    },
    {
     "name": "stdout",
     "output_type": "stream",
     "text": [
      "Test  Loss: 2.1212 | Test Acc: 28.22%\n",
      "updated best eval loss : 2.1212031509302838\n",
      "--------------------------------------------------\n",
      "[Epoch 2/100] :\n"
     ]
    },
    {
     "name": "stderr",
     "output_type": "stream",
     "text": [
      "2 Train: 100%|███████| 391/391 [00:30<00:00, 13.01it/s]\n"
     ]
    },
    {
     "name": "stdout",
     "output_type": "stream",
     "text": [
      "Train Loss: 1.2926 | Train Acc: 54.04%\n",
      "Test  Loss: 1.8576 | Test Acc: 39.58%\n",
      "updated best eval loss : 1.8576252490659304\n",
      "--------------------------------------------------\n",
      "[Epoch 3/100] :\n"
     ]
    },
    {
     "name": "stderr",
     "output_type": "stream",
     "text": [
      "3 Train: 100%|███████| 391/391 [00:30<00:00, 12.63it/s]\n"
     ]
    },
    {
     "name": "stdout",
     "output_type": "stream",
     "text": [
      "Train Loss: 1.1080 | Train Acc: 60.78%\n",
      "Test  Loss: 1.5500 | Test Acc: 50.64%\n",
      "updated best eval loss : 1.5499938228462316\n",
      "--------------------------------------------------\n",
      "[Epoch 4/100] :\n"
     ]
    },
    {
     "name": "stderr",
     "output_type": "stream",
     "text": [
      "4 Train: 100%|███████| 391/391 [00:29<00:00, 13.48it/s]\n"
     ]
    },
    {
     "name": "stdout",
     "output_type": "stream",
     "text": [
      "Train Loss: 0.9828 | Train Acc: 65.56%\n",
      "Test  Loss: 1.2518 | Test Acc: 57.47%\n",
      "updated best eval loss : 1.2518424240848687\n",
      "--------------------------------------------------\n",
      "[Epoch 5/100] :\n"
     ]
    },
    {
     "name": "stderr",
     "output_type": "stream",
     "text": [
      "5 Train: 100%|███████| 391/391 [00:30<00:00, 13.00it/s]\n"
     ]
    },
    {
     "name": "stdout",
     "output_type": "stream",
     "text": [
      "Train Loss: 0.8998 | Train Acc: 68.56%\n",
      "Test  Loss: 1.5926 | Test Acc: 55.87%\n",
      "--------------------------------------------------\n",
      "[Epoch 6/100] :\n"
     ]
    },
    {
     "name": "stderr",
     "output_type": "stream",
     "text": [
      "6 Train: 100%|███████| 391/391 [00:30<00:00, 13.00it/s]\n"
     ]
    },
    {
     "name": "stdout",
     "output_type": "stream",
     "text": [
      "Train Loss: 0.8444 | Train Acc: 70.66%\n",
      "Test  Loss: 1.7393 | Test Acc: 51.93%\n",
      "--------------------------------------------------\n",
      "[Epoch 7/100] :\n"
     ]
    },
    {
     "name": "stderr",
     "output_type": "stream",
     "text": [
      "7 Train: 100%|███████| 391/391 [00:29<00:00, 13.18it/s]\n"
     ]
    },
    {
     "name": "stdout",
     "output_type": "stream",
     "text": [
      "Train Loss: 0.7971 | Train Acc: 72.24%\n",
      "Test  Loss: 0.8063 | Test Acc: 72.38%\n",
      "updated best eval loss : 0.8063444970529291\n",
      "--------------------------------------------------\n",
      "[Epoch 8/100] :\n"
     ]
    },
    {
     "name": "stderr",
     "output_type": "stream",
     "text": [
      "8 Train: 100%|███████| 391/391 [00:28<00:00, 13.68it/s]\n"
     ]
    },
    {
     "name": "stdout",
     "output_type": "stream",
     "text": [
      "Train Loss: 0.7631 | Train Acc: 73.32%\n",
      "Test  Loss: 0.7705 | Test Acc: 74.21%\n",
      "updated best eval loss : 0.7705412499512299\n",
      "--------------------------------------------------\n",
      "[Epoch 9/100] :\n"
     ]
    },
    {
     "name": "stderr",
     "output_type": "stream",
     "text": [
      "9 Train: 100%|███████| 391/391 [00:31<00:00, 12.31it/s]\n"
     ]
    },
    {
     "name": "stdout",
     "output_type": "stream",
     "text": [
      "Train Loss: 0.7251 | Train Acc: 74.80%\n",
      "Test  Loss: 0.7130 | Test Acc: 75.97%\n",
      "updated best eval loss : 0.7129924900924103\n",
      "--------------------------------------------------\n",
      "[Epoch 10/100] :\n"
     ]
    },
    {
     "name": "stderr",
     "output_type": "stream",
     "text": [
      "10 Train: 100%|██████| 391/391 [00:36<00:00, 10.85it/s]\n"
     ]
    },
    {
     "name": "stdout",
     "output_type": "stream",
     "text": [
      "Train Loss: 0.6958 | Train Acc: 75.75%\n",
      "Test  Loss: 0.7598 | Test Acc: 74.16%\n",
      "--------------------------------------------------\n",
      "[Epoch 11/100] :\n"
     ]
    },
    {
     "name": "stderr",
     "output_type": "stream",
     "text": [
      "11 Train: 100%|██████| 391/391 [00:48<00:00,  8.11it/s]\n"
     ]
    },
    {
     "name": "stdout",
     "output_type": "stream",
     "text": [
      "Train Loss: 0.6783 | Train Acc: 76.29%\n",
      "Test  Loss: 0.6138 | Test Acc: 78.70%\n",
      "updated best eval loss : 0.6138228481706185\n",
      "--------------------------------------------------\n",
      "[Epoch 12/100] :\n"
     ]
    },
    {
     "name": "stderr",
     "output_type": "stream",
     "text": [
      "12 Train: 100%|██████| 391/391 [00:46<00:00,  8.35it/s]\n"
     ]
    },
    {
     "name": "stdout",
     "output_type": "stream",
     "text": [
      "Train Loss: 0.6544 | Train Acc: 77.28%\n",
      "Test  Loss: 0.6539 | Test Acc: 76.67%\n",
      "--------------------------------------------------\n",
      "[Epoch 13/100] :\n"
     ]
    },
    {
     "name": "stderr",
     "output_type": "stream",
     "text": [
      "13 Train: 100%|██████| 391/391 [00:36<00:00, 10.80it/s]\n"
     ]
    },
    {
     "name": "stdout",
     "output_type": "stream",
     "text": [
      "Train Loss: 0.6311 | Train Acc: 78.18%\n",
      "Test  Loss: 0.6239 | Test Acc: 78.98%\n",
      "--------------------------------------------------\n",
      "[Epoch 14/100] :\n"
     ]
    },
    {
     "name": "stderr",
     "output_type": "stream",
     "text": [
      "14 Train: 100%|██████| 391/391 [00:34<00:00, 11.27it/s]\n"
     ]
    },
    {
     "name": "stdout",
     "output_type": "stream",
     "text": [
      "Train Loss: 0.6161 | Train Acc: 78.62%\n",
      "Test  Loss: 0.6266 | Test Acc: 78.22%\n",
      "--------------------------------------------------\n",
      "[Epoch 15/100] :\n"
     ]
    },
    {
     "name": "stderr",
     "output_type": "stream",
     "text": [
      "15 Train: 100%|██████| 391/391 [00:34<00:00, 11.46it/s]\n"
     ]
    },
    {
     "name": "stdout",
     "output_type": "stream",
     "text": [
      "Train Loss: 0.6027 | Train Acc: 79.06%\n",
      "Test  Loss: 0.6838 | Test Acc: 76.97%\n",
      "--------------------------------------------------\n",
      "[Epoch 16/100] :\n"
     ]
    },
    {
     "name": "stderr",
     "output_type": "stream",
     "text": [
      "16 Train: 100%|██████| 391/391 [00:36<00:00, 10.71it/s]\n"
     ]
    },
    {
     "name": "stdout",
     "output_type": "stream",
     "text": [
      "Train Loss: 0.5816 | Train Acc: 79.78%\n",
      "Test  Loss: 0.6282 | Test Acc: 78.63%\n",
      "--------------------------------------------------\n",
      "[Epoch 17/100] :\n"
     ]
    },
    {
     "name": "stderr",
     "output_type": "stream",
     "text": [
      "17 Train: 100%|██████| 391/391 [00:35<00:00, 11.03it/s]\n"
     ]
    },
    {
     "name": "stdout",
     "output_type": "stream",
     "text": [
      "Train Loss: 0.5716 | Train Acc: 80.11%\n",
      "Test  Loss: 0.6672 | Test Acc: 76.93%\n",
      "--------------------------------------------------\n",
      "[Epoch 18/100] :\n"
     ]
    },
    {
     "name": "stderr",
     "output_type": "stream",
     "text": [
      "18 Train: 100%|██████| 391/391 [00:33<00:00, 11.56it/s]\n"
     ]
    },
    {
     "name": "stdout",
     "output_type": "stream",
     "text": [
      "Train Loss: 0.5589 | Train Acc: 80.27%\n",
      "Test  Loss: 0.6378 | Test Acc: 78.75%\n",
      "--------------------------------------------------\n",
      "[Epoch 19/100] :\n"
     ]
    },
    {
     "name": "stderr",
     "output_type": "stream",
     "text": [
      "19 Train: 100%|██████| 391/391 [00:35<00:00, 11.05it/s]\n"
     ]
    },
    {
     "name": "stdout",
     "output_type": "stream",
     "text": [
      "Train Loss: 0.5444 | Train Acc: 80.95%\n",
      "Test  Loss: 0.5816 | Test Acc: 80.22%\n",
      "updated best eval loss : 0.5815940910502325\n",
      "--------------------------------------------------\n",
      "[Epoch 20/100] :\n"
     ]
    },
    {
     "name": "stderr",
     "output_type": "stream",
     "text": [
      "20 Train: 100%|██████| 391/391 [00:32<00:00, 11.94it/s]\n"
     ]
    },
    {
     "name": "stdout",
     "output_type": "stream",
     "text": [
      "Train Loss: 0.5384 | Train Acc: 81.44%\n",
      "Test  Loss: 0.6046 | Test Acc: 79.45%\n",
      "--------------------------------------------------\n",
      "[Epoch 21/100] :\n"
     ]
    },
    {
     "name": "stderr",
     "output_type": "stream",
     "text": [
      "21 Train: 100%|██████| 391/391 [00:34<00:00, 11.18it/s]\n"
     ]
    },
    {
     "name": "stdout",
     "output_type": "stream",
     "text": [
      "Train Loss: 0.5217 | Train Acc: 81.83%\n",
      "Test  Loss: 0.5512 | Test Acc: 81.55%\n",
      "updated best eval loss : 0.5512422360951388\n",
      "--------------------------------------------------\n",
      "[Epoch 22/100] :\n"
     ]
    },
    {
     "name": "stderr",
     "output_type": "stream",
     "text": [
      "22 Train: 100%|██████| 391/391 [00:36<00:00, 10.83it/s]\n"
     ]
    },
    {
     "name": "stdout",
     "output_type": "stream",
     "text": [
      "Train Loss: 0.5168 | Train Acc: 81.92%\n",
      "Test  Loss: 0.5843 | Test Acc: 80.08%\n",
      "--------------------------------------------------\n",
      "[Epoch 23/100] :\n"
     ]
    },
    {
     "name": "stderr",
     "output_type": "stream",
     "text": [
      "23 Train: 100%|██████| 391/391 [00:48<00:00,  8.11it/s]\n"
     ]
    },
    {
     "name": "stdout",
     "output_type": "stream",
     "text": [
      "Train Loss: 0.5076 | Train Acc: 82.38%\n",
      "Test  Loss: 0.6925 | Test Acc: 76.83%\n",
      "--------------------------------------------------\n",
      "[Epoch 24/100] :\n"
     ]
    },
    {
     "name": "stderr",
     "output_type": "stream",
     "text": [
      "24 Train: 100%|██████| 391/391 [00:47<00:00,  8.17it/s]\n"
     ]
    },
    {
     "name": "stdout",
     "output_type": "stream",
     "text": [
      "Train Loss: 0.5001 | Train Acc: 82.73%\n",
      "Test  Loss: 0.5773 | Test Acc: 80.53%\n",
      "--------------------------------------------------\n",
      "[Epoch 25/100] :\n"
     ]
    },
    {
     "name": "stderr",
     "output_type": "stream",
     "text": [
      "25 Train: 100%|██████| 391/391 [00:50<00:00,  7.77it/s]\n"
     ]
    },
    {
     "name": "stdout",
     "output_type": "stream",
     "text": [
      "Train Loss: 0.4981 | Train Acc: 82.61%\n",
      "Test  Loss: 0.4701 | Test Acc: 83.68%\n",
      "updated best eval loss : 0.47006712042832677\n",
      "--------------------------------------------------\n",
      "[Epoch 26/100] :\n"
     ]
    },
    {
     "name": "stderr",
     "output_type": "stream",
     "text": [
      "26 Train: 100%|██████| 391/391 [00:49<00:00,  7.98it/s]\n"
     ]
    },
    {
     "name": "stdout",
     "output_type": "stream",
     "text": [
      "Train Loss: 0.4828 | Train Acc: 83.14%\n",
      "Test  Loss: 0.5741 | Test Acc: 80.86%\n",
      "--------------------------------------------------\n",
      "[Epoch 27/100] :\n"
     ]
    },
    {
     "name": "stderr",
     "output_type": "stream",
     "text": [
      "27 Train: 100%|██████| 391/391 [00:50<00:00,  7.71it/s]\n"
     ]
    },
    {
     "name": "stdout",
     "output_type": "stream",
     "text": [
      "Train Loss: 0.4749 | Train Acc: 83.57%\n",
      "Test  Loss: 0.5243 | Test Acc: 81.57%\n",
      "--------------------------------------------------\n",
      "[Epoch 28/100] :\n"
     ]
    },
    {
     "name": "stderr",
     "output_type": "stream",
     "text": [
      "28 Train: 100%|██████| 391/391 [00:49<00:00,  7.91it/s]\n"
     ]
    },
    {
     "name": "stdout",
     "output_type": "stream",
     "text": [
      "Train Loss: 0.4676 | Train Acc: 83.84%\n",
      "Test  Loss: 0.5366 | Test Acc: 82.15%\n",
      "--------------------------------------------------\n",
      "[Epoch 29/100] :\n"
     ]
    },
    {
     "name": "stderr",
     "output_type": "stream",
     "text": [
      "29 Train: 100%|██████| 391/391 [00:50<00:00,  7.73it/s]\n"
     ]
    },
    {
     "name": "stdout",
     "output_type": "stream",
     "text": [
      "Train Loss: 0.4647 | Train Acc: 83.89%\n",
      "Test  Loss: 0.6493 | Test Acc: 78.58%\n",
      "--------------------------------------------------\n",
      "[Epoch 30/100] :\n"
     ]
    },
    {
     "name": "stderr",
     "output_type": "stream",
     "text": [
      "30 Train: 100%|██████| 391/391 [00:48<00:00,  7.99it/s]\n"
     ]
    },
    {
     "name": "stdout",
     "output_type": "stream",
     "text": [
      "Train Loss: 0.4581 | Train Acc: 83.98%\n",
      "Test  Loss: 0.4448 | Test Acc: 84.81%\n",
      "updated best eval loss : 0.44480931758880615\n",
      "--------------------------------------------------\n",
      "[Epoch 31/100] :\n"
     ]
    },
    {
     "name": "stderr",
     "output_type": "stream",
     "text": [
      "31 Train: 100%|██████| 391/391 [00:50<00:00,  7.70it/s]\n"
     ]
    },
    {
     "name": "stdout",
     "output_type": "stream",
     "text": [
      "Train Loss: 0.4500 | Train Acc: 84.40%\n",
      "Test  Loss: 0.5027 | Test Acc: 83.19%\n",
      "--------------------------------------------------\n",
      "[Epoch 32/100] :\n"
     ]
    },
    {
     "name": "stderr",
     "output_type": "stream",
     "text": [
      "32 Train: 100%|██████| 391/391 [00:47<00:00,  8.15it/s]\n"
     ]
    },
    {
     "name": "stdout",
     "output_type": "stream",
     "text": [
      "Train Loss: 0.4422 | Train Acc: 84.63%\n",
      "Test  Loss: 0.5825 | Test Acc: 80.07%\n",
      "--------------------------------------------------\n",
      "[Epoch 33/100] :\n"
     ]
    },
    {
     "name": "stderr",
     "output_type": "stream",
     "text": [
      "33 Train: 100%|██████| 391/391 [00:50<00:00,  7.78it/s]\n"
     ]
    },
    {
     "name": "stdout",
     "output_type": "stream",
     "text": [
      "Train Loss: 0.4408 | Train Acc: 84.50%\n",
      "Test  Loss: 0.4892 | Test Acc: 83.38%\n",
      "--------------------------------------------------\n",
      "[Epoch 34/100] :\n"
     ]
    },
    {
     "name": "stderr",
     "output_type": "stream",
     "text": [
      "34 Train:  31%|█▊    | 121/391 [00:14<00:38,  7.03it/s]"
     ]
    }
   ],
   "source": [
    "Training = DoTraining(\n",
    "    model=model,\n",
    "    criterion=criterion,\n",
    "    optimizer=optimizer,\n",
    "    scaler=scaler,\n",
    "    scheduler=scheduler,\n",
    "    earlystopper=earlystopper,\n",
    "    device=device,\n",
    "    logs=logs,\n",
    "    file_path=file_name,\n",
    ")\n",
    "pre_epochs = len(Training.logs[\"train_loss\"])\n",
    "\n",
    "for epoch in range(NUM_EPOCHS):\n",
    "    now = epoch + 1 + pre_epochs\n",
    "    print(f\"[Epoch {epoch+1+pre_epochs}/{NUM_EPOCHS}] :\")\n",
    "\n",
    "    if DATASET == \"ImageNet2012\":\n",
    "        eval_loss = Training.SingleEpoch(train_dataloader, valid_dataloader)\n",
    "    else:\n",
    "        eval_loss = Training.SingleEpoch(\n",
    "            train_dataloader, valid_dataloader, test_dataloader\n",
    "        )\n",
    "\n",
    "    Training.Save()\n",
    "\n",
    "    \n",
    "    \n",
    "    if earlystopper.check(eval_loss) == True:\n",
    "        break\n",
    "\n",
    "    print(\"-\" * 50)"
   ]
  },
  {
   "cell_type": "code",
   "execution_count": null,
   "metadata": {},
   "outputs": [],
   "source": [
    "view = LogViewer(logs)\n",
    "view.draw(save_name=file_name)"
   ]
  },
  {
   "cell_type": "code",
   "execution_count": null,
   "metadata": {},
   "outputs": [],
   "source": [
    "view.print_all()"
   ]
  }
 ],
 "metadata": {
  "kernelspec": {
   "display_name": "base",
   "language": "python",
   "name": "python3"
  },
  "language_info": {
   "codemirror_mode": {
    "name": "ipython",
    "version": 3
   },
   "file_extension": ".py",
   "mimetype": "text/x-python",
   "name": "python",
   "nbconvert_exporter": "python",
   "pygments_lexer": "ipython3",
   "version": "3.11.5"
  }
 },
 "nbformat": 4,
 "nbformat_minor": 2
}
