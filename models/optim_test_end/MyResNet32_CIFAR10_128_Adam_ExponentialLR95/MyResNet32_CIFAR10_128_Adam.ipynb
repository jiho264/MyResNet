{
 "cells": [
  {
   "cell_type": "markdown",
   "metadata": {},
   "source": [
    "# Import"
   ]
  },
  {
   "cell_type": "code",
   "execution_count": 1,
   "metadata": {},
   "outputs": [],
   "source": [
    "import torch\n",
    "from torch import nn\n",
    "from torch.optim.lr_scheduler import ExponentialLR\n",
    "import sys, os\n",
    "\n",
    "sys.path.append(os.path.dirname(os.path.abspath(os.path.dirname(\"src\"))))\n",
    "\n",
    "from src.Mydataloader import LoadDataset\n",
    "from src.Mymodel import MyResNet_CIFAR\n",
    "from src.Mytraining import DoTraining\n",
    "from src.Earlystopper import EarlyStopper\n",
    "from src.LogViewer import LogViewer"
   ]
  },
  {
   "cell_type": "markdown",
   "metadata": {},
   "source": [
    "# Setup"
   ]
  },
  {
   "cell_type": "code",
   "execution_count": 2,
   "metadata": {},
   "outputs": [],
   "source": [
    "\"\"\"Dataset selection\"\"\"\n",
    "DATASET = \"CIFAR10\"\n",
    "# DATASET = \"CIFAR100\"\n",
    "# DATASET = \"ImageNet2012\"\n",
    "\n",
    "\"\"\"Dataset parameters\"\"\"\n",
    "BATCH = 128\n",
    "SHUFFLE = True\n",
    "NUMOFWORKERS = 8\n",
    "PIN_MEMORY = True\n",
    "\n",
    "\"\"\"optimizer parameters\"\"\"\n",
    "OPTIMIZER = \"Adam\"\n",
    "# OPTIMIZER = \"Adam_decay\"\n",
    "# OPTIMIZER = \"SGD\"\n",
    "# OPTIMIZER = \"SGD_nasterov\"\n",
    "# OPTIMIZER = \"AdamW\"\n",
    "# OPTIMIZER = \"AdamW_amsgrad\"\n",
    "# OPTIMIZER = \"NAdam\"\n",
    "\n",
    "\"\"\"Learning rate scheduler parameters\"\"\"\n",
    "NUM_EPOCHS = 100\n",
    "\n",
    "\"\"\"Early stopping parameters\"\"\"\n",
    "EARLYSTOPPINGPATIENCE = 100\n",
    "\n",
    "file_name = f\"MyResNet32_{BATCH}_{OPTIMIZER}\""
   ]
  },
  {
   "cell_type": "code",
   "execution_count": 3,
   "metadata": {},
   "outputs": [
    {
     "data": {
      "text/plain": [
       "'MyResNet32_128_Adam'"
      ]
     },
     "execution_count": 3,
     "metadata": {},
     "output_type": "execute_result"
    }
   ],
   "source": [
    "file_name"
   ]
  },
  {
   "cell_type": "markdown",
   "metadata": {},
   "source": [
    "# Loading the dataset"
   ]
  },
  {
   "cell_type": "markdown",
   "metadata": {},
   "source": [
    "## Define Dateloader"
   ]
  },
  {
   "cell_type": "code",
   "execution_count": 4,
   "metadata": {},
   "outputs": [
    {
     "name": "stderr",
     "output_type": "stream",
     "text": [
      "/home/lee/anaconda3/lib/python3.11/site-packages/torchvision/transforms/v2/_deprecated.py:43: UserWarning: The transform `ToTensor()` is deprecated and will be removed in a future release. Instead, please use `v2.Compose([v2.ToImage(), v2.ToDtype(torch.float32, scale=True)])`.\n",
      "  warnings.warn(\n"
     ]
    },
    {
     "name": "stdout",
     "output_type": "stream",
     "text": [
      "-----------------------------------------------------------------------\n",
      "Dataset :  CIFAR10\n",
      "- Length of Train Set :  50000\n",
      "- Length of Test Set :  10000\n",
      "- Count of Classes :  10\n",
      "-----------------------------------------------------------------------\n"
     ]
    }
   ],
   "source": [
    "tmp = LoadDataset(root=\"../../../data\", seceted_dataset=DATASET)\n",
    "train_data, valid_data, test_data, COUNT_OF_CLASSES = tmp.Unpack()"
   ]
  },
  {
   "cell_type": "code",
   "execution_count": 5,
   "metadata": {},
   "outputs": [
    {
     "name": "stdout",
     "output_type": "stream",
     "text": [
      "train.transforms = Compose(\n",
      "      AutoAugment(interpolation=InterpolationMode.NEAREST, policy=AutoAugmentPolicy.CIFAR10)\n",
      "      RandomCrop(size=(32, 32), padding=[4, 4, 4, 4], pad_if_needed=False, fill=0, padding_mode=constant)\n",
      "      RandomHorizontalFlip(p=0.5)\n",
      "      ToTensor()\n",
      "      Normalize(mean=[0.49139968, 0.48215827, 0.44653124], std=[1, 1, 1], inplace=True)\n",
      ") 128\n",
      "test.transforms = ToTensor() 128\n"
     ]
    }
   ],
   "source": [
    "train_dataloader, valid_dataloader, test_dataloader = tmp.get_dataloader(\n",
    "    batch_size=BATCH, shuffle=SHUFFLE, num_workers=NUMOFWORKERS, pin_memory=PIN_MEMORY\n",
    ")"
   ]
  },
  {
   "cell_type": "markdown",
   "metadata": {},
   "source": [
    "# Define ResNet"
   ]
  },
  {
   "cell_type": "markdown",
   "metadata": {},
   "source": [
    "## Model Confirm"
   ]
  },
  {
   "cell_type": "code",
   "execution_count": 6,
   "metadata": {},
   "outputs": [
    {
     "data": {
      "text/plain": [
       "device(type='cuda')"
      ]
     },
     "execution_count": 6,
     "metadata": {},
     "output_type": "execute_result"
    }
   ],
   "source": [
    "device = torch.device(\"cuda\" if torch.cuda.is_available() else \"cpu\")\n",
    "device"
   ]
  },
  {
   "cell_type": "code",
   "execution_count": 7,
   "metadata": {},
   "outputs": [],
   "source": [
    "model = MyResNet_CIFAR(num_classes=COUNT_OF_CLASSES, num_layer_factor=5).to(device)"
   ]
  },
  {
   "cell_type": "markdown",
   "metadata": {},
   "source": [
    "# Define Training"
   ]
  },
  {
   "cell_type": "markdown",
   "metadata": {},
   "source": [
    "## (1) Define Criterion"
   ]
  },
  {
   "cell_type": "code",
   "execution_count": 8,
   "metadata": {},
   "outputs": [],
   "source": [
    "criterion = nn.CrossEntropyLoss()"
   ]
  },
  {
   "cell_type": "markdown",
   "metadata": {},
   "source": [
    "## (2) Define Optimazer"
   ]
  },
  {
   "cell_type": "code",
   "execution_count": 9,
   "metadata": {},
   "outputs": [],
   "source": [
    "if OPTIMIZER == \"Adam\":\n",
    "    optimizer = torch.optim.Adam(model.parameters())\n",
    "elif OPTIMIZER == \"Adam_decay\":\n",
    "    optimizer = torch.optim.Adam(model.parameters(), weight_decay=1e-4)\n",
    "elif OPTIMIZER == \"SGD\":\n",
    "    optimizer = torch.optim.SGD(\n",
    "        model.parameters(), lr=0.1, momentum=0.9, weight_decay=1e-4\n",
    "    )\n",
    "elif OPTIMIZER == \"SGD_nasterov\":\n",
    "    optimizer = torch.optim.SGD(\n",
    "        model.parameters(), lr=0.1, momentum=0.9, weight_decay=1e-4, nesterov=True\n",
    "    )\n",
    "elif OPTIMIZER == \"AdamW\":\n",
    "    optimizer = torch.optim.AdamW(model.parameters(), weight_decay=1e-4)\n",
    "elif OPTIMIZER == \"AdamW_amsgrad\":\n",
    "    optimizer = torch.optim.AdamW(model.parameters(), weight_decay=1e-4, amsgrad=True)\n",
    "elif OPTIMIZER == \"NAdam\":\n",
    "    optimizer = torch.optim.NAdam(model.parameters(), weight_decay=1e-4)"
   ]
  },
  {
   "cell_type": "markdown",
   "metadata": {},
   "source": [
    "## (3) Define Early Stopping"
   ]
  },
  {
   "cell_type": "code",
   "execution_count": 10,
   "metadata": {},
   "outputs": [],
   "source": [
    "earlystopper = EarlyStopper(patience=EARLYSTOPPINGPATIENCE, model=model, file_name=file_name)"
   ]
  },
  {
   "cell_type": "markdown",
   "metadata": {},
   "source": [
    "## (4) Define Learning Rate schedualer"
   ]
  },
  {
   "cell_type": "code",
   "execution_count": 11,
   "metadata": {},
   "outputs": [],
   "source": [
    "scheduler = ExponentialLR(optimizer, gamma=0.95)"
   ]
  },
  {
   "cell_type": "markdown",
   "metadata": {},
   "source": [
    "## (5) Define AMP scaler"
   ]
  },
  {
   "cell_type": "code",
   "execution_count": 12,
   "metadata": {},
   "outputs": [],
   "source": [
    "scaler = torch.cuda.amp.GradScaler(enabled=True)"
   ]
  },
  {
   "cell_type": "markdown",
   "metadata": {},
   "source": [
    "## Load before process"
   ]
  },
  {
   "cell_type": "code",
   "execution_count": 13,
   "metadata": {},
   "outputs": [
    {
     "name": "stdout",
     "output_type": "stream",
     "text": [
      "File does not exist. Created a new log.\n"
     ]
    }
   ],
   "source": [
    "if os.path.exists(file_name + \".pth.tar\"):\n",
    "    # Read checkpoint as desired, e.g.,\n",
    "    checkpoint = torch.load(\n",
    "        file_name + \".pth.tar\",\n",
    "        map_location=lambda storage, loc: storage.cuda(device),\n",
    "    )\n",
    "    model.load_state_dict(checkpoint[\"model\"])\n",
    "    optimizer.load_state_dict(checkpoint[\"optimizer\"])\n",
    "    scaler.load_state_dict(checkpoint[\"scaler\"])\n",
    "    scheduler.load_state_dict(checkpoint[\"scheduler\"])\n",
    "    earlystopper.load_state_dict(checkpoint[\"earlystopper\"])\n",
    "    logs = checkpoint[\"logs\"]\n",
    "\n",
    "    print(\"Suceessfully loaded the All setting and Log file.\")\n",
    "    print(file_name)\n",
    "    print(f\"Current epoch is {len(logs['train_loss'])}\")\n",
    "    print(f\"Current learning rate: {optimizer.param_groups[0]['lr']}\")\n",
    "else:\n",
    "    # Create a dictionary to store the variables\n",
    "    train_loss = []\n",
    "    train_acc = []\n",
    "    eval_loss = []\n",
    "    valid_acc = []\n",
    "    test_loss = []\n",
    "    test_acc = []\n",
    "    lr_log = []\n",
    "    logs = {\n",
    "        \"train_loss\": train_loss,\n",
    "        \"train_acc\": train_acc,\n",
    "        \"valid_loss\": eval_loss,\n",
    "        \"valid_acc\": valid_acc,\n",
    "        \"test_loss\": test_loss,\n",
    "        \"test_acc\": test_acc,\n",
    "        \"lr_log\": lr_log,\n",
    "    }\n",
    "    print(\"File does not exist. Created a new log.\")"
   ]
  },
  {
   "cell_type": "code",
   "execution_count": 14,
   "metadata": {},
   "outputs": [
    {
     "data": {
      "text/plain": [
       "0.001"
      ]
     },
     "execution_count": 14,
     "metadata": {},
     "output_type": "execute_result"
    }
   ],
   "source": [
    "optimizer.param_groups[0][\"lr\"]"
   ]
  },
  {
   "cell_type": "code",
   "execution_count": 15,
   "metadata": {},
   "outputs": [
    {
     "data": {
      "text/plain": [
       "0"
      ]
     },
     "execution_count": 15,
     "metadata": {},
     "output_type": "execute_result"
    }
   ],
   "source": [
    "earlystopper.early_stop_counter"
   ]
  },
  {
   "cell_type": "markdown",
   "metadata": {},
   "source": [
    "# [Training Loop]"
   ]
  },
  {
   "cell_type": "code",
   "execution_count": 16,
   "metadata": {},
   "outputs": [
    {
     "name": "stdout",
     "output_type": "stream",
     "text": [
      "[Epoch 1/100] :\n"
     ]
    },
    {
     "name": "stderr",
     "output_type": "stream",
     "text": [
      "1 Train: 100%|███████| 391/391 [00:19<00:00, 20.14it/s]"
     ]
    },
    {
     "name": "stdout",
     "output_type": "stream",
     "text": [
      "Train Loss: 1.7070 | Train Acc: 38.08%\n"
     ]
    },
    {
     "name": "stderr",
     "output_type": "stream",
     "text": [
      "\n"
     ]
    },
    {
     "name": "stdout",
     "output_type": "stream",
     "text": [
      "Test  Loss: 1.4752 | Test Acc: 46.59%\n",
      "updated best eval loss : 1.4752099302750599\n",
      "--------------------------------------------------\n",
      "[Epoch 2/100] :\n"
     ]
    },
    {
     "name": "stderr",
     "output_type": "stream",
     "text": [
      "2 Train: 100%|███████| 391/391 [00:29<00:00, 13.45it/s]\n"
     ]
    },
    {
     "name": "stdout",
     "output_type": "stream",
     "text": [
      "Train Loss: 1.2705 | Train Acc: 54.80%\n",
      "Test  Loss: 1.2859 | Test Acc: 54.95%\n",
      "updated best eval loss : 1.2858763344680206\n",
      "--------------------------------------------------\n",
      "[Epoch 3/100] :\n"
     ]
    },
    {
     "name": "stderr",
     "output_type": "stream",
     "text": [
      "3 Train: 100%|███████| 391/391 [00:30<00:00, 12.70it/s]\n"
     ]
    },
    {
     "name": "stdout",
     "output_type": "stream",
     "text": [
      "Train Loss: 1.0773 | Train Acc: 61.99%\n",
      "Test  Loss: 1.0387 | Test Acc: 63.62%\n",
      "updated best eval loss : 1.0387116957314406\n",
      "--------------------------------------------------\n",
      "[Epoch 4/100] :\n"
     ]
    },
    {
     "name": "stderr",
     "output_type": "stream",
     "text": [
      "4 Train: 100%|███████| 391/391 [00:31<00:00, 12.45it/s]\n"
     ]
    },
    {
     "name": "stdout",
     "output_type": "stream",
     "text": [
      "Train Loss: 0.9696 | Train Acc: 66.39%\n",
      "Test  Loss: 1.2088 | Test Acc: 60.86%\n",
      "--------------------------------------------------\n",
      "[Epoch 5/100] :\n"
     ]
    },
    {
     "name": "stderr",
     "output_type": "stream",
     "text": [
      "5 Train: 100%|███████| 391/391 [00:30<00:00, 12.95it/s]\n"
     ]
    },
    {
     "name": "stdout",
     "output_type": "stream",
     "text": [
      "Train Loss: 0.8877 | Train Acc: 68.89%\n",
      "Test  Loss: 1.0045 | Test Acc: 66.66%\n",
      "updated best eval loss : 1.0045399137690096\n",
      "--------------------------------------------------\n",
      "[Epoch 6/100] :\n"
     ]
    },
    {
     "name": "stderr",
     "output_type": "stream",
     "text": [
      "6 Train: 100%|███████| 391/391 [00:29<00:00, 13.26it/s]\n"
     ]
    },
    {
     "name": "stdout",
     "output_type": "stream",
     "text": [
      "Train Loss: 0.8388 | Train Acc: 70.46%\n",
      "Test  Loss: 1.5567 | Test Acc: 55.66%\n",
      "--------------------------------------------------\n",
      "[Epoch 7/100] :\n"
     ]
    },
    {
     "name": "stderr",
     "output_type": "stream",
     "text": [
      "7 Train: 100%|███████| 391/391 [00:28<00:00, 13.60it/s]\n"
     ]
    },
    {
     "name": "stdout",
     "output_type": "stream",
     "text": [
      "Train Loss: 0.7946 | Train Acc: 72.24%\n",
      "Test  Loss: 0.7581 | Test Acc: 74.40%\n",
      "updated best eval loss : 0.7581109683724898\n",
      "--------------------------------------------------\n",
      "[Epoch 8/100] :\n"
     ]
    },
    {
     "name": "stderr",
     "output_type": "stream",
     "text": [
      "8 Train: 100%|███████| 391/391 [00:29<00:00, 13.45it/s]\n"
     ]
    },
    {
     "name": "stdout",
     "output_type": "stream",
     "text": [
      "Train Loss: 0.7579 | Train Acc: 73.59%\n",
      "Test  Loss: 1.1934 | Test Acc: 65.07%\n",
      "--------------------------------------------------\n",
      "[Epoch 9/100] :\n"
     ]
    },
    {
     "name": "stderr",
     "output_type": "stream",
     "text": [
      "9 Train: 100%|███████| 391/391 [00:32<00:00, 11.92it/s]\n"
     ]
    },
    {
     "name": "stdout",
     "output_type": "stream",
     "text": [
      "Train Loss: 0.7279 | Train Acc: 74.49%\n",
      "Test  Loss: 0.7311 | Test Acc: 75.40%\n",
      "updated best eval loss : 0.7311382516275479\n",
      "--------------------------------------------------\n",
      "[Epoch 10/100] :\n"
     ]
    },
    {
     "name": "stderr",
     "output_type": "stream",
     "text": [
      "10 Train: 100%|██████| 391/391 [00:35<00:00, 11.13it/s]\n"
     ]
    },
    {
     "name": "stdout",
     "output_type": "stream",
     "text": [
      "Train Loss: 0.7006 | Train Acc: 75.62%\n",
      "Test  Loss: 0.7830 | Test Acc: 73.36%\n",
      "--------------------------------------------------\n",
      "[Epoch 11/100] :\n"
     ]
    },
    {
     "name": "stderr",
     "output_type": "stream",
     "text": [
      "11 Train: 100%|██████| 391/391 [00:47<00:00,  8.20it/s]\n"
     ]
    },
    {
     "name": "stdout",
     "output_type": "stream",
     "text": [
      "Train Loss: 0.6741 | Train Acc: 76.50%\n",
      "Test  Loss: 0.6531 | Test Acc: 77.58%\n",
      "updated best eval loss : 0.6531210458731349\n",
      "--------------------------------------------------\n",
      "[Epoch 12/100] :\n"
     ]
    },
    {
     "name": "stderr",
     "output_type": "stream",
     "text": [
      "12 Train: 100%|██████| 391/391 [00:48<00:00,  8.11it/s]\n"
     ]
    },
    {
     "name": "stdout",
     "output_type": "stream",
     "text": [
      "Train Loss: 0.6546 | Train Acc: 77.31%\n",
      "Test  Loss: 0.7003 | Test Acc: 76.33%\n",
      "--------------------------------------------------\n",
      "[Epoch 13/100] :\n"
     ]
    },
    {
     "name": "stderr",
     "output_type": "stream",
     "text": [
      "13 Train: 100%|██████| 391/391 [00:35<00:00, 10.94it/s]\n"
     ]
    },
    {
     "name": "stdout",
     "output_type": "stream",
     "text": [
      "Train Loss: 0.6358 | Train Acc: 77.89%\n",
      "Test  Loss: 0.6799 | Test Acc: 77.30%\n",
      "--------------------------------------------------\n",
      "[Epoch 14/100] :\n"
     ]
    },
    {
     "name": "stderr",
     "output_type": "stream",
     "text": [
      "14 Train: 100%|██████| 391/391 [00:34<00:00, 11.42it/s]\n"
     ]
    },
    {
     "name": "stdout",
     "output_type": "stream",
     "text": [
      "Train Loss: 0.6148 | Train Acc: 78.70%\n",
      "Test  Loss: 0.5888 | Test Acc: 80.20%\n",
      "updated best eval loss : 0.5887619072123419\n",
      "--------------------------------------------------\n",
      "[Epoch 15/100] :\n"
     ]
    },
    {
     "name": "stderr",
     "output_type": "stream",
     "text": [
      "15 Train: 100%|██████| 391/391 [00:36<00:00, 10.64it/s]\n"
     ]
    },
    {
     "name": "stdout",
     "output_type": "stream",
     "text": [
      "Train Loss: 0.6030 | Train Acc: 79.04%\n",
      "Test  Loss: 0.6134 | Test Acc: 80.02%\n",
      "--------------------------------------------------\n",
      "[Epoch 16/100] :\n"
     ]
    },
    {
     "name": "stderr",
     "output_type": "stream",
     "text": [
      "16 Train: 100%|██████| 391/391 [00:34<00:00, 11.40it/s]\n"
     ]
    },
    {
     "name": "stdout",
     "output_type": "stream",
     "text": [
      "Train Loss: 0.5899 | Train Acc: 79.52%\n",
      "Test  Loss: 0.6693 | Test Acc: 77.96%\n",
      "--------------------------------------------------\n",
      "[Epoch 17/100] :\n"
     ]
    },
    {
     "name": "stderr",
     "output_type": "stream",
     "text": [
      "17 Train: 100%|██████| 391/391 [00:34<00:00, 11.35it/s]\n"
     ]
    },
    {
     "name": "stdout",
     "output_type": "stream",
     "text": [
      "Train Loss: 0.5741 | Train Acc: 79.92%\n",
      "Test  Loss: 0.5659 | Test Acc: 80.84%\n",
      "updated best eval loss : 0.565921508058717\n",
      "--------------------------------------------------\n",
      "[Epoch 18/100] :\n"
     ]
    },
    {
     "name": "stderr",
     "output_type": "stream",
     "text": [
      "18 Train: 100%|██████| 391/391 [00:33<00:00, 11.55it/s]\n"
     ]
    },
    {
     "name": "stdout",
     "output_type": "stream",
     "text": [
      "Train Loss: 0.5654 | Train Acc: 80.34%\n",
      "Test  Loss: 0.7289 | Test Acc: 76.23%\n",
      "--------------------------------------------------\n",
      "[Epoch 19/100] :\n"
     ]
    },
    {
     "name": "stderr",
     "output_type": "stream",
     "text": [
      "19 Train: 100%|██████| 391/391 [00:34<00:00, 11.20it/s]\n"
     ]
    },
    {
     "name": "stdout",
     "output_type": "stream",
     "text": [
      "Train Loss: 0.5468 | Train Acc: 80.92%\n",
      "Test  Loss: 0.7315 | Test Acc: 76.86%\n",
      "--------------------------------------------------\n",
      "[Epoch 20/100] :\n"
     ]
    },
    {
     "name": "stderr",
     "output_type": "stream",
     "text": [
      "20 Train: 100%|██████| 391/391 [00:33<00:00, 11.75it/s]\n"
     ]
    },
    {
     "name": "stdout",
     "output_type": "stream",
     "text": [
      "Train Loss: 0.5362 | Train Acc: 81.25%\n",
      "Test  Loss: 0.5701 | Test Acc: 80.52%\n",
      "--------------------------------------------------\n",
      "[Epoch 21/100] :\n"
     ]
    },
    {
     "name": "stderr",
     "output_type": "stream",
     "text": [
      "21 Train: 100%|██████| 391/391 [00:35<00:00, 10.94it/s]\n"
     ]
    },
    {
     "name": "stdout",
     "output_type": "stream",
     "text": [
      "Train Loss: 0.5214 | Train Acc: 81.69%\n",
      "Test  Loss: 0.4712 | Test Acc: 83.65%\n",
      "updated best eval loss : 0.4711995856671394\n",
      "--------------------------------------------------\n",
      "[Epoch 22/100] :\n"
     ]
    },
    {
     "name": "stderr",
     "output_type": "stream",
     "text": [
      "22 Train: 100%|██████| 391/391 [00:35<00:00, 11.06it/s]\n"
     ]
    },
    {
     "name": "stdout",
     "output_type": "stream",
     "text": [
      "Train Loss: 0.5194 | Train Acc: 82.08%\n",
      "Test  Loss: 0.5249 | Test Acc: 81.97%\n",
      "--------------------------------------------------\n",
      "[Epoch 23/100] :\n"
     ]
    },
    {
     "name": "stderr",
     "output_type": "stream",
     "text": [
      "23 Train: 100%|██████| 391/391 [00:45<00:00,  8.59it/s]\n"
     ]
    },
    {
     "name": "stdout",
     "output_type": "stream",
     "text": [
      "Train Loss: 0.5112 | Train Acc: 82.18%\n",
      "Test  Loss: 0.6468 | Test Acc: 78.33%\n",
      "--------------------------------------------------\n",
      "[Epoch 24/100] :\n"
     ]
    },
    {
     "name": "stderr",
     "output_type": "stream",
     "text": [
      "24 Train: 100%|██████| 391/391 [00:47<00:00,  8.29it/s]\n"
     ]
    },
    {
     "name": "stdout",
     "output_type": "stream",
     "text": [
      "Train Loss: 0.4985 | Train Acc: 82.67%\n",
      "Test  Loss: 0.5491 | Test Acc: 81.26%\n",
      "--------------------------------------------------\n",
      "[Epoch 25/100] :\n"
     ]
    },
    {
     "name": "stderr",
     "output_type": "stream",
     "text": [
      "25 Train: 100%|██████| 391/391 [00:47<00:00,  8.23it/s]\n"
     ]
    },
    {
     "name": "stdout",
     "output_type": "stream",
     "text": [
      "Train Loss: 0.4945 | Train Acc: 82.60%\n",
      "Test  Loss: 0.6422 | Test Acc: 78.35%\n",
      "--------------------------------------------------\n",
      "[Epoch 26/100] :\n"
     ]
    },
    {
     "name": "stderr",
     "output_type": "stream",
     "text": [
      "26 Train: 100%|██████| 391/391 [00:51<00:00,  7.66it/s]\n"
     ]
    },
    {
     "name": "stdout",
     "output_type": "stream",
     "text": [
      "Train Loss: 0.4860 | Train Acc: 82.90%\n",
      "Test  Loss: 0.5565 | Test Acc: 81.09%\n",
      "--------------------------------------------------\n",
      "[Epoch 27/100] :\n"
     ]
    },
    {
     "name": "stderr",
     "output_type": "stream",
     "text": [
      "27 Train: 100%|██████| 391/391 [00:49<00:00,  7.92it/s]\n"
     ]
    },
    {
     "name": "stdout",
     "output_type": "stream",
     "text": [
      "Train Loss: 0.4713 | Train Acc: 83.39%\n",
      "Test  Loss: 0.5519 | Test Acc: 81.04%\n",
      "--------------------------------------------------\n",
      "[Epoch 28/100] :\n"
     ]
    },
    {
     "name": "stderr",
     "output_type": "stream",
     "text": [
      "28 Train: 100%|██████| 391/391 [00:47<00:00,  8.28it/s]\n"
     ]
    },
    {
     "name": "stdout",
     "output_type": "stream",
     "text": [
      "Train Loss: 0.4693 | Train Acc: 83.62%\n",
      "Test  Loss: 0.6043 | Test Acc: 80.27%\n",
      "--------------------------------------------------\n",
      "[Epoch 29/100] :\n"
     ]
    },
    {
     "name": "stderr",
     "output_type": "stream",
     "text": [
      "29 Train: 100%|██████| 391/391 [00:50<00:00,  7.71it/s]\n"
     ]
    },
    {
     "name": "stdout",
     "output_type": "stream",
     "text": [
      "Train Loss: 0.4615 | Train Acc: 83.95%\n",
      "Test  Loss: 0.4539 | Test Acc: 84.43%\n",
      "updated best eval loss : 0.4539485464367685\n",
      "--------------------------------------------------\n",
      "[Epoch 30/100] :\n"
     ]
    },
    {
     "name": "stderr",
     "output_type": "stream",
     "text": [
      "30 Train: 100%|██████| 391/391 [00:46<00:00,  8.49it/s]\n"
     ]
    },
    {
     "name": "stdout",
     "output_type": "stream",
     "text": [
      "Train Loss: 0.4582 | Train Acc: 84.10%\n",
      "Test  Loss: 0.5955 | Test Acc: 79.32%\n",
      "--------------------------------------------------\n",
      "[Epoch 31/100] :\n"
     ]
    },
    {
     "name": "stderr",
     "output_type": "stream",
     "text": [
      "31 Train: 100%|██████| 391/391 [00:49<00:00,  7.83it/s]\n"
     ]
    },
    {
     "name": "stdout",
     "output_type": "stream",
     "text": [
      "Train Loss: 0.4500 | Train Acc: 84.27%\n",
      "Test  Loss: 0.4964 | Test Acc: 83.65%\n",
      "--------------------------------------------------\n",
      "[Epoch 32/100] :\n"
     ]
    },
    {
     "name": "stderr",
     "output_type": "stream",
     "text": [
      "32 Train: 100%|██████| 391/391 [00:47<00:00,  8.16it/s]\n"
     ]
    },
    {
     "name": "stdout",
     "output_type": "stream",
     "text": [
      "Train Loss: 0.4428 | Train Acc: 84.57%\n",
      "Test  Loss: 0.4753 | Test Acc: 84.10%\n",
      "--------------------------------------------------\n",
      "[Epoch 33/100] :\n"
     ]
    },
    {
     "name": "stderr",
     "output_type": "stream",
     "text": [
      "33 Train: 100%|██████| 391/391 [00:49<00:00,  7.89it/s]\n"
     ]
    },
    {
     "name": "stdout",
     "output_type": "stream",
     "text": [
      "Train Loss: 0.4365 | Train Acc: 84.81%\n",
      "Test  Loss: 0.4769 | Test Acc: 84.45%\n",
      "--------------------------------------------------\n",
      "[Epoch 34/100] :\n"
     ]
    },
    {
     "name": "stderr",
     "output_type": "stream",
     "text": [
      "34 Train: 100%|██████| 391/391 [00:48<00:00,  8.12it/s]\n"
     ]
    },
    {
     "name": "stdout",
     "output_type": "stream",
     "text": [
      "Train Loss: 0.4331 | Train Acc: 84.92%\n",
      "Test  Loss: 0.4475 | Test Acc: 84.61%\n",
      "updated best eval loss : 0.44752523227583\n",
      "--------------------------------------------------\n",
      "[Epoch 35/100] :\n"
     ]
    },
    {
     "name": "stderr",
     "output_type": "stream",
     "text": [
      "35 Train: 100%|██████| 391/391 [00:50<00:00,  7.73it/s]\n"
     ]
    },
    {
     "name": "stdout",
     "output_type": "stream",
     "text": [
      "Train Loss: 0.4329 | Train Acc: 84.85%\n",
      "Test  Loss: 0.4481 | Test Acc: 84.84%\n",
      "--------------------------------------------------\n",
      "[Epoch 36/100] :\n"
     ]
    },
    {
     "name": "stderr",
     "output_type": "stream",
     "text": [
      "36 Train: 100%|██████| 391/391 [00:47<00:00,  8.17it/s]\n"
     ]
    },
    {
     "name": "stdout",
     "output_type": "stream",
     "text": [
      "Train Loss: 0.4201 | Train Acc: 85.20%\n",
      "Test  Loss: 0.4620 | Test Acc: 84.11%\n",
      "--------------------------------------------------\n",
      "[Epoch 37/100] :\n"
     ]
    },
    {
     "name": "stderr",
     "output_type": "stream",
     "text": [
      "37 Train: 100%|██████| 391/391 [00:50<00:00,  7.74it/s]\n"
     ]
    },
    {
     "name": "stdout",
     "output_type": "stream",
     "text": [
      "Train Loss: 0.4102 | Train Acc: 85.64%\n",
      "Test  Loss: 0.4992 | Test Acc: 83.25%\n",
      "--------------------------------------------------\n",
      "[Epoch 38/100] :\n"
     ]
    },
    {
     "name": "stderr",
     "output_type": "stream",
     "text": [
      "38 Train: 100%|██████| 391/391 [00:47<00:00,  8.20it/s]\n"
     ]
    },
    {
     "name": "stdout",
     "output_type": "stream",
     "text": [
      "Train Loss: 0.4148 | Train Acc: 85.48%\n",
      "Test  Loss: 0.4545 | Test Acc: 84.55%\n",
      "--------------------------------------------------\n",
      "[Epoch 39/100] :\n"
     ]
    },
    {
     "name": "stderr",
     "output_type": "stream",
     "text": [
      "39 Train: 100%|██████| 391/391 [00:49<00:00,  7.92it/s]\n"
     ]
    },
    {
     "name": "stdout",
     "output_type": "stream",
     "text": [
      "Train Loss: 0.4071 | Train Acc: 85.67%\n",
      "Test  Loss: 0.5273 | Test Acc: 82.97%\n",
      "--------------------------------------------------\n",
      "[Epoch 40/100] :\n"
     ]
    },
    {
     "name": "stderr",
     "output_type": "stream",
     "text": [
      "40 Train: 100%|██████| 391/391 [00:48<00:00,  8.00it/s]\n"
     ]
    },
    {
     "name": "stdout",
     "output_type": "stream",
     "text": [
      "Train Loss: 0.4002 | Train Acc: 86.01%\n",
      "Test  Loss: 0.4687 | Test Acc: 83.92%\n",
      "--------------------------------------------------\n",
      "[Epoch 41/100] :\n"
     ]
    },
    {
     "name": "stderr",
     "output_type": "stream",
     "text": [
      "41 Train: 100%|██████| 391/391 [00:48<00:00,  8.14it/s]\n"
     ]
    },
    {
     "name": "stdout",
     "output_type": "stream",
     "text": [
      "Train Loss: 0.3984 | Train Acc: 86.03%\n",
      "Test  Loss: 0.4101 | Test Acc: 86.06%\n",
      "updated best eval loss : 0.4100604992878588\n",
      "--------------------------------------------------\n",
      "[Epoch 42/100] :\n"
     ]
    },
    {
     "name": "stderr",
     "output_type": "stream",
     "text": [
      "42 Train: 100%|██████| 391/391 [00:49<00:00,  7.92it/s]\n"
     ]
    },
    {
     "name": "stdout",
     "output_type": "stream",
     "text": [
      "Train Loss: 0.3913 | Train Acc: 86.42%\n",
      "Test  Loss: 0.4374 | Test Acc: 84.58%\n",
      "--------------------------------------------------\n",
      "[Epoch 43/100] :\n"
     ]
    },
    {
     "name": "stderr",
     "output_type": "stream",
     "text": [
      "43 Train: 100%|██████| 391/391 [00:48<00:00,  8.03it/s]\n"
     ]
    },
    {
     "name": "stdout",
     "output_type": "stream",
     "text": [
      "Train Loss: 0.3936 | Train Acc: 86.23%\n",
      "Test  Loss: 0.5037 | Test Acc: 83.58%\n",
      "--------------------------------------------------\n",
      "[Epoch 44/100] :\n"
     ]
    },
    {
     "name": "stderr",
     "output_type": "stream",
     "text": [
      "44 Train: 100%|██████| 391/391 [00:50<00:00,  7.74it/s]\n"
     ]
    },
    {
     "name": "stdout",
     "output_type": "stream",
     "text": [
      "Train Loss: 0.3875 | Train Acc: 86.49%\n",
      "Test  Loss: 0.4844 | Test Acc: 84.12%\n",
      "--------------------------------------------------\n",
      "[Epoch 45/100] :\n"
     ]
    },
    {
     "name": "stderr",
     "output_type": "stream",
     "text": [
      "45 Train: 100%|██████| 391/391 [00:48<00:00,  8.09it/s]\n"
     ]
    },
    {
     "name": "stdout",
     "output_type": "stream",
     "text": [
      "Train Loss: 0.3837 | Train Acc: 86.55%\n",
      "Test  Loss: 0.5187 | Test Acc: 82.92%\n",
      "--------------------------------------------------\n",
      "[Epoch 46/100] :\n"
     ]
    },
    {
     "name": "stderr",
     "output_type": "stream",
     "text": [
      "46 Train: 100%|██████| 391/391 [00:49<00:00,  7.84it/s]\n"
     ]
    },
    {
     "name": "stdout",
     "output_type": "stream",
     "text": [
      "Train Loss: 0.3858 | Train Acc: 86.40%\n",
      "Test  Loss: 0.3966 | Test Acc: 86.44%\n",
      "updated best eval loss : 0.3966356665839123\n",
      "--------------------------------------------------\n",
      "[Epoch 47/100] :\n"
     ]
    },
    {
     "name": "stderr",
     "output_type": "stream",
     "text": [
      "47 Train: 100%|██████| 391/391 [00:47<00:00,  8.28it/s]\n"
     ]
    },
    {
     "name": "stdout",
     "output_type": "stream",
     "text": [
      "Train Loss: 0.3790 | Train Acc: 86.69%\n",
      "Test  Loss: 0.4373 | Test Acc: 85.71%\n",
      "--------------------------------------------------\n",
      "[Epoch 48/100] :\n"
     ]
    },
    {
     "name": "stderr",
     "output_type": "stream",
     "text": [
      "48 Train: 100%|██████| 391/391 [00:48<00:00,  8.02it/s]\n"
     ]
    },
    {
     "name": "stdout",
     "output_type": "stream",
     "text": [
      "Train Loss: 0.3688 | Train Acc: 86.93%\n",
      "Test  Loss: 0.4504 | Test Acc: 85.26%\n",
      "--------------------------------------------------\n",
      "[Epoch 49/100] :\n"
     ]
    },
    {
     "name": "stderr",
     "output_type": "stream",
     "text": [
      "49 Train: 100%|██████| 391/391 [00:47<00:00,  8.26it/s]\n"
     ]
    },
    {
     "name": "stdout",
     "output_type": "stream",
     "text": [
      "Train Loss: 0.3621 | Train Acc: 87.42%\n",
      "Test  Loss: 0.4708 | Test Acc: 84.57%\n",
      "--------------------------------------------------\n",
      "[Epoch 50/100] :\n"
     ]
    },
    {
     "name": "stderr",
     "output_type": "stream",
     "text": [
      "50 Train: 100%|██████| 391/391 [00:49<00:00,  7.93it/s]\n"
     ]
    },
    {
     "name": "stdout",
     "output_type": "stream",
     "text": [
      "Train Loss: 0.3699 | Train Acc: 87.12%\n",
      "Test  Loss: 0.4146 | Test Acc: 86.48%\n",
      "--------------------------------------------------\n",
      "[Epoch 51/100] :\n"
     ]
    },
    {
     "name": "stderr",
     "output_type": "stream",
     "text": [
      "51 Train: 100%|██████| 391/391 [00:48<00:00,  7.99it/s]\n"
     ]
    },
    {
     "name": "stdout",
     "output_type": "stream",
     "text": [
      "Train Loss: 0.3627 | Train Acc: 87.37%\n",
      "Test  Loss: 0.4185 | Test Acc: 86.15%\n",
      "--------------------------------------------------\n",
      "[Epoch 52/100] :\n"
     ]
    },
    {
     "name": "stderr",
     "output_type": "stream",
     "text": [
      "52 Train: 100%|██████| 391/391 [00:47<00:00,  8.17it/s]\n"
     ]
    },
    {
     "name": "stdout",
     "output_type": "stream",
     "text": [
      "Train Loss: 0.3578 | Train Acc: 87.36%\n",
      "Test  Loss: 0.4109 | Test Acc: 86.56%\n",
      "--------------------------------------------------\n",
      "[Epoch 53/100] :\n"
     ]
    },
    {
     "name": "stderr",
     "output_type": "stream",
     "text": [
      "53 Train: 100%|██████| 391/391 [00:47<00:00,  8.16it/s]\n"
     ]
    },
    {
     "name": "stdout",
     "output_type": "stream",
     "text": [
      "Train Loss: 0.3595 | Train Acc: 87.44%\n",
      "Test  Loss: 0.4096 | Test Acc: 86.17%\n",
      "--------------------------------------------------\n",
      "[Epoch 54/100] :\n"
     ]
    },
    {
     "name": "stderr",
     "output_type": "stream",
     "text": [
      "54 Train: 100%|██████| 391/391 [00:45<00:00,  8.55it/s]\n"
     ]
    },
    {
     "name": "stdout",
     "output_type": "stream",
     "text": [
      "Train Loss: 0.3577 | Train Acc: 87.44%\n",
      "Test  Loss: 0.4603 | Test Acc: 84.84%\n",
      "--------------------------------------------------\n",
      "[Epoch 55/100] :\n"
     ]
    },
    {
     "name": "stderr",
     "output_type": "stream",
     "text": [
      "55 Train: 100%|██████| 391/391 [00:50<00:00,  7.76it/s]\n"
     ]
    },
    {
     "name": "stdout",
     "output_type": "stream",
     "text": [
      "Train Loss: 0.3488 | Train Acc: 87.77%\n",
      "Test  Loss: 0.4387 | Test Acc: 86.49%\n",
      "--------------------------------------------------\n",
      "[Epoch 56/100] :\n"
     ]
    },
    {
     "name": "stderr",
     "output_type": "stream",
     "text": [
      "56 Train: 100%|██████| 391/391 [00:47<00:00,  8.29it/s]\n"
     ]
    },
    {
     "name": "stdout",
     "output_type": "stream",
     "text": [
      "Train Loss: 0.3461 | Train Acc: 87.94%\n",
      "Test  Loss: 0.5186 | Test Acc: 83.61%\n",
      "--------------------------------------------------\n",
      "[Epoch 57/100] :\n"
     ]
    },
    {
     "name": "stderr",
     "output_type": "stream",
     "text": [
      "57 Train: 100%|██████| 391/391 [00:49<00:00,  7.90it/s]\n"
     ]
    },
    {
     "name": "stdout",
     "output_type": "stream",
     "text": [
      "Train Loss: 0.3418 | Train Acc: 88.00%\n",
      "Test  Loss: 0.4229 | Test Acc: 85.64%\n",
      "--------------------------------------------------\n",
      "[Epoch 58/100] :\n"
     ]
    },
    {
     "name": "stderr",
     "output_type": "stream",
     "text": [
      "58 Train: 100%|██████| 391/391 [00:48<00:00,  8.12it/s]\n"
     ]
    },
    {
     "name": "stdout",
     "output_type": "stream",
     "text": [
      "Train Loss: 0.3363 | Train Acc: 88.21%\n",
      "Test  Loss: 0.4532 | Test Acc: 85.31%\n",
      "--------------------------------------------------\n",
      "[Epoch 59/100] :\n"
     ]
    },
    {
     "name": "stderr",
     "output_type": "stream",
     "text": [
      "59 Train: 100%|██████| 391/391 [00:49<00:00,  7.85it/s]\n"
     ]
    },
    {
     "name": "stdout",
     "output_type": "stream",
     "text": [
      "Train Loss: 0.3442 | Train Acc: 87.99%\n",
      "Test  Loss: 0.4392 | Test Acc: 85.63%\n",
      "--------------------------------------------------\n",
      "[Epoch 60/100] :\n"
     ]
    },
    {
     "name": "stderr",
     "output_type": "stream",
     "text": [
      "60 Train: 100%|██████| 391/391 [00:47<00:00,  8.26it/s]\n"
     ]
    },
    {
     "name": "stdout",
     "output_type": "stream",
     "text": [
      "Train Loss: 0.3387 | Train Acc: 87.98%\n",
      "Test  Loss: 0.3798 | Test Acc: 87.38%\n",
      "updated best eval loss : 0.37981401515912405\n",
      "--------------------------------------------------\n",
      "[Epoch 61/100] :\n"
     ]
    },
    {
     "name": "stderr",
     "output_type": "stream",
     "text": [
      "61 Train: 100%|██████| 391/391 [00:49<00:00,  7.84it/s]\n"
     ]
    },
    {
     "name": "stdout",
     "output_type": "stream",
     "text": [
      "Train Loss: 0.3355 | Train Acc: 88.14%\n",
      "Test  Loss: 0.4553 | Test Acc: 85.57%\n",
      "--------------------------------------------------\n",
      "[Epoch 62/100] :\n"
     ]
    },
    {
     "name": "stderr",
     "output_type": "stream",
     "text": [
      "62 Train: 100%|██████| 391/391 [00:47<00:00,  8.22it/s]\n"
     ]
    },
    {
     "name": "stdout",
     "output_type": "stream",
     "text": [
      "Train Loss: 0.3280 | Train Acc: 88.36%\n",
      "Test  Loss: 0.4115 | Test Acc: 86.40%\n",
      "--------------------------------------------------\n",
      "[Epoch 63/100] :\n"
     ]
    },
    {
     "name": "stderr",
     "output_type": "stream",
     "text": [
      "63 Train: 100%|██████| 391/391 [00:50<00:00,  7.82it/s]\n"
     ]
    },
    {
     "name": "stdout",
     "output_type": "stream",
     "text": [
      "Train Loss: 0.3302 | Train Acc: 88.44%\n",
      "Test  Loss: 0.4195 | Test Acc: 86.35%\n",
      "--------------------------------------------------\n",
      "[Epoch 64/100] :\n"
     ]
    },
    {
     "name": "stderr",
     "output_type": "stream",
     "text": [
      "64 Train: 100%|██████| 391/391 [00:47<00:00,  8.25it/s]\n"
     ]
    },
    {
     "name": "stdout",
     "output_type": "stream",
     "text": [
      "Train Loss: 0.3311 | Train Acc: 88.29%\n",
      "Test  Loss: 0.4451 | Test Acc: 86.32%\n",
      "--------------------------------------------------\n",
      "[Epoch 65/100] :\n"
     ]
    },
    {
     "name": "stderr",
     "output_type": "stream",
     "text": [
      "65 Train: 100%|██████| 391/391 [00:49<00:00,  7.86it/s]\n"
     ]
    },
    {
     "name": "stdout",
     "output_type": "stream",
     "text": [
      "Train Loss: 0.3217 | Train Acc: 88.84%\n",
      "Test  Loss: 0.4189 | Test Acc: 86.45%\n",
      "--------------------------------------------------\n",
      "[Epoch 66/100] :\n"
     ]
    },
    {
     "name": "stderr",
     "output_type": "stream",
     "text": [
      "66 Train: 100%|██████| 391/391 [00:48<00:00,  8.03it/s]\n"
     ]
    },
    {
     "name": "stdout",
     "output_type": "stream",
     "text": [
      "Train Loss: 0.3252 | Train Acc: 88.65%\n",
      "Test  Loss: 0.4185 | Test Acc: 86.55%\n",
      "--------------------------------------------------\n",
      "[Epoch 67/100] :\n"
     ]
    },
    {
     "name": "stderr",
     "output_type": "stream",
     "text": [
      "67 Train: 100%|██████| 391/391 [00:49<00:00,  7.96it/s]\n"
     ]
    },
    {
     "name": "stdout",
     "output_type": "stream",
     "text": [
      "Train Loss: 0.3170 | Train Acc: 88.88%\n",
      "Test  Loss: 0.4318 | Test Acc: 86.54%\n",
      "--------------------------------------------------\n",
      "[Epoch 68/100] :\n"
     ]
    },
    {
     "name": "stderr",
     "output_type": "stream",
     "text": [
      "68 Train: 100%|██████| 391/391 [00:49<00:00,  7.92it/s]\n"
     ]
    },
    {
     "name": "stdout",
     "output_type": "stream",
     "text": [
      "Train Loss: 0.3197 | Train Acc: 88.86%\n",
      "Test  Loss: 0.4221 | Test Acc: 86.99%\n",
      "--------------------------------------------------\n",
      "[Epoch 69/100] :\n"
     ]
    },
    {
     "name": "stderr",
     "output_type": "stream",
     "text": [
      "69 Train: 100%|██████| 391/391 [00:49<00:00,  7.87it/s]\n"
     ]
    },
    {
     "name": "stdout",
     "output_type": "stream",
     "text": [
      "Train Loss: 0.3143 | Train Acc: 88.90%\n",
      "Test  Loss: 0.4149 | Test Acc: 86.89%\n",
      "--------------------------------------------------\n",
      "[Epoch 70/100] :\n"
     ]
    },
    {
     "name": "stderr",
     "output_type": "stream",
     "text": [
      "70 Train: 100%|██████| 391/391 [00:48<00:00,  8.03it/s]\n"
     ]
    },
    {
     "name": "stdout",
     "output_type": "stream",
     "text": [
      "Train Loss: 0.3092 | Train Acc: 89.17%\n",
      "Test  Loss: 0.4029 | Test Acc: 87.16%\n",
      "--------------------------------------------------\n",
      "[Epoch 71/100] :\n"
     ]
    },
    {
     "name": "stderr",
     "output_type": "stream",
     "text": [
      "71 Train: 100%|██████| 391/391 [00:47<00:00,  8.22it/s]\n"
     ]
    },
    {
     "name": "stdout",
     "output_type": "stream",
     "text": [
      "Train Loss: 0.3059 | Train Acc: 89.33%\n",
      "Test  Loss: 0.3992 | Test Acc: 87.53%\n",
      "--------------------------------------------------\n",
      "[Epoch 72/100] :\n"
     ]
    },
    {
     "name": "stderr",
     "output_type": "stream",
     "text": [
      "72 Train: 100%|██████| 391/391 [00:49<00:00,  7.92it/s]\n"
     ]
    },
    {
     "name": "stdout",
     "output_type": "stream",
     "text": [
      "Train Loss: 0.3120 | Train Acc: 88.96%\n",
      "Test  Loss: 0.3563 | Test Acc: 88.26%\n",
      "updated best eval loss : 0.3562913476666318\n",
      "--------------------------------------------------\n",
      "[Epoch 73/100] :\n"
     ]
    },
    {
     "name": "stderr",
     "output_type": "stream",
     "text": [
      "73 Train: 100%|██████| 391/391 [00:47<00:00,  8.23it/s]\n"
     ]
    },
    {
     "name": "stdout",
     "output_type": "stream",
     "text": [
      "Train Loss: 0.3083 | Train Acc: 89.36%\n",
      "Test  Loss: 0.3862 | Test Acc: 87.22%\n",
      "--------------------------------------------------\n",
      "[Epoch 74/100] :\n"
     ]
    },
    {
     "name": "stderr",
     "output_type": "stream",
     "text": [
      "74 Train: 100%|██████| 391/391 [00:49<00:00,  7.88it/s]\n"
     ]
    },
    {
     "name": "stdout",
     "output_type": "stream",
     "text": [
      "Train Loss: 0.3000 | Train Acc: 89.38%\n",
      "Test  Loss: 0.3690 | Test Acc: 88.60%\n",
      "--------------------------------------------------\n",
      "[Epoch 75/100] :\n"
     ]
    },
    {
     "name": "stderr",
     "output_type": "stream",
     "text": [
      "75 Train: 100%|██████| 391/391 [00:46<00:00,  8.32it/s]\n"
     ]
    },
    {
     "name": "stdout",
     "output_type": "stream",
     "text": [
      "Train Loss: 0.3026 | Train Acc: 89.25%\n",
      "Test  Loss: 0.4870 | Test Acc: 85.01%\n",
      "--------------------------------------------------\n",
      "[Epoch 76/100] :\n"
     ]
    },
    {
     "name": "stderr",
     "output_type": "stream",
     "text": [
      "76 Train: 100%|██████| 391/391 [00:48<00:00,  7.99it/s]\n"
     ]
    },
    {
     "name": "stdout",
     "output_type": "stream",
     "text": [
      "Train Loss: 0.2987 | Train Acc: 89.54%\n",
      "Test  Loss: 0.4554 | Test Acc: 85.35%\n",
      "--------------------------------------------------\n",
      "[Epoch 77/100] :\n"
     ]
    },
    {
     "name": "stderr",
     "output_type": "stream",
     "text": [
      "77 Train: 100%|██████| 391/391 [00:47<00:00,  8.31it/s]\n"
     ]
    },
    {
     "name": "stdout",
     "output_type": "stream",
     "text": [
      "Train Loss: 0.2951 | Train Acc: 89.57%\n",
      "Test  Loss: 0.3836 | Test Acc: 87.53%\n",
      "--------------------------------------------------\n",
      "[Epoch 78/100] :\n"
     ]
    },
    {
     "name": "stderr",
     "output_type": "stream",
     "text": [
      "78 Train: 100%|██████| 391/391 [00:49<00:00,  7.85it/s]\n"
     ]
    },
    {
     "name": "stdout",
     "output_type": "stream",
     "text": [
      "Train Loss: 0.3046 | Train Acc: 89.41%\n",
      "Test  Loss: 0.3743 | Test Acc: 87.98%\n",
      "--------------------------------------------------\n",
      "[Epoch 79/100] :\n"
     ]
    },
    {
     "name": "stderr",
     "output_type": "stream",
     "text": [
      "79 Train: 100%|██████| 391/391 [00:49<00:00,  7.97it/s]\n"
     ]
    },
    {
     "name": "stdout",
     "output_type": "stream",
     "text": [
      "Train Loss: 0.2963 | Train Acc: 89.54%\n",
      "Test  Loss: 0.3992 | Test Acc: 87.42%\n",
      "--------------------------------------------------\n",
      "[Epoch 80/100] :\n"
     ]
    },
    {
     "name": "stderr",
     "output_type": "stream",
     "text": [
      "80 Train: 100%|██████| 391/391 [00:48<00:00,  8.14it/s]\n"
     ]
    },
    {
     "name": "stdout",
     "output_type": "stream",
     "text": [
      "Train Loss: 0.2963 | Train Acc: 89.57%\n",
      "Test  Loss: 0.4670 | Test Acc: 85.53%\n",
      "--------------------------------------------------\n",
      "[Epoch 81/100] :\n"
     ]
    },
    {
     "name": "stderr",
     "output_type": "stream",
     "text": [
      "81 Train: 100%|██████| 391/391 [00:49<00:00,  7.82it/s]\n"
     ]
    },
    {
     "name": "stdout",
     "output_type": "stream",
     "text": [
      "Train Loss: 0.2954 | Train Acc: 89.56%\n",
      "Test  Loss: 0.4347 | Test Acc: 86.78%\n",
      "--------------------------------------------------\n",
      "[Epoch 82/100] :\n"
     ]
    },
    {
     "name": "stderr",
     "output_type": "stream",
     "text": [
      "82 Train: 100%|██████| 391/391 [00:48<00:00,  8.03it/s]\n"
     ]
    },
    {
     "name": "stdout",
     "output_type": "stream",
     "text": [
      "Train Loss: 0.2913 | Train Acc: 89.70%\n",
      "Test  Loss: 0.4219 | Test Acc: 86.59%\n",
      "--------------------------------------------------\n",
      "[Epoch 83/100] :\n"
     ]
    },
    {
     "name": "stderr",
     "output_type": "stream",
     "text": [
      "83 Train: 100%|██████| 391/391 [00:49<00:00,  7.82it/s]\n"
     ]
    },
    {
     "name": "stdout",
     "output_type": "stream",
     "text": [
      "Train Loss: 0.2893 | Train Acc: 89.92%\n",
      "Test  Loss: 0.4249 | Test Acc: 86.92%\n",
      "--------------------------------------------------\n",
      "[Epoch 84/100] :\n"
     ]
    },
    {
     "name": "stderr",
     "output_type": "stream",
     "text": [
      "84 Train: 100%|██████| 391/391 [00:46<00:00,  8.42it/s]\n"
     ]
    },
    {
     "name": "stdout",
     "output_type": "stream",
     "text": [
      "Train Loss: 0.2839 | Train Acc: 89.98%\n",
      "Test  Loss: 0.3786 | Test Acc: 87.70%\n",
      "--------------------------------------------------\n",
      "[Epoch 85/100] :\n"
     ]
    },
    {
     "name": "stderr",
     "output_type": "stream",
     "text": [
      "85 Train: 100%|██████| 391/391 [00:48<00:00,  8.12it/s]\n"
     ]
    },
    {
     "name": "stdout",
     "output_type": "stream",
     "text": [
      "Train Loss: 0.2902 | Train Acc: 89.84%\n",
      "Test  Loss: 0.3838 | Test Acc: 88.16%\n",
      "--------------------------------------------------\n",
      "[Epoch 86/100] :\n"
     ]
    },
    {
     "name": "stderr",
     "output_type": "stream",
     "text": [
      "86 Train: 100%|██████| 391/391 [00:48<00:00,  8.09it/s]\n"
     ]
    },
    {
     "name": "stdout",
     "output_type": "stream",
     "text": [
      "Train Loss: 0.2888 | Train Acc: 89.93%\n",
      "Test  Loss: 0.3931 | Test Acc: 87.04%\n",
      "--------------------------------------------------\n",
      "[Epoch 87/100] :\n"
     ]
    },
    {
     "name": "stderr",
     "output_type": "stream",
     "text": [
      "87 Train: 100%|██████| 391/391 [00:47<00:00,  8.22it/s]\n"
     ]
    },
    {
     "name": "stdout",
     "output_type": "stream",
     "text": [
      "Train Loss: 0.2798 | Train Acc: 90.19%\n",
      "Test  Loss: 0.4590 | Test Acc: 85.91%\n",
      "--------------------------------------------------\n",
      "[Epoch 88/100] :\n"
     ]
    },
    {
     "name": "stderr",
     "output_type": "stream",
     "text": [
      "88 Train: 100%|██████| 391/391 [00:48<00:00,  8.07it/s]\n"
     ]
    },
    {
     "name": "stdout",
     "output_type": "stream",
     "text": [
      "Train Loss: 0.2860 | Train Acc: 90.05%\n",
      "Test  Loss: 0.3645 | Test Acc: 88.09%\n",
      "--------------------------------------------------\n",
      "[Epoch 89/100] :\n"
     ]
    },
    {
     "name": "stderr",
     "output_type": "stream",
     "text": [
      "89 Train: 100%|██████| 391/391 [00:48<00:00,  8.13it/s]\n"
     ]
    },
    {
     "name": "stdout",
     "output_type": "stream",
     "text": [
      "Train Loss: 0.2845 | Train Acc: 89.94%\n",
      "Test  Loss: 0.5930 | Test Acc: 82.82%\n",
      "--------------------------------------------------\n",
      "[Epoch 90/100] :\n"
     ]
    },
    {
     "name": "stderr",
     "output_type": "stream",
     "text": [
      "90 Train: 100%|██████| 391/391 [00:46<00:00,  8.36it/s]\n"
     ]
    },
    {
     "name": "stdout",
     "output_type": "stream",
     "text": [
      "Train Loss: 0.2807 | Train Acc: 90.19%\n",
      "Test  Loss: 0.4136 | Test Acc: 86.70%\n",
      "--------------------------------------------------\n",
      "[Epoch 91/100] :\n"
     ]
    },
    {
     "name": "stderr",
     "output_type": "stream",
     "text": [
      "91 Train: 100%|██████| 391/391 [00:46<00:00,  8.43it/s]\n"
     ]
    },
    {
     "name": "stdout",
     "output_type": "stream",
     "text": [
      "Train Loss: 0.2806 | Train Acc: 90.12%\n",
      "Test  Loss: 0.4084 | Test Acc: 87.25%\n",
      "--------------------------------------------------\n",
      "[Epoch 92/100] :\n"
     ]
    },
    {
     "name": "stderr",
     "output_type": "stream",
     "text": [
      "92 Train: 100%|██████| 391/391 [00:48<00:00,  8.05it/s]\n"
     ]
    },
    {
     "name": "stdout",
     "output_type": "stream",
     "text": [
      "Train Loss: 0.2799 | Train Acc: 90.13%\n",
      "Test  Loss: 0.4062 | Test Acc: 86.88%\n",
      "--------------------------------------------------\n",
      "[Epoch 93/100] :\n"
     ]
    },
    {
     "name": "stderr",
     "output_type": "stream",
     "text": [
      "93 Train: 100%|██████| 391/391 [00:50<00:00,  7.69it/s]\n"
     ]
    },
    {
     "name": "stdout",
     "output_type": "stream",
     "text": [
      "Train Loss: 0.2742 | Train Acc: 90.49%\n",
      "Test  Loss: 0.4144 | Test Acc: 87.06%\n",
      "--------------------------------------------------\n",
      "[Epoch 94/100] :\n"
     ]
    },
    {
     "name": "stderr",
     "output_type": "stream",
     "text": [
      "94 Train: 100%|██████| 391/391 [00:50<00:00,  7.79it/s]\n"
     ]
    },
    {
     "name": "stdout",
     "output_type": "stream",
     "text": [
      "Train Loss: 0.2743 | Train Acc: 90.30%\n",
      "Test  Loss: 0.4017 | Test Acc: 87.42%\n",
      "--------------------------------------------------\n",
      "[Epoch 95/100] :\n"
     ]
    },
    {
     "name": "stderr",
     "output_type": "stream",
     "text": [
      "95 Train: 100%|██████| 391/391 [00:49<00:00,  7.82it/s]\n"
     ]
    },
    {
     "name": "stdout",
     "output_type": "stream",
     "text": [
      "Train Loss: 0.2734 | Train Acc: 90.36%\n",
      "Test  Loss: 0.4199 | Test Acc: 87.09%\n",
      "--------------------------------------------------\n",
      "[Epoch 96/100] :\n"
     ]
    },
    {
     "name": "stderr",
     "output_type": "stream",
     "text": [
      "96 Train: 100%|██████| 391/391 [00:49<00:00,  7.92it/s]\n"
     ]
    },
    {
     "name": "stdout",
     "output_type": "stream",
     "text": [
      "Train Loss: 0.2700 | Train Acc: 90.70%\n",
      "Test  Loss: 0.4047 | Test Acc: 87.37%\n",
      "--------------------------------------------------\n",
      "[Epoch 97/100] :\n"
     ]
    },
    {
     "name": "stderr",
     "output_type": "stream",
     "text": [
      "97 Train: 100%|██████| 391/391 [00:48<00:00,  8.11it/s]\n"
     ]
    },
    {
     "name": "stdout",
     "output_type": "stream",
     "text": [
      "Train Loss: 0.2683 | Train Acc: 90.53%\n",
      "Test  Loss: 0.4305 | Test Acc: 86.58%\n",
      "--------------------------------------------------\n",
      "[Epoch 98/100] :\n"
     ]
    },
    {
     "name": "stderr",
     "output_type": "stream",
     "text": [
      "98 Train: 100%|██████| 391/391 [00:49<00:00,  7.84it/s]\n"
     ]
    },
    {
     "name": "stdout",
     "output_type": "stream",
     "text": [
      "Train Loss: 0.2691 | Train Acc: 90.59%\n",
      "Test  Loss: 0.4031 | Test Acc: 87.17%\n",
      "--------------------------------------------------\n",
      "[Epoch 99/100] :\n"
     ]
    },
    {
     "name": "stderr",
     "output_type": "stream",
     "text": [
      "99 Train: 100%|██████| 391/391 [00:39<00:00, 10.01it/s]\n"
     ]
    },
    {
     "name": "stdout",
     "output_type": "stream",
     "text": [
      "Train Loss: 0.2674 | Train Acc: 90.59%\n",
      "Test  Loss: 0.3804 | Test Acc: 88.19%\n",
      "--------------------------------------------------\n",
      "[Epoch 100/100] :\n"
     ]
    },
    {
     "name": "stderr",
     "output_type": "stream",
     "text": [
      "100 Train: 100%|█████| 391/391 [00:39<00:00,  9.97it/s]\n"
     ]
    },
    {
     "name": "stdout",
     "output_type": "stream",
     "text": [
      "Train Loss: 0.2674 | Train Acc: 90.68%\n",
      "Test  Loss: 0.3928 | Test Acc: 88.20%\n",
      "--------------------------------------------------\n"
     ]
    }
   ],
   "source": [
    "Training = DoTraining(\n",
    "    model=model,\n",
    "    criterion=criterion,\n",
    "    optimizer=optimizer,\n",
    "    scaler=scaler,\n",
    "    scheduler=scheduler,\n",
    "    earlystopper=earlystopper,\n",
    "    device=device,\n",
    "    logs=logs,\n",
    "    file_path=file_name,\n",
    ")\n",
    "pre_epochs = len(Training.logs[\"train_loss\"])\n",
    "\n",
    "for epoch in range(NUM_EPOCHS):\n",
    "    now = epoch + 1 + pre_epochs\n",
    "    print(f\"[Epoch {epoch+1+pre_epochs}/{NUM_EPOCHS}] :\")\n",
    "\n",
    "    if DATASET == \"ImageNet2012\":\n",
    "        eval_loss = Training.SingleEpoch(train_dataloader, valid_dataloader)\n",
    "    else:\n",
    "        eval_loss = Training.SingleEpoch(\n",
    "            train_dataloader, valid_dataloader, test_dataloader\n",
    "        )\n",
    "\n",
    "    Training.Save()\n",
    "\n",
    "    \n",
    "    \n",
    "    if earlystopper.check(eval_loss) == True:\n",
    "        break\n",
    "\n",
    "    print(\"-\" * 50)"
   ]
  },
  {
   "cell_type": "code",
   "execution_count": 17,
   "metadata": {},
   "outputs": [
    {
     "data": {
      "image/png": "[encoded data removed]",
      "text/plain": [
       "<Figure size 1000x500 with 2 Axes>"
      ]
     },
     "metadata": {},
     "output_type": "display_data"
    }
   ],
   "source": [
    "view = LogViewer(logs)\n",
    "view.draw(save_name=file_name)"
   ]
  },
  {
   "cell_type": "code",
   "execution_count": 18,
   "metadata": {},
   "outputs": [
    {
     "name": "stdout",
     "output_type": "stream",
     "text": [
      "1 epoch: train_loss=1.7070, train_acc=0.3808, test_loss=1.4752, test_acc=0.4659, lr=0.0010\n",
      "2 epoch: train_loss=1.2705, train_acc=0.5480, test_loss=1.2859, test_acc=0.5495, lr=0.0010\n",
      "3 epoch: train_loss=1.0773, train_acc=0.6199, test_loss=1.0387, test_acc=0.6362, lr=0.0010\n",
      "4 epoch: train_loss=0.9696, train_acc=0.6639, test_loss=1.2088, test_acc=0.6086, lr=0.0010\n",
      "5 epoch: train_loss=0.8877, train_acc=0.6889, test_loss=1.0045, test_acc=0.6666, lr=0.0010\n",
      "6 epoch: train_loss=0.8388, train_acc=0.7046, test_loss=1.5567, test_acc=0.5566, lr=0.0010\n",
      "7 epoch: train_loss=0.7946, train_acc=0.7224, test_loss=0.7581, test_acc=0.7440, lr=0.0010\n",
      "8 epoch: train_loss=0.7579, train_acc=0.7359, test_loss=1.1934, test_acc=0.6507, lr=0.0010\n",
      "9 epoch: train_loss=0.7279, train_acc=0.7449, test_loss=0.7311, test_acc=0.7540, lr=0.0010\n",
      "10 epoch: train_loss=0.7006, train_acc=0.7562, test_loss=0.7830, test_acc=0.7336, lr=0.0010\n",
      "11 epoch: train_loss=0.6741, train_acc=0.7650, test_loss=0.6531, test_acc=0.7758, lr=0.0010\n",
      "12 epoch: train_loss=0.6546, train_acc=0.7731, test_loss=0.7003, test_acc=0.7633, lr=0.0010\n",
      "13 epoch: train_loss=0.6358, train_acc=0.7789, test_loss=0.6799, test_acc=0.7730, lr=0.0010\n",
      "14 epoch: train_loss=0.6148, train_acc=0.7870, test_loss=0.5888, test_acc=0.8020, lr=0.0010\n",
      "15 epoch: train_loss=0.6030, train_acc=0.7904, test_loss=0.6134, test_acc=0.8002, lr=0.0010\n",
      "16 epoch: train_loss=0.5899, train_acc=0.7952, test_loss=0.6693, test_acc=0.7796, lr=0.0010\n",
      "17 epoch: train_loss=0.5741, train_acc=0.7992, test_loss=0.5659, test_acc=0.8084, lr=0.0010\n",
      "18 epoch: train_loss=0.5654, train_acc=0.8034, test_loss=0.7289, test_acc=0.7623, lr=0.0010\n",
      "19 epoch: train_loss=0.5468, train_acc=0.8092, test_loss=0.7315, test_acc=0.7686, lr=0.0010\n",
      "20 epoch: train_loss=0.5362, train_acc=0.8125, test_loss=0.5701, test_acc=0.8052, lr=0.0010\n",
      "21 epoch: train_loss=0.5214, train_acc=0.8169, test_loss=0.4712, test_acc=0.8365, lr=0.0010\n",
      "22 epoch: train_loss=0.5194, train_acc=0.8208, test_loss=0.5249, test_acc=0.8197, lr=0.0010\n",
      "23 epoch: train_loss=0.5112, train_acc=0.8218, test_loss=0.6468, test_acc=0.7833, lr=0.0010\n",
      "24 epoch: train_loss=0.4985, train_acc=0.8267, test_loss=0.5491, test_acc=0.8126, lr=0.0010\n",
      "25 epoch: train_loss=0.4945, train_acc=0.8260, test_loss=0.6422, test_acc=0.7835, lr=0.0010\n",
      "26 epoch: train_loss=0.4860, train_acc=0.8290, test_loss=0.5565, test_acc=0.8109, lr=0.0010\n",
      "27 epoch: train_loss=0.4713, train_acc=0.8339, test_loss=0.5519, test_acc=0.8104, lr=0.0010\n",
      "28 epoch: train_loss=0.4693, train_acc=0.8362, test_loss=0.6043, test_acc=0.8027, lr=0.0010\n",
      "29 epoch: train_loss=0.4615, train_acc=0.8395, test_loss=0.4539, test_acc=0.8443, lr=0.0010\n",
      "30 epoch: train_loss=0.4582, train_acc=0.8410, test_loss=0.5955, test_acc=0.7932, lr=0.0010\n",
      "31 epoch: train_loss=0.4500, train_acc=0.8427, test_loss=0.4964, test_acc=0.8365, lr=0.0010\n",
      "32 epoch: train_loss=0.4428, train_acc=0.8457, test_loss=0.4753, test_acc=0.8410, lr=0.0010\n",
      "33 epoch: train_loss=0.4365, train_acc=0.8481, test_loss=0.4769, test_acc=0.8445, lr=0.0010\n",
      "34 epoch: train_loss=0.4331, train_acc=0.8492, test_loss=0.4475, test_acc=0.8461, lr=0.0010\n",
      "35 epoch: train_loss=0.4329, train_acc=0.8485, test_loss=0.4481, test_acc=0.8484, lr=0.0010\n",
      "36 epoch: train_loss=0.4201, train_acc=0.8520, test_loss=0.4620, test_acc=0.8411, lr=0.0010\n",
      "37 epoch: train_loss=0.4102, train_acc=0.8564, test_loss=0.4992, test_acc=0.8325, lr=0.0010\n",
      "38 epoch: train_loss=0.4148, train_acc=0.8548, test_loss=0.4545, test_acc=0.8455, lr=0.0010\n",
      "39 epoch: train_loss=0.4071, train_acc=0.8567, test_loss=0.5273, test_acc=0.8297, lr=0.0010\n",
      "40 epoch: train_loss=0.4002, train_acc=0.8601, test_loss=0.4687, test_acc=0.8392, lr=0.0010\n",
      "41 epoch: train_loss=0.3984, train_acc=0.8603, test_loss=0.4101, test_acc=0.8606, lr=0.0010\n",
      "42 epoch: train_loss=0.3913, train_acc=0.8642, test_loss=0.4374, test_acc=0.8458, lr=0.0010\n",
      "43 epoch: train_loss=0.3936, train_acc=0.8623, test_loss=0.5037, test_acc=0.8358, lr=0.0010\n",
      "44 epoch: train_loss=0.3875, train_acc=0.8649, test_loss=0.4844, test_acc=0.8412, lr=0.0010\n",
      "45 epoch: train_loss=0.3837, train_acc=0.8655, test_loss=0.5187, test_acc=0.8292, lr=0.0010\n",
      "46 epoch: train_loss=0.3858, train_acc=0.8640, test_loss=0.3966, test_acc=0.8644, lr=0.0010\n",
      "47 epoch: train_loss=0.3790, train_acc=0.8669, test_loss=0.4373, test_acc=0.8571, lr=0.0010\n",
      "48 epoch: train_loss=0.3688, train_acc=0.8693, test_loss=0.4504, test_acc=0.8526, lr=0.0010\n",
      "49 epoch: train_loss=0.3621, train_acc=0.8742, test_loss=0.4708, test_acc=0.8457, lr=0.0010\n",
      "50 epoch: train_loss=0.3699, train_acc=0.8712, test_loss=0.4146, test_acc=0.8648, lr=0.0010\n",
      "51 epoch: train_loss=0.3627, train_acc=0.8737, test_loss=0.4185, test_acc=0.8615, lr=0.0010\n",
      "52 epoch: train_loss=0.3578, train_acc=0.8736, test_loss=0.4109, test_acc=0.8656, lr=0.0010\n",
      "53 epoch: train_loss=0.3595, train_acc=0.8744, test_loss=0.4096, test_acc=0.8617, lr=0.0010\n",
      "54 epoch: train_loss=0.3577, train_acc=0.8744, test_loss=0.4603, test_acc=0.8484, lr=0.0010\n",
      "55 epoch: train_loss=0.3488, train_acc=0.8777, test_loss=0.4387, test_acc=0.8649, lr=0.0010\n",
      "56 epoch: train_loss=0.3461, train_acc=0.8794, test_loss=0.5186, test_acc=0.8361, lr=0.0010\n",
      "57 epoch: train_loss=0.3418, train_acc=0.8800, test_loss=0.4229, test_acc=0.8564, lr=0.0010\n",
      "58 epoch: train_loss=0.3363, train_acc=0.8821, test_loss=0.4532, test_acc=0.8531, lr=0.0010\n",
      "59 epoch: train_loss=0.3442, train_acc=0.8799, test_loss=0.4392, test_acc=0.8563, lr=0.0010\n",
      "60 epoch: train_loss=0.3387, train_acc=0.8798, test_loss=0.3798, test_acc=0.8738, lr=0.0010\n",
      "61 epoch: train_loss=0.3355, train_acc=0.8814, test_loss=0.4553, test_acc=0.8557, lr=0.0010\n",
      "62 epoch: train_loss=0.3280, train_acc=0.8836, test_loss=0.4115, test_acc=0.8640, lr=0.0010\n",
      "63 epoch: train_loss=0.3302, train_acc=0.8844, test_loss=0.4195, test_acc=0.8635, lr=0.0010\n",
      "64 epoch: train_loss=0.3311, train_acc=0.8829, test_loss=0.4451, test_acc=0.8632, lr=0.0010\n",
      "65 epoch: train_loss=0.3217, train_acc=0.8884, test_loss=0.4189, test_acc=0.8645, lr=0.0010\n",
      "66 epoch: train_loss=0.3252, train_acc=0.8865, test_loss=0.4185, test_acc=0.8655, lr=0.0010\n",
      "67 epoch: train_loss=0.3170, train_acc=0.8888, test_loss=0.4318, test_acc=0.8654, lr=0.0010\n",
      "68 epoch: train_loss=0.3197, train_acc=0.8886, test_loss=0.4221, test_acc=0.8699, lr=0.0010\n",
      "69 epoch: train_loss=0.3143, train_acc=0.8890, test_loss=0.4149, test_acc=0.8689, lr=0.0010\n",
      "70 epoch: train_loss=0.3092, train_acc=0.8917, test_loss=0.4029, test_acc=0.8716, lr=0.0010\n",
      "71 epoch: train_loss=0.3059, train_acc=0.8933, test_loss=0.3992, test_acc=0.8753, lr=0.0010\n",
      "72 epoch: train_loss=0.3120, train_acc=0.8896, test_loss=0.3563, test_acc=0.8826, lr=0.0010\n",
      "73 epoch: train_loss=0.3083, train_acc=0.8936, test_loss=0.3862, test_acc=0.8722, lr=0.0010\n",
      "74 epoch: train_loss=0.3000, train_acc=0.8938, test_loss=0.3690, test_acc=0.8860, lr=0.0010\n",
      "75 epoch: train_loss=0.3026, train_acc=0.8925, test_loss=0.4870, test_acc=0.8501, lr=0.0010\n",
      "76 epoch: train_loss=0.2987, train_acc=0.8954, test_loss=0.4554, test_acc=0.8535, lr=0.0010\n",
      "77 epoch: train_loss=0.2951, train_acc=0.8957, test_loss=0.3836, test_acc=0.8753, lr=0.0010\n",
      "78 epoch: train_loss=0.3046, train_acc=0.8941, test_loss=0.3743, test_acc=0.8798, lr=0.0010\n",
      "79 epoch: train_loss=0.2963, train_acc=0.8954, test_loss=0.3992, test_acc=0.8742, lr=0.0010\n",
      "80 epoch: train_loss=0.2963, train_acc=0.8957, test_loss=0.4670, test_acc=0.8553, lr=0.0010\n",
      "81 epoch: train_loss=0.2954, train_acc=0.8956, test_loss=0.4347, test_acc=0.8678, lr=0.0010\n",
      "82 epoch: train_loss=0.2913, train_acc=0.8970, test_loss=0.4219, test_acc=0.8659, lr=0.0010\n",
      "83 epoch: train_loss=0.2893, train_acc=0.8992, test_loss=0.4249, test_acc=0.8692, lr=0.0010\n",
      "84 epoch: train_loss=0.2839, train_acc=0.8998, test_loss=0.3786, test_acc=0.8770, lr=0.0010\n",
      "85 epoch: train_loss=0.2902, train_acc=0.8984, test_loss=0.3838, test_acc=0.8816, lr=0.0010\n",
      "86 epoch: train_loss=0.2888, train_acc=0.8993, test_loss=0.3931, test_acc=0.8704, lr=0.0010\n",
      "87 epoch: train_loss=0.2798, train_acc=0.9019, test_loss=0.4590, test_acc=0.8591, lr=0.0010\n",
      "88 epoch: train_loss=0.2860, train_acc=0.9005, test_loss=0.3645, test_acc=0.8809, lr=0.0010\n",
      "89 epoch: train_loss=0.2845, train_acc=0.8994, test_loss=0.5930, test_acc=0.8282, lr=0.0010\n",
      "90 epoch: train_loss=0.2807, train_acc=0.9019, test_loss=0.4136, test_acc=0.8670, lr=0.0010\n",
      "91 epoch: train_loss=0.2806, train_acc=0.9012, test_loss=0.4084, test_acc=0.8725, lr=0.0010\n",
      "92 epoch: train_loss=0.2799, train_acc=0.9013, test_loss=0.4062, test_acc=0.8688, lr=0.0010\n",
      "93 epoch: train_loss=0.2742, train_acc=0.9049, test_loss=0.4144, test_acc=0.8706, lr=0.0010\n",
      "94 epoch: train_loss=0.2743, train_acc=0.9030, test_loss=0.4017, test_acc=0.8742, lr=0.0010\n",
      "95 epoch: train_loss=0.2734, train_acc=0.9036, test_loss=0.4199, test_acc=0.8709, lr=0.0010\n",
      "96 epoch: train_loss=0.2700, train_acc=0.9070, test_loss=0.4047, test_acc=0.8737, lr=0.0010\n",
      "97 epoch: train_loss=0.2683, train_acc=0.9053, test_loss=0.4305, test_acc=0.8658, lr=0.0010\n",
      "98 epoch: train_loss=0.2691, train_acc=0.9059, test_loss=0.4031, test_acc=0.8717, lr=0.0010\n",
      "99 epoch: train_loss=0.2674, train_acc=0.9059, test_loss=0.3804, test_acc=0.8819, lr=0.0010\n",
      "100 epoch: train_loss=0.2674, train_acc=0.9068, test_loss=0.3928, test_acc=0.8820, lr=0.0010\n"
     ]
    }
   ],
   "source": [
    "view.print_all()"
   ]
  }
 ],
 "metadata": {
  "kernelspec": {
   "display_name": "base",
   "language": "python",
   "name": "python3"
  },
  "language_info": {
   "codemirror_mode": {
    "name": "ipython",
    "version": 3
   },
   "file_extension": ".py",
   "mimetype": "text/x-python",
   "name": "python",
   "nbconvert_exporter": "python",
   "pygments_lexer": "ipython3",
   "version": "3.11.5"
  }
 },
 "nbformat": 4,
 "nbformat_minor": 2
}
