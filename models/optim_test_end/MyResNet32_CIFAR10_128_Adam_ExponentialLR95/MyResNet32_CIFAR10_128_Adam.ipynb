{
 "cells": [
  {
   "cell_type": "markdown",
   "metadata": {},
   "source": [
    "# Import"
   ]
  },
  {
   "cell_type": "code",
   "execution_count": 1,
   "metadata": {},
   "outputs": [],
   "source": [
    "import torch\n",
    "from torch import nn\n",
    "from torch.optim.lr_scheduler import ExponentialLR\n",
    "import sys, os\n",
    "\n",
    "sys.path.append(os.path.dirname(os.path.abspath(os.path.dirname(\"src\"))))\n",
    "\n",
    "from src.Mydataloader import LoadDataset\n",
    "from src.Mymodel import MyResNet_CIFAR\n",
    "from src.Mytraining import DoTraining\n",
    "from src.Earlystopper import EarlyStopper\n",
    "from src.LogViewer import LogViewer"
   ]
  },
  {
   "cell_type": "markdown",
   "metadata": {},
   "source": [
    "# Setup"
   ]
  },
  {
   "cell_type": "code",
   "execution_count": 2,
   "metadata": {},
   "outputs": [],
   "source": [
    "\"\"\"Dataset selection\"\"\"\n",
    "DATASET = \"CIFAR10\"\n",
    "# DATASET = \"CIFAR100\"\n",
    "# DATASET = \"ImageNet2012\"\n",
    "\n",
    "\"\"\"Dataset parameters\"\"\"\n",
    "BATCH = 128\n",
    "SHUFFLE = True\n",
    "NUMOFWORKERS = 8\n",
    "PIN_MEMORY = True\n",
    "\n",
    "\"\"\"optimizer parameters\"\"\"\n",
    "OPTIMIZER = \"Adam\"\n",
    "# OPTIMIZER = \"Adam_decay\"\n",
    "# OPTIMIZER = \"SGD\"\n",
    "# OPTIMIZER = \"SGD_nasterov\"\n",
    "# OPTIMIZER = \"AdamW\"\n",
    "# OPTIMIZER = \"AdamW_amsgrad\"\n",
    "# OPTIMIZER = \"NAdam\"\n",
    "\n",
    "\"\"\"Learning rate scheduler parameters\"\"\"\n",
    "NUM_EPOCHS = 100\n",
    "\n",
    "\"\"\"Early stopping parameters\"\"\"\n",
    "EARLYSTOPPINGPATIENCE = 100\n",
    "\n",
    "file_name = f\"MyResNet32_{BATCH}_{OPTIMIZER}\""
   ]
  },
  {
   "cell_type": "code",
   "execution_count": 3,
   "metadata": {},
   "outputs": [
    {
     "data": {
      "text/plain": [
       "'MyResNet32_128_Adam'"
      ]
     },
     "execution_count": 3,
     "metadata": {},
     "output_type": "execute_result"
    }
   ],
   "source": [
    "file_name"
   ]
  },
  {
   "cell_type": "markdown",
   "metadata": {},
   "source": [
    "# Loading the dataset"
   ]
  },
  {
   "cell_type": "markdown",
   "metadata": {},
   "source": [
    "## Define Dateloader"
   ]
  },
  {
   "cell_type": "code",
   "execution_count": 4,
   "metadata": {},
   "outputs": [
    {
     "name": "stderr",
     "output_type": "stream",
     "text": [
      "/home/lee/anaconda3/lib/python3.11/site-packages/torchvision/transforms/v2/_deprecated.py:43: UserWarning: The transform `ToTensor()` is deprecated and will be removed in a future release. Instead, please use `v2.Compose([v2.ToImage(), v2.ToDtype(torch.float32, scale=True)])`.\n",
      "  warnings.warn(\n"
     ]
    },
    {
     "name": "stdout",
     "output_type": "stream",
     "text": [
      "-----------------------------------------------------------------------\n",
      "Dataset :  CIFAR10\n",
      "- Length of Train Set :  50000\n",
      "- Length of Test Set :  10000\n",
      "- Count of Classes :  10\n",
      "-----------------------------------------------------------------------\n"
     ]
    }
   ],
   "source": [
    "tmp = LoadDataset(root=\"../../../data\", seceted_dataset=DATASET)\n",
    "train_data, valid_data, test_data, COUNT_OF_CLASSES = tmp.Unpack()"
   ]
  },
  {
   "cell_type": "code",
   "execution_count": 5,
   "metadata": {},
   "outputs": [
    {
     "name": "stdout",
     "output_type": "stream",
     "text": [
      "train.transforms = Compose(\n",
      "      AutoAugment(interpolation=InterpolationMode.NEAREST, policy=AutoAugmentPolicy.CIFAR10)\n",
      "      RandomCrop(size=(32, 32), padding=[4, 4, 4, 4], pad_if_needed=False, fill=0, padding_mode=constant)\n",
      "      RandomHorizontalFlip(p=0.5)\n",
      "      ToTensor()\n",
      "      Normalize(mean=[0.49139968, 0.48215827, 0.44653124], std=[1, 1, 1], inplace=True)\n",
      ") 128\n",
      "test.transforms = ToTensor() 128\n"
     ]
    }
   ],
   "source": [
    "train_dataloader, valid_dataloader, test_dataloader = tmp.get_dataloader(\n",
    "    batch_size=BATCH, shuffle=SHUFFLE, num_workers=NUMOFWORKERS, pin_memory=PIN_MEMORY\n",
    ")"
   ]
  },
  {
   "cell_type": "markdown",
   "metadata": {},
   "source": [
    "# Define ResNet"
   ]
  },
  {
   "cell_type": "markdown",
   "metadata": {},
   "source": [
    "## Model Confirm"
   ]
  },
  {
   "cell_type": "code",
   "execution_count": 6,
   "metadata": {},
   "outputs": [
    {
     "data": {
      "text/plain": [
       "device(type='cuda')"
      ]
     },
     "execution_count": 6,
     "metadata": {},
     "output_type": "execute_result"
    }
   ],
   "source": [
    "device = torch.device(\"cuda\" if torch.cuda.is_available() else \"cpu\")\n",
    "device"
   ]
  },
  {
   "cell_type": "code",
   "execution_count": 7,
   "metadata": {},
   "outputs": [],
   "source": [
    "model = MyResNet_CIFAR(num_classes=COUNT_OF_CLASSES, num_layer_factor=5).to(device)"
   ]
  },
  {
   "cell_type": "markdown",
   "metadata": {},
   "source": [
    "# Define Training"
   ]
  },
  {
   "cell_type": "markdown",
   "metadata": {},
   "source": [
    "## (1) Define Criterion"
   ]
  },
  {
   "cell_type": "code",
   "execution_count": 8,
   "metadata": {},
   "outputs": [],
   "source": [
    "criterion = nn.CrossEntropyLoss()"
   ]
  },
  {
   "cell_type": "markdown",
   "metadata": {},
   "source": [
    "## (2) Define Optimazer"
   ]
  },
  {
   "cell_type": "code",
   "execution_count": 9,
   "metadata": {},
   "outputs": [],
   "source": [
    "if OPTIMIZER == \"Adam\":\n",
    "    optimizer = torch.optim.Adam(model.parameters())\n",
    "elif OPTIMIZER == \"Adam_decay\":\n",
    "    optimizer = torch.optim.Adam(model.parameters(), weight_decay=1e-4)\n",
    "elif OPTIMIZER == \"SGD\":\n",
    "    optimizer = torch.optim.SGD(\n",
    "        model.parameters(), lr=0.1, momentum=0.9, weight_decay=1e-4\n",
    "    )\n",
    "elif OPTIMIZER == \"SGD_nasterov\":\n",
    "    optimizer = torch.optim.SGD(\n",
    "        model.parameters(), lr=0.1, momentum=0.9, weight_decay=1e-4, nesterov=True\n",
    "    )\n",
    "elif OPTIMIZER == \"AdamW\":\n",
    "    optimizer = torch.optim.AdamW(model.parameters(), weight_decay=1e-4)\n",
    "elif OPTIMIZER == \"AdamW_amsgrad\":\n",
    "    optimizer = torch.optim.AdamW(model.parameters(), weight_decay=1e-4, amsgrad=True)\n",
    "elif OPTIMIZER == \"NAdam\":\n",
    "    optimizer = torch.optim.NAdam(model.parameters(), weight_decay=1e-4)"
   ]
  },
  {
   "cell_type": "markdown",
   "metadata": {},
   "source": [
    "## (3) Define Early Stopping"
   ]
  },
  {
   "cell_type": "code",
   "execution_count": 10,
   "metadata": {},
   "outputs": [],
   "source": [
    "earlystopper = EarlyStopper(patience=EARLYSTOPPINGPATIENCE, model=model, file_name=file_name)"
   ]
  },
  {
   "cell_type": "markdown",
   "metadata": {},
   "source": [
    "## (4) Define Learning Rate schedualer"
   ]
  },
  {
   "cell_type": "code",
   "execution_count": 11,
   "metadata": {},
   "outputs": [],
   "source": [
    "scheduler = ExponentialLR(optimizer, gamma=0.95)"
   ]
  },
  {
   "cell_type": "markdown",
   "metadata": {},
   "source": [
    "## (5) Define AMP scaler"
   ]
  },
  {
   "cell_type": "code",
   "execution_count": 12,
   "metadata": {},
   "outputs": [],
   "source": [
    "scaler = torch.cuda.amp.GradScaler(enabled=True)"
   ]
  },
  {
   "cell_type": "markdown",
   "metadata": {},
   "source": [
    "## Load before process"
   ]
  },
  {
   "cell_type": "code",
   "execution_count": 13,
   "metadata": {},
   "outputs": [
    {
     "name": "stdout",
     "output_type": "stream",
     "text": [
      "File does not exist. Created a new log.\n"
     ]
    }
   ],
   "source": [
    "if os.path.exists(file_name + \".pth.tar\"):\n",
    "    # Read checkpoint as desired, e.g.,\n",
    "    checkpoint = torch.load(\n",
    "        file_name + \".pth.tar\",\n",
    "        map_location=lambda storage, loc: storage.cuda(device),\n",
    "    )\n",
    "    model.load_state_dict(checkpoint[\"model\"])\n",
    "    optimizer.load_state_dict(checkpoint[\"optimizer\"])\n",
    "    scaler.load_state_dict(checkpoint[\"scaler\"])\n",
    "    scheduler.load_state_dict(checkpoint[\"scheduler\"])\n",
    "    earlystopper.load_state_dict(checkpoint[\"earlystopper\"])\n",
    "    logs = checkpoint[\"logs\"]\n",
    "\n",
    "    print(\"Suceessfully loaded the All setting and Log file.\")\n",
    "    print(file_name)\n",
    "    print(f\"Current epoch is {len(logs['train_loss'])}\")\n",
    "    print(f\"Current learning rate: {optimizer.param_groups[0]['lr']}\")\n",
    "else:\n",
    "    # Create a dictionary to store the variables\n",
    "    train_loss = []\n",
    "    train_acc = []\n",
    "    eval_loss = []\n",
    "    valid_acc = []\n",
    "    test_loss = []\n",
    "    test_acc = []\n",
    "    lr_log = []\n",
    "    logs = {\n",
    "        \"train_loss\": train_loss,\n",
    "        \"train_acc\": train_acc,\n",
    "        \"valid_loss\": eval_loss,\n",
    "        \"valid_acc\": valid_acc,\n",
    "        \"test_loss\": test_loss,\n",
    "        \"test_acc\": test_acc,\n",
    "        \"lr_log\": lr_log,\n",
    "    }\n",
    "    print(\"File does not exist. Created a new log.\")"
   ]
  },
  {
   "cell_type": "code",
   "execution_count": 14,
   "metadata": {},
   "outputs": [
    {
     "data": {
      "text/plain": [
       "0.001"
      ]
     },
     "execution_count": 14,
     "metadata": {},
     "output_type": "execute_result"
    }
   ],
   "source": [
    "optimizer.param_groups[0][\"lr\"]"
   ]
  },
  {
   "cell_type": "code",
   "execution_count": 15,
   "metadata": {},
   "outputs": [
    {
     "data": {
      "text/plain": [
       "0"
      ]
     },
     "execution_count": 15,
     "metadata": {},
     "output_type": "execute_result"
    }
   ],
   "source": [
    "earlystopper.early_stop_counter"
   ]
  },
  {
   "cell_type": "markdown",
   "metadata": {},
   "source": [
    "# [Training Loop]"
   ]
  },
  {
   "cell_type": "code",
   "execution_count": 16,
   "metadata": {},
   "outputs": [
    {
     "name": "stdout",
     "output_type": "stream",
     "text": [
      "[Epoch 1/100] :\n"
     ]
    },
    {
     "name": "stderr",
     "output_type": "stream",
     "text": [
      "1 Train: 100%|███████| 391/391 [00:19<00:00, 20.14it/s]"
     ]
    },
    {
     "name": "stdout",
     "output_type": "stream",
     "text": [
      "Train Loss: 1.7070 | Train Acc: 38.08%\n"
     ]
    },
    {
     "name": "stderr",
     "output_type": "stream",
     "text": [
      "\n"
     ]
    },
    {
     "name": "stdout",
     "output_type": "stream",
     "text": [
      "Test  Loss: 1.4752 | Test Acc: 46.59%\n",
      "updated best eval loss : 1.4752099302750599\n",
      "--------------------------------------------------\n",
      "[Epoch 2/100] :\n"
     ]
    },
    {
     "name": "stderr",
     "output_type": "stream",
     "text": [
      "2 Train: 100%|███████| 391/391 [00:29<00:00, 13.45it/s]\n"
     ]
    },
    {
     "name": "stdout",
     "output_type": "stream",
     "text": [
      "Train Loss: 1.2705 | Train Acc: 54.80%\n",
      "Test  Loss: 1.2859 | Test Acc: 54.95%\n",
      "updated best eval loss : 1.2858763344680206\n",
      "--------------------------------------------------\n",
      "[Epoch 3/100] :\n"
     ]
    },
    {
     "name": "stderr",
     "output_type": "stream",
     "text": [
      "3 Train: 100%|███████| 391/391 [00:30<00:00, 12.70it/s]\n"
     ]
    },
    {
     "name": "stdout",
     "output_type": "stream",
     "text": [
      "Train Loss: 1.0773 | Train Acc: 61.99%\n",
      "Test  Loss: 1.0387 | Test Acc: 63.62%\n",
      "updated best eval loss : 1.0387116957314406\n",
      "--------------------------------------------------\n",
      "[Epoch 4/100] :\n"
     ]
    },
    {
     "name": "stderr",
     "output_type": "stream",
     "text": [
      "4 Train: 100%|███████| 391/391 [00:31<00:00, 12.45it/s]\n"
     ]
    },
    {
     "name": "stdout",
     "output_type": "stream",
     "text": [
      "Train Loss: 0.9696 | Train Acc: 66.39%\n",
      "Test  Loss: 1.2088 | Test Acc: 60.86%\n",
      "--------------------------------------------------\n",
      "[Epoch 5/100] :\n"
     ]
    },
    {
     "name": "stderr",
     "output_type": "stream",
     "text": [
      "5 Train: 100%|███████| 391/391 [00:30<00:00, 12.95it/s]\n"
     ]
    },
    {
     "name": "stdout",
     "output_type": "stream",
     "text": [
      "Train Loss: 0.8877 | Train Acc: 68.89%\n",
      "Test  Loss: 1.0045 | Test Acc: 66.66%\n",
      "updated best eval loss : 1.0045399137690096\n",
      "--------------------------------------------------\n",
      "[Epoch 6/100] :\n"
     ]
    },
    {
     "name": "stderr",
     "output_type": "stream",
     "text": [
      "6 Train: 100%|███████| 391/391 [00:29<00:00, 13.26it/s]\n"
     ]
    },
    {
     "name": "stdout",
     "output_type": "stream",
     "text": [
      "Train Loss: 0.8388 | Train Acc: 70.46%\n",
      "Test  Loss: 1.5567 | Test Acc: 55.66%\n",
      "--------------------------------------------------\n",
      "[Epoch 7/100] :\n"
     ]
    },
    {
     "name": "stderr",
     "output_type": "stream",
     "text": [
      "7 Train: 100%|███████| 391/391 [00:28<00:00, 13.60it/s]\n"
     ]
    },
    {
     "name": "stdout",
     "output_type": "stream",
     "text": [
      "Train Loss: 0.7946 | Train Acc: 72.24%\n",
      "Test  Loss: 0.7581 | Test Acc: 74.40%\n",
      "updated best eval loss : 0.7581109683724898\n",
      "--------------------------------------------------\n",
      "[Epoch 8/100] :\n"
     ]
    },
    {
     "name": "stderr",
     "output_type": "stream",
     "text": [
      "8 Train: 100%|███████| 391/391 [00:29<00:00, 13.45it/s]\n"
     ]
    },
    {
     "name": "stdout",
     "output_type": "stream",
     "text": [
      "Train Loss: 0.7579 | Train Acc: 73.59%\n",
      "Test  Loss: 1.1934 | Test Acc: 65.07%\n",
      "--------------------------------------------------\n",
      "[Epoch 9/100] :\n"
     ]
    },
    {
     "name": "stderr",
     "output_type": "stream",
     "text": [
      "9 Train: 100%|███████| 391/391 [00:32<00:00, 11.92it/s]\n"
     ]
    },
    {
     "name": "stdout",
     "output_type": "stream",
     "text": [
      "Train Loss: 0.7279 | Train Acc: 74.49%\n",
      "Test  Loss: 0.7311 | Test Acc: 75.40%\n",
      "updated best eval loss : 0.7311382516275479\n",
      "--------------------------------------------------\n",
      "[Epoch 10/100] :\n"
     ]
    },
    {
     "name": "stderr",
     "output_type": "stream",
     "text": [
      "10 Train: 100%|██████| 391/391 [00:35<00:00, 11.13it/s]\n"
     ]
    },
    {
     "name": "stdout",
     "output_type": "stream",
     "text": [
      "Train Loss: 0.7006 | Train Acc: 75.62%\n",
      "Test  Loss: 0.7830 | Test Acc: 73.36%\n",
      "--------------------------------------------------\n",
      "[Epoch 11/100] :\n"
     ]
    },
    {
     "name": "stderr",
     "output_type": "stream",
     "text": [
      "11 Train: 100%|██████| 391/391 [00:47<00:00,  8.20it/s]\n"
     ]
    },
    {
     "name": "stdout",
     "output_type": "stream",
     "text": [
      "Train Loss: 0.6741 | Train Acc: 76.50%\n",
      "Test  Loss: 0.6531 | Test Acc: 77.58%\n",
      "updated best eval loss : 0.6531210458731349\n",
      "--------------------------------------------------\n",
      "[Epoch 12/100] :\n"
     ]
    },
    {
     "name": "stderr",
     "output_type": "stream",
     "text": [
      "12 Train: 100%|██████| 391/391 [00:48<00:00,  8.11it/s]\n"
     ]
    },
    {
     "name": "stdout",
     "output_type": "stream",
     "text": [
      "Train Loss: 0.6546 | Train Acc: 77.31%\n",
      "Test  Loss: 0.7003 | Test Acc: 76.33%\n",
      "--------------------------------------------------\n",
      "[Epoch 13/100] :\n"
     ]
    },
    {
     "name": "stderr",
     "output_type": "stream",
     "text": [
      "13 Train: 100%|██████| 391/391 [00:35<00:00, 10.94it/s]\n"
     ]
    },
    {
     "name": "stdout",
     "output_type": "stream",
     "text": [
      "Train Loss: 0.6358 | Train Acc: 77.89%\n",
      "Test  Loss: 0.6799 | Test Acc: 77.30%\n",
      "--------------------------------------------------\n",
      "[Epoch 14/100] :\n"
     ]
    },
    {
     "name": "stderr",
     "output_type": "stream",
     "text": [
      "14 Train: 100%|██████| 391/391 [00:34<00:00, 11.42it/s]\n"
     ]
    },
    {
     "name": "stdout",
     "output_type": "stream",
     "text": [
      "Train Loss: 0.6148 | Train Acc: 78.70%\n",
      "Test  Loss: 0.5888 | Test Acc: 80.20%\n",
      "updated best eval loss : 0.5887619072123419\n",
      "--------------------------------------------------\n",
      "[Epoch 15/100] :\n"
     ]
    },
    {
     "name": "stderr",
     "output_type": "stream",
     "text": [
      "15 Train: 100%|██████| 391/391 [00:36<00:00, 10.64it/s]\n"
     ]
    },
    {
     "name": "stdout",
     "output_type": "stream",
     "text": [
      "Train Loss: 0.6030 | Train Acc: 79.04%\n",
      "Test  Loss: 0.6134 | Test Acc: 80.02%\n",
      "--------------------------------------------------\n",
      "[Epoch 16/100] :\n"
     ]
    },
    {
     "name": "stderr",
     "output_type": "stream",
     "text": [
      "16 Train: 100%|██████| 391/391 [00:34<00:00, 11.40it/s]\n"
     ]
    },
    {
     "name": "stdout",
     "output_type": "stream",
     "text": [
      "Train Loss: 0.5899 | Train Acc: 79.52%\n",
      "Test  Loss: 0.6693 | Test Acc: 77.96%\n",
      "--------------------------------------------------\n",
      "[Epoch 17/100] :\n"
     ]
    },
    {
     "name": "stderr",
     "output_type": "stream",
     "text": [
      "17 Train: 100%|██████| 391/391 [00:34<00:00, 11.35it/s]\n"
     ]
    },
    {
     "name": "stdout",
     "output_type": "stream",
     "text": [
      "Train Loss: 0.5741 | Train Acc: 79.92%\n",
      "Test  Loss: 0.5659 | Test Acc: 80.84%\n",
      "updated best eval loss : 0.565921508058717\n",
      "--------------------------------------------------\n",
      "[Epoch 18/100] :\n"
     ]
    },
    {
     "name": "stderr",
     "output_type": "stream",
     "text": [
      "18 Train: 100%|██████| 391/391 [00:33<00:00, 11.55it/s]\n"
     ]
    },
    {
     "name": "stdout",
     "output_type": "stream",
     "text": [
      "Train Loss: 0.5654 | Train Acc: 80.34%\n",
      "Test  Loss: 0.7289 | Test Acc: 76.23%\n",
      "--------------------------------------------------\n",
      "[Epoch 19/100] :\n"
     ]
    },
    {
     "name": "stderr",
     "output_type": "stream",
     "text": [
      "19 Train: 100%|██████| 391/391 [00:34<00:00, 11.20it/s]\n"
     ]
    },
    {
     "name": "stdout",
     "output_type": "stream",
     "text": [
      "Train Loss: 0.5468 | Train Acc: 80.92%\n",
      "Test  Loss: 0.7315 | Test Acc: 76.86%\n",
      "--------------------------------------------------\n",
      "[Epoch 20/100] :\n"
     ]
    },
    {
     "name": "stderr",
     "output_type": "stream",
     "text": [
      "20 Train: 100%|██████| 391/391 [00:33<00:00, 11.75it/s]\n"
     ]
    },
    {
     "name": "stdout",
     "output_type": "stream",
     "text": [
      "Train Loss: 0.5362 | Train Acc: 81.25%\n",
      "Test  Loss: 0.5701 | Test Acc: 80.52%\n",
      "--------------------------------------------------\n",
      "[Epoch 21/100] :\n"
     ]
    },
    {
     "name": "stderr",
     "output_type": "stream",
     "text": [
      "21 Train: 100%|██████| 391/391 [00:35<00:00, 10.94it/s]\n"
     ]
    },
    {
     "name": "stdout",
     "output_type": "stream",
     "text": [
      "Train Loss: 0.5214 | Train Acc: 81.69%\n",
      "Test  Loss: 0.4712 | Test Acc: 83.65%\n",
      "updated best eval loss : 0.4711995856671394\n",
      "--------------------------------------------------\n",
      "[Epoch 22/100] :\n"
     ]
    },
    {
     "name": "stderr",
     "output_type": "stream",
     "text": [
      "22 Train: 100%|██████| 391/391 [00:35<00:00, 11.06it/s]\n"
     ]
    },
    {
     "name": "stdout",
     "output_type": "stream",
     "text": [
      "Train Loss: 0.5194 | Train Acc: 82.08%\n",
      "Test  Loss: 0.5249 | Test Acc: 81.97%\n",
      "--------------------------------------------------\n",
      "[Epoch 23/100] :\n"
     ]
    },
    {
     "name": "stderr",
     "output_type": "stream",
     "text": [
      "23 Train: 100%|██████| 391/391 [00:45<00:00,  8.59it/s]\n"
     ]
    },
    {
     "name": "stdout",
     "output_type": "stream",
     "text": [
      "Train Loss: 0.5112 | Train Acc: 82.18%\n",
      "Test  Loss: 0.6468 | Test Acc: 78.33%\n",
      "--------------------------------------------------\n",
      "[Epoch 24/100] :\n"
     ]
    },
    {
     "name": "stderr",
     "output_type": "stream",
     "text": [
      "24 Train: 100%|██████| 391/391 [00:47<00:00,  8.29it/s]\n"
     ]
    },
    {
     "name": "stdout",
     "output_type": "stream",
     "text": [
      "Train Loss: 0.4985 | Train Acc: 82.67%\n",
      "Test  Loss: 0.5491 | Test Acc: 81.26%\n",
      "--------------------------------------------------\n",
      "[Epoch 25/100] :\n"
     ]
    },
    {
     "name": "stderr",
     "output_type": "stream",
     "text": [
      "25 Train: 100%|██████| 391/391 [00:47<00:00,  8.23it/s]\n"
     ]
    },
    {
     "name": "stdout",
     "output_type": "stream",
     "text": [
      "Train Loss: 0.4945 | Train Acc: 82.60%\n",
      "Test  Loss: 0.6422 | Test Acc: 78.35%\n",
      "--------------------------------------------------\n",
      "[Epoch 26/100] :\n"
     ]
    },
    {
     "name": "stderr",
     "output_type": "stream",
     "text": [
      "26 Train: 100%|██████| 391/391 [00:51<00:00,  7.66it/s]\n"
     ]
    },
    {
     "name": "stdout",
     "output_type": "stream",
     "text": [
      "Train Loss: 0.4860 | Train Acc: 82.90%\n",
      "Test  Loss: 0.5565 | Test Acc: 81.09%\n",
      "--------------------------------------------------\n",
      "[Epoch 27/100] :\n"
     ]
    },
    {
     "name": "stderr",
     "output_type": "stream",
     "text": [
      "27 Train: 100%|██████| 391/391 [00:49<00:00,  7.92it/s]\n"
     ]
    },
    {
     "name": "stdout",
     "output_type": "stream",
     "text": [
      "Train Loss: 0.4713 | Train Acc: 83.39%\n",
      "Test  Loss: 0.5519 | Test Acc: 81.04%\n",
      "--------------------------------------------------\n",
      "[Epoch 28/100] :\n"
     ]
    },
    {
     "name": "stderr",
     "output_type": "stream",
     "text": [
      "28 Train: 100%|██████| 391/391 [00:47<00:00,  8.28it/s]\n"
     ]
    },
    {
     "name": "stdout",
     "output_type": "stream",
     "text": [
      "Train Loss: 0.4693 | Train Acc: 83.62%\n",
      "Test  Loss: 0.6043 | Test Acc: 80.27%\n",
      "--------------------------------------------------\n",
      "[Epoch 29/100] :\n"
     ]
    },
    {
     "name": "stderr",
     "output_type": "stream",
     "text": [
      "29 Train: 100%|██████| 391/391 [00:50<00:00,  7.71it/s]\n"
     ]
    },
    {
     "name": "stdout",
     "output_type": "stream",
     "text": [
      "Train Loss: 0.4615 | Train Acc: 83.95%\n",
      "Test  Loss: 0.4539 | Test Acc: 84.43%\n",
      "updated best eval loss : 0.4539485464367685\n",
      "--------------------------------------------------\n",
      "[Epoch 30/100] :\n"
     ]
    },
    {
     "name": "stderr",
     "output_type": "stream",
     "text": [
      "30 Train: 100%|██████| 391/391 [00:46<00:00,  8.49it/s]\n"
     ]
    },
    {
     "name": "stdout",
     "output_type": "stream",
     "text": [
      "Train Loss: 0.4582 | Train Acc: 84.10%\n",
      "Test  Loss: 0.5955 | Test Acc: 79.32%\n",
      "--------------------------------------------------\n",
      "[Epoch 31/100] :\n"
     ]
    },
    {
     "name": "stderr",
     "output_type": "stream",
     "text": [
      "31 Train: 100%|██████| 391/391 [00:49<00:00,  7.83it/s]\n"
     ]
    },
    {
     "name": "stdout",
     "output_type": "stream",
     "text": [
      "Train Loss: 0.4500 | Train Acc: 84.27%\n",
      "Test  Loss: 0.4964 | Test Acc: 83.65%\n",
      "--------------------------------------------------\n",
      "[Epoch 32/100] :\n"
     ]
    },
    {
     "name": "stderr",
     "output_type": "stream",
     "text": [
      "32 Train: 100%|██████| 391/391 [00:47<00:00,  8.16it/s]\n"
     ]
    },
    {
     "name": "stdout",
     "output_type": "stream",
     "text": [
      "Train Loss: 0.4428 | Train Acc: 84.57%\n",
      "Test  Loss: 0.4753 | Test Acc: 84.10%\n",
      "--------------------------------------------------\n",
      "[Epoch 33/100] :\n"
     ]
    },
    {
     "name": "stderr",
     "output_type": "stream",
     "text": [
      "33 Train: 100%|██████| 391/391 [00:49<00:00,  7.89it/s]\n"
     ]
    },
    {
     "name": "stdout",
     "output_type": "stream",
     "text": [
      "Train Loss: 0.4365 | Train Acc: 84.81%\n",
      "Test  Loss: 0.4769 | Test Acc: 84.45%\n",
      "--------------------------------------------------\n",
      "[Epoch 34/100] :\n"
     ]
    },
    {
     "name": "stderr",
     "output_type": "stream",
     "text": [
      "34 Train:  68%|████  | 264/391 [00:32<00:13,  9.16it/s]"
     ]
    }
   ],
   "source": [
    "Training = DoTraining(\n",
    "    model=model,\n",
    "    criterion=criterion,\n",
    "    optimizer=optimizer,\n",
    "    scaler=scaler,\n",
    "    scheduler=scheduler,\n",
    "    earlystopper=earlystopper,\n",
    "    device=device,\n",
    "    logs=logs,\n",
    "    file_path=file_name,\n",
    ")\n",
    "pre_epochs = len(Training.logs[\"train_loss\"])\n",
    "\n",
    "for epoch in range(NUM_EPOCHS):\n",
    "    now = epoch + 1 + pre_epochs\n",
    "    print(f\"[Epoch {epoch+1+pre_epochs}/{NUM_EPOCHS}] :\")\n",
    "\n",
    "    if DATASET == \"ImageNet2012\":\n",
    "        eval_loss = Training.SingleEpoch(train_dataloader, valid_dataloader)\n",
    "    else:\n",
    "        eval_loss = Training.SingleEpoch(\n",
    "            train_dataloader, valid_dataloader, test_dataloader\n",
    "        )\n",
    "\n",
    "    Training.Save()\n",
    "\n",
    "    \n",
    "    \n",
    "    if earlystopper.check(eval_loss) == True:\n",
    "        break\n",
    "\n",
    "    print(\"-\" * 50)"
   ]
  },
  {
   "cell_type": "code",
   "execution_count": null,
   "metadata": {},
   "outputs": [],
   "source": [
    "view = LogViewer(logs)\n",
    "view.draw(save_name=file_name)"
   ]
  },
  {
   "cell_type": "code",
   "execution_count": null,
   "metadata": {},
   "outputs": [],
   "source": [
    "view.print_all()"
   ]
  }
 ],
 "metadata": {
  "kernelspec": {
   "display_name": "base",
   "language": "python",
   "name": "python3"
  },
  "language_info": {
   "codemirror_mode": {
    "name": "ipython",
    "version": 3
   },
   "file_extension": ".py",
   "mimetype": "text/x-python",
   "name": "python",
   "nbconvert_exporter": "python",
   "pygments_lexer": "ipython3",
   "version": "3.11.5"
  }
 },
 "nbformat": 4,
 "nbformat_minor": 2
}
