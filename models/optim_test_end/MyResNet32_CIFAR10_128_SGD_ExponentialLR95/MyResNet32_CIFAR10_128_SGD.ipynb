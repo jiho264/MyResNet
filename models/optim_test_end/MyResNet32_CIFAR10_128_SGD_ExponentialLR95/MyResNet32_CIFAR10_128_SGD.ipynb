{
 "cells": [
  {
   "cell_type": "markdown",
   "metadata": {},
   "source": [
    "# Import"
   ]
  },
  {
   "cell_type": "code",
   "execution_count": 1,
   "metadata": {},
   "outputs": [],
   "source": [
    "import torch\n",
    "from torch import nn\n",
    "from torch.optim.lr_scheduler import ExponentialLR\n",
    "import sys, os\n",
    "\n",
    "sys.path.append(os.path.dirname(os.path.abspath(os.path.dirname(\"src\"))))\n",
    "\n",
    "from src.Mydataloader import LoadDataset\n",
    "from src.Mymodel import MyResNet_CIFAR\n",
    "from src.Mytraining import DoTraining\n",
    "from src.Earlystopper import EarlyStopper\n",
    "from src.LogViewer import LogViewer"
   ]
  },
  {
   "cell_type": "markdown",
   "metadata": {},
   "source": [
    "# Setup"
   ]
  },
  {
   "cell_type": "code",
   "execution_count": 2,
   "metadata": {},
   "outputs": [],
   "source": [
    "\"\"\"Dataset selection\"\"\"\n",
    "DATASET = \"CIFAR10\"\n",
    "# DATASET = \"CIFAR100\"\n",
    "# DATASET = \"ImageNet2012\"\n",
    "\n",
    "\"\"\"Dataset parameters\"\"\"\n",
    "BATCH = 128\n",
    "SHUFFLE = True\n",
    "NUMOFWORKERS = 8\n",
    "PIN_MEMORY = True\n",
    "\n",
    "\"\"\"optimizer parameters\"\"\"\n",
    "# OPTIMIZER = \"Adam\"\n",
    "# OPTIMIZER = \"Adam_decay\"\n",
    "OPTIMIZER = \"SGD\"\n",
    "# OPTIMIZER = \"SGD_nasterov\"\n",
    "# OPTIMIZER = \"AdamW\"\n",
    "# OPTIMIZER = \"AdamW_amsgrad\"\n",
    "# OPTIMIZER = \"NAdam\"\n",
    "\n",
    "\"\"\"Learning rate scheduler parameters\"\"\"\n",
    "NUM_EPOCHS = 100\n",
    "\n",
    "\"\"\"Early stopping parameters\"\"\"\n",
    "EARLYSTOPPINGPATIENCE = 100\n",
    "\n",
    "file_name = f\"MyResNet32_{BATCH}_{OPTIMIZER}\""
   ]
  },
  {
   "cell_type": "code",
   "execution_count": 3,
   "metadata": {},
   "outputs": [
    {
     "data": {
      "text/plain": [
       "'MyResNet32_128_SGD'"
      ]
     },
     "execution_count": 3,
     "metadata": {},
     "output_type": "execute_result"
    }
   ],
   "source": [
    "file_name"
   ]
  },
  {
   "cell_type": "markdown",
   "metadata": {},
   "source": [
    "# Loading the dataset"
   ]
  },
  {
   "cell_type": "markdown",
   "metadata": {},
   "source": [
    "## Define Dateloader"
   ]
  },
  {
   "cell_type": "code",
   "execution_count": 4,
   "metadata": {},
   "outputs": [
    {
     "name": "stderr",
     "output_type": "stream",
     "text": [
      "/home/lee/anaconda3/lib/python3.11/site-packages/torchvision/transforms/v2/_deprecated.py:43: UserWarning: The transform `ToTensor()` is deprecated and will be removed in a future release. Instead, please use `v2.Compose([v2.ToImage(), v2.ToDtype(torch.float32, scale=True)])`.\n",
      "  warnings.warn(\n"
     ]
    },
    {
     "name": "stdout",
     "output_type": "stream",
     "text": [
      "-----------------------------------------------------------------------\n",
      "Dataset :  CIFAR10\n",
      "- Length of Train Set :  50000\n",
      "- Length of Test Set :  10000\n",
      "- Count of Classes :  10\n",
      "-----------------------------------------------------------------------\n"
     ]
    }
   ],
   "source": [
    "tmp = LoadDataset(root=\"../../../data\", seceted_dataset=DATASET)\n",
    "train_data, valid_data, test_data, COUNT_OF_CLASSES = tmp.Unpack()"
   ]
  },
  {
   "cell_type": "code",
   "execution_count": 5,
   "metadata": {},
   "outputs": [
    {
     "name": "stdout",
     "output_type": "stream",
     "text": [
      "train.transforms = Compose(\n",
      "      AutoAugment(interpolation=InterpolationMode.NEAREST, policy=AutoAugmentPolicy.CIFAR10)\n",
      "      RandomCrop(size=(32, 32), padding=[4, 4, 4, 4], pad_if_needed=False, fill=0, padding_mode=constant)\n",
      "      RandomHorizontalFlip(p=0.5)\n",
      "      ToTensor()\n",
      "      Normalize(mean=[0.49139968, 0.48215827, 0.44653124], std=[1, 1, 1], inplace=True)\n",
      ") 128\n",
      "test.transforms = ToTensor() 128\n"
     ]
    }
   ],
   "source": [
    "train_dataloader, valid_dataloader, test_dataloader = tmp.get_dataloader(\n",
    "    batch_size=BATCH, shuffle=SHUFFLE, num_workers=NUMOFWORKERS, pin_memory=PIN_MEMORY\n",
    ")"
   ]
  },
  {
   "cell_type": "markdown",
   "metadata": {},
   "source": [
    "# Define ResNet"
   ]
  },
  {
   "cell_type": "markdown",
   "metadata": {},
   "source": [
    "## Model Confirm"
   ]
  },
  {
   "cell_type": "code",
   "execution_count": 6,
   "metadata": {},
   "outputs": [
    {
     "data": {
      "text/plain": [
       "device(type='cuda')"
      ]
     },
     "execution_count": 6,
     "metadata": {},
     "output_type": "execute_result"
    }
   ],
   "source": [
    "device = torch.device(\"cuda\" if torch.cuda.is_available() else \"cpu\")\n",
    "device"
   ]
  },
  {
   "cell_type": "code",
   "execution_count": 7,
   "metadata": {},
   "outputs": [],
   "source": [
    "model = MyResNet_CIFAR(num_classes=COUNT_OF_CLASSES, num_layer_factor=5).to(device)"
   ]
  },
  {
   "cell_type": "markdown",
   "metadata": {},
   "source": [
    "# Define Training"
   ]
  },
  {
   "cell_type": "markdown",
   "metadata": {},
   "source": [
    "## (1) Define Criterion"
   ]
  },
  {
   "cell_type": "code",
   "execution_count": 8,
   "metadata": {},
   "outputs": [],
   "source": [
    "criterion = nn.CrossEntropyLoss()"
   ]
  },
  {
   "cell_type": "markdown",
   "metadata": {},
   "source": [
    "## (2) Define Optimazer"
   ]
  },
  {
   "cell_type": "code",
   "execution_count": 9,
   "metadata": {},
   "outputs": [],
   "source": [
    "if OPTIMIZER == \"Adam\":\n",
    "    optimizer = torch.optim.Adam(model.parameters())\n",
    "elif OPTIMIZER == \"Adam_decay\":\n",
    "    optimizer = torch.optim.Adam(model.parameters(), weight_decay=1e-4)\n",
    "elif OPTIMIZER == \"SGD\":\n",
    "    optimizer = torch.optim.SGD(\n",
    "        model.parameters(), lr=0.1, momentum=0.9, weight_decay=1e-4\n",
    "    )\n",
    "elif OPTIMIZER == \"SGD_nasterov\":\n",
    "    optimizer = torch.optim.SGD(\n",
    "        model.parameters(), lr=0.1, momentum=0.9, weight_decay=1e-4, nesterov=True\n",
    "    )\n",
    "elif OPTIMIZER == \"AdamW\":\n",
    "    optimizer = torch.optim.AdamW(model.parameters(), weight_decay=1e-4)\n",
    "elif OPTIMIZER == \"AdamW_amsgrad\":\n",
    "    optimizer = torch.optim.AdamW(model.parameters(), weight_decay=1e-4, amsgrad=True)\n",
    "elif OPTIMIZER == \"NAdam\":\n",
    "    optimizer = torch.optim.NAdam(model.parameters(), weight_decay=1e-4)"
   ]
  },
  {
   "cell_type": "markdown",
   "metadata": {},
   "source": [
    "## (3) Define Early Stopping"
   ]
  },
  {
   "cell_type": "code",
   "execution_count": 10,
   "metadata": {},
   "outputs": [],
   "source": [
    "earlystopper = EarlyStopper(patience=EARLYSTOPPINGPATIENCE, model=model, file_name=file_name)"
   ]
  },
  {
   "cell_type": "markdown",
   "metadata": {},
   "source": [
    "## (4) Define Learning Rate schedualer"
   ]
  },
  {
   "cell_type": "code",
   "execution_count": 11,
   "metadata": {},
   "outputs": [],
   "source": [
    "scheduler = ExponentialLR(optimizer, gamma=0.95)"
   ]
  },
  {
   "cell_type": "markdown",
   "metadata": {},
   "source": [
    "## (5) Define AMP scaler"
   ]
  },
  {
   "cell_type": "code",
   "execution_count": 12,
   "metadata": {},
   "outputs": [],
   "source": [
    "scaler = torch.cuda.amp.GradScaler(enabled=True)"
   ]
  },
  {
   "cell_type": "markdown",
   "metadata": {},
   "source": [
    "## Load before process"
   ]
  },
  {
   "cell_type": "code",
   "execution_count": 13,
   "metadata": {},
   "outputs": [
    {
     "name": "stdout",
     "output_type": "stream",
     "text": [
      "File does not exist. Created a new log.\n"
     ]
    }
   ],
   "source": [
    "if os.path.exists(file_name + \".pth.tar\"):\n",
    "    # Read checkpoint as desired, e.g.,\n",
    "    checkpoint = torch.load(\n",
    "        file_name + \".pth.tar\",\n",
    "        map_location=lambda storage, loc: storage.cuda(device),\n",
    "    )\n",
    "    model.load_state_dict(checkpoint[\"model\"])\n",
    "    optimizer.load_state_dict(checkpoint[\"optimizer\"])\n",
    "    scaler.load_state_dict(checkpoint[\"scaler\"])\n",
    "    scheduler.load_state_dict(checkpoint[\"scheduler\"])\n",
    "    earlystopper.load_state_dict(checkpoint[\"earlystopper\"])\n",
    "    logs = checkpoint[\"logs\"]\n",
    "\n",
    "    print(\"Suceessfully loaded the All setting and Log file.\")\n",
    "    print(file_name)\n",
    "    print(f\"Current epoch is {len(logs['train_loss'])}\")\n",
    "    print(f\"Current learning rate: {optimizer.param_groups[0]['lr']}\")\n",
    "else:\n",
    "    # Create a dictionary to store the variables\n",
    "    train_loss = []\n",
    "    train_acc = []\n",
    "    eval_loss = []\n",
    "    valid_acc = []\n",
    "    test_loss = []\n",
    "    test_acc = []\n",
    "    lr_log = []\n",
    "    logs = {\n",
    "        \"train_loss\": train_loss,\n",
    "        \"train_acc\": train_acc,\n",
    "        \"valid_loss\": eval_loss,\n",
    "        \"valid_acc\": valid_acc,\n",
    "        \"test_loss\": test_loss,\n",
    "        \"test_acc\": test_acc,\n",
    "        \"lr_log\": lr_log,\n",
    "    }\n",
    "    print(\"File does not exist. Created a new log.\")"
   ]
  },
  {
   "cell_type": "code",
   "execution_count": 14,
   "metadata": {},
   "outputs": [
    {
     "data": {
      "text/plain": [
       "0.1"
      ]
     },
     "execution_count": 14,
     "metadata": {},
     "output_type": "execute_result"
    }
   ],
   "source": [
    "optimizer.param_groups[0][\"lr\"]"
   ]
  },
  {
   "cell_type": "code",
   "execution_count": 15,
   "metadata": {},
   "outputs": [
    {
     "data": {
      "text/plain": [
       "0"
      ]
     },
     "execution_count": 15,
     "metadata": {},
     "output_type": "execute_result"
    }
   ],
   "source": [
    "earlystopper.early_stop_counter"
   ]
  },
  {
   "cell_type": "markdown",
   "metadata": {},
   "source": [
    "# [Training Loop]"
   ]
  },
  {
   "cell_type": "code",
   "execution_count": 16,
   "metadata": {},
   "outputs": [
    {
     "name": "stdout",
     "output_type": "stream",
     "text": [
      "[Epoch 1/100] :\n"
     ]
    },
    {
     "name": "stderr",
     "output_type": "stream",
     "text": [
      "1 Train: 100%|███████| 391/391 [00:35<00:00, 11.01it/s]"
     ]
    },
    {
     "name": "stdout",
     "output_type": "stream",
     "text": [
      "Train Loss: 2.4385 | Train Acc: 10.33%\n"
     ]
    },
    {
     "name": "stderr",
     "output_type": "stream",
     "text": [
      "\n"
     ]
    },
    {
     "name": "stdout",
     "output_type": "stream",
     "text": [
      "Test  Loss: 2.2999 | Test Acc: 10.65%\n",
      "updated best eval loss : 2.29991955696782\n",
      "--------------------------------------------------\n",
      "[Epoch 2/100] :\n"
     ]
    },
    {
     "name": "stderr",
     "output_type": "stream",
     "text": [
      "2 Train: 100%|███████| 391/391 [00:30<00:00, 13.02it/s]\n"
     ]
    },
    {
     "name": "stdout",
     "output_type": "stream",
     "text": [
      "Train Loss: 2.2826 | Train Acc: 11.88%\n",
      "Test  Loss: 2.3711 | Test Acc: 12.05%\n",
      "--------------------------------------------------\n",
      "[Epoch 3/100] :\n"
     ]
    },
    {
     "name": "stderr",
     "output_type": "stream",
     "text": [
      "3 Train: 100%|███████| 391/391 [00:27<00:00, 14.07it/s]\n"
     ]
    },
    {
     "name": "stdout",
     "output_type": "stream",
     "text": [
      "Train Loss: 2.0645 | Train Acc: 21.78%\n",
      "Test  Loss: 1.9125 | Test Acc: 27.42%\n",
      "updated best eval loss : 1.9124599604666987\n",
      "--------------------------------------------------\n",
      "[Epoch 4/100] :\n"
     ]
    },
    {
     "name": "stderr",
     "output_type": "stream",
     "text": [
      "4 Train: 100%|███████| 391/391 [00:27<00:00, 14.01it/s]\n"
     ]
    },
    {
     "name": "stdout",
     "output_type": "stream",
     "text": [
      "Train Loss: 1.7676 | Train Acc: 34.56%\n",
      "Test  Loss: 2.3067 | Test Acc: 26.66%\n",
      "--------------------------------------------------\n",
      "[Epoch 5/100] :\n"
     ]
    },
    {
     "name": "stderr",
     "output_type": "stream",
     "text": [
      "5 Train: 100%|███████| 391/391 [00:30<00:00, 12.79it/s]\n"
     ]
    },
    {
     "name": "stdout",
     "output_type": "stream",
     "text": [
      "Train Loss: 1.4857 | Train Acc: 46.54%\n",
      "Test  Loss: 1.3883 | Test Acc: 49.22%\n",
      "updated best eval loss : 1.3883048959925204\n",
      "--------------------------------------------------\n",
      "[Epoch 6/100] :\n"
     ]
    },
    {
     "name": "stderr",
     "output_type": "stream",
     "text": [
      "6 Train: 100%|███████| 391/391 [00:28<00:00, 13.53it/s]\n"
     ]
    },
    {
     "name": "stdout",
     "output_type": "stream",
     "text": [
      "Train Loss: 1.2398 | Train Acc: 55.84%\n",
      "Test  Loss: 1.1620 | Test Acc: 59.64%\n",
      "updated best eval loss : 1.162045938304708\n",
      "--------------------------------------------------\n",
      "[Epoch 7/100] :\n"
     ]
    },
    {
     "name": "stderr",
     "output_type": "stream",
     "text": [
      "7 Train: 100%|███████| 391/391 [00:29<00:00, 13.35it/s]\n"
     ]
    },
    {
     "name": "stdout",
     "output_type": "stream",
     "text": [
      "Train Loss: 1.0727 | Train Acc: 61.92%\n",
      "Test  Loss: 1.2486 | Test Acc: 57.78%\n",
      "--------------------------------------------------\n",
      "[Epoch 8/100] :\n"
     ]
    },
    {
     "name": "stderr",
     "output_type": "stream",
     "text": [
      "8 Train: 100%|███████| 391/391 [00:29<00:00, 13.05it/s]\n"
     ]
    },
    {
     "name": "stdout",
     "output_type": "stream",
     "text": [
      "Train Loss: 0.9693 | Train Acc: 65.88%\n",
      "Test  Loss: 0.8901 | Test Acc: 68.92%\n",
      "updated best eval loss : 0.8901330496691451\n",
      "--------------------------------------------------\n",
      "[Epoch 9/100] :\n"
     ]
    },
    {
     "name": "stderr",
     "output_type": "stream",
     "text": [
      "9 Train: 100%|███████| 391/391 [00:32<00:00, 12.15it/s]\n"
     ]
    },
    {
     "name": "stdout",
     "output_type": "stream",
     "text": [
      "Train Loss: 0.8951 | Train Acc: 68.67%\n",
      "Test  Loss: 1.0430 | Test Acc: 64.52%\n",
      "--------------------------------------------------\n",
      "[Epoch 10/100] :\n"
     ]
    },
    {
     "name": "stderr",
     "output_type": "stream",
     "text": [
      "10 Train: 100%|██████| 391/391 [00:43<00:00,  9.04it/s]\n"
     ]
    },
    {
     "name": "stdout",
     "output_type": "stream",
     "text": [
      "Train Loss: 0.8366 | Train Acc: 70.95%\n",
      "Test  Loss: 0.8068 | Test Acc: 72.66%\n",
      "updated best eval loss : 0.8067566646805292\n",
      "--------------------------------------------------\n",
      "[Epoch 11/100] :\n"
     ]
    },
    {
     "name": "stderr",
     "output_type": "stream",
     "text": [
      "11 Train: 100%|██████| 391/391 [00:47<00:00,  8.19it/s]\n"
     ]
    },
    {
     "name": "stdout",
     "output_type": "stream",
     "text": [
      "Train Loss: 0.7913 | Train Acc: 72.59%\n",
      "Test  Loss: 0.8675 | Test Acc: 71.11%\n",
      "--------------------------------------------------\n",
      "[Epoch 12/100] :\n"
     ]
    },
    {
     "name": "stderr",
     "output_type": "stream",
     "text": [
      "12 Train: 100%|██████| 391/391 [00:37<00:00, 10.31it/s]\n"
     ]
    },
    {
     "name": "stdout",
     "output_type": "stream",
     "text": [
      "Train Loss: 0.7553 | Train Acc: 73.76%\n",
      "Test  Loss: 0.9393 | Test Acc: 69.04%\n",
      "--------------------------------------------------\n",
      "[Epoch 13/100] :\n"
     ]
    },
    {
     "name": "stderr",
     "output_type": "stream",
     "text": [
      "13 Train: 100%|██████| 391/391 [00:34<00:00, 11.33it/s]\n"
     ]
    },
    {
     "name": "stdout",
     "output_type": "stream",
     "text": [
      "Train Loss: 0.7223 | Train Acc: 74.81%\n",
      "Test  Loss: 0.8171 | Test Acc: 72.46%\n",
      "--------------------------------------------------\n",
      "[Epoch 14/100] :\n"
     ]
    },
    {
     "name": "stderr",
     "output_type": "stream",
     "text": [
      "14 Train: 100%|██████| 391/391 [00:33<00:00, 11.69it/s]\n"
     ]
    },
    {
     "name": "stdout",
     "output_type": "stream",
     "text": [
      "Train Loss: 0.7079 | Train Acc: 75.44%\n",
      "Test  Loss: 0.7679 | Test Acc: 74.24%\n",
      "updated best eval loss : 0.767948439981364\n",
      "--------------------------------------------------\n",
      "[Epoch 15/100] :\n"
     ]
    },
    {
     "name": "stderr",
     "output_type": "stream",
     "text": [
      "15 Train: 100%|██████| 391/391 [00:33<00:00, 11.63it/s]\n"
     ]
    },
    {
     "name": "stdout",
     "output_type": "stream",
     "text": [
      "Train Loss: 0.6811 | Train Acc: 76.22%\n",
      "Test  Loss: 0.9673 | Test Acc: 68.46%\n",
      "--------------------------------------------------\n",
      "[Epoch 16/100] :\n"
     ]
    },
    {
     "name": "stderr",
     "output_type": "stream",
     "text": [
      "16 Train: 100%|██████| 391/391 [00:33<00:00, 11.62it/s]\n"
     ]
    },
    {
     "name": "stdout",
     "output_type": "stream",
     "text": [
      "Train Loss: 0.6587 | Train Acc: 77.14%\n",
      "Test  Loss: 0.6471 | Test Acc: 78.48%\n",
      "updated best eval loss : 0.6470602426347853\n",
      "--------------------------------------------------\n",
      "[Epoch 17/100] :\n"
     ]
    },
    {
     "name": "stderr",
     "output_type": "stream",
     "text": [
      "17 Train: 100%|██████| 391/391 [00:33<00:00, 11.51it/s]\n"
     ]
    },
    {
     "name": "stdout",
     "output_type": "stream",
     "text": [
      "Train Loss: 0.6427 | Train Acc: 77.70%\n",
      "Test  Loss: 0.7345 | Test Acc: 75.97%\n",
      "--------------------------------------------------\n",
      "[Epoch 18/100] :\n"
     ]
    },
    {
     "name": "stderr",
     "output_type": "stream",
     "text": [
      "18 Train: 100%|██████| 391/391 [00:34<00:00, 11.32it/s]\n"
     ]
    },
    {
     "name": "stdout",
     "output_type": "stream",
     "text": [
      "Train Loss: 0.6333 | Train Acc: 77.84%\n",
      "Test  Loss: 0.6485 | Test Acc: 77.69%\n",
      "--------------------------------------------------\n",
      "[Epoch 19/100] :\n"
     ]
    },
    {
     "name": "stderr",
     "output_type": "stream",
     "text": [
      "19 Train: 100%|██████| 391/391 [00:32<00:00, 11.96it/s]\n"
     ]
    },
    {
     "name": "stdout",
     "output_type": "stream",
     "text": [
      "Train Loss: 0.6211 | Train Acc: 78.43%\n",
      "Test  Loss: 0.6480 | Test Acc: 78.91%\n",
      "--------------------------------------------------\n",
      "[Epoch 20/100] :\n"
     ]
    },
    {
     "name": "stderr",
     "output_type": "stream",
     "text": [
      "20 Train: 100%|██████| 391/391 [00:33<00:00, 11.64it/s]\n"
     ]
    },
    {
     "name": "stdout",
     "output_type": "stream",
     "text": [
      "Train Loss: 0.6108 | Train Acc: 78.75%\n",
      "Test  Loss: 0.8449 | Test Acc: 73.01%\n",
      "--------------------------------------------------\n",
      "[Epoch 21/100] :\n"
     ]
    },
    {
     "name": "stderr",
     "output_type": "stream",
     "text": [
      "21 Train: 100%|██████| 391/391 [00:33<00:00, 11.56it/s]\n"
     ]
    },
    {
     "name": "stdout",
     "output_type": "stream",
     "text": [
      "Train Loss: 0.5970 | Train Acc: 79.31%\n",
      "Test  Loss: 0.6307 | Test Acc: 78.35%\n",
      "updated best eval loss : 0.6306547322605229\n",
      "--------------------------------------------------\n",
      "[Epoch 22/100] :\n"
     ]
    },
    {
     "name": "stderr",
     "output_type": "stream",
     "text": [
      "22 Train: 100%|██████| 391/391 [00:36<00:00, 10.69it/s]\n"
     ]
    },
    {
     "name": "stdout",
     "output_type": "stream",
     "text": [
      "Train Loss: 0.5781 | Train Acc: 79.93%\n",
      "Test  Loss: 0.6656 | Test Acc: 77.03%\n",
      "--------------------------------------------------\n",
      "[Epoch 23/100] :\n"
     ]
    },
    {
     "name": "stderr",
     "output_type": "stream",
     "text": [
      "23 Train: 100%|██████| 391/391 [00:47<00:00,  8.31it/s]\n"
     ]
    },
    {
     "name": "stdout",
     "output_type": "stream",
     "text": [
      "Train Loss: 0.5746 | Train Acc: 79.93%\n",
      "Test  Loss: 0.7198 | Test Acc: 75.24%\n",
      "--------------------------------------------------\n",
      "[Epoch 24/100] :\n"
     ]
    },
    {
     "name": "stderr",
     "output_type": "stream",
     "text": [
      "24 Train: 100%|██████| 391/391 [00:44<00:00,  8.71it/s]\n"
     ]
    },
    {
     "name": "stdout",
     "output_type": "stream",
     "text": [
      "Train Loss: 0.5721 | Train Acc: 80.07%\n",
      "Test  Loss: 0.7588 | Test Acc: 74.60%\n",
      "--------------------------------------------------\n",
      "[Epoch 25/100] :\n"
     ]
    },
    {
     "name": "stderr",
     "output_type": "stream",
     "text": [
      "25 Train: 100%|██████| 391/391 [00:48<00:00,  8.10it/s]\n"
     ]
    },
    {
     "name": "stdout",
     "output_type": "stream",
     "text": [
      "Train Loss: 0.5633 | Train Acc: 80.45%\n",
      "Test  Loss: 0.7870 | Test Acc: 75.40%\n",
      "--------------------------------------------------\n",
      "[Epoch 26/100] :\n"
     ]
    },
    {
     "name": "stderr",
     "output_type": "stream",
     "text": [
      "26 Train: 100%|██████| 391/391 [00:46<00:00,  8.37it/s]\n"
     ]
    },
    {
     "name": "stdout",
     "output_type": "stream",
     "text": [
      "Train Loss: 0.5519 | Train Acc: 80.92%\n",
      "Test  Loss: 0.7323 | Test Acc: 76.25%\n",
      "--------------------------------------------------\n",
      "[Epoch 27/100] :\n"
     ]
    },
    {
     "name": "stderr",
     "output_type": "stream",
     "text": [
      "27 Train: 100%|██████| 391/391 [00:48<00:00,  8.05it/s]\n"
     ]
    },
    {
     "name": "stdout",
     "output_type": "stream",
     "text": [
      "Train Loss: 0.5462 | Train Acc: 80.96%\n",
      "Test  Loss: 0.7061 | Test Acc: 75.88%\n",
      "--------------------------------------------------\n",
      "[Epoch 28/100] :\n"
     ]
    },
    {
     "name": "stderr",
     "output_type": "stream",
     "text": [
      "28 Train: 100%|██████| 391/391 [00:46<00:00,  8.39it/s]\n"
     ]
    },
    {
     "name": "stdout",
     "output_type": "stream",
     "text": [
      "Train Loss: 0.5440 | Train Acc: 81.16%\n",
      "Test  Loss: 0.7973 | Test Acc: 74.07%\n",
      "--------------------------------------------------\n",
      "[Epoch 29/100] :\n"
     ]
    },
    {
     "name": "stderr",
     "output_type": "stream",
     "text": [
      "29 Train: 100%|██████| 391/391 [00:47<00:00,  8.19it/s]\n"
     ]
    },
    {
     "name": "stdout",
     "output_type": "stream",
     "text": [
      "Train Loss: 0.5315 | Train Acc: 81.56%\n",
      "Test  Loss: 0.6475 | Test Acc: 78.97%\n",
      "--------------------------------------------------\n",
      "[Epoch 30/100] :\n"
     ]
    },
    {
     "name": "stderr",
     "output_type": "stream",
     "text": [
      "30 Train: 100%|██████| 391/391 [00:47<00:00,  8.26it/s]\n"
     ]
    },
    {
     "name": "stdout",
     "output_type": "stream",
     "text": [
      "Train Loss: 0.5268 | Train Acc: 81.77%\n",
      "Test  Loss: 0.8078 | Test Acc: 73.76%\n",
      "--------------------------------------------------\n",
      "[Epoch 31/100] :\n"
     ]
    },
    {
     "name": "stderr",
     "output_type": "stream",
     "text": [
      "31 Train: 100%|██████| 391/391 [00:46<00:00,  8.40it/s]\n"
     ]
    },
    {
     "name": "stdout",
     "output_type": "stream",
     "text": [
      "Train Loss: 0.5221 | Train Acc: 81.84%\n",
      "Test  Loss: 0.6839 | Test Acc: 76.91%\n",
      "--------------------------------------------------\n",
      "[Epoch 32/100] :\n"
     ]
    },
    {
     "name": "stderr",
     "output_type": "stream",
     "text": [
      "32 Train: 100%|██████| 391/391 [00:46<00:00,  8.42it/s]\n"
     ]
    },
    {
     "name": "stdout",
     "output_type": "stream",
     "text": [
      "Train Loss: 0.5148 | Train Acc: 82.30%\n",
      "Test  Loss: 0.6296 | Test Acc: 78.29%\n",
      "updated best eval loss : 0.6295605282994765\n",
      "--------------------------------------------------\n",
      "[Epoch 33/100] :\n"
     ]
    },
    {
     "name": "stderr",
     "output_type": "stream",
     "text": [
      "33 Train: 100%|██████| 391/391 [00:48<00:00,  8.07it/s]\n"
     ]
    },
    {
     "name": "stdout",
     "output_type": "stream",
     "text": [
      "Train Loss: 0.5117 | Train Acc: 82.28%\n",
      "Test  Loss: 0.6601 | Test Acc: 78.08%\n",
      "--------------------------------------------------\n",
      "[Epoch 34/100] :\n"
     ]
    },
    {
     "name": "stderr",
     "output_type": "stream",
     "text": [
      "34 Train: 100%|██████| 391/391 [00:45<00:00,  8.55it/s]\n"
     ]
    },
    {
     "name": "stdout",
     "output_type": "stream",
     "text": [
      "Train Loss: 0.5023 | Train Acc: 82.53%\n",
      "Test  Loss: 0.8049 | Test Acc: 73.98%\n",
      "--------------------------------------------------\n",
      "[Epoch 35/100] :\n"
     ]
    },
    {
     "name": "stderr",
     "output_type": "stream",
     "text": [
      "35 Train: 100%|██████| 391/391 [00:48<00:00,  8.06it/s]\n"
     ]
    },
    {
     "name": "stdout",
     "output_type": "stream",
     "text": [
      "Train Loss: 0.5007 | Train Acc: 82.54%\n",
      "Test  Loss: 0.6773 | Test Acc: 77.85%\n",
      "--------------------------------------------------\n",
      "[Epoch 36/100] :\n"
     ]
    },
    {
     "name": "stderr",
     "output_type": "stream",
     "text": [
      "36 Train: 100%|██████| 391/391 [00:45<00:00,  8.52it/s]\n"
     ]
    },
    {
     "name": "stdout",
     "output_type": "stream",
     "text": [
      "Train Loss: 0.4968 | Train Acc: 82.86%\n",
      "Test  Loss: 0.6657 | Test Acc: 78.53%\n",
      "--------------------------------------------------\n",
      "[Epoch 37/100] :\n"
     ]
    },
    {
     "name": "stderr",
     "output_type": "stream",
     "text": [
      "37 Train: 100%|██████| 391/391 [00:46<00:00,  8.39it/s]\n"
     ]
    },
    {
     "name": "stdout",
     "output_type": "stream",
     "text": [
      "Train Loss: 0.4918 | Train Acc: 82.90%\n",
      "Test  Loss: 0.5965 | Test Acc: 80.02%\n",
      "updated best eval loss : 0.5965393155435973\n",
      "--------------------------------------------------\n",
      "[Epoch 38/100] :\n"
     ]
    },
    {
     "name": "stderr",
     "output_type": "stream",
     "text": [
      "38 Train: 100%|██████| 391/391 [00:45<00:00,  8.59it/s]\n"
     ]
    },
    {
     "name": "stdout",
     "output_type": "stream",
     "text": [
      "Train Loss: 0.4882 | Train Acc: 83.20%\n",
      "Test  Loss: 0.7852 | Test Acc: 74.76%\n",
      "--------------------------------------------------\n",
      "[Epoch 39/100] :\n"
     ]
    },
    {
     "name": "stderr",
     "output_type": "stream",
     "text": [
      "39 Train: 100%|██████| 391/391 [00:46<00:00,  8.35it/s]\n"
     ]
    },
    {
     "name": "stdout",
     "output_type": "stream",
     "text": [
      "Train Loss: 0.4827 | Train Acc: 83.14%\n",
      "Test  Loss: 0.5180 | Test Acc: 83.02%\n",
      "updated best eval loss : 0.5180227311351632\n",
      "--------------------------------------------------\n",
      "[Epoch 40/100] :\n"
     ]
    },
    {
     "name": "stderr",
     "output_type": "stream",
     "text": [
      "40 Train: 100%|██████| 391/391 [00:46<00:00,  8.36it/s]\n"
     ]
    },
    {
     "name": "stdout",
     "output_type": "stream",
     "text": [
      "Train Loss: 0.4812 | Train Acc: 83.29%\n",
      "Test  Loss: 0.7283 | Test Acc: 76.81%\n",
      "--------------------------------------------------\n",
      "[Epoch 41/100] :\n"
     ]
    },
    {
     "name": "stderr",
     "output_type": "stream",
     "text": [
      "41 Train: 100%|██████| 391/391 [00:48<00:00,  8.00it/s]\n"
     ]
    },
    {
     "name": "stdout",
     "output_type": "stream",
     "text": [
      "Train Loss: 0.4814 | Train Acc: 83.31%\n",
      "Test  Loss: 0.7017 | Test Acc: 78.41%\n",
      "--------------------------------------------------\n",
      "[Epoch 42/100] :\n"
     ]
    },
    {
     "name": "stderr",
     "output_type": "stream",
     "text": [
      "42 Train: 100%|██████| 391/391 [00:46<00:00,  8.47it/s]\n"
     ]
    },
    {
     "name": "stdout",
     "output_type": "stream",
     "text": [
      "Train Loss: 0.4812 | Train Acc: 83.27%\n",
      "Test  Loss: 0.5959 | Test Acc: 79.31%\n",
      "--------------------------------------------------\n",
      "[Epoch 43/100] :\n"
     ]
    },
    {
     "name": "stderr",
     "output_type": "stream",
     "text": [
      "43 Train: 100%|██████| 391/391 [00:47<00:00,  8.21it/s]\n"
     ]
    },
    {
     "name": "stdout",
     "output_type": "stream",
     "text": [
      "Train Loss: 0.4718 | Train Acc: 83.56%\n",
      "Test  Loss: 0.5876 | Test Acc: 80.07%\n",
      "--------------------------------------------------\n",
      "[Epoch 44/100] :\n"
     ]
    },
    {
     "name": "stderr",
     "output_type": "stream",
     "text": [
      "44 Train: 100%|██████| 391/391 [00:46<00:00,  8.37it/s]\n"
     ]
    },
    {
     "name": "stdout",
     "output_type": "stream",
     "text": [
      "Train Loss: 0.4706 | Train Acc: 83.62%\n",
      "Test  Loss: 0.5121 | Test Acc: 82.37%\n",
      "updated best eval loss : 0.5120775190335286\n",
      "--------------------------------------------------\n",
      "[Epoch 45/100] :\n"
     ]
    },
    {
     "name": "stderr",
     "output_type": "stream",
     "text": [
      "45 Train: 100%|██████| 391/391 [00:47<00:00,  8.17it/s]\n"
     ]
    },
    {
     "name": "stdout",
     "output_type": "stream",
     "text": [
      "Train Loss: 0.4624 | Train Acc: 83.96%\n",
      "Test  Loss: 0.6135 | Test Acc: 79.91%\n",
      "--------------------------------------------------\n",
      "[Epoch 46/100] :\n"
     ]
    },
    {
     "name": "stderr",
     "output_type": "stream",
     "text": [
      "46 Train: 100%|██████| 391/391 [00:46<00:00,  8.39it/s]\n"
     ]
    },
    {
     "name": "stdout",
     "output_type": "stream",
     "text": [
      "Train Loss: 0.4720 | Train Acc: 83.66%\n",
      "Test  Loss: 0.6318 | Test Acc: 78.38%\n",
      "--------------------------------------------------\n",
      "[Epoch 47/100] :\n"
     ]
    },
    {
     "name": "stderr",
     "output_type": "stream",
     "text": [
      "47 Train: 100%|██████| 391/391 [00:46<00:00,  8.38it/s]\n"
     ]
    },
    {
     "name": "stdout",
     "output_type": "stream",
     "text": [
      "Train Loss: 0.4626 | Train Acc: 83.80%\n",
      "Test  Loss: 0.4930 | Test Acc: 83.35%\n",
      "updated best eval loss : 0.49297843024700505\n",
      "--------------------------------------------------\n",
      "[Epoch 48/100] :\n"
     ]
    },
    {
     "name": "stderr",
     "output_type": "stream",
     "text": [
      "48 Train: 100%|██████| 391/391 [00:46<00:00,  8.34it/s]\n"
     ]
    },
    {
     "name": "stdout",
     "output_type": "stream",
     "text": [
      "Train Loss: 0.4632 | Train Acc: 83.92%\n",
      "Test  Loss: 0.5737 | Test Acc: 81.66%\n",
      "--------------------------------------------------\n",
      "[Epoch 49/100] :\n"
     ]
    },
    {
     "name": "stderr",
     "output_type": "stream",
     "text": [
      "49 Train: 100%|██████| 391/391 [00:46<00:00,  8.35it/s]\n"
     ]
    },
    {
     "name": "stdout",
     "output_type": "stream",
     "text": [
      "Train Loss: 0.4561 | Train Acc: 84.08%\n",
      "Test  Loss: 0.7687 | Test Acc: 76.27%\n",
      "--------------------------------------------------\n",
      "[Epoch 50/100] :\n"
     ]
    },
    {
     "name": "stderr",
     "output_type": "stream",
     "text": [
      "50 Train: 100%|██████| 391/391 [00:47<00:00,  8.22it/s]\n"
     ]
    },
    {
     "name": "stdout",
     "output_type": "stream",
     "text": [
      "Train Loss: 0.4603 | Train Acc: 83.93%\n",
      "Test  Loss: 0.5833 | Test Acc: 79.59%\n",
      "--------------------------------------------------\n",
      "[Epoch 51/100] :\n"
     ]
    },
    {
     "name": "stderr",
     "output_type": "stream",
     "text": [
      "51 Train: 100%|██████| 391/391 [00:45<00:00,  8.56it/s]\n"
     ]
    },
    {
     "name": "stdout",
     "output_type": "stream",
     "text": [
      "Train Loss: 0.4517 | Train Acc: 84.28%\n",
      "Test  Loss: 0.5110 | Test Acc: 83.23%\n",
      "--------------------------------------------------\n",
      "[Epoch 52/100] :\n"
     ]
    },
    {
     "name": "stderr",
     "output_type": "stream",
     "text": [
      "52 Train: 100%|██████| 391/391 [00:46<00:00,  8.45it/s]\n"
     ]
    },
    {
     "name": "stdout",
     "output_type": "stream",
     "text": [
      "Train Loss: 0.4491 | Train Acc: 84.37%\n",
      "Test  Loss: 0.5906 | Test Acc: 80.72%\n",
      "--------------------------------------------------\n",
      "[Epoch 53/100] :\n"
     ]
    },
    {
     "name": "stderr",
     "output_type": "stream",
     "text": [
      "53 Train: 100%|██████| 391/391 [00:46<00:00,  8.44it/s]\n"
     ]
    },
    {
     "name": "stdout",
     "output_type": "stream",
     "text": [
      "Train Loss: 0.4451 | Train Acc: 84.48%\n",
      "Test  Loss: 0.4899 | Test Acc: 83.90%\n",
      "updated best eval loss : 0.48991296789314176\n",
      "--------------------------------------------------\n",
      "[Epoch 54/100] :\n"
     ]
    },
    {
     "name": "stderr",
     "output_type": "stream",
     "text": [
      "54 Train: 100%|██████| 391/391 [00:49<00:00,  7.98it/s]\n"
     ]
    },
    {
     "name": "stdout",
     "output_type": "stream",
     "text": [
      "Train Loss: 0.4466 | Train Acc: 84.52%\n",
      "Test  Loss: 0.5088 | Test Acc: 82.73%\n",
      "--------------------------------------------------\n",
      "[Epoch 55/100] :\n"
     ]
    },
    {
     "name": "stderr",
     "output_type": "stream",
     "text": [
      "55 Train: 100%|██████| 391/391 [00:44<00:00,  8.69it/s]\n"
     ]
    },
    {
     "name": "stdout",
     "output_type": "stream",
     "text": [
      "Train Loss: 0.4424 | Train Acc: 84.41%\n",
      "Test  Loss: 0.5521 | Test Acc: 81.86%\n",
      "--------------------------------------------------\n",
      "[Epoch 56/100] :\n"
     ]
    },
    {
     "name": "stderr",
     "output_type": "stream",
     "text": [
      "56 Train: 100%|██████| 391/391 [00:47<00:00,  8.26it/s]\n"
     ]
    },
    {
     "name": "stdout",
     "output_type": "stream",
     "text": [
      "Train Loss: 0.4496 | Train Acc: 84.35%\n",
      "Test  Loss: 0.4885 | Test Acc: 83.39%\n",
      "updated best eval loss : 0.4885250405420231\n",
      "--------------------------------------------------\n",
      "[Epoch 57/100] :\n"
     ]
    },
    {
     "name": "stderr",
     "output_type": "stream",
     "text": [
      "57 Train: 100%|██████| 391/391 [00:46<00:00,  8.47it/s]\n"
     ]
    },
    {
     "name": "stdout",
     "output_type": "stream",
     "text": [
      "Train Loss: 0.4416 | Train Acc: 84.66%\n",
      "Test  Loss: 0.5765 | Test Acc: 80.48%\n",
      "--------------------------------------------------\n",
      "[Epoch 58/100] :\n"
     ]
    },
    {
     "name": "stderr",
     "output_type": "stream",
     "text": [
      "58 Train: 100%|██████| 391/391 [00:47<00:00,  8.24it/s]\n"
     ]
    },
    {
     "name": "stdout",
     "output_type": "stream",
     "text": [
      "Train Loss: 0.4382 | Train Acc: 84.74%\n",
      "Test  Loss: 0.7487 | Test Acc: 75.07%\n",
      "--------------------------------------------------\n",
      "[Epoch 59/100] :\n"
     ]
    },
    {
     "name": "stderr",
     "output_type": "stream",
     "text": [
      "59 Train: 100%|██████| 391/391 [00:46<00:00,  8.41it/s]\n"
     ]
    },
    {
     "name": "stdout",
     "output_type": "stream",
     "text": [
      "Train Loss: 0.4384 | Train Acc: 84.62%\n",
      "Test  Loss: 0.6322 | Test Acc: 79.12%\n",
      "--------------------------------------------------\n",
      "[Epoch 60/100] :\n"
     ]
    },
    {
     "name": "stderr",
     "output_type": "stream",
     "text": [
      "60 Train: 100%|██████| 391/391 [00:46<00:00,  8.39it/s]\n"
     ]
    },
    {
     "name": "stdout",
     "output_type": "stream",
     "text": [
      "Train Loss: 0.4340 | Train Acc: 84.84%\n",
      "Test  Loss: 0.4601 | Test Acc: 84.63%\n",
      "updated best eval loss : 0.46014485932603666\n",
      "--------------------------------------------------\n",
      "[Epoch 61/100] :\n"
     ]
    },
    {
     "name": "stderr",
     "output_type": "stream",
     "text": [
      "61 Train: 100%|██████| 391/391 [00:46<00:00,  8.50it/s]\n"
     ]
    },
    {
     "name": "stdout",
     "output_type": "stream",
     "text": [
      "Train Loss: 0.4420 | Train Acc: 84.77%\n",
      "Test  Loss: 0.5416 | Test Acc: 82.04%\n",
      "--------------------------------------------------\n",
      "[Epoch 62/100] :\n"
     ]
    },
    {
     "name": "stderr",
     "output_type": "stream",
     "text": [
      "62 Train: 100%|██████| 391/391 [00:47<00:00,  8.26it/s]\n"
     ]
    },
    {
     "name": "stdout",
     "output_type": "stream",
     "text": [
      "Train Loss: 0.4297 | Train Acc: 85.01%\n",
      "Test  Loss: 0.5495 | Test Acc: 81.93%\n",
      "--------------------------------------------------\n",
      "[Epoch 63/100] :\n"
     ]
    },
    {
     "name": "stderr",
     "output_type": "stream",
     "text": [
      "63 Train: 100%|██████| 391/391 [00:46<00:00,  8.39it/s]\n"
     ]
    },
    {
     "name": "stdout",
     "output_type": "stream",
     "text": [
      "Train Loss: 0.4301 | Train Acc: 85.10%\n",
      "Test  Loss: 0.6406 | Test Acc: 78.58%\n",
      "--------------------------------------------------\n",
      "[Epoch 64/100] :\n"
     ]
    },
    {
     "name": "stderr",
     "output_type": "stream",
     "text": [
      "64 Train: 100%|██████| 391/391 [00:48<00:00,  8.04it/s]\n"
     ]
    },
    {
     "name": "stdout",
     "output_type": "stream",
     "text": [
      "Train Loss: 0.4337 | Train Acc: 84.81%\n",
      "Test  Loss: 0.5651 | Test Acc: 81.63%\n",
      "--------------------------------------------------\n",
      "[Epoch 65/100] :\n"
     ]
    },
    {
     "name": "stderr",
     "output_type": "stream",
     "text": [
      "65 Train: 100%|██████| 391/391 [00:46<00:00,  8.35it/s]\n"
     ]
    },
    {
     "name": "stdout",
     "output_type": "stream",
     "text": [
      "Train Loss: 0.4246 | Train Acc: 85.22%\n",
      "Test  Loss: 0.6931 | Test Acc: 78.88%\n",
      "--------------------------------------------------\n",
      "[Epoch 66/100] :\n"
     ]
    },
    {
     "name": "stderr",
     "output_type": "stream",
     "text": [
      "66 Train: 100%|██████| 391/391 [00:47<00:00,  8.22it/s]\n"
     ]
    },
    {
     "name": "stdout",
     "output_type": "stream",
     "text": [
      "Train Loss: 0.4330 | Train Acc: 84.97%\n",
      "Test  Loss: 0.6178 | Test Acc: 80.50%\n",
      "--------------------------------------------------\n",
      "[Epoch 67/100] :\n"
     ]
    },
    {
     "name": "stderr",
     "output_type": "stream",
     "text": [
      "67 Train: 100%|██████| 391/391 [00:47<00:00,  8.26it/s]\n"
     ]
    },
    {
     "name": "stdout",
     "output_type": "stream",
     "text": [
      "Train Loss: 0.4328 | Train Acc: 84.97%\n",
      "Test  Loss: 0.5199 | Test Acc: 82.82%\n",
      "--------------------------------------------------\n",
      "[Epoch 68/100] :\n"
     ]
    },
    {
     "name": "stderr",
     "output_type": "stream",
     "text": [
      "68 Train: 100%|██████| 391/391 [00:47<00:00,  8.21it/s]\n"
     ]
    },
    {
     "name": "stdout",
     "output_type": "stream",
     "text": [
      "Train Loss: 0.4237 | Train Acc: 85.10%\n",
      "Test  Loss: 0.6312 | Test Acc: 78.44%\n",
      "--------------------------------------------------\n",
      "[Epoch 69/100] :\n"
     ]
    },
    {
     "name": "stderr",
     "output_type": "stream",
     "text": [
      "69 Train: 100%|██████| 391/391 [00:47<00:00,  8.31it/s]\n"
     ]
    },
    {
     "name": "stdout",
     "output_type": "stream",
     "text": [
      "Train Loss: 0.4245 | Train Acc: 85.18%\n",
      "Test  Loss: 0.5469 | Test Acc: 82.38%\n",
      "--------------------------------------------------\n",
      "[Epoch 70/100] :\n"
     ]
    },
    {
     "name": "stderr",
     "output_type": "stream",
     "text": [
      "70 Train: 100%|██████| 391/391 [00:47<00:00,  8.16it/s]\n"
     ]
    },
    {
     "name": "stdout",
     "output_type": "stream",
     "text": [
      "Train Loss: 0.4189 | Train Acc: 85.34%\n",
      "Test  Loss: 0.6511 | Test Acc: 77.78%\n",
      "--------------------------------------------------\n",
      "[Epoch 71/100] :\n"
     ]
    },
    {
     "name": "stderr",
     "output_type": "stream",
     "text": [
      "71 Train: 100%|██████| 391/391 [00:46<00:00,  8.33it/s]\n"
     ]
    },
    {
     "name": "stdout",
     "output_type": "stream",
     "text": [
      "Train Loss: 0.4272 | Train Acc: 85.01%\n",
      "Test  Loss: 0.6250 | Test Acc: 80.49%\n",
      "--------------------------------------------------\n",
      "[Epoch 72/100] :\n"
     ]
    },
    {
     "name": "stderr",
     "output_type": "stream",
     "text": [
      "72 Train: 100%|██████| 391/391 [00:47<00:00,  8.32it/s]\n"
     ]
    },
    {
     "name": "stdout",
     "output_type": "stream",
     "text": [
      "Train Loss: 0.4222 | Train Acc: 85.38%\n",
      "Test  Loss: 0.5941 | Test Acc: 80.23%\n",
      "--------------------------------------------------\n",
      "[Epoch 73/100] :\n"
     ]
    },
    {
     "name": "stderr",
     "output_type": "stream",
     "text": [
      "73 Train: 100%|██████| 391/391 [00:47<00:00,  8.23it/s]\n"
     ]
    },
    {
     "name": "stdout",
     "output_type": "stream",
     "text": [
      "Train Loss: 0.4196 | Train Acc: 85.53%\n",
      "Test  Loss: 0.5873 | Test Acc: 80.57%\n",
      "--------------------------------------------------\n",
      "[Epoch 74/100] :\n"
     ]
    },
    {
     "name": "stderr",
     "output_type": "stream",
     "text": [
      "74 Train: 100%|██████| 391/391 [00:46<00:00,  8.44it/s]\n"
     ]
    },
    {
     "name": "stdout",
     "output_type": "stream",
     "text": [
      "Train Loss: 0.4194 | Train Acc: 85.34%\n",
      "Test  Loss: 0.6466 | Test Acc: 78.49%\n",
      "--------------------------------------------------\n",
      "[Epoch 75/100] :\n"
     ]
    },
    {
     "name": "stderr",
     "output_type": "stream",
     "text": [
      "75 Train: 100%|██████| 391/391 [00:48<00:00,  8.09it/s]\n"
     ]
    },
    {
     "name": "stdout",
     "output_type": "stream",
     "text": [
      "Train Loss: 0.4161 | Train Acc: 85.52%\n",
      "Test  Loss: 0.7901 | Test Acc: 75.21%\n",
      "--------------------------------------------------\n",
      "[Epoch 76/100] :\n"
     ]
    },
    {
     "name": "stderr",
     "output_type": "stream",
     "text": [
      "76 Train: 100%|██████| 391/391 [00:46<00:00,  8.36it/s]\n"
     ]
    },
    {
     "name": "stdout",
     "output_type": "stream",
     "text": [
      "Train Loss: 0.4179 | Train Acc: 85.42%\n",
      "Test  Loss: 0.5885 | Test Acc: 80.77%\n",
      "--------------------------------------------------\n",
      "[Epoch 77/100] :\n"
     ]
    },
    {
     "name": "stderr",
     "output_type": "stream",
     "text": [
      "77 Train: 100%|██████| 391/391 [00:47<00:00,  8.24it/s]\n"
     ]
    },
    {
     "name": "stdout",
     "output_type": "stream",
     "text": [
      "Train Loss: 0.4190 | Train Acc: 85.46%\n",
      "Test  Loss: 0.5166 | Test Acc: 82.37%\n",
      "--------------------------------------------------\n",
      "[Epoch 78/100] :\n"
     ]
    },
    {
     "name": "stderr",
     "output_type": "stream",
     "text": [
      "78 Train: 100%|██████| 391/391 [00:46<00:00,  8.40it/s]\n"
     ]
    },
    {
     "name": "stdout",
     "output_type": "stream",
     "text": [
      "Train Loss: 0.4214 | Train Acc: 85.39%\n",
      "Test  Loss: 0.6998 | Test Acc: 77.84%\n",
      "--------------------------------------------------\n",
      "[Epoch 79/100] :\n"
     ]
    },
    {
     "name": "stderr",
     "output_type": "stream",
     "text": [
      "79 Train: 100%|██████| 391/391 [00:46<00:00,  8.36it/s]\n"
     ]
    },
    {
     "name": "stdout",
     "output_type": "stream",
     "text": [
      "Train Loss: 0.4102 | Train Acc: 85.72%\n",
      "Test  Loss: 0.7083 | Test Acc: 76.49%\n",
      "--------------------------------------------------\n",
      "[Epoch 80/100] :\n"
     ]
    },
    {
     "name": "stderr",
     "output_type": "stream",
     "text": [
      "80 Train: 100%|██████| 391/391 [00:45<00:00,  8.56it/s]\n"
     ]
    },
    {
     "name": "stdout",
     "output_type": "stream",
     "text": [
      "Train Loss: 0.4098 | Train Acc: 85.77%\n",
      "Test  Loss: 0.5793 | Test Acc: 81.37%\n",
      "--------------------------------------------------\n",
      "[Epoch 81/100] :\n"
     ]
    },
    {
     "name": "stderr",
     "output_type": "stream",
     "text": [
      "81 Train: 100%|██████| 391/391 [00:45<00:00,  8.51it/s]\n"
     ]
    },
    {
     "name": "stdout",
     "output_type": "stream",
     "text": [
      "Train Loss: 0.4220 | Train Acc: 85.38%\n",
      "Test  Loss: 0.4562 | Test Acc: 84.54%\n",
      "updated best eval loss : 0.4561629336846026\n",
      "--------------------------------------------------\n",
      "[Epoch 82/100] :\n"
     ]
    },
    {
     "name": "stderr",
     "output_type": "stream",
     "text": [
      "82 Train: 100%|██████| 391/391 [00:46<00:00,  8.37it/s]\n"
     ]
    },
    {
     "name": "stdout",
     "output_type": "stream",
     "text": [
      "Train Loss: 0.4075 | Train Acc: 85.85%\n",
      "Test  Loss: 0.6128 | Test Acc: 80.22%\n",
      "--------------------------------------------------\n",
      "[Epoch 83/100] :\n"
     ]
    },
    {
     "name": "stderr",
     "output_type": "stream",
     "text": [
      "83 Train: 100%|██████| 391/391 [00:48<00:00,  8.03it/s]\n"
     ]
    },
    {
     "name": "stdout",
     "output_type": "stream",
     "text": [
      "Train Loss: 0.4147 | Train Acc: 85.54%\n",
      "Test  Loss: 0.5636 | Test Acc: 81.08%\n",
      "--------------------------------------------------\n",
      "[Epoch 84/100] :\n"
     ]
    },
    {
     "name": "stderr",
     "output_type": "stream",
     "text": [
      "84 Train: 100%|██████| 391/391 [00:45<00:00,  8.55it/s]\n"
     ]
    },
    {
     "name": "stdout",
     "output_type": "stream",
     "text": [
      "Train Loss: 0.4116 | Train Acc: 85.72%\n",
      "Test  Loss: 0.5369 | Test Acc: 82.09%\n",
      "--------------------------------------------------\n",
      "[Epoch 85/100] :\n"
     ]
    },
    {
     "name": "stderr",
     "output_type": "stream",
     "text": [
      "85 Train: 100%|██████| 391/391 [00:47<00:00,  8.16it/s]\n"
     ]
    },
    {
     "name": "stdout",
     "output_type": "stream",
     "text": [
      "Train Loss: 0.4147 | Train Acc: 85.65%\n",
      "Test  Loss: 0.5413 | Test Acc: 82.29%\n",
      "--------------------------------------------------\n",
      "[Epoch 86/100] :\n"
     ]
    },
    {
     "name": "stderr",
     "output_type": "stream",
     "text": [
      "86 Train: 100%|██████| 391/391 [00:46<00:00,  8.36it/s]\n"
     ]
    },
    {
     "name": "stdout",
     "output_type": "stream",
     "text": [
      "Train Loss: 0.4033 | Train Acc: 85.99%\n",
      "Test  Loss: 0.5206 | Test Acc: 82.50%\n",
      "--------------------------------------------------\n",
      "[Epoch 87/100] :\n"
     ]
    },
    {
     "name": "stderr",
     "output_type": "stream",
     "text": [
      "87 Train: 100%|██████| 391/391 [00:47<00:00,  8.22it/s]\n"
     ]
    },
    {
     "name": "stdout",
     "output_type": "stream",
     "text": [
      "Train Loss: 0.4081 | Train Acc: 85.87%\n",
      "Test  Loss: 0.5945 | Test Acc: 80.24%\n",
      "--------------------------------------------------\n",
      "[Epoch 88/100] :\n"
     ]
    },
    {
     "name": "stderr",
     "output_type": "stream",
     "text": [
      "88 Train: 100%|██████| 391/391 [00:47<00:00,  8.19it/s]\n"
     ]
    },
    {
     "name": "stdout",
     "output_type": "stream",
     "text": [
      "Train Loss: 0.4049 | Train Acc: 85.98%\n",
      "Test  Loss: 0.6363 | Test Acc: 80.00%\n",
      "--------------------------------------------------\n",
      "[Epoch 89/100] :\n"
     ]
    },
    {
     "name": "stderr",
     "output_type": "stream",
     "text": [
      "89 Train: 100%|██████| 391/391 [00:47<00:00,  8.26it/s]\n"
     ]
    },
    {
     "name": "stdout",
     "output_type": "stream",
     "text": [
      "Train Loss: 0.4116 | Train Acc: 85.77%\n",
      "Test  Loss: 0.5735 | Test Acc: 80.29%\n",
      "--------------------------------------------------\n",
      "[Epoch 90/100] :\n"
     ]
    },
    {
     "name": "stderr",
     "output_type": "stream",
     "text": [
      "90 Train: 100%|██████| 391/391 [00:46<00:00,  8.38it/s]\n"
     ]
    },
    {
     "name": "stdout",
     "output_type": "stream",
     "text": [
      "Train Loss: 0.4097 | Train Acc: 85.75%\n",
      "Test  Loss: 0.4730 | Test Acc: 84.39%\n",
      "--------------------------------------------------\n",
      "[Epoch 91/100] :\n"
     ]
    },
    {
     "name": "stderr",
     "output_type": "stream",
     "text": [
      "91 Train: 100%|██████| 391/391 [00:47<00:00,  8.27it/s]\n"
     ]
    },
    {
     "name": "stdout",
     "output_type": "stream",
     "text": [
      "Train Loss: 0.4015 | Train Acc: 86.02%\n",
      "Test  Loss: 0.5799 | Test Acc: 81.33%\n",
      "--------------------------------------------------\n",
      "[Epoch 92/100] :\n"
     ]
    },
    {
     "name": "stderr",
     "output_type": "stream",
     "text": [
      "92 Train: 100%|██████| 391/391 [00:48<00:00,  8.11it/s]\n"
     ]
    },
    {
     "name": "stdout",
     "output_type": "stream",
     "text": [
      "Train Loss: 0.4022 | Train Acc: 85.93%\n",
      "Test  Loss: 0.5878 | Test Acc: 79.97%\n",
      "--------------------------------------------------\n",
      "[Epoch 93/100] :\n"
     ]
    },
    {
     "name": "stderr",
     "output_type": "stream",
     "text": [
      "93 Train: 100%|██████| 391/391 [00:47<00:00,  8.18it/s]\n"
     ]
    },
    {
     "name": "stdout",
     "output_type": "stream",
     "text": [
      "Train Loss: 0.4001 | Train Acc: 85.98%\n",
      "Test  Loss: 0.5841 | Test Acc: 80.95%\n",
      "--------------------------------------------------\n",
      "[Epoch 94/100] :\n"
     ]
    },
    {
     "name": "stderr",
     "output_type": "stream",
     "text": [
      "94 Train: 100%|██████| 391/391 [00:46<00:00,  8.36it/s]\n"
     ]
    },
    {
     "name": "stdout",
     "output_type": "stream",
     "text": [
      "Train Loss: 0.3995 | Train Acc: 86.04%\n",
      "Test  Loss: 0.6241 | Test Acc: 80.58%\n",
      "--------------------------------------------------\n",
      "[Epoch 95/100] :\n"
     ]
    },
    {
     "name": "stderr",
     "output_type": "stream",
     "text": [
      "95 Train: 100%|██████| 391/391 [00:47<00:00,  8.25it/s]\n"
     ]
    },
    {
     "name": "stdout",
     "output_type": "stream",
     "text": [
      "Train Loss: 0.4003 | Train Acc: 86.04%\n",
      "Test  Loss: 0.8099 | Test Acc: 74.19%\n",
      "--------------------------------------------------\n",
      "[Epoch 96/100] :\n"
     ]
    },
    {
     "name": "stderr",
     "output_type": "stream",
     "text": [
      "96 Train: 100%|██████| 391/391 [00:47<00:00,  8.24it/s]\n"
     ]
    },
    {
     "name": "stdout",
     "output_type": "stream",
     "text": [
      "Train Loss: 0.4019 | Train Acc: 86.05%\n",
      "Test  Loss: 0.5587 | Test Acc: 81.49%\n",
      "--------------------------------------------------\n",
      "[Epoch 97/100] :\n"
     ]
    },
    {
     "name": "stderr",
     "output_type": "stream",
     "text": [
      "97 Train: 100%|██████| 391/391 [00:47<00:00,  8.23it/s]\n"
     ]
    },
    {
     "name": "stdout",
     "output_type": "stream",
     "text": [
      "Train Loss: 0.4004 | Train Acc: 86.03%\n",
      "Test  Loss: 0.6350 | Test Acc: 79.28%\n",
      "--------------------------------------------------\n",
      "[Epoch 98/100] :\n"
     ]
    },
    {
     "name": "stderr",
     "output_type": "stream",
     "text": [
      "98 Train: 100%|██████| 391/391 [00:48<00:00,  8.07it/s]\n"
     ]
    },
    {
     "name": "stdout",
     "output_type": "stream",
     "text": [
      "Train Loss: 0.4011 | Train Acc: 85.98%\n",
      "Test  Loss: 0.4989 | Test Acc: 83.87%\n",
      "--------------------------------------------------\n",
      "[Epoch 99/100] :\n"
     ]
    },
    {
     "name": "stderr",
     "output_type": "stream",
     "text": [
      "99 Train: 100%|██████| 391/391 [00:48<00:00,  8.13it/s]\n"
     ]
    },
    {
     "name": "stdout",
     "output_type": "stream",
     "text": [
      "Train Loss: 0.3981 | Train Acc: 86.09%\n",
      "Test  Loss: 0.5514 | Test Acc: 81.77%\n",
      "--------------------------------------------------\n",
      "[Epoch 100/100] :\n"
     ]
    },
    {
     "name": "stderr",
     "output_type": "stream",
     "text": [
      "100 Train: 100%|█████| 391/391 [00:47<00:00,  8.17it/s]\n"
     ]
    },
    {
     "name": "stdout",
     "output_type": "stream",
     "text": [
      "Train Loss: 0.4038 | Train Acc: 85.93%\n",
      "Test  Loss: 0.6268 | Test Acc: 79.28%\n",
      "--------------------------------------------------\n"
     ]
    }
   ],
   "source": [
    "Training = DoTraining(\n",
    "    model=model,\n",
    "    criterion=criterion,\n",
    "    optimizer=optimizer,\n",
    "    scaler=scaler,\n",
    "    scheduler=scheduler,\n",
    "    earlystopper=earlystopper,\n",
    "    device=device,\n",
    "    logs=logs,\n",
    "    file_path=file_name,\n",
    ")\n",
    "pre_epochs = len(Training.logs[\"train_loss\"])\n",
    "\n",
    "for epoch in range(NUM_EPOCHS):\n",
    "    now = epoch + 1 + pre_epochs\n",
    "    print(f\"[Epoch {epoch+1+pre_epochs}/{NUM_EPOCHS}] :\")\n",
    "\n",
    "    if DATASET == \"ImageNet2012\":\n",
    "        eval_loss = Training.SingleEpoch(train_dataloader, valid_dataloader)\n",
    "    else:\n",
    "        eval_loss = Training.SingleEpoch(\n",
    "            train_dataloader, valid_dataloader, test_dataloader\n",
    "        )\n",
    "\n",
    "    Training.Save()\n",
    "\n",
    "    \n",
    "    \n",
    "    if earlystopper.check(eval_loss) == True:\n",
    "        break\n",
    "\n",
    "    print(\"-\" * 50)"
   ]
  },
  {
   "cell_type": "code",
   "execution_count": 17,
   "metadata": {},
   "outputs": [
    {
     "data": {
      "image/png": "[encoded data removed]",
      "text/plain": [
       "<Figure size 1000x500 with 2 Axes>"
      ]
     },
     "metadata": {},
     "output_type": "display_data"
    }
   ],
   "source": [
    "view = LogViewer(logs)\n",
    "view.draw(save_name=file_name)"
   ]
  },
  {
   "cell_type": "code",
   "execution_count": 18,
   "metadata": {},
   "outputs": [
    {
     "name": "stdout",
     "output_type": "stream",
     "text": [
      "1 epoch: train_loss=2.4385, train_acc=0.1033, test_loss=2.2999, test_acc=0.1065, lr=0.1000\n",
      "2 epoch: train_loss=2.2826, train_acc=0.1188, test_loss=2.3711, test_acc=0.1205, lr=0.1000\n",
      "3 epoch: train_loss=2.0645, train_acc=0.2178, test_loss=1.9125, test_acc=0.2742, lr=0.1000\n",
      "4 epoch: train_loss=1.7676, train_acc=0.3456, test_loss=2.3067, test_acc=0.2666, lr=0.1000\n",
      "5 epoch: train_loss=1.4857, train_acc=0.4654, test_loss=1.3883, test_acc=0.4922, lr=0.1000\n",
      "6 epoch: train_loss=1.2398, train_acc=0.5584, test_loss=1.1620, test_acc=0.5964, lr=0.1000\n",
      "7 epoch: train_loss=1.0727, train_acc=0.6192, test_loss=1.2486, test_acc=0.5778, lr=0.1000\n",
      "8 epoch: train_loss=0.9693, train_acc=0.6588, test_loss=0.8901, test_acc=0.6892, lr=0.1000\n",
      "9 epoch: train_loss=0.8951, train_acc=0.6867, test_loss=1.0430, test_acc=0.6452, lr=0.1000\n",
      "10 epoch: train_loss=0.8366, train_acc=0.7095, test_loss=0.8068, test_acc=0.7266, lr=0.1000\n",
      "11 epoch: train_loss=0.7913, train_acc=0.7259, test_loss=0.8675, test_acc=0.7111, lr=0.1000\n",
      "12 epoch: train_loss=0.7553, train_acc=0.7376, test_loss=0.9393, test_acc=0.6904, lr=0.1000\n",
      "13 epoch: train_loss=0.7223, train_acc=0.7481, test_loss=0.8171, test_acc=0.7246, lr=0.1000\n",
      "14 epoch: train_loss=0.7079, train_acc=0.7544, test_loss=0.7679, test_acc=0.7424, lr=0.1000\n",
      "15 epoch: train_loss=0.6811, train_acc=0.7622, test_loss=0.9673, test_acc=0.6846, lr=0.1000\n",
      "16 epoch: train_loss=0.6587, train_acc=0.7714, test_loss=0.6471, test_acc=0.7848, lr=0.1000\n",
      "17 epoch: train_loss=0.6427, train_acc=0.7770, test_loss=0.7345, test_acc=0.7597, lr=0.1000\n",
      "18 epoch: train_loss=0.6333, train_acc=0.7784, test_loss=0.6485, test_acc=0.7769, lr=0.1000\n",
      "19 epoch: train_loss=0.6211, train_acc=0.7843, test_loss=0.6480, test_acc=0.7891, lr=0.1000\n",
      "20 epoch: train_loss=0.6108, train_acc=0.7875, test_loss=0.8449, test_acc=0.7301, lr=0.1000\n",
      "21 epoch: train_loss=0.5970, train_acc=0.7931, test_loss=0.6307, test_acc=0.7835, lr=0.1000\n",
      "22 epoch: train_loss=0.5781, train_acc=0.7993, test_loss=0.6656, test_acc=0.7703, lr=0.1000\n",
      "23 epoch: train_loss=0.5746, train_acc=0.7993, test_loss=0.7198, test_acc=0.7524, lr=0.1000\n",
      "24 epoch: train_loss=0.5721, train_acc=0.8007, test_loss=0.7588, test_acc=0.7460, lr=0.1000\n",
      "25 epoch: train_loss=0.5633, train_acc=0.8045, test_loss=0.7870, test_acc=0.7540, lr=0.1000\n",
      "26 epoch: train_loss=0.5519, train_acc=0.8092, test_loss=0.7323, test_acc=0.7625, lr=0.1000\n",
      "27 epoch: train_loss=0.5462, train_acc=0.8096, test_loss=0.7061, test_acc=0.7588, lr=0.1000\n",
      "28 epoch: train_loss=0.5440, train_acc=0.8116, test_loss=0.7973, test_acc=0.7407, lr=0.1000\n",
      "29 epoch: train_loss=0.5315, train_acc=0.8156, test_loss=0.6475, test_acc=0.7897, lr=0.1000\n",
      "30 epoch: train_loss=0.5268, train_acc=0.8177, test_loss=0.8078, test_acc=0.7376, lr=0.1000\n",
      "31 epoch: train_loss=0.5221, train_acc=0.8184, test_loss=0.6839, test_acc=0.7691, lr=0.1000\n",
      "32 epoch: train_loss=0.5148, train_acc=0.8230, test_loss=0.6296, test_acc=0.7829, lr=0.1000\n",
      "33 epoch: train_loss=0.5117, train_acc=0.8228, test_loss=0.6601, test_acc=0.7808, lr=0.1000\n",
      "34 epoch: train_loss=0.5023, train_acc=0.8253, test_loss=0.8049, test_acc=0.7398, lr=0.1000\n",
      "35 epoch: train_loss=0.5007, train_acc=0.8254, test_loss=0.6773, test_acc=0.7785, lr=0.1000\n",
      "36 epoch: train_loss=0.4968, train_acc=0.8286, test_loss=0.6657, test_acc=0.7853, lr=0.1000\n",
      "37 epoch: train_loss=0.4918, train_acc=0.8290, test_loss=0.5965, test_acc=0.8002, lr=0.1000\n",
      "38 epoch: train_loss=0.4882, train_acc=0.8320, test_loss=0.7852, test_acc=0.7476, lr=0.1000\n",
      "39 epoch: train_loss=0.4827, train_acc=0.8314, test_loss=0.5180, test_acc=0.8302, lr=0.1000\n",
      "40 epoch: train_loss=0.4812, train_acc=0.8329, test_loss=0.7283, test_acc=0.7681, lr=0.1000\n",
      "41 epoch: train_loss=0.4814, train_acc=0.8331, test_loss=0.7017, test_acc=0.7841, lr=0.1000\n",
      "42 epoch: train_loss=0.4812, train_acc=0.8327, test_loss=0.5959, test_acc=0.7931, lr=0.1000\n",
      "43 epoch: train_loss=0.4718, train_acc=0.8356, test_loss=0.5876, test_acc=0.8007, lr=0.1000\n",
      "44 epoch: train_loss=0.4706, train_acc=0.8362, test_loss=0.5121, test_acc=0.8237, lr=0.1000\n",
      "45 epoch: train_loss=0.4624, train_acc=0.8396, test_loss=0.6135, test_acc=0.7991, lr=0.1000\n",
      "46 epoch: train_loss=0.4720, train_acc=0.8366, test_loss=0.6318, test_acc=0.7838, lr=0.1000\n",
      "47 epoch: train_loss=0.4626, train_acc=0.8380, test_loss=0.4930, test_acc=0.8335, lr=0.1000\n",
      "48 epoch: train_loss=0.4632, train_acc=0.8392, test_loss=0.5737, test_acc=0.8166, lr=0.1000\n",
      "49 epoch: train_loss=0.4561, train_acc=0.8408, test_loss=0.7687, test_acc=0.7627, lr=0.1000\n",
      "50 epoch: train_loss=0.4603, train_acc=0.8393, test_loss=0.5833, test_acc=0.7959, lr=0.1000\n",
      "51 epoch: train_loss=0.4517, train_acc=0.8428, test_loss=0.5110, test_acc=0.8323, lr=0.1000\n",
      "52 epoch: train_loss=0.4491, train_acc=0.8437, test_loss=0.5906, test_acc=0.8072, lr=0.1000\n",
      "53 epoch: train_loss=0.4451, train_acc=0.8448, test_loss=0.4899, test_acc=0.8390, lr=0.1000\n",
      "54 epoch: train_loss=0.4466, train_acc=0.8452, test_loss=0.5088, test_acc=0.8273, lr=0.1000\n",
      "55 epoch: train_loss=0.4424, train_acc=0.8441, test_loss=0.5521, test_acc=0.8186, lr=0.1000\n",
      "56 epoch: train_loss=0.4496, train_acc=0.8435, test_loss=0.4885, test_acc=0.8339, lr=0.1000\n",
      "57 epoch: train_loss=0.4416, train_acc=0.8466, test_loss=0.5765, test_acc=0.8048, lr=0.1000\n",
      "58 epoch: train_loss=0.4382, train_acc=0.8474, test_loss=0.7487, test_acc=0.7507, lr=0.1000\n",
      "59 epoch: train_loss=0.4384, train_acc=0.8462, test_loss=0.6322, test_acc=0.7912, lr=0.1000\n",
      "60 epoch: train_loss=0.4340, train_acc=0.8484, test_loss=0.4601, test_acc=0.8463, lr=0.1000\n",
      "61 epoch: train_loss=0.4420, train_acc=0.8477, test_loss=0.5416, test_acc=0.8204, lr=0.1000\n",
      "62 epoch: train_loss=0.4297, train_acc=0.8501, test_loss=0.5495, test_acc=0.8193, lr=0.1000\n",
      "63 epoch: train_loss=0.4301, train_acc=0.8510, test_loss=0.6406, test_acc=0.7858, lr=0.1000\n",
      "64 epoch: train_loss=0.4337, train_acc=0.8481, test_loss=0.5651, test_acc=0.8163, lr=0.1000\n",
      "65 epoch: train_loss=0.4246, train_acc=0.8522, test_loss=0.6931, test_acc=0.7888, lr=0.1000\n",
      "66 epoch: train_loss=0.4330, train_acc=0.8497, test_loss=0.6178, test_acc=0.8050, lr=0.1000\n",
      "67 epoch: train_loss=0.4328, train_acc=0.8497, test_loss=0.5199, test_acc=0.8282, lr=0.1000\n",
      "68 epoch: train_loss=0.4237, train_acc=0.8510, test_loss=0.6312, test_acc=0.7844, lr=0.1000\n",
      "69 epoch: train_loss=0.4245, train_acc=0.8518, test_loss=0.5469, test_acc=0.8238, lr=0.1000\n",
      "70 epoch: train_loss=0.4189, train_acc=0.8534, test_loss=0.6511, test_acc=0.7778, lr=0.1000\n",
      "71 epoch: train_loss=0.4272, train_acc=0.8501, test_loss=0.6250, test_acc=0.8049, lr=0.1000\n",
      "72 epoch: train_loss=0.4222, train_acc=0.8538, test_loss=0.5941, test_acc=0.8023, lr=0.1000\n",
      "73 epoch: train_loss=0.4196, train_acc=0.8553, test_loss=0.5873, test_acc=0.8057, lr=0.1000\n",
      "74 epoch: train_loss=0.4194, train_acc=0.8534, test_loss=0.6466, test_acc=0.7849, lr=0.1000\n",
      "75 epoch: train_loss=0.4161, train_acc=0.8552, test_loss=0.7901, test_acc=0.7521, lr=0.1000\n",
      "76 epoch: train_loss=0.4179, train_acc=0.8542, test_loss=0.5885, test_acc=0.8077, lr=0.1000\n",
      "77 epoch: train_loss=0.4190, train_acc=0.8546, test_loss=0.5166, test_acc=0.8237, lr=0.1000\n",
      "78 epoch: train_loss=0.4214, train_acc=0.8539, test_loss=0.6998, test_acc=0.7784, lr=0.1000\n",
      "79 epoch: train_loss=0.4102, train_acc=0.8572, test_loss=0.7083, test_acc=0.7649, lr=0.1000\n",
      "80 epoch: train_loss=0.4098, train_acc=0.8577, test_loss=0.5793, test_acc=0.8137, lr=0.1000\n",
      "81 epoch: train_loss=0.4220, train_acc=0.8538, test_loss=0.4562, test_acc=0.8454, lr=0.1000\n",
      "82 epoch: train_loss=0.4075, train_acc=0.8585, test_loss=0.6128, test_acc=0.8022, lr=0.1000\n",
      "83 epoch: train_loss=0.4147, train_acc=0.8554, test_loss=0.5636, test_acc=0.8108, lr=0.1000\n",
      "84 epoch: train_loss=0.4116, train_acc=0.8572, test_loss=0.5369, test_acc=0.8209, lr=0.1000\n",
      "85 epoch: train_loss=0.4147, train_acc=0.8565, test_loss=0.5413, test_acc=0.8229, lr=0.1000\n",
      "86 epoch: train_loss=0.4033, train_acc=0.8599, test_loss=0.5206, test_acc=0.8250, lr=0.1000\n",
      "87 epoch: train_loss=0.4081, train_acc=0.8587, test_loss=0.5945, test_acc=0.8024, lr=0.1000\n",
      "88 epoch: train_loss=0.4049, train_acc=0.8598, test_loss=0.6363, test_acc=0.8000, lr=0.1000\n",
      "89 epoch: train_loss=0.4116, train_acc=0.8577, test_loss=0.5735, test_acc=0.8029, lr=0.1000\n",
      "90 epoch: train_loss=0.4097, train_acc=0.8575, test_loss=0.4730, test_acc=0.8439, lr=0.1000\n",
      "91 epoch: train_loss=0.4015, train_acc=0.8602, test_loss=0.5799, test_acc=0.8133, lr=0.1000\n",
      "92 epoch: train_loss=0.4022, train_acc=0.8593, test_loss=0.5878, test_acc=0.7997, lr=0.1000\n",
      "93 epoch: train_loss=0.4001, train_acc=0.8598, test_loss=0.5841, test_acc=0.8095, lr=0.1000\n",
      "94 epoch: train_loss=0.3995, train_acc=0.8604, test_loss=0.6241, test_acc=0.8058, lr=0.1000\n",
      "95 epoch: train_loss=0.4003, train_acc=0.8604, test_loss=0.8099, test_acc=0.7419, lr=0.1000\n",
      "96 epoch: train_loss=0.4019, train_acc=0.8605, test_loss=0.5587, test_acc=0.8149, lr=0.1000\n",
      "97 epoch: train_loss=0.4004, train_acc=0.8603, test_loss=0.6350, test_acc=0.7928, lr=0.1000\n",
      "98 epoch: train_loss=0.4011, train_acc=0.8598, test_loss=0.4989, test_acc=0.8387, lr=0.1000\n",
      "99 epoch: train_loss=0.3981, train_acc=0.8609, test_loss=0.5514, test_acc=0.8177, lr=0.1000\n",
      "100 epoch: train_loss=0.4038, train_acc=0.8593, test_loss=0.6268, test_acc=0.7928, lr=0.1000\n"
     ]
    }
   ],
   "source": [
    "view.print_all()"
   ]
  }
 ],
 "metadata": {
  "kernelspec": {
   "display_name": "base",
   "language": "python",
   "name": "python3"
  },
  "language_info": {
   "codemirror_mode": {
    "name": "ipython",
    "version": 3
   },
   "file_extension": ".py",
   "mimetype": "text/x-python",
   "name": "python",
   "nbconvert_exporter": "python",
   "pygments_lexer": "ipython3",
   "version": "3.11.5"
  }
 },
 "nbformat": 4,
 "nbformat_minor": 2
}
