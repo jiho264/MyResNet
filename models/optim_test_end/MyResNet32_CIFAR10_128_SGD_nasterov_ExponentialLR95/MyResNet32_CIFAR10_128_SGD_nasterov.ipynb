{
 "cells": [
  {
   "cell_type": "markdown",
   "metadata": {},
   "source": [
    "# Import"
   ]
  },
  {
   "cell_type": "code",
   "execution_count": 1,
   "metadata": {},
   "outputs": [],
   "source": [
    "import torch\n",
    "from torch import nn\n",
    "from torch.optim.lr_scheduler import ExponentialLR\n",
    "import sys, os\n",
    "\n",
    "sys.path.append(os.path.dirname(os.path.abspath(os.path.dirname(\"src\"))))\n",
    "\n",
    "from src.Mydataloader import LoadDataset\n",
    "from src.Mymodel import MyResNet_CIFAR\n",
    "from src.Mytraining import DoTraining\n",
    "from src.Earlystopper import EarlyStopper\n",
    "from src.LogViewer import LogViewer"
   ]
  },
  {
   "cell_type": "markdown",
   "metadata": {},
   "source": [
    "# Setup"
   ]
  },
  {
   "cell_type": "code",
   "execution_count": 2,
   "metadata": {},
   "outputs": [],
   "source": [
    "\"\"\"Dataset selection\"\"\"\n",
    "DATASET = \"CIFAR10\"\n",
    "# DATASET = \"CIFAR100\"\n",
    "# DATASET = \"ImageNet2012\"\n",
    "\n",
    "\"\"\"Dataset parameters\"\"\"\n",
    "BATCH = 128\n",
    "SHUFFLE = True\n",
    "NUMOFWORKERS = 8\n",
    "PIN_MEMORY = True\n",
    "\n",
    "\"\"\"optimizer parameters\"\"\"\n",
    "# OPTIMIZER = \"Adam\"\n",
    "# OPTIMIZER = \"Adam_decay\"\n",
    "# OPTIMIZER = \"SGD\"\n",
    "OPTIMIZER = \"SGD_nasterov\"\n",
    "# OPTIMIZER = \"AdamW\"\n",
    "# OPTIMIZER = \"AdamW_amsgrad\"\n",
    "# OPTIMIZER = \"NAdam\"\n",
    "\n",
    "\"\"\"Learning rate scheduler parameters\"\"\"\n",
    "NUM_EPOCHS = 100\n",
    "\n",
    "\"\"\"Early stopping parameters\"\"\"\n",
    "EARLYSTOPPINGPATIENCE = 100\n",
    "\n",
    "file_name = f\"MyResNet32_{BATCH}_{OPTIMIZER}\""
   ]
  },
  {
   "cell_type": "code",
   "execution_count": 3,
   "metadata": {},
   "outputs": [
    {
     "data": {
      "text/plain": [
       "'MyResNet32_128_SGD_nasterov'"
      ]
     },
     "execution_count": 3,
     "metadata": {},
     "output_type": "execute_result"
    }
   ],
   "source": [
    "file_name"
   ]
  },
  {
   "cell_type": "markdown",
   "metadata": {},
   "source": [
    "# Loading the dataset"
   ]
  },
  {
   "cell_type": "markdown",
   "metadata": {},
   "source": [
    "## Define Dateloader"
   ]
  },
  {
   "cell_type": "code",
   "execution_count": 4,
   "metadata": {},
   "outputs": [
    {
     "name": "stderr",
     "output_type": "stream",
     "text": [
      "/home/lee/anaconda3/lib/python3.11/site-packages/torchvision/transforms/v2/_deprecated.py:43: UserWarning: The transform `ToTensor()` is deprecated and will be removed in a future release. Instead, please use `v2.Compose([v2.ToImage(), v2.ToDtype(torch.float32, scale=True)])`.\n",
      "  warnings.warn(\n"
     ]
    },
    {
     "name": "stdout",
     "output_type": "stream",
     "text": [
      "-----------------------------------------------------------------------\n",
      "Dataset :  CIFAR10\n",
      "- Length of Train Set :  50000\n",
      "- Length of Test Set :  10000\n",
      "- Count of Classes :  10\n",
      "-----------------------------------------------------------------------\n"
     ]
    }
   ],
   "source": [
    "tmp = LoadDataset(root=\"../../../data\", seceted_dataset=DATASET)\n",
    "train_data, valid_data, test_data, COUNT_OF_CLASSES = tmp.Unpack()"
   ]
  },
  {
   "cell_type": "code",
   "execution_count": 5,
   "metadata": {},
   "outputs": [
    {
     "name": "stdout",
     "output_type": "stream",
     "text": [
      "train.transforms = Compose(\n",
      "      AutoAugment(interpolation=InterpolationMode.NEAREST, policy=AutoAugmentPolicy.CIFAR10)\n",
      "      RandomCrop(size=(32, 32), padding=[4, 4, 4, 4], pad_if_needed=False, fill=0, padding_mode=constant)\n",
      "      RandomHorizontalFlip(p=0.5)\n",
      "      ToTensor()\n",
      "      Normalize(mean=[0.49139968, 0.48215827, 0.44653124], std=[1, 1, 1], inplace=True)\n",
      ") 128\n",
      "test.transforms = ToTensor() 128\n"
     ]
    }
   ],
   "source": [
    "train_dataloader, valid_dataloader, test_dataloader = tmp.get_dataloader(\n",
    "    batch_size=BATCH, shuffle=SHUFFLE, num_workers=NUMOFWORKERS, pin_memory=PIN_MEMORY\n",
    ")"
   ]
  },
  {
   "cell_type": "markdown",
   "metadata": {},
   "source": [
    "# Define ResNet"
   ]
  },
  {
   "cell_type": "markdown",
   "metadata": {},
   "source": [
    "## Model Confirm"
   ]
  },
  {
   "cell_type": "code",
   "execution_count": 6,
   "metadata": {},
   "outputs": [
    {
     "data": {
      "text/plain": [
       "device(type='cuda')"
      ]
     },
     "execution_count": 6,
     "metadata": {},
     "output_type": "execute_result"
    }
   ],
   "source": [
    "device = torch.device(\"cuda\" if torch.cuda.is_available() else \"cpu\")\n",
    "device"
   ]
  },
  {
   "cell_type": "code",
   "execution_count": 7,
   "metadata": {},
   "outputs": [],
   "source": [
    "model = MyResNet_CIFAR(num_classes=COUNT_OF_CLASSES, num_layer_factor=5).to(device)"
   ]
  },
  {
   "cell_type": "markdown",
   "metadata": {},
   "source": [
    "# Define Training"
   ]
  },
  {
   "cell_type": "markdown",
   "metadata": {},
   "source": [
    "## (1) Define Criterion"
   ]
  },
  {
   "cell_type": "code",
   "execution_count": 8,
   "metadata": {},
   "outputs": [],
   "source": [
    "criterion = nn.CrossEntropyLoss()"
   ]
  },
  {
   "cell_type": "markdown",
   "metadata": {},
   "source": [
    "## (2) Define Optimazer"
   ]
  },
  {
   "cell_type": "code",
   "execution_count": 9,
   "metadata": {},
   "outputs": [],
   "source": [
    "if OPTIMIZER == \"Adam\":\n",
    "    optimizer = torch.optim.Adam(model.parameters())\n",
    "elif OPTIMIZER == \"Adam_decay\":\n",
    "    optimizer = torch.optim.Adam(model.parameters(), weight_decay=1e-4)\n",
    "elif OPTIMIZER == \"SGD\":\n",
    "    optimizer = torch.optim.SGD(\n",
    "        model.parameters(), lr=0.1, momentum=0.9, weight_decay=1e-4\n",
    "    )\n",
    "elif OPTIMIZER == \"SGD_nasterov\":\n",
    "    optimizer = torch.optim.SGD(\n",
    "        model.parameters(), lr=0.1, momentum=0.9, weight_decay=1e-4, nesterov=True\n",
    "    )\n",
    "elif OPTIMIZER == \"AdamW\":\n",
    "    optimizer = torch.optim.AdamW(model.parameters(), weight_decay=1e-4)\n",
    "elif OPTIMIZER == \"AdamW_amsgrad\":\n",
    "    optimizer = torch.optim.AdamW(model.parameters(), weight_decay=1e-4, amsgrad=True)\n",
    "elif OPTIMIZER == \"NAdam\":\n",
    "    optimizer = torch.optim.NAdam(model.parameters(), weight_decay=1e-4)"
   ]
  },
  {
   "cell_type": "markdown",
   "metadata": {},
   "source": [
    "## (3) Define Early Stopping"
   ]
  },
  {
   "cell_type": "code",
   "execution_count": 10,
   "metadata": {},
   "outputs": [],
   "source": [
    "earlystopper = EarlyStopper(patience=EARLYSTOPPINGPATIENCE, model=model, file_name=file_name)"
   ]
  },
  {
   "cell_type": "markdown",
   "metadata": {},
   "source": [
    "## (4) Define Learning Rate schedualer"
   ]
  },
  {
   "cell_type": "code",
   "execution_count": 11,
   "metadata": {},
   "outputs": [],
   "source": [
    "scheduler = ExponentialLR(optimizer, gamma=0.95)"
   ]
  },
  {
   "cell_type": "markdown",
   "metadata": {},
   "source": [
    "## (5) Define AMP scaler"
   ]
  },
  {
   "cell_type": "code",
   "execution_count": 12,
   "metadata": {},
   "outputs": [],
   "source": [
    "scaler = torch.cuda.amp.GradScaler(enabled=True)"
   ]
  },
  {
   "cell_type": "markdown",
   "metadata": {},
   "source": [
    "## Load before process"
   ]
  },
  {
   "cell_type": "code",
   "execution_count": 13,
   "metadata": {},
   "outputs": [
    {
     "name": "stdout",
     "output_type": "stream",
     "text": [
      "File does not exist. Created a new log.\n"
     ]
    }
   ],
   "source": [
    "if os.path.exists(file_name + \".pth.tar\"):\n",
    "    # Read checkpoint as desired, e.g.,\n",
    "    checkpoint = torch.load(\n",
    "        file_name + \".pth.tar\",\n",
    "        map_location=lambda storage, loc: storage.cuda(device),\n",
    "    )\n",
    "    model.load_state_dict(checkpoint[\"model\"])\n",
    "    optimizer.load_state_dict(checkpoint[\"optimizer\"])\n",
    "    scaler.load_state_dict(checkpoint[\"scaler\"])\n",
    "    scheduler.load_state_dict(checkpoint[\"scheduler\"])\n",
    "    earlystopper.load_state_dict(checkpoint[\"earlystopper\"])\n",
    "    logs = checkpoint[\"logs\"]\n",
    "\n",
    "    print(\"Suceessfully loaded the All setting and Log file.\")\n",
    "    print(file_name)\n",
    "    print(f\"Current epoch is {len(logs['train_loss'])}\")\n",
    "    print(f\"Current learning rate: {optimizer.param_groups[0]['lr']}\")\n",
    "else:\n",
    "    # Create a dictionary to store the variables\n",
    "    train_loss = []\n",
    "    train_acc = []\n",
    "    eval_loss = []\n",
    "    valid_acc = []\n",
    "    test_loss = []\n",
    "    test_acc = []\n",
    "    lr_log = []\n",
    "    logs = {\n",
    "        \"train_loss\": train_loss,\n",
    "        \"train_acc\": train_acc,\n",
    "        \"valid_loss\": eval_loss,\n",
    "        \"valid_acc\": valid_acc,\n",
    "        \"test_loss\": test_loss,\n",
    "        \"test_acc\": test_acc,\n",
    "        \"lr_log\": lr_log,\n",
    "    }\n",
    "    print(\"File does not exist. Created a new log.\")"
   ]
  },
  {
   "cell_type": "code",
   "execution_count": 14,
   "metadata": {},
   "outputs": [
    {
     "data": {
      "text/plain": [
       "0.1"
      ]
     },
     "execution_count": 14,
     "metadata": {},
     "output_type": "execute_result"
    }
   ],
   "source": [
    "optimizer.param_groups[0][\"lr\"]"
   ]
  },
  {
   "cell_type": "code",
   "execution_count": 15,
   "metadata": {},
   "outputs": [
    {
     "data": {
      "text/plain": [
       "0"
      ]
     },
     "execution_count": 15,
     "metadata": {},
     "output_type": "execute_result"
    }
   ],
   "source": [
    "earlystopper.early_stop_counter"
   ]
  },
  {
   "cell_type": "markdown",
   "metadata": {},
   "source": [
    "# [Training Loop]"
   ]
  },
  {
   "cell_type": "code",
   "execution_count": 16,
   "metadata": {},
   "outputs": [
    {
     "name": "stdout",
     "output_type": "stream",
     "text": [
      "[Epoch 1/100] :\n"
     ]
    },
    {
     "name": "stderr",
     "output_type": "stream",
     "text": [
      "1 Train: 100%|███████| 391/391 [00:36<00:00, 10.63it/s]"
     ]
    },
    {
     "name": "stdout",
     "output_type": "stream",
     "text": [
      "Train Loss: 2.5058 | Train Acc: 10.01%\n"
     ]
    },
    {
     "name": "stderr",
     "output_type": "stream",
     "text": [
      "\n"
     ]
    },
    {
     "name": "stdout",
     "output_type": "stream",
     "text": [
      "Test  Loss: 2.3128 | Test Acc: 10.00%\n",
      "updated best eval loss : 2.3127765957313247\n",
      "--------------------------------------------------\n",
      "[Epoch 2/100] :\n"
     ]
    },
    {
     "name": "stderr",
     "output_type": "stream",
     "text": [
      "2 Train: 100%|███████| 391/391 [00:29<00:00, 13.34it/s]\n"
     ]
    },
    {
     "name": "stdout",
     "output_type": "stream",
     "text": [
      "Train Loss: 2.3045 | Train Acc: 9.89%\n",
      "Test  Loss: 2.3084 | Test Acc: 9.98%\n",
      "updated best eval loss : 2.308395062820821\n",
      "--------------------------------------------------\n",
      "[Epoch 3/100] :\n"
     ]
    },
    {
     "name": "stderr",
     "output_type": "stream",
     "text": [
      "3 Train: 100%|███████| 391/391 [00:29<00:00, 13.14it/s]\n"
     ]
    },
    {
     "name": "stdout",
     "output_type": "stream",
     "text": [
      "Train Loss: 2.3043 | Train Acc: 9.88%\n",
      "Test  Loss: 2.3066 | Test Acc: 8.06%\n",
      "updated best eval loss : 2.306585435625873\n",
      "--------------------------------------------------\n",
      "[Epoch 4/100] :\n"
     ]
    },
    {
     "name": "stderr",
     "output_type": "stream",
     "text": [
      "4 Train: 100%|███████| 391/391 [00:29<00:00, 13.41it/s]\n"
     ]
    },
    {
     "name": "stdout",
     "output_type": "stream",
     "text": [
      "Train Loss: 2.3043 | Train Acc: 9.95%\n",
      "Test  Loss: 2.3308 | Test Acc: 10.60%\n",
      "--------------------------------------------------\n",
      "[Epoch 5/100] :\n"
     ]
    },
    {
     "name": "stderr",
     "output_type": "stream",
     "text": [
      "5 Train: 100%|███████| 391/391 [00:28<00:00, 13.50it/s]\n"
     ]
    },
    {
     "name": "stdout",
     "output_type": "stream",
     "text": [
      "Train Loss: 2.3042 | Train Acc: 9.95%\n",
      "Test  Loss: 2.3160 | Test Acc: 9.76%\n",
      "--------------------------------------------------\n",
      "[Epoch 6/100] :\n"
     ]
    },
    {
     "name": "stderr",
     "output_type": "stream",
     "text": [
      "6 Train: 100%|███████| 391/391 [00:28<00:00, 13.78it/s]\n"
     ]
    },
    {
     "name": "stdout",
     "output_type": "stream",
     "text": [
      "Train Loss: 2.3040 | Train Acc: 10.22%\n",
      "Test  Loss: 2.3099 | Test Acc: 9.08%\n",
      "--------------------------------------------------\n",
      "[Epoch 7/100] :\n"
     ]
    },
    {
     "name": "stderr",
     "output_type": "stream",
     "text": [
      "7 Train: 100%|███████| 391/391 [00:30<00:00, 12.99it/s]\n"
     ]
    },
    {
     "name": "stdout",
     "output_type": "stream",
     "text": [
      "Train Loss: 2.3042 | Train Acc: 10.13%\n",
      "Test  Loss: 2.3110 | Test Acc: 9.94%\n",
      "--------------------------------------------------\n",
      "[Epoch 8/100] :\n"
     ]
    },
    {
     "name": "stderr",
     "output_type": "stream",
     "text": [
      "8 Train: 100%|███████| 391/391 [00:31<00:00, 12.44it/s]\n"
     ]
    },
    {
     "name": "stdout",
     "output_type": "stream",
     "text": [
      "Train Loss: 2.3042 | Train Acc: 9.84%\n",
      "Test  Loss: 2.3044 | Test Acc: 10.00%\n",
      "updated best eval loss : 2.3044359985786147\n",
      "--------------------------------------------------\n",
      "[Epoch 9/100] :\n"
     ]
    },
    {
     "name": "stderr",
     "output_type": "stream",
     "text": [
      "9 Train: 100%|███████| 391/391 [00:34<00:00, 11.17it/s]\n"
     ]
    },
    {
     "name": "stdout",
     "output_type": "stream",
     "text": [
      "Train Loss: 2.3041 | Train Acc: 9.98%\n",
      "Test  Loss: 2.3051 | Test Acc: 10.00%\n",
      "--------------------------------------------------\n",
      "[Epoch 10/100] :\n"
     ]
    },
    {
     "name": "stderr",
     "output_type": "stream",
     "text": [
      "10 Train: 100%|██████| 391/391 [00:45<00:00,  8.66it/s]\n"
     ]
    },
    {
     "name": "stdout",
     "output_type": "stream",
     "text": [
      "Train Loss: 2.3041 | Train Acc: 9.93%\n",
      "Test  Loss: 2.3050 | Test Acc: 10.00%\n",
      "--------------------------------------------------\n",
      "[Epoch 11/100] :\n"
     ]
    },
    {
     "name": "stderr",
     "output_type": "stream",
     "text": [
      "11 Train: 100%|██████| 391/391 [00:47<00:00,  8.20it/s]\n"
     ]
    },
    {
     "name": "stdout",
     "output_type": "stream",
     "text": [
      "Train Loss: 2.3044 | Train Acc: 9.89%\n",
      "Test  Loss: 2.3042 | Test Acc: 9.99%\n",
      "updated best eval loss : 2.3042387026774733\n",
      "--------------------------------------------------\n",
      "[Epoch 12/100] :\n"
     ]
    },
    {
     "name": "stderr",
     "output_type": "stream",
     "text": [
      "12 Train: 100%|██████| 391/391 [00:37<00:00, 10.53it/s]\n"
     ]
    },
    {
     "name": "stdout",
     "output_type": "stream",
     "text": [
      "Train Loss: 2.3044 | Train Acc: 9.75%\n",
      "Test  Loss: 2.3045 | Test Acc: 10.00%\n",
      "--------------------------------------------------\n",
      "[Epoch 13/100] :\n"
     ]
    },
    {
     "name": "stderr",
     "output_type": "stream",
     "text": [
      "13 Train: 100%|██████| 391/391 [00:34<00:00, 11.48it/s]\n"
     ]
    },
    {
     "name": "stdout",
     "output_type": "stream",
     "text": [
      "Train Loss: 2.3045 | Train Acc: 9.93%\n",
      "Test  Loss: 2.3040 | Test Acc: 9.81%\n",
      "updated best eval loss : 2.303977344609514\n",
      "--------------------------------------------------\n",
      "[Epoch 14/100] :\n"
     ]
    },
    {
     "name": "stderr",
     "output_type": "stream",
     "text": [
      "14 Train: 100%|██████| 391/391 [00:34<00:00, 11.33it/s]\n"
     ]
    },
    {
     "name": "stdout",
     "output_type": "stream",
     "text": [
      "Train Loss: 2.3046 | Train Acc: 9.95%\n",
      "Test  Loss: 2.3055 | Test Acc: 10.00%\n",
      "--------------------------------------------------\n",
      "[Epoch 15/100] :\n"
     ]
    },
    {
     "name": "stderr",
     "output_type": "stream",
     "text": [
      "15 Train: 100%|██████| 391/391 [00:34<00:00, 11.43it/s]\n"
     ]
    },
    {
     "name": "stdout",
     "output_type": "stream",
     "text": [
      "Train Loss: 2.3044 | Train Acc: 9.75%\n",
      "Test  Loss: 2.3080 | Test Acc: 10.00%\n",
      "--------------------------------------------------\n",
      "[Epoch 16/100] :\n"
     ]
    },
    {
     "name": "stderr",
     "output_type": "stream",
     "text": [
      "16 Train: 100%|██████| 391/391 [00:35<00:00, 11.06it/s]\n"
     ]
    },
    {
     "name": "stdout",
     "output_type": "stream",
     "text": [
      "Train Loss: 2.3043 | Train Acc: 10.03%\n",
      "Test  Loss: 2.3120 | Test Acc: 9.69%\n",
      "--------------------------------------------------\n",
      "[Epoch 17/100] :\n"
     ]
    },
    {
     "name": "stderr",
     "output_type": "stream",
     "text": [
      "17 Train: 100%|██████| 391/391 [00:32<00:00, 12.15it/s]\n"
     ]
    },
    {
     "name": "stdout",
     "output_type": "stream",
     "text": [
      "Train Loss: 2.3037 | Train Acc: 9.73%\n",
      "Test  Loss: 2.3037 | Test Acc: 10.00%\n",
      "updated best eval loss : 2.3036653391922575\n",
      "--------------------------------------------------\n",
      "[Epoch 18/100] :\n"
     ]
    },
    {
     "name": "stderr",
     "output_type": "stream",
     "text": [
      "18 Train: 100%|██████| 391/391 [00:32<00:00, 11.87it/s]\n"
     ]
    },
    {
     "name": "stdout",
     "output_type": "stream",
     "text": [
      "Train Loss: 2.1442 | Train Acc: 17.82%\n",
      "Test  Loss: 1.8896 | Test Acc: 27.86%\n",
      "updated best eval loss : 1.8895640871192836\n",
      "--------------------------------------------------\n",
      "[Epoch 19/100] :\n"
     ]
    },
    {
     "name": "stderr",
     "output_type": "stream",
     "text": [
      "19 Train: 100%|██████| 391/391 [00:32<00:00, 11.88it/s]\n"
     ]
    },
    {
     "name": "stdout",
     "output_type": "stream",
     "text": [
      "Train Loss: 1.7026 | Train Acc: 36.88%\n",
      "Test  Loss: 1.3869 | Test Acc: 49.34%\n",
      "updated best eval loss : 1.3869225722324998\n",
      "--------------------------------------------------\n",
      "[Epoch 20/100] :\n"
     ]
    },
    {
     "name": "stderr",
     "output_type": "stream",
     "text": [
      "20 Train: 100%|██████| 391/391 [00:32<00:00, 11.98it/s]\n"
     ]
    },
    {
     "name": "stdout",
     "output_type": "stream",
     "text": [
      "Train Loss: 1.2830 | Train Acc: 54.08%\n",
      "Test  Loss: 1.4557 | Test Acc: 53.25%\n",
      "--------------------------------------------------\n",
      "[Epoch 21/100] :\n"
     ]
    },
    {
     "name": "stderr",
     "output_type": "stream",
     "text": [
      "21 Train: 100%|██████| 391/391 [00:33<00:00, 11.74it/s]\n"
     ]
    },
    {
     "name": "stdout",
     "output_type": "stream",
     "text": [
      "Train Loss: 1.0479 | Train Acc: 63.11%\n",
      "Test  Loss: 1.1151 | Test Acc: 61.99%\n",
      "updated best eval loss : 1.1150988981693606\n",
      "--------------------------------------------------\n",
      "[Epoch 22/100] :\n"
     ]
    },
    {
     "name": "stderr",
     "output_type": "stream",
     "text": [
      "22 Train: 100%|██████| 391/391 [00:36<00:00, 10.72it/s]\n"
     ]
    },
    {
     "name": "stdout",
     "output_type": "stream",
     "text": [
      "Train Loss: 0.9272 | Train Acc: 67.54%\n",
      "Test  Loss: 1.2642 | Test Acc: 58.94%\n",
      "--------------------------------------------------\n",
      "[Epoch 23/100] :\n"
     ]
    },
    {
     "name": "stderr",
     "output_type": "stream",
     "text": [
      "23 Train: 100%|██████| 391/391 [00:48<00:00,  8.05it/s]\n"
     ]
    },
    {
     "name": "stdout",
     "output_type": "stream",
     "text": [
      "Train Loss: 0.8472 | Train Acc: 70.41%\n",
      "Test  Loss: 0.8290 | Test Acc: 72.21%\n",
      "updated best eval loss : 0.8289915926848785\n",
      "--------------------------------------------------\n",
      "[Epoch 24/100] :\n"
     ]
    },
    {
     "name": "stderr",
     "output_type": "stream",
     "text": [
      "24 Train: 100%|██████| 391/391 [00:46<00:00,  8.37it/s]\n"
     ]
    },
    {
     "name": "stdout",
     "output_type": "stream",
     "text": [
      "Train Loss: 0.7889 | Train Acc: 72.61%\n",
      "Test  Loss: 0.7490 | Test Acc: 73.56%\n",
      "updated best eval loss : 0.7489815799495841\n",
      "--------------------------------------------------\n",
      "[Epoch 25/100] :\n"
     ]
    },
    {
     "name": "stderr",
     "output_type": "stream",
     "text": [
      "25 Train: 100%|██████| 391/391 [00:47<00:00,  8.21it/s]\n"
     ]
    },
    {
     "name": "stdout",
     "output_type": "stream",
     "text": [
      "Train Loss: 0.7566 | Train Acc: 73.87%\n",
      "Test  Loss: 1.0321 | Test Acc: 66.70%\n",
      "--------------------------------------------------\n",
      "[Epoch 26/100] :\n"
     ]
    },
    {
     "name": "stderr",
     "output_type": "stream",
     "text": [
      "26 Train: 100%|██████| 391/391 [00:46<00:00,  8.47it/s]\n"
     ]
    },
    {
     "name": "stdout",
     "output_type": "stream",
     "text": [
      "Train Loss: 0.7172 | Train Acc: 75.02%\n",
      "Test  Loss: 0.7898 | Test Acc: 72.41%\n",
      "--------------------------------------------------\n",
      "[Epoch 27/100] :\n"
     ]
    },
    {
     "name": "stderr",
     "output_type": "stream",
     "text": [
      "27 Train: 100%|██████| 391/391 [00:48<00:00,  8.11it/s]\n"
     ]
    },
    {
     "name": "stdout",
     "output_type": "stream",
     "text": [
      "Train Loss: 0.6939 | Train Acc: 75.88%\n",
      "Test  Loss: 0.7328 | Test Acc: 75.66%\n",
      "updated best eval loss : 0.7327636231349993\n",
      "--------------------------------------------------\n",
      "[Epoch 28/100] :\n"
     ]
    },
    {
     "name": "stderr",
     "output_type": "stream",
     "text": [
      "28 Train: 100%|██████| 391/391 [00:46<00:00,  8.34it/s]\n"
     ]
    },
    {
     "name": "stdout",
     "output_type": "stream",
     "text": [
      "Train Loss: 0.6666 | Train Acc: 76.88%\n",
      "Test  Loss: 0.8026 | Test Acc: 71.88%\n",
      "--------------------------------------------------\n",
      "[Epoch 29/100] :\n"
     ]
    },
    {
     "name": "stderr",
     "output_type": "stream",
     "text": [
      "29 Train: 100%|██████| 391/391 [00:47<00:00,  8.15it/s]\n"
     ]
    },
    {
     "name": "stdout",
     "output_type": "stream",
     "text": [
      "Train Loss: 0.6511 | Train Acc: 77.60%\n",
      "Test  Loss: 0.8666 | Test Acc: 71.74%\n",
      "--------------------------------------------------\n",
      "[Epoch 30/100] :\n"
     ]
    },
    {
     "name": "stderr",
     "output_type": "stream",
     "text": [
      "30 Train: 100%|██████| 391/391 [00:45<00:00,  8.58it/s]\n"
     ]
    },
    {
     "name": "stdout",
     "output_type": "stream",
     "text": [
      "Train Loss: 0.6319 | Train Acc: 77.93%\n",
      "Test  Loss: 0.7535 | Test Acc: 73.36%\n",
      "--------------------------------------------------\n",
      "[Epoch 31/100] :\n"
     ]
    },
    {
     "name": "stderr",
     "output_type": "stream",
     "text": [
      "31 Train: 100%|██████| 391/391 [00:50<00:00,  7.75it/s]\n"
     ]
    },
    {
     "name": "stdout",
     "output_type": "stream",
     "text": [
      "Train Loss: 0.6248 | Train Acc: 78.49%\n",
      "Test  Loss: 0.8961 | Test Acc: 70.63%\n",
      "--------------------------------------------------\n",
      "[Epoch 32/100] :\n"
     ]
    },
    {
     "name": "stderr",
     "output_type": "stream",
     "text": [
      "32 Train: 100%|██████| 391/391 [00:47<00:00,  8.23it/s]\n"
     ]
    },
    {
     "name": "stdout",
     "output_type": "stream",
     "text": [
      "Train Loss: 0.6087 | Train Acc: 78.99%\n",
      "Test  Loss: 0.6743 | Test Acc: 76.94%\n",
      "updated best eval loss : 0.6743057434317432\n",
      "--------------------------------------------------\n",
      "[Epoch 33/100] :\n"
     ]
    },
    {
     "name": "stderr",
     "output_type": "stream",
     "text": [
      "33 Train: 100%|██████| 391/391 [00:49<00:00,  7.86it/s]\n"
     ]
    },
    {
     "name": "stdout",
     "output_type": "stream",
     "text": [
      "Train Loss: 0.5938 | Train Acc: 79.41%\n",
      "Test  Loss: 0.7139 | Test Acc: 76.05%\n",
      "--------------------------------------------------\n",
      "[Epoch 34/100] :\n"
     ]
    },
    {
     "name": "stderr",
     "output_type": "stream",
     "text": [
      "34 Train: 100%|██████| 391/391 [00:46<00:00,  8.43it/s]\n"
     ]
    },
    {
     "name": "stdout",
     "output_type": "stream",
     "text": [
      "Train Loss: 0.5810 | Train Acc: 79.92%\n",
      "Test  Loss: 0.6722 | Test Acc: 77.06%\n",
      "updated best eval loss : 0.6721976588043985\n",
      "--------------------------------------------------\n",
      "[Epoch 35/100] :\n"
     ]
    },
    {
     "name": "stderr",
     "output_type": "stream",
     "text": [
      "35 Train: 100%|██████| 391/391 [00:47<00:00,  8.17it/s]\n"
     ]
    },
    {
     "name": "stdout",
     "output_type": "stream",
     "text": [
      "Train Loss: 0.5690 | Train Acc: 80.30%\n",
      "Test  Loss: 0.8203 | Test Acc: 73.69%\n",
      "--------------------------------------------------\n",
      "[Epoch 36/100] :\n"
     ]
    },
    {
     "name": "stderr",
     "output_type": "stream",
     "text": [
      "36 Train: 100%|██████| 391/391 [00:47<00:00,  8.16it/s]\n"
     ]
    },
    {
     "name": "stdout",
     "output_type": "stream",
     "text": [
      "Train Loss: 0.5646 | Train Acc: 80.39%\n",
      "Test  Loss: 0.5709 | Test Acc: 80.59%\n",
      "updated best eval loss : 0.5709461984755118\n",
      "--------------------------------------------------\n",
      "[Epoch 37/100] :\n"
     ]
    },
    {
     "name": "stderr",
     "output_type": "stream",
     "text": [
      "37 Train: 100%|██████| 391/391 [00:46<00:00,  8.48it/s]\n"
     ]
    },
    {
     "name": "stdout",
     "output_type": "stream",
     "text": [
      "Train Loss: 0.5521 | Train Acc: 80.90%\n",
      "Test  Loss: 0.8884 | Test Acc: 70.58%\n",
      "--------------------------------------------------\n",
      "[Epoch 38/100] :\n"
     ]
    },
    {
     "name": "stderr",
     "output_type": "stream",
     "text": [
      "38 Train: 100%|██████| 391/391 [00:48<00:00,  8.05it/s]\n"
     ]
    },
    {
     "name": "stdout",
     "output_type": "stream",
     "text": [
      "Train Loss: 0.5487 | Train Acc: 80.81%\n",
      "Test  Loss: 0.6785 | Test Acc: 77.41%\n",
      "--------------------------------------------------\n",
      "[Epoch 39/100] :\n"
     ]
    },
    {
     "name": "stderr",
     "output_type": "stream",
     "text": [
      "39 Train: 100%|██████| 391/391 [00:46<00:00,  8.47it/s]\n"
     ]
    },
    {
     "name": "stdout",
     "output_type": "stream",
     "text": [
      "Train Loss: 0.5374 | Train Acc: 81.27%\n",
      "Test  Loss: 0.7396 | Test Acc: 75.61%\n",
      "--------------------------------------------------\n",
      "[Epoch 40/100] :\n"
     ]
    },
    {
     "name": "stderr",
     "output_type": "stream",
     "text": [
      "40 Train: 100%|██████| 391/391 [00:50<00:00,  7.82it/s]\n"
     ]
    },
    {
     "name": "stdout",
     "output_type": "stream",
     "text": [
      "Train Loss: 0.5292 | Train Acc: 81.70%\n",
      "Test  Loss: 0.6321 | Test Acc: 78.87%\n",
      "--------------------------------------------------\n",
      "[Epoch 41/100] :\n"
     ]
    },
    {
     "name": "stderr",
     "output_type": "stream",
     "text": [
      "41 Train: 100%|██████| 391/391 [00:45<00:00,  8.66it/s]\n"
     ]
    },
    {
     "name": "stdout",
     "output_type": "stream",
     "text": [
      "Train Loss: 0.5268 | Train Acc: 81.69%\n",
      "Test  Loss: 0.7043 | Test Acc: 76.98%\n",
      "--------------------------------------------------\n",
      "[Epoch 42/100] :\n"
     ]
    },
    {
     "name": "stderr",
     "output_type": "stream",
     "text": [
      "42 Train: 100%|██████| 391/391 [00:47<00:00,  8.22it/s]\n"
     ]
    },
    {
     "name": "stdout",
     "output_type": "stream",
     "text": [
      "Train Loss: 0.5199 | Train Acc: 82.06%\n",
      "Test  Loss: 0.8584 | Test Acc: 72.16%\n",
      "--------------------------------------------------\n",
      "[Epoch 43/100] :\n"
     ]
    },
    {
     "name": "stderr",
     "output_type": "stream",
     "text": [
      "43 Train: 100%|██████| 391/391 [00:46<00:00,  8.36it/s]\n"
     ]
    },
    {
     "name": "stdout",
     "output_type": "stream",
     "text": [
      "Train Loss: 0.5149 | Train Acc: 82.22%\n",
      "Test  Loss: 0.6518 | Test Acc: 78.00%\n",
      "--------------------------------------------------\n",
      "[Epoch 44/100] :\n"
     ]
    },
    {
     "name": "stderr",
     "output_type": "stream",
     "text": [
      "44 Train: 100%|██████| 391/391 [00:46<00:00,  8.44it/s]\n"
     ]
    },
    {
     "name": "stdout",
     "output_type": "stream",
     "text": [
      "Train Loss: 0.5058 | Train Acc: 82.59%\n",
      "Test  Loss: 0.6481 | Test Acc: 78.12%\n",
      "--------------------------------------------------\n",
      "[Epoch 45/100] :\n"
     ]
    },
    {
     "name": "stderr",
     "output_type": "stream",
     "text": [
      "45 Train: 100%|██████| 391/391 [00:46<00:00,  8.49it/s]\n"
     ]
    },
    {
     "name": "stdout",
     "output_type": "stream",
     "text": [
      "Train Loss: 0.5019 | Train Acc: 82.60%\n",
      "Test  Loss: 0.7239 | Test Acc: 76.36%\n",
      "--------------------------------------------------\n",
      "[Epoch 46/100] :\n"
     ]
    },
    {
     "name": "stderr",
     "output_type": "stream",
     "text": [
      "46 Train: 100%|██████| 391/391 [00:47<00:00,  8.17it/s]\n"
     ]
    },
    {
     "name": "stdout",
     "output_type": "stream",
     "text": [
      "Train Loss: 0.4975 | Train Acc: 82.70%\n",
      "Test  Loss: 0.6484 | Test Acc: 78.75%\n",
      "--------------------------------------------------\n",
      "[Epoch 47/100] :\n"
     ]
    },
    {
     "name": "stderr",
     "output_type": "stream",
     "text": [
      "47 Train: 100%|██████| 391/391 [00:45<00:00,  8.56it/s]\n"
     ]
    },
    {
     "name": "stdout",
     "output_type": "stream",
     "text": [
      "Train Loss: 0.4963 | Train Acc: 82.71%\n",
      "Test  Loss: 0.6211 | Test Acc: 79.15%\n",
      "--------------------------------------------------\n",
      "[Epoch 48/100] :\n"
     ]
    },
    {
     "name": "stderr",
     "output_type": "stream",
     "text": [
      "48 Train: 100%|██████| 391/391 [00:49<00:00,  7.97it/s]\n"
     ]
    },
    {
     "name": "stdout",
     "output_type": "stream",
     "text": [
      "Train Loss: 0.4926 | Train Acc: 82.95%\n",
      "Test  Loss: 0.5621 | Test Acc: 81.81%\n",
      "updated best eval loss : 0.5620867760875558\n",
      "--------------------------------------------------\n",
      "[Epoch 49/100] :\n"
     ]
    },
    {
     "name": "stderr",
     "output_type": "stream",
     "text": [
      "49 Train: 100%|██████| 391/391 [00:45<00:00,  8.61it/s]\n"
     ]
    },
    {
     "name": "stdout",
     "output_type": "stream",
     "text": [
      "Train Loss: 0.4886 | Train Acc: 82.87%\n",
      "Test  Loss: 0.6222 | Test Acc: 78.45%\n",
      "--------------------------------------------------\n",
      "[Epoch 50/100] :\n"
     ]
    },
    {
     "name": "stderr",
     "output_type": "stream",
     "text": [
      "50 Train: 100%|██████| 391/391 [00:48<00:00,  8.05it/s]\n"
     ]
    },
    {
     "name": "stdout",
     "output_type": "stream",
     "text": [
      "Train Loss: 0.4823 | Train Acc: 83.29%\n",
      "Test  Loss: 0.5769 | Test Acc: 80.65%\n",
      "--------------------------------------------------\n",
      "[Epoch 51/100] :\n"
     ]
    },
    {
     "name": "stderr",
     "output_type": "stream",
     "text": [
      "51 Train: 100%|██████| 391/391 [00:46<00:00,  8.34it/s]\n"
     ]
    },
    {
     "name": "stdout",
     "output_type": "stream",
     "text": [
      "Train Loss: 0.4823 | Train Acc: 83.28%\n",
      "Test  Loss: 0.4813 | Test Acc: 83.50%\n",
      "updated best eval loss : 0.4813146806215938\n",
      "--------------------------------------------------\n",
      "[Epoch 52/100] :\n"
     ]
    },
    {
     "name": "stderr",
     "output_type": "stream",
     "text": [
      "52 Train: 100%|██████| 391/391 [00:47<00:00,  8.24it/s]\n"
     ]
    },
    {
     "name": "stdout",
     "output_type": "stream",
     "text": [
      "Train Loss: 0.4738 | Train Acc: 83.45%\n",
      "Test  Loss: 0.7482 | Test Acc: 75.10%\n",
      "--------------------------------------------------\n",
      "[Epoch 53/100] :\n"
     ]
    },
    {
     "name": "stderr",
     "output_type": "stream",
     "text": [
      "53 Train: 100%|██████| 391/391 [00:45<00:00,  8.62it/s]\n"
     ]
    },
    {
     "name": "stdout",
     "output_type": "stream",
     "text": [
      "Train Loss: 0.4720 | Train Acc: 83.54%\n",
      "Test  Loss: 0.5866 | Test Acc: 80.26%\n",
      "--------------------------------------------------\n",
      "[Epoch 54/100] :\n"
     ]
    },
    {
     "name": "stderr",
     "output_type": "stream",
     "text": [
      "54 Train: 100%|██████| 391/391 [00:49<00:00,  7.97it/s]\n"
     ]
    },
    {
     "name": "stdout",
     "output_type": "stream",
     "text": [
      "Train Loss: 0.4704 | Train Acc: 83.69%\n",
      "Test  Loss: 0.5961 | Test Acc: 80.73%\n",
      "--------------------------------------------------\n",
      "[Epoch 55/100] :\n"
     ]
    },
    {
     "name": "stderr",
     "output_type": "stream",
     "text": [
      "55 Train: 100%|██████| 391/391 [00:46<00:00,  8.37it/s]\n"
     ]
    },
    {
     "name": "stdout",
     "output_type": "stream",
     "text": [
      "Train Loss: 0.4619 | Train Acc: 83.91%\n",
      "Test  Loss: 0.5069 | Test Acc: 83.11%\n",
      "--------------------------------------------------\n",
      "[Epoch 56/100] :\n"
     ]
    },
    {
     "name": "stderr",
     "output_type": "stream",
     "text": [
      "56 Train: 100%|██████| 391/391 [00:47<00:00,  8.28it/s]\n"
     ]
    },
    {
     "name": "stdout",
     "output_type": "stream",
     "text": [
      "Train Loss: 0.4611 | Train Acc: 84.10%\n",
      "Test  Loss: 0.5982 | Test Acc: 80.16%\n",
      "--------------------------------------------------\n",
      "[Epoch 57/100] :\n"
     ]
    },
    {
     "name": "stderr",
     "output_type": "stream",
     "text": [
      "57 Train: 100%|██████| 391/391 [00:45<00:00,  8.60it/s]\n"
     ]
    },
    {
     "name": "stdout",
     "output_type": "stream",
     "text": [
      "Train Loss: 0.4614 | Train Acc: 83.97%\n",
      "Test  Loss: 0.5304 | Test Acc: 81.76%\n",
      "--------------------------------------------------\n",
      "[Epoch 58/100] :\n"
     ]
    },
    {
     "name": "stderr",
     "output_type": "stream",
     "text": [
      "58 Train: 100%|██████| 391/391 [00:47<00:00,  8.22it/s]\n"
     ]
    },
    {
     "name": "stdout",
     "output_type": "stream",
     "text": [
      "Train Loss: 0.4578 | Train Acc: 83.94%\n",
      "Test  Loss: 0.5941 | Test Acc: 80.01%\n",
      "--------------------------------------------------\n",
      "[Epoch 59/100] :\n"
     ]
    },
    {
     "name": "stderr",
     "output_type": "stream",
     "text": [
      "59 Train: 100%|██████| 391/391 [00:45<00:00,  8.52it/s]\n"
     ]
    },
    {
     "name": "stdout",
     "output_type": "stream",
     "text": [
      "Train Loss: 0.4535 | Train Acc: 84.17%\n",
      "Test  Loss: 0.7119 | Test Acc: 77.84%\n",
      "--------------------------------------------------\n",
      "[Epoch 60/100] :\n"
     ]
    },
    {
     "name": "stderr",
     "output_type": "stream",
     "text": [
      "60 Train: 100%|██████| 391/391 [00:46<00:00,  8.41it/s]\n"
     ]
    },
    {
     "name": "stdout",
     "output_type": "stream",
     "text": [
      "Train Loss: 0.4560 | Train Acc: 84.25%\n",
      "Test  Loss: 0.6351 | Test Acc: 79.03%\n",
      "--------------------------------------------------\n",
      "[Epoch 61/100] :\n"
     ]
    },
    {
     "name": "stderr",
     "output_type": "stream",
     "text": [
      "61 Train: 100%|██████| 391/391 [00:46<00:00,  8.36it/s]\n"
     ]
    },
    {
     "name": "stdout",
     "output_type": "stream",
     "text": [
      "Train Loss: 0.4521 | Train Acc: 84.26%\n",
      "Test  Loss: 0.7373 | Test Acc: 76.38%\n",
      "--------------------------------------------------\n",
      "[Epoch 62/100] :\n"
     ]
    },
    {
     "name": "stderr",
     "output_type": "stream",
     "text": [
      "62 Train: 100%|██████| 391/391 [00:47<00:00,  8.27it/s]\n"
     ]
    },
    {
     "name": "stdout",
     "output_type": "stream",
     "text": [
      "Train Loss: 0.4495 | Train Acc: 84.37%\n",
      "Test  Loss: 0.5710 | Test Acc: 80.68%\n",
      "--------------------------------------------------\n",
      "[Epoch 63/100] :\n"
     ]
    },
    {
     "name": "stderr",
     "output_type": "stream",
     "text": [
      "63 Train: 100%|██████| 391/391 [00:46<00:00,  8.37it/s]\n"
     ]
    },
    {
     "name": "stdout",
     "output_type": "stream",
     "text": [
      "Train Loss: 0.4422 | Train Acc: 84.54%\n",
      "Test  Loss: 0.6351 | Test Acc: 79.26%\n",
      "--------------------------------------------------\n",
      "[Epoch 64/100] :\n"
     ]
    },
    {
     "name": "stderr",
     "output_type": "stream",
     "text": [
      "64 Train: 100%|██████| 391/391 [00:45<00:00,  8.68it/s]\n"
     ]
    },
    {
     "name": "stdout",
     "output_type": "stream",
     "text": [
      "Train Loss: 0.4455 | Train Acc: 84.46%\n",
      "Test  Loss: 0.5777 | Test Acc: 80.16%\n",
      "--------------------------------------------------\n",
      "[Epoch 65/100] :\n"
     ]
    },
    {
     "name": "stderr",
     "output_type": "stream",
     "text": [
      "65 Train: 100%|██████| 391/391 [00:46<00:00,  8.38it/s]\n"
     ]
    },
    {
     "name": "stdout",
     "output_type": "stream",
     "text": [
      "Train Loss: 0.4437 | Train Acc: 84.49%\n",
      "Test  Loss: 0.7174 | Test Acc: 76.33%\n",
      "--------------------------------------------------\n",
      "[Epoch 66/100] :\n"
     ]
    },
    {
     "name": "stderr",
     "output_type": "stream",
     "text": [
      "66 Train: 100%|██████| 391/391 [00:46<00:00,  8.35it/s]\n"
     ]
    },
    {
     "name": "stdout",
     "output_type": "stream",
     "text": [
      "Train Loss: 0.4420 | Train Acc: 84.59%\n",
      "Test  Loss: 0.5172 | Test Acc: 82.72%\n",
      "--------------------------------------------------\n",
      "[Epoch 67/100] :\n"
     ]
    },
    {
     "name": "stderr",
     "output_type": "stream",
     "text": [
      "67 Train: 100%|██████| 391/391 [00:45<00:00,  8.62it/s]\n"
     ]
    },
    {
     "name": "stdout",
     "output_type": "stream",
     "text": [
      "Train Loss: 0.4374 | Train Acc: 84.83%\n",
      "Test  Loss: 0.6984 | Test Acc: 78.57%\n",
      "--------------------------------------------------\n",
      "[Epoch 68/100] :\n"
     ]
    },
    {
     "name": "stderr",
     "output_type": "stream",
     "text": [
      "68 Train: 100%|██████| 391/391 [00:46<00:00,  8.47it/s]\n"
     ]
    },
    {
     "name": "stdout",
     "output_type": "stream",
     "text": [
      "Train Loss: 0.4432 | Train Acc: 84.70%\n",
      "Test  Loss: 0.6627 | Test Acc: 77.90%\n",
      "--------------------------------------------------\n",
      "[Epoch 69/100] :\n"
     ]
    },
    {
     "name": "stderr",
     "output_type": "stream",
     "text": [
      "69 Train: 100%|██████| 391/391 [00:46<00:00,  8.45it/s]\n"
     ]
    },
    {
     "name": "stdout",
     "output_type": "stream",
     "text": [
      "Train Loss: 0.4290 | Train Acc: 85.08%\n",
      "Test  Loss: 0.5757 | Test Acc: 81.65%\n",
      "--------------------------------------------------\n",
      "[Epoch 70/100] :\n"
     ]
    },
    {
     "name": "stderr",
     "output_type": "stream",
     "text": [
      "70 Train: 100%|██████| 391/391 [00:45<00:00,  8.54it/s]\n"
     ]
    },
    {
     "name": "stdout",
     "output_type": "stream",
     "text": [
      "Train Loss: 0.4386 | Train Acc: 84.81%\n",
      "Test  Loss: 0.5941 | Test Acc: 80.15%\n",
      "--------------------------------------------------\n",
      "[Epoch 71/100] :\n"
     ]
    },
    {
     "name": "stderr",
     "output_type": "stream",
     "text": [
      "71 Train: 100%|██████| 391/391 [00:48<00:00,  8.13it/s]\n"
     ]
    },
    {
     "name": "stdout",
     "output_type": "stream",
     "text": [
      "Train Loss: 0.4314 | Train Acc: 84.89%\n",
      "Test  Loss: 0.7602 | Test Acc: 74.63%\n",
      "--------------------------------------------------\n",
      "[Epoch 72/100] :\n"
     ]
    },
    {
     "name": "stderr",
     "output_type": "stream",
     "text": [
      "72 Train: 100%|██████| 391/391 [00:47<00:00,  8.18it/s]\n"
     ]
    },
    {
     "name": "stdout",
     "output_type": "stream",
     "text": [
      "Train Loss: 0.4302 | Train Acc: 84.91%\n",
      "Test  Loss: 0.4764 | Test Acc: 84.95%\n",
      "updated best eval loss : 0.4764007288443891\n",
      "--------------------------------------------------\n",
      "[Epoch 73/100] :\n"
     ]
    },
    {
     "name": "stderr",
     "output_type": "stream",
     "text": [
      "73 Train: 100%|██████| 391/391 [00:48<00:00,  8.05it/s]\n"
     ]
    },
    {
     "name": "stdout",
     "output_type": "stream",
     "text": [
      "Train Loss: 0.4258 | Train Acc: 85.22%\n",
      "Test  Loss: 0.5783 | Test Acc: 80.07%\n",
      "--------------------------------------------------\n",
      "[Epoch 74/100] :\n"
     ]
    },
    {
     "name": "stderr",
     "output_type": "stream",
     "text": [
      "74 Train: 100%|██████| 391/391 [00:46<00:00,  8.33it/s]\n"
     ]
    },
    {
     "name": "stdout",
     "output_type": "stream",
     "text": [
      "Train Loss: 0.4314 | Train Acc: 84.98%\n",
      "Test  Loss: 0.5974 | Test Acc: 80.20%\n",
      "--------------------------------------------------\n",
      "[Epoch 75/100] :\n"
     ]
    },
    {
     "name": "stderr",
     "output_type": "stream",
     "text": [
      "75 Train: 100%|██████| 391/391 [00:46<00:00,  8.45it/s]\n"
     ]
    },
    {
     "name": "stdout",
     "output_type": "stream",
     "text": [
      "Train Loss: 0.4233 | Train Acc: 85.28%\n",
      "Test  Loss: 0.7183 | Test Acc: 76.56%\n",
      "--------------------------------------------------\n",
      "[Epoch 76/100] :\n"
     ]
    },
    {
     "name": "stderr",
     "output_type": "stream",
     "text": [
      "76 Train: 100%|██████| 391/391 [00:46<00:00,  8.36it/s]\n"
     ]
    },
    {
     "name": "stdout",
     "output_type": "stream",
     "text": [
      "Train Loss: 0.4285 | Train Acc: 85.14%\n",
      "Test  Loss: 0.4255 | Test Acc: 85.55%\n",
      "updated best eval loss : 0.42548458070694645\n",
      "--------------------------------------------------\n",
      "[Epoch 77/100] :\n"
     ]
    },
    {
     "name": "stderr",
     "output_type": "stream",
     "text": [
      "77 Train: 100%|██████| 391/391 [00:48<00:00,  8.11it/s]\n"
     ]
    },
    {
     "name": "stdout",
     "output_type": "stream",
     "text": [
      "Train Loss: 0.4251 | Train Acc: 85.36%\n",
      "Test  Loss: 0.4770 | Test Acc: 84.06%\n",
      "--------------------------------------------------\n",
      "[Epoch 78/100] :\n"
     ]
    },
    {
     "name": "stderr",
     "output_type": "stream",
     "text": [
      "78 Train: 100%|██████| 391/391 [00:46<00:00,  8.37it/s]\n"
     ]
    },
    {
     "name": "stdout",
     "output_type": "stream",
     "text": [
      "Train Loss: 0.4178 | Train Acc: 85.31%\n",
      "Test  Loss: 0.5215 | Test Acc: 82.72%\n",
      "--------------------------------------------------\n",
      "[Epoch 79/100] :\n"
     ]
    },
    {
     "name": "stderr",
     "output_type": "stream",
     "text": [
      "79 Train: 100%|██████| 391/391 [00:48<00:00,  8.15it/s]\n"
     ]
    },
    {
     "name": "stdout",
     "output_type": "stream",
     "text": [
      "Train Loss: 0.4180 | Train Acc: 85.43%\n",
      "Test  Loss: 0.4357 | Test Acc: 85.25%\n",
      "--------------------------------------------------\n",
      "[Epoch 80/100] :\n"
     ]
    },
    {
     "name": "stderr",
     "output_type": "stream",
     "text": [
      "80 Train: 100%|██████| 391/391 [00:46<00:00,  8.43it/s]\n"
     ]
    },
    {
     "name": "stdout",
     "output_type": "stream",
     "text": [
      "Train Loss: 0.4157 | Train Acc: 85.51%\n",
      "Test  Loss: 0.6594 | Test Acc: 78.31%\n",
      "--------------------------------------------------\n",
      "[Epoch 81/100] :\n"
     ]
    },
    {
     "name": "stderr",
     "output_type": "stream",
     "text": [
      "81 Train: 100%|██████| 391/391 [00:47<00:00,  8.24it/s]\n"
     ]
    },
    {
     "name": "stdout",
     "output_type": "stream",
     "text": [
      "Train Loss: 0.4183 | Train Acc: 85.32%\n",
      "Test  Loss: 0.5202 | Test Acc: 82.59%\n",
      "--------------------------------------------------\n",
      "[Epoch 82/100] :\n"
     ]
    },
    {
     "name": "stderr",
     "output_type": "stream",
     "text": [
      "82 Train: 100%|██████| 391/391 [00:45<00:00,  8.58it/s]\n"
     ]
    },
    {
     "name": "stdout",
     "output_type": "stream",
     "text": [
      "Train Loss: 0.4182 | Train Acc: 85.29%\n",
      "Test  Loss: 0.5706 | Test Acc: 81.44%\n",
      "--------------------------------------------------\n",
      "[Epoch 83/100] :\n"
     ]
    },
    {
     "name": "stderr",
     "output_type": "stream",
     "text": [
      "83 Train: 100%|██████| 391/391 [00:47<00:00,  8.28it/s]\n"
     ]
    },
    {
     "name": "stdout",
     "output_type": "stream",
     "text": [
      "Train Loss: 0.4178 | Train Acc: 85.59%\n",
      "Test  Loss: 0.5401 | Test Acc: 82.19%\n",
      "--------------------------------------------------\n",
      "[Epoch 84/100] :\n"
     ]
    },
    {
     "name": "stderr",
     "output_type": "stream",
     "text": [
      "84 Train: 100%|██████| 391/391 [00:47<00:00,  8.31it/s]\n"
     ]
    },
    {
     "name": "stdout",
     "output_type": "stream",
     "text": [
      "Train Loss: 0.4122 | Train Acc: 85.57%\n",
      "Test  Loss: 0.7973 | Test Acc: 74.48%\n",
      "--------------------------------------------------\n",
      "[Epoch 85/100] :\n"
     ]
    },
    {
     "name": "stderr",
     "output_type": "stream",
     "text": [
      "85 Train: 100%|██████| 391/391 [00:47<00:00,  8.17it/s]\n"
     ]
    },
    {
     "name": "stdout",
     "output_type": "stream",
     "text": [
      "Train Loss: 0.4133 | Train Acc: 85.48%\n",
      "Test  Loss: 0.5059 | Test Acc: 82.88%\n",
      "--------------------------------------------------\n",
      "[Epoch 86/100] :\n"
     ]
    },
    {
     "name": "stderr",
     "output_type": "stream",
     "text": [
      "86 Train: 100%|██████| 391/391 [00:47<00:00,  8.18it/s]\n"
     ]
    },
    {
     "name": "stdout",
     "output_type": "stream",
     "text": [
      "Train Loss: 0.4130 | Train Acc: 85.73%\n",
      "Test  Loss: 0.4792 | Test Acc: 84.16%\n",
      "--------------------------------------------------\n",
      "[Epoch 87/100] :\n"
     ]
    },
    {
     "name": "stderr",
     "output_type": "stream",
     "text": [
      "87 Train: 100%|██████| 391/391 [00:46<00:00,  8.39it/s]\n"
     ]
    },
    {
     "name": "stdout",
     "output_type": "stream",
     "text": [
      "Train Loss: 0.4118 | Train Acc: 85.63%\n",
      "Test  Loss: 0.5744 | Test Acc: 81.09%\n",
      "--------------------------------------------------\n",
      "[Epoch 88/100] :\n"
     ]
    },
    {
     "name": "stderr",
     "output_type": "stream",
     "text": [
      "88 Train: 100%|██████| 391/391 [00:44<00:00,  8.76it/s]\n"
     ]
    },
    {
     "name": "stdout",
     "output_type": "stream",
     "text": [
      "Train Loss: 0.4112 | Train Acc: 85.77%\n",
      "Test  Loss: 0.5014 | Test Acc: 83.25%\n",
      "--------------------------------------------------\n",
      "[Epoch 89/100] :\n"
     ]
    },
    {
     "name": "stderr",
     "output_type": "stream",
     "text": [
      "89 Train: 100%|██████| 391/391 [00:46<00:00,  8.36it/s]\n"
     ]
    },
    {
     "name": "stdout",
     "output_type": "stream",
     "text": [
      "Train Loss: 0.4064 | Train Acc: 85.75%\n",
      "Test  Loss: 0.5202 | Test Acc: 82.69%\n",
      "--------------------------------------------------\n",
      "[Epoch 90/100] :\n"
     ]
    },
    {
     "name": "stderr",
     "output_type": "stream",
     "text": [
      "90 Train: 100%|██████| 391/391 [00:47<00:00,  8.15it/s]\n"
     ]
    },
    {
     "name": "stdout",
     "output_type": "stream",
     "text": [
      "Train Loss: 0.4074 | Train Acc: 85.72%\n",
      "Test  Loss: 0.5658 | Test Acc: 80.87%\n",
      "--------------------------------------------------\n",
      "[Epoch 91/100] :\n"
     ]
    },
    {
     "name": "stderr",
     "output_type": "stream",
     "text": [
      "91 Train: 100%|██████| 391/391 [00:46<00:00,  8.39it/s]\n"
     ]
    },
    {
     "name": "stdout",
     "output_type": "stream",
     "text": [
      "Train Loss: 0.4076 | Train Acc: 85.89%\n",
      "Test  Loss: 0.5049 | Test Acc: 83.28%\n",
      "--------------------------------------------------\n",
      "[Epoch 92/100] :\n"
     ]
    },
    {
     "name": "stderr",
     "output_type": "stream",
     "text": [
      "92 Train: 100%|██████| 391/391 [00:48<00:00,  8.05it/s]\n"
     ]
    },
    {
     "name": "stdout",
     "output_type": "stream",
     "text": [
      "Train Loss: 0.4072 | Train Acc: 85.95%\n",
      "Test  Loss: 0.6247 | Test Acc: 80.01%\n",
      "--------------------------------------------------\n",
      "[Epoch 93/100] :\n"
     ]
    },
    {
     "name": "stderr",
     "output_type": "stream",
     "text": [
      "93 Train: 100%|██████| 391/391 [00:45<00:00,  8.66it/s]\n"
     ]
    },
    {
     "name": "stdout",
     "output_type": "stream",
     "text": [
      "Train Loss: 0.4055 | Train Acc: 85.84%\n",
      "Test  Loss: 0.5270 | Test Acc: 81.95%\n",
      "--------------------------------------------------\n",
      "[Epoch 94/100] :\n"
     ]
    },
    {
     "name": "stderr",
     "output_type": "stream",
     "text": [
      "94 Train: 100%|██████| 391/391 [00:47<00:00,  8.29it/s]\n"
     ]
    },
    {
     "name": "stdout",
     "output_type": "stream",
     "text": [
      "Train Loss: 0.4046 | Train Acc: 85.87%\n",
      "Test  Loss: 0.5910 | Test Acc: 80.62%\n",
      "--------------------------------------------------\n",
      "[Epoch 95/100] :\n"
     ]
    },
    {
     "name": "stderr",
     "output_type": "stream",
     "text": [
      "95 Train: 100%|██████| 391/391 [00:47<00:00,  8.29it/s]\n"
     ]
    },
    {
     "name": "stdout",
     "output_type": "stream",
     "text": [
      "Train Loss: 0.4045 | Train Acc: 85.88%\n",
      "Test  Loss: 0.5041 | Test Acc: 83.34%\n",
      "--------------------------------------------------\n",
      "[Epoch 96/100] :\n"
     ]
    },
    {
     "name": "stderr",
     "output_type": "stream",
     "text": [
      "96 Train: 100%|██████| 391/391 [00:47<00:00,  8.20it/s]\n"
     ]
    },
    {
     "name": "stdout",
     "output_type": "stream",
     "text": [
      "Train Loss: 0.4030 | Train Acc: 86.01%\n",
      "Test  Loss: 0.6312 | Test Acc: 79.20%\n",
      "--------------------------------------------------\n",
      "[Epoch 97/100] :\n"
     ]
    },
    {
     "name": "stderr",
     "output_type": "stream",
     "text": [
      "97 Train: 100%|██████| 391/391 [00:44<00:00,  8.76it/s]\n"
     ]
    },
    {
     "name": "stdout",
     "output_type": "stream",
     "text": [
      "Train Loss: 0.4047 | Train Acc: 85.89%\n",
      "Test  Loss: 0.6476 | Test Acc: 79.18%\n",
      "--------------------------------------------------\n",
      "[Epoch 98/100] :\n"
     ]
    },
    {
     "name": "stderr",
     "output_type": "stream",
     "text": [
      "98 Train: 100%|██████| 391/391 [00:48<00:00,  8.06it/s]\n"
     ]
    },
    {
     "name": "stdout",
     "output_type": "stream",
     "text": [
      "Train Loss: 0.4025 | Train Acc: 86.16%\n",
      "Test  Loss: 0.7713 | Test Acc: 75.27%\n",
      "--------------------------------------------------\n",
      "[Epoch 99/100] :\n"
     ]
    },
    {
     "name": "stderr",
     "output_type": "stream",
     "text": [
      "99 Train: 100%|██████| 391/391 [00:46<00:00,  8.41it/s]\n"
     ]
    },
    {
     "name": "stdout",
     "output_type": "stream",
     "text": [
      "Train Loss: 0.3889 | Train Acc: 86.41%\n",
      "Test  Loss: 0.5339 | Test Acc: 82.55%\n",
      "--------------------------------------------------\n",
      "[Epoch 100/100] :\n"
     ]
    },
    {
     "name": "stderr",
     "output_type": "stream",
     "text": [
      "100 Train: 100%|█████| 391/391 [00:47<00:00,  8.26it/s]\n"
     ]
    },
    {
     "name": "stdout",
     "output_type": "stream",
     "text": [
      "Train Loss: 0.4000 | Train Acc: 86.14%\n",
      "Test  Loss: 0.6938 | Test Acc: 77.65%\n",
      "--------------------------------------------------\n"
     ]
    }
   ],
   "source": [
    "Training = DoTraining(\n",
    "    model=model,\n",
    "    criterion=criterion,\n",
    "    optimizer=optimizer,\n",
    "    scaler=scaler,\n",
    "    scheduler=scheduler,\n",
    "    earlystopper=earlystopper,\n",
    "    device=device,\n",
    "    logs=logs,\n",
    "    file_path=file_name,\n",
    ")\n",
    "pre_epochs = len(Training.logs[\"train_loss\"])\n",
    "\n",
    "for epoch in range(NUM_EPOCHS):\n",
    "    now = epoch + 1 + pre_epochs\n",
    "    print(f\"[Epoch {epoch+1+pre_epochs}/{NUM_EPOCHS}] :\")\n",
    "\n",
    "    if DATASET == \"ImageNet2012\":\n",
    "        eval_loss = Training.SingleEpoch(train_dataloader, valid_dataloader)\n",
    "    else:\n",
    "        eval_loss = Training.SingleEpoch(\n",
    "            train_dataloader, valid_dataloader, test_dataloader\n",
    "        )\n",
    "\n",
    "    Training.Save()\n",
    "\n",
    "    \n",
    "    \n",
    "    if earlystopper.check(eval_loss) == True:\n",
    "        break\n",
    "\n",
    "    print(\"-\" * 50)"
   ]
  },
  {
   "cell_type": "code",
   "execution_count": 17,
   "metadata": {},
   "outputs": [
    {
     "data": {
      "image/png": "[encoded data removed]",
      "text/plain": [
       "<Figure size 1000x500 with 2 Axes>"
      ]
     },
     "metadata": {},
     "output_type": "display_data"
    }
   ],
   "source": [
    "view = LogViewer(logs)\n",
    "view.draw(save_name=file_name)"
   ]
  },
  {
   "cell_type": "code",
   "execution_count": 18,
   "metadata": {},
   "outputs": [
    {
     "name": "stdout",
     "output_type": "stream",
     "text": [
      "1 epoch: train_loss=2.5058, train_acc=0.1001, test_loss=2.3128, test_acc=0.1000, lr=0.1000\n",
      "2 epoch: train_loss=2.3045, train_acc=0.0989, test_loss=2.3084, test_acc=0.0998, lr=0.1000\n",
      "3 epoch: train_loss=2.3043, train_acc=0.0988, test_loss=2.3066, test_acc=0.0806, lr=0.1000\n",
      "4 epoch: train_loss=2.3043, train_acc=0.0995, test_loss=2.3308, test_acc=0.1060, lr=0.1000\n",
      "5 epoch: train_loss=2.3042, train_acc=0.0995, test_loss=2.3160, test_acc=0.0976, lr=0.1000\n",
      "6 epoch: train_loss=2.3040, train_acc=0.1022, test_loss=2.3099, test_acc=0.0908, lr=0.1000\n",
      "7 epoch: train_loss=2.3042, train_acc=0.1013, test_loss=2.3110, test_acc=0.0994, lr=0.1000\n",
      "8 epoch: train_loss=2.3042, train_acc=0.0984, test_loss=2.3044, test_acc=0.1000, lr=0.1000\n",
      "9 epoch: train_loss=2.3041, train_acc=0.0998, test_loss=2.3051, test_acc=0.1000, lr=0.1000\n",
      "10 epoch: train_loss=2.3041, train_acc=0.0993, test_loss=2.3050, test_acc=0.1000, lr=0.1000\n",
      "11 epoch: train_loss=2.3044, train_acc=0.0989, test_loss=2.3042, test_acc=0.0999, lr=0.1000\n",
      "12 epoch: train_loss=2.3044, train_acc=0.0975, test_loss=2.3045, test_acc=0.1000, lr=0.1000\n",
      "13 epoch: train_loss=2.3045, train_acc=0.0993, test_loss=2.3040, test_acc=0.0981, lr=0.1000\n",
      "14 epoch: train_loss=2.3046, train_acc=0.0995, test_loss=2.3055, test_acc=0.1000, lr=0.1000\n",
      "15 epoch: train_loss=2.3044, train_acc=0.0975, test_loss=2.3080, test_acc=0.1000, lr=0.1000\n",
      "16 epoch: train_loss=2.3043, train_acc=0.1003, test_loss=2.3120, test_acc=0.0969, lr=0.1000\n",
      "17 epoch: train_loss=2.3037, train_acc=0.0973, test_loss=2.3037, test_acc=0.1000, lr=0.1000\n",
      "18 epoch: train_loss=2.1442, train_acc=0.1782, test_loss=1.8896, test_acc=0.2786, lr=0.1000\n",
      "19 epoch: train_loss=1.7026, train_acc=0.3688, test_loss=1.3869, test_acc=0.4934, lr=0.1000\n",
      "20 epoch: train_loss=1.2830, train_acc=0.5408, test_loss=1.4557, test_acc=0.5325, lr=0.1000\n",
      "21 epoch: train_loss=1.0479, train_acc=0.6311, test_loss=1.1151, test_acc=0.6199, lr=0.1000\n",
      "22 epoch: train_loss=0.9272, train_acc=0.6754, test_loss=1.2642, test_acc=0.5894, lr=0.1000\n",
      "23 epoch: train_loss=0.8472, train_acc=0.7041, test_loss=0.8290, test_acc=0.7221, lr=0.1000\n",
      "24 epoch: train_loss=0.7889, train_acc=0.7261, test_loss=0.7490, test_acc=0.7356, lr=0.1000\n",
      "25 epoch: train_loss=0.7566, train_acc=0.7387, test_loss=1.0321, test_acc=0.6670, lr=0.1000\n",
      "26 epoch: train_loss=0.7172, train_acc=0.7502, test_loss=0.7898, test_acc=0.7241, lr=0.1000\n",
      "27 epoch: train_loss=0.6939, train_acc=0.7588, test_loss=0.7328, test_acc=0.7566, lr=0.1000\n",
      "28 epoch: train_loss=0.6666, train_acc=0.7688, test_loss=0.8026, test_acc=0.7188, lr=0.1000\n",
      "29 epoch: train_loss=0.6511, train_acc=0.7760, test_loss=0.8666, test_acc=0.7174, lr=0.1000\n",
      "30 epoch: train_loss=0.6319, train_acc=0.7793, test_loss=0.7535, test_acc=0.7336, lr=0.1000\n",
      "31 epoch: train_loss=0.6248, train_acc=0.7849, test_loss=0.8961, test_acc=0.7063, lr=0.1000\n",
      "32 epoch: train_loss=0.6087, train_acc=0.7899, test_loss=0.6743, test_acc=0.7694, lr=0.1000\n",
      "33 epoch: train_loss=0.5938, train_acc=0.7941, test_loss=0.7139, test_acc=0.7605, lr=0.1000\n",
      "34 epoch: train_loss=0.5810, train_acc=0.7992, test_loss=0.6722, test_acc=0.7706, lr=0.1000\n",
      "35 epoch: train_loss=0.5690, train_acc=0.8030, test_loss=0.8203, test_acc=0.7369, lr=0.1000\n",
      "36 epoch: train_loss=0.5646, train_acc=0.8039, test_loss=0.5709, test_acc=0.8059, lr=0.1000\n",
      "37 epoch: train_loss=0.5521, train_acc=0.8090, test_loss=0.8884, test_acc=0.7058, lr=0.1000\n",
      "38 epoch: train_loss=0.5487, train_acc=0.8081, test_loss=0.6785, test_acc=0.7741, lr=0.1000\n",
      "39 epoch: train_loss=0.5374, train_acc=0.8127, test_loss=0.7396, test_acc=0.7561, lr=0.1000\n",
      "40 epoch: train_loss=0.5292, train_acc=0.8170, test_loss=0.6321, test_acc=0.7887, lr=0.1000\n",
      "41 epoch: train_loss=0.5268, train_acc=0.8169, test_loss=0.7043, test_acc=0.7698, lr=0.1000\n",
      "42 epoch: train_loss=0.5199, train_acc=0.8206, test_loss=0.8584, test_acc=0.7216, lr=0.1000\n",
      "43 epoch: train_loss=0.5149, train_acc=0.8222, test_loss=0.6518, test_acc=0.7800, lr=0.1000\n",
      "44 epoch: train_loss=0.5058, train_acc=0.8259, test_loss=0.6481, test_acc=0.7812, lr=0.1000\n",
      "45 epoch: train_loss=0.5019, train_acc=0.8260, test_loss=0.7239, test_acc=0.7636, lr=0.1000\n",
      "46 epoch: train_loss=0.4975, train_acc=0.8270, test_loss=0.6484, test_acc=0.7875, lr=0.1000\n",
      "47 epoch: train_loss=0.4963, train_acc=0.8271, test_loss=0.6211, test_acc=0.7915, lr=0.1000\n",
      "48 epoch: train_loss=0.4926, train_acc=0.8295, test_loss=0.5621, test_acc=0.8181, lr=0.1000\n",
      "49 epoch: train_loss=0.4886, train_acc=0.8287, test_loss=0.6222, test_acc=0.7845, lr=0.1000\n",
      "50 epoch: train_loss=0.4823, train_acc=0.8329, test_loss=0.5769, test_acc=0.8065, lr=0.1000\n",
      "51 epoch: train_loss=0.4823, train_acc=0.8328, test_loss=0.4813, test_acc=0.8350, lr=0.1000\n",
      "52 epoch: train_loss=0.4738, train_acc=0.8345, test_loss=0.7482, test_acc=0.7510, lr=0.1000\n",
      "53 epoch: train_loss=0.4720, train_acc=0.8354, test_loss=0.5866, test_acc=0.8026, lr=0.1000\n",
      "54 epoch: train_loss=0.4704, train_acc=0.8369, test_loss=0.5961, test_acc=0.8073, lr=0.1000\n",
      "55 epoch: train_loss=0.4619, train_acc=0.8391, test_loss=0.5069, test_acc=0.8311, lr=0.1000\n",
      "56 epoch: train_loss=0.4611, train_acc=0.8410, test_loss=0.5982, test_acc=0.8016, lr=0.1000\n",
      "57 epoch: train_loss=0.4614, train_acc=0.8397, test_loss=0.5304, test_acc=0.8176, lr=0.1000\n",
      "58 epoch: train_loss=0.4578, train_acc=0.8394, test_loss=0.5941, test_acc=0.8001, lr=0.1000\n",
      "59 epoch: train_loss=0.4535, train_acc=0.8417, test_loss=0.7119, test_acc=0.7784, lr=0.1000\n",
      "60 epoch: train_loss=0.4560, train_acc=0.8425, test_loss=0.6351, test_acc=0.7903, lr=0.1000\n",
      "61 epoch: train_loss=0.4521, train_acc=0.8426, test_loss=0.7373, test_acc=0.7638, lr=0.1000\n",
      "62 epoch: train_loss=0.4495, train_acc=0.8437, test_loss=0.5710, test_acc=0.8068, lr=0.1000\n",
      "63 epoch: train_loss=0.4422, train_acc=0.8454, test_loss=0.6351, test_acc=0.7926, lr=0.1000\n",
      "64 epoch: train_loss=0.4455, train_acc=0.8446, test_loss=0.5777, test_acc=0.8016, lr=0.1000\n",
      "65 epoch: train_loss=0.4437, train_acc=0.8449, test_loss=0.7174, test_acc=0.7633, lr=0.1000\n",
      "66 epoch: train_loss=0.4420, train_acc=0.8459, test_loss=0.5172, test_acc=0.8272, lr=0.1000\n",
      "67 epoch: train_loss=0.4374, train_acc=0.8483, test_loss=0.6984, test_acc=0.7857, lr=0.1000\n",
      "68 epoch: train_loss=0.4432, train_acc=0.8470, test_loss=0.6627, test_acc=0.7790, lr=0.1000\n",
      "69 epoch: train_loss=0.4290, train_acc=0.8508, test_loss=0.5757, test_acc=0.8165, lr=0.1000\n",
      "70 epoch: train_loss=0.4386, train_acc=0.8481, test_loss=0.5941, test_acc=0.8015, lr=0.1000\n",
      "71 epoch: train_loss=0.4314, train_acc=0.8489, test_loss=0.7602, test_acc=0.7463, lr=0.1000\n",
      "72 epoch: train_loss=0.4302, train_acc=0.8491, test_loss=0.4764, test_acc=0.8495, lr=0.1000\n",
      "73 epoch: train_loss=0.4258, train_acc=0.8522, test_loss=0.5783, test_acc=0.8007, lr=0.1000\n",
      "74 epoch: train_loss=0.4314, train_acc=0.8498, test_loss=0.5974, test_acc=0.8020, lr=0.1000\n",
      "75 epoch: train_loss=0.4233, train_acc=0.8528, test_loss=0.7183, test_acc=0.7656, lr=0.1000\n",
      "76 epoch: train_loss=0.4285, train_acc=0.8514, test_loss=0.4255, test_acc=0.8555, lr=0.1000\n",
      "77 epoch: train_loss=0.4251, train_acc=0.8536, test_loss=0.4770, test_acc=0.8406, lr=0.1000\n",
      "78 epoch: train_loss=0.4178, train_acc=0.8531, test_loss=0.5215, test_acc=0.8272, lr=0.1000\n",
      "79 epoch: train_loss=0.4180, train_acc=0.8543, test_loss=0.4357, test_acc=0.8525, lr=0.1000\n",
      "80 epoch: train_loss=0.4157, train_acc=0.8551, test_loss=0.6594, test_acc=0.7831, lr=0.1000\n",
      "81 epoch: train_loss=0.4183, train_acc=0.8532, test_loss=0.5202, test_acc=0.8259, lr=0.1000\n",
      "82 epoch: train_loss=0.4182, train_acc=0.8529, test_loss=0.5706, test_acc=0.8144, lr=0.1000\n",
      "83 epoch: train_loss=0.4178, train_acc=0.8559, test_loss=0.5401, test_acc=0.8219, lr=0.1000\n",
      "84 epoch: train_loss=0.4122, train_acc=0.8557, test_loss=0.7973, test_acc=0.7448, lr=0.1000\n",
      "85 epoch: train_loss=0.4133, train_acc=0.8548, test_loss=0.5059, test_acc=0.8288, lr=0.1000\n",
      "86 epoch: train_loss=0.4130, train_acc=0.8573, test_loss=0.4792, test_acc=0.8416, lr=0.1000\n",
      "87 epoch: train_loss=0.4118, train_acc=0.8563, test_loss=0.5744, test_acc=0.8109, lr=0.1000\n",
      "88 epoch: train_loss=0.4112, train_acc=0.8577, test_loss=0.5014, test_acc=0.8325, lr=0.1000\n",
      "89 epoch: train_loss=0.4064, train_acc=0.8575, test_loss=0.5202, test_acc=0.8269, lr=0.1000\n",
      "90 epoch: train_loss=0.4074, train_acc=0.8572, test_loss=0.5658, test_acc=0.8087, lr=0.1000\n",
      "91 epoch: train_loss=0.4076, train_acc=0.8589, test_loss=0.5049, test_acc=0.8328, lr=0.1000\n",
      "92 epoch: train_loss=0.4072, train_acc=0.8595, test_loss=0.6247, test_acc=0.8001, lr=0.1000\n",
      "93 epoch: train_loss=0.4055, train_acc=0.8584, test_loss=0.5270, test_acc=0.8195, lr=0.1000\n",
      "94 epoch: train_loss=0.4046, train_acc=0.8587, test_loss=0.5910, test_acc=0.8062, lr=0.1000\n",
      "95 epoch: train_loss=0.4045, train_acc=0.8588, test_loss=0.5041, test_acc=0.8334, lr=0.1000\n",
      "96 epoch: train_loss=0.4030, train_acc=0.8601, test_loss=0.6312, test_acc=0.7920, lr=0.1000\n",
      "97 epoch: train_loss=0.4047, train_acc=0.8589, test_loss=0.6476, test_acc=0.7918, lr=0.1000\n",
      "98 epoch: train_loss=0.4025, train_acc=0.8616, test_loss=0.7713, test_acc=0.7527, lr=0.1000\n",
      "99 epoch: train_loss=0.3889, train_acc=0.8641, test_loss=0.5339, test_acc=0.8255, lr=0.1000\n",
      "100 epoch: train_loss=0.4000, train_acc=0.8614, test_loss=0.6938, test_acc=0.7765, lr=0.1000\n"
     ]
    }
   ],
   "source": [
    "view.print_all()"
   ]
  }
 ],
 "metadata": {
  "kernelspec": {
   "display_name": "base",
   "language": "python",
   "name": "python3"
  },
  "language_info": {
   "codemirror_mode": {
    "name": "ipython",
    "version": 3
   },
   "file_extension": ".py",
   "mimetype": "text/x-python",
   "name": "python",
   "nbconvert_exporter": "python",
   "pygments_lexer": "ipython3",
   "version": "3.11.5"
  }
 },
 "nbformat": 4,
 "nbformat_minor": 2
}
