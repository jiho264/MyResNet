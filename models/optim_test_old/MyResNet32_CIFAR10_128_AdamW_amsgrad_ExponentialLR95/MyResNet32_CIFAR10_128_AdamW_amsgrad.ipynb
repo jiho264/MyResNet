{
 "cells": [
  {
   "cell_type": "markdown",
   "metadata": {},
   "source": [
    "# Import"
   ]
  },
  {
   "cell_type": "code",
   "execution_count": 1,
   "metadata": {},
   "outputs": [],
   "source": [
    "import torch\n",
    "from torch import nn\n",
    "from torch.optim.lr_scheduler import ExponentialLR\n",
    "import sys, os\n",
    "\n",
    "sys.path.append(os.path.dirname(os.path.abspath(os.path.dirname(\"src\"))))\n",
    "\n",
    "from src.Mydataloader import LoadDataset\n",
    "from src.Mymodel import MyResNet_CIFAR\n",
    "from src.Mytraining import DoTraining\n",
    "from src.Earlystopper import EarlyStopper\n",
    "from src.LogViewer import LogViewer"
   ]
  },
  {
   "cell_type": "markdown",
   "metadata": {},
   "source": [
    "# Setup"
   ]
  },
  {
   "cell_type": "code",
   "execution_count": 2,
   "metadata": {},
   "outputs": [],
   "source": [
    "\"\"\"Dataset selection\"\"\"\n",
    "DATASET = \"CIFAR10\"\n",
    "# DATASET = \"CIFAR100\"\n",
    "# DATASET = \"ImageNet2012\"\n",
    "\n",
    "\"\"\"Dataset parameters\"\"\"\n",
    "BATCH = 128\n",
    "SHUFFLE = True\n",
    "NUMOFWORKERS = 8\n",
    "PIN_MEMORY = True\n",
    "\n",
    "\"\"\"optimizer parameters\"\"\"\n",
    "# OPTIMIZER = \"Adam\"\n",
    "# OPTIMIZER = \"Adam_decay\"\n",
    "# OPTIMIZER = \"SGD\"\n",
    "# OPTIMIZER = \"SGD_nasterov\"\n",
    "# OPTIMIZER = \"AdamW\"\n",
    "OPTIMIZER = \"AdamW_amsgrad\"\n",
    "# OPTIMIZER = \"NAdam\"\n",
    "\n",
    "\"\"\"Learning rate scheduler parameters\"\"\"\n",
    "NUM_EPOCHS = 100\n",
    "\n",
    "\"\"\"Early stopping parameters\"\"\"\n",
    "EARLYSTOPPINGPATIENCE = 100\n",
    "\n",
    "file_name = f\"MyResNet32_{BATCH}_{OPTIMIZER}\""
   ]
  },
  {
   "cell_type": "code",
   "execution_count": 3,
   "metadata": {},
   "outputs": [
    {
     "data": {
      "text/plain": [
       "'MyResNet32_128_AdamW_amsgrad'"
      ]
     },
     "execution_count": 3,
     "metadata": {},
     "output_type": "execute_result"
    }
   ],
   "source": [
    "file_name"
   ]
  },
  {
   "cell_type": "markdown",
   "metadata": {},
   "source": [
    "# Loading the dataset"
   ]
  },
  {
   "cell_type": "markdown",
   "metadata": {},
   "source": [
    "## Define Dateloader"
   ]
  },
  {
   "cell_type": "code",
   "execution_count": 4,
   "metadata": {},
   "outputs": [
    {
     "name": "stderr",
     "output_type": "stream",
     "text": [
      "/home/lee/anaconda3/lib/python3.11/site-packages/torchvision/transforms/v2/_deprecated.py:43: UserWarning: The transform `ToTensor()` is deprecated and will be removed in a future release. Instead, please use `v2.Compose([v2.ToImage(), v2.ToDtype(torch.float32, scale=True)])`.\n",
      "  warnings.warn(\n"
     ]
    },
    {
     "name": "stdout",
     "output_type": "stream",
     "text": [
      "-----------------------------------------------------------------------\n",
      "Dataset :  CIFAR10\n",
      "- Length of Train Set :  50000\n",
      "- Length of Test Set :  10000\n",
      "- Count of Classes :  10\n",
      "-----------------------------------------------------------------------\n"
     ]
    }
   ],
   "source": [
    "tmp = LoadDataset(root=\"../../../data\", seceted_dataset=DATASET)\n",
    "train_data, valid_data, test_data, COUNT_OF_CLASSES = tmp.Unpack()"
   ]
  },
  {
   "cell_type": "code",
   "execution_count": 5,
   "metadata": {},
   "outputs": [
    {
     "name": "stdout",
     "output_type": "stream",
     "text": [
      "train.transforms = Compose(\n",
      "      AutoAugment(interpolation=InterpolationMode.NEAREST, policy=AutoAugmentPolicy.CIFAR10)\n",
      "      RandomCrop(size=(32, 32), padding=[4, 4, 4, 4], pad_if_needed=False, fill=0, padding_mode=constant)\n",
      "      RandomHorizontalFlip(p=0.5)\n",
      "      ToTensor()\n",
      "      Normalize(mean=[0.49139968, 0.48215827, 0.44653124], std=[1, 1, 1], inplace=True)\n",
      ") 128\n",
      "test.transforms = ToTensor() 128\n"
     ]
    }
   ],
   "source": [
    "train_dataloader, valid_dataloader, test_dataloader = tmp.get_dataloader(\n",
    "    batch_size=BATCH, shuffle=SHUFFLE, num_workers=NUMOFWORKERS, pin_memory=PIN_MEMORY\n",
    ")"
   ]
  },
  {
   "cell_type": "markdown",
   "metadata": {},
   "source": [
    "# Define ResNet"
   ]
  },
  {
   "cell_type": "markdown",
   "metadata": {},
   "source": [
    "## Model Confirm"
   ]
  },
  {
   "cell_type": "code",
   "execution_count": 6,
   "metadata": {},
   "outputs": [
    {
     "data": {
      "text/plain": [
       "device(type='cuda')"
      ]
     },
     "execution_count": 6,
     "metadata": {},
     "output_type": "execute_result"
    }
   ],
   "source": [
    "device = torch.device(\"cuda\" if torch.cuda.is_available() else \"cpu\")\n",
    "device"
   ]
  },
  {
   "cell_type": "code",
   "execution_count": 7,
   "metadata": {},
   "outputs": [],
   "source": [
    "model = MyResNet_CIFAR(num_classes=COUNT_OF_CLASSES, num_layer_factor=5).to(device)"
   ]
  },
  {
   "cell_type": "markdown",
   "metadata": {},
   "source": [
    "# Define Training"
   ]
  },
  {
   "cell_type": "markdown",
   "metadata": {},
   "source": [
    "## (1) Define Criterion"
   ]
  },
  {
   "cell_type": "code",
   "execution_count": 8,
   "metadata": {},
   "outputs": [],
   "source": [
    "criterion = nn.CrossEntropyLoss()"
   ]
  },
  {
   "cell_type": "markdown",
   "metadata": {},
   "source": [
    "## (2) Define Optimazer"
   ]
  },
  {
   "cell_type": "code",
   "execution_count": 9,
   "metadata": {},
   "outputs": [],
   "source": [
    "if OPTIMIZER == \"Adam\":\n",
    "    optimizer = torch.optim.Adam(model.parameters())\n",
    "elif OPTIMIZER == \"Adam_decay\":\n",
    "    optimizer = torch.optim.Adam(model.parameters(), weight_decay=1e-4)\n",
    "elif OPTIMIZER == \"SGD\":\n",
    "    optimizer = torch.optim.SGD(\n",
    "        model.parameters(), lr=0.1, momentum=0.9, weight_decay=1e-4\n",
    "    )\n",
    "elif OPTIMIZER == \"SGD_nasterov\":\n",
    "    optimizer = torch.optim.SGD(\n",
    "        model.parameters(), lr=0.1, momentum=0.9, weight_decay=1e-4, nesterov=True\n",
    "    )\n",
    "elif OPTIMIZER == \"AdamW\":\n",
    "    optimizer = torch.optim.AdamW(model.parameters(), weight_decay=1e-4)\n",
    "elif OPTIMIZER == \"AdamW_amsgrad\":\n",
    "    optimizer = torch.optim.AdamW(model.parameters(), weight_decay=1e-4, amsgrad=True)\n",
    "elif OPTIMIZER == \"NAdam\":\n",
    "    optimizer = torch.optim.NAdam(model.parameters(), weight_decay=1e-4)"
   ]
  },
  {
   "cell_type": "markdown",
   "metadata": {},
   "source": [
    "## (3) Define Early Stopping"
   ]
  },
  {
   "cell_type": "code",
   "execution_count": 10,
   "metadata": {},
   "outputs": [],
   "source": [
    "earlystopper = EarlyStopper(patience=EARLYSTOPPINGPATIENCE, model=model, file_name=file_name)"
   ]
  },
  {
   "cell_type": "markdown",
   "metadata": {},
   "source": [
    "## (4) Define Learning Rate schedualer"
   ]
  },
  {
   "cell_type": "code",
   "execution_count": 11,
   "metadata": {},
   "outputs": [],
   "source": [
    "scheduler = ExponentialLR(optimizer, gamma=0.95)"
   ]
  },
  {
   "cell_type": "markdown",
   "metadata": {},
   "source": [
    "## (5) Define AMP scaler"
   ]
  },
  {
   "cell_type": "code",
   "execution_count": 12,
   "metadata": {},
   "outputs": [],
   "source": [
    "scaler = torch.cuda.amp.GradScaler(enabled=True)"
   ]
  },
  {
   "cell_type": "markdown",
   "metadata": {},
   "source": [
    "## Load before process"
   ]
  },
  {
   "cell_type": "code",
   "execution_count": 13,
   "metadata": {},
   "outputs": [
    {
     "name": "stdout",
     "output_type": "stream",
     "text": [
      "File does not exist. Created a new log.\n"
     ]
    }
   ],
   "source": [
    "if os.path.exists(file_name + \".pth.tar\"):\n",
    "    # Read checkpoint as desired, e.g.,\n",
    "    checkpoint = torch.load(\n",
    "        file_name + \".pth.tar\",\n",
    "        map_location=lambda storage, loc: storage.cuda(device),\n",
    "    )\n",
    "    model.load_state_dict(checkpoint[\"model\"])\n",
    "    optimizer.load_state_dict(checkpoint[\"optimizer\"])\n",
    "    scaler.load_state_dict(checkpoint[\"scaler\"])\n",
    "    scheduler.load_state_dict(checkpoint[\"scheduler\"])\n",
    "    earlystopper.load_state_dict(checkpoint[\"earlystopper\"])\n",
    "    logs = checkpoint[\"logs\"]\n",
    "\n",
    "    print(\"Suceessfully loaded the All setting and Log file.\")\n",
    "    print(file_name)\n",
    "    print(f\"Current epoch is {len(logs['train_loss'])}\")\n",
    "    print(f\"Current learning rate: {optimizer.param_groups[0]['lr']}\")\n",
    "else:\n",
    "    # Create a dictionary to store the variables\n",
    "    train_loss = []\n",
    "    train_acc = []\n",
    "    eval_loss = []\n",
    "    valid_acc = []\n",
    "    test_loss = []\n",
    "    test_acc = []\n",
    "    lr_log = []\n",
    "    logs = {\n",
    "        \"train_loss\": train_loss,\n",
    "        \"train_acc\": train_acc,\n",
    "        \"valid_loss\": eval_loss,\n",
    "        \"valid_acc\": valid_acc,\n",
    "        \"test_loss\": test_loss,\n",
    "        \"test_acc\": test_acc,\n",
    "        \"lr_log\": lr_log,\n",
    "    }\n",
    "    print(\"File does not exist. Created a new log.\")"
   ]
  },
  {
   "cell_type": "code",
   "execution_count": 14,
   "metadata": {},
   "outputs": [
    {
     "data": {
      "text/plain": [
       "0.001"
      ]
     },
     "execution_count": 14,
     "metadata": {},
     "output_type": "execute_result"
    }
   ],
   "source": [
    "optimizer.param_groups[0][\"lr\"]"
   ]
  },
  {
   "cell_type": "code",
   "execution_count": 15,
   "metadata": {},
   "outputs": [
    {
     "data": {
      "text/plain": [
       "0"
      ]
     },
     "execution_count": 15,
     "metadata": {},
     "output_type": "execute_result"
    }
   ],
   "source": [
    "earlystopper.early_stop_counter"
   ]
  },
  {
   "cell_type": "markdown",
   "metadata": {},
   "source": [
    "# [Training Loop]"
   ]
  },
  {
   "cell_type": "code",
   "execution_count": 16,
   "metadata": {},
   "outputs": [
    {
     "name": "stdout",
     "output_type": "stream",
     "text": [
      "[Epoch 1/100] :\n"
     ]
    },
    {
     "name": "stderr",
     "output_type": "stream",
     "text": [
      "1 Train: 100%|███████| 391/391 [00:23<00:00, 16.84it/s]"
     ]
    },
    {
     "name": "stdout",
     "output_type": "stream",
     "text": [
      "Train Loss: 1.7091 | Train Acc: 37.33%\n"
     ]
    },
    {
     "name": "stderr",
     "output_type": "stream",
     "text": [
      "\n"
     ]
    },
    {
     "name": "stdout",
     "output_type": "stream",
     "text": [
      "Test  Loss: 2.1212 | Test Acc: 28.22%\n",
      "updated best eval loss : 2.1212031509302838\n",
      "--------------------------------------------------\n",
      "[Epoch 2/100] :\n"
     ]
    },
    {
     "name": "stderr",
     "output_type": "stream",
     "text": [
      "2 Train: 100%|███████| 391/391 [00:30<00:00, 13.01it/s]\n"
     ]
    },
    {
     "name": "stdout",
     "output_type": "stream",
     "text": [
      "Train Loss: 1.2926 | Train Acc: 54.04%\n",
      "Test  Loss: 1.8576 | Test Acc: 39.58%\n",
      "updated best eval loss : 1.8576252490659304\n",
      "--------------------------------------------------\n",
      "[Epoch 3/100] :\n"
     ]
    },
    {
     "name": "stderr",
     "output_type": "stream",
     "text": [
      "3 Train: 100%|███████| 391/391 [00:30<00:00, 12.63it/s]\n"
     ]
    },
    {
     "name": "stdout",
     "output_type": "stream",
     "text": [
      "Train Loss: 1.1080 | Train Acc: 60.78%\n",
      "Test  Loss: 1.5500 | Test Acc: 50.64%\n",
      "updated best eval loss : 1.5499938228462316\n",
      "--------------------------------------------------\n",
      "[Epoch 4/100] :\n"
     ]
    },
    {
     "name": "stderr",
     "output_type": "stream",
     "text": [
      "4 Train: 100%|███████| 391/391 [00:29<00:00, 13.48it/s]\n"
     ]
    },
    {
     "name": "stdout",
     "output_type": "stream",
     "text": [
      "Train Loss: 0.9828 | Train Acc: 65.56%\n",
      "Test  Loss: 1.2518 | Test Acc: 57.47%\n",
      "updated best eval loss : 1.2518424240848687\n",
      "--------------------------------------------------\n",
      "[Epoch 5/100] :\n"
     ]
    },
    {
     "name": "stderr",
     "output_type": "stream",
     "text": [
      "5 Train: 100%|███████| 391/391 [00:30<00:00, 13.00it/s]\n"
     ]
    },
    {
     "name": "stdout",
     "output_type": "stream",
     "text": [
      "Train Loss: 0.8998 | Train Acc: 68.56%\n",
      "Test  Loss: 1.5926 | Test Acc: 55.87%\n",
      "--------------------------------------------------\n",
      "[Epoch 6/100] :\n"
     ]
    },
    {
     "name": "stderr",
     "output_type": "stream",
     "text": [
      "6 Train: 100%|███████| 391/391 [00:30<00:00, 13.00it/s]\n"
     ]
    },
    {
     "name": "stdout",
     "output_type": "stream",
     "text": [
      "Train Loss: 0.8444 | Train Acc: 70.66%\n",
      "Test  Loss: 1.7393 | Test Acc: 51.93%\n",
      "--------------------------------------------------\n",
      "[Epoch 7/100] :\n"
     ]
    },
    {
     "name": "stderr",
     "output_type": "stream",
     "text": [
      "7 Train: 100%|███████| 391/391 [00:29<00:00, 13.18it/s]\n"
     ]
    },
    {
     "name": "stdout",
     "output_type": "stream",
     "text": [
      "Train Loss: 0.7971 | Train Acc: 72.24%\n",
      "Test  Loss: 0.8063 | Test Acc: 72.38%\n",
      "updated best eval loss : 0.8063444970529291\n",
      "--------------------------------------------------\n",
      "[Epoch 8/100] :\n"
     ]
    },
    {
     "name": "stderr",
     "output_type": "stream",
     "text": [
      "8 Train: 100%|███████| 391/391 [00:28<00:00, 13.68it/s]\n"
     ]
    },
    {
     "name": "stdout",
     "output_type": "stream",
     "text": [
      "Train Loss: 0.7631 | Train Acc: 73.32%\n",
      "Test  Loss: 0.7705 | Test Acc: 74.21%\n",
      "updated best eval loss : 0.7705412499512299\n",
      "--------------------------------------------------\n",
      "[Epoch 9/100] :\n"
     ]
    },
    {
     "name": "stderr",
     "output_type": "stream",
     "text": [
      "9 Train: 100%|███████| 391/391 [00:31<00:00, 12.31it/s]\n"
     ]
    },
    {
     "name": "stdout",
     "output_type": "stream",
     "text": [
      "Train Loss: 0.7251 | Train Acc: 74.80%\n",
      "Test  Loss: 0.7130 | Test Acc: 75.97%\n",
      "updated best eval loss : 0.7129924900924103\n",
      "--------------------------------------------------\n",
      "[Epoch 10/100] :\n"
     ]
    },
    {
     "name": "stderr",
     "output_type": "stream",
     "text": [
      "10 Train: 100%|██████| 391/391 [00:36<00:00, 10.85it/s]\n"
     ]
    },
    {
     "name": "stdout",
     "output_type": "stream",
     "text": [
      "Train Loss: 0.6958 | Train Acc: 75.75%\n",
      "Test  Loss: 0.7598 | Test Acc: 74.16%\n",
      "--------------------------------------------------\n",
      "[Epoch 11/100] :\n"
     ]
    },
    {
     "name": "stderr",
     "output_type": "stream",
     "text": [
      "11 Train: 100%|██████| 391/391 [00:48<00:00,  8.11it/s]\n"
     ]
    },
    {
     "name": "stdout",
     "output_type": "stream",
     "text": [
      "Train Loss: 0.6783 | Train Acc: 76.29%\n",
      "Test  Loss: 0.6138 | Test Acc: 78.70%\n",
      "updated best eval loss : 0.6138228481706185\n",
      "--------------------------------------------------\n",
      "[Epoch 12/100] :\n"
     ]
    },
    {
     "name": "stderr",
     "output_type": "stream",
     "text": [
      "12 Train: 100%|██████| 391/391 [00:46<00:00,  8.35it/s]\n"
     ]
    },
    {
     "name": "stdout",
     "output_type": "stream",
     "text": [
      "Train Loss: 0.6544 | Train Acc: 77.28%\n",
      "Test  Loss: 0.6539 | Test Acc: 76.67%\n",
      "--------------------------------------------------\n",
      "[Epoch 13/100] :\n"
     ]
    },
    {
     "name": "stderr",
     "output_type": "stream",
     "text": [
      "13 Train: 100%|██████| 391/391 [00:36<00:00, 10.80it/s]\n"
     ]
    },
    {
     "name": "stdout",
     "output_type": "stream",
     "text": [
      "Train Loss: 0.6311 | Train Acc: 78.18%\n",
      "Test  Loss: 0.6239 | Test Acc: 78.98%\n",
      "--------------------------------------------------\n",
      "[Epoch 14/100] :\n"
     ]
    },
    {
     "name": "stderr",
     "output_type": "stream",
     "text": [
      "14 Train: 100%|██████| 391/391 [00:34<00:00, 11.27it/s]\n"
     ]
    },
    {
     "name": "stdout",
     "output_type": "stream",
     "text": [
      "Train Loss: 0.6161 | Train Acc: 78.62%\n",
      "Test  Loss: 0.6266 | Test Acc: 78.22%\n",
      "--------------------------------------------------\n",
      "[Epoch 15/100] :\n"
     ]
    },
    {
     "name": "stderr",
     "output_type": "stream",
     "text": [
      "15 Train: 100%|██████| 391/391 [00:34<00:00, 11.46it/s]\n"
     ]
    },
    {
     "name": "stdout",
     "output_type": "stream",
     "text": [
      "Train Loss: 0.6027 | Train Acc: 79.06%\n",
      "Test  Loss: 0.6838 | Test Acc: 76.97%\n",
      "--------------------------------------------------\n",
      "[Epoch 16/100] :\n"
     ]
    },
    {
     "name": "stderr",
     "output_type": "stream",
     "text": [
      "16 Train: 100%|██████| 391/391 [00:36<00:00, 10.71it/s]\n"
     ]
    },
    {
     "name": "stdout",
     "output_type": "stream",
     "text": [
      "Train Loss: 0.5816 | Train Acc: 79.78%\n",
      "Test  Loss: 0.6282 | Test Acc: 78.63%\n",
      "--------------------------------------------------\n",
      "[Epoch 17/100] :\n"
     ]
    },
    {
     "name": "stderr",
     "output_type": "stream",
     "text": [
      "17 Train: 100%|██████| 391/391 [00:35<00:00, 11.03it/s]\n"
     ]
    },
    {
     "name": "stdout",
     "output_type": "stream",
     "text": [
      "Train Loss: 0.5716 | Train Acc: 80.11%\n",
      "Test  Loss: 0.6672 | Test Acc: 76.93%\n",
      "--------------------------------------------------\n",
      "[Epoch 18/100] :\n"
     ]
    },
    {
     "name": "stderr",
     "output_type": "stream",
     "text": [
      "18 Train: 100%|██████| 391/391 [00:33<00:00, 11.56it/s]\n"
     ]
    },
    {
     "name": "stdout",
     "output_type": "stream",
     "text": [
      "Train Loss: 0.5589 | Train Acc: 80.27%\n",
      "Test  Loss: 0.6378 | Test Acc: 78.75%\n",
      "--------------------------------------------------\n",
      "[Epoch 19/100] :\n"
     ]
    },
    {
     "name": "stderr",
     "output_type": "stream",
     "text": [
      "19 Train: 100%|██████| 391/391 [00:35<00:00, 11.05it/s]\n"
     ]
    },
    {
     "name": "stdout",
     "output_type": "stream",
     "text": [
      "Train Loss: 0.5444 | Train Acc: 80.95%\n",
      "Test  Loss: 0.5816 | Test Acc: 80.22%\n",
      "updated best eval loss : 0.5815940910502325\n",
      "--------------------------------------------------\n",
      "[Epoch 20/100] :\n"
     ]
    },
    {
     "name": "stderr",
     "output_type": "stream",
     "text": [
      "20 Train: 100%|██████| 391/391 [00:32<00:00, 11.94it/s]\n"
     ]
    },
    {
     "name": "stdout",
     "output_type": "stream",
     "text": [
      "Train Loss: 0.5384 | Train Acc: 81.44%\n",
      "Test  Loss: 0.6046 | Test Acc: 79.45%\n",
      "--------------------------------------------------\n",
      "[Epoch 21/100] :\n"
     ]
    },
    {
     "name": "stderr",
     "output_type": "stream",
     "text": [
      "21 Train: 100%|██████| 391/391 [00:34<00:00, 11.18it/s]\n"
     ]
    },
    {
     "name": "stdout",
     "output_type": "stream",
     "text": [
      "Train Loss: 0.5217 | Train Acc: 81.83%\n",
      "Test  Loss: 0.5512 | Test Acc: 81.55%\n",
      "updated best eval loss : 0.5512422360951388\n",
      "--------------------------------------------------\n",
      "[Epoch 22/100] :\n"
     ]
    },
    {
     "name": "stderr",
     "output_type": "stream",
     "text": [
      "22 Train: 100%|██████| 391/391 [00:36<00:00, 10.83it/s]\n"
     ]
    },
    {
     "name": "stdout",
     "output_type": "stream",
     "text": [
      "Train Loss: 0.5168 | Train Acc: 81.92%\n",
      "Test  Loss: 0.5843 | Test Acc: 80.08%\n",
      "--------------------------------------------------\n",
      "[Epoch 23/100] :\n"
     ]
    },
    {
     "name": "stderr",
     "output_type": "stream",
     "text": [
      "23 Train: 100%|██████| 391/391 [00:48<00:00,  8.11it/s]\n"
     ]
    },
    {
     "name": "stdout",
     "output_type": "stream",
     "text": [
      "Train Loss: 0.5076 | Train Acc: 82.38%\n",
      "Test  Loss: 0.6925 | Test Acc: 76.83%\n",
      "--------------------------------------------------\n",
      "[Epoch 24/100] :\n"
     ]
    },
    {
     "name": "stderr",
     "output_type": "stream",
     "text": [
      "24 Train: 100%|██████| 391/391 [00:47<00:00,  8.17it/s]\n"
     ]
    },
    {
     "name": "stdout",
     "output_type": "stream",
     "text": [
      "Train Loss: 0.5001 | Train Acc: 82.73%\n",
      "Test  Loss: 0.5773 | Test Acc: 80.53%\n",
      "--------------------------------------------------\n",
      "[Epoch 25/100] :\n"
     ]
    },
    {
     "name": "stderr",
     "output_type": "stream",
     "text": [
      "25 Train: 100%|██████| 391/391 [00:50<00:00,  7.77it/s]\n"
     ]
    },
    {
     "name": "stdout",
     "output_type": "stream",
     "text": [
      "Train Loss: 0.4981 | Train Acc: 82.61%\n",
      "Test  Loss: 0.4701 | Test Acc: 83.68%\n",
      "updated best eval loss : 0.47006712042832677\n",
      "--------------------------------------------------\n",
      "[Epoch 26/100] :\n"
     ]
    },
    {
     "name": "stderr",
     "output_type": "stream",
     "text": [
      "26 Train: 100%|██████| 391/391 [00:49<00:00,  7.98it/s]\n"
     ]
    },
    {
     "name": "stdout",
     "output_type": "stream",
     "text": [
      "Train Loss: 0.4828 | Train Acc: 83.14%\n",
      "Test  Loss: 0.5741 | Test Acc: 80.86%\n",
      "--------------------------------------------------\n",
      "[Epoch 27/100] :\n"
     ]
    },
    {
     "name": "stderr",
     "output_type": "stream",
     "text": [
      "27 Train: 100%|██████| 391/391 [00:50<00:00,  7.71it/s]\n"
     ]
    },
    {
     "name": "stdout",
     "output_type": "stream",
     "text": [
      "Train Loss: 0.4749 | Train Acc: 83.57%\n",
      "Test  Loss: 0.5243 | Test Acc: 81.57%\n",
      "--------------------------------------------------\n",
      "[Epoch 28/100] :\n"
     ]
    },
    {
     "name": "stderr",
     "output_type": "stream",
     "text": [
      "28 Train: 100%|██████| 391/391 [00:49<00:00,  7.91it/s]\n"
     ]
    },
    {
     "name": "stdout",
     "output_type": "stream",
     "text": [
      "Train Loss: 0.4676 | Train Acc: 83.84%\n",
      "Test  Loss: 0.5366 | Test Acc: 82.15%\n",
      "--------------------------------------------------\n",
      "[Epoch 29/100] :\n"
     ]
    },
    {
     "name": "stderr",
     "output_type": "stream",
     "text": [
      "29 Train: 100%|██████| 391/391 [00:50<00:00,  7.73it/s]\n"
     ]
    },
    {
     "name": "stdout",
     "output_type": "stream",
     "text": [
      "Train Loss: 0.4647 | Train Acc: 83.89%\n",
      "Test  Loss: 0.6493 | Test Acc: 78.58%\n",
      "--------------------------------------------------\n",
      "[Epoch 30/100] :\n"
     ]
    },
    {
     "name": "stderr",
     "output_type": "stream",
     "text": [
      "30 Train: 100%|██████| 391/391 [00:48<00:00,  7.99it/s]\n"
     ]
    },
    {
     "name": "stdout",
     "output_type": "stream",
     "text": [
      "Train Loss: 0.4581 | Train Acc: 83.98%\n",
      "Test  Loss: 0.4448 | Test Acc: 84.81%\n",
      "updated best eval loss : 0.44480931758880615\n",
      "--------------------------------------------------\n",
      "[Epoch 31/100] :\n"
     ]
    },
    {
     "name": "stderr",
     "output_type": "stream",
     "text": [
      "31 Train: 100%|██████| 391/391 [00:50<00:00,  7.70it/s]\n"
     ]
    },
    {
     "name": "stdout",
     "output_type": "stream",
     "text": [
      "Train Loss: 0.4500 | Train Acc: 84.40%\n",
      "Test  Loss: 0.5027 | Test Acc: 83.19%\n",
      "--------------------------------------------------\n",
      "[Epoch 32/100] :\n"
     ]
    },
    {
     "name": "stderr",
     "output_type": "stream",
     "text": [
      "32 Train: 100%|██████| 391/391 [00:47<00:00,  8.15it/s]\n"
     ]
    },
    {
     "name": "stdout",
     "output_type": "stream",
     "text": [
      "Train Loss: 0.4422 | Train Acc: 84.63%\n",
      "Test  Loss: 0.5825 | Test Acc: 80.07%\n",
      "--------------------------------------------------\n",
      "[Epoch 33/100] :\n"
     ]
    },
    {
     "name": "stderr",
     "output_type": "stream",
     "text": [
      "33 Train: 100%|██████| 391/391 [00:50<00:00,  7.78it/s]\n"
     ]
    },
    {
     "name": "stdout",
     "output_type": "stream",
     "text": [
      "Train Loss: 0.4408 | Train Acc: 84.50%\n",
      "Test  Loss: 0.4892 | Test Acc: 83.38%\n",
      "--------------------------------------------------\n",
      "[Epoch 34/100] :\n"
     ]
    },
    {
     "name": "stderr",
     "output_type": "stream",
     "text": [
      "34 Train: 100%|██████| 391/391 [00:49<00:00,  7.96it/s]\n"
     ]
    },
    {
     "name": "stdout",
     "output_type": "stream",
     "text": [
      "Train Loss: 0.4374 | Train Acc: 84.60%\n",
      "Test  Loss: 0.4757 | Test Acc: 84.19%\n",
      "--------------------------------------------------\n",
      "[Epoch 35/100] :\n"
     ]
    },
    {
     "name": "stderr",
     "output_type": "stream",
     "text": [
      "35 Train: 100%|██████| 391/391 [00:47<00:00,  8.18it/s]\n"
     ]
    },
    {
     "name": "stdout",
     "output_type": "stream",
     "text": [
      "Train Loss: 0.4200 | Train Acc: 85.28%\n",
      "Test  Loss: 0.4712 | Test Acc: 83.92%\n",
      "--------------------------------------------------\n",
      "[Epoch 36/100] :\n"
     ]
    },
    {
     "name": "stderr",
     "output_type": "stream",
     "text": [
      "36 Train: 100%|██████| 391/391 [00:48<00:00,  8.04it/s]\n"
     ]
    },
    {
     "name": "stdout",
     "output_type": "stream",
     "text": [
      "Train Loss: 0.4211 | Train Acc: 85.21%\n",
      "Test  Loss: 0.4766 | Test Acc: 83.92%\n",
      "--------------------------------------------------\n",
      "[Epoch 37/100] :\n"
     ]
    },
    {
     "name": "stderr",
     "output_type": "stream",
     "text": [
      "37 Train: 100%|██████| 391/391 [00:48<00:00,  8.08it/s]\n"
     ]
    },
    {
     "name": "stdout",
     "output_type": "stream",
     "text": [
      "Train Loss: 0.4157 | Train Acc: 85.57%\n",
      "Test  Loss: 0.4432 | Test Acc: 85.06%\n",
      "updated best eval loss : 0.44319835154316095\n",
      "--------------------------------------------------\n",
      "[Epoch 38/100] :\n"
     ]
    },
    {
     "name": "stderr",
     "output_type": "stream",
     "text": [
      "38 Train: 100%|██████| 391/391 [00:51<00:00,  7.62it/s]\n"
     ]
    },
    {
     "name": "stdout",
     "output_type": "stream",
     "text": [
      "Train Loss: 0.4121 | Train Acc: 85.66%\n",
      "Test  Loss: 0.4029 | Test Acc: 86.50%\n",
      "updated best eval loss : 0.4029309521370296\n",
      "--------------------------------------------------\n",
      "[Epoch 39/100] :\n"
     ]
    },
    {
     "name": "stderr",
     "output_type": "stream",
     "text": [
      "39 Train: 100%|██████| 391/391 [00:47<00:00,  8.16it/s]\n"
     ]
    },
    {
     "name": "stdout",
     "output_type": "stream",
     "text": [
      "Train Loss: 0.4056 | Train Acc: 85.78%\n",
      "Test  Loss: 0.4801 | Test Acc: 84.17%\n",
      "--------------------------------------------------\n",
      "[Epoch 40/100] :\n"
     ]
    },
    {
     "name": "stderr",
     "output_type": "stream",
     "text": [
      "40 Train: 100%|██████| 391/391 [00:51<00:00,  7.56it/s]\n"
     ]
    },
    {
     "name": "stdout",
     "output_type": "stream",
     "text": [
      "Train Loss: 0.4041 | Train Acc: 85.97%\n",
      "Test  Loss: 0.4508 | Test Acc: 84.83%\n",
      "--------------------------------------------------\n",
      "[Epoch 41/100] :\n"
     ]
    },
    {
     "name": "stderr",
     "output_type": "stream",
     "text": [
      "41 Train: 100%|██████| 391/391 [00:47<00:00,  8.15it/s]\n"
     ]
    },
    {
     "name": "stdout",
     "output_type": "stream",
     "text": [
      "Train Loss: 0.3944 | Train Acc: 86.17%\n",
      "Test  Loss: 0.4530 | Test Acc: 84.89%\n",
      "--------------------------------------------------\n",
      "[Epoch 42/100] :\n"
     ]
    },
    {
     "name": "stderr",
     "output_type": "stream",
     "text": [
      "42 Train: 100%|██████| 391/391 [00:51<00:00,  7.65it/s]\n"
     ]
    },
    {
     "name": "stdout",
     "output_type": "stream",
     "text": [
      "Train Loss: 0.3972 | Train Acc: 86.14%\n",
      "Test  Loss: 0.4385 | Test Acc: 85.11%\n",
      "--------------------------------------------------\n",
      "[Epoch 43/100] :\n"
     ]
    },
    {
     "name": "stderr",
     "output_type": "stream",
     "text": [
      "43 Train: 100%|██████| 391/391 [00:48<00:00,  8.04it/s]\n"
     ]
    },
    {
     "name": "stdout",
     "output_type": "stream",
     "text": [
      "Train Loss: 0.3924 | Train Acc: 86.42%\n",
      "Test  Loss: 0.5342 | Test Acc: 82.22%\n",
      "--------------------------------------------------\n",
      "[Epoch 44/100] :\n"
     ]
    },
    {
     "name": "stderr",
     "output_type": "stream",
     "text": [
      "44 Train: 100%|██████| 391/391 [00:49<00:00,  7.87it/s]\n"
     ]
    },
    {
     "name": "stdout",
     "output_type": "stream",
     "text": [
      "Train Loss: 0.3934 | Train Acc: 86.33%\n",
      "Test  Loss: 0.4266 | Test Acc: 85.80%\n",
      "--------------------------------------------------\n",
      "[Epoch 45/100] :\n"
     ]
    },
    {
     "name": "stderr",
     "output_type": "stream",
     "text": [
      "45 Train: 100%|██████| 391/391 [00:49<00:00,  7.92it/s]\n"
     ]
    },
    {
     "name": "stdout",
     "output_type": "stream",
     "text": [
      "Train Loss: 0.3881 | Train Acc: 86.51%\n",
      "Test  Loss: 0.4302 | Test Acc: 85.60%\n",
      "--------------------------------------------------\n",
      "[Epoch 46/100] :\n"
     ]
    },
    {
     "name": "stderr",
     "output_type": "stream",
     "text": [
      "46 Train: 100%|██████| 391/391 [00:48<00:00,  8.08it/s]\n"
     ]
    },
    {
     "name": "stdout",
     "output_type": "stream",
     "text": [
      "Train Loss: 0.3772 | Train Acc: 86.72%\n",
      "Test  Loss: 0.4680 | Test Acc: 84.69%\n",
      "--------------------------------------------------\n",
      "[Epoch 47/100] :\n"
     ]
    },
    {
     "name": "stderr",
     "output_type": "stream",
     "text": [
      "47 Train: 100%|██████| 391/391 [00:48<00:00,  8.01it/s]\n"
     ]
    },
    {
     "name": "stdout",
     "output_type": "stream",
     "text": [
      "Train Loss: 0.3814 | Train Acc: 86.65%\n",
      "Test  Loss: 0.4188 | Test Acc: 86.03%\n",
      "--------------------------------------------------\n",
      "[Epoch 48/100] :\n"
     ]
    },
    {
     "name": "stderr",
     "output_type": "stream",
     "text": [
      "48 Train: 100%|██████| 391/391 [00:49<00:00,  7.95it/s]\n"
     ]
    },
    {
     "name": "stdout",
     "output_type": "stream",
     "text": [
      "Train Loss: 0.3723 | Train Acc: 87.08%\n",
      "Test  Loss: 0.4660 | Test Acc: 84.59%\n",
      "--------------------------------------------------\n",
      "[Epoch 49/100] :\n"
     ]
    },
    {
     "name": "stderr",
     "output_type": "stream",
     "text": [
      "49 Train: 100%|██████| 391/391 [00:50<00:00,  7.80it/s]\n"
     ]
    },
    {
     "name": "stdout",
     "output_type": "stream",
     "text": [
      "Train Loss: 0.3752 | Train Acc: 86.96%\n",
      "Test  Loss: 0.4601 | Test Acc: 84.63%\n",
      "--------------------------------------------------\n",
      "[Epoch 50/100] :\n"
     ]
    },
    {
     "name": "stderr",
     "output_type": "stream",
     "text": [
      "50 Train: 100%|██████| 391/391 [00:47<00:00,  8.23it/s]\n"
     ]
    },
    {
     "name": "stdout",
     "output_type": "stream",
     "text": [
      "Train Loss: 0.3618 | Train Acc: 87.25%\n",
      "Test  Loss: 0.4465 | Test Acc: 85.10%\n",
      "--------------------------------------------------\n",
      "[Epoch 51/100] :\n"
     ]
    },
    {
     "name": "stderr",
     "output_type": "stream",
     "text": [
      "51 Train: 100%|██████| 391/391 [00:50<00:00,  7.70it/s]\n"
     ]
    },
    {
     "name": "stdout",
     "output_type": "stream",
     "text": [
      "Train Loss: 0.3696 | Train Acc: 87.06%\n",
      "Test  Loss: 0.4223 | Test Acc: 86.16%\n",
      "--------------------------------------------------\n",
      "[Epoch 52/100] :\n"
     ]
    },
    {
     "name": "stderr",
     "output_type": "stream",
     "text": [
      "52 Train: 100%|██████| 391/391 [00:49<00:00,  7.87it/s]\n"
     ]
    },
    {
     "name": "stdout",
     "output_type": "stream",
     "text": [
      "Train Loss: 0.3587 | Train Acc: 87.31%\n",
      "Test  Loss: 0.4082 | Test Acc: 87.01%\n",
      "--------------------------------------------------\n",
      "[Epoch 53/100] :\n"
     ]
    },
    {
     "name": "stderr",
     "output_type": "stream",
     "text": [
      "53 Train: 100%|██████| 391/391 [00:50<00:00,  7.77it/s]\n"
     ]
    },
    {
     "name": "stdout",
     "output_type": "stream",
     "text": [
      "Train Loss: 0.3563 | Train Acc: 87.54%\n",
      "Test  Loss: 0.4502 | Test Acc: 85.93%\n",
      "--------------------------------------------------\n",
      "[Epoch 54/100] :\n"
     ]
    },
    {
     "name": "stderr",
     "output_type": "stream",
     "text": [
      "54 Train: 100%|██████| 391/391 [00:47<00:00,  8.19it/s]\n"
     ]
    },
    {
     "name": "stdout",
     "output_type": "stream",
     "text": [
      "Train Loss: 0.3538 | Train Acc: 87.72%\n",
      "Test  Loss: 0.4622 | Test Acc: 85.07%\n",
      "--------------------------------------------------\n",
      "[Epoch 55/100] :\n"
     ]
    },
    {
     "name": "stderr",
     "output_type": "stream",
     "text": [
      "55 Train: 100%|██████| 391/391 [00:50<00:00,  7.80it/s]\n"
     ]
    },
    {
     "name": "stdout",
     "output_type": "stream",
     "text": [
      "Train Loss: 0.3459 | Train Acc: 87.96%\n",
      "Test  Loss: 0.4435 | Test Acc: 85.79%\n",
      "--------------------------------------------------\n",
      "[Epoch 56/100] :\n"
     ]
    },
    {
     "name": "stderr",
     "output_type": "stream",
     "text": [
      "56 Train: 100%|██████| 391/391 [00:49<00:00,  7.96it/s]\n"
     ]
    },
    {
     "name": "stdout",
     "output_type": "stream",
     "text": [
      "Train Loss: 0.3485 | Train Acc: 87.74%\n",
      "Test  Loss: 0.4823 | Test Acc: 84.81%\n",
      "--------------------------------------------------\n",
      "[Epoch 57/100] :\n"
     ]
    },
    {
     "name": "stderr",
     "output_type": "stream",
     "text": [
      "57 Train: 100%|██████| 391/391 [00:48<00:00,  7.99it/s]\n"
     ]
    },
    {
     "name": "stdout",
     "output_type": "stream",
     "text": [
      "Train Loss: 0.3432 | Train Acc: 88.00%\n",
      "Test  Loss: 0.4317 | Test Acc: 85.86%\n",
      "--------------------------------------------------\n",
      "[Epoch 58/100] :\n"
     ]
    },
    {
     "name": "stderr",
     "output_type": "stream",
     "text": [
      "58 Train: 100%|██████| 391/391 [00:49<00:00,  7.97it/s]\n"
     ]
    },
    {
     "name": "stdout",
     "output_type": "stream",
     "text": [
      "Train Loss: 0.3458 | Train Acc: 87.96%\n",
      "Test  Loss: 0.4714 | Test Acc: 84.78%\n",
      "--------------------------------------------------\n",
      "[Epoch 59/100] :\n"
     ]
    },
    {
     "name": "stderr",
     "output_type": "stream",
     "text": [
      "59 Train: 100%|██████| 391/391 [00:48<00:00,  8.11it/s]\n"
     ]
    },
    {
     "name": "stdout",
     "output_type": "stream",
     "text": [
      "Train Loss: 0.3413 | Train Acc: 87.94%\n",
      "Test  Loss: 0.5093 | Test Acc: 83.92%\n",
      "--------------------------------------------------\n",
      "[Epoch 60/100] :\n"
     ]
    },
    {
     "name": "stderr",
     "output_type": "stream",
     "text": [
      "60 Train: 100%|██████| 391/391 [00:49<00:00,  7.93it/s]\n"
     ]
    },
    {
     "name": "stdout",
     "output_type": "stream",
     "text": [
      "Train Loss: 0.3398 | Train Acc: 88.17%\n",
      "Test  Loss: 0.4128 | Test Acc: 86.15%\n",
      "--------------------------------------------------\n",
      "[Epoch 61/100] :\n"
     ]
    },
    {
     "name": "stderr",
     "output_type": "stream",
     "text": [
      "61 Train: 100%|██████| 391/391 [00:50<00:00,  7.80it/s]\n"
     ]
    },
    {
     "name": "stdout",
     "output_type": "stream",
     "text": [
      "Train Loss: 0.3370 | Train Acc: 88.16%\n",
      "Test  Loss: 0.4586 | Test Acc: 85.19%\n",
      "--------------------------------------------------\n",
      "[Epoch 62/100] :\n"
     ]
    },
    {
     "name": "stderr",
     "output_type": "stream",
     "text": [
      "62 Train: 100%|██████| 391/391 [00:50<00:00,  7.73it/s]\n"
     ]
    },
    {
     "name": "stdout",
     "output_type": "stream",
     "text": [
      "Train Loss: 0.3338 | Train Acc: 88.44%\n",
      "Test  Loss: 0.5244 | Test Acc: 83.00%\n",
      "--------------------------------------------------\n",
      "[Epoch 63/100] :\n"
     ]
    },
    {
     "name": "stderr",
     "output_type": "stream",
     "text": [
      "63 Train: 100%|██████| 391/391 [00:49<00:00,  7.96it/s]\n"
     ]
    },
    {
     "name": "stdout",
     "output_type": "stream",
     "text": [
      "Train Loss: 0.3358 | Train Acc: 88.23%\n",
      "Test  Loss: 0.4261 | Test Acc: 86.27%\n",
      "--------------------------------------------------\n",
      "[Epoch 64/100] :\n"
     ]
    },
    {
     "name": "stderr",
     "output_type": "stream",
     "text": [
      "64 Train: 100%|██████| 391/391 [00:50<00:00,  7.80it/s]\n"
     ]
    },
    {
     "name": "stdout",
     "output_type": "stream",
     "text": [
      "Train Loss: 0.3256 | Train Acc: 88.49%\n",
      "Test  Loss: 0.5088 | Test Acc: 83.99%\n",
      "--------------------------------------------------\n",
      "[Epoch 65/100] :\n"
     ]
    },
    {
     "name": "stderr",
     "output_type": "stream",
     "text": [
      "65 Train: 100%|██████| 391/391 [00:49<00:00,  7.96it/s]\n"
     ]
    },
    {
     "name": "stdout",
     "output_type": "stream",
     "text": [
      "Train Loss: 0.3278 | Train Acc: 88.37%\n",
      "Test  Loss: 0.4650 | Test Acc: 84.77%\n",
      "--------------------------------------------------\n",
      "[Epoch 66/100] :\n"
     ]
    },
    {
     "name": "stderr",
     "output_type": "stream",
     "text": [
      "66 Train: 100%|██████| 391/391 [00:48<00:00,  7.99it/s]\n"
     ]
    },
    {
     "name": "stdout",
     "output_type": "stream",
     "text": [
      "Train Loss: 0.3238 | Train Acc: 88.65%\n",
      "Test  Loss: 0.4145 | Test Acc: 86.20%\n",
      "--------------------------------------------------\n",
      "[Epoch 67/100] :\n"
     ]
    },
    {
     "name": "stderr",
     "output_type": "stream",
     "text": [
      "67 Train: 100%|██████| 391/391 [00:49<00:00,  7.86it/s]\n"
     ]
    },
    {
     "name": "stdout",
     "output_type": "stream",
     "text": [
      "Train Loss: 0.3270 | Train Acc: 88.68%\n",
      "Test  Loss: 0.4129 | Test Acc: 86.26%\n",
      "--------------------------------------------------\n",
      "[Epoch 68/100] :\n"
     ]
    },
    {
     "name": "stderr",
     "output_type": "stream",
     "text": [
      "68 Train: 100%|██████| 391/391 [00:50<00:00,  7.73it/s]\n"
     ]
    },
    {
     "name": "stdout",
     "output_type": "stream",
     "text": [
      "Train Loss: 0.3209 | Train Acc: 88.64%\n",
      "Test  Loss: 0.4356 | Test Acc: 86.41%\n",
      "--------------------------------------------------\n",
      "[Epoch 69/100] :\n"
     ]
    },
    {
     "name": "stderr",
     "output_type": "stream",
     "text": [
      "69 Train: 100%|██████| 391/391 [00:49<00:00,  7.88it/s]\n"
     ]
    },
    {
     "name": "stdout",
     "output_type": "stream",
     "text": [
      "Train Loss: 0.3173 | Train Acc: 88.93%\n",
      "Test  Loss: 0.4433 | Test Acc: 85.90%\n",
      "--------------------------------------------------\n",
      "[Epoch 70/100] :\n"
     ]
    },
    {
     "name": "stderr",
     "output_type": "stream",
     "text": [
      "70 Train: 100%|██████| 391/391 [00:49<00:00,  7.90it/s]\n"
     ]
    },
    {
     "name": "stdout",
     "output_type": "stream",
     "text": [
      "Train Loss: 0.3117 | Train Acc: 89.16%\n",
      "Test  Loss: 0.3847 | Test Acc: 87.56%\n",
      "updated best eval loss : 0.3847266903406457\n",
      "--------------------------------------------------\n",
      "[Epoch 71/100] :\n"
     ]
    },
    {
     "name": "stderr",
     "output_type": "stream",
     "text": [
      "71 Train: 100%|██████| 391/391 [00:50<00:00,  7.70it/s]\n"
     ]
    },
    {
     "name": "stdout",
     "output_type": "stream",
     "text": [
      "Train Loss: 0.3179 | Train Acc: 88.93%\n",
      "Test  Loss: 0.3984 | Test Acc: 87.48%\n",
      "--------------------------------------------------\n",
      "[Epoch 72/100] :\n"
     ]
    },
    {
     "name": "stderr",
     "output_type": "stream",
     "text": [
      "72 Train: 100%|██████| 391/391 [00:48<00:00,  8.05it/s]\n"
     ]
    },
    {
     "name": "stdout",
     "output_type": "stream",
     "text": [
      "Train Loss: 0.3169 | Train Acc: 88.88%\n",
      "Test  Loss: 0.4671 | Test Acc: 85.26%\n",
      "--------------------------------------------------\n",
      "[Epoch 73/100] :\n"
     ]
    },
    {
     "name": "stderr",
     "output_type": "stream",
     "text": [
      "73 Train: 100%|██████| 391/391 [00:51<00:00,  7.60it/s]\n"
     ]
    },
    {
     "name": "stdout",
     "output_type": "stream",
     "text": [
      "Train Loss: 0.3106 | Train Acc: 89.12%\n",
      "Test  Loss: 0.4140 | Test Acc: 86.87%\n",
      "--------------------------------------------------\n",
      "[Epoch 74/100] :\n"
     ]
    },
    {
     "name": "stderr",
     "output_type": "stream",
     "text": [
      "74 Train: 100%|██████| 391/391 [00:49<00:00,  7.89it/s]\n"
     ]
    },
    {
     "name": "stdout",
     "output_type": "stream",
     "text": [
      "Train Loss: 0.3057 | Train Acc: 89.13%\n",
      "Test  Loss: 0.4082 | Test Acc: 86.58%\n",
      "--------------------------------------------------\n",
      "[Epoch 75/100] :\n"
     ]
    },
    {
     "name": "stderr",
     "output_type": "stream",
     "text": [
      "75 Train: 100%|██████| 391/391 [00:48<00:00,  7.98it/s]\n"
     ]
    },
    {
     "name": "stdout",
     "output_type": "stream",
     "text": [
      "Train Loss: 0.3106 | Train Acc: 89.14%\n",
      "Test  Loss: 0.3879 | Test Acc: 87.52%\n",
      "--------------------------------------------------\n",
      "[Epoch 76/100] :\n"
     ]
    },
    {
     "name": "stderr",
     "output_type": "stream",
     "text": [
      "76 Train: 100%|██████| 391/391 [00:49<00:00,  7.96it/s]\n"
     ]
    },
    {
     "name": "stdout",
     "output_type": "stream",
     "text": [
      "Train Loss: 0.3034 | Train Acc: 89.33%\n",
      "Test  Loss: 0.4291 | Test Acc: 86.38%\n",
      "--------------------------------------------------\n",
      "[Epoch 77/100] :\n"
     ]
    },
    {
     "name": "stderr",
     "output_type": "stream",
     "text": [
      "77 Train: 100%|██████| 391/391 [00:51<00:00,  7.66it/s]\n"
     ]
    },
    {
     "name": "stdout",
     "output_type": "stream",
     "text": [
      "Train Loss: 0.3007 | Train Acc: 89.37%\n",
      "Test  Loss: 0.4830 | Test Acc: 85.38%\n",
      "--------------------------------------------------\n",
      "[Epoch 78/100] :\n"
     ]
    },
    {
     "name": "stderr",
     "output_type": "stream",
     "text": [
      "78 Train: 100%|██████| 391/391 [00:48<00:00,  8.06it/s]\n"
     ]
    },
    {
     "name": "stdout",
     "output_type": "stream",
     "text": [
      "Train Loss: 0.3011 | Train Acc: 89.39%\n",
      "Test  Loss: 0.3864 | Test Acc: 87.59%\n",
      "--------------------------------------------------\n",
      "[Epoch 79/100] :\n"
     ]
    },
    {
     "name": "stderr",
     "output_type": "stream",
     "text": [
      "79 Train: 100%|██████| 391/391 [00:49<00:00,  7.96it/s]\n"
     ]
    },
    {
     "name": "stdout",
     "output_type": "stream",
     "text": [
      "Train Loss: 0.2975 | Train Acc: 89.62%\n",
      "Test  Loss: 0.4425 | Test Acc: 86.13%\n",
      "--------------------------------------------------\n",
      "[Epoch 80/100] :\n"
     ]
    },
    {
     "name": "stderr",
     "output_type": "stream",
     "text": [
      "80 Train: 100%|██████| 391/391 [00:48<00:00,  8.13it/s]\n"
     ]
    },
    {
     "name": "stdout",
     "output_type": "stream",
     "text": [
      "Train Loss: 0.3017 | Train Acc: 89.36%\n",
      "Test  Loss: 0.4017 | Test Acc: 87.30%\n",
      "--------------------------------------------------\n",
      "[Epoch 81/100] :\n"
     ]
    },
    {
     "name": "stderr",
     "output_type": "stream",
     "text": [
      "81 Train: 100%|██████| 391/391 [00:47<00:00,  8.16it/s]\n"
     ]
    },
    {
     "name": "stdout",
     "output_type": "stream",
     "text": [
      "Train Loss: 0.2932 | Train Acc: 89.72%\n",
      "Test  Loss: 0.4090 | Test Acc: 86.93%\n",
      "--------------------------------------------------\n",
      "[Epoch 82/100] :\n"
     ]
    },
    {
     "name": "stderr",
     "output_type": "stream",
     "text": [
      "82 Train: 100%|██████| 391/391 [00:48<00:00,  7.99it/s]\n"
     ]
    },
    {
     "name": "stdout",
     "output_type": "stream",
     "text": [
      "Train Loss: 0.2957 | Train Acc: 89.53%\n",
      "Test  Loss: 0.4249 | Test Acc: 87.31%\n",
      "--------------------------------------------------\n",
      "[Epoch 83/100] :\n"
     ]
    },
    {
     "name": "stderr",
     "output_type": "stream",
     "text": [
      "83 Train: 100%|██████| 391/391 [00:48<00:00,  8.09it/s]\n"
     ]
    },
    {
     "name": "stdout",
     "output_type": "stream",
     "text": [
      "Train Loss: 0.2930 | Train Acc: 89.72%\n",
      "Test  Loss: 0.3958 | Test Acc: 87.64%\n",
      "--------------------------------------------------\n",
      "[Epoch 84/100] :\n"
     ]
    },
    {
     "name": "stderr",
     "output_type": "stream",
     "text": [
      "84 Train: 100%|██████| 391/391 [00:47<00:00,  8.15it/s]\n"
     ]
    },
    {
     "name": "stdout",
     "output_type": "stream",
     "text": [
      "Train Loss: 0.2868 | Train Acc: 90.01%\n",
      "Test  Loss: 0.4344 | Test Acc: 86.48%\n",
      "--------------------------------------------------\n",
      "[Epoch 85/100] :\n"
     ]
    },
    {
     "name": "stderr",
     "output_type": "stream",
     "text": [
      "85 Train: 100%|██████| 391/391 [00:48<00:00,  8.11it/s]\n"
     ]
    },
    {
     "name": "stdout",
     "output_type": "stream",
     "text": [
      "Train Loss: 0.2885 | Train Acc: 89.90%\n",
      "Test  Loss: 0.4037 | Test Acc: 87.48%\n",
      "--------------------------------------------------\n",
      "[Epoch 86/100] :\n"
     ]
    },
    {
     "name": "stderr",
     "output_type": "stream",
     "text": [
      "86 Train: 100%|██████| 391/391 [00:48<00:00,  8.04it/s]\n"
     ]
    },
    {
     "name": "stdout",
     "output_type": "stream",
     "text": [
      "Train Loss: 0.2875 | Train Acc: 89.82%\n",
      "Test  Loss: 0.4227 | Test Acc: 86.63%\n",
      "--------------------------------------------------\n",
      "[Epoch 87/100] :\n"
     ]
    },
    {
     "name": "stderr",
     "output_type": "stream",
     "text": [
      "87 Train: 100%|██████| 391/391 [00:47<00:00,  8.16it/s]\n"
     ]
    },
    {
     "name": "stdout",
     "output_type": "stream",
     "text": [
      "Train Loss: 0.2892 | Train Acc: 89.83%\n",
      "Test  Loss: 0.3896 | Test Acc: 87.72%\n",
      "--------------------------------------------------\n",
      "[Epoch 88/100] :\n"
     ]
    },
    {
     "name": "stderr",
     "output_type": "stream",
     "text": [
      "88 Train: 100%|██████| 391/391 [00:49<00:00,  7.83it/s]\n"
     ]
    },
    {
     "name": "stdout",
     "output_type": "stream",
     "text": [
      "Train Loss: 0.2831 | Train Acc: 90.09%\n",
      "Test  Loss: 0.4230 | Test Acc: 86.71%\n",
      "--------------------------------------------------\n",
      "[Epoch 89/100] :\n"
     ]
    },
    {
     "name": "stderr",
     "output_type": "stream",
     "text": [
      "89 Train: 100%|██████| 391/391 [00:47<00:00,  8.24it/s]\n"
     ]
    },
    {
     "name": "stdout",
     "output_type": "stream",
     "text": [
      "Train Loss: 0.2859 | Train Acc: 90.03%\n",
      "Test  Loss: 0.4525 | Test Acc: 86.02%\n",
      "--------------------------------------------------\n",
      "[Epoch 90/100] :\n"
     ]
    },
    {
     "name": "stderr",
     "output_type": "stream",
     "text": [
      "90 Train: 100%|██████| 391/391 [00:49<00:00,  7.92it/s]\n"
     ]
    },
    {
     "name": "stdout",
     "output_type": "stream",
     "text": [
      "Train Loss: 0.2882 | Train Acc: 89.93%\n",
      "Test  Loss: 0.3804 | Test Acc: 87.82%\n",
      "updated best eval loss : 0.3804072660358646\n",
      "--------------------------------------------------\n",
      "[Epoch 91/100] :\n"
     ]
    },
    {
     "name": "stderr",
     "output_type": "stream",
     "text": [
      "91 Train: 100%|██████| 391/391 [00:47<00:00,  8.17it/s]\n"
     ]
    },
    {
     "name": "stdout",
     "output_type": "stream",
     "text": [
      "Train Loss: 0.2856 | Train Acc: 90.08%\n",
      "Test  Loss: 0.4743 | Test Acc: 85.50%\n",
      "--------------------------------------------------\n",
      "[Epoch 92/100] :\n"
     ]
    },
    {
     "name": "stderr",
     "output_type": "stream",
     "text": [
      "92 Train: 100%|██████| 391/391 [00:49<00:00,  7.85it/s]\n"
     ]
    },
    {
     "name": "stdout",
     "output_type": "stream",
     "text": [
      "Train Loss: 0.2763 | Train Acc: 90.36%\n",
      "Test  Loss: 0.4072 | Test Acc: 87.73%\n",
      "--------------------------------------------------\n",
      "[Epoch 93/100] :\n"
     ]
    },
    {
     "name": "stderr",
     "output_type": "stream",
     "text": [
      "93 Train: 100%|██████| 391/391 [00:50<00:00,  7.79it/s]\n"
     ]
    },
    {
     "name": "stdout",
     "output_type": "stream",
     "text": [
      "Train Loss: 0.2729 | Train Acc: 90.29%\n",
      "Test  Loss: 0.3845 | Test Acc: 87.71%\n",
      "--------------------------------------------------\n",
      "[Epoch 94/100] :\n"
     ]
    },
    {
     "name": "stderr",
     "output_type": "stream",
     "text": [
      "94 Train: 100%|██████| 391/391 [00:48<00:00,  8.00it/s]\n"
     ]
    },
    {
     "name": "stdout",
     "output_type": "stream",
     "text": [
      "Train Loss: 0.2803 | Train Acc: 90.19%\n",
      "Test  Loss: 0.3918 | Test Acc: 88.06%\n",
      "--------------------------------------------------\n",
      "[Epoch 95/100] :\n"
     ]
    },
    {
     "name": "stderr",
     "output_type": "stream",
     "text": [
      "95 Train: 100%|██████| 391/391 [00:51<00:00,  7.64it/s]\n"
     ]
    },
    {
     "name": "stdout",
     "output_type": "stream",
     "text": [
      "Train Loss: 0.2782 | Train Acc: 90.23%\n",
      "Test  Loss: 0.4010 | Test Acc: 87.22%\n",
      "--------------------------------------------------\n",
      "[Epoch 96/100] :\n"
     ]
    },
    {
     "name": "stderr",
     "output_type": "stream",
     "text": [
      "96 Train: 100%|██████| 391/391 [00:48<00:00,  8.03it/s]\n"
     ]
    },
    {
     "name": "stdout",
     "output_type": "stream",
     "text": [
      "Train Loss: 0.2708 | Train Acc: 90.45%\n",
      "Test  Loss: 0.4286 | Test Acc: 86.44%\n",
      "--------------------------------------------------\n",
      "[Epoch 97/100] :\n"
     ]
    },
    {
     "name": "stderr",
     "output_type": "stream",
     "text": [
      "97 Train: 100%|██████| 391/391 [00:49<00:00,  7.91it/s]\n"
     ]
    },
    {
     "name": "stdout",
     "output_type": "stream",
     "text": [
      "Train Loss: 0.2744 | Train Acc: 90.34%\n",
      "Test  Loss: 0.4025 | Test Acc: 87.51%\n",
      "--------------------------------------------------\n",
      "[Epoch 98/100] :\n"
     ]
    },
    {
     "name": "stderr",
     "output_type": "stream",
     "text": [
      "98 Train: 100%|██████| 391/391 [00:39<00:00,  9.86it/s]\n"
     ]
    },
    {
     "name": "stdout",
     "output_type": "stream",
     "text": [
      "Train Loss: 0.2683 | Train Acc: 90.64%\n",
      "Test  Loss: 0.4396 | Test Acc: 86.40%\n",
      "--------------------------------------------------\n",
      "[Epoch 99/100] :\n"
     ]
    },
    {
     "name": "stderr",
     "output_type": "stream",
     "text": [
      "99 Train: 100%|██████| 391/391 [00:39<00:00,  9.89it/s]\n"
     ]
    },
    {
     "name": "stdout",
     "output_type": "stream",
     "text": [
      "Train Loss: 0.2692 | Train Acc: 90.50%\n",
      "Test  Loss: 0.4465 | Test Acc: 86.61%\n",
      "--------------------------------------------------\n",
      "[Epoch 100/100] :\n"
     ]
    },
    {
     "name": "stderr",
     "output_type": "stream",
     "text": [
      "100 Train: 100%|█████| 391/391 [00:32<00:00, 12.05it/s]\n"
     ]
    },
    {
     "name": "stdout",
     "output_type": "stream",
     "text": [
      "Train Loss: 0.2711 | Train Acc: 90.55%\n",
      "Test  Loss: 0.3871 | Test Acc: 87.65%\n",
      "--------------------------------------------------\n"
     ]
    }
   ],
   "source": [
    "Training = DoTraining(\n",
    "    model=model,\n",
    "    criterion=criterion,\n",
    "    optimizer=optimizer,\n",
    "    scaler=scaler,\n",
    "    scheduler=scheduler,\n",
    "    earlystopper=earlystopper,\n",
    "    device=device,\n",
    "    logs=logs,\n",
    "    file_path=file_name,\n",
    ")\n",
    "pre_epochs = len(Training.logs[\"train_loss\"])\n",
    "\n",
    "for epoch in range(NUM_EPOCHS):\n",
    "    now = epoch + 1 + pre_epochs\n",
    "    print(f\"[Epoch {epoch+1+pre_epochs}/{NUM_EPOCHS}] :\")\n",
    "\n",
    "    if DATASET == \"ImageNet2012\":\n",
    "        eval_loss = Training.SingleEpoch(train_dataloader, valid_dataloader)\n",
    "    else:\n",
    "        eval_loss = Training.SingleEpoch(\n",
    "            train_dataloader, valid_dataloader, test_dataloader\n",
    "        )\n",
    "\n",
    "    Training.Save()\n",
    "\n",
    "    \n",
    "    \n",
    "    if earlystopper.check(eval_loss) == True:\n",
    "        break\n",
    "\n",
    "    print(\"-\" * 50)"
   ]
  },
  {
   "cell_type": "code",
   "execution_count": 17,
   "metadata": {},
   "outputs": [
    {
     "data": {
      "image/png": "[encoded data removed]",
      "text/plain": [
       "<Figure size 1000x500 with 2 Axes>"
      ]
     },
     "metadata": {},
     "output_type": "display_data"
    }
   ],
   "source": [
    "view = LogViewer(logs)\n",
    "view.draw(save_name=file_name)"
   ]
  },
  {
   "cell_type": "code",
   "execution_count": 18,
   "metadata": {},
   "outputs": [
    {
     "name": "stdout",
     "output_type": "stream",
     "text": [
      "1 epoch: train_loss=1.7091, train_acc=0.3733, test_loss=2.1212, test_acc=0.2822, lr=0.0010\n",
      "2 epoch: train_loss=1.2926, train_acc=0.5404, test_loss=1.8576, test_acc=0.3958, lr=0.0010\n",
      "3 epoch: train_loss=1.1080, train_acc=0.6078, test_loss=1.5500, test_acc=0.5064, lr=0.0010\n",
      "4 epoch: train_loss=0.9828, train_acc=0.6556, test_loss=1.2518, test_acc=0.5747, lr=0.0010\n",
      "5 epoch: train_loss=0.8998, train_acc=0.6856, test_loss=1.5926, test_acc=0.5587, lr=0.0010\n",
      "6 epoch: train_loss=0.8444, train_acc=0.7066, test_loss=1.7393, test_acc=0.5193, lr=0.0010\n",
      "7 epoch: train_loss=0.7971, train_acc=0.7224, test_loss=0.8063, test_acc=0.7238, lr=0.0010\n",
      "8 epoch: train_loss=0.7631, train_acc=0.7332, test_loss=0.7705, test_acc=0.7421, lr=0.0010\n",
      "9 epoch: train_loss=0.7251, train_acc=0.7480, test_loss=0.7130, test_acc=0.7597, lr=0.0010\n",
      "10 epoch: train_loss=0.6958, train_acc=0.7575, test_loss=0.7598, test_acc=0.7416, lr=0.0010\n",
      "11 epoch: train_loss=0.6783, train_acc=0.7629, test_loss=0.6138, test_acc=0.7870, lr=0.0010\n",
      "12 epoch: train_loss=0.6544, train_acc=0.7728, test_loss=0.6539, test_acc=0.7667, lr=0.0010\n",
      "13 epoch: train_loss=0.6311, train_acc=0.7818, test_loss=0.6239, test_acc=0.7898, lr=0.0010\n",
      "14 epoch: train_loss=0.6161, train_acc=0.7862, test_loss=0.6266, test_acc=0.7822, lr=0.0010\n",
      "15 epoch: train_loss=0.6027, train_acc=0.7906, test_loss=0.6838, test_acc=0.7697, lr=0.0010\n",
      "16 epoch: train_loss=0.5816, train_acc=0.7978, test_loss=0.6282, test_acc=0.7863, lr=0.0010\n",
      "17 epoch: train_loss=0.5716, train_acc=0.8011, test_loss=0.6672, test_acc=0.7693, lr=0.0010\n",
      "18 epoch: train_loss=0.5589, train_acc=0.8027, test_loss=0.6378, test_acc=0.7875, lr=0.0010\n",
      "19 epoch: train_loss=0.5444, train_acc=0.8095, test_loss=0.5816, test_acc=0.8022, lr=0.0010\n",
      "20 epoch: train_loss=0.5384, train_acc=0.8144, test_loss=0.6046, test_acc=0.7945, lr=0.0010\n",
      "21 epoch: train_loss=0.5217, train_acc=0.8183, test_loss=0.5512, test_acc=0.8155, lr=0.0010\n",
      "22 epoch: train_loss=0.5168, train_acc=0.8192, test_loss=0.5843, test_acc=0.8008, lr=0.0010\n",
      "23 epoch: train_loss=0.5076, train_acc=0.8238, test_loss=0.6925, test_acc=0.7683, lr=0.0010\n",
      "24 epoch: train_loss=0.5001, train_acc=0.8273, test_loss=0.5773, test_acc=0.8053, lr=0.0010\n",
      "25 epoch: train_loss=0.4981, train_acc=0.8261, test_loss=0.4701, test_acc=0.8368, lr=0.0010\n",
      "26 epoch: train_loss=0.4828, train_acc=0.8314, test_loss=0.5741, test_acc=0.8086, lr=0.0010\n",
      "27 epoch: train_loss=0.4749, train_acc=0.8357, test_loss=0.5243, test_acc=0.8157, lr=0.0010\n",
      "28 epoch: train_loss=0.4676, train_acc=0.8384, test_loss=0.5366, test_acc=0.8215, lr=0.0010\n",
      "29 epoch: train_loss=0.4647, train_acc=0.8389, test_loss=0.6493, test_acc=0.7858, lr=0.0010\n",
      "30 epoch: train_loss=0.4581, train_acc=0.8398, test_loss=0.4448, test_acc=0.8481, lr=0.0010\n",
      "31 epoch: train_loss=0.4500, train_acc=0.8440, test_loss=0.5027, test_acc=0.8319, lr=0.0010\n",
      "32 epoch: train_loss=0.4422, train_acc=0.8463, test_loss=0.5825, test_acc=0.8007, lr=0.0010\n",
      "33 epoch: train_loss=0.4408, train_acc=0.8450, test_loss=0.4892, test_acc=0.8338, lr=0.0010\n",
      "34 epoch: train_loss=0.4374, train_acc=0.8460, test_loss=0.4757, test_acc=0.8419, lr=0.0010\n",
      "35 epoch: train_loss=0.4200, train_acc=0.8528, test_loss=0.4712, test_acc=0.8392, lr=0.0010\n",
      "36 epoch: train_loss=0.4211, train_acc=0.8521, test_loss=0.4766, test_acc=0.8392, lr=0.0010\n",
      "37 epoch: train_loss=0.4157, train_acc=0.8557, test_loss=0.4432, test_acc=0.8506, lr=0.0010\n",
      "38 epoch: train_loss=0.4121, train_acc=0.8566, test_loss=0.4029, test_acc=0.8650, lr=0.0010\n",
      "39 epoch: train_loss=0.4056, train_acc=0.8578, test_loss=0.4801, test_acc=0.8417, lr=0.0010\n",
      "40 epoch: train_loss=0.4041, train_acc=0.8597, test_loss=0.4508, test_acc=0.8483, lr=0.0010\n",
      "41 epoch: train_loss=0.3944, train_acc=0.8617, test_loss=0.4530, test_acc=0.8489, lr=0.0010\n",
      "42 epoch: train_loss=0.3972, train_acc=0.8614, test_loss=0.4385, test_acc=0.8511, lr=0.0010\n",
      "43 epoch: train_loss=0.3924, train_acc=0.8642, test_loss=0.5342, test_acc=0.8222, lr=0.0010\n",
      "44 epoch: train_loss=0.3934, train_acc=0.8633, test_loss=0.4266, test_acc=0.8580, lr=0.0010\n",
      "45 epoch: train_loss=0.3881, train_acc=0.8651, test_loss=0.4302, test_acc=0.8560, lr=0.0010\n",
      "46 epoch: train_loss=0.3772, train_acc=0.8672, test_loss=0.4680, test_acc=0.8469, lr=0.0010\n",
      "47 epoch: train_loss=0.3814, train_acc=0.8665, test_loss=0.4188, test_acc=0.8603, lr=0.0010\n",
      "48 epoch: train_loss=0.3723, train_acc=0.8708, test_loss=0.4660, test_acc=0.8459, lr=0.0010\n",
      "49 epoch: train_loss=0.3752, train_acc=0.8696, test_loss=0.4601, test_acc=0.8463, lr=0.0010\n",
      "50 epoch: train_loss=0.3618, train_acc=0.8725, test_loss=0.4465, test_acc=0.8510, lr=0.0010\n",
      "51 epoch: train_loss=0.3696, train_acc=0.8706, test_loss=0.4223, test_acc=0.8616, lr=0.0010\n",
      "52 epoch: train_loss=0.3587, train_acc=0.8731, test_loss=0.4082, test_acc=0.8701, lr=0.0010\n",
      "53 epoch: train_loss=0.3563, train_acc=0.8754, test_loss=0.4502, test_acc=0.8593, lr=0.0010\n",
      "54 epoch: train_loss=0.3538, train_acc=0.8772, test_loss=0.4622, test_acc=0.8507, lr=0.0010\n",
      "55 epoch: train_loss=0.3459, train_acc=0.8796, test_loss=0.4435, test_acc=0.8579, lr=0.0010\n",
      "56 epoch: train_loss=0.3485, train_acc=0.8774, test_loss=0.4823, test_acc=0.8481, lr=0.0010\n",
      "57 epoch: train_loss=0.3432, train_acc=0.8800, test_loss=0.4317, test_acc=0.8586, lr=0.0010\n",
      "58 epoch: train_loss=0.3458, train_acc=0.8796, test_loss=0.4714, test_acc=0.8478, lr=0.0010\n",
      "59 epoch: train_loss=0.3413, train_acc=0.8794, test_loss=0.5093, test_acc=0.8392, lr=0.0010\n",
      "60 epoch: train_loss=0.3398, train_acc=0.8817, test_loss=0.4128, test_acc=0.8615, lr=0.0010\n",
      "61 epoch: train_loss=0.3370, train_acc=0.8816, test_loss=0.4586, test_acc=0.8519, lr=0.0010\n",
      "62 epoch: train_loss=0.3338, train_acc=0.8844, test_loss=0.5244, test_acc=0.8300, lr=0.0010\n",
      "63 epoch: train_loss=0.3358, train_acc=0.8823, test_loss=0.4261, test_acc=0.8627, lr=0.0010\n",
      "64 epoch: train_loss=0.3256, train_acc=0.8849, test_loss=0.5088, test_acc=0.8399, lr=0.0010\n",
      "65 epoch: train_loss=0.3278, train_acc=0.8837, test_loss=0.4650, test_acc=0.8477, lr=0.0010\n",
      "66 epoch: train_loss=0.3238, train_acc=0.8865, test_loss=0.4145, test_acc=0.8620, lr=0.0010\n",
      "67 epoch: train_loss=0.3270, train_acc=0.8868, test_loss=0.4129, test_acc=0.8626, lr=0.0010\n",
      "68 epoch: train_loss=0.3209, train_acc=0.8864, test_loss=0.4356, test_acc=0.8641, lr=0.0010\n",
      "69 epoch: train_loss=0.3173, train_acc=0.8893, test_loss=0.4433, test_acc=0.8590, lr=0.0010\n",
      "70 epoch: train_loss=0.3117, train_acc=0.8916, test_loss=0.3847, test_acc=0.8756, lr=0.0010\n",
      "71 epoch: train_loss=0.3179, train_acc=0.8893, test_loss=0.3984, test_acc=0.8748, lr=0.0010\n",
      "72 epoch: train_loss=0.3169, train_acc=0.8888, test_loss=0.4671, test_acc=0.8526, lr=0.0010\n",
      "73 epoch: train_loss=0.3106, train_acc=0.8912, test_loss=0.4140, test_acc=0.8687, lr=0.0010\n",
      "74 epoch: train_loss=0.3057, train_acc=0.8913, test_loss=0.4082, test_acc=0.8658, lr=0.0010\n",
      "75 epoch: train_loss=0.3106, train_acc=0.8914, test_loss=0.3879, test_acc=0.8752, lr=0.0010\n",
      "76 epoch: train_loss=0.3034, train_acc=0.8933, test_loss=0.4291, test_acc=0.8638, lr=0.0010\n",
      "77 epoch: train_loss=0.3007, train_acc=0.8937, test_loss=0.4830, test_acc=0.8538, lr=0.0010\n",
      "78 epoch: train_loss=0.3011, train_acc=0.8939, test_loss=0.3864, test_acc=0.8759, lr=0.0010\n",
      "79 epoch: train_loss=0.2975, train_acc=0.8962, test_loss=0.4425, test_acc=0.8613, lr=0.0010\n",
      "80 epoch: train_loss=0.3017, train_acc=0.8936, test_loss=0.4017, test_acc=0.8730, lr=0.0010\n",
      "81 epoch: train_loss=0.2932, train_acc=0.8972, test_loss=0.4090, test_acc=0.8693, lr=0.0010\n",
      "82 epoch: train_loss=0.2957, train_acc=0.8953, test_loss=0.4249, test_acc=0.8731, lr=0.0010\n",
      "83 epoch: train_loss=0.2930, train_acc=0.8972, test_loss=0.3958, test_acc=0.8764, lr=0.0010\n",
      "84 epoch: train_loss=0.2868, train_acc=0.9001, test_loss=0.4344, test_acc=0.8648, lr=0.0010\n",
      "85 epoch: train_loss=0.2885, train_acc=0.8990, test_loss=0.4037, test_acc=0.8748, lr=0.0010\n",
      "86 epoch: train_loss=0.2875, train_acc=0.8982, test_loss=0.4227, test_acc=0.8663, lr=0.0010\n",
      "87 epoch: train_loss=0.2892, train_acc=0.8983, test_loss=0.3896, test_acc=0.8772, lr=0.0010\n",
      "88 epoch: train_loss=0.2831, train_acc=0.9009, test_loss=0.4230, test_acc=0.8671, lr=0.0010\n",
      "89 epoch: train_loss=0.2859, train_acc=0.9003, test_loss=0.4525, test_acc=0.8602, lr=0.0010\n",
      "90 epoch: train_loss=0.2882, train_acc=0.8993, test_loss=0.3804, test_acc=0.8782, lr=0.0010\n",
      "91 epoch: train_loss=0.2856, train_acc=0.9008, test_loss=0.4743, test_acc=0.8550, lr=0.0010\n",
      "92 epoch: train_loss=0.2763, train_acc=0.9036, test_loss=0.4072, test_acc=0.8773, lr=0.0010\n",
      "93 epoch: train_loss=0.2729, train_acc=0.9029, test_loss=0.3845, test_acc=0.8771, lr=0.0010\n",
      "94 epoch: train_loss=0.2803, train_acc=0.9019, test_loss=0.3918, test_acc=0.8806, lr=0.0010\n",
      "95 epoch: train_loss=0.2782, train_acc=0.9023, test_loss=0.4010, test_acc=0.8722, lr=0.0010\n",
      "96 epoch: train_loss=0.2708, train_acc=0.9045, test_loss=0.4286, test_acc=0.8644, lr=0.0010\n",
      "97 epoch: train_loss=0.2744, train_acc=0.9034, test_loss=0.4025, test_acc=0.8751, lr=0.0010\n",
      "98 epoch: train_loss=0.2683, train_acc=0.9064, test_loss=0.4396, test_acc=0.8640, lr=0.0010\n",
      "99 epoch: train_loss=0.2692, train_acc=0.9050, test_loss=0.4465, test_acc=0.8661, lr=0.0010\n",
      "100 epoch: train_loss=0.2711, train_acc=0.9055, test_loss=0.3871, test_acc=0.8765, lr=0.0010\n"
     ]
    }
   ],
   "source": [
    "view.print_all()"
   ]
  }
 ],
 "metadata": {
  "kernelspec": {
   "display_name": "base",
   "language": "python",
   "name": "python3"
  },
  "language_info": {
   "codemirror_mode": {
    "name": "ipython",
    "version": 3
   },
   "file_extension": ".py",
   "mimetype": "text/x-python",
   "name": "python",
   "nbconvert_exporter": "python",
   "pygments_lexer": "ipython3",
   "version": "3.11.5"
  }
 },
 "nbformat": 4,
 "nbformat_minor": 2
}
