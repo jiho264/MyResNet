{
 "cells": [
  {
   "cell_type": "markdown",
   "metadata": {},
   "source": [
    "# Import"
   ]
  },
  {
   "cell_type": "code",
   "execution_count": 1,
   "metadata": {},
   "outputs": [],
   "source": [
    "import torch\n",
    "from torch import nn\n",
    "from torch.optim.lr_scheduler import ReduceLROnPlateau, MultiStepLR\n",
    "from torch.utils.data import DataLoader\n",
    "from fvcore.nn import FlopCountAnalysis, flop_count_table\n",
    "import numpy as np\n",
    "import matplotlib.pyplot as plt\n",
    "import os\n",
    "\n",
    "####################################################\n",
    "from src.Mydataloader import LoadDataset\n",
    "from src.Mymodel import MyResNet34\n",
    "from src.Mymodel import MyResNet_CIFAR\n",
    "from src.Mytraining import DoTraining\n",
    "from src.Earlystopper import EarlyStopper\n",
    "from src.LogViewer import LogViewer"
   ]
  },
  {
   "cell_type": "markdown",
   "metadata": {},
   "source": [
    "# Setup"
   ]
  },
  {
   "cell_type": "code",
   "execution_count": 2,
   "metadata": {},
   "outputs": [],
   "source": [
    "\"\"\"Dataset selection\"\"\"\n",
    "DATASET = \"CIFAR10\"\n",
    "# DATASET = \"CIFAR100\"\n",
    "# DATASET = \"ImageNet2012\"\n",
    "\n",
    "\"\"\"Model selection for CIFAR\"\"\"\n",
    "NUM_LAYERS_LEVEL = 5\n",
    "\n",
    "\"\"\"Dataset parameters\"\"\"\n",
    "BATCH = 128\n",
    "SHUFFLE = True\n",
    "NUMOFWORKERS = 8\n",
    "PIN_MEMORY = True\n",
    "SPLIT_RATIO = 0\n",
    "\n",
    "\"\"\"optimizer parameters\"\"\"\n",
    "OPTIMIZER = \"SGD\"\n",
    "# OPTIMIZER = \"Adam\"\n",
    "# OPTIMIZER = \"Adam_decay\"\n",
    "\n",
    "\"\"\"Learning rate scheduler parameters\"\"\"\n",
    "# LOAD_BEFORE_TRAINING = False\n",
    "LOAD_BEFORE_TRAINING = True\n",
    "NUM_EPOCHS = 500\n",
    "# scheduler_patience_mapping = {\"CIFAR10\": 200, \"CIFAR100\": 200, \"ImageNet2012\": 30}\n",
    "\n",
    "\"\"\"Early stopping parameters\"\"\"\n",
    "EARLYSTOPPINGPATIENCE = 80\n",
    "file_path = \"\"\n",
    "if DATASET == \"ImageNet2012\":\n",
    "    file_path = f\"{DATASET}/MyResNet34_{BATCH}_{OPTIMIZER}\"\n",
    "else:\n",
    "    file_path = f\"{DATASET}/MyResNet{NUM_LAYERS_LEVEL*6+2}_{BATCH}_{OPTIMIZER}\"\n",
    "\n",
    "if SPLIT_RATIO != 0:\n",
    "    file_path += f\"_{int(SPLIT_RATIO*100)}\""
   ]
  },
  {
   "cell_type": "code",
   "execution_count": 3,
   "metadata": {},
   "outputs": [
    {
     "data": {
      "text/plain": [
       "'CIFAR10/MyResNet32_128_SGD'"
      ]
     },
     "execution_count": 3,
     "metadata": {},
     "output_type": "execute_result"
    }
   ],
   "source": [
    "file_path"
   ]
  },
  {
   "cell_type": "markdown",
   "metadata": {},
   "source": [
    "# Loading the dataset"
   ]
  },
  {
   "cell_type": "markdown",
   "metadata": {},
   "source": [
    "## Define Dateloader"
   ]
  },
  {
   "cell_type": "code",
   "execution_count": 4,
   "metadata": {},
   "outputs": [
    {
     "name": "stderr",
     "output_type": "stream",
     "text": [
      "/home/lee/anaconda3/lib/python3.11/site-packages/torchvision/transforms/v2/_deprecated.py:43: UserWarning: The transform `ToTensor()` is deprecated and will be removed in a future release. Instead, please use `v2.Compose([v2.ToImage(), v2.ToDtype(torch.float32, scale=True)])`.\n",
      "  warnings.warn(\n"
     ]
    },
    {
     "name": "stdout",
     "output_type": "stream",
     "text": [
      "-----------------------------------------------------------------------\n",
      "Dataset :  CIFAR10\n",
      "- Length of Train Set :  50000\n",
      "- Length of Test Set :  10000\n",
      "- Count of Classes :  10\n",
      "-----------------------------------------------------------------------\n"
     ]
    }
   ],
   "source": [
    "tmp = LoadDataset(root=\"data\", seceted_dataset=DATASET, split_ratio=SPLIT_RATIO)\n",
    "train_data, valid_data, test_data, COUNT_OF_CLASSES = tmp.Unpack()"
   ]
  },
  {
   "cell_type": "code",
   "execution_count": 5,
   "metadata": {},
   "outputs": [
    {
     "name": "stdout",
     "output_type": "stream",
     "text": [
      "train.transforms = Compose(\n",
      "      ToTensor()\n",
      "      Normalize(mean=[0.49139968, 0.48215827, 0.44653124], std=[1, 1, 1], inplace=True)\n",
      "      AutoAugment(interpolation=InterpolationMode.NEAREST, policy=AutoAugmentPolicy.CIFAR10)\n",
      "      RandomCrop(size=(32, 32), padding=[4, 4, 4, 4], pad_if_needed=False, fill=0, padding_mode=constant)\n",
      "      RandomHorizontalFlip(p=0.5)\n",
      ") 128\n",
      "test.transforms = ToTensor() 128\n"
     ]
    }
   ],
   "source": [
    "\n",
    "train_dataloader = DataLoader(\n",
    "    train_data,\n",
    "    batch_size=BATCH,\n",
    "    shuffle=SHUFFLE,\n",
    "    num_workers=NUMOFWORKERS,\n",
    "    pin_memory=PIN_MEMORY,\n",
    "    # pin_memory_device=\"cuda\",\n",
    "    persistent_workers=True,\n",
    ")\n",
    "print(\"train.transforms =\", train_data.transform, train_dataloader.batch_size)\n",
    "\n",
    "if valid_data is not None:\n",
    "    valid_dataloader = DataLoader(\n",
    "        valid_data,\n",
    "        batch_size=BATCH,\n",
    "        shuffle=SHUFFLE,\n",
    "        num_workers=NUMOFWORKERS,\n",
    "        pin_memory=PIN_MEMORY,\n",
    "        # pin_memory_device=\"cuda\",\n",
    "        persistent_workers=True,\n",
    "    )\n",
    "    print(\"valid.transforms =\", valid_data.transform, valid_dataloader.batch_size)\n",
    "else:\n",
    "    valid_dataloader = None\n",
    "\n",
    "if test_data is not None:\n",
    "    test_dataloader = DataLoader(\n",
    "        test_data,\n",
    "        batch_size=BATCH,\n",
    "        shuffle=SHUFFLE,\n",
    "        num_workers=NUMOFWORKERS,\n",
    "        pin_memory=PIN_MEMORY,\n",
    "        # pin_memory_device=\"cuda\",\n",
    "        persistent_workers=True,\n",
    "    )\n",
    "    print(\"test.transforms =\", test_data.transform, test_dataloader.batch_size)\n",
    "else:\n",
    "    test_dataloader = None"
   ]
  },
  {
   "cell_type": "markdown",
   "metadata": {},
   "source": [
    "## Confirm that the dataset is loaded properly"
   ]
  },
  {
   "cell_type": "code",
   "execution_count": 6,
   "metadata": {},
   "outputs": [
    {
     "name": "stdout",
     "output_type": "stream",
     "text": [
      "Shape of X [N, C, H, W]: torch.Size([128, 3, 32, 32])\n",
      "mean of X tensor([0.4942, 0.4903, 0.4476])\n",
      "Shape of y: torch.Size([128]) torch.int64\n"
     ]
    },
    {
     "data": {
      "image/png": "[encoded data removed]",
      "text/plain": [
       "<Figure size 800x400 with 10 Axes>"
      ]
     },
     "metadata": {},
     "output_type": "display_data"
    }
   ],
   "source": [
    "if test_data is not None:\n",
    "    for X, y in test_dataloader:\n",
    "        print(f\"Shape of X [N, C, H, W]: {X.shape}\")\n",
    "        print(\"mean of X\", X.mean(dim=(0, 2, 3)))\n",
    "        print(f\"Shape of y: {y.shape} {y.dtype}\")\n",
    "        break\n",
    "    \n",
    "    class_names = test_dataloader.dataset.classes\n",
    "    count = 0\n",
    "    fig, axs = plt.subplots(2, 5, figsize=(8, 4))\n",
    "\n",
    "    for images, labels in test_dataloader:\n",
    "        images = images.numpy()\n",
    "\n",
    "        for i in range(len(images)):\n",
    "            image = images[i]\n",
    "            label = labels[i]\n",
    "            image = np.transpose(image, (1, 2, 0))\n",
    "            image = np.clip(image, 0, 1)\n",
    "            ax = axs[count // 5, count % 5]\n",
    "            ax.imshow(image)\n",
    "            ax.set_title(f\"{class_names[label], label}\")\n",
    "            ax.axis(\"off\")\n",
    "            count += 1\n",
    "\n",
    "            if count == 10:\n",
    "                break\n",
    "        if count == 10:\n",
    "            break\n",
    "    plt.tight_layout()\n",
    "    plt.show()"
   ]
  },
  {
   "cell_type": "markdown",
   "metadata": {},
   "source": [
    "# Define ResNet"
   ]
  },
  {
   "cell_type": "markdown",
   "metadata": {},
   "source": [
    "## Model Confirm"
   ]
  },
  {
   "cell_type": "code",
   "execution_count": 7,
   "metadata": {},
   "outputs": [
    {
     "data": {
      "text/plain": [
       "device(type='cuda')"
      ]
     },
     "execution_count": 7,
     "metadata": {},
     "output_type": "execute_result"
    }
   ],
   "source": [
    "device = torch.device(\"cuda\" if torch.cuda.is_available() else \"cpu\")\n",
    "device"
   ]
  },
  {
   "cell_type": "code",
   "execution_count": 8,
   "metadata": {},
   "outputs": [
    {
     "name": "stdout",
     "output_type": "stream",
     "text": [
      "ResNet-32 for CIFAR10 is loaded.\n"
     ]
    }
   ],
   "source": [
    "if DATASET == \"CIFAR10\" or DATASET == \"CIFAR100\":\n",
    "    \"\"\"ResNet{20, 32, 44, 56, 110, 1202} for CIFAR\"\"\"\n",
    "    model = MyResNet_CIFAR(\n",
    "        num_classes=COUNT_OF_CLASSES,\n",
    "        num_layer_factor=NUM_LAYERS_LEVEL,\n",
    "        Downsample_option=\"A\",\n",
    "    ).to(device)\n",
    "    print(f\"ResNet-{5*6+2} for {DATASET} is loaded.\")\n",
    "\n",
    "elif DATASET == \"ImageNet2012\":\n",
    "    \"\"\"ResNet34 for ImageNet 2012\"\"\"\n",
    "    model = MyResNet34(\n",
    "        num_classes=COUNT_OF_CLASSES, \n",
    "        Downsample_option=\"A\"\n",
    "    ).to(device)\n",
    "    # model = models.resnet34(pretrained=True).to(device)\n",
    "    # model = models.resnet34(pretrained=False).to(device)\n",
    "    print(f\"ResNet-34 for {DATASET} is loaded.\")\n"
   ]
  },
  {
   "cell_type": "code",
   "execution_count": 9,
   "metadata": {},
   "outputs": [],
   "source": [
    "# model.named_modules"
   ]
  },
  {
   "cell_type": "code",
   "execution_count": 10,
   "metadata": {},
   "outputs": [],
   "source": [
    "# tmp_input = torch.rand(BATCH, 3, 32, 32).to(device)\n",
    "# flops = FlopCountAnalysis(model, tmp_input)\n",
    "# print(flop_count_table(flops))"
   ]
  },
  {
   "cell_type": "markdown",
   "metadata": {},
   "source": [
    "# Define Training"
   ]
  },
  {
   "cell_type": "markdown",
   "metadata": {},
   "source": [
    "## (1) Define Criterion"
   ]
  },
  {
   "cell_type": "code",
   "execution_count": 11,
   "metadata": {},
   "outputs": [],
   "source": [
    "criterion = nn.CrossEntropyLoss()"
   ]
  },
  {
   "cell_type": "markdown",
   "metadata": {},
   "source": [
    "## (2) Define Optimazer"
   ]
  },
  {
   "cell_type": "code",
   "execution_count": 12,
   "metadata": {},
   "outputs": [],
   "source": [
    "if OPTIMIZER == \"Adam\":\n",
    "    optimizer = torch.optim.Adam(model.parameters())\n",
    "elif OPTIMIZER == \"Adam_decay\":\n",
    "    optimizer = torch.optim.Adam(model.parameters(), weight_decay=1e-4)\n",
    "elif OPTIMIZER == \"SGD\":\n",
    "    optimizer = torch.optim.SGD(\n",
    "        model.parameters(), lr=0.1, momentum=0.9, weight_decay=0.0001\n",
    "    )"
   ]
  },
  {
   "cell_type": "markdown",
   "metadata": {},
   "source": [
    "## (3) Define Early Stopping"
   ]
  },
  {
   "cell_type": "code",
   "execution_count": 13,
   "metadata": {},
   "outputs": [],
   "source": [
    "earlystopper = EarlyStopper(patience=EARLYSTOPPINGPATIENCE, model=model, file_path=file_path)"
   ]
  },
  {
   "cell_type": "markdown",
   "metadata": {},
   "source": [
    "## (4) Define Learning Rate schedualer"
   ]
  },
  {
   "cell_type": "code",
   "execution_count": 14,
   "metadata": {},
   "outputs": [
    {
     "data": {
      "text/plain": [
       "'\\n=======================================================\\nif batch = 256\\n=======================================================\\nnon-split [single epoch = 196 iter] : milestones = [164, 246]\\n- 1 ~ 164 epochs == 1 ~ 32k iter >> lr = 0.1\\n- 165~246 epochs == 32k ~ 48k iter >> lr = 0.01\\n- 247~328(?) epochs == 48k ~ 64k iter >> lr = 0.001\\n=======================================================\\nsplit to 45k/5k [single epoch = 176 iter]: milestones = [182, 273]\\n- 1~182 epochs == 1 ~ 32k iter >> lr = 0.1\\n- 182~273 epochs == 32k ~ 48k iter >> lr = 0.01\\n- 273~364(?) epochs == 48k ~ 64k iter >> lr = 0.001\\n=======================================================\\nif batch = 128\\n=======================================================\\nnon-split [signle epoch = 391 iter]: milestones = [82, 123]\\n- 1 ~ 82 epochs == 1 ~ 32k iter >> lr = 0.1\\n- 83~123 epochs == 32k ~ 48k iter >> lr = 0.01\\n- 124~(164) epochs == 48k ~ 64k iter >> lr = 0.001\\n=======================================================\\nsplit to 45k/5k [signle epoch = 352 iter]: milestones = [91, 137]\\n- 1~91 epochs == 1 ~ 32k iter >> lr = 0.1\\n- 92~137 epochs == 32k ~ 48k iter >> lr = 0.01\\n- 138~(183) epochs == 48k ~ 64k iter >> lr = 0.001\\n=======================================================\\n'"
      ]
     },
     "execution_count": 14,
     "metadata": {},
     "output_type": "execute_result"
    }
   ],
   "source": [
    "# scheduler = ReduceLROnPlateau(\n",
    "#     optimizer,\n",
    "#     mode=\"min\",\n",
    "#     patience=scheduler_patience_mapping[DATASET],\n",
    "#     factor=0.1,\n",
    "#     verbose=True,\n",
    "#     threshold=1e-4,\n",
    "#     cooldown=100,\n",
    "# )\n",
    "\n",
    "scheduler = MultiStepLR(optimizer, milestones=[82, 123], gamma=0.1)\n",
    "#\n",
    "\"\"\"\n",
    "=======================================================\n",
    "if batch = 256\n",
    "=======================================================\n",
    "non-split [single epoch = 196 iter] : milestones = [164, 246]\n",
    "- 1 ~ 164 epochs == 1 ~ 32k iter >> lr = 0.1\n",
    "- 165~246 epochs == 32k ~ 48k iter >> lr = 0.01\n",
    "- 247~328(?) epochs == 48k ~ 64k iter >> lr = 0.001\n",
    "=======================================================\n",
    "split to 45k/5k [single epoch = 176 iter]: milestones = [182, 273]\n",
    "- 1~182 epochs == 1 ~ 32k iter >> lr = 0.1\n",
    "- 182~273 epochs == 32k ~ 48k iter >> lr = 0.01\n",
    "- 273~364(?) epochs == 48k ~ 64k iter >> lr = 0.001\n",
    "=======================================================\n",
    "if batch = 128\n",
    "=======================================================\n",
    "non-split [signle epoch = 391 iter]: milestones = [82, 123]\n",
    "- 1 ~ 82 epochs == 1 ~ 32k iter >> lr = 0.1\n",
    "- 83~123 epochs == 32k ~ 48k iter >> lr = 0.01\n",
    "- 124~(164) epochs == 48k ~ 64k iter >> lr = 0.001\n",
    "=======================================================\n",
    "split to 45k/5k [signle epoch = 352 iter]: milestones = [91, 137]\n",
    "- 1~91 epochs == 1 ~ 32k iter >> lr = 0.1\n",
    "- 92~137 epochs == 32k ~ 48k iter >> lr = 0.01\n",
    "- 138~(183) epochs == 48k ~ 64k iter >> lr = 0.001\n",
    "=======================================================\n",
    "\"\"\""
   ]
  },
  {
   "cell_type": "markdown",
   "metadata": {},
   "source": [
    "## (5) Define AMP scaler"
   ]
  },
  {
   "cell_type": "code",
   "execution_count": 15,
   "metadata": {},
   "outputs": [],
   "source": [
    "scaler = torch.cuda.amp.GradScaler(enabled=True)"
   ]
  },
  {
   "cell_type": "markdown",
   "metadata": {},
   "source": [
    "## Load before process"
   ]
  },
  {
   "cell_type": "code",
   "execution_count": 16,
   "metadata": {},
   "outputs": [
    {
     "name": "stdout",
     "output_type": "stream",
     "text": [
      "File does not exist. Created a new log.\n"
     ]
    }
   ],
   "source": [
    "scaler = torch.cuda.amp.GradScaler(enabled=True)\n",
    "\n",
    "if LOAD_BEFORE_TRAINING == True and os.path.exists(\"logs/\" + file_path + \".pth.tar\"):\n",
    "    # Read checkpoint as desired, e.g.,\n",
    "    checkpoint = torch.load(\n",
    "        \"logs/\" + file_path + \".pth.tar\",\n",
    "        map_location=lambda storage, loc: storage.cuda(device),\n",
    "    )\n",
    "    model.load_state_dict(checkpoint[\"model\"])\n",
    "    optimizer.load_state_dict(checkpoint[\"optimizer\"])\n",
    "    scaler.load_state_dict(checkpoint[\"scaler\"])\n",
    "    scheduler.load_state_dict(checkpoint[\"scheduler\"])\n",
    "    earlystopper.load_state_dict(checkpoint[\"earlystopper\"])\n",
    "    logs = checkpoint[\"logs\"]\n",
    "\n",
    "    print(\"Suceessfully loaded the All setting and Log file.\")\n",
    "    print(file_path)\n",
    "    print(f\"Current epoch is {len(logs['train_loss'])}\")\n",
    "    print(f\"Current learning rate: {optimizer.param_groups[0]['lr']}\")\n",
    "else:\n",
    "    # Create a dictionary to store the variables\n",
    "    train_loss = []\n",
    "    train_acc = []\n",
    "    eval_loss = []\n",
    "    valid_acc = []\n",
    "    test_loss = []\n",
    "    test_acc = []\n",
    "    lr_log = []\n",
    "    logs = {\n",
    "        \"train_loss\": train_loss,\n",
    "        \"train_acc\": train_acc,\n",
    "        \"valid_loss\": eval_loss,\n",
    "        \"valid_acc\": valid_acc,\n",
    "        \"test_loss\": test_loss,\n",
    "        \"test_acc\": test_acc,\n",
    "        \"lr_log\": lr_log,\n",
    "    }\n",
    "    print(\"File does not exist. Created a new log.\")"
   ]
  },
  {
   "cell_type": "code",
   "execution_count": 17,
   "metadata": {},
   "outputs": [
    {
     "data": {
      "text/plain": [
       "0.1"
      ]
     },
     "execution_count": 17,
     "metadata": {},
     "output_type": "execute_result"
    }
   ],
   "source": [
    "optimizer.param_groups[0][\"lr\"]"
   ]
  },
  {
   "cell_type": "markdown",
   "metadata": {},
   "source": [
    "# [Training Loop]"
   ]
  },
  {
   "cell_type": "code",
   "execution_count": 18,
   "metadata": {},
   "outputs": [],
   "source": [
    "if valid_data is None:\n",
    "    valid_dataloader = None\n",
    "if test_data is None:\n",
    "    test_dataloader = None"
   ]
  },
  {
   "cell_type": "code",
   "execution_count": 19,
   "metadata": {},
   "outputs": [
    {
     "name": "stdout",
     "output_type": "stream",
     "text": [
      "[Epoch 1/500] :\n"
     ]
    },
    {
     "name": "stderr",
     "output_type": "stream",
     "text": [
      "100%|██████████| 391/391 [00:09<00:00, 41.78it/s]\n"
     ]
    },
    {
     "name": "stdout",
     "output_type": "stream",
     "text": [
      "Train Loss: 0.0058 | Train Acc: 10.00%\n",
      "Test  Loss: 2.3102 | Test Acc: 9.99%\n",
      "updated best eval loss : 2.310234416889239\n",
      "--------------------------------------------------\n",
      "[Epoch 2/500] :\n"
     ]
    },
    {
     "name": "stderr",
     "output_type": "stream",
     "text": [
      "100%|██████████| 391/391 [00:08<00:00, 44.39it/s]\n"
     ]
    },
    {
     "name": "stdout",
     "output_type": "stream",
     "text": [
      "Train Loss: 0.0049 | Train Acc: 23.75%\n",
      "Test  Loss: 2.0019 | Test Acc: 24.86%\n",
      "updated best eval loss : 2.0019291171544715\n",
      "--------------------------------------------------\n",
      "[Epoch 3/500] :\n"
     ]
    },
    {
     "name": "stderr",
     "output_type": "stream",
     "text": [
      "100%|██████████| 391/391 [00:08<00:00, 44.27it/s]\n"
     ]
    },
    {
     "name": "stdout",
     "output_type": "stream",
     "text": [
      "Train Loss: 0.0046 | Train Acc: 36.25%\n",
      "Test  Loss: 1.7031 | Test Acc: 35.90%\n",
      "updated best eval loss : 1.7031481673445883\n",
      "--------------------------------------------------\n",
      "[Epoch 4/500] :\n"
     ]
    },
    {
     "name": "stderr",
     "output_type": "stream",
     "text": [
      "100%|██████████| 391/391 [00:07<00:00, 48.91it/s]\n"
     ]
    },
    {
     "name": "stdout",
     "output_type": "stream",
     "text": [
      "Train Loss: 0.0044 | Train Acc: 41.25%\n",
      "Test  Loss: 1.5687 | Test Acc: 41.62%\n",
      "updated best eval loss : 1.5687306108354013\n",
      "--------------------------------------------------\n",
      "[Epoch 5/500] :\n"
     ]
    },
    {
     "name": "stderr",
     "output_type": "stream",
     "text": [
      "100%|██████████| 391/391 [00:08<00:00, 45.04it/s]\n"
     ]
    },
    {
     "name": "stdout",
     "output_type": "stream",
     "text": [
      "Train Loss: 0.0034 | Train Acc: 52.50%\n",
      "Test  Loss: 1.1233 | Test Acc: 60.63%\n",
      "updated best eval loss : 1.1233303712893137\n",
      "--------------------------------------------------\n",
      "[Epoch 6/500] :\n"
     ]
    },
    {
     "name": "stderr",
     "output_type": "stream",
     "text": [
      "100%|██████████| 391/391 [00:08<00:00, 45.15it/s]\n"
     ]
    },
    {
     "name": "stdout",
     "output_type": "stream",
     "text": [
      "Train Loss: 0.0028 | Train Acc: 61.25%\n",
      "Test  Loss: 0.9828 | Test Acc: 64.89%\n",
      "updated best eval loss : 0.9828344394889059\n",
      "--------------------------------------------------\n",
      "[Epoch 7/500] :\n"
     ]
    },
    {
     "name": "stderr",
     "output_type": "stream",
     "text": [
      "100%|██████████| 391/391 [00:08<00:00, 44.20it/s]\n"
     ]
    },
    {
     "name": "stdout",
     "output_type": "stream",
     "text": [
      "Train Loss: 0.0035 | Train Acc: 50.00%\n",
      "Test  Loss: 0.9545 | Test Acc: 66.85%\n",
      "updated best eval loss : 0.954494357863559\n",
      "--------------------------------------------------\n",
      "[Epoch 8/500] :\n"
     ]
    },
    {
     "name": "stderr",
     "output_type": "stream",
     "text": [
      "100%|██████████| 391/391 [00:09<00:00, 41.85it/s]\n"
     ]
    },
    {
     "name": "stdout",
     "output_type": "stream",
     "text": [
      "Train Loss: 0.0029 | Train Acc: 55.00%\n",
      "Test  Loss: 0.8997 | Test Acc: 68.35%\n",
      "updated best eval loss : 0.8997098969507821\n",
      "--------------------------------------------------\n",
      "[Epoch 9/500] :\n"
     ]
    },
    {
     "name": "stderr",
     "output_type": "stream",
     "text": [
      "100%|██████████| 391/391 [00:08<00:00, 46.45it/s]\n"
     ]
    },
    {
     "name": "stdout",
     "output_type": "stream",
     "text": [
      "Train Loss: 0.0022 | Train Acc: 63.75%\n",
      "Test  Loss: 0.8575 | Test Acc: 71.38%\n",
      "updated best eval loss : 0.8574842622008505\n",
      "--------------------------------------------------\n",
      "[Epoch 10/500] :\n"
     ]
    },
    {
     "name": "stderr",
     "output_type": "stream",
     "text": [
      "100%|██████████| 391/391 [00:08<00:00, 44.47it/s]\n"
     ]
    },
    {
     "name": "stdout",
     "output_type": "stream",
     "text": [
      "Train Loss: 0.0024 | Train Acc: 67.50%\n",
      "Test  Loss: 0.8224 | Test Acc: 72.24%\n",
      "updated best eval loss : 0.8224374761309805\n",
      "--------------------------------------------------\n",
      "[Epoch 11/500] :\n"
     ]
    },
    {
     "name": "stderr",
     "output_type": "stream",
     "text": [
      "100%|██████████| 391/391 [00:08<00:00, 44.62it/s]\n"
     ]
    },
    {
     "name": "stdout",
     "output_type": "stream",
     "text": [
      "Train Loss: 0.0029 | Train Acc: 67.50%\n",
      "Test  Loss: 0.7347 | Test Acc: 74.72%\n",
      "updated best eval loss : 0.7347478172447108\n",
      "--------------------------------------------------\n",
      "[Epoch 12/500] :\n"
     ]
    },
    {
     "name": "stderr",
     "output_type": "stream",
     "text": [
      "100%|██████████| 391/391 [00:08<00:00, 47.90it/s]\n"
     ]
    },
    {
     "name": "stdout",
     "output_type": "stream",
     "text": [
      "Train Loss: 0.0025 | Train Acc: 65.00%\n",
      "Test  Loss: 0.6586 | Test Acc: 77.25%\n",
      "updated best eval loss : 0.6586350342140922\n",
      "--------------------------------------------------\n",
      "[Epoch 13/500] :\n"
     ]
    },
    {
     "name": "stderr",
     "output_type": "stream",
     "text": [
      "100%|██████████| 391/391 [00:09<00:00, 42.52it/s]\n"
     ]
    },
    {
     "name": "stdout",
     "output_type": "stream",
     "text": [
      "Train Loss: 0.0020 | Train Acc: 73.75%\n",
      "Test  Loss: 0.7014 | Test Acc: 76.56%\n",
      "--------------------------------------------------\n",
      "[Epoch 14/500] :\n"
     ]
    },
    {
     "name": "stderr",
     "output_type": "stream",
     "text": [
      "100%|██████████| 391/391 [00:09<00:00, 41.94it/s]\n"
     ]
    },
    {
     "name": "stdout",
     "output_type": "stream",
     "text": [
      "Train Loss: 0.0024 | Train Acc: 66.25%\n",
      "Test  Loss: 0.6883 | Test Acc: 77.12%\n",
      "--------------------------------------------------\n",
      "[Epoch 15/500] :\n"
     ]
    },
    {
     "name": "stderr",
     "output_type": "stream",
     "text": [
      "100%|██████████| 391/391 [00:08<00:00, 45.34it/s]\n"
     ]
    },
    {
     "name": "stdout",
     "output_type": "stream",
     "text": [
      "Train Loss: 0.0024 | Train Acc: 67.50%\n",
      "Test  Loss: 0.8301 | Test Acc: 73.01%\n",
      "--------------------------------------------------\n",
      "[Epoch 16/500] :\n"
     ]
    },
    {
     "name": "stderr",
     "output_type": "stream",
     "text": [
      "100%|██████████| 391/391 [00:08<00:00, 44.33it/s]\n"
     ]
    },
    {
     "name": "stdout",
     "output_type": "stream",
     "text": [
      "Train Loss: 0.0020 | Train Acc: 73.75%\n",
      "Test  Loss: 0.7015 | Test Acc: 76.14%\n",
      "--------------------------------------------------\n",
      "[Epoch 17/500] :\n"
     ]
    },
    {
     "name": "stderr",
     "output_type": "stream",
     "text": [
      "100%|██████████| 391/391 [00:08<00:00, 46.40it/s]\n"
     ]
    },
    {
     "name": "stdout",
     "output_type": "stream",
     "text": [
      "Train Loss: 0.0022 | Train Acc: 75.00%\n",
      "Test  Loss: 0.7624 | Test Acc: 74.71%\n",
      "--------------------------------------------------\n",
      "[Epoch 18/500] :\n"
     ]
    },
    {
     "name": "stderr",
     "output_type": "stream",
     "text": [
      "100%|██████████| 391/391 [00:08<00:00, 47.03it/s]\n"
     ]
    },
    {
     "name": "stdout",
     "output_type": "stream",
     "text": [
      "Train Loss: 0.0019 | Train Acc: 71.25%\n",
      "Test  Loss: 0.7845 | Test Acc: 74.76%\n",
      "--------------------------------------------------\n",
      "[Epoch 19/500] :\n"
     ]
    },
    {
     "name": "stderr",
     "output_type": "stream",
     "text": [
      "100%|██████████| 391/391 [00:08<00:00, 46.90it/s]\n"
     ]
    },
    {
     "name": "stdout",
     "output_type": "stream",
     "text": [
      "Train Loss: 0.0020 | Train Acc: 62.50%\n",
      "Test  Loss: 0.5831 | Test Acc: 80.14%\n",
      "updated best eval loss : 0.583062995460969\n",
      "--------------------------------------------------\n",
      "[Epoch 20/500] :\n"
     ]
    },
    {
     "name": "stderr",
     "output_type": "stream",
     "text": [
      "100%|██████████| 391/391 [00:08<00:00, 45.42it/s]\n"
     ]
    },
    {
     "name": "stdout",
     "output_type": "stream",
     "text": [
      "Train Loss: 0.0019 | Train Acc: 77.50%\n",
      "Test  Loss: 0.5774 | Test Acc: 80.56%\n",
      "updated best eval loss : 0.5774414267721055\n",
      "--------------------------------------------------\n",
      "[Epoch 21/500] :\n"
     ]
    },
    {
     "name": "stderr",
     "output_type": "stream",
     "text": [
      "100%|██████████| 391/391 [00:08<00:00, 46.22it/s]\n"
     ]
    },
    {
     "name": "stdout",
     "output_type": "stream",
     "text": [
      "Train Loss: 0.0024 | Train Acc: 65.00%\n",
      "Test  Loss: 0.7178 | Test Acc: 75.92%\n",
      "--------------------------------------------------\n",
      "[Epoch 22/500] :\n"
     ]
    },
    {
     "name": "stderr",
     "output_type": "stream",
     "text": [
      "100%|██████████| 391/391 [00:08<00:00, 44.08it/s]\n"
     ]
    },
    {
     "name": "stdout",
     "output_type": "stream",
     "text": [
      "Train Loss: 0.0024 | Train Acc: 67.50%\n",
      "Test  Loss: 0.6869 | Test Acc: 77.44%\n",
      "--------------------------------------------------\n",
      "[Epoch 23/500] :\n"
     ]
    },
    {
     "name": "stderr",
     "output_type": "stream",
     "text": [
      "100%|██████████| 391/391 [00:09<00:00, 42.61it/s]\n"
     ]
    },
    {
     "name": "stdout",
     "output_type": "stream",
     "text": [
      "Train Loss: 0.0020 | Train Acc: 68.75%\n",
      "Test  Loss: 0.5295 | Test Acc: 81.97%\n",
      "updated best eval loss : 0.5294779799407041\n",
      "--------------------------------------------------\n",
      "[Epoch 24/500] :\n"
     ]
    },
    {
     "name": "stderr",
     "output_type": "stream",
     "text": [
      "100%|██████████| 391/391 [00:08<00:00, 46.02it/s]\n"
     ]
    },
    {
     "name": "stdout",
     "output_type": "stream",
     "text": [
      "Train Loss: 0.0017 | Train Acc: 76.25%\n",
      "Test  Loss: 0.5257 | Test Acc: 82.13%\n",
      "updated best eval loss : 0.5256931857217716\n",
      "--------------------------------------------------\n",
      "[Epoch 25/500] :\n"
     ]
    },
    {
     "name": "stderr",
     "output_type": "stream",
     "text": [
      "100%|██████████| 391/391 [00:09<00:00, 43.14it/s]\n"
     ]
    },
    {
     "name": "stdout",
     "output_type": "stream",
     "text": [
      "Train Loss: 0.0020 | Train Acc: 68.75%\n",
      "Test  Loss: 0.6300 | Test Acc: 79.24%\n",
      "--------------------------------------------------\n",
      "[Epoch 26/500] :\n"
     ]
    },
    {
     "name": "stderr",
     "output_type": "stream",
     "text": [
      "100%|██████████| 391/391 [00:08<00:00, 43.82it/s]\n"
     ]
    },
    {
     "name": "stdout",
     "output_type": "stream",
     "text": [
      "Train Loss: 0.0017 | Train Acc: 77.50%\n",
      "Test  Loss: 0.5245 | Test Acc: 82.24%\n",
      "updated best eval loss : 0.5244665028928202\n",
      "--------------------------------------------------\n",
      "[Epoch 27/500] :\n"
     ]
    },
    {
     "name": "stderr",
     "output_type": "stream",
     "text": [
      "100%|██████████| 391/391 [00:08<00:00, 46.09it/s]\n"
     ]
    },
    {
     "name": "stdout",
     "output_type": "stream",
     "text": [
      "Train Loss: 0.0016 | Train Acc: 77.50%\n",
      "Test  Loss: 0.5234 | Test Acc: 81.92%\n",
      "updated best eval loss : 0.5233993371830711\n",
      "--------------------------------------------------\n",
      "[Epoch 28/500] :\n"
     ]
    },
    {
     "name": "stderr",
     "output_type": "stream",
     "text": [
      "100%|██████████| 391/391 [00:09<00:00, 42.05it/s]\n"
     ]
    },
    {
     "name": "stdout",
     "output_type": "stream",
     "text": [
      "Train Loss: 0.0017 | Train Acc: 76.25%\n",
      "Test  Loss: 0.5081 | Test Acc: 82.85%\n",
      "updated best eval loss : 0.5080715895076341\n",
      "--------------------------------------------------\n",
      "[Epoch 29/500] :\n"
     ]
    },
    {
     "name": "stderr",
     "output_type": "stream",
     "text": [
      "100%|██████████| 391/391 [00:08<00:00, 45.21it/s]\n"
     ]
    },
    {
     "name": "stdout",
     "output_type": "stream",
     "text": [
      "Train Loss: 0.0015 | Train Acc: 81.25%\n",
      "Test  Loss: 0.5817 | Test Acc: 80.67%\n",
      "--------------------------------------------------\n",
      "[Epoch 30/500] :\n"
     ]
    },
    {
     "name": "stderr",
     "output_type": "stream",
     "text": [
      "100%|██████████| 391/391 [00:09<00:00, 43.44it/s]\n"
     ]
    },
    {
     "name": "stdout",
     "output_type": "stream",
     "text": [
      "Train Loss: 0.0019 | Train Acc: 71.25%\n",
      "Test  Loss: 0.5550 | Test Acc: 81.51%\n",
      "--------------------------------------------------\n",
      "[Epoch 31/500] :\n"
     ]
    },
    {
     "name": "stderr",
     "output_type": "stream",
     "text": [
      "100%|██████████| 391/391 [00:08<00:00, 45.41it/s]\n"
     ]
    },
    {
     "name": "stdout",
     "output_type": "stream",
     "text": [
      "Train Loss: 0.0019 | Train Acc: 80.00%\n",
      "Test  Loss: 0.5056 | Test Acc: 82.38%\n",
      "updated best eval loss : 0.505643505272986\n",
      "--------------------------------------------------\n",
      "[Epoch 32/500] :\n"
     ]
    },
    {
     "name": "stderr",
     "output_type": "stream",
     "text": [
      "100%|██████████| 391/391 [00:09<00:00, 43.22it/s]\n"
     ]
    },
    {
     "name": "stdout",
     "output_type": "stream",
     "text": [
      "Train Loss: 0.0016 | Train Acc: 81.25%\n",
      "Test  Loss: 0.5520 | Test Acc: 81.67%\n",
      "--------------------------------------------------\n",
      "[Epoch 33/500] :\n"
     ]
    },
    {
     "name": "stderr",
     "output_type": "stream",
     "text": [
      "100%|██████████| 391/391 [00:09<00:00, 43.00it/s]\n"
     ]
    },
    {
     "name": "stdout",
     "output_type": "stream",
     "text": [
      "Train Loss: 0.0012 | Train Acc: 88.75%\n",
      "Test  Loss: 0.5210 | Test Acc: 81.77%\n",
      "--------------------------------------------------\n",
      "[Epoch 34/500] :\n"
     ]
    },
    {
     "name": "stderr",
     "output_type": "stream",
     "text": [
      "100%|██████████| 391/391 [00:09<00:00, 42.07it/s]\n"
     ]
    },
    {
     "name": "stdout",
     "output_type": "stream",
     "text": [
      "Train Loss: 0.0024 | Train Acc: 68.75%\n",
      "Test  Loss: 0.5093 | Test Acc: 83.05%\n",
      "--------------------------------------------------\n",
      "[Epoch 35/500] :\n"
     ]
    },
    {
     "name": "stderr",
     "output_type": "stream",
     "text": [
      "100%|██████████| 391/391 [00:08<00:00, 47.11it/s]\n"
     ]
    },
    {
     "name": "stdout",
     "output_type": "stream",
     "text": [
      "Train Loss: 0.0019 | Train Acc: 71.25%\n",
      "Test  Loss: 0.4928 | Test Acc: 83.28%\n",
      "updated best eval loss : 0.4928245706648766\n",
      "--------------------------------------------------\n",
      "[Epoch 36/500] :\n"
     ]
    },
    {
     "name": "stderr",
     "output_type": "stream",
     "text": [
      "100%|██████████| 391/391 [00:09<00:00, 43.35it/s]\n"
     ]
    },
    {
     "name": "stdout",
     "output_type": "stream",
     "text": [
      "Train Loss: 0.0023 | Train Acc: 73.75%\n",
      "Test  Loss: 0.4814 | Test Acc: 83.41%\n",
      "updated best eval loss : 0.4814067558397221\n",
      "--------------------------------------------------\n",
      "[Epoch 37/500] :\n"
     ]
    },
    {
     "name": "stderr",
     "output_type": "stream",
     "text": [
      "100%|██████████| 391/391 [00:09<00:00, 42.06it/s]\n"
     ]
    },
    {
     "name": "stdout",
     "output_type": "stream",
     "text": [
      "Train Loss: 0.0015 | Train Acc: 82.50%\n",
      "Test  Loss: 0.5204 | Test Acc: 81.89%\n",
      "--------------------------------------------------\n",
      "[Epoch 38/500] :\n"
     ]
    },
    {
     "name": "stderr",
     "output_type": "stream",
     "text": [
      "100%|██████████| 391/391 [00:08<00:00, 46.83it/s]\n"
     ]
    },
    {
     "name": "stdout",
     "output_type": "stream",
     "text": [
      "Train Loss: 0.0016 | Train Acc: 77.50%\n",
      "Test  Loss: 0.5367 | Test Acc: 82.26%\n",
      "--------------------------------------------------\n",
      "[Epoch 39/500] :\n"
     ]
    },
    {
     "name": "stderr",
     "output_type": "stream",
     "text": [
      "100%|██████████| 391/391 [00:08<00:00, 44.38it/s]\n"
     ]
    },
    {
     "name": "stdout",
     "output_type": "stream",
     "text": [
      "Train Loss: 0.0017 | Train Acc: 76.25%\n",
      "Test  Loss: 0.5506 | Test Acc: 81.61%\n",
      "--------------------------------------------------\n",
      "[Epoch 40/500] :\n"
     ]
    },
    {
     "name": "stderr",
     "output_type": "stream",
     "text": [
      "100%|██████████| 391/391 [00:08<00:00, 43.85it/s]\n"
     ]
    },
    {
     "name": "stdout",
     "output_type": "stream",
     "text": [
      "Train Loss: 0.0018 | Train Acc: 72.50%\n",
      "Test  Loss: 0.5830 | Test Acc: 80.70%\n",
      "--------------------------------------------------\n",
      "[Epoch 41/500] :\n"
     ]
    },
    {
     "name": "stderr",
     "output_type": "stream",
     "text": [
      "100%|██████████| 391/391 [00:08<00:00, 47.36it/s]\n"
     ]
    },
    {
     "name": "stdout",
     "output_type": "stream",
     "text": [
      "Train Loss: 0.0012 | Train Acc: 83.75%\n",
      "Test  Loss: 0.5134 | Test Acc: 82.34%\n",
      "--------------------------------------------------\n",
      "[Epoch 42/500] :\n"
     ]
    },
    {
     "name": "stderr",
     "output_type": "stream",
     "text": [
      "100%|██████████| 391/391 [00:08<00:00, 45.58it/s]\n"
     ]
    },
    {
     "name": "stdout",
     "output_type": "stream",
     "text": [
      "Train Loss: 0.0016 | Train Acc: 77.50%\n",
      "Test  Loss: 0.5052 | Test Acc: 82.95%\n",
      "--------------------------------------------------\n",
      "[Epoch 43/500] :\n"
     ]
    },
    {
     "name": "stderr",
     "output_type": "stream",
     "text": [
      "100%|██████████| 391/391 [00:09<00:00, 41.84it/s]\n"
     ]
    },
    {
     "name": "stdout",
     "output_type": "stream",
     "text": [
      "Train Loss: 0.0021 | Train Acc: 73.75%\n",
      "Test  Loss: 0.4600 | Test Acc: 84.23%\n",
      "updated best eval loss : 0.45998400638375103\n",
      "--------------------------------------------------\n",
      "[Epoch 44/500] :\n"
     ]
    },
    {
     "name": "stderr",
     "output_type": "stream",
     "text": [
      "100%|██████████| 391/391 [00:08<00:00, 44.75it/s]\n"
     ]
    },
    {
     "name": "stdout",
     "output_type": "stream",
     "text": [
      "Train Loss: 0.0015 | Train Acc: 77.50%\n",
      "Test  Loss: 0.4470 | Test Acc: 85.29%\n",
      "updated best eval loss : 0.44696097509770455\n",
      "--------------------------------------------------\n",
      "[Epoch 45/500] :\n"
     ]
    },
    {
     "name": "stderr",
     "output_type": "stream",
     "text": [
      "100%|██████████| 391/391 [00:09<00:00, 43.02it/s]\n"
     ]
    },
    {
     "name": "stdout",
     "output_type": "stream",
     "text": [
      "Train Loss: 0.0014 | Train Acc: 81.25%\n",
      "Test  Loss: 0.4760 | Test Acc: 83.80%\n",
      "--------------------------------------------------\n",
      "[Epoch 46/500] :\n"
     ]
    },
    {
     "name": "stderr",
     "output_type": "stream",
     "text": [
      "100%|██████████| 391/391 [00:08<00:00, 45.51it/s]\n"
     ]
    },
    {
     "name": "stdout",
     "output_type": "stream",
     "text": [
      "Train Loss: 0.0015 | Train Acc: 85.00%\n",
      "Test  Loss: 0.5521 | Test Acc: 82.05%\n",
      "--------------------------------------------------\n",
      "[Epoch 47/500] :\n"
     ]
    },
    {
     "name": "stderr",
     "output_type": "stream",
     "text": [
      "100%|██████████| 391/391 [00:08<00:00, 44.15it/s]\n"
     ]
    },
    {
     "name": "stdout",
     "output_type": "stream",
     "text": [
      "Train Loss: 0.0015 | Train Acc: 78.75%\n",
      "Test  Loss: 0.4410 | Test Acc: 84.55%\n",
      "updated best eval loss : 0.44097654691225363\n",
      "--------------------------------------------------\n",
      "[Epoch 48/500] :\n"
     ]
    },
    {
     "name": "stderr",
     "output_type": "stream",
     "text": [
      "100%|██████████| 391/391 [00:08<00:00, 43.61it/s]\n"
     ]
    },
    {
     "name": "stdout",
     "output_type": "stream",
     "text": [
      "Train Loss: 0.0014 | Train Acc: 78.75%\n",
      "Test  Loss: 0.4452 | Test Acc: 84.98%\n",
      "--------------------------------------------------\n",
      "[Epoch 49/500] :\n"
     ]
    },
    {
     "name": "stderr",
     "output_type": "stream",
     "text": [
      "100%|██████████| 391/391 [00:08<00:00, 46.03it/s]\n"
     ]
    },
    {
     "name": "stdout",
     "output_type": "stream",
     "text": [
      "Train Loss: 0.0018 | Train Acc: 70.00%\n",
      "Test  Loss: 0.6912 | Test Acc: 76.99%\n",
      "--------------------------------------------------\n",
      "[Epoch 50/500] :\n"
     ]
    },
    {
     "name": "stderr",
     "output_type": "stream",
     "text": [
      "100%|██████████| 391/391 [00:08<00:00, 45.56it/s]\n"
     ]
    },
    {
     "name": "stdout",
     "output_type": "stream",
     "text": [
      "Train Loss: 0.0012 | Train Acc: 82.50%\n",
      "Test  Loss: 0.4246 | Test Acc: 85.58%\n",
      "updated best eval loss : 0.42461271659482885\n",
      "--------------------------------------------------\n",
      "[Epoch 51/500] :\n"
     ]
    },
    {
     "name": "stderr",
     "output_type": "stream",
     "text": [
      "100%|██████████| 391/391 [00:08<00:00, 43.99it/s]\n"
     ]
    },
    {
     "name": "stdout",
     "output_type": "stream",
     "text": [
      "Train Loss: 0.0013 | Train Acc: 83.75%\n",
      "Test  Loss: 0.5325 | Test Acc: 82.55%\n",
      "--------------------------------------------------\n",
      "[Epoch 52/500] :\n"
     ]
    },
    {
     "name": "stderr",
     "output_type": "stream",
     "text": [
      "100%|██████████| 391/391 [00:08<00:00, 47.45it/s]\n"
     ]
    },
    {
     "name": "stdout",
     "output_type": "stream",
     "text": [
      "Train Loss: 0.0016 | Train Acc: 77.50%\n",
      "Test  Loss: 0.4369 | Test Acc: 84.76%\n",
      "--------------------------------------------------\n",
      "[Epoch 53/500] :\n"
     ]
    },
    {
     "name": "stderr",
     "output_type": "stream",
     "text": [
      "100%|██████████| 391/391 [00:08<00:00, 46.95it/s]\n"
     ]
    },
    {
     "name": "stdout",
     "output_type": "stream",
     "text": [
      "Train Loss: 0.0017 | Train Acc: 73.75%\n",
      "Test  Loss: 0.4933 | Test Acc: 83.71%\n",
      "--------------------------------------------------\n",
      "[Epoch 54/500] :\n"
     ]
    },
    {
     "name": "stderr",
     "output_type": "stream",
     "text": [
      "100%|██████████| 391/391 [00:08<00:00, 45.19it/s]\n"
     ]
    },
    {
     "name": "stdout",
     "output_type": "stream",
     "text": [
      "Train Loss: 0.0014 | Train Acc: 78.75%\n",
      "Test  Loss: 0.4668 | Test Acc: 84.46%\n",
      "--------------------------------------------------\n",
      "[Epoch 55/500] :\n"
     ]
    },
    {
     "name": "stderr",
     "output_type": "stream",
     "text": [
      "100%|██████████| 391/391 [00:08<00:00, 44.84it/s]\n"
     ]
    },
    {
     "name": "stdout",
     "output_type": "stream",
     "text": [
      "Train Loss: 0.0020 | Train Acc: 71.25%\n",
      "Test  Loss: 0.4006 | Test Acc: 86.92%\n",
      "updated best eval loss : 0.400641774263563\n",
      "--------------------------------------------------\n",
      "[Epoch 56/500] :\n"
     ]
    },
    {
     "name": "stderr",
     "output_type": "stream",
     "text": [
      "100%|██████████| 391/391 [00:08<00:00, 43.83it/s]\n"
     ]
    },
    {
     "name": "stdout",
     "output_type": "stream",
     "text": [
      "Train Loss: 0.0013 | Train Acc: 81.25%\n",
      "Test  Loss: 0.4549 | Test Acc: 84.88%\n",
      "--------------------------------------------------\n",
      "[Epoch 57/500] :\n"
     ]
    },
    {
     "name": "stderr",
     "output_type": "stream",
     "text": [
      "100%|██████████| 391/391 [00:09<00:00, 42.39it/s]\n"
     ]
    },
    {
     "name": "stdout",
     "output_type": "stream",
     "text": [
      "Train Loss: 0.0018 | Train Acc: 75.00%\n",
      "Test  Loss: 0.5207 | Test Acc: 82.52%\n",
      "--------------------------------------------------\n",
      "[Epoch 58/500] :\n"
     ]
    },
    {
     "name": "stderr",
     "output_type": "stream",
     "text": [
      "100%|██████████| 391/391 [00:08<00:00, 46.36it/s]\n"
     ]
    },
    {
     "name": "stdout",
     "output_type": "stream",
     "text": [
      "Train Loss: 0.0017 | Train Acc: 77.50%\n",
      "Test  Loss: 0.4256 | Test Acc: 85.61%\n",
      "--------------------------------------------------\n",
      "[Epoch 59/500] :\n"
     ]
    },
    {
     "name": "stderr",
     "output_type": "stream",
     "text": [
      "100%|██████████| 391/391 [00:09<00:00, 43.05it/s]\n"
     ]
    },
    {
     "name": "stdout",
     "output_type": "stream",
     "text": [
      "Train Loss: 0.0018 | Train Acc: 75.00%\n",
      "Test  Loss: 0.4544 | Test Acc: 84.40%\n",
      "--------------------------------------------------\n",
      "[Epoch 60/500] :\n"
     ]
    },
    {
     "name": "stderr",
     "output_type": "stream",
     "text": [
      "100%|██████████| 391/391 [00:08<00:00, 43.76it/s]\n"
     ]
    },
    {
     "name": "stdout",
     "output_type": "stream",
     "text": [
      "Train Loss: 0.0020 | Train Acc: 73.75%\n",
      "Test  Loss: 0.4343 | Test Acc: 85.17%\n",
      "--------------------------------------------------\n",
      "[Epoch 61/500] :\n"
     ]
    },
    {
     "name": "stderr",
     "output_type": "stream",
     "text": [
      "100%|██████████| 391/391 [00:08<00:00, 46.23it/s]\n"
     ]
    },
    {
     "name": "stdout",
     "output_type": "stream",
     "text": [
      "Train Loss: 0.0015 | Train Acc: 76.25%\n",
      "Test  Loss: 0.5360 | Test Acc: 82.08%\n",
      "--------------------------------------------------\n",
      "[Epoch 62/500] :\n"
     ]
    },
    {
     "name": "stderr",
     "output_type": "stream",
     "text": [
      "100%|██████████| 391/391 [00:09<00:00, 42.12it/s]\n"
     ]
    },
    {
     "name": "stdout",
     "output_type": "stream",
     "text": [
      "Train Loss: 0.0012 | Train Acc: 88.75%\n",
      "Test  Loss: 0.4348 | Test Acc: 85.20%\n",
      "--------------------------------------------------\n",
      "[Epoch 63/500] :\n"
     ]
    },
    {
     "name": "stderr",
     "output_type": "stream",
     "text": [
      "100%|██████████| 391/391 [00:08<00:00, 45.29it/s]\n"
     ]
    },
    {
     "name": "stdout",
     "output_type": "stream",
     "text": [
      "Train Loss: 0.0015 | Train Acc: 82.50%\n",
      "Test  Loss: 0.4742 | Test Acc: 83.97%\n",
      "--------------------------------------------------\n",
      "[Epoch 64/500] :\n"
     ]
    },
    {
     "name": "stderr",
     "output_type": "stream",
     "text": [
      "100%|██████████| 391/391 [00:08<00:00, 45.45it/s]\n"
     ]
    },
    {
     "name": "stdout",
     "output_type": "stream",
     "text": [
      "Train Loss: 0.0011 | Train Acc: 86.25%\n",
      "Test  Loss: 0.4173 | Test Acc: 85.52%\n",
      "--------------------------------------------------\n",
      "[Epoch 65/500] :\n"
     ]
    },
    {
     "name": "stderr",
     "output_type": "stream",
     "text": [
      "100%|██████████| 391/391 [00:08<00:00, 44.87it/s]\n"
     ]
    },
    {
     "name": "stdout",
     "output_type": "stream",
     "text": [
      "Train Loss: 0.0015 | Train Acc: 81.25%\n",
      "Test  Loss: 0.3936 | Test Acc: 86.60%\n",
      "updated best eval loss : 0.3935695897929276\n",
      "--------------------------------------------------\n",
      "[Epoch 66/500] :\n"
     ]
    },
    {
     "name": "stderr",
     "output_type": "stream",
     "text": [
      "100%|██████████| 391/391 [00:08<00:00, 46.69it/s]\n"
     ]
    },
    {
     "name": "stdout",
     "output_type": "stream",
     "text": [
      "Train Loss: 0.0013 | Train Acc: 80.00%\n",
      "Test  Loss: 0.4091 | Test Acc: 85.99%\n",
      "--------------------------------------------------\n",
      "[Epoch 67/500] :\n"
     ]
    },
    {
     "name": "stderr",
     "output_type": "stream",
     "text": [
      "100%|██████████| 391/391 [00:07<00:00, 50.19it/s]\n"
     ]
    },
    {
     "name": "stdout",
     "output_type": "stream",
     "text": [
      "Train Loss: 0.0016 | Train Acc: 71.25%\n",
      "Test  Loss: 0.4638 | Test Acc: 84.06%\n",
      "--------------------------------------------------\n",
      "[Epoch 68/500] :\n"
     ]
    },
    {
     "name": "stderr",
     "output_type": "stream",
     "text": [
      "100%|██████████| 391/391 [00:08<00:00, 44.36it/s]\n"
     ]
    },
    {
     "name": "stdout",
     "output_type": "stream",
     "text": [
      "Train Loss: 0.0016 | Train Acc: 70.00%\n",
      "Test  Loss: 0.4542 | Test Acc: 84.94%\n",
      "--------------------------------------------------\n",
      "[Epoch 69/500] :\n"
     ]
    },
    {
     "name": "stderr",
     "output_type": "stream",
     "text": [
      "100%|██████████| 391/391 [00:09<00:00, 42.21it/s]\n"
     ]
    },
    {
     "name": "stdout",
     "output_type": "stream",
     "text": [
      "Train Loss: 0.0012 | Train Acc: 83.75%\n",
      "Test  Loss: 0.4005 | Test Acc: 85.91%\n",
      "--------------------------------------------------\n",
      "[Epoch 70/500] :\n"
     ]
    },
    {
     "name": "stderr",
     "output_type": "stream",
     "text": [
      "100%|██████████| 391/391 [00:08<00:00, 44.24it/s]\n"
     ]
    },
    {
     "name": "stdout",
     "output_type": "stream",
     "text": [
      "Train Loss: 0.0014 | Train Acc: 81.25%\n",
      "Test  Loss: 0.3839 | Test Acc: 86.85%\n",
      "updated best eval loss : 0.3839126012370556\n",
      "--------------------------------------------------\n",
      "[Epoch 71/500] :\n"
     ]
    },
    {
     "name": "stderr",
     "output_type": "stream",
     "text": [
      "100%|██████████| 391/391 [00:08<00:00, 44.63it/s]\n"
     ]
    },
    {
     "name": "stdout",
     "output_type": "stream",
     "text": [
      "Train Loss: 0.0015 | Train Acc: 76.25%\n",
      "Test  Loss: 0.4197 | Test Acc: 85.31%\n",
      "--------------------------------------------------\n",
      "[Epoch 72/500] :\n"
     ]
    },
    {
     "name": "stderr",
     "output_type": "stream",
     "text": [
      "100%|██████████| 391/391 [00:09<00:00, 41.28it/s]\n"
     ]
    },
    {
     "name": "stdout",
     "output_type": "stream",
     "text": [
      "Train Loss: 0.0017 | Train Acc: 75.00%\n",
      "Test  Loss: 0.3895 | Test Acc: 86.36%\n",
      "--------------------------------------------------\n",
      "[Epoch 73/500] :\n"
     ]
    },
    {
     "name": "stderr",
     "output_type": "stream",
     "text": [
      "100%|██████████| 391/391 [00:08<00:00, 45.77it/s]\n"
     ]
    },
    {
     "name": "stdout",
     "output_type": "stream",
     "text": [
      "Train Loss: 0.0016 | Train Acc: 72.50%\n",
      "Test  Loss: 0.4459 | Test Acc: 85.14%\n",
      "--------------------------------------------------\n",
      "[Epoch 74/500] :\n"
     ]
    },
    {
     "name": "stderr",
     "output_type": "stream",
     "text": [
      "100%|██████████| 391/391 [00:09<00:00, 42.80it/s]\n"
     ]
    },
    {
     "name": "stdout",
     "output_type": "stream",
     "text": [
      "Train Loss: 0.0021 | Train Acc: 72.50%\n",
      "Test  Loss: 0.3675 | Test Acc: 87.41%\n",
      "updated best eval loss : 0.36754974289030967\n",
      "--------------------------------------------------\n",
      "[Epoch 75/500] :\n"
     ]
    },
    {
     "name": "stderr",
     "output_type": "stream",
     "text": [
      "100%|██████████| 391/391 [00:08<00:00, 46.22it/s]\n"
     ]
    },
    {
     "name": "stdout",
     "output_type": "stream",
     "text": [
      "Train Loss: 0.0017 | Train Acc: 75.00%\n",
      "Test  Loss: 0.3936 | Test Acc: 86.79%\n",
      "--------------------------------------------------\n",
      "[Epoch 76/500] :\n"
     ]
    },
    {
     "name": "stderr",
     "output_type": "stream",
     "text": [
      "100%|██████████| 391/391 [00:08<00:00, 46.39it/s]\n"
     ]
    },
    {
     "name": "stdout",
     "output_type": "stream",
     "text": [
      "Train Loss: 0.0017 | Train Acc: 73.75%\n",
      "Test  Loss: 0.4592 | Test Acc: 84.65%\n",
      "--------------------------------------------------\n",
      "[Epoch 77/500] :\n"
     ]
    },
    {
     "name": "stderr",
     "output_type": "stream",
     "text": [
      "100%|██████████| 391/391 [00:08<00:00, 44.67it/s]\n"
     ]
    },
    {
     "name": "stdout",
     "output_type": "stream",
     "text": [
      "Train Loss: 0.0019 | Train Acc: 72.50%\n",
      "Test  Loss: 0.4866 | Test Acc: 83.60%\n",
      "--------------------------------------------------\n",
      "[Epoch 78/500] :\n"
     ]
    },
    {
     "name": "stderr",
     "output_type": "stream",
     "text": [
      "100%|██████████| 391/391 [00:08<00:00, 45.64it/s]\n"
     ]
    },
    {
     "name": "stdout",
     "output_type": "stream",
     "text": [
      "Train Loss: 0.0013 | Train Acc: 86.25%\n",
      "Test  Loss: 0.6239 | Test Acc: 79.77%\n",
      "--------------------------------------------------\n",
      "[Epoch 79/500] :\n"
     ]
    },
    {
     "name": "stderr",
     "output_type": "stream",
     "text": [
      "100%|██████████| 391/391 [00:08<00:00, 43.86it/s]\n"
     ]
    },
    {
     "name": "stdout",
     "output_type": "stream",
     "text": [
      "Train Loss: 0.0013 | Train Acc: 82.50%\n",
      "Test  Loss: 0.4245 | Test Acc: 85.65%\n",
      "--------------------------------------------------\n",
      "[Epoch 80/500] :\n"
     ]
    },
    {
     "name": "stderr",
     "output_type": "stream",
     "text": [
      "100%|██████████| 391/391 [00:09<00:00, 43.31it/s]\n"
     ]
    },
    {
     "name": "stdout",
     "output_type": "stream",
     "text": [
      "Train Loss: 0.0014 | Train Acc: 80.00%\n",
      "Test  Loss: 0.4069 | Test Acc: 86.48%\n",
      "--------------------------------------------------\n",
      "[Epoch 81/500] :\n"
     ]
    },
    {
     "name": "stderr",
     "output_type": "stream",
     "text": [
      "100%|██████████| 391/391 [00:08<00:00, 48.42it/s]\n"
     ]
    },
    {
     "name": "stdout",
     "output_type": "stream",
     "text": [
      "Train Loss: 0.0015 | Train Acc: 81.25%\n",
      "Test  Loss: 0.3748 | Test Acc: 87.36%\n",
      "--------------------------------------------------\n",
      "[Epoch 82/500] :\n"
     ]
    },
    {
     "name": "stderr",
     "output_type": "stream",
     "text": [
      "100%|██████████| 391/391 [00:09<00:00, 43.15it/s]\n"
     ]
    },
    {
     "name": "stdout",
     "output_type": "stream",
     "text": [
      "Train Loss: 0.0014 | Train Acc: 80.00%\n",
      "Test  Loss: 0.4147 | Test Acc: 86.22%\n",
      "Learning Rate has changed : Now is 0.010000000000000002\n",
      "--------------------------------------------------\n",
      "[Epoch 83/500] :\n"
     ]
    },
    {
     "name": "stderr",
     "output_type": "stream",
     "text": [
      "100%|██████████| 391/391 [00:08<00:00, 43.66it/s]\n"
     ]
    },
    {
     "name": "stdout",
     "output_type": "stream",
     "text": [
      "Train Loss: 0.0011 | Train Acc: 88.75%\n",
      "Test  Loss: 0.2831 | Test Acc: 90.30%\n",
      "updated best eval loss : 0.2831169512075714\n",
      "--------------------------------------------------\n",
      "[Epoch 84/500] :\n"
     ]
    },
    {
     "name": "stderr",
     "output_type": "stream",
     "text": [
      "100%|██████████| 391/391 [00:08<00:00, 47.29it/s]\n"
     ]
    },
    {
     "name": "stdout",
     "output_type": "stream",
     "text": [
      "Train Loss: 0.0011 | Train Acc: 85.00%\n",
      "Test  Loss: 0.2701 | Test Acc: 90.56%\n",
      "updated best eval loss : 0.27009957387477534\n",
      "--------------------------------------------------\n",
      "[Epoch 85/500] :\n"
     ]
    },
    {
     "name": "stderr",
     "output_type": "stream",
     "text": [
      "100%|██████████| 391/391 [00:07<00:00, 49.58it/s]\n"
     ]
    },
    {
     "name": "stdout",
     "output_type": "stream",
     "text": [
      "Train Loss: 0.0013 | Train Acc: 82.50%\n",
      "Test  Loss: 0.2607 | Test Acc: 91.03%\n",
      "updated best eval loss : 0.26072323567505123\n",
      "--------------------------------------------------\n",
      "[Epoch 86/500] :\n"
     ]
    },
    {
     "name": "stderr",
     "output_type": "stream",
     "text": [
      "100%|██████████| 391/391 [00:09<00:00, 43.02it/s]\n"
     ]
    },
    {
     "name": "stdout",
     "output_type": "stream",
     "text": [
      "Train Loss: 0.0013 | Train Acc: 81.25%\n",
      "Test  Loss: 0.2662 | Test Acc: 90.73%\n",
      "--------------------------------------------------\n",
      "[Epoch 87/500] :\n"
     ]
    },
    {
     "name": "stderr",
     "output_type": "stream",
     "text": [
      "100%|██████████| 391/391 [00:08<00:00, 44.82it/s]\n"
     ]
    },
    {
     "name": "stdout",
     "output_type": "stream",
     "text": [
      "Train Loss: 0.0014 | Train Acc: 81.25%\n",
      "Test  Loss: 0.2650 | Test Acc: 91.06%\n",
      "--------------------------------------------------\n",
      "[Epoch 88/500] :\n"
     ]
    },
    {
     "name": "stderr",
     "output_type": "stream",
     "text": [
      "100%|██████████| 391/391 [00:09<00:00, 42.80it/s]\n"
     ]
    },
    {
     "name": "stdout",
     "output_type": "stream",
     "text": [
      "Train Loss: 0.0013 | Train Acc: 78.75%\n",
      "Test  Loss: 0.2509 | Test Acc: 91.40%\n",
      "updated best eval loss : 0.25093994548992266\n",
      "--------------------------------------------------\n",
      "[Epoch 89/500] :\n"
     ]
    },
    {
     "name": "stderr",
     "output_type": "stream",
     "text": [
      "100%|██████████| 391/391 [00:09<00:00, 42.51it/s]\n"
     ]
    },
    {
     "name": "stdout",
     "output_type": "stream",
     "text": [
      "Train Loss: 0.0008 | Train Acc: 88.75%\n",
      "Test  Loss: 0.2642 | Test Acc: 91.22%\n",
      "--------------------------------------------------\n",
      "[Epoch 90/500] :\n"
     ]
    },
    {
     "name": "stderr",
     "output_type": "stream",
     "text": [
      "100%|██████████| 391/391 [00:09<00:00, 42.99it/s]\n"
     ]
    },
    {
     "name": "stdout",
     "output_type": "stream",
     "text": [
      "Train Loss: 0.0012 | Train Acc: 83.75%\n",
      "Test  Loss: 0.2576 | Test Acc: 91.46%\n",
      "--------------------------------------------------\n",
      "[Epoch 91/500] :\n"
     ]
    },
    {
     "name": "stderr",
     "output_type": "stream",
     "text": [
      "100%|██████████| 391/391 [00:08<00:00, 44.49it/s]\n"
     ]
    },
    {
     "name": "stdout",
     "output_type": "stream",
     "text": [
      "Train Loss: 0.0009 | Train Acc: 86.25%\n",
      "Test  Loss: 0.2588 | Test Acc: 91.45%\n",
      "--------------------------------------------------\n",
      "[Epoch 92/500] :\n"
     ]
    },
    {
     "name": "stderr",
     "output_type": "stream",
     "text": [
      "100%|██████████| 391/391 [00:09<00:00, 42.99it/s]\n"
     ]
    },
    {
     "name": "stdout",
     "output_type": "stream",
     "text": [
      "Train Loss: 0.0008 | Train Acc: 88.75%\n",
      "Test  Loss: 0.2499 | Test Acc: 91.62%\n",
      "updated best eval loss : 0.2498772037746031\n",
      "--------------------------------------------------\n",
      "[Epoch 93/500] :\n"
     ]
    },
    {
     "name": "stderr",
     "output_type": "stream",
     "text": [
      "100%|██████████| 391/391 [00:08<00:00, 45.51it/s]\n"
     ]
    },
    {
     "name": "stdout",
     "output_type": "stream",
     "text": [
      "Train Loss: 0.0014 | Train Acc: 80.00%\n",
      "Test  Loss: 0.2525 | Test Acc: 91.58%\n",
      "--------------------------------------------------\n",
      "[Epoch 94/500] :\n"
     ]
    },
    {
     "name": "stderr",
     "output_type": "stream",
     "text": [
      "100%|██████████| 391/391 [00:08<00:00, 43.87it/s]\n"
     ]
    },
    {
     "name": "stdout",
     "output_type": "stream",
     "text": [
      "Train Loss: 0.0011 | Train Acc: 85.00%\n",
      "Test  Loss: 0.2541 | Test Acc: 91.47%\n",
      "--------------------------------------------------\n",
      "[Epoch 95/500] :\n"
     ]
    },
    {
     "name": "stderr",
     "output_type": "stream",
     "text": [
      "100%|██████████| 391/391 [00:09<00:00, 41.91it/s]\n"
     ]
    },
    {
     "name": "stdout",
     "output_type": "stream",
     "text": [
      "Train Loss: 0.0009 | Train Acc: 88.75%\n",
      "Test  Loss: 0.2601 | Test Acc: 91.55%\n",
      "--------------------------------------------------\n",
      "[Epoch 96/500] :\n"
     ]
    },
    {
     "name": "stderr",
     "output_type": "stream",
     "text": [
      "100%|██████████| 391/391 [00:08<00:00, 43.91it/s]\n"
     ]
    },
    {
     "name": "stdout",
     "output_type": "stream",
     "text": [
      "Train Loss: 0.0009 | Train Acc: 88.75%\n",
      "Test  Loss: 0.2607 | Test Acc: 91.49%\n",
      "--------------------------------------------------\n",
      "[Epoch 97/500] :\n"
     ]
    },
    {
     "name": "stderr",
     "output_type": "stream",
     "text": [
      "100%|██████████| 391/391 [00:09<00:00, 43.43it/s]\n"
     ]
    },
    {
     "name": "stdout",
     "output_type": "stream",
     "text": [
      "Train Loss: 0.0013 | Train Acc: 82.50%\n",
      "Test  Loss: 0.2528 | Test Acc: 91.51%\n",
      "--------------------------------------------------\n",
      "[Epoch 98/500] :\n"
     ]
    },
    {
     "name": "stderr",
     "output_type": "stream",
     "text": [
      "100%|██████████| 391/391 [00:09<00:00, 43.09it/s]\n"
     ]
    },
    {
     "name": "stdout",
     "output_type": "stream",
     "text": [
      "Train Loss: 0.0011 | Train Acc: 80.00%\n",
      "Test  Loss: 0.2492 | Test Acc: 91.96%\n",
      "updated best eval loss : 0.24922111064572877\n",
      "--------------------------------------------------\n",
      "[Epoch 99/500] :\n"
     ]
    },
    {
     "name": "stderr",
     "output_type": "stream",
     "text": [
      "100%|██████████| 391/391 [00:08<00:00, 46.26it/s]\n"
     ]
    },
    {
     "name": "stdout",
     "output_type": "stream",
     "text": [
      "Train Loss: 0.0009 | Train Acc: 87.50%\n",
      "Test  Loss: 0.2565 | Test Acc: 91.36%\n",
      "--------------------------------------------------\n",
      "[Epoch 100/500] :\n"
     ]
    },
    {
     "name": "stderr",
     "output_type": "stream",
     "text": [
      "100%|██████████| 391/391 [00:09<00:00, 42.48it/s]\n"
     ]
    },
    {
     "name": "stdout",
     "output_type": "stream",
     "text": [
      "Train Loss: 0.0006 | Train Acc: 92.50%\n",
      "Test  Loss: 0.2655 | Test Acc: 91.29%\n",
      "--------------------------------------------------\n",
      "[Epoch 101/500] :\n"
     ]
    },
    {
     "name": "stderr",
     "output_type": "stream",
     "text": [
      "100%|██████████| 391/391 [00:08<00:00, 44.11it/s]\n"
     ]
    },
    {
     "name": "stdout",
     "output_type": "stream",
     "text": [
      "Train Loss: 0.0011 | Train Acc: 85.00%\n",
      "Test  Loss: 0.2538 | Test Acc: 91.61%\n",
      "--------------------------------------------------\n",
      "[Epoch 102/500] :\n"
     ]
    },
    {
     "name": "stderr",
     "output_type": "stream",
     "text": [
      "100%|██████████| 391/391 [00:08<00:00, 46.72it/s]\n"
     ]
    },
    {
     "name": "stdout",
     "output_type": "stream",
     "text": [
      "Train Loss: 0.0008 | Train Acc: 90.00%\n",
      "Test  Loss: 0.2511 | Test Acc: 91.74%\n",
      "--------------------------------------------------\n",
      "[Epoch 103/500] :\n"
     ]
    },
    {
     "name": "stderr",
     "output_type": "stream",
     "text": [
      "100%|██████████| 391/391 [00:08<00:00, 48.59it/s]\n"
     ]
    },
    {
     "name": "stdout",
     "output_type": "stream",
     "text": [
      "Train Loss: 0.0009 | Train Acc: 85.00%\n",
      "Test  Loss: 0.2539 | Test Acc: 91.66%\n",
      "--------------------------------------------------\n",
      "[Epoch 104/500] :\n"
     ]
    },
    {
     "name": "stderr",
     "output_type": "stream",
     "text": [
      "100%|██████████| 391/391 [00:08<00:00, 44.96it/s]\n"
     ]
    },
    {
     "name": "stdout",
     "output_type": "stream",
     "text": [
      "Train Loss: 0.0009 | Train Acc: 87.50%\n",
      "Test  Loss: 0.2524 | Test Acc: 91.58%\n",
      "--------------------------------------------------\n",
      "[Epoch 105/500] :\n"
     ]
    },
    {
     "name": "stderr",
     "output_type": "stream",
     "text": [
      "100%|██████████| 391/391 [00:08<00:00, 45.07it/s]\n"
     ]
    },
    {
     "name": "stdout",
     "output_type": "stream",
     "text": [
      "Train Loss: 0.0008 | Train Acc: 90.00%\n",
      "Test  Loss: 0.2455 | Test Acc: 91.95%\n",
      "updated best eval loss : 0.24552639545519142\n",
      "--------------------------------------------------\n",
      "[Epoch 106/500] :\n"
     ]
    },
    {
     "name": "stderr",
     "output_type": "stream",
     "text": [
      "100%|██████████| 391/391 [00:08<00:00, 46.11it/s]\n"
     ]
    },
    {
     "name": "stdout",
     "output_type": "stream",
     "text": [
      "Train Loss: 0.0008 | Train Acc: 90.00%\n",
      "Test  Loss: 0.2541 | Test Acc: 91.63%\n",
      "--------------------------------------------------\n",
      "[Epoch 107/500] :\n"
     ]
    },
    {
     "name": "stderr",
     "output_type": "stream",
     "text": [
      "100%|██████████| 391/391 [00:08<00:00, 46.78it/s]\n"
     ]
    },
    {
     "name": "stdout",
     "output_type": "stream",
     "text": [
      "Train Loss: 0.0008 | Train Acc: 91.25%\n",
      "Test  Loss: 0.2615 | Test Acc: 91.23%\n",
      "--------------------------------------------------\n",
      "[Epoch 108/500] :\n"
     ]
    },
    {
     "name": "stderr",
     "output_type": "stream",
     "text": [
      "100%|██████████| 391/391 [00:08<00:00, 44.86it/s]\n"
     ]
    },
    {
     "name": "stdout",
     "output_type": "stream",
     "text": [
      "Train Loss: 0.0008 | Train Acc: 90.00%\n",
      "Test  Loss: 0.2588 | Test Acc: 91.71%\n",
      "--------------------------------------------------\n",
      "[Epoch 109/500] :\n"
     ]
    },
    {
     "name": "stderr",
     "output_type": "stream",
     "text": [
      "100%|██████████| 391/391 [00:08<00:00, 44.62it/s]\n"
     ]
    },
    {
     "name": "stdout",
     "output_type": "stream",
     "text": [
      "Train Loss: 0.0011 | Train Acc: 88.75%\n",
      "Test  Loss: 0.2505 | Test Acc: 91.66%\n",
      "--------------------------------------------------\n",
      "[Epoch 110/500] :\n"
     ]
    },
    {
     "name": "stderr",
     "output_type": "stream",
     "text": [
      "100%|██████████| 391/391 [00:09<00:00, 43.02it/s]\n"
     ]
    },
    {
     "name": "stdout",
     "output_type": "stream",
     "text": [
      "Train Loss: 0.0008 | Train Acc: 90.00%\n",
      "Test  Loss: 0.2605 | Test Acc: 91.62%\n",
      "--------------------------------------------------\n",
      "[Epoch 111/500] :\n"
     ]
    },
    {
     "name": "stderr",
     "output_type": "stream",
     "text": [
      "100%|██████████| 391/391 [00:08<00:00, 43.54it/s]\n"
     ]
    },
    {
     "name": "stdout",
     "output_type": "stream",
     "text": [
      "Train Loss: 0.0010 | Train Acc: 88.75%\n",
      "Test  Loss: 0.2524 | Test Acc: 91.62%\n",
      "--------------------------------------------------\n",
      "[Epoch 112/500] :\n"
     ]
    },
    {
     "name": "stderr",
     "output_type": "stream",
     "text": [
      "100%|██████████| 391/391 [00:08<00:00, 43.68it/s]\n"
     ]
    },
    {
     "name": "stdout",
     "output_type": "stream",
     "text": [
      "Train Loss: 0.0010 | Train Acc: 80.00%\n",
      "Test  Loss: 0.2614 | Test Acc: 91.68%\n",
      "--------------------------------------------------\n",
      "[Epoch 113/500] :\n"
     ]
    },
    {
     "name": "stderr",
     "output_type": "stream",
     "text": [
      "100%|██████████| 391/391 [00:09<00:00, 43.22it/s]\n"
     ]
    },
    {
     "name": "stdout",
     "output_type": "stream",
     "text": [
      "Train Loss: 0.0010 | Train Acc: 87.50%\n",
      "Test  Loss: 0.2608 | Test Acc: 91.70%\n",
      "--------------------------------------------------\n",
      "[Epoch 114/500] :\n"
     ]
    },
    {
     "name": "stderr",
     "output_type": "stream",
     "text": [
      "100%|██████████| 391/391 [00:09<00:00, 42.04it/s]\n"
     ]
    },
    {
     "name": "stdout",
     "output_type": "stream",
     "text": [
      "Train Loss: 0.0011 | Train Acc: 83.75%\n",
      "Test  Loss: 0.2501 | Test Acc: 91.77%\n",
      "--------------------------------------------------\n",
      "[Epoch 115/500] :\n"
     ]
    },
    {
     "name": "stderr",
     "output_type": "stream",
     "text": [
      "100%|██████████| 391/391 [00:09<00:00, 42.93it/s]\n"
     ]
    },
    {
     "name": "stdout",
     "output_type": "stream",
     "text": [
      "Train Loss: 0.0012 | Train Acc: 81.25%\n",
      "Test  Loss: 0.2478 | Test Acc: 91.96%\n",
      "--------------------------------------------------\n",
      "[Epoch 116/500] :\n"
     ]
    },
    {
     "name": "stderr",
     "output_type": "stream",
     "text": [
      "100%|██████████| 391/391 [00:07<00:00, 50.21it/s]\n"
     ]
    },
    {
     "name": "stdout",
     "output_type": "stream",
     "text": [
      "Train Loss: 0.0011 | Train Acc: 83.75%\n",
      "Test  Loss: 0.2526 | Test Acc: 91.66%\n",
      "--------------------------------------------------\n",
      "[Epoch 117/500] :\n"
     ]
    },
    {
     "name": "stderr",
     "output_type": "stream",
     "text": [
      "100%|██████████| 391/391 [00:09<00:00, 43.13it/s]\n"
     ]
    },
    {
     "name": "stdout",
     "output_type": "stream",
     "text": [
      "Train Loss: 0.0008 | Train Acc: 91.25%\n",
      "Test  Loss: 0.2610 | Test Acc: 91.43%\n",
      "--------------------------------------------------\n",
      "[Epoch 118/500] :\n"
     ]
    },
    {
     "name": "stderr",
     "output_type": "stream",
     "text": [
      "100%|██████████| 391/391 [00:08<00:00, 44.72it/s]\n"
     ]
    },
    {
     "name": "stdout",
     "output_type": "stream",
     "text": [
      "Train Loss: 0.0013 | Train Acc: 83.75%\n",
      "Test  Loss: 0.2561 | Test Acc: 91.71%\n",
      "--------------------------------------------------\n",
      "[Epoch 119/500] :\n"
     ]
    },
    {
     "name": "stderr",
     "output_type": "stream",
     "text": [
      "100%|██████████| 391/391 [00:09<00:00, 41.68it/s]\n"
     ]
    },
    {
     "name": "stdout",
     "output_type": "stream",
     "text": [
      "Train Loss: 0.0012 | Train Acc: 82.50%\n",
      "Test  Loss: 0.2478 | Test Acc: 92.15%\n",
      "--------------------------------------------------\n",
      "[Epoch 120/500] :\n"
     ]
    },
    {
     "name": "stderr",
     "output_type": "stream",
     "text": [
      "100%|██████████| 391/391 [00:08<00:00, 45.43it/s]\n"
     ]
    },
    {
     "name": "stdout",
     "output_type": "stream",
     "text": [
      "Train Loss: 0.0008 | Train Acc: 88.75%\n",
      "Test  Loss: 0.2571 | Test Acc: 91.50%\n",
      "--------------------------------------------------\n",
      "[Epoch 121/500] :\n"
     ]
    },
    {
     "name": "stderr",
     "output_type": "stream",
     "text": [
      "100%|██████████| 391/391 [00:09<00:00, 42.24it/s]\n"
     ]
    },
    {
     "name": "stdout",
     "output_type": "stream",
     "text": [
      "Train Loss: 0.0006 | Train Acc: 91.25%\n",
      "Test  Loss: 0.2591 | Test Acc: 91.70%\n",
      "--------------------------------------------------\n",
      "[Epoch 122/500] :\n"
     ]
    },
    {
     "name": "stderr",
     "output_type": "stream",
     "text": [
      "100%|██████████| 391/391 [00:07<00:00, 51.20it/s]\n"
     ]
    },
    {
     "name": "stdout",
     "output_type": "stream",
     "text": [
      "Train Loss: 0.0006 | Train Acc: 91.25%\n",
      "Test  Loss: 0.2602 | Test Acc: 91.72%\n",
      "--------------------------------------------------\n",
      "[Epoch 123/500] :\n"
     ]
    },
    {
     "name": "stderr",
     "output_type": "stream",
     "text": [
      "100%|██████████| 391/391 [00:09<00:00, 41.37it/s]\n"
     ]
    },
    {
     "name": "stdout",
     "output_type": "stream",
     "text": [
      "Train Loss: 0.0010 | Train Acc: 83.75%\n",
      "Test  Loss: 0.2526 | Test Acc: 92.13%\n",
      "Learning Rate has changed : Now is 0.0010000000000000002\n",
      "--------------------------------------------------\n",
      "[Epoch 124/500] :\n"
     ]
    },
    {
     "name": "stderr",
     "output_type": "stream",
     "text": [
      "100%|██████████| 391/391 [00:08<00:00, 43.63it/s]\n"
     ]
    },
    {
     "name": "stdout",
     "output_type": "stream",
     "text": [
      "Train Loss: 0.0010 | Train Acc: 88.75%\n",
      "Test  Loss: 0.2396 | Test Acc: 92.45%\n",
      "updated best eval loss : 0.23961048997655698\n",
      "--------------------------------------------------\n",
      "[Epoch 125/500] :\n"
     ]
    },
    {
     "name": "stderr",
     "output_type": "stream",
     "text": [
      "100%|██████████| 391/391 [00:09<00:00, 42.70it/s]\n"
     ]
    },
    {
     "name": "stdout",
     "output_type": "stream",
     "text": [
      "Train Loss: 0.0011 | Train Acc: 85.00%\n",
      "Test  Loss: 0.2356 | Test Acc: 92.49%\n",
      "updated best eval loss : 0.235648568106603\n",
      "--------------------------------------------------\n",
      "[Epoch 126/500] :\n"
     ]
    },
    {
     "name": "stderr",
     "output_type": "stream",
     "text": [
      "100%|██████████| 391/391 [00:08<00:00, 44.34it/s]\n"
     ]
    },
    {
     "name": "stdout",
     "output_type": "stream",
     "text": [
      "Train Loss: 0.0008 | Train Acc: 90.00%\n",
      "Test  Loss: 0.2337 | Test Acc: 92.47%\n",
      "updated best eval loss : 0.23366727128247672\n",
      "--------------------------------------------------\n",
      "[Epoch 127/500] :\n"
     ]
    },
    {
     "name": "stderr",
     "output_type": "stream",
     "text": [
      "100%|██████████| 391/391 [00:08<00:00, 44.90it/s]\n"
     ]
    },
    {
     "name": "stdout",
     "output_type": "stream",
     "text": [
      "Train Loss: 0.0009 | Train Acc: 90.00%\n",
      "Test  Loss: 0.2371 | Test Acc: 92.48%\n",
      "--------------------------------------------------\n",
      "[Epoch 128/500] :\n"
     ]
    },
    {
     "name": "stderr",
     "output_type": "stream",
     "text": [
      "100%|██████████| 391/391 [00:08<00:00, 43.97it/s]\n"
     ]
    },
    {
     "name": "stdout",
     "output_type": "stream",
     "text": [
      "Train Loss: 0.0005 | Train Acc: 88.75%\n",
      "Test  Loss: 0.2387 | Test Acc: 92.41%\n",
      "--------------------------------------------------\n",
      "[Epoch 129/500] :\n"
     ]
    },
    {
     "name": "stderr",
     "output_type": "stream",
     "text": [
      "100%|██████████| 391/391 [00:09<00:00, 43.33it/s]\n"
     ]
    },
    {
     "name": "stdout",
     "output_type": "stream",
     "text": [
      "Train Loss: 0.0008 | Train Acc: 90.00%\n",
      "Test  Loss: 0.2339 | Test Acc: 92.55%\n",
      "--------------------------------------------------\n",
      "[Epoch 130/500] :\n"
     ]
    },
    {
     "name": "stderr",
     "output_type": "stream",
     "text": [
      "100%|██████████| 391/391 [00:08<00:00, 44.90it/s]\n"
     ]
    },
    {
     "name": "stdout",
     "output_type": "stream",
     "text": [
      "Train Loss: 0.0010 | Train Acc: 87.50%\n",
      "Test  Loss: 0.2365 | Test Acc: 92.46%\n",
      "--------------------------------------------------\n",
      "[Epoch 131/500] :\n"
     ]
    },
    {
     "name": "stderr",
     "output_type": "stream",
     "text": [
      "100%|██████████| 391/391 [00:08<00:00, 45.25it/s]\n"
     ]
    },
    {
     "name": "stdout",
     "output_type": "stream",
     "text": [
      "Train Loss: 0.0009 | Train Acc: 87.50%\n",
      "Test  Loss: 0.2363 | Test Acc: 92.62%\n",
      "--------------------------------------------------\n",
      "[Epoch 132/500] :\n"
     ]
    },
    {
     "name": "stderr",
     "output_type": "stream",
     "text": [
      "100%|██████████| 391/391 [00:09<00:00, 43.41it/s]\n"
     ]
    },
    {
     "name": "stdout",
     "output_type": "stream",
     "text": [
      "Train Loss: 0.0007 | Train Acc: 87.50%\n",
      "Test  Loss: 0.2382 | Test Acc: 92.56%\n",
      "--------------------------------------------------\n",
      "[Epoch 133/500] :\n"
     ]
    },
    {
     "name": "stderr",
     "output_type": "stream",
     "text": [
      "100%|██████████| 391/391 [00:08<00:00, 45.14it/s]\n"
     ]
    },
    {
     "name": "stdout",
     "output_type": "stream",
     "text": [
      "Train Loss: 0.0010 | Train Acc: 86.25%\n",
      "Test  Loss: 0.2372 | Test Acc: 92.60%\n",
      "--------------------------------------------------\n",
      "[Epoch 134/500] :\n"
     ]
    },
    {
     "name": "stderr",
     "output_type": "stream",
     "text": [
      "100%|██████████| 391/391 [00:09<00:00, 43.18it/s]\n"
     ]
    },
    {
     "name": "stdout",
     "output_type": "stream",
     "text": [
      "Train Loss: 0.0009 | Train Acc: 85.00%\n",
      "Test  Loss: 0.2331 | Test Acc: 92.60%\n",
      "updated best eval loss : 0.23310928810623627\n",
      "--------------------------------------------------\n",
      "[Epoch 135/500] :\n"
     ]
    },
    {
     "name": "stderr",
     "output_type": "stream",
     "text": [
      "100%|██████████| 391/391 [00:08<00:00, 44.65it/s]\n"
     ]
    },
    {
     "name": "stdout",
     "output_type": "stream",
     "text": [
      "Train Loss: 0.0009 | Train Acc: 82.50%\n",
      "Test  Loss: 0.2355 | Test Acc: 92.56%\n",
      "--------------------------------------------------\n",
      "[Epoch 136/500] :\n"
     ]
    },
    {
     "name": "stderr",
     "output_type": "stream",
     "text": [
      "100%|██████████| 391/391 [00:08<00:00, 44.15it/s]\n"
     ]
    },
    {
     "name": "stdout",
     "output_type": "stream",
     "text": [
      "Train Loss: 0.0007 | Train Acc: 90.00%\n",
      "Test  Loss: 0.2374 | Test Acc: 92.55%\n",
      "--------------------------------------------------\n",
      "[Epoch 137/500] :\n"
     ]
    },
    {
     "name": "stderr",
     "output_type": "stream",
     "text": [
      "100%|██████████| 391/391 [00:08<00:00, 43.86it/s]\n"
     ]
    },
    {
     "name": "stdout",
     "output_type": "stream",
     "text": [
      "Train Loss: 0.0010 | Train Acc: 88.75%\n",
      "Test  Loss: 0.2365 | Test Acc: 92.55%\n",
      "--------------------------------------------------\n",
      "[Epoch 138/500] :\n"
     ]
    },
    {
     "name": "stderr",
     "output_type": "stream",
     "text": [
      "100%|██████████| 391/391 [00:09<00:00, 42.26it/s]\n"
     ]
    },
    {
     "name": "stdout",
     "output_type": "stream",
     "text": [
      "Train Loss: 0.0006 | Train Acc: 91.25%\n",
      "Test  Loss: 0.2339 | Test Acc: 92.42%\n",
      "--------------------------------------------------\n",
      "[Epoch 139/500] :\n"
     ]
    },
    {
     "name": "stderr",
     "output_type": "stream",
     "text": [
      "100%|██████████| 391/391 [00:08<00:00, 45.24it/s]\n"
     ]
    },
    {
     "name": "stdout",
     "output_type": "stream",
     "text": [
      "Train Loss: 0.0010 | Train Acc: 87.50%\n",
      "Test  Loss: 0.2334 | Test Acc: 92.63%\n",
      "--------------------------------------------------\n",
      "[Epoch 140/500] :\n"
     ]
    },
    {
     "name": "stderr",
     "output_type": "stream",
     "text": [
      "100%|██████████| 391/391 [00:08<00:00, 44.57it/s]\n"
     ]
    },
    {
     "name": "stdout",
     "output_type": "stream",
     "text": [
      "Train Loss: 0.0008 | Train Acc: 90.00%\n",
      "Test  Loss: 0.2356 | Test Acc: 92.61%\n",
      "--------------------------------------------------\n",
      "[Epoch 141/500] :\n"
     ]
    },
    {
     "name": "stderr",
     "output_type": "stream",
     "text": [
      "100%|██████████| 391/391 [00:08<00:00, 45.31it/s]\n"
     ]
    },
    {
     "name": "stdout",
     "output_type": "stream",
     "text": [
      "Train Loss: 0.0008 | Train Acc: 87.50%\n",
      "Test  Loss: 0.2348 | Test Acc: 92.76%\n",
      "--------------------------------------------------\n",
      "[Epoch 142/500] :\n"
     ]
    },
    {
     "name": "stderr",
     "output_type": "stream",
     "text": [
      "100%|██████████| 391/391 [00:08<00:00, 45.03it/s]\n"
     ]
    },
    {
     "name": "stdout",
     "output_type": "stream",
     "text": [
      "Train Loss: 0.0007 | Train Acc: 90.00%\n",
      "Test  Loss: 0.2315 | Test Acc: 92.66%\n",
      "updated best eval loss : 0.23145520154245292\n",
      "--------------------------------------------------\n",
      "[Epoch 143/500] :\n"
     ]
    },
    {
     "name": "stderr",
     "output_type": "stream",
     "text": [
      "100%|██████████| 391/391 [00:09<00:00, 42.17it/s]\n"
     ]
    },
    {
     "name": "stdout",
     "output_type": "stream",
     "text": [
      "Train Loss: 0.0006 | Train Acc: 91.25%\n",
      "Test  Loss: 0.2342 | Test Acc: 92.63%\n",
      "--------------------------------------------------\n",
      "[Epoch 144/500] :\n"
     ]
    },
    {
     "name": "stderr",
     "output_type": "stream",
     "text": [
      "100%|██████████| 391/391 [00:08<00:00, 43.70it/s]\n"
     ]
    },
    {
     "name": "stdout",
     "output_type": "stream",
     "text": [
      "Train Loss: 0.0009 | Train Acc: 87.50%\n",
      "Test  Loss: 0.2318 | Test Acc: 92.66%\n",
      "--------------------------------------------------\n",
      "[Epoch 145/500] :\n"
     ]
    },
    {
     "name": "stderr",
     "output_type": "stream",
     "text": [
      "100%|██████████| 391/391 [00:08<00:00, 44.54it/s]\n"
     ]
    },
    {
     "name": "stdout",
     "output_type": "stream",
     "text": [
      "Train Loss: 0.0012 | Train Acc: 85.00%\n",
      "Test  Loss: 0.2362 | Test Acc: 92.68%\n",
      "--------------------------------------------------\n",
      "[Epoch 146/500] :\n"
     ]
    },
    {
     "name": "stderr",
     "output_type": "stream",
     "text": [
      "100%|██████████| 391/391 [00:08<00:00, 45.38it/s]\n"
     ]
    },
    {
     "name": "stdout",
     "output_type": "stream",
     "text": [
      "Train Loss: 0.0009 | Train Acc: 92.50%\n",
      "Test  Loss: 0.2312 | Test Acc: 92.72%\n",
      "updated best eval loss : 0.2312298122369036\n",
      "--------------------------------------------------\n",
      "[Epoch 147/500] :\n"
     ]
    },
    {
     "name": "stderr",
     "output_type": "stream",
     "text": [
      "100%|██████████| 391/391 [00:08<00:00, 44.75it/s]\n"
     ]
    },
    {
     "name": "stdout",
     "output_type": "stream",
     "text": [
      "Train Loss: 0.0013 | Train Acc: 77.50%\n",
      "Test  Loss: 0.2341 | Test Acc: 92.56%\n",
      "--------------------------------------------------\n",
      "[Epoch 148/500] :\n"
     ]
    },
    {
     "name": "stderr",
     "output_type": "stream",
     "text": [
      "100%|██████████| 391/391 [00:08<00:00, 45.14it/s]\n"
     ]
    },
    {
     "name": "stdout",
     "output_type": "stream",
     "text": [
      "Train Loss: 0.0008 | Train Acc: 88.75%\n",
      "Test  Loss: 0.2320 | Test Acc: 92.57%\n",
      "--------------------------------------------------\n",
      "[Epoch 149/500] :\n"
     ]
    },
    {
     "name": "stderr",
     "output_type": "stream",
     "text": [
      "100%|██████████| 391/391 [00:09<00:00, 39.89it/s]\n"
     ]
    },
    {
     "name": "stdout",
     "output_type": "stream",
     "text": [
      "Train Loss: 0.0005 | Train Acc: 95.00%\n",
      "Test  Loss: 0.2342 | Test Acc: 92.53%\n",
      "--------------------------------------------------\n",
      "[Epoch 150/500] :\n"
     ]
    },
    {
     "name": "stderr",
     "output_type": "stream",
     "text": [
      "100%|██████████| 391/391 [00:08<00:00, 44.74it/s]\n"
     ]
    },
    {
     "name": "stdout",
     "output_type": "stream",
     "text": [
      "Train Loss: 0.0005 | Train Acc: 95.00%\n",
      "Test  Loss: 0.2376 | Test Acc: 92.57%\n",
      "--------------------------------------------------\n",
      "[Epoch 151/500] :\n"
     ]
    },
    {
     "name": "stderr",
     "output_type": "stream",
     "text": [
      "100%|██████████| 391/391 [00:08<00:00, 45.60it/s]\n"
     ]
    },
    {
     "name": "stdout",
     "output_type": "stream",
     "text": [
      "Train Loss: 0.0008 | Train Acc: 90.00%\n",
      "Test  Loss: 0.2392 | Test Acc: 92.55%\n",
      "--------------------------------------------------\n",
      "[Epoch 152/500] :\n"
     ]
    },
    {
     "name": "stderr",
     "output_type": "stream",
     "text": [
      "100%|██████████| 391/391 [00:08<00:00, 44.23it/s]\n"
     ]
    },
    {
     "name": "stdout",
     "output_type": "stream",
     "text": [
      "Train Loss: 0.0004 | Train Acc: 96.25%\n",
      "Test  Loss: 0.2355 | Test Acc: 92.61%\n",
      "--------------------------------------------------\n",
      "[Epoch 153/500] :\n"
     ]
    },
    {
     "name": "stderr",
     "output_type": "stream",
     "text": [
      "100%|██████████| 391/391 [00:08<00:00, 44.28it/s]\n"
     ]
    },
    {
     "name": "stdout",
     "output_type": "stream",
     "text": [
      "Train Loss: 0.0006 | Train Acc: 90.00%\n",
      "Test  Loss: 0.2312 | Test Acc: 92.76%\n",
      "updated best eval loss : 0.2311948575550997\n",
      "--------------------------------------------------\n",
      "[Epoch 154/500] :\n"
     ]
    },
    {
     "name": "stderr",
     "output_type": "stream",
     "text": [
      "100%|██████████| 391/391 [00:08<00:00, 44.96it/s]\n"
     ]
    },
    {
     "name": "stdout",
     "output_type": "stream",
     "text": [
      "Train Loss: 0.0008 | Train Acc: 93.75%\n",
      "Test  Loss: 0.2362 | Test Acc: 92.64%\n",
      "--------------------------------------------------\n",
      "[Epoch 155/500] :\n"
     ]
    },
    {
     "name": "stderr",
     "output_type": "stream",
     "text": [
      "100%|██████████| 391/391 [00:08<00:00, 44.62it/s]\n"
     ]
    },
    {
     "name": "stdout",
     "output_type": "stream",
     "text": [
      "Train Loss: 0.0010 | Train Acc: 87.50%\n",
      "Test  Loss: 0.2317 | Test Acc: 92.82%\n",
      "--------------------------------------------------\n",
      "[Epoch 156/500] :\n"
     ]
    },
    {
     "name": "stderr",
     "output_type": "stream",
     "text": [
      "100%|██████████| 391/391 [00:08<00:00, 47.12it/s]\n"
     ]
    },
    {
     "name": "stdout",
     "output_type": "stream",
     "text": [
      "Train Loss: 0.0008 | Train Acc: 87.50%\n",
      "Test  Loss: 0.2459 | Test Acc: 92.56%\n",
      "--------------------------------------------------\n",
      "[Epoch 157/500] :\n"
     ]
    },
    {
     "name": "stderr",
     "output_type": "stream",
     "text": [
      "100%|██████████| 391/391 [00:08<00:00, 45.52it/s]\n"
     ]
    },
    {
     "name": "stdout",
     "output_type": "stream",
     "text": [
      "Train Loss: 0.0008 | Train Acc: 90.00%\n",
      "Test  Loss: 0.2383 | Test Acc: 92.59%\n",
      "--------------------------------------------------\n",
      "[Epoch 158/500] :\n"
     ]
    },
    {
     "name": "stderr",
     "output_type": "stream",
     "text": [
      "100%|██████████| 391/391 [00:09<00:00, 41.81it/s]\n"
     ]
    },
    {
     "name": "stdout",
     "output_type": "stream",
     "text": [
      "Train Loss: 0.0005 | Train Acc: 93.75%\n",
      "Test  Loss: 0.2307 | Test Acc: 92.74%\n",
      "updated best eval loss : 0.23071307795051532\n",
      "--------------------------------------------------\n",
      "[Epoch 159/500] :\n"
     ]
    },
    {
     "name": "stderr",
     "output_type": "stream",
     "text": [
      "100%|██████████| 391/391 [00:08<00:00, 47.83it/s]\n"
     ]
    },
    {
     "name": "stdout",
     "output_type": "stream",
     "text": [
      "Train Loss: 0.0007 | Train Acc: 88.75%\n",
      "Test  Loss: 0.2306 | Test Acc: 92.63%\n",
      "updated best eval loss : 0.230629503420448\n",
      "--------------------------------------------------\n",
      "[Epoch 160/500] :\n"
     ]
    },
    {
     "name": "stderr",
     "output_type": "stream",
     "text": [
      "100%|██████████| 391/391 [00:08<00:00, 43.81it/s]\n"
     ]
    },
    {
     "name": "stdout",
     "output_type": "stream",
     "text": [
      "Train Loss: 0.0009 | Train Acc: 87.50%\n",
      "Test  Loss: 0.2320 | Test Acc: 92.66%\n",
      "--------------------------------------------------\n",
      "[Epoch 161/500] :\n"
     ]
    },
    {
     "name": "stderr",
     "output_type": "stream",
     "text": [
      "100%|██████████| 391/391 [00:09<00:00, 43.32it/s]\n"
     ]
    },
    {
     "name": "stdout",
     "output_type": "stream",
     "text": [
      "Train Loss: 0.0009 | Train Acc: 91.25%\n",
      "Test  Loss: 0.2348 | Test Acc: 92.72%\n",
      "--------------------------------------------------\n",
      "[Epoch 162/500] :\n"
     ]
    },
    {
     "name": "stderr",
     "output_type": "stream",
     "text": [
      "100%|██████████| 391/391 [00:08<00:00, 45.01it/s]\n"
     ]
    },
    {
     "name": "stdout",
     "output_type": "stream",
     "text": [
      "Train Loss: 0.0006 | Train Acc: 91.25%\n",
      "Test  Loss: 0.2313 | Test Acc: 92.60%\n",
      "--------------------------------------------------\n",
      "[Epoch 163/500] :\n"
     ]
    },
    {
     "name": "stderr",
     "output_type": "stream",
     "text": [
      "100%|██████████| 391/391 [00:09<00:00, 42.08it/s]\n"
     ]
    },
    {
     "name": "stdout",
     "output_type": "stream",
     "text": [
      "Train Loss: 0.0010 | Train Acc: 86.25%\n",
      "Test  Loss: 0.2329 | Test Acc: 92.67%\n",
      "--------------------------------------------------\n",
      "[Epoch 164/500] :\n"
     ]
    },
    {
     "name": "stderr",
     "output_type": "stream",
     "text": [
      "100%|██████████| 391/391 [00:08<00:00, 44.37it/s]\n"
     ]
    },
    {
     "name": "stdout",
     "output_type": "stream",
     "text": [
      "Train Loss: 0.0006 | Train Acc: 91.25%\n",
      "Test  Loss: 0.2337 | Test Acc: 92.70%\n",
      "--------------------------------------------------\n",
      "[Epoch 165/500] :\n"
     ]
    },
    {
     "name": "stderr",
     "output_type": "stream",
     "text": [
      "100%|██████████| 391/391 [00:08<00:00, 45.75it/s]\n"
     ]
    },
    {
     "name": "stdout",
     "output_type": "stream",
     "text": [
      "Train Loss: 0.0010 | Train Acc: 85.00%\n",
      "Test  Loss: 0.2341 | Test Acc: 92.71%\n",
      "--------------------------------------------------\n",
      "[Epoch 166/500] :\n"
     ]
    },
    {
     "name": "stderr",
     "output_type": "stream",
     "text": [
      "100%|██████████| 391/391 [00:09<00:00, 43.35it/s]\n"
     ]
    },
    {
     "name": "stdout",
     "output_type": "stream",
     "text": [
      "Train Loss: 0.0008 | Train Acc: 87.50%\n",
      "Test  Loss: 0.2332 | Test Acc: 92.79%\n",
      "--------------------------------------------------\n",
      "[Epoch 167/500] :\n"
     ]
    },
    {
     "name": "stderr",
     "output_type": "stream",
     "text": [
      "100%|██████████| 391/391 [00:09<00:00, 42.41it/s]\n"
     ]
    },
    {
     "name": "stdout",
     "output_type": "stream",
     "text": [
      "Train Loss: 0.0007 | Train Acc: 88.75%\n",
      "Test  Loss: 0.2333 | Test Acc: 92.70%\n",
      "--------------------------------------------------\n",
      "[Epoch 168/500] :\n"
     ]
    },
    {
     "name": "stderr",
     "output_type": "stream",
     "text": [
      "100%|██████████| 391/391 [00:09<00:00, 41.80it/s]\n"
     ]
    },
    {
     "name": "stdout",
     "output_type": "stream",
     "text": [
      "Train Loss: 0.0006 | Train Acc: 95.00%\n",
      "Test  Loss: 0.2352 | Test Acc: 92.61%\n",
      "--------------------------------------------------\n",
      "[Epoch 169/500] :\n"
     ]
    },
    {
     "name": "stderr",
     "output_type": "stream",
     "text": [
      "100%|██████████| 391/391 [00:08<00:00, 43.90it/s]\n"
     ]
    },
    {
     "name": "stdout",
     "output_type": "stream",
     "text": [
      "Train Loss: 0.0004 | Train Acc: 95.00%\n",
      "Test  Loss: 0.2339 | Test Acc: 92.65%\n",
      "--------------------------------------------------\n",
      "[Epoch 170/500] :\n"
     ]
    },
    {
     "name": "stderr",
     "output_type": "stream",
     "text": [
      "100%|██████████| 391/391 [00:08<00:00, 44.42it/s]\n"
     ]
    },
    {
     "name": "stdout",
     "output_type": "stream",
     "text": [
      "Train Loss: 0.0006 | Train Acc: 92.50%\n",
      "Test  Loss: 0.2330 | Test Acc: 92.68%\n",
      "--------------------------------------------------\n",
      "[Epoch 171/500] :\n"
     ]
    },
    {
     "name": "stderr",
     "output_type": "stream",
     "text": [
      "100%|██████████| 391/391 [00:08<00:00, 48.47it/s]\n"
     ]
    },
    {
     "name": "stdout",
     "output_type": "stream",
     "text": [
      "Train Loss: 0.0007 | Train Acc: 91.25%\n",
      "Test  Loss: 0.2348 | Test Acc: 92.63%\n",
      "--------------------------------------------------\n",
      "[Epoch 172/500] :\n"
     ]
    },
    {
     "name": "stderr",
     "output_type": "stream",
     "text": [
      "100%|██████████| 391/391 [00:08<00:00, 44.33it/s]\n"
     ]
    },
    {
     "name": "stdout",
     "output_type": "stream",
     "text": [
      "Train Loss: 0.0008 | Train Acc: 90.00%\n",
      "Test  Loss: 0.2364 | Test Acc: 92.58%\n",
      "--------------------------------------------------\n",
      "[Epoch 173/500] :\n"
     ]
    },
    {
     "name": "stderr",
     "output_type": "stream",
     "text": [
      "100%|██████████| 391/391 [00:08<00:00, 45.30it/s]\n"
     ]
    },
    {
     "name": "stdout",
     "output_type": "stream",
     "text": [
      "Train Loss: 0.0009 | Train Acc: 88.75%\n",
      "Test  Loss: 0.2373 | Test Acc: 92.68%\n",
      "--------------------------------------------------\n",
      "[Epoch 174/500] :\n"
     ]
    },
    {
     "name": "stderr",
     "output_type": "stream",
     "text": [
      "100%|██████████| 391/391 [00:08<00:00, 47.34it/s]\n"
     ]
    },
    {
     "name": "stdout",
     "output_type": "stream",
     "text": [
      "Train Loss: 0.0006 | Train Acc: 90.00%\n",
      "Test  Loss: 0.2340 | Test Acc: 92.54%\n",
      "--------------------------------------------------\n",
      "[Epoch 175/500] :\n"
     ]
    },
    {
     "name": "stderr",
     "output_type": "stream",
     "text": [
      "100%|██████████| 391/391 [00:08<00:00, 44.38it/s]\n"
     ]
    },
    {
     "name": "stdout",
     "output_type": "stream",
     "text": [
      "Train Loss: 0.0009 | Train Acc: 85.00%\n",
      "Test  Loss: 0.2367 | Test Acc: 92.50%\n",
      "--------------------------------------------------\n",
      "[Epoch 176/500] :\n"
     ]
    },
    {
     "name": "stderr",
     "output_type": "stream",
     "text": [
      "100%|██████████| 391/391 [00:08<00:00, 45.64it/s]\n"
     ]
    },
    {
     "name": "stdout",
     "output_type": "stream",
     "text": [
      "Train Loss: 0.0006 | Train Acc: 90.00%\n",
      "Test  Loss: 0.2378 | Test Acc: 92.50%\n",
      "--------------------------------------------------\n",
      "[Epoch 177/500] :\n"
     ]
    },
    {
     "name": "stderr",
     "output_type": "stream",
     "text": [
      "100%|██████████| 391/391 [00:08<00:00, 44.76it/s]\n"
     ]
    },
    {
     "name": "stdout",
     "output_type": "stream",
     "text": [
      "Train Loss: 0.0008 | Train Acc: 91.25%\n",
      "Test  Loss: 0.2372 | Test Acc: 92.50%\n",
      "--------------------------------------------------\n",
      "[Epoch 178/500] :\n"
     ]
    },
    {
     "name": "stderr",
     "output_type": "stream",
     "text": [
      "100%|██████████| 391/391 [00:08<00:00, 44.39it/s]\n"
     ]
    },
    {
     "name": "stdout",
     "output_type": "stream",
     "text": [
      "Train Loss: 0.0011 | Train Acc: 82.50%\n",
      "Test  Loss: 0.2342 | Test Acc: 92.58%\n",
      "--------------------------------------------------\n",
      "[Epoch 179/500] :\n"
     ]
    },
    {
     "name": "stderr",
     "output_type": "stream",
     "text": [
      "100%|██████████| 391/391 [00:08<00:00, 44.36it/s]\n"
     ]
    },
    {
     "name": "stdout",
     "output_type": "stream",
     "text": [
      "Train Loss: 0.0013 | Train Acc: 82.50%\n",
      "Test  Loss: 0.2362 | Test Acc: 92.62%\n",
      "--------------------------------------------------\n",
      "[Epoch 180/500] :\n"
     ]
    },
    {
     "name": "stderr",
     "output_type": "stream",
     "text": [
      "100%|██████████| 391/391 [00:09<00:00, 43.06it/s]\n"
     ]
    },
    {
     "name": "stdout",
     "output_type": "stream",
     "text": [
      "Train Loss: 0.0004 | Train Acc: 95.00%\n",
      "Test  Loss: 0.2356 | Test Acc: 92.52%\n",
      "--------------------------------------------------\n",
      "[Epoch 181/500] :\n"
     ]
    },
    {
     "name": "stderr",
     "output_type": "stream",
     "text": [
      "100%|██████████| 391/391 [00:09<00:00, 42.04it/s]\n"
     ]
    },
    {
     "name": "stdout",
     "output_type": "stream",
     "text": [
      "Train Loss: 0.0010 | Train Acc: 85.00%\n",
      "Test  Loss: 0.2362 | Test Acc: 92.60%\n",
      "--------------------------------------------------\n",
      "[Epoch 182/500] :\n"
     ]
    },
    {
     "name": "stderr",
     "output_type": "stream",
     "text": [
      "100%|██████████| 391/391 [00:08<00:00, 45.13it/s]\n"
     ]
    },
    {
     "name": "stdout",
     "output_type": "stream",
     "text": [
      "Train Loss: 0.0008 | Train Acc: 88.75%\n",
      "Test  Loss: 0.2440 | Test Acc: 92.56%\n",
      "--------------------------------------------------\n",
      "[Epoch 183/500] :\n"
     ]
    },
    {
     "name": "stderr",
     "output_type": "stream",
     "text": [
      "100%|██████████| 391/391 [00:08<00:00, 43.99it/s]\n"
     ]
    },
    {
     "name": "stdout",
     "output_type": "stream",
     "text": [
      "Train Loss: 0.0009 | Train Acc: 88.75%\n",
      "Test  Loss: 0.2390 | Test Acc: 92.66%\n",
      "--------------------------------------------------\n",
      "[Epoch 184/500] :\n"
     ]
    },
    {
     "name": "stderr",
     "output_type": "stream",
     "text": [
      "100%|██████████| 391/391 [00:09<00:00, 41.47it/s]\n"
     ]
    },
    {
     "name": "stdout",
     "output_type": "stream",
     "text": [
      "Train Loss: 0.0007 | Train Acc: 90.00%\n",
      "Test  Loss: 0.2327 | Test Acc: 92.76%\n",
      "--------------------------------------------------\n",
      "[Epoch 185/500] :\n"
     ]
    },
    {
     "name": "stderr",
     "output_type": "stream",
     "text": [
      "100%|██████████| 391/391 [00:08<00:00, 45.45it/s]\n"
     ]
    },
    {
     "name": "stdout",
     "output_type": "stream",
     "text": [
      "Train Loss: 0.0013 | Train Acc: 82.50%\n",
      "Test  Loss: 0.2329 | Test Acc: 92.75%\n",
      "--------------------------------------------------\n",
      "[Epoch 186/500] :\n"
     ]
    },
    {
     "name": "stderr",
     "output_type": "stream",
     "text": [
      "100%|██████████| 391/391 [00:09<00:00, 41.67it/s]\n"
     ]
    },
    {
     "name": "stdout",
     "output_type": "stream",
     "text": [
      "Train Loss: 0.0006 | Train Acc: 93.75%\n",
      "Test  Loss: 0.2393 | Test Acc: 92.66%\n",
      "--------------------------------------------------\n",
      "[Epoch 187/500] :\n"
     ]
    },
    {
     "name": "stderr",
     "output_type": "stream",
     "text": [
      "100%|██████████| 391/391 [00:09<00:00, 43.21it/s]\n"
     ]
    },
    {
     "name": "stdout",
     "output_type": "stream",
     "text": [
      "Train Loss: 0.0010 | Train Acc: 86.25%\n",
      "Test  Loss: 0.2361 | Test Acc: 92.52%\n",
      "--------------------------------------------------\n",
      "[Epoch 188/500] :\n"
     ]
    },
    {
     "name": "stderr",
     "output_type": "stream",
     "text": [
      "100%|██████████| 391/391 [00:09<00:00, 43.33it/s]\n"
     ]
    },
    {
     "name": "stdout",
     "output_type": "stream",
     "text": [
      "Train Loss: 0.0008 | Train Acc: 90.00%\n",
      "Test  Loss: 0.2343 | Test Acc: 92.60%\n",
      "--------------------------------------------------\n",
      "[Epoch 189/500] :\n"
     ]
    },
    {
     "name": "stderr",
     "output_type": "stream",
     "text": [
      "100%|██████████| 391/391 [00:09<00:00, 42.53it/s]\n"
     ]
    },
    {
     "name": "stdout",
     "output_type": "stream",
     "text": [
      "Train Loss: 0.0009 | Train Acc: 87.50%\n",
      "Test  Loss: 0.2321 | Test Acc: 92.61%\n",
      "--------------------------------------------------\n",
      "[Epoch 190/500] :\n"
     ]
    },
    {
     "name": "stderr",
     "output_type": "stream",
     "text": [
      "100%|██████████| 391/391 [00:08<00:00, 45.87it/s]\n"
     ]
    },
    {
     "name": "stdout",
     "output_type": "stream",
     "text": [
      "Train Loss: 0.0005 | Train Acc: 91.25%\n",
      "Test  Loss: 0.2364 | Test Acc: 92.61%\n",
      "--------------------------------------------------\n",
      "[Epoch 191/500] :\n"
     ]
    },
    {
     "name": "stderr",
     "output_type": "stream",
     "text": [
      "100%|██████████| 391/391 [00:07<00:00, 48.98it/s]\n"
     ]
    },
    {
     "name": "stdout",
     "output_type": "stream",
     "text": [
      "Train Loss: 0.0010 | Train Acc: 85.00%\n",
      "Test  Loss: 0.2323 | Test Acc: 92.74%\n",
      "--------------------------------------------------\n",
      "[Epoch 192/500] :\n"
     ]
    },
    {
     "name": "stderr",
     "output_type": "stream",
     "text": [
      "100%|██████████| 391/391 [00:08<00:00, 45.67it/s]\n"
     ]
    },
    {
     "name": "stdout",
     "output_type": "stream",
     "text": [
      "Train Loss: 0.0009 | Train Acc: 87.50%\n",
      "Test  Loss: 0.2381 | Test Acc: 92.65%\n",
      "--------------------------------------------------\n",
      "[Epoch 193/500] :\n"
     ]
    },
    {
     "name": "stderr",
     "output_type": "stream",
     "text": [
      "100%|██████████| 391/391 [00:09<00:00, 42.97it/s]\n"
     ]
    },
    {
     "name": "stdout",
     "output_type": "stream",
     "text": [
      "Train Loss: 0.0013 | Train Acc: 86.25%\n",
      "Test  Loss: 0.2356 | Test Acc: 92.61%\n",
      "--------------------------------------------------\n",
      "[Epoch 194/500] :\n"
     ]
    },
    {
     "name": "stderr",
     "output_type": "stream",
     "text": [
      "100%|██████████| 391/391 [00:08<00:00, 44.87it/s]\n"
     ]
    },
    {
     "name": "stdout",
     "output_type": "stream",
     "text": [
      "Train Loss: 0.0007 | Train Acc: 88.75%\n",
      "Test  Loss: 0.2341 | Test Acc: 92.56%\n",
      "--------------------------------------------------\n",
      "[Epoch 195/500] :\n"
     ]
    },
    {
     "name": "stderr",
     "output_type": "stream",
     "text": [
      "100%|██████████| 391/391 [00:08<00:00, 44.92it/s]\n"
     ]
    },
    {
     "name": "stdout",
     "output_type": "stream",
     "text": [
      "Train Loss: 0.0006 | Train Acc: 93.75%\n",
      "Test  Loss: 0.2335 | Test Acc: 92.71%\n",
      "--------------------------------------------------\n",
      "[Epoch 196/500] :\n"
     ]
    },
    {
     "name": "stderr",
     "output_type": "stream",
     "text": [
      "100%|██████████| 391/391 [00:08<00:00, 45.11it/s]\n"
     ]
    },
    {
     "name": "stdout",
     "output_type": "stream",
     "text": [
      "Train Loss: 0.0007 | Train Acc: 91.25%\n",
      "Test  Loss: 0.2406 | Test Acc: 92.63%\n",
      "--------------------------------------------------\n",
      "[Epoch 197/500] :\n"
     ]
    },
    {
     "name": "stderr",
     "output_type": "stream",
     "text": [
      "100%|██████████| 391/391 [00:08<00:00, 44.64it/s]\n"
     ]
    },
    {
     "name": "stdout",
     "output_type": "stream",
     "text": [
      "Train Loss: 0.0010 | Train Acc: 82.50%\n",
      "Test  Loss: 0.2363 | Test Acc: 92.58%\n",
      "--------------------------------------------------\n",
      "[Epoch 198/500] :\n"
     ]
    },
    {
     "name": "stderr",
     "output_type": "stream",
     "text": [
      "100%|██████████| 391/391 [00:09<00:00, 43.09it/s]\n"
     ]
    },
    {
     "name": "stdout",
     "output_type": "stream",
     "text": [
      "Train Loss: 0.0012 | Train Acc: 82.50%\n",
      "Test  Loss: 0.2360 | Test Acc: 92.70%\n",
      "--------------------------------------------------\n",
      "[Epoch 199/500] :\n"
     ]
    },
    {
     "name": "stderr",
     "output_type": "stream",
     "text": [
      "100%|██████████| 391/391 [00:09<00:00, 43.28it/s]\n"
     ]
    },
    {
     "name": "stdout",
     "output_type": "stream",
     "text": [
      "Train Loss: 0.0011 | Train Acc: 90.00%\n",
      "Test  Loss: 0.2346 | Test Acc: 92.71%\n",
      "--------------------------------------------------\n",
      "[Epoch 200/500] :\n"
     ]
    },
    {
     "name": "stderr",
     "output_type": "stream",
     "text": [
      "100%|██████████| 391/391 [00:08<00:00, 45.24it/s]\n"
     ]
    },
    {
     "name": "stdout",
     "output_type": "stream",
     "text": [
      "Train Loss: 0.0010 | Train Acc: 86.25%\n",
      "Test  Loss: 0.2376 | Test Acc: 92.68%\n",
      "--------------------------------------------------\n",
      "[Epoch 201/500] :\n"
     ]
    },
    {
     "name": "stderr",
     "output_type": "stream",
     "text": [
      "100%|██████████| 391/391 [00:09<00:00, 42.56it/s]\n"
     ]
    },
    {
     "name": "stdout",
     "output_type": "stream",
     "text": [
      "Train Loss: 0.0009 | Train Acc: 88.75%\n",
      "Test  Loss: 0.2413 | Test Acc: 92.60%\n",
      "--------------------------------------------------\n",
      "[Epoch 202/500] :\n"
     ]
    },
    {
     "name": "stderr",
     "output_type": "stream",
     "text": [
      "100%|██████████| 391/391 [00:08<00:00, 45.81it/s]\n"
     ]
    },
    {
     "name": "stdout",
     "output_type": "stream",
     "text": [
      "Train Loss: 0.0006 | Train Acc: 90.00%\n",
      "Test  Loss: 0.2361 | Test Acc: 92.73%\n",
      "--------------------------------------------------\n",
      "[Epoch 203/500] :\n"
     ]
    },
    {
     "name": "stderr",
     "output_type": "stream",
     "text": [
      "100%|██████████| 391/391 [00:09<00:00, 42.30it/s]\n"
     ]
    },
    {
     "name": "stdout",
     "output_type": "stream",
     "text": [
      "Train Loss: 0.0007 | Train Acc: 91.25%\n",
      "Test  Loss: 0.2341 | Test Acc: 92.79%\n",
      "--------------------------------------------------\n",
      "[Epoch 204/500] :\n"
     ]
    },
    {
     "name": "stderr",
     "output_type": "stream",
     "text": [
      "100%|██████████| 391/391 [00:08<00:00, 43.46it/s]\n"
     ]
    },
    {
     "name": "stdout",
     "output_type": "stream",
     "text": [
      "Train Loss: 0.0007 | Train Acc: 88.75%\n",
      "Test  Loss: 0.2348 | Test Acc: 92.77%\n",
      "--------------------------------------------------\n",
      "[Epoch 205/500] :\n"
     ]
    },
    {
     "name": "stderr",
     "output_type": "stream",
     "text": [
      "100%|██████████| 391/391 [00:08<00:00, 43.95it/s]\n"
     ]
    },
    {
     "name": "stdout",
     "output_type": "stream",
     "text": [
      "Train Loss: 0.0010 | Train Acc: 86.25%\n",
      "Test  Loss: 0.2384 | Test Acc: 92.62%\n",
      "--------------------------------------------------\n",
      "[Epoch 206/500] :\n"
     ]
    },
    {
     "name": "stderr",
     "output_type": "stream",
     "text": [
      "100%|██████████| 391/391 [00:09<00:00, 41.78it/s]\n"
     ]
    },
    {
     "name": "stdout",
     "output_type": "stream",
     "text": [
      "Train Loss: 0.0006 | Train Acc: 88.75%\n",
      "Test  Loss: 0.2362 | Test Acc: 92.79%\n",
      "--------------------------------------------------\n",
      "[Epoch 207/500] :\n"
     ]
    },
    {
     "name": "stderr",
     "output_type": "stream",
     "text": [
      "100%|██████████| 391/391 [00:09<00:00, 42.72it/s]\n"
     ]
    },
    {
     "name": "stdout",
     "output_type": "stream",
     "text": [
      "Train Loss: 0.0010 | Train Acc: 86.25%\n",
      "Test  Loss: 0.2377 | Test Acc: 92.73%\n",
      "--------------------------------------------------\n",
      "[Epoch 208/500] :\n"
     ]
    },
    {
     "name": "stderr",
     "output_type": "stream",
     "text": [
      "100%|██████████| 391/391 [00:08<00:00, 44.13it/s]\n"
     ]
    },
    {
     "name": "stdout",
     "output_type": "stream",
     "text": [
      "Train Loss: 0.0008 | Train Acc: 91.25%\n",
      "Test  Loss: 0.2352 | Test Acc: 92.75%\n",
      "--------------------------------------------------\n",
      "[Epoch 209/500] :\n"
     ]
    },
    {
     "name": "stderr",
     "output_type": "stream",
     "text": [
      "100%|██████████| 391/391 [00:08<00:00, 44.62it/s]\n"
     ]
    },
    {
     "name": "stdout",
     "output_type": "stream",
     "text": [
      "Train Loss: 0.0008 | Train Acc: 88.75%\n",
      "Test  Loss: 0.2374 | Test Acc: 92.65%\n",
      "--------------------------------------------------\n",
      "[Epoch 210/500] :\n"
     ]
    },
    {
     "name": "stderr",
     "output_type": "stream",
     "text": [
      "100%|██████████| 391/391 [00:08<00:00, 43.99it/s]\n"
     ]
    },
    {
     "name": "stdout",
     "output_type": "stream",
     "text": [
      "Train Loss: 0.0011 | Train Acc: 88.75%\n",
      "Test  Loss: 0.2357 | Test Acc: 92.77%\n",
      "--------------------------------------------------\n",
      "[Epoch 211/500] :\n"
     ]
    },
    {
     "name": "stderr",
     "output_type": "stream",
     "text": [
      "100%|██████████| 391/391 [00:08<00:00, 46.77it/s]\n"
     ]
    },
    {
     "name": "stdout",
     "output_type": "stream",
     "text": [
      "Train Loss: 0.0003 | Train Acc: 97.50%\n",
      "Test  Loss: 0.2407 | Test Acc: 92.71%\n",
      "--------------------------------------------------\n",
      "[Epoch 212/500] :\n"
     ]
    },
    {
     "name": "stderr",
     "output_type": "stream",
     "text": [
      "100%|██████████| 391/391 [00:08<00:00, 45.64it/s]\n"
     ]
    },
    {
     "name": "stdout",
     "output_type": "stream",
     "text": [
      "Train Loss: 0.0008 | Train Acc: 87.50%\n",
      "Test  Loss: 0.2439 | Test Acc: 92.57%\n",
      "--------------------------------------------------\n",
      "[Epoch 213/500] :\n"
     ]
    },
    {
     "name": "stderr",
     "output_type": "stream",
     "text": [
      "100%|██████████| 391/391 [00:08<00:00, 43.77it/s]\n"
     ]
    },
    {
     "name": "stdout",
     "output_type": "stream",
     "text": [
      "Train Loss: 0.0008 | Train Acc: 87.50%\n",
      "Test  Loss: 0.2384 | Test Acc: 92.64%\n",
      "--------------------------------------------------\n",
      "[Epoch 214/500] :\n"
     ]
    },
    {
     "name": "stderr",
     "output_type": "stream",
     "text": [
      "100%|██████████| 391/391 [00:08<00:00, 44.50it/s]\n"
     ]
    },
    {
     "name": "stdout",
     "output_type": "stream",
     "text": [
      "Train Loss: 0.0006 | Train Acc: 91.25%\n",
      "Test  Loss: 0.2349 | Test Acc: 92.73%\n",
      "--------------------------------------------------\n",
      "[Epoch 215/500] :\n"
     ]
    },
    {
     "name": "stderr",
     "output_type": "stream",
     "text": [
      "100%|██████████| 391/391 [00:09<00:00, 41.41it/s]\n"
     ]
    },
    {
     "name": "stdout",
     "output_type": "stream",
     "text": [
      "Train Loss: 0.0011 | Train Acc: 85.00%\n",
      "Test  Loss: 0.2367 | Test Acc: 92.75%\n",
      "--------------------------------------------------\n",
      "[Epoch 216/500] :\n"
     ]
    },
    {
     "name": "stderr",
     "output_type": "stream",
     "text": [
      "100%|██████████| 391/391 [00:08<00:00, 46.23it/s]\n"
     ]
    },
    {
     "name": "stdout",
     "output_type": "stream",
     "text": [
      "Train Loss: 0.0011 | Train Acc: 86.25%\n",
      "Test  Loss: 0.2365 | Test Acc: 92.70%\n",
      "--------------------------------------------------\n",
      "[Epoch 217/500] :\n"
     ]
    },
    {
     "name": "stderr",
     "output_type": "stream",
     "text": [
      "100%|██████████| 391/391 [00:08<00:00, 44.88it/s]\n"
     ]
    },
    {
     "name": "stdout",
     "output_type": "stream",
     "text": [
      "Train Loss: 0.0009 | Train Acc: 91.25%\n",
      "Test  Loss: 0.2375 | Test Acc: 92.70%\n",
      "--------------------------------------------------\n",
      "[Epoch 218/500] :\n"
     ]
    },
    {
     "name": "stderr",
     "output_type": "stream",
     "text": [
      "100%|██████████| 391/391 [00:09<00:00, 42.70it/s]\n"
     ]
    },
    {
     "name": "stdout",
     "output_type": "stream",
     "text": [
      "Train Loss: 0.0006 | Train Acc: 93.75%\n",
      "Test  Loss: 0.2338 | Test Acc: 92.72%\n",
      "--------------------------------------------------\n",
      "[Epoch 219/500] :\n"
     ]
    },
    {
     "name": "stderr",
     "output_type": "stream",
     "text": [
      "100%|██████████| 391/391 [00:09<00:00, 41.83it/s]\n"
     ]
    },
    {
     "name": "stdout",
     "output_type": "stream",
     "text": [
      "Train Loss: 0.0009 | Train Acc: 90.00%\n",
      "Test  Loss: 0.2360 | Test Acc: 92.75%\n",
      "--------------------------------------------------\n",
      "[Epoch 220/500] :\n"
     ]
    },
    {
     "name": "stderr",
     "output_type": "stream",
     "text": [
      "100%|██████████| 391/391 [00:08<00:00, 44.98it/s]\n"
     ]
    },
    {
     "name": "stdout",
     "output_type": "stream",
     "text": [
      "Train Loss: 0.0010 | Train Acc: 88.75%\n",
      "Test  Loss: 0.2354 | Test Acc: 92.71%\n",
      "--------------------------------------------------\n",
      "[Epoch 221/500] :\n"
     ]
    },
    {
     "name": "stderr",
     "output_type": "stream",
     "text": [
      "100%|██████████| 391/391 [00:09<00:00, 43.41it/s]\n"
     ]
    },
    {
     "name": "stdout",
     "output_type": "stream",
     "text": [
      "Train Loss: 0.0006 | Train Acc: 92.50%\n",
      "Test  Loss: 0.2337 | Test Acc: 92.71%\n",
      "--------------------------------------------------\n",
      "[Epoch 222/500] :\n"
     ]
    },
    {
     "name": "stderr",
     "output_type": "stream",
     "text": [
      "100%|██████████| 391/391 [00:09<00:00, 42.34it/s]\n"
     ]
    },
    {
     "name": "stdout",
     "output_type": "stream",
     "text": [
      "Train Loss: 0.0009 | Train Acc: 82.50%\n",
      "Test  Loss: 0.2402 | Test Acc: 92.68%\n",
      "--------------------------------------------------\n",
      "[Epoch 223/500] :\n"
     ]
    },
    {
     "name": "stderr",
     "output_type": "stream",
     "text": [
      "100%|██████████| 391/391 [00:08<00:00, 43.61it/s]\n"
     ]
    },
    {
     "name": "stdout",
     "output_type": "stream",
     "text": [
      "Train Loss: 0.0008 | Train Acc: 95.00%\n",
      "Test  Loss: 0.2418 | Test Acc: 92.60%\n",
      "--------------------------------------------------\n",
      "[Epoch 224/500] :\n"
     ]
    },
    {
     "name": "stderr",
     "output_type": "stream",
     "text": [
      "100%|██████████| 391/391 [00:08<00:00, 43.67it/s]\n"
     ]
    },
    {
     "name": "stdout",
     "output_type": "stream",
     "text": [
      "Train Loss: 0.0010 | Train Acc: 87.50%\n",
      "Test  Loss: 0.2376 | Test Acc: 92.91%\n",
      "--------------------------------------------------\n",
      "[Epoch 225/500] :\n"
     ]
    },
    {
     "name": "stderr",
     "output_type": "stream",
     "text": [
      "100%|██████████| 391/391 [00:08<00:00, 43.64it/s]\n"
     ]
    },
    {
     "name": "stdout",
     "output_type": "stream",
     "text": [
      "Train Loss: 0.0010 | Train Acc: 85.00%\n",
      "Test  Loss: 0.2376 | Test Acc: 92.79%\n",
      "--------------------------------------------------\n",
      "[Epoch 226/500] :\n"
     ]
    },
    {
     "name": "stderr",
     "output_type": "stream",
     "text": [
      "100%|██████████| 391/391 [00:08<00:00, 45.31it/s]\n"
     ]
    },
    {
     "name": "stdout",
     "output_type": "stream",
     "text": [
      "Train Loss: 0.0008 | Train Acc: 86.25%\n",
      "Test  Loss: 0.2394 | Test Acc: 92.66%\n",
      "--------------------------------------------------\n",
      "[Epoch 227/500] :\n"
     ]
    },
    {
     "name": "stderr",
     "output_type": "stream",
     "text": [
      "100%|██████████| 391/391 [00:08<00:00, 45.01it/s]\n"
     ]
    },
    {
     "name": "stdout",
     "output_type": "stream",
     "text": [
      "Train Loss: 0.0005 | Train Acc: 95.00%\n",
      "Test  Loss: 0.2367 | Test Acc: 92.77%\n",
      "--------------------------------------------------\n",
      "[Epoch 228/500] :\n"
     ]
    },
    {
     "name": "stderr",
     "output_type": "stream",
     "text": [
      "100%|██████████| 391/391 [00:08<00:00, 43.91it/s]\n"
     ]
    },
    {
     "name": "stdout",
     "output_type": "stream",
     "text": [
      "Train Loss: 0.0007 | Train Acc: 85.00%\n",
      "Test  Loss: 0.2380 | Test Acc: 92.69%\n",
      "--------------------------------------------------\n",
      "[Epoch 229/500] :\n"
     ]
    },
    {
     "name": "stderr",
     "output_type": "stream",
     "text": [
      "100%|██████████| 391/391 [00:08<00:00, 44.29it/s]\n"
     ]
    },
    {
     "name": "stdout",
     "output_type": "stream",
     "text": [
      "Train Loss: 0.0007 | Train Acc: 88.75%\n",
      "Test  Loss: 0.2358 | Test Acc: 92.79%\n",
      "--------------------------------------------------\n",
      "[Epoch 230/500] :\n"
     ]
    },
    {
     "name": "stderr",
     "output_type": "stream",
     "text": [
      "100%|██████████| 391/391 [00:09<00:00, 43.03it/s]\n"
     ]
    },
    {
     "name": "stdout",
     "output_type": "stream",
     "text": [
      "Train Loss: 0.0010 | Train Acc: 85.00%\n",
      "Test  Loss: 0.2356 | Test Acc: 92.77%\n",
      "--------------------------------------------------\n",
      "[Epoch 231/500] :\n"
     ]
    },
    {
     "name": "stderr",
     "output_type": "stream",
     "text": [
      "100%|██████████| 391/391 [00:08<00:00, 44.46it/s]\n"
     ]
    },
    {
     "name": "stdout",
     "output_type": "stream",
     "text": [
      "Train Loss: 0.0013 | Train Acc: 78.75%\n",
      "Test  Loss: 0.2355 | Test Acc: 92.68%\n",
      "--------------------------------------------------\n",
      "[Epoch 232/500] :\n"
     ]
    },
    {
     "name": "stderr",
     "output_type": "stream",
     "text": [
      "100%|██████████| 391/391 [00:09<00:00, 42.07it/s]\n"
     ]
    },
    {
     "name": "stdout",
     "output_type": "stream",
     "text": [
      "Train Loss: 0.0005 | Train Acc: 92.50%\n",
      "Test  Loss: 0.2353 | Test Acc: 92.76%\n",
      "--------------------------------------------------\n",
      "[Epoch 233/500] :\n"
     ]
    },
    {
     "name": "stderr",
     "output_type": "stream",
     "text": [
      "100%|██████████| 391/391 [00:08<00:00, 45.10it/s]\n"
     ]
    },
    {
     "name": "stdout",
     "output_type": "stream",
     "text": [
      "Train Loss: 0.0005 | Train Acc: 95.00%\n",
      "Test  Loss: 0.2432 | Test Acc: 92.75%\n",
      "--------------------------------------------------\n",
      "[Epoch 234/500] :\n"
     ]
    },
    {
     "name": "stderr",
     "output_type": "stream",
     "text": [
      "100%|██████████| 391/391 [00:08<00:00, 45.35it/s]\n"
     ]
    },
    {
     "name": "stdout",
     "output_type": "stream",
     "text": [
      "Train Loss: 0.0006 | Train Acc: 92.50%\n",
      "Test  Loss: 0.2365 | Test Acc: 92.74%\n",
      "--------------------------------------------------\n",
      "[Epoch 235/500] :\n"
     ]
    },
    {
     "name": "stderr",
     "output_type": "stream",
     "text": [
      "100%|██████████| 391/391 [00:09<00:00, 41.99it/s]\n"
     ]
    },
    {
     "name": "stdout",
     "output_type": "stream",
     "text": [
      "Train Loss: 0.0012 | Train Acc: 82.50%\n",
      "Test  Loss: 0.2401 | Test Acc: 92.77%\n",
      "--------------------------------------------------\n",
      "[Epoch 236/500] :\n"
     ]
    },
    {
     "name": "stderr",
     "output_type": "stream",
     "text": [
      "100%|██████████| 391/391 [00:09<00:00, 42.84it/s]\n"
     ]
    },
    {
     "name": "stdout",
     "output_type": "stream",
     "text": [
      "Train Loss: 0.0007 | Train Acc: 92.50%\n",
      "Test  Loss: 0.2329 | Test Acc: 92.86%\n",
      "--------------------------------------------------\n",
      "[Epoch 237/500] :\n"
     ]
    },
    {
     "name": "stderr",
     "output_type": "stream",
     "text": [
      "100%|██████████| 391/391 [00:08<00:00, 45.36it/s]\n"
     ]
    },
    {
     "name": "stdout",
     "output_type": "stream",
     "text": [
      "Train Loss: 0.0010 | Train Acc: 87.50%\n",
      "Test  Loss: 0.2359 | Test Acc: 92.73%\n",
      "--------------------------------------------------\n",
      "[Epoch 238/500] :\n"
     ]
    },
    {
     "name": "stderr",
     "output_type": "stream",
     "text": [
      "100%|██████████| 391/391 [00:08<00:00, 44.73it/s]\n"
     ]
    },
    {
     "name": "stdout",
     "output_type": "stream",
     "text": [
      "Train Loss: 0.0005 | Train Acc: 93.75%\n",
      "Test  Loss: 0.2378 | Test Acc: 92.78%\n",
      "--------------------------------------------------\n",
      "[Epoch 239/500] :\n"
     ]
    },
    {
     "name": "stderr",
     "output_type": "stream",
     "text": [
      "100%|██████████| 391/391 [00:09<00:00, 43.04it/s]\n"
     ]
    },
    {
     "name": "stdout",
     "output_type": "stream",
     "text": [
      "Train Loss: 0.0011 | Train Acc: 87.50%\n",
      "Test  Loss: 0.2361 | Test Acc: 92.82%\n",
      "Early stop!! best_eval_loss = 0.230629503420448\n"
     ]
    }
   ],
   "source": [
    "Training = DoTraining(\n",
    "    model=model,\n",
    "    criterion=criterion,\n",
    "    optimizer=optimizer,\n",
    "    scaler=scaler,\n",
    "    scheduler=scheduler,\n",
    "    earlystopper=earlystopper,\n",
    "    device=device,\n",
    "    logs=logs,\n",
    "    file_path=file_path,\n",
    ")\n",
    "pre_epochs = len(Training.logs[\"train_loss\"])\n",
    "\n",
    "for epoch in range(NUM_EPOCHS):\n",
    "    now = epoch + 1 + pre_epochs\n",
    "    print(f\"[Epoch {epoch+1+pre_epochs}/{NUM_EPOCHS}] :\")\n",
    "\n",
    "    if DATASET == \"ImageNet2012\":\n",
    "        eval_loss = Training.SingleEpoch(train_dataloader, valid_dataloader)\n",
    "    else:\n",
    "        eval_loss = Training.SingleEpoch(\n",
    "            train_dataloader, valid_dataloader, test_dataloader\n",
    "        )\n",
    "\n",
    "    Training.Save()\n",
    "\n",
    "    if earlystopper.check(eval_loss) == True:\n",
    "        break\n",
    "\n",
    "    print(\"-\" * 50)"
   ]
  },
  {
   "cell_type": "code",
   "execution_count": 25,
   "metadata": {},
   "outputs": [
    {
     "data": {
      "image/png": "[encoded data removed]",
      "text/plain": [
       "<Figure size 1000x500 with 2 Axes>"
      ]
     },
     "metadata": {},
     "output_type": "display_data"
    }
   ],
   "source": [
    "view = LogViewer(logs)\n",
    "view.draw()"
   ]
  },
  {
   "cell_type": "code",
   "execution_count": 26,
   "metadata": {},
   "outputs": [
    {
     "name": "stdout",
     "output_type": "stream",
     "text": [
      "1 epoch: train_loss=0.0058, train_acc=0.1000, test_loss=2.3102, test_acc=0.0999, lr=0.1000\n",
      "2 epoch: train_loss=0.0049, train_acc=0.2375, test_loss=2.0019, test_acc=0.2486, lr=0.1000\n",
      "3 epoch: train_loss=0.0046, train_acc=0.3625, test_loss=1.7031, test_acc=0.3590, lr=0.1000\n",
      "4 epoch: train_loss=0.0044, train_acc=0.4125, test_loss=1.5687, test_acc=0.4162, lr=0.1000\n",
      "5 epoch: train_loss=0.0034, train_acc=0.5250, test_loss=1.1233, test_acc=0.6063, lr=0.1000\n",
      "6 epoch: train_loss=0.0028, train_acc=0.6125, test_loss=0.9828, test_acc=0.6489, lr=0.1000\n",
      "7 epoch: train_loss=0.0035, train_acc=0.5000, test_loss=0.9545, test_acc=0.6685, lr=0.1000\n",
      "8 epoch: train_loss=0.0029, train_acc=0.5500, test_loss=0.8997, test_acc=0.6835, lr=0.1000\n",
      "9 epoch: train_loss=0.0022, train_acc=0.6375, test_loss=0.8575, test_acc=0.7138, lr=0.1000\n",
      "10 epoch: train_loss=0.0024, train_acc=0.6750, test_loss=0.8224, test_acc=0.7224, lr=0.1000\n",
      "11 epoch: train_loss=0.0029, train_acc=0.6750, test_loss=0.7347, test_acc=0.7472, lr=0.1000\n",
      "12 epoch: train_loss=0.0025, train_acc=0.6500, test_loss=0.6586, test_acc=0.7725, lr=0.1000\n",
      "13 epoch: train_loss=0.0020, train_acc=0.7375, test_loss=0.7014, test_acc=0.7656, lr=0.1000\n",
      "14 epoch: train_loss=0.0024, train_acc=0.6625, test_loss=0.6883, test_acc=0.7712, lr=0.1000\n",
      "15 epoch: train_loss=0.0024, train_acc=0.6750, test_loss=0.8301, test_acc=0.7301, lr=0.1000\n",
      "16 epoch: train_loss=0.0020, train_acc=0.7375, test_loss=0.7015, test_acc=0.7614, lr=0.1000\n",
      "17 epoch: train_loss=0.0022, train_acc=0.7500, test_loss=0.7624, test_acc=0.7471, lr=0.1000\n",
      "18 epoch: train_loss=0.0019, train_acc=0.7125, test_loss=0.7845, test_acc=0.7476, lr=0.1000\n",
      "19 epoch: train_loss=0.0020, train_acc=0.6250, test_loss=0.5831, test_acc=0.8014, lr=0.1000\n",
      "20 epoch: train_loss=0.0019, train_acc=0.7750, test_loss=0.5774, test_acc=0.8056, lr=0.1000\n",
      "21 epoch: train_loss=0.0024, train_acc=0.6500, test_loss=0.7178, test_acc=0.7592, lr=0.1000\n",
      "22 epoch: train_loss=0.0024, train_acc=0.6750, test_loss=0.6869, test_acc=0.7744, lr=0.1000\n",
      "23 epoch: train_loss=0.0020, train_acc=0.6875, test_loss=0.5295, test_acc=0.8197, lr=0.1000\n",
      "24 epoch: train_loss=0.0017, train_acc=0.7625, test_loss=0.5257, test_acc=0.8213, lr=0.1000\n",
      "25 epoch: train_loss=0.0020, train_acc=0.6875, test_loss=0.6300, test_acc=0.7924, lr=0.1000\n",
      "26 epoch: train_loss=0.0017, train_acc=0.7750, test_loss=0.5245, test_acc=0.8224, lr=0.1000\n",
      "27 epoch: train_loss=0.0016, train_acc=0.7750, test_loss=0.5234, test_acc=0.8192, lr=0.1000\n",
      "28 epoch: train_loss=0.0017, train_acc=0.7625, test_loss=0.5081, test_acc=0.8285, lr=0.1000\n",
      "29 epoch: train_loss=0.0015, train_acc=0.8125, test_loss=0.5817, test_acc=0.8067, lr=0.1000\n",
      "30 epoch: train_loss=0.0019, train_acc=0.7125, test_loss=0.5550, test_acc=0.8151, lr=0.1000\n",
      "31 epoch: train_loss=0.0019, train_acc=0.8000, test_loss=0.5056, test_acc=0.8238, lr=0.1000\n",
      "32 epoch: train_loss=0.0016, train_acc=0.8125, test_loss=0.5520, test_acc=0.8167, lr=0.1000\n",
      "33 epoch: train_loss=0.0012, train_acc=0.8875, test_loss=0.5210, test_acc=0.8177, lr=0.1000\n",
      "34 epoch: train_loss=0.0024, train_acc=0.6875, test_loss=0.5093, test_acc=0.8305, lr=0.1000\n",
      "35 epoch: train_loss=0.0019, train_acc=0.7125, test_loss=0.4928, test_acc=0.8328, lr=0.1000\n",
      "36 epoch: train_loss=0.0023, train_acc=0.7375, test_loss=0.4814, test_acc=0.8341, lr=0.1000\n",
      "37 epoch: train_loss=0.0015, train_acc=0.8250, test_loss=0.5204, test_acc=0.8189, lr=0.1000\n",
      "38 epoch: train_loss=0.0016, train_acc=0.7750, test_loss=0.5367, test_acc=0.8226, lr=0.1000\n",
      "39 epoch: train_loss=0.0017, train_acc=0.7625, test_loss=0.5506, test_acc=0.8161, lr=0.1000\n",
      "40 epoch: train_loss=0.0018, train_acc=0.7250, test_loss=0.5830, test_acc=0.8070, lr=0.1000\n",
      "41 epoch: train_loss=0.0012, train_acc=0.8375, test_loss=0.5134, test_acc=0.8234, lr=0.1000\n",
      "42 epoch: train_loss=0.0016, train_acc=0.7750, test_loss=0.5052, test_acc=0.8295, lr=0.1000\n",
      "43 epoch: train_loss=0.0021, train_acc=0.7375, test_loss=0.4600, test_acc=0.8423, lr=0.1000\n",
      "44 epoch: train_loss=0.0015, train_acc=0.7750, test_loss=0.4470, test_acc=0.8529, lr=0.1000\n",
      "45 epoch: train_loss=0.0014, train_acc=0.8125, test_loss=0.4760, test_acc=0.8380, lr=0.1000\n",
      "46 epoch: train_loss=0.0015, train_acc=0.8500, test_loss=0.5521, test_acc=0.8205, lr=0.1000\n",
      "47 epoch: train_loss=0.0015, train_acc=0.7875, test_loss=0.4410, test_acc=0.8455, lr=0.1000\n",
      "48 epoch: train_loss=0.0014, train_acc=0.7875, test_loss=0.4452, test_acc=0.8498, lr=0.1000\n",
      "49 epoch: train_loss=0.0018, train_acc=0.7000, test_loss=0.6912, test_acc=0.7699, lr=0.1000\n",
      "50 epoch: train_loss=0.0012, train_acc=0.8250, test_loss=0.4246, test_acc=0.8558, lr=0.1000\n",
      "51 epoch: train_loss=0.0013, train_acc=0.8375, test_loss=0.5325, test_acc=0.8255, lr=0.1000\n",
      "52 epoch: train_loss=0.0016, train_acc=0.7750, test_loss=0.4369, test_acc=0.8476, lr=0.1000\n",
      "53 epoch: train_loss=0.0017, train_acc=0.7375, test_loss=0.4933, test_acc=0.8371, lr=0.1000\n",
      "54 epoch: train_loss=0.0014, train_acc=0.7875, test_loss=0.4668, test_acc=0.8446, lr=0.1000\n",
      "55 epoch: train_loss=0.0020, train_acc=0.7125, test_loss=0.4006, test_acc=0.8692, lr=0.1000\n",
      "56 epoch: train_loss=0.0013, train_acc=0.8125, test_loss=0.4549, test_acc=0.8488, lr=0.1000\n",
      "57 epoch: train_loss=0.0018, train_acc=0.7500, test_loss=0.5207, test_acc=0.8252, lr=0.1000\n",
      "58 epoch: train_loss=0.0017, train_acc=0.7750, test_loss=0.4256, test_acc=0.8561, lr=0.1000\n",
      "59 epoch: train_loss=0.0018, train_acc=0.7500, test_loss=0.4544, test_acc=0.8440, lr=0.1000\n",
      "60 epoch: train_loss=0.0020, train_acc=0.7375, test_loss=0.4343, test_acc=0.8517, lr=0.1000\n",
      "61 epoch: train_loss=0.0015, train_acc=0.7625, test_loss=0.5360, test_acc=0.8208, lr=0.1000\n",
      "62 epoch: train_loss=0.0012, train_acc=0.8875, test_loss=0.4348, test_acc=0.8520, lr=0.1000\n",
      "63 epoch: train_loss=0.0015, train_acc=0.8250, test_loss=0.4742, test_acc=0.8397, lr=0.1000\n",
      "64 epoch: train_loss=0.0011, train_acc=0.8625, test_loss=0.4173, test_acc=0.8552, lr=0.1000\n",
      "65 epoch: train_loss=0.0015, train_acc=0.8125, test_loss=0.3936, test_acc=0.8660, lr=0.1000\n",
      "66 epoch: train_loss=0.0013, train_acc=0.8000, test_loss=0.4091, test_acc=0.8599, lr=0.1000\n",
      "67 epoch: train_loss=0.0016, train_acc=0.7125, test_loss=0.4638, test_acc=0.8406, lr=0.1000\n",
      "68 epoch: train_loss=0.0016, train_acc=0.7000, test_loss=0.4542, test_acc=0.8494, lr=0.1000\n",
      "69 epoch: train_loss=0.0012, train_acc=0.8375, test_loss=0.4005, test_acc=0.8591, lr=0.1000\n",
      "70 epoch: train_loss=0.0014, train_acc=0.8125, test_loss=0.3839, test_acc=0.8685, lr=0.1000\n",
      "71 epoch: train_loss=0.0015, train_acc=0.7625, test_loss=0.4197, test_acc=0.8531, lr=0.1000\n",
      "72 epoch: train_loss=0.0017, train_acc=0.7500, test_loss=0.3895, test_acc=0.8636, lr=0.1000\n",
      "73 epoch: train_loss=0.0016, train_acc=0.7250, test_loss=0.4459, test_acc=0.8514, lr=0.1000\n",
      "74 epoch: train_loss=0.0021, train_acc=0.7250, test_loss=0.3675, test_acc=0.8741, lr=0.1000\n",
      "75 epoch: train_loss=0.0017, train_acc=0.7500, test_loss=0.3936, test_acc=0.8679, lr=0.1000\n",
      "76 epoch: train_loss=0.0017, train_acc=0.7375, test_loss=0.4592, test_acc=0.8465, lr=0.1000\n",
      "77 epoch: train_loss=0.0019, train_acc=0.7250, test_loss=0.4866, test_acc=0.8360, lr=0.1000\n",
      "78 epoch: train_loss=0.0013, train_acc=0.8625, test_loss=0.6239, test_acc=0.7977, lr=0.1000\n",
      "79 epoch: train_loss=0.0013, train_acc=0.8250, test_loss=0.4245, test_acc=0.8565, lr=0.1000\n",
      "80 epoch: train_loss=0.0014, train_acc=0.8000, test_loss=0.4069, test_acc=0.8648, lr=0.1000\n",
      "81 epoch: train_loss=0.0015, train_acc=0.8125, test_loss=0.3748, test_acc=0.8736, lr=0.1000\n",
      "82 epoch: train_loss=0.0014, train_acc=0.8000, test_loss=0.4147, test_acc=0.8622, lr=0.1000\n",
      "83 epoch: train_loss=0.0011, train_acc=0.8875, test_loss=0.2831, test_acc=0.9030, lr=0.0100\n",
      "84 epoch: train_loss=0.0011, train_acc=0.8500, test_loss=0.2701, test_acc=0.9056, lr=0.0100\n",
      "85 epoch: train_loss=0.0013, train_acc=0.8250, test_loss=0.2607, test_acc=0.9103, lr=0.0100\n",
      "86 epoch: train_loss=0.0013, train_acc=0.8125, test_loss=0.2662, test_acc=0.9073, lr=0.0100\n",
      "87 epoch: train_loss=0.0014, train_acc=0.8125, test_loss=0.2650, test_acc=0.9106, lr=0.0100\n",
      "88 epoch: train_loss=0.0013, train_acc=0.7875, test_loss=0.2509, test_acc=0.9140, lr=0.0100\n",
      "89 epoch: train_loss=0.0008, train_acc=0.8875, test_loss=0.2642, test_acc=0.9122, lr=0.0100\n",
      "90 epoch: train_loss=0.0012, train_acc=0.8375, test_loss=0.2576, test_acc=0.9146, lr=0.0100\n",
      "91 epoch: train_loss=0.0009, train_acc=0.8625, test_loss=0.2588, test_acc=0.9145, lr=0.0100\n",
      "92 epoch: train_loss=0.0008, train_acc=0.8875, test_loss=0.2499, test_acc=0.9162, lr=0.0100\n",
      "93 epoch: train_loss=0.0014, train_acc=0.8000, test_loss=0.2525, test_acc=0.9158, lr=0.0100\n",
      "94 epoch: train_loss=0.0011, train_acc=0.8500, test_loss=0.2541, test_acc=0.9147, lr=0.0100\n",
      "95 epoch: train_loss=0.0009, train_acc=0.8875, test_loss=0.2601, test_acc=0.9155, lr=0.0100\n",
      "96 epoch: train_loss=0.0009, train_acc=0.8875, test_loss=0.2607, test_acc=0.9149, lr=0.0100\n",
      "97 epoch: train_loss=0.0013, train_acc=0.8250, test_loss=0.2528, test_acc=0.9151, lr=0.0100\n",
      "98 epoch: train_loss=0.0011, train_acc=0.8000, test_loss=0.2492, test_acc=0.9196, lr=0.0100\n",
      "99 epoch: train_loss=0.0009, train_acc=0.8750, test_loss=0.2565, test_acc=0.9136, lr=0.0100\n",
      "100 epoch: train_loss=0.0006, train_acc=0.9250, test_loss=0.2655, test_acc=0.9129, lr=0.0100\n",
      "101 epoch: train_loss=0.0011, train_acc=0.8500, test_loss=0.2538, test_acc=0.9161, lr=0.0100\n",
      "102 epoch: train_loss=0.0008, train_acc=0.9000, test_loss=0.2511, test_acc=0.9174, lr=0.0100\n",
      "103 epoch: train_loss=0.0009, train_acc=0.8500, test_loss=0.2539, test_acc=0.9166, lr=0.0100\n",
      "104 epoch: train_loss=0.0009, train_acc=0.8750, test_loss=0.2524, test_acc=0.9158, lr=0.0100\n",
      "105 epoch: train_loss=0.0008, train_acc=0.9000, test_loss=0.2455, test_acc=0.9195, lr=0.0100\n",
      "106 epoch: train_loss=0.0008, train_acc=0.9000, test_loss=0.2541, test_acc=0.9163, lr=0.0100\n",
      "107 epoch: train_loss=0.0008, train_acc=0.9125, test_loss=0.2615, test_acc=0.9123, lr=0.0100\n",
      "108 epoch: train_loss=0.0008, train_acc=0.9000, test_loss=0.2588, test_acc=0.9171, lr=0.0100\n",
      "109 epoch: train_loss=0.0011, train_acc=0.8875, test_loss=0.2505, test_acc=0.9166, lr=0.0100\n",
      "110 epoch: train_loss=0.0008, train_acc=0.9000, test_loss=0.2605, test_acc=0.9162, lr=0.0100\n",
      "111 epoch: train_loss=0.0010, train_acc=0.8875, test_loss=0.2524, test_acc=0.9162, lr=0.0100\n",
      "112 epoch: train_loss=0.0010, train_acc=0.8000, test_loss=0.2614, test_acc=0.9168, lr=0.0100\n",
      "113 epoch: train_loss=0.0010, train_acc=0.8750, test_loss=0.2608, test_acc=0.9170, lr=0.0100\n",
      "114 epoch: train_loss=0.0011, train_acc=0.8375, test_loss=0.2501, test_acc=0.9177, lr=0.0100\n",
      "115 epoch: train_loss=0.0012, train_acc=0.8125, test_loss=0.2478, test_acc=0.9196, lr=0.0100\n",
      "116 epoch: train_loss=0.0011, train_acc=0.8375, test_loss=0.2526, test_acc=0.9166, lr=0.0100\n",
      "117 epoch: train_loss=0.0008, train_acc=0.9125, test_loss=0.2610, test_acc=0.9143, lr=0.0100\n",
      "118 epoch: train_loss=0.0013, train_acc=0.8375, test_loss=0.2561, test_acc=0.9171, lr=0.0100\n",
      "119 epoch: train_loss=0.0012, train_acc=0.8250, test_loss=0.2478, test_acc=0.9215, lr=0.0100\n",
      "120 epoch: train_loss=0.0008, train_acc=0.8875, test_loss=0.2571, test_acc=0.9150, lr=0.0100\n",
      "121 epoch: train_loss=0.0006, train_acc=0.9125, test_loss=0.2591, test_acc=0.9170, lr=0.0100\n",
      "122 epoch: train_loss=0.0006, train_acc=0.9125, test_loss=0.2602, test_acc=0.9172, lr=0.0100\n",
      "123 epoch: train_loss=0.0010, train_acc=0.8375, test_loss=0.2526, test_acc=0.9213, lr=0.0100\n",
      "124 epoch: train_loss=0.0010, train_acc=0.8875, test_loss=0.2396, test_acc=0.9245, lr=0.0010\n",
      "125 epoch: train_loss=0.0011, train_acc=0.8500, test_loss=0.2356, test_acc=0.9249, lr=0.0010\n",
      "126 epoch: train_loss=0.0008, train_acc=0.9000, test_loss=0.2337, test_acc=0.9247, lr=0.0010\n",
      "127 epoch: train_loss=0.0009, train_acc=0.9000, test_loss=0.2371, test_acc=0.9248, lr=0.0010\n",
      "128 epoch: train_loss=0.0005, train_acc=0.8875, test_loss=0.2387, test_acc=0.9241, lr=0.0010\n",
      "129 epoch: train_loss=0.0008, train_acc=0.9000, test_loss=0.2339, test_acc=0.9255, lr=0.0010\n",
      "130 epoch: train_loss=0.0010, train_acc=0.8750, test_loss=0.2365, test_acc=0.9246, lr=0.0010\n",
      "131 epoch: train_loss=0.0009, train_acc=0.8750, test_loss=0.2363, test_acc=0.9262, lr=0.0010\n",
      "132 epoch: train_loss=0.0007, train_acc=0.8750, test_loss=0.2382, test_acc=0.9256, lr=0.0010\n",
      "133 epoch: train_loss=0.0010, train_acc=0.8625, test_loss=0.2372, test_acc=0.9260, lr=0.0010\n",
      "134 epoch: train_loss=0.0009, train_acc=0.8500, test_loss=0.2331, test_acc=0.9260, lr=0.0010\n",
      "135 epoch: train_loss=0.0009, train_acc=0.8250, test_loss=0.2355, test_acc=0.9256, lr=0.0010\n",
      "136 epoch: train_loss=0.0007, train_acc=0.9000, test_loss=0.2374, test_acc=0.9255, lr=0.0010\n",
      "137 epoch: train_loss=0.0010, train_acc=0.8875, test_loss=0.2365, test_acc=0.9255, lr=0.0010\n",
      "138 epoch: train_loss=0.0006, train_acc=0.9125, test_loss=0.2339, test_acc=0.9242, lr=0.0010\n",
      "139 epoch: train_loss=0.0010, train_acc=0.8750, test_loss=0.2334, test_acc=0.9263, lr=0.0010\n",
      "140 epoch: train_loss=0.0008, train_acc=0.9000, test_loss=0.2356, test_acc=0.9261, lr=0.0010\n",
      "141 epoch: train_loss=0.0008, train_acc=0.8750, test_loss=0.2348, test_acc=0.9276, lr=0.0010\n",
      "142 epoch: train_loss=0.0007, train_acc=0.9000, test_loss=0.2315, test_acc=0.9266, lr=0.0010\n",
      "143 epoch: train_loss=0.0006, train_acc=0.9125, test_loss=0.2342, test_acc=0.9263, lr=0.0010\n",
      "144 epoch: train_loss=0.0009, train_acc=0.8750, test_loss=0.2318, test_acc=0.9266, lr=0.0010\n",
      "145 epoch: train_loss=0.0012, train_acc=0.8500, test_loss=0.2362, test_acc=0.9268, lr=0.0010\n",
      "146 epoch: train_loss=0.0009, train_acc=0.9250, test_loss=0.2312, test_acc=0.9272, lr=0.0010\n",
      "147 epoch: train_loss=0.0013, train_acc=0.7750, test_loss=0.2341, test_acc=0.9256, lr=0.0010\n",
      "148 epoch: train_loss=0.0008, train_acc=0.8875, test_loss=0.2320, test_acc=0.9257, lr=0.0010\n",
      "149 epoch: train_loss=0.0005, train_acc=0.9500, test_loss=0.2342, test_acc=0.9253, lr=0.0010\n",
      "150 epoch: train_loss=0.0005, train_acc=0.9500, test_loss=0.2376, test_acc=0.9257, lr=0.0010\n",
      "151 epoch: train_loss=0.0008, train_acc=0.9000, test_loss=0.2392, test_acc=0.9255, lr=0.0010\n",
      "152 epoch: train_loss=0.0004, train_acc=0.9625, test_loss=0.2355, test_acc=0.9261, lr=0.0010\n",
      "153 epoch: train_loss=0.0006, train_acc=0.9000, test_loss=0.2312, test_acc=0.9276, lr=0.0010\n",
      "154 epoch: train_loss=0.0008, train_acc=0.9375, test_loss=0.2362, test_acc=0.9264, lr=0.0010\n",
      "155 epoch: train_loss=0.0010, train_acc=0.8750, test_loss=0.2317, test_acc=0.9282, lr=0.0010\n",
      "156 epoch: train_loss=0.0008, train_acc=0.8750, test_loss=0.2459, test_acc=0.9256, lr=0.0010\n",
      "157 epoch: train_loss=0.0008, train_acc=0.9000, test_loss=0.2383, test_acc=0.9259, lr=0.0010\n",
      "158 epoch: train_loss=0.0005, train_acc=0.9375, test_loss=0.2307, test_acc=0.9274, lr=0.0010\n",
      "159 epoch: train_loss=0.0007, train_acc=0.8875, test_loss=0.2306, test_acc=0.9263, lr=0.0010\n",
      "160 epoch: train_loss=0.0009, train_acc=0.8750, test_loss=0.2320, test_acc=0.9266, lr=0.0010\n",
      "161 epoch: train_loss=0.0009, train_acc=0.9125, test_loss=0.2348, test_acc=0.9272, lr=0.0010\n",
      "162 epoch: train_loss=0.0006, train_acc=0.9125, test_loss=0.2313, test_acc=0.9260, lr=0.0010\n",
      "163 epoch: train_loss=0.0010, train_acc=0.8625, test_loss=0.2329, test_acc=0.9267, lr=0.0010\n",
      "164 epoch: train_loss=0.0006, train_acc=0.9125, test_loss=0.2337, test_acc=0.9270, lr=0.0010\n",
      "165 epoch: train_loss=0.0010, train_acc=0.8500, test_loss=0.2341, test_acc=0.9271, lr=0.0010\n",
      "166 epoch: train_loss=0.0008, train_acc=0.8750, test_loss=0.2332, test_acc=0.9279, lr=0.0010\n",
      "167 epoch: train_loss=0.0007, train_acc=0.8875, test_loss=0.2333, test_acc=0.9270, lr=0.0010\n",
      "168 epoch: train_loss=0.0006, train_acc=0.9500, test_loss=0.2352, test_acc=0.9261, lr=0.0010\n",
      "169 epoch: train_loss=0.0004, train_acc=0.9500, test_loss=0.2339, test_acc=0.9265, lr=0.0010\n",
      "170 epoch: train_loss=0.0006, train_acc=0.9250, test_loss=0.2330, test_acc=0.9268, lr=0.0010\n",
      "171 epoch: train_loss=0.0007, train_acc=0.9125, test_loss=0.2348, test_acc=0.9263, lr=0.0010\n",
      "172 epoch: train_loss=0.0008, train_acc=0.9000, test_loss=0.2364, test_acc=0.9258, lr=0.0010\n",
      "173 epoch: train_loss=0.0009, train_acc=0.8875, test_loss=0.2373, test_acc=0.9268, lr=0.0010\n",
      "174 epoch: train_loss=0.0006, train_acc=0.9000, test_loss=0.2340, test_acc=0.9254, lr=0.0010\n",
      "175 epoch: train_loss=0.0009, train_acc=0.8500, test_loss=0.2367, test_acc=0.9250, lr=0.0010\n",
      "176 epoch: train_loss=0.0006, train_acc=0.9000, test_loss=0.2378, test_acc=0.9250, lr=0.0010\n",
      "177 epoch: train_loss=0.0008, train_acc=0.9125, test_loss=0.2372, test_acc=0.9250, lr=0.0010\n",
      "178 epoch: train_loss=0.0011, train_acc=0.8250, test_loss=0.2342, test_acc=0.9258, lr=0.0010\n",
      "179 epoch: train_loss=0.0013, train_acc=0.8250, test_loss=0.2362, test_acc=0.9262, lr=0.0010\n",
      "180 epoch: train_loss=0.0004, train_acc=0.9500, test_loss=0.2356, test_acc=0.9252, lr=0.0010\n",
      "181 epoch: train_loss=0.0010, train_acc=0.8500, test_loss=0.2362, test_acc=0.9260, lr=0.0010\n",
      "182 epoch: train_loss=0.0008, train_acc=0.8875, test_loss=0.2440, test_acc=0.9256, lr=0.0010\n",
      "183 epoch: train_loss=0.0009, train_acc=0.8875, test_loss=0.2390, test_acc=0.9266, lr=0.0010\n",
      "184 epoch: train_loss=0.0007, train_acc=0.9000, test_loss=0.2327, test_acc=0.9276, lr=0.0010\n",
      "185 epoch: train_loss=0.0013, train_acc=0.8250, test_loss=0.2329, test_acc=0.9275, lr=0.0010\n",
      "186 epoch: train_loss=0.0006, train_acc=0.9375, test_loss=0.2393, test_acc=0.9266, lr=0.0010\n",
      "187 epoch: train_loss=0.0010, train_acc=0.8625, test_loss=0.2361, test_acc=0.9252, lr=0.0010\n",
      "188 epoch: train_loss=0.0008, train_acc=0.9000, test_loss=0.2343, test_acc=0.9260, lr=0.0010\n",
      "189 epoch: train_loss=0.0009, train_acc=0.8750, test_loss=0.2321, test_acc=0.9261, lr=0.0010\n",
      "190 epoch: train_loss=0.0005, train_acc=0.9125, test_loss=0.2364, test_acc=0.9261, lr=0.0010\n",
      "191 epoch: train_loss=0.0010, train_acc=0.8500, test_loss=0.2323, test_acc=0.9274, lr=0.0010\n",
      "192 epoch: train_loss=0.0009, train_acc=0.8750, test_loss=0.2381, test_acc=0.9265, lr=0.0010\n",
      "193 epoch: train_loss=0.0013, train_acc=0.8625, test_loss=0.2356, test_acc=0.9261, lr=0.0010\n",
      "194 epoch: train_loss=0.0007, train_acc=0.8875, test_loss=0.2341, test_acc=0.9256, lr=0.0010\n",
      "195 epoch: train_loss=0.0006, train_acc=0.9375, test_loss=0.2335, test_acc=0.9271, lr=0.0010\n",
      "196 epoch: train_loss=0.0007, train_acc=0.9125, test_loss=0.2406, test_acc=0.9263, lr=0.0010\n",
      "197 epoch: train_loss=0.0010, train_acc=0.8250, test_loss=0.2363, test_acc=0.9258, lr=0.0010\n",
      "198 epoch: train_loss=0.0012, train_acc=0.8250, test_loss=0.2360, test_acc=0.9270, lr=0.0010\n",
      "199 epoch: train_loss=0.0011, train_acc=0.9000, test_loss=0.2346, test_acc=0.9271, lr=0.0010\n",
      "200 epoch: train_loss=0.0010, train_acc=0.8625, test_loss=0.2376, test_acc=0.9268, lr=0.0010\n",
      "201 epoch: train_loss=0.0009, train_acc=0.8875, test_loss=0.2413, test_acc=0.9260, lr=0.0010\n",
      "202 epoch: train_loss=0.0006, train_acc=0.9000, test_loss=0.2361, test_acc=0.9273, lr=0.0010\n",
      "203 epoch: train_loss=0.0007, train_acc=0.9125, test_loss=0.2341, test_acc=0.9279, lr=0.0010\n",
      "204 epoch: train_loss=0.0007, train_acc=0.8875, test_loss=0.2348, test_acc=0.9277, lr=0.0010\n",
      "205 epoch: train_loss=0.0010, train_acc=0.8625, test_loss=0.2384, test_acc=0.9262, lr=0.0010\n",
      "206 epoch: train_loss=0.0006, train_acc=0.8875, test_loss=0.2362, test_acc=0.9279, lr=0.0010\n",
      "207 epoch: train_loss=0.0010, train_acc=0.8625, test_loss=0.2377, test_acc=0.9273, lr=0.0010\n",
      "208 epoch: train_loss=0.0008, train_acc=0.9125, test_loss=0.2352, test_acc=0.9275, lr=0.0010\n",
      "209 epoch: train_loss=0.0008, train_acc=0.8875, test_loss=0.2374, test_acc=0.9265, lr=0.0010\n",
      "210 epoch: train_loss=0.0011, train_acc=0.8875, test_loss=0.2357, test_acc=0.9277, lr=0.0010\n",
      "211 epoch: train_loss=0.0003, train_acc=0.9750, test_loss=0.2407, test_acc=0.9271, lr=0.0010\n",
      "212 epoch: train_loss=0.0008, train_acc=0.8750, test_loss=0.2439, test_acc=0.9257, lr=0.0010\n",
      "213 epoch: train_loss=0.0008, train_acc=0.8750, test_loss=0.2384, test_acc=0.9264, lr=0.0010\n",
      "214 epoch: train_loss=0.0006, train_acc=0.9125, test_loss=0.2349, test_acc=0.9273, lr=0.0010\n",
      "215 epoch: train_loss=0.0011, train_acc=0.8500, test_loss=0.2367, test_acc=0.9275, lr=0.0010\n",
      "216 epoch: train_loss=0.0011, train_acc=0.8625, test_loss=0.2365, test_acc=0.9270, lr=0.0010\n",
      "217 epoch: train_loss=0.0009, train_acc=0.9125, test_loss=0.2375, test_acc=0.9270, lr=0.0010\n",
      "218 epoch: train_loss=0.0006, train_acc=0.9375, test_loss=0.2338, test_acc=0.9272, lr=0.0010\n",
      "219 epoch: train_loss=0.0009, train_acc=0.9000, test_loss=0.2360, test_acc=0.9275, lr=0.0010\n",
      "220 epoch: train_loss=0.0010, train_acc=0.8875, test_loss=0.2354, test_acc=0.9271, lr=0.0010\n",
      "221 epoch: train_loss=0.0006, train_acc=0.9250, test_loss=0.2337, test_acc=0.9271, lr=0.0010\n",
      "222 epoch: train_loss=0.0009, train_acc=0.8250, test_loss=0.2402, test_acc=0.9268, lr=0.0010\n",
      "223 epoch: train_loss=0.0008, train_acc=0.9500, test_loss=0.2418, test_acc=0.9260, lr=0.0010\n",
      "224 epoch: train_loss=0.0010, train_acc=0.8750, test_loss=0.2376, test_acc=0.9291, lr=0.0010\n",
      "225 epoch: train_loss=0.0010, train_acc=0.8500, test_loss=0.2376, test_acc=0.9279, lr=0.0010\n",
      "226 epoch: train_loss=0.0008, train_acc=0.8625, test_loss=0.2394, test_acc=0.9266, lr=0.0010\n",
      "227 epoch: train_loss=0.0005, train_acc=0.9500, test_loss=0.2367, test_acc=0.9277, lr=0.0010\n",
      "228 epoch: train_loss=0.0007, train_acc=0.8500, test_loss=0.2380, test_acc=0.9269, lr=0.0010\n",
      "229 epoch: train_loss=0.0007, train_acc=0.8875, test_loss=0.2358, test_acc=0.9279, lr=0.0010\n",
      "230 epoch: train_loss=0.0010, train_acc=0.8500, test_loss=0.2356, test_acc=0.9277, lr=0.0010\n",
      "231 epoch: train_loss=0.0013, train_acc=0.7875, test_loss=0.2355, test_acc=0.9268, lr=0.0010\n",
      "232 epoch: train_loss=0.0005, train_acc=0.9250, test_loss=0.2353, test_acc=0.9276, lr=0.0010\n",
      "233 epoch: train_loss=0.0005, train_acc=0.9500, test_loss=0.2432, test_acc=0.9275, lr=0.0010\n",
      "234 epoch: train_loss=0.0006, train_acc=0.9250, test_loss=0.2365, test_acc=0.9274, lr=0.0010\n",
      "235 epoch: train_loss=0.0012, train_acc=0.8250, test_loss=0.2401, test_acc=0.9277, lr=0.0010\n",
      "236 epoch: train_loss=0.0007, train_acc=0.9250, test_loss=0.2329, test_acc=0.9286, lr=0.0010\n",
      "237 epoch: train_loss=0.0010, train_acc=0.8750, test_loss=0.2359, test_acc=0.9273, lr=0.0010\n",
      "238 epoch: train_loss=0.0005, train_acc=0.9375, test_loss=0.2378, test_acc=0.9278, lr=0.0010\n",
      "239 epoch: train_loss=0.0011, train_acc=0.8750, test_loss=0.2361, test_acc=0.9282, lr=0.0010\n"
     ]
    }
   ],
   "source": [
    "view.print_all()"
   ]
  },
  {
   "cell_type": "code",
   "execution_count": 22,
   "metadata": {},
   "outputs": [],
   "source": [
    "# CHECK = 5410\n",
    "# logs[\"train_loss\"] = logs[\"train_loss\"][:CHECK]\n",
    "# logs[\"train_acc\"] = logs[\"train_acc\"][:CHECK]\n",
    "# logs[\"valid_loss\"] = logs[\"valid_loss\"][:CHECK]\n",
    "# logs[\"valid_acc\"] = logs[\"valid_acc\"][:CHECK]\n",
    "# logs[\"test_loss\"] = logs[\"test_loss\"][:CHECK]\n",
    "# logs[\"test_acc\"] = logs[\"test_acc\"][:CHECK]\n",
    "# model.load_state_dict(torch.load(f\"models/{file_path}.pth\"))"
   ]
  },
  {
   "cell_type": "code",
   "execution_count": 23,
   "metadata": {},
   "outputs": [
    {
     "data": {
      "text/plain": [
       "80"
      ]
     },
     "execution_count": 23,
     "metadata": {},
     "output_type": "execute_result"
    }
   ],
   "source": [
    "earlystopper.early_stop_counter"
   ]
  },
  {
   "cell_type": "code",
   "execution_count": 24,
   "metadata": {},
   "outputs": [
    {
     "data": {
      "text/plain": [
       "torch.optim.lr_scheduler.MultiStepLR"
      ]
     },
     "execution_count": 24,
     "metadata": {},
     "output_type": "execute_result"
    }
   ],
   "source": [
    "scheduler.__class__"
   ]
  }
 ],
 "metadata": {
  "kernelspec": {
   "display_name": "base",
   "language": "python",
   "name": "python3"
  },
  "language_info": {
   "codemirror_mode": {
    "name": "ipython",
    "version": 3
   },
   "file_extension": ".py",
   "mimetype": "text/x-python",
   "name": "python",
   "nbconvert_exporter": "python",
   "pygments_lexer": "ipython3",
   "version": "3.11.5"
  }
 },
 "nbformat": 4,
 "nbformat_minor": 2
}
