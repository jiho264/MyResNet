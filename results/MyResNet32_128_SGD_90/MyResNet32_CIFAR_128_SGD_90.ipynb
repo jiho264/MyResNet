{
 "cells": [
  {
   "cell_type": "markdown",
   "metadata": {},
   "source": [
    "# Import"
   ]
  },
  {
   "cell_type": "code",
   "execution_count": 1,
   "metadata": {},
   "outputs": [],
   "source": [
    "import torch\n",
    "from torch import nn\n",
    "from torch.optim.lr_scheduler import ReduceLROnPlateau, MultiStepLR\n",
    "from torch.utils.data import DataLoader\n",
    "from fvcore.nn import FlopCountAnalysis, flop_count_table\n",
    "import numpy as np\n",
    "import matplotlib.pyplot as plt\n",
    "import os\n",
    "\n",
    "####################################################\n",
    "from src.Mydataloader import LoadDataset\n",
    "from src.Mymodel import MyResNet34\n",
    "from src.Mymodel import MyResNet_CIFAR\n",
    "from src.Mytraining import DoTraining\n",
    "from src.Earlystopper import EarlyStopper\n",
    "from src.LogViewer import LogViewer"
   ]
  },
  {
   "cell_type": "markdown",
   "metadata": {},
   "source": [
    "# Setup"
   ]
  },
  {
   "cell_type": "code",
   "execution_count": 2,
   "metadata": {},
   "outputs": [],
   "source": [
    "\"\"\"Dataset selection\"\"\"\n",
    "DATASET = \"CIFAR10\"\n",
    "# DATASET = \"CIFAR100\"\n",
    "# DATASET = \"ImageNet2012\"\n",
    "\n",
    "\"\"\"Model selection for CIFAR\"\"\"\n",
    "NUM_LAYERS_LEVEL = 5\n",
    "\n",
    "\"\"\"Dataset parameters\"\"\"\n",
    "BATCH = 128\n",
    "SHUFFLE = True\n",
    "NUMOFWORKERS = 8\n",
    "PIN_MEMORY = True\n",
    "SPLIT_RATIO = 0.9\n",
    "\n",
    "\"\"\"optimizer parameters\"\"\"\n",
    "OPTIMIZER = \"SGD\"\n",
    "# OPTIMIZER = \"Adam\"\n",
    "# OPTIMIZER = \"Adam_decay\"\n",
    "\n",
    "\"\"\"Learning rate scheduler parameters\"\"\"\n",
    "# LOAD_BEFORE_TRAINING = False\n",
    "LOAD_BEFORE_TRAINING = True\n",
    "NUM_EPOCHS = 500\n",
    "# scheduler_patience_mapping = {\"CIFAR10\": 200, \"CIFAR100\": 200, \"ImageNet2012\": 30}\n",
    "\n",
    "\"\"\"Early stopping parameters\"\"\"\n",
    "EARLYSTOPPINGPATIENCE = 90\n",
    "file_path = \"\"\n",
    "if DATASET == \"ImageNet2012\":\n",
    "    file_path = f\"{DATASET}/MyResNet34_{BATCH}_{OPTIMIZER}\"\n",
    "else:\n",
    "    file_path = f\"{DATASET}/MyResNet{NUM_LAYERS_LEVEL*6+2}_{BATCH}_{OPTIMIZER}\"\n",
    "\n",
    "if SPLIT_RATIO != 0:\n",
    "    file_path += f\"_{int(SPLIT_RATIO*100)}\""
   ]
  },
  {
   "cell_type": "code",
   "execution_count": 3,
   "metadata": {},
   "outputs": [
    {
     "data": {
      "text/plain": [
       "'CIFAR10/MyResNet32_128_SGD_90'"
      ]
     },
     "execution_count": 3,
     "metadata": {},
     "output_type": "execute_result"
    }
   ],
   "source": [
    "file_path"
   ]
  },
  {
   "cell_type": "markdown",
   "metadata": {},
   "source": [
    "# Loading the dataset"
   ]
  },
  {
   "cell_type": "markdown",
   "metadata": {},
   "source": [
    "## Define Dateloader"
   ]
  },
  {
   "cell_type": "code",
   "execution_count": 4,
   "metadata": {},
   "outputs": [
    {
     "name": "stderr",
     "output_type": "stream",
     "text": [
      "/home/lee/anaconda3/lib/python3.11/site-packages/torchvision/transforms/v2/_deprecated.py:43: UserWarning: The transform `ToTensor()` is deprecated and will be removed in a future release. Instead, please use `v2.Compose([v2.ToImage(), v2.ToDtype(torch.float32, scale=True)])`.\n",
      "  warnings.warn(\n"
     ]
    },
    {
     "name": "stdout",
     "output_type": "stream",
     "text": [
      "-----------------------------------------------------------------------\n",
      "Dataset :  CIFAR10\n",
      "- Length of Train Set :  45000\n",
      "- Length of Valid Set :  5000\n",
      "- Length of Test Set :  10000\n",
      "- Count of Classes :  10\n",
      "-----------------------------------------------------------------------\n"
     ]
    }
   ],
   "source": [
    "tmp = LoadDataset(root=\"data\", seceted_dataset=DATASET, split_ratio=SPLIT_RATIO)\n",
    "train_data, valid_data, test_data, COUNT_OF_CLASSES = tmp.Unpack()"
   ]
  },
  {
   "cell_type": "code",
   "execution_count": 5,
   "metadata": {},
   "outputs": [
    {
     "name": "stdout",
     "output_type": "stream",
     "text": [
      "train.transforms = Compose(\n",
      "      AutoAugment(interpolation=InterpolationMode.NEAREST, policy=AutoAugmentPolicy.CIFAR10)\n",
      "      RandomCrop(size=(32, 32), padding=[4, 4, 4, 4], pad_if_needed=False, fill=0, padding_mode=constant)\n",
      "      RandomHorizontalFlip(p=0.5)\n",
      "      ToTensor()\n",
      "      Normalize(mean=[0.49139968, 0.48215827, 0.44653124], std=[1, 1, 1], inplace=True)\n",
      ") 128\n",
      "valid.transforms = ToTensor() 128\n",
      "test.transforms = ToTensor() 128\n"
     ]
    }
   ],
   "source": [
    "\n",
    "train_dataloader = DataLoader(\n",
    "    train_data,\n",
    "    batch_size=BATCH,\n",
    "    shuffle=SHUFFLE,\n",
    "    num_workers=NUMOFWORKERS,\n",
    "    pin_memory=PIN_MEMORY,\n",
    "    # pin_memory_device=\"cuda\",\n",
    "    persistent_workers=True,\n",
    ")\n",
    "print(\"train.transforms =\", train_data.transform, train_dataloader.batch_size)\n",
    "\n",
    "if valid_data is not None:\n",
    "    valid_dataloader = DataLoader(\n",
    "        valid_data,\n",
    "        batch_size=BATCH,\n",
    "        shuffle=SHUFFLE,\n",
    "        num_workers=NUMOFWORKERS,\n",
    "        pin_memory=PIN_MEMORY,\n",
    "        # pin_memory_device=\"cuda\",\n",
    "        persistent_workers=True,\n",
    "    )\n",
    "    print(\"valid.transforms =\", valid_data.transform, valid_dataloader.batch_size)\n",
    "else:\n",
    "    valid_dataloader = None\n",
    "\n",
    "if test_data is not None:\n",
    "    test_dataloader = DataLoader(\n",
    "        test_data,\n",
    "        batch_size=BATCH,\n",
    "        shuffle=SHUFFLE,\n",
    "        num_workers=NUMOFWORKERS,\n",
    "        pin_memory=PIN_MEMORY,\n",
    "        # pin_memory_device=\"cuda\",\n",
    "        persistent_workers=True,\n",
    "    )\n",
    "    print(\"test.transforms =\", test_data.transform, test_dataloader.batch_size)\n",
    "else:\n",
    "    test_dataloader = None"
   ]
  },
  {
   "cell_type": "markdown",
   "metadata": {},
   "source": [
    "## Confirm that the dataset is loaded properly"
   ]
  },
  {
   "cell_type": "code",
   "execution_count": 6,
   "metadata": {},
   "outputs": [
    {
     "name": "stdout",
     "output_type": "stream",
     "text": [
      "Shape of X [N, C, H, W]: torch.Size([128, 3, 32, 32])\n",
      "mean of X tensor([0.5074, 0.4963, 0.4528])\n",
      "Shape of y: torch.Size([128]) torch.int64\n"
     ]
    },
    {
     "data": {
      "image/png": "[encoded data removed]",
      "text/plain": [
       "<Figure size 800x400 with 10 Axes>"
      ]
     },
     "metadata": {},
     "output_type": "display_data"
    }
   ],
   "source": [
    "if test_data is not None:\n",
    "    for X, y in test_dataloader:\n",
    "        print(f\"Shape of X [N, C, H, W]: {X.shape}\")\n",
    "        print(\"mean of X\", X.mean(dim=(0, 2, 3)))\n",
    "        print(f\"Shape of y: {y.shape} {y.dtype}\")\n",
    "        break\n",
    "    \n",
    "    class_names = test_dataloader.dataset.classes\n",
    "    count = 0\n",
    "    fig, axs = plt.subplots(2, 5, figsize=(8, 4))\n",
    "\n",
    "    for images, labels in test_dataloader:\n",
    "        images = images.numpy()\n",
    "\n",
    "        for i in range(len(images)):\n",
    "            image = images[i]\n",
    "            label = labels[i]\n",
    "            image = np.transpose(image, (1, 2, 0))\n",
    "            image = np.clip(image, 0, 1)\n",
    "            ax = axs[count // 5, count % 5]\n",
    "            ax.imshow(image)\n",
    "            ax.set_title(f\"{class_names[label], label}\")\n",
    "            ax.axis(\"off\")\n",
    "            count += 1\n",
    "\n",
    "            if count == 10:\n",
    "                break\n",
    "        if count == 10:\n",
    "            break\n",
    "    plt.tight_layout()\n",
    "    plt.show()"
   ]
  },
  {
   "cell_type": "markdown",
   "metadata": {},
   "source": [
    "# Define ResNet"
   ]
  },
  {
   "cell_type": "markdown",
   "metadata": {},
   "source": [
    "## Model Confirm"
   ]
  },
  {
   "cell_type": "code",
   "execution_count": 7,
   "metadata": {},
   "outputs": [
    {
     "data": {
      "text/plain": [
       "device(type='cuda')"
      ]
     },
     "execution_count": 7,
     "metadata": {},
     "output_type": "execute_result"
    }
   ],
   "source": [
    "device = torch.device(\"cuda\" if torch.cuda.is_available() else \"cpu\")\n",
    "device"
   ]
  },
  {
   "cell_type": "code",
   "execution_count": 8,
   "metadata": {},
   "outputs": [
    {
     "name": "stdout",
     "output_type": "stream",
     "text": [
      "ResNet-32 for CIFAR10 is loaded.\n"
     ]
    }
   ],
   "source": [
    "if DATASET == \"CIFAR10\" or DATASET == \"CIFAR100\":\n",
    "    \"\"\"ResNet{20, 32, 44, 56, 110, 1202} for CIFAR\"\"\"\n",
    "    model = MyResNet_CIFAR(\n",
    "        num_classes=COUNT_OF_CLASSES,\n",
    "        num_layer_factor=NUM_LAYERS_LEVEL,\n",
    "        Downsample_option=\"A\",\n",
    "    ).to(device)\n",
    "    print(f\"ResNet-{5*6+2} for {DATASET} is loaded.\")\n",
    "\n",
    "elif DATASET == \"ImageNet2012\":\n",
    "    \"\"\"ResNet34 for ImageNet 2012\"\"\"\n",
    "    model = MyResNet34(\n",
    "        num_classes=COUNT_OF_CLASSES, \n",
    "        Downsample_option=\"A\"\n",
    "    ).to(device)\n",
    "    # model = models.resnet34(pretrained=True).to(device)\n",
    "    # model = models.resnet34(pretrained=False).to(device)\n",
    "    print(f\"ResNet-34 for {DATASET} is loaded.\")\n"
   ]
  },
  {
   "cell_type": "code",
   "execution_count": 9,
   "metadata": {},
   "outputs": [],
   "source": [
    "# model.named_modules"
   ]
  },
  {
   "cell_type": "code",
   "execution_count": 10,
   "metadata": {},
   "outputs": [],
   "source": [
    "# tmp_input = torch.rand(BATCH, 3, 32, 32).to(device)\n",
    "# flops = FlopCountAnalysis(model, tmp_input)\n",
    "# print(flop_count_table(flops))"
   ]
  },
  {
   "cell_type": "markdown",
   "metadata": {},
   "source": [
    "# Define Training"
   ]
  },
  {
   "cell_type": "markdown",
   "metadata": {},
   "source": [
    "## (1) Define Criterion"
   ]
  },
  {
   "cell_type": "code",
   "execution_count": 11,
   "metadata": {},
   "outputs": [],
   "source": [
    "criterion = nn.CrossEntropyLoss()"
   ]
  },
  {
   "cell_type": "markdown",
   "metadata": {},
   "source": [
    "## (2) Define Optimazer"
   ]
  },
  {
   "cell_type": "code",
   "execution_count": 12,
   "metadata": {},
   "outputs": [],
   "source": [
    "if OPTIMIZER == \"Adam\":\n",
    "    optimizer = torch.optim.Adam(model.parameters())\n",
    "elif OPTIMIZER == \"Adam_decay\":\n",
    "    optimizer = torch.optim.Adam(model.parameters(), weight_decay=1e-4)\n",
    "elif OPTIMIZER == \"SGD\":\n",
    "    optimizer = torch.optim.SGD(\n",
    "        model.parameters(), lr=0.1, momentum=0.9, weight_decay=0.0001\n",
    "    )"
   ]
  },
  {
   "cell_type": "markdown",
   "metadata": {},
   "source": [
    "## (3) Define Early Stopping"
   ]
  },
  {
   "cell_type": "code",
   "execution_count": 13,
   "metadata": {},
   "outputs": [],
   "source": [
    "earlystopper = EarlyStopper(patience=EARLYSTOPPINGPATIENCE, model=model, file_path=file_path)"
   ]
  },
  {
   "cell_type": "markdown",
   "metadata": {},
   "source": [
    "## (4) Define Learning Rate schedualer"
   ]
  },
  {
   "cell_type": "code",
   "execution_count": 14,
   "metadata": {},
   "outputs": [
    {
     "data": {
      "text/plain": [
       "'\\n=======================================================\\nif batch = 256\\n=======================================================\\nnon-split [single epoch = 196 iter] : milestones = [164, 246]\\n- 1 ~ 164 epochs == 1 ~ 32k iter >> lr = 0.1\\n- 165~246 epochs == 32k ~ 48k iter >> lr = 0.01\\n- 247~328(?) epochs == 48k ~ 64k iter >> lr = 0.001\\n=======================================================\\nsplit to 45k/5k [single epoch = 176 iter]: milestones = [182, 273]\\n- 1~182 epochs == 1 ~ 32k iter >> lr = 0.1\\n- 182~273 epochs == 32k ~ 48k iter >> lr = 0.01\\n- 273~364(?) epochs == 48k ~ 64k iter >> lr = 0.001\\n=======================================================\\nif batch = 128\\n=======================================================\\nnon-split [signle epoch = 391 iter]: milestones = [82, 123]\\n- 1 ~ 82 epochs == 1 ~ 32k iter >> lr = 0.1\\n- 83~123 epochs == 32k ~ 48k iter >> lr = 0.01\\n- 124~(164) epochs == 48k ~ 64k iter >> lr = 0.001\\n=======================================================\\nsplit to 45k/5k [signle epoch = 352 iter]: milestones = [91, 137]\\n- 1~91 epochs == 1 ~ 32k iter >> lr = 0.1\\n- 92~137 epochs == 32k ~ 48k iter >> lr = 0.01\\n- 138~(183) epochs == 48k ~ 64k iter >> lr = 0.001\\n=======================================================\\n'"
      ]
     },
     "execution_count": 14,
     "metadata": {},
     "output_type": "execute_result"
    }
   ],
   "source": [
    "# scheduler = ReduceLROnPlateau(\n",
    "#     optimizer,\n",
    "#     mode=\"min\",\n",
    "#     patience=scheduler_patience_mapping[DATASET],\n",
    "#     factor=0.1,\n",
    "#     verbose=True,\n",
    "#     threshold=1e-4,\n",
    "#     cooldown=100,\n",
    "# )\n",
    "\n",
    "scheduler = MultiStepLR(optimizer, milestones=[91, 137], gamma=0.1)\n",
    "#\n",
    "\"\"\"\n",
    "=======================================================\n",
    "if batch = 256\n",
    "=======================================================\n",
    "non-split [single epoch = 196 iter] : milestones = [164, 246]\n",
    "- 1 ~ 164 epochs == 1 ~ 32k iter >> lr = 0.1\n",
    "- 165~246 epochs == 32k ~ 48k iter >> lr = 0.01\n",
    "- 247~328(?) epochs == 48k ~ 64k iter >> lr = 0.001\n",
    "=======================================================\n",
    "split to 45k/5k [single epoch = 176 iter]: milestones = [182, 273]\n",
    "- 1~182 epochs == 1 ~ 32k iter >> lr = 0.1\n",
    "- 182~273 epochs == 32k ~ 48k iter >> lr = 0.01\n",
    "- 273~364(?) epochs == 48k ~ 64k iter >> lr = 0.001\n",
    "=======================================================\n",
    "if batch = 128\n",
    "=======================================================\n",
    "non-split [signle epoch = 391 iter]: milestones = [82, 123]\n",
    "- 1 ~ 82 epochs == 1 ~ 32k iter >> lr = 0.1\n",
    "- 83~123 epochs == 32k ~ 48k iter >> lr = 0.01\n",
    "- 124~(164) epochs == 48k ~ 64k iter >> lr = 0.001\n",
    "=======================================================\n",
    "split to 45k/5k [signle epoch = 352 iter]: milestones = [91, 137]\n",
    "- 1~91 epochs == 1 ~ 32k iter >> lr = 0.1\n",
    "- 92~137 epochs == 32k ~ 48k iter >> lr = 0.01\n",
    "- 138~(183) epochs == 48k ~ 64k iter >> lr = 0.001\n",
    "=======================================================\n",
    "\"\"\""
   ]
  },
  {
   "cell_type": "markdown",
   "metadata": {},
   "source": [
    "## (5) Define AMP scaler"
   ]
  },
  {
   "cell_type": "code",
   "execution_count": 15,
   "metadata": {},
   "outputs": [],
   "source": [
    "scaler = torch.cuda.amp.GradScaler(enabled=True)"
   ]
  },
  {
   "cell_type": "markdown",
   "metadata": {},
   "source": [
    "## Load before process"
   ]
  },
  {
   "cell_type": "code",
   "execution_count": 16,
   "metadata": {},
   "outputs": [
    {
     "name": "stdout",
     "output_type": "stream",
     "text": [
      "Suceessfully loaded the All setting and Log file.\n",
      "CIFAR10/MyResNet32_128_SGD_90\n",
      "Current epoch is 229\n",
      "Current learning rate: 0.0010000000000000002\n"
     ]
    }
   ],
   "source": [
    "scaler = torch.cuda.amp.GradScaler(enabled=True)\n",
    "\n",
    "if LOAD_BEFORE_TRAINING == True and os.path.exists(\"logs/\" + file_path + \".pth.tar\"):\n",
    "    # Read checkpoint as desired, e.g.,\n",
    "    checkpoint = torch.load(\n",
    "        \"logs/\" + file_path + \".pth.tar\",\n",
    "        map_location=lambda storage, loc: storage.cuda(device),\n",
    "    )\n",
    "    model.load_state_dict(checkpoint[\"model\"])\n",
    "    optimizer.load_state_dict(checkpoint[\"optimizer\"])\n",
    "    scaler.load_state_dict(checkpoint[\"scaler\"])\n",
    "    scheduler.load_state_dict(checkpoint[\"scheduler\"])\n",
    "    earlystopper.load_state_dict(checkpoint[\"earlystopper\"])\n",
    "    logs = checkpoint[\"logs\"]\n",
    "\n",
    "    print(\"Suceessfully loaded the All setting and Log file.\")\n",
    "    print(file_path)\n",
    "    print(f\"Current epoch is {len(logs['train_loss'])}\")\n",
    "    print(f\"Current learning rate: {optimizer.param_groups[0]['lr']}\")\n",
    "else:\n",
    "    # Create a dictionary to store the variables\n",
    "    train_loss = []\n",
    "    train_acc = []\n",
    "    eval_loss = []\n",
    "    valid_acc = []\n",
    "    test_loss = []\n",
    "    test_acc = []\n",
    "    lr_log = []\n",
    "    logs = {\n",
    "        \"train_loss\": train_loss,\n",
    "        \"train_acc\": train_acc,\n",
    "        \"valid_loss\": eval_loss,\n",
    "        \"valid_acc\": valid_acc,\n",
    "        \"test_loss\": test_loss,\n",
    "        \"test_acc\": test_acc,\n",
    "        \"lr_log\": lr_log,\n",
    "    }\n",
    "    print(\"File does not exist. Created a new log.\")"
   ]
  },
  {
   "cell_type": "code",
   "execution_count": 17,
   "metadata": {},
   "outputs": [
    {
     "data": {
      "text/plain": [
       "0.0010000000000000002"
      ]
     },
     "execution_count": 17,
     "metadata": {},
     "output_type": "execute_result"
    }
   ],
   "source": [
    "optimizer.param_groups[0][\"lr\"]"
   ]
  },
  {
   "cell_type": "code",
   "execution_count": 21,
   "metadata": {},
   "outputs": [
    {
     "data": {
      "text/plain": [
       "0"
      ]
     },
     "execution_count": 21,
     "metadata": {},
     "output_type": "execute_result"
    }
   ],
   "source": [
    "earlystopper.early_stop_counter"
   ]
  },
  {
   "cell_type": "markdown",
   "metadata": {},
   "source": [
    "# [Training Loop]"
   ]
  },
  {
   "cell_type": "code",
   "execution_count": 19,
   "metadata": {},
   "outputs": [],
   "source": [
    "if valid_data is None:\n",
    "    valid_dataloader = None\n",
    "if test_data is None:\n",
    "    test_dataloader = None"
   ]
  },
  {
   "cell_type": "code",
   "execution_count": 22,
   "metadata": {},
   "outputs": [
    {
     "name": "stdout",
     "output_type": "stream",
     "text": [
      "[Epoch 231/500] :\n"
     ]
    },
    {
     "name": "stderr",
     "output_type": "stream",
     "text": [
      "100%|██████████| 352/352 [00:14<00:00, 24.09it/s]\n"
     ]
    },
    {
     "name": "stdout",
     "output_type": "stream",
     "text": [
      "Train Loss: 0.0011 | Train Acc: 87.50%\n",
      "Valid Loss: 0.2501 | Valid Acc: 91.36%\n",
      "Test  Loss: 0.3089 | Test Acc: 89.94%\n",
      "updated best eval loss : 0.25008016275241973\n",
      "--------------------------------------------------\n",
      "[Epoch 232/500] :\n"
     ]
    },
    {
     "name": "stderr",
     "output_type": "stream",
     "text": [
      "100%|██████████| 352/352 [00:15<00:00, 22.89it/s]\n"
     ]
    },
    {
     "name": "stdout",
     "output_type": "stream",
     "text": [
      "Train Loss: 0.0008 | Train Acc: 90.28%\n",
      "Valid Loss: 0.2480 | Valid Acc: 91.84%\n",
      "Test  Loss: 0.3176 | Test Acc: 89.60%\n",
      "updated best eval loss : 0.2480434525758028\n",
      "--------------------------------------------------\n",
      "[Epoch 233/500] :\n"
     ]
    },
    {
     "name": "stderr",
     "output_type": "stream",
     "text": [
      "100%|██████████| 352/352 [00:14<00:00, 23.63it/s]\n"
     ]
    },
    {
     "name": "stdout",
     "output_type": "stream",
     "text": [
      "Train Loss: 0.0013 | Train Acc: 86.11%\n",
      "Valid Loss: 0.2185 | Valid Acc: 92.24%\n",
      "Test  Loss: 0.3344 | Test Acc: 89.31%\n",
      "updated best eval loss : 0.21847929519135506\n",
      "--------------------------------------------------\n",
      "[Epoch 234/500] :\n"
     ]
    },
    {
     "name": "stderr",
     "output_type": "stream",
     "text": [
      "100%|██████████| 352/352 [00:14<00:00, 23.52it/s]\n"
     ]
    },
    {
     "name": "stdout",
     "output_type": "stream",
     "text": [
      "Train Loss: 0.0007 | Train Acc: 91.67%\n",
      "Valid Loss: 0.2281 | Valid Acc: 91.96%\n",
      "Test  Loss: 0.3273 | Test Acc: 89.55%\n",
      "--------------------------------------------------\n",
      "[Epoch 235/500] :\n"
     ]
    },
    {
     "name": "stderr",
     "output_type": "stream",
     "text": [
      "100%|██████████| 352/352 [00:15<00:00, 23.03it/s]\n"
     ]
    },
    {
     "name": "stdout",
     "output_type": "stream",
     "text": [
      "Train Loss: 0.0005 | Train Acc: 94.44%\n",
      "Valid Loss: 0.2313 | Valid Acc: 92.20%\n",
      "Test  Loss: 0.3298 | Test Acc: 89.34%\n",
      "--------------------------------------------------\n",
      "[Epoch 236/500] :\n"
     ]
    },
    {
     "name": "stderr",
     "output_type": "stream",
     "text": [
      "100%|██████████| 352/352 [00:14<00:00, 23.69it/s]\n"
     ]
    },
    {
     "name": "stdout",
     "output_type": "stream",
     "text": [
      "Train Loss: 0.0014 | Train Acc: 87.50%\n",
      "Valid Loss: 0.2292 | Valid Acc: 92.10%\n",
      "Test  Loss: 0.3151 | Test Acc: 89.74%\n",
      "--------------------------------------------------\n",
      "[Epoch 237/500] :\n"
     ]
    },
    {
     "name": "stderr",
     "output_type": "stream",
     "text": [
      "100%|██████████| 352/352 [00:15<00:00, 23.15it/s]\n"
     ]
    },
    {
     "name": "stdout",
     "output_type": "stream",
     "text": [
      "Train Loss: 0.0005 | Train Acc: 95.83%\n",
      "Valid Loss: 0.2406 | Valid Acc: 91.98%\n",
      "Test  Loss: 0.3281 | Test Acc: 89.42%\n",
      "--------------------------------------------------\n",
      "[Epoch 238/500] :\n"
     ]
    },
    {
     "name": "stderr",
     "output_type": "stream",
     "text": [
      "100%|██████████| 352/352 [00:14<00:00, 23.76it/s]\n"
     ]
    },
    {
     "name": "stdout",
     "output_type": "stream",
     "text": [
      "Train Loss: 0.0010 | Train Acc: 87.50%\n",
      "Valid Loss: 0.2277 | Valid Acc: 92.20%\n",
      "Test  Loss: 0.3313 | Test Acc: 89.44%\n",
      "--------------------------------------------------\n",
      "[Epoch 239/500] :\n"
     ]
    },
    {
     "name": "stderr",
     "output_type": "stream",
     "text": [
      "100%|██████████| 352/352 [00:14<00:00, 23.47it/s]\n"
     ]
    },
    {
     "name": "stdout",
     "output_type": "stream",
     "text": [
      "Train Loss: 0.0004 | Train Acc: 95.83%\n",
      "Valid Loss: 0.2224 | Valid Acc: 92.36%\n",
      "Test  Loss: 0.3217 | Test Acc: 89.53%\n",
      "--------------------------------------------------\n",
      "[Epoch 240/500] :\n"
     ]
    },
    {
     "name": "stderr",
     "output_type": "stream",
     "text": [
      "100%|██████████| 352/352 [00:15<00:00, 23.31it/s]\n"
     ]
    },
    {
     "name": "stdout",
     "output_type": "stream",
     "text": [
      "Train Loss: 0.0007 | Train Acc: 88.89%\n",
      "Valid Loss: 0.2289 | Valid Acc: 91.90%\n",
      "Test  Loss: 0.3254 | Test Acc: 89.53%\n",
      "--------------------------------------------------\n",
      "[Epoch 241/500] :\n"
     ]
    },
    {
     "name": "stderr",
     "output_type": "stream",
     "text": [
      "100%|██████████| 352/352 [00:14<00:00, 23.76it/s]\n"
     ]
    },
    {
     "name": "stdout",
     "output_type": "stream",
     "text": [
      "Train Loss: 0.0006 | Train Acc: 93.06%\n",
      "Valid Loss: 0.2223 | Valid Acc: 91.80%\n",
      "Test  Loss: 0.3268 | Test Acc: 89.59%\n",
      "--------------------------------------------------\n",
      "[Epoch 242/500] :\n"
     ]
    },
    {
     "name": "stderr",
     "output_type": "stream",
     "text": [
      "100%|██████████| 352/352 [00:15<00:00, 23.33it/s]\n"
     ]
    },
    {
     "name": "stdout",
     "output_type": "stream",
     "text": [
      "Train Loss: 0.0006 | Train Acc: 94.44%\n",
      "Valid Loss: 0.2257 | Valid Acc: 92.28%\n",
      "Test  Loss: 0.3166 | Test Acc: 89.78%\n",
      "--------------------------------------------------\n",
      "[Epoch 243/500] :\n"
     ]
    },
    {
     "name": "stderr",
     "output_type": "stream",
     "text": [
      "100%|██████████| 352/352 [00:15<00:00, 23.28it/s]\n"
     ]
    },
    {
     "name": "stdout",
     "output_type": "stream",
     "text": [
      "Train Loss: 0.0003 | Train Acc: 98.61%\n",
      "Valid Loss: 0.2308 | Valid Acc: 92.00%\n",
      "Test  Loss: 0.3169 | Test Acc: 89.76%\n",
      "--------------------------------------------------\n",
      "[Epoch 244/500] :\n"
     ]
    },
    {
     "name": "stderr",
     "output_type": "stream",
     "text": [
      "100%|██████████| 352/352 [00:15<00:00, 23.19it/s]\n"
     ]
    },
    {
     "name": "stdout",
     "output_type": "stream",
     "text": [
      "Train Loss: 0.0006 | Train Acc: 93.06%\n",
      "Valid Loss: 0.2219 | Valid Acc: 92.20%\n",
      "Test  Loss: 0.3269 | Test Acc: 89.57%\n",
      "--------------------------------------------------\n",
      "[Epoch 245/500] :\n"
     ]
    },
    {
     "name": "stderr",
     "output_type": "stream",
     "text": [
      "100%|██████████| 352/352 [00:15<00:00, 22.90it/s]\n"
     ]
    },
    {
     "name": "stdout",
     "output_type": "stream",
     "text": [
      "Train Loss: 0.0010 | Train Acc: 86.11%\n",
      "Valid Loss: 0.2362 | Valid Acc: 91.68%\n",
      "Test  Loss: 0.3265 | Test Acc: 89.40%\n",
      "--------------------------------------------------\n",
      "[Epoch 246/500] :\n"
     ]
    },
    {
     "name": "stderr",
     "output_type": "stream",
     "text": [
      "100%|██████████| 352/352 [00:14<00:00, 23.59it/s]\n"
     ]
    },
    {
     "name": "stdout",
     "output_type": "stream",
     "text": [
      "Train Loss: 0.0006 | Train Acc: 93.06%\n",
      "Valid Loss: 0.2383 | Valid Acc: 91.88%\n",
      "Test  Loss: 0.3269 | Test Acc: 89.57%\n",
      "--------------------------------------------------\n",
      "[Epoch 247/500] :\n"
     ]
    },
    {
     "name": "stderr",
     "output_type": "stream",
     "text": [
      "100%|██████████| 352/352 [00:15<00:00, 23.39it/s]\n"
     ]
    },
    {
     "name": "stdout",
     "output_type": "stream",
     "text": [
      "Train Loss: 0.0005 | Train Acc: 94.44%\n",
      "Valid Loss: 0.2236 | Valid Acc: 92.36%\n",
      "Test  Loss: 0.3111 | Test Acc: 89.94%\n",
      "--------------------------------------------------\n",
      "[Epoch 248/500] :\n"
     ]
    },
    {
     "name": "stderr",
     "output_type": "stream",
     "text": [
      "100%|██████████| 352/352 [00:15<00:00, 23.20it/s]\n"
     ]
    },
    {
     "name": "stdout",
     "output_type": "stream",
     "text": [
      "Train Loss: 0.0006 | Train Acc: 94.44%\n",
      "Valid Loss: 0.2323 | Valid Acc: 92.08%\n",
      "Test  Loss: 0.3131 | Test Acc: 89.90%\n",
      "--------------------------------------------------\n",
      "[Epoch 249/500] :\n"
     ]
    },
    {
     "name": "stderr",
     "output_type": "stream",
     "text": [
      "100%|██████████| 352/352 [00:15<00:00, 23.22it/s]\n"
     ]
    },
    {
     "name": "stdout",
     "output_type": "stream",
     "text": [
      "Train Loss: 0.0004 | Train Acc: 93.06%\n",
      "Valid Loss: 0.2261 | Valid Acc: 92.02%\n",
      "Test  Loss: 0.3252 | Test Acc: 89.68%\n",
      "--------------------------------------------------\n",
      "[Epoch 250/500] :\n"
     ]
    },
    {
     "name": "stderr",
     "output_type": "stream",
     "text": [
      "100%|██████████| 352/352 [00:14<00:00, 23.92it/s]\n"
     ]
    },
    {
     "name": "stdout",
     "output_type": "stream",
     "text": [
      "Train Loss: 0.0005 | Train Acc: 94.44%\n",
      "Valid Loss: 0.2216 | Valid Acc: 92.42%\n",
      "Test  Loss: 0.3211 | Test Acc: 89.70%\n",
      "--------------------------------------------------\n",
      "[Epoch 251/500] :\n"
     ]
    },
    {
     "name": "stderr",
     "output_type": "stream",
     "text": [
      "100%|██████████| 352/352 [00:15<00:00, 23.44it/s]\n"
     ]
    },
    {
     "name": "stdout",
     "output_type": "stream",
     "text": [
      "Train Loss: 0.0006 | Train Acc: 93.06%\n",
      "Valid Loss: 0.2302 | Valid Acc: 92.22%\n",
      "Test  Loss: 0.3224 | Test Acc: 89.50%\n",
      "--------------------------------------------------\n",
      "[Epoch 252/500] :\n"
     ]
    },
    {
     "name": "stderr",
     "output_type": "stream",
     "text": [
      "100%|██████████| 352/352 [00:14<00:00, 23.48it/s]\n"
     ]
    },
    {
     "name": "stdout",
     "output_type": "stream",
     "text": [
      "Train Loss: 0.0010 | Train Acc: 88.89%\n",
      "Valid Loss: 0.2183 | Valid Acc: 92.42%\n",
      "Test  Loss: 0.3198 | Test Acc: 89.72%\n",
      "updated best eval loss : 0.2182884018868208\n",
      "--------------------------------------------------\n",
      "[Epoch 253/500] :\n"
     ]
    },
    {
     "name": "stderr",
     "output_type": "stream",
     "text": [
      "100%|██████████| 352/352 [00:14<00:00, 23.71it/s]\n"
     ]
    },
    {
     "name": "stdout",
     "output_type": "stream",
     "text": [
      "Train Loss: 0.0011 | Train Acc: 88.89%\n",
      "Valid Loss: 0.2311 | Valid Acc: 92.56%\n",
      "Test  Loss: 0.3308 | Test Acc: 89.43%\n",
      "--------------------------------------------------\n",
      "[Epoch 254/500] :\n"
     ]
    },
    {
     "name": "stderr",
     "output_type": "stream",
     "text": [
      "100%|██████████| 352/352 [00:14<00:00, 23.66it/s]\n"
     ]
    },
    {
     "name": "stdout",
     "output_type": "stream",
     "text": [
      "Train Loss: 0.0010 | Train Acc: 91.67%\n",
      "Valid Loss: 0.2099 | Valid Acc: 92.62%\n",
      "Test  Loss: 0.3197 | Test Acc: 89.58%\n",
      "updated best eval loss : 0.20986897703260182\n",
      "--------------------------------------------------\n",
      "[Epoch 255/500] :\n"
     ]
    },
    {
     "name": "stderr",
     "output_type": "stream",
     "text": [
      "100%|██████████| 352/352 [00:15<00:00, 23.33it/s]\n"
     ]
    },
    {
     "name": "stdout",
     "output_type": "stream",
     "text": [
      "Train Loss: 0.0005 | Train Acc: 95.83%\n",
      "Valid Loss: 0.2147 | Valid Acc: 92.24%\n",
      "Test  Loss: 0.3208 | Test Acc: 89.56%\n",
      "--------------------------------------------------\n",
      "[Epoch 256/500] :\n"
     ]
    },
    {
     "name": "stderr",
     "output_type": "stream",
     "text": [
      "100%|██████████| 352/352 [00:15<00:00, 23.12it/s]\n"
     ]
    },
    {
     "name": "stdout",
     "output_type": "stream",
     "text": [
      "Train Loss: 0.0005 | Train Acc: 94.44%\n",
      "Valid Loss: 0.2064 | Valid Acc: 92.60%\n",
      "Test  Loss: 0.3189 | Test Acc: 89.75%\n",
      "updated best eval loss : 0.20644362678285688\n",
      "--------------------------------------------------\n",
      "[Epoch 257/500] :\n"
     ]
    },
    {
     "name": "stderr",
     "output_type": "stream",
     "text": [
      "100%|██████████| 352/352 [00:15<00:00, 23.44it/s]\n"
     ]
    },
    {
     "name": "stdout",
     "output_type": "stream",
     "text": [
      "Train Loss: 0.0008 | Train Acc: 86.11%\n",
      "Valid Loss: 0.2287 | Valid Acc: 92.06%\n",
      "Test  Loss: 0.3295 | Test Acc: 89.55%\n",
      "--------------------------------------------------\n",
      "[Epoch 258/500] :\n"
     ]
    },
    {
     "name": "stderr",
     "output_type": "stream",
     "text": [
      "100%|██████████| 352/352 [00:14<00:00, 23.57it/s]\n"
     ]
    },
    {
     "name": "stdout",
     "output_type": "stream",
     "text": [
      "Train Loss: 0.0004 | Train Acc: 95.83%\n",
      "Valid Loss: 0.2283 | Valid Acc: 92.18%\n",
      "Test  Loss: 0.3259 | Test Acc: 89.72%\n",
      "--------------------------------------------------\n",
      "[Epoch 259/500] :\n"
     ]
    },
    {
     "name": "stderr",
     "output_type": "stream",
     "text": [
      "100%|██████████| 352/352 [00:14<00:00, 24.05it/s]\n"
     ]
    },
    {
     "name": "stdout",
     "output_type": "stream",
     "text": [
      "Train Loss: 0.0007 | Train Acc: 90.28%\n",
      "Valid Loss: 0.2302 | Valid Acc: 92.18%\n",
      "Test  Loss: 0.3253 | Test Acc: 89.66%\n",
      "--------------------------------------------------\n",
      "[Epoch 260/500] :\n"
     ]
    },
    {
     "name": "stderr",
     "output_type": "stream",
     "text": [
      "100%|██████████| 352/352 [00:14<00:00, 23.61it/s]\n"
     ]
    },
    {
     "name": "stdout",
     "output_type": "stream",
     "text": [
      "Train Loss: 0.0009 | Train Acc: 86.11%\n",
      "Valid Loss: 0.2100 | Valid Acc: 92.72%\n",
      "Test  Loss: 0.3152 | Test Acc: 89.75%\n",
      "--------------------------------------------------\n",
      "[Epoch 261/500] :\n"
     ]
    },
    {
     "name": "stderr",
     "output_type": "stream",
     "text": [
      "100%|██████████| 352/352 [00:15<00:00, 23.25it/s]\n"
     ]
    },
    {
     "name": "stdout",
     "output_type": "stream",
     "text": [
      "Train Loss: 0.0006 | Train Acc: 95.83%\n",
      "Valid Loss: 0.2424 | Valid Acc: 91.34%\n",
      "Test  Loss: 0.3181 | Test Acc: 89.77%\n",
      "--------------------------------------------------\n",
      "[Epoch 262/500] :\n"
     ]
    },
    {
     "name": "stderr",
     "output_type": "stream",
     "text": [
      "100%|██████████| 352/352 [00:14<00:00, 23.70it/s]\n"
     ]
    },
    {
     "name": "stdout",
     "output_type": "stream",
     "text": [
      "Train Loss: 0.0007 | Train Acc: 93.06%\n",
      "Valid Loss: 0.2246 | Valid Acc: 92.04%\n",
      "Test  Loss: 0.3139 | Test Acc: 89.96%\n",
      "--------------------------------------------------\n",
      "[Epoch 263/500] :\n"
     ]
    },
    {
     "name": "stderr",
     "output_type": "stream",
     "text": [
      "100%|██████████| 352/352 [00:15<00:00, 23.21it/s]\n"
     ]
    },
    {
     "name": "stdout",
     "output_type": "stream",
     "text": [
      "Train Loss: 0.0005 | Train Acc: 97.22%\n",
      "Valid Loss: 0.2193 | Valid Acc: 92.50%\n",
      "Test  Loss: 0.3221 | Test Acc: 89.57%\n",
      "--------------------------------------------------\n",
      "[Epoch 264/500] :\n"
     ]
    },
    {
     "name": "stderr",
     "output_type": "stream",
     "text": [
      "100%|██████████| 352/352 [00:14<00:00, 23.93it/s]\n"
     ]
    },
    {
     "name": "stdout",
     "output_type": "stream",
     "text": [
      "Train Loss: 0.0010 | Train Acc: 88.89%\n",
      "Valid Loss: 0.2181 | Valid Acc: 92.48%\n",
      "Test  Loss: 0.3357 | Test Acc: 89.34%\n",
      "--------------------------------------------------\n",
      "[Epoch 265/500] :\n"
     ]
    },
    {
     "name": "stderr",
     "output_type": "stream",
     "text": [
      "100%|██████████| 352/352 [00:14<00:00, 23.77it/s]\n"
     ]
    },
    {
     "name": "stdout",
     "output_type": "stream",
     "text": [
      "Train Loss: 0.0006 | Train Acc: 93.06%\n",
      "Valid Loss: 0.2218 | Valid Acc: 92.40%\n",
      "Test  Loss: 0.3275 | Test Acc: 89.51%\n",
      "--------------------------------------------------\n",
      "[Epoch 266/500] :\n"
     ]
    },
    {
     "name": "stderr",
     "output_type": "stream",
     "text": [
      "100%|██████████| 352/352 [00:14<00:00, 23.71it/s]\n"
     ]
    },
    {
     "name": "stdout",
     "output_type": "stream",
     "text": [
      "Train Loss: 0.0006 | Train Acc: 95.83%\n",
      "Valid Loss: 0.2340 | Valid Acc: 92.00%\n",
      "Test  Loss: 0.3280 | Test Acc: 89.54%\n",
      "--------------------------------------------------\n",
      "[Epoch 267/500] :\n"
     ]
    },
    {
     "name": "stderr",
     "output_type": "stream",
     "text": [
      "100%|██████████| 352/352 [00:14<00:00, 23.47it/s]\n"
     ]
    },
    {
     "name": "stdout",
     "output_type": "stream",
     "text": [
      "Train Loss: 0.0010 | Train Acc: 86.11%\n",
      "Valid Loss: 0.2353 | Valid Acc: 92.18%\n",
      "Test  Loss: 0.3328 | Test Acc: 89.43%\n",
      "--------------------------------------------------\n",
      "[Epoch 268/500] :\n"
     ]
    },
    {
     "name": "stderr",
     "output_type": "stream",
     "text": [
      "100%|██████████| 352/352 [00:15<00:00, 23.45it/s]\n"
     ]
    },
    {
     "name": "stdout",
     "output_type": "stream",
     "text": [
      "Train Loss: 0.0008 | Train Acc: 88.89%\n",
      "Valid Loss: 0.2271 | Valid Acc: 92.36%\n",
      "Test  Loss: 0.3290 | Test Acc: 89.38%\n",
      "--------------------------------------------------\n",
      "[Epoch 269/500] :\n"
     ]
    },
    {
     "name": "stderr",
     "output_type": "stream",
     "text": [
      "100%|██████████| 352/352 [00:15<00:00, 23.21it/s]\n"
     ]
    },
    {
     "name": "stdout",
     "output_type": "stream",
     "text": [
      "Train Loss: 0.0006 | Train Acc: 95.83%\n",
      "Valid Loss: 0.2015 | Valid Acc: 93.06%\n",
      "Test  Loss: 0.3244 | Test Acc: 89.70%\n",
      "updated best eval loss : 0.2015449077123776\n",
      "--------------------------------------------------\n",
      "[Epoch 270/500] :\n"
     ]
    },
    {
     "name": "stderr",
     "output_type": "stream",
     "text": [
      "100%|██████████| 352/352 [00:15<00:00, 22.37it/s]\n"
     ]
    },
    {
     "name": "stdout",
     "output_type": "stream",
     "text": [
      "Train Loss: 0.0006 | Train Acc: 91.67%\n",
      "Valid Loss: 0.2293 | Valid Acc: 92.60%\n",
      "Test  Loss: 0.3284 | Test Acc: 89.65%\n",
      "--------------------------------------------------\n",
      "[Epoch 271/500] :\n"
     ]
    },
    {
     "name": "stderr",
     "output_type": "stream",
     "text": [
      "100%|██████████| 352/352 [00:26<00:00, 13.06it/s]\n"
     ]
    },
    {
     "name": "stdout",
     "output_type": "stream",
     "text": [
      "Train Loss: 0.0004 | Train Acc: 95.83%\n",
      "Valid Loss: 0.2222 | Valid Acc: 92.38%\n",
      "Test  Loss: 0.3372 | Test Acc: 89.14%\n",
      "--------------------------------------------------\n",
      "[Epoch 272/500] :\n"
     ]
    },
    {
     "name": "stderr",
     "output_type": "stream",
     "text": [
      "100%|██████████| 352/352 [00:26<00:00, 13.06it/s]\n"
     ]
    },
    {
     "name": "stdout",
     "output_type": "stream",
     "text": [
      "Train Loss: 0.0009 | Train Acc: 86.11%\n",
      "Valid Loss: 0.2287 | Valid Acc: 92.42%\n",
      "Test  Loss: 0.3356 | Test Acc: 89.19%\n",
      "--------------------------------------------------\n",
      "[Epoch 273/500] :\n"
     ]
    },
    {
     "name": "stderr",
     "output_type": "stream",
     "text": [
      "100%|██████████| 352/352 [00:27<00:00, 12.86it/s]\n"
     ]
    },
    {
     "name": "stdout",
     "output_type": "stream",
     "text": [
      "Train Loss: 0.0010 | Train Acc: 86.11%\n",
      "Valid Loss: 0.2110 | Valid Acc: 92.54%\n",
      "Test  Loss: 0.3279 | Test Acc: 89.64%\n",
      "--------------------------------------------------\n",
      "[Epoch 274/500] :\n"
     ]
    },
    {
     "name": "stderr",
     "output_type": "stream",
     "text": [
      "100%|██████████| 352/352 [00:27<00:00, 12.78it/s]\n"
     ]
    },
    {
     "name": "stdout",
     "output_type": "stream",
     "text": [
      "Train Loss: 0.0006 | Train Acc: 94.44%\n",
      "Valid Loss: 0.2166 | Valid Acc: 92.50%\n",
      "Test  Loss: 0.3244 | Test Acc: 89.54%\n",
      "--------------------------------------------------\n",
      "[Epoch 275/500] :\n"
     ]
    },
    {
     "name": "stderr",
     "output_type": "stream",
     "text": [
      "  8%|▊         | 29/352 [00:02<00:27, 11.84it/s]\n"
     ]
    },
    {
     "ename": "KeyboardInterrupt",
     "evalue": "",
     "output_type": "error",
     "traceback": [
      "\u001b[0;31m---------------------------------------------------------------------------\u001b[0m",
      "\u001b[0;31mKeyboardInterrupt\u001b[0m                         Traceback (most recent call last)",
      "Cell \u001b[0;32mIn[22], line 21\u001b[0m\n\u001b[1;32m     19\u001b[0m     eval_loss \u001b[38;5;241m=\u001b[39m Training\u001b[38;5;241m.\u001b[39mSingleEpoch(train_dataloader, valid_dataloader)\n\u001b[1;32m     20\u001b[0m \u001b[38;5;28;01melse\u001b[39;00m:\n\u001b[0;32m---> 21\u001b[0m     eval_loss \u001b[38;5;241m=\u001b[39m Training\u001b[38;5;241m.\u001b[39mSingleEpoch(\n\u001b[1;32m     22\u001b[0m         train_dataloader, valid_dataloader, test_dataloader\n\u001b[1;32m     23\u001b[0m     )\n\u001b[1;32m     25\u001b[0m Training\u001b[38;5;241m.\u001b[39mSave()\n\u001b[1;32m     27\u001b[0m \u001b[38;5;28;01mif\u001b[39;00m earlystopper\u001b[38;5;241m.\u001b[39mcheck(eval_loss) \u001b[38;5;241m==\u001b[39m \u001b[38;5;28;01mTrue\u001b[39;00m:\n",
      "File \u001b[0;32m~/Desktop/Learn_pytorch/src/Mytraining.py:99\u001b[0m, in \u001b[0;36mDoTraining.SingleEpoch\u001b[0;34m(self, train_dataloader, valid_dataloader, test_dataloader)\u001b[0m\n\u001b[1;32m     96\u001b[0m \u001b[38;5;28;01mif\u001b[39;00m valid_dataloader \u001b[38;5;241m==\u001b[39m \u001b[38;5;28;01mNone\u001b[39;00m \u001b[38;5;129;01mand\u001b[39;00m test_dataloader \u001b[38;5;241m==\u001b[39m \u001b[38;5;28;01mNone\u001b[39;00m:\n\u001b[1;32m     97\u001b[0m     \u001b[38;5;28;01mraise\u001b[39;00m \u001b[38;5;167;01mValueError\u001b[39;00m(\u001b[38;5;124m\"\u001b[39m\u001b[38;5;124mNo valid/test dataset\u001b[39m\u001b[38;5;124m\"\u001b[39m)\n\u001b[0;32m---> 99\u001b[0m train_loss, train_acc \u001b[38;5;241m=\u001b[39m \u001b[38;5;28mself\u001b[39m\u001b[38;5;241m.\u001b[39mForward_train(train_dataloader)\n\u001b[1;32m    100\u001b[0m \u001b[38;5;28mself\u001b[39m\u001b[38;5;241m.\u001b[39mlogs[\u001b[38;5;124m\"\u001b[39m\u001b[38;5;124mtrain_loss\u001b[39m\u001b[38;5;124m\"\u001b[39m]\u001b[38;5;241m.\u001b[39mappend(train_loss)\n\u001b[1;32m    101\u001b[0m \u001b[38;5;28mself\u001b[39m\u001b[38;5;241m.\u001b[39mlogs[\u001b[38;5;124m\"\u001b[39m\u001b[38;5;124mtrain_acc\u001b[39m\u001b[38;5;124m\"\u001b[39m]\u001b[38;5;241m.\u001b[39mappend(train_acc)\n",
      "File \u001b[0;32m~/Desktop/Learn_pytorch/src/Mytraining.py:38\u001b[0m, in \u001b[0;36mDoTraining.Forward_train\u001b[0;34m(self, dataset)\u001b[0m\n\u001b[1;32m     36\u001b[0m     images, labels \u001b[38;5;241m=\u001b[39m images\u001b[38;5;241m.\u001b[39mto(\u001b[38;5;28mself\u001b[39m\u001b[38;5;241m.\u001b[39mdevice), labels\u001b[38;5;241m.\u001b[39mto(\u001b[38;5;28mself\u001b[39m\u001b[38;5;241m.\u001b[39mdevice)\n\u001b[1;32m     37\u001b[0m     \u001b[38;5;28mself\u001b[39m\u001b[38;5;241m.\u001b[39moptimizer\u001b[38;5;241m.\u001b[39mzero_grad()\n\u001b[0;32m---> 38\u001b[0m     outputs \u001b[38;5;241m=\u001b[39m \u001b[38;5;28mself\u001b[39m\u001b[38;5;241m.\u001b[39mmodel(images)\n\u001b[1;32m     39\u001b[0m     loss \u001b[38;5;241m=\u001b[39m \u001b[38;5;28mself\u001b[39m\u001b[38;5;241m.\u001b[39mcriterion(outputs, labels)\n\u001b[1;32m     41\u001b[0m \u001b[38;5;28mself\u001b[39m\u001b[38;5;241m.\u001b[39mscaler\u001b[38;5;241m.\u001b[39mscale(loss)\u001b[38;5;241m.\u001b[39mbackward()\n",
      "File \u001b[0;32m~/anaconda3/lib/python3.11/site-packages/torch/nn/modules/module.py:1518\u001b[0m, in \u001b[0;36mModule._wrapped_call_impl\u001b[0;34m(self, *args, **kwargs)\u001b[0m\n\u001b[1;32m   1516\u001b[0m     \u001b[38;5;28;01mreturn\u001b[39;00m \u001b[38;5;28mself\u001b[39m\u001b[38;5;241m.\u001b[39m_compiled_call_impl(\u001b[38;5;241m*\u001b[39margs, \u001b[38;5;241m*\u001b[39m\u001b[38;5;241m*\u001b[39mkwargs)  \u001b[38;5;66;03m# type: ignore[misc]\u001b[39;00m\n\u001b[1;32m   1517\u001b[0m \u001b[38;5;28;01melse\u001b[39;00m:\n\u001b[0;32m-> 1518\u001b[0m     \u001b[38;5;28;01mreturn\u001b[39;00m \u001b[38;5;28mself\u001b[39m\u001b[38;5;241m.\u001b[39m_call_impl(\u001b[38;5;241m*\u001b[39margs, \u001b[38;5;241m*\u001b[39m\u001b[38;5;241m*\u001b[39mkwargs)\n",
      "File \u001b[0;32m~/anaconda3/lib/python3.11/site-packages/torch/nn/modules/module.py:1527\u001b[0m, in \u001b[0;36mModule._call_impl\u001b[0;34m(self, *args, **kwargs)\u001b[0m\n\u001b[1;32m   1522\u001b[0m \u001b[38;5;66;03m# If we don't have any hooks, we want to skip the rest of the logic in\u001b[39;00m\n\u001b[1;32m   1523\u001b[0m \u001b[38;5;66;03m# this function, and just call forward.\u001b[39;00m\n\u001b[1;32m   1524\u001b[0m \u001b[38;5;28;01mif\u001b[39;00m \u001b[38;5;129;01mnot\u001b[39;00m (\u001b[38;5;28mself\u001b[39m\u001b[38;5;241m.\u001b[39m_backward_hooks \u001b[38;5;129;01mor\u001b[39;00m \u001b[38;5;28mself\u001b[39m\u001b[38;5;241m.\u001b[39m_backward_pre_hooks \u001b[38;5;129;01mor\u001b[39;00m \u001b[38;5;28mself\u001b[39m\u001b[38;5;241m.\u001b[39m_forward_hooks \u001b[38;5;129;01mor\u001b[39;00m \u001b[38;5;28mself\u001b[39m\u001b[38;5;241m.\u001b[39m_forward_pre_hooks\n\u001b[1;32m   1525\u001b[0m         \u001b[38;5;129;01mor\u001b[39;00m _global_backward_pre_hooks \u001b[38;5;129;01mor\u001b[39;00m _global_backward_hooks\n\u001b[1;32m   1526\u001b[0m         \u001b[38;5;129;01mor\u001b[39;00m _global_forward_hooks \u001b[38;5;129;01mor\u001b[39;00m _global_forward_pre_hooks):\n\u001b[0;32m-> 1527\u001b[0m     \u001b[38;5;28;01mreturn\u001b[39;00m forward_call(\u001b[38;5;241m*\u001b[39margs, \u001b[38;5;241m*\u001b[39m\u001b[38;5;241m*\u001b[39mkwargs)\n\u001b[1;32m   1529\u001b[0m \u001b[38;5;28;01mtry\u001b[39;00m:\n\u001b[1;32m   1530\u001b[0m     result \u001b[38;5;241m=\u001b[39m \u001b[38;5;28;01mNone\u001b[39;00m\n",
      "File \u001b[0;32m~/Desktop/Learn_pytorch/src/Mymodel.py:198\u001b[0m, in \u001b[0;36mMyResNet_CIFAR.forward\u001b[0;34m(self, x)\u001b[0m\n\u001b[1;32m    196\u001b[0m x \u001b[38;5;241m=\u001b[39m \u001b[38;5;28mself\u001b[39m\u001b[38;5;241m.\u001b[39msingle_conv32block(x)\n\u001b[1;32m    197\u001b[0m x \u001b[38;5;241m=\u001b[39m \u001b[38;5;28mself\u001b[39m\u001b[38;5;241m.\u001b[39mconv32blocks(x)\n\u001b[0;32m--> 198\u001b[0m x \u001b[38;5;241m=\u001b[39m \u001b[38;5;28mself\u001b[39m\u001b[38;5;241m.\u001b[39mconv16blocks(x)\n\u001b[1;32m    199\u001b[0m x \u001b[38;5;241m=\u001b[39m \u001b[38;5;28mself\u001b[39m\u001b[38;5;241m.\u001b[39mconv8blocks(x)\n\u001b[1;32m    200\u001b[0m x \u001b[38;5;241m=\u001b[39m \u001b[38;5;28mself\u001b[39m\u001b[38;5;241m.\u001b[39mavgpool(x)\n",
      "File \u001b[0;32m~/anaconda3/lib/python3.11/site-packages/torch/nn/modules/module.py:1518\u001b[0m, in \u001b[0;36mModule._wrapped_call_impl\u001b[0;34m(self, *args, **kwargs)\u001b[0m\n\u001b[1;32m   1516\u001b[0m     \u001b[38;5;28;01mreturn\u001b[39;00m \u001b[38;5;28mself\u001b[39m\u001b[38;5;241m.\u001b[39m_compiled_call_impl(\u001b[38;5;241m*\u001b[39margs, \u001b[38;5;241m*\u001b[39m\u001b[38;5;241m*\u001b[39mkwargs)  \u001b[38;5;66;03m# type: ignore[misc]\u001b[39;00m\n\u001b[1;32m   1517\u001b[0m \u001b[38;5;28;01melse\u001b[39;00m:\n\u001b[0;32m-> 1518\u001b[0m     \u001b[38;5;28;01mreturn\u001b[39;00m \u001b[38;5;28mself\u001b[39m\u001b[38;5;241m.\u001b[39m_call_impl(\u001b[38;5;241m*\u001b[39margs, \u001b[38;5;241m*\u001b[39m\u001b[38;5;241m*\u001b[39mkwargs)\n",
      "File \u001b[0;32m~/anaconda3/lib/python3.11/site-packages/torch/nn/modules/module.py:1527\u001b[0m, in \u001b[0;36mModule._call_impl\u001b[0;34m(self, *args, **kwargs)\u001b[0m\n\u001b[1;32m   1522\u001b[0m \u001b[38;5;66;03m# If we don't have any hooks, we want to skip the rest of the logic in\u001b[39;00m\n\u001b[1;32m   1523\u001b[0m \u001b[38;5;66;03m# this function, and just call forward.\u001b[39;00m\n\u001b[1;32m   1524\u001b[0m \u001b[38;5;28;01mif\u001b[39;00m \u001b[38;5;129;01mnot\u001b[39;00m (\u001b[38;5;28mself\u001b[39m\u001b[38;5;241m.\u001b[39m_backward_hooks \u001b[38;5;129;01mor\u001b[39;00m \u001b[38;5;28mself\u001b[39m\u001b[38;5;241m.\u001b[39m_backward_pre_hooks \u001b[38;5;129;01mor\u001b[39;00m \u001b[38;5;28mself\u001b[39m\u001b[38;5;241m.\u001b[39m_forward_hooks \u001b[38;5;129;01mor\u001b[39;00m \u001b[38;5;28mself\u001b[39m\u001b[38;5;241m.\u001b[39m_forward_pre_hooks\n\u001b[1;32m   1525\u001b[0m         \u001b[38;5;129;01mor\u001b[39;00m _global_backward_pre_hooks \u001b[38;5;129;01mor\u001b[39;00m _global_backward_hooks\n\u001b[1;32m   1526\u001b[0m         \u001b[38;5;129;01mor\u001b[39;00m _global_forward_hooks \u001b[38;5;129;01mor\u001b[39;00m _global_forward_pre_hooks):\n\u001b[0;32m-> 1527\u001b[0m     \u001b[38;5;28;01mreturn\u001b[39;00m forward_call(\u001b[38;5;241m*\u001b[39margs, \u001b[38;5;241m*\u001b[39m\u001b[38;5;241m*\u001b[39mkwargs)\n\u001b[1;32m   1529\u001b[0m \u001b[38;5;28;01mtry\u001b[39;00m:\n\u001b[1;32m   1530\u001b[0m     result \u001b[38;5;241m=\u001b[39m \u001b[38;5;28;01mNone\u001b[39;00m\n",
      "File \u001b[0;32m~/anaconda3/lib/python3.11/site-packages/torch/nn/modules/container.py:215\u001b[0m, in \u001b[0;36mSequential.forward\u001b[0;34m(self, input)\u001b[0m\n\u001b[1;32m    213\u001b[0m \u001b[38;5;28;01mdef\u001b[39;00m \u001b[38;5;21mforward\u001b[39m(\u001b[38;5;28mself\u001b[39m, \u001b[38;5;28minput\u001b[39m):\n\u001b[1;32m    214\u001b[0m     \u001b[38;5;28;01mfor\u001b[39;00m module \u001b[38;5;129;01min\u001b[39;00m \u001b[38;5;28mself\u001b[39m:\n\u001b[0;32m--> 215\u001b[0m         \u001b[38;5;28minput\u001b[39m \u001b[38;5;241m=\u001b[39m module(\u001b[38;5;28minput\u001b[39m)\n\u001b[1;32m    216\u001b[0m     \u001b[38;5;28;01mreturn\u001b[39;00m \u001b[38;5;28minput\u001b[39m\n",
      "File \u001b[0;32m~/anaconda3/lib/python3.11/site-packages/torch/nn/modules/module.py:1518\u001b[0m, in \u001b[0;36mModule._wrapped_call_impl\u001b[0;34m(self, *args, **kwargs)\u001b[0m\n\u001b[1;32m   1516\u001b[0m     \u001b[38;5;28;01mreturn\u001b[39;00m \u001b[38;5;28mself\u001b[39m\u001b[38;5;241m.\u001b[39m_compiled_call_impl(\u001b[38;5;241m*\u001b[39margs, \u001b[38;5;241m*\u001b[39m\u001b[38;5;241m*\u001b[39mkwargs)  \u001b[38;5;66;03m# type: ignore[misc]\u001b[39;00m\n\u001b[1;32m   1517\u001b[0m \u001b[38;5;28;01melse\u001b[39;00m:\n\u001b[0;32m-> 1518\u001b[0m     \u001b[38;5;28;01mreturn\u001b[39;00m \u001b[38;5;28mself\u001b[39m\u001b[38;5;241m.\u001b[39m_call_impl(\u001b[38;5;241m*\u001b[39margs, \u001b[38;5;241m*\u001b[39m\u001b[38;5;241m*\u001b[39mkwargs)\n",
      "File \u001b[0;32m~/anaconda3/lib/python3.11/site-packages/torch/nn/modules/module.py:1527\u001b[0m, in \u001b[0;36mModule._call_impl\u001b[0;34m(self, *args, **kwargs)\u001b[0m\n\u001b[1;32m   1522\u001b[0m \u001b[38;5;66;03m# If we don't have any hooks, we want to skip the rest of the logic in\u001b[39;00m\n\u001b[1;32m   1523\u001b[0m \u001b[38;5;66;03m# this function, and just call forward.\u001b[39;00m\n\u001b[1;32m   1524\u001b[0m \u001b[38;5;28;01mif\u001b[39;00m \u001b[38;5;129;01mnot\u001b[39;00m (\u001b[38;5;28mself\u001b[39m\u001b[38;5;241m.\u001b[39m_backward_hooks \u001b[38;5;129;01mor\u001b[39;00m \u001b[38;5;28mself\u001b[39m\u001b[38;5;241m.\u001b[39m_backward_pre_hooks \u001b[38;5;129;01mor\u001b[39;00m \u001b[38;5;28mself\u001b[39m\u001b[38;5;241m.\u001b[39m_forward_hooks \u001b[38;5;129;01mor\u001b[39;00m \u001b[38;5;28mself\u001b[39m\u001b[38;5;241m.\u001b[39m_forward_pre_hooks\n\u001b[1;32m   1525\u001b[0m         \u001b[38;5;129;01mor\u001b[39;00m _global_backward_pre_hooks \u001b[38;5;129;01mor\u001b[39;00m _global_backward_hooks\n\u001b[1;32m   1526\u001b[0m         \u001b[38;5;129;01mor\u001b[39;00m _global_forward_hooks \u001b[38;5;129;01mor\u001b[39;00m _global_forward_pre_hooks):\n\u001b[0;32m-> 1527\u001b[0m     \u001b[38;5;28;01mreturn\u001b[39;00m forward_call(\u001b[38;5;241m*\u001b[39margs, \u001b[38;5;241m*\u001b[39m\u001b[38;5;241m*\u001b[39mkwargs)\n\u001b[1;32m   1529\u001b[0m \u001b[38;5;28;01mtry\u001b[39;00m:\n\u001b[1;32m   1530\u001b[0m     result \u001b[38;5;241m=\u001b[39m \u001b[38;5;28;01mNone\u001b[39;00m\n",
      "File \u001b[0;32m~/Desktop/Learn_pytorch/src/Mymodel.py:56\u001b[0m, in \u001b[0;36mBlock.forward\u001b[0;34m(self, x)\u001b[0m\n\u001b[1;32m     53\u001b[0m \u001b[38;5;28;01mif\u001b[39;00m \u001b[38;5;28mself\u001b[39m\u001b[38;5;241m.\u001b[39mDownsample_option \u001b[38;5;241m==\u001b[39m \u001b[38;5;124m\"\u001b[39m\u001b[38;5;124mA\u001b[39m\u001b[38;5;124m\"\u001b[39m:\n\u001b[1;32m     54\u001b[0m     identity \u001b[38;5;241m=\u001b[39m F\u001b[38;5;241m.\u001b[39mmax_pool2d(identity, kernel_size\u001b[38;5;241m=\u001b[39m\u001b[38;5;241m2\u001b[39m, stride\u001b[38;5;241m=\u001b[39m\u001b[38;5;241m2\u001b[39m)\n\u001b[1;32m     55\u001b[0m     identity \u001b[38;5;241m=\u001b[39m torch\u001b[38;5;241m.\u001b[39mcat(\n\u001b[0;32m---> 56\u001b[0m         [identity, torch\u001b[38;5;241m.\u001b[39mzeros(identity\u001b[38;5;241m.\u001b[39mshape)\u001b[38;5;241m.\u001b[39mto(\u001b[38;5;28mself\u001b[39m\u001b[38;5;241m.\u001b[39mdevice)], dim\u001b[38;5;241m=\u001b[39m\u001b[38;5;241m1\u001b[39m\n\u001b[1;32m     57\u001b[0m     )\n\u001b[1;32m     58\u001b[0m \u001b[38;5;28;01melif\u001b[39;00m \u001b[38;5;28mself\u001b[39m\u001b[38;5;241m.\u001b[39mDownsample_option \u001b[38;5;241m==\u001b[39m \u001b[38;5;124m\"\u001b[39m\u001b[38;5;124mC\u001b[39m\u001b[38;5;124m\"\u001b[39m:\n\u001b[1;32m     59\u001b[0m     identity \u001b[38;5;241m=\u001b[39m \u001b[38;5;28mself\u001b[39m\u001b[38;5;241m.\u001b[39mconv_down(identity)\n",
      "\u001b[0;31mKeyboardInterrupt\u001b[0m: "
     ]
    }
   ],
   "source": [
    "Training = DoTraining(\n",
    "    model=model,\n",
    "    criterion=criterion,\n",
    "    optimizer=optimizer,\n",
    "    scaler=scaler,\n",
    "    scheduler=scheduler,\n",
    "    earlystopper=earlystopper,\n",
    "    device=device,\n",
    "    logs=logs,\n",
    "    file_path=file_path,\n",
    ")\n",
    "pre_epochs = len(Training.logs[\"train_loss\"])\n",
    "\n",
    "for epoch in range(NUM_EPOCHS):\n",
    "    now = epoch + 1 + pre_epochs\n",
    "    print(f\"[Epoch {epoch+1+pre_epochs}/{NUM_EPOCHS}] :\")\n",
    "\n",
    "    if DATASET == \"ImageNet2012\":\n",
    "        eval_loss = Training.SingleEpoch(train_dataloader, valid_dataloader)\n",
    "    else:\n",
    "        eval_loss = Training.SingleEpoch(\n",
    "            train_dataloader, valid_dataloader, test_dataloader\n",
    "        )\n",
    "\n",
    "    Training.Save()\n",
    "\n",
    "    if earlystopper.check(eval_loss) == True:\n",
    "        break\n",
    "\n",
    "    print(\"-\" * 50)"
   ]
  },
  {
   "cell_type": "code",
   "execution_count": 23,
   "metadata": {},
   "outputs": [
    {
     "data": {
      "image/png": "[encoded data removed]",
      "text/plain": [
       "<Figure size 1000x500 with 2 Axes>"
      ]
     },
     "metadata": {},
     "output_type": "display_data"
    }
   ],
   "source": [
    "view = LogViewer(logs)\n",
    "view.draw()"
   ]
  },
  {
   "cell_type": "code",
   "execution_count": 24,
   "metadata": {},
   "outputs": [
    {
     "name": "stdout",
     "output_type": "stream",
     "text": [
      "1 epoch: train_loss=0.0065, train_acc=0.1250, test_loss=2.3040, test_acc=0.1023, valid_loss=2.3080, valid_acc=0.0964, lr=0.1000\n",
      "2 epoch: train_loss=0.0064, train_acc=0.1806, test_loss=2.2848, test_acc=0.1216, valid_loss=2.2993, valid_acc=0.1086, lr=0.1000\n",
      "3 epoch: train_loss=0.0063, train_acc=0.2083, test_loss=2.2252, test_acc=0.1417, valid_loss=2.2177, valid_acc=0.1488, lr=0.1000\n",
      "4 epoch: train_loss=0.0058, train_acc=0.3194, test_loss=1.8125, test_acc=0.3150, valid_loss=1.9710, valid_acc=0.2622, lr=0.1000\n",
      "5 epoch: train_loss=0.0051, train_acc=0.3472, test_loss=1.5028, test_acc=0.4366, valid_loss=1.8106, valid_acc=0.3332, lr=0.1000\n",
      "6 epoch: train_loss=0.0043, train_acc=0.4861, test_loss=1.4453, test_acc=0.4837, valid_loss=1.6970, valid_acc=0.3930, lr=0.1000\n",
      "7 epoch: train_loss=0.0047, train_acc=0.4167, test_loss=1.1659, test_acc=0.5863, valid_loss=1.4518, valid_acc=0.4878, lr=0.1000\n",
      "8 epoch: train_loss=0.0038, train_acc=0.5000, test_loss=1.1229, test_acc=0.6024, valid_loss=1.3869, valid_acc=0.5108, lr=0.1000\n",
      "9 epoch: train_loss=0.0035, train_acc=0.5694, test_loss=1.0647, test_acc=0.6348, valid_loss=1.2909, valid_acc=0.5470, lr=0.1000\n",
      "10 epoch: train_loss=0.0032, train_acc=0.5833, test_loss=0.9104, test_acc=0.6854, valid_loss=1.2169, valid_acc=0.5694, lr=0.1000\n",
      "11 epoch: train_loss=0.0032, train_acc=0.6250, test_loss=0.8850, test_acc=0.6978, valid_loss=1.1477, valid_acc=0.5958, lr=0.1000\n",
      "12 epoch: train_loss=0.0028, train_acc=0.6111, test_loss=1.1268, test_acc=0.6336, valid_loss=1.2333, valid_acc=0.5842, lr=0.1000\n",
      "13 epoch: train_loss=0.0027, train_acc=0.6806, test_loss=0.8050, test_acc=0.7286, valid_loss=1.0856, valid_acc=0.6184, lr=0.1000\n",
      "14 epoch: train_loss=0.0027, train_acc=0.7083, test_loss=0.8973, test_acc=0.6991, valid_loss=1.0403, valid_acc=0.6308, lr=0.1000\n",
      "15 epoch: train_loss=0.0031, train_acc=0.7222, test_loss=0.6869, test_acc=0.7582, valid_loss=0.9330, valid_acc=0.6780, lr=0.1000\n",
      "16 epoch: train_loss=0.0027, train_acc=0.6944, test_loss=0.7711, test_acc=0.7339, valid_loss=0.9770, valid_acc=0.6632, lr=0.1000\n",
      "17 epoch: train_loss=0.0028, train_acc=0.6111, test_loss=0.7076, test_acc=0.7511, valid_loss=0.9504, valid_acc=0.6632, lr=0.1000\n",
      "18 epoch: train_loss=0.0023, train_acc=0.7222, test_loss=0.6755, test_acc=0.7673, valid_loss=0.9515, valid_acc=0.6654, lr=0.1000\n",
      "19 epoch: train_loss=0.0022, train_acc=0.7361, test_loss=0.7741, test_acc=0.7398, valid_loss=1.0058, valid_acc=0.6510, lr=0.1000\n",
      "20 epoch: train_loss=0.0024, train_acc=0.6806, test_loss=0.6929, test_acc=0.7630, valid_loss=0.8995, valid_acc=0.6830, lr=0.1000\n",
      "21 epoch: train_loss=0.0026, train_acc=0.7778, test_loss=0.6768, test_acc=0.7674, valid_loss=0.9406, valid_acc=0.6698, lr=0.1000\n",
      "22 epoch: train_loss=0.0027, train_acc=0.7083, test_loss=0.7072, test_acc=0.7552, valid_loss=0.9960, valid_acc=0.6504, lr=0.1000\n",
      "23 epoch: train_loss=0.0032, train_acc=0.5972, test_loss=0.7018, test_acc=0.7587, valid_loss=0.9412, valid_acc=0.6662, lr=0.1000\n",
      "24 epoch: train_loss=0.0019, train_acc=0.7917, test_loss=0.6001, test_acc=0.7940, valid_loss=0.8629, valid_acc=0.7008, lr=0.1000\n",
      "25 epoch: train_loss=0.0023, train_acc=0.7639, test_loss=0.6088, test_acc=0.7913, valid_loss=0.8633, valid_acc=0.6942, lr=0.1000\n",
      "26 epoch: train_loss=0.0027, train_acc=0.7361, test_loss=0.5919, test_acc=0.7935, valid_loss=0.8693, valid_acc=0.7040, lr=0.1000\n",
      "27 epoch: train_loss=0.0024, train_acc=0.7083, test_loss=0.5463, test_acc=0.8135, valid_loss=0.8291, valid_acc=0.7142, lr=0.1000\n",
      "28 epoch: train_loss=0.0023, train_acc=0.6944, test_loss=0.6836, test_acc=0.7785, valid_loss=0.9920, valid_acc=0.6636, lr=0.1000\n",
      "29 epoch: train_loss=0.0018, train_acc=0.8194, test_loss=0.5680, test_acc=0.8065, valid_loss=0.8095, valid_acc=0.7150, lr=0.1000\n",
      "30 epoch: train_loss=0.0017, train_acc=0.7917, test_loss=0.6977, test_acc=0.7716, valid_loss=0.9776, valid_acc=0.6636, lr=0.1000\n",
      "31 epoch: train_loss=0.0031, train_acc=0.5833, test_loss=0.5316, test_acc=0.8132, valid_loss=0.7971, valid_acc=0.7134, lr=0.1000\n",
      "32 epoch: train_loss=0.0019, train_acc=0.7778, test_loss=0.5134, test_acc=0.8231, valid_loss=0.8360, valid_acc=0.7246, lr=0.1000\n",
      "33 epoch: train_loss=0.0022, train_acc=0.6944, test_loss=0.5178, test_acc=0.8196, valid_loss=0.8260, valid_acc=0.7140, lr=0.1000\n",
      "34 epoch: train_loss=0.0019, train_acc=0.7778, test_loss=0.5412, test_acc=0.8186, valid_loss=0.8173, valid_acc=0.7186, lr=0.1000\n",
      "35 epoch: train_loss=0.0020, train_acc=0.7500, test_loss=0.4963, test_acc=0.8315, valid_loss=0.7871, valid_acc=0.7222, lr=0.1000\n",
      "36 epoch: train_loss=0.0024, train_acc=0.7222, test_loss=0.5785, test_acc=0.8104, valid_loss=0.9093, valid_acc=0.6998, lr=0.1000\n",
      "37 epoch: train_loss=0.0022, train_acc=0.7083, test_loss=0.5366, test_acc=0.8191, valid_loss=0.7985, valid_acc=0.7288, lr=0.1000\n",
      "38 epoch: train_loss=0.0015, train_acc=0.8056, test_loss=0.5404, test_acc=0.8188, valid_loss=0.8401, valid_acc=0.7160, lr=0.1000\n",
      "39 epoch: train_loss=0.0022, train_acc=0.7639, test_loss=0.4882, test_acc=0.8328, valid_loss=0.9004, valid_acc=0.7046, lr=0.1000\n",
      "40 epoch: train_loss=0.0019, train_acc=0.7778, test_loss=0.6692, test_acc=0.7803, valid_loss=0.8901, valid_acc=0.7014, lr=0.1000\n",
      "41 epoch: train_loss=0.0022, train_acc=0.7222, test_loss=0.4901, test_acc=0.8345, valid_loss=0.7544, valid_acc=0.7308, lr=0.1000\n",
      "42 epoch: train_loss=0.0014, train_acc=0.8056, test_loss=0.5436, test_acc=0.8221, valid_loss=0.8165, valid_acc=0.7186, lr=0.1000\n",
      "43 epoch: train_loss=0.0017, train_acc=0.8194, test_loss=0.5593, test_acc=0.8154, valid_loss=0.8739, valid_acc=0.6984, lr=0.1000\n",
      "44 epoch: train_loss=0.0021, train_acc=0.7222, test_loss=0.5431, test_acc=0.8155, valid_loss=0.7494, valid_acc=0.7366, lr=0.1000\n",
      "45 epoch: train_loss=0.0023, train_acc=0.7500, test_loss=0.4898, test_acc=0.8328, valid_loss=0.7419, valid_acc=0.7508, lr=0.1000\n",
      "46 epoch: train_loss=0.0024, train_acc=0.6944, test_loss=0.6327, test_acc=0.8042, valid_loss=0.8387, valid_acc=0.7212, lr=0.1000\n",
      "47 epoch: train_loss=0.0019, train_acc=0.7500, test_loss=0.6127, test_acc=0.8009, valid_loss=0.9610, valid_acc=0.6788, lr=0.1000\n",
      "48 epoch: train_loss=0.0017, train_acc=0.8333, test_loss=0.4814, test_acc=0.8366, valid_loss=0.8281, valid_acc=0.7224, lr=0.1000\n",
      "49 epoch: train_loss=0.0018, train_acc=0.7361, test_loss=0.5166, test_acc=0.8248, valid_loss=0.8236, valid_acc=0.7208, lr=0.1000\n",
      "50 epoch: train_loss=0.0018, train_acc=0.7639, test_loss=0.5122, test_acc=0.8247, valid_loss=0.7509, valid_acc=0.7420, lr=0.1000\n",
      "51 epoch: train_loss=0.0019, train_acc=0.7639, test_loss=0.5122, test_acc=0.8255, valid_loss=0.7888, valid_acc=0.7256, lr=0.1000\n",
      "52 epoch: train_loss=0.0010, train_acc=0.9167, test_loss=0.4755, test_acc=0.8449, valid_loss=0.7325, valid_acc=0.7492, lr=0.1000\n",
      "53 epoch: train_loss=0.0021, train_acc=0.7083, test_loss=0.4533, test_acc=0.8462, valid_loss=0.7319, valid_acc=0.7494, lr=0.1000\n",
      "54 epoch: train_loss=0.0024, train_acc=0.6944, test_loss=0.4914, test_acc=0.8329, valid_loss=0.7352, valid_acc=0.7438, lr=0.1000\n",
      "55 epoch: train_loss=0.0019, train_acc=0.7778, test_loss=0.4840, test_acc=0.8366, valid_loss=0.7020, valid_acc=0.7638, lr=0.1000\n",
      "56 epoch: train_loss=0.0022, train_acc=0.7500, test_loss=0.5701, test_acc=0.8202, valid_loss=0.8091, valid_acc=0.7248, lr=0.1000\n",
      "57 epoch: train_loss=0.0018, train_acc=0.7917, test_loss=0.4611, test_acc=0.8467, valid_loss=0.8038, valid_acc=0.7458, lr=0.1000\n",
      "58 epoch: train_loss=0.0018, train_acc=0.7778, test_loss=0.6852, test_acc=0.7901, valid_loss=0.9372, valid_acc=0.6932, lr=0.1000\n",
      "59 epoch: train_loss=0.0017, train_acc=0.7639, test_loss=0.5156, test_acc=0.8301, valid_loss=0.8392, valid_acc=0.7202, lr=0.1000\n",
      "60 epoch: train_loss=0.0021, train_acc=0.7222, test_loss=0.4930, test_acc=0.8355, valid_loss=0.8251, valid_acc=0.7214, lr=0.1000\n",
      "61 epoch: train_loss=0.0012, train_acc=0.8333, test_loss=0.5057, test_acc=0.8329, valid_loss=0.7697, valid_acc=0.7382, lr=0.1000\n",
      "62 epoch: train_loss=0.0018, train_acc=0.7917, test_loss=0.4484, test_acc=0.8541, valid_loss=0.8274, valid_acc=0.7312, lr=0.1000\n",
      "63 epoch: train_loss=0.0011, train_acc=0.8056, test_loss=0.4648, test_acc=0.8413, valid_loss=0.7228, valid_acc=0.7466, lr=0.1000\n",
      "64 epoch: train_loss=0.0018, train_acc=0.7639, test_loss=0.5194, test_acc=0.8321, valid_loss=0.7484, valid_acc=0.7418, lr=0.1000\n",
      "65 epoch: train_loss=0.0015, train_acc=0.8194, test_loss=0.4068, test_acc=0.8581, valid_loss=0.7327, valid_acc=0.7492, lr=0.1000\n",
      "66 epoch: train_loss=0.0016, train_acc=0.8056, test_loss=0.4350, test_acc=0.8501, valid_loss=0.6818, valid_acc=0.7632, lr=0.1000\n",
      "67 epoch: train_loss=0.0017, train_acc=0.8750, test_loss=0.4708, test_acc=0.8418, valid_loss=0.7032, valid_acc=0.7544, lr=0.1000\n",
      "68 epoch: train_loss=0.0022, train_acc=0.7361, test_loss=0.4824, test_acc=0.8453, valid_loss=0.7522, valid_acc=0.7416, lr=0.1000\n",
      "69 epoch: train_loss=0.0017, train_acc=0.7639, test_loss=0.4412, test_acc=0.8488, valid_loss=0.7423, valid_acc=0.7498, lr=0.1000\n",
      "70 epoch: train_loss=0.0027, train_acc=0.6389, test_loss=0.4440, test_acc=0.8497, valid_loss=0.7485, valid_acc=0.7530, lr=0.1000\n",
      "71 epoch: train_loss=0.0017, train_acc=0.7917, test_loss=0.5386, test_acc=0.8227, valid_loss=0.8007, valid_acc=0.7284, lr=0.1000\n",
      "72 epoch: train_loss=0.0014, train_acc=0.8333, test_loss=0.4024, test_acc=0.8598, valid_loss=0.6735, valid_acc=0.7672, lr=0.1000\n",
      "73 epoch: train_loss=0.0016, train_acc=0.7917, test_loss=0.4550, test_acc=0.8494, valid_loss=0.7532, valid_acc=0.7476, lr=0.1000\n",
      "74 epoch: train_loss=0.0019, train_acc=0.7361, test_loss=0.4564, test_acc=0.8451, valid_loss=0.7453, valid_acc=0.7466, lr=0.1000\n",
      "75 epoch: train_loss=0.0013, train_acc=0.8750, test_loss=0.4324, test_acc=0.8507, valid_loss=0.6792, valid_acc=0.7626, lr=0.1000\n",
      "76 epoch: train_loss=0.0023, train_acc=0.7361, test_loss=0.4403, test_acc=0.8526, valid_loss=0.6975, valid_acc=0.7650, lr=0.1000\n",
      "77 epoch: train_loss=0.0016, train_acc=0.8611, test_loss=0.4822, test_acc=0.8352, valid_loss=0.7218, valid_acc=0.7494, lr=0.1000\n",
      "78 epoch: train_loss=0.0020, train_acc=0.7500, test_loss=0.4022, test_acc=0.8624, valid_loss=0.6781, valid_acc=0.7624, lr=0.1000\n",
      "79 epoch: train_loss=0.0020, train_acc=0.7778, test_loss=0.5154, test_acc=0.8371, valid_loss=0.8849, valid_acc=0.7026, lr=0.1000\n",
      "80 epoch: train_loss=0.0014, train_acc=0.8333, test_loss=0.4614, test_acc=0.8434, valid_loss=0.7069, valid_acc=0.7586, lr=0.1000\n",
      "81 epoch: train_loss=0.0022, train_acc=0.7083, test_loss=0.5244, test_acc=0.8239, valid_loss=0.7361, valid_acc=0.7468, lr=0.1000\n",
      "82 epoch: train_loss=0.0018, train_acc=0.7500, test_loss=0.4897, test_acc=0.8293, valid_loss=0.7712, valid_acc=0.7466, lr=0.1000\n",
      "83 epoch: train_loss=0.0023, train_acc=0.7361, test_loss=0.5096, test_acc=0.8376, valid_loss=0.8808, valid_acc=0.7206, lr=0.1000\n",
      "84 epoch: train_loss=0.0018, train_acc=0.7778, test_loss=0.3985, test_acc=0.8614, valid_loss=0.6530, valid_acc=0.7752, lr=0.1000\n",
      "85 epoch: train_loss=0.0014, train_acc=0.8056, test_loss=0.4218, test_acc=0.8612, valid_loss=0.7030, valid_acc=0.7650, lr=0.1000\n",
      "86 epoch: train_loss=0.0017, train_acc=0.7778, test_loss=0.4325, test_acc=0.8575, valid_loss=0.7028, valid_acc=0.7602, lr=0.1000\n",
      "87 epoch: train_loss=0.0015, train_acc=0.8056, test_loss=0.4548, test_acc=0.8518, valid_loss=0.6681, valid_acc=0.7664, lr=0.1000\n",
      "88 epoch: train_loss=0.0016, train_acc=0.7917, test_loss=0.4280, test_acc=0.8542, valid_loss=0.6932, valid_acc=0.7628, lr=0.1000\n",
      "89 epoch: train_loss=0.0018, train_acc=0.7639, test_loss=0.4669, test_acc=0.8468, valid_loss=0.8418, valid_acc=0.7268, lr=0.1000\n",
      "90 epoch: train_loss=0.0015, train_acc=0.8194, test_loss=0.4109, test_acc=0.8552, valid_loss=0.7372, valid_acc=0.7486, lr=0.1000\n",
      "91 epoch: train_loss=0.0023, train_acc=0.7222, test_loss=0.4239, test_acc=0.8578, valid_loss=0.7045, valid_acc=0.7628, lr=0.1000\n",
      "92 epoch: train_loss=0.0017, train_acc=0.7778, test_loss=0.2982, test_acc=0.8981, valid_loss=0.5067, valid_acc=0.8220, lr=0.0100\n",
      "93 epoch: train_loss=0.0015, train_acc=0.8056, test_loss=0.2823, test_acc=0.9055, valid_loss=0.5029, valid_acc=0.8226, lr=0.0100\n",
      "94 epoch: train_loss=0.0015, train_acc=0.8194, test_loss=0.2756, test_acc=0.9047, valid_loss=0.4918, valid_acc=0.8276, lr=0.0100\n",
      "95 epoch: train_loss=0.0009, train_acc=0.9028, test_loss=0.2778, test_acc=0.9055, valid_loss=0.5041, valid_acc=0.8306, lr=0.0100\n",
      "96 epoch: train_loss=0.0012, train_acc=0.8611, test_loss=0.2683, test_acc=0.9091, valid_loss=0.4756, valid_acc=0.8334, lr=0.0100\n",
      "97 epoch: train_loss=0.0011, train_acc=0.8333, test_loss=0.2717, test_acc=0.9096, valid_loss=0.4892, valid_acc=0.8278, lr=0.0100\n",
      "98 epoch: train_loss=0.0016, train_acc=0.8056, test_loss=0.2707, test_acc=0.9092, valid_loss=0.5047, valid_acc=0.8338, lr=0.0100\n",
      "99 epoch: train_loss=0.0009, train_acc=0.8611, test_loss=0.2687, test_acc=0.9081, valid_loss=0.5008, valid_acc=0.8230, lr=0.0100\n",
      "100 epoch: train_loss=0.0009, train_acc=0.9306, test_loss=0.2633, test_acc=0.9099, valid_loss=0.4823, valid_acc=0.8294, lr=0.0100\n",
      "101 epoch: train_loss=0.0009, train_acc=0.8750, test_loss=0.2589, test_acc=0.9128, valid_loss=0.4961, valid_acc=0.8210, lr=0.0100\n",
      "102 epoch: train_loss=0.0009, train_acc=0.9167, test_loss=0.2675, test_acc=0.9094, valid_loss=0.4604, valid_acc=0.8376, lr=0.0100\n",
      "103 epoch: train_loss=0.0012, train_acc=0.8611, test_loss=0.2581, test_acc=0.9132, valid_loss=0.4715, valid_acc=0.8396, lr=0.0100\n",
      "104 epoch: train_loss=0.0008, train_acc=0.8889, test_loss=0.2617, test_acc=0.9117, valid_loss=0.4728, valid_acc=0.8338, lr=0.0100\n",
      "105 epoch: train_loss=0.0020, train_acc=0.7083, test_loss=0.2603, test_acc=0.9126, valid_loss=0.4564, valid_acc=0.8420, lr=0.0100\n",
      "106 epoch: train_loss=0.0012, train_acc=0.8472, test_loss=0.2602, test_acc=0.9130, valid_loss=0.4708, valid_acc=0.8308, lr=0.0100\n",
      "107 epoch: train_loss=0.0008, train_acc=0.9167, test_loss=0.2634, test_acc=0.9118, valid_loss=0.4759, valid_acc=0.8342, lr=0.0100\n",
      "108 epoch: train_loss=0.0011, train_acc=0.8472, test_loss=0.2620, test_acc=0.9124, valid_loss=0.4819, valid_acc=0.8320, lr=0.0100\n",
      "109 epoch: train_loss=0.0014, train_acc=0.8194, test_loss=0.2654, test_acc=0.9097, valid_loss=0.4757, valid_acc=0.8338, lr=0.0100\n",
      "110 epoch: train_loss=0.0011, train_acc=0.8194, test_loss=0.2688, test_acc=0.9094, valid_loss=0.4934, valid_acc=0.8378, lr=0.0100\n",
      "111 epoch: train_loss=0.0014, train_acc=0.8472, test_loss=0.2591, test_acc=0.9136, valid_loss=0.4651, valid_acc=0.8416, lr=0.0100\n",
      "112 epoch: train_loss=0.0008, train_acc=0.9028, test_loss=0.2525, test_acc=0.9134, valid_loss=0.4672, valid_acc=0.8382, lr=0.0100\n",
      "113 epoch: train_loss=0.0007, train_acc=0.9167, test_loss=0.2613, test_acc=0.9160, valid_loss=0.4836, valid_acc=0.8386, lr=0.0100\n",
      "114 epoch: train_loss=0.0009, train_acc=0.9028, test_loss=0.2614, test_acc=0.9145, valid_loss=0.4587, valid_acc=0.8366, lr=0.0100\n",
      "115 epoch: train_loss=0.0009, train_acc=0.9028, test_loss=0.2591, test_acc=0.9144, valid_loss=0.4575, valid_acc=0.8416, lr=0.0100\n",
      "116 epoch: train_loss=0.0012, train_acc=0.8333, test_loss=0.2628, test_acc=0.9142, valid_loss=0.4583, valid_acc=0.8384, lr=0.0100\n",
      "117 epoch: train_loss=0.0012, train_acc=0.8611, test_loss=0.2522, test_acc=0.9170, valid_loss=0.4859, valid_acc=0.8356, lr=0.0100\n",
      "118 epoch: train_loss=0.0007, train_acc=0.8889, test_loss=0.2565, test_acc=0.9155, valid_loss=0.4698, valid_acc=0.8346, lr=0.0100\n",
      "119 epoch: train_loss=0.0012, train_acc=0.8472, test_loss=0.2555, test_acc=0.9139, valid_loss=0.4630, valid_acc=0.8414, lr=0.0100\n",
      "120 epoch: train_loss=0.0008, train_acc=0.9167, test_loss=0.2577, test_acc=0.9151, valid_loss=0.4661, valid_acc=0.8464, lr=0.0100\n",
      "121 epoch: train_loss=0.0010, train_acc=0.8611, test_loss=0.2612, test_acc=0.9132, valid_loss=0.4767, valid_acc=0.8382, lr=0.0100\n",
      "122 epoch: train_loss=0.0007, train_acc=0.9306, test_loss=0.2626, test_acc=0.9150, valid_loss=0.4675, valid_acc=0.8388, lr=0.0100\n",
      "123 epoch: train_loss=0.0015, train_acc=0.8194, test_loss=0.2573, test_acc=0.9183, valid_loss=0.4938, valid_acc=0.8440, lr=0.0100\n",
      "124 epoch: train_loss=0.0012, train_acc=0.8611, test_loss=0.2702, test_acc=0.9155, valid_loss=0.4810, valid_acc=0.8398, lr=0.0100\n",
      "125 epoch: train_loss=0.0010, train_acc=0.9028, test_loss=0.2588, test_acc=0.9131, valid_loss=0.4774, valid_acc=0.8384, lr=0.0100\n",
      "126 epoch: train_loss=0.0011, train_acc=0.8472, test_loss=0.2668, test_acc=0.9154, valid_loss=0.5040, valid_acc=0.8342, lr=0.0100\n",
      "127 epoch: train_loss=0.0011, train_acc=0.8611, test_loss=0.2497, test_acc=0.9175, valid_loss=0.5071, valid_acc=0.8308, lr=0.0100\n",
      "128 epoch: train_loss=0.0010, train_acc=0.8472, test_loss=0.2722, test_acc=0.9161, valid_loss=0.4794, valid_acc=0.8474, lr=0.0100\n",
      "129 epoch: train_loss=0.0013, train_acc=0.8056, test_loss=0.2507, test_acc=0.9168, valid_loss=0.4686, valid_acc=0.8382, lr=0.0100\n",
      "130 epoch: train_loss=0.0009, train_acc=0.8889, test_loss=0.2571, test_acc=0.9166, valid_loss=0.4878, valid_acc=0.8342, lr=0.0100\n",
      "131 epoch: train_loss=0.0010, train_acc=0.9028, test_loss=0.2642, test_acc=0.9166, valid_loss=0.4966, valid_acc=0.8310, lr=0.0100\n",
      "132 epoch: train_loss=0.0013, train_acc=0.8750, test_loss=0.2575, test_acc=0.9147, valid_loss=0.4631, valid_acc=0.8378, lr=0.0100\n",
      "133 epoch: train_loss=0.0008, train_acc=0.9028, test_loss=0.2562, test_acc=0.9162, valid_loss=0.4725, valid_acc=0.8428, lr=0.0100\n",
      "134 epoch: train_loss=0.0009, train_acc=0.8889, test_loss=0.2489, test_acc=0.9152, valid_loss=0.4732, valid_acc=0.8356, lr=0.0100\n",
      "135 epoch: train_loss=0.0012, train_acc=0.8056, test_loss=0.2534, test_acc=0.9170, valid_loss=0.4726, valid_acc=0.8418, lr=0.0100\n",
      "136 epoch: train_loss=0.0007, train_acc=0.9167, test_loss=0.2509, test_acc=0.9171, valid_loss=0.4484, valid_acc=0.8464, lr=0.0100\n",
      "137 epoch: train_loss=0.0019, train_acc=0.8056, test_loss=0.2645, test_acc=0.9146, valid_loss=0.4630, valid_acc=0.8446, lr=0.0100\n",
      "138 epoch: train_loss=0.0009, train_acc=0.9306, test_loss=0.2499, test_acc=0.9198, valid_loss=0.4579, valid_acc=0.8442, lr=0.0010\n",
      "139 epoch: train_loss=0.0008, train_acc=0.9167, test_loss=0.2458, test_acc=0.9181, valid_loss=0.4534, valid_acc=0.8428, lr=0.0010\n",
      "140 epoch: train_loss=0.0012, train_acc=0.8333, test_loss=0.2488, test_acc=0.9194, valid_loss=0.4820, valid_acc=0.8470, lr=0.0010\n",
      "141 epoch: train_loss=0.0011, train_acc=0.8472, test_loss=0.2434, test_acc=0.9215, valid_loss=0.4386, valid_acc=0.8502, lr=0.0010\n",
      "142 epoch: train_loss=0.0006, train_acc=0.9306, test_loss=0.2449, test_acc=0.9216, valid_loss=0.4244, valid_acc=0.8544, lr=0.0010\n",
      "143 epoch: train_loss=0.0008, train_acc=0.9167, test_loss=0.2449, test_acc=0.9205, valid_loss=0.4563, valid_acc=0.8446, lr=0.0010\n",
      "144 epoch: train_loss=0.0008, train_acc=0.9306, test_loss=0.2419, test_acc=0.9211, valid_loss=0.4359, valid_acc=0.8480, lr=0.0010\n",
      "145 epoch: train_loss=0.0007, train_acc=0.9306, test_loss=0.2410, test_acc=0.9220, valid_loss=0.4332, valid_acc=0.8478, lr=0.0010\n",
      "146 epoch: train_loss=0.0006, train_acc=0.9306, test_loss=0.2403, test_acc=0.9210, valid_loss=0.4540, valid_acc=0.8426, lr=0.0010\n",
      "147 epoch: train_loss=0.0010, train_acc=0.8472, test_loss=0.2433, test_acc=0.9218, valid_loss=0.4567, valid_acc=0.8458, lr=0.0010\n",
      "148 epoch: train_loss=0.0008, train_acc=0.9306, test_loss=0.2403, test_acc=0.9216, valid_loss=0.4236, valid_acc=0.8516, lr=0.0010\n",
      "149 epoch: train_loss=0.0008, train_acc=0.9028, test_loss=0.2407, test_acc=0.9195, valid_loss=0.4489, valid_acc=0.8492, lr=0.0010\n",
      "150 epoch: train_loss=0.0009, train_acc=0.8750, test_loss=0.2403, test_acc=0.9221, valid_loss=0.4550, valid_acc=0.8476, lr=0.0010\n",
      "151 epoch: train_loss=0.0006, train_acc=0.9167, test_loss=0.2470, test_acc=0.9205, valid_loss=0.4215, valid_acc=0.8558, lr=0.0010\n",
      "152 epoch: train_loss=0.0011, train_acc=0.8750, test_loss=0.2437, test_acc=0.9211, valid_loss=0.4622, valid_acc=0.8438, lr=0.0010\n",
      "153 epoch: train_loss=0.0009, train_acc=0.9167, test_loss=0.2483, test_acc=0.9209, valid_loss=0.4405, valid_acc=0.8526, lr=0.0010\n",
      "154 epoch: train_loss=0.0009, train_acc=0.8472, test_loss=0.2445, test_acc=0.9217, valid_loss=0.4302, valid_acc=0.8622, lr=0.0010\n",
      "155 epoch: train_loss=0.0010, train_acc=0.8889, test_loss=0.2418, test_acc=0.9223, valid_loss=0.4502, valid_acc=0.8466, lr=0.0010\n",
      "156 epoch: train_loss=0.0005, train_acc=0.9167, test_loss=0.2452, test_acc=0.9212, valid_loss=0.4442, valid_acc=0.8500, lr=0.0010\n",
      "157 epoch: train_loss=0.0012, train_acc=0.8750, test_loss=0.2383, test_acc=0.9215, valid_loss=0.4549, valid_acc=0.8472, lr=0.0010\n",
      "158 epoch: train_loss=0.0011, train_acc=0.8472, test_loss=0.2381, test_acc=0.9214, valid_loss=0.4554, valid_acc=0.8506, lr=0.0010\n",
      "159 epoch: train_loss=0.0014, train_acc=0.8611, test_loss=0.2434, test_acc=0.9217, valid_loss=0.4447, valid_acc=0.8450, lr=0.0010\n",
      "160 epoch: train_loss=0.0009, train_acc=0.9028, test_loss=0.2468, test_acc=0.9211, valid_loss=0.4659, valid_acc=0.8410, lr=0.0010\n",
      "161 epoch: train_loss=0.0006, train_acc=0.8750, test_loss=0.2405, test_acc=0.9225, valid_loss=0.4239, valid_acc=0.8546, lr=0.0010\n",
      "162 epoch: train_loss=0.0007, train_acc=0.9028, test_loss=0.2382, test_acc=0.9201, valid_loss=0.4540, valid_acc=0.8446, lr=0.0010\n",
      "163 epoch: train_loss=0.0007, train_acc=0.9028, test_loss=0.2411, test_acc=0.9220, valid_loss=0.4572, valid_acc=0.8408, lr=0.0010\n",
      "164 epoch: train_loss=0.0007, train_acc=0.9028, test_loss=0.2453, test_acc=0.9208, valid_loss=0.4727, valid_acc=0.8472, lr=0.0010\n",
      "165 epoch: train_loss=0.0008, train_acc=0.9028, test_loss=0.2457, test_acc=0.9226, valid_loss=0.4346, valid_acc=0.8498, lr=0.0010\n",
      "166 epoch: train_loss=0.0005, train_acc=0.9306, test_loss=0.2482, test_acc=0.9215, valid_loss=0.4240, valid_acc=0.8542, lr=0.0010\n",
      "167 epoch: train_loss=0.0006, train_acc=0.9306, test_loss=0.2460, test_acc=0.9219, valid_loss=0.4283, valid_acc=0.8546, lr=0.0010\n",
      "168 epoch: train_loss=0.0006, train_acc=0.9444, test_loss=0.2457, test_acc=0.9218, valid_loss=0.4206, valid_acc=0.8478, lr=0.0010\n",
      "169 epoch: train_loss=0.0006, train_acc=0.9167, test_loss=0.2489, test_acc=0.9216, valid_loss=0.4684, valid_acc=0.8472, lr=0.0010\n",
      "170 epoch: train_loss=0.0007, train_acc=0.9028, test_loss=0.2437, test_acc=0.9220, valid_loss=0.4519, valid_acc=0.8466, lr=0.0010\n",
      "171 epoch: train_loss=0.0011, train_acc=0.8889, test_loss=0.2400, test_acc=0.9226, valid_loss=0.4464, valid_acc=0.8434, lr=0.0010\n",
      "172 epoch: train_loss=0.0009, train_acc=0.8889, test_loss=0.2428, test_acc=0.9209, valid_loss=0.4365, valid_acc=0.8500, lr=0.0010\n",
      "173 epoch: train_loss=0.0007, train_acc=0.9167, test_loss=0.2385, test_acc=0.9223, valid_loss=0.4289, valid_acc=0.8586, lr=0.0010\n",
      "174 epoch: train_loss=0.0009, train_acc=0.8611, test_loss=0.2435, test_acc=0.9207, valid_loss=0.4244, valid_acc=0.8590, lr=0.0010\n",
      "175 epoch: train_loss=0.0010, train_acc=0.8472, test_loss=0.2440, test_acc=0.9210, valid_loss=0.4594, valid_acc=0.8428, lr=0.0010\n",
      "176 epoch: train_loss=0.0010, train_acc=0.8750, test_loss=0.2397, test_acc=0.9214, valid_loss=0.4653, valid_acc=0.8498, lr=0.0010\n",
      "177 epoch: train_loss=0.0006, train_acc=0.9167, test_loss=0.2430, test_acc=0.9232, valid_loss=0.4680, valid_acc=0.8520, lr=0.0010\n",
      "178 epoch: train_loss=0.0008, train_acc=0.9167, test_loss=0.2398, test_acc=0.9205, valid_loss=0.4271, valid_acc=0.8506, lr=0.0010\n",
      "179 epoch: train_loss=0.0006, train_acc=0.9444, test_loss=0.2392, test_acc=0.9227, valid_loss=0.4440, valid_acc=0.8502, lr=0.0010\n",
      "180 epoch: train_loss=0.0013, train_acc=0.8750, test_loss=0.2437, test_acc=0.9226, valid_loss=0.4522, valid_acc=0.8438, lr=0.0010\n",
      "181 epoch: train_loss=0.0010, train_acc=0.8472, test_loss=0.2397, test_acc=0.9217, valid_loss=0.4355, valid_acc=0.8466, lr=0.0010\n",
      "182 epoch: train_loss=0.0012, train_acc=0.8472, test_loss=0.2454, test_acc=0.9231, valid_loss=0.4631, valid_acc=0.8452, lr=0.0010\n",
      "183 epoch: train_loss=0.0010, train_acc=0.8889, test_loss=0.2418, test_acc=0.9211, valid_loss=0.4504, valid_acc=0.8502, lr=0.0010\n",
      "184 epoch: train_loss=0.0014, train_acc=0.8333, test_loss=0.2402, test_acc=0.9215, valid_loss=0.4594, valid_acc=0.8470, lr=0.0010\n",
      "185 epoch: train_loss=0.0014, train_acc=0.8333, test_loss=0.2435, test_acc=0.9214, valid_loss=0.4412, valid_acc=0.8500, lr=0.0010\n",
      "186 epoch: train_loss=0.0012, train_acc=0.8472, test_loss=0.2387, test_acc=0.9235, valid_loss=0.4517, valid_acc=0.8428, lr=0.0010\n",
      "187 epoch: train_loss=0.0009, train_acc=0.8750, test_loss=0.2382, test_acc=0.9226, valid_loss=0.4424, valid_acc=0.8528, lr=0.0010\n",
      "188 epoch: train_loss=0.0009, train_acc=0.9028, test_loss=0.2471, test_acc=0.9228, valid_loss=0.4536, valid_acc=0.8540, lr=0.0010\n",
      "189 epoch: train_loss=0.0008, train_acc=0.9028, test_loss=0.2381, test_acc=0.9240, valid_loss=0.4442, valid_acc=0.8480, lr=0.0010\n",
      "190 epoch: train_loss=0.0011, train_acc=0.8333, test_loss=0.2382, test_acc=0.9227, valid_loss=0.4383, valid_acc=0.8502, lr=0.0010\n",
      "191 epoch: train_loss=0.0007, train_acc=0.9306, test_loss=0.2397, test_acc=0.9224, valid_loss=0.4754, valid_acc=0.8466, lr=0.0010\n",
      "192 epoch: train_loss=0.0007, train_acc=0.9583, test_loss=0.2359, test_acc=0.9237, valid_loss=0.4649, valid_acc=0.8432, lr=0.0010\n",
      "193 epoch: train_loss=0.0010, train_acc=0.8194, test_loss=0.2371, test_acc=0.9237, valid_loss=0.4381, valid_acc=0.8534, lr=0.0010\n",
      "194 epoch: train_loss=0.0013, train_acc=0.8472, test_loss=0.2484, test_acc=0.9228, valid_loss=0.4490, valid_acc=0.8506, lr=0.0010\n",
      "195 epoch: train_loss=0.0011, train_acc=0.8611, test_loss=0.2376, test_acc=0.9237, valid_loss=0.4486, valid_acc=0.8490, lr=0.0010\n",
      "196 epoch: train_loss=0.0011, train_acc=0.8472, test_loss=0.2437, test_acc=0.9220, valid_loss=0.4570, valid_acc=0.8494, lr=0.0010\n",
      "197 epoch: train_loss=0.0007, train_acc=0.9028, test_loss=0.2392, test_acc=0.9225, valid_loss=0.4367, valid_acc=0.8508, lr=0.0010\n",
      "198 epoch: train_loss=0.0007, train_acc=0.8750, test_loss=0.2413, test_acc=0.9228, valid_loss=0.4530, valid_acc=0.8542, lr=0.0010\n",
      "199 epoch: train_loss=0.0006, train_acc=0.9444, test_loss=0.2412, test_acc=0.9228, valid_loss=0.4547, valid_acc=0.8522, lr=0.0010\n",
      "200 epoch: train_loss=0.0008, train_acc=0.9306, test_loss=0.2440, test_acc=0.9229, valid_loss=0.4645, valid_acc=0.8482, lr=0.0010\n",
      "201 epoch: train_loss=0.0008, train_acc=0.9306, test_loss=0.2398, test_acc=0.9226, valid_loss=0.4381, valid_acc=0.8512, lr=0.0010\n",
      "202 epoch: train_loss=0.0007, train_acc=0.9167, test_loss=0.2395, test_acc=0.9226, valid_loss=0.4425, valid_acc=0.8536, lr=0.0010\n",
      "203 epoch: train_loss=0.0005, train_acc=0.9444, test_loss=0.2488, test_acc=0.9226, valid_loss=0.4307, valid_acc=0.8560, lr=0.0010\n",
      "204 epoch: train_loss=0.0011, train_acc=0.8333, test_loss=0.2378, test_acc=0.9238, valid_loss=0.4359, valid_acc=0.8506, lr=0.0010\n",
      "205 epoch: train_loss=0.0012, train_acc=0.8472, test_loss=0.2409, test_acc=0.9228, valid_loss=0.4469, valid_acc=0.8456, lr=0.0010\n",
      "206 epoch: train_loss=0.0010, train_acc=0.8333, test_loss=0.2401, test_acc=0.9230, valid_loss=0.4276, valid_acc=0.8520, lr=0.0010\n",
      "207 epoch: train_loss=0.0007, train_acc=0.9167, test_loss=0.2434, test_acc=0.9231, valid_loss=0.4607, valid_acc=0.8470, lr=0.0010\n",
      "208 epoch: train_loss=0.0008, train_acc=0.9306, test_loss=0.2387, test_acc=0.9227, valid_loss=0.4431, valid_acc=0.8554, lr=0.0010\n",
      "209 epoch: train_loss=0.0016, train_acc=0.8056, test_loss=0.2380, test_acc=0.9240, valid_loss=0.4427, valid_acc=0.8540, lr=0.0010\n",
      "210 epoch: train_loss=0.0009, train_acc=0.9167, test_loss=0.2387, test_acc=0.9229, valid_loss=0.4593, valid_acc=0.8432, lr=0.0010\n",
      "211 epoch: train_loss=0.0003, train_acc=0.9722, test_loss=0.2377, test_acc=0.9224, valid_loss=0.4447, valid_acc=0.8462, lr=0.0010\n",
      "212 epoch: train_loss=0.0011, train_acc=0.9167, test_loss=0.2374, test_acc=0.9238, valid_loss=0.4513, valid_acc=0.8440, lr=0.0010\n",
      "213 epoch: train_loss=0.0006, train_acc=0.9167, test_loss=0.2403, test_acc=0.9234, valid_loss=0.4801, valid_acc=0.8456, lr=0.0010\n",
      "214 epoch: train_loss=0.0006, train_acc=0.9028, test_loss=0.2477, test_acc=0.9227, valid_loss=0.4440, valid_acc=0.8434, lr=0.0010\n",
      "215 epoch: train_loss=0.0007, train_acc=0.9167, test_loss=0.2393, test_acc=0.9232, valid_loss=0.4695, valid_acc=0.8488, lr=0.0010\n",
      "216 epoch: train_loss=0.0009, train_acc=0.9028, test_loss=0.2394, test_acc=0.9228, valid_loss=0.4340, valid_acc=0.8550, lr=0.0010\n",
      "217 epoch: train_loss=0.0006, train_acc=0.9444, test_loss=0.2367, test_acc=0.9253, valid_loss=0.4609, valid_acc=0.8514, lr=0.0010\n",
      "218 epoch: train_loss=0.0012, train_acc=0.8333, test_loss=0.2390, test_acc=0.9228, valid_loss=0.4540, valid_acc=0.8550, lr=0.0010\n",
      "219 epoch: train_loss=0.0012, train_acc=0.8611, test_loss=0.2418, test_acc=0.9218, valid_loss=0.4519, valid_acc=0.8508, lr=0.0010\n",
      "220 epoch: train_loss=0.0012, train_acc=0.8194, test_loss=0.2458, test_acc=0.9234, valid_loss=0.4337, valid_acc=0.8538, lr=0.0010\n",
      "221 epoch: train_loss=0.0008, train_acc=0.9167, test_loss=0.2412, test_acc=0.9240, valid_loss=0.4350, valid_acc=0.8576, lr=0.0010\n",
      "222 epoch: train_loss=0.0011, train_acc=0.8750, test_loss=0.2351, test_acc=0.9238, valid_loss=0.4457, valid_acc=0.8492, lr=0.0010\n",
      "223 epoch: train_loss=0.0008, train_acc=0.9028, test_loss=0.2397, test_acc=0.9228, valid_loss=0.4392, valid_acc=0.8510, lr=0.0010\n",
      "224 epoch: train_loss=0.0011, train_acc=0.8611, test_loss=0.2403, test_acc=0.9239, valid_loss=0.4594, valid_acc=0.8490, lr=0.0010\n",
      "225 epoch: train_loss=0.0007, train_acc=0.9167, test_loss=0.2358, test_acc=0.9235, valid_loss=0.4247, valid_acc=0.8554, lr=0.0010\n",
      "226 epoch: train_loss=0.0010, train_acc=0.8750, test_loss=0.2392, test_acc=0.9233, valid_loss=0.4351, valid_acc=0.8524, lr=0.0010\n",
      "227 epoch: train_loss=0.0010, train_acc=0.8750, test_loss=0.2390, test_acc=0.9212, valid_loss=0.4504, valid_acc=0.8494, lr=0.0010\n",
      "228 epoch: train_loss=0.0008, train_acc=0.9306, test_loss=0.2443, test_acc=0.9228, valid_loss=0.4834, valid_acc=0.8482, lr=0.0010\n",
      "229 epoch: train_loss=0.0011, train_acc=0.8611, test_loss=0.2379, test_acc=0.9223, valid_loss=0.4440, valid_acc=0.8550, lr=0.0010\n",
      "230 epoch: train_loss=0.0009, train_acc=0.9306, test_loss=0.3175, test_acc=0.8972, valid_loss=0.2587, valid_acc=0.9132, lr=0.0010\n",
      "231 epoch: train_loss=0.0011, train_acc=0.8750, test_loss=0.3089, test_acc=0.8994, valid_loss=0.2501, valid_acc=0.9136, lr=0.0010\n",
      "232 epoch: train_loss=0.0008, train_acc=0.9028, test_loss=0.3176, test_acc=0.8960, valid_loss=0.2480, valid_acc=0.9184, lr=0.0010\n",
      "233 epoch: train_loss=0.0013, train_acc=0.8611, test_loss=0.3344, test_acc=0.8931, valid_loss=0.2185, valid_acc=0.9224, lr=0.0010\n",
      "234 epoch: train_loss=0.0007, train_acc=0.9167, test_loss=0.3273, test_acc=0.8955, valid_loss=0.2281, valid_acc=0.9196, lr=0.0010\n",
      "235 epoch: train_loss=0.0005, train_acc=0.9444, test_loss=0.3298, test_acc=0.8934, valid_loss=0.2313, valid_acc=0.9220, lr=0.0010\n",
      "236 epoch: train_loss=0.0014, train_acc=0.8750, test_loss=0.3151, test_acc=0.8974, valid_loss=0.2292, valid_acc=0.9210, lr=0.0010\n",
      "237 epoch: train_loss=0.0005, train_acc=0.9583, test_loss=0.3281, test_acc=0.8942, valid_loss=0.2406, valid_acc=0.9198, lr=0.0010\n",
      "238 epoch: train_loss=0.0010, train_acc=0.8750, test_loss=0.3313, test_acc=0.8944, valid_loss=0.2277, valid_acc=0.9220, lr=0.0010\n",
      "239 epoch: train_loss=0.0004, train_acc=0.9583, test_loss=0.3217, test_acc=0.8953, valid_loss=0.2224, valid_acc=0.9236, lr=0.0010\n",
      "240 epoch: train_loss=0.0007, train_acc=0.8889, test_loss=0.3254, test_acc=0.8953, valid_loss=0.2289, valid_acc=0.9190, lr=0.0010\n",
      "241 epoch: train_loss=0.0006, train_acc=0.9306, test_loss=0.3268, test_acc=0.8959, valid_loss=0.2223, valid_acc=0.9180, lr=0.0010\n",
      "242 epoch: train_loss=0.0006, train_acc=0.9444, test_loss=0.3166, test_acc=0.8978, valid_loss=0.2257, valid_acc=0.9228, lr=0.0010\n",
      "243 epoch: train_loss=0.0003, train_acc=0.9861, test_loss=0.3169, test_acc=0.8976, valid_loss=0.2308, valid_acc=0.9200, lr=0.0010\n",
      "244 epoch: train_loss=0.0006, train_acc=0.9306, test_loss=0.3269, test_acc=0.8957, valid_loss=0.2219, valid_acc=0.9220, lr=0.0010\n",
      "245 epoch: train_loss=0.0010, train_acc=0.8611, test_loss=0.3265, test_acc=0.8940, valid_loss=0.2362, valid_acc=0.9168, lr=0.0010\n",
      "246 epoch: train_loss=0.0006, train_acc=0.9306, test_loss=0.3269, test_acc=0.8957, valid_loss=0.2383, valid_acc=0.9188, lr=0.0010\n",
      "247 epoch: train_loss=0.0005, train_acc=0.9444, test_loss=0.3111, test_acc=0.8994, valid_loss=0.2236, valid_acc=0.9236, lr=0.0010\n",
      "248 epoch: train_loss=0.0006, train_acc=0.9444, test_loss=0.3131, test_acc=0.8990, valid_loss=0.2323, valid_acc=0.9208, lr=0.0010\n",
      "249 epoch: train_loss=0.0004, train_acc=0.9306, test_loss=0.3252, test_acc=0.8968, valid_loss=0.2261, valid_acc=0.9202, lr=0.0010\n",
      "250 epoch: train_loss=0.0005, train_acc=0.9444, test_loss=0.3211, test_acc=0.8970, valid_loss=0.2216, valid_acc=0.9242, lr=0.0010\n",
      "251 epoch: train_loss=0.0006, train_acc=0.9306, test_loss=0.3224, test_acc=0.8950, valid_loss=0.2302, valid_acc=0.9222, lr=0.0010\n",
      "252 epoch: train_loss=0.0010, train_acc=0.8889, test_loss=0.3198, test_acc=0.8972, valid_loss=0.2183, valid_acc=0.9242, lr=0.0010\n",
      "253 epoch: train_loss=0.0011, train_acc=0.8889, test_loss=0.3308, test_acc=0.8943, valid_loss=0.2311, valid_acc=0.9256, lr=0.0010\n",
      "254 epoch: train_loss=0.0010, train_acc=0.9167, test_loss=0.3197, test_acc=0.8958, valid_loss=0.2099, valid_acc=0.9262, lr=0.0010\n",
      "255 epoch: train_loss=0.0005, train_acc=0.9583, test_loss=0.3208, test_acc=0.8956, valid_loss=0.2147, valid_acc=0.9224, lr=0.0010\n",
      "256 epoch: train_loss=0.0005, train_acc=0.9444, test_loss=0.3189, test_acc=0.8975, valid_loss=0.2064, valid_acc=0.9260, lr=0.0010\n",
      "257 epoch: train_loss=0.0008, train_acc=0.8611, test_loss=0.3295, test_acc=0.8955, valid_loss=0.2287, valid_acc=0.9206, lr=0.0010\n",
      "258 epoch: train_loss=0.0004, train_acc=0.9583, test_loss=0.3259, test_acc=0.8972, valid_loss=0.2283, valid_acc=0.9218, lr=0.0010\n",
      "259 epoch: train_loss=0.0007, train_acc=0.9028, test_loss=0.3253, test_acc=0.8966, valid_loss=0.2302, valid_acc=0.9218, lr=0.0010\n",
      "260 epoch: train_loss=0.0009, train_acc=0.8611, test_loss=0.3152, test_acc=0.8975, valid_loss=0.2100, valid_acc=0.9272, lr=0.0010\n",
      "261 epoch: train_loss=0.0006, train_acc=0.9583, test_loss=0.3181, test_acc=0.8977, valid_loss=0.2424, valid_acc=0.9134, lr=0.0010\n",
      "262 epoch: train_loss=0.0007, train_acc=0.9306, test_loss=0.3139, test_acc=0.8996, valid_loss=0.2246, valid_acc=0.9204, lr=0.0010\n",
      "263 epoch: train_loss=0.0005, train_acc=0.9722, test_loss=0.3221, test_acc=0.8957, valid_loss=0.2193, valid_acc=0.9250, lr=0.0010\n",
      "264 epoch: train_loss=0.0010, train_acc=0.8889, test_loss=0.3357, test_acc=0.8934, valid_loss=0.2181, valid_acc=0.9248, lr=0.0010\n",
      "265 epoch: train_loss=0.0006, train_acc=0.9306, test_loss=0.3275, test_acc=0.8951, valid_loss=0.2218, valid_acc=0.9240, lr=0.0010\n",
      "266 epoch: train_loss=0.0006, train_acc=0.9583, test_loss=0.3280, test_acc=0.8954, valid_loss=0.2340, valid_acc=0.9200, lr=0.0010\n",
      "267 epoch: train_loss=0.0010, train_acc=0.8611, test_loss=0.3328, test_acc=0.8943, valid_loss=0.2353, valid_acc=0.9218, lr=0.0010\n",
      "268 epoch: train_loss=0.0008, train_acc=0.8889, test_loss=0.3290, test_acc=0.8938, valid_loss=0.2271, valid_acc=0.9236, lr=0.0010\n",
      "269 epoch: train_loss=0.0006, train_acc=0.9583, test_loss=0.3244, test_acc=0.8970, valid_loss=0.2015, valid_acc=0.9306, lr=0.0010\n",
      "270 epoch: train_loss=0.0006, train_acc=0.9167, test_loss=0.3284, test_acc=0.8965, valid_loss=0.2293, valid_acc=0.9260, lr=0.0010\n",
      "271 epoch: train_loss=0.0004, train_acc=0.9583, test_loss=0.3372, test_acc=0.8914, valid_loss=0.2222, valid_acc=0.9238, lr=0.0010\n",
      "272 epoch: train_loss=0.0009, train_acc=0.8611, test_loss=0.3356, test_acc=0.8919, valid_loss=0.2287, valid_acc=0.9242, lr=0.0010\n",
      "273 epoch: train_loss=0.0010, train_acc=0.8611, test_loss=0.3279, test_acc=0.8964, valid_loss=0.2110, valid_acc=0.9254, lr=0.0010\n",
      "274 epoch: train_loss=0.0006, train_acc=0.9444, test_loss=0.3244, test_acc=0.8954, valid_loss=0.2166, valid_acc=0.9250, lr=0.0010\n"
     ]
    }
   ],
   "source": [
    "view.print_all()"
   ]
  },
  {
   "cell_type": "code",
   "execution_count": null,
   "metadata": {},
   "outputs": [],
   "source": [
    "# CHECK = 5410\n",
    "# logs[\"train_loss\"] = logs[\"train_loss\"][:CHECK]\n",
    "# logs[\"train_acc\"] = logs[\"train_acc\"][:CHECK]\n",
    "# logs[\"valid_loss\"] = logs[\"valid_loss\"][:CHECK]\n",
    "# logs[\"valid_acc\"] = logs[\"valid_acc\"][:CHECK]\n",
    "# logs[\"test_loss\"] = logs[\"test_loss\"][:CHECK]\n",
    "# logs[\"test_acc\"] = logs[\"test_acc\"][:CHECK]\n",
    "# model.load_state_dict(torch.load(f\"models/{file_path}.pth\"))"
   ]
  }
 ],
 "metadata": {
  "kernelspec": {
   "display_name": "base",
   "language": "python",
   "name": "python3"
  },
  "language_info": {
   "codemirror_mode": {
    "name": "ipython",
    "version": 3
   },
   "file_extension": ".py",
   "mimetype": "text/x-python",
   "name": "python",
   "nbconvert_exporter": "python",
   "pygments_lexer": "ipython3",
   "version": "3.11.5"
  }
 },
 "nbformat": 4,
 "nbformat_minor": 2
}
