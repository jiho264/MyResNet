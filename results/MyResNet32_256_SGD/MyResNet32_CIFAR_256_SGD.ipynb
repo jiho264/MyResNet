{
 "cells": [
  {
   "cell_type": "markdown",
   "metadata": {},
   "source": [
    "# Import"
   ]
  },
  {
   "cell_type": "code",
   "execution_count": null,
   "metadata": {},
   "outputs": [],
   "source": [
    "import torch\n",
    "from torch import nn\n",
    "from torch.optim.lr_scheduler import ReduceLROnPlateau, MultiStepLR\n",
    "from torch.utils.data import DataLoader\n",
    "from fvcore.nn import FlopCountAnalysis, flop_count_table\n",
    "import numpy as np\n",
    "import matplotlib.pyplot as plt\n",
    "import os\n",
    "\n",
    "####################################################\n",
    "from src.Mydataloader import LoadDataset\n",
    "from src.Mymodel import MyResNet34\n",
    "from src.Mymodel import MyResNet_CIFAR\n",
    "from src.Mytraining import DoTraining\n",
    "from src.Earlystopper import EarlyStopper\n",
    "from src.LogViewer import LogViewer"
   ]
  },
  {
   "cell_type": "markdown",
   "metadata": {},
   "source": [
    "# Setup"
   ]
  },
  {
   "cell_type": "code",
   "execution_count": null,
   "metadata": {},
   "outputs": [],
   "source": [
    "\"\"\"Dataset selection\"\"\"\n",
    "DATASET = \"CIFAR10\"\n",
    "# DATASET = \"CIFAR100\"\n",
    "# DATASET = \"ImageNet2012\"\n",
    "\n",
    "\"\"\"Model selection for CIFAR\"\"\"\n",
    "NUM_LAYERS_LEVEL = 5\n",
    "\n",
    "\"\"\"Dataset parameters\"\"\"\n",
    "BATCH = 256\n",
    "SHUFFLE = True\n",
    "NUMOFWORKERS = 8\n",
    "PIN_MEMORY = True\n",
    "SPLIT_RATIO = 0\n",
    "\n",
    "\"\"\"optimizer parameters\"\"\"\n",
    "OPTIMIZER = \"SGD\"\n",
    "# OPTIMIZER = \"Adam\"\n",
    "# OPTIMIZER = \"Adam_decay\"\n",
    "\n",
    "\"\"\"Learning rate scheduler parameters\"\"\"\n",
    "# LOAD_BEFORE_TRAINING = False\n",
    "LOAD_BEFORE_TRAINING = True\n",
    "NUM_EPOCHS = 1000\n",
    "scheduler_patience_mapping = {\"CIFAR10\": 100, \"CIFAR100\": 100, \"ImageNet2012\": 30}\n",
    "\n",
    "\"\"\"Early stopping parameters\"\"\"\n",
    "EARLYSTOPPINGPATIENCE = 500\n",
    "file_path = \"\"\n",
    "if DATASET == \"ImageNet2012\":\n",
    "    file_path = f\"{DATASET}/MyResNet34_{BATCH}_{OPTIMIZER}\"\n",
    "else:\n",
    "    file_path = f\"{DATASET}/MyResNet{NUM_LAYERS_LEVEL*6+2}_{BATCH}_{OPTIMIZER}\"\n",
    "\n",
    "if SPLIT_RATIO != 0:\n",
    "    file_path += f\"_{int(SPLIT_RATIO*100)}\""
   ]
  },
  {
   "cell_type": "code",
   "execution_count": null,
   "metadata": {},
   "outputs": [],
   "source": [
    "file_path"
   ]
  },
  {
   "cell_type": "markdown",
   "metadata": {},
   "source": [
    "# Loading the dataset"
   ]
  },
  {
   "cell_type": "markdown",
   "metadata": {},
   "source": [
    "## Define Dateloader"
   ]
  },
  {
   "cell_type": "code",
   "execution_count": null,
   "metadata": {},
   "outputs": [],
   "source": [
    "tmp = LoadDataset(root=\"data\", seceted_dataset=DATASET, split_ratio=SPLIT_RATIO)\n",
    "train_data, valid_data, test_data, COUNT_OF_CLASSES = tmp.Unpack()"
   ]
  },
  {
   "cell_type": "code",
   "execution_count": null,
   "metadata": {},
   "outputs": [],
   "source": [
    "\n",
    "train_dataloader = DataLoader(\n",
    "    train_data,\n",
    "    batch_size=BATCH,\n",
    "    shuffle=SHUFFLE,\n",
    "    num_workers=NUMOFWORKERS,\n",
    "    pin_memory=PIN_MEMORY,\n",
    "    # pin_memory_device=\"cuda\",\n",
    "    persistent_workers=True,\n",
    ")\n",
    "print(\"train.transforms =\", train_data.transform, train_dataloader.batch_size)\n",
    "\n",
    "if valid_data is not None:\n",
    "    valid_dataloader = DataLoader(\n",
    "        valid_data,\n",
    "        batch_size=BATCH,\n",
    "        shuffle=SHUFFLE,\n",
    "        num_workers=NUMOFWORKERS,\n",
    "        pin_memory=PIN_MEMORY,\n",
    "        # pin_memory_device=\"cuda\",\n",
    "        persistent_workers=True,\n",
    "    )\n",
    "    print(\"valid.transforms =\", valid_data.transform, valid_dataloader.batch_size)\n",
    "else:\n",
    "    valid_dataloader = None\n",
    "\n",
    "if test_data is not None:\n",
    "    test_dataloader = DataLoader(\n",
    "        test_data,\n",
    "        batch_size=BATCH,\n",
    "        shuffle=SHUFFLE,\n",
    "        num_workers=NUMOFWORKERS,\n",
    "        pin_memory=PIN_MEMORY,\n",
    "        # pin_memory_device=\"cuda\",\n",
    "        persistent_workers=True,\n",
    "    )\n",
    "    print(\"test.transforms =\", test_data.transform, test_dataloader.batch_size)\n",
    "else:\n",
    "    test_dataloader = None"
   ]
  },
  {
   "cell_type": "markdown",
   "metadata": {},
   "source": [
    "## Confirm that the dataset is loaded properly"
   ]
  },
  {
   "cell_type": "code",
   "execution_count": null,
   "metadata": {},
   "outputs": [],
   "source": [
    "if test_data is not None:\n",
    "    for X, y in test_dataloader:\n",
    "        print(f\"Shape of X [N, C, H, W]: {X.shape}\")\n",
    "        print(\"mean of X\", X.mean(dim=(0, 2, 3)))\n",
    "        print(f\"Shape of y: {y.shape} {y.dtype}\")\n",
    "        break\n",
    "    \n",
    "    class_names = test_dataloader.dataset.classes\n",
    "    count = 0\n",
    "    fig, axs = plt.subplots(2, 5, figsize=(8, 4))\n",
    "\n",
    "    for images, labels in test_dataloader:\n",
    "        images = images.numpy()\n",
    "\n",
    "        for i in range(len(images)):\n",
    "            image = images[i]\n",
    "            label = labels[i]\n",
    "            image = np.transpose(image, (1, 2, 0))\n",
    "            image = np.clip(image, 0, 1)\n",
    "            ax = axs[count // 5, count % 5]\n",
    "            ax.imshow(image)\n",
    "            ax.set_title(f\"{class_names[label], label}\")\n",
    "            ax.axis(\"off\")\n",
    "            count += 1\n",
    "\n",
    "            if count == 10:\n",
    "                break\n",
    "        if count == 10:\n",
    "            break\n",
    "    plt.tight_layout()\n",
    "    plt.show()"
   ]
  },
  {
   "cell_type": "markdown",
   "metadata": {},
   "source": [
    "# Define ResNet"
   ]
  },
  {
   "cell_type": "markdown",
   "metadata": {},
   "source": [
    "## Model Confirm"
   ]
  },
  {
   "cell_type": "code",
   "execution_count": null,
   "metadata": {},
   "outputs": [],
   "source": [
    "device = torch.device(\"cuda\" if torch.cuda.is_available() else \"cpu\")\n",
    "device"
   ]
  },
  {
   "cell_type": "code",
   "execution_count": null,
   "metadata": {},
   "outputs": [],
   "source": [
    "if DATASET == \"CIFAR10\" or DATASET == \"CIFAR100\":\n",
    "    \"\"\"ResNet{20, 32, 44, 56, 110, 1202} for CIFAR\"\"\"\n",
    "    model = MyResNet_CIFAR(\n",
    "        num_classes=COUNT_OF_CLASSES,\n",
    "        num_layer_factor=NUM_LAYERS_LEVEL,\n",
    "        Downsample_option=\"A\",\n",
    "    ).to(device)\n",
    "    print(f\"ResNet-{5*6+2} for {DATASET} is loaded.\")\n",
    "\n",
    "elif DATASET == \"ImageNet2012\":\n",
    "    \"\"\"ResNet34 for ImageNet 2012\"\"\"\n",
    "    model = MyResNet34(\n",
    "        num_classes=COUNT_OF_CLASSES, \n",
    "        Downsample_option=\"A\"\n",
    "    ).to(device)\n",
    "    # model = models.resnet34(pretrained=True).to(device)\n",
    "    # model = models.resnet34(pretrained=False).to(device)\n",
    "    print(f\"ResNet-34 for {DATASET} is loaded.\")\n"
   ]
  },
  {
   "cell_type": "code",
   "execution_count": null,
   "metadata": {},
   "outputs": [],
   "source": [
    "# model.named_modules"
   ]
  },
  {
   "cell_type": "code",
   "execution_count": null,
   "metadata": {},
   "outputs": [],
   "source": [
    "# tmp_input = torch.rand(BATCH, 3, 32, 32).to(device)\n",
    "# flops = FlopCountAnalysis(model, tmp_input)\n",
    "# print(flop_count_table(flops))"
   ]
  },
  {
   "cell_type": "markdown",
   "metadata": {},
   "source": [
    "# Define Training"
   ]
  },
  {
   "cell_type": "markdown",
   "metadata": {},
   "source": [
    "## (1) Define Criterion"
   ]
  },
  {
   "cell_type": "code",
   "execution_count": null,
   "metadata": {},
   "outputs": [],
   "source": [
    "criterion = nn.CrossEntropyLoss()"
   ]
  },
  {
   "cell_type": "markdown",
   "metadata": {},
   "source": [
    "## (2) Define Optimazer"
   ]
  },
  {
   "cell_type": "code",
   "execution_count": null,
   "metadata": {},
   "outputs": [],
   "source": [
    "if OPTIMIZER == \"Adam\":\n",
    "    optimizer = torch.optim.Adam(model.parameters())\n",
    "elif OPTIMIZER == \"Adam_decay\":\n",
    "    optimizer = torch.optim.Adam(model.parameters(), weight_decay=1e-4)\n",
    "elif OPTIMIZER == \"SGD\":\n",
    "    optimizer = torch.optim.SGD(\n",
    "        model.parameters(), lr=0.1, momentum=0.9, weight_decay=0.0001\n",
    "    )"
   ]
  },
  {
   "cell_type": "markdown",
   "metadata": {},
   "source": [
    "## (3) Define Early Stopping"
   ]
  },
  {
   "cell_type": "code",
   "execution_count": null,
   "metadata": {},
   "outputs": [],
   "source": [
    "earlystopper = EarlyStopper(patience=EARLYSTOPPINGPATIENCE, model=model, file_path=file_path)"
   ]
  },
  {
   "cell_type": "markdown",
   "metadata": {},
   "source": [
    "## (4) Define Learning Rate schedualer"
   ]
  },
  {
   "cell_type": "code",
   "execution_count": null,
   "metadata": {},
   "outputs": [],
   "source": [
    "scheduler = ReduceLROnPlateau(\n",
    "    optimizer,\n",
    "    mode=\"min\",\n",
    "    patience=scheduler_patience_mapping[DATASET],\n",
    "    factor=0.1,\n",
    "    verbose=True,\n",
    "    threshold=1e-4,\n",
    "    cooldown=100,\n",
    ")\n",
    "\n",
    "# scheduler = MultiStepLR(optimizer, milestones=[164, 81], gamma=0.1)\n",
    "#\n",
    "\"\"\"\n",
    "=======================================================\n",
    "non-split : milestones = [164, 81]\n",
    "- 1 ~ 164 epochs == 1 ~ 32k iter >> lr = 0.1\n",
    "- 165~246 epochs == 32k ~ 48k iter >> lr = 0.01\n",
    "- 247~328(?) epochs == 48k ~ 64k iter >> lr = 0.001\n",
    "=======================================================\n",
    "split to 45k/5k : milestones = [182, 91]\n",
    "- 1~182 epochs == 1 ~ 32k iter >> lr = 0.1\n",
    "- 182~273 epochs == 32k ~ 48k iter >> lr = 0.01\n",
    "- 273~364(?) epochs == 48k ~ 64k iter >> lr = 0.001\n",
    "=======================================================\n",
    "\"\"\""
   ]
  },
  {
   "cell_type": "markdown",
   "metadata": {},
   "source": [
    "## (5) Define AMP scaler"
   ]
  },
  {
   "cell_type": "code",
   "execution_count": null,
   "metadata": {},
   "outputs": [],
   "source": [
    "scaler = torch.cuda.amp.GradScaler(enabled=True)"
   ]
  },
  {
   "cell_type": "markdown",
   "metadata": {},
   "source": [
    "## Load before process"
   ]
  },
  {
   "cell_type": "code",
   "execution_count": null,
   "metadata": {},
   "outputs": [],
   "source": [
    "scaler = torch.cuda.amp.GradScaler(enabled=True)\n",
    "\n",
    "if LOAD_BEFORE_TRAINING == True and os.path.exists(\"logs/\" + file_path + \".pth.tar\"):\n",
    "    # Read checkpoint as desired, e.g.,\n",
    "    checkpoint = torch.load(\n",
    "        \"logs/\" + file_path + \".pth.tar\",\n",
    "        map_location=lambda storage, loc: storage.cuda(device),\n",
    "    )\n",
    "    model.load_state_dict(checkpoint[\"model\"])\n",
    "    optimizer.load_state_dict(checkpoint[\"optimizer\"])\n",
    "    scaler.load_state_dict(checkpoint[\"scaler\"])\n",
    "    scheduler.load_state_dict(checkpoint[\"scheduler\"])\n",
    "    earlystopper.load_state_dict(checkpoint[\"earlystopper\"])\n",
    "    logs = checkpoint[\"logs\"]\n",
    "\n",
    "    print(\"Suceessfully loaded the All setting and Log file.\")\n",
    "    print(file_path)\n",
    "    print(f\"Current epoch is {len(logs['train_loss'])}\")\n",
    "    print(f\"Current learning rate: {optimizer.param_groups[0]['lr']}\")\n",
    "else:\n",
    "    # Create a dictionary to store the variables\n",
    "    train_loss = []\n",
    "    train_acc = []\n",
    "    eval_loss = []\n",
    "    valid_acc = []\n",
    "    test_loss = []\n",
    "    test_acc = []\n",
    "    lr_log = []\n",
    "    logs = {\n",
    "        \"train_loss\": train_loss,\n",
    "        \"train_acc\": train_acc,\n",
    "        \"valid_loss\": eval_loss,\n",
    "        \"valid_acc\": valid_acc,\n",
    "        \"test_loss\": test_loss,\n",
    "        \"test_acc\": test_acc,\n",
    "        \"lr_log\": lr_log,\n",
    "    }\n",
    "    print(\"File does not exist. Created a new log.\")"
   ]
  },
  {
   "cell_type": "code",
   "execution_count": null,
   "metadata": {},
   "outputs": [],
   "source": [
    "optimizer.param_groups[0][\"lr\"]"
   ]
  },
  {
   "cell_type": "markdown",
   "metadata": {},
   "source": [
    "# [Training Loop]"
   ]
  },
  {
   "cell_type": "code",
   "execution_count": null,
   "metadata": {},
   "outputs": [],
   "source": [
    "if valid_data is None:\n",
    "    valid_dataloader = None\n",
    "if test_data is None:\n",
    "    test_dataloader = None"
   ]
  },
  {
   "cell_type": "code",
   "execution_count": 27,
   "metadata": {},
   "outputs": [
    {
     "name": "stderr",
     "output_type": "stream",
     "text": [
      "100%|██████████| 196/196 [00:10<00:00, 18.92it/s]\n"
     ]
    },
    {
     "name": "stdout",
     "output_type": "stream",
     "text": [
      "Train Loss: 0.0011 | Train Acc: 93.75%\n",
      "Test  Loss: 0.2187 | Test Acc: 93.81%\n",
      "--------------------------------------------------\n",
      "[Epoch 827/1000] :\n"
     ]
    },
    {
     "name": "stderr",
     "output_type": "stream",
     "text": [
      "100%|██████████| 196/196 [00:09<00:00, 21.26it/s]\n"
     ]
    },
    {
     "name": "stdout",
     "output_type": "stream",
     "text": [
      "Train Loss: 0.0008 | Train Acc: 95.00%\n",
      "Test  Loss: 0.2219 | Test Acc: 93.81%\n",
      "--------------------------------------------------\n",
      "[Epoch 828/1000] :\n"
     ]
    },
    {
     "name": "stderr",
     "output_type": "stream",
     "text": [
      "100%|██████████| 196/196 [00:09<00:00, 20.27it/s]\n"
     ]
    },
    {
     "name": "stdout",
     "output_type": "stream",
     "text": [
      "Train Loss: 0.0006 | Train Acc: 96.25%\n",
      "Test  Loss: 0.2180 | Test Acc: 93.80%\n",
      "--------------------------------------------------\n",
      "[Epoch 829/1000] :\n"
     ]
    },
    {
     "name": "stderr",
     "output_type": "stream",
     "text": [
      "100%|██████████| 196/196 [00:10<00:00, 18.88it/s]\n"
     ]
    },
    {
     "name": "stdout",
     "output_type": "stream",
     "text": [
      "Train Loss: 0.0007 | Train Acc: 95.00%\n",
      "Test  Loss: 0.2219 | Test Acc: 93.76%\n",
      "--------------------------------------------------\n",
      "[Epoch 830/1000] :\n"
     ]
    },
    {
     "name": "stderr",
     "output_type": "stream",
     "text": [
      "100%|██████████| 196/196 [00:09<00:00, 19.67it/s]\n"
     ]
    },
    {
     "name": "stdout",
     "output_type": "stream",
     "text": [
      "Train Loss: 0.0005 | Train Acc: 93.75%\n",
      "Test  Loss: 0.2195 | Test Acc: 93.80%\n",
      "--------------------------------------------------\n",
      "[Epoch 831/1000] :\n"
     ]
    },
    {
     "name": "stderr",
     "output_type": "stream",
     "text": [
      "100%|██████████| 196/196 [00:09<00:00, 20.22it/s]\n"
     ]
    },
    {
     "name": "stdout",
     "output_type": "stream",
     "text": [
      "Train Loss: 0.0012 | Train Acc: 92.50%\n",
      "Test  Loss: 0.2253 | Test Acc: 93.77%\n",
      "--------------------------------------------------\n",
      "[Epoch 832/1000] :\n"
     ]
    },
    {
     "name": "stderr",
     "output_type": "stream",
     "text": [
      "100%|██████████| 196/196 [00:09<00:00, 19.70it/s]\n"
     ]
    },
    {
     "name": "stdout",
     "output_type": "stream",
     "text": [
      "Train Loss: 0.0008 | Train Acc: 93.75%\n",
      "Test  Loss: 0.2299 | Test Acc: 93.72%\n",
      "--------------------------------------------------\n",
      "[Epoch 833/1000] :\n"
     ]
    },
    {
     "name": "stderr",
     "output_type": "stream",
     "text": [
      "100%|██████████| 196/196 [00:09<00:00, 19.66it/s]\n"
     ]
    },
    {
     "name": "stdout",
     "output_type": "stream",
     "text": [
      "Train Loss: 0.0012 | Train Acc: 91.25%\n",
      "Test  Loss: 0.2164 | Test Acc: 93.82%\n",
      "--------------------------------------------------\n",
      "[Epoch 834/1000] :\n"
     ]
    },
    {
     "name": "stderr",
     "output_type": "stream",
     "text": [
      "100%|██████████| 196/196 [00:09<00:00, 19.87it/s]\n"
     ]
    },
    {
     "name": "stdout",
     "output_type": "stream",
     "text": [
      "Train Loss: 0.0013 | Train Acc: 90.00%\n",
      "Test  Loss: 0.2220 | Test Acc: 93.80%\n",
      "--------------------------------------------------\n",
      "[Epoch 835/1000] :\n"
     ]
    },
    {
     "name": "stderr",
     "output_type": "stream",
     "text": [
      "100%|██████████| 196/196 [00:09<00:00, 20.12it/s]\n"
     ]
    },
    {
     "name": "stdout",
     "output_type": "stream",
     "text": [
      "Train Loss: 0.0011 | Train Acc: 90.00%\n",
      "Test  Loss: 0.2185 | Test Acc: 93.79%\n",
      "--------------------------------------------------\n",
      "[Epoch 836/1000] :\n"
     ]
    },
    {
     "name": "stderr",
     "output_type": "stream",
     "text": [
      "100%|██████████| 196/196 [00:09<00:00, 20.14it/s]\n"
     ]
    },
    {
     "name": "stdout",
     "output_type": "stream",
     "text": [
      "Train Loss: 0.0016 | Train Acc: 88.75%\n",
      "Test  Loss: 0.2178 | Test Acc: 93.70%\n",
      "--------------------------------------------------\n",
      "[Epoch 837/1000] :\n"
     ]
    },
    {
     "name": "stderr",
     "output_type": "stream",
     "text": [
      "100%|██████████| 196/196 [00:10<00:00, 19.00it/s]\n"
     ]
    },
    {
     "name": "stdout",
     "output_type": "stream",
     "text": [
      "Train Loss: 0.0010 | Train Acc: 91.25%\n",
      "Test  Loss: 0.2301 | Test Acc: 93.68%\n",
      "--------------------------------------------------\n",
      "[Epoch 838/1000] :\n"
     ]
    },
    {
     "name": "stderr",
     "output_type": "stream",
     "text": [
      "100%|██████████| 196/196 [00:10<00:00, 18.91it/s]\n"
     ]
    },
    {
     "name": "stdout",
     "output_type": "stream",
     "text": [
      "Train Loss: 0.0010 | Train Acc: 95.00%\n",
      "Test  Loss: 0.2246 | Test Acc: 93.77%\n",
      "--------------------------------------------------\n",
      "[Epoch 839/1000] :\n"
     ]
    },
    {
     "name": "stderr",
     "output_type": "stream",
     "text": [
      "100%|██████████| 196/196 [00:10<00:00, 19.33it/s]\n"
     ]
    },
    {
     "name": "stdout",
     "output_type": "stream",
     "text": [
      "Train Loss: 0.0007 | Train Acc: 96.25%\n",
      "Test  Loss: 0.2173 | Test Acc: 93.87%\n",
      "--------------------------------------------------\n",
      "[Epoch 840/1000] :\n"
     ]
    },
    {
     "name": "stderr",
     "output_type": "stream",
     "text": [
      "100%|██████████| 196/196 [00:09<00:00, 21.03it/s]\n"
     ]
    },
    {
     "name": "stdout",
     "output_type": "stream",
     "text": [
      "Train Loss: 0.0006 | Train Acc: 95.00%\n",
      "Test  Loss: 0.2194 | Test Acc: 93.81%\n",
      "--------------------------------------------------\n",
      "[Epoch 841/1000] :\n"
     ]
    },
    {
     "name": "stderr",
     "output_type": "stream",
     "text": [
      "100%|██████████| 196/196 [00:09<00:00, 19.79it/s]\n"
     ]
    },
    {
     "name": "stdout",
     "output_type": "stream",
     "text": [
      "Train Loss: 0.0005 | Train Acc: 96.25%\n",
      "Test  Loss: 0.2224 | Test Acc: 93.77%\n",
      "--------------------------------------------------\n",
      "[Epoch 842/1000] :\n"
     ]
    },
    {
     "name": "stderr",
     "output_type": "stream",
     "text": [
      "100%|██████████| 196/196 [00:09<00:00, 19.71it/s]\n"
     ]
    },
    {
     "name": "stdout",
     "output_type": "stream",
     "text": [
      "Train Loss: 0.0009 | Train Acc: 92.50%\n",
      "Test  Loss: 0.2279 | Test Acc: 93.86%\n",
      "--------------------------------------------------\n",
      "[Epoch 843/1000] :\n"
     ]
    },
    {
     "name": "stderr",
     "output_type": "stream",
     "text": [
      "100%|██████████| 196/196 [00:10<00:00, 19.02it/s]\n"
     ]
    },
    {
     "name": "stdout",
     "output_type": "stream",
     "text": [
      "Train Loss: 0.0008 | Train Acc: 93.75%\n",
      "Test  Loss: 0.2200 | Test Acc: 93.74%\n",
      "--------------------------------------------------\n",
      "[Epoch 844/1000] :\n"
     ]
    },
    {
     "name": "stderr",
     "output_type": "stream",
     "text": [
      "100%|██████████| 196/196 [00:09<00:00, 19.80it/s]\n"
     ]
    },
    {
     "name": "stdout",
     "output_type": "stream",
     "text": [
      "Train Loss: 0.0006 | Train Acc: 95.00%\n",
      "Test  Loss: 0.2271 | Test Acc: 93.72%\n",
      "--------------------------------------------------\n",
      "[Epoch 845/1000] :\n"
     ]
    },
    {
     "name": "stderr",
     "output_type": "stream",
     "text": [
      "100%|██████████| 196/196 [00:09<00:00, 20.01it/s]\n"
     ]
    },
    {
     "name": "stdout",
     "output_type": "stream",
     "text": [
      "Train Loss: 0.0011 | Train Acc: 96.25%\n",
      "Test  Loss: 0.2267 | Test Acc: 93.77%\n",
      "--------------------------------------------------\n",
      "[Epoch 846/1000] :\n"
     ]
    },
    {
     "name": "stderr",
     "output_type": "stream",
     "text": [
      "100%|██████████| 196/196 [00:09<00:00, 19.97it/s]\n"
     ]
    },
    {
     "name": "stdout",
     "output_type": "stream",
     "text": [
      "Train Loss: 0.0013 | Train Acc: 91.25%\n",
      "Test  Loss: 0.2219 | Test Acc: 93.78%\n",
      "--------------------------------------------------\n",
      "[Epoch 847/1000] :\n"
     ]
    },
    {
     "name": "stderr",
     "output_type": "stream",
     "text": [
      "100%|██████████| 196/196 [00:09<00:00, 19.74it/s]\n"
     ]
    },
    {
     "name": "stdout",
     "output_type": "stream",
     "text": [
      "Train Loss: 0.0007 | Train Acc: 92.50%\n",
      "Test  Loss: 0.2252 | Test Acc: 93.81%\n",
      "--------------------------------------------------\n",
      "[Epoch 848/1000] :\n"
     ]
    },
    {
     "name": "stderr",
     "output_type": "stream",
     "text": [
      "100%|██████████| 196/196 [00:09<00:00, 19.82it/s]\n"
     ]
    },
    {
     "name": "stdout",
     "output_type": "stream",
     "text": [
      "Train Loss: 0.0015 | Train Acc: 88.75%\n",
      "Test  Loss: 0.2175 | Test Acc: 93.74%\n",
      "--------------------------------------------------\n",
      "[Epoch 849/1000] :\n"
     ]
    },
    {
     "name": "stderr",
     "output_type": "stream",
     "text": [
      "100%|██████████| 196/196 [00:09<00:00, 19.84it/s]\n"
     ]
    },
    {
     "name": "stdout",
     "output_type": "stream",
     "text": [
      "Train Loss: 0.0006 | Train Acc: 96.25%\n",
      "Test  Loss: 0.2192 | Test Acc: 93.81%\n",
      "--------------------------------------------------\n",
      "[Epoch 850/1000] :\n"
     ]
    },
    {
     "name": "stderr",
     "output_type": "stream",
     "text": [
      "100%|██████████| 196/196 [00:09<00:00, 20.04it/s]\n"
     ]
    },
    {
     "name": "stdout",
     "output_type": "stream",
     "text": [
      "Train Loss: 0.0007 | Train Acc: 96.25%\n",
      "Test  Loss: 0.2224 | Test Acc: 93.72%\n",
      "Early stop!! best_eval_loss = 0.208574132155627\n"
     ]
    }
   ],
   "source": [
    "Training = DoTraining(\n",
    "    model=model,\n",
    "    criterion=criterion,\n",
    "    optimizer=optimizer,\n",
    "    scaler=scaler,\n",
    "    scheduler=scheduler,\n",
    "    earlystopper=earlystopper,\n",
    "    device=device,\n",
    "    logs=logs,\n",
    "    file_path=file_path,\n",
    ")\n",
    "pre_epochs = len(Training.logs[\"train_loss\"])\n",
    "\n",
    "for epoch in range(NUM_EPOCHS):\n",
    "    now = epoch + 1 + pre_epochs\n",
    "    print(f\"[Epoch {epoch+1+pre_epochs}/{NUM_EPOCHS}] :\")\n",
    "\n",
    "    if DATASET == \"ImageNet2012\":\n",
    "        eval_loss = Training.SingleEpoch(train_dataloader, valid_dataloader)\n",
    "    else:\n",
    "        eval_loss = Training.SingleEpoch(\n",
    "            train_dataloader, valid_dataloader, test_dataloader\n",
    "        )\n",
    "\n",
    "    Training.Save()\n",
    "\n",
    "    if earlystopper.check(eval_loss) == True:\n",
    "        break\n",
    "\n",
    "    print(\"-\" * 50)"
   ]
  },
  {
   "cell_type": "code",
   "execution_count": 28,
   "metadata": {},
   "outputs": [
    {
     "data": {
      "image/png": "[encoded data removed]",
      "text/plain": [
       "<Figure size 1000x500 with 2 Axes>"
      ]
     },
     "metadata": {},
     "output_type": "display_data"
    }
   ],
   "source": [
    "view = LogViewer(logs)\n",
    "view.draw()"
   ]
  },
  {
   "cell_type": "code",
   "execution_count": 29,
   "metadata": {},
   "outputs": [
    {
     "name": "stdout",
     "output_type": "stream",
     "text": [
      "1 epoch: train_loss=0.0118, train_acc=0.1125, test_loss=2.3033, test_acc=0.1000, lr=0.1000\n",
      "2 epoch: train_loss=0.0115, train_acc=0.1500, test_loss=2.2808, test_acc=0.1477, lr=0.1000\n",
      "3 epoch: train_loss=0.0108, train_acc=0.2375, test_loss=2.0899, test_acc=0.2155, lr=0.1000\n",
      "4 epoch: train_loss=0.0091, train_acc=0.3250, test_loss=1.6819, test_acc=0.3566, lr=0.1000\n",
      "5 epoch: train_loss=0.0077, train_acc=0.4125, test_loss=1.5537, test_acc=0.4194, lr=0.1000\n",
      "6 epoch: train_loss=0.0069, train_acc=0.4875, test_loss=1.3479, test_acc=0.5339, lr=0.1000\n",
      "7 epoch: train_loss=0.0057, train_acc=0.6375, test_loss=1.2257, test_acc=0.5622, lr=0.1000\n",
      "8 epoch: train_loss=0.0070, train_acc=0.5000, test_loss=0.9877, test_acc=0.6589, lr=0.1000\n",
      "9 epoch: train_loss=0.0055, train_acc=0.6625, test_loss=0.8844, test_acc=0.6954, lr=0.1000\n",
      "10 epoch: train_loss=0.0067, train_acc=0.5125, test_loss=0.8453, test_acc=0.7082, lr=0.1000\n",
      "11 epoch: train_loss=0.0047, train_acc=0.7125, test_loss=0.9487, test_acc=0.6925, lr=0.1000\n",
      "12 epoch: train_loss=0.0044, train_acc=0.7250, test_loss=0.9683, test_acc=0.6812, lr=0.1000\n",
      "13 epoch: train_loss=0.0048, train_acc=0.6375, test_loss=0.7028, test_acc=0.7593, lr=0.1000\n",
      "14 epoch: train_loss=0.0051, train_acc=0.6625, test_loss=0.8172, test_acc=0.7342, lr=0.1000\n",
      "15 epoch: train_loss=0.0041, train_acc=0.7250, test_loss=0.7789, test_acc=0.7403, lr=0.1000\n",
      "16 epoch: train_loss=0.0041, train_acc=0.7125, test_loss=0.6877, test_acc=0.7707, lr=0.1000\n",
      "17 epoch: train_loss=0.0041, train_acc=0.6875, test_loss=0.6735, test_acc=0.7675, lr=0.1000\n",
      "18 epoch: train_loss=0.0038, train_acc=0.7250, test_loss=0.6796, test_acc=0.7790, lr=0.1000\n",
      "19 epoch: train_loss=0.0038, train_acc=0.7500, test_loss=0.6245, test_acc=0.7866, lr=0.1000\n",
      "20 epoch: train_loss=0.0041, train_acc=0.7250, test_loss=0.6550, test_acc=0.7816, lr=0.1000\n",
      "21 epoch: train_loss=0.0043, train_acc=0.7625, test_loss=0.6181, test_acc=0.7849, lr=0.1000\n",
      "22 epoch: train_loss=0.0042, train_acc=0.6750, test_loss=0.5750, test_acc=0.7982, lr=0.1000\n",
      "23 epoch: train_loss=0.0030, train_acc=0.8000, test_loss=0.5310, test_acc=0.8168, lr=0.1000\n",
      "24 epoch: train_loss=0.0053, train_acc=0.6875, test_loss=0.6323, test_acc=0.7854, lr=0.1000\n",
      "25 epoch: train_loss=0.0032, train_acc=0.7375, test_loss=0.5775, test_acc=0.8087, lr=0.1000\n",
      "26 epoch: train_loss=0.0036, train_acc=0.7625, test_loss=0.5238, test_acc=0.8130, lr=0.1000\n",
      "27 epoch: train_loss=0.0042, train_acc=0.7125, test_loss=0.7421, test_acc=0.7538, lr=0.1000\n",
      "28 epoch: train_loss=0.0034, train_acc=0.7250, test_loss=0.5881, test_acc=0.8060, lr=0.1000\n",
      "29 epoch: train_loss=0.0030, train_acc=0.8125, test_loss=0.4736, test_acc=0.8377, lr=0.1000\n",
      "30 epoch: train_loss=0.0034, train_acc=0.7875, test_loss=0.5536, test_acc=0.8151, lr=0.1000\n",
      "31 epoch: train_loss=0.0025, train_acc=0.8375, test_loss=0.5233, test_acc=0.8209, lr=0.1000\n",
      "32 epoch: train_loss=0.0029, train_acc=0.8125, test_loss=0.5948, test_acc=0.8022, lr=0.1000\n",
      "33 epoch: train_loss=0.0035, train_acc=0.7625, test_loss=0.5666, test_acc=0.8140, lr=0.1000\n",
      "34 epoch: train_loss=0.0035, train_acc=0.7625, test_loss=0.5464, test_acc=0.8204, lr=0.1000\n",
      "35 epoch: train_loss=0.0040, train_acc=0.7250, test_loss=0.5658, test_acc=0.8018, lr=0.1000\n",
      "36 epoch: train_loss=0.0037, train_acc=0.7375, test_loss=0.5182, test_acc=0.8301, lr=0.1000\n",
      "37 epoch: train_loss=0.0026, train_acc=0.8250, test_loss=0.4918, test_acc=0.8373, lr=0.1000\n",
      "38 epoch: train_loss=0.0026, train_acc=0.8250, test_loss=0.4952, test_acc=0.8373, lr=0.1000\n",
      "39 epoch: train_loss=0.0035, train_acc=0.7625, test_loss=0.5064, test_acc=0.8342, lr=0.1000\n",
      "40 epoch: train_loss=0.0034, train_acc=0.7750, test_loss=0.5519, test_acc=0.8173, lr=0.1000\n",
      "41 epoch: train_loss=0.0029, train_acc=0.8125, test_loss=0.4761, test_acc=0.8340, lr=0.1000\n",
      "42 epoch: train_loss=0.0025, train_acc=0.8375, test_loss=0.5749, test_acc=0.8071, lr=0.1000\n",
      "43 epoch: train_loss=0.0032, train_acc=0.7875, test_loss=0.4420, test_acc=0.8502, lr=0.1000\n",
      "44 epoch: train_loss=0.0027, train_acc=0.8125, test_loss=0.4742, test_acc=0.8471, lr=0.1000\n",
      "45 epoch: train_loss=0.0022, train_acc=0.8250, test_loss=0.5891, test_acc=0.8082, lr=0.1000\n",
      "46 epoch: train_loss=0.0021, train_acc=0.8375, test_loss=0.4764, test_acc=0.8359, lr=0.1000\n",
      "47 epoch: train_loss=0.0036, train_acc=0.7500, test_loss=0.4587, test_acc=0.8448, lr=0.1000\n",
      "48 epoch: train_loss=0.0037, train_acc=0.7500, test_loss=0.5681, test_acc=0.8160, lr=0.1000\n",
      "49 epoch: train_loss=0.0038, train_acc=0.7625, test_loss=0.4696, test_acc=0.8411, lr=0.1000\n",
      "50 epoch: train_loss=0.0033, train_acc=0.7500, test_loss=0.4691, test_acc=0.8413, lr=0.1000\n",
      "51 epoch: train_loss=0.0029, train_acc=0.8000, test_loss=0.4763, test_acc=0.8411, lr=0.1000\n",
      "52 epoch: train_loss=0.0029, train_acc=0.8000, test_loss=0.4837, test_acc=0.8359, lr=0.1000\n",
      "53 epoch: train_loss=0.0029, train_acc=0.7750, test_loss=0.4213, test_acc=0.8576, lr=0.1000\n",
      "54 epoch: train_loss=0.0033, train_acc=0.7250, test_loss=0.4536, test_acc=0.8483, lr=0.1000\n",
      "55 epoch: train_loss=0.0027, train_acc=0.8375, test_loss=0.4891, test_acc=0.8352, lr=0.1000\n",
      "56 epoch: train_loss=0.0028, train_acc=0.7750, test_loss=0.5264, test_acc=0.8312, lr=0.1000\n",
      "57 epoch: train_loss=0.0035, train_acc=0.7500, test_loss=0.4072, test_acc=0.8643, lr=0.1000\n",
      "58 epoch: train_loss=0.0024, train_acc=0.8375, test_loss=0.4933, test_acc=0.8470, lr=0.1000\n",
      "59 epoch: train_loss=0.0035, train_acc=0.7875, test_loss=0.4572, test_acc=0.8494, lr=0.1000\n",
      "60 epoch: train_loss=0.0029, train_acc=0.8375, test_loss=0.3746, test_acc=0.8712, lr=0.1000\n",
      "61 epoch: train_loss=0.0037, train_acc=0.8000, test_loss=0.4200, test_acc=0.8495, lr=0.1000\n",
      "62 epoch: train_loss=0.0026, train_acc=0.8000, test_loss=0.4565, test_acc=0.8528, lr=0.1000\n",
      "63 epoch: train_loss=0.0027, train_acc=0.8250, test_loss=0.3927, test_acc=0.8640, lr=0.1000\n",
      "64 epoch: train_loss=0.0029, train_acc=0.8000, test_loss=0.4397, test_acc=0.8563, lr=0.1000\n",
      "65 epoch: train_loss=0.0028, train_acc=0.8125, test_loss=0.4851, test_acc=0.8460, lr=0.1000\n",
      "66 epoch: train_loss=0.0023, train_acc=0.8250, test_loss=0.4440, test_acc=0.8556, lr=0.1000\n",
      "67 epoch: train_loss=0.0024, train_acc=0.8625, test_loss=0.4436, test_acc=0.8532, lr=0.1000\n",
      "68 epoch: train_loss=0.0033, train_acc=0.7750, test_loss=0.4339, test_acc=0.8540, lr=0.1000\n",
      "69 epoch: train_loss=0.0035, train_acc=0.7250, test_loss=0.4802, test_acc=0.8379, lr=0.1000\n",
      "70 epoch: train_loss=0.0040, train_acc=0.7375, test_loss=0.4125, test_acc=0.8598, lr=0.1000\n",
      "71 epoch: train_loss=0.0036, train_acc=0.7500, test_loss=0.5450, test_acc=0.8286, lr=0.1000\n",
      "72 epoch: train_loss=0.0027, train_acc=0.7875, test_loss=0.3925, test_acc=0.8696, lr=0.1000\n",
      "73 epoch: train_loss=0.0025, train_acc=0.8125, test_loss=0.4970, test_acc=0.8375, lr=0.1000\n",
      "74 epoch: train_loss=0.0028, train_acc=0.7875, test_loss=0.3885, test_acc=0.8673, lr=0.1000\n",
      "75 epoch: train_loss=0.0029, train_acc=0.8000, test_loss=0.3967, test_acc=0.8654, lr=0.1000\n",
      "76 epoch: train_loss=0.0036, train_acc=0.7625, test_loss=0.4257, test_acc=0.8608, lr=0.1000\n",
      "77 epoch: train_loss=0.0031, train_acc=0.7875, test_loss=0.4550, test_acc=0.8509, lr=0.1000\n",
      "78 epoch: train_loss=0.0034, train_acc=0.7750, test_loss=0.4564, test_acc=0.8525, lr=0.1000\n",
      "79 epoch: train_loss=0.0027, train_acc=0.7875, test_loss=0.4370, test_acc=0.8603, lr=0.1000\n",
      "80 epoch: train_loss=0.0040, train_acc=0.7000, test_loss=0.5340, test_acc=0.8273, lr=0.1000\n",
      "81 epoch: train_loss=0.0019, train_acc=0.8250, test_loss=0.4530, test_acc=0.8518, lr=0.1000\n",
      "82 epoch: train_loss=0.0025, train_acc=0.8500, test_loss=0.5784, test_acc=0.8219, lr=0.1000\n",
      "83 epoch: train_loss=0.0029, train_acc=0.7875, test_loss=0.4297, test_acc=0.8596, lr=0.1000\n",
      "84 epoch: train_loss=0.0021, train_acc=0.8625, test_loss=0.4139, test_acc=0.8651, lr=0.1000\n",
      "85 epoch: train_loss=0.0021, train_acc=0.9000, test_loss=0.4605, test_acc=0.8516, lr=0.1000\n",
      "86 epoch: train_loss=0.0027, train_acc=0.8375, test_loss=0.4565, test_acc=0.8466, lr=0.1000\n",
      "87 epoch: train_loss=0.0028, train_acc=0.8250, test_loss=0.4011, test_acc=0.8644, lr=0.1000\n",
      "88 epoch: train_loss=0.0028, train_acc=0.7875, test_loss=0.4063, test_acc=0.8637, lr=0.1000\n",
      "89 epoch: train_loss=0.0030, train_acc=0.7375, test_loss=0.3508, test_acc=0.8825, lr=0.1000\n",
      "90 epoch: train_loss=0.0028, train_acc=0.7875, test_loss=0.5807, test_acc=0.8115, lr=0.1000\n",
      "91 epoch: train_loss=0.0030, train_acc=0.7500, test_loss=0.4833, test_acc=0.8411, lr=0.1000\n",
      "92 epoch: train_loss=0.0019, train_acc=0.8500, test_loss=0.4326, test_acc=0.8579, lr=0.1000\n",
      "93 epoch: train_loss=0.0022, train_acc=0.8000, test_loss=0.4045, test_acc=0.8641, lr=0.1000\n",
      "94 epoch: train_loss=0.0025, train_acc=0.8375, test_loss=0.4104, test_acc=0.8655, lr=0.1000\n",
      "95 epoch: train_loss=0.0021, train_acc=0.8625, test_loss=0.4073, test_acc=0.8645, lr=0.1000\n",
      "96 epoch: train_loss=0.0020, train_acc=0.9000, test_loss=0.4656, test_acc=0.8434, lr=0.1000\n",
      "97 epoch: train_loss=0.0027, train_acc=0.8250, test_loss=0.4622, test_acc=0.8471, lr=0.1000\n",
      "98 epoch: train_loss=0.0022, train_acc=0.8500, test_loss=0.3388, test_acc=0.8858, lr=0.1000\n",
      "99 epoch: train_loss=0.0030, train_acc=0.8250, test_loss=0.4147, test_acc=0.8701, lr=0.1000\n",
      "100 epoch: train_loss=0.0019, train_acc=0.8625, test_loss=0.4758, test_acc=0.8440, lr=0.1000\n",
      "101 epoch: train_loss=0.0027, train_acc=0.8250, test_loss=0.3960, test_acc=0.8729, lr=0.1000\n",
      "102 epoch: train_loss=0.0019, train_acc=0.8750, test_loss=0.3867, test_acc=0.8718, lr=0.1000\n",
      "103 epoch: train_loss=0.0035, train_acc=0.7625, test_loss=0.4025, test_acc=0.8730, lr=0.1000\n",
      "104 epoch: train_loss=0.0022, train_acc=0.8750, test_loss=0.4541, test_acc=0.8484, lr=0.1000\n",
      "105 epoch: train_loss=0.0029, train_acc=0.8250, test_loss=0.4480, test_acc=0.8596, lr=0.1000\n",
      "106 epoch: train_loss=0.0013, train_acc=0.9125, test_loss=0.3676, test_acc=0.8780, lr=0.1000\n",
      "107 epoch: train_loss=0.0039, train_acc=0.7625, test_loss=0.4299, test_acc=0.8557, lr=0.1000\n",
      "108 epoch: train_loss=0.0026, train_acc=0.7750, test_loss=0.3575, test_acc=0.8829, lr=0.1000\n",
      "109 epoch: train_loss=0.0025, train_acc=0.8250, test_loss=0.3617, test_acc=0.8750, lr=0.1000\n",
      "110 epoch: train_loss=0.0032, train_acc=0.7750, test_loss=0.4046, test_acc=0.8701, lr=0.1000\n",
      "111 epoch: train_loss=0.0026, train_acc=0.7750, test_loss=0.4163, test_acc=0.8659, lr=0.1000\n",
      "112 epoch: train_loss=0.0030, train_acc=0.7625, test_loss=0.4060, test_acc=0.8700, lr=0.1000\n",
      "113 epoch: train_loss=0.0027, train_acc=0.8250, test_loss=0.3587, test_acc=0.8780, lr=0.1000\n",
      "114 epoch: train_loss=0.0026, train_acc=0.8000, test_loss=0.4117, test_acc=0.8652, lr=0.1000\n",
      "115 epoch: train_loss=0.0026, train_acc=0.8375, test_loss=0.3768, test_acc=0.8716, lr=0.1000\n",
      "116 epoch: train_loss=0.0026, train_acc=0.8000, test_loss=0.3603, test_acc=0.8850, lr=0.1000\n",
      "117 epoch: train_loss=0.0028, train_acc=0.7875, test_loss=0.3683, test_acc=0.8783, lr=0.1000\n",
      "118 epoch: train_loss=0.0020, train_acc=0.8875, test_loss=0.4912, test_acc=0.8448, lr=0.1000\n",
      "119 epoch: train_loss=0.0027, train_acc=0.8250, test_loss=0.3862, test_acc=0.8721, lr=0.1000\n",
      "120 epoch: train_loss=0.0031, train_acc=0.7875, test_loss=0.4357, test_acc=0.8639, lr=0.1000\n",
      "121 epoch: train_loss=0.0020, train_acc=0.8625, test_loss=0.3569, test_acc=0.8781, lr=0.1000\n",
      "122 epoch: train_loss=0.0038, train_acc=0.7750, test_loss=0.4336, test_acc=0.8613, lr=0.1000\n",
      "123 epoch: train_loss=0.0033, train_acc=0.7875, test_loss=0.3848, test_acc=0.8722, lr=0.1000\n",
      "124 epoch: train_loss=0.0037, train_acc=0.8000, test_loss=0.4741, test_acc=0.8438, lr=0.1000\n",
      "125 epoch: train_loss=0.0032, train_acc=0.7750, test_loss=0.4387, test_acc=0.8605, lr=0.1000\n",
      "126 epoch: train_loss=0.0015, train_acc=0.8875, test_loss=0.3850, test_acc=0.8668, lr=0.1000\n",
      "127 epoch: train_loss=0.0027, train_acc=0.8125, test_loss=0.4199, test_acc=0.8597, lr=0.1000\n",
      "128 epoch: train_loss=0.0027, train_acc=0.8375, test_loss=0.3920, test_acc=0.8765, lr=0.1000\n",
      "129 epoch: train_loss=0.0028, train_acc=0.8000, test_loss=0.3555, test_acc=0.8807, lr=0.1000\n",
      "130 epoch: train_loss=0.0030, train_acc=0.8125, test_loss=0.5672, test_acc=0.8178, lr=0.1000\n",
      "131 epoch: train_loss=0.0024, train_acc=0.8500, test_loss=0.3497, test_acc=0.8858, lr=0.1000\n",
      "132 epoch: train_loss=0.0023, train_acc=0.8375, test_loss=0.3620, test_acc=0.8789, lr=0.1000\n",
      "133 epoch: train_loss=0.0021, train_acc=0.8500, test_loss=0.3938, test_acc=0.8683, lr=0.1000\n",
      "134 epoch: train_loss=0.0024, train_acc=0.8125, test_loss=0.4222, test_acc=0.8598, lr=0.1000\n",
      "135 epoch: train_loss=0.0015, train_acc=0.9000, test_loss=0.3778, test_acc=0.8741, lr=0.1000\n",
      "136 epoch: train_loss=0.0030, train_acc=0.8000, test_loss=0.3568, test_acc=0.8790, lr=0.1000\n",
      "137 epoch: train_loss=0.0025, train_acc=0.8625, test_loss=0.4207, test_acc=0.8621, lr=0.1000\n",
      "138 epoch: train_loss=0.0032, train_acc=0.8125, test_loss=0.4321, test_acc=0.8644, lr=0.1000\n",
      "139 epoch: train_loss=0.0026, train_acc=0.8000, test_loss=0.3976, test_acc=0.8702, lr=0.1000\n",
      "140 epoch: train_loss=0.0017, train_acc=0.8625, test_loss=0.4096, test_acc=0.8648, lr=0.1000\n",
      "141 epoch: train_loss=0.0025, train_acc=0.8375, test_loss=0.3837, test_acc=0.8773, lr=0.1000\n",
      "142 epoch: train_loss=0.0018, train_acc=0.8500, test_loss=0.3787, test_acc=0.8771, lr=0.1000\n",
      "143 epoch: train_loss=0.0041, train_acc=0.7625, test_loss=0.3693, test_acc=0.8797, lr=0.1000\n",
      "144 epoch: train_loss=0.0023, train_acc=0.8125, test_loss=0.3438, test_acc=0.8871, lr=0.1000\n",
      "145 epoch: train_loss=0.0020, train_acc=0.8375, test_loss=0.3556, test_acc=0.8782, lr=0.1000\n",
      "146 epoch: train_loss=0.0023, train_acc=0.8125, test_loss=0.3212, test_acc=0.8942, lr=0.1000\n",
      "147 epoch: train_loss=0.0024, train_acc=0.8625, test_loss=0.3653, test_acc=0.8821, lr=0.1000\n",
      "148 epoch: train_loss=0.0030, train_acc=0.8375, test_loss=0.3661, test_acc=0.8811, lr=0.1000\n",
      "149 epoch: train_loss=0.0022, train_acc=0.8875, test_loss=0.3783, test_acc=0.8759, lr=0.1000\n",
      "150 epoch: train_loss=0.0021, train_acc=0.8125, test_loss=0.4178, test_acc=0.8702, lr=0.1000\n",
      "151 epoch: train_loss=0.0014, train_acc=0.9000, test_loss=0.3638, test_acc=0.8791, lr=0.1000\n",
      "152 epoch: train_loss=0.0016, train_acc=0.9250, test_loss=0.3867, test_acc=0.8717, lr=0.1000\n",
      "153 epoch: train_loss=0.0025, train_acc=0.8250, test_loss=0.3744, test_acc=0.8727, lr=0.1000\n",
      "154 epoch: train_loss=0.0030, train_acc=0.7875, test_loss=0.4146, test_acc=0.8630, lr=0.1000\n",
      "155 epoch: train_loss=0.0028, train_acc=0.8250, test_loss=0.3242, test_acc=0.8909, lr=0.1000\n",
      "156 epoch: train_loss=0.0022, train_acc=0.8750, test_loss=0.5569, test_acc=0.8327, lr=0.1000\n",
      "157 epoch: train_loss=0.0028, train_acc=0.8250, test_loss=0.3529, test_acc=0.8802, lr=0.1000\n",
      "158 epoch: train_loss=0.0028, train_acc=0.8125, test_loss=0.3652, test_acc=0.8821, lr=0.1000\n",
      "159 epoch: train_loss=0.0019, train_acc=0.8625, test_loss=0.3616, test_acc=0.8804, lr=0.1000\n",
      "160 epoch: train_loss=0.0023, train_acc=0.8500, test_loss=0.3552, test_acc=0.8803, lr=0.1000\n",
      "161 epoch: train_loss=0.0017, train_acc=0.8500, test_loss=0.5935, test_acc=0.8227, lr=0.1000\n",
      "162 epoch: train_loss=0.0031, train_acc=0.7875, test_loss=0.3710, test_acc=0.8828, lr=0.1000\n",
      "163 epoch: train_loss=0.0022, train_acc=0.8375, test_loss=0.3290, test_acc=0.8898, lr=0.1000\n",
      "164 epoch: train_loss=0.0025, train_acc=0.8250, test_loss=0.4290, test_acc=0.8604, lr=0.1000\n",
      "165 epoch: train_loss=0.0028, train_acc=0.8250, test_loss=0.3715, test_acc=0.8781, lr=0.1000\n",
      "166 epoch: train_loss=0.0021, train_acc=0.8375, test_loss=0.4295, test_acc=0.8625, lr=0.1000\n",
      "167 epoch: train_loss=0.0029, train_acc=0.7875, test_loss=0.3993, test_acc=0.8762, lr=0.1000\n",
      "168 epoch: train_loss=0.0024, train_acc=0.8500, test_loss=0.3718, test_acc=0.8783, lr=0.1000\n",
      "169 epoch: train_loss=0.0029, train_acc=0.8125, test_loss=0.3869, test_acc=0.8764, lr=0.1000\n",
      "170 epoch: train_loss=0.0036, train_acc=0.7625, test_loss=0.3834, test_acc=0.8780, lr=0.1000\n",
      "171 epoch: train_loss=0.0024, train_acc=0.8125, test_loss=0.3529, test_acc=0.8871, lr=0.1000\n",
      "172 epoch: train_loss=0.0027, train_acc=0.8125, test_loss=0.3307, test_acc=0.8882, lr=0.1000\n",
      "173 epoch: train_loss=0.0026, train_acc=0.7500, test_loss=0.3513, test_acc=0.8850, lr=0.1000\n",
      "174 epoch: train_loss=0.0024, train_acc=0.8375, test_loss=0.4674, test_acc=0.8493, lr=0.1000\n",
      "175 epoch: train_loss=0.0025, train_acc=0.8125, test_loss=0.4350, test_acc=0.8621, lr=0.1000\n",
      "176 epoch: train_loss=0.0027, train_acc=0.8500, test_loss=0.3858, test_acc=0.8768, lr=0.1000\n",
      "177 epoch: train_loss=0.0022, train_acc=0.8000, test_loss=0.3499, test_acc=0.8882, lr=0.1000\n",
      "178 epoch: train_loss=0.0026, train_acc=0.8375, test_loss=0.3689, test_acc=0.8825, lr=0.1000\n",
      "179 epoch: train_loss=0.0017, train_acc=0.8875, test_loss=0.3554, test_acc=0.8836, lr=0.1000\n",
      "180 epoch: train_loss=0.0018, train_acc=0.8750, test_loss=0.5117, test_acc=0.8438, lr=0.1000\n",
      "181 epoch: train_loss=0.0027, train_acc=0.8000, test_loss=0.3361, test_acc=0.8892, lr=0.1000\n",
      "182 epoch: train_loss=0.0018, train_acc=0.9125, test_loss=0.4534, test_acc=0.8564, lr=0.1000\n",
      "183 epoch: train_loss=0.0024, train_acc=0.8375, test_loss=0.3240, test_acc=0.8926, lr=0.1000\n",
      "184 epoch: train_loss=0.0025, train_acc=0.8250, test_loss=0.3579, test_acc=0.8870, lr=0.1000\n",
      "185 epoch: train_loss=0.0022, train_acc=0.8375, test_loss=0.3865, test_acc=0.8743, lr=0.1000\n",
      "186 epoch: train_loss=0.0038, train_acc=0.7750, test_loss=0.4475, test_acc=0.8675, lr=0.1000\n",
      "187 epoch: train_loss=0.0023, train_acc=0.8250, test_loss=0.3874, test_acc=0.8762, lr=0.1000\n",
      "188 epoch: train_loss=0.0027, train_acc=0.8250, test_loss=0.3274, test_acc=0.8910, lr=0.1000\n",
      "189 epoch: train_loss=0.0022, train_acc=0.8500, test_loss=0.3848, test_acc=0.8735, lr=0.1000\n",
      "190 epoch: train_loss=0.0018, train_acc=0.9125, test_loss=0.3979, test_acc=0.8679, lr=0.1000\n",
      "191 epoch: train_loss=0.0028, train_acc=0.8125, test_loss=0.4697, test_acc=0.8574, lr=0.1000\n",
      "192 epoch: train_loss=0.0033, train_acc=0.7375, test_loss=0.4296, test_acc=0.8599, lr=0.1000\n",
      "193 epoch: train_loss=0.0027, train_acc=0.8625, test_loss=0.3694, test_acc=0.8790, lr=0.1000\n",
      "194 epoch: train_loss=0.0028, train_acc=0.7625, test_loss=0.3682, test_acc=0.8832, lr=0.1000\n",
      "195 epoch: train_loss=0.0019, train_acc=0.9125, test_loss=0.4063, test_acc=0.8667, lr=0.1000\n",
      "196 epoch: train_loss=0.0016, train_acc=0.8750, test_loss=0.3313, test_acc=0.8888, lr=0.1000\n",
      "197 epoch: train_loss=0.0018, train_acc=0.9125, test_loss=0.3393, test_acc=0.8851, lr=0.1000\n",
      "198 epoch: train_loss=0.0018, train_acc=0.8625, test_loss=0.3860, test_acc=0.8742, lr=0.1000\n",
      "199 epoch: train_loss=0.0019, train_acc=0.8625, test_loss=0.4113, test_acc=0.8677, lr=0.1000\n",
      "200 epoch: train_loss=0.0027, train_acc=0.8750, test_loss=0.3586, test_acc=0.8842, lr=0.1000\n",
      "201 epoch: train_loss=0.0018, train_acc=0.8500, test_loss=0.3697, test_acc=0.8860, lr=0.1000\n",
      "202 epoch: train_loss=0.0029, train_acc=0.8125, test_loss=0.2977, test_acc=0.8996, lr=0.1000\n",
      "203 epoch: train_loss=0.0025, train_acc=0.8625, test_loss=0.3781, test_acc=0.8787, lr=0.1000\n",
      "204 epoch: train_loss=0.0017, train_acc=0.8625, test_loss=0.3589, test_acc=0.8832, lr=0.1000\n",
      "205 epoch: train_loss=0.0026, train_acc=0.8375, test_loss=0.3608, test_acc=0.8839, lr=0.1000\n",
      "206 epoch: train_loss=0.0029, train_acc=0.8000, test_loss=0.3970, test_acc=0.8732, lr=0.1000\n",
      "207 epoch: train_loss=0.0018, train_acc=0.8875, test_loss=0.4037, test_acc=0.8767, lr=0.1000\n",
      "208 epoch: train_loss=0.0029, train_acc=0.8125, test_loss=0.4069, test_acc=0.8689, lr=0.1000\n",
      "209 epoch: train_loss=0.0015, train_acc=0.9250, test_loss=0.4379, test_acc=0.8641, lr=0.1000\n",
      "210 epoch: train_loss=0.0022, train_acc=0.8250, test_loss=0.4576, test_acc=0.8590, lr=0.1000\n",
      "211 epoch: train_loss=0.0023, train_acc=0.8375, test_loss=0.3856, test_acc=0.8768, lr=0.1000\n",
      "212 epoch: train_loss=0.0027, train_acc=0.8000, test_loss=0.3785, test_acc=0.8764, lr=0.1000\n",
      "213 epoch: train_loss=0.0015, train_acc=0.9125, test_loss=0.3099, test_acc=0.8954, lr=0.1000\n",
      "214 epoch: train_loss=0.0025, train_acc=0.8375, test_loss=0.3932, test_acc=0.8741, lr=0.1000\n",
      "215 epoch: train_loss=0.0024, train_acc=0.8375, test_loss=0.3205, test_acc=0.8955, lr=0.1000\n",
      "216 epoch: train_loss=0.0031, train_acc=0.7875, test_loss=0.3147, test_acc=0.8970, lr=0.1000\n",
      "217 epoch: train_loss=0.0019, train_acc=0.8875, test_loss=0.3712, test_acc=0.8790, lr=0.1000\n",
      "218 epoch: train_loss=0.0016, train_acc=0.8875, test_loss=0.4251, test_acc=0.8733, lr=0.1000\n",
      "219 epoch: train_loss=0.0025, train_acc=0.8000, test_loss=0.3371, test_acc=0.8920, lr=0.1000\n",
      "220 epoch: train_loss=0.0019, train_acc=0.8750, test_loss=0.3722, test_acc=0.8757, lr=0.1000\n",
      "221 epoch: train_loss=0.0030, train_acc=0.7875, test_loss=0.4397, test_acc=0.8602, lr=0.1000\n",
      "222 epoch: train_loss=0.0030, train_acc=0.7750, test_loss=0.3966, test_acc=0.8736, lr=0.1000\n",
      "223 epoch: train_loss=0.0027, train_acc=0.8125, test_loss=0.3328, test_acc=0.8938, lr=0.1000\n",
      "224 epoch: train_loss=0.0018, train_acc=0.8500, test_loss=0.4368, test_acc=0.8657, lr=0.1000\n",
      "225 epoch: train_loss=0.0028, train_acc=0.7875, test_loss=0.3701, test_acc=0.8779, lr=0.1000\n",
      "226 epoch: train_loss=0.0027, train_acc=0.8125, test_loss=0.3796, test_acc=0.8756, lr=0.1000\n",
      "227 epoch: train_loss=0.0022, train_acc=0.8375, test_loss=0.3797, test_acc=0.8751, lr=0.1000\n",
      "228 epoch: train_loss=0.0024, train_acc=0.8625, test_loss=0.3477, test_acc=0.8846, lr=0.1000\n",
      "229 epoch: train_loss=0.0028, train_acc=0.8125, test_loss=0.3236, test_acc=0.8950, lr=0.1000\n",
      "230 epoch: train_loss=0.0024, train_acc=0.8250, test_loss=0.2836, test_acc=0.9048, lr=0.1000\n",
      "231 epoch: train_loss=0.0024, train_acc=0.8500, test_loss=0.3997, test_acc=0.8741, lr=0.1000\n",
      "232 epoch: train_loss=0.0022, train_acc=0.8250, test_loss=0.3127, test_acc=0.8964, lr=0.1000\n",
      "233 epoch: train_loss=0.0033, train_acc=0.7875, test_loss=0.3567, test_acc=0.8829, lr=0.1000\n",
      "234 epoch: train_loss=0.0027, train_acc=0.8750, test_loss=0.3498, test_acc=0.8869, lr=0.1000\n",
      "235 epoch: train_loss=0.0022, train_acc=0.8375, test_loss=0.4639, test_acc=0.8549, lr=0.1000\n",
      "236 epoch: train_loss=0.0029, train_acc=0.8375, test_loss=0.3624, test_acc=0.8811, lr=0.1000\n",
      "237 epoch: train_loss=0.0034, train_acc=0.7375, test_loss=0.3418, test_acc=0.8822, lr=0.1000\n",
      "238 epoch: train_loss=0.0023, train_acc=0.8375, test_loss=0.3272, test_acc=0.8899, lr=0.1000\n",
      "239 epoch: train_loss=0.0024, train_acc=0.8500, test_loss=0.3564, test_acc=0.8815, lr=0.1000\n",
      "240 epoch: train_loss=0.0019, train_acc=0.8625, test_loss=0.4721, test_acc=0.8611, lr=0.1000\n",
      "241 epoch: train_loss=0.0021, train_acc=0.8375, test_loss=0.3788, test_acc=0.8723, lr=0.1000\n",
      "242 epoch: train_loss=0.0025, train_acc=0.8500, test_loss=0.6001, test_acc=0.8313, lr=0.1000\n",
      "243 epoch: train_loss=0.0035, train_acc=0.7625, test_loss=0.4010, test_acc=0.8811, lr=0.1000\n",
      "244 epoch: train_loss=0.0022, train_acc=0.8125, test_loss=0.3160, test_acc=0.8959, lr=0.1000\n",
      "245 epoch: train_loss=0.0026, train_acc=0.8375, test_loss=0.3399, test_acc=0.8872, lr=0.1000\n",
      "246 epoch: train_loss=0.0026, train_acc=0.7875, test_loss=0.4807, test_acc=0.8501, lr=0.1000\n",
      "247 epoch: train_loss=0.0020, train_acc=0.8250, test_loss=0.3417, test_acc=0.8914, lr=0.1000\n",
      "248 epoch: train_loss=0.0030, train_acc=0.8000, test_loss=0.3204, test_acc=0.8892, lr=0.1000\n",
      "249 epoch: train_loss=0.0029, train_acc=0.8000, test_loss=0.3678, test_acc=0.8807, lr=0.1000\n",
      "250 epoch: train_loss=0.0028, train_acc=0.8250, test_loss=0.3506, test_acc=0.8863, lr=0.1000\n",
      "251 epoch: train_loss=0.0016, train_acc=0.9000, test_loss=0.3882, test_acc=0.8751, lr=0.1000\n",
      "252 epoch: train_loss=0.0032, train_acc=0.8000, test_loss=0.3665, test_acc=0.8857, lr=0.1000\n",
      "253 epoch: train_loss=0.0016, train_acc=0.8750, test_loss=0.4451, test_acc=0.8628, lr=0.1000\n",
      "254 epoch: train_loss=0.0030, train_acc=0.8000, test_loss=0.3985, test_acc=0.8715, lr=0.1000\n",
      "255 epoch: train_loss=0.0029, train_acc=0.8125, test_loss=0.3900, test_acc=0.8743, lr=0.1000\n",
      "256 epoch: train_loss=0.0024, train_acc=0.8625, test_loss=0.3241, test_acc=0.8914, lr=0.1000\n",
      "257 epoch: train_loss=0.0025, train_acc=0.8375, test_loss=0.3857, test_acc=0.8811, lr=0.1000\n",
      "258 epoch: train_loss=0.0025, train_acc=0.8375, test_loss=0.3678, test_acc=0.8845, lr=0.1000\n",
      "259 epoch: train_loss=0.0021, train_acc=0.8750, test_loss=0.3780, test_acc=0.8815, lr=0.1000\n",
      "260 epoch: train_loss=0.0030, train_acc=0.8000, test_loss=0.4040, test_acc=0.8708, lr=0.1000\n",
      "261 epoch: train_loss=0.0030, train_acc=0.8125, test_loss=0.4044, test_acc=0.8674, lr=0.1000\n",
      "262 epoch: train_loss=0.0017, train_acc=0.8625, test_loss=0.4950, test_acc=0.8429, lr=0.1000\n",
      "263 epoch: train_loss=0.0020, train_acc=0.8875, test_loss=0.4335, test_acc=0.8626, lr=0.1000\n",
      "264 epoch: train_loss=0.0022, train_acc=0.8500, test_loss=0.3927, test_acc=0.8749, lr=0.1000\n",
      "265 epoch: train_loss=0.0017, train_acc=0.8750, test_loss=0.3863, test_acc=0.8721, lr=0.1000\n",
      "266 epoch: train_loss=0.0020, train_acc=0.9250, test_loss=0.3433, test_acc=0.8847, lr=0.1000\n",
      "267 epoch: train_loss=0.0016, train_acc=0.9250, test_loss=0.3395, test_acc=0.8889, lr=0.1000\n",
      "268 epoch: train_loss=0.0028, train_acc=0.7625, test_loss=0.3603, test_acc=0.8844, lr=0.1000\n",
      "269 epoch: train_loss=0.0017, train_acc=0.8875, test_loss=0.3488, test_acc=0.8809, lr=0.1000\n",
      "270 epoch: train_loss=0.0023, train_acc=0.8500, test_loss=0.4035, test_acc=0.8774, lr=0.1000\n",
      "271 epoch: train_loss=0.0016, train_acc=0.9125, test_loss=0.3136, test_acc=0.8979, lr=0.1000\n",
      "272 epoch: train_loss=0.0023, train_acc=0.8625, test_loss=0.3942, test_acc=0.8716, lr=0.1000\n",
      "273 epoch: train_loss=0.0031, train_acc=0.7875, test_loss=0.3716, test_acc=0.8781, lr=0.1000\n",
      "274 epoch: train_loss=0.0017, train_acc=0.8875, test_loss=0.3616, test_acc=0.8836, lr=0.1000\n",
      "275 epoch: train_loss=0.0023, train_acc=0.8250, test_loss=0.3260, test_acc=0.8961, lr=0.1000\n",
      "276 epoch: train_loss=0.0018, train_acc=0.8625, test_loss=0.4134, test_acc=0.8720, lr=0.1000\n",
      "277 epoch: train_loss=0.0034, train_acc=0.7875, test_loss=0.3436, test_acc=0.8843, lr=0.1000\n",
      "278 epoch: train_loss=0.0026, train_acc=0.8000, test_loss=0.4645, test_acc=0.8599, lr=0.1000\n",
      "279 epoch: train_loss=0.0023, train_acc=0.8625, test_loss=0.3433, test_acc=0.8953, lr=0.1000\n",
      "280 epoch: train_loss=0.0028, train_acc=0.8000, test_loss=0.3226, test_acc=0.8921, lr=0.1000\n",
      "281 epoch: train_loss=0.0019, train_acc=0.8750, test_loss=0.3532, test_acc=0.8870, lr=0.1000\n",
      "282 epoch: train_loss=0.0024, train_acc=0.8000, test_loss=0.3287, test_acc=0.8957, lr=0.1000\n",
      "283 epoch: train_loss=0.0023, train_acc=0.8125, test_loss=0.3772, test_acc=0.8785, lr=0.1000\n",
      "284 epoch: train_loss=0.0017, train_acc=0.8625, test_loss=0.3599, test_acc=0.8800, lr=0.1000\n",
      "285 epoch: train_loss=0.0020, train_acc=0.9125, test_loss=0.3306, test_acc=0.8943, lr=0.1000\n",
      "286 epoch: train_loss=0.0026, train_acc=0.8375, test_loss=0.3388, test_acc=0.8868, lr=0.1000\n",
      "287 epoch: train_loss=0.0019, train_acc=0.8375, test_loss=0.3277, test_acc=0.8922, lr=0.1000\n",
      "288 epoch: train_loss=0.0017, train_acc=0.8875, test_loss=0.3285, test_acc=0.8938, lr=0.1000\n",
      "289 epoch: train_loss=0.0018, train_acc=0.8750, test_loss=0.3672, test_acc=0.8810, lr=0.1000\n",
      "290 epoch: train_loss=0.0031, train_acc=0.7125, test_loss=0.3435, test_acc=0.8869, lr=0.1000\n",
      "291 epoch: train_loss=0.0030, train_acc=0.8000, test_loss=0.3614, test_acc=0.8879, lr=0.1000\n",
      "292 epoch: train_loss=0.0017, train_acc=0.9000, test_loss=0.3289, test_acc=0.8936, lr=0.1000\n",
      "293 epoch: train_loss=0.0034, train_acc=0.7625, test_loss=0.4192, test_acc=0.8669, lr=0.1000\n",
      "294 epoch: train_loss=0.0024, train_acc=0.8375, test_loss=0.3848, test_acc=0.8779, lr=0.1000\n",
      "295 epoch: train_loss=0.0027, train_acc=0.8250, test_loss=0.3221, test_acc=0.8915, lr=0.1000\n",
      "296 epoch: train_loss=0.0021, train_acc=0.8625, test_loss=0.3101, test_acc=0.8967, lr=0.1000\n",
      "297 epoch: train_loss=0.0020, train_acc=0.9000, test_loss=0.3634, test_acc=0.8804, lr=0.1000\n",
      "298 epoch: train_loss=0.0025, train_acc=0.8750, test_loss=0.3655, test_acc=0.8864, lr=0.1000\n",
      "299 epoch: train_loss=0.0016, train_acc=0.9125, test_loss=0.3242, test_acc=0.8925, lr=0.1000\n",
      "300 epoch: train_loss=0.0025, train_acc=0.8375, test_loss=0.3475, test_acc=0.8883, lr=0.1000\n",
      "301 epoch: train_loss=0.0024, train_acc=0.8000, test_loss=0.3586, test_acc=0.8891, lr=0.1000\n",
      "302 epoch: train_loss=0.0025, train_acc=0.8250, test_loss=0.4130, test_acc=0.8707, lr=0.1000\n",
      "303 epoch: train_loss=0.0024, train_acc=0.8375, test_loss=0.4356, test_acc=0.8598, lr=0.1000\n",
      "304 epoch: train_loss=0.0023, train_acc=0.8250, test_loss=0.3511, test_acc=0.8884, lr=0.1000\n",
      "305 epoch: train_loss=0.0029, train_acc=0.8375, test_loss=0.3459, test_acc=0.8858, lr=0.1000\n",
      "306 epoch: train_loss=0.0016, train_acc=0.8875, test_loss=0.4950, test_acc=0.8501, lr=0.1000\n",
      "307 epoch: train_loss=0.0036, train_acc=0.7625, test_loss=0.2907, test_acc=0.8970, lr=0.1000\n",
      "308 epoch: train_loss=0.0022, train_acc=0.8875, test_loss=0.3733, test_acc=0.8813, lr=0.1000\n",
      "309 epoch: train_loss=0.0013, train_acc=0.9125, test_loss=0.3592, test_acc=0.8840, lr=0.1000\n",
      "310 epoch: train_loss=0.0020, train_acc=0.8625, test_loss=0.3927, test_acc=0.8740, lr=0.1000\n",
      "311 epoch: train_loss=0.0020, train_acc=0.8750, test_loss=0.3480, test_acc=0.8819, lr=0.1000\n",
      "312 epoch: train_loss=0.0017, train_acc=0.8750, test_loss=0.3488, test_acc=0.8871, lr=0.1000\n",
      "313 epoch: train_loss=0.0018, train_acc=0.8875, test_loss=0.3439, test_acc=0.8853, lr=0.1000\n",
      "314 epoch: train_loss=0.0023, train_acc=0.8750, test_loss=0.3485, test_acc=0.8877, lr=0.1000\n",
      "315 epoch: train_loss=0.0019, train_acc=0.8750, test_loss=0.3918, test_acc=0.8718, lr=0.1000\n",
      "316 epoch: train_loss=0.0017, train_acc=0.8500, test_loss=0.3633, test_acc=0.8866, lr=0.1000\n",
      "317 epoch: train_loss=0.0019, train_acc=0.8375, test_loss=0.3930, test_acc=0.8734, lr=0.1000\n",
      "318 epoch: train_loss=0.0018, train_acc=0.8625, test_loss=0.3304, test_acc=0.8919, lr=0.1000\n",
      "319 epoch: train_loss=0.0017, train_acc=0.8875, test_loss=0.3475, test_acc=0.8868, lr=0.1000\n",
      "320 epoch: train_loss=0.0026, train_acc=0.8250, test_loss=0.3028, test_acc=0.9017, lr=0.1000\n",
      "321 epoch: train_loss=0.0031, train_acc=0.8000, test_loss=0.3466, test_acc=0.8948, lr=0.1000\n",
      "322 epoch: train_loss=0.0027, train_acc=0.7875, test_loss=0.3717, test_acc=0.8865, lr=0.1000\n",
      "323 epoch: train_loss=0.0020, train_acc=0.8375, test_loss=0.4703, test_acc=0.8549, lr=0.1000\n",
      "324 epoch: train_loss=0.0024, train_acc=0.8500, test_loss=0.3683, test_acc=0.8757, lr=0.1000\n",
      "325 epoch: train_loss=0.0019, train_acc=0.8500, test_loss=0.3372, test_acc=0.8895, lr=0.1000\n",
      "326 epoch: train_loss=0.0027, train_acc=0.7875, test_loss=0.3446, test_acc=0.8877, lr=0.1000\n",
      "327 epoch: train_loss=0.0031, train_acc=0.8125, test_loss=0.3611, test_acc=0.8851, lr=0.1000\n",
      "328 epoch: train_loss=0.0018, train_acc=0.8375, test_loss=0.3048, test_acc=0.8987, lr=0.1000\n",
      "329 epoch: train_loss=0.0027, train_acc=0.7750, test_loss=0.3958, test_acc=0.8786, lr=0.1000\n",
      "330 epoch: train_loss=0.0020, train_acc=0.8500, test_loss=0.3733, test_acc=0.8833, lr=0.1000\n",
      "331 epoch: train_loss=0.0028, train_acc=0.8125, test_loss=0.4277, test_acc=0.8640, lr=0.1000\n",
      "332 epoch: train_loss=0.0018, train_acc=0.8250, test_loss=0.2251, test_acc=0.9225, lr=0.0100\n",
      "333 epoch: train_loss=0.0018, train_acc=0.8875, test_loss=0.2225, test_acc=0.9238, lr=0.0100\n",
      "334 epoch: train_loss=0.0016, train_acc=0.8875, test_loss=0.2193, test_acc=0.9258, lr=0.0100\n",
      "335 epoch: train_loss=0.0017, train_acc=0.8750, test_loss=0.2226, test_acc=0.9261, lr=0.0100\n",
      "336 epoch: train_loss=0.0011, train_acc=0.9250, test_loss=0.2291, test_acc=0.9243, lr=0.0100\n",
      "337 epoch: train_loss=0.0018, train_acc=0.8625, test_loss=0.2147, test_acc=0.9271, lr=0.0100\n",
      "338 epoch: train_loss=0.0018, train_acc=0.8500, test_loss=0.2220, test_acc=0.9269, lr=0.0100\n",
      "339 epoch: train_loss=0.0013, train_acc=0.9375, test_loss=0.2193, test_acc=0.9290, lr=0.0100\n",
      "340 epoch: train_loss=0.0010, train_acc=0.9125, test_loss=0.2129, test_acc=0.9286, lr=0.0100\n",
      "341 epoch: train_loss=0.0017, train_acc=0.9125, test_loss=0.2191, test_acc=0.9288, lr=0.0100\n",
      "342 epoch: train_loss=0.0015, train_acc=0.9125, test_loss=0.2271, test_acc=0.9286, lr=0.0100\n",
      "343 epoch: train_loss=0.0012, train_acc=0.9125, test_loss=0.2235, test_acc=0.9295, lr=0.0100\n",
      "344 epoch: train_loss=0.0014, train_acc=0.8875, test_loss=0.2094, test_acc=0.9318, lr=0.0100\n",
      "345 epoch: train_loss=0.0019, train_acc=0.8875, test_loss=0.2117, test_acc=0.9317, lr=0.0100\n",
      "346 epoch: train_loss=0.0012, train_acc=0.9000, test_loss=0.2230, test_acc=0.9312, lr=0.0100\n",
      "347 epoch: train_loss=0.0011, train_acc=0.9000, test_loss=0.2136, test_acc=0.9292, lr=0.0100\n",
      "348 epoch: train_loss=0.0009, train_acc=0.9375, test_loss=0.2127, test_acc=0.9293, lr=0.0100\n",
      "349 epoch: train_loss=0.0012, train_acc=0.9125, test_loss=0.2162, test_acc=0.9286, lr=0.0100\n",
      "350 epoch: train_loss=0.0008, train_acc=0.9375, test_loss=0.2086, test_acc=0.9330, lr=0.0100\n",
      "351 epoch: train_loss=0.0010, train_acc=0.9500, test_loss=0.2192, test_acc=0.9295, lr=0.0100\n",
      "352 epoch: train_loss=0.0012, train_acc=0.9125, test_loss=0.2209, test_acc=0.9311, lr=0.0100\n",
      "353 epoch: train_loss=0.0009, train_acc=0.9375, test_loss=0.2213, test_acc=0.9308, lr=0.0100\n",
      "354 epoch: train_loss=0.0016, train_acc=0.9000, test_loss=0.2093, test_acc=0.9326, lr=0.0100\n",
      "355 epoch: train_loss=0.0012, train_acc=0.9250, test_loss=0.2132, test_acc=0.9326, lr=0.0100\n",
      "356 epoch: train_loss=0.0010, train_acc=0.9375, test_loss=0.2291, test_acc=0.9291, lr=0.0100\n",
      "357 epoch: train_loss=0.0014, train_acc=0.9000, test_loss=0.2311, test_acc=0.9286, lr=0.0100\n",
      "358 epoch: train_loss=0.0008, train_acc=0.9500, test_loss=0.2173, test_acc=0.9305, lr=0.0100\n",
      "359 epoch: train_loss=0.0008, train_acc=0.9750, test_loss=0.2183, test_acc=0.9306, lr=0.0100\n",
      "360 epoch: train_loss=0.0006, train_acc=0.9750, test_loss=0.2175, test_acc=0.9313, lr=0.0100\n",
      "361 epoch: train_loss=0.0011, train_acc=0.9000, test_loss=0.2121, test_acc=0.9330, lr=0.0100\n",
      "362 epoch: train_loss=0.0018, train_acc=0.8750, test_loss=0.2114, test_acc=0.9310, lr=0.0100\n",
      "363 epoch: train_loss=0.0022, train_acc=0.8125, test_loss=0.2173, test_acc=0.9304, lr=0.0100\n",
      "364 epoch: train_loss=0.0011, train_acc=0.9250, test_loss=0.2213, test_acc=0.9305, lr=0.0100\n",
      "365 epoch: train_loss=0.0011, train_acc=0.9250, test_loss=0.2216, test_acc=0.9305, lr=0.0100\n",
      "366 epoch: train_loss=0.0022, train_acc=0.8625, test_loss=0.2145, test_acc=0.9311, lr=0.0100\n",
      "367 epoch: train_loss=0.0011, train_acc=0.9125, test_loss=0.2114, test_acc=0.9311, lr=0.0100\n",
      "368 epoch: train_loss=0.0011, train_acc=0.9125, test_loss=0.2146, test_acc=0.9323, lr=0.0100\n",
      "369 epoch: train_loss=0.0015, train_acc=0.9125, test_loss=0.2172, test_acc=0.9321, lr=0.0100\n",
      "370 epoch: train_loss=0.0013, train_acc=0.9375, test_loss=0.2222, test_acc=0.9284, lr=0.0100\n",
      "371 epoch: train_loss=0.0014, train_acc=0.9125, test_loss=0.2242, test_acc=0.9301, lr=0.0100\n",
      "372 epoch: train_loss=0.0013, train_acc=0.9000, test_loss=0.2096, test_acc=0.9339, lr=0.0100\n",
      "373 epoch: train_loss=0.0011, train_acc=0.9500, test_loss=0.2130, test_acc=0.9319, lr=0.0100\n",
      "374 epoch: train_loss=0.0010, train_acc=0.9375, test_loss=0.2264, test_acc=0.9312, lr=0.0100\n",
      "375 epoch: train_loss=0.0015, train_acc=0.9000, test_loss=0.2286, test_acc=0.9312, lr=0.0100\n",
      "376 epoch: train_loss=0.0018, train_acc=0.9125, test_loss=0.2137, test_acc=0.9328, lr=0.0100\n",
      "377 epoch: train_loss=0.0018, train_acc=0.8875, test_loss=0.2250, test_acc=0.9310, lr=0.0100\n",
      "378 epoch: train_loss=0.0014, train_acc=0.8750, test_loss=0.2167, test_acc=0.9319, lr=0.0100\n",
      "379 epoch: train_loss=0.0014, train_acc=0.9000, test_loss=0.2246, test_acc=0.9329, lr=0.0100\n",
      "380 epoch: train_loss=0.0015, train_acc=0.8750, test_loss=0.2209, test_acc=0.9326, lr=0.0100\n",
      "381 epoch: train_loss=0.0011, train_acc=0.9375, test_loss=0.2193, test_acc=0.9321, lr=0.0100\n",
      "382 epoch: train_loss=0.0009, train_acc=0.9250, test_loss=0.2177, test_acc=0.9341, lr=0.0100\n",
      "383 epoch: train_loss=0.0014, train_acc=0.9000, test_loss=0.2170, test_acc=0.9346, lr=0.0100\n",
      "384 epoch: train_loss=0.0006, train_acc=0.9500, test_loss=0.2096, test_acc=0.9328, lr=0.0100\n",
      "385 epoch: train_loss=0.0011, train_acc=0.9000, test_loss=0.2148, test_acc=0.9326, lr=0.0100\n",
      "386 epoch: train_loss=0.0012, train_acc=0.9250, test_loss=0.2253, test_acc=0.9322, lr=0.0100\n",
      "387 epoch: train_loss=0.0013, train_acc=0.9250, test_loss=0.2141, test_acc=0.9322, lr=0.0100\n",
      "388 epoch: train_loss=0.0013, train_acc=0.9375, test_loss=0.2115, test_acc=0.9320, lr=0.0100\n",
      "389 epoch: train_loss=0.0006, train_acc=0.9625, test_loss=0.2141, test_acc=0.9339, lr=0.0100\n",
      "390 epoch: train_loss=0.0007, train_acc=0.9375, test_loss=0.2242, test_acc=0.9318, lr=0.0100\n",
      "391 epoch: train_loss=0.0012, train_acc=0.9000, test_loss=0.2150, test_acc=0.9329, lr=0.0100\n",
      "392 epoch: train_loss=0.0008, train_acc=0.9375, test_loss=0.2191, test_acc=0.9342, lr=0.0100\n",
      "393 epoch: train_loss=0.0014, train_acc=0.9250, test_loss=0.2218, test_acc=0.9316, lr=0.0100\n",
      "394 epoch: train_loss=0.0019, train_acc=0.8375, test_loss=0.2244, test_acc=0.9330, lr=0.0100\n",
      "395 epoch: train_loss=0.0013, train_acc=0.9500, test_loss=0.2238, test_acc=0.9343, lr=0.0100\n",
      "396 epoch: train_loss=0.0013, train_acc=0.9000, test_loss=0.2204, test_acc=0.9310, lr=0.0100\n",
      "397 epoch: train_loss=0.0023, train_acc=0.8375, test_loss=0.2242, test_acc=0.9339, lr=0.0100\n",
      "398 epoch: train_loss=0.0012, train_acc=0.9250, test_loss=0.2151, test_acc=0.9341, lr=0.0100\n",
      "399 epoch: train_loss=0.0010, train_acc=0.9375, test_loss=0.2225, test_acc=0.9346, lr=0.0100\n",
      "400 epoch: train_loss=0.0014, train_acc=0.9000, test_loss=0.2395, test_acc=0.9284, lr=0.0100\n",
      "401 epoch: train_loss=0.0010, train_acc=0.9125, test_loss=0.2284, test_acc=0.9301, lr=0.0100\n",
      "402 epoch: train_loss=0.0017, train_acc=0.8875, test_loss=0.2255, test_acc=0.9316, lr=0.0100\n",
      "403 epoch: train_loss=0.0006, train_acc=0.9500, test_loss=0.2284, test_acc=0.9314, lr=0.0100\n",
      "404 epoch: train_loss=0.0016, train_acc=0.8750, test_loss=0.2217, test_acc=0.9314, lr=0.0100\n",
      "405 epoch: train_loss=0.0015, train_acc=0.9125, test_loss=0.2252, test_acc=0.9321, lr=0.0100\n",
      "406 epoch: train_loss=0.0012, train_acc=0.9250, test_loss=0.2263, test_acc=0.9340, lr=0.0100\n",
      "407 epoch: train_loss=0.0010, train_acc=0.9250, test_loss=0.2313, test_acc=0.9302, lr=0.0100\n",
      "408 epoch: train_loss=0.0015, train_acc=0.9000, test_loss=0.2183, test_acc=0.9309, lr=0.0100\n",
      "409 epoch: train_loss=0.0012, train_acc=0.8875, test_loss=0.2226, test_acc=0.9319, lr=0.0100\n",
      "410 epoch: train_loss=0.0011, train_acc=0.9500, test_loss=0.2297, test_acc=0.9315, lr=0.0100\n",
      "411 epoch: train_loss=0.0004, train_acc=0.9750, test_loss=0.2263, test_acc=0.9295, lr=0.0100\n",
      "412 epoch: train_loss=0.0019, train_acc=0.9000, test_loss=0.2276, test_acc=0.9302, lr=0.0100\n",
      "413 epoch: train_loss=0.0012, train_acc=0.8750, test_loss=0.2339, test_acc=0.9304, lr=0.0100\n",
      "414 epoch: train_loss=0.0006, train_acc=0.9625, test_loss=0.2275, test_acc=0.9320, lr=0.0100\n",
      "415 epoch: train_loss=0.0015, train_acc=0.9000, test_loss=0.2332, test_acc=0.9309, lr=0.0100\n",
      "416 epoch: train_loss=0.0015, train_acc=0.8875, test_loss=0.2291, test_acc=0.9304, lr=0.0100\n",
      "417 epoch: train_loss=0.0009, train_acc=0.9625, test_loss=0.2274, test_acc=0.9316, lr=0.0100\n",
      "418 epoch: train_loss=0.0020, train_acc=0.9000, test_loss=0.2197, test_acc=0.9309, lr=0.0100\n",
      "419 epoch: train_loss=0.0015, train_acc=0.8750, test_loss=0.2268, test_acc=0.9296, lr=0.0100\n",
      "420 epoch: train_loss=0.0018, train_acc=0.8750, test_loss=0.2320, test_acc=0.9300, lr=0.0100\n",
      "421 epoch: train_loss=0.0014, train_acc=0.9500, test_loss=0.2523, test_acc=0.9313, lr=0.0100\n",
      "422 epoch: train_loss=0.0007, train_acc=0.9625, test_loss=0.2329, test_acc=0.9323, lr=0.0100\n",
      "423 epoch: train_loss=0.0014, train_acc=0.9125, test_loss=0.2233, test_acc=0.9323, lr=0.0100\n",
      "424 epoch: train_loss=0.0014, train_acc=0.9250, test_loss=0.2302, test_acc=0.9297, lr=0.0100\n",
      "425 epoch: train_loss=0.0008, train_acc=0.9500, test_loss=0.2274, test_acc=0.9325, lr=0.0100\n",
      "426 epoch: train_loss=0.0008, train_acc=0.9625, test_loss=0.2291, test_acc=0.9313, lr=0.0100\n",
      "427 epoch: train_loss=0.0014, train_acc=0.8875, test_loss=0.2349, test_acc=0.9316, lr=0.0100\n",
      "428 epoch: train_loss=0.0011, train_acc=0.9125, test_loss=0.2235, test_acc=0.9315, lr=0.0100\n",
      "429 epoch: train_loss=0.0015, train_acc=0.9000, test_loss=0.2248, test_acc=0.9308, lr=0.0100\n",
      "430 epoch: train_loss=0.0008, train_acc=0.9375, test_loss=0.2197, test_acc=0.9331, lr=0.0100\n",
      "431 epoch: train_loss=0.0015, train_acc=0.9125, test_loss=0.2300, test_acc=0.9303, lr=0.0100\n",
      "432 epoch: train_loss=0.0018, train_acc=0.8875, test_loss=0.2283, test_acc=0.9286, lr=0.0100\n",
      "433 epoch: train_loss=0.0009, train_acc=0.9500, test_loss=0.2360, test_acc=0.9274, lr=0.0100\n",
      "434 epoch: train_loss=0.0005, train_acc=0.9500, test_loss=0.2261, test_acc=0.9325, lr=0.0100\n",
      "435 epoch: train_loss=0.0019, train_acc=0.8875, test_loss=0.2225, test_acc=0.9338, lr=0.0100\n",
      "436 epoch: train_loss=0.0007, train_acc=0.9500, test_loss=0.2348, test_acc=0.9327, lr=0.0100\n",
      "437 epoch: train_loss=0.0011, train_acc=0.9125, test_loss=0.2286, test_acc=0.9323, lr=0.0100\n",
      "438 epoch: train_loss=0.0016, train_acc=0.8875, test_loss=0.2185, test_acc=0.9340, lr=0.0100\n",
      "439 epoch: train_loss=0.0010, train_acc=0.9500, test_loss=0.2272, test_acc=0.9332, lr=0.0100\n",
      "440 epoch: train_loss=0.0015, train_acc=0.9125, test_loss=0.2282, test_acc=0.9299, lr=0.0100\n",
      "441 epoch: train_loss=0.0020, train_acc=0.8875, test_loss=0.2287, test_acc=0.9278, lr=0.0100\n",
      "442 epoch: train_loss=0.0014, train_acc=0.8875, test_loss=0.2379, test_acc=0.9288, lr=0.0100\n",
      "443 epoch: train_loss=0.0009, train_acc=0.9500, test_loss=0.2324, test_acc=0.9295, lr=0.0100\n",
      "444 epoch: train_loss=0.0022, train_acc=0.8375, test_loss=0.2321, test_acc=0.9303, lr=0.0100\n",
      "445 epoch: train_loss=0.0010, train_acc=0.9375, test_loss=0.2275, test_acc=0.9344, lr=0.0100\n",
      "446 epoch: train_loss=0.0014, train_acc=0.9000, test_loss=0.2214, test_acc=0.9327, lr=0.0100\n",
      "447 epoch: train_loss=0.0017, train_acc=0.8750, test_loss=0.2384, test_acc=0.9326, lr=0.0100\n",
      "448 epoch: train_loss=0.0007, train_acc=0.9500, test_loss=0.2400, test_acc=0.9309, lr=0.0100\n",
      "449 epoch: train_loss=0.0014, train_acc=0.8875, test_loss=0.2411, test_acc=0.9299, lr=0.0100\n",
      "450 epoch: train_loss=0.0017, train_acc=0.9000, test_loss=0.2334, test_acc=0.9308, lr=0.0100\n",
      "451 epoch: train_loss=0.0015, train_acc=0.9000, test_loss=0.2288, test_acc=0.9303, lr=0.0100\n",
      "452 epoch: train_loss=0.0013, train_acc=0.9125, test_loss=0.2385, test_acc=0.9301, lr=0.0100\n",
      "453 epoch: train_loss=0.0013, train_acc=0.9000, test_loss=0.2433, test_acc=0.9310, lr=0.0100\n",
      "454 epoch: train_loss=0.0010, train_acc=0.9125, test_loss=0.2353, test_acc=0.9259, lr=0.0100\n",
      "455 epoch: train_loss=0.0014, train_acc=0.9250, test_loss=0.2361, test_acc=0.9293, lr=0.0100\n",
      "456 epoch: train_loss=0.0016, train_acc=0.9000, test_loss=0.2325, test_acc=0.9280, lr=0.0100\n",
      "457 epoch: train_loss=0.0008, train_acc=0.9375, test_loss=0.2262, test_acc=0.9313, lr=0.0100\n",
      "458 epoch: train_loss=0.0011, train_acc=0.9375, test_loss=0.2403, test_acc=0.9283, lr=0.0100\n",
      "459 epoch: train_loss=0.0008, train_acc=0.9625, test_loss=0.2334, test_acc=0.9313, lr=0.0100\n",
      "460 epoch: train_loss=0.0006, train_acc=0.9500, test_loss=0.2251, test_acc=0.9318, lr=0.0100\n",
      "461 epoch: train_loss=0.0006, train_acc=0.9500, test_loss=0.2327, test_acc=0.9277, lr=0.0100\n",
      "462 epoch: train_loss=0.0008, train_acc=0.9375, test_loss=0.2312, test_acc=0.9313, lr=0.0100\n",
      "463 epoch: train_loss=0.0014, train_acc=0.9250, test_loss=0.2299, test_acc=0.9297, lr=0.0100\n",
      "464 epoch: train_loss=0.0013, train_acc=0.8875, test_loss=0.2362, test_acc=0.9327, lr=0.0100\n",
      "465 epoch: train_loss=0.0010, train_acc=0.9375, test_loss=0.2343, test_acc=0.9326, lr=0.0100\n",
      "466 epoch: train_loss=0.0006, train_acc=0.9625, test_loss=0.2397, test_acc=0.9299, lr=0.0100\n",
      "467 epoch: train_loss=0.0011, train_acc=0.9125, test_loss=0.2330, test_acc=0.9321, lr=0.0100\n",
      "468 epoch: train_loss=0.0014, train_acc=0.9500, test_loss=0.2300, test_acc=0.9323, lr=0.0100\n",
      "469 epoch: train_loss=0.0006, train_acc=0.9500, test_loss=0.2354, test_acc=0.9328, lr=0.0100\n",
      "470 epoch: train_loss=0.0017, train_acc=0.8750, test_loss=0.2371, test_acc=0.9302, lr=0.0100\n",
      "471 epoch: train_loss=0.0013, train_acc=0.8750, test_loss=0.2325, test_acc=0.9292, lr=0.0100\n",
      "472 epoch: train_loss=0.0014, train_acc=0.9125, test_loss=0.2469, test_acc=0.9248, lr=0.0100\n",
      "473 epoch: train_loss=0.0013, train_acc=0.9375, test_loss=0.2441, test_acc=0.9291, lr=0.0100\n",
      "474 epoch: train_loss=0.0013, train_acc=0.8875, test_loss=0.2323, test_acc=0.9296, lr=0.0100\n",
      "475 epoch: train_loss=0.0011, train_acc=0.9125, test_loss=0.2430, test_acc=0.9343, lr=0.0100\n",
      "476 epoch: train_loss=0.0004, train_acc=0.9750, test_loss=0.2398, test_acc=0.9329, lr=0.0100\n",
      "477 epoch: train_loss=0.0011, train_acc=0.9250, test_loss=0.2291, test_acc=0.9292, lr=0.0100\n",
      "478 epoch: train_loss=0.0014, train_acc=0.8750, test_loss=0.2415, test_acc=0.9281, lr=0.0100\n",
      "479 epoch: train_loss=0.0013, train_acc=0.9000, test_loss=0.2584, test_acc=0.9250, lr=0.0100\n",
      "480 epoch: train_loss=0.0015, train_acc=0.8875, test_loss=0.2264, test_acc=0.9332, lr=0.0100\n",
      "481 epoch: train_loss=0.0011, train_acc=0.9375, test_loss=0.2419, test_acc=0.9252, lr=0.0100\n",
      "482 epoch: train_loss=0.0009, train_acc=0.9375, test_loss=0.2486, test_acc=0.9291, lr=0.0100\n",
      "483 epoch: train_loss=0.0013, train_acc=0.9250, test_loss=0.2400, test_acc=0.9273, lr=0.0100\n",
      "484 epoch: train_loss=0.0022, train_acc=0.8875, test_loss=0.2444, test_acc=0.9292, lr=0.0100\n",
      "485 epoch: train_loss=0.0009, train_acc=0.9250, test_loss=0.2599, test_acc=0.9271, lr=0.0100\n",
      "486 epoch: train_loss=0.0008, train_acc=0.9500, test_loss=0.2272, test_acc=0.9326, lr=0.0100\n",
      "487 epoch: train_loss=0.0011, train_acc=0.9375, test_loss=0.2416, test_acc=0.9302, lr=0.0100\n",
      "488 epoch: train_loss=0.0010, train_acc=0.9125, test_loss=0.2369, test_acc=0.9317, lr=0.0100\n",
      "489 epoch: train_loss=0.0008, train_acc=0.9500, test_loss=0.2533, test_acc=0.9293, lr=0.0100\n",
      "490 epoch: train_loss=0.0009, train_acc=0.9500, test_loss=0.2364, test_acc=0.9309, lr=0.0100\n",
      "491 epoch: train_loss=0.0010, train_acc=0.9250, test_loss=0.2352, test_acc=0.9309, lr=0.0100\n",
      "492 epoch: train_loss=0.0009, train_acc=0.9125, test_loss=0.2452, test_acc=0.9278, lr=0.0100\n",
      "493 epoch: train_loss=0.0014, train_acc=0.8750, test_loss=0.2506, test_acc=0.9260, lr=0.0100\n",
      "494 epoch: train_loss=0.0010, train_acc=0.9375, test_loss=0.2283, test_acc=0.9312, lr=0.0100\n",
      "495 epoch: train_loss=0.0010, train_acc=0.9250, test_loss=0.2318, test_acc=0.9289, lr=0.0100\n",
      "496 epoch: train_loss=0.0006, train_acc=0.9500, test_loss=0.2435, test_acc=0.9301, lr=0.0100\n",
      "497 epoch: train_loss=0.0009, train_acc=0.9125, test_loss=0.2457, test_acc=0.9305, lr=0.0100\n",
      "498 epoch: train_loss=0.0007, train_acc=0.9500, test_loss=0.2562, test_acc=0.9240, lr=0.0100\n",
      "499 epoch: train_loss=0.0012, train_acc=0.9125, test_loss=0.2437, test_acc=0.9296, lr=0.0100\n",
      "500 epoch: train_loss=0.0011, train_acc=0.9375, test_loss=0.2377, test_acc=0.9288, lr=0.0100\n",
      "501 epoch: train_loss=0.0013, train_acc=0.8875, test_loss=0.2325, test_acc=0.9299, lr=0.0100\n",
      "502 epoch: train_loss=0.0014, train_acc=0.8750, test_loss=0.2333, test_acc=0.9321, lr=0.0100\n",
      "503 epoch: train_loss=0.0008, train_acc=0.9500, test_loss=0.2391, test_acc=0.9306, lr=0.0100\n",
      "504 epoch: train_loss=0.0013, train_acc=0.9000, test_loss=0.2393, test_acc=0.9289, lr=0.0100\n",
      "505 epoch: train_loss=0.0008, train_acc=0.9375, test_loss=0.2523, test_acc=0.9290, lr=0.0100\n",
      "506 epoch: train_loss=0.0004, train_acc=0.9625, test_loss=0.2413, test_acc=0.9267, lr=0.0100\n",
      "507 epoch: train_loss=0.0014, train_acc=0.9250, test_loss=0.2393, test_acc=0.9304, lr=0.0100\n",
      "508 epoch: train_loss=0.0012, train_acc=0.9250, test_loss=0.2322, test_acc=0.9304, lr=0.0100\n",
      "509 epoch: train_loss=0.0009, train_acc=0.9250, test_loss=0.2332, test_acc=0.9302, lr=0.0100\n",
      "510 epoch: train_loss=0.0012, train_acc=0.9000, test_loss=0.2403, test_acc=0.9288, lr=0.0100\n",
      "511 epoch: train_loss=0.0012, train_acc=0.9500, test_loss=0.2506, test_acc=0.9295, lr=0.0100\n",
      "512 epoch: train_loss=0.0010, train_acc=0.9250, test_loss=0.2660, test_acc=0.9268, lr=0.0100\n",
      "513 epoch: train_loss=0.0006, train_acc=0.9625, test_loss=0.2538, test_acc=0.9258, lr=0.0100\n",
      "514 epoch: train_loss=0.0011, train_acc=0.9375, test_loss=0.2330, test_acc=0.9292, lr=0.0100\n",
      "515 epoch: train_loss=0.0013, train_acc=0.9125, test_loss=0.2443, test_acc=0.9316, lr=0.0100\n",
      "516 epoch: train_loss=0.0009, train_acc=0.9500, test_loss=0.2572, test_acc=0.9237, lr=0.0100\n",
      "517 epoch: train_loss=0.0008, train_acc=0.9375, test_loss=0.2381, test_acc=0.9299, lr=0.0100\n",
      "518 epoch: train_loss=0.0008, train_acc=0.9125, test_loss=0.2419, test_acc=0.9287, lr=0.0100\n",
      "519 epoch: train_loss=0.0014, train_acc=0.9000, test_loss=0.2337, test_acc=0.9307, lr=0.0100\n",
      "520 epoch: train_loss=0.0008, train_acc=0.9500, test_loss=0.2440, test_acc=0.9291, lr=0.0100\n",
      "521 epoch: train_loss=0.0015, train_acc=0.8625, test_loss=0.2295, test_acc=0.9300, lr=0.0100\n",
      "522 epoch: train_loss=0.0006, train_acc=0.9750, test_loss=0.2373, test_acc=0.9310, lr=0.0100\n",
      "523 epoch: train_loss=0.0007, train_acc=0.9625, test_loss=0.2428, test_acc=0.9251, lr=0.0100\n",
      "524 epoch: train_loss=0.0011, train_acc=0.9125, test_loss=0.2478, test_acc=0.9279, lr=0.0100\n",
      "525 epoch: train_loss=0.0006, train_acc=0.9625, test_loss=0.2692, test_acc=0.9230, lr=0.0100\n",
      "526 epoch: train_loss=0.0010, train_acc=0.9500, test_loss=0.2601, test_acc=0.9291, lr=0.0100\n",
      "527 epoch: train_loss=0.0018, train_acc=0.8625, test_loss=0.2317, test_acc=0.9324, lr=0.0100\n",
      "528 epoch: train_loss=0.0019, train_acc=0.8875, test_loss=0.2426, test_acc=0.9293, lr=0.0100\n",
      "529 epoch: train_loss=0.0008, train_acc=0.9500, test_loss=0.2555, test_acc=0.9285, lr=0.0100\n",
      "530 epoch: train_loss=0.0010, train_acc=0.9000, test_loss=0.2462, test_acc=0.9294, lr=0.0100\n",
      "531 epoch: train_loss=0.0012, train_acc=0.9250, test_loss=0.2408, test_acc=0.9312, lr=0.0100\n",
      "532 epoch: train_loss=0.0018, train_acc=0.8625, test_loss=0.2446, test_acc=0.9276, lr=0.0100\n",
      "533 epoch: train_loss=0.0011, train_acc=0.9375, test_loss=0.2253, test_acc=0.9330, lr=0.0010\n",
      "534 epoch: train_loss=0.0008, train_acc=0.9375, test_loss=0.2275, test_acc=0.9331, lr=0.0010\n",
      "535 epoch: train_loss=0.0013, train_acc=0.9000, test_loss=0.2217, test_acc=0.9338, lr=0.0010\n",
      "536 epoch: train_loss=0.0006, train_acc=0.9500, test_loss=0.2194, test_acc=0.9350, lr=0.0010\n",
      "537 epoch: train_loss=0.0009, train_acc=0.9500, test_loss=0.2209, test_acc=0.9340, lr=0.0010\n",
      "538 epoch: train_loss=0.0008, train_acc=0.9625, test_loss=0.2178, test_acc=0.9362, lr=0.0010\n",
      "539 epoch: train_loss=0.0008, train_acc=0.9375, test_loss=0.2166, test_acc=0.9359, lr=0.0010\n",
      "540 epoch: train_loss=0.0006, train_acc=0.9750, test_loss=0.2147, test_acc=0.9360, lr=0.0010\n",
      "541 epoch: train_loss=0.0014, train_acc=0.9375, test_loss=0.2158, test_acc=0.9354, lr=0.0010\n",
      "542 epoch: train_loss=0.0016, train_acc=0.9000, test_loss=0.2211, test_acc=0.9345, lr=0.0010\n",
      "543 epoch: train_loss=0.0009, train_acc=0.9250, test_loss=0.2235, test_acc=0.9346, lr=0.0010\n",
      "544 epoch: train_loss=0.0025, train_acc=0.8500, test_loss=0.2347, test_acc=0.9345, lr=0.0010\n",
      "545 epoch: train_loss=0.0006, train_acc=0.9750, test_loss=0.2326, test_acc=0.9365, lr=0.0010\n",
      "546 epoch: train_loss=0.0004, train_acc=0.9750, test_loss=0.2281, test_acc=0.9352, lr=0.0010\n",
      "547 epoch: train_loss=0.0013, train_acc=0.9375, test_loss=0.2281, test_acc=0.9342, lr=0.0010\n",
      "548 epoch: train_loss=0.0008, train_acc=0.9375, test_loss=0.2189, test_acc=0.9343, lr=0.0010\n",
      "549 epoch: train_loss=0.0005, train_acc=0.9625, test_loss=0.2175, test_acc=0.9368, lr=0.0010\n",
      "550 epoch: train_loss=0.0008, train_acc=0.9250, test_loss=0.2180, test_acc=0.9359, lr=0.0010\n",
      "551 epoch: train_loss=0.0009, train_acc=0.9375, test_loss=0.2185, test_acc=0.9363, lr=0.0010\n",
      "552 epoch: train_loss=0.0008, train_acc=0.9500, test_loss=0.2151, test_acc=0.9363, lr=0.0010\n",
      "553 epoch: train_loss=0.0015, train_acc=0.8750, test_loss=0.2239, test_acc=0.9355, lr=0.0010\n",
      "554 epoch: train_loss=0.0011, train_acc=0.9125, test_loss=0.2195, test_acc=0.9353, lr=0.0010\n",
      "555 epoch: train_loss=0.0012, train_acc=0.9125, test_loss=0.2344, test_acc=0.9348, lr=0.0010\n",
      "556 epoch: train_loss=0.0014, train_acc=0.8875, test_loss=0.2184, test_acc=0.9347, lr=0.0010\n",
      "557 epoch: train_loss=0.0010, train_acc=0.9250, test_loss=0.2169, test_acc=0.9357, lr=0.0010\n",
      "558 epoch: train_loss=0.0011, train_acc=0.9000, test_loss=0.2151, test_acc=0.9350, lr=0.0010\n",
      "559 epoch: train_loss=0.0006, train_acc=0.9625, test_loss=0.2176, test_acc=0.9366, lr=0.0010\n",
      "560 epoch: train_loss=0.0009, train_acc=0.9625, test_loss=0.2220, test_acc=0.9358, lr=0.0010\n",
      "561 epoch: train_loss=0.0007, train_acc=0.9625, test_loss=0.2180, test_acc=0.9359, lr=0.0010\n",
      "562 epoch: train_loss=0.0007, train_acc=0.9500, test_loss=0.2178, test_acc=0.9350, lr=0.0010\n",
      "563 epoch: train_loss=0.0012, train_acc=0.9500, test_loss=0.2191, test_acc=0.9371, lr=0.0010\n",
      "564 epoch: train_loss=0.0016, train_acc=0.8875, test_loss=0.2242, test_acc=0.9357, lr=0.0010\n",
      "565 epoch: train_loss=0.0021, train_acc=0.8500, test_loss=0.2260, test_acc=0.9368, lr=0.0010\n",
      "566 epoch: train_loss=0.0008, train_acc=0.9375, test_loss=0.2176, test_acc=0.9362, lr=0.0010\n",
      "567 epoch: train_loss=0.0008, train_acc=0.9500, test_loss=0.2142, test_acc=0.9369, lr=0.0010\n",
      "568 epoch: train_loss=0.0011, train_acc=0.9500, test_loss=0.2211, test_acc=0.9358, lr=0.0010\n",
      "569 epoch: train_loss=0.0009, train_acc=0.9750, test_loss=0.2259, test_acc=0.9356, lr=0.0010\n",
      "570 epoch: train_loss=0.0011, train_acc=0.9125, test_loss=0.2165, test_acc=0.9356, lr=0.0010\n",
      "571 epoch: train_loss=0.0011, train_acc=0.9000, test_loss=0.2322, test_acc=0.9359, lr=0.0010\n",
      "572 epoch: train_loss=0.0008, train_acc=0.9375, test_loss=0.2161, test_acc=0.9350, lr=0.0010\n",
      "573 epoch: train_loss=0.0009, train_acc=0.9375, test_loss=0.2267, test_acc=0.9354, lr=0.0010\n",
      "574 epoch: train_loss=0.0007, train_acc=0.9500, test_loss=0.2175, test_acc=0.9362, lr=0.0010\n",
      "575 epoch: train_loss=0.0016, train_acc=0.8750, test_loss=0.2230, test_acc=0.9356, lr=0.0010\n",
      "576 epoch: train_loss=0.0008, train_acc=0.9375, test_loss=0.2198, test_acc=0.9347, lr=0.0010\n",
      "577 epoch: train_loss=0.0014, train_acc=0.8750, test_loss=0.2223, test_acc=0.9353, lr=0.0010\n",
      "578 epoch: train_loss=0.0013, train_acc=0.9000, test_loss=0.2171, test_acc=0.9362, lr=0.0010\n",
      "579 epoch: train_loss=0.0005, train_acc=0.9750, test_loss=0.2237, test_acc=0.9339, lr=0.0010\n",
      "580 epoch: train_loss=0.0011, train_acc=0.9375, test_loss=0.2339, test_acc=0.9357, lr=0.0010\n",
      "581 epoch: train_loss=0.0008, train_acc=0.9375, test_loss=0.2198, test_acc=0.9365, lr=0.0010\n",
      "582 epoch: train_loss=0.0007, train_acc=0.9625, test_loss=0.2217, test_acc=0.9362, lr=0.0010\n",
      "583 epoch: train_loss=0.0010, train_acc=0.9375, test_loss=0.2176, test_acc=0.9354, lr=0.0010\n",
      "584 epoch: train_loss=0.0009, train_acc=0.9250, test_loss=0.2189, test_acc=0.9354, lr=0.0010\n",
      "585 epoch: train_loss=0.0014, train_acc=0.9375, test_loss=0.2240, test_acc=0.9350, lr=0.0010\n",
      "586 epoch: train_loss=0.0009, train_acc=0.9250, test_loss=0.2186, test_acc=0.9353, lr=0.0010\n",
      "587 epoch: train_loss=0.0003, train_acc=0.9875, test_loss=0.2294, test_acc=0.9347, lr=0.0010\n",
      "588 epoch: train_loss=0.0005, train_acc=0.9750, test_loss=0.2305, test_acc=0.9355, lr=0.0010\n",
      "589 epoch: train_loss=0.0006, train_acc=0.9625, test_loss=0.2155, test_acc=0.9367, lr=0.0010\n",
      "590 epoch: train_loss=0.0010, train_acc=0.9500, test_loss=0.2185, test_acc=0.9360, lr=0.0010\n",
      "591 epoch: train_loss=0.0012, train_acc=0.9125, test_loss=0.2185, test_acc=0.9367, lr=0.0010\n",
      "592 epoch: train_loss=0.0005, train_acc=0.9875, test_loss=0.2200, test_acc=0.9373, lr=0.0010\n",
      "593 epoch: train_loss=0.0007, train_acc=0.9500, test_loss=0.2184, test_acc=0.9355, lr=0.0010\n",
      "594 epoch: train_loss=0.0010, train_acc=0.9750, test_loss=0.2191, test_acc=0.9359, lr=0.0010\n",
      "595 epoch: train_loss=0.0014, train_acc=0.8750, test_loss=0.2310, test_acc=0.9355, lr=0.0010\n",
      "596 epoch: train_loss=0.0008, train_acc=0.9750, test_loss=0.2349, test_acc=0.9361, lr=0.0010\n",
      "597 epoch: train_loss=0.0008, train_acc=0.9250, test_loss=0.2175, test_acc=0.9359, lr=0.0010\n",
      "598 epoch: train_loss=0.0006, train_acc=0.9625, test_loss=0.2283, test_acc=0.9364, lr=0.0010\n",
      "599 epoch: train_loss=0.0010, train_acc=0.9375, test_loss=0.2166, test_acc=0.9348, lr=0.0010\n",
      "600 epoch: train_loss=0.0007, train_acc=0.9375, test_loss=0.2184, test_acc=0.9350, lr=0.0010\n",
      "601 epoch: train_loss=0.0011, train_acc=0.9375, test_loss=0.2183, test_acc=0.9355, lr=0.0010\n",
      "602 epoch: train_loss=0.0009, train_acc=0.9375, test_loss=0.2235, test_acc=0.9350, lr=0.0010\n",
      "603 epoch: train_loss=0.0009, train_acc=0.9250, test_loss=0.2205, test_acc=0.9362, lr=0.0010\n",
      "604 epoch: train_loss=0.0009, train_acc=0.9125, test_loss=0.2280, test_acc=0.9356, lr=0.0010\n",
      "605 epoch: train_loss=0.0014, train_acc=0.9125, test_loss=0.2180, test_acc=0.9363, lr=0.0010\n",
      "606 epoch: train_loss=0.0010, train_acc=0.9125, test_loss=0.2221, test_acc=0.9374, lr=0.0010\n",
      "607 epoch: train_loss=0.0012, train_acc=0.8750, test_loss=0.2275, test_acc=0.9375, lr=0.0010\n",
      "608 epoch: train_loss=0.0005, train_acc=0.9625, test_loss=0.2168, test_acc=0.9373, lr=0.0010\n",
      "609 epoch: train_loss=0.0003, train_acc=0.9875, test_loss=0.2135, test_acc=0.9363, lr=0.0010\n",
      "610 epoch: train_loss=0.0010, train_acc=0.9375, test_loss=0.2174, test_acc=0.9373, lr=0.0010\n",
      "611 epoch: train_loss=0.0011, train_acc=0.9250, test_loss=0.2173, test_acc=0.9348, lr=0.0010\n",
      "612 epoch: train_loss=0.0013, train_acc=0.8875, test_loss=0.2163, test_acc=0.9362, lr=0.0010\n",
      "613 epoch: train_loss=0.0016, train_acc=0.9000, test_loss=0.2166, test_acc=0.9365, lr=0.0010\n",
      "614 epoch: train_loss=0.0006, train_acc=0.9500, test_loss=0.2216, test_acc=0.9374, lr=0.0010\n",
      "615 epoch: train_loss=0.0010, train_acc=0.9250, test_loss=0.2208, test_acc=0.9374, lr=0.0010\n",
      "616 epoch: train_loss=0.0007, train_acc=0.9500, test_loss=0.2198, test_acc=0.9371, lr=0.0010\n",
      "617 epoch: train_loss=0.0015, train_acc=0.9000, test_loss=0.2194, test_acc=0.9360, lr=0.0010\n",
      "618 epoch: train_loss=0.0006, train_acc=0.9625, test_loss=0.2328, test_acc=0.9364, lr=0.0010\n",
      "619 epoch: train_loss=0.0007, train_acc=0.9500, test_loss=0.2212, test_acc=0.9363, lr=0.0010\n",
      "620 epoch: train_loss=0.0007, train_acc=0.9375, test_loss=0.2319, test_acc=0.9362, lr=0.0010\n",
      "621 epoch: train_loss=0.0008, train_acc=0.9625, test_loss=0.2229, test_acc=0.9348, lr=0.0010\n",
      "622 epoch: train_loss=0.0005, train_acc=0.9750, test_loss=0.2245, test_acc=0.9355, lr=0.0010\n",
      "623 epoch: train_loss=0.0011, train_acc=0.9375, test_loss=0.2186, test_acc=0.9350, lr=0.0010\n",
      "624 epoch: train_loss=0.0012, train_acc=0.9125, test_loss=0.2203, test_acc=0.9362, lr=0.0010\n",
      "625 epoch: train_loss=0.0008, train_acc=0.9250, test_loss=0.2183, test_acc=0.9365, lr=0.0010\n",
      "626 epoch: train_loss=0.0005, train_acc=0.9625, test_loss=0.2203, test_acc=0.9369, lr=0.0010\n",
      "627 epoch: train_loss=0.0010, train_acc=0.9375, test_loss=0.2168, test_acc=0.9368, lr=0.0010\n",
      "628 epoch: train_loss=0.0010, train_acc=0.9500, test_loss=0.2201, test_acc=0.9358, lr=0.0010\n",
      "629 epoch: train_loss=0.0014, train_acc=0.9250, test_loss=0.2179, test_acc=0.9370, lr=0.0010\n",
      "630 epoch: train_loss=0.0008, train_acc=0.9500, test_loss=0.2269, test_acc=0.9362, lr=0.0010\n",
      "631 epoch: train_loss=0.0013, train_acc=0.9250, test_loss=0.2215, test_acc=0.9361, lr=0.0010\n",
      "632 epoch: train_loss=0.0010, train_acc=0.9625, test_loss=0.2207, test_acc=0.9360, lr=0.0010\n",
      "633 epoch: train_loss=0.0011, train_acc=0.9125, test_loss=0.2239, test_acc=0.9362, lr=0.0010\n",
      "634 epoch: train_loss=0.0007, train_acc=0.9375, test_loss=0.2171, test_acc=0.9367, lr=0.0010\n",
      "635 epoch: train_loss=0.0004, train_acc=0.9750, test_loss=0.2251, test_acc=0.9369, lr=0.0010\n",
      "636 epoch: train_loss=0.0010, train_acc=0.9125, test_loss=0.2162, test_acc=0.9370, lr=0.0010\n",
      "637 epoch: train_loss=0.0006, train_acc=0.9625, test_loss=0.2174, test_acc=0.9357, lr=0.0010\n",
      "638 epoch: train_loss=0.0004, train_acc=0.9875, test_loss=0.2173, test_acc=0.9357, lr=0.0010\n",
      "639 epoch: train_loss=0.0007, train_acc=0.9625, test_loss=0.2256, test_acc=0.9366, lr=0.0010\n",
      "640 epoch: train_loss=0.0013, train_acc=0.8875, test_loss=0.2278, test_acc=0.9358, lr=0.0010\n",
      "641 epoch: train_loss=0.0008, train_acc=0.9500, test_loss=0.2210, test_acc=0.9349, lr=0.0010\n",
      "642 epoch: train_loss=0.0010, train_acc=0.9125, test_loss=0.2169, test_acc=0.9374, lr=0.0010\n",
      "643 epoch: train_loss=0.0012, train_acc=0.9000, test_loss=0.2150, test_acc=0.9361, lr=0.0010\n",
      "644 epoch: train_loss=0.0008, train_acc=0.9500, test_loss=0.2201, test_acc=0.9362, lr=0.0010\n",
      "645 epoch: train_loss=0.0007, train_acc=0.9750, test_loss=0.2243, test_acc=0.9359, lr=0.0010\n",
      "646 epoch: train_loss=0.0013, train_acc=0.9125, test_loss=0.2174, test_acc=0.9364, lr=0.0010\n",
      "647 epoch: train_loss=0.0008, train_acc=0.9500, test_loss=0.2302, test_acc=0.9365, lr=0.0010\n",
      "648 epoch: train_loss=0.0010, train_acc=0.9500, test_loss=0.2227, test_acc=0.9371, lr=0.0010\n",
      "649 epoch: train_loss=0.0009, train_acc=0.9375, test_loss=0.2243, test_acc=0.9365, lr=0.0010\n",
      "650 epoch: train_loss=0.0012, train_acc=0.9500, test_loss=0.2228, test_acc=0.9359, lr=0.0010\n",
      "651 epoch: train_loss=0.0009, train_acc=0.9375, test_loss=0.2238, test_acc=0.9369, lr=0.0010\n",
      "652 epoch: train_loss=0.0016, train_acc=0.9125, test_loss=0.2324, test_acc=0.9392, lr=0.0010\n",
      "653 epoch: train_loss=0.0008, train_acc=0.9250, test_loss=0.2191, test_acc=0.9364, lr=0.0010\n",
      "654 epoch: train_loss=0.0014, train_acc=0.9250, test_loss=0.2192, test_acc=0.9362, lr=0.0010\n",
      "655 epoch: train_loss=0.0010, train_acc=0.9375, test_loss=0.2358, test_acc=0.9370, lr=0.0010\n",
      "656 epoch: train_loss=0.0008, train_acc=0.9500, test_loss=0.2398, test_acc=0.9363, lr=0.0010\n",
      "657 epoch: train_loss=0.0009, train_acc=0.9625, test_loss=0.2239, test_acc=0.9348, lr=0.0010\n",
      "658 epoch: train_loss=0.0006, train_acc=0.9500, test_loss=0.2196, test_acc=0.9370, lr=0.0010\n",
      "659 epoch: train_loss=0.0013, train_acc=0.8875, test_loss=0.2329, test_acc=0.9367, lr=0.0010\n",
      "660 epoch: train_loss=0.0009, train_acc=0.9375, test_loss=0.2207, test_acc=0.9348, lr=0.0010\n",
      "661 epoch: train_loss=0.0013, train_acc=0.9375, test_loss=0.2189, test_acc=0.9354, lr=0.0010\n",
      "662 epoch: train_loss=0.0008, train_acc=0.9500, test_loss=0.2200, test_acc=0.9366, lr=0.0010\n",
      "663 epoch: train_loss=0.0012, train_acc=0.9375, test_loss=0.2236, test_acc=0.9367, lr=0.0010\n",
      "664 epoch: train_loss=0.0006, train_acc=0.9625, test_loss=0.2327, test_acc=0.9366, lr=0.0010\n",
      "665 epoch: train_loss=0.0012, train_acc=0.9375, test_loss=0.2323, test_acc=0.9365, lr=0.0010\n",
      "666 epoch: train_loss=0.0005, train_acc=0.9625, test_loss=0.2177, test_acc=0.9354, lr=0.0010\n",
      "667 epoch: train_loss=0.0014, train_acc=0.9000, test_loss=0.2358, test_acc=0.9356, lr=0.0010\n",
      "668 epoch: train_loss=0.0008, train_acc=0.9375, test_loss=0.2194, test_acc=0.9359, lr=0.0010\n",
      "669 epoch: train_loss=0.0014, train_acc=0.9250, test_loss=0.2185, test_acc=0.9370, lr=0.0010\n",
      "670 epoch: train_loss=0.0010, train_acc=0.9500, test_loss=0.2240, test_acc=0.9369, lr=0.0010\n",
      "671 epoch: train_loss=0.0012, train_acc=0.9125, test_loss=0.2213, test_acc=0.9360, lr=0.0010\n",
      "672 epoch: train_loss=0.0008, train_acc=0.9500, test_loss=0.2212, test_acc=0.9360, lr=0.0010\n",
      "673 epoch: train_loss=0.0007, train_acc=0.9375, test_loss=0.2202, test_acc=0.9363, lr=0.0010\n",
      "674 epoch: train_loss=0.0010, train_acc=0.9250, test_loss=0.2192, test_acc=0.9366, lr=0.0010\n",
      "675 epoch: train_loss=0.0010, train_acc=0.9375, test_loss=0.2207, test_acc=0.9361, lr=0.0010\n",
      "676 epoch: train_loss=0.0006, train_acc=0.9625, test_loss=0.2275, test_acc=0.9361, lr=0.0010\n",
      "677 epoch: train_loss=0.0006, train_acc=0.9750, test_loss=0.2176, test_acc=0.9373, lr=0.0010\n",
      "678 epoch: train_loss=0.0011, train_acc=0.9500, test_loss=0.2328, test_acc=0.9372, lr=0.0010\n",
      "679 epoch: train_loss=0.0011, train_acc=0.9500, test_loss=0.2198, test_acc=0.9369, lr=0.0010\n",
      "680 epoch: train_loss=0.0009, train_acc=0.9500, test_loss=0.2181, test_acc=0.9370, lr=0.0010\n",
      "681 epoch: train_loss=0.0013, train_acc=0.9250, test_loss=0.2240, test_acc=0.9386, lr=0.0010\n",
      "682 epoch: train_loss=0.0009, train_acc=0.9375, test_loss=0.2182, test_acc=0.9371, lr=0.0010\n",
      "683 epoch: train_loss=0.0006, train_acc=0.9750, test_loss=0.2275, test_acc=0.9373, lr=0.0010\n",
      "684 epoch: train_loss=0.0008, train_acc=0.9250, test_loss=0.2172, test_acc=0.9368, lr=0.0010\n",
      "685 epoch: train_loss=0.0010, train_acc=0.9000, test_loss=0.2225, test_acc=0.9358, lr=0.0010\n",
      "686 epoch: train_loss=0.0005, train_acc=0.9750, test_loss=0.2237, test_acc=0.9382, lr=0.0010\n",
      "687 epoch: train_loss=0.0008, train_acc=0.9625, test_loss=0.2172, test_acc=0.9381, lr=0.0010\n",
      "688 epoch: train_loss=0.0009, train_acc=0.9375, test_loss=0.2205, test_acc=0.9358, lr=0.0010\n",
      "689 epoch: train_loss=0.0009, train_acc=0.9625, test_loss=0.2290, test_acc=0.9381, lr=0.0010\n",
      "690 epoch: train_loss=0.0008, train_acc=0.9500, test_loss=0.2184, test_acc=0.9386, lr=0.0010\n",
      "691 epoch: train_loss=0.0010, train_acc=0.9375, test_loss=0.2224, test_acc=0.9372, lr=0.0010\n",
      "692 epoch: train_loss=0.0013, train_acc=0.9125, test_loss=0.2196, test_acc=0.9378, lr=0.0010\n",
      "693 epoch: train_loss=0.0009, train_acc=0.9500, test_loss=0.2200, test_acc=0.9372, lr=0.0010\n",
      "694 epoch: train_loss=0.0006, train_acc=0.9625, test_loss=0.2352, test_acc=0.9372, lr=0.0010\n",
      "695 epoch: train_loss=0.0014, train_acc=0.9250, test_loss=0.2221, test_acc=0.9372, lr=0.0010\n",
      "696 epoch: train_loss=0.0013, train_acc=0.9125, test_loss=0.2208, test_acc=0.9370, lr=0.0010\n",
      "697 epoch: train_loss=0.0008, train_acc=0.9500, test_loss=0.2249, test_acc=0.9373, lr=0.0010\n",
      "698 epoch: train_loss=0.0008, train_acc=0.9500, test_loss=0.2212, test_acc=0.9378, lr=0.0010\n",
      "699 epoch: train_loss=0.0013, train_acc=0.9250, test_loss=0.2191, test_acc=0.9375, lr=0.0010\n",
      "700 epoch: train_loss=0.0012, train_acc=0.9125, test_loss=0.2296, test_acc=0.9370, lr=0.0010\n",
      "701 epoch: train_loss=0.0005, train_acc=0.9750, test_loss=0.2197, test_acc=0.9378, lr=0.0010\n",
      "702 epoch: train_loss=0.0010, train_acc=0.9375, test_loss=0.2200, test_acc=0.9371, lr=0.0010\n",
      "703 epoch: train_loss=0.0012, train_acc=0.9250, test_loss=0.2218, test_acc=0.9361, lr=0.0010\n",
      "704 epoch: train_loss=0.0010, train_acc=0.9500, test_loss=0.2522, test_acc=0.9371, lr=0.0010\n",
      "705 epoch: train_loss=0.0008, train_acc=0.9375, test_loss=0.2258, test_acc=0.9365, lr=0.0010\n",
      "706 epoch: train_loss=0.0008, train_acc=0.9375, test_loss=0.2241, test_acc=0.9375, lr=0.0010\n",
      "707 epoch: train_loss=0.0009, train_acc=0.9250, test_loss=0.2208, test_acc=0.9368, lr=0.0010\n",
      "708 epoch: train_loss=0.0012, train_acc=0.9125, test_loss=0.2263, test_acc=0.9372, lr=0.0010\n",
      "709 epoch: train_loss=0.0006, train_acc=0.9500, test_loss=0.2219, test_acc=0.9367, lr=0.0010\n",
      "710 epoch: train_loss=0.0012, train_acc=0.9125, test_loss=0.2247, test_acc=0.9384, lr=0.0010\n",
      "711 epoch: train_loss=0.0006, train_acc=0.9625, test_loss=0.2322, test_acc=0.9381, lr=0.0010\n",
      "712 epoch: train_loss=0.0014, train_acc=0.8875, test_loss=0.2305, test_acc=0.9378, lr=0.0010\n",
      "713 epoch: train_loss=0.0011, train_acc=0.9000, test_loss=0.2303, test_acc=0.9373, lr=0.0010\n",
      "714 epoch: train_loss=0.0009, train_acc=0.9250, test_loss=0.2285, test_acc=0.9368, lr=0.0010\n",
      "715 epoch: train_loss=0.0011, train_acc=0.9375, test_loss=0.2218, test_acc=0.9366, lr=0.0010\n",
      "716 epoch: train_loss=0.0014, train_acc=0.9000, test_loss=0.2211, test_acc=0.9367, lr=0.0010\n",
      "717 epoch: train_loss=0.0008, train_acc=0.9625, test_loss=0.2207, test_acc=0.9371, lr=0.0010\n",
      "718 epoch: train_loss=0.0011, train_acc=0.9500, test_loss=0.2334, test_acc=0.9374, lr=0.0010\n",
      "719 epoch: train_loss=0.0012, train_acc=0.9125, test_loss=0.2251, test_acc=0.9374, lr=0.0010\n",
      "720 epoch: train_loss=0.0006, train_acc=0.9500, test_loss=0.2191, test_acc=0.9367, lr=0.0010\n",
      "721 epoch: train_loss=0.0009, train_acc=0.9375, test_loss=0.2242, test_acc=0.9371, lr=0.0010\n",
      "722 epoch: train_loss=0.0003, train_acc=0.9875, test_loss=0.2218, test_acc=0.9373, lr=0.0010\n",
      "723 epoch: train_loss=0.0009, train_acc=0.9250, test_loss=0.2207, test_acc=0.9357, lr=0.0010\n",
      "724 epoch: train_loss=0.0011, train_acc=0.9375, test_loss=0.2199, test_acc=0.9359, lr=0.0010\n",
      "725 epoch: train_loss=0.0008, train_acc=0.9375, test_loss=0.2271, test_acc=0.9359, lr=0.0010\n",
      "726 epoch: train_loss=0.0011, train_acc=0.9125, test_loss=0.2271, test_acc=0.9369, lr=0.0010\n",
      "727 epoch: train_loss=0.0009, train_acc=0.9375, test_loss=0.2262, test_acc=0.9374, lr=0.0010\n",
      "728 epoch: train_loss=0.0010, train_acc=0.9375, test_loss=0.2224, test_acc=0.9372, lr=0.0010\n",
      "729 epoch: train_loss=0.0008, train_acc=0.9625, test_loss=0.2190, test_acc=0.9379, lr=0.0010\n",
      "730 epoch: train_loss=0.0009, train_acc=0.9500, test_loss=0.2207, test_acc=0.9365, lr=0.0010\n",
      "731 epoch: train_loss=0.0004, train_acc=0.9875, test_loss=0.2314, test_acc=0.9367, lr=0.0010\n",
      "732 epoch: train_loss=0.0004, train_acc=0.9750, test_loss=0.2260, test_acc=0.9367, lr=0.0010\n",
      "733 epoch: train_loss=0.0012, train_acc=0.9250, test_loss=0.2214, test_acc=0.9375, lr=0.0010\n",
      "734 epoch: train_loss=0.0012, train_acc=0.9000, test_loss=0.2235, test_acc=0.9377, lr=0.0001\n",
      "735 epoch: train_loss=0.0009, train_acc=0.9500, test_loss=0.2188, test_acc=0.9372, lr=0.0001\n",
      "736 epoch: train_loss=0.0013, train_acc=0.8875, test_loss=0.2286, test_acc=0.9366, lr=0.0001\n",
      "737 epoch: train_loss=0.0015, train_acc=0.9000, test_loss=0.2180, test_acc=0.9372, lr=0.0001\n",
      "738 epoch: train_loss=0.0015, train_acc=0.8750, test_loss=0.2289, test_acc=0.9373, lr=0.0001\n",
      "739 epoch: train_loss=0.0009, train_acc=0.9500, test_loss=0.2215, test_acc=0.9371, lr=0.0001\n",
      "740 epoch: train_loss=0.0007, train_acc=0.9375, test_loss=0.2238, test_acc=0.9378, lr=0.0001\n",
      "741 epoch: train_loss=0.0010, train_acc=0.9375, test_loss=0.2248, test_acc=0.9381, lr=0.0001\n",
      "742 epoch: train_loss=0.0012, train_acc=0.9375, test_loss=0.2252, test_acc=0.9371, lr=0.0001\n",
      "743 epoch: train_loss=0.0012, train_acc=0.9000, test_loss=0.2250, test_acc=0.9377, lr=0.0001\n",
      "744 epoch: train_loss=0.0014, train_acc=0.8875, test_loss=0.2284, test_acc=0.9367, lr=0.0001\n",
      "745 epoch: train_loss=0.0006, train_acc=0.9375, test_loss=0.2222, test_acc=0.9374, lr=0.0001\n",
      "746 epoch: train_loss=0.0011, train_acc=0.9375, test_loss=0.2244, test_acc=0.9373, lr=0.0001\n",
      "747 epoch: train_loss=0.0010, train_acc=0.9375, test_loss=0.2188, test_acc=0.9379, lr=0.0001\n",
      "748 epoch: train_loss=0.0007, train_acc=0.9500, test_loss=0.2211, test_acc=0.9378, lr=0.0001\n",
      "749 epoch: train_loss=0.0006, train_acc=0.9625, test_loss=0.2237, test_acc=0.9377, lr=0.0001\n",
      "750 epoch: train_loss=0.0009, train_acc=0.9250, test_loss=0.2318, test_acc=0.9364, lr=0.0001\n",
      "751 epoch: train_loss=0.0012, train_acc=0.9250, test_loss=0.2426, test_acc=0.9376, lr=0.0001\n",
      "752 epoch: train_loss=0.0006, train_acc=0.9625, test_loss=0.2238, test_acc=0.9378, lr=0.0001\n",
      "753 epoch: train_loss=0.0014, train_acc=0.8875, test_loss=0.2276, test_acc=0.9379, lr=0.0001\n",
      "754 epoch: train_loss=0.0007, train_acc=0.9125, test_loss=0.2244, test_acc=0.9381, lr=0.0001\n",
      "755 epoch: train_loss=0.0008, train_acc=0.9375, test_loss=0.2196, test_acc=0.9377, lr=0.0001\n",
      "756 epoch: train_loss=0.0003, train_acc=0.9750, test_loss=0.2254, test_acc=0.9378, lr=0.0001\n",
      "757 epoch: train_loss=0.0007, train_acc=0.9625, test_loss=0.2203, test_acc=0.9379, lr=0.0001\n",
      "758 epoch: train_loss=0.0007, train_acc=0.9375, test_loss=0.2327, test_acc=0.9380, lr=0.0001\n",
      "759 epoch: train_loss=0.0006, train_acc=0.9625, test_loss=0.2215, test_acc=0.9378, lr=0.0001\n",
      "760 epoch: train_loss=0.0008, train_acc=0.9375, test_loss=0.2380, test_acc=0.9375, lr=0.0001\n",
      "761 epoch: train_loss=0.0017, train_acc=0.8625, test_loss=0.2178, test_acc=0.9369, lr=0.0001\n",
      "762 epoch: train_loss=0.0017, train_acc=0.9000, test_loss=0.2180, test_acc=0.9379, lr=0.0001\n",
      "763 epoch: train_loss=0.0008, train_acc=0.9375, test_loss=0.2290, test_acc=0.9376, lr=0.0001\n",
      "764 epoch: train_loss=0.0012, train_acc=0.9000, test_loss=0.2201, test_acc=0.9378, lr=0.0001\n",
      "765 epoch: train_loss=0.0011, train_acc=0.9000, test_loss=0.2212, test_acc=0.9378, lr=0.0001\n",
      "766 epoch: train_loss=0.0011, train_acc=0.9250, test_loss=0.2188, test_acc=0.9381, lr=0.0001\n",
      "767 epoch: train_loss=0.0015, train_acc=0.8875, test_loss=0.2199, test_acc=0.9370, lr=0.0001\n",
      "768 epoch: train_loss=0.0007, train_acc=0.9250, test_loss=0.2196, test_acc=0.9384, lr=0.0001\n",
      "769 epoch: train_loss=0.0009, train_acc=0.9375, test_loss=0.2188, test_acc=0.9384, lr=0.0001\n",
      "770 epoch: train_loss=0.0007, train_acc=0.9375, test_loss=0.2238, test_acc=0.9376, lr=0.0001\n",
      "771 epoch: train_loss=0.0011, train_acc=0.9000, test_loss=0.2190, test_acc=0.9376, lr=0.0001\n",
      "772 epoch: train_loss=0.0009, train_acc=0.9250, test_loss=0.2169, test_acc=0.9385, lr=0.0001\n",
      "773 epoch: train_loss=0.0016, train_acc=0.9000, test_loss=0.2210, test_acc=0.9371, lr=0.0001\n",
      "774 epoch: train_loss=0.0012, train_acc=0.9375, test_loss=0.2355, test_acc=0.9380, lr=0.0001\n",
      "775 epoch: train_loss=0.0005, train_acc=0.9750, test_loss=0.2198, test_acc=0.9381, lr=0.0001\n",
      "776 epoch: train_loss=0.0011, train_acc=0.9125, test_loss=0.2188, test_acc=0.9380, lr=0.0001\n",
      "777 epoch: train_loss=0.0010, train_acc=0.9375, test_loss=0.2251, test_acc=0.9380, lr=0.0001\n",
      "778 epoch: train_loss=0.0009, train_acc=0.9625, test_loss=0.2265, test_acc=0.9381, lr=0.0001\n",
      "779 epoch: train_loss=0.0009, train_acc=0.9625, test_loss=0.2252, test_acc=0.9376, lr=0.0001\n",
      "780 epoch: train_loss=0.0003, train_acc=0.9875, test_loss=0.2293, test_acc=0.9370, lr=0.0001\n",
      "781 epoch: train_loss=0.0016, train_acc=0.9000, test_loss=0.2177, test_acc=0.9379, lr=0.0001\n",
      "782 epoch: train_loss=0.0007, train_acc=0.9375, test_loss=0.2206, test_acc=0.9379, lr=0.0001\n",
      "783 epoch: train_loss=0.0010, train_acc=0.9250, test_loss=0.2211, test_acc=0.9378, lr=0.0001\n",
      "784 epoch: train_loss=0.0006, train_acc=0.9375, test_loss=0.2207, test_acc=0.9369, lr=0.0001\n",
      "785 epoch: train_loss=0.0012, train_acc=0.8875, test_loss=0.2201, test_acc=0.9377, lr=0.0001\n",
      "786 epoch: train_loss=0.0012, train_acc=0.9000, test_loss=0.2191, test_acc=0.9382, lr=0.0001\n",
      "787 epoch: train_loss=0.0006, train_acc=0.9625, test_loss=0.2297, test_acc=0.9382, lr=0.0001\n",
      "788 epoch: train_loss=0.0014, train_acc=0.9000, test_loss=0.2306, test_acc=0.9373, lr=0.0001\n",
      "789 epoch: train_loss=0.0009, train_acc=0.9250, test_loss=0.2200, test_acc=0.9375, lr=0.0001\n",
      "790 epoch: train_loss=0.0008, train_acc=0.9625, test_loss=0.2425, test_acc=0.9371, lr=0.0001\n",
      "791 epoch: train_loss=0.0013, train_acc=0.8750, test_loss=0.2298, test_acc=0.9375, lr=0.0001\n",
      "792 epoch: train_loss=0.0010, train_acc=0.9250, test_loss=0.2259, test_acc=0.9372, lr=0.0001\n",
      "793 epoch: train_loss=0.0005, train_acc=0.9875, test_loss=0.2178, test_acc=0.9377, lr=0.0001\n",
      "794 epoch: train_loss=0.0010, train_acc=0.9500, test_loss=0.2197, test_acc=0.9380, lr=0.0001\n",
      "795 epoch: train_loss=0.0010, train_acc=0.9250, test_loss=0.2181, test_acc=0.9374, lr=0.0001\n",
      "796 epoch: train_loss=0.0008, train_acc=0.9750, test_loss=0.2237, test_acc=0.9373, lr=0.0001\n",
      "797 epoch: train_loss=0.0012, train_acc=0.9375, test_loss=0.2185, test_acc=0.9368, lr=0.0001\n",
      "798 epoch: train_loss=0.0007, train_acc=0.9500, test_loss=0.2172, test_acc=0.9378, lr=0.0001\n",
      "799 epoch: train_loss=0.0005, train_acc=0.9875, test_loss=0.2186, test_acc=0.9372, lr=0.0001\n",
      "800 epoch: train_loss=0.0007, train_acc=0.9500, test_loss=0.2261, test_acc=0.9377, lr=0.0001\n",
      "801 epoch: train_loss=0.0010, train_acc=0.9500, test_loss=0.2193, test_acc=0.9376, lr=0.0001\n",
      "802 epoch: train_loss=0.0004, train_acc=0.9750, test_loss=0.2258, test_acc=0.9374, lr=0.0001\n",
      "803 epoch: train_loss=0.0007, train_acc=0.9625, test_loss=0.2176, test_acc=0.9373, lr=0.0001\n",
      "804 epoch: train_loss=0.0010, train_acc=0.9500, test_loss=0.2162, test_acc=0.9378, lr=0.0001\n",
      "805 epoch: train_loss=0.0005, train_acc=0.9625, test_loss=0.2312, test_acc=0.9373, lr=0.0001\n",
      "806 epoch: train_loss=0.0012, train_acc=0.9250, test_loss=0.2362, test_acc=0.9378, lr=0.0001\n",
      "807 epoch: train_loss=0.0009, train_acc=0.9250, test_loss=0.2196, test_acc=0.9378, lr=0.0001\n",
      "808 epoch: train_loss=0.0010, train_acc=0.9500, test_loss=0.2170, test_acc=0.9381, lr=0.0001\n",
      "809 epoch: train_loss=0.0004, train_acc=0.9875, test_loss=0.2179, test_acc=0.9378, lr=0.0001\n",
      "810 epoch: train_loss=0.0008, train_acc=0.9125, test_loss=0.2198, test_acc=0.9373, lr=0.0001\n",
      "811 epoch: train_loss=0.0009, train_acc=0.9500, test_loss=0.2184, test_acc=0.9380, lr=0.0001\n",
      "812 epoch: train_loss=0.0004, train_acc=0.9625, test_loss=0.2190, test_acc=0.9378, lr=0.0001\n",
      "813 epoch: train_loss=0.0006, train_acc=0.9625, test_loss=0.2259, test_acc=0.9375, lr=0.0001\n",
      "814 epoch: train_loss=0.0004, train_acc=0.9625, test_loss=0.2202, test_acc=0.9374, lr=0.0001\n",
      "815 epoch: train_loss=0.0006, train_acc=0.9500, test_loss=0.2178, test_acc=0.9382, lr=0.0001\n",
      "816 epoch: train_loss=0.0012, train_acc=0.9250, test_loss=0.2284, test_acc=0.9374, lr=0.0001\n",
      "817 epoch: train_loss=0.0014, train_acc=0.9125, test_loss=0.2268, test_acc=0.9370, lr=0.0001\n",
      "818 epoch: train_loss=0.0006, train_acc=0.9625, test_loss=0.2245, test_acc=0.9380, lr=0.0001\n",
      "819 epoch: train_loss=0.0010, train_acc=0.9375, test_loss=0.2283, test_acc=0.9371, lr=0.0001\n",
      "820 epoch: train_loss=0.0009, train_acc=0.9250, test_loss=0.2207, test_acc=0.9375, lr=0.0001\n",
      "821 epoch: train_loss=0.0006, train_acc=0.9625, test_loss=0.2198, test_acc=0.9374, lr=0.0001\n",
      "822 epoch: train_loss=0.0005, train_acc=0.9750, test_loss=0.2320, test_acc=0.9369, lr=0.0001\n",
      "823 epoch: train_loss=0.0006, train_acc=0.9750, test_loss=0.2208, test_acc=0.9383, lr=0.0001\n",
      "824 epoch: train_loss=0.0016, train_acc=0.8750, test_loss=0.2190, test_acc=0.9368, lr=0.0001\n",
      "825 epoch: train_loss=0.0014, train_acc=0.8750, test_loss=0.2209, test_acc=0.9380, lr=0.0001\n",
      "826 epoch: train_loss=0.0011, train_acc=0.9375, test_loss=0.2187, test_acc=0.9381, lr=0.0001\n",
      "827 epoch: train_loss=0.0008, train_acc=0.9500, test_loss=0.2219, test_acc=0.9381, lr=0.0001\n",
      "828 epoch: train_loss=0.0006, train_acc=0.9625, test_loss=0.2180, test_acc=0.9380, lr=0.0001\n",
      "829 epoch: train_loss=0.0007, train_acc=0.9500, test_loss=0.2219, test_acc=0.9376, lr=0.0001\n",
      "830 epoch: train_loss=0.0005, train_acc=0.9375, test_loss=0.2195, test_acc=0.9380, lr=0.0001\n",
      "831 epoch: train_loss=0.0012, train_acc=0.9250, test_loss=0.2253, test_acc=0.9377, lr=0.0001\n",
      "832 epoch: train_loss=0.0008, train_acc=0.9375, test_loss=0.2299, test_acc=0.9372, lr=0.0001\n",
      "833 epoch: train_loss=0.0012, train_acc=0.9125, test_loss=0.2164, test_acc=0.9382, lr=0.0001\n",
      "834 epoch: train_loss=0.0013, train_acc=0.9000, test_loss=0.2220, test_acc=0.9380, lr=0.0001\n",
      "835 epoch: train_loss=0.0011, train_acc=0.9000, test_loss=0.2185, test_acc=0.9379, lr=0.0001\n",
      "836 epoch: train_loss=0.0016, train_acc=0.8875, test_loss=0.2178, test_acc=0.9370, lr=0.0001\n",
      "837 epoch: train_loss=0.0010, train_acc=0.9125, test_loss=0.2301, test_acc=0.9368, lr=0.0001\n",
      "838 epoch: train_loss=0.0010, train_acc=0.9500, test_loss=0.2246, test_acc=0.9377, lr=0.0001\n",
      "839 epoch: train_loss=0.0007, train_acc=0.9625, test_loss=0.2173, test_acc=0.9387, lr=0.0001\n",
      "840 epoch: train_loss=0.0006, train_acc=0.9500, test_loss=0.2194, test_acc=0.9381, lr=0.0001\n",
      "841 epoch: train_loss=0.0005, train_acc=0.9625, test_loss=0.2224, test_acc=0.9377, lr=0.0001\n",
      "842 epoch: train_loss=0.0009, train_acc=0.9250, test_loss=0.2279, test_acc=0.9386, lr=0.0001\n",
      "843 epoch: train_loss=0.0008, train_acc=0.9375, test_loss=0.2200, test_acc=0.9374, lr=0.0001\n",
      "844 epoch: train_loss=0.0006, train_acc=0.9500, test_loss=0.2271, test_acc=0.9372, lr=0.0001\n",
      "845 epoch: train_loss=0.0011, train_acc=0.9625, test_loss=0.2267, test_acc=0.9377, lr=0.0001\n",
      "846 epoch: train_loss=0.0013, train_acc=0.9125, test_loss=0.2219, test_acc=0.9378, lr=0.0001\n",
      "847 epoch: train_loss=0.0007, train_acc=0.9250, test_loss=0.2252, test_acc=0.9381, lr=0.0001\n",
      "848 epoch: train_loss=0.0015, train_acc=0.8875, test_loss=0.2175, test_acc=0.9374, lr=0.0001\n",
      "849 epoch: train_loss=0.0006, train_acc=0.9625, test_loss=0.2192, test_acc=0.9381, lr=0.0001\n",
      "850 epoch: train_loss=0.0007, train_acc=0.9625, test_loss=0.2224, test_acc=0.9372, lr=0.0001\n"
     ]
    }
   ],
   "source": [
    "view.print_all()"
   ]
  },
  {
   "cell_type": "code",
   "execution_count": null,
   "metadata": {},
   "outputs": [],
   "source": [
    "# CHECK = 5410\n",
    "# logs[\"train_loss\"] = logs[\"train_loss\"][:CHECK]\n",
    "# logs[\"train_acc\"] = logs[\"train_acc\"][:CHECK]\n",
    "# logs[\"valid_loss\"] = logs[\"valid_loss\"][:CHECK]\n",
    "# logs[\"valid_acc\"] = logs[\"valid_acc\"][:CHECK]\n",
    "# logs[\"test_loss\"] = logs[\"test_loss\"][:CHECK]\n",
    "# logs[\"test_acc\"] = logs[\"test_acc\"][:CHECK]\n",
    "# model.load_state_dict(torch.load(f\"models/{file_path}.pth\"))"
   ]
  }
 ],
 "metadata": {
  "kernelspec": {
   "display_name": "base",
   "language": "python",
   "name": "python3"
  },
  "language_info": {
   "codemirror_mode": {
    "name": "ipython",
    "version": 3
   },
   "file_extension": ".py",
   "mimetype": "text/x-python",
   "name": "python",
   "nbconvert_exporter": "python",
   "pygments_lexer": "ipython3",
   "version": "3.11.5"
  }
 },
 "nbformat": 4,
 "nbformat_minor": 2
}
