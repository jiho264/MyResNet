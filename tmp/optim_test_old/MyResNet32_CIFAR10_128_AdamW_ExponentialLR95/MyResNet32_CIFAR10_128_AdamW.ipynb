{
 "cells": [
  {
   "cell_type": "markdown",
   "metadata": {},
   "source": [
    "# Import"
   ]
  },
  {
   "cell_type": "code",
   "execution_count": 1,
   "metadata": {},
   "outputs": [],
   "source": [
    "import torch\n",
    "from torch import nn\n",
    "from torch.optim.lr_scheduler import ExponentialLR\n",
    "import sys, os\n",
    "\n",
    "sys.path.append(os.path.dirname(os.path.abspath(os.path.dirname(\"src\"))))\n",
    "\n",
    "from src.Mydataloader import LoadDataset\n",
    "from src.Mymodel import MyResNet_CIFAR\n",
    "from src.Mytraining import DoTraining\n",
    "from src.Earlystopper import EarlyStopper\n",
    "from src.LogViewer import LogViewer"
   ]
  },
  {
   "cell_type": "markdown",
   "metadata": {},
   "source": [
    "# Setup"
   ]
  },
  {
   "cell_type": "code",
   "execution_count": 2,
   "metadata": {},
   "outputs": [],
   "source": [
    "\"\"\"Dataset selection\"\"\"\n",
    "DATASET = \"CIFAR10\"\n",
    "# DATASET = \"CIFAR100\"\n",
    "# DATASET = \"ImageNet2012\"\n",
    "\n",
    "\"\"\"Dataset parameters\"\"\"\n",
    "BATCH = 128\n",
    "SHUFFLE = True\n",
    "NUMOFWORKERS = 8\n",
    "PIN_MEMORY = True\n",
    "\n",
    "\"\"\"optimizer parameters\"\"\"\n",
    "# OPTIMIZER = \"Adam\"\n",
    "# OPTIMIZER = \"Adam_decay\"\n",
    "# OPTIMIZER = \"SGD\"\n",
    "# OPTIMIZER = \"SGD_nasterov\"\n",
    "OPTIMIZER = \"AdamW\"\n",
    "# OPTIMIZER = \"AdamW_amsgrad\"\n",
    "# OPTIMIZER = \"NAdam\"\n",
    "\n",
    "\"\"\"Learning rate scheduler parameters\"\"\"\n",
    "NUM_EPOCHS = 100\n",
    "\n",
    "\"\"\"Early stopping parameters\"\"\"\n",
    "EARLYSTOPPINGPATIENCE = 100\n",
    "\n",
    "file_name = f\"MyResNet32_{BATCH}_{OPTIMIZER}\""
   ]
  },
  {
   "cell_type": "code",
   "execution_count": 3,
   "metadata": {},
   "outputs": [
    {
     "data": {
      "text/plain": [
       "'MyResNet32_128_AdamW'"
      ]
     },
     "execution_count": 3,
     "metadata": {},
     "output_type": "execute_result"
    }
   ],
   "source": [
    "file_name"
   ]
  },
  {
   "cell_type": "markdown",
   "metadata": {},
   "source": [
    "# Loading the dataset"
   ]
  },
  {
   "cell_type": "markdown",
   "metadata": {},
   "source": [
    "## Define Dateloader"
   ]
  },
  {
   "cell_type": "code",
   "execution_count": 4,
   "metadata": {},
   "outputs": [
    {
     "name": "stderr",
     "output_type": "stream",
     "text": [
      "/home/lee/anaconda3/lib/python3.11/site-packages/torchvision/transforms/v2/_deprecated.py:43: UserWarning: The transform `ToTensor()` is deprecated and will be removed in a future release. Instead, please use `v2.Compose([v2.ToImage(), v2.ToDtype(torch.float32, scale=True)])`.\n",
      "  warnings.warn(\n"
     ]
    },
    {
     "name": "stdout",
     "output_type": "stream",
     "text": [
      "-----------------------------------------------------------------------\n",
      "Dataset :  CIFAR10\n",
      "- Length of Train Set :  50000\n",
      "- Length of Test Set :  10000\n",
      "- Count of Classes :  10\n",
      "-----------------------------------------------------------------------\n"
     ]
    }
   ],
   "source": [
    "tmp = LoadDataset(root=\"../../../data\", seceted_dataset=DATASET)\n",
    "train_data, valid_data, test_data, COUNT_OF_CLASSES = tmp.Unpack()"
   ]
  },
  {
   "cell_type": "code",
   "execution_count": 5,
   "metadata": {},
   "outputs": [
    {
     "name": "stdout",
     "output_type": "stream",
     "text": [
      "train.transforms = Compose(\n",
      "      AutoAugment(interpolation=InterpolationMode.NEAREST, policy=AutoAugmentPolicy.CIFAR10)\n",
      "      RandomCrop(size=(32, 32), padding=[4, 4, 4, 4], pad_if_needed=False, fill=0, padding_mode=constant)\n",
      "      RandomHorizontalFlip(p=0.5)\n",
      "      ToTensor()\n",
      "      Normalize(mean=[0.49139968, 0.48215827, 0.44653124], std=[1, 1, 1], inplace=True)\n",
      ") 128\n",
      "test.transforms = ToTensor() 128\n"
     ]
    }
   ],
   "source": [
    "train_dataloader, valid_dataloader, test_dataloader = tmp.get_dataloader(\n",
    "    batch_size=BATCH, shuffle=SHUFFLE, num_workers=NUMOFWORKERS, pin_memory=PIN_MEMORY\n",
    ")"
   ]
  },
  {
   "cell_type": "markdown",
   "metadata": {},
   "source": [
    "# Define ResNet"
   ]
  },
  {
   "cell_type": "markdown",
   "metadata": {},
   "source": [
    "## Model Confirm"
   ]
  },
  {
   "cell_type": "code",
   "execution_count": 6,
   "metadata": {},
   "outputs": [
    {
     "data": {
      "text/plain": [
       "device(type='cuda')"
      ]
     },
     "execution_count": 6,
     "metadata": {},
     "output_type": "execute_result"
    }
   ],
   "source": [
    "device = torch.device(\"cuda\" if torch.cuda.is_available() else \"cpu\")\n",
    "device"
   ]
  },
  {
   "cell_type": "code",
   "execution_count": 7,
   "metadata": {},
   "outputs": [],
   "source": [
    "model = MyResNet_CIFAR(num_classes=COUNT_OF_CLASSES, num_layer_factor=5).to(device)"
   ]
  },
  {
   "cell_type": "markdown",
   "metadata": {},
   "source": [
    "# Define Training"
   ]
  },
  {
   "cell_type": "markdown",
   "metadata": {},
   "source": [
    "## (1) Define Criterion"
   ]
  },
  {
   "cell_type": "code",
   "execution_count": 8,
   "metadata": {},
   "outputs": [],
   "source": [
    "criterion = nn.CrossEntropyLoss()"
   ]
  },
  {
   "cell_type": "markdown",
   "metadata": {},
   "source": [
    "## (2) Define Optimazer"
   ]
  },
  {
   "cell_type": "code",
   "execution_count": 9,
   "metadata": {},
   "outputs": [],
   "source": [
    "if OPTIMIZER == \"Adam\":\n",
    "    optimizer = torch.optim.Adam(model.parameters())\n",
    "elif OPTIMIZER == \"Adam_decay\":\n",
    "    optimizer = torch.optim.Adam(model.parameters(), weight_decay=1e-4)\n",
    "elif OPTIMIZER == \"SGD\":\n",
    "    optimizer = torch.optim.SGD(\n",
    "        model.parameters(), lr=0.1, momentum=0.9, weight_decay=1e-4\n",
    "    )\n",
    "elif OPTIMIZER == \"SGD_nasterov\":\n",
    "    optimizer = torch.optim.SGD(\n",
    "        model.parameters(), lr=0.1, momentum=0.9, weight_decay=1e-4, nesterov=True\n",
    "    )\n",
    "elif OPTIMIZER == \"AdamW\":\n",
    "    optimizer = torch.optim.AdamW(model.parameters(), weight_decay=1e-4)\n",
    "elif OPTIMIZER == \"AdamW_amsgrad\":\n",
    "    optimizer = torch.optim.AdamW(model.parameters(), weight_decay=1e-4, amsgrad=True)\n",
    "elif OPTIMIZER == \"NAdam\":\n",
    "    optimizer = torch.optim.NAdam(model.parameters(), weight_decay=1e-4)"
   ]
  },
  {
   "cell_type": "markdown",
   "metadata": {},
   "source": [
    "## (3) Define Early Stopping"
   ]
  },
  {
   "cell_type": "code",
   "execution_count": 10,
   "metadata": {},
   "outputs": [],
   "source": [
    "earlystopper = EarlyStopper(patience=EARLYSTOPPINGPATIENCE, model=model, file_name=file_name)"
   ]
  },
  {
   "cell_type": "markdown",
   "metadata": {},
   "source": [
    "## (4) Define Learning Rate schedualer"
   ]
  },
  {
   "cell_type": "code",
   "execution_count": 11,
   "metadata": {},
   "outputs": [],
   "source": [
    "scheduler = ExponentialLR(optimizer, gamma=0.95)"
   ]
  },
  {
   "cell_type": "markdown",
   "metadata": {},
   "source": [
    "## (5) Define AMP scaler"
   ]
  },
  {
   "cell_type": "code",
   "execution_count": 12,
   "metadata": {},
   "outputs": [],
   "source": [
    "scaler = torch.cuda.amp.GradScaler(enabled=True)"
   ]
  },
  {
   "cell_type": "markdown",
   "metadata": {},
   "source": [
    "## Load before process"
   ]
  },
  {
   "cell_type": "code",
   "execution_count": 13,
   "metadata": {},
   "outputs": [
    {
     "name": "stdout",
     "output_type": "stream",
     "text": [
      "File does not exist. Created a new log.\n"
     ]
    }
   ],
   "source": [
    "if os.path.exists(file_name + \".pth.tar\"):\n",
    "    # Read checkpoint as desired, e.g.,\n",
    "    checkpoint = torch.load(\n",
    "        file_name + \".pth.tar\",\n",
    "        map_location=lambda storage, loc: storage.cuda(device),\n",
    "    )\n",
    "    model.load_state_dict(checkpoint[\"model\"])\n",
    "    optimizer.load_state_dict(checkpoint[\"optimizer\"])\n",
    "    scaler.load_state_dict(checkpoint[\"scaler\"])\n",
    "    scheduler.load_state_dict(checkpoint[\"scheduler\"])\n",
    "    earlystopper.load_state_dict(checkpoint[\"earlystopper\"])\n",
    "    logs = checkpoint[\"logs\"]\n",
    "\n",
    "    print(\"Suceessfully loaded the All setting and Log file.\")\n",
    "    print(file_name)\n",
    "    print(f\"Current epoch is {len(logs['train_loss'])}\")\n",
    "    print(f\"Current learning rate: {optimizer.param_groups[0]['lr']}\")\n",
    "else:\n",
    "    # Create a dictionary to store the variables\n",
    "    train_loss = []\n",
    "    train_acc = []\n",
    "    eval_loss = []\n",
    "    valid_acc = []\n",
    "    test_loss = []\n",
    "    test_acc = []\n",
    "    lr_log = []\n",
    "    logs = {\n",
    "        \"train_loss\": train_loss,\n",
    "        \"train_acc\": train_acc,\n",
    "        \"valid_loss\": eval_loss,\n",
    "        \"valid_acc\": valid_acc,\n",
    "        \"test_loss\": test_loss,\n",
    "        \"test_acc\": test_acc,\n",
    "        \"lr_log\": lr_log,\n",
    "    }\n",
    "    print(\"File does not exist. Created a new log.\")"
   ]
  },
  {
   "cell_type": "code",
   "execution_count": 14,
   "metadata": {},
   "outputs": [
    {
     "data": {
      "text/plain": [
       "0.001"
      ]
     },
     "execution_count": 14,
     "metadata": {},
     "output_type": "execute_result"
    }
   ],
   "source": [
    "optimizer.param_groups[0][\"lr\"]"
   ]
  },
  {
   "cell_type": "code",
   "execution_count": 15,
   "metadata": {},
   "outputs": [
    {
     "data": {
      "text/plain": [
       "0"
      ]
     },
     "execution_count": 15,
     "metadata": {},
     "output_type": "execute_result"
    }
   ],
   "source": [
    "earlystopper.early_stop_counter"
   ]
  },
  {
   "cell_type": "markdown",
   "metadata": {},
   "source": [
    "# [Training Loop]"
   ]
  },
  {
   "cell_type": "code",
   "execution_count": 16,
   "metadata": {},
   "outputs": [
    {
     "name": "stdout",
     "output_type": "stream",
     "text": [
      "[Epoch 1/100] :\n"
     ]
    },
    {
     "name": "stderr",
     "output_type": "stream",
     "text": [
      "1 Train: 100%|███████| 391/391 [00:30<00:00, 12.90it/s]"
     ]
    },
    {
     "name": "stdout",
     "output_type": "stream",
     "text": [
      "Train Loss: 1.7047 | Train Acc: 37.73%\n"
     ]
    },
    {
     "name": "stderr",
     "output_type": "stream",
     "text": [
      "\n",
      "/home/lee/anaconda3/lib/python3.11/site-packages/torch/utils/data/dataloader.py:557: UserWarning: This DataLoader will create 8 worker processes in total. Our suggested max number of worker in current system is 7, which is smaller than what this DataLoader is going to create. Please be aware that excessive worker creation might get DataLoader running slow or even freeze, lower the worker number to avoid potential slowness/freeze if necessary.\n",
      "  warnings.warn(_create_warning_msg(\n"
     ]
    },
    {
     "name": "stdout",
     "output_type": "stream",
     "text": [
      "Test  Loss: 1.7983 | Test Acc: 39.80%\n",
      "updated best eval loss : 1.7982915790775154\n",
      "--------------------------------------------------\n",
      "[Epoch 2/100] :\n"
     ]
    },
    {
     "name": "stderr",
     "output_type": "stream",
     "text": [
      "2 Train: 100%|███████| 391/391 [00:29<00:00, 13.48it/s]\n"
     ]
    },
    {
     "name": "stdout",
     "output_type": "stream",
     "text": [
      "Train Loss: 1.2750 | Train Acc: 54.20%\n",
      "Test  Loss: 2.1151 | Test Acc: 39.29%\n",
      "--------------------------------------------------\n",
      "[Epoch 3/100] :\n"
     ]
    },
    {
     "name": "stderr",
     "output_type": "stream",
     "text": [
      "3 Train: 100%|███████| 391/391 [00:29<00:00, 13.04it/s]\n"
     ]
    },
    {
     "name": "stdout",
     "output_type": "stream",
     "text": [
      "Train Loss: 1.0886 | Train Acc: 61.44%\n",
      "Test  Loss: 1.3101 | Test Acc: 58.70%\n",
      "updated best eval loss : 1.3101274635218367\n",
      "--------------------------------------------------\n",
      "[Epoch 4/100] :\n"
     ]
    },
    {
     "name": "stderr",
     "output_type": "stream",
     "text": [
      "4 Train: 100%|███████| 391/391 [00:29<00:00, 13.29it/s]\n"
     ]
    },
    {
     "name": "stdout",
     "output_type": "stream",
     "text": [
      "Train Loss: 0.9740 | Train Acc: 65.88%\n",
      "Test  Loss: 1.2084 | Test Acc: 61.13%\n",
      "updated best eval loss : 1.2084343674816662\n",
      "--------------------------------------------------\n",
      "[Epoch 5/100] :\n"
     ]
    },
    {
     "name": "stderr",
     "output_type": "stream",
     "text": [
      "5 Train: 100%|███████| 391/391 [00:31<00:00, 12.58it/s]\n"
     ]
    },
    {
     "name": "stdout",
     "output_type": "stream",
     "text": [
      "Train Loss: 0.8953 | Train Acc: 68.98%\n",
      "Test  Loss: 0.8579 | Test Acc: 70.14%\n",
      "updated best eval loss : 0.8578834843031967\n",
      "--------------------------------------------------\n",
      "[Epoch 6/100] :\n"
     ]
    },
    {
     "name": "stderr",
     "output_type": "stream",
     "text": [
      "6 Train: 100%|███████| 391/391 [00:30<00:00, 13.02it/s]\n"
     ]
    },
    {
     "name": "stdout",
     "output_type": "stream",
     "text": [
      "Train Loss: 0.8297 | Train Acc: 71.04%\n",
      "Test  Loss: 0.8609 | Test Acc: 71.19%\n",
      "--------------------------------------------------\n",
      "[Epoch 7/100] :\n"
     ]
    },
    {
     "name": "stderr",
     "output_type": "stream",
     "text": [
      "7 Train: 100%|███████| 391/391 [00:30<00:00, 12.86it/s]\n"
     ]
    },
    {
     "name": "stdout",
     "output_type": "stream",
     "text": [
      "Train Loss: 0.7954 | Train Acc: 72.34%\n",
      "Test  Loss: 1.1325 | Test Acc: 62.73%\n",
      "--------------------------------------------------\n",
      "[Epoch 8/100] :\n"
     ]
    },
    {
     "name": "stderr",
     "output_type": "stream",
     "text": [
      "8 Train: 100%|███████| 391/391 [00:31<00:00, 12.42it/s]\n"
     ]
    },
    {
     "name": "stdout",
     "output_type": "stream",
     "text": [
      "Train Loss: 0.7534 | Train Acc: 73.87%\n",
      "Test  Loss: 1.1616 | Test Acc: 62.09%\n",
      "--------------------------------------------------\n",
      "[Epoch 9/100] :\n"
     ]
    },
    {
     "name": "stderr",
     "output_type": "stream",
     "text": [
      "9 Train: 100%|███████| 391/391 [00:33<00:00, 11.75it/s]\n"
     ]
    },
    {
     "name": "stdout",
     "output_type": "stream",
     "text": [
      "Train Loss: 0.7188 | Train Acc: 75.17%\n",
      "Test  Loss: 0.8558 | Test Acc: 71.90%\n",
      "updated best eval loss : 0.8557747300667099\n",
      "--------------------------------------------------\n",
      "[Epoch 10/100] :\n"
     ]
    },
    {
     "name": "stderr",
     "output_type": "stream",
     "text": [
      "10 Train: 100%|██████| 391/391 [00:43<00:00,  8.91it/s]\n"
     ]
    },
    {
     "name": "stdout",
     "output_type": "stream",
     "text": [
      "Train Loss: 0.6995 | Train Acc: 75.88%\n",
      "Test  Loss: 0.6726 | Test Acc: 76.97%\n",
      "updated best eval loss : 0.6726251606699787\n",
      "--------------------------------------------------\n",
      "[Epoch 11/100] :\n"
     ]
    },
    {
     "name": "stderr",
     "output_type": "stream",
     "text": [
      "11 Train: 100%|██████| 391/391 [00:48<00:00,  8.03it/s]\n"
     ]
    },
    {
     "name": "stdout",
     "output_type": "stream",
     "text": [
      "Train Loss: 0.6708 | Train Acc: 76.64%\n",
      "Test  Loss: 0.6969 | Test Acc: 76.70%\n",
      "--------------------------------------------------\n",
      "[Epoch 12/100] :\n"
     ]
    },
    {
     "name": "stderr",
     "output_type": "stream",
     "text": [
      "12 Train: 100%|██████| 391/391 [00:40<00:00,  9.74it/s]\n"
     ]
    },
    {
     "name": "stdout",
     "output_type": "stream",
     "text": [
      "Train Loss: 0.6461 | Train Acc: 77.26%\n",
      "Test  Loss: 0.6098 | Test Acc: 79.58%\n",
      "updated best eval loss : 0.6098053164874451\n",
      "--------------------------------------------------\n",
      "[Epoch 13/100] :\n"
     ]
    },
    {
     "name": "stderr",
     "output_type": "stream",
     "text": [
      "13 Train: 100%|██████| 391/391 [00:37<00:00, 10.30it/s]\n"
     ]
    },
    {
     "name": "stdout",
     "output_type": "stream",
     "text": [
      "Train Loss: 0.6317 | Train Acc: 77.84%\n",
      "Test  Loss: 0.6969 | Test Acc: 75.73%\n",
      "--------------------------------------------------\n",
      "[Epoch 14/100] :\n"
     ]
    },
    {
     "name": "stderr",
     "output_type": "stream",
     "text": [
      "14 Train: 100%|██████| 391/391 [00:35<00:00, 11.16it/s]\n"
     ]
    },
    {
     "name": "stdout",
     "output_type": "stream",
     "text": [
      "Train Loss: 0.6107 | Train Acc: 78.64%\n",
      "Test  Loss: 0.6473 | Test Acc: 78.81%\n",
      "--------------------------------------------------\n",
      "[Epoch 15/100] :\n"
     ]
    },
    {
     "name": "stderr",
     "output_type": "stream",
     "text": [
      "15 Train: 100%|██████| 391/391 [00:33<00:00, 11.78it/s]\n"
     ]
    },
    {
     "name": "stdout",
     "output_type": "stream",
     "text": [
      "Train Loss: 0.5968 | Train Acc: 79.25%\n",
      "Test  Loss: 0.8615 | Test Acc: 72.36%\n",
      "--------------------------------------------------\n",
      "[Epoch 16/100] :\n"
     ]
    },
    {
     "name": "stderr",
     "output_type": "stream",
     "text": [
      "16 Train: 100%|██████| 391/391 [00:34<00:00, 11.21it/s]\n"
     ]
    },
    {
     "name": "stdout",
     "output_type": "stream",
     "text": [
      "Train Loss: 0.5858 | Train Acc: 79.63%\n",
      "Test  Loss: 0.7765 | Test Acc: 74.40%\n",
      "--------------------------------------------------\n",
      "[Epoch 17/100] :\n"
     ]
    },
    {
     "name": "stderr",
     "output_type": "stream",
     "text": [
      "17 Train: 100%|██████| 391/391 [00:35<00:00, 11.01it/s]\n"
     ]
    },
    {
     "name": "stdout",
     "output_type": "stream",
     "text": [
      "Train Loss: 0.5610 | Train Acc: 80.41%\n",
      "Test  Loss: 0.5954 | Test Acc: 79.95%\n",
      "updated best eval loss : 0.5953890862344187\n",
      "--------------------------------------------------\n",
      "[Epoch 18/100] :\n"
     ]
    },
    {
     "name": "stderr",
     "output_type": "stream",
     "text": [
      "18 Train: 100%|██████| 391/391 [00:34<00:00, 11.42it/s]\n"
     ]
    },
    {
     "name": "stdout",
     "output_type": "stream",
     "text": [
      "Train Loss: 0.5586 | Train Acc: 80.50%\n",
      "Test  Loss: 0.5696 | Test Acc: 80.83%\n",
      "updated best eval loss : 0.5695619915105119\n",
      "--------------------------------------------------\n",
      "[Epoch 19/100] :\n"
     ]
    },
    {
     "name": "stderr",
     "output_type": "stream",
     "text": [
      "19 Train: 100%|██████| 391/391 [00:35<00:00, 11.08it/s]\n"
     ]
    },
    {
     "name": "stdout",
     "output_type": "stream",
     "text": [
      "Train Loss: 0.5435 | Train Acc: 81.19%\n",
      "Test  Loss: 0.5709 | Test Acc: 80.50%\n",
      "--------------------------------------------------\n",
      "[Epoch 20/100] :\n"
     ]
    },
    {
     "name": "stderr",
     "output_type": "stream",
     "text": [
      "20 Train: 100%|██████| 391/391 [00:33<00:00, 11.64it/s]\n"
     ]
    },
    {
     "name": "stdout",
     "output_type": "stream",
     "text": [
      "Train Loss: 0.5385 | Train Acc: 81.31%\n",
      "Test  Loss: 0.5865 | Test Acc: 80.13%\n",
      "--------------------------------------------------\n",
      "[Epoch 21/100] :\n"
     ]
    },
    {
     "name": "stderr",
     "output_type": "stream",
     "text": [
      "21 Train: 100%|██████| 391/391 [00:33<00:00, 11.74it/s]\n"
     ]
    },
    {
     "name": "stdout",
     "output_type": "stream",
     "text": [
      "Train Loss: 0.5186 | Train Acc: 81.98%\n",
      "Test  Loss: 0.5492 | Test Acc: 81.61%\n",
      "updated best eval loss : 0.549248830804342\n",
      "--------------------------------------------------\n",
      "[Epoch 22/100] :\n"
     ]
    },
    {
     "name": "stderr",
     "output_type": "stream",
     "text": [
      "22 Train: 100%|██████| 391/391 [00:36<00:00, 10.68it/s]\n"
     ]
    },
    {
     "name": "stdout",
     "output_type": "stream",
     "text": [
      "Train Loss: 0.5185 | Train Acc: 81.98%\n",
      "Test  Loss: 0.5285 | Test Acc: 82.14%\n",
      "updated best eval loss : 0.5284786684603631\n",
      "--------------------------------------------------\n",
      "[Epoch 23/100] :\n"
     ]
    },
    {
     "name": "stderr",
     "output_type": "stream",
     "text": [
      "23 Train: 100%|██████| 391/391 [00:50<00:00,  7.68it/s]\n"
     ]
    },
    {
     "name": "stdout",
     "output_type": "stream",
     "text": [
      "Train Loss: 0.5032 | Train Acc: 82.51%\n",
      "Test  Loss: 0.5713 | Test Acc: 80.45%\n",
      "--------------------------------------------------\n",
      "[Epoch 24/100] :\n"
     ]
    },
    {
     "name": "stderr",
     "output_type": "stream",
     "text": [
      "24 Train: 100%|██████| 391/391 [00:47<00:00,  8.32it/s]\n"
     ]
    },
    {
     "name": "stdout",
     "output_type": "stream",
     "text": [
      "Train Loss: 0.4937 | Train Acc: 82.82%\n",
      "Test  Loss: 0.5427 | Test Acc: 81.80%\n",
      "--------------------------------------------------\n",
      "[Epoch 25/100] :\n"
     ]
    },
    {
     "name": "stderr",
     "output_type": "stream",
     "text": [
      "25 Train: 100%|██████| 391/391 [00:50<00:00,  7.77it/s]\n"
     ]
    },
    {
     "name": "stdout",
     "output_type": "stream",
     "text": [
      "Train Loss: 0.4894 | Train Acc: 82.89%\n",
      "Test  Loss: 0.6099 | Test Acc: 80.69%\n",
      "--------------------------------------------------\n",
      "[Epoch 26/100] :\n"
     ]
    },
    {
     "name": "stderr",
     "output_type": "stream",
     "text": [
      "26 Train: 100%|██████| 391/391 [00:47<00:00,  8.26it/s]\n"
     ]
    },
    {
     "name": "stdout",
     "output_type": "stream",
     "text": [
      "Train Loss: 0.4817 | Train Acc: 83.33%\n",
      "Test  Loss: 0.6266 | Test Acc: 79.95%\n",
      "--------------------------------------------------\n",
      "[Epoch 27/100] :\n"
     ]
    },
    {
     "name": "stderr",
     "output_type": "stream",
     "text": [
      "27 Train: 100%|██████| 391/391 [00:50<00:00,  7.77it/s]\n"
     ]
    },
    {
     "name": "stdout",
     "output_type": "stream",
     "text": [
      "Train Loss: 0.4766 | Train Acc: 83.46%\n",
      "Test  Loss: 0.5209 | Test Acc: 82.50%\n",
      "updated best eval loss : 0.5209084424791457\n",
      "--------------------------------------------------\n",
      "[Epoch 28/100] :\n"
     ]
    },
    {
     "name": "stderr",
     "output_type": "stream",
     "text": [
      "28 Train: 100%|██████| 391/391 [00:48<00:00,  8.02it/s]\n"
     ]
    },
    {
     "name": "stdout",
     "output_type": "stream",
     "text": [
      "Train Loss: 0.4640 | Train Acc: 83.78%\n",
      "Test  Loss: 0.4529 | Test Acc: 85.08%\n",
      "updated best eval loss : 0.4529399211648144\n",
      "--------------------------------------------------\n",
      "[Epoch 29/100] :\n"
     ]
    },
    {
     "name": "stderr",
     "output_type": "stream",
     "text": [
      "29 Train: 100%|██████| 391/391 [00:49<00:00,  7.93it/s]\n"
     ]
    },
    {
     "name": "stdout",
     "output_type": "stream",
     "text": [
      "Train Loss: 0.4591 | Train Acc: 83.92%\n",
      "Test  Loss: 0.6772 | Test Acc: 78.53%\n",
      "--------------------------------------------------\n",
      "[Epoch 30/100] :\n"
     ]
    },
    {
     "name": "stderr",
     "output_type": "stream",
     "text": [
      "30 Train: 100%|██████| 391/391 [00:48<00:00,  8.10it/s]\n"
     ]
    },
    {
     "name": "stdout",
     "output_type": "stream",
     "text": [
      "Train Loss: 0.4503 | Train Acc: 84.25%\n",
      "Test  Loss: 0.6263 | Test Acc: 80.58%\n",
      "--------------------------------------------------\n",
      "[Epoch 31/100] :\n"
     ]
    },
    {
     "name": "stderr",
     "output_type": "stream",
     "text": [
      "31 Train: 100%|██████| 391/391 [00:48<00:00,  7.99it/s]\n"
     ]
    },
    {
     "name": "stdout",
     "output_type": "stream",
     "text": [
      "Train Loss: 0.4432 | Train Acc: 84.45%\n",
      "Test  Loss: 0.5797 | Test Acc: 80.58%\n",
      "--------------------------------------------------\n",
      "[Epoch 32/100] :\n"
     ]
    },
    {
     "name": "stderr",
     "output_type": "stream",
     "text": [
      "32 Train: 100%|██████| 391/391 [00:49<00:00,  7.86it/s]\n"
     ]
    },
    {
     "name": "stdout",
     "output_type": "stream",
     "text": [
      "Train Loss: 0.4394 | Train Acc: 84.67%\n",
      "Test  Loss: 0.5068 | Test Acc: 82.70%\n",
      "--------------------------------------------------\n",
      "[Epoch 33/100] :\n"
     ]
    },
    {
     "name": "stderr",
     "output_type": "stream",
     "text": [
      "33 Train: 100%|██████| 391/391 [00:49<00:00,  7.96it/s]\n"
     ]
    },
    {
     "name": "stdout",
     "output_type": "stream",
     "text": [
      "Train Loss: 0.4364 | Train Acc: 84.80%\n",
      "Test  Loss: 0.5287 | Test Acc: 82.26%\n",
      "--------------------------------------------------\n",
      "[Epoch 34/100] :\n"
     ]
    },
    {
     "name": "stderr",
     "output_type": "stream",
     "text": [
      "34 Train: 100%|██████| 391/391 [00:49<00:00,  7.93it/s]\n"
     ]
    },
    {
     "name": "stdout",
     "output_type": "stream",
     "text": [
      "Train Loss: 0.4309 | Train Acc: 84.89%\n",
      "Test  Loss: 0.4905 | Test Acc: 84.00%\n",
      "--------------------------------------------------\n",
      "[Epoch 35/100] :\n"
     ]
    },
    {
     "name": "stderr",
     "output_type": "stream",
     "text": [
      "35 Train: 100%|██████| 391/391 [00:48<00:00,  8.07it/s]\n"
     ]
    },
    {
     "name": "stdout",
     "output_type": "stream",
     "text": [
      "Train Loss: 0.4203 | Train Acc: 85.30%\n",
      "Test  Loss: 0.4474 | Test Acc: 85.02%\n",
      "updated best eval loss : 0.44744313819498954\n",
      "--------------------------------------------------\n",
      "[Epoch 36/100] :\n"
     ]
    },
    {
     "name": "stderr",
     "output_type": "stream",
     "text": [
      "36 Train: 100%|██████| 391/391 [00:51<00:00,  7.61it/s]\n"
     ]
    },
    {
     "name": "stdout",
     "output_type": "stream",
     "text": [
      "Train Loss: 0.4138 | Train Acc: 85.59%\n",
      "Test  Loss: 0.4626 | Test Acc: 85.05%\n",
      "--------------------------------------------------\n",
      "[Epoch 37/100] :\n"
     ]
    },
    {
     "name": "stderr",
     "output_type": "stream",
     "text": [
      "37 Train: 100%|██████| 391/391 [00:47<00:00,  8.29it/s]\n"
     ]
    },
    {
     "name": "stdout",
     "output_type": "stream",
     "text": [
      "Train Loss: 0.4173 | Train Acc: 85.34%\n",
      "Test  Loss: 0.4776 | Test Acc: 84.20%\n",
      "--------------------------------------------------\n",
      "[Epoch 38/100] :\n"
     ]
    },
    {
     "name": "stderr",
     "output_type": "stream",
     "text": [
      "38 Train: 100%|██████| 391/391 [00:49<00:00,  7.90it/s]\n"
     ]
    },
    {
     "name": "stdout",
     "output_type": "stream",
     "text": [
      "Train Loss: 0.4077 | Train Acc: 85.76%\n",
      "Test  Loss: 0.4721 | Test Acc: 84.38%\n",
      "--------------------------------------------------\n",
      "[Epoch 39/100] :\n"
     ]
    },
    {
     "name": "stderr",
     "output_type": "stream",
     "text": [
      "39 Train: 100%|██████| 391/391 [00:48<00:00,  8.13it/s]\n"
     ]
    },
    {
     "name": "stdout",
     "output_type": "stream",
     "text": [
      "Train Loss: 0.4075 | Train Acc: 85.80%\n",
      "Test  Loss: 0.4354 | Test Acc: 85.60%\n",
      "updated best eval loss : 0.4353728520719311\n",
      "--------------------------------------------------\n",
      "[Epoch 40/100] :\n"
     ]
    },
    {
     "name": "stderr",
     "output_type": "stream",
     "text": [
      "40 Train: 100%|██████| 391/391 [00:50<00:00,  7.80it/s]\n"
     ]
    },
    {
     "name": "stdout",
     "output_type": "stream",
     "text": [
      "Train Loss: 0.4007 | Train Acc: 86.01%\n",
      "Test  Loss: 0.5340 | Test Acc: 82.72%\n",
      "--------------------------------------------------\n",
      "[Epoch 41/100] :\n"
     ]
    },
    {
     "name": "stderr",
     "output_type": "stream",
     "text": [
      "41 Train: 100%|██████| 391/391 [00:48<00:00,  7.98it/s]\n"
     ]
    },
    {
     "name": "stdout",
     "output_type": "stream",
     "text": [
      "Train Loss: 0.3928 | Train Acc: 86.18%\n",
      "Test  Loss: 0.4532 | Test Acc: 85.24%\n",
      "--------------------------------------------------\n",
      "[Epoch 42/100] :\n"
     ]
    },
    {
     "name": "stderr",
     "output_type": "stream",
     "text": [
      "42 Train: 100%|██████| 391/391 [00:48<00:00,  8.10it/s]\n"
     ]
    },
    {
     "name": "stdout",
     "output_type": "stream",
     "text": [
      "Train Loss: 0.3889 | Train Acc: 86.35%\n",
      "Test  Loss: 0.4410 | Test Acc: 85.58%\n",
      "--------------------------------------------------\n",
      "[Epoch 43/100] :\n"
     ]
    },
    {
     "name": "stderr",
     "output_type": "stream",
     "text": [
      "43 Train: 100%|██████| 391/391 [00:49<00:00,  7.86it/s]\n"
     ]
    },
    {
     "name": "stdout",
     "output_type": "stream",
     "text": [
      "Train Loss: 0.3849 | Train Acc: 86.29%\n",
      "Test  Loss: 0.4687 | Test Acc: 84.99%\n",
      "--------------------------------------------------\n",
      "[Epoch 44/100] :\n"
     ]
    },
    {
     "name": "stderr",
     "output_type": "stream",
     "text": [
      "44 Train: 100%|██████| 391/391 [00:49<00:00,  7.93it/s]\n"
     ]
    },
    {
     "name": "stdout",
     "output_type": "stream",
     "text": [
      "Train Loss: 0.3839 | Train Acc: 86.61%\n",
      "Test  Loss: 0.5111 | Test Acc: 83.81%\n",
      "--------------------------------------------------\n",
      "[Epoch 45/100] :\n"
     ]
    },
    {
     "name": "stderr",
     "output_type": "stream",
     "text": [
      "45 Train: 100%|██████| 391/391 [00:51<00:00,  7.60it/s]\n"
     ]
    },
    {
     "name": "stdout",
     "output_type": "stream",
     "text": [
      "Train Loss: 0.3809 | Train Acc: 86.63%\n",
      "Test  Loss: 0.4182 | Test Acc: 86.06%\n",
      "updated best eval loss : 0.41824907102162323\n",
      "--------------------------------------------------\n",
      "[Epoch 46/100] :\n"
     ]
    },
    {
     "name": "stderr",
     "output_type": "stream",
     "text": [
      "46 Train: 100%|██████| 391/391 [00:48<00:00,  8.08it/s]\n"
     ]
    },
    {
     "name": "stdout",
     "output_type": "stream",
     "text": [
      "Train Loss: 0.3766 | Train Acc: 86.90%\n",
      "Test  Loss: 0.4258 | Test Acc: 85.88%\n",
      "--------------------------------------------------\n",
      "[Epoch 47/100] :\n"
     ]
    },
    {
     "name": "stderr",
     "output_type": "stream",
     "text": [
      "47 Train: 100%|██████| 391/391 [00:49<00:00,  7.89it/s]\n"
     ]
    },
    {
     "name": "stdout",
     "output_type": "stream",
     "text": [
      "Train Loss: 0.3754 | Train Acc: 86.96%\n",
      "Test  Loss: 0.4407 | Test Acc: 85.75%\n",
      "--------------------------------------------------\n",
      "[Epoch 48/100] :\n"
     ]
    },
    {
     "name": "stderr",
     "output_type": "stream",
     "text": [
      "48 Train: 100%|██████| 391/391 [00:47<00:00,  8.28it/s]\n"
     ]
    },
    {
     "name": "stdout",
     "output_type": "stream",
     "text": [
      "Train Loss: 0.3628 | Train Acc: 87.32%\n",
      "Test  Loss: 0.4725 | Test Acc: 84.71%\n",
      "--------------------------------------------------\n",
      "[Epoch 49/100] :\n"
     ]
    },
    {
     "name": "stderr",
     "output_type": "stream",
     "text": [
      "49 Train: 100%|██████| 391/391 [00:50<00:00,  7.72it/s]\n"
     ]
    },
    {
     "name": "stdout",
     "output_type": "stream",
     "text": [
      "Train Loss: 0.3641 | Train Acc: 87.30%\n",
      "Test  Loss: 0.4191 | Test Acc: 86.72%\n",
      "--------------------------------------------------\n",
      "[Epoch 50/100] :\n"
     ]
    },
    {
     "name": "stderr",
     "output_type": "stream",
     "text": [
      "50 Train: 100%|██████| 391/391 [00:48<00:00,  8.02it/s]\n"
     ]
    },
    {
     "name": "stdout",
     "output_type": "stream",
     "text": [
      "Train Loss: 0.3700 | Train Acc: 87.04%\n",
      "Test  Loss: 0.4694 | Test Acc: 84.78%\n",
      "--------------------------------------------------\n",
      "[Epoch 51/100] :\n"
     ]
    },
    {
     "name": "stderr",
     "output_type": "stream",
     "text": [
      "51 Train: 100%|██████| 391/391 [00:51<00:00,  7.62it/s]\n"
     ]
    },
    {
     "name": "stdout",
     "output_type": "stream",
     "text": [
      "Train Loss: 0.3594 | Train Acc: 87.36%\n",
      "Test  Loss: 0.4812 | Test Acc: 84.68%\n",
      "--------------------------------------------------\n",
      "[Epoch 52/100] :\n"
     ]
    },
    {
     "name": "stderr",
     "output_type": "stream",
     "text": [
      "52 Train: 100%|██████| 391/391 [00:49<00:00,  7.92it/s]\n"
     ]
    },
    {
     "name": "stdout",
     "output_type": "stream",
     "text": [
      "Train Loss: 0.3571 | Train Acc: 87.44%\n",
      "Test  Loss: 0.4858 | Test Acc: 84.46%\n",
      "--------------------------------------------------\n",
      "[Epoch 53/100] :\n"
     ]
    },
    {
     "name": "stderr",
     "output_type": "stream",
     "text": [
      "53 Train: 100%|██████| 391/391 [00:50<00:00,  7.79it/s]\n"
     ]
    },
    {
     "name": "stdout",
     "output_type": "stream",
     "text": [
      "Train Loss: 0.3542 | Train Acc: 87.71%\n",
      "Test  Loss: 0.4533 | Test Acc: 85.83%\n",
      "--------------------------------------------------\n",
      "[Epoch 54/100] :\n"
     ]
    },
    {
     "name": "stderr",
     "output_type": "stream",
     "text": [
      "54 Train: 100%|██████| 391/391 [00:47<00:00,  8.23it/s]\n"
     ]
    },
    {
     "name": "stdout",
     "output_type": "stream",
     "text": [
      "Train Loss: 0.3537 | Train Acc: 87.63%\n",
      "Test  Loss: 0.4460 | Test Acc: 85.26%\n",
      "--------------------------------------------------\n",
      "[Epoch 55/100] :\n"
     ]
    },
    {
     "name": "stderr",
     "output_type": "stream",
     "text": [
      "55 Train: 100%|██████| 391/391 [00:48<00:00,  8.05it/s]\n"
     ]
    },
    {
     "name": "stdout",
     "output_type": "stream",
     "text": [
      "Train Loss: 0.3433 | Train Acc: 88.00%\n",
      "Test  Loss: 0.5173 | Test Acc: 84.06%\n",
      "--------------------------------------------------\n",
      "[Epoch 56/100] :\n"
     ]
    },
    {
     "name": "stderr",
     "output_type": "stream",
     "text": [
      "56 Train: 100%|██████| 391/391 [00:49<00:00,  7.87it/s]\n"
     ]
    },
    {
     "name": "stdout",
     "output_type": "stream",
     "text": [
      "Train Loss: 0.3401 | Train Acc: 88.13%\n",
      "Test  Loss: 0.4436 | Test Acc: 85.59%\n",
      "--------------------------------------------------\n",
      "[Epoch 57/100] :\n"
     ]
    },
    {
     "name": "stderr",
     "output_type": "stream",
     "text": [
      "57 Train: 100%|██████| 391/391 [00:48<00:00,  7.99it/s]\n"
     ]
    },
    {
     "name": "stdout",
     "output_type": "stream",
     "text": [
      "Train Loss: 0.3432 | Train Acc: 87.88%\n",
      "Test  Loss: 0.4453 | Test Acc: 85.78%\n",
      "--------------------------------------------------\n",
      "[Epoch 58/100] :\n"
     ]
    },
    {
     "name": "stderr",
     "output_type": "stream",
     "text": [
      "58 Train: 100%|██████| 391/391 [00:47<00:00,  8.24it/s]\n"
     ]
    },
    {
     "name": "stdout",
     "output_type": "stream",
     "text": [
      "Train Loss: 0.3373 | Train Acc: 88.23%\n",
      "Test  Loss: 0.4664 | Test Acc: 85.18%\n",
      "--------------------------------------------------\n",
      "[Epoch 59/100] :\n"
     ]
    },
    {
     "name": "stderr",
     "output_type": "stream",
     "text": [
      "59 Train: 100%|██████| 391/391 [00:49<00:00,  7.85it/s]\n"
     ]
    },
    {
     "name": "stdout",
     "output_type": "stream",
     "text": [
      "Train Loss: 0.3324 | Train Acc: 88.27%\n",
      "Test  Loss: 0.4284 | Test Acc: 85.97%\n",
      "--------------------------------------------------\n",
      "[Epoch 60/100] :\n"
     ]
    },
    {
     "name": "stderr",
     "output_type": "stream",
     "text": [
      "60 Train: 100%|██████| 391/391 [00:49<00:00,  7.98it/s]\n"
     ]
    },
    {
     "name": "stdout",
     "output_type": "stream",
     "text": [
      "Train Loss: 0.3334 | Train Acc: 88.48%\n",
      "Test  Loss: 0.4389 | Test Acc: 86.34%\n",
      "--------------------------------------------------\n",
      "[Epoch 61/100] :\n"
     ]
    },
    {
     "name": "stderr",
     "output_type": "stream",
     "text": [
      "61 Train: 100%|██████| 391/391 [00:47<00:00,  8.30it/s]\n"
     ]
    },
    {
     "name": "stdout",
     "output_type": "stream",
     "text": [
      "Train Loss: 0.3270 | Train Acc: 88.55%\n",
      "Test  Loss: 0.4054 | Test Acc: 86.76%\n",
      "updated best eval loss : 0.40544834676422653\n",
      "--------------------------------------------------\n",
      "[Epoch 62/100] :\n"
     ]
    },
    {
     "name": "stderr",
     "output_type": "stream",
     "text": [
      "62 Train: 100%|██████| 391/391 [00:49<00:00,  7.82it/s]\n"
     ]
    },
    {
     "name": "stdout",
     "output_type": "stream",
     "text": [
      "Train Loss: 0.3284 | Train Acc: 88.58%\n",
      "Test  Loss: 0.4713 | Test Acc: 84.84%\n",
      "--------------------------------------------------\n",
      "[Epoch 63/100] :\n"
     ]
    },
    {
     "name": "stderr",
     "output_type": "stream",
     "text": [
      "63 Train: 100%|██████| 391/391 [00:49<00:00,  7.96it/s]\n"
     ]
    },
    {
     "name": "stdout",
     "output_type": "stream",
     "text": [
      "Train Loss: 0.3247 | Train Acc: 88.71%\n",
      "Test  Loss: 0.4780 | Test Acc: 84.11%\n",
      "--------------------------------------------------\n",
      "[Epoch 64/100] :\n"
     ]
    },
    {
     "name": "stderr",
     "output_type": "stream",
     "text": [
      "64 Train: 100%|██████| 391/391 [00:49<00:00,  7.90it/s]\n"
     ]
    },
    {
     "name": "stdout",
     "output_type": "stream",
     "text": [
      "Train Loss: 0.3204 | Train Acc: 88.70%\n",
      "Test  Loss: 0.4753 | Test Acc: 84.49%\n",
      "--------------------------------------------------\n",
      "[Epoch 65/100] :\n"
     ]
    },
    {
     "name": "stderr",
     "output_type": "stream",
     "text": [
      "65 Train: 100%|██████| 391/391 [00:49<00:00,  7.92it/s]\n"
     ]
    },
    {
     "name": "stdout",
     "output_type": "stream",
     "text": [
      "Train Loss: 0.3244 | Train Acc: 88.74%\n",
      "Test  Loss: 0.3944 | Test Acc: 87.36%\n",
      "updated best eval loss : 0.3944176516578167\n",
      "--------------------------------------------------\n",
      "[Epoch 66/100] :\n"
     ]
    },
    {
     "name": "stderr",
     "output_type": "stream",
     "text": [
      "66 Train: 100%|██████| 391/391 [00:49<00:00,  7.95it/s]\n"
     ]
    },
    {
     "name": "stdout",
     "output_type": "stream",
     "text": [
      "Train Loss: 0.3217 | Train Acc: 88.68%\n",
      "Test  Loss: 0.4569 | Test Acc: 85.32%\n",
      "--------------------------------------------------\n",
      "[Epoch 67/100] :\n"
     ]
    },
    {
     "name": "stderr",
     "output_type": "stream",
     "text": [
      "67 Train: 100%|██████| 391/391 [00:49<00:00,  7.88it/s]\n"
     ]
    },
    {
     "name": "stdout",
     "output_type": "stream",
     "text": [
      "Train Loss: 0.3154 | Train Acc: 88.97%\n",
      "Test  Loss: 0.4270 | Test Acc: 85.95%\n",
      "--------------------------------------------------\n",
      "[Epoch 68/100] :\n"
     ]
    },
    {
     "name": "stderr",
     "output_type": "stream",
     "text": [
      "68 Train: 100%|██████| 391/391 [00:47<00:00,  8.17it/s]\n"
     ]
    },
    {
     "name": "stdout",
     "output_type": "stream",
     "text": [
      "Train Loss: 0.3144 | Train Acc: 89.08%\n",
      "Test  Loss: 0.4690 | Test Acc: 84.96%\n",
      "--------------------------------------------------\n",
      "[Epoch 69/100] :\n"
     ]
    },
    {
     "name": "stderr",
     "output_type": "stream",
     "text": [
      "69 Train: 100%|██████| 391/391 [00:49<00:00,  7.94it/s]\n"
     ]
    },
    {
     "name": "stdout",
     "output_type": "stream",
     "text": [
      "Train Loss: 0.3107 | Train Acc: 89.14%\n",
      "Test  Loss: 0.4142 | Test Acc: 87.24%\n",
      "--------------------------------------------------\n",
      "[Epoch 70/100] :\n"
     ]
    },
    {
     "name": "stderr",
     "output_type": "stream",
     "text": [
      "70 Train: 100%|██████| 391/391 [00:47<00:00,  8.19it/s]\n"
     ]
    },
    {
     "name": "stdout",
     "output_type": "stream",
     "text": [
      "Train Loss: 0.3140 | Train Acc: 89.07%\n",
      "Test  Loss: 0.4066 | Test Acc: 86.90%\n",
      "--------------------------------------------------\n",
      "[Epoch 71/100] :\n"
     ]
    },
    {
     "name": "stderr",
     "output_type": "stream",
     "text": [
      "71 Train: 100%|██████| 391/391 [00:49<00:00,  7.87it/s]\n"
     ]
    },
    {
     "name": "stdout",
     "output_type": "stream",
     "text": [
      "Train Loss: 0.3066 | Train Acc: 89.14%\n",
      "Test  Loss: 0.5080 | Test Acc: 83.76%\n",
      "--------------------------------------------------\n",
      "[Epoch 72/100] :\n"
     ]
    },
    {
     "name": "stderr",
     "output_type": "stream",
     "text": [
      "72 Train: 100%|██████| 391/391 [00:48<00:00,  8.09it/s]\n"
     ]
    },
    {
     "name": "stdout",
     "output_type": "stream",
     "text": [
      "Train Loss: 0.3080 | Train Acc: 89.26%\n",
      "Test  Loss: 0.5393 | Test Acc: 83.83%\n",
      "--------------------------------------------------\n",
      "[Epoch 73/100] :\n"
     ]
    },
    {
     "name": "stderr",
     "output_type": "stream",
     "text": [
      "73 Train: 100%|██████| 391/391 [00:49<00:00,  7.85it/s]\n"
     ]
    },
    {
     "name": "stdout",
     "output_type": "stream",
     "text": [
      "Train Loss: 0.3029 | Train Acc: 89.31%\n",
      "Test  Loss: 0.4954 | Test Acc: 84.84%\n",
      "--------------------------------------------------\n",
      "[Epoch 74/100] :\n"
     ]
    },
    {
     "name": "stderr",
     "output_type": "stream",
     "text": [
      "74 Train: 100%|██████| 391/391 [00:48<00:00,  8.03it/s]\n"
     ]
    },
    {
     "name": "stdout",
     "output_type": "stream",
     "text": [
      "Train Loss: 0.3065 | Train Acc: 89.30%\n",
      "Test  Loss: 0.4213 | Test Acc: 86.71%\n",
      "--------------------------------------------------\n",
      "[Epoch 75/100] :\n"
     ]
    },
    {
     "name": "stderr",
     "output_type": "stream",
     "text": [
      "75 Train: 100%|██████| 391/391 [00:48<00:00,  8.04it/s]\n"
     ]
    },
    {
     "name": "stdout",
     "output_type": "stream",
     "text": [
      "Train Loss: 0.2994 | Train Acc: 89.48%\n",
      "Test  Loss: 0.4095 | Test Acc: 86.99%\n",
      "--------------------------------------------------\n",
      "[Epoch 76/100] :\n"
     ]
    },
    {
     "name": "stderr",
     "output_type": "stream",
     "text": [
      "76 Train: 100%|██████| 391/391 [00:49<00:00,  7.97it/s]\n"
     ]
    },
    {
     "name": "stdout",
     "output_type": "stream",
     "text": [
      "Train Loss: 0.2996 | Train Acc: 89.46%\n",
      "Test  Loss: 0.4714 | Test Acc: 85.52%\n",
      "--------------------------------------------------\n",
      "[Epoch 77/100] :\n"
     ]
    },
    {
     "name": "stderr",
     "output_type": "stream",
     "text": [
      "77 Train: 100%|██████| 391/391 [00:49<00:00,  7.97it/s]\n"
     ]
    },
    {
     "name": "stdout",
     "output_type": "stream",
     "text": [
      "Train Loss: 0.2990 | Train Acc: 89.51%\n",
      "Test  Loss: 0.4446 | Test Acc: 86.22%\n",
      "--------------------------------------------------\n",
      "[Epoch 78/100] :\n"
     ]
    },
    {
     "name": "stderr",
     "output_type": "stream",
     "text": [
      "78 Train: 100%|██████| 391/391 [00:48<00:00,  8.07it/s]\n"
     ]
    },
    {
     "name": "stdout",
     "output_type": "stream",
     "text": [
      "Train Loss: 0.2971 | Train Acc: 89.69%\n",
      "Test  Loss: 0.3991 | Test Acc: 87.90%\n",
      "--------------------------------------------------\n",
      "[Epoch 79/100] :\n"
     ]
    },
    {
     "name": "stderr",
     "output_type": "stream",
     "text": [
      "79 Train: 100%|██████| 391/391 [00:48<00:00,  7.99it/s]\n"
     ]
    },
    {
     "name": "stdout",
     "output_type": "stream",
     "text": [
      "Train Loss: 0.2912 | Train Acc: 89.88%\n",
      "Test  Loss: 0.4422 | Test Acc: 86.18%\n",
      "--------------------------------------------------\n",
      "[Epoch 80/100] :\n"
     ]
    },
    {
     "name": "stderr",
     "output_type": "stream",
     "text": [
      "80 Train: 100%|██████| 391/391 [00:49<00:00,  7.97it/s]\n"
     ]
    },
    {
     "name": "stdout",
     "output_type": "stream",
     "text": [
      "Train Loss: 0.2907 | Train Acc: 89.85%\n",
      "Test  Loss: 0.4209 | Test Acc: 86.71%\n",
      "--------------------------------------------------\n",
      "[Epoch 81/100] :\n"
     ]
    },
    {
     "name": "stderr",
     "output_type": "stream",
     "text": [
      "81 Train: 100%|██████| 391/391 [00:49<00:00,  7.90it/s]\n"
     ]
    },
    {
     "name": "stdout",
     "output_type": "stream",
     "text": [
      "Train Loss: 0.2856 | Train Acc: 89.87%\n",
      "Test  Loss: 0.4570 | Test Acc: 85.87%\n",
      "--------------------------------------------------\n",
      "[Epoch 82/100] :\n"
     ]
    },
    {
     "name": "stderr",
     "output_type": "stream",
     "text": [
      "82 Train: 100%|██████| 391/391 [00:50<00:00,  7.73it/s]\n"
     ]
    },
    {
     "name": "stdout",
     "output_type": "stream",
     "text": [
      "Train Loss: 0.2893 | Train Acc: 89.96%\n",
      "Test  Loss: 0.4347 | Test Acc: 86.50%\n",
      "--------------------------------------------------\n",
      "[Epoch 83/100] :\n"
     ]
    },
    {
     "name": "stderr",
     "output_type": "stream",
     "text": [
      "83 Train: 100%|██████| 391/391 [00:48<00:00,  8.04it/s]\n"
     ]
    },
    {
     "name": "stdout",
     "output_type": "stream",
     "text": [
      "Train Loss: 0.2904 | Train Acc: 89.79%\n",
      "Test  Loss: 0.4726 | Test Acc: 85.68%\n",
      "--------------------------------------------------\n",
      "[Epoch 84/100] :\n"
     ]
    },
    {
     "name": "stderr",
     "output_type": "stream",
     "text": [
      "84 Train: 100%|██████| 391/391 [00:51<00:00,  7.54it/s]\n"
     ]
    },
    {
     "name": "stdout",
     "output_type": "stream",
     "text": [
      "Train Loss: 0.2801 | Train Acc: 90.27%\n",
      "Test  Loss: 0.4659 | Test Acc: 85.69%\n",
      "--------------------------------------------------\n",
      "[Epoch 85/100] :\n"
     ]
    },
    {
     "name": "stderr",
     "output_type": "stream",
     "text": [
      "85 Train: 100%|██████| 391/391 [00:48<00:00,  8.09it/s]\n"
     ]
    },
    {
     "name": "stdout",
     "output_type": "stream",
     "text": [
      "Train Loss: 0.2844 | Train Acc: 90.07%\n",
      "Test  Loss: 0.4396 | Test Acc: 86.48%\n",
      "--------------------------------------------------\n",
      "[Epoch 86/100] :\n"
     ]
    },
    {
     "name": "stderr",
     "output_type": "stream",
     "text": [
      "86 Train: 100%|██████| 391/391 [00:49<00:00,  7.92it/s]\n"
     ]
    },
    {
     "name": "stdout",
     "output_type": "stream",
     "text": [
      "Train Loss: 0.2797 | Train Acc: 90.25%\n",
      "Test  Loss: 0.4285 | Test Acc: 86.82%\n",
      "--------------------------------------------------\n",
      "[Epoch 87/100] :\n"
     ]
    },
    {
     "name": "stderr",
     "output_type": "stream",
     "text": [
      "87 Train: 100%|██████| 391/391 [00:48<00:00,  8.08it/s]\n"
     ]
    },
    {
     "name": "stdout",
     "output_type": "stream",
     "text": [
      "Train Loss: 0.2792 | Train Acc: 90.17%\n",
      "Test  Loss: 0.4117 | Test Acc: 87.26%\n",
      "--------------------------------------------------\n",
      "[Epoch 88/100] :\n"
     ]
    },
    {
     "name": "stderr",
     "output_type": "stream",
     "text": [
      "88 Train: 100%|██████| 391/391 [00:48<00:00,  8.03it/s]\n"
     ]
    },
    {
     "name": "stdout",
     "output_type": "stream",
     "text": [
      "Train Loss: 0.2790 | Train Acc: 90.21%\n",
      "Test  Loss: 0.4289 | Test Acc: 86.64%\n",
      "--------------------------------------------------\n",
      "[Epoch 89/100] :\n"
     ]
    },
    {
     "name": "stderr",
     "output_type": "stream",
     "text": [
      "89 Train: 100%|██████| 391/391 [00:49<00:00,  7.97it/s]\n"
     ]
    },
    {
     "name": "stdout",
     "output_type": "stream",
     "text": [
      "Train Loss: 0.2783 | Train Acc: 90.22%\n",
      "Test  Loss: 0.4436 | Test Acc: 87.00%\n",
      "--------------------------------------------------\n",
      "[Epoch 90/100] :\n"
     ]
    },
    {
     "name": "stderr",
     "output_type": "stream",
     "text": [
      "90 Train: 100%|██████| 391/391 [00:50<00:00,  7.80it/s]\n"
     ]
    },
    {
     "name": "stdout",
     "output_type": "stream",
     "text": [
      "Train Loss: 0.2760 | Train Acc: 90.23%\n",
      "Test  Loss: 0.4057 | Test Acc: 87.24%\n",
      "--------------------------------------------------\n",
      "[Epoch 91/100] :\n"
     ]
    },
    {
     "name": "stderr",
     "output_type": "stream",
     "text": [
      "91 Train: 100%|██████| 391/391 [00:49<00:00,  7.93it/s]\n"
     ]
    },
    {
     "name": "stdout",
     "output_type": "stream",
     "text": [
      "Train Loss: 0.2815 | Train Acc: 90.22%\n",
      "Test  Loss: 0.4231 | Test Acc: 86.42%\n",
      "--------------------------------------------------\n",
      "[Epoch 92/100] :\n"
     ]
    },
    {
     "name": "stderr",
     "output_type": "stream",
     "text": [
      "92 Train: 100%|██████| 391/391 [00:48<00:00,  8.04it/s]\n"
     ]
    },
    {
     "name": "stdout",
     "output_type": "stream",
     "text": [
      "Train Loss: 0.2728 | Train Acc: 90.60%\n",
      "Test  Loss: 0.3923 | Test Acc: 87.47%\n",
      "updated best eval loss : 0.3923153528307058\n",
      "--------------------------------------------------\n",
      "[Epoch 93/100] :\n"
     ]
    },
    {
     "name": "stderr",
     "output_type": "stream",
     "text": [
      "93 Train: 100%|██████| 391/391 [00:48<00:00,  8.11it/s]\n"
     ]
    },
    {
     "name": "stdout",
     "output_type": "stream",
     "text": [
      "Train Loss: 0.2718 | Train Acc: 90.50%\n",
      "Test  Loss: 0.4205 | Test Acc: 87.54%\n",
      "--------------------------------------------------\n",
      "[Epoch 94/100] :\n"
     ]
    },
    {
     "name": "stderr",
     "output_type": "stream",
     "text": [
      "94 Train: 100%|██████| 391/391 [00:47<00:00,  8.23it/s]\n"
     ]
    },
    {
     "name": "stdout",
     "output_type": "stream",
     "text": [
      "Train Loss: 0.2725 | Train Acc: 90.43%\n",
      "Test  Loss: 0.4550 | Test Acc: 86.15%\n",
      "--------------------------------------------------\n",
      "[Epoch 95/100] :\n"
     ]
    },
    {
     "name": "stderr",
     "output_type": "stream",
     "text": [
      "95 Train: 100%|██████| 391/391 [00:50<00:00,  7.79it/s]\n"
     ]
    },
    {
     "name": "stdout",
     "output_type": "stream",
     "text": [
      "Train Loss: 0.2741 | Train Acc: 90.38%\n",
      "Test  Loss: 0.4400 | Test Acc: 86.32%\n",
      "--------------------------------------------------\n",
      "[Epoch 96/100] :\n"
     ]
    },
    {
     "name": "stderr",
     "output_type": "stream",
     "text": [
      "96 Train: 100%|██████| 391/391 [00:47<00:00,  8.15it/s]\n"
     ]
    },
    {
     "name": "stdout",
     "output_type": "stream",
     "text": [
      "Train Loss: 0.2573 | Train Acc: 90.97%\n",
      "Test  Loss: 0.3960 | Test Acc: 87.80%\n",
      "--------------------------------------------------\n",
      "[Epoch 97/100] :\n"
     ]
    },
    {
     "name": "stderr",
     "output_type": "stream",
     "text": [
      "97 Train: 100%|██████| 391/391 [00:49<00:00,  7.94it/s]\n"
     ]
    },
    {
     "name": "stdout",
     "output_type": "stream",
     "text": [
      "Train Loss: 0.2680 | Train Acc: 90.61%\n",
      "Test  Loss: 0.4053 | Test Acc: 87.49%\n",
      "--------------------------------------------------\n",
      "[Epoch 98/100] :\n"
     ]
    },
    {
     "name": "stderr",
     "output_type": "stream",
     "text": [
      "98 Train: 100%|██████| 391/391 [00:37<00:00, 10.31it/s]\n"
     ]
    },
    {
     "name": "stdout",
     "output_type": "stream",
     "text": [
      "Train Loss: 0.2659 | Train Acc: 90.69%\n",
      "Test  Loss: 0.3692 | Test Acc: 88.50%\n",
      "updated best eval loss : 0.36921873858457877\n",
      "--------------------------------------------------\n",
      "[Epoch 99/100] :\n"
     ]
    },
    {
     "name": "stderr",
     "output_type": "stream",
     "text": [
      "99 Train: 100%|██████| 391/391 [00:39<00:00,  9.81it/s]\n"
     ]
    },
    {
     "name": "stdout",
     "output_type": "stream",
     "text": [
      "Train Loss: 0.2585 | Train Acc: 90.90%\n",
      "Test  Loss: 0.4943 | Test Acc: 85.52%\n",
      "--------------------------------------------------\n",
      "[Epoch 100/100] :\n"
     ]
    },
    {
     "name": "stderr",
     "output_type": "stream",
     "text": [
      "100 Train: 100%|█████| 391/391 [00:33<00:00, 11.79it/s]\n"
     ]
    },
    {
     "name": "stdout",
     "output_type": "stream",
     "text": [
      "Train Loss: 0.2685 | Train Acc: 90.52%\n",
      "Test  Loss: 0.4107 | Test Acc: 87.38%\n",
      "--------------------------------------------------\n"
     ]
    }
   ],
   "source": [
    "Training = DoTraining(\n",
    "    model=model,\n",
    "    criterion=criterion,\n",
    "    optimizer=optimizer,\n",
    "    scaler=scaler,\n",
    "    scheduler=scheduler,\n",
    "    earlystopper=earlystopper,\n",
    "    device=device,\n",
    "    logs=logs,\n",
    "    file_path=file_name,\n",
    ")\n",
    "pre_epochs = len(Training.logs[\"train_loss\"])\n",
    "\n",
    "for epoch in range(NUM_EPOCHS):\n",
    "    now = epoch + 1 + pre_epochs\n",
    "    print(f\"[Epoch {epoch+1+pre_epochs}/{NUM_EPOCHS}] :\")\n",
    "\n",
    "    if DATASET == \"ImageNet2012\":\n",
    "        eval_loss = Training.SingleEpoch(train_dataloader, valid_dataloader)\n",
    "    else:\n",
    "        eval_loss = Training.SingleEpoch(\n",
    "            train_dataloader, valid_dataloader, test_dataloader\n",
    "        )\n",
    "\n",
    "    Training.Save()\n",
    "\n",
    "    \n",
    "    \n",
    "    if earlystopper.check(eval_loss) == True:\n",
    "        break\n",
    "\n",
    "    print(\"-\" * 50)"
   ]
  },
  {
   "cell_type": "code",
   "execution_count": 17,
   "metadata": {},
   "outputs": [
    {
     "data": {
      "image/png": "[encoded data removed]",
      "text/plain": [
       "<Figure size 1000x500 with 2 Axes>"
      ]
     },
     "metadata": {},
     "output_type": "display_data"
    }
   ],
   "source": [
    "view = LogViewer(logs)\n",
    "view.draw(save_name=file_name)"
   ]
  },
  {
   "cell_type": "code",
   "execution_count": 18,
   "metadata": {},
   "outputs": [
    {
     "name": "stdout",
     "output_type": "stream",
     "text": [
      "1 epoch: train_loss=1.7047, train_acc=0.3773, test_loss=1.7983, test_acc=0.3980, lr=0.0010\n",
      "2 epoch: train_loss=1.2750, train_acc=0.5420, test_loss=2.1151, test_acc=0.3929, lr=0.0010\n",
      "3 epoch: train_loss=1.0886, train_acc=0.6144, test_loss=1.3101, test_acc=0.5870, lr=0.0010\n",
      "4 epoch: train_loss=0.9740, train_acc=0.6588, test_loss=1.2084, test_acc=0.6113, lr=0.0010\n",
      "5 epoch: train_loss=0.8953, train_acc=0.6898, test_loss=0.8579, test_acc=0.7014, lr=0.0010\n",
      "6 epoch: train_loss=0.8297, train_acc=0.7104, test_loss=0.8609, test_acc=0.7119, lr=0.0010\n",
      "7 epoch: train_loss=0.7954, train_acc=0.7234, test_loss=1.1325, test_acc=0.6273, lr=0.0010\n",
      "8 epoch: train_loss=0.7534, train_acc=0.7387, test_loss=1.1616, test_acc=0.6209, lr=0.0010\n",
      "9 epoch: train_loss=0.7188, train_acc=0.7517, test_loss=0.8558, test_acc=0.7190, lr=0.0010\n",
      "10 epoch: train_loss=0.6995, train_acc=0.7588, test_loss=0.6726, test_acc=0.7697, lr=0.0010\n",
      "11 epoch: train_loss=0.6708, train_acc=0.7664, test_loss=0.6969, test_acc=0.7670, lr=0.0010\n",
      "12 epoch: train_loss=0.6461, train_acc=0.7726, test_loss=0.6098, test_acc=0.7958, lr=0.0010\n",
      "13 epoch: train_loss=0.6317, train_acc=0.7784, test_loss=0.6969, test_acc=0.7573, lr=0.0010\n",
      "14 epoch: train_loss=0.6107, train_acc=0.7864, test_loss=0.6473, test_acc=0.7881, lr=0.0010\n",
      "15 epoch: train_loss=0.5968, train_acc=0.7925, test_loss=0.8615, test_acc=0.7236, lr=0.0010\n",
      "16 epoch: train_loss=0.5858, train_acc=0.7963, test_loss=0.7765, test_acc=0.7440, lr=0.0010\n",
      "17 epoch: train_loss=0.5610, train_acc=0.8041, test_loss=0.5954, test_acc=0.7995, lr=0.0010\n",
      "18 epoch: train_loss=0.5586, train_acc=0.8050, test_loss=0.5696, test_acc=0.8083, lr=0.0010\n",
      "19 epoch: train_loss=0.5435, train_acc=0.8119, test_loss=0.5709, test_acc=0.8050, lr=0.0010\n",
      "20 epoch: train_loss=0.5385, train_acc=0.8131, test_loss=0.5865, test_acc=0.8013, lr=0.0010\n",
      "21 epoch: train_loss=0.5186, train_acc=0.8198, test_loss=0.5492, test_acc=0.8161, lr=0.0010\n",
      "22 epoch: train_loss=0.5185, train_acc=0.8198, test_loss=0.5285, test_acc=0.8214, lr=0.0010\n",
      "23 epoch: train_loss=0.5032, train_acc=0.8251, test_loss=0.5713, test_acc=0.8045, lr=0.0010\n",
      "24 epoch: train_loss=0.4937, train_acc=0.8282, test_loss=0.5427, test_acc=0.8180, lr=0.0010\n",
      "25 epoch: train_loss=0.4894, train_acc=0.8289, test_loss=0.6099, test_acc=0.8069, lr=0.0010\n",
      "26 epoch: train_loss=0.4817, train_acc=0.8333, test_loss=0.6266, test_acc=0.7995, lr=0.0010\n",
      "27 epoch: train_loss=0.4766, train_acc=0.8346, test_loss=0.5209, test_acc=0.8250, lr=0.0010\n",
      "28 epoch: train_loss=0.4640, train_acc=0.8378, test_loss=0.4529, test_acc=0.8508, lr=0.0010\n",
      "29 epoch: train_loss=0.4591, train_acc=0.8392, test_loss=0.6772, test_acc=0.7853, lr=0.0010\n",
      "30 epoch: train_loss=0.4503, train_acc=0.8425, test_loss=0.6263, test_acc=0.8058, lr=0.0010\n",
      "31 epoch: train_loss=0.4432, train_acc=0.8445, test_loss=0.5797, test_acc=0.8058, lr=0.0010\n",
      "32 epoch: train_loss=0.4394, train_acc=0.8467, test_loss=0.5068, test_acc=0.8270, lr=0.0010\n",
      "33 epoch: train_loss=0.4364, train_acc=0.8480, test_loss=0.5287, test_acc=0.8226, lr=0.0010\n",
      "34 epoch: train_loss=0.4309, train_acc=0.8489, test_loss=0.4905, test_acc=0.8400, lr=0.0010\n",
      "35 epoch: train_loss=0.4203, train_acc=0.8530, test_loss=0.4474, test_acc=0.8502, lr=0.0010\n",
      "36 epoch: train_loss=0.4138, train_acc=0.8559, test_loss=0.4626, test_acc=0.8505, lr=0.0010\n",
      "37 epoch: train_loss=0.4173, train_acc=0.8534, test_loss=0.4776, test_acc=0.8420, lr=0.0010\n",
      "38 epoch: train_loss=0.4077, train_acc=0.8576, test_loss=0.4721, test_acc=0.8438, lr=0.0010\n",
      "39 epoch: train_loss=0.4075, train_acc=0.8580, test_loss=0.4354, test_acc=0.8560, lr=0.0010\n",
      "40 epoch: train_loss=0.4007, train_acc=0.8601, test_loss=0.5340, test_acc=0.8272, lr=0.0010\n",
      "41 epoch: train_loss=0.3928, train_acc=0.8618, test_loss=0.4532, test_acc=0.8524, lr=0.0010\n",
      "42 epoch: train_loss=0.3889, train_acc=0.8635, test_loss=0.4410, test_acc=0.8558, lr=0.0010\n",
      "43 epoch: train_loss=0.3849, train_acc=0.8629, test_loss=0.4687, test_acc=0.8499, lr=0.0010\n",
      "44 epoch: train_loss=0.3839, train_acc=0.8661, test_loss=0.5111, test_acc=0.8381, lr=0.0010\n",
      "45 epoch: train_loss=0.3809, train_acc=0.8663, test_loss=0.4182, test_acc=0.8606, lr=0.0010\n",
      "46 epoch: train_loss=0.3766, train_acc=0.8690, test_loss=0.4258, test_acc=0.8588, lr=0.0010\n",
      "47 epoch: train_loss=0.3754, train_acc=0.8696, test_loss=0.4407, test_acc=0.8575, lr=0.0010\n",
      "48 epoch: train_loss=0.3628, train_acc=0.8732, test_loss=0.4725, test_acc=0.8471, lr=0.0010\n",
      "49 epoch: train_loss=0.3641, train_acc=0.8730, test_loss=0.4191, test_acc=0.8672, lr=0.0010\n",
      "50 epoch: train_loss=0.3700, train_acc=0.8704, test_loss=0.4694, test_acc=0.8478, lr=0.0010\n",
      "51 epoch: train_loss=0.3594, train_acc=0.8736, test_loss=0.4812, test_acc=0.8468, lr=0.0010\n",
      "52 epoch: train_loss=0.3571, train_acc=0.8744, test_loss=0.4858, test_acc=0.8446, lr=0.0010\n",
      "53 epoch: train_loss=0.3542, train_acc=0.8771, test_loss=0.4533, test_acc=0.8583, lr=0.0010\n",
      "54 epoch: train_loss=0.3537, train_acc=0.8763, test_loss=0.4460, test_acc=0.8526, lr=0.0010\n",
      "55 epoch: train_loss=0.3433, train_acc=0.8800, test_loss=0.5173, test_acc=0.8406, lr=0.0010\n",
      "56 epoch: train_loss=0.3401, train_acc=0.8813, test_loss=0.4436, test_acc=0.8559, lr=0.0010\n",
      "57 epoch: train_loss=0.3432, train_acc=0.8788, test_loss=0.4453, test_acc=0.8578, lr=0.0010\n",
      "58 epoch: train_loss=0.3373, train_acc=0.8823, test_loss=0.4664, test_acc=0.8518, lr=0.0010\n",
      "59 epoch: train_loss=0.3324, train_acc=0.8827, test_loss=0.4284, test_acc=0.8597, lr=0.0010\n",
      "60 epoch: train_loss=0.3334, train_acc=0.8848, test_loss=0.4389, test_acc=0.8634, lr=0.0010\n",
      "61 epoch: train_loss=0.3270, train_acc=0.8855, test_loss=0.4054, test_acc=0.8676, lr=0.0010\n",
      "62 epoch: train_loss=0.3284, train_acc=0.8858, test_loss=0.4713, test_acc=0.8484, lr=0.0010\n",
      "63 epoch: train_loss=0.3247, train_acc=0.8871, test_loss=0.4780, test_acc=0.8411, lr=0.0010\n",
      "64 epoch: train_loss=0.3204, train_acc=0.8870, test_loss=0.4753, test_acc=0.8449, lr=0.0010\n",
      "65 epoch: train_loss=0.3244, train_acc=0.8874, test_loss=0.3944, test_acc=0.8736, lr=0.0010\n",
      "66 epoch: train_loss=0.3217, train_acc=0.8868, test_loss=0.4569, test_acc=0.8532, lr=0.0010\n",
      "67 epoch: train_loss=0.3154, train_acc=0.8897, test_loss=0.4270, test_acc=0.8595, lr=0.0010\n",
      "68 epoch: train_loss=0.3144, train_acc=0.8908, test_loss=0.4690, test_acc=0.8496, lr=0.0010\n",
      "69 epoch: train_loss=0.3107, train_acc=0.8914, test_loss=0.4142, test_acc=0.8724, lr=0.0010\n",
      "70 epoch: train_loss=0.3140, train_acc=0.8907, test_loss=0.4066, test_acc=0.8690, lr=0.0010\n",
      "71 epoch: train_loss=0.3066, train_acc=0.8914, test_loss=0.5080, test_acc=0.8376, lr=0.0010\n",
      "72 epoch: train_loss=0.3080, train_acc=0.8926, test_loss=0.5393, test_acc=0.8383, lr=0.0010\n",
      "73 epoch: train_loss=0.3029, train_acc=0.8931, test_loss=0.4954, test_acc=0.8484, lr=0.0010\n",
      "74 epoch: train_loss=0.3065, train_acc=0.8930, test_loss=0.4213, test_acc=0.8671, lr=0.0010\n",
      "75 epoch: train_loss=0.2994, train_acc=0.8948, test_loss=0.4095, test_acc=0.8699, lr=0.0010\n",
      "76 epoch: train_loss=0.2996, train_acc=0.8946, test_loss=0.4714, test_acc=0.8552, lr=0.0010\n",
      "77 epoch: train_loss=0.2990, train_acc=0.8951, test_loss=0.4446, test_acc=0.8622, lr=0.0010\n",
      "78 epoch: train_loss=0.2971, train_acc=0.8969, test_loss=0.3991, test_acc=0.8790, lr=0.0010\n",
      "79 epoch: train_loss=0.2912, train_acc=0.8988, test_loss=0.4422, test_acc=0.8618, lr=0.0010\n",
      "80 epoch: train_loss=0.2907, train_acc=0.8985, test_loss=0.4209, test_acc=0.8671, lr=0.0010\n",
      "81 epoch: train_loss=0.2856, train_acc=0.8987, test_loss=0.4570, test_acc=0.8587, lr=0.0010\n",
      "82 epoch: train_loss=0.2893, train_acc=0.8996, test_loss=0.4347, test_acc=0.8650, lr=0.0010\n",
      "83 epoch: train_loss=0.2904, train_acc=0.8979, test_loss=0.4726, test_acc=0.8568, lr=0.0010\n",
      "84 epoch: train_loss=0.2801, train_acc=0.9027, test_loss=0.4659, test_acc=0.8569, lr=0.0010\n",
      "85 epoch: train_loss=0.2844, train_acc=0.9007, test_loss=0.4396, test_acc=0.8648, lr=0.0010\n",
      "86 epoch: train_loss=0.2797, train_acc=0.9025, test_loss=0.4285, test_acc=0.8682, lr=0.0010\n",
      "87 epoch: train_loss=0.2792, train_acc=0.9017, test_loss=0.4117, test_acc=0.8726, lr=0.0010\n",
      "88 epoch: train_loss=0.2790, train_acc=0.9021, test_loss=0.4289, test_acc=0.8664, lr=0.0010\n",
      "89 epoch: train_loss=0.2783, train_acc=0.9022, test_loss=0.4436, test_acc=0.8700, lr=0.0010\n",
      "90 epoch: train_loss=0.2760, train_acc=0.9023, test_loss=0.4057, test_acc=0.8724, lr=0.0010\n",
      "91 epoch: train_loss=0.2815, train_acc=0.9022, test_loss=0.4231, test_acc=0.8642, lr=0.0010\n",
      "92 epoch: train_loss=0.2728, train_acc=0.9060, test_loss=0.3923, test_acc=0.8747, lr=0.0010\n",
      "93 epoch: train_loss=0.2718, train_acc=0.9050, test_loss=0.4205, test_acc=0.8754, lr=0.0010\n",
      "94 epoch: train_loss=0.2725, train_acc=0.9043, test_loss=0.4550, test_acc=0.8615, lr=0.0010\n",
      "95 epoch: train_loss=0.2741, train_acc=0.9038, test_loss=0.4400, test_acc=0.8632, lr=0.0010\n",
      "96 epoch: train_loss=0.2573, train_acc=0.9097, test_loss=0.3960, test_acc=0.8780, lr=0.0010\n",
      "97 epoch: train_loss=0.2680, train_acc=0.9061, test_loss=0.4053, test_acc=0.8749, lr=0.0010\n",
      "98 epoch: train_loss=0.2659, train_acc=0.9069, test_loss=0.3692, test_acc=0.8850, lr=0.0010\n",
      "99 epoch: train_loss=0.2585, train_acc=0.9090, test_loss=0.4943, test_acc=0.8552, lr=0.0010\n",
      "100 epoch: train_loss=0.2685, train_acc=0.9052, test_loss=0.4107, test_acc=0.8738, lr=0.0010\n"
     ]
    }
   ],
   "source": [
    "view.print_all()"
   ]
  }
 ],
 "metadata": {
  "kernelspec": {
   "display_name": "base",
   "language": "python",
   "name": "python3"
  },
  "language_info": {
   "codemirror_mode": {
    "name": "ipython",
    "version": 3
   },
   "file_extension": ".py",
   "mimetype": "text/x-python",
   "name": "python",
   "nbconvert_exporter": "python",
   "pygments_lexer": "ipython3",
   "version": "3.11.5"
  }
 },
 "nbformat": 4,
 "nbformat_minor": 2
}
