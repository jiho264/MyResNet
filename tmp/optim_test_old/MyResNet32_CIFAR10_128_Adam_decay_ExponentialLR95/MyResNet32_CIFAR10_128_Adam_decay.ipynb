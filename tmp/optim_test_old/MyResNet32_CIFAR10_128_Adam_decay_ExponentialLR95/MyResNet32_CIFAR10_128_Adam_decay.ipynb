{
 "cells": [
  {
   "cell_type": "markdown",
   "metadata": {},
   "source": [
    "# Import"
   ]
  },
  {
   "cell_type": "code",
   "execution_count": 1,
   "metadata": {},
   "outputs": [],
   "source": [
    "import torch\n",
    "from torch import nn\n",
    "from torch.optim.lr_scheduler import ExponentialLR\n",
    "import sys, os\n",
    "\n",
    "sys.path.append(os.path.dirname(os.path.abspath(os.path.dirname(\"src\"))))\n",
    "\n",
    "from src.Mydataloader import LoadDataset\n",
    "from src.Mymodel import MyResNet_CIFAR\n",
    "from src.Mytraining import DoTraining\n",
    "from src.Earlystopper import EarlyStopper\n",
    "from src.LogViewer import LogViewer"
   ]
  },
  {
   "cell_type": "markdown",
   "metadata": {},
   "source": [
    "# Setup"
   ]
  },
  {
   "cell_type": "code",
   "execution_count": 2,
   "metadata": {},
   "outputs": [],
   "source": [
    "\"\"\"Dataset selection\"\"\"\n",
    "DATASET = \"CIFAR10\"\n",
    "# DATASET = \"CIFAR100\"\n",
    "# DATASET = \"ImageNet2012\"\n",
    "\n",
    "\"\"\"Dataset parameters\"\"\"\n",
    "BATCH = 128\n",
    "SHUFFLE = True\n",
    "NUMOFWORKERS = 8\n",
    "PIN_MEMORY = True\n",
    "\n",
    "\"\"\"optimizer parameters\"\"\"\n",
    "# OPTIMIZER = \"Adam\"\n",
    "OPTIMIZER = \"Adam_decay\"\n",
    "# OPTIMIZER = \"SGD\"\n",
    "# OPTIMIZER = \"SGD_nasterov\"\n",
    "# OPTIMIZER = \"AdamW\"\n",
    "# OPTIMIZER = \"AdamW_amsgrad\"\n",
    "# OPTIMIZER = \"NAdam\"\n",
    "\n",
    "\"\"\"Learning rate scheduler parameters\"\"\"\n",
    "NUM_EPOCHS = 100\n",
    "\n",
    "\"\"\"Early stopping parameters\"\"\"\n",
    "EARLYSTOPPINGPATIENCE = 100\n",
    "\n",
    "file_name = f\"MyResNet32_{BATCH}_{OPTIMIZER}\""
   ]
  },
  {
   "cell_type": "code",
   "execution_count": 3,
   "metadata": {},
   "outputs": [
    {
     "data": {
      "text/plain": [
       "'MyResNet32_128_Adam_decay'"
      ]
     },
     "execution_count": 3,
     "metadata": {},
     "output_type": "execute_result"
    }
   ],
   "source": [
    "file_name"
   ]
  },
  {
   "cell_type": "markdown",
   "metadata": {},
   "source": [
    "# Loading the dataset"
   ]
  },
  {
   "cell_type": "markdown",
   "metadata": {},
   "source": [
    "## Define Dateloader"
   ]
  },
  {
   "cell_type": "code",
   "execution_count": 4,
   "metadata": {},
   "outputs": [
    {
     "name": "stderr",
     "output_type": "stream",
     "text": [
      "/home/lee/anaconda3/lib/python3.11/site-packages/torchvision/transforms/v2/_deprecated.py:43: UserWarning: The transform `ToTensor()` is deprecated and will be removed in a future release. Instead, please use `v2.Compose([v2.ToImage(), v2.ToDtype(torch.float32, scale=True)])`.\n",
      "  warnings.warn(\n"
     ]
    },
    {
     "name": "stdout",
     "output_type": "stream",
     "text": [
      "-----------------------------------------------------------------------\n",
      "Dataset :  CIFAR10\n",
      "- Length of Train Set :  50000\n",
      "- Length of Test Set :  10000\n",
      "- Count of Classes :  10\n",
      "-----------------------------------------------------------------------\n"
     ]
    }
   ],
   "source": [
    "tmp = LoadDataset(root=\"../../../data\", seceted_dataset=DATASET)\n",
    "train_data, valid_data, test_data, COUNT_OF_CLASSES = tmp.Unpack()"
   ]
  },
  {
   "cell_type": "code",
   "execution_count": 5,
   "metadata": {},
   "outputs": [
    {
     "name": "stdout",
     "output_type": "stream",
     "text": [
      "train.transforms = Compose(\n",
      "      AutoAugment(interpolation=InterpolationMode.NEAREST, policy=AutoAugmentPolicy.CIFAR10)\n",
      "      RandomCrop(size=(32, 32), padding=[4, 4, 4, 4], pad_if_needed=False, fill=0, padding_mode=constant)\n",
      "      RandomHorizontalFlip(p=0.5)\n",
      "      ToTensor()\n",
      "      Normalize(mean=[0.49139968, 0.48215827, 0.44653124], std=[1, 1, 1], inplace=True)\n",
      ") 128\n",
      "test.transforms = ToTensor() 128\n"
     ]
    }
   ],
   "source": [
    "train_dataloader, valid_dataloader, test_dataloader = tmp.get_dataloader(\n",
    "    batch_size=BATCH, shuffle=SHUFFLE, num_workers=NUMOFWORKERS, pin_memory=PIN_MEMORY\n",
    ")"
   ]
  },
  {
   "cell_type": "markdown",
   "metadata": {},
   "source": [
    "# Define ResNet"
   ]
  },
  {
   "cell_type": "markdown",
   "metadata": {},
   "source": [
    "## Model Confirm"
   ]
  },
  {
   "cell_type": "code",
   "execution_count": 6,
   "metadata": {},
   "outputs": [
    {
     "data": {
      "text/plain": [
       "device(type='cuda')"
      ]
     },
     "execution_count": 6,
     "metadata": {},
     "output_type": "execute_result"
    }
   ],
   "source": [
    "device = torch.device(\"cuda\" if torch.cuda.is_available() else \"cpu\")\n",
    "device"
   ]
  },
  {
   "cell_type": "code",
   "execution_count": 7,
   "metadata": {},
   "outputs": [],
   "source": [
    "model = MyResNet_CIFAR(num_classes=COUNT_OF_CLASSES, num_layer_factor=5).to(device)"
   ]
  },
  {
   "cell_type": "markdown",
   "metadata": {},
   "source": [
    "# Define Training"
   ]
  },
  {
   "cell_type": "markdown",
   "metadata": {},
   "source": [
    "## (1) Define Criterion"
   ]
  },
  {
   "cell_type": "code",
   "execution_count": 8,
   "metadata": {},
   "outputs": [],
   "source": [
    "criterion = nn.CrossEntropyLoss()"
   ]
  },
  {
   "cell_type": "markdown",
   "metadata": {},
   "source": [
    "## (2) Define Optimazer"
   ]
  },
  {
   "cell_type": "code",
   "execution_count": 9,
   "metadata": {},
   "outputs": [],
   "source": [
    "if OPTIMIZER == \"Adam\":\n",
    "    optimizer = torch.optim.Adam(model.parameters())\n",
    "elif OPTIMIZER == \"Adam_decay\":\n",
    "    optimizer = torch.optim.Adam(model.parameters(), weight_decay=1e-4)\n",
    "elif OPTIMIZER == \"SGD\":\n",
    "    optimizer = torch.optim.SGD(\n",
    "        model.parameters(), lr=0.1, momentum=0.9, weight_decay=1e-4\n",
    "    )\n",
    "elif OPTIMIZER == \"SGD_nasterov\":\n",
    "    optimizer = torch.optim.SGD(\n",
    "        model.parameters(), lr=0.1, momentum=0.9, weight_decay=1e-4, nesterov=True\n",
    "    )\n",
    "elif OPTIMIZER == \"AdamW\":\n",
    "    optimizer = torch.optim.AdamW(model.parameters(), weight_decay=1e-4)\n",
    "elif OPTIMIZER == \"AdamW_amsgrad\":\n",
    "    optimizer = torch.optim.AdamW(model.parameters(), weight_decay=1e-4, amsgrad=True)\n",
    "elif OPTIMIZER == \"NAdam\":\n",
    "    optimizer = torch.optim.NAdam(model.parameters(), weight_decay=1e-4)"
   ]
  },
  {
   "cell_type": "markdown",
   "metadata": {},
   "source": [
    "## (3) Define Early Stopping"
   ]
  },
  {
   "cell_type": "code",
   "execution_count": 10,
   "metadata": {},
   "outputs": [],
   "source": [
    "earlystopper = EarlyStopper(patience=EARLYSTOPPINGPATIENCE, model=model, file_name=file_name)"
   ]
  },
  {
   "cell_type": "markdown",
   "metadata": {},
   "source": [
    "## (4) Define Learning Rate schedualer"
   ]
  },
  {
   "cell_type": "code",
   "execution_count": 11,
   "metadata": {},
   "outputs": [],
   "source": [
    "scheduler = ExponentialLR(optimizer, gamma=0.95)"
   ]
  },
  {
   "cell_type": "markdown",
   "metadata": {},
   "source": [
    "## (5) Define AMP scaler"
   ]
  },
  {
   "cell_type": "code",
   "execution_count": 12,
   "metadata": {},
   "outputs": [],
   "source": [
    "scaler = torch.cuda.amp.GradScaler(enabled=True)"
   ]
  },
  {
   "cell_type": "markdown",
   "metadata": {},
   "source": [
    "## Load before process"
   ]
  },
  {
   "cell_type": "code",
   "execution_count": 13,
   "metadata": {},
   "outputs": [
    {
     "name": "stdout",
     "output_type": "stream",
     "text": [
      "File does not exist. Created a new log.\n"
     ]
    }
   ],
   "source": [
    "if os.path.exists(file_name + \".pth.tar\"):\n",
    "    # Read checkpoint as desired, e.g.,\n",
    "    checkpoint = torch.load(\n",
    "        file_name + \".pth.tar\",\n",
    "        map_location=lambda storage, loc: storage.cuda(device),\n",
    "    )\n",
    "    model.load_state_dict(checkpoint[\"model\"])\n",
    "    optimizer.load_state_dict(checkpoint[\"optimizer\"])\n",
    "    scaler.load_state_dict(checkpoint[\"scaler\"])\n",
    "    scheduler.load_state_dict(checkpoint[\"scheduler\"])\n",
    "    earlystopper.load_state_dict(checkpoint[\"earlystopper\"])\n",
    "    logs = checkpoint[\"logs\"]\n",
    "\n",
    "    print(\"Suceessfully loaded the All setting and Log file.\")\n",
    "    print(file_name)\n",
    "    print(f\"Current epoch is {len(logs['train_loss'])}\")\n",
    "    print(f\"Current learning rate: {optimizer.param_groups[0]['lr']}\")\n",
    "else:\n",
    "    # Create a dictionary to store the variables\n",
    "    train_loss = []\n",
    "    train_acc = []\n",
    "    eval_loss = []\n",
    "    valid_acc = []\n",
    "    test_loss = []\n",
    "    test_acc = []\n",
    "    lr_log = []\n",
    "    logs = {\n",
    "        \"train_loss\": train_loss,\n",
    "        \"train_acc\": train_acc,\n",
    "        \"valid_loss\": eval_loss,\n",
    "        \"valid_acc\": valid_acc,\n",
    "        \"test_loss\": test_loss,\n",
    "        \"test_acc\": test_acc,\n",
    "        \"lr_log\": lr_log,\n",
    "    }\n",
    "    print(\"File does not exist. Created a new log.\")"
   ]
  },
  {
   "cell_type": "code",
   "execution_count": 14,
   "metadata": {},
   "outputs": [
    {
     "data": {
      "text/plain": [
       "0.001"
      ]
     },
     "execution_count": 14,
     "metadata": {},
     "output_type": "execute_result"
    }
   ],
   "source": [
    "optimizer.param_groups[0][\"lr\"]"
   ]
  },
  {
   "cell_type": "code",
   "execution_count": 15,
   "metadata": {},
   "outputs": [
    {
     "data": {
      "text/plain": [
       "0"
      ]
     },
     "execution_count": 15,
     "metadata": {},
     "output_type": "execute_result"
    }
   ],
   "source": [
    "earlystopper.early_stop_counter"
   ]
  },
  {
   "cell_type": "markdown",
   "metadata": {},
   "source": [
    "# [Training Loop]"
   ]
  },
  {
   "cell_type": "code",
   "execution_count": 16,
   "metadata": {},
   "outputs": [
    {
     "name": "stdout",
     "output_type": "stream",
     "text": [
      "[Epoch 1/100] :\n"
     ]
    },
    {
     "name": "stderr",
     "output_type": "stream",
     "text": [
      "1 Train: 100%|███████| 391/391 [00:08<00:00, 45.56it/s]"
     ]
    },
    {
     "name": "stdout",
     "output_type": "stream",
     "text": [
      "Train Loss: 1.6936 | Train Acc: 38.78%\n"
     ]
    },
    {
     "name": "stderr",
     "output_type": "stream",
     "text": [
      "\n"
     ]
    },
    {
     "name": "stdout",
     "output_type": "stream",
     "text": [
      "Test  Loss: 1.4143 | Test Acc: 50.55%\n",
      "updated best eval loss : 1.4142784589453588\n",
      "--------------------------------------------------\n",
      "[Epoch 2/100] :\n"
     ]
    },
    {
     "name": "stderr",
     "output_type": "stream",
     "text": [
      "2 Train: 100%|███████| 391/391 [00:18<00:00, 21.16it/s]\n"
     ]
    },
    {
     "name": "stdout",
     "output_type": "stream",
     "text": [
      "Train Loss: 1.2651 | Train Acc: 54.86%\n",
      "Test  Loss: 1.7357 | Test Acc: 47.21%\n",
      "--------------------------------------------------\n",
      "[Epoch 3/100] :\n"
     ]
    },
    {
     "name": "stderr",
     "output_type": "stream",
     "text": [
      "3 Train: 100%|███████| 391/391 [00:29<00:00, 13.24it/s]\n"
     ]
    },
    {
     "name": "stdout",
     "output_type": "stream",
     "text": [
      "Train Loss: 1.0715 | Train Acc: 62.09%\n",
      "Test  Loss: 0.9703 | Test Acc: 65.47%\n",
      "updated best eval loss : 0.9702960237672057\n",
      "--------------------------------------------------\n",
      "[Epoch 4/100] :\n"
     ]
    },
    {
     "name": "stderr",
     "output_type": "stream",
     "text": [
      "4 Train: 100%|███████| 391/391 [00:30<00:00, 12.77it/s]\n"
     ]
    },
    {
     "name": "stdout",
     "output_type": "stream",
     "text": [
      "Train Loss: 0.9703 | Train Acc: 65.76%\n",
      "Test  Loss: 1.0866 | Test Acc: 64.41%\n",
      "--------------------------------------------------\n",
      "[Epoch 5/100] :\n"
     ]
    },
    {
     "name": "stderr",
     "output_type": "stream",
     "text": [
      "5 Train: 100%|███████| 391/391 [00:28<00:00, 13.49it/s]\n"
     ]
    },
    {
     "name": "stdout",
     "output_type": "stream",
     "text": [
      "Train Loss: 0.8939 | Train Acc: 68.67%\n",
      "Test  Loss: 1.0898 | Test Acc: 63.89%\n",
      "--------------------------------------------------\n",
      "[Epoch 6/100] :\n"
     ]
    },
    {
     "name": "stderr",
     "output_type": "stream",
     "text": [
      "6 Train: 100%|███████| 391/391 [00:30<00:00, 12.65it/s]\n"
     ]
    },
    {
     "name": "stdout",
     "output_type": "stream",
     "text": [
      "Train Loss: 0.8330 | Train Acc: 70.75%\n",
      "Test  Loss: 0.7587 | Test Acc: 73.99%\n",
      "updated best eval loss : 0.7586666285237179\n",
      "--------------------------------------------------\n",
      "[Epoch 7/100] :\n"
     ]
    },
    {
     "name": "stderr",
     "output_type": "stream",
     "text": [
      "7 Train: 100%|███████| 391/391 [00:32<00:00, 11.90it/s]\n"
     ]
    },
    {
     "name": "stdout",
     "output_type": "stream",
     "text": [
      "Train Loss: 0.7885 | Train Acc: 72.42%\n",
      "Test  Loss: 0.7902 | Test Acc: 73.07%\n",
      "--------------------------------------------------\n",
      "[Epoch 8/100] :\n"
     ]
    },
    {
     "name": "stderr",
     "output_type": "stream",
     "text": [
      "8 Train: 100%|███████| 391/391 [00:30<00:00, 12.78it/s]\n"
     ]
    },
    {
     "name": "stdout",
     "output_type": "stream",
     "text": [
      "Train Loss: 0.7548 | Train Acc: 73.74%\n",
      "Test  Loss: 0.8434 | Test Acc: 72.43%\n",
      "--------------------------------------------------\n",
      "[Epoch 9/100] :\n"
     ]
    },
    {
     "name": "stderr",
     "output_type": "stream",
     "text": [
      "9 Train: 100%|███████| 391/391 [00:30<00:00, 12.94it/s]\n"
     ]
    },
    {
     "name": "stdout",
     "output_type": "stream",
     "text": [
      "Train Loss: 0.7237 | Train Acc: 74.71%\n",
      "Test  Loss: 0.9506 | Test Acc: 70.07%\n",
      "--------------------------------------------------\n",
      "[Epoch 10/100] :\n"
     ]
    },
    {
     "name": "stderr",
     "output_type": "stream",
     "text": [
      "10 Train: 100%|██████| 391/391 [00:31<00:00, 12.44it/s]\n"
     ]
    },
    {
     "name": "stdout",
     "output_type": "stream",
     "text": [
      "Train Loss: 0.6966 | Train Acc: 75.69%\n",
      "Test  Loss: 0.7416 | Test Acc: 76.05%\n",
      "updated best eval loss : 0.7416256900075116\n",
      "--------------------------------------------------\n",
      "[Epoch 11/100] :\n"
     ]
    },
    {
     "name": "stderr",
     "output_type": "stream",
     "text": [
      "11 Train: 100%|██████| 391/391 [00:37<00:00, 10.39it/s]\n"
     ]
    },
    {
     "name": "stdout",
     "output_type": "stream",
     "text": [
      "Train Loss: 0.6757 | Train Acc: 76.46%\n",
      "Test  Loss: 0.6064 | Test Acc: 79.45%\n",
      "updated best eval loss : 0.606440550541576\n",
      "--------------------------------------------------\n",
      "[Epoch 12/100] :\n"
     ]
    },
    {
     "name": "stderr",
     "output_type": "stream",
     "text": [
      "12 Train: 100%|██████| 391/391 [00:48<00:00,  8.12it/s]\n"
     ]
    },
    {
     "name": "stdout",
     "output_type": "stream",
     "text": [
      "Train Loss: 0.6572 | Train Acc: 77.13%\n",
      "Test  Loss: 0.6701 | Test Acc: 77.25%\n",
      "--------------------------------------------------\n",
      "[Epoch 13/100] :\n"
     ]
    },
    {
     "name": "stderr",
     "output_type": "stream",
     "text": [
      "13 Train: 100%|██████| 391/391 [00:47<00:00,  8.20it/s]\n"
     ]
    },
    {
     "name": "stdout",
     "output_type": "stream",
     "text": [
      "Train Loss: 0.6383 | Train Acc: 77.78%\n",
      "Test  Loss: 0.6897 | Test Acc: 76.60%\n",
      "--------------------------------------------------\n",
      "[Epoch 14/100] :\n"
     ]
    },
    {
     "name": "stderr",
     "output_type": "stream",
     "text": [
      "14 Train: 100%|██████| 391/391 [00:36<00:00, 10.81it/s]\n"
     ]
    },
    {
     "name": "stdout",
     "output_type": "stream",
     "text": [
      "Train Loss: 0.6280 | Train Acc: 78.16%\n",
      "Test  Loss: 0.5654 | Test Acc: 80.45%\n",
      "updated best eval loss : 0.565371579384502\n",
      "--------------------------------------------------\n",
      "[Epoch 15/100] :\n"
     ]
    },
    {
     "name": "stderr",
     "output_type": "stream",
     "text": [
      "15 Train: 100%|██████| 391/391 [00:35<00:00, 10.94it/s]\n"
     ]
    },
    {
     "name": "stdout",
     "output_type": "stream",
     "text": [
      "Train Loss: 0.6078 | Train Acc: 78.97%\n",
      "Test  Loss: 0.6187 | Test Acc: 79.80%\n",
      "--------------------------------------------------\n",
      "[Epoch 16/100] :\n"
     ]
    },
    {
     "name": "stderr",
     "output_type": "stream",
     "text": [
      "16 Train: 100%|██████| 391/391 [00:33<00:00, 11.84it/s]\n"
     ]
    },
    {
     "name": "stdout",
     "output_type": "stream",
     "text": [
      "Train Loss: 0.5996 | Train Acc: 79.01%\n",
      "Test  Loss: 0.5360 | Test Acc: 81.25%\n",
      "updated best eval loss : 0.5359701744363278\n",
      "--------------------------------------------------\n",
      "[Epoch 17/100] :\n"
     ]
    },
    {
     "name": "stderr",
     "output_type": "stream",
     "text": [
      "17 Train: 100%|██████| 391/391 [00:35<00:00, 11.00it/s]\n"
     ]
    },
    {
     "name": "stdout",
     "output_type": "stream",
     "text": [
      "Train Loss: 0.5792 | Train Acc: 79.92%\n",
      "Test  Loss: 0.5530 | Test Acc: 81.62%\n",
      "--------------------------------------------------\n",
      "[Epoch 18/100] :\n"
     ]
    },
    {
     "name": "stderr",
     "output_type": "stream",
     "text": [
      "18 Train: 100%|██████| 391/391 [00:35<00:00, 11.03it/s]\n"
     ]
    },
    {
     "name": "stdout",
     "output_type": "stream",
     "text": [
      "Train Loss: 0.5659 | Train Acc: 80.25%\n",
      "Test  Loss: 0.6063 | Test Acc: 79.32%\n",
      "--------------------------------------------------\n",
      "[Epoch 19/100] :\n"
     ]
    },
    {
     "name": "stderr",
     "output_type": "stream",
     "text": [
      "19 Train: 100%|██████| 391/391 [00:35<00:00, 11.00it/s]\n"
     ]
    },
    {
     "name": "stdout",
     "output_type": "stream",
     "text": [
      "Train Loss: 0.5556 | Train Acc: 80.83%\n",
      "Test  Loss: 0.5796 | Test Acc: 80.10%\n",
      "--------------------------------------------------\n",
      "[Epoch 20/100] :\n"
     ]
    },
    {
     "name": "stderr",
     "output_type": "stream",
     "text": [
      "20 Train: 100%|██████| 391/391 [00:34<00:00, 11.41it/s]\n"
     ]
    },
    {
     "name": "stdout",
     "output_type": "stream",
     "text": [
      "Train Loss: 0.5505 | Train Acc: 80.69%\n",
      "Test  Loss: 0.7434 | Test Acc: 75.88%\n",
      "--------------------------------------------------\n",
      "[Epoch 21/100] :\n"
     ]
    },
    {
     "name": "stderr",
     "output_type": "stream",
     "text": [
      "21 Train: 100%|██████| 391/391 [00:34<00:00, 11.26it/s]\n"
     ]
    },
    {
     "name": "stdout",
     "output_type": "stream",
     "text": [
      "Train Loss: 0.5344 | Train Acc: 81.36%\n",
      "Test  Loss: 0.6227 | Test Acc: 79.00%\n",
      "--------------------------------------------------\n",
      "[Epoch 22/100] :\n"
     ]
    },
    {
     "name": "stderr",
     "output_type": "stream",
     "text": [
      "22 Train: 100%|██████| 391/391 [00:34<00:00, 11.21it/s]\n"
     ]
    },
    {
     "name": "stdout",
     "output_type": "stream",
     "text": [
      "Train Loss: 0.5300 | Train Acc: 81.56%\n",
      "Test  Loss: 0.6055 | Test Acc: 80.17%\n",
      "--------------------------------------------------\n",
      "[Epoch 23/100] :\n"
     ]
    },
    {
     "name": "stderr",
     "output_type": "stream",
     "text": [
      "23 Train: 100%|██████| 391/391 [00:35<00:00, 10.95it/s]\n"
     ]
    },
    {
     "name": "stdout",
     "output_type": "stream",
     "text": [
      "Train Loss: 0.5185 | Train Acc: 81.88%\n",
      "Test  Loss: 0.5491 | Test Acc: 81.26%\n",
      "--------------------------------------------------\n",
      "[Epoch 24/100] :\n"
     ]
    },
    {
     "name": "stderr",
     "output_type": "stream",
     "text": [
      "24 Train: 100%|██████| 391/391 [00:48<00:00,  8.14it/s]\n"
     ]
    },
    {
     "name": "stdout",
     "output_type": "stream",
     "text": [
      "Train Loss: 0.5196 | Train Acc: 81.90%\n",
      "Test  Loss: 0.5238 | Test Acc: 82.19%\n",
      "updated best eval loss : 0.5237501731401757\n",
      "--------------------------------------------------\n",
      "[Epoch 25/100] :\n"
     ]
    },
    {
     "name": "stderr",
     "output_type": "stream",
     "text": [
      "25 Train: 100%|██████| 391/391 [00:48<00:00,  8.09it/s]\n"
     ]
    },
    {
     "name": "stdout",
     "output_type": "stream",
     "text": [
      "Train Loss: 0.5027 | Train Acc: 82.57%\n",
      "Test  Loss: 0.5210 | Test Acc: 82.28%\n",
      "updated best eval loss : 0.5210384066346325\n",
      "--------------------------------------------------\n",
      "[Epoch 26/100] :\n"
     ]
    },
    {
     "name": "stderr",
     "output_type": "stream",
     "text": [
      "26 Train: 100%|██████| 391/391 [00:52<00:00,  7.48it/s]\n"
     ]
    },
    {
     "name": "stdout",
     "output_type": "stream",
     "text": [
      "Train Loss: 0.4957 | Train Acc: 82.56%\n",
      "Test  Loss: 0.4964 | Test Acc: 83.28%\n",
      "updated best eval loss : 0.4963787680939783\n",
      "--------------------------------------------------\n",
      "[Epoch 27/100] :\n"
     ]
    },
    {
     "name": "stderr",
     "output_type": "stream",
     "text": [
      "27 Train: 100%|██████| 391/391 [00:49<00:00,  7.88it/s]\n"
     ]
    },
    {
     "name": "stdout",
     "output_type": "stream",
     "text": [
      "Train Loss: 0.4944 | Train Acc: 82.92%\n",
      "Test  Loss: 0.6660 | Test Acc: 78.25%\n",
      "--------------------------------------------------\n",
      "[Epoch 28/100] :\n"
     ]
    },
    {
     "name": "stderr",
     "output_type": "stream",
     "text": [
      "28 Train: 100%|██████| 391/391 [00:51<00:00,  7.64it/s]\n"
     ]
    },
    {
     "name": "stdout",
     "output_type": "stream",
     "text": [
      "Train Loss: 0.4873 | Train Acc: 82.94%\n",
      "Test  Loss: 0.4579 | Test Acc: 84.32%\n",
      "updated best eval loss : 0.457942668772951\n",
      "--------------------------------------------------\n",
      "[Epoch 29/100] :\n"
     ]
    },
    {
     "name": "stderr",
     "output_type": "stream",
     "text": [
      "29 Train: 100%|██████| 391/391 [00:48<00:00,  8.07it/s]\n"
     ]
    },
    {
     "name": "stdout",
     "output_type": "stream",
     "text": [
      "Train Loss: 0.4798 | Train Acc: 83.25%\n",
      "Test  Loss: 0.4795 | Test Acc: 83.77%\n",
      "--------------------------------------------------\n",
      "[Epoch 30/100] :\n"
     ]
    },
    {
     "name": "stderr",
     "output_type": "stream",
     "text": [
      "30 Train: 100%|██████| 391/391 [00:51<00:00,  7.63it/s]\n"
     ]
    },
    {
     "name": "stdout",
     "output_type": "stream",
     "text": [
      "Train Loss: 0.4757 | Train Acc: 83.44%\n",
      "Test  Loss: 0.5985 | Test Acc: 80.50%\n",
      "--------------------------------------------------\n",
      "[Epoch 31/100] :\n"
     ]
    },
    {
     "name": "stderr",
     "output_type": "stream",
     "text": [
      "31 Train: 100%|██████| 391/391 [00:50<00:00,  7.79it/s]\n"
     ]
    },
    {
     "name": "stdout",
     "output_type": "stream",
     "text": [
      "Train Loss: 0.4733 | Train Acc: 83.57%\n",
      "Test  Loss: 0.5449 | Test Acc: 81.18%\n",
      "--------------------------------------------------\n",
      "[Epoch 32/100] :\n"
     ]
    },
    {
     "name": "stderr",
     "output_type": "stream",
     "text": [
      "32 Train: 100%|██████| 391/391 [00:50<00:00,  7.81it/s]\n"
     ]
    },
    {
     "name": "stdout",
     "output_type": "stream",
     "text": [
      "Train Loss: 0.4731 | Train Acc: 83.48%\n",
      "Test  Loss: 0.4766 | Test Acc: 83.37%\n",
      "--------------------------------------------------\n",
      "[Epoch 33/100] :\n"
     ]
    },
    {
     "name": "stderr",
     "output_type": "stream",
     "text": [
      "33 Train: 100%|██████| 391/391 [00:48<00:00,  7.99it/s]\n"
     ]
    },
    {
     "name": "stdout",
     "output_type": "stream",
     "text": [
      "Train Loss: 0.4571 | Train Acc: 84.15%\n",
      "Test  Loss: 0.5425 | Test Acc: 82.01%\n",
      "--------------------------------------------------\n",
      "[Epoch 34/100] :\n"
     ]
    },
    {
     "name": "stderr",
     "output_type": "stream",
     "text": [
      "34 Train: 100%|██████| 391/391 [00:49<00:00,  7.89it/s]\n"
     ]
    },
    {
     "name": "stdout",
     "output_type": "stream",
     "text": [
      "Train Loss: 0.4516 | Train Acc: 84.37%\n",
      "Test  Loss: 0.4788 | Test Acc: 83.47%\n",
      "--------------------------------------------------\n",
      "[Epoch 35/100] :\n"
     ]
    },
    {
     "name": "stderr",
     "output_type": "stream",
     "text": [
      "35 Train: 100%|██████| 391/391 [00:48<00:00,  8.02it/s]\n"
     ]
    },
    {
     "name": "stdout",
     "output_type": "stream",
     "text": [
      "Train Loss: 0.4533 | Train Acc: 84.13%\n",
      "Test  Loss: 0.4744 | Test Acc: 83.98%\n",
      "--------------------------------------------------\n",
      "[Epoch 36/100] :\n"
     ]
    },
    {
     "name": "stderr",
     "output_type": "stream",
     "text": [
      "36 Train: 100%|██████| 391/391 [00:50<00:00,  7.79it/s]\n"
     ]
    },
    {
     "name": "stdout",
     "output_type": "stream",
     "text": [
      "Train Loss: 0.4519 | Train Acc: 84.23%\n",
      "Test  Loss: 0.4310 | Test Acc: 85.41%\n",
      "updated best eval loss : 0.43103355810612065\n",
      "--------------------------------------------------\n",
      "[Epoch 37/100] :\n"
     ]
    },
    {
     "name": "stderr",
     "output_type": "stream",
     "text": [
      "37 Train: 100%|██████| 391/391 [00:51<00:00,  7.62it/s]\n"
     ]
    },
    {
     "name": "stdout",
     "output_type": "stream",
     "text": [
      "Train Loss: 0.4442 | Train Acc: 84.67%\n",
      "Test  Loss: 0.4817 | Test Acc: 83.56%\n",
      "--------------------------------------------------\n",
      "[Epoch 38/100] :\n"
     ]
    },
    {
     "name": "stderr",
     "output_type": "stream",
     "text": [
      "38 Train: 100%|██████| 391/391 [00:49<00:00,  7.95it/s]\n"
     ]
    },
    {
     "name": "stdout",
     "output_type": "stream",
     "text": [
      "Train Loss: 0.4404 | Train Acc: 84.56%\n",
      "Test  Loss: 0.5332 | Test Acc: 81.93%\n",
      "--------------------------------------------------\n",
      "[Epoch 39/100] :\n"
     ]
    },
    {
     "name": "stderr",
     "output_type": "stream",
     "text": [
      "39 Train: 100%|██████| 391/391 [00:51<00:00,  7.62it/s]\n"
     ]
    },
    {
     "name": "stdout",
     "output_type": "stream",
     "text": [
      "Train Loss: 0.4401 | Train Acc: 84.69%\n",
      "Test  Loss: 0.5179 | Test Acc: 83.13%\n",
      "--------------------------------------------------\n",
      "[Epoch 40/100] :\n"
     ]
    },
    {
     "name": "stderr",
     "output_type": "stream",
     "text": [
      "40 Train: 100%|██████| 391/391 [00:49<00:00,  7.90it/s]\n"
     ]
    },
    {
     "name": "stdout",
     "output_type": "stream",
     "text": [
      "Train Loss: 0.4326 | Train Acc: 84.90%\n",
      "Test  Loss: 0.4437 | Test Acc: 84.59%\n",
      "--------------------------------------------------\n",
      "[Epoch 41/100] :\n"
     ]
    },
    {
     "name": "stderr",
     "output_type": "stream",
     "text": [
      "41 Train: 100%|██████| 391/391 [00:50<00:00,  7.75it/s]\n"
     ]
    },
    {
     "name": "stdout",
     "output_type": "stream",
     "text": [
      "Train Loss: 0.4237 | Train Acc: 85.34%\n",
      "Test  Loss: 0.3982 | Test Acc: 86.33%\n",
      "updated best eval loss : 0.39822095953211\n",
      "--------------------------------------------------\n",
      "[Epoch 42/100] :\n"
     ]
    },
    {
     "name": "stderr",
     "output_type": "stream",
     "text": [
      "42 Train: 100%|██████| 391/391 [00:49<00:00,  7.90it/s]\n"
     ]
    },
    {
     "name": "stdout",
     "output_type": "stream",
     "text": [
      "Train Loss: 0.4221 | Train Acc: 85.17%\n",
      "Test  Loss: 0.5278 | Test Acc: 82.61%\n",
      "--------------------------------------------------\n",
      "[Epoch 43/100] :\n"
     ]
    },
    {
     "name": "stderr",
     "output_type": "stream",
     "text": [
      "43 Train: 100%|██████| 391/391 [00:50<00:00,  7.71it/s]\n"
     ]
    },
    {
     "name": "stdout",
     "output_type": "stream",
     "text": [
      "Train Loss: 0.4255 | Train Acc: 85.09%\n",
      "Test  Loss: 0.4122 | Test Acc: 85.91%\n",
      "--------------------------------------------------\n",
      "[Epoch 44/100] :\n"
     ]
    },
    {
     "name": "stderr",
     "output_type": "stream",
     "text": [
      "44 Train: 100%|██████| 391/391 [00:49<00:00,  7.88it/s]\n"
     ]
    },
    {
     "name": "stdout",
     "output_type": "stream",
     "text": [
      "Train Loss: 0.4133 | Train Acc: 85.62%\n",
      "Test  Loss: 0.4996 | Test Acc: 83.36%\n",
      "--------------------------------------------------\n",
      "[Epoch 45/100] :\n"
     ]
    },
    {
     "name": "stderr",
     "output_type": "stream",
     "text": [
      "45 Train: 100%|██████| 391/391 [00:49<00:00,  7.83it/s]\n"
     ]
    },
    {
     "name": "stdout",
     "output_type": "stream",
     "text": [
      "Train Loss: 0.4106 | Train Acc: 85.72%\n",
      "Test  Loss: 0.5068 | Test Acc: 83.15%\n",
      "--------------------------------------------------\n",
      "[Epoch 46/100] :\n"
     ]
    },
    {
     "name": "stderr",
     "output_type": "stream",
     "text": [
      "46 Train: 100%|██████| 391/391 [00:49<00:00,  7.94it/s]\n"
     ]
    },
    {
     "name": "stdout",
     "output_type": "stream",
     "text": [
      "Train Loss: 0.4079 | Train Acc: 85.59%\n",
      "Test  Loss: 0.4607 | Test Acc: 84.59%\n",
      "--------------------------------------------------\n",
      "[Epoch 47/100] :\n"
     ]
    },
    {
     "name": "stderr",
     "output_type": "stream",
     "text": [
      "47 Train: 100%|██████| 391/391 [00:48<00:00,  8.05it/s]\n"
     ]
    },
    {
     "name": "stdout",
     "output_type": "stream",
     "text": [
      "Train Loss: 0.4070 | Train Acc: 85.84%\n",
      "Test  Loss: 0.4727 | Test Acc: 84.22%\n",
      "--------------------------------------------------\n",
      "[Epoch 48/100] :\n"
     ]
    },
    {
     "name": "stderr",
     "output_type": "stream",
     "text": [
      "48 Train: 100%|██████| 391/391 [00:50<00:00,  7.79it/s]\n"
     ]
    },
    {
     "name": "stdout",
     "output_type": "stream",
     "text": [
      "Train Loss: 0.4090 | Train Acc: 85.74%\n",
      "Test  Loss: 0.4512 | Test Acc: 84.69%\n",
      "--------------------------------------------------\n",
      "[Epoch 49/100] :\n"
     ]
    },
    {
     "name": "stderr",
     "output_type": "stream",
     "text": [
      "49 Train: 100%|██████| 391/391 [00:47<00:00,  8.19it/s]\n"
     ]
    },
    {
     "name": "stdout",
     "output_type": "stream",
     "text": [
      "Train Loss: 0.3979 | Train Acc: 86.14%\n",
      "Test  Loss: 0.5571 | Test Acc: 82.49%\n",
      "--------------------------------------------------\n",
      "[Epoch 50/100] :\n"
     ]
    },
    {
     "name": "stderr",
     "output_type": "stream",
     "text": [
      "50 Train: 100%|██████| 391/391 [00:50<00:00,  7.74it/s]\n"
     ]
    },
    {
     "name": "stdout",
     "output_type": "stream",
     "text": [
      "Train Loss: 0.3985 | Train Acc: 86.14%\n",
      "Test  Loss: 0.4327 | Test Acc: 85.47%\n",
      "--------------------------------------------------\n",
      "[Epoch 51/100] :\n"
     ]
    },
    {
     "name": "stderr",
     "output_type": "stream",
     "text": [
      "51 Train: 100%|██████| 391/391 [00:48<00:00,  8.04it/s]\n"
     ]
    },
    {
     "name": "stdout",
     "output_type": "stream",
     "text": [
      "Train Loss: 0.3981 | Train Acc: 86.05%\n",
      "Test  Loss: 0.5167 | Test Acc: 83.04%\n",
      "--------------------------------------------------\n",
      "[Epoch 52/100] :\n"
     ]
    },
    {
     "name": "stderr",
     "output_type": "stream",
     "text": [
      "52 Train: 100%|██████| 391/391 [00:50<00:00,  7.69it/s]\n"
     ]
    },
    {
     "name": "stdout",
     "output_type": "stream",
     "text": [
      "Train Loss: 0.3936 | Train Acc: 86.30%\n",
      "Test  Loss: 0.4568 | Test Acc: 84.51%\n",
      "--------------------------------------------------\n",
      "[Epoch 53/100] :\n"
     ]
    },
    {
     "name": "stderr",
     "output_type": "stream",
     "text": [
      "53 Train: 100%|██████| 391/391 [00:47<00:00,  8.17it/s]\n"
     ]
    },
    {
     "name": "stdout",
     "output_type": "stream",
     "text": [
      "Train Loss: 0.3941 | Train Acc: 86.25%\n",
      "Test  Loss: 0.4899 | Test Acc: 83.54%\n",
      "--------------------------------------------------\n",
      "[Epoch 54/100] :\n"
     ]
    },
    {
     "name": "stderr",
     "output_type": "stream",
     "text": [
      "54 Train: 100%|██████| 391/391 [00:50<00:00,  7.74it/s]\n"
     ]
    },
    {
     "name": "stdout",
     "output_type": "stream",
     "text": [
      "Train Loss: 0.3887 | Train Acc: 86.53%\n",
      "Test  Loss: 0.5088 | Test Acc: 82.62%\n",
      "--------------------------------------------------\n",
      "[Epoch 55/100] :\n"
     ]
    },
    {
     "name": "stderr",
     "output_type": "stream",
     "text": [
      "55 Train: 100%|██████| 391/391 [00:50<00:00,  7.72it/s]\n"
     ]
    },
    {
     "name": "stdout",
     "output_type": "stream",
     "text": [
      "Train Loss: 0.3875 | Train Acc: 86.56%\n",
      "Test  Loss: 0.4560 | Test Acc: 84.29%\n",
      "--------------------------------------------------\n",
      "[Epoch 56/100] :\n"
     ]
    },
    {
     "name": "stderr",
     "output_type": "stream",
     "text": [
      "56 Train: 100%|██████| 391/391 [00:48<00:00,  7.98it/s]\n"
     ]
    },
    {
     "name": "stdout",
     "output_type": "stream",
     "text": [
      "Train Loss: 0.3859 | Train Acc: 86.48%\n",
      "Test  Loss: 0.4529 | Test Acc: 84.83%\n",
      "--------------------------------------------------\n",
      "[Epoch 57/100] :\n"
     ]
    },
    {
     "name": "stderr",
     "output_type": "stream",
     "text": [
      "57 Train: 100%|██████| 391/391 [00:50<00:00,  7.74it/s]\n"
     ]
    },
    {
     "name": "stdout",
     "output_type": "stream",
     "text": [
      "Train Loss: 0.3752 | Train Acc: 86.95%\n",
      "Test  Loss: 0.4640 | Test Acc: 85.11%\n",
      "--------------------------------------------------\n",
      "[Epoch 58/100] :\n"
     ]
    },
    {
     "name": "stderr",
     "output_type": "stream",
     "text": [
      "58 Train: 100%|██████| 391/391 [00:47<00:00,  8.18it/s]\n"
     ]
    },
    {
     "name": "stdout",
     "output_type": "stream",
     "text": [
      "Train Loss: 0.3850 | Train Acc: 86.76%\n",
      "Test  Loss: 0.4571 | Test Acc: 84.55%\n",
      "--------------------------------------------------\n",
      "[Epoch 59/100] :\n"
     ]
    },
    {
     "name": "stderr",
     "output_type": "stream",
     "text": [
      "59 Train: 100%|██████| 391/391 [00:51<00:00,  7.64it/s]\n"
     ]
    },
    {
     "name": "stdout",
     "output_type": "stream",
     "text": [
      "Train Loss: 0.3821 | Train Acc: 86.71%\n",
      "Test  Loss: 0.4074 | Test Acc: 86.21%\n",
      "--------------------------------------------------\n",
      "[Epoch 60/100] :\n"
     ]
    },
    {
     "name": "stderr",
     "output_type": "stream",
     "text": [
      "60 Train: 100%|██████| 391/391 [00:49<00:00,  7.85it/s]\n"
     ]
    },
    {
     "name": "stdout",
     "output_type": "stream",
     "text": [
      "Train Loss: 0.3784 | Train Acc: 86.72%\n",
      "Test  Loss: 0.5025 | Test Acc: 83.63%\n",
      "--------------------------------------------------\n",
      "[Epoch 61/100] :\n"
     ]
    },
    {
     "name": "stderr",
     "output_type": "stream",
     "text": [
      "61 Train: 100%|██████| 391/391 [00:50<00:00,  7.73it/s]\n"
     ]
    },
    {
     "name": "stdout",
     "output_type": "stream",
     "text": [
      "Train Loss: 0.3712 | Train Acc: 87.09%\n",
      "Test  Loss: 0.5489 | Test Acc: 82.50%\n",
      "--------------------------------------------------\n",
      "[Epoch 62/100] :\n"
     ]
    },
    {
     "name": "stderr",
     "output_type": "stream",
     "text": [
      "62 Train: 100%|██████| 391/391 [00:48<00:00,  8.04it/s]\n"
     ]
    },
    {
     "name": "stdout",
     "output_type": "stream",
     "text": [
      "Train Loss: 0.3768 | Train Acc: 86.98%\n",
      "Test  Loss: 0.4887 | Test Acc: 83.80%\n",
      "--------------------------------------------------\n",
      "[Epoch 63/100] :\n"
     ]
    },
    {
     "name": "stderr",
     "output_type": "stream",
     "text": [
      "63 Train: 100%|██████| 391/391 [00:51<00:00,  7.54it/s]\n"
     ]
    },
    {
     "name": "stdout",
     "output_type": "stream",
     "text": [
      "Train Loss: 0.3732 | Train Acc: 86.95%\n",
      "Test  Loss: 0.5000 | Test Acc: 84.01%\n",
      "--------------------------------------------------\n",
      "[Epoch 64/100] :\n"
     ]
    },
    {
     "name": "stderr",
     "output_type": "stream",
     "text": [
      "64 Train: 100%|██████| 391/391 [00:49<00:00,  7.93it/s]\n"
     ]
    },
    {
     "name": "stdout",
     "output_type": "stream",
     "text": [
      "Train Loss: 0.3750 | Train Acc: 86.87%\n",
      "Test  Loss: 0.4884 | Test Acc: 83.33%\n",
      "--------------------------------------------------\n",
      "[Epoch 65/100] :\n"
     ]
    },
    {
     "name": "stderr",
     "output_type": "stream",
     "text": [
      "65 Train: 100%|██████| 391/391 [00:51<00:00,  7.58it/s]\n"
     ]
    },
    {
     "name": "stdout",
     "output_type": "stream",
     "text": [
      "Train Loss: 0.3681 | Train Acc: 87.19%\n",
      "Test  Loss: 0.4601 | Test Acc: 84.63%\n",
      "--------------------------------------------------\n",
      "[Epoch 66/100] :\n"
     ]
    },
    {
     "name": "stderr",
     "output_type": "stream",
     "text": [
      "66 Train: 100%|██████| 391/391 [00:49<00:00,  7.87it/s]\n"
     ]
    },
    {
     "name": "stdout",
     "output_type": "stream",
     "text": [
      "Train Loss: 0.3698 | Train Acc: 87.23%\n",
      "Test  Loss: 0.4567 | Test Acc: 84.51%\n",
      "--------------------------------------------------\n",
      "[Epoch 67/100] :\n"
     ]
    },
    {
     "name": "stderr",
     "output_type": "stream",
     "text": [
      "67 Train: 100%|██████| 391/391 [00:48<00:00,  8.09it/s]\n"
     ]
    },
    {
     "name": "stdout",
     "output_type": "stream",
     "text": [
      "Train Loss: 0.3653 | Train Acc: 87.18%\n",
      "Test  Loss: 0.4507 | Test Acc: 84.72%\n",
      "--------------------------------------------------\n",
      "[Epoch 68/100] :\n"
     ]
    },
    {
     "name": "stderr",
     "output_type": "stream",
     "text": [
      "68 Train: 100%|██████| 391/391 [00:51<00:00,  7.60it/s]\n"
     ]
    },
    {
     "name": "stdout",
     "output_type": "stream",
     "text": [
      "Train Loss: 0.3581 | Train Acc: 87.59%\n",
      "Test  Loss: 0.4310 | Test Acc: 85.58%\n",
      "--------------------------------------------------\n",
      "[Epoch 69/100] :\n"
     ]
    },
    {
     "name": "stderr",
     "output_type": "stream",
     "text": [
      "69 Train: 100%|██████| 391/391 [00:49<00:00,  7.97it/s]\n"
     ]
    },
    {
     "name": "stdout",
     "output_type": "stream",
     "text": [
      "Train Loss: 0.3672 | Train Acc: 87.20%\n",
      "Test  Loss: 0.4052 | Test Acc: 86.40%\n",
      "--------------------------------------------------\n",
      "[Epoch 70/100] :\n"
     ]
    },
    {
     "name": "stderr",
     "output_type": "stream",
     "text": [
      "70 Train: 100%|██████| 391/391 [00:48<00:00,  7.99it/s]\n"
     ]
    },
    {
     "name": "stdout",
     "output_type": "stream",
     "text": [
      "Train Loss: 0.3650 | Train Acc: 87.27%\n",
      "Test  Loss: 0.4475 | Test Acc: 84.65%\n",
      "--------------------------------------------------\n",
      "[Epoch 71/100] :\n"
     ]
    },
    {
     "name": "stderr",
     "output_type": "stream",
     "text": [
      "71 Train: 100%|██████| 391/391 [00:49<00:00,  7.98it/s]\n"
     ]
    },
    {
     "name": "stdout",
     "output_type": "stream",
     "text": [
      "Train Loss: 0.3592 | Train Acc: 87.59%\n",
      "Test  Loss: 0.4952 | Test Acc: 83.90%\n",
      "--------------------------------------------------\n",
      "[Epoch 72/100] :\n"
     ]
    },
    {
     "name": "stderr",
     "output_type": "stream",
     "text": [
      "72 Train: 100%|██████| 391/391 [00:50<00:00,  7.81it/s]\n"
     ]
    },
    {
     "name": "stdout",
     "output_type": "stream",
     "text": [
      "Train Loss: 0.3586 | Train Acc: 87.40%\n",
      "Test  Loss: 0.4470 | Test Acc: 85.09%\n",
      "--------------------------------------------------\n",
      "[Epoch 73/100] :\n"
     ]
    },
    {
     "name": "stderr",
     "output_type": "stream",
     "text": [
      "73 Train: 100%|██████| 391/391 [00:48<00:00,  8.14it/s]\n"
     ]
    },
    {
     "name": "stdout",
     "output_type": "stream",
     "text": [
      "Train Loss: 0.3573 | Train Acc: 87.53%\n",
      "Test  Loss: 0.4893 | Test Acc: 83.75%\n",
      "--------------------------------------------------\n",
      "[Epoch 74/100] :\n"
     ]
    },
    {
     "name": "stderr",
     "output_type": "stream",
     "text": [
      "74 Train: 100%|██████| 391/391 [00:49<00:00,  7.91it/s]\n"
     ]
    },
    {
     "name": "stdout",
     "output_type": "stream",
     "text": [
      "Train Loss: 0.3574 | Train Acc: 87.67%\n",
      "Test  Loss: 0.4869 | Test Acc: 83.70%\n",
      "--------------------------------------------------\n",
      "[Epoch 75/100] :\n"
     ]
    },
    {
     "name": "stderr",
     "output_type": "stream",
     "text": [
      "75 Train: 100%|██████| 391/391 [00:48<00:00,  8.06it/s]\n"
     ]
    },
    {
     "name": "stdout",
     "output_type": "stream",
     "text": [
      "Train Loss: 0.3534 | Train Acc: 87.68%\n",
      "Test  Loss: 0.4797 | Test Acc: 84.38%\n",
      "--------------------------------------------------\n",
      "[Epoch 76/100] :\n"
     ]
    },
    {
     "name": "stderr",
     "output_type": "stream",
     "text": [
      "76 Train: 100%|██████| 391/391 [00:49<00:00,  7.91it/s]\n"
     ]
    },
    {
     "name": "stdout",
     "output_type": "stream",
     "text": [
      "Train Loss: 0.3509 | Train Acc: 87.83%\n",
      "Test  Loss: 0.4640 | Test Acc: 84.74%\n",
      "--------------------------------------------------\n",
      "[Epoch 77/100] :\n"
     ]
    },
    {
     "name": "stderr",
     "output_type": "stream",
     "text": [
      "77 Train: 100%|██████| 391/391 [00:49<00:00,  7.88it/s]\n"
     ]
    },
    {
     "name": "stdout",
     "output_type": "stream",
     "text": [
      "Train Loss: 0.3474 | Train Acc: 87.87%\n",
      "Test  Loss: 0.4781 | Test Acc: 84.43%\n",
      "--------------------------------------------------\n",
      "[Epoch 78/100] :\n"
     ]
    },
    {
     "name": "stderr",
     "output_type": "stream",
     "text": [
      "78 Train: 100%|██████| 391/391 [00:49<00:00,  7.93it/s]\n"
     ]
    },
    {
     "name": "stdout",
     "output_type": "stream",
     "text": [
      "Train Loss: 0.3496 | Train Acc: 87.90%\n",
      "Test  Loss: 0.4582 | Test Acc: 84.85%\n",
      "--------------------------------------------------\n",
      "[Epoch 79/100] :\n"
     ]
    },
    {
     "name": "stderr",
     "output_type": "stream",
     "text": [
      "79 Train: 100%|██████| 391/391 [00:50<00:00,  7.81it/s]\n"
     ]
    },
    {
     "name": "stdout",
     "output_type": "stream",
     "text": [
      "Train Loss: 0.3499 | Train Acc: 87.78%\n",
      "Test  Loss: 0.4538 | Test Acc: 84.90%\n",
      "--------------------------------------------------\n",
      "[Epoch 80/100] :\n"
     ]
    },
    {
     "name": "stderr",
     "output_type": "stream",
     "text": [
      "80 Train: 100%|██████| 391/391 [00:48<00:00,  8.11it/s]\n"
     ]
    },
    {
     "name": "stdout",
     "output_type": "stream",
     "text": [
      "Train Loss: 0.3461 | Train Acc: 88.10%\n",
      "Test  Loss: 0.4113 | Test Acc: 86.69%\n",
      "--------------------------------------------------\n",
      "[Epoch 81/100] :\n"
     ]
    },
    {
     "name": "stderr",
     "output_type": "stream",
     "text": [
      "81 Train: 100%|██████| 391/391 [00:51<00:00,  7.62it/s]\n"
     ]
    },
    {
     "name": "stdout",
     "output_type": "stream",
     "text": [
      "Train Loss: 0.3545 | Train Acc: 87.64%\n",
      "Test  Loss: 0.4261 | Test Acc: 85.91%\n",
      "--------------------------------------------------\n",
      "[Epoch 82/100] :\n"
     ]
    },
    {
     "name": "stderr",
     "output_type": "stream",
     "text": [
      "82 Train: 100%|██████| 391/391 [00:49<00:00,  7.92it/s]\n"
     ]
    },
    {
     "name": "stdout",
     "output_type": "stream",
     "text": [
      "Train Loss: 0.3460 | Train Acc: 87.94%\n",
      "Test  Loss: 0.4406 | Test Acc: 85.28%\n",
      "--------------------------------------------------\n",
      "[Epoch 83/100] :\n"
     ]
    },
    {
     "name": "stderr",
     "output_type": "stream",
     "text": [
      "83 Train: 100%|██████| 391/391 [00:50<00:00,  7.77it/s]\n"
     ]
    },
    {
     "name": "stdout",
     "output_type": "stream",
     "text": [
      "Train Loss: 0.3418 | Train Acc: 88.03%\n",
      "Test  Loss: 0.3888 | Test Acc: 86.90%\n",
      "updated best eval loss : 0.38884796881223027\n",
      "--------------------------------------------------\n",
      "[Epoch 84/100] :\n"
     ]
    },
    {
     "name": "stderr",
     "output_type": "stream",
     "text": [
      "84 Train: 100%|██████| 391/391 [00:49<00:00,  7.97it/s]\n"
     ]
    },
    {
     "name": "stdout",
     "output_type": "stream",
     "text": [
      "Train Loss: 0.3451 | Train Acc: 88.06%\n",
      "Test  Loss: 0.4481 | Test Acc: 85.30%\n",
      "--------------------------------------------------\n",
      "[Epoch 85/100] :\n"
     ]
    },
    {
     "name": "stderr",
     "output_type": "stream",
     "text": [
      "85 Train: 100%|██████| 391/391 [00:49<00:00,  7.87it/s]\n"
     ]
    },
    {
     "name": "stdout",
     "output_type": "stream",
     "text": [
      "Train Loss: 0.3408 | Train Acc: 88.22%\n",
      "Test  Loss: 0.4740 | Test Acc: 84.64%\n",
      "--------------------------------------------------\n",
      "[Epoch 86/100] :\n"
     ]
    },
    {
     "name": "stderr",
     "output_type": "stream",
     "text": [
      "86 Train: 100%|██████| 391/391 [00:49<00:00,  7.90it/s]\n"
     ]
    },
    {
     "name": "stdout",
     "output_type": "stream",
     "text": [
      "Train Loss: 0.3418 | Train Acc: 87.95%\n",
      "Test  Loss: 0.4631 | Test Acc: 85.32%\n",
      "--------------------------------------------------\n",
      "[Epoch 87/100] :\n"
     ]
    },
    {
     "name": "stderr",
     "output_type": "stream",
     "text": [
      "87 Train: 100%|██████| 391/391 [00:49<00:00,  7.86it/s]\n"
     ]
    },
    {
     "name": "stdout",
     "output_type": "stream",
     "text": [
      "Train Loss: 0.3402 | Train Acc: 88.23%\n",
      "Test  Loss: 0.4661 | Test Acc: 84.83%\n",
      "--------------------------------------------------\n",
      "[Epoch 88/100] :\n"
     ]
    },
    {
     "name": "stderr",
     "output_type": "stream",
     "text": [
      "88 Train: 100%|██████| 391/391 [00:49<00:00,  7.84it/s]\n"
     ]
    },
    {
     "name": "stdout",
     "output_type": "stream",
     "text": [
      "Train Loss: 0.3414 | Train Acc: 88.16%\n",
      "Test  Loss: 0.4392 | Test Acc: 85.44%\n",
      "--------------------------------------------------\n",
      "[Epoch 89/100] :\n"
     ]
    },
    {
     "name": "stderr",
     "output_type": "stream",
     "text": [
      "89 Train: 100%|██████| 391/391 [00:49<00:00,  7.86it/s]\n"
     ]
    },
    {
     "name": "stdout",
     "output_type": "stream",
     "text": [
      "Train Loss: 0.3383 | Train Acc: 88.23%\n",
      "Test  Loss: 0.4442 | Test Acc: 85.68%\n",
      "--------------------------------------------------\n",
      "[Epoch 90/100] :\n"
     ]
    },
    {
     "name": "stderr",
     "output_type": "stream",
     "text": [
      "90 Train: 100%|██████| 391/391 [00:50<00:00,  7.76it/s]\n"
     ]
    },
    {
     "name": "stdout",
     "output_type": "stream",
     "text": [
      "Train Loss: 0.3367 | Train Acc: 88.29%\n",
      "Test  Loss: 0.4345 | Test Acc: 86.13%\n",
      "--------------------------------------------------\n",
      "[Epoch 91/100] :\n"
     ]
    },
    {
     "name": "stderr",
     "output_type": "stream",
     "text": [
      "91 Train: 100%|██████| 391/391 [00:50<00:00,  7.79it/s]\n"
     ]
    },
    {
     "name": "stdout",
     "output_type": "stream",
     "text": [
      "Train Loss: 0.3337 | Train Acc: 88.33%\n",
      "Test  Loss: 0.4836 | Test Acc: 84.89%\n",
      "--------------------------------------------------\n",
      "[Epoch 92/100] :\n"
     ]
    },
    {
     "name": "stderr",
     "output_type": "stream",
     "text": [
      "92 Train: 100%|██████| 391/391 [00:49<00:00,  7.87it/s]\n"
     ]
    },
    {
     "name": "stdout",
     "output_type": "stream",
     "text": [
      "Train Loss: 0.3355 | Train Acc: 88.32%\n",
      "Test  Loss: 0.4052 | Test Acc: 86.51%\n",
      "--------------------------------------------------\n",
      "[Epoch 93/100] :\n"
     ]
    },
    {
     "name": "stderr",
     "output_type": "stream",
     "text": [
      "93 Train: 100%|██████| 391/391 [00:48<00:00,  8.13it/s]\n"
     ]
    },
    {
     "name": "stdout",
     "output_type": "stream",
     "text": [
      "Train Loss: 0.3332 | Train Acc: 88.53%\n",
      "Test  Loss: 0.4189 | Test Acc: 86.49%\n",
      "--------------------------------------------------\n",
      "[Epoch 94/100] :\n"
     ]
    },
    {
     "name": "stderr",
     "output_type": "stream",
     "text": [
      "94 Train: 100%|██████| 391/391 [00:50<00:00,  7.74it/s]\n"
     ]
    },
    {
     "name": "stdout",
     "output_type": "stream",
     "text": [
      "Train Loss: 0.3324 | Train Acc: 88.45%\n",
      "Test  Loss: 0.4186 | Test Acc: 86.89%\n",
      "--------------------------------------------------\n",
      "[Epoch 95/100] :\n"
     ]
    },
    {
     "name": "stderr",
     "output_type": "stream",
     "text": [
      "95 Train: 100%|██████| 391/391 [00:47<00:00,  8.17it/s]\n"
     ]
    },
    {
     "name": "stdout",
     "output_type": "stream",
     "text": [
      "Train Loss: 0.3386 | Train Acc: 88.30%\n",
      "Test  Loss: 0.3817 | Test Acc: 87.55%\n",
      "updated best eval loss : 0.38170415313937994\n",
      "--------------------------------------------------\n",
      "[Epoch 96/100] :\n"
     ]
    },
    {
     "name": "stderr",
     "output_type": "stream",
     "text": [
      "96 Train: 100%|██████| 391/391 [00:49<00:00,  7.89it/s]\n"
     ]
    },
    {
     "name": "stdout",
     "output_type": "stream",
     "text": [
      "Train Loss: 0.3346 | Train Acc: 88.36%\n",
      "Test  Loss: 0.4472 | Test Acc: 85.53%\n",
      "--------------------------------------------------\n",
      "[Epoch 97/100] :\n"
     ]
    },
    {
     "name": "stderr",
     "output_type": "stream",
     "text": [
      "97 Train: 100%|██████| 391/391 [00:49<00:00,  7.97it/s]\n"
     ]
    },
    {
     "name": "stdout",
     "output_type": "stream",
     "text": [
      "Train Loss: 0.3279 | Train Acc: 88.56%\n",
      "Test  Loss: 0.4156 | Test Acc: 86.00%\n",
      "--------------------------------------------------\n",
      "[Epoch 98/100] :\n"
     ]
    },
    {
     "name": "stderr",
     "output_type": "stream",
     "text": [
      "98 Train: 100%|██████| 391/391 [00:45<00:00,  8.64it/s]\n"
     ]
    },
    {
     "name": "stdout",
     "output_type": "stream",
     "text": [
      "Train Loss: 0.3294 | Train Acc: 88.48%\n",
      "Test  Loss: 0.4623 | Test Acc: 85.12%\n",
      "--------------------------------------------------\n",
      "[Epoch 99/100] :\n"
     ]
    },
    {
     "name": "stderr",
     "output_type": "stream",
     "text": [
      "99 Train: 100%|██████| 391/391 [00:39<00:00,  9.82it/s]\n"
     ]
    },
    {
     "name": "stdout",
     "output_type": "stream",
     "text": [
      "Train Loss: 0.3260 | Train Acc: 88.51%\n",
      "Test  Loss: 0.4306 | Test Acc: 85.91%\n",
      "--------------------------------------------------\n",
      "[Epoch 100/100] :\n"
     ]
    },
    {
     "name": "stderr",
     "output_type": "stream",
     "text": [
      "100 Train: 100%|█████| 391/391 [00:36<00:00, 10.73it/s]\n"
     ]
    },
    {
     "name": "stdout",
     "output_type": "stream",
     "text": [
      "Train Loss: 0.3227 | Train Acc: 88.74%\n",
      "Test  Loss: 0.4294 | Test Acc: 86.15%\n",
      "--------------------------------------------------\n"
     ]
    }
   ],
   "source": [
    "Training = DoTraining(\n",
    "    model=model,\n",
    "    criterion=criterion,\n",
    "    optimizer=optimizer,\n",
    "    scaler=scaler,\n",
    "    scheduler=scheduler,\n",
    "    earlystopper=earlystopper,\n",
    "    device=device,\n",
    "    logs=logs,\n",
    "    file_path=file_name,\n",
    ")\n",
    "pre_epochs = len(Training.logs[\"train_loss\"])\n",
    "\n",
    "for epoch in range(NUM_EPOCHS):\n",
    "    now = epoch + 1 + pre_epochs\n",
    "    print(f\"[Epoch {epoch+1+pre_epochs}/{NUM_EPOCHS}] :\")\n",
    "\n",
    "    if DATASET == \"ImageNet2012\":\n",
    "        eval_loss = Training.SingleEpoch(train_dataloader, valid_dataloader)\n",
    "    else:\n",
    "        eval_loss = Training.SingleEpoch(\n",
    "            train_dataloader, valid_dataloader, test_dataloader\n",
    "        )\n",
    "\n",
    "    Training.Save()\n",
    "\n",
    "    \n",
    "    \n",
    "    if earlystopper.check(eval_loss) == True:\n",
    "        break\n",
    "\n",
    "    print(\"-\" * 50)"
   ]
  },
  {
   "cell_type": "code",
   "execution_count": 17,
   "metadata": {},
   "outputs": [
    {
     "data": {
      "image/png": "[encoded data removed]",
      "text/plain": [
       "<Figure size 1000x500 with 2 Axes>"
      ]
     },
     "metadata": {},
     "output_type": "display_data"
    }
   ],
   "source": [
    "view = LogViewer(logs)\n",
    "view.draw(save_name=file_name)"
   ]
  },
  {
   "cell_type": "code",
   "execution_count": 18,
   "metadata": {},
   "outputs": [
    {
     "name": "stdout",
     "output_type": "stream",
     "text": [
      "1 epoch: train_loss=1.6936, train_acc=0.3878, test_loss=1.4143, test_acc=0.5055, lr=0.0010\n",
      "2 epoch: train_loss=1.2651, train_acc=0.5486, test_loss=1.7357, test_acc=0.4721, lr=0.0010\n",
      "3 epoch: train_loss=1.0715, train_acc=0.6209, test_loss=0.9703, test_acc=0.6547, lr=0.0010\n",
      "4 epoch: train_loss=0.9703, train_acc=0.6576, test_loss=1.0866, test_acc=0.6441, lr=0.0010\n",
      "5 epoch: train_loss=0.8939, train_acc=0.6867, test_loss=1.0898, test_acc=0.6389, lr=0.0010\n",
      "6 epoch: train_loss=0.8330, train_acc=0.7075, test_loss=0.7587, test_acc=0.7399, lr=0.0010\n",
      "7 epoch: train_loss=0.7885, train_acc=0.7242, test_loss=0.7902, test_acc=0.7307, lr=0.0010\n",
      "8 epoch: train_loss=0.7548, train_acc=0.7374, test_loss=0.8434, test_acc=0.7243, lr=0.0010\n",
      "9 epoch: train_loss=0.7237, train_acc=0.7471, test_loss=0.9506, test_acc=0.7007, lr=0.0010\n",
      "10 epoch: train_loss=0.6966, train_acc=0.7569, test_loss=0.7416, test_acc=0.7605, lr=0.0010\n",
      "11 epoch: train_loss=0.6757, train_acc=0.7646, test_loss=0.6064, test_acc=0.7945, lr=0.0010\n",
      "12 epoch: train_loss=0.6572, train_acc=0.7713, test_loss=0.6701, test_acc=0.7725, lr=0.0010\n",
      "13 epoch: train_loss=0.6383, train_acc=0.7778, test_loss=0.6897, test_acc=0.7660, lr=0.0010\n",
      "14 epoch: train_loss=0.6280, train_acc=0.7816, test_loss=0.5654, test_acc=0.8045, lr=0.0010\n",
      "15 epoch: train_loss=0.6078, train_acc=0.7897, test_loss=0.6187, test_acc=0.7980, lr=0.0010\n",
      "16 epoch: train_loss=0.5996, train_acc=0.7901, test_loss=0.5360, test_acc=0.8125, lr=0.0010\n",
      "17 epoch: train_loss=0.5792, train_acc=0.7992, test_loss=0.5530, test_acc=0.8162, lr=0.0010\n",
      "18 epoch: train_loss=0.5659, train_acc=0.8025, test_loss=0.6063, test_acc=0.7932, lr=0.0010\n",
      "19 epoch: train_loss=0.5556, train_acc=0.8083, test_loss=0.5796, test_acc=0.8010, lr=0.0010\n",
      "20 epoch: train_loss=0.5505, train_acc=0.8069, test_loss=0.7434, test_acc=0.7588, lr=0.0010\n",
      "21 epoch: train_loss=0.5344, train_acc=0.8136, test_loss=0.6227, test_acc=0.7900, lr=0.0010\n",
      "22 epoch: train_loss=0.5300, train_acc=0.8156, test_loss=0.6055, test_acc=0.8017, lr=0.0010\n",
      "23 epoch: train_loss=0.5185, train_acc=0.8188, test_loss=0.5491, test_acc=0.8126, lr=0.0010\n",
      "24 epoch: train_loss=0.5196, train_acc=0.8190, test_loss=0.5238, test_acc=0.8219, lr=0.0010\n",
      "25 epoch: train_loss=0.5027, train_acc=0.8257, test_loss=0.5210, test_acc=0.8228, lr=0.0010\n",
      "26 epoch: train_loss=0.4957, train_acc=0.8256, test_loss=0.4964, test_acc=0.8328, lr=0.0010\n",
      "27 epoch: train_loss=0.4944, train_acc=0.8292, test_loss=0.6660, test_acc=0.7825, lr=0.0010\n",
      "28 epoch: train_loss=0.4873, train_acc=0.8294, test_loss=0.4579, test_acc=0.8432, lr=0.0010\n",
      "29 epoch: train_loss=0.4798, train_acc=0.8325, test_loss=0.4795, test_acc=0.8377, lr=0.0010\n",
      "30 epoch: train_loss=0.4757, train_acc=0.8344, test_loss=0.5985, test_acc=0.8050, lr=0.0010\n",
      "31 epoch: train_loss=0.4733, train_acc=0.8357, test_loss=0.5449, test_acc=0.8118, lr=0.0010\n",
      "32 epoch: train_loss=0.4731, train_acc=0.8348, test_loss=0.4766, test_acc=0.8337, lr=0.0010\n",
      "33 epoch: train_loss=0.4571, train_acc=0.8415, test_loss=0.5425, test_acc=0.8201, lr=0.0010\n",
      "34 epoch: train_loss=0.4516, train_acc=0.8437, test_loss=0.4788, test_acc=0.8347, lr=0.0010\n",
      "35 epoch: train_loss=0.4533, train_acc=0.8413, test_loss=0.4744, test_acc=0.8398, lr=0.0010\n",
      "36 epoch: train_loss=0.4519, train_acc=0.8423, test_loss=0.4310, test_acc=0.8541, lr=0.0010\n",
      "37 epoch: train_loss=0.4442, train_acc=0.8467, test_loss=0.4817, test_acc=0.8356, lr=0.0010\n",
      "38 epoch: train_loss=0.4404, train_acc=0.8456, test_loss=0.5332, test_acc=0.8193, lr=0.0010\n",
      "39 epoch: train_loss=0.4401, train_acc=0.8469, test_loss=0.5179, test_acc=0.8313, lr=0.0010\n",
      "40 epoch: train_loss=0.4326, train_acc=0.8490, test_loss=0.4437, test_acc=0.8459, lr=0.0010\n",
      "41 epoch: train_loss=0.4237, train_acc=0.8534, test_loss=0.3982, test_acc=0.8633, lr=0.0010\n",
      "42 epoch: train_loss=0.4221, train_acc=0.8517, test_loss=0.5278, test_acc=0.8261, lr=0.0010\n",
      "43 epoch: train_loss=0.4255, train_acc=0.8509, test_loss=0.4122, test_acc=0.8591, lr=0.0010\n",
      "44 epoch: train_loss=0.4133, train_acc=0.8562, test_loss=0.4996, test_acc=0.8336, lr=0.0010\n",
      "45 epoch: train_loss=0.4106, train_acc=0.8572, test_loss=0.5068, test_acc=0.8315, lr=0.0010\n",
      "46 epoch: train_loss=0.4079, train_acc=0.8559, test_loss=0.4607, test_acc=0.8459, lr=0.0010\n",
      "47 epoch: train_loss=0.4070, train_acc=0.8584, test_loss=0.4727, test_acc=0.8422, lr=0.0010\n",
      "48 epoch: train_loss=0.4090, train_acc=0.8574, test_loss=0.4512, test_acc=0.8469, lr=0.0010\n",
      "49 epoch: train_loss=0.3979, train_acc=0.8614, test_loss=0.5571, test_acc=0.8249, lr=0.0010\n",
      "50 epoch: train_loss=0.3985, train_acc=0.8614, test_loss=0.4327, test_acc=0.8547, lr=0.0010\n",
      "51 epoch: train_loss=0.3981, train_acc=0.8605, test_loss=0.5167, test_acc=0.8304, lr=0.0010\n",
      "52 epoch: train_loss=0.3936, train_acc=0.8630, test_loss=0.4568, test_acc=0.8451, lr=0.0010\n",
      "53 epoch: train_loss=0.3941, train_acc=0.8625, test_loss=0.4899, test_acc=0.8354, lr=0.0010\n",
      "54 epoch: train_loss=0.3887, train_acc=0.8653, test_loss=0.5088, test_acc=0.8262, lr=0.0010\n",
      "55 epoch: train_loss=0.3875, train_acc=0.8656, test_loss=0.4560, test_acc=0.8429, lr=0.0010\n",
      "56 epoch: train_loss=0.3859, train_acc=0.8648, test_loss=0.4529, test_acc=0.8483, lr=0.0010\n",
      "57 epoch: train_loss=0.3752, train_acc=0.8695, test_loss=0.4640, test_acc=0.8511, lr=0.0010\n",
      "58 epoch: train_loss=0.3850, train_acc=0.8676, test_loss=0.4571, test_acc=0.8455, lr=0.0010\n",
      "59 epoch: train_loss=0.3821, train_acc=0.8671, test_loss=0.4074, test_acc=0.8621, lr=0.0010\n",
      "60 epoch: train_loss=0.3784, train_acc=0.8672, test_loss=0.5025, test_acc=0.8363, lr=0.0010\n",
      "61 epoch: train_loss=0.3712, train_acc=0.8709, test_loss=0.5489, test_acc=0.8250, lr=0.0010\n",
      "62 epoch: train_loss=0.3768, train_acc=0.8698, test_loss=0.4887, test_acc=0.8380, lr=0.0010\n",
      "63 epoch: train_loss=0.3732, train_acc=0.8695, test_loss=0.5000, test_acc=0.8401, lr=0.0010\n",
      "64 epoch: train_loss=0.3750, train_acc=0.8687, test_loss=0.4884, test_acc=0.8333, lr=0.0010\n",
      "65 epoch: train_loss=0.3681, train_acc=0.8719, test_loss=0.4601, test_acc=0.8463, lr=0.0010\n",
      "66 epoch: train_loss=0.3698, train_acc=0.8723, test_loss=0.4567, test_acc=0.8451, lr=0.0010\n",
      "67 epoch: train_loss=0.3653, train_acc=0.8718, test_loss=0.4507, test_acc=0.8472, lr=0.0010\n",
      "68 epoch: train_loss=0.3581, train_acc=0.8759, test_loss=0.4310, test_acc=0.8558, lr=0.0010\n",
      "69 epoch: train_loss=0.3672, train_acc=0.8720, test_loss=0.4052, test_acc=0.8640, lr=0.0010\n",
      "70 epoch: train_loss=0.3650, train_acc=0.8727, test_loss=0.4475, test_acc=0.8465, lr=0.0010\n",
      "71 epoch: train_loss=0.3592, train_acc=0.8759, test_loss=0.4952, test_acc=0.8390, lr=0.0010\n",
      "72 epoch: train_loss=0.3586, train_acc=0.8740, test_loss=0.4470, test_acc=0.8509, lr=0.0010\n",
      "73 epoch: train_loss=0.3573, train_acc=0.8753, test_loss=0.4893, test_acc=0.8375, lr=0.0010\n",
      "74 epoch: train_loss=0.3574, train_acc=0.8767, test_loss=0.4869, test_acc=0.8370, lr=0.0010\n",
      "75 epoch: train_loss=0.3534, train_acc=0.8768, test_loss=0.4797, test_acc=0.8438, lr=0.0010\n",
      "76 epoch: train_loss=0.3509, train_acc=0.8783, test_loss=0.4640, test_acc=0.8474, lr=0.0010\n",
      "77 epoch: train_loss=0.3474, train_acc=0.8787, test_loss=0.4781, test_acc=0.8443, lr=0.0010\n",
      "78 epoch: train_loss=0.3496, train_acc=0.8790, test_loss=0.4582, test_acc=0.8485, lr=0.0010\n",
      "79 epoch: train_loss=0.3499, train_acc=0.8778, test_loss=0.4538, test_acc=0.8490, lr=0.0010\n",
      "80 epoch: train_loss=0.3461, train_acc=0.8810, test_loss=0.4113, test_acc=0.8669, lr=0.0010\n",
      "81 epoch: train_loss=0.3545, train_acc=0.8764, test_loss=0.4261, test_acc=0.8591, lr=0.0010\n",
      "82 epoch: train_loss=0.3460, train_acc=0.8794, test_loss=0.4406, test_acc=0.8528, lr=0.0010\n",
      "83 epoch: train_loss=0.3418, train_acc=0.8803, test_loss=0.3888, test_acc=0.8690, lr=0.0010\n",
      "84 epoch: train_loss=0.3451, train_acc=0.8806, test_loss=0.4481, test_acc=0.8530, lr=0.0010\n",
      "85 epoch: train_loss=0.3408, train_acc=0.8822, test_loss=0.4740, test_acc=0.8464, lr=0.0010\n",
      "86 epoch: train_loss=0.3418, train_acc=0.8795, test_loss=0.4631, test_acc=0.8532, lr=0.0010\n",
      "87 epoch: train_loss=0.3402, train_acc=0.8823, test_loss=0.4661, test_acc=0.8483, lr=0.0010\n",
      "88 epoch: train_loss=0.3414, train_acc=0.8816, test_loss=0.4392, test_acc=0.8544, lr=0.0010\n",
      "89 epoch: train_loss=0.3383, train_acc=0.8823, test_loss=0.4442, test_acc=0.8568, lr=0.0010\n",
      "90 epoch: train_loss=0.3367, train_acc=0.8829, test_loss=0.4345, test_acc=0.8613, lr=0.0010\n",
      "91 epoch: train_loss=0.3337, train_acc=0.8833, test_loss=0.4836, test_acc=0.8489, lr=0.0010\n",
      "92 epoch: train_loss=0.3355, train_acc=0.8832, test_loss=0.4052, test_acc=0.8651, lr=0.0010\n",
      "93 epoch: train_loss=0.3332, train_acc=0.8853, test_loss=0.4189, test_acc=0.8649, lr=0.0010\n",
      "94 epoch: train_loss=0.3324, train_acc=0.8845, test_loss=0.4186, test_acc=0.8689, lr=0.0010\n",
      "95 epoch: train_loss=0.3386, train_acc=0.8830, test_loss=0.3817, test_acc=0.8755, lr=0.0010\n",
      "96 epoch: train_loss=0.3346, train_acc=0.8836, test_loss=0.4472, test_acc=0.8553, lr=0.0010\n",
      "97 epoch: train_loss=0.3279, train_acc=0.8856, test_loss=0.4156, test_acc=0.8600, lr=0.0010\n",
      "98 epoch: train_loss=0.3294, train_acc=0.8848, test_loss=0.4623, test_acc=0.8512, lr=0.0010\n",
      "99 epoch: train_loss=0.3260, train_acc=0.8851, test_loss=0.4306, test_acc=0.8591, lr=0.0010\n",
      "100 epoch: train_loss=0.3227, train_acc=0.8874, test_loss=0.4294, test_acc=0.8615, lr=0.0010\n"
     ]
    }
   ],
   "source": [
    "view.print_all()"
   ]
  }
 ],
 "metadata": {
  "kernelspec": {
   "display_name": "base",
   "language": "python",
   "name": "python3"
  },
  "language_info": {
   "codemirror_mode": {
    "name": "ipython",
    "version": 3
   },
   "file_extension": ".py",
   "mimetype": "text/x-python",
   "name": "python",
   "nbconvert_exporter": "python",
   "pygments_lexer": "ipython3",
   "version": "3.11.5"
  }
 },
 "nbformat": 4,
 "nbformat_minor": 2
}
