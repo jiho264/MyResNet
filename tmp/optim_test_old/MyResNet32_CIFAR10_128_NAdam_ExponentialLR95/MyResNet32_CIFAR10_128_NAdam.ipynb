{
 "cells": [
  {
   "cell_type": "markdown",
   "metadata": {},
   "source": [
    "# Import"
   ]
  },
  {
   "cell_type": "code",
   "execution_count": 1,
   "metadata": {},
   "outputs": [],
   "source": [
    "import torch\n",
    "from torch import nn\n",
    "from torch.optim.lr_scheduler import ExponentialLR\n",
    "import sys, os\n",
    "\n",
    "sys.path.append(os.path.dirname(os.path.abspath(os.path.dirname(\"src\"))))\n",
    "\n",
    "from src.Mydataloader import LoadDataset\n",
    "from src.Mymodel import MyResNet_CIFAR\n",
    "from src.Mytraining import DoTraining\n",
    "from src.Earlystopper import EarlyStopper\n",
    "from src.LogViewer import LogViewer"
   ]
  },
  {
   "cell_type": "markdown",
   "metadata": {},
   "source": [
    "# Setup"
   ]
  },
  {
   "cell_type": "code",
   "execution_count": 2,
   "metadata": {},
   "outputs": [],
   "source": [
    "\"\"\"Dataset selection\"\"\"\n",
    "DATASET = \"CIFAR10\"\n",
    "# DATASET = \"CIFAR100\"\n",
    "# DATASET = \"ImageNet2012\"\n",
    "\n",
    "\"\"\"Dataset parameters\"\"\"\n",
    "BATCH = 128\n",
    "SHUFFLE = True\n",
    "NUMOFWORKERS = 8\n",
    "PIN_MEMORY = True\n",
    "\n",
    "\"\"\"optimizer parameters\"\"\"\n",
    "# OPTIMIZER = \"Adam\"\n",
    "# OPTIMIZER = \"Adam_decay\"\n",
    "# OPTIMIZER = \"SGD\"\n",
    "# OPTIMIZER = \"SGD_nasterov\"\n",
    "# OPTIMIZER = \"AdamW\"\n",
    "# OPTIMIZER = \"AdamW_amsgrad\"\n",
    "OPTIMIZER = \"NAdam\"\n",
    "\n",
    "\"\"\"Learning rate scheduler parameters\"\"\"\n",
    "NUM_EPOCHS = 100\n",
    "\n",
    "\"\"\"Early stopping parameters\"\"\"\n",
    "EARLYSTOPPINGPATIENCE = 100\n",
    "\n",
    "file_name = f\"MyResNet32_{BATCH}_{OPTIMIZER}\""
   ]
  },
  {
   "cell_type": "code",
   "execution_count": 3,
   "metadata": {},
   "outputs": [
    {
     "data": {
      "text/plain": [
       "'MyResNet32_128_NAdam'"
      ]
     },
     "execution_count": 3,
     "metadata": {},
     "output_type": "execute_result"
    }
   ],
   "source": [
    "file_name"
   ]
  },
  {
   "cell_type": "markdown",
   "metadata": {},
   "source": [
    "# Loading the dataset"
   ]
  },
  {
   "cell_type": "markdown",
   "metadata": {},
   "source": [
    "## Define Dateloader"
   ]
  },
  {
   "cell_type": "code",
   "execution_count": 4,
   "metadata": {},
   "outputs": [
    {
     "name": "stderr",
     "output_type": "stream",
     "text": [
      "/home/lee/anaconda3/lib/python3.11/site-packages/torchvision/transforms/v2/_deprecated.py:43: UserWarning: The transform `ToTensor()` is deprecated and will be removed in a future release. Instead, please use `v2.Compose([v2.ToImage(), v2.ToDtype(torch.float32, scale=True)])`.\n",
      "  warnings.warn(\n"
     ]
    },
    {
     "name": "stdout",
     "output_type": "stream",
     "text": [
      "-----------------------------------------------------------------------\n",
      "Dataset :  CIFAR10\n",
      "- Length of Train Set :  50000\n",
      "- Length of Test Set :  10000\n",
      "- Count of Classes :  10\n",
      "-----------------------------------------------------------------------\n"
     ]
    }
   ],
   "source": [
    "tmp = LoadDataset(root=\"../../../data\", seceted_dataset=DATASET)\n",
    "train_data, valid_data, test_data, COUNT_OF_CLASSES = tmp.Unpack()"
   ]
  },
  {
   "cell_type": "code",
   "execution_count": 5,
   "metadata": {},
   "outputs": [
    {
     "name": "stdout",
     "output_type": "stream",
     "text": [
      "train.transforms = Compose(\n",
      "      AutoAugment(interpolation=InterpolationMode.NEAREST, policy=AutoAugmentPolicy.CIFAR10)\n",
      "      RandomCrop(size=(32, 32), padding=[4, 4, 4, 4], pad_if_needed=False, fill=0, padding_mode=constant)\n",
      "      RandomHorizontalFlip(p=0.5)\n",
      "      ToTensor()\n",
      "      Normalize(mean=[0.49139968, 0.48215827, 0.44653124], std=[1, 1, 1], inplace=True)\n",
      ") 128\n",
      "test.transforms = ToTensor() 128\n"
     ]
    }
   ],
   "source": [
    "train_dataloader, valid_dataloader, test_dataloader = tmp.get_dataloader(\n",
    "    batch_size=BATCH, shuffle=SHUFFLE, num_workers=NUMOFWORKERS, pin_memory=PIN_MEMORY\n",
    ")"
   ]
  },
  {
   "cell_type": "markdown",
   "metadata": {},
   "source": [
    "# Define ResNet"
   ]
  },
  {
   "cell_type": "markdown",
   "metadata": {},
   "source": [
    "## Model Confirm"
   ]
  },
  {
   "cell_type": "code",
   "execution_count": 6,
   "metadata": {},
   "outputs": [
    {
     "data": {
      "text/plain": [
       "device(type='cuda')"
      ]
     },
     "execution_count": 6,
     "metadata": {},
     "output_type": "execute_result"
    }
   ],
   "source": [
    "device = torch.device(\"cuda\" if torch.cuda.is_available() else \"cpu\")\n",
    "device"
   ]
  },
  {
   "cell_type": "code",
   "execution_count": 7,
   "metadata": {},
   "outputs": [],
   "source": [
    "model = MyResNet_CIFAR(num_classes=COUNT_OF_CLASSES, num_layer_factor=5).to(device)"
   ]
  },
  {
   "cell_type": "markdown",
   "metadata": {},
   "source": [
    "# Define Training"
   ]
  },
  {
   "cell_type": "markdown",
   "metadata": {},
   "source": [
    "## (1) Define Criterion"
   ]
  },
  {
   "cell_type": "code",
   "execution_count": 8,
   "metadata": {},
   "outputs": [],
   "source": [
    "criterion = nn.CrossEntropyLoss()"
   ]
  },
  {
   "cell_type": "markdown",
   "metadata": {},
   "source": [
    "## (2) Define Optimazer"
   ]
  },
  {
   "cell_type": "code",
   "execution_count": 9,
   "metadata": {},
   "outputs": [],
   "source": [
    "if OPTIMIZER == \"Adam\":\n",
    "    optimizer = torch.optim.Adam(model.parameters())\n",
    "elif OPTIMIZER == \"Adam_decay\":\n",
    "    optimizer = torch.optim.Adam(model.parameters(), weight_decay=1e-4)\n",
    "elif OPTIMIZER == \"SGD\":\n",
    "    optimizer = torch.optim.SGD(\n",
    "        model.parameters(), lr=0.1, momentum=0.9, weight_decay=1e-4\n",
    "    )\n",
    "elif OPTIMIZER == \"SGD_nasterov\":\n",
    "    optimizer = torch.optim.SGD(\n",
    "        model.parameters(), lr=0.1, momentum=0.9, weight_decay=1e-4, nesterov=True\n",
    "    )\n",
    "elif OPTIMIZER == \"AdamW\":\n",
    "    optimizer = torch.optim.AdamW(model.parameters(), weight_decay=1e-4)\n",
    "elif OPTIMIZER == \"AdamW_amsgrad\":\n",
    "    optimizer = torch.optim.AdamW(model.parameters(), weight_decay=1e-4, amsgrad=True)\n",
    "elif OPTIMIZER == \"NAdam\":\n",
    "    optimizer = torch.optim.NAdam(model.parameters(), weight_decay=1e-4)"
   ]
  },
  {
   "cell_type": "markdown",
   "metadata": {},
   "source": [
    "## (3) Define Early Stopping"
   ]
  },
  {
   "cell_type": "code",
   "execution_count": 10,
   "metadata": {},
   "outputs": [],
   "source": [
    "earlystopper = EarlyStopper(patience=EARLYSTOPPINGPATIENCE, model=model, file_name=file_name)"
   ]
  },
  {
   "cell_type": "markdown",
   "metadata": {},
   "source": [
    "## (4) Define Learning Rate schedualer"
   ]
  },
  {
   "cell_type": "code",
   "execution_count": 11,
   "metadata": {},
   "outputs": [],
   "source": [
    "scheduler = ExponentialLR(optimizer, gamma=0.95)"
   ]
  },
  {
   "cell_type": "markdown",
   "metadata": {},
   "source": [
    "## (5) Define AMP scaler"
   ]
  },
  {
   "cell_type": "code",
   "execution_count": 12,
   "metadata": {},
   "outputs": [],
   "source": [
    "scaler = torch.cuda.amp.GradScaler(enabled=True)"
   ]
  },
  {
   "cell_type": "markdown",
   "metadata": {},
   "source": [
    "## Load before process"
   ]
  },
  {
   "cell_type": "code",
   "execution_count": 13,
   "metadata": {},
   "outputs": [
    {
     "name": "stdout",
     "output_type": "stream",
     "text": [
      "File does not exist. Created a new log.\n"
     ]
    }
   ],
   "source": [
    "if os.path.exists(file_name + \".pth.tar\"):\n",
    "    # Read checkpoint as desired, e.g.,\n",
    "    checkpoint = torch.load(\n",
    "        file_name + \".pth.tar\",\n",
    "        map_location=lambda storage, loc: storage.cuda(device),\n",
    "    )\n",
    "    model.load_state_dict(checkpoint[\"model\"])\n",
    "    optimizer.load_state_dict(checkpoint[\"optimizer\"])\n",
    "    scaler.load_state_dict(checkpoint[\"scaler\"])\n",
    "    scheduler.load_state_dict(checkpoint[\"scheduler\"])\n",
    "    earlystopper.load_state_dict(checkpoint[\"earlystopper\"])\n",
    "    logs = checkpoint[\"logs\"]\n",
    "\n",
    "    print(\"Suceessfully loaded the All setting and Log file.\")\n",
    "    print(file_name)\n",
    "    print(f\"Current epoch is {len(logs['train_loss'])}\")\n",
    "    print(f\"Current learning rate: {optimizer.param_groups[0]['lr']}\")\n",
    "else:\n",
    "    # Create a dictionary to store the variables\n",
    "    train_loss = []\n",
    "    train_acc = []\n",
    "    eval_loss = []\n",
    "    valid_acc = []\n",
    "    test_loss = []\n",
    "    test_acc = []\n",
    "    lr_log = []\n",
    "    logs = {\n",
    "        \"train_loss\": train_loss,\n",
    "        \"train_acc\": train_acc,\n",
    "        \"valid_loss\": eval_loss,\n",
    "        \"valid_acc\": valid_acc,\n",
    "        \"test_loss\": test_loss,\n",
    "        \"test_acc\": test_acc,\n",
    "        \"lr_log\": lr_log,\n",
    "    }\n",
    "    print(\"File does not exist. Created a new log.\")"
   ]
  },
  {
   "cell_type": "code",
   "execution_count": 14,
   "metadata": {},
   "outputs": [
    {
     "data": {
      "text/plain": [
       "0.002"
      ]
     },
     "execution_count": 14,
     "metadata": {},
     "output_type": "execute_result"
    }
   ],
   "source": [
    "optimizer.param_groups[0][\"lr\"]"
   ]
  },
  {
   "cell_type": "code",
   "execution_count": 15,
   "metadata": {},
   "outputs": [
    {
     "data": {
      "text/plain": [
       "0"
      ]
     },
     "execution_count": 15,
     "metadata": {},
     "output_type": "execute_result"
    }
   ],
   "source": [
    "earlystopper.early_stop_counter"
   ]
  },
  {
   "cell_type": "markdown",
   "metadata": {},
   "source": [
    "# [Training Loop]"
   ]
  },
  {
   "cell_type": "code",
   "execution_count": 16,
   "metadata": {},
   "outputs": [
    {
     "name": "stdout",
     "output_type": "stream",
     "text": [
      "[Epoch 1/100] :\n"
     ]
    },
    {
     "name": "stderr",
     "output_type": "stream",
     "text": [
      "1 Train: 100%|███████| 391/391 [00:36<00:00, 10.69it/s]"
     ]
    },
    {
     "name": "stdout",
     "output_type": "stream",
     "text": [
      "Train Loss: 1.6367 | Train Acc: 40.32%\n"
     ]
    },
    {
     "name": "stderr",
     "output_type": "stream",
     "text": [
      "\n"
     ]
    },
    {
     "name": "stdout",
     "output_type": "stream",
     "text": [
      "Test  Loss: 1.9274 | Test Acc: 43.15%\n",
      "updated best eval loss : 1.92742022532451\n",
      "--------------------------------------------------\n",
      "[Epoch 2/100] :\n"
     ]
    },
    {
     "name": "stderr",
     "output_type": "stream",
     "text": [
      "2 Train: 100%|███████| 391/391 [00:31<00:00, 12.31it/s]\n"
     ]
    },
    {
     "name": "stdout",
     "output_type": "stream",
     "text": [
      "Train Loss: 1.1612 | Train Acc: 58.91%\n",
      "Test  Loss: 2.5605 | Test Acc: 36.00%\n",
      "--------------------------------------------------\n",
      "[Epoch 3/100] :\n"
     ]
    },
    {
     "name": "stderr",
     "output_type": "stream",
     "text": [
      "3 Train: 100%|███████| 391/391 [00:31<00:00, 12.33it/s]\n"
     ]
    },
    {
     "name": "stdout",
     "output_type": "stream",
     "text": [
      "Train Loss: 0.9781 | Train Acc: 65.71%\n",
      "Test  Loss: 1.0187 | Test Acc: 64.52%\n",
      "updated best eval loss : 1.0187294973602778\n",
      "--------------------------------------------------\n",
      "[Epoch 4/100] :\n"
     ]
    },
    {
     "name": "stderr",
     "output_type": "stream",
     "text": [
      "4 Train: 100%|███████| 391/391 [00:30<00:00, 12.75it/s]\n"
     ]
    },
    {
     "name": "stdout",
     "output_type": "stream",
     "text": [
      "Train Loss: 0.8813 | Train Acc: 69.46%\n",
      "Test  Loss: 1.2921 | Test Acc: 60.45%\n",
      "--------------------------------------------------\n",
      "[Epoch 5/100] :\n"
     ]
    },
    {
     "name": "stderr",
     "output_type": "stream",
     "text": [
      "5 Train: 100%|███████| 391/391 [00:30<00:00, 12.72it/s]\n"
     ]
    },
    {
     "name": "stdout",
     "output_type": "stream",
     "text": [
      "Train Loss: 0.8020 | Train Acc: 72.17%\n",
      "Test  Loss: 0.9431 | Test Acc: 68.28%\n",
      "updated best eval loss : 0.9431082202663904\n",
      "--------------------------------------------------\n",
      "[Epoch 6/100] :\n"
     ]
    },
    {
     "name": "stderr",
     "output_type": "stream",
     "text": [
      "6 Train: 100%|███████| 391/391 [00:30<00:00, 12.69it/s]\n"
     ]
    },
    {
     "name": "stdout",
     "output_type": "stream",
     "text": [
      "Train Loss: 0.7583 | Train Acc: 73.67%\n",
      "Test  Loss: 0.8708 | Test Acc: 70.34%\n",
      "updated best eval loss : 0.8708186587200889\n",
      "--------------------------------------------------\n",
      "[Epoch 7/100] :\n"
     ]
    },
    {
     "name": "stderr",
     "output_type": "stream",
     "text": [
      "7 Train: 100%|███████| 391/391 [00:29<00:00, 13.42it/s]\n"
     ]
    },
    {
     "name": "stdout",
     "output_type": "stream",
     "text": [
      "Train Loss: 0.7195 | Train Acc: 74.91%\n",
      "Test  Loss: 0.8331 | Test Acc: 72.51%\n",
      "updated best eval loss : 0.8331294572806056\n",
      "--------------------------------------------------\n",
      "[Epoch 8/100] :\n"
     ]
    },
    {
     "name": "stderr",
     "output_type": "stream",
     "text": [
      "8 Train: 100%|███████| 391/391 [00:32<00:00, 12.18it/s]\n"
     ]
    },
    {
     "name": "stdout",
     "output_type": "stream",
     "text": [
      "Train Loss: 0.6852 | Train Acc: 76.25%\n",
      "Test  Loss: 0.8886 | Test Acc: 69.35%\n",
      "--------------------------------------------------\n",
      "[Epoch 9/100] :\n"
     ]
    },
    {
     "name": "stderr",
     "output_type": "stream",
     "text": [
      "9 Train: 100%|███████| 391/391 [00:38<00:00, 10.26it/s]\n"
     ]
    },
    {
     "name": "stdout",
     "output_type": "stream",
     "text": [
      "Train Loss: 0.6756 | Train Acc: 76.62%\n",
      "Test  Loss: 0.6501 | Test Acc: 78.12%\n",
      "updated best eval loss : 0.6501084566116333\n",
      "--------------------------------------------------\n",
      "[Epoch 10/100] :\n"
     ]
    },
    {
     "name": "stderr",
     "output_type": "stream",
     "text": [
      "10 Train: 100%|██████| 391/391 [00:50<00:00,  7.68it/s]\n"
     ]
    },
    {
     "name": "stdout",
     "output_type": "stream",
     "text": [
      "Train Loss: 0.6444 | Train Acc: 77.66%\n",
      "Test  Loss: 0.8338 | Test Acc: 73.39%\n",
      "--------------------------------------------------\n",
      "[Epoch 11/100] :\n"
     ]
    },
    {
     "name": "stderr",
     "output_type": "stream",
     "text": [
      "11 Train: 100%|██████| 391/391 [00:48<00:00,  8.06it/s]\n"
     ]
    },
    {
     "name": "stdout",
     "output_type": "stream",
     "text": [
      "Train Loss: 0.6298 | Train Acc: 78.03%\n",
      "Test  Loss: 0.7566 | Test Acc: 75.42%\n",
      "--------------------------------------------------\n",
      "[Epoch 12/100] :\n"
     ]
    },
    {
     "name": "stderr",
     "output_type": "stream",
     "text": [
      "12 Train: 100%|██████| 391/391 [00:36<00:00, 10.69it/s]\n"
     ]
    },
    {
     "name": "stdout",
     "output_type": "stream",
     "text": [
      "Train Loss: 0.6117 | Train Acc: 78.65%\n",
      "Test  Loss: 0.6758 | Test Acc: 76.96%\n",
      "--------------------------------------------------\n",
      "[Epoch 13/100] :\n"
     ]
    },
    {
     "name": "stderr",
     "output_type": "stream",
     "text": [
      "13 Train: 100%|██████| 391/391 [00:35<00:00, 11.15it/s]\n"
     ]
    },
    {
     "name": "stdout",
     "output_type": "stream",
     "text": [
      "Train Loss: 0.6019 | Train Acc: 79.20%\n",
      "Test  Loss: 0.6799 | Test Acc: 77.07%\n",
      "--------------------------------------------------\n",
      "[Epoch 14/100] :\n"
     ]
    },
    {
     "name": "stderr",
     "output_type": "stream",
     "text": [
      "14 Train: 100%|██████| 391/391 [00:35<00:00, 11.04it/s]\n"
     ]
    },
    {
     "name": "stdout",
     "output_type": "stream",
     "text": [
      "Train Loss: 0.5847 | Train Acc: 79.82%\n",
      "Test  Loss: 0.8497 | Test Acc: 71.92%\n",
      "--------------------------------------------------\n",
      "[Epoch 15/100] :\n"
     ]
    },
    {
     "name": "stderr",
     "output_type": "stream",
     "text": [
      "15 Train: 100%|██████| 391/391 [00:36<00:00, 10.68it/s]\n"
     ]
    },
    {
     "name": "stdout",
     "output_type": "stream",
     "text": [
      "Train Loss: 0.5657 | Train Acc: 80.38%\n",
      "Test  Loss: 0.6423 | Test Acc: 77.52%\n",
      "updated best eval loss : 0.6422852749311472\n",
      "--------------------------------------------------\n",
      "[Epoch 16/100] :\n"
     ]
    },
    {
     "name": "stderr",
     "output_type": "stream",
     "text": [
      "16 Train: 100%|██████| 391/391 [00:35<00:00, 11.04it/s]\n"
     ]
    },
    {
     "name": "stdout",
     "output_type": "stream",
     "text": [
      "Train Loss: 0.5663 | Train Acc: 80.41%\n",
      "Test  Loss: 0.6498 | Test Acc: 78.12%\n",
      "--------------------------------------------------\n",
      "[Epoch 17/100] :\n"
     ]
    },
    {
     "name": "stderr",
     "output_type": "stream",
     "text": [
      "17 Train: 100%|██████| 391/391 [00:35<00:00, 11.00it/s]\n"
     ]
    },
    {
     "name": "stdout",
     "output_type": "stream",
     "text": [
      "Train Loss: 0.5604 | Train Acc: 80.44%\n",
      "Test  Loss: 0.6374 | Test Acc: 78.36%\n",
      "updated best eval loss : 0.6374085896377322\n",
      "--------------------------------------------------\n",
      "[Epoch 18/100] :\n"
     ]
    },
    {
     "name": "stderr",
     "output_type": "stream",
     "text": [
      "18 Train: 100%|██████| 391/391 [00:35<00:00, 11.04it/s]\n"
     ]
    },
    {
     "name": "stdout",
     "output_type": "stream",
     "text": [
      "Train Loss: 0.5467 | Train Acc: 81.10%\n",
      "Test  Loss: 0.5508 | Test Acc: 81.39%\n",
      "updated best eval loss : 0.5508429951305631\n",
      "--------------------------------------------------\n",
      "[Epoch 19/100] :\n"
     ]
    },
    {
     "name": "stderr",
     "output_type": "stream",
     "text": [
      "19 Train: 100%|██████| 391/391 [00:34<00:00, 11.24it/s]\n"
     ]
    },
    {
     "name": "stdout",
     "output_type": "stream",
     "text": [
      "Train Loss: 0.5434 | Train Acc: 81.09%\n",
      "Test  Loss: 0.6347 | Test Acc: 78.80%\n",
      "--------------------------------------------------\n",
      "[Epoch 20/100] :\n"
     ]
    },
    {
     "name": "stderr",
     "output_type": "stream",
     "text": [
      "20 Train: 100%|██████| 391/391 [00:35<00:00, 10.96it/s]\n"
     ]
    },
    {
     "name": "stdout",
     "output_type": "stream",
     "text": [
      "Train Loss: 0.5346 | Train Acc: 81.39%\n",
      "Test  Loss: 0.6309 | Test Acc: 79.31%\n",
      "--------------------------------------------------\n",
      "[Epoch 21/100] :\n"
     ]
    },
    {
     "name": "stderr",
     "output_type": "stream",
     "text": [
      "21 Train: 100%|██████| 391/391 [00:36<00:00, 10.63it/s]\n"
     ]
    },
    {
     "name": "stdout",
     "output_type": "stream",
     "text": [
      "Train Loss: 0.5276 | Train Acc: 81.76%\n",
      "Test  Loss: 0.5777 | Test Acc: 81.11%\n",
      "--------------------------------------------------\n",
      "[Epoch 22/100] :\n"
     ]
    },
    {
     "name": "stderr",
     "output_type": "stream",
     "text": [
      "22 Train: 100%|██████| 391/391 [00:51<00:00,  7.64it/s]\n"
     ]
    },
    {
     "name": "stdout",
     "output_type": "stream",
     "text": [
      "Train Loss: 0.5179 | Train Acc: 81.96%\n",
      "Test  Loss: 0.5045 | Test Acc: 83.43%\n",
      "updated best eval loss : 0.504495730505714\n",
      "--------------------------------------------------\n",
      "[Epoch 23/100] :\n"
     ]
    },
    {
     "name": "stderr",
     "output_type": "stream",
     "text": [
      "23 Train: 100%|██████| 391/391 [00:51<00:00,  7.60it/s]\n"
     ]
    },
    {
     "name": "stdout",
     "output_type": "stream",
     "text": [
      "Train Loss: 0.5096 | Train Acc: 82.30%\n",
      "Test  Loss: 0.6084 | Test Acc: 79.12%\n",
      "--------------------------------------------------\n",
      "[Epoch 24/100] :\n"
     ]
    },
    {
     "name": "stderr",
     "output_type": "stream",
     "text": [
      "24 Train: 100%|██████| 391/391 [00:51<00:00,  7.60it/s]\n"
     ]
    },
    {
     "name": "stdout",
     "output_type": "stream",
     "text": [
      "Train Loss: 0.5083 | Train Acc: 82.41%\n",
      "Test  Loss: 0.5670 | Test Acc: 80.69%\n",
      "--------------------------------------------------\n",
      "[Epoch 25/100] :\n"
     ]
    },
    {
     "name": "stderr",
     "output_type": "stream",
     "text": [
      "25 Train: 100%|██████| 391/391 [00:49<00:00,  7.88it/s]\n"
     ]
    },
    {
     "name": "stdout",
     "output_type": "stream",
     "text": [
      "Train Loss: 0.5033 | Train Acc: 82.64%\n",
      "Test  Loss: 0.5623 | Test Acc: 81.07%\n",
      "--------------------------------------------------\n",
      "[Epoch 26/100] :\n"
     ]
    },
    {
     "name": "stderr",
     "output_type": "stream",
     "text": [
      "26 Train: 100%|██████| 391/391 [00:52<00:00,  7.50it/s]\n"
     ]
    },
    {
     "name": "stdout",
     "output_type": "stream",
     "text": [
      "Train Loss: 0.4953 | Train Acc: 82.78%\n",
      "Test  Loss: 0.4944 | Test Acc: 83.47%\n",
      "updated best eval loss : 0.49436076758783076\n",
      "--------------------------------------------------\n",
      "[Epoch 27/100] :\n"
     ]
    },
    {
     "name": "stderr",
     "output_type": "stream",
     "text": [
      "27 Train: 100%|██████| 391/391 [00:51<00:00,  7.55it/s]\n"
     ]
    },
    {
     "name": "stdout",
     "output_type": "stream",
     "text": [
      "Train Loss: 0.4929 | Train Acc: 82.76%\n",
      "Test  Loss: 0.5164 | Test Acc: 82.64%\n",
      "--------------------------------------------------\n",
      "[Epoch 28/100] :\n"
     ]
    },
    {
     "name": "stderr",
     "output_type": "stream",
     "text": [
      "28 Train: 100%|██████| 391/391 [00:50<00:00,  7.68it/s]\n"
     ]
    },
    {
     "name": "stdout",
     "output_type": "stream",
     "text": [
      "Train Loss: 0.4900 | Train Acc: 82.88%\n",
      "Test  Loss: 0.4967 | Test Acc: 83.75%\n",
      "--------------------------------------------------\n",
      "[Epoch 29/100] :\n"
     ]
    },
    {
     "name": "stderr",
     "output_type": "stream",
     "text": [
      "29 Train: 100%|██████| 391/391 [00:52<00:00,  7.48it/s]\n"
     ]
    },
    {
     "name": "stdout",
     "output_type": "stream",
     "text": [
      "Train Loss: 0.4840 | Train Acc: 83.22%\n",
      "Test  Loss: 0.6267 | Test Acc: 79.75%\n",
      "--------------------------------------------------\n",
      "[Epoch 30/100] :\n"
     ]
    },
    {
     "name": "stderr",
     "output_type": "stream",
     "text": [
      "30 Train: 100%|██████| 391/391 [00:50<00:00,  7.67it/s]\n"
     ]
    },
    {
     "name": "stdout",
     "output_type": "stream",
     "text": [
      "Train Loss: 0.4869 | Train Acc: 83.09%\n",
      "Test  Loss: 0.5397 | Test Acc: 82.05%\n",
      "--------------------------------------------------\n",
      "[Epoch 31/100] :\n"
     ]
    },
    {
     "name": "stderr",
     "output_type": "stream",
     "text": [
      "31 Train: 100%|██████| 391/391 [00:52<00:00,  7.46it/s]\n"
     ]
    },
    {
     "name": "stdout",
     "output_type": "stream",
     "text": [
      "Train Loss: 0.4800 | Train Acc: 83.42%\n",
      "Test  Loss: 0.6310 | Test Acc: 79.28%\n",
      "--------------------------------------------------\n",
      "[Epoch 32/100] :\n"
     ]
    },
    {
     "name": "stderr",
     "output_type": "stream",
     "text": [
      "32 Train: 100%|██████| 391/391 [00:50<00:00,  7.67it/s]\n"
     ]
    },
    {
     "name": "stdout",
     "output_type": "stream",
     "text": [
      "Train Loss: 0.4738 | Train Acc: 83.58%\n",
      "Test  Loss: 0.5753 | Test Acc: 81.06%\n",
      "--------------------------------------------------\n",
      "[Epoch 33/100] :\n"
     ]
    },
    {
     "name": "stderr",
     "output_type": "stream",
     "text": [
      "33 Train: 100%|██████| 391/391 [00:53<00:00,  7.37it/s]\n"
     ]
    },
    {
     "name": "stdout",
     "output_type": "stream",
     "text": [
      "Train Loss: 0.4779 | Train Acc: 83.31%\n",
      "Test  Loss: 0.4839 | Test Acc: 83.98%\n",
      "updated best eval loss : 0.48393184210680706\n",
      "--------------------------------------------------\n",
      "[Epoch 34/100] :\n"
     ]
    },
    {
     "name": "stderr",
     "output_type": "stream",
     "text": [
      "34 Train: 100%|██████| 391/391 [00:51<00:00,  7.64it/s]\n"
     ]
    },
    {
     "name": "stdout",
     "output_type": "stream",
     "text": [
      "Train Loss: 0.4710 | Train Acc: 83.61%\n",
      "Test  Loss: 0.6251 | Test Acc: 79.81%\n",
      "--------------------------------------------------\n",
      "[Epoch 35/100] :\n"
     ]
    },
    {
     "name": "stderr",
     "output_type": "stream",
     "text": [
      "35 Train: 100%|██████| 391/391 [00:51<00:00,  7.55it/s]\n"
     ]
    },
    {
     "name": "stdout",
     "output_type": "stream",
     "text": [
      "Train Loss: 0.4679 | Train Acc: 83.80%\n",
      "Test  Loss: 0.5447 | Test Acc: 81.77%\n",
      "--------------------------------------------------\n",
      "[Epoch 36/100] :\n"
     ]
    },
    {
     "name": "stderr",
     "output_type": "stream",
     "text": [
      "36 Train: 100%|██████| 391/391 [00:50<00:00,  7.73it/s]\n"
     ]
    },
    {
     "name": "stdout",
     "output_type": "stream",
     "text": [
      "Train Loss: 0.4673 | Train Acc: 83.73%\n",
      "Test  Loss: 0.5323 | Test Acc: 82.48%\n",
      "--------------------------------------------------\n",
      "[Epoch 37/100] :\n"
     ]
    },
    {
     "name": "stderr",
     "output_type": "stream",
     "text": [
      "37 Train: 100%|██████| 391/391 [00:50<00:00,  7.70it/s]\n"
     ]
    },
    {
     "name": "stdout",
     "output_type": "stream",
     "text": [
      "Train Loss: 0.4607 | Train Acc: 84.00%\n",
      "Test  Loss: 0.4728 | Test Acc: 83.84%\n",
      "updated best eval loss : 0.4727765102929707\n",
      "--------------------------------------------------\n",
      "[Epoch 38/100] :\n"
     ]
    },
    {
     "name": "stderr",
     "output_type": "stream",
     "text": [
      "38 Train: 100%|██████| 391/391 [00:51<00:00,  7.66it/s]\n"
     ]
    },
    {
     "name": "stdout",
     "output_type": "stream",
     "text": [
      "Train Loss: 0.4583 | Train Acc: 84.13%\n",
      "Test  Loss: 0.5368 | Test Acc: 81.53%\n",
      "--------------------------------------------------\n",
      "[Epoch 39/100] :\n"
     ]
    },
    {
     "name": "stderr",
     "output_type": "stream",
     "text": [
      "39 Train: 100%|██████| 391/391 [00:49<00:00,  7.97it/s]\n"
     ]
    },
    {
     "name": "stdout",
     "output_type": "stream",
     "text": [
      "Train Loss: 0.4516 | Train Acc: 84.29%\n",
      "Test  Loss: 0.4641 | Test Acc: 84.34%\n",
      "updated best eval loss : 0.46410794084585166\n",
      "--------------------------------------------------\n",
      "[Epoch 40/100] :\n"
     ]
    },
    {
     "name": "stderr",
     "output_type": "stream",
     "text": [
      "40 Train: 100%|██████| 391/391 [00:51<00:00,  7.64it/s]\n"
     ]
    },
    {
     "name": "stdout",
     "output_type": "stream",
     "text": [
      "Train Loss: 0.4519 | Train Acc: 84.31%\n",
      "Test  Loss: 0.5329 | Test Acc: 82.06%\n",
      "--------------------------------------------------\n",
      "[Epoch 41/100] :\n"
     ]
    },
    {
     "name": "stderr",
     "output_type": "stream",
     "text": [
      "41 Train: 100%|██████| 391/391 [00:50<00:00,  7.77it/s]\n"
     ]
    },
    {
     "name": "stdout",
     "output_type": "stream",
     "text": [
      "Train Loss: 0.4555 | Train Acc: 84.19%\n",
      "Test  Loss: 0.4960 | Test Acc: 83.21%\n",
      "--------------------------------------------------\n",
      "[Epoch 42/100] :\n"
     ]
    },
    {
     "name": "stderr",
     "output_type": "stream",
     "text": [
      "42 Train: 100%|██████| 391/391 [00:51<00:00,  7.59it/s]\n"
     ]
    },
    {
     "name": "stdout",
     "output_type": "stream",
     "text": [
      "Train Loss: 0.4508 | Train Acc: 84.48%\n",
      "Test  Loss: 0.4583 | Test Acc: 84.33%\n",
      "updated best eval loss : 0.45831095493292506\n",
      "--------------------------------------------------\n",
      "[Epoch 43/100] :\n"
     ]
    },
    {
     "name": "stderr",
     "output_type": "stream",
     "text": [
      "43 Train: 100%|██████| 391/391 [00:48<00:00,  8.04it/s]\n"
     ]
    },
    {
     "name": "stdout",
     "output_type": "stream",
     "text": [
      "Train Loss: 0.4447 | Train Acc: 84.46%\n",
      "Test  Loss: 0.4448 | Test Acc: 84.67%\n",
      "updated best eval loss : 0.4447710887540745\n",
      "--------------------------------------------------\n",
      "[Epoch 44/100] :\n"
     ]
    },
    {
     "name": "stderr",
     "output_type": "stream",
     "text": [
      "44 Train: 100%|██████| 391/391 [00:51<00:00,  7.54it/s]\n"
     ]
    },
    {
     "name": "stdout",
     "output_type": "stream",
     "text": [
      "Train Loss: 0.4428 | Train Acc: 84.65%\n",
      "Test  Loss: 0.5143 | Test Acc: 82.86%\n",
      "--------------------------------------------------\n",
      "[Epoch 45/100] :\n"
     ]
    },
    {
     "name": "stderr",
     "output_type": "stream",
     "text": [
      "45 Train: 100%|██████| 391/391 [00:51<00:00,  7.52it/s]\n"
     ]
    },
    {
     "name": "stdout",
     "output_type": "stream",
     "text": [
      "Train Loss: 0.4428 | Train Acc: 84.46%\n",
      "Test  Loss: 0.4823 | Test Acc: 83.41%\n",
      "--------------------------------------------------\n",
      "[Epoch 46/100] :\n"
     ]
    },
    {
     "name": "stderr",
     "output_type": "stream",
     "text": [
      "46 Train: 100%|██████| 391/391 [00:50<00:00,  7.74it/s]\n"
     ]
    },
    {
     "name": "stdout",
     "output_type": "stream",
     "text": [
      "Train Loss: 0.4489 | Train Acc: 84.45%\n",
      "Test  Loss: 0.4956 | Test Acc: 83.70%\n",
      "--------------------------------------------------\n",
      "[Epoch 47/100] :\n"
     ]
    },
    {
     "name": "stderr",
     "output_type": "stream",
     "text": [
      "47 Train: 100%|██████| 391/391 [00:52<00:00,  7.46it/s]\n"
     ]
    },
    {
     "name": "stdout",
     "output_type": "stream",
     "text": [
      "Train Loss: 0.4384 | Train Acc: 84.75%\n",
      "Test  Loss: 0.5788 | Test Acc: 81.58%\n",
      "--------------------------------------------------\n",
      "[Epoch 48/100] :\n"
     ]
    },
    {
     "name": "stderr",
     "output_type": "stream",
     "text": [
      "48 Train: 100%|██████| 391/391 [00:47<00:00,  8.25it/s]\n"
     ]
    },
    {
     "name": "stdout",
     "output_type": "stream",
     "text": [
      "Train Loss: 0.4342 | Train Acc: 84.84%\n",
      "Test  Loss: 0.4616 | Test Acc: 84.36%\n",
      "--------------------------------------------------\n",
      "[Epoch 49/100] :\n"
     ]
    },
    {
     "name": "stderr",
     "output_type": "stream",
     "text": [
      "49 Train: 100%|██████| 391/391 [00:50<00:00,  7.79it/s]\n"
     ]
    },
    {
     "name": "stdout",
     "output_type": "stream",
     "text": [
      "Train Loss: 0.4356 | Train Acc: 85.00%\n",
      "Test  Loss: 0.5179 | Test Acc: 82.42%\n",
      "--------------------------------------------------\n",
      "[Epoch 50/100] :\n"
     ]
    },
    {
     "name": "stderr",
     "output_type": "stream",
     "text": [
      "50 Train: 100%|██████| 391/391 [00:50<00:00,  7.76it/s]\n"
     ]
    },
    {
     "name": "stdout",
     "output_type": "stream",
     "text": [
      "Train Loss: 0.4352 | Train Acc: 84.90%\n",
      "Test  Loss: 0.4516 | Test Acc: 84.43%\n",
      "--------------------------------------------------\n",
      "[Epoch 51/100] :\n"
     ]
    },
    {
     "name": "stderr",
     "output_type": "stream",
     "text": [
      "51 Train: 100%|██████| 391/391 [00:52<00:00,  7.40it/s]\n"
     ]
    },
    {
     "name": "stdout",
     "output_type": "stream",
     "text": [
      "Train Loss: 0.4336 | Train Acc: 84.85%\n",
      "Test  Loss: 0.4355 | Test Acc: 85.53%\n",
      "updated best eval loss : 0.43553274454949775\n",
      "--------------------------------------------------\n",
      "[Epoch 52/100] :\n"
     ]
    },
    {
     "name": "stderr",
     "output_type": "stream",
     "text": [
      "52 Train: 100%|██████| 391/391 [00:50<00:00,  7.72it/s]\n"
     ]
    },
    {
     "name": "stdout",
     "output_type": "stream",
     "text": [
      "Train Loss: 0.4326 | Train Acc: 85.08%\n",
      "Test  Loss: 0.4295 | Test Acc: 85.46%\n",
      "updated best eval loss : 0.4294545580691929\n",
      "--------------------------------------------------\n",
      "[Epoch 53/100] :\n"
     ]
    },
    {
     "name": "stderr",
     "output_type": "stream",
     "text": [
      "53 Train: 100%|██████| 391/391 [00:51<00:00,  7.56it/s]\n"
     ]
    },
    {
     "name": "stdout",
     "output_type": "stream",
     "text": [
      "Train Loss: 0.4348 | Train Acc: 84.75%\n",
      "Test  Loss: 0.4813 | Test Acc: 83.75%\n",
      "--------------------------------------------------\n",
      "[Epoch 54/100] :\n"
     ]
    },
    {
     "name": "stderr",
     "output_type": "stream",
     "text": [
      "54 Train: 100%|██████| 391/391 [00:51<00:00,  7.64it/s]\n"
     ]
    },
    {
     "name": "stdout",
     "output_type": "stream",
     "text": [
      "Train Loss: 0.4270 | Train Acc: 85.22%\n",
      "Test  Loss: 0.5330 | Test Acc: 82.87%\n",
      "--------------------------------------------------\n",
      "[Epoch 55/100] :\n"
     ]
    },
    {
     "name": "stderr",
     "output_type": "stream",
     "text": [
      "55 Train: 100%|██████| 391/391 [00:50<00:00,  7.76it/s]\n"
     ]
    },
    {
     "name": "stdout",
     "output_type": "stream",
     "text": [
      "Train Loss: 0.4290 | Train Acc: 85.06%\n",
      "Test  Loss: 0.4936 | Test Acc: 83.27%\n",
      "--------------------------------------------------\n",
      "[Epoch 56/100] :\n"
     ]
    },
    {
     "name": "stderr",
     "output_type": "stream",
     "text": [
      "56 Train: 100%|██████| 391/391 [00:50<00:00,  7.68it/s]\n"
     ]
    },
    {
     "name": "stdout",
     "output_type": "stream",
     "text": [
      "Train Loss: 0.4293 | Train Acc: 85.13%\n",
      "Test  Loss: 0.4876 | Test Acc: 83.64%\n",
      "--------------------------------------------------\n",
      "[Epoch 57/100] :\n"
     ]
    },
    {
     "name": "stderr",
     "output_type": "stream",
     "text": [
      "57 Train: 100%|██████| 391/391 [00:50<00:00,  7.71it/s]\n"
     ]
    },
    {
     "name": "stdout",
     "output_type": "stream",
     "text": [
      "Train Loss: 0.4200 | Train Acc: 85.54%\n",
      "Test  Loss: 0.4578 | Test Acc: 83.89%\n",
      "--------------------------------------------------\n",
      "[Epoch 58/100] :\n"
     ]
    },
    {
     "name": "stderr",
     "output_type": "stream",
     "text": [
      "58 Train: 100%|██████| 391/391 [00:51<00:00,  7.54it/s]\n"
     ]
    },
    {
     "name": "stdout",
     "output_type": "stream",
     "text": [
      "Train Loss: 0.4275 | Train Acc: 85.18%\n",
      "Test  Loss: 0.4441 | Test Acc: 84.78%\n",
      "--------------------------------------------------\n",
      "[Epoch 59/100] :\n"
     ]
    },
    {
     "name": "stderr",
     "output_type": "stream",
     "text": [
      "59 Train: 100%|██████| 391/391 [00:48<00:00,  8.05it/s]\n"
     ]
    },
    {
     "name": "stdout",
     "output_type": "stream",
     "text": [
      "Train Loss: 0.4244 | Train Acc: 85.24%\n",
      "Test  Loss: 0.4946 | Test Acc: 83.45%\n",
      "--------------------------------------------------\n",
      "[Epoch 60/100] :\n"
     ]
    },
    {
     "name": "stderr",
     "output_type": "stream",
     "text": [
      "60 Train: 100%|██████| 391/391 [00:51<00:00,  7.61it/s]\n"
     ]
    },
    {
     "name": "stdout",
     "output_type": "stream",
     "text": [
      "Train Loss: 0.4215 | Train Acc: 85.51%\n",
      "Test  Loss: 0.4621 | Test Acc: 83.84%\n",
      "--------------------------------------------------\n",
      "[Epoch 61/100] :\n"
     ]
    },
    {
     "name": "stderr",
     "output_type": "stream",
     "text": [
      "61 Train: 100%|██████| 391/391 [00:49<00:00,  7.95it/s]\n"
     ]
    },
    {
     "name": "stdout",
     "output_type": "stream",
     "text": [
      "Train Loss: 0.4216 | Train Acc: 85.36%\n",
      "Test  Loss: 0.5527 | Test Acc: 81.47%\n",
      "--------------------------------------------------\n",
      "[Epoch 62/100] :\n"
     ]
    },
    {
     "name": "stderr",
     "output_type": "stream",
     "text": [
      "62 Train: 100%|██████| 391/391 [00:51<00:00,  7.54it/s]\n"
     ]
    },
    {
     "name": "stdout",
     "output_type": "stream",
     "text": [
      "Train Loss: 0.4132 | Train Acc: 85.64%\n",
      "Test  Loss: 0.4608 | Test Acc: 84.37%\n",
      "--------------------------------------------------\n",
      "[Epoch 63/100] :\n"
     ]
    },
    {
     "name": "stderr",
     "output_type": "stream",
     "text": [
      "63 Train: 100%|██████| 391/391 [00:50<00:00,  7.68it/s]\n"
     ]
    },
    {
     "name": "stdout",
     "output_type": "stream",
     "text": [
      "Train Loss: 0.4159 | Train Acc: 85.61%\n",
      "Test  Loss: 0.5171 | Test Acc: 82.89%\n",
      "--------------------------------------------------\n",
      "[Epoch 64/100] :\n"
     ]
    },
    {
     "name": "stderr",
     "output_type": "stream",
     "text": [
      "64 Train: 100%|██████| 391/391 [00:51<00:00,  7.58it/s]\n"
     ]
    },
    {
     "name": "stdout",
     "output_type": "stream",
     "text": [
      "Train Loss: 0.4138 | Train Acc: 85.59%\n",
      "Test  Loss: 0.5643 | Test Acc: 80.87%\n",
      "--------------------------------------------------\n",
      "[Epoch 65/100] :\n"
     ]
    },
    {
     "name": "stderr",
     "output_type": "stream",
     "text": [
      "65 Train: 100%|██████| 391/391 [00:50<00:00,  7.78it/s]\n"
     ]
    },
    {
     "name": "stdout",
     "output_type": "stream",
     "text": [
      "Train Loss: 0.4162 | Train Acc: 85.49%\n",
      "Test  Loss: 0.5187 | Test Acc: 83.63%\n",
      "--------------------------------------------------\n",
      "[Epoch 66/100] :\n"
     ]
    },
    {
     "name": "stderr",
     "output_type": "stream",
     "text": [
      "66 Train: 100%|██████| 391/391 [00:49<00:00,  7.92it/s]\n"
     ]
    },
    {
     "name": "stdout",
     "output_type": "stream",
     "text": [
      "Train Loss: 0.4121 | Train Acc: 85.42%\n",
      "Test  Loss: 0.4696 | Test Acc: 84.55%\n",
      "--------------------------------------------------\n",
      "[Epoch 67/100] :\n"
     ]
    },
    {
     "name": "stderr",
     "output_type": "stream",
     "text": [
      "67 Train: 100%|██████| 391/391 [00:52<00:00,  7.45it/s]\n"
     ]
    },
    {
     "name": "stdout",
     "output_type": "stream",
     "text": [
      "Train Loss: 0.4107 | Train Acc: 85.58%\n",
      "Test  Loss: 0.4503 | Test Acc: 84.38%\n",
      "--------------------------------------------------\n",
      "[Epoch 68/100] :\n"
     ]
    },
    {
     "name": "stderr",
     "output_type": "stream",
     "text": [
      "68 Train: 100%|██████| 391/391 [00:48<00:00,  8.02it/s]\n"
     ]
    },
    {
     "name": "stdout",
     "output_type": "stream",
     "text": [
      "Train Loss: 0.4097 | Train Acc: 85.74%\n",
      "Test  Loss: 0.4926 | Test Acc: 83.61%\n",
      "--------------------------------------------------\n",
      "[Epoch 69/100] :\n"
     ]
    },
    {
     "name": "stderr",
     "output_type": "stream",
     "text": [
      "69 Train: 100%|██████| 391/391 [00:48<00:00,  8.02it/s]\n"
     ]
    },
    {
     "name": "stdout",
     "output_type": "stream",
     "text": [
      "Train Loss: 0.4160 | Train Acc: 85.58%\n",
      "Test  Loss: 0.4433 | Test Acc: 85.16%\n",
      "--------------------------------------------------\n",
      "[Epoch 70/100] :\n"
     ]
    },
    {
     "name": "stderr",
     "output_type": "stream",
     "text": [
      "70 Train: 100%|██████| 391/391 [00:49<00:00,  7.90it/s]\n"
     ]
    },
    {
     "name": "stdout",
     "output_type": "stream",
     "text": [
      "Train Loss: 0.4081 | Train Acc: 85.73%\n",
      "Test  Loss: 0.4523 | Test Acc: 84.79%\n",
      "--------------------------------------------------\n",
      "[Epoch 71/100] :\n"
     ]
    },
    {
     "name": "stderr",
     "output_type": "stream",
     "text": [
      "71 Train: 100%|██████| 391/391 [00:50<00:00,  7.68it/s]\n"
     ]
    },
    {
     "name": "stdout",
     "output_type": "stream",
     "text": [
      "Train Loss: 0.4069 | Train Acc: 85.77%\n",
      "Test  Loss: 0.5937 | Test Acc: 80.46%\n",
      "--------------------------------------------------\n",
      "[Epoch 72/100] :\n"
     ]
    },
    {
     "name": "stderr",
     "output_type": "stream",
     "text": [
      "72 Train: 100%|██████| 391/391 [00:51<00:00,  7.58it/s]\n"
     ]
    },
    {
     "name": "stdout",
     "output_type": "stream",
     "text": [
      "Train Loss: 0.4070 | Train Acc: 85.79%\n",
      "Test  Loss: 0.4369 | Test Acc: 85.10%\n",
      "--------------------------------------------------\n",
      "[Epoch 73/100] :\n"
     ]
    },
    {
     "name": "stderr",
     "output_type": "stream",
     "text": [
      "73 Train: 100%|██████| 391/391 [00:50<00:00,  7.69it/s]\n"
     ]
    },
    {
     "name": "stdout",
     "output_type": "stream",
     "text": [
      "Train Loss: 0.4070 | Train Acc: 85.85%\n",
      "Test  Loss: 0.5143 | Test Acc: 82.64%\n",
      "--------------------------------------------------\n",
      "[Epoch 74/100] :\n"
     ]
    },
    {
     "name": "stderr",
     "output_type": "stream",
     "text": [
      "74 Train: 100%|██████| 391/391 [00:49<00:00,  7.83it/s]\n"
     ]
    },
    {
     "name": "stdout",
     "output_type": "stream",
     "text": [
      "Train Loss: 0.4106 | Train Acc: 85.87%\n",
      "Test  Loss: 0.4448 | Test Acc: 84.79%\n",
      "--------------------------------------------------\n",
      "[Epoch 75/100] :\n"
     ]
    },
    {
     "name": "stderr",
     "output_type": "stream",
     "text": [
      "75 Train: 100%|██████| 391/391 [00:50<00:00,  7.73it/s]\n"
     ]
    },
    {
     "name": "stdout",
     "output_type": "stream",
     "text": [
      "Train Loss: 0.4041 | Train Acc: 85.84%\n",
      "Test  Loss: 0.4431 | Test Acc: 85.22%\n",
      "--------------------------------------------------\n",
      "[Epoch 76/100] :\n"
     ]
    },
    {
     "name": "stderr",
     "output_type": "stream",
     "text": [
      "76 Train: 100%|██████| 391/391 [00:51<00:00,  7.66it/s]\n"
     ]
    },
    {
     "name": "stdout",
     "output_type": "stream",
     "text": [
      "Train Loss: 0.4017 | Train Acc: 86.03%\n",
      "Test  Loss: 0.5468 | Test Acc: 81.81%\n",
      "--------------------------------------------------\n",
      "[Epoch 77/100] :\n"
     ]
    },
    {
     "name": "stderr",
     "output_type": "stream",
     "text": [
      "77 Train: 100%|██████| 391/391 [00:50<00:00,  7.71it/s]\n"
     ]
    },
    {
     "name": "stdout",
     "output_type": "stream",
     "text": [
      "Train Loss: 0.4076 | Train Acc: 85.95%\n",
      "Test  Loss: 0.4554 | Test Acc: 84.64%\n",
      "--------------------------------------------------\n",
      "[Epoch 78/100] :\n"
     ]
    },
    {
     "name": "stderr",
     "output_type": "stream",
     "text": [
      "78 Train: 100%|██████| 391/391 [00:51<00:00,  7.64it/s]\n"
     ]
    },
    {
     "name": "stdout",
     "output_type": "stream",
     "text": [
      "Train Loss: 0.4006 | Train Acc: 85.94%\n",
      "Test  Loss: 0.4676 | Test Acc: 84.12%\n",
      "--------------------------------------------------\n",
      "[Epoch 79/100] :\n"
     ]
    },
    {
     "name": "stderr",
     "output_type": "stream",
     "text": [
      "79 Train: 100%|██████| 391/391 [00:49<00:00,  7.88it/s]\n"
     ]
    },
    {
     "name": "stdout",
     "output_type": "stream",
     "text": [
      "Train Loss: 0.4034 | Train Acc: 85.95%\n",
      "Test  Loss: 0.4841 | Test Acc: 83.92%\n",
      "--------------------------------------------------\n",
      "[Epoch 80/100] :\n"
     ]
    },
    {
     "name": "stderr",
     "output_type": "stream",
     "text": [
      "80 Train: 100%|██████| 391/391 [00:49<00:00,  7.90it/s]\n"
     ]
    },
    {
     "name": "stdout",
     "output_type": "stream",
     "text": [
      "Train Loss: 0.4013 | Train Acc: 86.00%\n",
      "Test  Loss: 0.4642 | Test Acc: 84.45%\n",
      "--------------------------------------------------\n",
      "[Epoch 81/100] :\n"
     ]
    },
    {
     "name": "stderr",
     "output_type": "stream",
     "text": [
      "81 Train: 100%|██████| 391/391 [00:49<00:00,  7.84it/s]\n"
     ]
    },
    {
     "name": "stdout",
     "output_type": "stream",
     "text": [
      "Train Loss: 0.4011 | Train Acc: 86.06%\n",
      "Test  Loss: 0.4677 | Test Acc: 84.51%\n",
      "--------------------------------------------------\n",
      "[Epoch 82/100] :\n"
     ]
    },
    {
     "name": "stderr",
     "output_type": "stream",
     "text": [
      "82 Train: 100%|██████| 391/391 [00:51<00:00,  7.67it/s]\n"
     ]
    },
    {
     "name": "stdout",
     "output_type": "stream",
     "text": [
      "Train Loss: 0.4007 | Train Acc: 85.96%\n",
      "Test  Loss: 0.4648 | Test Acc: 84.89%\n",
      "--------------------------------------------------\n",
      "[Epoch 83/100] :\n"
     ]
    },
    {
     "name": "stderr",
     "output_type": "stream",
     "text": [
      "83 Train: 100%|██████| 391/391 [00:51<00:00,  7.55it/s]\n"
     ]
    },
    {
     "name": "stdout",
     "output_type": "stream",
     "text": [
      "Train Loss: 0.4013 | Train Acc: 85.86%\n",
      "Test  Loss: 0.4849 | Test Acc: 83.70%\n",
      "--------------------------------------------------\n",
      "[Epoch 84/100] :\n"
     ]
    },
    {
     "name": "stderr",
     "output_type": "stream",
     "text": [
      "84 Train: 100%|██████| 391/391 [00:49<00:00,  7.96it/s]\n"
     ]
    },
    {
     "name": "stdout",
     "output_type": "stream",
     "text": [
      "Train Loss: 0.3901 | Train Acc: 86.39%\n",
      "Test  Loss: 0.5033 | Test Acc: 83.51%\n",
      "--------------------------------------------------\n",
      "[Epoch 85/100] :\n"
     ]
    },
    {
     "name": "stderr",
     "output_type": "stream",
     "text": [
      "85 Train: 100%|██████| 391/391 [00:51<00:00,  7.52it/s]\n"
     ]
    },
    {
     "name": "stdout",
     "output_type": "stream",
     "text": [
      "Train Loss: 0.3991 | Train Acc: 86.10%\n",
      "Test  Loss: 0.4894 | Test Acc: 83.17%\n",
      "--------------------------------------------------\n",
      "[Epoch 86/100] :\n"
     ]
    },
    {
     "name": "stderr",
     "output_type": "stream",
     "text": [
      "86 Train: 100%|██████| 391/391 [00:50<00:00,  7.81it/s]\n"
     ]
    },
    {
     "name": "stdout",
     "output_type": "stream",
     "text": [
      "Train Loss: 0.3953 | Train Acc: 86.15%\n",
      "Test  Loss: 0.5846 | Test Acc: 81.03%\n",
      "--------------------------------------------------\n",
      "[Epoch 87/100] :\n"
     ]
    },
    {
     "name": "stderr",
     "output_type": "stream",
     "text": [
      "87 Train: 100%|██████| 391/391 [00:50<00:00,  7.68it/s]\n"
     ]
    },
    {
     "name": "stdout",
     "output_type": "stream",
     "text": [
      "Train Loss: 0.3976 | Train Acc: 86.18%\n",
      "Test  Loss: 0.4583 | Test Acc: 84.40%\n",
      "--------------------------------------------------\n",
      "[Epoch 88/100] :\n"
     ]
    },
    {
     "name": "stderr",
     "output_type": "stream",
     "text": [
      "88 Train: 100%|██████| 391/391 [00:50<00:00,  7.73it/s]\n"
     ]
    },
    {
     "name": "stdout",
     "output_type": "stream",
     "text": [
      "Train Loss: 0.3935 | Train Acc: 86.50%\n",
      "Test  Loss: 0.4274 | Test Acc: 85.45%\n",
      "updated best eval loss : 0.42743571253517004\n",
      "--------------------------------------------------\n",
      "[Epoch 89/100] :\n"
     ]
    },
    {
     "name": "stderr",
     "output_type": "stream",
     "text": [
      "89 Train: 100%|██████| 391/391 [00:50<00:00,  7.82it/s]\n"
     ]
    },
    {
     "name": "stdout",
     "output_type": "stream",
     "text": [
      "Train Loss: 0.3936 | Train Acc: 86.20%\n",
      "Test  Loss: 0.4910 | Test Acc: 83.79%\n",
      "--------------------------------------------------\n",
      "[Epoch 90/100] :\n"
     ]
    },
    {
     "name": "stderr",
     "output_type": "stream",
     "text": [
      "90 Train: 100%|██████| 391/391 [00:50<00:00,  7.68it/s]\n"
     ]
    },
    {
     "name": "stdout",
     "output_type": "stream",
     "text": [
      "Train Loss: 0.3942 | Train Acc: 86.32%\n",
      "Test  Loss: 0.5584 | Test Acc: 81.39%\n",
      "--------------------------------------------------\n",
      "[Epoch 91/100] :\n"
     ]
    },
    {
     "name": "stderr",
     "output_type": "stream",
     "text": [
      "91 Train: 100%|██████| 391/391 [00:50<00:00,  7.67it/s]\n"
     ]
    },
    {
     "name": "stdout",
     "output_type": "stream",
     "text": [
      "Train Loss: 0.3895 | Train Acc: 86.50%\n",
      "Test  Loss: 0.4994 | Test Acc: 83.67%\n",
      "--------------------------------------------------\n",
      "[Epoch 92/100] :\n"
     ]
    },
    {
     "name": "stderr",
     "output_type": "stream",
     "text": [
      "92 Train: 100%|██████| 391/391 [00:50<00:00,  7.78it/s]\n"
     ]
    },
    {
     "name": "stdout",
     "output_type": "stream",
     "text": [
      "Train Loss: 0.3934 | Train Acc: 86.19%\n",
      "Test  Loss: 0.4305 | Test Acc: 85.53%\n",
      "--------------------------------------------------\n",
      "[Epoch 93/100] :\n"
     ]
    },
    {
     "name": "stderr",
     "output_type": "stream",
     "text": [
      "93 Train: 100%|██████| 391/391 [00:49<00:00,  7.85it/s]\n"
     ]
    },
    {
     "name": "stdout",
     "output_type": "stream",
     "text": [
      "Train Loss: 0.3968 | Train Acc: 86.30%\n",
      "Test  Loss: 0.4893 | Test Acc: 83.72%\n",
      "--------------------------------------------------\n",
      "[Epoch 94/100] :\n"
     ]
    },
    {
     "name": "stderr",
     "output_type": "stream",
     "text": [
      "94 Train: 100%|██████| 391/391 [00:50<00:00,  7.75it/s]\n"
     ]
    },
    {
     "name": "stdout",
     "output_type": "stream",
     "text": [
      "Train Loss: 0.3911 | Train Acc: 86.37%\n",
      "Test  Loss: 0.5364 | Test Acc: 82.08%\n",
      "--------------------------------------------------\n",
      "[Epoch 95/100] :\n"
     ]
    },
    {
     "name": "stderr",
     "output_type": "stream",
     "text": [
      "95 Train: 100%|██████| 391/391 [00:39<00:00,  9.97it/s]\n"
     ]
    },
    {
     "name": "stdout",
     "output_type": "stream",
     "text": [
      "Train Loss: 0.3920 | Train Acc: 86.42%\n",
      "Test  Loss: 0.5300 | Test Acc: 82.77%\n",
      "--------------------------------------------------\n",
      "[Epoch 96/100] :\n"
     ]
    },
    {
     "name": "stderr",
     "output_type": "stream",
     "text": [
      "96 Train: 100%|██████| 391/391 [00:40<00:00,  9.59it/s]\n"
     ]
    },
    {
     "name": "stdout",
     "output_type": "stream",
     "text": [
      "Train Loss: 0.3869 | Train Acc: 86.50%\n",
      "Test  Loss: 0.4658 | Test Acc: 84.04%\n",
      "--------------------------------------------------\n",
      "[Epoch 97/100] :\n"
     ]
    },
    {
     "name": "stderr",
     "output_type": "stream",
     "text": [
      "97 Train: 100%|██████| 391/391 [00:30<00:00, 12.85it/s]\n"
     ]
    },
    {
     "name": "stdout",
     "output_type": "stream",
     "text": [
      "Train Loss: 0.3904 | Train Acc: 86.14%\n",
      "Test  Loss: 0.5023 | Test Acc: 82.73%\n",
      "--------------------------------------------------\n",
      "[Epoch 98/100] :\n"
     ]
    },
    {
     "name": "stderr",
     "output_type": "stream",
     "text": [
      "98 Train: 100%|██████| 391/391 [00:20<00:00, 19.27it/s]\n"
     ]
    },
    {
     "name": "stdout",
     "output_type": "stream",
     "text": [
      "Train Loss: 0.3895 | Train Acc: 86.44%\n",
      "Test  Loss: 0.4863 | Test Acc: 83.38%\n",
      "--------------------------------------------------\n",
      "[Epoch 99/100] :\n"
     ]
    },
    {
     "name": "stderr",
     "output_type": "stream",
     "text": [
      "99 Train: 100%|██████| 391/391 [00:20<00:00, 18.85it/s]\n"
     ]
    },
    {
     "name": "stdout",
     "output_type": "stream",
     "text": [
      "Train Loss: 0.3883 | Train Acc: 86.53%\n",
      "Test  Loss: 0.4856 | Test Acc: 83.59%\n",
      "--------------------------------------------------\n",
      "[Epoch 100/100] :\n"
     ]
    },
    {
     "name": "stderr",
     "output_type": "stream",
     "text": [
      "100 Train: 100%|█████| 391/391 [00:21<00:00, 17.80it/s]\n"
     ]
    },
    {
     "name": "stdout",
     "output_type": "stream",
     "text": [
      "Train Loss: 0.3872 | Train Acc: 86.48%\n",
      "Test  Loss: 0.5737 | Test Acc: 80.91%\n",
      "--------------------------------------------------\n"
     ]
    }
   ],
   "source": [
    "Training = DoTraining(\n",
    "    model=model,\n",
    "    criterion=criterion,\n",
    "    optimizer=optimizer,\n",
    "    scaler=scaler,\n",
    "    scheduler=scheduler,\n",
    "    earlystopper=earlystopper,\n",
    "    device=device,\n",
    "    logs=logs,\n",
    "    file_path=file_name,\n",
    ")\n",
    "pre_epochs = len(Training.logs[\"train_loss\"])\n",
    "\n",
    "for epoch in range(NUM_EPOCHS):\n",
    "    now = epoch + 1 + pre_epochs\n",
    "    print(f\"[Epoch {epoch+1+pre_epochs}/{NUM_EPOCHS}] :\")\n",
    "\n",
    "    if DATASET == \"ImageNet2012\":\n",
    "        eval_loss = Training.SingleEpoch(train_dataloader, valid_dataloader)\n",
    "    else:\n",
    "        eval_loss = Training.SingleEpoch(\n",
    "            train_dataloader, valid_dataloader, test_dataloader\n",
    "        )\n",
    "\n",
    "    Training.Save()\n",
    "\n",
    "    \n",
    "    \n",
    "    if earlystopper.check(eval_loss) == True:\n",
    "        break\n",
    "\n",
    "    print(\"-\" * 50)"
   ]
  },
  {
   "cell_type": "code",
   "execution_count": 17,
   "metadata": {},
   "outputs": [
    {
     "data": {
      "image/png": "[encoded data removed]",
      "text/plain": [
       "<Figure size 1000x500 with 2 Axes>"
      ]
     },
     "metadata": {},
     "output_type": "display_data"
    }
   ],
   "source": [
    "view = LogViewer(logs)\n",
    "view.draw(save_name=file_name)"
   ]
  },
  {
   "cell_type": "code",
   "execution_count": 18,
   "metadata": {},
   "outputs": [
    {
     "name": "stdout",
     "output_type": "stream",
     "text": [
      "1 epoch: train_loss=1.6367, train_acc=0.4032, test_loss=1.9274, test_acc=0.4315, lr=0.0020\n",
      "2 epoch: train_loss=1.1612, train_acc=0.5891, test_loss=2.5605, test_acc=0.3600, lr=0.0020\n",
      "3 epoch: train_loss=0.9781, train_acc=0.6571, test_loss=1.0187, test_acc=0.6452, lr=0.0020\n",
      "4 epoch: train_loss=0.8813, train_acc=0.6946, test_loss=1.2921, test_acc=0.6045, lr=0.0020\n",
      "5 epoch: train_loss=0.8020, train_acc=0.7217, test_loss=0.9431, test_acc=0.6828, lr=0.0020\n",
      "6 epoch: train_loss=0.7583, train_acc=0.7367, test_loss=0.8708, test_acc=0.7034, lr=0.0020\n",
      "7 epoch: train_loss=0.7195, train_acc=0.7491, test_loss=0.8331, test_acc=0.7251, lr=0.0020\n",
      "8 epoch: train_loss=0.6852, train_acc=0.7625, test_loss=0.8886, test_acc=0.6935, lr=0.0020\n",
      "9 epoch: train_loss=0.6756, train_acc=0.7662, test_loss=0.6501, test_acc=0.7812, lr=0.0020\n",
      "10 epoch: train_loss=0.6444, train_acc=0.7766, test_loss=0.8338, test_acc=0.7339, lr=0.0020\n",
      "11 epoch: train_loss=0.6298, train_acc=0.7803, test_loss=0.7566, test_acc=0.7542, lr=0.0020\n",
      "12 epoch: train_loss=0.6117, train_acc=0.7865, test_loss=0.6758, test_acc=0.7696, lr=0.0020\n",
      "13 epoch: train_loss=0.6019, train_acc=0.7920, test_loss=0.6799, test_acc=0.7707, lr=0.0020\n",
      "14 epoch: train_loss=0.5847, train_acc=0.7982, test_loss=0.8497, test_acc=0.7192, lr=0.0020\n",
      "15 epoch: train_loss=0.5657, train_acc=0.8038, test_loss=0.6423, test_acc=0.7752, lr=0.0020\n",
      "16 epoch: train_loss=0.5663, train_acc=0.8041, test_loss=0.6498, test_acc=0.7812, lr=0.0020\n",
      "17 epoch: train_loss=0.5604, train_acc=0.8044, test_loss=0.6374, test_acc=0.7836, lr=0.0020\n",
      "18 epoch: train_loss=0.5467, train_acc=0.8110, test_loss=0.5508, test_acc=0.8139, lr=0.0020\n",
      "19 epoch: train_loss=0.5434, train_acc=0.8109, test_loss=0.6347, test_acc=0.7880, lr=0.0020\n",
      "20 epoch: train_loss=0.5346, train_acc=0.8139, test_loss=0.6309, test_acc=0.7931, lr=0.0020\n",
      "21 epoch: train_loss=0.5276, train_acc=0.8176, test_loss=0.5777, test_acc=0.8111, lr=0.0020\n",
      "22 epoch: train_loss=0.5179, train_acc=0.8196, test_loss=0.5045, test_acc=0.8343, lr=0.0020\n",
      "23 epoch: train_loss=0.5096, train_acc=0.8230, test_loss=0.6084, test_acc=0.7912, lr=0.0020\n",
      "24 epoch: train_loss=0.5083, train_acc=0.8241, test_loss=0.5670, test_acc=0.8069, lr=0.0020\n",
      "25 epoch: train_loss=0.5033, train_acc=0.8264, test_loss=0.5623, test_acc=0.8107, lr=0.0020\n",
      "26 epoch: train_loss=0.4953, train_acc=0.8278, test_loss=0.4944, test_acc=0.8347, lr=0.0020\n",
      "27 epoch: train_loss=0.4929, train_acc=0.8276, test_loss=0.5164, test_acc=0.8264, lr=0.0020\n",
      "28 epoch: train_loss=0.4900, train_acc=0.8288, test_loss=0.4967, test_acc=0.8375, lr=0.0020\n",
      "29 epoch: train_loss=0.4840, train_acc=0.8322, test_loss=0.6267, test_acc=0.7975, lr=0.0020\n",
      "30 epoch: train_loss=0.4869, train_acc=0.8309, test_loss=0.5397, test_acc=0.8205, lr=0.0020\n",
      "31 epoch: train_loss=0.4800, train_acc=0.8342, test_loss=0.6310, test_acc=0.7928, lr=0.0020\n",
      "32 epoch: train_loss=0.4738, train_acc=0.8358, test_loss=0.5753, test_acc=0.8106, lr=0.0020\n",
      "33 epoch: train_loss=0.4779, train_acc=0.8331, test_loss=0.4839, test_acc=0.8398, lr=0.0020\n",
      "34 epoch: train_loss=0.4710, train_acc=0.8361, test_loss=0.6251, test_acc=0.7981, lr=0.0020\n",
      "35 epoch: train_loss=0.4679, train_acc=0.8380, test_loss=0.5447, test_acc=0.8177, lr=0.0020\n",
      "36 epoch: train_loss=0.4673, train_acc=0.8373, test_loss=0.5323, test_acc=0.8248, lr=0.0020\n",
      "37 epoch: train_loss=0.4607, train_acc=0.8400, test_loss=0.4728, test_acc=0.8384, lr=0.0020\n",
      "38 epoch: train_loss=0.4583, train_acc=0.8413, test_loss=0.5368, test_acc=0.8153, lr=0.0020\n",
      "39 epoch: train_loss=0.4516, train_acc=0.8429, test_loss=0.4641, test_acc=0.8434, lr=0.0020\n",
      "40 epoch: train_loss=0.4519, train_acc=0.8431, test_loss=0.5329, test_acc=0.8206, lr=0.0020\n",
      "41 epoch: train_loss=0.4555, train_acc=0.8419, test_loss=0.4960, test_acc=0.8321, lr=0.0020\n",
      "42 epoch: train_loss=0.4508, train_acc=0.8448, test_loss=0.4583, test_acc=0.8433, lr=0.0020\n",
      "43 epoch: train_loss=0.4447, train_acc=0.8446, test_loss=0.4448, test_acc=0.8467, lr=0.0020\n",
      "44 epoch: train_loss=0.4428, train_acc=0.8465, test_loss=0.5143, test_acc=0.8286, lr=0.0020\n",
      "45 epoch: train_loss=0.4428, train_acc=0.8446, test_loss=0.4823, test_acc=0.8341, lr=0.0020\n",
      "46 epoch: train_loss=0.4489, train_acc=0.8445, test_loss=0.4956, test_acc=0.8370, lr=0.0020\n",
      "47 epoch: train_loss=0.4384, train_acc=0.8475, test_loss=0.5788, test_acc=0.8158, lr=0.0020\n",
      "48 epoch: train_loss=0.4342, train_acc=0.8484, test_loss=0.4616, test_acc=0.8436, lr=0.0020\n",
      "49 epoch: train_loss=0.4356, train_acc=0.8500, test_loss=0.5179, test_acc=0.8242, lr=0.0020\n",
      "50 epoch: train_loss=0.4352, train_acc=0.8490, test_loss=0.4516, test_acc=0.8443, lr=0.0020\n",
      "51 epoch: train_loss=0.4336, train_acc=0.8485, test_loss=0.4355, test_acc=0.8553, lr=0.0020\n",
      "52 epoch: train_loss=0.4326, train_acc=0.8508, test_loss=0.4295, test_acc=0.8546, lr=0.0020\n",
      "53 epoch: train_loss=0.4348, train_acc=0.8475, test_loss=0.4813, test_acc=0.8375, lr=0.0020\n",
      "54 epoch: train_loss=0.4270, train_acc=0.8522, test_loss=0.5330, test_acc=0.8287, lr=0.0020\n",
      "55 epoch: train_loss=0.4290, train_acc=0.8506, test_loss=0.4936, test_acc=0.8327, lr=0.0020\n",
      "56 epoch: train_loss=0.4293, train_acc=0.8513, test_loss=0.4876, test_acc=0.8364, lr=0.0020\n",
      "57 epoch: train_loss=0.4200, train_acc=0.8554, test_loss=0.4578, test_acc=0.8389, lr=0.0020\n",
      "58 epoch: train_loss=0.4275, train_acc=0.8518, test_loss=0.4441, test_acc=0.8478, lr=0.0020\n",
      "59 epoch: train_loss=0.4244, train_acc=0.8524, test_loss=0.4946, test_acc=0.8345, lr=0.0020\n",
      "60 epoch: train_loss=0.4215, train_acc=0.8551, test_loss=0.4621, test_acc=0.8384, lr=0.0020\n",
      "61 epoch: train_loss=0.4216, train_acc=0.8536, test_loss=0.5527, test_acc=0.8147, lr=0.0020\n",
      "62 epoch: train_loss=0.4132, train_acc=0.8564, test_loss=0.4608, test_acc=0.8437, lr=0.0020\n",
      "63 epoch: train_loss=0.4159, train_acc=0.8561, test_loss=0.5171, test_acc=0.8289, lr=0.0020\n",
      "64 epoch: train_loss=0.4138, train_acc=0.8559, test_loss=0.5643, test_acc=0.8087, lr=0.0020\n",
      "65 epoch: train_loss=0.4162, train_acc=0.8549, test_loss=0.5187, test_acc=0.8363, lr=0.0020\n",
      "66 epoch: train_loss=0.4121, train_acc=0.8542, test_loss=0.4696, test_acc=0.8455, lr=0.0020\n",
      "67 epoch: train_loss=0.4107, train_acc=0.8558, test_loss=0.4503, test_acc=0.8438, lr=0.0020\n",
      "68 epoch: train_loss=0.4097, train_acc=0.8574, test_loss=0.4926, test_acc=0.8361, lr=0.0020\n",
      "69 epoch: train_loss=0.4160, train_acc=0.8558, test_loss=0.4433, test_acc=0.8516, lr=0.0020\n",
      "70 epoch: train_loss=0.4081, train_acc=0.8573, test_loss=0.4523, test_acc=0.8479, lr=0.0020\n",
      "71 epoch: train_loss=0.4069, train_acc=0.8577, test_loss=0.5937, test_acc=0.8046, lr=0.0020\n",
      "72 epoch: train_loss=0.4070, train_acc=0.8579, test_loss=0.4369, test_acc=0.8510, lr=0.0020\n",
      "73 epoch: train_loss=0.4070, train_acc=0.8585, test_loss=0.5143, test_acc=0.8264, lr=0.0020\n",
      "74 epoch: train_loss=0.4106, train_acc=0.8587, test_loss=0.4448, test_acc=0.8479, lr=0.0020\n",
      "75 epoch: train_loss=0.4041, train_acc=0.8584, test_loss=0.4431, test_acc=0.8522, lr=0.0020\n",
      "76 epoch: train_loss=0.4017, train_acc=0.8603, test_loss=0.5468, test_acc=0.8181, lr=0.0020\n",
      "77 epoch: train_loss=0.4076, train_acc=0.8595, test_loss=0.4554, test_acc=0.8464, lr=0.0020\n",
      "78 epoch: train_loss=0.4006, train_acc=0.8594, test_loss=0.4676, test_acc=0.8412, lr=0.0020\n",
      "79 epoch: train_loss=0.4034, train_acc=0.8595, test_loss=0.4841, test_acc=0.8392, lr=0.0020\n",
      "80 epoch: train_loss=0.4013, train_acc=0.8600, test_loss=0.4642, test_acc=0.8445, lr=0.0020\n",
      "81 epoch: train_loss=0.4011, train_acc=0.8606, test_loss=0.4677, test_acc=0.8451, lr=0.0020\n",
      "82 epoch: train_loss=0.4007, train_acc=0.8596, test_loss=0.4648, test_acc=0.8489, lr=0.0020\n",
      "83 epoch: train_loss=0.4013, train_acc=0.8586, test_loss=0.4849, test_acc=0.8370, lr=0.0020\n",
      "84 epoch: train_loss=0.3901, train_acc=0.8639, test_loss=0.5033, test_acc=0.8351, lr=0.0020\n",
      "85 epoch: train_loss=0.3991, train_acc=0.8610, test_loss=0.4894, test_acc=0.8317, lr=0.0020\n",
      "86 epoch: train_loss=0.3953, train_acc=0.8615, test_loss=0.5846, test_acc=0.8103, lr=0.0020\n",
      "87 epoch: train_loss=0.3976, train_acc=0.8618, test_loss=0.4583, test_acc=0.8440, lr=0.0020\n",
      "88 epoch: train_loss=0.3935, train_acc=0.8650, test_loss=0.4274, test_acc=0.8545, lr=0.0020\n",
      "89 epoch: train_loss=0.3936, train_acc=0.8620, test_loss=0.4910, test_acc=0.8379, lr=0.0020\n",
      "90 epoch: train_loss=0.3942, train_acc=0.8632, test_loss=0.5584, test_acc=0.8139, lr=0.0020\n",
      "91 epoch: train_loss=0.3895, train_acc=0.8650, test_loss=0.4994, test_acc=0.8367, lr=0.0020\n",
      "92 epoch: train_loss=0.3934, train_acc=0.8619, test_loss=0.4305, test_acc=0.8553, lr=0.0020\n",
      "93 epoch: train_loss=0.3968, train_acc=0.8630, test_loss=0.4893, test_acc=0.8372, lr=0.0020\n",
      "94 epoch: train_loss=0.3911, train_acc=0.8637, test_loss=0.5364, test_acc=0.8208, lr=0.0020\n",
      "95 epoch: train_loss=0.3920, train_acc=0.8642, test_loss=0.5300, test_acc=0.8277, lr=0.0020\n",
      "96 epoch: train_loss=0.3869, train_acc=0.8650, test_loss=0.4658, test_acc=0.8404, lr=0.0020\n",
      "97 epoch: train_loss=0.3904, train_acc=0.8614, test_loss=0.5023, test_acc=0.8273, lr=0.0020\n",
      "98 epoch: train_loss=0.3895, train_acc=0.8644, test_loss=0.4863, test_acc=0.8338, lr=0.0020\n",
      "99 epoch: train_loss=0.3883, train_acc=0.8653, test_loss=0.4856, test_acc=0.8359, lr=0.0020\n",
      "100 epoch: train_loss=0.3872, train_acc=0.8648, test_loss=0.5737, test_acc=0.8091, lr=0.0020\n"
     ]
    }
   ],
   "source": [
    "view.print_all()"
   ]
  }
 ],
 "metadata": {
  "kernelspec": {
   "display_name": "base",
   "language": "python",
   "name": "python3"
  },
  "language_info": {
   "codemirror_mode": {
    "name": "ipython",
    "version": 3
   },
   "file_extension": ".py",
   "mimetype": "text/x-python",
   "name": "python",
   "nbconvert_exporter": "python",
   "pygments_lexer": "ipython3",
   "version": "3.11.5"
  }
 },
 "nbformat": 4,
 "nbformat_minor": 2
}
